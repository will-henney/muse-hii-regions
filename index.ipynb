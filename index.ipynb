{
 "cells": [
  {
   "cell_type": "code",
   "execution_count": null,
   "metadata": {},
   "outputs": [],
   "source": [
    "#hide\n",
    "import wcsfile.core as wcsfile"
   ]
  },
  {
   "cell_type": "markdown",
   "metadata": {},
   "source": [
    "# wcsfile\n",
    "> Implements `wcsfile.read()` for reading World Coordinate System information from a file."
   ]
  },
  {
   "cell_type": "markdown",
   "metadata": {},
   "source": [
    "Read World Cooordinate System parameters from a `.wcs` file, such as those written by SAOImageDS9."
   ]
  },
  {
   "cell_type": "markdown",
   "metadata": {},
   "source": [
    "## Install"
   ]
  },
  {
   "cell_type": "markdown",
   "metadata": {},
   "source": [
    "`pip install wcsfile`\n",
    "\n",
    "(Currently aspirational only, since it has not been submitted to PyPI yet.)"
   ]
  },
  {
   "cell_type": "markdown",
   "metadata": {},
   "source": [
    "## How to use"
   ]
  },
  {
   "cell_type": "markdown",
   "metadata": {},
   "source": [
    "Use `wcsfile.read()` to read a WCS file into a python dict. "
   ]
  },
  {
   "cell_type": "code",
   "execution_count": null,
   "metadata": {},
   "outputs": [
    {
     "data": {
      "text/plain": [
       "{'DATE-OBS': '21/03/95',\n",
       " 'EQUINOX': 2000,\n",
       " 'CTYPE1': 'RA---TAN',\n",
       " 'CRPIX1': 388.39887,\n",
       " 'CRVAL1': 83.8433551,\n",
       " 'CDELT1': 0.0,\n",
       " 'CTYPE2': 'DEC--TAN',\n",
       " 'CRPIX2': 567.14165,\n",
       " 'CRVAL2': -5.4192964,\n",
       " 'CDELT2': 0.0,\n",
       " 'CD1_1': -2.76664e-05,\n",
       " 'CD1_2': 3.804223e-08,\n",
       " 'CD2_1': 4.913188e-09,\n",
       " 'CD2_2': 2.764793e-05}"
      ]
     },
     "execution_count": null,
     "metadata": {},
     "output_type": "execute_result"
    }
   ],
   "source": [
    "wcsdict = wcsfile.read(\"testdata/mosaic-1996-HH204-align-robberto.wcs\")\n",
    "wcsdict"
   ]
  },
  {
   "cell_type": "markdown",
   "metadata": {},
   "source": [
    "The dict can be used to initialize a WCS object."
   ]
  },
  {
   "cell_type": "code",
   "execution_count": null,
   "metadata": {},
   "outputs": [
    {
     "data": {
      "text/plain": [
       "       flag: 137\n",
       "      naxis: 2\n",
       "      crpix: 0x7ffbf283a420\n",
       "               388.40       567.14    \n",
       "         pc: 0x7ffbf2854210\n",
       "    pc[0][]:  -2.7666e-05   3.8042e-08\n",
       "    pc[1][]:   4.9132e-09   2.7648e-05\n",
       "      cdelt: 0x7ffbf28682b0\n",
       "               1.0000       1.0000    \n",
       "      crval: 0x7ffbf28682c0\n",
       "               83.843      -5.4193    \n",
       "      cunit: 0x7ffbf2870f00\n",
       "             \"deg\"\n",
       "             \"deg\"\n",
       "      ctype: 0x7ffbf285a200\n",
       "             \"RA---TAN\"\n",
       "             \"DEC--TAN\"\n",
       "    lonpole: 180.000000\n",
       "    latpole: -5.419296\n",
       "    restfrq: 0.000000\n",
       "    restwav: 0.000000\n",
       "        npv: 0\n",
       "     npvmax: 0\n",
       "         pv: 0x0\n",
       "        nps: 0\n",
       "     npsmax: 0\n",
       "         ps: 0x0\n",
       "         cd: 0x7ffbf2874820\n",
       "    cd[0][]:  -2.7666e-05   3.8042e-08\n",
       "    cd[1][]:   4.9132e-09   2.7648e-05\n",
       "      crota: 0x7ffbf28682d0\n",
       "               0.0000       0.0000    \n",
       "     altlin: 2\n",
       "     velref: 0\n",
       "        alt: ' '\n",
       "     colnum: 0\n",
       "      colax: 0x7ffbf2874840\n",
       "                 0      0\n",
       "      cname: 0x7ffbf285a290\n",
       "             UNDEFINED\n",
       "             UNDEFINED\n",
       "      crder: 0x7ffbf285a320\n",
       "               UNDEFINED    UNDEFINED\n",
       "      csyer: 0x7ffbf2874850\n",
       "               UNDEFINED    UNDEFINED\n",
       "      czphs: 0x7ffbf2880320\n",
       "               UNDEFINED    UNDEFINED\n",
       "      cperi: 0x7ffbf2880330\n",
       "               UNDEFINED    UNDEFINED\n",
       "    wcsname: UNDEFINED\n",
       "    timesys: UNDEFINED\n",
       "    trefpos: UNDEFINED\n",
       "    trefdir: UNDEFINED\n",
       "    plephem: UNDEFINED\n",
       "   timeunit: UNDEFINED\n",
       "    dateref: UNDEFINED\n",
       "     mjdref:        UNDEFINED       UNDEFINED\n",
       "   timeoffs: UNDEFINED\n",
       "    dateobs: \"1995-03-21\"\n",
       "    datebeg: UNDEFINED\n",
       "    dateavg: UNDEFINED\n",
       "    dateend: UNDEFINED\n",
       "     mjdobs:  49797.000000000\n",
       "     mjdbeg: UNDEFINED\n",
       "     mjdavg: UNDEFINED\n",
       "     mjdend: UNDEFINED\n",
       "     jepoch: UNDEFINED\n",
       "     bepoch: UNDEFINED\n",
       "     tstart: UNDEFINED\n",
       "      tstop: UNDEFINED\n",
       "    xposure: UNDEFINED\n",
       "    telapse: UNDEFINED\n",
       "    timsyer: UNDEFINED\n",
       "    timrder: UNDEFINED\n",
       "    timedel: UNDEFINED\n",
       "   timepixr: UNDEFINED\n",
       "     obsgeo:        UNDEFINED       UNDEFINED       UNDEFINED\n",
       "                    UNDEFINED       UNDEFINED       UNDEFINED\n",
       "   obsorbit: UNDEFINED\n",
       "    radesys: \"FK5\"\n",
       "    equinox:   2000.000000000\n",
       "    specsys: UNDEFINED\n",
       "    ssysobs: UNDEFINED\n",
       "    velosys: UNDEFINED\n",
       "    zsource: UNDEFINED\n",
       "    ssyssrc: UNDEFINED\n",
       "    velangl: UNDEFINED\n",
       "       ntab: 0\n",
       "        tab: 0x0\n",
       "       nwtb: 0\n",
       "        wtb: 0x0\n",
       "      types: 0x7ffbf287f5f0\n",
       "            2200 2201\n",
       "     lngtyp: \"RA\"\n",
       "     lattyp: \"DEC\"\n",
       "        lng: 0\n",
       "        lat: 1\n",
       "       spec: -1\n",
       "   cubeface: -1\n",
       "        err: 0x0\n",
       "        lin: (see below)\n",
       "        cel: (see below)\n",
       "        spc: (see below)\n",
       "     m_flag: 137\n",
       "    m_naxis: 2\n",
       "    m_crpix: 0x7ffbf283a420  (= crpix)\n",
       "       m_pc: 0x7ffbf2854210  (= pc)\n",
       "    m_cdelt: 0x7ffbf28682b0  (= cdelt)\n",
       "    m_crval: 0x7ffbf28682c0  (= crval)\n",
       "    m_cunit: 0x7ffbf2870f00  (= cunit)\n",
       "    m_ctype: 0x7ffbf285a200  (= ctype)\n",
       "       m_pv: 0x0  (= pv)\n",
       "       m_ps: 0x0  (= ps)\n",
       "       m_cd: 0x7ffbf2874820  (= cd)\n",
       "    m_crota: 0x7ffbf28682d0  (= crota)\n",
       "\n",
       "    m_colax: 0x7ffbf2874840  (= colax)\n",
       "    m_cname: 0x7ffbf285a290  (= cname)\n",
       "    m_crder: 0x7ffbf285a320  (= crder)\n",
       "    m_csyer: 0x7ffbf2874850  (= csyer)\n",
       "    m_czphs: 0x7ffbf2880320  (= czphs)\n",
       "    m_cperi: 0x7ffbf2880330  (= cperi)\n",
       "      m_tab: 0x0  (= tab)\n",
       "      m_wtb: 0x0  (= wtb)\n",
       "\n",
       "   lin.*\n",
       "       flag: 137\n",
       "      naxis: 2\n",
       "      crpix: 0x7ffbf283a420\n",
       "               388.40       567.14    \n",
       "         pc: 0x7ffbf2854210\n",
       "    pc[0][]:  -2.7666e-05   3.8042e-08\n",
       "    pc[1][]:   4.9132e-09   2.7648e-05\n",
       "      cdelt: 0x7ffbf28682b0\n",
       "               1.0000       1.0000    \n",
       "     dispre: 0x0\n",
       "     disseq: 0x0\n",
       "piximg[0][]:  -2.7666e-05   3.8042e-08\n",
       "piximg[1][]:   4.9132e-09   2.7648e-05\n",
       "imgpix[0][]:  -36145.       49.734    \n",
       "imgpix[1][]:   6.4231       36169.    \n",
       "    i_naxis: 2\n",
       "      unity: 0\n",
       "     affine: 1\n",
       "     simple: 0\n",
       "        err: 0x0\n",
       "     tmpcrd: 0x7ffbf28315b0\n",
       "     m_flag: 0\n",
       "    m_naxis: 0\n",
       "    m_crpix: 0x0\n",
       "       m_pc: 0x0\n",
       "    m_cdelt: 0x0\n",
       "   m_dispre: 0x0\n",
       "   m_disseq: 0x0\n",
       "\n",
       "   cel.*\n",
       "      flag: 137\n",
       "     offset: 0\n",
       "       phi0:  0.000000\n",
       "     theta0: 90.000000\n",
       "        ref:   83.843      -5.4193       180.00      -5.4193    \n",
       "        prj: (see below)\n",
       "      euler:   83.843       95.419       180.00      -0.094444     0.99553   \n",
       "    latpreq: 0 (not required)\n",
       "     isolat: 0\n",
       "        err: 0x0\n",
       "\n",
       "   prj.*\n",
       "       flag: 103\n",
       "       code: \"TAN\"\n",
       "         r0: 57.295780\n",
       "         pv: (not used)\n",
       "       phi0:  0.000000\n",
       "     theta0: 90.000000\n",
       "     bounds: 7\n",
       "\n",
       "       name: \"gnomonic\"\n",
       "   category: 1 (zenithal)\n",
       "    pvrange: 0\n",
       "  simplezen: 1\n",
       "  equiareal: 0\n",
       "  conformal: 0\n",
       "     global: 0\n",
       "  divergent: 1\n",
       "         x0: 0.000000\n",
       "         y0: 0.000000\n",
       "        err: 0x0\n",
       "        w[]:   0.0000       0.0000       0.0000       0.0000       0.0000    \n",
       "               0.0000       0.0000       0.0000       0.0000       0.0000    \n",
       "          m: 0\n",
       "          n: 0\n",
       "     prjx2s: 0x0118b74f20\n",
       "     prjs2x: 0x0118b75380\n",
       "\n",
       "   spc.*\n",
       "       flag: 0\n",
       "       type: \"    \"\n",
       "       code: \"   \"\n",
       "      crval: UNDEFINED\n",
       "    restfrq: 0.000000\n",
       "    restwav: 0.000000\n",
       "         pv: (not used)\n",
       "          w:   0.0000       0.0000       0.0000      (remainder unused)\n",
       "    isGrism: 0\n",
       "        err: 0x0\n",
       "     spxX2P: 0x0\n",
       "     spxP2S: 0x0\n",
       "     spxS2P: 0x0\n",
       "     spxP2X: 0x0"
      ]
     },
     "execution_count": null,
     "metadata": {},
     "output_type": "execute_result"
    }
   ],
   "source": [
    "from astropy.wcs import WCS\n",
    "\n",
    "w = WCS(wcsdict)\n",
    "w.wcs"
   ]
  },
  {
   "cell_type": "markdown",
   "metadata": {},
   "source": [
    "Or it can be used to initialize a FITS header object."
   ]
  },
  {
   "cell_type": "code",
   "execution_count": null,
   "metadata": {},
   "outputs": [
    {
     "data": {
      "text/plain": [
       "DATE-OBS= '21/03/95'                                                            \n",
       "EQUINOX =                 2000                                                  \n",
       "CTYPE1  = 'RA---TAN'                                                            \n",
       "CRPIX1  =            388.39887                                                  \n",
       "CRVAL1  =           83.8433551                                                  \n",
       "CDELT1  =                  0.0                                                  \n",
       "CTYPE2  = 'DEC--TAN'                                                            \n",
       "CRPIX2  =            567.14165                                                  \n",
       "CRVAL2  =           -5.4192964                                                  \n",
       "CDELT2  =                  0.0                                                  \n",
       "CD1_1   =         -2.76664E-05                                                  \n",
       "CD1_2   =         3.804223E-08                                                  \n",
       "CD2_1   =         4.913188E-09                                                  \n",
       "CD2_2   =         2.764793E-05                                                  "
      ]
     },
     "execution_count": null,
     "metadata": {},
     "output_type": "execute_result"
    }
   ],
   "source": [
    "from astropy.io import fits\n",
    "\n",
    "hdr = fits.Header(wcsdict)\n",
    "hdr"
   ]
  },
  {
   "cell_type": "code",
   "execution_count": null,
   "metadata": {},
   "outputs": [],
   "source": []
  }
 ],
 "metadata": {
  "kernelspec": {
   "display_name": "Python 3",
   "language": "python",
   "name": "python3"
  }
 },
 "nbformat": 4,
 "nbformat_minor": 2
}
