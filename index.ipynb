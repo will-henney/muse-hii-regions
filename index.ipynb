{
 "cells": [
  {
   "cell_type": "markdown",
   "metadata": {},
   "source": [
    "# wcsfile\n",
    "> Implements `wcsfile.read()` for reading World Coordinate System information from a file."
   ]
  },
  {
   "cell_type": "markdown",
   "metadata": {},
   "source": [
    "Read World Cooordinate System parameters from a `.wcs` file, such as those written by SAOImageDS9."
   ]
  },
  {
   "cell_type": "markdown",
   "metadata": {},
   "source": [
    "## Install"
   ]
  },
  {
   "cell_type": "markdown",
   "metadata": {},
   "source": [
    "`pip install wcsfile`\n",
    "\n",
    "(Currently aspirational only, since it has not been submitted to PyPI yet.)"
   ]
  },
  {
   "cell_type": "markdown",
   "metadata": {},
   "source": [
    "## How to use"
   ]
  },
  {
   "cell_type": "markdown",
   "metadata": {},
   "source": [
    "Use `wcsfile.read()` to read a WCS file into a python dict. "
   ]
  },
  {
   "cell_type": "code",
   "execution_count": null,
   "metadata": {},
   "outputs": [
    {
     "data": {
      "text/plain": [
       "{'DATE-OBS': '21/03/95',\n",
       " 'EQUINOX': 2000,\n",
       " 'CTYPE1': 'RA---TAN',\n",
       " 'CRPIX1': 388.39887,\n",
       " 'CRVAL1': 83.8433551,\n",
       " 'CDELT1': 0.0,\n",
       " 'CTYPE2': 'DEC--TAN',\n",
       " 'CRPIX2': 567.14165,\n",
       " 'CRVAL2': -5.4192964,\n",
       " 'CDELT2': 0.0,\n",
       " 'CD1_1': -2.76664e-05,\n",
       " 'CD1_2': 3.804223e-08,\n",
       " 'CD2_1': 4.913188e-09,\n",
       " 'CD2_2': 2.764793e-05}"
      ]
     },
     "execution_count": null,
     "metadata": {},
     "output_type": "execute_result"
    }
   ],
   "source": [
    "import wcsfile\n",
    "wcsdict = wcsfile.read(\"testdata/mosaic-1996-HH204-align-robberto.wcs\")\n",
    "wcsdict"
   ]
  },
  {
   "cell_type": "markdown",
   "metadata": {},
   "source": [
    "The dict can be used to initialize a FITS header object."
   ]
  },
  {
   "cell_type": "code",
   "execution_count": null,
   "metadata": {},
   "outputs": [
    {
     "data": {
      "text/plain": [
       "DATE-OBS= '21/03/95'                                                            \n",
       "EQUINOX =                 2000                                                  \n",
       "CTYPE1  = 'RA---TAN'                                                            \n",
       "CRPIX1  =            388.39887                                                  \n",
       "CRVAL1  =           83.8433551                                                  \n",
       "CDELT1  =                  0.0                                                  \n",
       "CTYPE2  = 'DEC--TAN'                                                            \n",
       "CRPIX2  =            567.14165                                                  \n",
       "CRVAL2  =           -5.4192964                                                  \n",
       "CDELT2  =                  0.0                                                  \n",
       "CD1_1   =         -2.76664E-05                                                  \n",
       "CD1_2   =         3.804223E-08                                                  \n",
       "CD2_1   =         4.913188E-09                                                  \n",
       "CD2_2   =         2.764793E-05                                                  "
      ]
     },
     "execution_count": null,
     "metadata": {},
     "output_type": "execute_result"
    }
   ],
   "source": [
    "from astropy.io import fits\n",
    "\n",
    "hdr = fits.Header(wcsdict)\n",
    "hdr"
   ]
  },
  {
   "cell_type": "markdown",
   "metadata": {},
   "source": [
    "Or it can be used to initialize a WCS object."
   ]
  },
  {
   "cell_type": "code",
   "execution_count": null,
   "metadata": {},
   "outputs": [
    {
     "name": "stderr",
     "output_type": "stream",
     "text": [
      "WARNING: FITSFixedWarning: 'datfix' made the change 'Set MJD-OBS to 49797.000000 from DATE-OBS.\n",
      "Changed DATE-OBS from '21/03/95' to '1995-03-21''. [astropy.wcs.wcs]\n"
     ]
    },
    {
     "data": {
      "text/plain": [
       "WCS Keywords\n",
       "\n",
       "Number of WCS axes: 2\n",
       "CTYPE : 'RA---TAN'  'DEC--TAN'  \n",
       "CRVAL : 83.8433551  -5.4192964  \n",
       "CRPIX : 388.39887  567.14165  \n",
       "CD1_1 CD1_2  : -2.76664e-05  3.804223e-08  \n",
       "CD2_1 CD2_2  : 4.913188e-09  2.764793e-05  \n",
       "NAXIS : 0  0"
      ]
     },
     "execution_count": null,
     "metadata": {},
     "output_type": "execute_result"
    }
   ],
   "source": [
    "from astropy.wcs import WCS\n",
    "\n",
    "w = WCS(wcsdict)\n",
    "w"
   ]
  },
  {
   "cell_type": "code",
   "execution_count": null,
   "metadata": {},
   "outputs": [],
   "source": [
    "assert w.wcs.lattyp == \"DEC\"\n"
   ]
  }
 ],
 "metadata": {
  "kernelspec": {
   "display_name": "Python 3",
   "language": "python",
   "name": "python3"
  }
 },
 "nbformat": 4,
 "nbformat_minor": 2
}
