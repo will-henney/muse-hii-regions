{
 "cells": [
  {
   "cell_type": "markdown",
   "id": "2ae9ea9f-b013-4436-8bd9-7dae8b16e519",
   "metadata": {},
   "source": [
    "# Cloudy models of NGC 346 bow shock around Walborn 3"
   ]
  },
  {
   "cell_type": "code",
   "execution_count": 3,
   "id": "98ad93ad-6472-4e3d-b984-ce7102137ba4",
   "metadata": {},
   "outputs": [
    {
     "ename": "ModuleNotFoundError",
     "evalue": "No module named 'cloudytab'",
     "output_type": "error",
     "traceback": [
      "\u001b[0;31m---------------------------------------------------------------------------\u001b[0m",
      "\u001b[0;31mModuleNotFoundError\u001b[0m                       Traceback (most recent call last)",
      "\u001b[0;32m<ipython-input-3-4a9162fd4ff0>\u001b[0m in \u001b[0;36m<module>\u001b[0;34m\u001b[0m\n\u001b[1;32m      5\u001b[0m \u001b[0;32mimport\u001b[0m \u001b[0msys\u001b[0m\u001b[0;34m\u001b[0m\u001b[0;34m\u001b[0m\u001b[0m\n\u001b[1;32m      6\u001b[0m \u001b[0msys\u001b[0m\u001b[0;34m.\u001b[0m\u001b[0mpath\u001b[0m\u001b[0;34m.\u001b[0m\u001b[0mappend\u001b[0m\u001b[0;34m(\u001b[0m\u001b[0;34m\"../lib\"\u001b[0m\u001b[0;34m)\u001b[0m\u001b[0;34m\u001b[0m\u001b[0;34m\u001b[0m\u001b[0m\n\u001b[0;32m----> 7\u001b[0;31m \u001b[0;32mfrom\u001b[0m \u001b[0mcloudytab\u001b[0m \u001b[0;32mimport\u001b[0m \u001b[0mcloudytab\u001b[0m\u001b[0;34m\u001b[0m\u001b[0;34m\u001b[0m\u001b[0m\n\u001b[0m",
      "\u001b[0;31mModuleNotFoundError\u001b[0m: No module named 'cloudytab'"
     ]
    }
   ],
   "source": [
    "import numpy as np\n",
    "from matplotlib import pyplot as plt\n",
    "import seaborn as sns\n",
    "\n",
    "import sys\n",
    "sys.path.append(\"../lib\")\n",
    "from cloudytab import cloudytab"
   ]
  },
  {
   "cell_type": "code",
   "execution_count": 4,
   "id": "932eb591-12a2-4fc9-a6d2-0be1525a24e0",
   "metadata": {},
   "outputs": [
    {
     "data": {
      "text/plain": [
       "['/Users/will/Dropbox/muse-hii-regions/cloudy/models',\n",
       " '/Users/will/miniconda3/envs/py39/lib/python39.zip',\n",
       " '/Users/will/miniconda3/envs/py39/lib/python3.9',\n",
       " '/Users/will/miniconda3/envs/py39/lib/python3.9/lib-dynload',\n",
       " '',\n",
       " '/Users/will/miniconda3/envs/py39/lib/python3.9/site-packages',\n",
       " '/Users/will/miniconda3/envs/py39/lib/python3.9/site-packages/IPython/extensions',\n",
       " '/Users/will/.ipython',\n",
       " '../lib',\n",
       " '../lib/cloudytab',\n",
       " '../lib']"
      ]
     },
     "execution_count": 4,
     "metadata": {},
     "output_type": "execute_result"
    }
   ],
   "source": [
    "sys.path"
   ]
  },
  {
   "cell_type": "code",
   "execution_count": 6,
   "id": "6f41ffd9-b848-4bde-af14-36bc19a6f989",
   "metadata": {},
   "outputs": [
    {
     "name": "stdout",
     "output_type": "stream",
     "text": [
      "ls: ../lib: No such file or directory\n"
     ]
    }
   ],
   "source": [
    "!ls ../lib"
   ]
  },
  {
   "cell_type": "code",
   "execution_count": null,
   "id": "5d4599d1-519b-44da-b966-1becdeead5cc",
   "metadata": {},
   "outputs": [],
   "source": []
  }
 ],
 "metadata": {
  "kernelspec": {
   "display_name": "Python 3",
   "language": "python",
   "name": "python3"
  },
  "language_info": {
   "codemirror_mode": {
    "name": "ipython",
    "version": 3
   },
   "file_extension": ".py",
   "mimetype": "text/x-python",
   "name": "python",
   "nbconvert_exporter": "python",
   "pygments_lexer": "ipython3",
   "version": "3.9.4"
  }
 },
 "nbformat": 4,
 "nbformat_minor": 5
}
