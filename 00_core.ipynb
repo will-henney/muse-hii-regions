{
 "cells": [
  {
   "cell_type": "code",
   "execution_count": null,
   "metadata": {},
   "outputs": [],
   "source": [
    "# default_exp core"
   ]
  },
  {
   "cell_type": "markdown",
   "metadata": {},
   "source": [
    "# wcsfile\n",
    "\n",
    "> Implements `wcsfile.read()` for reading World Coordinate System information from a file"
   ]
  },
  {
   "cell_type": "code",
   "execution_count": null,
   "metadata": {},
   "outputs": [],
   "source": [
    "#hide\n",
    "from nbdev.showdoc import *"
   ]
  },
  {
   "cell_type": "code",
   "execution_count": null,
   "metadata": {},
   "outputs": [],
   "source": [
    "#export\n",
    "import toml\n",
    "\n",
    "def read(wcsfile: str) -> dict: \n",
    "    \"Read WCS (key,value) pairs from DS9's *.wcs files\"\n",
    "    with open(wcsfile) as stream:\n",
    "        return toml.loads(_fixups(stream.read()))\n",
    "\n",
    "def _fixups(s: str) -> str:\n",
    "    \"Apply fixes to WCS file syntax to make it valid TOML\"\n",
    "    s = s.replace(\"0.\\n\", \"0.0\\n\")\n",
    "    return s\n"
   ]
  },
  {
   "cell_type": "code",
   "execution_count": null,
   "metadata": {},
   "outputs": [],
   "source": []
  }
 ],
 "metadata": {
  "kernelspec": {
   "display_name": "Python 3",
   "language": "python",
   "name": "python3"
  }
 },
 "nbformat": 4,
 "nbformat_minor": 2
}
