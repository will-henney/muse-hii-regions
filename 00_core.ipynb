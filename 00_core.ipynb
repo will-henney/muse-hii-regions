{
 "cells": [
  {
   "cell_type": "code",
   "execution_count": null,
   "metadata": {},
   "outputs": [],
   "source": [
    "# default_exp core"
   ]
  },
  {
   "cell_type": "markdown",
   "metadata": {},
   "source": [
    "# wcsfile\n",
    "\n",
    "> Implements `wcsfile.read()` for reading World Coordinate System information from a file"
   ]
  },
  {
   "cell_type": "code",
   "execution_count": null,
   "metadata": {},
   "outputs": [],
   "source": [
    "%load_ext autoreload\n",
    "%autoreload 2"
   ]
  },
  {
   "cell_type": "code",
   "execution_count": null,
   "metadata": {},
   "outputs": [],
   "source": [
    "#hide\n",
    "from nbdev.showdoc import *\n",
    "from fastcore.test import *"
   ]
  },
  {
   "cell_type": "code",
   "execution_count": null,
   "metadata": {},
   "outputs": [],
   "source": [
    "#exports\n",
    "import toml"
   ]
  },
  {
   "cell_type": "code",
   "execution_count": null,
   "metadata": {},
   "outputs": [],
   "source": [
    "#exports\n",
    "def read(wcsfile: str) -> dict: \n",
    "    \"Read WCS (key,value) pairs from DS9's *.wcs files\"\n",
    "    with open(wcsfile) as stream:\n",
    "        return toml.loads(_fixups(stream.read()))"
   ]
  },
  {
   "cell_type": "markdown",
   "metadata": {},
   "source": [
    "## Internal functions\n",
    "\n",
    "These are not part of the API.  "
   ]
  },
  {
   "cell_type": "code",
   "execution_count": null,
   "metadata": {},
   "outputs": [],
   "source": [
    "#export\n",
    "def _fixups(s: str) -> str:\n",
    "    \"Apply fixes to WCS file syntax to make it valid TOML\"\n",
    "    s = s.replace(\"0.\\n\", \"0.0\\n\")\n",
    "    return s"
   ]
  },
  {
   "cell_type": "markdown",
   "metadata": {},
   "source": [
    "## Example of usage\n",
    "\n",
    "**TODO** Add example here, but I need to put an example file somewhere"
   ]
  },
  {
   "cell_type": "code",
   "execution_count": null,
   "metadata": {},
   "outputs": [
    {
     "data": {
      "text/plain": [
       "{'DATE-OBS': '21/03/95',\n",
       " 'EQUINOX': 2000,\n",
       " 'CTYPE1': 'RA---TAN',\n",
       " 'CRPIX1': 388.39887,\n",
       " 'CRVAL1': 83.8433551,\n",
       " 'CDELT1': 0.0,\n",
       " 'CTYPE2': 'DEC--TAN',\n",
       " 'CRPIX2': 567.14165,\n",
       " 'CRVAL2': -5.4192964,\n",
       " 'CDELT2': 0.0,\n",
       " 'CD1_1': -2.76664e-05,\n",
       " 'CD1_2': 3.804223e-08,\n",
       " 'CD2_1': 4.913188e-09,\n",
       " 'CD2_2': 2.764793e-05}"
      ]
     },
     "execution_count": null,
     "metadata": {},
     "output_type": "execute_result"
    }
   ],
   "source": [
    "wcs = read(\"testdata/mosaic-1996-HH204-align-robberto.wcs\")\n",
    "wcs"
   ]
  },
  {
   "cell_type": "code",
   "execution_count": null,
   "metadata": {},
   "outputs": [],
   "source": [
    "assert wcs[\"CDELT2\"] == 0.0"
   ]
  },
  {
   "cell_type": "code",
   "execution_count": null,
   "metadata": {},
   "outputs": [],
   "source": [
    "test_eq(wcs[\"EQUINOX\"], 2000)"
   ]
  },
  {
   "cell_type": "markdown",
   "metadata": {},
   "source": [
    "Try a failing test"
   ]
  },
  {
   "cell_type": "code",
   "execution_count": null,
   "metadata": {},
   "outputs": [],
   "source": [
    "#test_eq(wcs[\"CD2_2\"], 0.0)"
   ]
  },
  {
   "cell_type": "markdown",
   "metadata": {},
   "source": [
    "# Export modules from notebook"
   ]
  },
  {
   "cell_type": "code",
   "execution_count": null,
   "metadata": {},
   "outputs": [
    {
     "name": "stdout",
     "output_type": "stream",
     "text": [
      "Converted 00_core.ipynb.\n",
      "Converted index.ipynb.\n"
     ]
    }
   ],
   "source": [
    "from nbdev.export import notebook2script; notebook2script()"
   ]
  },
  {
   "cell_type": "code",
   "execution_count": null,
   "metadata": {},
   "outputs": [],
   "source": [
    "\n"
   ]
  },
  {
   "cell_type": "code",
   "execution_count": null,
   "metadata": {},
   "outputs": [],
   "source": []
  },
  {
   "cell_type": "code",
   "execution_count": null,
   "metadata": {},
   "outputs": [],
   "source": []
  }
 ],
 "metadata": {
  "kernelspec": {
   "display_name": "Python 3",
   "language": "python",
   "name": "python3"
  }
 },
 "nbformat": 4,
 "nbformat_minor": 2
}
