{
 "cells": [
  {
   "cell_type": "markdown",
   "id": "903a3c37",
   "metadata": {},
   "source": [
    "# Estimate Hα velocity moment maps for NGC 346"
   ]
  },
  {
   "cell_type": "code",
   "execution_count": null,
   "id": "11546450",
   "metadata": {},
   "outputs": [],
   "source": [
    "from pathlib import Path\n",
    "import numpy as np\n",
    "from matplotlib import pyplot as plt\n",
    "import seaborn as sns\n",
    "from mpdaf.obj import Cube\n",
    "import astropy.units as u\n",
    "sns.set_context(\"talk\")"
   ]
  },
  {
   "cell_type": "markdown",
   "id": "de54b0cf",
   "metadata": {},
   "source": [
    "Load the data cube from the FITS file. "
   ]
  },
  {
   "cell_type": "code",
   "execution_count": null,
   "id": "7be73f54",
   "metadata": {},
   "outputs": [],
   "source": [
    "datapath = Path(\"/Users/will/Work/Muse-Hii-Data/SMC-NGC-346/\")\n",
    "fitsfilepath = datapath / \"ADP.2017-10-16T11_04_19.247.fits\"\n",
    "cube = Cube(str(fitsfilepath))"
   ]
  },
  {
   "cell_type": "code",
   "execution_count": null,
   "id": "53e4ba46",
   "metadata": {},
   "outputs": [],
   "source": [
    "import sys\n",
    "sys.path.append(\"../lib\")\n",
    "import moments"
   ]
  },
  {
   "cell_type": "code",
   "execution_count": null,
   "id": "992a02d0",
   "metadata": {},
   "outputs": [],
   "source": [
    "moments.FIGPATH = Path(\"../figs\")\n",
    "moments.SAVEPATH = Path(\"../data\")"
   ]
  },
  {
   "cell_type": "markdown",
   "id": "03a27201",
   "metadata": {},
   "source": [
    "## Select the wavelength range\n",
    "\n",
    "Then take a narrow band about the H alpha line that avoids the flanking [N II] lines:"
   ]
  },
  {
   "cell_type": "code",
   "execution_count": null,
   "id": "4daaa823",
   "metadata": {},
   "outputs": [],
   "source": [
    "hacube = cube.select_lambda(6558.0, 6576.0)"
   ]
  },
  {
   "cell_type": "markdown",
   "id": "054470e7",
   "metadata": {},
   "source": [
    "Plot various aggregate measures over all the spatial pixels (mean, median, max, min):"
   ]
  },
  {
   "cell_type": "code",
   "execution_count": null,
   "id": "8fbfce29",
   "metadata": {},
   "outputs": [],
   "source": [
    "fig, ax = plt.subplots(figsize=(10, 5))\n",
    "hacube.mean(axis=(1, 2)).plot(label=\"mean\")\n",
    "(0.01*hacube.max(axis=(1, 2))).plot(label=\"max x 0.01\")\n",
    "hacube.median(axis=(1, 2)).plot(label=\"median\")\n",
    "(0.1*hacube.min(axis=(1, 2))).plot(label=\"min x 0.1\")\n",
    "ax.legend()"
   ]
  },
  {
   "cell_type": "markdown",
   "id": "8c8f03e7",
   "metadata": {},
   "source": [
    "## Subtract the continuum\n",
    "\n",
    "On the plus side, it looks like there is never any significant continuum slope, so we can just calculate an average continuum level to subtract:"
   ]
  },
  {
   "cell_type": "code",
   "execution_count": null,
   "id": "2715efe1",
   "metadata": {},
   "outputs": [],
   "source": [
    "left_continuum = cube.select_lambda(6558.0, 6562.0).mean(axis=0)\n",
    "right_continuum = cube.select_lambda(6572.0, 6576.0).mean(axis=0)\n",
    "ha_cont = 0.5 * (left_continuum + right_continuum)"
   ]
  },
  {
   "cell_type": "code",
   "execution_count": null,
   "id": "6f415a11",
   "metadata": {},
   "outputs": [],
   "source": [
    "ha_cont.plot(colorbar=\"v\")"
   ]
  },
  {
   "cell_type": "markdown",
   "id": "bf55bfa5",
   "metadata": {},
   "source": [
    "Promote the continuum image to a cube by taking a copy of the the line cube and pasting in new data and variance: "
   ]
  },
  {
   "cell_type": "code",
   "execution_count": null,
   "id": "f9a5f511",
   "metadata": {},
   "outputs": [],
   "source": [
    "contcube = hacube.copy()\n",
    "contcube.data = np.ones_like(contcube.data) * ha_cont.data[None, :, :]\n",
    "contcube.var = np.ones_like(contcube.var) * ha_cont.var[None, :, :]"
   ]
  },
  {
   "cell_type": "markdown",
   "id": "2c1620e5",
   "metadata": {},
   "source": [
    "Subtract the continuum."
   ]
  },
  {
   "cell_type": "code",
   "execution_count": null,
   "id": "f4b65c2b",
   "metadata": {},
   "outputs": [],
   "source": [
    "hacube_contsub = hacube - contcube "
   ]
  },
  {
   "cell_type": "markdown",
   "id": "ccda9465",
   "metadata": {},
   "source": [
    "Another way of doing it would have been to just subtract `ha_cont.data[None, :, :]` from the `.data` array of `hacube`.  But in that case, the `.var` would not have been propagated automatically and we would have to calculate it by hand. \n",
    "\n",
    "Now we do the same plot:"
   ]
  },
  {
   "cell_type": "code",
   "execution_count": null,
   "id": "1fdb36c8",
   "metadata": {},
   "outputs": [],
   "source": [
    "fig, ax = plt.subplots(figsize=(10, 5))\n",
    "hacube_contsub.mean(axis=(1, 2)).plot(label=\"mean\")\n",
    "(0.03*hacube_contsub.max(axis=(1, 2))).plot(label=\"max x 0.03\")\n",
    "hacube_contsub.median(axis=(1, 2)).plot(label=\"median\")\n",
    "(0.1*hacube_contsub.min(axis=(1, 2))).plot(label=\"min x 0.1\")\n",
    "ax.legend()"
   ]
  },
  {
   "cell_type": "markdown",
   "id": "483d69dd",
   "metadata": {},
   "source": [
    "This looks good – the continuum has been eliminated in all but the min aggregation, which is presumably dominated by a small number of pixels that have strange profiles."
   ]
  },
  {
   "cell_type": "markdown",
   "id": "7f9ff25e",
   "metadata": {},
   "source": [
    "## Make a cube of wavelengths"
   ]
  },
  {
   "cell_type": "markdown",
   "id": "b0475be6",
   "metadata": {},
   "source": [
    "It is is easy to get a 1D array of the wavelengths:"
   ]
  },
  {
   "cell_type": "code",
   "execution_count": null,
   "id": "c1e4c5f1",
   "metadata": {},
   "outputs": [],
   "source": [
    "waves = hacube_contsub.wave.coord()\n",
    "waves"
   ]
  },
  {
   "cell_type": "markdown",
   "id": "d609e7a6",
   "metadata": {},
   "source": [
    "But there seems no built-in way to get a cube of them, so we will construct it ourselves:"
   ]
  },
  {
   "cell_type": "code",
   "execution_count": null,
   "id": "a681fb7e",
   "metadata": {},
   "outputs": [],
   "source": [
    "wavcube = hacube_contsub.clone(np.ones, np.zeros)\n",
    "wavcube.data *= waves[:, None, None]\n",
    "wavcube.unit = u.angstrom\n",
    "wavcube.info()"
   ]
  },
  {
   "cell_type": "markdown",
   "id": "c8b39c9e",
   "metadata": {},
   "source": [
    "Note that we used the `.clone` method to get a new empty cube with the same coordinates, which we initialized with all ones as data and all zeros as variances (because there are no uncertainties in the wavelengths).  Then we used broadcasting to multiply the data by the 1D wavelength array and set the unit correctly."
   ]
  },
  {
   "cell_type": "markdown",
   "id": "e605cd49",
   "metadata": {},
   "source": [
    "## Calculate the moments\n",
    "\n",
    "To reduce effects noise, especially in the higher moments, we use the core window of 6562 to 6572 in between the continuum-fitting ranges"
   ]
  },
  {
   "cell_type": "code",
   "execution_count": null,
   "id": "f0daa324",
   "metadata": {},
   "outputs": [],
   "source": [
    "hacore = hacube_contsub.select_lambda(6562.0, 6572.0)\n",
    "wavcore = wavcube.select_lambda(6562.0, 6572.0)"
   ]
  },
  {
   "cell_type": "markdown",
   "id": "36faf45c",
   "metadata": {},
   "source": [
    "The velocity moments are now trivial sums over this window.  "
   ]
  },
  {
   "cell_type": "code",
   "execution_count": null,
   "id": "6d35b725",
   "metadata": {},
   "outputs": [],
   "source": [
    "mom0 = hacore.sum(axis=0)\n",
    "wav0 = 6566.5\n",
    "mom1 = mom0.copy()\n",
    "mom1.data = np.sum(hacore.data * (wavcore.data - wav0), axis=0) / mom0.data\n",
    "# mom1.mask = mom1.mask | (mom0.data < 0.0)"
   ]
  },
  {
   "cell_type": "code",
   "execution_count": null,
   "id": "74e5a8a6",
   "metadata": {},
   "outputs": [],
   "source": [
    "fig, ax = plt.subplots(figsize=(8, 8))\n",
    "mom1.plot(\n",
    "    cmap=\"seismic\",\n",
    "    vmin=-1.0, \n",
    "    vmax=1.0,\n",
    "    colorbar=\"v\",\n",
    ")"
   ]
  },
  {
   "cell_type": "markdown",
   "id": "3af6e78d",
   "metadata": {},
   "source": [
    "## Try and deal with sky over-subtraction"
   ]
  },
  {
   "cell_type": "markdown",
   "id": "9e518bd6",
   "metadata": {},
   "source": [
    "Look at where Ha brightness is negative, and overlay with positions of stars (continuum is high)"
   ]
  },
  {
   "cell_type": "code",
   "execution_count": null,
   "id": "bb72bee1",
   "metadata": {},
   "outputs": [],
   "source": [
    "fig, ax = plt.subplots(figsize=(8, 8))\n",
    "mom0.plot(\n",
    "#    vmin=0.5*mom0.data.min(),\n",
    "#    vmax=0.0,\n",
    "    vmin=-10000,\n",
    "    vmax=10000,\n",
    "    cmap=\"viridis\",\n",
    "    colorbar=\"v\",\n",
    ")\n",
    "ax.contour(ha_cont.data, levels=[5000], colors=\"r\")"
   ]
  },
  {
   "cell_type": "markdown",
   "id": "44772e30",
   "metadata": {},
   "source": [
    "Look at some of the line profiles in the negative zones:"
   ]
  },
  {
   "cell_type": "code",
   "execution_count": null,
   "id": "6661979b",
   "metadata": {},
   "outputs": [],
   "source": [
    "hacube[:, 300, 60].plot()\n",
    "hacube[:, 10, 300].plot()\n",
    "hacube[:, 150, 150].plot()\n",
    "hacube[:, 260, 160].plot()"
   ]
  },
  {
   "cell_type": "markdown",
   "id": "3a9aca84",
   "metadata": {},
   "source": [
    "### Look for a strategy for finding a good sky profile\n",
    "\n",
    "We want to find a profile that we can subtract from every pixel and it will give a decent profile.  By decent, I mean that it is almost exclusively positive (more or less) and doesn't look weirdly broad, narrow, or asymmetric. \n",
    "\n",
    "I have tried various approaches. The best one seems to be selecting pixels that are (i) not strong continuum and (2) have integrated line flux < 20000 \n",
    "\n",
    "I test this out here on the 4 pixels that were selected as representative of those with negative line profiles (see previous graph).  It works OK at converting most of them to positive.  Three of them do still have small dips on the blue side, but these are very minor in two cases.  The only one that doesn't look good is the [10, 300] one."
   ]
  },
  {
   "cell_type": "code",
   "execution_count": null,
   "id": "71c85273",
   "metadata": {},
   "outputs": [],
   "source": [
    "# skyspec = hacube[:, 10, 300]\n",
    "starmask2d = ha_cont.data > 1000.0\n",
    "bmask2d = hacore.sum(axis=0).data > -20000\n",
    "skycube = hacube.copy()\n",
    "skycube.mask = skycube.mask | starmask2d[None, :, :] | bmask2d[None, :, :]\n",
    "skyspec = skycube.mean(axis=(1, 2))\n",
    "fig, ax = plt.subplots(figsize=(10, 5))\n",
    "for (j, i) in [[300, 60], [10, 300], [150, 150], [260, 160]]:\n",
    "    (hacube[:, j, i] - skyspec).plot(label=f\"{j}, {i}\")\n",
    "ax.legend();"
   ]
  },
  {
   "cell_type": "markdown",
   "id": "a09df635",
   "metadata": {},
   "source": [
    "It turns out that there are only 3 pixels that get used for the sky mask!  Here they are:"
   ]
  },
  {
   "cell_type": "code",
   "execution_count": null,
   "id": "9bf0a664",
   "metadata": {},
   "outputs": [],
   "source": [
    "skymap = skycube.sum(axis=0)\n",
    "np.where(~skymap.mask)"
   ]
  },
  {
   "cell_type": "markdown",
   "id": "9d8f01c7",
   "metadata": {},
   "source": [
    "So, this is a map of the full wave range, including continuum, but with this sky spectrum subtracted:"
   ]
  },
  {
   "cell_type": "code",
   "execution_count": null,
   "id": "2383a38c",
   "metadata": {},
   "outputs": [],
   "source": [
    "(hacube - skyspec).sum(axis=0).plot(vmin=0.0, vmax=1e5, colorbar=\"v\")"
   ]
  },
  {
   "cell_type": "markdown",
   "id": "d47c9275",
   "metadata": {},
   "source": [
    "And now we redo the moments of the continuum-subtracted core range, but subtracting skyspec first:"
   ]
  },
  {
   "cell_type": "code",
   "execution_count": null,
   "id": "6af20df2",
   "metadata": {},
   "outputs": [],
   "source": [
    "_hacube_contsub = hacube - contcube - skyspec\n",
    "_hacore = _hacube_contsub.select_lambda(6562.0, 6572.0)\n",
    "_mom0 = _hacore.sum(axis=0)\n",
    "_mom1 = _mom0.copy()\n",
    "_mom1.data = np.sum(_hacore.data * (wavcore.data - wav0), axis=0) / _mom0.data"
   ]
  },
  {
   "cell_type": "markdown",
   "id": "a363f2de",
   "metadata": {},
   "source": [
    "Note that I prepend an underscore to all the variables for the sky-corrected versions.  \n",
    "\n",
    "Here is a map of the Ha intensity:"
   ]
  },
  {
   "cell_type": "code",
   "execution_count": null,
   "id": "21ed3240",
   "metadata": {},
   "outputs": [],
   "source": [
    "_mom0.plot(vmin=0.0, vmax=1.5e5, scale=\"sqrt\", colorbar=\"v\")"
   ]
  },
  {
   "cell_type": "markdown",
   "id": "34c3353c",
   "metadata": {},
   "source": [
    "Looks good – at least, it does not go negative except for at some stars. \n",
    "\n",
    "Now, we plot the first moment.  Note this is the wavelength shift from `wav0` in Å.  Multiply by about 50 to get velocity in km/s"
   ]
  },
  {
   "cell_type": "code",
   "execution_count": null,
   "id": "656d4e53",
   "metadata": {},
   "outputs": [],
   "source": [
    "fig, ax = plt.subplots(figsize=(8, 8))\n",
    "_mom1.plot(\n",
    "    cmap=\"seismic\",\n",
    "    vmin=-0.75, \n",
    "    vmax=0.25,\n",
    "    colorbar=\"v\",\n",
    ")\n",
    "fig.suptitle(\n",
    "    f\"Sky-corrected first moment: $\\Delta\\lambda$ from {wav0} Å\",\n",
    "    y=0.92,\n",
    ")\n",
    "fig.tight_layout(pad=0);"
   ]
  },
  {
   "cell_type": "markdown",
   "id": "e9ad9235",
   "metadata": {},
   "source": [
    "Maybe we can even trust this result, except for near the borders.\n",
    "\n",
    "Next, here are a sampling of particular pixels.  Faint regions in the top row to bright regions in the bottom row. The blue line shows the original profile, while the orange line shows the profile after correcting the sky."
   ]
  },
  {
   "cell_type": "code",
   "execution_count": null,
   "id": "d75ac0b4",
   "metadata": {},
   "outputs": [],
   "source": [
    "testpixels = [\n",
    "    [250, 160], [150, 150], [10, 300],\n",
    "    [70, 250], [75, 200], [310, 225],\n",
    "    [100, 30], [50, 120], [140, 110], #[180, 290],\n",
    "]\n",
    "fig, axes = plt.subplots(\n",
    "    3, 3, \n",
    "    figsize=(10, 8), \n",
    "    sharex=True,\n",
    "    sharey=\"row\",\n",
    ")\n",
    "for (j, i), ax in zip(testpixels, axes.flat):\n",
    "    hacore[:, j, i].plot(ax=ax)\n",
    "    _hacore[:, j, i].plot(ax=ax) \n",
    "    ax.set(xlabel=\"\", ylabel=\"\")\n",
    "    ax.set_title(f\"[{j}, {i}]\")\n",
    "fig.suptitle(\n",
    "    \"Before/after sky correction for faint/moderate/bright pixels\"\n",
    ")\n",
    "sns.despine()\n",
    "fig.tight_layout();"
   ]
  },
  {
   "cell_type": "markdown",
   "id": "9e269798",
   "metadata": {},
   "source": [
    "The correction is a really large fraction of the total profile, except for the brightest pixels, which is rather scary."
   ]
  },
  {
   "cell_type": "markdown",
   "id": "609fb9b2",
   "metadata": {},
   "source": [
    "### Try looking at joint distribution of unnormalized moments\n",
    "\n",
    "The unnormalized moments should behave better since they can pass through zero without having the 0/0 problem. . "
   ]
  },
  {
   "cell_type": "markdown",
   "id": "919094fc",
   "metadata": {},
   "source": [
    "#### Before correcting the sky"
   ]
  },
  {
   "cell_type": "code",
   "execution_count": null,
   "id": "b7e89fbe",
   "metadata": {},
   "outputs": [],
   "source": [
    "mom0 = hacore.sum(axis=0)\n",
    "mom1 = mom0.copy()\n",
    "#wav0 = 6566.5\n",
    "wav0 = 6566.6\n",
    "mom1.data = np.sum(hacore.data * (wavcore.data - wav0), axis=0)\n",
    "mom2 = mom0.copy()\n",
    "mom2.data = np.sum(hacore.data * (wavcore.data - wav0)**2, axis=0)"
   ]
  },
  {
   "cell_type": "markdown",
   "id": "08983d4e",
   "metadata": {},
   "source": [
    "Note that we do not divide `mom1` by `mom0`"
   ]
  },
  {
   "cell_type": "code",
   "execution_count": null,
   "id": "02540315",
   "metadata": {},
   "outputs": [],
   "source": [
    "import pandas as pd\n",
    "sns.set_color_codes()"
   ]
  },
  {
   "cell_type": "markdown",
   "id": "b3388810",
   "metadata": {},
   "source": [
    "We mask out the brightest parts and also the outliers in velocity so that we can see the part that passes through zero better."
   ]
  },
  {
   "cell_type": "code",
   "execution_count": null,
   "id": "fc862608",
   "metadata": {},
   "outputs": [],
   "source": [
    "starmask = ha_cont.data > 1e4\n",
    "m = starmask | mom0.mask | (mom0.data > 3e4) | (np.abs(mom1.data) > 1e4)\n",
    "df = pd.DataFrame({\n",
    "    \"mom0\": mom0.data[~m],\n",
    "    \"mom1\": mom1.data[~m],\n",
    "    \"mom2\": mom2.data[~m],\n",
    "})\n",
    "df.describe()"
   ]
  },
  {
   "cell_type": "markdown",
   "id": "f6462708",
   "metadata": {},
   "source": [
    "Make a corner plot of the moment distributions:"
   ]
  },
  {
   "cell_type": "code",
   "execution_count": null,
   "id": "7d78559d",
   "metadata": {},
   "outputs": [],
   "source": [
    "g = sns.pairplot(\n",
    "    df,\n",
    "    kind=\"hist\",\n",
    "    height=4,\n",
    "    corner=True,\n",
    ")\n",
    "g.axes[1, 0].axvline(0.0, color=\"r\", linestyle=\"dashed\")\n",
    "g.axes[2, 0].axvline(0.0, color=\"r\", linestyle=\"dashed\")\n",
    "g.axes[2, 0].axhline(0.0, color=\"r\", linestyle=\"dashed\")\n",
    "g.axes[2, 1].axhline(0.0, color=\"r\", linestyle=\"dashed\")\n",
    "g.fig.suptitle(\"Uncorrected, unnormalized moments\")\n",
    "g.tight_layout();"
   ]
  },
  {
   "cell_type": "markdown",
   "id": "4d65e756",
   "metadata": {},
   "source": [
    "Note that for an emission line, mom0 and mom2 should be positive definite.  They are not, which clearly shows the proplem. \n",
    "\n",
    "In principle, the sky correction should add constant values to all 3 un-normalized moments (that is, constant with position).  We can see more-or-less what must be added to mom0 and mom2 to make them always, positive but with mom1 there is no requirement that the value should be positive (and it is relative to our aribitrary `wav0` anyway). \n",
    "\n",
    "However, so long as we get mom0 and mom2 right, I think that it doen't matter if there is a systematic uncertainty in mom1, since the relative velocities will be unaffected."
   ]
  },
  {
   "cell_type": "markdown",
   "id": "37730d77",
   "metadata": {},
   "source": [
    "#### After correcting the sky\n",
    "\n",
    "Now, we do it on the data that has supposedly been corrected for the bad sky.  **I adjust the reference wavelength to 6566.4 instead of 6566.6**. This is to better center the velocity distribution"
   ]
  },
  {
   "cell_type": "code",
   "execution_count": null,
   "id": "45a980c2",
   "metadata": {},
   "outputs": [],
   "source": [
    "_mom0 = _hacore.sum(axis=0)\n",
    "_mom1 = _mom0.copy()\n",
    "wav0 = 6566.4\n",
    "_mom1.data = np.sum(_hacore.data * (wavcore.data - wav0), axis=0)\n",
    "_mom2 = _mom0.copy()\n",
    "_mom2.data = np.sum(_hacore.data * (wavcore.data - wav0)**2, axis=0)"
   ]
  },
  {
   "cell_type": "markdown",
   "id": "97e40639",
   "metadata": {},
   "source": [
    "We take a less restrictive mask, only masking out the outliers in any of the moments:"
   ]
  },
  {
   "cell_type": "code",
   "execution_count": null,
   "id": "8413ab3e",
   "metadata": {},
   "outputs": [],
   "source": [
    "m = (\n",
    "    starmask \n",
    "    | _mom0.mask \n",
    "    | (_mom0.data > 15e4) \n",
    "    | (_mom1.data < -2e4) | (_mom1.data > 2e4)\n",
    "    | (_mom2.data < -1e4)  | (_mom2.data > 1.5e5) \n",
    ")\n",
    "df = pd.DataFrame({\n",
    "    \"mom0\": _mom0.data[~m],\n",
    "    \"mom1\": _mom1.data[~m],\n",
    "    \"mom2\": _mom2.data[~m],\n",
    "})\n",
    "df.describe()"
   ]
  },
  {
   "cell_type": "code",
   "execution_count": null,
   "id": "7e440d32",
   "metadata": {},
   "outputs": [],
   "source": [
    "g = sns.pairplot(\n",
    "    df,\n",
    "    kind=\"hist\",\n",
    "    height=4,\n",
    "    corner=True,\n",
    "    plot_kws=dict(color=\"g\"),\n",
    "    diag_kws=dict(color=\"g\"),\n",
    ")\n",
    "g.fig.suptitle(\"Corrected, unnormalized moments\")\n",
    "g.tight_layout(pad=0);"
   ]
  },
  {
   "cell_type": "markdown",
   "id": "5e134f7f",
   "metadata": {},
   "source": [
    "So that looks like it has worked. Note that mom1 fans out as a triangle as mom0 increases, but it stays roughly centered on zero. This is because of the judicious adjustment to wav0 above."
   ]
  },
  {
   "cell_type": "markdown",
   "id": "534890b6",
   "metadata": {},
   "source": [
    "#### Back to normalized moments again\n",
    "\n",
    "If that is sorted, then we should be able to look at the normalized moments:"
   ]
  },
  {
   "cell_type": "code",
   "execution_count": null,
   "id": "5744ef2a",
   "metadata": {},
   "outputs": [],
   "source": [
    "_mom0 = _hacore.sum(axis=0)\n",
    "_mom1 = _mom0.copy()\n",
    "_mom1.data = np.sum(_hacore.data * (wavcore.data - wav0), axis=0) / _mom0.data\n",
    "_mom2 = _mom0.copy()\n",
    "_mom2.data = np.sum(_hacore.data * (wavcore.data - wav0 - _mom1.data)**2, axis=0) / _mom0.data"
   ]
  },
  {
   "cell_type": "code",
   "execution_count": null,
   "id": "07483d46",
   "metadata": {},
   "outputs": [],
   "source": [
    "m = (\n",
    "    starmask \n",
    "    | _mom0.mask \n",
    "    | (_mom0.data < 0.6e4) | (_mom0.data > 15e4)\n",
    "    | (_mom1.data < -0.4) | (_mom1.data > 0.4)\n",
    "    | (_mom2.data > 1.75) | (_mom2.data < 0.5)\n",
    ")\n",
    "KMS_PER_ANGSTROM = 3e5 / 6563.0\n",
    "df2 = pd.DataFrame({\n",
    "    \"log10 I(Ha)\": np.log10(_mom0.data[~m]),\n",
    "    \"V(Ha)\": _mom1.data[~m] * KMS_PER_ANGSTROM,\n",
    "    \"sig(Ha)\": np.sqrt(_mom2.data[~m]) * KMS_PER_ANGSTROM,\n",
    "})\n",
    "df2.describe()"
   ]
  },
  {
   "cell_type": "code",
   "execution_count": null,
   "id": "65058dec",
   "metadata": {},
   "outputs": [],
   "source": [
    "            "
   ]
  },
  {
   "cell_type": "code",
   "execution_count": null,
   "id": "47d7432b",
   "metadata": {},
   "outputs": [],
   "source": [
    "fig, ax = plt.subplots(figsize=(8, 8))\n",
    "_mom2.mask = _mom2.mask | m\n",
    "_mom2.plot(\n",
    "    cmap=\"gray\",\n",
    "    vmin=0.5, \n",
    "    vmax=1.75,\n",
    "    colorbar=\"v\",\n",
    ")\n",
    "ax.contour(\n",
    "    KMS_PER_ANGSTROM * _mom1.data,\n",
    "    levels=[-10, -5, 0, 5, 10],\n",
    "    cmap=\"bwr\")"
   ]
  },
  {
   "cell_type": "markdown",
   "id": "cd3850ef",
   "metadata": {},
   "source": [
    "## Redo it all using my moments library\n",
    "\n",
    "Lots of the above can be done more easily now:"
   ]
  },
  {
   "cell_type": "code",
   "execution_count": null,
   "id": "92f8c450",
   "metadata": {},
   "outputs": [],
   "source": [
    "mom6563 = moments.find_moments(_hacore)"
   ]
  },
  {
   "cell_type": "code",
   "execution_count": null,
   "id": "75c0811f",
   "metadata": {},
   "outputs": [],
   "source": [
    "mom6563[0].info()"
   ]
  },
  {
   "cell_type": "code",
   "execution_count": null,
   "id": "a46d6ef6",
   "metadata": {},
   "outputs": [],
   "source": [
    "mom_pars_6563 = dict(\n",
    "    restwav=6562.79,\n",
    "    irange=[3.0e3, 1.0e6],\n",
    "    vrange=[135, 195],\n",
    "    srange=[30, 70],    \n",
    ")"
   ]
  },
  {
   "cell_type": "code",
   "execution_count": null,
   "id": "2008e135",
   "metadata": {},
   "outputs": [],
   "source": [
    "moments.save_moments_to_fits(\n",
    "    mom6563,\n",
    "    label=\"6563\",\n",
    "    flabel=\"ngc346-hi\",\n",
    "    **mom_pars_6563,\n",
    ")"
   ]
  },
  {
   "cell_type": "code",
   "execution_count": null,
   "id": "22cc5726",
   "metadata": {},
   "outputs": [],
   "source": [
    "plot_pars_6563=dict(\n",
    "    ilabel=\"H I\",\n",
    "    label=\"6563\",\n",
    "    flabel=\"ngc346-hi\",\n",
    "    **mom_pars_6563,\n",
    ")\n",
    "g = moments.moments_corner_plot(\n",
    "    mom6563, rebin=1, **plot_pars_6563\n",
    ")"
   ]
  },
  {
   "cell_type": "code",
   "execution_count": null,
   "id": "8766164e",
   "metadata": {},
   "outputs": [],
   "source": [
    "g = moments.moments_corner_plot(\n",
    "    mom6563, rebin=8, **plot_pars_6563\n",
    ")"
   ]
  },
  {
   "cell_type": "code",
   "execution_count": null,
   "id": "4eb38e11",
   "metadata": {},
   "outputs": [],
   "source": []
  }
 ],
 "metadata": {
  "jupytext": {
   "encoding": "# -*- coding: utf-8 -*-",
   "formats": "ipynb,py:light,md"
  },
  "kernelspec": {
   "display_name": "Python 3",
   "language": "python",
   "name": "python3"
  },
  "language_info": {
   "codemirror_mode": {
    "name": "ipython",
    "version": 3
   },
   "file_extension": ".py",
   "mimetype": "text/x-python",
   "name": "python",
   "nbconvert_exporter": "python",
   "pygments_lexer": "ipython3",
   "version": "3.9.4"
  }
 },
 "nbformat": 4,
 "nbformat_minor": 5
}
