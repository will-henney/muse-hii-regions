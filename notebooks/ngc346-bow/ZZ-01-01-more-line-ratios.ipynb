{
 "cells": [
  {
   "cell_type": "markdown",
   "id": "52cc077b",
   "metadata": {},
   "source": [
    "# Line ratios from saved moment images with PZ cube\n",
    "\n",
    "In this notebook, I will work with only pre-calculated line maps, which have already been extracted from the cube.  The extraction process is carried out in the PZ-03 series of notebooks."
   ]
  },
  {
   "cell_type": "code",
   "execution_count": null,
   "id": "4fcf0d0d",
   "metadata": {
    "lines_to_next_cell": 0
   },
   "outputs": [],
   "source": [
    "from pathlib import Path\n",
    "import numpy as np\n",
    "from matplotlib import pyplot as plt\n",
    "import seaborn as sns\n",
    "from mpdaf.obj import Image\n",
    "import regions\n",
    "import sys\n",
    "import pandas as pd\n",
    "import cmasher as cmr\n",
    "import pyneb as pn\n",
    "\n",
    "sns.set_context(\"talk\")\n",
    "sns.set_color_codes()"
   ]
  },
  {
   "cell_type": "code",
   "execution_count": null,
   "id": "414a328e",
   "metadata": {},
   "outputs": [],
   "source": []
  },
  {
   "cell_type": "code",
   "execution_count": null,
   "id": "15e16978",
   "metadata": {},
   "outputs": [],
   "source": []
  },
  {
   "cell_type": "code",
   "execution_count": null,
   "id": "bc4a43db",
   "metadata": {},
   "outputs": [],
   "source": []
  },
  {
   "cell_type": "code",
   "execution_count": null,
   "id": "6177b3ac",
   "metadata": {},
   "outputs": [],
   "source": []
  },
  {
   "cell_type": "code",
   "execution_count": null,
   "id": "2b223275",
   "metadata": {},
   "outputs": [],
   "source": []
  },
  {
   "cell_type": "code",
   "execution_count": null,
   "id": "676f7f4c",
   "metadata": {},
   "outputs": [],
   "source": []
  },
  {
   "cell_type": "code",
   "execution_count": null,
   "id": "4439541b",
   "metadata": {},
   "outputs": [],
   "source": []
  },
  {
   "cell_type": "code",
   "execution_count": null,
   "id": "03e0ee63",
   "metadata": {
    "lines_to_next_cell": 2
   },
   "outputs": [],
   "source": []
  },
  {
   "cell_type": "markdown",
   "id": "767e7aa6",
   "metadata": {},
   "source": [
    "## Path to the root of this repo"
   ]
  },
  {
   "cell_type": "code",
   "execution_count": null,
   "id": "3a370014",
   "metadata": {},
   "outputs": [],
   "source": [
    "ROOT = Path.cwd().parent.parent"
   ]
  },
  {
   "cell_type": "markdown",
   "id": "39215847",
   "metadata": {},
   "source": [
    "## Calculate reddening from Balmer decrement"
   ]
  },
  {
   "cell_type": "code",
   "execution_count": null,
   "id": "ff152e28",
   "metadata": {},
   "outputs": [],
   "source": [
    "# Load the Hα and Hβ maps\n",
    "imha = Image(str(ROOT / \"data/ngc346-PZ-hi-6563-bin01-sum.fits\"))"
   ]
  },
  {
   "cell_type": "code",
   "execution_count": null,
   "id": "ca90cb35",
   "metadata": {},
   "outputs": [],
   "source": [
    "imhb = Image(str(ROOT / \"data/ngc346-PZ-hi-4861-bin01-sum.fits\"))"
   ]
  },
  {
   "cell_type": "markdown",
   "id": "b59f25ee",
   "metadata": {},
   "source": [
    "### Look at the raw Hα/Hβ ratio:"
   ]
  },
  {
   "cell_type": "code",
   "execution_count": null,
   "id": "6e213c81",
   "metadata": {},
   "outputs": [],
   "source": [
    "fig, ax = plt.subplots(figsize=(12, 12))\n",
    "(imha / imhb).plot(vmin=2.7, vmax=3.7, cmap=\"gray\", colorbar=\"v\")"
   ]
  },
  {
   "cell_type": "markdown",
   "id": "7a6863f8",
   "metadata": {},
   "source": [
    "So we see very little structure there, compared with in the ESO pipeline cube case.  In priniciple, lighter means more extinction.  There might be a hint of this at the bottom of the image, where we see possible signs of the foreground filament.\n",
    "\n",
    "But in other parts, we just see the stars (which have a different ratio because of photospheric absorption)"
   ]
  },
  {
   "cell_type": "markdown",
   "id": "ca04c99c",
   "metadata": {},
   "source": [
    "### PyNeb calculation of intrinsic Balmer decrement"
   ]
  },
  {
   "cell_type": "code",
   "execution_count": null,
   "id": "7b6b9817",
   "metadata": {},
   "outputs": [],
   "source": [
    "hi = pn.RecAtom(\"H\", 1)"
   ]
  },
  {
   "cell_type": "markdown",
   "id": "50b76b39",
   "metadata": {},
   "source": [
    "Calculate the theoretical Balmer decrement from PyNeb. Density and temperature from Valerdi:2019a"
   ]
  },
  {
   "cell_type": "code",
   "execution_count": null,
   "id": "24edd0cd",
   "metadata": {},
   "outputs": [],
   "source": [
    "tem, den = 12500, 100\n",
    "R0 = hi.getEmissivity(tem, den, wave=6563) / hi.getEmissivity(tem, den, wave=4861)\n",
    "R0"
   ]
  },
  {
   "cell_type": "markdown",
   "id": "91539ae7",
   "metadata": {},
   "source": [
    "### Look at correlation between Hα and Hβ in the faint limit\n",
    "\n",
    "To make thinks easier, I multiply the Hb values by R0 so we have a square plot.  I zoom in on the faint parts:"
   ]
  },
  {
   "cell_type": "code",
   "execution_count": null,
   "id": "7fc75a94",
   "metadata": {},
   "outputs": [],
   "source": [
    "imax = 100000\n",
    "m = imha.data < imax\n",
    "m = m & (R0 * imhb.data < imax)\n",
    "m = m & ~imha.mask & ~imhb.mask\n",
    "df = pd.DataFrame(\n",
    "    {\n",
    "        \"ha\": imha.data[m],\n",
    "        \"hb\": R0 * imhb.data[m],\n",
    "    }\n",
    ")"
   ]
  },
  {
   "cell_type": "code",
   "execution_count": null,
   "id": "a44d1d85",
   "metadata": {},
   "outputs": [],
   "source": [
    "g = sns.pairplot(\n",
    "    df,\n",
    "    kind=\"hist\",\n",
    "    height=4,\n",
    "    corner=True,\n",
    ")\n",
    "g.axes[1, 0].axvline(0.0, color=\"r\")\n",
    "g.axes[1, 0].axhline(0.0, color=\"r\")\n",
    "g.axes[1, 0].plot([0, imax], [0, imax], \"--\", color=\"r\")\n",
    "g.axes[1, 0].plot([0, imax], [0, 0.9 * imax], \"--\", color=\"r\", linewidth=1.4)\n",
    "g.axes[1, 0].plot([0, imax], [0, 0.8 * imax], \"--\", color=\"r\", linewidth=0.7)\n",
    "g.fig.suptitle(\"Correlation between Ha and Hb brightness\")"
   ]
  },
  {
   "cell_type": "markdown",
   "id": "7f4b7a51",
   "metadata": {},
   "source": [
    "So, the slope is not unity, meaning the extinction is not zero.  But the intercept is zero, which is great. So nothing more to do,"
   ]
  },
  {
   "cell_type": "markdown",
   "id": "5e3cb417",
   "metadata": {},
   "source": [
    "Now define some regions to take averages"
   ]
  },
  {
   "cell_type": "code",
   "execution_count": null,
   "id": "9c48d36d",
   "metadata": {},
   "outputs": [],
   "source": [
    "boxes = {\n",
    "    \"sw filament\": regions.RegionBoundingBox(\n",
    "        iymin=20,\n",
    "        iymax=40,\n",
    "        ixmin=200,\n",
    "        ixmax=310,\n",
    "    ),\n",
    "    \"bow shock\": regions.RegionBoundingBox(\n",
    "        iymin=165,\n",
    "        iymax=205,\n",
    "        ixmin=240,\n",
    "        ixmax=290,\n",
    "    ),\n",
    "    \"w filament\": regions.RegionBoundingBox(\n",
    "        iymin=100,\n",
    "        iymax=130,\n",
    "        ixmin=25,\n",
    "        ixmax=55,\n",
    "    ),\n",
    "    \"c filament\": regions.RegionBoundingBox(\n",
    "        iymin=195,\n",
    "        iymax=210,\n",
    "        ixmin=155,\n",
    "        ixmax=195,\n",
    "    ),\n",
    "}"
   ]
  },
  {
   "cell_type": "markdown",
   "id": "c5a327d0",
   "metadata": {},
   "source": [
    "Plot on a better scale and show the regions:"
   ]
  },
  {
   "cell_type": "code",
   "execution_count": null,
   "id": "e578b69a",
   "metadata": {},
   "outputs": [],
   "source": [
    "fig, ax = plt.subplots(figsize=(12, 12))\n",
    "(imha / (imhb)).plot(\n",
    "    vmin=R0,\n",
    "    vmax=1.5 * R0,\n",
    "    scale=\"linear\",\n",
    "    cmap=\"gray_r\",\n",
    "    colorbar=\"v\",\n",
    ")\n",
    "\n",
    "for box, c in zip(boxes.values(), \"yrmgc\"):\n",
    "    box.plot(\n",
    "        ax=ax,\n",
    "        lw=3,\n",
    "        edgecolor=c,\n",
    "        linestyle=\"dashed\",\n",
    "        #        facecolor=(1.0, 1.0, 1.0, 0.4),\n",
    "        fill=False,\n",
    "    )"
   ]
  },
  {
   "cell_type": "markdown",
   "id": "b55f6a62",
   "metadata": {},
   "source": [
    "We can see some very high extinction at in the S filaments.  And some small increase in extinction in the main diagonal filament.  This is probably limited having foreground emission to some extent.\n",
    "\n",
    "Look at average values in the sample boxes"
   ]
  },
  {
   "cell_type": "code",
   "execution_count": null,
   "id": "0958da3f",
   "metadata": {},
   "outputs": [],
   "source": [
    "for label, box in boxes.items():\n",
    "    (yslice, xslice), _ = box.get_overlap_slices(imha.shape)\n",
    "    ha = np.median(imha[yslice, xslice].data.data)\n",
    "    hb = np.median(imhb[yslice, xslice].data.data)\n",
    "    print(f\"{label}: {ha/hb:.3f}\")"
   ]
  },
  {
   "cell_type": "markdown",
   "id": "6e17c749",
   "metadata": {},
   "source": [
    "I tried mean and median, and it made very little difference.  Lowest in the bow shock region; slightly higher in the west and central filaments.  Even higher in the southwest filament."
   ]
  },
  {
   "cell_type": "markdown",
   "id": "a0196469",
   "metadata": {},
   "source": [
    "### Equivalent widths\n",
    "*New 2024-04-23*"
   ]
  },
  {
   "cell_type": "code",
   "execution_count": null,
   "id": "d8100751",
   "metadata": {},
   "outputs": [],
   "source": [
    "#imnii = Image(str(ROOT / \"data/ngc346-PZ-nii-6583-bin01-sum.fits\"))\n",
    "imcont = Image(str(ROOT / \"data/ngc346-PZ-cont-6312-mean.fits\"))"
   ]
  },
  {
   "cell_type": "markdown",
   "id": "60676e3e",
   "metadata": {},
   "source": [
    "Turns out that we never extracted the N II red lines. And also, the closest continuum we have is S III"
   ]
  },
  {
   "cell_type": "code",
   "execution_count": null,
   "id": "75c48481",
   "metadata": {},
   "outputs": [],
   "source": [
    "ewha = 1.25 * imha / imcont"
   ]
  },
  {
   "cell_type": "code",
   "execution_count": null,
   "id": "6e1a432e",
   "metadata": {},
   "outputs": [],
   "source": [
    "fig, ax = plt.subplots(figsize=(12, 12))\n",
    "(ewha).plot(\n",
    "    vmin=0,\n",
    "    vmax=1000,\n",
    "    scale=\"linear\",\n",
    "    cmap=\"gray_r\",\n",
    "    colorbar=\"v\",\n",
    ")\n",
    "\n",
    "for box, c in zip(boxes.values(), \"yrmgc\"):\n",
    "    box.plot(\n",
    "        ax=ax,\n",
    "        lw=3,\n",
    "        edgecolor=c,\n",
    "        linestyle=\"dashed\",\n",
    "        #        facecolor=(1.0, 1.0, 1.0, 0.4),\n",
    "        fill=False,\n",
    "    )"
   ]
  },
  {
   "cell_type": "code",
   "execution_count": null,
   "id": "0fa23665",
   "metadata": {},
   "outputs": [],
   "source": [
    "for label, box in boxes.items():\n",
    "    (yslice, xslice), _ = box.get_overlap_slices(imha.shape)\n",
    "    ew = np.mean(ewha[yslice, xslice].data.data)\n",
    "    dew = np.std(ewha[yslice, xslice].data.data)\n",
    "    print(f\"{label}: {ew:.3f} +/- {dew:.3f}\")"
   ]
  },
  {
   "cell_type": "code",
   "execution_count": null,
   "id": "17127107",
   "metadata": {},
   "outputs": [],
   "source": []
  },
  {
   "cell_type": "code",
   "execution_count": null,
   "id": "92fa75dc",
   "metadata": {},
   "outputs": [],
   "source": []
  },
  {
   "cell_type": "markdown",
   "id": "e630a9d3",
   "metadata": {},
   "source": [
    "### The reddening law"
   ]
  },
  {
   "cell_type": "code",
   "execution_count": null,
   "id": "f5bada1b",
   "metadata": {
    "lines_to_next_cell": 2
   },
   "outputs": [],
   "source": [
    "pn.RedCorr().getLaws()"
   ]
  },
  {
   "cell_type": "markdown",
   "id": "9b689afa",
   "metadata": {
    "lines_to_next_cell": 2
   },
   "source": [
    "PyNeb does not seem to have anything specifically tailored to the SMC.  The average SMC extinction law is supposedly simply $1/\\lambda$.\n",
    "\n",
    "But, it is possible to get a SMC curve by using the \"F99-like\" option, which uses the curve of Fitzpatrick & Massa 1990, ApJS, 72, 163. This depends on $R_V$ and 6 other parameters (!!!).  Most of the parameters only affect the UV part of the curve, which does not concern us.\n",
    "\n",
    "Then, we can use the average values of $R_V$ and the other parameters, which were fit by Gordon:2003l to SMC stars. This is $R_V = 2.74 \\pm 0.13$.\n",
    "\n",
    "So here I compare that SMC curve with $1/\\lambda$ and with the Clayton curve for Milky Way (but also adjusted to $R_V = 2.74$):"
   ]
  },
  {
   "cell_type": "code",
   "execution_count": null,
   "id": "9a5befef",
   "metadata": {},
   "outputs": [],
   "source": [
    "def A_lam(wave):\n",
    "    return 4861.32 / wave\n",
    "\n",
    "\n",
    "def my_X(wave, params=[]):\n",
    "    \"\"\"A_lam / E(B - V) ~ lam^-1\"\"\"\n",
    "    return A_lam(wave) / (A_lam(4400) - A_lam(5500))\n",
    "\n",
    "\n",
    "rc = pn.RedCorr()\n",
    "rc.UserFunction = my_X\n",
    "rc.R_V = 2.74\n",
    "rc.FitzParams = [-4.96, 2.26, 0.39, 0.6, 4.6, 1.0]\n",
    "f, ax = plt.subplots(figsize=(10, 10))\n",
    "rc.plot(laws=[\"user\", \"F99\", \"CCM89\"], ax=ax)\n",
    "\n",
    "ax.set(\n",
    "    xlim=[4000, 9300],\n",
    "    ylim=[-2.5, 1.0],\n",
    "    #    xlim=[4000, 7000],\n",
    "    #    ylim=[-1, 1],\n",
    ")"
   ]
  },
  {
   "cell_type": "markdown",
   "id": "0baa054d",
   "metadata": {},
   "source": [
    "So the Gordon curve is flatter in the blue, steeper in green, and flatter in red, as compared to $1/\\lambda$."
   ]
  },
  {
   "cell_type": "code",
   "execution_count": null,
   "id": "9d4ddb0c",
   "metadata": {},
   "outputs": [],
   "source": [
    "rc = pn.RedCorr()\n",
    "rc.R_V = 2.74\n",
    "rc.FitzParams = [-4.96, 2.26, 0.39, 0.6, 4.6, 1.0]\n",
    "rc.law = \"F99\""
   ]
  },
  {
   "cell_type": "markdown",
   "id": "969f1fd6",
   "metadata": {},
   "source": [
    "Test it out for the bow shock region:"
   ]
  },
  {
   "cell_type": "code",
   "execution_count": null,
   "id": "5f1f74fb",
   "metadata": {},
   "outputs": [],
   "source": [
    "rc.setCorr(obs_over_theo=3.123 / R0, wave1=6563.0, wave2=4861.0)\n",
    "rc.E_BV, rc.cHbeta"
   ]
  },
  {
   "cell_type": "markdown",
   "id": "3c12b128",
   "metadata": {},
   "source": [
    "And for the highest extinction region"
   ]
  },
  {
   "cell_type": "code",
   "execution_count": null,
   "id": "7fc683f1",
   "metadata": {},
   "outputs": [],
   "source": [
    "rc.setCorr(obs_over_theo=4.165 / R0, wave1=6563.0, wave2=4861.0)\n",
    "rc.E_BV, rc.cHbeta"
   ]
  },
  {
   "cell_type": "markdown",
   "id": "20e434e6",
   "metadata": {},
   "source": [
    "So $E(B - V)$ varies from about 0.1 to about 0.35. This is similar to what is found for the stars."
   ]
  },
  {
   "cell_type": "markdown",
   "id": "3de750db",
   "metadata": {},
   "source": [
    "### The reddening map\n",
    "\n",
    "We can now make a map of $E(B - V)$"
   ]
  },
  {
   "cell_type": "code",
   "execution_count": null,
   "id": "9bf3fc75",
   "metadata": {},
   "outputs": [],
   "source": [
    "R = imha / (imhb)\n",
    "rc.setCorr(obs_over_theo=R.data / R0, wave1=6563.0, wave2=4861.0)\n",
    "imEBV = R.copy()\n",
    "imEBV.data = rc.E_BV\n",
    "imEBV.mask = imha.mask | imhb.mask"
   ]
  },
  {
   "cell_type": "code",
   "execution_count": null,
   "id": "041bcc43",
   "metadata": {},
   "outputs": [],
   "source": [
    "fig, ax = plt.subplots(figsize=(12, 12))\n",
    "imEBV.rebin(4).plot(\n",
    "    vmin=0.0,\n",
    "    vmax=1.0,\n",
    "    scale=\"linear\",\n",
    "    cmap=\"magma_r\",\n",
    "    colorbar=\"v\",\n",
    ")"
   ]
  },
  {
   "cell_type": "markdown",
   "id": "1143255c",
   "metadata": {},
   "source": [
    "Looks like I would expect. Check values in the boxes:"
   ]
  },
  {
   "cell_type": "code",
   "execution_count": null,
   "id": "9dd2d1f5",
   "metadata": {},
   "outputs": [],
   "source": [
    "for label, box in boxes.items():\n",
    "    yslice, xslice = box.slices\n",
    "    ebv = np.median(imEBV[yslice, xslice].data.data)\n",
    "    print(f\"{label}: {ebv:.3f}\")"
   ]
  },
  {
   "cell_type": "markdown",
   "id": "46fd9898",
   "metadata": {},
   "source": [
    "These seem the same as before.  But we want to eliminate extreme values."
   ]
  },
  {
   "cell_type": "code",
   "execution_count": null,
   "id": "42c685e5",
   "metadata": {},
   "outputs": [],
   "source": [
    "badpix = (imEBV.data > 1.0) | (imEBV.data < 0.0)\n",
    "imEBV.mask = imEBV.mask | badpix"
   ]
  },
  {
   "cell_type": "markdown",
   "id": "81c6aefa",
   "metadata": {},
   "source": [
    "Save it to a file:"
   ]
  },
  {
   "cell_type": "code",
   "execution_count": null,
   "id": "ae215530",
   "metadata": {},
   "outputs": [],
   "source": [
    "imEBV.write(str(ROOT / \"data/ngc346-PZ-reddening-E_BV.fits\"), savemask=\"nan\")"
   ]
  },
  {
   "cell_type": "markdown",
   "id": "90638c55",
   "metadata": {},
   "source": [
    "Lots of regions are affected by the stellar absorption.  There are apparent increases in reddening at the position of each star.  This is not real, but is due to the photospheric absorption having more of an effect on Hb (mainly because the emission line is weaker).\n",
    "\n",
    "At some point, I am going to have to deal with that. But it is not an issue for the bow shock emission, since this is in an area free of stars.  We should just use the median bow shock reddening of $E(B-V) = 0.097$ so that we don't introduce any extra noise."
   ]
  },
  {
   "cell_type": "code",
   "execution_count": null,
   "id": "212ea3b2",
   "metadata": {},
   "outputs": [],
   "source": [
    "rc.E_BV = 0.097\n",
    "wavs = np.arange(4600, 9300)\n",
    "Alam = rc.E_BV * rc.X(wavs)\n",
    "\n",
    "fig, ax = plt.subplots(figsize=(12, 5))\n",
    "ax.plot(wavs, Alam)\n",
    "ax.set(\n",
    "    xlabel=\"Wavelength, $\\lambda$, Å\",\n",
    "    ylabel=\"Extinction, $A_\\lambda$, mag\",\n",
    "    title=f\"Extinction curve for $E(B - V) = {rc.E_BV:.3f}$\",\n",
    ")\n",
    "sns.despine()"
   ]
  },
  {
   "cell_type": "markdown",
   "id": "9f61d4ba",
   "metadata": {},
   "source": [
    "## Calculate the [S III] temperature"
   ]
  },
  {
   "cell_type": "code",
   "execution_count": null,
   "id": "8a7fb1c5",
   "metadata": {},
   "outputs": [],
   "source": [
    "im6312 = Image(str(ROOT / \"data/ngc346-PZ-siii-6312-bin01-sum.fits\"))\n",
    "im9069 = Image(str(ROOT / \"data/ngc346-PZ-siii-9069-bin01-sum.fits\"))\n",
    "cont6312 = Image(str(ROOT / \"data/ngc346-PZ-cont-6312-mean.fits\"))"
   ]
  },
  {
   "cell_type": "markdown",
   "id": "f2f445a3",
   "metadata": {},
   "source": [
    "The raw ratio:"
   ]
  },
  {
   "cell_type": "code",
   "execution_count": null,
   "id": "8b16d271",
   "metadata": {},
   "outputs": [],
   "source": [
    "fig, ax = plt.subplots(figsize=(12, 12))\n",
    "(im6312 / im9069).plot(vmin=0.08, vmax=0.15, cmap=\"gray\", colorbar=\"v\")"
   ]
  },
  {
   "cell_type": "markdown",
   "id": "c9102903",
   "metadata": {},
   "source": [
    "That does not look too bad. But we will look at the joint distro anyway."
   ]
  },
  {
   "cell_type": "code",
   "execution_count": null,
   "id": "b53d23be",
   "metadata": {},
   "outputs": [],
   "source": [
    "imax = 15000\n",
    "slope = 0.1\n",
    "m = im9069.data < imax\n",
    "m = m & (im9069.data > -100)\n",
    "m = m & (im6312.data < slope * imax)\n",
    "m = m & ~im9069.mask & ~im6312.mask\n",
    "df = pd.DataFrame(\n",
    "    {\n",
    "        \"9069\": im9069.data[m],\n",
    "        \"6312\": im6312.data[m],\n",
    "    }\n",
    ")"
   ]
  },
  {
   "cell_type": "code",
   "execution_count": null,
   "id": "d24419e7",
   "metadata": {},
   "outputs": [],
   "source": [
    "g = sns.pairplot(\n",
    "    df,\n",
    "    kind=\"hist\",\n",
    "    height=4,\n",
    "    corner=True,\n",
    ")\n",
    "\n",
    "g.axes[1, 0].axvline(0.0, color=\"r\")\n",
    "g.axes[1, 0].axhline(0.0, color=\"r\")\n",
    "g.axes[1, 0].plot([0, imax], [0, slope * imax], \"--\", color=\"r\")\n",
    "g.fig.suptitle(\"Correlation between [S III] 9069 and 6312 brightness\")"
   ]
  },
  {
   "cell_type": "markdown",
   "id": "a48963c6",
   "metadata": {},
   "source": [
    "Nothing needs to get added to anything. "
   ]
  },
  {
   "cell_type": "code",
   "execution_count": null,
   "id": "8c4aa9a2",
   "metadata": {},
   "outputs": [],
   "source": [
    "imax = 5000\n",
    "slope = 0.1\n",
    "x = im9069.data\n",
    "y = im6312.data\n",
    "m = x < imax\n",
    "m = m & (x > -100)\n",
    "m = m & (y < 1.2 * slope * imax)\n",
    "m = m & ~im9069.mask & ~im6312.mask\n",
    "df = pd.DataFrame(\n",
    "    {\n",
    "        \"9069\": x[m],\n",
    "        \"6312\": y[m],\n",
    "    }\n",
    ")"
   ]
  },
  {
   "cell_type": "code",
   "execution_count": null,
   "id": "89aab688",
   "metadata": {},
   "outputs": [],
   "source": [
    "g = sns.pairplot(\n",
    "    df,\n",
    "    kind=\"hist\",\n",
    "    height=4,\n",
    "    corner=True,\n",
    ")\n",
    "\n",
    "g.axes[1, 0].axvline(0.0, color=\"r\")\n",
    "g.axes[1, 0].axhline(0.0, color=\"r\")\n",
    "g.axes[1, 0].plot([0, imax], [0, slope * imax], \"--\", color=\"r\")\n",
    "g.axes[1, 0].plot([0, imax], [0, 1.2 * slope * imax], \"--\", color=\"r\")\n",
    "g.fig.suptitle(\"ZOOMED Correlation between [S III] 9069 and 6312 brightness\")"
   ]
  },
  {
   "cell_type": "markdown",
   "id": "1a41ee29",
   "metadata": {},
   "source": [
    "Now we need to correct for reddening."
   ]
  },
  {
   "cell_type": "code",
   "execution_count": null,
   "id": "c2177ec9",
   "metadata": {},
   "outputs": [],
   "source": [
    "A9069 = rc.X(9069) * imEBV\n",
    "im9069c = im9069.copy()\n",
    "im9069c.data = im9069.data * 10 ** (0.4 * A9069.data)"
   ]
  },
  {
   "cell_type": "code",
   "execution_count": null,
   "id": "d13cf085",
   "metadata": {},
   "outputs": [],
   "source": [
    "A6312 = rc.X(6312) * imEBV\n",
    "im6312c = im6312.copy()\n",
    "im6312c.data = (im6312.data) * 10 ** (0.4 * A6312.data)"
   ]
  },
  {
   "cell_type": "code",
   "execution_count": null,
   "id": "adaa93d2",
   "metadata": {},
   "outputs": [],
   "source": [
    "n = 1\n",
    "fig, ax = plt.subplots(figsize=(12, 12))\n",
    "(im6312c.rebin(n) / im9069c.rebin(n)).plot(\n",
    "    vmin=0.1, vmax=0.15, cmap=\"magma\", colorbar=\"v\"\n",
    ")"
   ]
  },
  {
   "cell_type": "code",
   "execution_count": null,
   "id": "5a781544",
   "metadata": {},
   "outputs": [],
   "source": [
    "n = 4\n",
    "x = np.log10(im9069c.rebin(n).data)\n",
    "y = np.log10(im6312c.rebin(n).data / im9069c.rebin(n).data)\n",
    "m = (x > 3.0) & (x < 4.5)\n",
    "m = m & (y > -1.05) & (y < -0.75)\n",
    "m = m & ~im9069c.rebin(n).mask & ~im6312c.rebin(n).mask\n",
    "df = pd.DataFrame(\n",
    "    {\n",
    "        \"log10 9069\": x[m],\n",
    "        \"log 10 6312/9069\": y[m],\n",
    "    }\n",
    ")\n",
    "g = sns.pairplot(\n",
    "    df,\n",
    "    kind=\"hist\",\n",
    "    height=4,\n",
    "    corner=True,\n",
    ")"
   ]
  },
  {
   "cell_type": "markdown",
   "id": "41eb95c4",
   "metadata": {},
   "source": [
    "This is totally different from what we got from the ESO cube.  This version is much more reliable, since with the other one we had no idea where the zeropoint was"
   ]
  },
  {
   "cell_type": "markdown",
   "id": "0cfd2bdc",
   "metadata": {},
   "source": [
    "Now, make a mask of EW(6312).  But first, we need to correct the zero point of the continuum."
   ]
  },
  {
   "cell_type": "code",
   "execution_count": null,
   "id": "d2b6ad60",
   "metadata": {},
   "outputs": [],
   "source": [
    "im6312_zero = 0.0\n",
    "cont6312_zero = 0.0\n",
    "imax = 600\n",
    "x = im6312.data - im6312_zero\n",
    "y = cont6312.data - cont6312_zero\n",
    "m = x < imax\n",
    "m = m & (x > 100)\n",
    "m = m & (y < 300) & (y > 100)\n",
    "m = m & ~cont6312.mask & ~im6312.mask\n",
    "df = pd.DataFrame(\n",
    "    {\n",
    "        \"6312\": x[m],\n",
    "        \"cont\": y[m],\n",
    "    }\n",
    ")\n",
    "g = sns.pairplot(\n",
    "    df,\n",
    "    kind=\"hist\",\n",
    "    height=4,\n",
    "    corner=True,\n",
    ")\n",
    "\n",
    "g.axes[1, 0].axvline(0.0, color=\"r\")\n",
    "g.axes[1, 0].axhline(0.0, color=\"r\")"
   ]
  },
  {
   "cell_type": "code",
   "execution_count": null,
   "id": "c1412841",
   "metadata": {},
   "outputs": [],
   "source": [
    "fig, ax = plt.subplots(figsize=(10, 10))\n",
    "ew6312 = 1.25 * (im6312 - im6312_zero) / (cont6312 - cont6312_zero)\n",
    "ew6312.plot(vmin=1.0, vmax=5.0, scale=\"sqrt\")\n",
    "ax.contour(ew6312.data, levels=[0.5], colors=\"r\", linewidths=3)\n",
    "ax.contour(im9069.data, levels=[6000.0], colors=\"k\", linewidths=1)"
   ]
  },
  {
   "cell_type": "code",
   "execution_count": null,
   "id": "d9f1548b",
   "metadata": {},
   "outputs": [],
   "source": [
    "fixmask = (ew6312.data < 1.0) | (im9069.data < 3000.0)\n",
    "fixmask = fixmask & (im6312c.data < 0.1 * im9069c.data)\n",
    "fixmask = fixmask & (im6312c.data > 0.2 * im9069c.data)\n",
    "iborder = 12\n",
    "fixmask[:iborder, :] = True\n",
    "fixmask[-iborder:, :] = True\n",
    "fixmask[:, :iborder] = True\n",
    "fixmask[:, -iborder:] = True"
   ]
  },
  {
   "cell_type": "code",
   "execution_count": null,
   "id": "070bb93e",
   "metadata": {},
   "outputs": [],
   "source": [
    "im6312c.mask = im6312c.mask | fixmask"
   ]
  },
  {
   "cell_type": "code",
   "execution_count": null,
   "id": "5e4564a4",
   "metadata": {},
   "outputs": [],
   "source": [
    "n = 1\n",
    "fig, ax = plt.subplots(figsize=(12, 12))\n",
    "(im6312c.rebin(n) / im9069c.rebin(n)).plot(\n",
    "    vmin=0.1, vmax=0.15, cmap=\"magma\", colorbar=\"v\"\n",
    ")"
   ]
  },
  {
   "cell_type": "markdown",
   "id": "ab8e81ef",
   "metadata": {},
   "source": [
    "Honestly, this looks identical to the last one. So I do not know what I am even doing here. "
   ]
  },
  {
   "cell_type": "code",
   "execution_count": null,
   "id": "55ad532a",
   "metadata": {},
   "outputs": [],
   "source": [
    "n = 4\n",
    "x = np.log10(im9069c.rebin(n).data)\n",
    "y = np.log10(im6312c.rebin(n).data / im9069c.rebin(n).data)\n",
    "z = im9069c.rebin(n).data\n",
    "m = (x > 2.5) & (x < 5.5)\n",
    "m = m & (y > -1.1) & (y < -0.6)\n",
    "m = m & ~im9069c.rebin(n).mask & ~im6312c.rebin(n).mask\n",
    "df = pd.DataFrame(\n",
    "    {\n",
    "        \"log10 9069\": x[m],\n",
    "        \"log 10 6312/9069\": y[m],\n",
    "    }\n",
    ")\n",
    "kws = dict(weights=z[m], bins=30)\n",
    "g = sns.pairplot(\n",
    "    df,\n",
    "    kind=\"hist\",\n",
    "    height=4,\n",
    "    corner=True,\n",
    "    plot_kws=kws,\n",
    "    diag_kws=kws,\n",
    ")"
   ]
  },
  {
   "cell_type": "markdown",
   "id": "7028f907",
   "metadata": {},
   "source": [
    "### Convert to actual temperatures with pyneb"
   ]
  },
  {
   "cell_type": "code",
   "execution_count": null,
   "id": "593cfb90",
   "metadata": {},
   "outputs": [],
   "source": [
    "s3 = pn.Atom(\"S\", 3)"
   ]
  },
  {
   "cell_type": "code",
   "execution_count": null,
   "id": "e781158a",
   "metadata": {},
   "outputs": [],
   "source": [
    "s3.getTemDen([0.1, 0.2], den=100.0, wave1=6300, wave2=9069)"
   ]
  },
  {
   "cell_type": "code",
   "execution_count": null,
   "id": "f034913c",
   "metadata": {},
   "outputs": [],
   "source": [
    "r_s3_grid = np.linspace(0.05, 0.25, 201)\n",
    "T_s3_grid = s3.getTemDen(r_s3_grid, den=100.0, wave1=6300, wave2=9069)"
   ]
  },
  {
   "cell_type": "code",
   "execution_count": null,
   "id": "66bd7673",
   "metadata": {},
   "outputs": [],
   "source": [
    "imT_siii = im6312c.clone(data_init=np.empty)\n",
    "imT_siii.data[~fixmask] = np.interp(\n",
    "    im6312c.data[~fixmask] / im9069c.data[~fixmask],\n",
    "    r_s3_grid,\n",
    "    T_s3_grid,\n",
    "    left=np.nan,\n",
    "    right=np.nan,\n",
    ")\n",
    "# imT_siii.mask = imT_siii.mask | fixmask\n",
    "# imT_siii.data[imT_siii.mask] = np.nan"
   ]
  },
  {
   "cell_type": "code",
   "execution_count": null,
   "id": "46b4ea0f",
   "metadata": {},
   "outputs": [],
   "source": [
    "fig, ax = plt.subplots(figsize=(12, 12))\n",
    "imT_siii.rebin(2).plot(colorbar=\"v\", cmap=\"hot\", vmin=12000, vmax=16000)"
   ]
  },
  {
   "cell_type": "code",
   "execution_count": null,
   "id": "4e65c381",
   "metadata": {},
   "outputs": [],
   "source": [
    "badpix = ~np.isfinite(imT_siii.data)\n",
    "imT_siii.mask = imT_siii.mask | badpix"
   ]
  },
  {
   "cell_type": "code",
   "execution_count": null,
   "id": "86f12b5e",
   "metadata": {},
   "outputs": [],
   "source": [
    "imT_siii.write(str(ROOT / \"data/ngc346-PZ-T-siii.fits\"), savemask=\"nan\")"
   ]
  },
  {
   "cell_type": "markdown",
   "id": "818c64f1",
   "metadata": {},
   "source": [
    "The rather disappointing conclusion of this is that the [S III] temperatures do vary from about 13 to 16 kK, but they don't show anything special at the bow shock, being about 13.7 +/- 0.4 kK there.\n",
    "\n",
    "If anything, the T is lower in the bow shock.\n",
    "\n",
    "Average over whole FOV is 14.2 +/- 0.8 kK after smoothing to eliminate the noise contribution.  This implies $t^2 = 0.003$ in plane of sky, which is small."
   ]
  },
  {
   "cell_type": "markdown",
   "id": "4b6d95bd",
   "metadata": {},
   "source": [
    "## Calculate [O III]/[S III]"
   ]
  },
  {
   "cell_type": "code",
   "execution_count": null,
   "id": "c9c1a556",
   "metadata": {},
   "outputs": [],
   "source": [
    "im5007 = Image(str(ROOT / \"data/ngc346-PZ-oiii-5007-bin01-sum.fits\"))"
   ]
  },
  {
   "cell_type": "markdown",
   "id": "51b949ce",
   "metadata": {},
   "source": [
    "Correct for extinction:"
   ]
  },
  {
   "cell_type": "code",
   "execution_count": null,
   "id": "e59345b4",
   "metadata": {},
   "outputs": [],
   "source": [
    "A5007 = rc.X(5007) * imEBV\n",
    "im5007c = im5007.copy()\n",
    "im5007c.data = im5007.data * 10 ** (0.4 * A5007.data)"
   ]
  },
  {
   "cell_type": "code",
   "execution_count": null,
   "id": "463c9d30",
   "metadata": {},
   "outputs": [],
   "source": [
    "median_EBV = np.median(imEBV[150:250, 200:300].data)\n",
    "median_EBV"
   ]
  },
  {
   "cell_type": "code",
   "execution_count": null,
   "id": "7112f93a",
   "metadata": {},
   "outputs": [],
   "source": [
    "im5007cc = im5007.copy()\n",
    "im5007cc.data = im5007.data * 10 ** (0.4 * rc.X(5007) * median_EBV)\n",
    "im9069cc = im9069.copy()\n",
    "im9069cc.data = im9069.data * 10 ** (0.4 * rc.X(9069) * median_EBV)"
   ]
  },
  {
   "cell_type": "markdown",
   "id": "ed6a20ee",
   "metadata": {},
   "source": [
    "Quick look:"
   ]
  },
  {
   "cell_type": "code",
   "execution_count": null,
   "id": "cef88fbc",
   "metadata": {},
   "outputs": [],
   "source": [
    "fig, axes = plt.subplots(1, 2, sharey=True, figsize=(12, 6))\n",
    "((im5007cc) / im9069cc).plot(\n",
    "    vmin=10,\n",
    "    vmax=55,\n",
    "    colorbar=\"v\",\n",
    "    scale=\"linear\",\n",
    "    cmap=\"Purples\",\n",
    "    ax=axes[0],\n",
    ")\n",
    "((im5007c) / im9069c).plot(\n",
    "    vmin=10,\n",
    "    vmax=55,\n",
    "    colorbar=\"v\",\n",
    "    scale=\"linear\",\n",
    "    cmap=\"Purples\",\n",
    "    ax=axes[1],\n",
    ")"
   ]
  },
  {
   "cell_type": "markdown",
   "id": "2174a0ee",
   "metadata": {},
   "source": [
    "The left panel is with a median reddening. The right panel is with a pixel-by-pixel reddening but that fails at the position of stars. "
   ]
  },
  {
   "cell_type": "markdown",
   "id": "382e43ad",
   "metadata": {},
   "source": [
    "Check zero points:"
   ]
  },
  {
   "cell_type": "code",
   "execution_count": null,
   "id": "6002e358",
   "metadata": {},
   "outputs": [],
   "source": [
    "imax = 15000\n",
    "imin = 2000\n",
    "slope = 45\n",
    "slope2 = 35\n",
    "x = im9069cc.data\n",
    "y = im5007cc.data\n",
    "m = x < imax\n",
    "m = m & (x > imin)\n",
    "m = m & (y < slope * imax)\n",
    "m = m & (y > slope * imin)\n",
    "m = m & ~im9069c.mask & ~im5007c.mask\n",
    "df = pd.DataFrame(\n",
    "    {\n",
    "        \"9069\": x[m],\n",
    "        \"5007\": y[m],\n",
    "    }\n",
    ")\n",
    "g = sns.pairplot(\n",
    "    df,\n",
    "    kind=\"hist\",\n",
    "    height=4,\n",
    "    corner=True,\n",
    ")\n",
    "# g.axes[1, 0].axvline(0.0, color=\"r\")\n",
    "# g.axes[1, 0].axhline(0.0, color=\"r\")\n",
    "g.axes[1, 0].plot([0, imax], [0, slope * imax], \"--\", color=\"r\")\n",
    "g.axes[1, 0].plot([0, imax], [0, slope2 * imax], \"--\", color=\"r\")\n",
    "g.fig.suptitle(\"Correlation between [S III] 9069 and [O III] 5007 brightness\")"
   ]
  },
  {
   "cell_type": "code",
   "execution_count": null,
   "id": "38e25b9c",
   "metadata": {},
   "outputs": [],
   "source": [
    "slope = 45\n",
    "slope2 = 35\n",
    "x = im9069cc.data\n",
    "y = im5007cc.data\n",
    "m = x > imin\n",
    "m = m & (y > 10 * x) & (y < 60 * x)\n",
    "m = m & ~im9069cc.mask & ~im5007cc.mask\n",
    "df = pd.DataFrame(\n",
    "    {\n",
    "        \"log 9069\": np.log10(x[m]),\n",
    "        \"log 5007/9069\": np.log10(y[m] / x[m]),\n",
    "    }\n",
    ")\n",
    "g = sns.pairplot(\n",
    "    df,\n",
    "    kind=\"hist\",\n",
    "    height=4,\n",
    "    corner=True,\n",
    ")\n",
    "g.fig.suptitle(\"Correlation between [S III] 9069 and [O III] / [S III] ratio\")"
   ]
  },
  {
   "cell_type": "code",
   "execution_count": null,
   "id": "c18bcf44",
   "metadata": {},
   "outputs": [],
   "source": [
    "imR_oiii_siii = (im5007cc) / im9069cc\n",
    "imR_oiii_siii.write(\n",
    "    str(ROOT / \"data/ngc346-PZ-R-oiii-5007-siii-9069.fits\"), savemask=\"nan\"\n",
    ")"
   ]
  },
  {
   "cell_type": "markdown",
   "id": "95046940",
   "metadata": {},
   "source": [
    "## Calculate [O III] / Hβ\n",
    "\n",
    "This might be better since at least it is not affected by reddening."
   ]
  },
  {
   "cell_type": "code",
   "execution_count": null,
   "id": "6102977d",
   "metadata": {},
   "outputs": [],
   "source": [
    "imax = 60000\n",
    "imin = 2000\n",
    "slope = 5.0\n",
    "slope2 = 6.0\n",
    "x = imhb.data\n",
    "y = im5007.data\n",
    "m = x < imax\n",
    "m = m & (x > imin)\n",
    "m = m & (y < slope * imax)\n",
    "m = m & (y > slope * imin)\n",
    "m = m & ~imhb.mask & ~im5007.mask\n",
    "df = pd.DataFrame(\n",
    "    {\n",
    "        \"4861\": x[m],\n",
    "        \"5007\": y[m],\n",
    "    }\n",
    ")\n",
    "g = sns.pairplot(\n",
    "    df,\n",
    "    kind=\"hist\",\n",
    "    height=4,\n",
    "    corner=True,\n",
    ")\n",
    "g.axes[1, 0].plot([0, imax], [0, slope * imax], \"--\", color=\"r\")\n",
    "g.axes[1, 0].plot([0, imax], [0, slope2 * imax], \"--\", color=\"r\")\n",
    "g.fig.suptitle(\"Correlation between Hβ 4861 and [O III] 5007 brightness\")"
   ]
  },
  {
   "cell_type": "code",
   "execution_count": null,
   "id": "85be26dc",
   "metadata": {},
   "outputs": [],
   "source": [
    "n = 1\n",
    "x = imhb.rebin(n).data\n",
    "y = im5007.rebin(n).data\n",
    "m = (x > imin) & (y > x) & (y < 10 * x)\n",
    "m = m & ~imhb.rebin(n).mask & ~im5007.rebin(n).mask\n",
    "df = pd.DataFrame(\n",
    "    {\n",
    "        \"log10(4861)\": np.log10(x[m]),\n",
    "        \"log10(5007 / 4861)\": np.log10(y[m] / x[m]),\n",
    "    }\n",
    ")\n",
    "g = sns.pairplot(\n",
    "    df,\n",
    "    kind=\"hist\",\n",
    "    height=4,\n",
    "    corner=True,\n",
    ")\n",
    "g.fig.suptitle(\"Correlation between Hβ 4861 and [O III] / Hβ ratio\")"
   ]
  },
  {
   "cell_type": "code",
   "execution_count": null,
   "id": "7bfbdfe4",
   "metadata": {},
   "outputs": [],
   "source": [
    "imR_oiii_hb = (im5007) / (imhb)\n",
    "imR_oiii_hb.write(str(ROOT / \"data/ngc346-PZ-R-oiii-5007-hi-4861.fits\"), savemask=\"nan\")"
   ]
  },
  {
   "cell_type": "code",
   "execution_count": null,
   "id": "e208ec48",
   "metadata": {},
   "outputs": [],
   "source": [
    "im4740 = Image(str(ROOT / \"data/ngc346-PZ-ariv-4740-bin01-sum.fits\"))"
   ]
  },
  {
   "cell_type": "code",
   "execution_count": null,
   "id": "1efed404",
   "metadata": {},
   "outputs": [],
   "source": [
    "from astropy.convolution import convolve_fft\n",
    "from astropy.convolution import Gaussian2DKernel"
   ]
  },
  {
   "cell_type": "code",
   "execution_count": null,
   "id": "ff6325fd",
   "metadata": {},
   "outputs": [],
   "source": [
    "im = convolve_fft(im4740.data, Gaussian2DKernel(5.0))"
   ]
  },
  {
   "cell_type": "code",
   "execution_count": null,
   "id": "22f820b8",
   "metadata": {},
   "outputs": [],
   "source": [
    "fig, axes = plt.subplots(1, 2, sharey=True, figsize=(12, 6))\n",
    "imR_oiii_siii.plot(\n",
    "    vmin=10,\n",
    "    vmax=55,\n",
    "    colorbar=\"v\",\n",
    "    scale=\"linear\",\n",
    "    ax=axes[0],\n",
    "    cmap=\"Purples\",\n",
    ")\n",
    "imR_oiii_hb.plot(\n",
    "    vmin=2,\n",
    "    vmax=6.5,\n",
    "    colorbar=\"v\",\n",
    "    scale=\"linear\",\n",
    "    ax=axes[1],\n",
    "    cmap=\"Greens\",\n",
    ")\n",
    "for ax in axes:\n",
    "    ax.contour(im, levels=[200, 250, 300], linewidths=1, colors=\"y\")\n",
    "axes[0].set_title(\"[O III] / [S III]\")\n",
    "axes[1].set_title(\"[O III] / Hβ\")"
   ]
  },
  {
   "cell_type": "markdown",
   "id": "f74817f0",
   "metadata": {},
   "source": [
    "So, the bow shock shows up much better in [O III]/[S III] than it does in [O III]/Hb.  This implies that it must be a lack of [S III], rather than an excess of [O III] that characterises the bow shock."
   ]
  },
  {
   "cell_type": "code",
   "execution_count": null,
   "id": "fc53e9a4",
   "metadata": {},
   "outputs": [],
   "source": []
  },
  {
   "cell_type": "markdown",
   "id": "3f6477fe",
   "metadata": {},
   "source": [
    "## Calculate He I / Hβ\n",
    "\n",
    "Let us see if this has a hole in it where the He II is coming from."
   ]
  },
  {
   "cell_type": "code",
   "execution_count": null,
   "id": "03c78e6f",
   "metadata": {},
   "outputs": [],
   "source": [
    "im5875 = Image(str(ROOT / \"data/ngc346-PZ-hei-5875-bin01-sum.fits\"))\n",
    "im4922 = Image(str(ROOT / \"data/ngc346-PZ-hei-4922-bin01-sum.fits\"))\n",
    "im5048 = Image(str(ROOT / \"data/ngc346-PZ-hei-5048-bin01-sum.fits\"))"
   ]
  },
  {
   "cell_type": "code",
   "execution_count": null,
   "id": "fee092c7",
   "metadata": {},
   "outputs": [],
   "source": [
    "fig, axes = plt.subplots(2, 2, sharey=True, figsize=(12, 12))\n",
    "im5875.plot(ax=axes[0, 0], vmin=0, vmax=7500)\n",
    "im4922.plot(ax=axes[0, 1], vmin=0, vmax=400)\n",
    "(imhb).plot(ax=axes[1, 0], vmin=0, vmax=60000)\n",
    "im5048.plot(ax=axes[1, 1], vmin=0, vmax=200)\n",
    "axes[0, 0].set_title(\"He I 5875\")\n",
    "axes[0, 1].set_title(\"He I 4922\")\n",
    "axes[1, 0].set_title(\"H I 4861\")\n",
    "axes[1, 1].set_title(\"He I 5048\")"
   ]
  },
  {
   "cell_type": "markdown",
   "id": "114d83f5",
   "metadata": {},
   "source": [
    "So 5875 is 10 to 100 times brighter than the other two. And it is almost identical to Hβ!"
   ]
  },
  {
   "cell_type": "code",
   "execution_count": null,
   "id": "39041af5",
   "metadata": {},
   "outputs": [],
   "source": [
    "imax = 30000\n",
    "imin = 1000\n",
    "slope = 0.12\n",
    "x = imhb.data\n",
    "y = im5875.data\n",
    "m = x < imax\n",
    "m = m & (x > imin)\n",
    "m = m & (y < slope * imax)\n",
    "m = m & (y > imin * slope)\n",
    "m = m & ~imhb.mask & ~im5875.mask\n",
    "df = pd.DataFrame(\n",
    "    {\n",
    "        \"4861\": x[m],\n",
    "        \"5875\": y[m],\n",
    "    }\n",
    ")\n",
    "g = sns.pairplot(\n",
    "    df,\n",
    "    kind=\"hist\",\n",
    "    height=4,\n",
    "    corner=True,\n",
    "    plot_kws=dict(weights=x[m], bins=200),\n",
    "    diag_kws=dict(weights=x[m], bins=200),\n",
    ")\n",
    "g.axes[1, 0].axvline(0.0, color=\"r\")\n",
    "g.axes[1, 0].axhline(0.0, color=\"r\")\n",
    "g.axes[1, 0].plot([0, imax], [0, slope * imax], \"--\", color=\"r\")\n",
    "g.fig.suptitle(\"Correlation between Hβ 4861 and He I 5875 brightness\")"
   ]
  },
  {
   "cell_type": "code",
   "execution_count": null,
   "id": "d2d3b8e0",
   "metadata": {},
   "outputs": [],
   "source": [
    "imax = 100000\n",
    "imin = 1000\n",
    "slope = 0.12\n",
    "x = imhb.data\n",
    "y = im5875.data\n",
    "m = x < imax\n",
    "m = m & (x > imin)\n",
    "m = m & (y < slope * imax)\n",
    "m = m & (y > imin * slope)\n",
    "m = m & ~imhb.mask & ~im5875.mask\n",
    "df = pd.DataFrame(\n",
    "    {\n",
    "        \"4861\": x[m],\n",
    "        \"5875\": y[m],\n",
    "    }\n",
    ")\n",
    "g = sns.pairplot(\n",
    "    df,\n",
    "    kind=\"hist\",\n",
    "    height=4,\n",
    "    corner=True,\n",
    "    plot_kws=dict(weights=x[m], bins=200),\n",
    "    diag_kws=dict(weights=x[m], bins=200),\n",
    ")\n",
    "g.axes[1, 0].axvline(0.0, color=\"r\")\n",
    "g.axes[1, 0].axhline(0.0, color=\"r\")\n",
    "g.axes[1, 0].plot([0, imax], [0, slope * imax], \"--\", color=\"r\")\n",
    "g.fig.suptitle(\"Correlation between Hβ 4861 and He I 5875 brightness\")"
   ]
  },
  {
   "cell_type": "code",
   "execution_count": null,
   "id": "08395c2a",
   "metadata": {},
   "outputs": [],
   "source": [
    "imR_hei_hb = im5875 / (imhb)"
   ]
  },
  {
   "cell_type": "code",
   "execution_count": null,
   "id": "04a9ab1a",
   "metadata": {},
   "outputs": [],
   "source": [
    "fig, ax = plt.subplots(figsize=(12, 12))\n",
    "imR_hei_hb.plot(colorbar=\"v\", cmap=\"gray\", vmin=0.11, vmax=0.14)"
   ]
  },
  {
   "cell_type": "code",
   "execution_count": null,
   "id": "7f613824",
   "metadata": {},
   "outputs": [],
   "source": [
    "red_R_hei_hb = imR_hei_hb.copy()\n",
    "red_R_hei_hb.data = 10 ** (0.4 * imEBV.data * (rc.X(4861) - rc.X(5875)))"
   ]
  },
  {
   "cell_type": "code",
   "execution_count": null,
   "id": "2a775f98",
   "metadata": {},
   "outputs": [],
   "source": [
    "fig, ax = plt.subplots(figsize=(12, 12))\n",
    "(imR_hei_hb / red_R_hei_hb).plot(colorbar=\"v\", cmap=\"gray\", vmin=0.1, vmax=0.115)"
   ]
  },
  {
   "cell_type": "markdown",
   "id": "6941b159",
   "metadata": {},
   "source": [
    "So if we correct it for reddening, then lots of spurious structure disappears.  But we are left with very little variation at all, except for at the mYSO and the top right corner, which both show low He I."
   ]
  },
  {
   "cell_type": "markdown",
   "id": "66eea8fe",
   "metadata": {},
   "source": [
    "## Calculate He II / Hβ\n",
    "\n"
   ]
  },
  {
   "cell_type": "code",
   "execution_count": null,
   "id": "38ec08c0",
   "metadata": {},
   "outputs": [],
   "source": [
    "im4686 = Image(str(ROOT / \"data/ngc346-PZ-heii-4686-bin01-sum.fits\"))"
   ]
  },
  {
   "cell_type": "code",
   "execution_count": null,
   "id": "f425b809",
   "metadata": {},
   "outputs": [],
   "source": [
    "fig, ax = plt.subplots(figsize=(12, 12))\n",
    "im4686.plot(colorbar=\"v\", cmap=\"gray\", vmin=0.0, vmax=300)"
   ]
  },
  {
   "cell_type": "code",
   "execution_count": null,
   "id": "79307cd6",
   "metadata": {},
   "outputs": [],
   "source": [
    "imR_heii_hb = im4686 / imhb\n",
    "\n",
    "fig, ax = plt.subplots(figsize=(12, 12))\n",
    "imR_heii_hb.plot(colorbar=\"v\", cmap=\"gray\", vmin=-0.01, vmax=0.01)"
   ]
  },
  {
   "cell_type": "code",
   "execution_count": null,
   "id": "dc57cce3",
   "metadata": {},
   "outputs": [],
   "source": [
    "n = 2\n",
    "xslice, yslice = slice(200, 300), slice(100, 250)\n",
    "x = imR_heii_hb[yslice, xslice].rebin(n).data\n",
    "y = (\n",
    "    imR_hei_hb[yslice, xslice].rebin(n).data\n",
    "    / red_R_hei_hb[yslice, xslice].rebin(n).data\n",
    ")\n",
    "z = im4686[yslice, xslice].rebin(n).data\n",
    "m = x < 0.03\n",
    "m = m & (x > 0)\n",
    "m = m & (y < 0.113)\n",
    "m = m & (y > 0.103)\n",
    "m = (\n",
    "    m\n",
    "    & ~imR_heii_hb[yslice, xslice].rebin(n).mask\n",
    "    & ~imR_hei_hb[yslice, xslice].rebin(n).mask\n",
    ")\n",
    "df = pd.DataFrame(\n",
    "    {\n",
    "        \"4686 / 4861\": x[m],\n",
    "        \"5875 / 4861\": y[m],\n",
    "    }\n",
    ")\n",
    "g = sns.pairplot(\n",
    "    df,\n",
    "    kind=\"hist\",\n",
    "    height=4,\n",
    "    corner=True,\n",
    "    plot_kws=dict(weights=z[m], bins=30),\n",
    "    diag_kws=dict(weights=z[m], bins=30),\n",
    ")\n",
    "g.fig.suptitle(\"Correlation between He II / Hβ and He I / Hβ ratios\")"
   ]
  },
  {
   "cell_type": "markdown",
   "id": "d250f18d",
   "metadata": {},
   "source": [
    "So there is a *tiny* change in 5875/4861 from 0.109 to 0.107 as 4686/4861 increases."
   ]
  },
  {
   "cell_type": "code",
   "execution_count": null,
   "id": "20e49c3f",
   "metadata": {},
   "outputs": [],
   "source": [
    "df[\"high\"] = df[\"4686 / 4861\"] > 0.005\n",
    "df"
   ]
  },
  {
   "cell_type": "code",
   "execution_count": null,
   "id": "ccc39434",
   "metadata": {},
   "outputs": [],
   "source": [
    "sns.histplot(\n",
    "    data=df,\n",
    "    x=\"5875 / 4861\",\n",
    "    hue=\"high\",\n",
    "    multiple=\"dodge\",\n",
    "    shrink=1.0,\n",
    "    stat=\"probability\",\n",
    "    common_norm=False,\n",
    "    alpha=0.8,\n",
    "    bins=10,\n",
    ")"
   ]
  },
  {
   "cell_type": "markdown",
   "id": "d817855f",
   "metadata": {},
   "source": [
    "Try to remove the pattern noise"
   ]
  },
  {
   "cell_type": "code",
   "execution_count": null,
   "id": "d9087788",
   "metadata": {},
   "outputs": [],
   "source": [
    "imR_heii_hb_fake = imR_heii_hb.copy()\n",
    "m = imR_heii_hb_fake.data > 0.01\n",
    "imR_heii_hb_fake.data[m] = np.nan\n",
    "vv = np.nanmedian(imR_heii_hb_fake.data, axis=0, keepdims=True)\n",
    "hh = np.nanmedian(imR_heii_hb_fake.data, axis=1, keepdims=True)\n",
    "imR_heii_hb_fake.data = vv + hh\n",
    "imR_heii_hb_fake.data -= np.nanmedian(vv + hh)\n",
    "imR_heii_hb_c = imR_heii_hb.copy()\n",
    "imR_heii_hb_c.data -= imR_heii_hb_fake.data"
   ]
  },
  {
   "cell_type": "code",
   "execution_count": null,
   "id": "341cd28a",
   "metadata": {},
   "outputs": [],
   "source": [
    "fig, axes = plt.subplots(2, 2, figsize=(12, 12))\n",
    "imR_heii_hb_fake.plot(ax=axes[0, 0], colorbar=\"v\", cmap=\"gray\", vmin=-0.01, vmax=0.01)\n",
    "(imR_hei_hb / red_R_hei_hb).plot(ax=axes[0, 1], \n",
    "                colorbar=\"v\", cmap=\"gray\", \n",
    "                vmin=0.1, vmax=0.115)\n",
    "imR_heii_hb.plot(ax=axes[1, 0], colorbar=\"v\", cmap=\"gray\", vmin=-0.01, vmax=0.01)\n",
    "imR_heii_hb_c.plot(ax=axes[1, 1], colorbar=\"v\", cmap=\"gray\", vmin=-0.01, vmax=0.01)"
   ]
  },
  {
   "cell_type": "code",
   "execution_count": null,
   "id": "aada4887",
   "metadata": {},
   "outputs": [],
   "source": [
    "n = 2\n",
    "xslice, yslice = slice(200, 300), slice(100, 250)\n",
    "#xslice, yslice = slice(230, 300), slice(130, 220)\n",
    "x = imR_heii_hb_c[yslice, xslice].rebin(n).data\n",
    "y = (\n",
    "    imR_hei_hb[yslice, xslice].rebin(n).data\n",
    "    / red_R_hei_hb[yslice, xslice].rebin(n).data\n",
    ")\n",
    "z = im4686[yslice, xslice].rebin(n).data\n",
    "m = x < 0.03\n",
    "m = m & (x > 0)\n",
    "m = m & (y < 0.113)\n",
    "m = m & (y > 0.103)\n",
    "m = (\n",
    "    m\n",
    "    & ~imR_heii_hb[yslice, xslice].rebin(n).mask\n",
    "    & ~imR_hei_hb[yslice, xslice].rebin(n).mask\n",
    ")\n",
    "df = pd.DataFrame(\n",
    "    {\n",
    "        \"4686 / 4861\": x[m],\n",
    "        \"5875 / 4861\": y[m],\n",
    "    }\n",
    ")\n",
    "g = sns.pairplot(\n",
    "    df,\n",
    "    kind=\"hist\",\n",
    "    height=4,\n",
    "    corner=True,\n",
    "    plot_kws=dict(weights=z[m], bins=10),\n",
    "    diag_kws=dict(weights=z[m], bins=10),\n",
    ")\n",
    "g.fig.suptitle(\"Correlation between He II / Hβ and He I / Hβ ratios\")"
   ]
  },
  {
   "cell_type": "code",
   "execution_count": null,
   "id": "5fc2c155",
   "metadata": {},
   "outputs": [],
   "source": [
    "df[\"high\"] = df[\"4686 / 4861\"] > 0.003\n",
    "sns.histplot(\n",
    "    data=df,\n",
    "    x=\"5875 / 4861\",\n",
    "    hue=\"high\",\n",
    "    multiple=\"dodge\",\n",
    "    shrink=1.0,\n",
    "    stat=\"probability\",\n",
    "    common_norm=False,\n",
    "    alpha=0.8,\n",
    "    bins=10,\n",
    ")"
   ]
  },
  {
   "cell_type": "code",
   "execution_count": null,
   "id": "7777d5e2",
   "metadata": {},
   "outputs": [],
   "source": [
    "df[\"high\"] = df[\"4686 / 4861\"] > 0.003\n",
    "sns.histplot(\n",
    "    data=df,\n",
    "    x=\"5875 / 4861\",\n",
    "    hue=\"high\",\n",
    "    #multiple=\"dodge\",\n",
    "    shrink=1.0,\n",
    "    stat=\"probability\",\n",
    "    cumulative=True,\n",
    "    common_norm=False,\n",
    "    alpha=0.8,\n",
    "    bins=1000,\n",
    "    element=\"step\",\n",
    ").axhline(0.5, linestyle=\"dotted\", color=\"k\")"
   ]
  },
  {
   "cell_type": "markdown",
   "id": "1a6e8f9d",
   "metadata": {},
   "source": [
    "So, the depatterning improved the map but did not help with the statistics. \n",
    "\n"
   ]
  },
  {
   "cell_type": "markdown",
   "id": "3347b3c2",
   "metadata": {},
   "source": [
    "## Ratio of [Ar IV] / [Ar III]"
   ]
  },
  {
   "cell_type": "code",
   "execution_count": null,
   "id": "a9d6611b",
   "metadata": {},
   "outputs": [],
   "source": [
    "im4711 = Image(str(ROOT / \"data/ngc346-PZ-ariv-4711-bin01-sum.fits\"))\n",
    "im4740 = Image(str(ROOT / \"data/ngc346-PZ-ariv-4740-bin01-sum.fits\"))\n",
    "im7171 = Image(str(ROOT / \"data/ngc346-PZ-ariv-7171-bin01-sum.fits\"))\n",
    "im7237 = Image(str(ROOT / \"data/ngc346-PZ-ariv-7237-bin01-sum.fits\"))\n",
    "im7263 = Image(str(ROOT / \"data/ngc346-PZ-ariv-7263-bin01-sum.fits\"))\n",
    "im7136 = Image(str(ROOT / \"data/ngc346-PZ-ariii-7136-bin01-sum.fits\"))"
   ]
  },
  {
   "cell_type": "code",
   "execution_count": null,
   "id": "22c04525",
   "metadata": {},
   "outputs": [],
   "source": [
    "fig, axes = plt.subplots(2, 2, sharey=True, figsize=(12, 12))\n",
    "im4711.plot(ax=axes[0, 0], vmin=0, vmax=600)\n",
    "im4740.plot(ax=axes[0, 1], vmin=0, vmax=450)\n",
    "(im7171 + im7263).plot(ax=axes[1, 0], vmin=0, vmax=30)\n",
    "im7136.plot(ax=axes[1, 1], vmin=0, vmax=4500)\n",
    "axes[0, 0].set_title(\"[Ar IV] 4711 + He I 4713\")\n",
    "axes[0, 1].set_title(\"[Ar IV] 4740\")\n",
    "axes[1, 0].set_title(\"[Ar IV] 7171 + 7263\")\n",
    "axes[1, 1].set_title(\"[Ar III] 7136\")"
   ]
  },
  {
   "cell_type": "code",
   "execution_count": null,
   "id": "e0988577",
   "metadata": {},
   "outputs": [],
   "source": [
    "n = 8\n",
    "fig, axes = plt.subplots(2, 2, sharey=True, figsize=(12, 12))\n",
    "(im4711.rebin(n) / im4740.rebin(n)).plot(ax=axes[0, 0], vmin=0, vmax=2)\n",
    "(im4740.rebin(n) / im7136.rebin(n)).plot(ax=axes[0, 1], vmin=0, vmax=0.1)\n",
    "((im7171.rebin(n) + im7263.rebin(n)) / (im4740.rebin(n) + im4711.rebin(n))).plot(\n",
    "    ax=axes[1, 0], vmin=0, vmax=0.04\n",
    ")\n",
    "im7136.rebin(n).plot(ax=axes[1, 1], vmin=0, vmax=5500)\n",
    "axes[0, 0].set_title(\"([Ar IV] 4711 + He I 4713) / [Ar IV] 4740\")\n",
    "axes[0, 1].set_title(\"[Ar IV] 4740 / [Ar III] 7136\")\n",
    "axes[1, 0].set_title(\"[Ar IV] (7171 + 7263) / (4711 + 4740)\")\n",
    "axes[1, 1].set_title(\"[Ar III] 7136\")"
   ]
  },
  {
   "cell_type": "markdown",
   "id": "1fbb2942",
   "metadata": {},
   "source": [
    "Now we must subtract the He I line!"
   ]
  },
  {
   "cell_type": "code",
   "execution_count": null,
   "id": "ebe0abae",
   "metadata": {},
   "outputs": [],
   "source": [
    "hei = pn.RecAtom(\"He\", 1)"
   ]
  },
  {
   "cell_type": "code",
   "execution_count": null,
   "id": "7d17d084",
   "metadata": {},
   "outputs": [],
   "source": [
    "dens = [50, 100, 200]\n",
    "tems = [13000, 18000]\n",
    "e4713 = hei.getEmissivity(tems, dens, wave=4713)\n",
    "e5876 = hei.getEmissivity(tems, dens, wave=5876)\n",
    "e4713 / e5876"
   ]
  },
  {
   "cell_type": "markdown",
   "id": "7f175255",
   "metadata": {},
   "source": [
    "There is a slight temperature dependence, but almost no density dependence if we use the 5876 line.  This is probably the best because it has good signal to noise.\n",
    "\n",
    "We can assume that the He I temperature is the same as the [S III] temperature.\n",
    "\n",
    "But we will check the other lines as well."
   ]
  },
  {
   "cell_type": "code",
   "execution_count": null,
   "id": "b58759cd",
   "metadata": {
    "lines_to_next_cell": 2
   },
   "outputs": [],
   "source": [
    "e4922 = hei.getEmissivity(tems, dens, wave=4922)\n",
    "e5048 = hei.getEmissivity(tems, dens, wave=5048)\n",
    "e4713 / e4922, e4713 / e5048"
   ]
  },
  {
   "cell_type": "markdown",
   "id": "eb0f663e",
   "metadata": {},
   "source": [
    "The 4922 has the same T-dependence as 5876, just 10 times weaker. The 5048 has a constant ratio, but it is so weak that we cannot use it.  So 5876 it is ..."
   ]
  },
  {
   "cell_type": "markdown",
   "id": "86a29b89",
   "metadata": {
    "lines_to_next_cell": 2
   },
   "source": [
    "### Average values of T and reddening to use in the corrections\n",
    "\n",
    "We would introduce too much noise by using the pixel-by-pixel values of $T$ and $E(B - V)$, so we will construct an average value by using the He I brightenss as a weight, but masking out the mYSO\n"
   ]
  },
  {
   "cell_type": "code",
   "execution_count": null,
   "id": "b1c8e427",
   "metadata": {},
   "outputs": [],
   "source": [
    "def trim_edges(im, m):\n",
    "    \"\"\"Trim m pixels of each edge of image in place by setting mask\"\"\"\n",
    "    im.mask[:m, :] = True\n",
    "    im.mask[-m:, :] = True\n",
    "    im.mask[:, :m] = True\n",
    "    im.mask[:, -m:] = True\n",
    "    return None"
   ]
  },
  {
   "cell_type": "code",
   "execution_count": null,
   "id": "23f4e2f2",
   "metadata": {},
   "outputs": [],
   "source": [
    "im_hei_weight = im5875.copy()\n",
    "im_hei_weight.mask[140:157, 110:141] = True\n",
    "im_hei_weight.mask[94:104, 55:65] = True\n",
    "trim_edges(im_hei_weight, 10)\n",
    "im_hei_weight.data.mask = im_hei_weight.mask\n",
    "fig, ax = plt.subplots(figsize=(10, 10))\n",
    "im_hei_weight.plot(cmap=\"gray_r\")\n",
    "ax.set_title(\"Weight mask for He I emission\")"
   ]
  },
  {
   "cell_type": "markdown",
   "id": "15bf807c",
   "metadata": {},
   "source": [
    "That looks OK. Now calculate some averages:"
   ]
  },
  {
   "cell_type": "code",
   "execution_count": null,
   "id": "41967cef",
   "metadata": {},
   "outputs": [],
   "source": [
    "fig, axes = plt.subplots(1, 2, figsize=(12, 6), sharey=True)\n",
    "im1 = im_hei_weight.copy()\n",
    "im1.data = im_hei_weight.data * imEBV.data\n",
    "im1.mask = im_hei_weight.mask | imEBV.mask\n",
    "im1.plot(ax=axes[0])\n",
    "im2 = im_hei_weight.copy()\n",
    "im2.data = im_hei_weight.data * imT_siii.data\n",
    "im2.mask = im_hei_weight.mask | imT_siii.mask\n",
    "im2.plot(ax=axes[1])"
   ]
  },
  {
   "cell_type": "code",
   "execution_count": null,
   "id": "4be8171d",
   "metadata": {},
   "outputs": [],
   "source": [
    "avHe_EBV = np.average(imEBV.data, weights=im_hei_weight.data)\n",
    "avHe_Tsiii = np.average(imT_siii.data, weights=im_hei_weight.data)\n",
    "f\"He I brightness-weighted averages: E(B-V) = {avHe_EBV:.2f}, T = {avHe_Tsiii/1000:.2f} kK\""
   ]
  },
  {
   "cell_type": "code",
   "execution_count": null,
   "id": "92353042",
   "metadata": {},
   "outputs": [],
   "source": [
    "median_EBV"
   ]
  },
  {
   "cell_type": "markdown",
   "id": "d0b2120d",
   "metadata": {},
   "source": [
    "The `avHe_Tsiii` looks good. But to be honest, I am a bit suspicious of the `avHe_EBV` reddening, since there are lots of anomalous spots of high $E(B-V)$ that correspond to stars (presumably underlying stellar absorption affecting the Balmer decrement).\n",
    "\n",
    "I could use the median instead, but I have ended up using the weighted one after all, since we seem to be oversubtracting if anything."
   ]
  },
  {
   "cell_type": "code",
   "execution_count": null,
   "id": "65c11b32",
   "metadata": {},
   "outputs": [],
   "source": [
    "avHe_reddening_4713_5876 = 10 ** (0.4 * avHe_EBV * (rc.X(4713) - rc.X(5876)))\n",
    "median_reddening_4713_5876 = 10 ** (0.4 * median_EBV * (rc.X(4713) - rc.X(5876)))\n",
    "avHe_reddening_4713_5876, median_reddening_4713_5876"
   ]
  },
  {
   "cell_type": "code",
   "execution_count": null,
   "id": "fb818e8c",
   "metadata": {},
   "outputs": [],
   "source": [
    "dens = 100.0\n",
    "avHe_e4713_5876 = hei.getEmissivity(avHe_Tsiii, dens, wave=4713) / hei.getEmissivity(\n",
    "    avHe_Tsiii, dens, wave=5876\n",
    ")\n",
    "avHe_e4713_5876"
   ]
  },
  {
   "cell_type": "markdown",
   "id": "7b0a59de",
   "metadata": {},
   "source": [
    "Take advantage to save extinction-corrected maps of the high-ionization lines.  These are using the avHe reddening, not the pixel-by-pixel values"
   ]
  },
  {
   "cell_type": "code",
   "execution_count": null,
   "id": "47d44d3d",
   "metadata": {},
   "outputs": [],
   "source": [
    "avHe_corr_4686 = 10 ** (0.4 * avHe_EBV * rc.X(4686))\n",
    "avHe_corr_4686"
   ]
  },
  {
   "cell_type": "code",
   "execution_count": null,
   "id": "8e2a24d7",
   "metadata": {},
   "outputs": [],
   "source": [
    "(im4686 * avHe_corr_4686).write(str(ROOT / \"data/ngc346-PZ-heii-4686-correct.fits\"))"
   ]
  },
  {
   "cell_type": "code",
   "execution_count": null,
   "id": "6638b1f0",
   "metadata": {},
   "outputs": [],
   "source": [
    "((imhb) * 10 ** (0.4 * avHe_EBV * rc.X(4861))).write(\n",
    "    str(ROOT / \"data/ngc346-PZ-hi-4861-correct.fits\"),\n",
    ")\n",
    "(im5875 * 10 ** (0.4 * avHe_EBV * rc.X(5875))).write(\n",
    "    str(ROOT / \"data/ngc346-PZ-hei-5875-correct.fits\"),\n",
    ")\n",
    "(im7136 * 10 ** (0.4 * avHe_EBV * rc.X(7136))).write(\n",
    "    str(ROOT / \"data/ngc346-PZ-ariii-7136-correct.fits\"),\n",
    ")"
   ]
  },
  {
   "cell_type": "markdown",
   "id": "47b876cb",
   "metadata": {},
   "source": [
    "Now do the correction by faking the 4713 line and subtracting it:"
   ]
  },
  {
   "cell_type": "code",
   "execution_count": null,
   "id": "9bc0a18c",
   "metadata": {},
   "outputs": [],
   "source": [
    "# im_fake_4713 = (avHe_e4713_5876 / avHe_reddening_4713_5876) * im5875\n",
    "im_fake_4713 = 0.025 * im5875\n",
    "im4711c = im4711 - im_fake_4713"
   ]
  },
  {
   "cell_type": "markdown",
   "id": "7680892a",
   "metadata": {},
   "source": [
    "Make a common minimal mask to use for all the [Ar IV] lines, which we will then combine with a brightness-based mask for the weaker lines and ratios:"
   ]
  },
  {
   "cell_type": "code",
   "execution_count": null,
   "id": "981ac9c9",
   "metadata": {},
   "outputs": [],
   "source": [
    "cont4686 = Image(str(ROOT / \"data/ngc346-BZ-cont-4686-mean.fits\"))"
   ]
  },
  {
   "cell_type": "markdown",
   "id": "4e8d30f5",
   "metadata": {},
   "source": [
    "Strangely, I was using BZ instead of PZ as an identifier in the PZ-03-04 notebook. Why on earth did I do that?"
   ]
  },
  {
   "cell_type": "markdown",
   "id": "b071ab53",
   "metadata": {},
   "source": [
    "I need to decide how bright a star needs to be before I mask out that bit of the image. 5000 in the `cont4686` image seems a reasonable value."
   ]
  },
  {
   "cell_type": "code",
   "execution_count": null,
   "id": "5954fee3",
   "metadata": {},
   "outputs": [],
   "source": [
    "fig, ax = plt.subplots(figsize=(10, 10))\n",
    "cont4686.plot(colorbar=\"v\", vmin=0, vmax=1e5, scale=\"sqrt\")\n",
    "ax.contour(cont4686.data, levels=[5e3], colors=\"r\")"
   ]
  },
  {
   "cell_type": "code",
   "execution_count": null,
   "id": "6097e3f8",
   "metadata": {},
   "outputs": [],
   "source": [
    "im_ariv_sum = im4711c + im4740\n",
    "trim_edges(im_ariv_sum, 12)\n",
    "im_ariv_sum.mask[78:88, 190:199] = True\n",
    "im_ariv_sum.mask[234:236, 266:271] = True\n",
    "im_ariv_sum.mask[81:84, 52:55] = True\n",
    "im_ariv_sum.mask = im_ariv_sum.mask | (cont4686.data > 1.5e3)\n",
    "im_ariv_sum.mask = im_ariv_sum.mask | (im_ariv_sum.data > 1000)\n",
    "im_ariv_sum.mask = im_ariv_sum.mask | (im_ariv_sum.data < 100)\n",
    "fig, ax = plt.subplots(figsize=(10, 10))\n",
    "im_ariv_sum.rebin(1).plot(colorbar=\"v\", vmin=100, vmax=1000, cmap=\"gray_r\", scale=\"sqrt\")"
   ]
  },
  {
   "cell_type": "markdown",
   "id": "450066a4",
   "metadata": {},
   "source": [
    "That is looking good.  Apply the mask to all the other images"
   ]
  },
  {
   "cell_type": "code",
   "execution_count": null,
   "id": "5806812f",
   "metadata": {},
   "outputs": [],
   "source": [
    "for im in im4711c, im4740, im7171, im7263, im7237:\n",
    "    im.mask = im.mask | im_ariv_sum.mask"
   ]
  },
  {
   "cell_type": "markdown",
   "id": "d7eab6fa",
   "metadata": {},
   "source": [
    "Now find average reddening for [Ar IV] lines.  Try two methods: (1) brightness-weighted mean; (2) make a mask based on the Ar IV brightness and then take median in that area."
   ]
  },
  {
   "cell_type": "code",
   "execution_count": null,
   "id": "f19aec2b",
   "metadata": {},
   "outputs": [],
   "source": [
    "fig, ax = plt.subplots(figsize=(10, 10))\n",
    "im = im_ariv_sum.copy()\n",
    "im.data = imEBV.data\n",
    "im.mask = im.mask | (im_ariv_sum.data < 300)\n",
    "trim_edges(im, 20)\n",
    "im.plot(vmin=0, vmax=0.2, cmap=\"magma_r\", colorbar=\"v\")"
   ]
  },
  {
   "cell_type": "code",
   "execution_count": null,
   "id": "40ab2194",
   "metadata": {},
   "outputs": [],
   "source": [
    "avArIV_EBV = np.average(imEBV.data, weights=im_ariv_sum.data)\n",
    "medianArIV_EBV = np.median(im.data.data[~im.mask])\n",
    "avArIV_EBV, medianArIV_EBV"
   ]
  },
  {
   "cell_type": "markdown",
   "id": "54e79b5a",
   "metadata": {},
   "source": [
    "So there isn't much difference. But we take the median since it should be less sensitive to those spots of higher $E(B-V)$ due to stars."
   ]
  },
  {
   "cell_type": "markdown",
   "id": "a902eb6c",
   "metadata": {},
   "source": [
    "Apply extinction correction to all lines:"
   ]
  },
  {
   "cell_type": "code",
   "execution_count": null,
   "id": "b8ea3930",
   "metadata": {},
   "outputs": [],
   "source": [
    "im4740r = im4740 * 10 ** (0.4 * medianArIV_EBV * rc.X(4740))\n",
    "im4711r = im4711c * 10 ** (0.4 * medianArIV_EBV * rc.X(4711))\n",
    "im7171r = im7171 * 10 ** (0.4 * medianArIV_EBV * rc.X(7171))\n",
    "im7136r = im7136 * 10 ** (0.4 * medianArIV_EBV * rc.X(7136))\n",
    "im7263r = im7263 * 10 ** (0.4 * medianArIV_EBV * rc.X(7263))\n",
    "im7237r = im7237 * 10 ** (0.4 * medianArIV_EBV * rc.X(7237))\n",
    "for im in im4711r, im4740r, im7171r, im7136r, im7263r, im7237r:\n",
    "    im.mask = im.mask | im_ariv_sum.mask"
   ]
  },
  {
   "cell_type": "code",
   "execution_count": null,
   "id": "eb9c7a17",
   "metadata": {},
   "outputs": [],
   "source": [
    "im4740r -= 100"
   ]
  },
  {
   "cell_type": "markdown",
   "id": "0f435621",
   "metadata": {},
   "source": [
    "And replace the summed image:"
   ]
  },
  {
   "cell_type": "code",
   "execution_count": null,
   "id": "76be5dee",
   "metadata": {},
   "outputs": [],
   "source": [
    "im_ariv_sum = im4711r + im4740r"
   ]
  },
  {
   "cell_type": "code",
   "execution_count": null,
   "id": "c191bfb5",
   "metadata": {},
   "outputs": [],
   "source": [
    "ariv_R1 = im4711r / im4740r\n",
    "ariv_R1.mask = ariv_R1.mask | (im_ariv_sum.data < 700)\n",
    "ariv_R3_plus_R4 = (im7171r + im7263r) / (im4740r + im4711r)\n",
    "ariv_R3_plus_R4.mask = ariv_R3_plus_R4.mask | (im_ariv_sum.data < 700)\n",
    "trim_edges(ariv_R1, 20)\n",
    "trim_edges(ariv_R3_plus_R4, 20)"
   ]
  },
  {
   "cell_type": "code",
   "execution_count": null,
   "id": "4661809b",
   "metadata": {},
   "outputs": [],
   "source": [
    "fig, axes = plt.subplots(2, 2, figsize=(12, 12), sharex=\"row\", sharey=\"row\")\n",
    "im4711r.plot(ax=axes[0, 0], vmin=0, vmax=600, colorbar=\"v\", cmap=cmr.bubblegum)\n",
    "im4740r.plot(ax=axes[0, 1], vmin=0, vmax=600 / 1.3, colorbar=\"v\", cmap=cmr.bubblegum)\n",
    "n = 8\n",
    "# (im4711c.rebin(n) / im4740.rebin(n)).plot(ax=axes[1, 0], vmin=0, vmax=2, colorbar=\"v\")\n",
    "# (\n",
    "#    (im7171.rebin(n) + im7263.rebin(n))\n",
    "#     / (im4740.rebin(n) + im4711c.rebin(n))\n",
    "# ).plot(ax=axes[1, 1], vmin=0, vmax=0.08, colorbar=\"v\")\n",
    "ariv_R1.rebin(n).plot(ax=axes[1, 0], vmin=0, vmax=2, cmap=\"mako_r\", colorbar=\"v\")\n",
    "ariv_R3_plus_R4.rebin(n).plot(\n",
    "    ax=axes[1, 1], vmin=0, vmax=0.08, cmap=\"inferno\", colorbar=\"v\"\n",
    ")"
   ]
  },
  {
   "cell_type": "markdown",
   "id": "c2684c3c",
   "metadata": {},
   "source": [
    "Save the combined image, corrected for extinction:"
   ]
  },
  {
   "cell_type": "code",
   "execution_count": null,
   "id": "3dbabc10",
   "metadata": {},
   "outputs": [],
   "source": [
    "im_ariv_sum.write(\n",
    "    str(ROOT / \"data/ngc346-PZ-ariv-4711-plus-4740-correct.fits\"), savemask=\"nan\"\n",
    ")\n",
    "im4740r.write(str(ROOT / \"data/ngc346-PZ-ariv-4740-correct.fits\"), savemask=\"nan\")\n",
    "im4711r.write(str(ROOT / \"data/ngc346-PZ-ariv-4711-correct.fits\"), savemask=\"nan\")\n",
    "im7171r.write(str(ROOT / \"data/ngc346-PZ-ariv-7171-correct.fits\"), savemask=\"nan\")\n",
    "im7263r.write(str(ROOT / \"data/ngc346-PZ-ariv-7263-correct.fits\"), savemask=\"nan\")"
   ]
  },
  {
   "cell_type": "code",
   "execution_count": null,
   "id": "dd283c7d",
   "metadata": {},
   "outputs": [],
   "source": [
    "n = 4\n",
    "xslice, yslice = slice(200, 300), slice(100, 250)\n",
    "ratio = 1.35\n",
    "xmax = 600\n",
    "ymax = ratio * xmax\n",
    "x = im4740r[yslice, xslice].rebin(n).data\n",
    "y = im4711r[yslice, xslice].rebin(n).data\n",
    "z = im_ariv_sum[yslice, xslice].rebin(n).data\n",
    "m = (x > -100.0) & (y > -100.0) & (x < xmax) & (y < ymax)\n",
    "# m = m & (x > 0)\n",
    "# m = m & (y < 0.113)\n",
    "# m = m & (y > 0.103)\n",
    "m = m & ~im4740r[yslice, xslice].rebin(n).mask & ~im4711r[yslice, xslice].rebin(n).mask\n",
    "df = pd.DataFrame(\n",
    "    {\n",
    "        \"4740\": x[m],\n",
    "        \"4711\": y[m],\n",
    "    }\n",
    ")\n",
    "g = sns.pairplot(\n",
    "    df,\n",
    "    kind=\"hist\",\n",
    "    height=4,\n",
    "    corner=True,\n",
    "    plot_kws=dict(\n",
    "        # weights=z[m],\n",
    "        bins=64\n",
    "        // n\n",
    "    ),\n",
    "    diag_kws=dict(\n",
    "        # weights=z[m],\n",
    "        bins=128\n",
    "        // n\n",
    "    ),\n",
    ")\n",
    "g.axes[1, 0].plot([0, xmax], [0, ymax])\n",
    "g.fig.suptitle(\"Correlation between [Ar IV] 4711 and 4740\")"
   ]
  },
  {
   "cell_type": "code",
   "execution_count": null,
   "id": "9872feb0",
   "metadata": {},
   "outputs": [],
   "source": [
    "n = 2\n",
    "xslice, yslice = slice(200, 300), slice(100, 250)\n",
    "ratio = 1.35\n",
    "xmax = 300\n",
    "ymax = ratio * xmax\n",
    "x = im4740r[yslice, xslice].rebin(n).data\n",
    "y = im4711r[yslice, xslice].rebin(n).data\n",
    "z = im_ariv_sum[yslice, xslice].rebin(n).data\n",
    "m = (x > -100.0) & (y > -100.0) & (x < xmax) & (y < ymax)\n",
    "y = y / x\n",
    "m = m & (y < 2.5 * ratio) & (y > 0.0)\n",
    "# m = m & (x > 0)\n",
    "# m = m & (y < 0.113)\n",
    "# m = m & (y > 0.103)\n",
    "m = m & ~im4740[yslice, xslice].rebin(n).mask & ~im4711[yslice, xslice].rebin(n).mask\n",
    "df = pd.DataFrame(\n",
    "    {\n",
    "        \"4740\": x[m],\n",
    "        \"4711 / 4740\": y[m],\n",
    "    }\n",
    ")\n",
    "g = sns.pairplot(\n",
    "    df,\n",
    "    kind=\"hist\",\n",
    "    height=4,\n",
    "    corner=True,\n",
    "    plot_kws=dict(weights=z[m], bins=200 // n),\n",
    "    diag_kws=dict(weights=z[m], bins=100 // int(np.sqrt(n))),\n",
    ")\n",
    "g.axes[1, 0].axhline(ratio, linestyle=\"dashed\", color=\"k\", linewidth=2)\n",
    "g.axes[1, 1].axvline(ratio, linestyle=\"dashed\", color=\"k\", linewidth=2)\n",
    "g.fig.suptitle(\"Correlation between [Ar IV] 4740 and 4711 / 4740\")"
   ]
  },
  {
   "cell_type": "raw",
   "id": "17e9b342",
   "metadata": {},
   "source": [
    "So the density-sensitive ratio is $R_1 = 1.35 \\pm 0.1$"
   ]
  },
  {
   "cell_type": "code",
   "execution_count": null,
   "id": "20d4f065",
   "metadata": {},
   "outputs": [],
   "source": [
    "ariv = pn.Atom(\"Ar\", 4)"
   ]
  },
  {
   "cell_type": "code",
   "execution_count": null,
   "id": "8df94955",
   "metadata": {},
   "outputs": [],
   "source": [
    "ariv.getTemDen([1.30, 1.35, 1.40], tem=17500, wave1=4711, wave2=4740)"
   ]
  },
  {
   "cell_type": "markdown",
   "id": "1271276a",
   "metadata": {},
   "source": [
    "So we are close to the low density limit, with a nominal value of 160.  We need to get a very precise estimate of the uncertainty in order to get the error bars."
   ]
  },
  {
   "cell_type": "code",
   "execution_count": null,
   "id": "894ac043",
   "metadata": {},
   "outputs": [],
   "source": [
    "ariv.getSources()"
   ]
  },
  {
   "cell_type": "markdown",
   "id": "4348ef22",
   "metadata": {},
   "source": [
    "Now for the T diagnostics:"
   ]
  },
  {
   "cell_type": "code",
   "execution_count": null,
   "id": "f8cea100",
   "metadata": {
    "lines_to_next_cell": 2
   },
   "outputs": [],
   "source": [
    "n = 4\n",
    "xslice, yslice = slice(200, 300), slice(100, 250)\n",
    "ratio = 0.024\n",
    "xmax = 750\n",
    "ymax = ratio * xmax\n",
    "x = im_ariv_sum[yslice, xslice].rebin(n).data\n",
    "y = im7171r[yslice, xslice].rebin(n).data\n",
    "z = im_ariv_sum[yslice, xslice].rebin(n).data\n",
    "m = (x > -0.5 * xmax) & (y > -2 * ymax) & (x < xmax) & (y < 3 * ymax)\n",
    "# m = m & (x > 0)\n",
    "# m = m & (y < 0.113)\n",
    "# m = m & (y > 0.103)\n",
    "m = (\n",
    "    m\n",
    "    & ~im_ariv_sum[yslice, xslice].rebin(n).mask\n",
    "    & ~im7171[yslice, xslice].rebin(n).mask\n",
    ")\n",
    "df = pd.DataFrame(\n",
    "    {\n",
    "        \"4711 + 4740\": x[m],\n",
    "        \"7171\": y[m],\n",
    "    }\n",
    ")\n",
    "g = sns.pairplot(\n",
    "    df,\n",
    "    kind=\"hist\",\n",
    "    height=4,\n",
    "    corner=True,\n",
    "    plot_kws=dict(weights=z[m], bins=128 // n),\n",
    "    diag_kws=dict(weights=200 + z[m], bins=128 // n),\n",
    ")\n",
    "g.axes[1, 0].plot([0, xmax], [0, ymax])\n",
    "g.fig.suptitle(\"Correlation between [Ar IV] 4711+40 and 7171\")"
   ]
  },
  {
   "cell_type": "code",
   "execution_count": null,
   "id": "ade11877",
   "metadata": {},
   "outputs": [],
   "source": [
    "n = 4\n",
    "xslice, yslice = slice(200, 300), slice(100, 250)\n",
    "ratio = 0.024\n",
    "xmax = 750\n",
    "ymax = ratio * xmax\n",
    "x = im_ariv_sum[yslice, xslice].rebin(n).data\n",
    "y = im7263r[yslice, xslice].rebin(n).data\n",
    "z = im_ariv_sum[yslice, xslice].rebin(n).data\n",
    "m = (x > -0.5 * xmax) & (y > -2 * ymax) & (x < xmax) & (y < 3 * ymax)\n",
    "# m = m & (x > 0)\n",
    "# m = m & (y < 0.113)\n",
    "# m = m & (y > 0.103)\n",
    "m = (\n",
    "    m\n",
    "    & ~im_ariv_sum[yslice, xslice].rebin(n).mask\n",
    "    & ~im7171[yslice, xslice].rebin(n).mask\n",
    ")\n",
    "df = pd.DataFrame(\n",
    "    {\n",
    "        \"4711 + 4740\": x[m],\n",
    "        \"7263\": y[m],\n",
    "    }\n",
    ")\n",
    "g = sns.pairplot(\n",
    "    df,\n",
    "    kind=\"hist\",\n",
    "    height=4,\n",
    "    corner=True,\n",
    "    plot_kws=dict(weights=z[m], bins=128 // n),\n",
    "    diag_kws=dict(weights=200 + z[m], bins=128 // n),\n",
    ")\n",
    "g.axes[1, 0].plot([0, xmax], [0, ymax])\n",
    "g.fig.suptitle(\"Correlation between [Ar IV] 4711+40 and 7263\")"
   ]
  },
  {
   "cell_type": "code",
   "execution_count": null,
   "id": "43ad37c2",
   "metadata": {},
   "outputs": [],
   "source": [
    "n = 4\n",
    "xslice, yslice = slice(200, 300), slice(100, 250)\n",
    "ratio = 0.024\n",
    "xmax = 600\n",
    "ymax = ratio * xmax\n",
    "x = im_ariv_sum[yslice, xslice].rebin(n).data\n",
    "y = im7171r[yslice, xslice].rebin(n).data\n",
    "z = im_ariv_sum[yslice, xslice].rebin(n).data\n",
    "m = (x > -0.5 * xmax) & (y > -2 * ymax) & (x < xmax) & (y < 3 * ymax)\n",
    "y = y / x\n",
    "m = m & (y > -ratio) & (y < 3 * ratio)\n",
    "# m = m & (x > 0)\n",
    "# m = m & (y < 0.113)\n",
    "# m = m & (y > 0.103)\n",
    "m = (\n",
    "    m\n",
    "    & ~im_ariv_sum[yslice, xslice].rebin(n).mask\n",
    "    & ~im7171[yslice, xslice].rebin(n).mask\n",
    ")\n",
    "df = pd.DataFrame(\n",
    "    {\n",
    "        \"4711 + 4740\": x[m],\n",
    "        \"7171 / (4711 + 4740)\": y[m],\n",
    "    }\n",
    ")\n",
    "g = sns.pairplot(\n",
    "    df,\n",
    "    kind=\"hist\",\n",
    "    height=4,\n",
    "    corner=True,\n",
    "    plot_kws=dict(weights=z[m], bins=128 // n),\n",
    "    diag_kws=dict(weights=200 + z[m], bins=128 // n),\n",
    ")\n",
    "g.fig.suptitle(\"Correlation between [Ar IV] 4711+40 and 7171 / (4711 + 4740)\")"
   ]
  },
  {
   "cell_type": "code",
   "execution_count": null,
   "id": "864cc120",
   "metadata": {},
   "outputs": [],
   "source": [
    "n = 4\n",
    "xslice, yslice = slice(200, 300), slice(100, 250)\n",
    "ratio = 0.024\n",
    "xmax = 600\n",
    "ymax = ratio * xmax\n",
    "x = im_ariv_sum[yslice, xslice].rebin(n).data\n",
    "y = im7263r[yslice, xslice].rebin(n).data\n",
    "z = im_ariv_sum[yslice, xslice].rebin(n).data\n",
    "m = (x > -0.5 * xmax) & (y > -2 * ymax) & (x < xmax) & (y < 3 * ymax)\n",
    "y = y / x\n",
    "m = m & (y > -ratio) & (y < 3 * ratio)\n",
    "# m = m & (x > 0)\n",
    "# m = m & (y < 0.113)\n",
    "# m = m & (y > 0.103)\n",
    "m = (\n",
    "    m\n",
    "    & ~im_ariv_sum[yslice, xslice].rebin(n).mask\n",
    "    & ~im7263[yslice, xslice].rebin(n).mask\n",
    ")\n",
    "df = pd.DataFrame(\n",
    "    {\n",
    "        \"4711 + 4740\": x[m],\n",
    "        \"7263 / (4711 + 4740)\": y[m],\n",
    "    }\n",
    ")\n",
    "g = sns.pairplot(\n",
    "    df,\n",
    "    kind=\"hist\",\n",
    "    height=4,\n",
    "    corner=True,\n",
    "    plot_kws=dict(weights=z[m], bins=128 // n),\n",
    "    diag_kws=dict(weights=200 + z[m], bins=128 // n),\n",
    ")\n",
    "g.fig.suptitle(\"Correlation between [Ar IV] 4711+40 and 7263 / (4711 + 4740)\")"
   ]
  },
  {
   "cell_type": "markdown",
   "id": "c6f4259f",
   "metadata": {},
   "source": [
    "And do the one that is contaminated by C II"
   ]
  },
  {
   "cell_type": "code",
   "execution_count": null,
   "id": "97cce1ba",
   "metadata": {},
   "outputs": [],
   "source": [
    "n = 8\n",
    "xslice, yslice = slice(200, 300), slice(100, 250)\n",
    "ratio = 0.024\n",
    "xmax = 600\n",
    "ymax = ratio * xmax\n",
    "x = im_ariv_sum[yslice, xslice].rebin(n).data\n",
    "y = im7237r[yslice, xslice].rebin(n).data\n",
    "z = im_ariv_sum[yslice, xslice].rebin(n).data\n",
    "m = (x > -0.5 * xmax) & (y > -2 * ymax) & (x < xmax) & (y < 3 * ymax)\n",
    "y = y / x\n",
    "m = m & (y > -ratio) & (y < 3 * ratio)\n",
    "# m = m & (x > 0)\n",
    "# m = m & (y < 0.113)\n",
    "# m = m & (y > 0.103)\n",
    "m = (\n",
    "    m\n",
    "    & ~im_ariv_sum[yslice, xslice].rebin(n).mask\n",
    "    & ~im7237r[yslice, xslice].rebin(n).mask\n",
    ")\n",
    "df = pd.DataFrame(\n",
    "    {\n",
    "        \"4711 + 4740\": x[m],\n",
    "        \"7237 / (4711 + 4740)\": y[m],\n",
    "    }\n",
    ")\n",
    "g = sns.pairplot(\n",
    "    df,\n",
    "    kind=\"hist\",\n",
    "    height=4,\n",
    "    corner=True,\n",
    "    plot_kws=dict(weights=z[m], bins=128 // n),\n",
    "    diag_kws=dict(weights=200 + z[m], bins=128 // n),\n",
    ")\n",
    "g.fig.suptitle(\"Correlation between [Ar IV] 4711+40 and 7237 / (4711 + 4740)\")"
   ]
  },
  {
   "cell_type": "markdown",
   "id": "6b2b0d6d",
   "metadata": {},
   "source": [
    "As expected, this last one is no good.  But the others are fine.  Now include density and temperature indiocators together:"
   ]
  },
  {
   "cell_type": "code",
   "execution_count": null,
   "id": "6ab23d71",
   "metadata": {},
   "outputs": [],
   "source": [
    "Ts = [1e4, 1.5e4, 2.0e4, 2.5e4, 3.0e4]\n",
    "# dens = [10.0, 100.0, 1000.0]\n",
    "dens = [1.0, 200.0, 400.0, 600.0, 800.0, 1000.0]\n",
    "\n",
    "\n",
    "Tfine = np.linspace(Ts[0], Ts[-1], 200)\n",
    "dfine = np.linspace(dens[0], dens[-1], 200)\n",
    "\n",
    "e4711 = ariv.getEmissivity(Tfine, dens, wave=4711)\n",
    "e4740 = ariv.getEmissivity(Tfine, dens, wave=4740)\n",
    "e7171 = ariv.getEmissivity(Tfine, dens, wave=7171)\n",
    "e7263 = ariv.getEmissivity(Tfine, dens, wave=7263)\n",
    "\n",
    "rr1 = e4711 / e4740\n",
    "rr3 = e7263 / (e4711 + e4740)\n",
    "rr4 = e7171 / (e4711 + e4740)\n",
    "\n",
    "e4711 = ariv.getEmissivity(Ts, dfine, wave=4711)\n",
    "e4740 = ariv.getEmissivity(Ts, dfine, wave=4740)\n",
    "e7171 = ariv.getEmissivity(Ts, dfine, wave=7171)\n",
    "e7263 = ariv.getEmissivity(Ts, dfine, wave=7263)\n",
    "\n",
    "_rr1 = e4711 / e4740\n",
    "_rr3 = e7263 / (e4711 + e4740)\n",
    "_rr4 = e7171 / (e4711 + e4740)\n",
    "\n",
    "_rr1 = _rr1.T\n",
    "_rr3 = _rr3.T\n",
    "_rr4 = _rr4.T"
   ]
  },
  {
   "cell_type": "code",
   "execution_count": null,
   "id": "4f511516",
   "metadata": {},
   "outputs": [],
   "source": [
    "n = 8\n",
    "xslice, yslice = slice(200, 300), slice(100, 250)\n",
    "# xslice, yslice = slice(None, None), slice(None, None)\n",
    "ratio = 0.024\n",
    "wmax = 750\n",
    "w = im_ariv_sum[yslice, xslice].rebin(n).data\n",
    "x = im7263r[yslice, xslice].rebin(n).data / w\n",
    "y = im7171r[yslice, xslice].rebin(n).data / w\n",
    "z = im4711r[yslice, xslice].rebin(n).data / im4740r[yslice, xslice].rebin(n).data\n",
    "m = (w > 0.4 * wmax) & (w < wmax)\n",
    "m = m & (x > -0 * ratio) & (x < 2 * ratio)\n",
    "m = m & (y > -0 * ratio) & (y < 2 * ratio)\n",
    "m = m & (z > 0.8) & (z < 2.1)\n",
    "m = (\n",
    "    m\n",
    "    & ~ariv_R1[yslice, xslice].rebin(n).mask\n",
    "    & ~ariv_R3_plus_R4[yslice, xslice].rebin(n).mask\n",
    ")\n",
    "df = pd.DataFrame(\n",
    "    {\n",
    "        \"R3 = 7263 / (4711 + 4740)\": x[m],\n",
    "        \"R4 = 7171 / (4711 + 4740)\": y[m],\n",
    "        \"R1 = 4711 / 4740\": z[m],\n",
    "    }\n",
    ")\n",
    "g = sns.pairplot(\n",
    "    df,\n",
    "    kind=\"kde\",\n",
    "    diag_kind=\"hist\",\n",
    "    height=4,\n",
    "    corner=True,\n",
    "    plot_kws=dict(\n",
    "        weights=z[m],\n",
    "    ),\n",
    "    diag_kws=dict(\n",
    "        weights=w[m],\n",
    "        #    bins=128//n,\n",
    "    ),\n",
    ")\n",
    "g.axes[1, 0].plot(rr3, rr4, color=\"k\")\n",
    "g.axes[1, 0].plot(_rr3, _rr4, color=\"k\")\n",
    "\n",
    "g.axes[2, 0].plot(rr3, rr1, color=\"k\")\n",
    "g.axes[2, 0].plot(_rr3, _rr1, color=\"k\")\n",
    "\n",
    "g.axes[2, 1].plot(rr4, rr1, color=\"k\")\n",
    "g.axes[2, 1].plot(_rr4, _rr1, color=\"k\")\n",
    "\n",
    "# g = sns.pairplot(\n",
    "#    df,\n",
    "#    kind=\"scatter\",\n",
    "#    height=4,\n",
    "#    corner=True,\n",
    "#    plot_kws=dict(\n",
    "#        linewidth=0,\n",
    "#        alpha=0.5,\n",
    "#    ),\n",
    "#    diag_kws=dict(\n",
    "#        weights=w[m],\n",
    "#        bins=128//n),\n",
    "# )\n",
    "g.fig.suptitle(\"Correlation between [Ar IV] R1, R3, and R4\")"
   ]
  },
  {
   "cell_type": "markdown",
   "id": "40fac143",
   "metadata": {},
   "source": [
    "Following function is copied from the matplotlib docs.  Ideas originally from https://carstenschelp.github.io/2018/09/14/Plot_Confidence_Ellipse_001.html\n",
    "\n",
    "I have modified it to include a weight array."
   ]
  },
  {
   "cell_type": "code",
   "execution_count": null,
   "id": "6a13f2c7",
   "metadata": {},
   "outputs": [],
   "source": [
    "from matplotlib.patches import Ellipse\n",
    "import matplotlib.transforms as transforms\n",
    "\n",
    "# See: https://carstenschelp.github.io/2018/09/14/Plot_Confidence_Ellipse_001.html\n",
    "\n",
    "\n",
    "def confidence_ellipse(x, y, w, ax, n_std=3.0, facecolor=\"none\", **kwargs):\n",
    "    \"\"\"\n",
    "    Create a plot of the covariance confidence ellipse of *x* and *y*.\n",
    "\n",
    "    Parameters\n",
    "    ----------\n",
    "    x, y : array-like, shape (n, )\n",
    "        Input data.\n",
    "\n",
    "    w : array-like, shape (n, )\n",
    "        Weights of each input point.\n",
    "\n",
    "    ax : matplotlib.axes.Axes\n",
    "        The axes object to draw the ellipse into.\n",
    "\n",
    "    n_std : float\n",
    "        The number of standard deviations to determine the ellipse's radiuses.\n",
    "\n",
    "    **kwargs\n",
    "        Forwarded to `~matplotlib.patches.Ellipse`\n",
    "\n",
    "    Returns\n",
    "    -------\n",
    "    matplotlib.patches.Ellipse\n",
    "    \"\"\"\n",
    "    if x.size != y.size:\n",
    "        raise ValueError(\"x and y must be the same size\")\n",
    "\n",
    "    cov = np.cov(x, y, aweights=w)\n",
    "    pearson = cov[0, 1] / np.sqrt(cov[0, 0] * cov[1, 1])\n",
    "    # Using a special case to obtain the eigenvalues of this\n",
    "    # two-dimensionl dataset.\n",
    "    ell_radius_x = np.sqrt(1 + pearson)\n",
    "    ell_radius_y = np.sqrt(1 - pearson)\n",
    "    ellipse = Ellipse(\n",
    "        (0, 0),\n",
    "        width=ell_radius_x * 2,\n",
    "        height=ell_radius_y * 2,\n",
    "        facecolor=facecolor,\n",
    "        **kwargs,\n",
    "    )\n",
    "\n",
    "    # Calculating the stdandard deviation of x from\n",
    "    # the squareroot of the variance and multiplying\n",
    "    # with the given number of standard deviations.\n",
    "    scale_x = np.sqrt(cov[0, 0]) * n_std\n",
    "    mean_x = np.average(x, weights=w)\n",
    "\n",
    "    # calculating the stdandard deviation of y ...\n",
    "    scale_y = np.sqrt(cov[1, 1]) * n_std\n",
    "    mean_y = np.average(y, weights=w)\n",
    "\n",
    "    transf = (\n",
    "        transforms.Affine2D()\n",
    "        .rotate_deg(45)\n",
    "        .scale(scale_x, scale_y)\n",
    "        .translate(mean_x, mean_y)\n",
    "    )\n",
    "\n",
    "    ellipse.set_transform(transf + ax.transData)\n",
    "    return ax.add_patch(ellipse)"
   ]
  },
  {
   "cell_type": "code",
   "execution_count": null,
   "id": "a688c8b8",
   "metadata": {},
   "outputs": [],
   "source": [
    "n = 8\n",
    "xslice, yslice = slice(230, 300), slice(144, 245)\n",
    "w_low_cutoff = 250\n",
    "w_mid_cutoff = 350  # 375\n",
    "xymin, xymax = 0.011, 0.059\n",
    "zzmin, zzmax = 1.11, 1.5\n",
    "\n",
    "w = im_ariv_sum[yslice, xslice].rebin(n).data\n",
    "x = im7263r[yslice, xslice].rebin(n).data / w\n",
    "y = im7171r[yslice, xslice].rebin(n).data / w\n",
    "z = im4711r[yslice, xslice].rebin(n).data / im4740r[yslice, xslice].rebin(n).data\n",
    "m = w > w_mid_cutoff  # & (w < wmax)\n",
    "# m = m & (x + y > 0.25*ratio) & (x + y < 2*ratio)\n",
    "m = m & (z > 1.1) & (z < 2.1)\n",
    "# m = m & ~ariv_R1[yslice, xslice].rebin(n).mask & ~ariv_R3_plus_R4[yslice, xslice].rebin(n).mask\n",
    "df = pd.DataFrame(\n",
    "    {\n",
    "        \"(7171 + 7263) / (4711 + 4740)\": x[m] + y[m],\n",
    "        \"4711 / 4740\": z[m],\n",
    "        \"sum\": w[m],\n",
    "    }\n",
    ").sort_values(by=\"sum\")\n",
    "mean_R1 = np.average(z[m], weights=w[m])\n",
    "mean_R34 = np.average(x[m] + y[m], weights=w[m])\n",
    "\n",
    "var_R1 = np.average((z[m] - mean_R1) ** 2, weights=w[m])\n",
    "var_R34 = np.average((x[m] + y[m] - mean_R34) ** 2, weights=w[m])\n",
    "\n",
    "sig_R1 = np.sqrt(var_R1)\n",
    "sig_R34 = np.sqrt(var_R34)\n",
    "\n",
    "text = f\"R1 = {mean_R1:.3f} +/- {sig_R1:.3f}\"\n",
    "text += f\", (R3 + R4) = {mean_R34:.3f} +/- {sig_R34:.3f}\"\n",
    "\n",
    "_vars = df.columns[:2]\n",
    "g = sns.pairplot(\n",
    "    df,\n",
    "    x_vars=_vars,\n",
    "    y_vars=_vars,\n",
    "    kind=\"scatter\",\n",
    "    diag_kind=\"hist\",\n",
    "    height=4,\n",
    "    corner=True,\n",
    "    plot_kws=dict(\n",
    "        # weights=z[m],\n",
    "        c=df[\"sum\"],\n",
    "        cmap=\"Blues\",\n",
    "        s=200,\n",
    "        vmin=w_low_cutoff,\n",
    "    ),\n",
    "    diag_kws=dict(\n",
    "        weights=w[m],\n",
    "        bins=8,\n",
    "        #    bins=128//n,\n",
    "    ),\n",
    ")\n",
    "g.axes[1, 0].plot(rr3 + rr4, rr1, color=\"k\")\n",
    "g.axes[1, 0].plot(_rr3 + _rr4, _rr1, color=\"k\")\n",
    "confidence_ellipse(\n",
    "    x[m] + y[m],\n",
    "    z[m],\n",
    "    w[m],\n",
    "    g.axes[1, 0],\n",
    "    n_std=1,\n",
    "    edgecolor=\"red\",\n",
    "    linewidth=2,\n",
    ")\n",
    "g.axes[1, 0].scatter(\n",
    "    mean_R34,\n",
    "    mean_R1,\n",
    "    c=\"r\",\n",
    "    marker=\"+\",\n",
    "    s=400,\n",
    "    linewidth=3,\n",
    ")\n",
    "\n",
    "g.axes[1, 0].set_xlim(xymin, xymax)\n",
    "g.axes[1, 0].set_ylim(zzmin, zzmax)\n",
    "\n",
    "g.axes[1, 1].set_xlim(*g.axes[1, 0].get_ylim())\n",
    "g.axes[0, 0].set_xlim(*g.axes[1, 0].get_xlim())\n",
    "\n",
    "g.fig.savefig(ROOT / \"figs/ngc346-PZ-bow-shock-ariv-diagnostics.pdf\")\n",
    "# g.fig.suptitle(\"Correlation between [Ar IV] ratios\");\n",
    "text"
   ]
  },
  {
   "cell_type": "code",
   "execution_count": null,
   "id": "01e34e63",
   "metadata": {},
   "outputs": [],
   "source": [
    "n = 8\n",
    "xslice, yslice = slice(230, 300), slice(144, 245)\n",
    "w_low_cutoff = 250\n",
    "w_mid_cutoff = 350  # 375\n",
    "xymin, xymax = 0.003, 0.033\n",
    "zzmin, zzmax = 1.11, 1.5\n",
    "\n",
    "w = im_ariv_sum[yslice, xslice].rebin(n).data\n",
    "x = im7263r[yslice, xslice].rebin(n).data / w\n",
    "y = im7171r[yslice, xslice].rebin(n).data / w\n",
    "z = im4711r[yslice, xslice].rebin(n).data / im4740r[yslice, xslice].rebin(n).data\n",
    "m = w > w_mid_cutoff  # & (w < wmax)\n",
    "# m = m & (x + y > 0.25*ratio) & (x + y < 2*ratio)\n",
    "m = m & (z > 1.1) & (z < 2.1)\n",
    "# m = m & ~ariv_R1[yslice, xslice].rebin(n).mask & ~ariv_R3_plus_R4[yslice, xslice].rebin(n).mask\n",
    "df = pd.DataFrame(\n",
    "    {\n",
    "        \"7263 / (4711 + 4740)\": x[m],\n",
    "        \"4711 / 4740\": z[m],\n",
    "        \"sum\": w[m],\n",
    "    }\n",
    ").sort_values(by=\"sum\")\n",
    "mean_R1 = np.average(z[m], weights=w[m])\n",
    "mean_R34 = np.average(x[m], weights=w[m])\n",
    "\n",
    "var_R1 = np.average((z[m] - mean_R1) ** 2, weights=w[m])\n",
    "var_R34 = np.average((x[m] - mean_R34) ** 2, weights=w[m])\n",
    "\n",
    "sig_R1 = np.sqrt(var_R1)\n",
    "sig_R34 = np.sqrt(var_R34)\n",
    "\n",
    "text = f\"R1 = {mean_R1:.3f} +/- {sig_R1:.3f}\"\n",
    "text += f\", R3 = {mean_R34:.3f} +/- {sig_R34:.3f}\"\n",
    "\n",
    "_vars = df.columns[:2]\n",
    "g = sns.pairplot(\n",
    "    df,\n",
    "    x_vars=_vars,\n",
    "    y_vars=_vars,\n",
    "    kind=\"scatter\",\n",
    "    diag_kind=\"hist\",\n",
    "    height=4,\n",
    "    corner=True,\n",
    "    plot_kws=dict(\n",
    "        # weights=z[m],\n",
    "        c=df[\"sum\"],\n",
    "        cmap=\"Blues\",\n",
    "        s=200,\n",
    "        vmin=w_low_cutoff,\n",
    "    ),\n",
    "    diag_kws=dict(\n",
    "        weights=w[m],\n",
    "        bins=8,\n",
    "        #    bins=128//n,\n",
    "    ),\n",
    ")\n",
    "g.axes[1, 0].plot(rr3, rr1, color=\"k\")\n",
    "g.axes[1, 0].plot(_rr3, _rr1, color=\"k\")\n",
    "confidence_ellipse(\n",
    "    x[m],\n",
    "    z[m],\n",
    "    w[m],\n",
    "    g.axes[1, 0],\n",
    "    n_std=1,\n",
    "    edgecolor=\"red\",\n",
    "    linewidth=2,\n",
    ")\n",
    "g.axes[1, 0].scatter(\n",
    "    mean_R34,\n",
    "    mean_R1,\n",
    "    c=\"r\",\n",
    "    marker=\"+\",\n",
    "    s=400,\n",
    "    linewidth=3,\n",
    ")\n",
    "\n",
    "g.axes[1, 0].set_xlim(xymin, xymax)\n",
    "g.axes[1, 0].set_ylim(zzmin, zzmax)\n",
    "\n",
    "g.axes[1, 1].set_xlim(*g.axes[1, 0].get_ylim())\n",
    "g.axes[0, 0].set_xlim(*g.axes[1, 0].get_xlim())\n",
    "\n",
    "g.fig.savefig(ROOT / \"figs/ngc346-PZ-bow-shock-ariv-diagnostics-R1-R3.pdf\")\n",
    "# g.fig.suptitle(\"Correlation between [Ar IV] ratios\");\n",
    "text"
   ]
  },
  {
   "cell_type": "code",
   "execution_count": null,
   "id": "6d9ac535",
   "metadata": {},
   "outputs": [],
   "source": [
    "df.columns[:2]"
   ]
  },
  {
   "cell_type": "code",
   "execution_count": null,
   "id": "cffa4f0e",
   "metadata": {},
   "outputs": [],
   "source": [
    "n = 8\n",
    "xslice, yslice = slice(230, 300), slice(144, 245)\n",
    "w_low_cutoff = 250\n",
    "w_mid_cutoff = 350  # 375\n",
    "xymin, xymax = 0.011, 0.059\n",
    "zzmin, zzmax = 1.11, 1.5\n",
    "\n",
    "ww = im_ariv_sum[yslice, xslice].rebin(n)\n",
    "xx = im7263r[yslice, xslice].rebin(n) / ww\n",
    "yy = im7171r[yslice, xslice].rebin(n) / ww\n",
    "xy = xx + yy\n",
    "zz = im4711r[yslice, xslice].rebin(n) / im4740r[yslice, xslice].rebin(n)\n",
    "mm = ww.data > w_low_cutoff  # & (ww.data < wmax)\n",
    "# mm = mm & (xy.data > xymin) & (xy.data < xymax)\n",
    "# mm = mm & (zz.data > zzmin) & (zz.data < zzmax)\n",
    "ww.mask = ww.mask | ~mm | (ww.data < w_mid_cutoff)\n",
    "xy.mask = ww.mask\n",
    "zz.mask = ww.mask\n",
    "fig, axes = plt.subplots(1, 3, sharey=True, figsize=(12, 5))\n",
    "ww.plot(ax=axes[0], colorbar=\"v\", vmin=w_low_cutoff, vmax=None, cmap=\"Blues\")\n",
    "zz.plot(ax=axes[1], colorbar=\"v\", vmin=zzmin, vmax=zzmax, cmap=cmr.amber)\n",
    "xy.plot(ax=axes[2], colorbar=\"v\", vmin=xymin, vmax=xymax, cmap=cmr.ember)\n",
    "fig.tight_layout()\n",
    "fig.savefig(ROOT / \"figs/ngc346-PZ-bow-shock-ariv-diagnostics-maps.pdf\")"
   ]
  },
  {
   "cell_type": "code",
   "execution_count": null,
   "id": "f7b2d180",
   "metadata": {},
   "outputs": [],
   "source": [
    "cov = np.cov(x[m] + y[m], z[m], aweights=w[m])\n",
    "pearson = cov[0, 1] / np.sqrt(cov[0, 0] * cov[1, 1])\n",
    "cov, pearson, np.sqrt(cov[0, 0]), np.sqrt(cov[1, 1])"
   ]
  },
  {
   "cell_type": "code",
   "execution_count": null,
   "id": "0b049d6e",
   "metadata": {},
   "outputs": [],
   "source": [
    "n = 8\n",
    "xslice, yslice = slice(200, 300), slice(100, 250)\n",
    "# xslice, yslice = slice(None, None), slice(None, None)\n",
    "ratio = 0.024\n",
    "wmax = 750\n",
    "w = im_ariv_sum[yslice, xslice].rebin(n).data\n",
    "x = im7263r[yslice, xslice].rebin(n).data / w\n",
    "y = im7171r[yslice, xslice].rebin(n).data / w\n",
    "z = im4711r[yslice, xslice].rebin(n).data / im4740r[yslice, xslice].rebin(n).data\n",
    "# a = im4686[yslice, xslice].rebin(n).data\n",
    "m = (w > 0.2 * wmax) & (w < wmax)\n",
    "m = m & (x > -0 * ratio) & (x < 2 * ratio)\n",
    "m = m & (y > -0 * ratio) & (y < 2 * ratio)\n",
    "m = m & (z > 0.8) & (z < 2.1)  # & (a > 0)\n",
    "m = (\n",
    "    m\n",
    "    & ~ariv_R1[yslice, xslice].rebin(n).mask\n",
    "    & ~ariv_R3_plus_R4[yslice, xslice].rebin(n).mask\n",
    ")\n",
    "df = pd.DataFrame(\n",
    "    {\n",
    "        \"R3 = 7263 / (4711 + 4740)\": x[m],\n",
    "        \"R4 = 7171 / (4711 + 4740)\": y[m],\n",
    "        \"R1 = 4711 / 4740\": z[m],\n",
    "        \"I(4711 + 4740)\": w[m],\n",
    "        # \"I(He II 4686)\": a[m],\n",
    "    }\n",
    ")\n",
    "g = sns.pairplot(\n",
    "    df,\n",
    "    kind=\"kde\",\n",
    "    diag_kind=\"hist\",\n",
    "    height=4,\n",
    "    corner=True,\n",
    "    plot_kws=dict(\n",
    "        weights=z[m],\n",
    "    ),\n",
    "    diag_kws=dict(\n",
    "        weights=w[m],\n",
    "        # bins=128//n,\n",
    "    ),\n",
    ")\n",
    "g.axes[1, 0].plot(rr3, rr4)\n",
    "g.axes[2, 0].plot(rr3, rr1)\n",
    "g.axes[2, 1].plot(rr4, rr1)\n",
    "# g = sns.pairplot(\n",
    "#    df,\n",
    "#    kind=\"scatter\",\n",
    "#    height=4,\n",
    "#    corner=True,\n",
    "#    plot_kws=dict(\n",
    "#        linewidth=0,\n",
    "#        alpha=0.5,\n",
    "#    ),\n",
    "#    diag_kws=dict(\n",
    "#        weights=w[m],\n",
    "#        bins=128//n),\n",
    "# )\n",
    "g.fig.suptitle(\"Correlation between [Ar IV] R1, R3, and R4\")"
   ]
  },
  {
   "cell_type": "code",
   "execution_count": null,
   "id": "bdee82de",
   "metadata": {},
   "outputs": [],
   "source": [
    "ariv.getTemDen(\n",
    "    [0.01, 0.02, 0.03, 0.04], den=10000, to_eval=\"L(7171) / (L(4711) + L(4740))\"\n",
    ")"
   ]
  },
  {
   "cell_type": "code",
   "execution_count": null,
   "id": "50dec592",
   "metadata": {},
   "outputs": [],
   "source": [
    "ariv.getTemDen([0.01, 0.02, 0.03], den=100, to_eval=\"L(7263) / (L(4711) + L(4740))\")"
   ]
  },
  {
   "cell_type": "code",
   "execution_count": null,
   "id": "02f130d3",
   "metadata": {},
   "outputs": [],
   "source": [
    "fig, ax = plt.subplots()\n",
    "ax.plot(rr4, rr1)"
   ]
  },
  {
   "cell_type": "code",
   "execution_count": null,
   "id": "8e302bc3",
   "metadata": {},
   "outputs": [],
   "source": []
  }
 ],
 "metadata": {
  "jupytext": {
   "encoding": "# -*- coding: utf-8 -*-",
   "formats": "ipynb,py:light,md"
  },
  "kernelspec": {
   "display_name": "Python 3 (ipykernel)",
   "language": "python",
   "name": "python3"
  },
  "language_info": {
   "codemirror_mode": {
    "name": "ipython",
    "version": 3
   },
   "file_extension": ".py",
   "mimetype": "text/x-python",
   "name": "python",
   "nbconvert_exporter": "python",
   "pygments_lexer": "ipython3",
   "version": "3.9.9"
  }
 },
 "nbformat": 4,
 "nbformat_minor": 5
}
