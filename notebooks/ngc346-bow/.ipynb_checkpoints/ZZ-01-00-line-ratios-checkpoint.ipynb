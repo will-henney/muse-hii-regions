{
 "cells": [
  {
   "cell_type": "markdown",
   "id": "92b4a39c",
   "metadata": {},
   "source": [
    "# Look at different emission lines and calculate some ratios"
   ]
  },
  {
   "cell_type": "markdown",
   "id": "c5038417",
   "metadata": {},
   "source": [
    "First we load up the data as in the `01-extract-subregions` notebook, except that we now use the Peter Zeidler cube:"
   ]
  },
  {
   "cell_type": "code",
   "execution_count": null,
   "id": "0eca6452",
   "metadata": {},
   "outputs": [],
   "source": [
    "from pathlib import Path\n",
    "import numpy as np\n",
    "from matplotlib import pyplot as plt\n",
    "import seaborn as sns\n",
    "from mpdaf.obj import Cube"
   ]
  },
  {
   "cell_type": "code",
   "execution_count": null,
   "id": "a2edcb39",
   "metadata": {},
   "outputs": [],
   "source": [
    "datapath = Path(\"/Users/will/Work/Muse-Hii-Data/SMC-NGC-346/\")\n",
    "fitsfilepath = datapath / \"PeterZeidler\" / \"DATACUBE_FINAL_fwhm_cor.fits\"\n",
    "cube = Cube(str(fitsfilepath))"
   ]
  },
  {
   "cell_type": "markdown",
   "id": "1f068476",
   "metadata": {},
   "source": [
    "Make a summed spectrum and an (H alpha + continuum) image"
   ]
  },
  {
   "cell_type": "code",
   "execution_count": null,
   "id": "2bea58b1",
   "metadata": {},
   "outputs": [],
   "source": [
    "sp0 = cube.sum(axis=(1, 2))\n",
    "im_ha = cube.select_lambda(6560.0, 6575.0).sum(axis=0)"
   ]
  },
  {
   "cell_type": "markdown",
   "id": "5e9c0439",
   "metadata": {},
   "source": [
    "And tell seaborn to make the graph labels more readable."
   ]
  },
  {
   "cell_type": "code",
   "execution_count": null,
   "id": "53bc7fdc",
   "metadata": {},
   "outputs": [],
   "source": [
    "sns.set_context(\"talk\")"
   ]
  },
  {
   "cell_type": "markdown",
   "id": "0f5bbcf1",
   "metadata": {},
   "source": [
    "## The density-sensitive  [S II] doublet at 6716, 6731 Å"
   ]
  },
  {
   "cell_type": "code",
   "execution_count": null,
   "id": "c046c05b",
   "metadata": {},
   "outputs": [],
   "source": [
    "fig, ax = plt.subplots(figsize=(10, 4))\n",
    "sp0.subspec(6700.0, 6750.0).plot(ax=ax, linewidth=2)\n",
    "ax.set(\n",
    "    yscale=\"log\",\n",
    "    title=\"[S II] red lines\",\n",
    ")\n",
    "sns.despine()"
   ]
  },
  {
   "cell_type": "markdown",
   "id": "ac710e9d",
   "metadata": {},
   "source": [
    "Find background continuum values."
   ]
  },
  {
   "cell_type": "code",
   "execution_count": null,
   "id": "8d9d985c",
   "metadata": {},
   "outputs": [],
   "source": [
    "im_c1 = cube.select_lambda(6710.0, 6715.0).mean(axis=0)\n",
    "im_c2 = cube.select_lambda(6725.0, 6730.0).mean(axis=0)\n",
    "im_c6716 = (im_c1 + im_c2) / 2.0\n",
    "im_c3 = cube.select_lambda(6740.0, 6745.0).mean(axis=0)\n",
    "im_c6731 = (im_c3 + im_c2) / 2.0"
   ]
  },
  {
   "cell_type": "markdown",
   "id": "af0dab5f",
   "metadata": {},
   "source": [
    "The following was a hack to try and resolve the negative intensity problem in the ESO cube.  But it shouldn't be necessary here. In principle, all these values should turn out positive because the PZ cube does not suffer from the sky oversubtraction problem:"
   ]
  },
  {
   "cell_type": "code",
   "execution_count": null,
   "id": "f7f6ae84",
   "metadata": {},
   "outputs": [],
   "source": [
    "im_c6716_00 = im_c6716.data.min()\n",
    "im_c6731_00 = im_c6731.data.min()\n",
    "im_sii16_00 = cube.select_lambda(6715.0, 6725.0).sum(axis=0).data.min()\n",
    "im_sii31_00 = cube.select_lambda(6730.0, 6740.0).sum(axis=0).data.min()\n",
    "im_c6716_00, im_c6731_00, im_sii16_00, im_sii31_00"
   ]
  },
  {
   "cell_type": "markdown",
   "id": "288e030e",
   "metadata": {},
   "source": [
    "So, the only subtraction we will do is the continuum"
   ]
  },
  {
   "cell_type": "code",
   "execution_count": null,
   "id": "3024494d",
   "metadata": {},
   "outputs": [],
   "source": [
    "im_sii16_bgsub = (cube.select_lambda(6715.0, 6725.0) - im_c6716).sum(\n",
    "    axis=0\n",
    ")\n",
    "\n",
    "im_sii31_bgsub = (cube.select_lambda(6730.0, 6740.0) - im_c6731).sum(\n",
    "    axis=0\n",
    ")"
   ]
  },
  {
   "cell_type": "code",
   "execution_count": null,
   "id": "6ec57835",
   "metadata": {},
   "outputs": [],
   "source": [
    "fig = plt.figure(figsize=(10, 10))\n",
    "(im_sii16_bgsub + im_sii31_bgsub).plot(\n",
    "    vmin=0.0,\n",
    "    vmax=20000.0,\n",
    "    use_wcs=True,\n",
    "    cmap=\"magma\",\n",
    "    scale=\"sqrt\",\n",
    "    colorbar=\"v\",\n",
    ")\n",
    "fig.axes[0].set_title(\n",
    "    label=\"[S II] 6716 + 6731 brightness\",\n",
    "    pad=25,\n",
    "    fontsize=\"large\",\n",
    ")"
   ]
  },
  {
   "cell_type": "markdown",
   "id": "6c7f6edb",
   "metadata": {},
   "source": [
    "So this is different from the original version in that the brightness does not go so low. In the next section, we will see how good the zero point really is"
   ]
  },
  {
   "cell_type": "markdown",
   "id": "32667dd9",
   "metadata": {},
   "source": [
    "### Correcting the zero point by matching the line ratio in the low-density limit\n",
    "\n",
    "We will break out pandas and seaborn and plot some correlations:"
   ]
  },
  {
   "cell_type": "code",
   "execution_count": null,
   "id": "58c7de75",
   "metadata": {},
   "outputs": [],
   "source": [
    "import pandas as pd"
   ]
  },
  {
   "cell_type": "code",
   "execution_count": null,
   "id": "6d4461e8",
   "metadata": {},
   "outputs": [],
   "source": [
    "sns.set_color_codes()"
   ]
  },
  {
   "cell_type": "code",
   "execution_count": null,
   "id": "927aac0f",
   "metadata": {},
   "outputs": [],
   "source": [
    "m = im_sii31_bgsub.data + im_sii16_bgsub.data < 20000.0\n",
    "m = m & ~im_ha.mask\n",
    "df = pd.DataFrame(\n",
    "    {\n",
    "        \"6716\": im_sii16_bgsub.data[m],\n",
    "        \"6731\": im_sii31_bgsub.data[m],\n",
    "    }\n",
    ")"
   ]
  },
  {
   "cell_type": "markdown",
   "id": "b00efb3b",
   "metadata": {},
   "source": [
    "We have made a dataframe with two columns, one for 6716 and one for 6731.  We select only those up to a certain brightness, and eliminate the pixels around the border where there is no data.  Somehow, most of our images have lost their mask at this point, but `im_ha` still has it.  We have to remember that the mask is True when the data *are* masked, that is, bad.  Whereas I want a mask `m` for where the data are good, which is why I had to invert it: `~im_ha.mask`"
   ]
  },
  {
   "cell_type": "code",
   "execution_count": null,
   "id": "a76b413e",
   "metadata": {},
   "outputs": [],
   "source": [
    "g = sns.pairplot(\n",
    "    df,\n",
    "    kind=\"hist\",\n",
    "    height=4,\n",
    "    corner=True,\n",
    ")\n",
    "g.axes[1, 0].axvline(0.0, color=\"r\")\n",
    "g.axes[1, 0].axhline(0.0, color=\"r\")\n",
    "g.axes[1, 0].plot([0, 1e4], [0, 1e4 / 1.45], \"--\", color=\"r\")\n",
    "g.fig.suptitle(\"Correlation between 6716 and 6731 brightness\")"
   ]
  },
  {
   "cell_type": "markdown",
   "id": "12077a48",
   "metadata": {},
   "source": [
    "I am plotting a corner plot with the histograms of the two brightnesses plus the joint correlation.  We can see that the relation is closely linear at low brightness, and seems headed for the origin, which is a good sign."
   ]
  },
  {
   "cell_type": "code",
   "execution_count": null,
   "id": "2f87ef93",
   "metadata": {},
   "outputs": [],
   "source": [
    "max_bright = 3000.0\n",
    "m = np.hypot(im_sii31_bgsub.data, im_sii16_bgsub.data) <  max_bright\n",
    "m = m & ~im_ha.mask\n",
    "df = pd.DataFrame(\n",
    "    {\n",
    "        \"6716\": im_sii16_bgsub.data[m] + 0,\n",
    "        \"6731\": im_sii31_bgsub.data[m] + (0 / 1.45) + 0,\n",
    "    }\n",
    ")\n",
    "g = sns.pairplot(\n",
    "    df,\n",
    "    kind=\"hist\",\n",
    "    height=4,\n",
    "    corner=True,\n",
    ")\n",
    "g.axes[1, 0].axvline(0.0, color=\"r\")\n",
    "g.axes[1, 0].axhline(0.0, color=\"r\")\n",
    "g.axes[1, 0].plot([0, max_bright], [0, max_bright / 1.45], \"--\", color=\"r\")\n",
    "g.fig.suptitle(\"Correction to 6716 and 6731 brightnesses\")"
   ]
  },
  {
   "cell_type": "markdown",
   "id": "4ca3051d",
   "metadata": {},
   "source": [
    "To be honest, this looks fine. So this is good for the PZ cube so far. So, we comment out the following since there is no need to do any corrections:"
   ]
  },
  {
   "cell_type": "code",
   "execution_count": null,
   "id": "30e899ef",
   "metadata": {},
   "outputs": [],
   "source": [
    "# im_sii16_bgsub += 120\n",
    "# im_sii31_bgsub += 120 / 1.45 + 165"
   ]
  },
  {
   "cell_type": "code",
   "execution_count": null,
   "id": "39a2ccf3",
   "metadata": {},
   "outputs": [],
   "source": [
    "fig = plt.figure(figsize=(10, 10))\n",
    "(im_sii16_bgsub / im_sii31_bgsub).plot(\n",
    "    vmin=0.8,\n",
    "    vmax=1.55,\n",
    "    use_wcs=True,\n",
    "    cmap=\"rocket\",\n",
    "    scale=\"linear\",\n",
    "    colorbar=\"v\",\n",
    ")\n",
    "fig.axes[0].set_title(\n",
    "    label=\"[S II] 6716 / 6731 ratio\",\n",
    "    pad=25,\n",
    "    fontsize=\"large\",\n",
    ")"
   ]
  },
  {
   "cell_type": "markdown",
   "id": "acf84d23",
   "metadata": {},
   "source": [
    "So, there is quite a lot of apparent density variation.  The density seems to be positively correlated with surface brightness, which is to be expected on physical grounds. This is better behaved than the ESO cube in the low brightness regions\n",
    "\n",
    "We will now investigate that in detail via the histograms."
   ]
  },
  {
   "cell_type": "code",
   "execution_count": null,
   "id": "d5f96f52",
   "metadata": {},
   "outputs": [],
   "source": [
    "max_bright = 15e4\n",
    "min_bright = 300.0\n",
    "m = (im_sii31_bgsub.data < max_bright) & (im_sii16_bgsub.data < max_bright)\n",
    "m = m & (im_sii31_bgsub.data > min_bright) & (im_sii16_bgsub.data > min_bright)\n",
    "m = m & ~im_ha.mask\n",
    "df = pd.DataFrame(\n",
    "    {\n",
    "        \"log10 6716\": np.log10(im_sii16_bgsub.data[m]),\n",
    "        \"log10 6731\": np.log10(im_sii31_bgsub.data[m]),\n",
    "    }\n",
    ")\n",
    "g = sns.pairplot(\n",
    "    df,\n",
    "    kind=\"hist\",\n",
    "    height=4,\n",
    "    corner=True,\n",
    ")\n",
    "g.axes[1, 0].plot(\n",
    "    np.log10([min_bright, max_bright]),\n",
    "    np.log10([min_bright / 1.45, max_bright / 1.45]),\n",
    "    \"--\",\n",
    "    color=\"r\",\n",
    "    label=\"1.45\",\n",
    ")\n",
    "g.axes[1, 0].plot(\n",
    "    np.log10([min_bright, max_bright]),\n",
    "    np.log10([min_bright / 0.45, max_bright / 0.45]),\n",
    "    \":\",\n",
    "    color=\"r\",\n",
    "    label=\"0.45\",\n",
    ")\n",
    "g.axes[1, 0].legend()\n",
    "g.fig.suptitle(\"High end of 6716 and 6731 brightness distributions\")"
   ]
  },
  {
   "cell_type": "markdown",
   "id": "1bb616d6",
   "metadata": {},
   "source": [
    "So, here we are looking at the bright end of the distributions on a logarithmic scale from 1000 to 150,000 in summed brightness of 6716 and 6731.\n",
    "\n",
    "The brightness distributions look approximately log-normal and the correlation is good across the whole range.  There is clear evidence of curving away from the low-density limit of the ratio at high brightness.  The low-density limit is plotted as the red dashed line and the high-density limit is the red dotted line.  The points never get anywhere near the high-density limit."
   ]
  },
  {
   "cell_type": "code",
   "execution_count": null,
   "id": "19882bed",
   "metadata": {},
   "outputs": [],
   "source": [
    "max_bright = 1e6\n",
    "min_bright = 100.0\n",
    "sum_sii = im_sii31_bgsub.data + im_sii16_bgsub.data\n",
    "r_sii = im_sii16_bgsub.data / im_sii31_bgsub.data\n",
    "\n",
    "m = sum_sii < 2 * max_bright\n",
    "m = m & (sum_sii > 2 * min_bright)\n",
    "m = m & ~im_ha.mask\n",
    "m = m & np.isfinite(r_sii) & (r_sii > 0.3) & (r_sii < 1.7)\n",
    "\n",
    "df = pd.DataFrame(\n",
    "    {\n",
    "        \"log10 (6716 + 6731)\": np.log10(sum_sii[m]),\n",
    "        \"ratio 6716/6731\": r_sii[m],\n",
    "    }\n",
    ")\n",
    "g = sns.pairplot(\n",
    "    df,\n",
    "    kind=\"hist\",\n",
    "    height=4,\n",
    "    corner=True,\n",
    ")\n",
    "g.axes[1, 0].axhline(1.45, ls=\"--\", color=\"r\")\n",
    "g.axes[1, 0].axhline(0.45, ls=\":\", color=\"r\")\n",
    "g.fig.suptitle(\"[S II] 6716/6731 ratio versus summed brightness\")"
   ]
  },
  {
   "cell_type": "markdown",
   "id": "f01bb88e",
   "metadata": {},
   "source": [
    "Now, we plot the joint distribution of the ratio and the sum.  This shows more clearly the reduction in ratio at high brightness."
   ]
  },
  {
   "cell_type": "code",
   "execution_count": null,
   "id": "4b7d61c6",
   "metadata": {},
   "outputs": [],
   "source": [
    "fig, ax = plt.subplots(figsize=(10, 5))\n",
    "\n",
    "# Partition pixels into 4 groups according to brightness\n",
    "mpart01 = sum_sii < 2000.0\n",
    "mpart02 = (sum_sii >= 2000.0) & (sum_sii < 8000.0)\n",
    "mpart03 = (sum_sii >= 8000.0) & (sum_sii < 16000.0)\n",
    "mpart04 = sum_sii >= 16000.0\n",
    "\n",
    "sns.histplot(\n",
    "    {\n",
    "        \"very faint: <2000\": r_sii[m & mpart01],\n",
    "        \"faint: 2000–8000\": r_sii[m & mpart02],\n",
    "        \"bright: 8000–16,000\": r_sii[m & mpart03],\n",
    "        \"very bright: >16,000\": r_sii[m & mpart04],\n",
    "    },\n",
    "    cumulative=True,\n",
    "    binrange=(0.4, 1.8),\n",
    "    bins=200,\n",
    "    stat=\"probability\",\n",
    "    common_norm=False,\n",
    "    element=\"poly\",\n",
    "    fill=False,\n",
    "    alpha=0.8,\n",
    "    linewidth=4,\n",
    ")\n",
    "ax.axvline(0.45, ls=\"--\", color=\"k\")\n",
    "ax.axvline(1.45, ls=\"--\", color=\"k\")\n",
    "ax.axhline(0.5, ls=\":\", color=\"k\")\n",
    "ax.set(\n",
    "    xlabel=\"[S II] ratio: 6716 / 6731\",\n",
    "    ylabel=\"CDF\",\n",
    "    title=\"Cumulative $n_\\mathrm{e}$ distribution, partitioned by [S II] brightness\",\n",
    ")"
   ]
  },
  {
   "cell_type": "markdown",
   "id": "2ce4adcc",
   "metadata": {},
   "source": [
    "Finally, we calculate the cumulative distribution of the ratios for four different brightness classes.\n",
    "\n",
    "For the faintest partition (blue line), the noise is dominant, which is why the distribution is broad and encroaches slightly into the forbidden region ($R > 1.45$ – the low-density and high-density limits are shown by vertical dashed lines). Less than was the case for the ESO cube however, \n",
    "and the median value is a fair bit less than 1.45. \n",
    "\n",
    "As we pass to the brighter and brighter partitions (orange, green, red lines), then the CDF \n",
    "first becomes steeper, but without the median changing. This is a suign that the noise is decreasing, but the density not necessarily increasing. But then for > 8000, we do get the median point moving to the left, indicating higher densities.\n",
    "\n",
    "For the brightest partition (red line), the median value is about 1.3, which corresponds to a density of about 200 pcc. The orange line, on the other hand has a median of about 1.4, which is a density of about 30 pcc. *We should use pyneb to invert the ratio properly.*\n",
    "\n",
    "It will be interesting to compare the distribution of $n$ with the distribution of brightness."
   ]
  },
  {
   "cell_type": "markdown",
   "id": "1e8eb97f",
   "metadata": {},
   "source": [
    "## [N II] lines\n",
    "\n",
    "So, first, we can try and find the correction for [N II] 6548 and 6583.  They have the advantage that the ratio should be constant.\n",
    "\n",
    "\n"
   ]
  },
  {
   "cell_type": "code",
   "execution_count": null,
   "id": "183c9b91",
   "metadata": {},
   "outputs": [],
   "source": [
    "im_blue_cont = cube.select_lambda(6540.0, 6545.0).mean(axis=0)\n",
    "im_red_cont = cube.select_lambda(6555.0, 6560.0).mean(axis=0)\n",
    "im_6548_cont = (im_blue_cont + im_red_cont) / 2.0\n",
    "im_6548_bgsub = (cube.select_lambda(6545.0, 6555.0) - im_6548_cont).sum(axis=0)\n",
    "\n",
    "\n",
    "im_blue_cont = cube.select_lambda(6575.0, 6580.0).mean(axis=0)\n",
    "im_red_cont = cube.select_lambda(6590.0, 6595.0).mean(axis=0)\n",
    "im_6583_cont = (im_blue_cont + im_red_cont) / 2.0\n",
    "im_6583_bgsub = (cube.select_lambda(6580.0, 6590.0) - im_6548_cont).sum(axis=0)"
   ]
  },
  {
   "cell_type": "code",
   "execution_count": null,
   "id": "57fc246e",
   "metadata": {},
   "outputs": [],
   "source": [
    "fig = plt.figure(figsize=(10, 10))\n",
    "(im_6583_bgsub + im_6548_bgsub).plot(\n",
    "    vmin=0.0,\n",
    "    vmax=10000.0,\n",
    "    use_wcs=True,\n",
    "    cmap=\"magma\",\n",
    "    scale=\"sqrt\",\n",
    "    colorbar=\"v\",\n",
    ")\n",
    "fig.axes[0].set_title(\n",
    "    label=\"[N II] 6548 + 6583 brightness\",\n",
    "    pad=25,\n",
    "    fontsize=\"large\",\n",
    ")"
   ]
  },
  {
   "cell_type": "markdown",
   "id": "8f37d17a",
   "metadata": {},
   "source": [
    "So, apart for some stars, the intensity stays positive, which is good"
   ]
  },
  {
   "cell_type": "code",
   "execution_count": null,
   "id": "ac733296",
   "metadata": {},
   "outputs": [],
   "source": [
    "bright_max = 1500.0\n",
    "nii_sum = 3 * im_6548_bgsub.data + im_6583_bgsub.data\n",
    "m = (nii_sum < 4 * bright_max) & (nii_sum > 0)\n",
    "m = m & ~im_ha.mask\n",
    "df = pd.DataFrame(\n",
    "    {\n",
    "        \"6548\": im_6548_bgsub.data[m],\n",
    "        \"6583\": im_6583_bgsub.data[m],\n",
    "    }\n",
    ")\n",
    "\n",
    "g = sns.pairplot(\n",
    "    df,\n",
    "    kind=\"hist\",\n",
    "    height=4,\n",
    "    corner=True,\n",
    ")\n",
    "g.axes[1, 0].axvline(0.0, color=\"r\")\n",
    "g.axes[1, 0].axhline(0.0, color=\"r\")\n",
    "g.axes[1, 0].plot([0, bright_max], [0, bright_max * 3], \"--\", color=\"r\")\n",
    "g.fig.suptitle(\"Correlation between 6548 and 6583 brightness\")"
   ]
  },
  {
   "cell_type": "markdown",
   "id": "d37e7287",
   "metadata": {},
   "source": [
    "So this is fine. No need to do the tedious corrrections that we did before."
   ]
  },
  {
   "cell_type": "code",
   "execution_count": null,
   "id": "045cbacf",
   "metadata": {},
   "outputs": [],
   "source": [
    "cube.mask.shape"
   ]
  },
  {
   "cell_type": "code",
   "execution_count": null,
   "id": "bdcfe882",
   "metadata": {},
   "outputs": [],
   "source": [
    "m = np.array(im_6583_bgsub.data) < -3 * 180\n",
    "m.sum(), m.sum() / np.product(m.shape)"
   ]
  },
  {
   "cell_type": "code",
   "execution_count": null,
   "id": "b3fa92bc",
   "metadata": {},
   "outputs": [],
   "source": [
    "mmm = np.repeat(m[None, :, :], cube.data.shape[0], axis=0).astype(float)\n",
    "mmm.sum(), mmm.sum() / np.product(mmm.shape)"
   ]
  },
  {
   "cell_type": "code",
   "execution_count": null,
   "id": "87a125c1",
   "metadata": {},
   "outputs": [],
   "source": [
    "sp_faint = np.average(cube.data, weights=mmm, axis=(1, 2))"
   ]
  },
  {
   "cell_type": "code",
   "execution_count": null,
   "id": "e049495d",
   "metadata": {},
   "outputs": [],
   "source": [
    "sp1 = sp0.clone()"
   ]
  },
  {
   "cell_type": "code",
   "execution_count": null,
   "id": "8f534a24",
   "metadata": {},
   "outputs": [],
   "source": [
    "sp1.data = sp_faint\n",
    "sp1.info()"
   ]
  },
  {
   "cell_type": "code",
   "execution_count": null,
   "id": "358cbff5",
   "metadata": {},
   "outputs": [],
   "source": [
    "fig, ax = plt.subplots(figsize=(10, 4))\n",
    "sp1.subspec(6700.0, 6750.0).plot(ax=ax, linewidth=2)\n",
    "ax.set(\n",
    "    yscale=\"log\",\n",
    "    title=\"[S II] red lines in faint region\",\n",
    ")\n",
    "sns.despine()"
   ]
  },
  {
   "cell_type": "code",
   "execution_count": null,
   "id": "95ba3835",
   "metadata": {
    "lines_to_next_cell": 2
   },
   "outputs": [],
   "source": [
    "cube.mask_selection?"
   ]
  },
  {
   "cell_type": "markdown",
   "id": "bee55871",
   "metadata": {},
   "source": [
    "## Other lines"
   ]
  },
  {
   "cell_type": "code",
   "execution_count": null,
   "id": "17501bda",
   "metadata": {},
   "outputs": [],
   "source": [
    "fig, ax = plt.subplots(figsize=(10, 4))\n",
    "sp0.subspec(5720.0, 5820.0).plot(ax=ax, linewidth=2)\n",
    "ax.set(\n",
    "    yscale=\"log\",\n",
    "    title=\"[N II] 5755 Å\",\n",
    ")\n",
    "sns.despine()"
   ]
  },
  {
   "cell_type": "code",
   "execution_count": null,
   "id": "194fc344",
   "metadata": {},
   "outputs": [],
   "source": [
    "fig, ax = plt.subplots(figsize=(10, 4))\n",
    "sp0.subspec(6270.0, 6390.0).plot(ax=ax, linewidth=2)\n",
    "ax.set(\n",
    "    yscale=\"log\",\n",
    "    title=\"[O I] 6300,6363 Å and [S III] 6312 Å\",\n",
    ")\n",
    "sns.despine()"
   ]
  },
  {
   "cell_type": "code",
   "execution_count": null,
   "id": "3afb70f5",
   "metadata": {},
   "outputs": [],
   "source": [
    "fig, ax = plt.subplots(figsize=(10, 4))\n",
    "sp0.subspec(9050, 9100).plot(ax=ax, linewidth=2)\n",
    "ax.set(\n",
    "    yscale=\"log\",\n",
    "    title=\"[S III] 9069 Å\",\n",
    ")\n",
    "sns.despine()"
   ]
  },
  {
   "cell_type": "code",
   "execution_count": null,
   "id": "e440bb42",
   "metadata": {},
   "outputs": [],
   "source": [
    "im_c6312 = cube.select_lambda(6320.0, 6340.0).mean(axis=0)\n",
    "im_c2 = cube.select_lambda(9065.0, 9070.0).mean(axis=0)\n",
    "im_c3 = cube.select_lambda(9080.0, 9085.0).mean(axis=0)\n",
    "im_c9069 = (im_c3 + im_c2) / 2.0"
   ]
  },
  {
   "cell_type": "code",
   "execution_count": null,
   "id": "bd60513d",
   "metadata": {},
   "outputs": [],
   "source": [
    "im_siii6312_bgsub = (cube.select_lambda(6310.0, 6320.0) - im_c6312).sum(axis=0)\n",
    "im_siii9069_bgsub = (cube.select_lambda(9070.0, 9080.0) - im_c9069).sum(axis=0)"
   ]
  },
  {
   "cell_type": "markdown",
   "id": "d2ca1dec",
   "metadata": {},
   "source": [
    "No need to correct these brightnesses"
   ]
  },
  {
   "cell_type": "code",
   "execution_count": null,
   "id": "fd9ecb65",
   "metadata": {},
   "outputs": [],
   "source": [
    "# im_siii6312_bgsub += 150.0\n",
    "# im_siii9069_bgsub -= im_siii9069_bgsub.data.min()"
   ]
  },
  {
   "cell_type": "code",
   "execution_count": null,
   "id": "eb348d5b",
   "metadata": {},
   "outputs": [],
   "source": [
    "fig, ax = plt.subplots(figsize=(10, 10))\n",
    "im_siii9069_bgsub.plot(\n",
    "    vmin=0.0,\n",
    "    vmax=10000.0,\n",
    "    use_wcs=True,\n",
    "    cmap=\"gray_r\",\n",
    "    scale=\"linear\",\n",
    "    colorbar=\"v\",\n",
    ")"
   ]
  },
  {
   "cell_type": "code",
   "execution_count": null,
   "id": "5a6f16c1",
   "metadata": {},
   "outputs": [],
   "source": [
    "fig, ax = plt.subplots(figsize=(10, 10))\n",
    "(im_siii6312_bgsub / im_siii9069_bgsub).plot(\n",
    "    vmin=0.06,\n",
    "    vmax=0.12,\n",
    "    use_wcs=True,\n",
    "    cmap=\"gist_heat\",\n",
    "    scale=\"linear\",\n",
    "    colorbar=\"v\",\n",
    ")"
   ]
  },
  {
   "cell_type": "markdown",
   "id": "a6582b09",
   "metadata": {},
   "source": [
    "A lot of this structure is due to reddeneing, especially along the bottom edge. But still, the veariation is much less than we saw before, which is encouraging."
   ]
  },
  {
   "cell_type": "code",
   "execution_count": null,
   "id": "fd39f698",
   "metadata": {},
   "outputs": [],
   "source": [
    "fig = plt.figure(figsize=(10, 10))\n",
    "(im_siii9069_bgsub / im_sii31_bgsub).plot(\n",
    "    vmin=0.8,\n",
    "    vmax=10.0,\n",
    "    use_wcs=True,\n",
    "    cmap=\"magma\",\n",
    "    scale=\"log\",\n",
    "    colorbar=\"v\",\n",
    ")\n",
    "ax = fig.axes[0]\n",
    "ax.set(\n",
    "    title=\"[S III] 9069 / [S II] 6731\",\n",
    ")"
   ]
  },
  {
   "cell_type": "markdown",
   "id": "787988e7",
   "metadata": {},
   "source": [
    "This is much better than before too. The ratio gets high in the high-ionization places we expect it to get high, not just in random faint patches."
   ]
  },
  {
   "cell_type": "code",
   "execution_count": null,
   "id": "ca97161a",
   "metadata": {},
   "outputs": [],
   "source": []
  }
 ],
 "metadata": {
  "jupytext": {
   "encoding": "# -*- coding: utf-8 -*-",
   "formats": "ipynb,py:light,md"
  },
  "kernelspec": {
   "display_name": "Python 3",
   "language": "python",
   "name": "python3"
  }
 },
 "nbformat": 4,
 "nbformat_minor": 5
}
