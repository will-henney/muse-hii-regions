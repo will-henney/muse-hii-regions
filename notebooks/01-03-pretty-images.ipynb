{
 "cells": [
  {
   "cell_type": "markdown",
   "id": "b9296587-37af-45ec-83d9-89cbafe34a70",
   "metadata": {},
   "source": [
    "# Pretty color images of the line maps\n"
   ]
  },
  {
   "cell_type": "code",
   "execution_count": null,
   "id": "271b6e25-eed5-44a5-a20d-128604d1b7fd",
   "metadata": {},
   "outputs": [],
   "source": [
    "from pathlib import Path\n",
    "import numpy as np\n",
    "from matplotlib import pyplot as plt\n",
    "from astropy.visualization import make_lupton_rgb\n",
    "from astropy.visualization.lupton_rgb import LinearMapping\n",
    "from astropy.io import fits\n",
    "from astropy.wcs import WCS\n",
    "from astropy.convolution import Gaussian2DKernel\n",
    "from astropy.convolution import convolve, convolve_fft\n",
    "import seaborn as sns\n",
    "from mpdaf.obj import Image\n",
    "import regions\n",
    "import sys\n",
    "import pandas as pd\n",
    "import cmasher as cmr\n",
    "import pyneb as pn\n",
    "sys.path.append(\"../lib\")\n",
    "from wcsfile import wcsfile\n",
    "\n",
    "sns.set_context(\"talk\")\n",
    "sns.set_color_codes()"
   ]
  },
  {
   "cell_type": "markdown",
   "id": "160926c5-ff87-4393-84e7-7fb2d3bcbf11",
   "metadata": {},
   "source": [
    "We want to read in the images that I have saved from the MUSE datacube.  But, the WCS need to be corrected to the Gaia frame.  For that, we use the simple header file that I have written. "
   ]
  },
  {
   "cell_type": "code",
   "execution_count": null,
   "id": "a323237f-941b-4e82-95c2-43d3c0c92aa7",
   "metadata": {},
   "outputs": [],
   "source": [
    "datadir = Path(\"../data\")\n",
    "HDU = \"DATA\"\n",
    "def load_and_scale_image(fn, v1, v2, ihdu=HDU):\n",
    "    data = fits.open(datadir / f\"ngc346-{fn}.fits\")[ihdu].data\n",
    "    return (data - v1) / (v2 - v1)\n",
    "\n",
    "\n",
    "def make_rgb_wcs(chandata):\n",
    "    chan_images = []\n",
    "    for chanid, v1, v2 in chandata:\n",
    "        chan_images.append(load_and_scale_image(chanid, v1, v2))\n",
    "    w = WCS(wcsfile.read(datadir / \"ngc346-muse-deep-2d-gaia.wcs\"))\n",
    "#    w = WCS(fits.open(datadir / f\"ngc346-{chanid}.fits\")[HDU].header)\n",
    "    return chan_images, w\n",
    "\n",
    "STRETCH = 0.9\n",
    "Q = 2.5"
   ]
  },
  {
   "cell_type": "code",
   "execution_count": null,
   "id": "c9c84b7d-1320-4781-a23b-786ccd069472",
   "metadata": {},
   "outputs": [],
   "source": [
    "chandata = [\n",
    "    [\"heii-4686-correct\", 0.0, 350.0],\n",
    "    [\"ariv-4711-plus-4740-correct\", 0.0, 700.0],\n",
    "    [\"cont-4686-mean\", 0.0, 1e4],\n",
    "]\n",
    "[r, g, b], w = make_rgb_wcs(chandata)\n",
    "#image = make_lupton_rgb(r, g, b, stretch=STRETCH, Q=Q)\n",
    "image = LinearMapping(0.0, 1.0).make_rgb_image(r, g, b)\n",
    "fig, ax = plt.subplots(figsize=(8, 6), subplot_kw=dict(projection=w.celestial))\n",
    "ax.imshow(image)\n",
    "ax.set(\n",
    "    xlabel=\" \",\n",
    "    ylabel=\" \",\n",
    ")\n",
    "fig.savefig(\"../figs/ngc-346-bow-multi-muse-high-ion.pdf\");"
   ]
  },
  {
   "cell_type": "code",
   "execution_count": null,
   "id": "8f437094-a289-4505-934f-a42fb8fc9332",
   "metadata": {},
   "outputs": [],
   "source": [
    "chandata = [\n",
    "    [\"oi-6300-bin01-sum\", 0.0, 1500.0],\n",
    "    [\"sii-6731-bin01-sum\", 0.0, 7000.0],\n",
    "    [\"siii-9069-bin01-sum\", 0.0, 6e3],\n",
    "]\n",
    "[r, g, b], wm = make_rgb_wcs(chandata)\n",
    "image = make_lupton_rgb(r, g, b, stretch=STRETCH, Q=Q)\n",
    "#image = LinearMapping(0.0, 1.0).make_rgb_image(r, g, b)\n",
    "fig, ax = plt.subplots(figsize=(8, 6), subplot_kw=dict(projection=wm))\n",
    "ax.imshow(image)\n",
    "ax.set(\n",
    "    xlabel=\" \",\n",
    "    ylabel=\" \",\n",
    ")\n",
    "fig.savefig(\"../figs/ngc-346-bow-multi-muse-low-ion.pdf\");"
   ]
  },
  {
   "cell_type": "code",
   "execution_count": null,
   "id": "58943771-5251-4476-86ba-ce55a3b75cc0",
   "metadata": {},
   "outputs": [],
   "source": [
    "list(datadir.glob(\"*.wcs\"))"
   ]
  },
  {
   "cell_type": "code",
   "execution_count": null,
   "id": "f30533ac-fbce-40df-8d41-9d1bed2310fd",
   "metadata": {},
   "outputs": [],
   "source": [
    "w = WCS(wcsfile.read(datadir / \"ngc346-muse-deep-2d-gaia.wcs\"))\n",
    "w"
   ]
  },
  {
   "cell_type": "code",
   "execution_count": null,
   "id": "265042ce-c756-4fee-9616-3121a95bcc9c",
   "metadata": {},
   "outputs": [],
   "source": [
    "hduacs = fits.open(\"../big-data/ngc346-hst-acs-f658n-wcsgaia.fits\")[\"SCI\"]\n",
    "wacs = WCS(hduacs.header)"
   ]
  },
  {
   "cell_type": "code",
   "execution_count": null,
   "id": "f847cdf5-3451-4040-ba1e-3d2161bf7249",
   "metadata": {},
   "outputs": [],
   "source": [
    "fig, ax = plt.subplots(figsize=(8, 6), subplot_kw=dict(projection=wacs))\n",
    "ax.imshow(hduacs.data, cmap=\"gray_r\", vmin=0.05, vmax=0.9)\n",
    "ax.set(\n",
    "    xlabel=\" \",\n",
    "    ylabel=\" \",\n",
    ")\n",
    "fig.savefig(\"../figs/ngc-346-bow-multi-acs-wide.pdf\");"
   ]
  },
  {
   "cell_type": "code",
   "execution_count": null,
   "id": "5d8ffdf6-9b2f-4afe-b6a5-05b7c017cbd4",
   "metadata": {},
   "outputs": [],
   "source": [
    "fig, ax = plt.subplots(figsize=(8, 6), subplot_kw=dict(projection=wacs))\n",
    "ax.imshow(hduacs.data, cmap=\"gray_r\", vmin=0.25, vmax=0.6)\n",
    "gauss = Gaussian2DKernel(x_stddev=1.5)\n",
    "imariv = fits.open(datadir / f\"ngc346-ariv-4711-plus-4740-correct.fits\")[\"DATA\"].data\n",
    "imariv_s = convolve(imariv, gauss)\n",
    "imheii = fits.open(datadir / f\"ngc346-heii-4686-correct.fits\")[\"DATA\"].data\n",
    "imheii_s = convolve(imheii, gauss)\n",
    "ax.contour(\n",
    "    imariv_s, \n",
    "    transform=ax.get_transform(wm),\n",
    "    levels=[350, 560], \n",
    "    colors=\"g\",\n",
    ")\n",
    "ax.contour(\n",
    "    imheii_s, \n",
    "    transform=ax.get_transform(wm),\n",
    "    levels=[150], \n",
    "    colors=\"r\",\n",
    ")\n",
    "ax.set(\n",
    "    xlim=[2800, 3350],\n",
    "    ylim=[2050, 2600],\n",
    "    xlabel=\" \",\n",
    "    ylabel=\" \",\n",
    ")\n",
    "fig.savefig(\"../figs/ngc-346-bow-multi-acs-zoom.pdf\");"
   ]
  },
  {
   "cell_type": "code",
   "execution_count": null,
   "id": "f4f132cf-f31f-46a4-98d7-f60c75e0f0bc",
   "metadata": {},
   "outputs": [],
   "source": []
  }
 ],
 "metadata": {
  "jupytext": {
   "formats": "ipynb,py:light,md"
  },
  "kernelspec": {
   "display_name": "Python 3",
   "language": "python",
   "name": "python3"
  },
  "language_info": {
   "codemirror_mode": {
    "name": "ipython",
    "version": 3
   },
   "file_extension": ".py",
   "mimetype": "text/x-python",
   "name": "python",
   "nbconvert_exporter": "python",
   "pygments_lexer": "ipython3",
   "version": "3.9.4"
  }
 },
 "nbformat": 4,
 "nbformat_minor": 5
}
