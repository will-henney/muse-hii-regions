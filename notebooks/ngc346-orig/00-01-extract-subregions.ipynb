{
 "cells": [
  {
   "cell_type": "markdown",
   "id": "8c57ab5c",
   "metadata": {},
   "source": [
    "# Extracting subregions from a MUSE cube\n",
    "\n",
    "I want to learn how to extract regions along the spatial and wavelength axes and manipulate them to do things continuum subtraction."
   ]
  },
  {
   "cell_type": "code",
   "execution_count": null,
   "id": "0758c51b",
   "metadata": {},
   "outputs": [],
   "source": [
    "from pathlib import Path\n",
    "import numpy as np\n",
    "from matplotlib import pyplot as plt\n",
    "import seaborn as sns\n",
    "from mpdaf.obj import Cube"
   ]
  },
  {
   "cell_type": "code",
   "execution_count": null,
   "id": "d78c3cbf",
   "metadata": {},
   "outputs": [],
   "source": [
    "datapath = Path(\"/Users/will/Work/Muse-Hii-Data/SMC-NGC-346/\")\n",
    "fitsfilepath = datapath / \"ADP.2017-10-16T11_04_19.247.fits\"\n",
    "cube = Cube(str(fitsfilepath))\n",
    "cube.info()"
   ]
  },
  {
   "cell_type": "markdown",
   "id": "3b74453e",
   "metadata": {},
   "source": [
    "## Extracting wavelength slices"
   ]
  },
  {
   "cell_type": "markdown",
   "id": "73fce520",
   "metadata": {},
   "source": [
    "We make a summed spectrum of the entire field again, just like in the previous notebook."
   ]
  },
  {
   "cell_type": "code",
   "execution_count": null,
   "id": "63d588b2",
   "metadata": {},
   "outputs": [],
   "source": [
    "sp0 = cube.sum(axis=(1, 2))"
   ]
  },
  {
   "cell_type": "markdown",
   "id": "2f0c6e35",
   "metadata": {},
   "source": [
    "Now, we take a look at the region around the H alpha line. The `Spectrum.subspec` method allows us to use Å instead of pixels."
   ]
  },
  {
   "cell_type": "code",
   "execution_count": null,
   "id": "a9dfca7b",
   "metadata": {},
   "outputs": [],
   "source": [
    "fig, ax = plt.subplots(figsize=(10, 4))\n",
    "sp0.subspec(6520.0, 6620.0).plot()\n",
    "ax.set(yscale=\"log\")"
   ]
  },
  {
   "cell_type": "markdown",
   "id": "d514ae70",
   "metadata": {},
   "source": [
    "This shows that a good range for extracting Ha would be 6560 to 6575 Å.  So, we just do a simple-minded sum of that range. For some reason, the equivalent of `Spectrum.subspec` for a `Cube` has a different name, `Cube.select_lambda`:"
   ]
  },
  {
   "cell_type": "code",
   "execution_count": null,
   "id": "9a987dd2",
   "metadata": {},
   "outputs": [],
   "source": [
    "im_ha = cube.select_lambda(6560.0, 6575.0).sum(axis=0)"
   ]
  },
  {
   "cell_type": "markdown",
   "id": "a5b37076",
   "metadata": {},
   "source": [
    "And we have a look at it:"
   ]
  },
  {
   "cell_type": "code",
   "execution_count": null,
   "id": "744f564c",
   "metadata": {},
   "outputs": [],
   "source": [
    "fig, ax = plt.subplots(figsize=(10, 10))\n",
    "im_ha.plot(use_wcs=True, cmap=\"gray_r\", scale=\"log\", colorbar=\"v\")"
   ]
  },
  {
   "cell_type": "markdown",
   "id": "02fd34d2",
   "metadata": {},
   "source": [
    "So, that looks good, but it includes the continuum.  A very simple-minded way of removing the continuum would just be to take an average value in line-free wavelength ranges.\n",
    "\n",
    "We can use 6555-60 and 6575-80:"
   ]
  },
  {
   "cell_type": "code",
   "execution_count": null,
   "id": "7d1c4e53",
   "metadata": {},
   "outputs": [],
   "source": [
    "im_blue_cont = cube.select_lambda(6555.0, 6560.0).mean(axis=0)\n",
    "im_red_cont = cube.select_lambda(6575.0, 6580.0).mean(axis=0)\n",
    "im_mean_cont = (im_blue_cont + im_red_cont) / 2.0"
   ]
  },
  {
   "cell_type": "markdown",
   "id": "8db42806",
   "metadata": {},
   "source": [
    "So we have a map of the average continuum from the red and blue sides of the line, which we will now visualize:"
   ]
  },
  {
   "cell_type": "code",
   "execution_count": null,
   "id": "df2093aa",
   "metadata": {},
   "outputs": [],
   "source": [
    "fig, ax = plt.subplots(figsize=(10, 10))\n",
    "im_mean_cont.plot(use_wcs=True, cmap=\"gray_r\", scale=\"log\", colorbar=\"v\")"
   ]
  },
  {
   "cell_type": "markdown",
   "id": "3b53085c",
   "metadata": {},
   "source": [
    "Now I subtract the average continuum level before summing again to find the BG-subtracted line map. We have to do it this way because `im_mean_cont` still has the per-Å units since it is a mean, so we can't just subtract it from `im_ha`."
   ]
  },
  {
   "cell_type": "code",
   "execution_count": null,
   "id": "89c43406",
   "metadata": {},
   "outputs": [],
   "source": [
    "im_ha_bgsub = (cube.select_lambda(6560.0, 6575.0) - im_mean_cont).sum(axis=0)"
   ]
  },
  {
   "cell_type": "code",
   "execution_count": null,
   "id": "e7b0374e",
   "metadata": {},
   "outputs": [],
   "source": [
    "fig, ax = plt.subplots(figsize=(10, 10))\n",
    "im_ha_bgsub.plot(\n",
    "    use_wcs=True,\n",
    "    vmin=-1.5e4,\n",
    "    vmax=1.0e5,\n",
    "    cmap=\"gray_r\",\n",
    "    scale=\"linear\",\n",
    "    colorbar=\"v\",\n",
    ")"
   ]
  },
  {
   "cell_type": "markdown",
   "id": "023f2e8f",
   "metadata": {},
   "source": [
    "So. now we can see beautiful details of the Hα emission. There are chains of globules and elephant-trunk structures that cross the nebula. These are physically quite large – about 2 arcsec, which is about 0.5 parsec.  The entire field is about 15 pc square.\n",
    "\n",
    "The white dots are presumably from the underlying photospheric absorption from some of the stars.  Other stars are seen in emission."
   ]
  },
  {
   "cell_type": "markdown",
   "id": "bade32a0",
   "metadata": {},
   "source": [
    "*Note that the `Cube.get_image()` function can do the continuum subtraction semi-automatically, which may be more convenient in some instances.*"
   ]
  },
  {
   "cell_type": "markdown",
   "id": "603c6839",
   "metadata": {},
   "source": [
    "Strangely, though, the brightnesses go negative"
   ]
  },
  {
   "cell_type": "code",
   "execution_count": null,
   "id": "9d6aa2f2",
   "metadata": {},
   "outputs": [],
   "source": [
    "im_ha.data.min()"
   ]
  },
  {
   "cell_type": "markdown",
   "id": "b8f02e44",
   "metadata": {},
   "source": [
    "Look at a restricted region at the top of the map to avoid most of the stars"
   ]
  },
  {
   "cell_type": "code",
   "execution_count": null,
   "id": "2663d722",
   "metadata": {},
   "outputs": [],
   "source": [
    "im_ha_floor = np.min(im_ha[300:, 50:70].data)\n",
    "im_ha_floor"
   ]
  },
  {
   "cell_type": "code",
   "execution_count": null,
   "id": "ec4a5233",
   "metadata": {},
   "outputs": [],
   "source": [
    "im_cont_floor = np.min(im_mean_cont[-100:, 100:150].data)\n",
    "im_cont_floor"
   ]
  },
  {
   "cell_type": "markdown",
   "id": "bcfd4a2e",
   "metadata": {},
   "source": [
    "This seems to be due to over-subtraction of a sky spectrum.  We will try and deal with this properly later."
   ]
  },
  {
   "cell_type": "markdown",
   "id": "7fbc7771",
   "metadata": {},
   "source": [
    "### Calculate the H alpha equivalent width\n",
    "\n",
    "In wavelength units, the emission line EW is\n",
    "$$\n",
    "W_\\lambda = \\int \\frac{F_\\lambda - F_c}{F_c} \\, d\\lambda\n",
    "$$\n"
   ]
  },
  {
   "cell_type": "code",
   "execution_count": null,
   "id": "aa8a7d0f",
   "metadata": {},
   "outputs": [],
   "source": [
    "wav_pix = cube.get_step()[0]\n",
    "im_ha_ew = wav_pix * (\n",
    "    (im_ha_bgsub - im_ha_floor) / (im_mean_cont - im_cont_floor) - 1.0\n",
    ")"
   ]
  },
  {
   "cell_type": "markdown",
   "id": "82e727b2",
   "metadata": {},
   "source": [
    "To deal with the negative pixels, we just add on the estimated floow value of both the line map and the continuum map."
   ]
  },
  {
   "cell_type": "code",
   "execution_count": null,
   "id": "921d1a00",
   "metadata": {},
   "outputs": [],
   "source": [
    "fig, ax = plt.subplots(figsize=(10, 10))\n",
    "im_ha_ew.plot(\n",
    "    vmin=0.0,\n",
    "    vmax=1500.0,\n",
    "    use_wcs=True,\n",
    "    cmap=\"magma\",\n",
    "    scale=\"sqrt\",\n",
    "    colorbar=\"v\",\n",
    ")"
   ]
  },
  {
   "cell_type": "markdown",
   "id": "b591adcd",
   "metadata": {},
   "source": [
    " ## Extracting spatial regions"
   ]
  },
  {
   "cell_type": "markdown",
   "id": "b4e17907",
   "metadata": {},
   "source": [
    "### Masking of 2D images\n",
    "\n",
    "We will go back to the ha+continuum image and try and plot it without the stars"
   ]
  },
  {
   "cell_type": "code",
   "execution_count": null,
   "id": "32b5961f",
   "metadata": {},
   "outputs": [],
   "source": [
    "savemask = im_ha.mask.copy()\n",
    "savemask"
   ]
  },
  {
   "cell_type": "markdown",
   "id": "720a5031",
   "metadata": {},
   "source": [
    "We mask out the bright continuum sources using `mask_selection`"
   ]
  },
  {
   "cell_type": "code",
   "execution_count": null,
   "id": "5b4e45dc",
   "metadata": {},
   "outputs": [],
   "source": [
    "im_ha.mask_selection(np.where(im_mean_cont.data > 1000.0))"
   ]
  },
  {
   "cell_type": "code",
   "execution_count": null,
   "id": "90091783",
   "metadata": {},
   "outputs": [],
   "source": [
    "fig, ax = plt.subplots(figsize=(10, 10))\n",
    "im_ha.plot(use_wcs=True, cmap=\"viridis\", scale=\"log\", colorbar=\"v\")"
   ]
  },
  {
   "cell_type": "markdown",
   "id": "e41e10be",
   "metadata": {},
   "source": [
    "What this uses is an array of pixels, such as provided by `np.where`:"
   ]
  },
  {
   "cell_type": "code",
   "execution_count": null,
   "id": "db21ef8f",
   "metadata": {},
   "outputs": [],
   "source": [
    "bright_cont_selection = np.where(im_mean_cont.data > 1000.0)\n",
    "bright_cont_selection"
   ]
  },
  {
   "cell_type": "markdown",
   "id": "65baa33d",
   "metadata": {},
   "source": [
    "### Masking of a 3D cube (small subcube version)\n",
    "\n",
    "My first attempts at doing this did not work as I expected, so I am going to extract a small sub-cube that will be easy to look at."
   ]
  },
  {
   "cell_type": "markdown",
   "id": "8a96feb6",
   "metadata": {},
   "source": [
    "There are at least three ways that look like they might be used to make a sub-cube:\n",
    "\n",
    "1. `Cube.subcube(center=..., size=..., lbda=..., ...)` cuts out a rectangle.  It returns a view so we would have to do `.copy()`\n",
    "2. `Cube.truncate(coord=[w1, x1, y1, w2, x2, y2], ...)` does return a copy, and with a slightly different interface\n",
    "3. `Cube[k1:k2, j1:j2, i1:i2]` is the simplest approach using pixel slice notation, and should return a copy\n",
    "\n",
    "We will try the third way first, but just for the celestial coordinates, then use `.select_lambda()` to extract a small section of the wavelength axis:"
   ]
  },
  {
   "cell_type": "code",
   "execution_count": null,
   "id": "3bda7480",
   "metadata": {},
   "outputs": [],
   "source": [
    "cc = cube[:, 5:15, 130:140].select_lambda(6554.0, 6581.0)"
   ]
  },
  {
   "cell_type": "code",
   "execution_count": null,
   "id": "38135c54",
   "metadata": {},
   "outputs": [],
   "source": [
    "cc.info()"
   ]
  },
  {
   "cell_type": "markdown",
   "id": "0bee05b3",
   "metadata": {},
   "source": [
    "We have a 10x10 pixel postage stamp, with 22 pixels in wavelength. Some of the pixels are from the image border and are masked, as we can see here:"
   ]
  },
  {
   "cell_type": "code",
   "execution_count": null,
   "id": "499245bb",
   "metadata": {},
   "outputs": [],
   "source": [
    "cc.sum(axis=0).plot(use_wcs=True)"
   ]
  },
  {
   "cell_type": "markdown",
   "id": "29704a01",
   "metadata": {},
   "source": [
    "I chose this region because it contains a star that we can try and mask out.  Here is the spectrum averaged over all pixels and plotted on a linear scale:"
   ]
  },
  {
   "cell_type": "code",
   "execution_count": null,
   "id": "650656a7",
   "metadata": {},
   "outputs": [],
   "source": [
    "fig, ax = plt.subplots(figsize=(10, 4))\n",
    "cc.mean(axis=(1, 2)).plot()\n",
    "ax.set(ylim=[0, None])"
   ]
  },
  {
   "cell_type": "markdown",
   "id": "9b5603be",
   "metadata": {},
   "source": [
    "So, we have roughly equal parts continuum and line emission.\n",
    "\n",
    "Now, we look at the mask (stepping by multiple pixels so it fits on the screen better):"
   ]
  },
  {
   "cell_type": "code",
   "execution_count": null,
   "id": "bbc058a8",
   "metadata": {},
   "outputs": [],
   "source": [
    "cc.mask[::5, ::2, ::2]"
   ]
  },
  {
   "cell_type": "markdown",
   "id": "0eeca2a4",
   "metadata": {},
   "source": [
    "We see a stack of wavelength images. Each has y-axis inverted, so the `True` values in each top row are the bottom line of pixels in each image."
   ]
  },
  {
   "cell_type": "markdown",
   "id": "92cae59e",
   "metadata": {},
   "source": [
    "I am going to try and mask the pixels that have relatively strong continuum, and then recalculate the average spectrum.  With luck, that will make the line stand out more.  First, save the original mask (I use copy here because otherwise they are just different views of the same object - we should also use copy to put the original mask back if we ever want to)."
   ]
  },
  {
   "cell_type": "code",
   "execution_count": null,
   "id": "bf776ada",
   "metadata": {},
   "outputs": [],
   "source": [
    "cc_mask_orig = cc.mask"
   ]
  },
  {
   "cell_type": "code",
   "execution_count": null,
   "id": "b568046b",
   "metadata": {},
   "outputs": [],
   "source": [
    "id(cc_mask_orig), id(cc.mask)"
   ]
  },
  {
   "cell_type": "code",
   "execution_count": null,
   "id": "fedd2534",
   "metadata": {},
   "outputs": [],
   "source": [
    "cc_mask_orig = cc.mask.copy()"
   ]
  },
  {
   "cell_type": "code",
   "execution_count": null,
   "id": "741324ea",
   "metadata": {},
   "outputs": [],
   "source": [
    "id(cc_mask_orig), id(cc.mask)"
   ]
  },
  {
   "cell_type": "markdown",
   "id": "e74bdadd",
   "metadata": {},
   "source": [
    "#### Masking via simple slicing on the celestial pixel axes\n",
    "\n",
    "First, I try doing it by hand with pixel slicing of the mask.  I will attempt to mask out the bottom right of the cube (8x8 pixels), so we just leave a 2 pixel L-shaped strip:"
   ]
  },
  {
   "cell_type": "code",
   "execution_count": null,
   "id": "5d99e12d",
   "metadata": {},
   "outputs": [],
   "source": [
    "cc.mask[:, :8, -8:] = True"
   ]
  },
  {
   "cell_type": "code",
   "execution_count": null,
   "id": "12791868",
   "metadata": {},
   "outputs": [],
   "source": [
    "cc.sum(axis=0).plot(use_wcs=True)"
   ]
  },
  {
   "cell_type": "markdown",
   "id": "d2d4e13c",
   "metadata": {},
   "source": [
    "So that looks OK. Now I check if it has had any effect on the average spectrum:"
   ]
  },
  {
   "cell_type": "code",
   "execution_count": null,
   "id": "9bdc9e44",
   "metadata": {},
   "outputs": [],
   "source": [
    "fig, ax = plt.subplots(figsize=(10, 4))\n",
    "cc.mean(axis=(1, 2)).plot()\n",
    "ax.set(ylim=[0, None])"
   ]
  },
  {
   "cell_type": "markdown",
   "id": "3a8c4c96",
   "metadata": {},
   "source": [
    "Yes, the continuum level is now much lower, although this is at a cost of removing most of the pixels.\n",
    "\n",
    "#### Masking via logical operation to make a boolean array\n",
    "\n",
    "Now, we will see if we can use a logical condition to set the mask.  But first, restore the original"
   ]
  },
  {
   "cell_type": "code",
   "execution_count": null,
   "id": "c2a07a32",
   "metadata": {},
   "outputs": [],
   "source": [
    "cc.mask = cc_mask_orig.copy()"
   ]
  },
  {
   "cell_type": "markdown",
   "id": "32981d5c",
   "metadata": {},
   "source": [
    "We can make a 2D mask, which is true for all pixels where the continuum intensity is more than half the average intensity in the passband:"
   ]
  },
  {
   "cell_type": "code",
   "execution_count": null,
   "id": "5e7c230f",
   "metadata": {},
   "outputs": [],
   "source": [
    "my_mask = cc[:6, :, :].mean(axis=0).data > 0.5 * cc.mean(axis=0).data"
   ]
  },
  {
   "cell_type": "markdown",
   "id": "c8c68121",
   "metadata": {},
   "source": [
    "Note that we had to extract the `.data` before comparing, otherwise we get something very strange.  Even so, the mask we get back is itself a masked array – so it is a masked mask!"
   ]
  },
  {
   "cell_type": "code",
   "execution_count": null,
   "id": "aacd9240",
   "metadata": {},
   "outputs": [],
   "source": [
    "my_mask[::2, ::2]"
   ]
  },
  {
   "cell_type": "markdown",
   "id": "d4703874",
   "metadata": {},
   "source": [
    "The `.data` part has a logical array where our condition is true.  The `.mask` part is another logical array where the cube's mask is true.  We can simplify life by just ORing them together to make a simple array:"
   ]
  },
  {
   "cell_type": "code",
   "execution_count": null,
   "id": "6daceb05",
   "metadata": {},
   "outputs": [],
   "source": [
    "my_mask = my_mask.mask | my_mask.data\n",
    "my_mask[::2, ::2]"
   ]
  },
  {
   "cell_type": "markdown",
   "id": "d1ffaff2",
   "metadata": {},
   "source": [
    "In order to apply this mask to the cube, we first make it 3-dimensional. **Note: This is not strictly necessary.  There is an easier way of doing it, which I demonstrate in the following section**"
   ]
  },
  {
   "cell_type": "code",
   "execution_count": null,
   "id": "4e4704a7",
   "metadata": {},
   "outputs": [],
   "source": [
    "my_mask_3d = np.repeat(my_mask[None, :, :], cc.shape[0], axis=0)"
   ]
  },
  {
   "cell_type": "code",
   "execution_count": null,
   "id": "30859f76",
   "metadata": {},
   "outputs": [],
   "source": [
    "my_mask_3d[::5, ::2, ::2]"
   ]
  },
  {
   "cell_type": "markdown",
   "id": "a8d9c278",
   "metadata": {},
   "source": [
    "Now combine the cube's mask with this boolean array."
   ]
  },
  {
   "cell_type": "code",
   "execution_count": null,
   "id": "10a3de2e",
   "metadata": {},
   "outputs": [],
   "source": [
    "cc.mask = my_mask_3d | cc.mask"
   ]
  },
  {
   "cell_type": "markdown",
   "id": "56879f99",
   "metadata": {},
   "source": [
    "Have a look at the result. First collapse the spectral axis to make an image:"
   ]
  },
  {
   "cell_type": "code",
   "execution_count": null,
   "id": "027532a5",
   "metadata": {},
   "outputs": [],
   "source": [
    "cc.sum(axis=0).plot(use_wcs=True)"
   ]
  },
  {
   "cell_type": "markdown",
   "id": "6550e7bd",
   "metadata": {},
   "source": [
    "Looks good.  We see that the original border is still masked, plus a roughly circular patch around the star.\n",
    "\n",
    "Now collapse the celestial axes to get a spectrum, which should be of the unmasked pixels only:"
   ]
  },
  {
   "cell_type": "code",
   "execution_count": null,
   "id": "fe563293",
   "metadata": {},
   "outputs": [],
   "source": [
    "fig, ax = plt.subplots(figsize=(10, 4))\n",
    "cc.mean(axis=(1, 2)).plot()\n",
    "ax.set(ylim=[0, None])"
   ]
  },
  {
   "cell_type": "markdown",
   "id": "9165962c",
   "metadata": {},
   "source": [
    "Yep. that looks fine."
   ]
  },
  {
   "cell_type": "markdown",
   "id": "96140689",
   "metadata": {},
   "source": [
    "### Masking of a 3D cube (big cube version)\n",
    "\n",
    "Now that I have a method that seems to work, I will go back to the full cube and try things there.  Although, I will restrict it to the an extended wavelength range around H alpha. We will use the range 6200 to 6800 Å, which is the same as Fig 3 of my Raman paper."
   ]
  },
  {
   "cell_type": "code",
   "execution_count": null,
   "id": "d1727806",
   "metadata": {},
   "outputs": [],
   "source": [
    "hacube = cube.select_lambda(6200.0, 6800.0)\n",
    "hacube.info()"
   ]
  },
  {
   "cell_type": "markdown",
   "id": "0830ace8",
   "metadata": {},
   "source": [
    "Save a copy of the original mask again"
   ]
  },
  {
   "cell_type": "code",
   "execution_count": null,
   "id": "62d412b5",
   "metadata": {},
   "outputs": [],
   "source": [
    "hacube_mask_orig = hacube.mask.copy()"
   ]
  },
  {
   "cell_type": "code",
   "execution_count": null,
   "id": "60a2061a",
   "metadata": {},
   "outputs": [],
   "source": [
    "fig, ax = plt.subplots(figsize=(10, 10))\n",
    "hacube.sum(axis=0).plot(use_wcs=True, cmap=\"magma\", scale=\"log\", colorbar=\"v\")"
   ]
  },
  {
   "cell_type": "code",
   "execution_count": null,
   "id": "e02c599b",
   "metadata": {},
   "outputs": [],
   "source": [
    "fig, ax = plt.subplots(figsize=(10, 4))\n",
    "haspec_allpix = hacube.mean(axis=(1, 2))\n",
    "haspec_allpix.plot()\n",
    "ax.set(ylim=[0, 400])"
   ]
  },
  {
   "cell_type": "markdown",
   "id": "0c97aa1c",
   "metadata": {},
   "source": [
    "There really is a lot of continuum here.  It would be good to get rid of some of it so we can see the lines better!\n",
    "\n",
    "\n",
    "We will take an aggressive approach to try and mask out all the stars by taking an EW threshold of 750 Å."
   ]
  },
  {
   "cell_type": "code",
   "execution_count": null,
   "id": "b0403e8e",
   "metadata": {},
   "outputs": [],
   "source": [
    "ew_mask = (im_ha_ew.data < 750.0) | im_ha.mask\n",
    "nmask = ew_mask.data.sum()\n",
    "npix = np.prod(ew_mask.shape)\n",
    "print(\"Number of masked pixels:\", nmask)\n",
    "print(\"Fraction of masked pixels:\", nmask / npix)"
   ]
  },
  {
   "cell_type": "markdown",
   "id": "2a8b2c4d",
   "metadata": {},
   "source": [
    "So that has eliminated more than half of the pixels. Let's see if it was worth it."
   ]
  },
  {
   "cell_type": "markdown",
   "id": "1198da91",
   "metadata": {},
   "source": [
    "The best way to apply this 2D mask to the cube is to combine it with the existing 3D mask.  This has two advantages:\n",
    "1. It ensures that we are also masking out the voxels that were originally masked, since some of them have invalid data, which can cause problems with the spectra.\n",
    "2. We can easily extend the 2D image mask to 3D by adding a new empty axis and relying on numpy's broadcast rules to expand that axis along the wavelength direction.  This is a lot simpler than explicitly constructing a 3D mask from scratch."
   ]
  },
  {
   "cell_type": "code",
   "execution_count": null,
   "id": "c3aae7ac",
   "metadata": {},
   "outputs": [],
   "source": [
    "hacube.mask = ew_mask[None, :, :] | hacube.mask"
   ]
  },
  {
   "cell_type": "markdown",
   "id": "05e43551",
   "metadata": {},
   "source": [
    "And redo the summed image and average spectrum:"
   ]
  },
  {
   "cell_type": "code",
   "execution_count": null,
   "id": "2a502a71",
   "metadata": {},
   "outputs": [],
   "source": [
    "fig, ax = plt.subplots(figsize=(10, 10))\n",
    "hacube.sum(axis=0).plot(use_wcs=True, cmap=\"plasma\", scale=\"linear\", colorbar=\"v\")"
   ]
  },
  {
   "cell_type": "markdown",
   "id": "9e5d94e1",
   "metadata": {},
   "source": [
    "There are lots of white patches there, where we have eliminated the broad PSFs of the bright stars.  What remains should be mostly nebulosity.\n",
    "\n",
    "Now we can compare the total spectrum with what we had earlier:"
   ]
  },
  {
   "cell_type": "code",
   "execution_count": null,
   "id": "03150893",
   "metadata": {},
   "outputs": [],
   "source": [
    "fig, ax = plt.subplots(figsize=(10, 4))\n",
    "hacube.mean(axis=(1, 2)).plot(label=\"Pixels with EW(Ha) > 750  Å\")\n",
    "haspec_allpix.plot(c=\"r\", label=\"All pixels\")\n",
    "ax.legend()\n",
    "ax.set(ylim=[0, 200])"
   ]
  },
  {
   "cell_type": "markdown",
   "id": "7734fae0",
   "metadata": {
    "lines_to_next_cell": 2
   },
   "source": [
    "Comparing the red line (all pixels) and the blue line (unmasked pixels only), we can see that we have eliminate 90% of the continuum by masking out the stars.  We have also managed to remove most of the underlying photospheric absorption lines.  This is most obvious in the He I 6678 line, but can also be seen in H alpha."
   ]
  },
  {
   "cell_type": "markdown",
   "id": "c7c976f6",
   "metadata": {},
   "source": [
    "### Investigating the over-subtracted sky\n",
    "\n",
    "*I ought to move this section somewhere else.*\n",
    "\n",
    "I concentrate on the slice `[-30:, 50:70]` since that seems to be one of the worst-affected regions."
   ]
  },
  {
   "cell_type": "code",
   "execution_count": null,
   "id": "e81f17e7",
   "metadata": {},
   "outputs": [],
   "source": [
    "hacube.mask = hacube_mask_orig.copy()\n",
    "fig, ax = plt.subplots(figsize=(10, 4))\n",
    "hacube[:, -30:, 50:70].mean(axis=(1, 2)).plot()\n",
    "ax.set(ylim=[-100, 20])"
   ]
  },
  {
   "cell_type": "code",
   "execution_count": null,
   "id": "5c61c984",
   "metadata": {},
   "outputs": [],
   "source": [
    "nspec = 20\n",
    "wavmin, _, _, wavmax, _, _ = cube.get_range()\n",
    "dwav = (wavmax - wavmin) / nspec\n",
    "fig, axes = plt.subplots(nspec, 1, figsize=(10, 1.0 * nspec))\n",
    "wav1 = wavmin - dwav\n",
    "wav2 = wavmin\n",
    "for ax in axes:\n",
    "    wav1 += dwav\n",
    "    wav2 += dwav\n",
    "    spec = cube[:, -30:, 50:70].select_lambda(wav1, wav2).mean(axis=(1, 2))\n",
    "    spec.plot(ax=ax, linewidth=2)\n",
    "    ax.set(ylim=[-200, 40], ylabel=\"\", xlabel=\"\")\n",
    "axes[-1].set(xlabel=r\"$\\lambda$, Angstrom\")\n",
    "fig.tight_layout()"
   ]
  },
  {
   "cell_type": "code",
   "execution_count": null,
   "id": "ff516c38",
   "metadata": {},
   "outputs": [],
   "source": []
  }
 ],
 "metadata": {
  "jupytext": {
   "encoding": "# -*- coding: utf-8 -*-",
   "formats": "ipynb,py:light,md"
  },
  "kernelspec": {
   "display_name": "Python 3",
   "language": "python",
   "name": "python3"
  },
  "language_info": {
   "codemirror_mode": {
    "name": "ipython",
    "version": 3
   },
   "file_extension": ".py",
   "mimetype": "text/x-python",
   "name": "python",
   "nbconvert_exporter": "python",
   "pygments_lexer": "ipython3",
   "version": "3.9.4"
  }
 },
 "nbformat": 4,
 "nbformat_minor": 5
}
