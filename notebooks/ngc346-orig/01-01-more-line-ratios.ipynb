{
 "cells": [
  {
   "cell_type": "markdown",
   "id": "a7382b80",
   "metadata": {},
   "source": [
    "# Line ratios from saved moment images\n",
    "\n",
    "In this notebook, I will work with only pre-calculated line maps, which have already been extracted from the cube and have been corrected for the sky problems (at least in theory).  The extraction process is carried out in the 03 series of notebooks."
   ]
  },
  {
   "cell_type": "code",
   "execution_count": null,
   "id": "781079e7",
   "metadata": {},
   "outputs": [],
   "source": [
    "from pathlib import Path\n",
    "import numpy as np\n",
    "from matplotlib import pyplot as plt\n",
    "import seaborn as sns\n",
    "from mpdaf.obj import Image\n",
    "import regions\n",
    "import sys\n",
    "import pandas as pd\n",
    "import cmasher as cmr\n",
    "import pyneb as pn\n",
    "\n",
    "sns.set_context(\"talk\")\n",
    "sns.set_color_codes()"
   ]
  },
  {
   "cell_type": "code",
   "execution_count": null,
   "id": "mechanical-client",
   "metadata": {},
   "outputs": [],
   "source": [
    "# ## Path to the root of this repo\n",
    "ROOT = Path.cwd().parent.parent "
   ]
  },
  {
   "cell_type": "markdown",
   "id": "4d377acf",
   "metadata": {},
   "source": [
    "## Calculate reddening from Balmer decrement"
   ]
  },
  {
   "cell_type": "code",
   "execution_count": null,
   "id": "material-projector",
   "metadata": {},
   "outputs": [],
   "source": [
    "# Load the Hα and Hβ maps\n",
    "imha = Image(str(ROOT / \"data/ngc346-hi-6563-bin01-sum.fits\"))"
   ]
  },
  {
   "cell_type": "code",
   "execution_count": null,
   "id": "monetary-roulette",
   "metadata": {},
   "outputs": [],
   "source": [
    "imhb = Image(str(ROOT / \"data/ngc346-hi-4861-bin01-sum.fits\"))"
   ]
  },
  {
   "cell_type": "markdown",
   "id": "9ed8106f",
   "metadata": {},
   "source": [
    "### Look at the raw Hα/Hβ ratio:"
   ]
  },
  {
   "cell_type": "code",
   "execution_count": null,
   "id": "98cb71a2",
   "metadata": {},
   "outputs": [],
   "source": [
    "fig, ax = plt.subplots(figsize=(12, 12))\n",
    "(imha/imhb).plot(vmin=1.0, vmax=5.0, cmap=\"gray\", colorbar=\"v\")"
   ]
  },
  {
   "cell_type": "markdown",
   "id": "77135b74",
   "metadata": {},
   "source": [
    "So we see a lot of structure there.  In priniciple, lighter means more extinction.  This seems to be real at the bottom of the image, where we see clear signs of the foreground filament. \n",
    "\n",
    "But in other parts, the ratio is suspiciously well correlated with the brightness.  So we need to fix that."
   ]
  },
  {
   "cell_type": "markdown",
   "id": "cc081fee",
   "metadata": {},
   "source": [
    "### PyNeb calculation of intrinsic Balmer decrement"
   ]
  },
  {
   "cell_type": "code",
   "execution_count": null,
   "id": "9e5bd719",
   "metadata": {},
   "outputs": [],
   "source": [
    "hi = pn.RecAtom(\"H\", 1)"
   ]
  },
  {
   "cell_type": "markdown",
   "id": "f44e7461",
   "metadata": {},
   "source": [
    "Calculate the theoretical Balmer decrement from PyNeb. Density and temperature from Valerdi:2019a"
   ]
  },
  {
   "cell_type": "code",
   "execution_count": null,
   "id": "6ab08130",
   "metadata": {},
   "outputs": [],
   "source": [
    "tem, den = 12500, 100\n",
    "R0 = hi.getEmissivity(tem, den, wave=6563) / hi.getEmissivity(tem, den, wave=4861)\n",
    "R0"
   ]
  },
  {
   "cell_type": "markdown",
   "id": "0acf4890",
   "metadata": {},
   "source": [
    "### Look at correlation between Hα and Hβ in the faint limit\n",
    "\n",
    "To make thinks easier, I multiply the Hb values by R0 so we have a square plot.  I zoom in on the faint parts:"
   ]
  },
  {
   "cell_type": "code",
   "execution_count": null,
   "id": "fbb1a967",
   "metadata": {},
   "outputs": [],
   "source": [
    "imax = 30000\n",
    "m = imha.data < imax\n",
    "m = m & (R0*imhb.data < imax)\n",
    "m = m & ~imha.mask & ~imhb.mask\n",
    "df = pd.DataFrame(\n",
    "    {\n",
    "        \"ha\": imha.data[m],\n",
    "        \"hb\": R0*imhb.data[m],\n",
    "    }\n",
    ")"
   ]
  },
  {
   "cell_type": "code",
   "execution_count": null,
   "id": "257b00c3",
   "metadata": {},
   "outputs": [],
   "source": [
    "g = sns.pairplot(\n",
    "    df,\n",
    "    kind=\"hist\",\n",
    "    height=4,\n",
    "    corner=True,\n",
    ")\n",
    "g.axes[1, 0].axvline(0.0, color=\"r\")\n",
    "g.axes[1, 0].axhline(0.0, color=\"r\")\n",
    "g.axes[1, 0].plot([0, imax], [0, imax], \"--\", color=\"r\")\n",
    "g.axes[1, 0].plot([0, imax], [0, 0.9*imax], \"--\", color=\"r\")\n",
    "g.fig.suptitle(\"Correlation between Ha and Hb brightness\");"
   ]
  },
  {
   "cell_type": "markdown",
   "id": "f3401cec",
   "metadata": {},
   "source": [
    "So, the slope is not unity, meaning the extinction is not zero.  But the intercept is not zero either. Clearly, we must fix that"
   ]
  },
  {
   "cell_type": "markdown",
   "id": "bf6620cc",
   "metadata": {},
   "source": [
    "### Correct zero point of Hβ map"
   ]
  },
  {
   "cell_type": "code",
   "execution_count": null,
   "id": "83d08d41",
   "metadata": {},
   "outputs": [],
   "source": [
    "x = imha.data\n",
    "y = R0*imhb.data - 5500\n",
    "imax = 30000\n",
    "m = (x < imax) & (y < imax)\n",
    "m = m & ~imha.mask & ~imhb.mask\n",
    "df = pd.DataFrame(\n",
    "    {\n",
    "        \"ha\": x[m],\n",
    "        \"hb\": y[m],\n",
    "    }\n",
    ")"
   ]
  },
  {
   "cell_type": "code",
   "execution_count": null,
   "id": "59d81426",
   "metadata": {},
   "outputs": [],
   "source": [
    "g = sns.pairplot(\n",
    "    df,\n",
    "    kind=\"hist\",\n",
    "    height=4,\n",
    "    corner=True,\n",
    ")\n",
    "g.axes[1, 0].axvline(0.0, color=\"r\")\n",
    "g.axes[1, 0].axhline(0.0, color=\"r\")\n",
    "g.axes[1, 0].plot([0, imax], [0, imax], \"--\", color=\"r\")\n",
    "g.axes[1, 0].plot([0, imax], [0, 0.88*imax], \"--\", color=\"r\")\n",
    "g.fig.suptitle(\"Correlation between Ha and corrected Hb brightness\");"
   ]
  },
  {
   "cell_type": "markdown",
   "id": "f75722c1",
   "metadata": {},
   "source": [
    "That looks way better.  Expand out to brighter pixels:"
   ]
  },
  {
   "cell_type": "code",
   "execution_count": null,
   "id": "8fc24ac9",
   "metadata": {},
   "outputs": [],
   "source": [
    "imax = 150000\n",
    "m = (x < imax) & (y < imax)\n",
    "m = m & ~imha.mask & ~imhb.mask\n",
    "df = pd.DataFrame(\n",
    "    {\n",
    "        \"ha\": x[m],\n",
    "        \"hb\": y[m],\n",
    "    }\n",
    ")\n",
    "g = sns.pairplot(\n",
    "    df,\n",
    "    kind=\"hist\",\n",
    "    height=4,\n",
    "    corner=True,\n",
    ")\n",
    "g.axes[1, 0].axvline(0.0, color=\"r\")\n",
    "g.axes[1, 0].axhline(0.0, color=\"r\")\n",
    "g.axes[1, 0].plot([0, imax], [0, imax], \"--\", color=\"r\")\n",
    "g.axes[1, 0].plot([0, imax], [0, 0.88*imax], \"--\", color=\"r\")\n",
    "g.fig.suptitle(\"Correlation between Ha and corrected Hb brightness\");"
   ]
  },
  {
   "cell_type": "markdown",
   "id": "84fd49d6",
   "metadata": {},
   "source": [
    "### Final corrected Hα/Hβ ratio image\n",
    "\n",
    "Now fix the Hb image and try again:"
   ]
  },
  {
   "cell_type": "code",
   "execution_count": null,
   "id": "82778b6a",
   "metadata": {},
   "outputs": [],
   "source": [
    "hbfix = 5500 / R0\n",
    "fig, ax = plt.subplots(figsize=(12, 12))\n",
    "(imha/(imhb - hbfix)).plot(vmin=1.0, vmax=5.0, cmap=\"gray\", colorbar=\"v\")"
   ]
  },
  {
   "cell_type": "markdown",
   "id": "dfdd2b47",
   "metadata": {},
   "source": [
    "That is on the same brightness map as before, and it now completely eliminates the spurious structure associate with surface brightness – hurray!\n",
    "\n",
    "Now define some regions to take averages"
   ]
  },
  {
   "cell_type": "code",
   "execution_count": null,
   "id": "705a6861",
   "metadata": {},
   "outputs": [],
   "source": [
    "boxes = {\n",
    "    \"sw filament\": regions.BoundingBox(\n",
    "        iymin=30, iymax=50, ixmin=300, ixmax=330,\n",
    "    ),\n",
    "    \"bow shock\": regions.BoundingBox(\n",
    "        iymin=165, iymax=205, ixmin=240, ixmax=290,\n",
    "    ),\n",
    "    \"w filament\": regions.BoundingBox(\n",
    "        iymin=100, iymax=130, ixmin=25, ixmax=55,\n",
    "    ),\n",
    "    \"c filament\": regions.BoundingBox(\n",
    "        iymin=195, iymax=210, ixmin=155, ixmax=195,\n",
    "    ),\n",
    "}"
   ]
  },
  {
   "cell_type": "markdown",
   "id": "cb568bd5",
   "metadata": {},
   "source": [
    "Plot on a better scale and show the regions:"
   ]
  },
  {
   "cell_type": "code",
   "execution_count": null,
   "id": "868243d8",
   "metadata": {},
   "outputs": [],
   "source": [
    "fig, ax = plt.subplots(figsize=(12, 12))\n",
    "(imha/(imhb - hbfix)).plot(\n",
    "    vmin=R0, vmax=1.5*R0, \n",
    "    scale=\"linear\",\n",
    "    cmap=\"gray_r\", colorbar=\"v\",\n",
    ")\n",
    "\n",
    "for box, c in zip(boxes.values(), \"yrmgc\"):\n",
    "    box.plot( \n",
    "        ax=ax, \n",
    "        lw=3, \n",
    "        edgecolor=c, \n",
    "        linestyle=\"dashed\",\n",
    "#        facecolor=(1.0, 1.0, 1.0, 0.4), \n",
    "        fill=False,\n",
    "    );"
   ]
  },
  {
   "cell_type": "markdown",
   "id": "67064b04",
   "metadata": {},
   "source": [
    "We can see some very high extinction at in the S filaments.  And some small increase in extinction in the main diagonal filament.  This is probably limited having foreground emission to some extent.\n",
    "\n",
    "Look at average values in the sample boxes"
   ]
  },
  {
   "cell_type": "code",
   "execution_count": null,
   "id": "9d41131e",
   "metadata": {},
   "outputs": [],
   "source": [
    "for label, box in boxes.items():\n",
    "    yslice, xslice = box.slices\n",
    "    ha = np.median(imha[yslice, xslice].data.data)\n",
    "    hb = np.median(imhb[yslice, xslice].data.data - hbfix)\n",
    "    print(f\"{label}: {ha/hb:.3f}\")"
   ]
  },
  {
   "cell_type": "markdown",
   "id": "4b18a1ab",
   "metadata": {},
   "source": [
    "I tried mean and median, and it made very little difference.  Lowest in the bow shock region; slightly higher in the west and central filaments.  Much higher in the southwest filament. "
   ]
  },
  {
   "cell_type": "markdown",
   "id": "c58d7934",
   "metadata": {},
   "source": []
  },
  {
   "cell_type": "markdown",
   "id": "4c1a7359",
   "metadata": {},
   "source": [
    "### The reddening law"
   ]
  },
  {
   "cell_type": "code",
   "execution_count": null,
   "id": "9745282c",
   "metadata": {},
   "outputs": [],
   "source": [
    "pn.RedCorr().getLaws()"
   ]
  },
  {
   "cell_type": "markdown",
   "id": "08ce07ae",
   "metadata": {},
   "source": [
    "PyNeb does not seem to have anything specifically tailored to the SMC.  The average SMC extinction law is supposedly simply $1/\\lambda$.  \n",
    "\n",
    "But, it is possible to get a SMC curve by using the \"F99-like\" option, which uses the curve of Fitzpatrick & Massa 1990, ApJS, 72, 163. This depends on $R_V$ and 6 other parameters (!!!).  Most of the parameters only affect the UV part of the curve, which does not concern us. \n",
    "\n",
    "Then, we can use the average values of $R_V$ and the other parameters, which were fit by Gordon:2003l to SMC stars. This is $R_V = 2.74 \\pm 0.13$.\n",
    "\n",
    "So here I compare that SMC curve with $1/\\lambda$ and with the Clayton curve for Milky Way (but also adjusted to $R_V = 2.74$):"
   ]
  },
  {
   "cell_type": "code",
   "execution_count": null,
   "id": "137f1ac7",
   "metadata": {},
   "outputs": [],
   "source": [
    "def A_lam(wave):\n",
    "    return 4861.32/wave\n",
    "\n",
    "def my_X(wave, params=[]):\n",
    "    \"\"\"A_lam / E(B - V) ~ lam^-1\"\"\"\n",
    "    return A_lam(wave) / (A_lam(4400) - A_lam(5500))\n",
    "\n",
    "rc = pn.RedCorr()\n",
    "rc.UserFunction = my_X\n",
    "rc.R_V = 2.74\n",
    "rc.FitzParams = [-4.96, 2.26, 0.39, 0.6, 4.6, 1.0]\n",
    "f, ax = plt.subplots(figsize=(10,10))\n",
    "rc.plot(laws = [\"user\", \"F99\", \"CCM89\"], ax=ax)\n",
    "\n",
    "ax.set(\n",
    "    xlim=[4000, 9300],\n",
    "    ylim=[-2.5, 1.0],\n",
    "#    xlim=[4000, 7000],\n",
    "#    ylim=[-1, 1],\n",
    "\n",
    ")"
   ]
  },
  {
   "cell_type": "markdown",
   "id": "400b238e",
   "metadata": {},
   "source": [
    "So the Gordon curve is flatter in the blue, steeper in green, and flatter in red, as compared to $1/\\lambda$. "
   ]
  },
  {
   "cell_type": "code",
   "execution_count": null,
   "id": "08e20868",
   "metadata": {},
   "outputs": [],
   "source": [
    "rc = pn.RedCorr()\n",
    "rc.R_V = 2.74\n",
    "rc.FitzParams = [-4.96, 2.26, 0.39, 0.6, 4.6, 1.0]\n",
    "rc.law = \"F99\""
   ]
  },
  {
   "cell_type": "markdown",
   "id": "d257f762",
   "metadata": {},
   "source": [
    "Test it out for the bow shock region:"
   ]
  },
  {
   "cell_type": "code",
   "execution_count": null,
   "id": "504150ea",
   "metadata": {},
   "outputs": [],
   "source": [
    "rc.setCorr(obs_over_theo=3.123 / R0, wave1=6563., wave2=4861.)\n",
    "rc.E_BV, rc.cHbeta"
   ]
  },
  {
   "cell_type": "markdown",
   "id": "fa9ad97b",
   "metadata": {},
   "source": [
    "And for the highest extinction region"
   ]
  },
  {
   "cell_type": "code",
   "execution_count": null,
   "id": "27b5c547",
   "metadata": {},
   "outputs": [],
   "source": [
    "rc.setCorr(obs_over_theo=4.165 / R0, wave1=6563., wave2=4861.)\n",
    "rc.E_BV, rc.cHbeta"
   ]
  },
  {
   "cell_type": "markdown",
   "id": "f835b19d",
   "metadata": {},
   "source": [
    "So $E(B - V)$ varies from about 0.1 to about 0.35. This is similar to what is found for the stars. "
   ]
  },
  {
   "cell_type": "markdown",
   "id": "4e0bf4dc",
   "metadata": {},
   "source": [
    "### The reddening map\n",
    "\n",
    "We can now make a map of $E(B - V)$"
   ]
  },
  {
   "cell_type": "code",
   "execution_count": null,
   "id": "78bd809b",
   "metadata": {},
   "outputs": [],
   "source": [
    "R = imha/(imhb - hbfix)\n",
    "rc.setCorr(\n",
    "    obs_over_theo=R.data / R0, \n",
    "    wave1=6563., \n",
    "    wave2=4861.\n",
    ")\n",
    "imEBV = R.copy()\n",
    "imEBV.data = rc.E_BV\n",
    "imEBV.mask = imha.mask | imhb.mask"
   ]
  },
  {
   "cell_type": "code",
   "execution_count": null,
   "id": "87147e83",
   "metadata": {},
   "outputs": [],
   "source": [
    "fig, ax = plt.subplots(figsize=(12, 12))\n",
    "imEBV.plot(\n",
    "    vmin=0.0, vmax=1.0, \n",
    "    scale=\"linear\",\n",
    "    cmap=\"magma_r\", colorbar=\"v\",\n",
    ");"
   ]
  },
  {
   "cell_type": "markdown",
   "id": "13dae5b8",
   "metadata": {},
   "source": [
    "Looks like I would expect. Check values in the boxes:"
   ]
  },
  {
   "cell_type": "code",
   "execution_count": null,
   "id": "43da4356",
   "metadata": {},
   "outputs": [],
   "source": [
    "for label, box in boxes.items():\n",
    "    yslice, xslice = box.slices\n",
    "    ebv = np.median(imEBV[yslice, xslice].data.data)\n",
    "    print(f\"{label}: {ebv:.3f}\")"
   ]
  },
  {
   "cell_type": "markdown",
   "id": "ec5c8757",
   "metadata": {},
   "source": [
    "These seem the same as before.  But we want to eliminate extreme values. "
   ]
  },
  {
   "cell_type": "code",
   "execution_count": null,
   "id": "341a7373",
   "metadata": {},
   "outputs": [],
   "source": [
    "badpix = (imEBV.data > 1.0) | (imEBV.data < 0.0)\n",
    "imEBV.mask = imEBV.mask | badpix"
   ]
  },
  {
   "cell_type": "markdown",
   "id": "df66db3f",
   "metadata": {},
   "source": [
    "Save it to a file:"
   ]
  },
  {
   "cell_type": "code",
   "execution_count": null,
   "id": "8643dd8e",
   "metadata": {},
   "outputs": [],
   "source": [
    "imEBV.write(str(ROOT / \"data/ngc346-reddening-E_BV.fits\"), savemask=\"nan\")"
   ]
  },
  {
   "cell_type": "markdown",
   "id": "c550ac90",
   "metadata": {},
   "source": [
    "Lots of regions are affected by the stellar absorption.  There are apparent increases in reddening at the position of each star.  This is not real, but is due to the photospheric absorption having more of an effect on Hb (mainly because the emission line is weaker). \n",
    "\n",
    "At some point, I am going to have to deal with that. But it is not an issue for the bow shock emission, since this is in an area free of stars.  We should just use the median bow shock reddening of $E(B-V) = 0.087$ so that we don't introduce any extra noise."
   ]
  },
  {
   "cell_type": "code",
   "execution_count": null,
   "id": "5d3f1e96",
   "metadata": {},
   "outputs": [],
   "source": [
    "rc.E_BV = 0.087\n",
    "wavs = np.arange(4600, 9300)\n",
    "Alam = rc.E_BV*rc.X(wavs)\n",
    "\n",
    "fig, ax = plt.subplots(figsize=(12, 5))\n",
    "ax.plot(wavs, Alam)\n",
    "ax.set(\n",
    "    xlabel=\"Wavelength, $\\lambda$, Å\",\n",
    "    ylabel=\"Extinction, $A_\\lambda$, mag\",\n",
    "    title=f\"Extinction curve for $E(B - V) = {rc.E_BV:.3f}$\",\n",
    ")\n",
    "sns.despine();"
   ]
  },
  {
   "cell_type": "markdown",
   "id": "c45bf580",
   "metadata": {},
   "source": [
    "## Calculate the [S III] temperature"
   ]
  },
  {
   "cell_type": "code",
   "execution_count": null,
   "id": "ce84d041",
   "metadata": {},
   "outputs": [],
   "source": [
    "im6312 = Image(str(ROOT / \"data/ngc346-siii-6312-bin01-sum.fits\"))\n",
    "im9069 = Image(str(ROOT / \"data/ngc346-siii-9069-bin01-sum.fits\"))\n",
    "cont6312 = Image(str(ROOT / \"data/ngc346-cont-6312-mean.fits\"))"
   ]
  },
  {
   "cell_type": "markdown",
   "id": "70822f5e",
   "metadata": {},
   "source": [
    "The raw ratio:"
   ]
  },
  {
   "cell_type": "code",
   "execution_count": null,
   "id": "a17ce2aa",
   "metadata": {},
   "outputs": [],
   "source": [
    "fig, ax = plt.subplots(figsize=(12, 12))\n",
    "(im6312/im9069).plot(vmin=-0.2, vmax=0.2, cmap=\"gray\", colorbar=\"v\")"
   ]
  },
  {
   "cell_type": "markdown",
   "id": "a29c88c0",
   "metadata": {},
   "source": [
    "Oh dear, that is completely dominated by the zero-point error.  But we can fix it!"
   ]
  },
  {
   "cell_type": "code",
   "execution_count": null,
   "id": "5cee5308",
   "metadata": {},
   "outputs": [],
   "source": [
    "imax = 5000\n",
    "slope = 0.1\n",
    "m = im9069.data < imax\n",
    "m = m & (im9069.data > -100)\n",
    "m = m & (im6312.data < slope*imax)\n",
    "m = m & ~im9069.mask & ~im6312.mask\n",
    "df = pd.DataFrame(\n",
    "    {\n",
    "        \"9069\": im9069.data[m],\n",
    "        \"6312\": im6312.data[m],\n",
    "    }\n",
    ")"
   ]
  },
  {
   "cell_type": "code",
   "execution_count": null,
   "id": "1a728be1",
   "metadata": {},
   "outputs": [],
   "source": [
    "g = sns.pairplot(\n",
    "    df,\n",
    "    kind=\"hist\",\n",
    "    height=4,\n",
    "    corner=True,\n",
    ")\n",
    "\n",
    "g.axes[1, 0].axvline(0.0, color=\"r\")\n",
    "g.axes[1, 0].axhline(0.0, color=\"r\")\n",
    "g.axes[1, 0].plot([0, imax], [0, slope*imax], \"--\", color=\"r\")\n",
    "g.fig.suptitle(\"Correlation between [S III] 9069 and 6312 brightness\");"
   ]
  },
  {
   "cell_type": "markdown",
   "id": "60cc6ba7",
   "metadata": {},
   "source": [
    "So it is obvious that we need to add about 100 to the 6312 brightness.  But we can already see that the slope of the relation gets shallower for 9069 > 1000 – so fainter is hotter!"
   ]
  },
  {
   "cell_type": "code",
   "execution_count": null,
   "id": "e684ad03",
   "metadata": {},
   "outputs": [],
   "source": [
    "imax = 2000\n",
    "slope = 0.1\n",
    "x = im9069.data\n",
    "y = im6312.data + 105.0\n",
    "m = x < imax\n",
    "m = m & (x > -100)\n",
    "m = m & (y < 1.2*slope*imax)\n",
    "m = m & ~im9069.mask & ~im6312.mask\n",
    "df = pd.DataFrame(\n",
    "    {\n",
    "        \"9069\": x[m],\n",
    "        \"6312\": y[m],\n",
    "    }\n",
    ")"
   ]
  },
  {
   "cell_type": "code",
   "execution_count": null,
   "id": "12eea7bf",
   "metadata": {},
   "outputs": [],
   "source": [
    "g = sns.pairplot(\n",
    "    df,\n",
    "    kind=\"hist\",\n",
    "    height=4,\n",
    "    corner=True,\n",
    ")\n",
    "\n",
    "g.axes[1, 0].axvline(0.0, color=\"r\")\n",
    "g.axes[1, 0].axhline(0.0, color=\"r\")\n",
    "g.axes[1, 0].plot([0, imax], [0, slope*imax], \"--\", color=\"r\")\n",
    "g.axes[1, 0].plot([0, imax], [0, 1.2*slope*imax], \"--\", color=\"r\")\n",
    "g.fig.suptitle(\"CORRECTED Correlation between [S III] 9069 and 6312 brightness\");"
   ]
  },
  {
   "cell_type": "markdown",
   "id": "b239aaa1",
   "metadata": {},
   "source": [
    "Now we need to correct for reddening."
   ]
  },
  {
   "cell_type": "code",
   "execution_count": null,
   "id": "849213b1",
   "metadata": {},
   "outputs": [],
   "source": [
    "A9069 = rc.X(9069) * imEBV\n",
    "im9069c = im9069.copy()\n",
    "im9069c.data = im9069.data * 10**(0.4 * A9069.data)"
   ]
  },
  {
   "cell_type": "code",
   "execution_count": null,
   "id": "8f8207e2",
   "metadata": {},
   "outputs": [],
   "source": [
    "A6312 = rc.X(6312) * imEBV\n",
    "im6312c = im6312.copy()\n",
    "im6312c.data = (im6312.data + 105) * 10**(0.4 * A6312.data)"
   ]
  },
  {
   "cell_type": "code",
   "execution_count": null,
   "id": "b458d703",
   "metadata": {},
   "outputs": [],
   "source": [
    "n = 1\n",
    "fig, ax = plt.subplots(figsize=(12, 12))\n",
    "(im6312c.rebin(n) / im9069c.rebin(n)).plot(vmin=0.1, vmax=0.2, cmap=\"magma\", colorbar=\"v\")"
   ]
  },
  {
   "cell_type": "code",
   "execution_count": null,
   "id": "f3462511",
   "metadata": {},
   "outputs": [],
   "source": [
    "n = 4\n",
    "x = np.log10(im9069c.rebin(n).data)\n",
    "y = np.log10(im6312c.rebin(n).data / im9069c.rebin(n).data)\n",
    "m = (x > 2.0) & (x < 5.0)\n",
    "m = m & (y > -1.1) & (y < -0.6)\n",
    "m = m & ~im9069c.rebin(n).mask & ~im6312c.rebin(n).mask\n",
    "df = pd.DataFrame(\n",
    "    {\n",
    "        \"log10 9069\": x[m],\n",
    "        \"log 10 6312/9069\": y[m],\n",
    "    }\n",
    ")\n",
    "g = sns.pairplot(\n",
    "    df,\n",
    "    kind=\"hist\",\n",
    "    height=4,\n",
    "    corner=True,\n",
    ");"
   ]
  },
  {
   "cell_type": "markdown",
   "id": "c195bd1b",
   "metadata": {},
   "source": [
    "Now, make a mask of EW(6312).  But first, we need to correct the zero point of the continuum."
   ]
  },
  {
   "cell_type": "code",
   "execution_count": null,
   "id": "a0b0c8c5",
   "metadata": {},
   "outputs": [],
   "source": [
    "im6312_zero = -105.0\n",
    "cont6312_zero = -15.0\n",
    "imax = 200\n",
    "x = im6312.data - im6312_zero\n",
    "y = cont6312.data - cont6312_zero\n",
    "m = x < imax\n",
    "m = m & (x > -10)\n",
    "m = m & (y < 50) & (y > -10)\n",
    "m = m & ~cont6312.mask & ~im6312.mask\n",
    "df = pd.DataFrame(\n",
    "    {\n",
    "        \"6312\": x[m],\n",
    "        \"cont\": y[m],\n",
    "    }\n",
    ")\n",
    "g = sns.pairplot(\n",
    "    df,\n",
    "    kind=\"hist\",\n",
    "    height=4,\n",
    "    corner=True,\n",
    ")\n",
    "\n",
    "g.axes[1, 0].axvline(0.0, color=\"r\")\n",
    "g.axes[1, 0].axhline(0.0, color=\"r\")"
   ]
  },
  {
   "cell_type": "code",
   "execution_count": null,
   "id": "82a61bc5",
   "metadata": {},
   "outputs": [],
   "source": [
    "fig, ax = plt.subplots(figsize=(10, 10))\n",
    "ew6312 = 1.25*(im6312 - im6312_zero)/ (cont6312 - cont6312_zero)\n",
    "ew6312.plot(vmin=0.0, vmax=30.0, scale=\"sqrt\")\n",
    "ax.contour(ew6312.data, levels=[0.5], colors=\"r\", linewidths=3)\n",
    "ax.contour(im9069.data, levels=[500.0], colors=\"k\", linewidths=1)"
   ]
  },
  {
   "cell_type": "code",
   "execution_count": null,
   "id": "ea5bff5e",
   "metadata": {},
   "outputs": [],
   "source": [
    "fixmask = (ew6312.data < 1.0) | (im9069.data < 500.0)\n",
    "fixmask = fixmask & (im6312c.data < 0.1 * im9069c.data)\n",
    "fixmask = fixmask & (im6312c.data > 0.2 * im9069c.data)\n",
    "iborder = 12\n",
    "fixmask[:iborder, :] = True\n",
    "fixmask[-iborder:, :] = True\n",
    "fixmask[:, :iborder] = True\n",
    "fixmask[:, -iborder:] = True"
   ]
  },
  {
   "cell_type": "code",
   "execution_count": null,
   "id": "3eaed153",
   "metadata": {},
   "outputs": [],
   "source": [
    "im6312c.mask = im6312c.mask | fixmask"
   ]
  },
  {
   "cell_type": "code",
   "execution_count": null,
   "id": "5b6e7e46",
   "metadata": {},
   "outputs": [],
   "source": [
    "n = 1\n",
    "fig, ax = plt.subplots(figsize=(12, 12))\n",
    "(im6312c.rebin(n) / im9069c.rebin(n)).plot(vmin=0.1, vmax=0.2, cmap=\"magma\", colorbar=\"v\")"
   ]
  },
  {
   "cell_type": "code",
   "execution_count": null,
   "id": "a21d54e1",
   "metadata": {},
   "outputs": [],
   "source": [
    "n = 4\n",
    "x = np.log10(im9069c.rebin(n).data)\n",
    "y = np.log10(im6312c.rebin(n).data / im9069c.rebin(n).data)\n",
    "z = im9069c.rebin(n).data\n",
    "m = (x > 2.5) & (x < 5.5)\n",
    "m = m & (y > -1.1) & (y < -0.6)\n",
    "m = m & ~im9069c.rebin(n).mask & ~im6312c.rebin(n).mask\n",
    "df = pd.DataFrame(\n",
    "    {\n",
    "        \"log10 9069\": x[m],\n",
    "        \"log 10 6312/9069\": y[m],\n",
    "    }\n",
    ")\n",
    "kws = dict(weights=z[m], bins=30)\n",
    "g = sns.pairplot(\n",
    "    df,\n",
    "    kind=\"hist\",\n",
    "    height=4,\n",
    "    corner=True,\n",
    "    plot_kws=kws, diag_kws=kws,\n",
    ");"
   ]
  },
  {
   "cell_type": "markdown",
   "id": "bde3f56c",
   "metadata": {},
   "source": [
    "### Convert to actual temperatures with pyneb"
   ]
  },
  {
   "cell_type": "code",
   "execution_count": null,
   "id": "58525830",
   "metadata": {},
   "outputs": [],
   "source": [
    "s3 = pn.Atom(\"S\", 3)"
   ]
  },
  {
   "cell_type": "code",
   "execution_count": null,
   "id": "bb2f0ab6",
   "metadata": {},
   "outputs": [],
   "source": [
    "s3.getTemDen([0.1, 0.2], den=100.0, wave1=6300, wave2=9069)"
   ]
  },
  {
   "cell_type": "code",
   "execution_count": null,
   "id": "fa518d15",
   "metadata": {},
   "outputs": [],
   "source": [
    "r_s3_grid = np.linspace(0.05, 0.25, 201)\n",
    "T_s3_grid = s3.getTemDen(r_s3_grid, den=100.0, wave1=6300, wave2=9069)"
   ]
  },
  {
   "cell_type": "code",
   "execution_count": null,
   "id": "a9fb1644",
   "metadata": {},
   "outputs": [],
   "source": [
    "imT_siii = im6312c.clone(data_init=np.empty)\n",
    "imT_siii.data[~fixmask] = np.interp(\n",
    "    im6312c.data[~fixmask] / im9069c.data[~fixmask], \n",
    "    r_s3_grid, T_s3_grid,\n",
    "    left=np.nan, right=np.nan,\n",
    ")\n",
    "#imT_siii.mask = imT_siii.mask | fixmask\n",
    "#imT_siii.data[imT_siii.mask] = np.nan"
   ]
  },
  {
   "cell_type": "code",
   "execution_count": null,
   "id": "f30f4779",
   "metadata": {},
   "outputs": [],
   "source": [
    "fig, ax = plt.subplots(figsize=(12, 12))\n",
    "imT_siii.plot(colorbar=\"v\", cmap=\"hot\", vmin=11000, vmax=22000); "
   ]
  },
  {
   "cell_type": "code",
   "execution_count": null,
   "id": "51324254",
   "metadata": {},
   "outputs": [],
   "source": [
    "badpix = ~np.isfinite(imT_siii.data)\n",
    "imT_siii.mask = imT_siii.mask | badpix"
   ]
  },
  {
   "cell_type": "code",
   "execution_count": null,
   "id": "53dcb964",
   "metadata": {},
   "outputs": [],
   "source": [
    "imT_siii.write(str(ROOT / \"data/ngc346-T-siii.fits\"), savemask=\"nan\")"
   ]
  },
  {
   "cell_type": "markdown",
   "id": "0c58d036",
   "metadata": {},
   "source": [
    "The rather disappointing conclusion of this is that the [S III] temperatures do vary from about 13 to 16 kK, but they don't show anything special at the bow shock, being about 13.7 +/- 0.4 kK there. \n",
    "\n",
    "Average over whole FOV is 14.2 +/- 0.8 kK after smoothing to eliminate the noise contribution.  This implies $t^2 = 0.003$ in plane of sky, which is small."
   ]
  },
  {
   "cell_type": "markdown",
   "id": "6b6d7ce0",
   "metadata": {},
   "source": [
    "## Calculate [O III]/[S III]"
   ]
  },
  {
   "cell_type": "code",
   "execution_count": null,
   "id": "8500c55c",
   "metadata": {},
   "outputs": [],
   "source": [
    "im5007 = Image(str(ROOT / \"data/ngc346-oiii-5007-bin01-sum.fits\"))"
   ]
  },
  {
   "cell_type": "markdown",
   "id": "248bc91a",
   "metadata": {},
   "source": [
    "Correct for extinction:"
   ]
  },
  {
   "cell_type": "code",
   "execution_count": null,
   "id": "f461a30d",
   "metadata": {},
   "outputs": [],
   "source": [
    "A5007 = rc.X(5007) * imEBV\n",
    "im5007c = im5007.copy()\n",
    "im5007c.data = im5007.data * 10**(0.4 * A5007.data)"
   ]
  },
  {
   "cell_type": "code",
   "execution_count": null,
   "id": "a6326c7d",
   "metadata": {},
   "outputs": [],
   "source": [
    "median_EBV = np.median(imEBV[150:250, 200:300].data)\n",
    "median_EBV"
   ]
  },
  {
   "cell_type": "code",
   "execution_count": null,
   "id": "c557184e",
   "metadata": {},
   "outputs": [],
   "source": [
    "im5007cc = im5007.copy()\n",
    "im5007cc.data = im5007.data * 10**(0.4 * rc.X(5007) * median_EBV)\n",
    "im9069cc = im9069.copy()\n",
    "im9069cc.data = im9069.data * 10**(0.4 * rc.X(9069) * median_EBV)"
   ]
  },
  {
   "cell_type": "markdown",
   "id": "62e7c4ad",
   "metadata": {},
   "source": [
    "Quick look:"
   ]
  },
  {
   "cell_type": "code",
   "execution_count": null,
   "id": "7b1e95c9",
   "metadata": {},
   "outputs": [],
   "source": [
    "fig, axes = plt.subplots(1, 2, sharey=True, figsize=(12, 6))\n",
    "((im5007cc - 55000)/im9069cc).plot(\n",
    "    vmin=20, vmax=100, \n",
    "    colorbar=\"v\", scale=\"linear\",\n",
    "    ax=axes[0],\n",
    ");\n",
    "((im5007c - 55000)/im9069c).plot(\n",
    "    vmin=20, vmax=100, \n",
    "    colorbar=\"v\", scale=\"linear\",\n",
    "    ax=axes[1],\n",
    ");"
   ]
  },
  {
   "cell_type": "markdown",
   "id": "329b313b",
   "metadata": {},
   "source": [
    "Fix zero points:"
   ]
  },
  {
   "cell_type": "code",
   "execution_count": null,
   "id": "58a2da5d",
   "metadata": {},
   "outputs": [],
   "source": [
    "imax = 6000\n",
    "slope = 45\n",
    "slope2 = 35\n",
    "x = im9069c.data\n",
    "y = im5007c.data - 55000\n",
    "m = x < imax\n",
    "m = m & (x > -100)\n",
    "m = m & (y < slope*imax)\n",
    "m = m & (y > -100*slope)\n",
    "m = m & ~im9069c.mask & ~im5007c.mask\n",
    "df = pd.DataFrame(\n",
    "    {\n",
    "        \"9069\": x[m],\n",
    "        \"5007\": y[m],\n",
    "    }\n",
    ")\n",
    "g = sns.pairplot(\n",
    "    df,\n",
    "    kind=\"hist\",\n",
    "    height=4,\n",
    "    corner=True,\n",
    ")\n",
    "g.axes[1, 0].axvline(0.0, color=\"r\")\n",
    "g.axes[1, 0].axhline(0.0, color=\"r\")\n",
    "g.axes[1, 0].plot([0, imax], [0, slope*imax], \"--\", color=\"r\")\n",
    "g.axes[1, 0].plot([0, imax], [0, slope2*imax], \"--\", color=\"r\")\n",
    "g.fig.suptitle(\"Correlation between [S III] 9069 and [O III] 5007 brightness\");"
   ]
  },
  {
   "cell_type": "code",
   "execution_count": null,
   "id": "b7f319b4",
   "metadata": {},
   "outputs": [],
   "source": [
    "imax = 6000\n",
    "slope = 45\n",
    "slopw = 35\n",
    "x = im9069cc.data\n",
    "y = im5007cc.data - 55000\n",
    "m = x < imax\n",
    "m = m & (x > -100)\n",
    "m = m & (y < slope*imax)\n",
    "m = m & (y > -100*slope)\n",
    "m = m & ~im9069cc.mask & ~im5007cc.mask\n",
    "df = pd.DataFrame(\n",
    "    {\n",
    "        \"9069\": x[m],\n",
    "        \"5007\": y[m],\n",
    "    }\n",
    ")\n",
    "g = sns.pairplot(\n",
    "    df,\n",
    "    kind=\"hist\",\n",
    "    height=4,\n",
    "    corner=True,\n",
    ")\n",
    "g.axes[1, 0].axvline(0.0, color=\"r\")\n",
    "g.axes[1, 0].axhline(0.0, color=\"r\")\n",
    "g.axes[1, 0].plot([0, imax], [0, slope*imax], \"--\", color=\"r\")\n",
    "g.axes[1, 0].plot([0, imax], [0, slope*imax], \"--\", color=\"r\")\n",
    "g.axes[1, 0].plot([0, imax], [0, slope2*imax], \"--\", color=\"r\")\n",
    "g.fig.suptitle(\"Correlation between [S III] 9069 and [O III] 5007 brightness\");"
   ]
  },
  {
   "cell_type": "code",
   "execution_count": null,
   "id": "950f3750",
   "metadata": {},
   "outputs": [],
   "source": [
    "slope = 45\n",
    "slope2 = 35\n",
    "x = im9069cc.data\n",
    "y = im5007cc.data - 55000\n",
    "m = (x > 100)\n",
    "m = m & (y > x) & (y < 100*x)\n",
    "m = m & ~im9069cc.mask & ~im5007cc.mask\n",
    "df = pd.DataFrame(\n",
    "    {\n",
    "        \"log 9069\": np.log10(x[m]),\n",
    "        \"log 5007/9069\": np.log10(y[m] / x[m]),\n",
    "    }\n",
    ")\n",
    "g = sns.pairplot(\n",
    "    df,\n",
    "    kind=\"hist\",\n",
    "    height=4,\n",
    "    corner=True,\n",
    ")\n",
    "g.fig.suptitle(\"Correlation between [S III] 9069 and [O III] / [S III] ratio\");"
   ]
  },
  {
   "cell_type": "code",
   "execution_count": null,
   "id": "a97b0c14",
   "metadata": {},
   "outputs": [],
   "source": [
    "imR_oiii_siii = (im5007cc - 55000)/im9069cc\n",
    "imR_oiii_siii.write(str(ROOT / \"data/ngc346-R-oiii-5007-siii-9069.fits\"), savemask=\"nan\")"
   ]
  },
  {
   "cell_type": "markdown",
   "id": "51bab21e",
   "metadata": {},
   "source": [
    "## Calculate [O III] / Hβ\n",
    "\n",
    "This might be better since at least it is not affected by reddening. "
   ]
  },
  {
   "cell_type": "code",
   "execution_count": null,
   "id": "4e2b558c",
   "metadata": {},
   "outputs": [],
   "source": [
    "imax = 10000\n",
    "slope = 5.\n",
    "x = imhb.data - hbfix\n",
    "y = im5007.data - 33000\n",
    "m = x < imax\n",
    "m = m & (x > -100)\n",
    "m = m & (y < slope*imax)\n",
    "m = m & (y > -100*slope)\n",
    "m = m & ~imhb.mask & ~im5007.mask\n",
    "df = pd.DataFrame(\n",
    "    {\n",
    "        \"4861\": x[m],\n",
    "        \"5007\": y[m],\n",
    "    }\n",
    ")\n",
    "g = sns.pairplot(\n",
    "    df,\n",
    "    kind=\"hist\",\n",
    "    height=4,\n",
    "    corner=True,\n",
    ")\n",
    "g.axes[1, 0].axvline(0.0, color=\"r\")\n",
    "g.axes[1, 0].axhline(0.0, color=\"r\")\n",
    "g.axes[1, 0].plot([0, imax], [0, slope*imax], \"--\", color=\"r\")\n",
    "g.fig.suptitle(\"Correlation between Hβ 4861 and [O III] 5007 brightness\");"
   ]
  },
  {
   "cell_type": "code",
   "execution_count": null,
   "id": "a043be9b",
   "metadata": {},
   "outputs": [],
   "source": [
    "imax = 50000\n",
    "slope = 5.\n",
    "x = imhb.data - hbfix\n",
    "y = im5007.data - 33000\n",
    "m = x < imax\n",
    "m = m & (x > -100)\n",
    "m = m & (y < slope*imax)\n",
    "m = m & (y > -100*slope)\n",
    "m = m & ~imhb.mask & ~im5007.mask\n",
    "df = pd.DataFrame(\n",
    "    {\n",
    "        \"4861\": x[m],\n",
    "        \"5007\": y[m],\n",
    "    }\n",
    ")\n",
    "g = sns.pairplot(\n",
    "    df,\n",
    "    kind=\"hist\",\n",
    "    height=4,\n",
    "    corner=True,\n",
    ")\n",
    "g.axes[1, 0].axvline(0.0, color=\"r\")\n",
    "g.axes[1, 0].axhline(0.0, color=\"r\")\n",
    "g.axes[1, 0].plot([0, imax], [0, slope*imax], \"--\", color=\"r\")\n",
    "g.fig.suptitle(\"Correlation between Hβ 4861 and [O III] 5007 brightness\");"
   ]
  },
  {
   "cell_type": "code",
   "execution_count": null,
   "id": "1c42a1c3",
   "metadata": {},
   "outputs": [],
   "source": [
    "n = 1\n",
    "x = imhb.rebin(n).data - hbfix\n",
    "y = im5007.rebin(n).data - 33000\n",
    "m = (x > 2000) & (y > x) & (y < 10 * x)\n",
    "m = m & ~imhb.rebin(n).mask & ~im5007.rebin(n).mask\n",
    "df = pd.DataFrame(\n",
    "    {\n",
    "        \"log10(4861)\": np.log10(x[m]),\n",
    "        \"log10(5007 / 4861)\": np.log10(y[m] / x[m]),\n",
    "    }\n",
    ")\n",
    "g = sns.pairplot(\n",
    "    df,\n",
    "    kind=\"hist\",\n",
    "    height=4,\n",
    "    corner=True,\n",
    ")\n",
    "g.fig.suptitle(\"Correlation between Hβ 4861 and [O III] / Hβ ratio\");"
   ]
  },
  {
   "cell_type": "code",
   "execution_count": null,
   "id": "25d5125a",
   "metadata": {},
   "outputs": [],
   "source": [
    "imR_oiii_hb = (im5007 - 33000)/(imhb - hbfix)\n",
    "imR_oiii_hb.write(str(ROOT / \"data/ngc346-R-oiii-5007-hi-4861.fits\"), savemask=\"nan\")"
   ]
  },
  {
   "cell_type": "code",
   "execution_count": null,
   "id": "873513fa",
   "metadata": {},
   "outputs": [],
   "source": [
    "fig, axes = plt.subplots(1, 2, sharey=True, figsize=(12, 6))\n",
    "imR_oiii_siii.plot(\n",
    "    vmin=20, vmax=100, \n",
    "    colorbar=\"v\", scale=\"linear\",\n",
    "    ax=axes[0],\n",
    ");\n",
    "imR_oiii_hb.plot(\n",
    "    vmin=3, vmax=7, \n",
    "    colorbar=\"v\", scale=\"linear\",\n",
    "    ax=axes[1],\n",
    ")\n",
    "axes[0].set_title(\"[O III] / [S III]\")\n",
    "axes[1].set_title(\"[O III] / Hβ\")"
   ]
  },
  {
   "cell_type": "markdown",
   "id": "ab1cd38d",
   "metadata": {},
   "source": [
    "## Calculate He I / Hβ\n",
    "\n",
    "Let us see if this has a hole in it where the He II is coming from."
   ]
  },
  {
   "cell_type": "code",
   "execution_count": null,
   "id": "afba53cb",
   "metadata": {},
   "outputs": [],
   "source": [
    "im5875 = Image(str(ROOT / \"data/ngc346-hei-5875-bin01-sum.fits\"))\n",
    "im4922 = Image(str(ROOT / \"data/ngc346-hei-4922-bin01-sum.fits\"))\n",
    "im5048 = Image(str(ROOT / \"data/ngc346-hei-5048-bin01-sum.fits\"))"
   ]
  },
  {
   "cell_type": "code",
   "execution_count": null,
   "id": "3d0df94e",
   "metadata": {},
   "outputs": [],
   "source": [
    "fig, axes = plt.subplots(2, 2, sharey=True, figsize=(12, 12))\n",
    "im5875.plot(ax=axes[0, 0], vmin=0, vmax=5000)\n",
    "im4922.plot(ax=axes[0, 1], vmin=0, vmax=300)\n",
    "(imhb - hbfix).plot(ax=axes[1, 0], vmin=0, vmax=40000)\n",
    "im5048.plot(ax=axes[1, 1], vmin=0, vmax=50)\n",
    "axes[0, 0].set_title(\"He I 5875\")\n",
    "axes[0, 1].set_title(\"He I 4922\")\n",
    "axes[1, 0].set_title(\"H I 4861\")\n",
    "axes[1, 1].set_title(\"He I 5048\")"
   ]
  },
  {
   "cell_type": "markdown",
   "id": "e60a5f69",
   "metadata": {},
   "source": [
    "So 5875 is 10 to 100 times brighter than the other two. And it is almost identical to Hβ! "
   ]
  },
  {
   "cell_type": "code",
   "execution_count": null,
   "id": "db3735a5",
   "metadata": {},
   "outputs": [],
   "source": [
    "imax = 10000\n",
    "slope = 0.12\n",
    "x = imhb.data - hbfix\n",
    "y = im5875.data\n",
    "m = x < imax\n",
    "m = m & (x > -100)\n",
    "m = m & (y < slope*imax)\n",
    "m = m & (y > -100*slope)\n",
    "m = m & ~imhb.mask & ~im5875.mask\n",
    "df = pd.DataFrame(\n",
    "    {\n",
    "        \"4861\": x[m],\n",
    "        \"5875\": y[m],\n",
    "    }\n",
    ")\n",
    "g = sns.pairplot(\n",
    "    df,\n",
    "    kind=\"hist\",\n",
    "    height=4,\n",
    "    corner=True,\n",
    "    plot_kws=dict(weights=x[m], bins=200),\n",
    "    diag_kws=dict(weights=x[m], bins=200),\n",
    ")\n",
    "g.axes[1, 0].axvline(0.0, color=\"r\")\n",
    "g.axes[1, 0].axhline(0.0, color=\"r\")\n",
    "g.axes[1, 0].plot([0, imax], [0, slope*imax], \"--\", color=\"r\")\n",
    "g.fig.suptitle(\"Correlation between Hβ 4861 and He I 5875 brightness\");"
   ]
  },
  {
   "cell_type": "code",
   "execution_count": null,
   "id": "dad7e7dd",
   "metadata": {},
   "outputs": [],
   "source": [
    "imax = 100000\n",
    "slope = 0.12\n",
    "x = imhb.data - hbfix\n",
    "y = im5875.data\n",
    "m = x < imax\n",
    "m = m & (x > -100)\n",
    "m = m & (y < slope*imax)\n",
    "m = m & (y > -100*slope)\n",
    "m = m & ~imhb.mask & ~im5875.mask\n",
    "df = pd.DataFrame(\n",
    "    {\n",
    "        \"4861\": x[m],\n",
    "        \"5875\": y[m],\n",
    "    }\n",
    ")\n",
    "g = sns.pairplot(\n",
    "    df,\n",
    "    kind=\"hist\",\n",
    "    height=4,\n",
    "    corner=True,\n",
    "    plot_kws=dict(weights=x[m], bins=200),\n",
    "    diag_kws=dict(weights=x[m], bins=200),\n",
    ")\n",
    "g.axes[1, 0].axvline(0.0, color=\"r\")\n",
    "g.axes[1, 0].axhline(0.0, color=\"r\")\n",
    "g.axes[1, 0].plot([0, imax], [0, slope*imax], \"--\", color=\"r\")\n",
    "g.fig.suptitle(\"Correlation between Hβ 4861 and He I 5875 brightness\");"
   ]
  },
  {
   "cell_type": "code",
   "execution_count": null,
   "id": "fbc83018",
   "metadata": {},
   "outputs": [],
   "source": [
    "imR_hei_hb = im5875 / (imhb - hbfix)"
   ]
  },
  {
   "cell_type": "code",
   "execution_count": null,
   "id": "d0e285c3",
   "metadata": {},
   "outputs": [],
   "source": [
    "fig, ax = plt.subplots(figsize=(12, 12))\n",
    "imR_hei_hb.plot(colorbar=\"v\", cmap=\"gray\", vmin=0.11, vmax=0.14); "
   ]
  },
  {
   "cell_type": "code",
   "execution_count": null,
   "id": "49fb8143",
   "metadata": {},
   "outputs": [],
   "source": [
    "red_R_hei_hb = imR_hei_hb.copy()\n",
    "red_R_hei_hb.data = 10**(0.4*imEBV.data*(rc.X(4861) - rc.X(5875)))"
   ]
  },
  {
   "cell_type": "code",
   "execution_count": null,
   "id": "28aa3949",
   "metadata": {},
   "outputs": [],
   "source": [
    "fig, ax = plt.subplots(figsize=(12, 12))\n",
    "(imR_hei_hb / red_R_hei_hb).plot(colorbar=\"v\", cmap=\"gray\", vmin=0.1, vmax=0.115); "
   ]
  },
  {
   "cell_type": "markdown",
   "id": "fc2b914f",
   "metadata": {},
   "source": [
    "So if we correct it for reddening, then lots of spurious structure disappears.  But we are left with very little variation at all, except for at the mYSO and the top right corner, which both show low He I."
   ]
  },
  {
   "cell_type": "markdown",
   "id": "f069c4eb",
   "metadata": {},
   "source": [
    "## Calculate He II / Hβ\n",
    "\n"
   ]
  },
  {
   "cell_type": "code",
   "execution_count": null,
   "id": "fc87e345",
   "metadata": {},
   "outputs": [],
   "source": [
    "im4686 = Image(str(ROOT / \"data/ngc346-heii-4686-bin01-sum.fits\"))"
   ]
  },
  {
   "cell_type": "code",
   "execution_count": null,
   "id": "7d01c9c5",
   "metadata": {},
   "outputs": [],
   "source": [
    "fig, ax = plt.subplots(figsize=(12, 12))\n",
    "im4686.plot(colorbar=\"v\", cmap=\"gray\", vmin=0.0, vmax=300);"
   ]
  },
  {
   "cell_type": "code",
   "execution_count": null,
   "id": "e5b2268d",
   "metadata": {},
   "outputs": [],
   "source": [
    "imR_heii_hb = im4686 / (imhb - hbfix)\n",
    "\n",
    "fig, ax = plt.subplots(figsize=(12, 12))\n",
    "imR_heii_hb.plot(colorbar=\"v\", cmap=\"gray\", vmin=0.0, vmax=0.02);"
   ]
  },
  {
   "cell_type": "code",
   "execution_count": null,
   "id": "c30a5edb",
   "metadata": {},
   "outputs": [],
   "source": [
    "n = 2\n",
    "xslice, yslice = slice(200, 300), slice(100, 250)\n",
    "x = imR_heii_hb[yslice, xslice].rebin(n).data\n",
    "y = imR_hei_hb[yslice, xslice].rebin(n).data / red_R_hei_hb[yslice, xslice].rebin(n).data\n",
    "z = im4686[yslice, xslice].rebin(n).data\n",
    "m = x < 0.03\n",
    "m = m & (x > 0)\n",
    "m = m & (y < 0.113)\n",
    "m = m & (y > 0.103)\n",
    "m = m & ~imR_heii_hb[yslice, xslice].rebin(n).mask & ~imR_hei_hb[yslice, xslice].rebin(n).mask\n",
    "df = pd.DataFrame(\n",
    "    {\n",
    "        \"4686 / 4861\": x[m],\n",
    "        \"5875 / 4861\": y[m],\n",
    "    }\n",
    ")\n",
    "g = sns.pairplot(\n",
    "    df,\n",
    "    kind=\"hist\",\n",
    "    height=4,\n",
    "    corner=True,\n",
    "    plot_kws=dict(weights=z[m], bins=30),\n",
    "    diag_kws=dict(weights=z[m], bins=30),\n",
    ")\n",
    "g.fig.suptitle(\"Correlation between He II / Hβ and He I / Hβ ratios\");"
   ]
  },
  {
   "cell_type": "markdown",
   "id": "ad58adbc",
   "metadata": {},
   "source": [
    "So there is a *tiny* change in 5875/4861 from 0.109 to 0.107 as 4686/4861 increases."
   ]
  },
  {
   "cell_type": "code",
   "execution_count": null,
   "id": "8c45b8d7",
   "metadata": {},
   "outputs": [],
   "source": [
    "df[\"high\"] = df[\"4686 / 4861\"] > 0.003\n",
    "df"
   ]
  },
  {
   "cell_type": "code",
   "execution_count": null,
   "id": "59785a99",
   "metadata": {},
   "outputs": [],
   "source": [
    "sns.histplot(\n",
    "    data=df, \n",
    "    x=\"5875 / 4861\", \n",
    "    hue=\"high\",\n",
    "    multiple=\"stack\", \n",
    "    shrink=1.0,\n",
    "    stat=\"probability\",\n",
    "    common_norm=False,\n",
    "    bins=10,\n",
    ")"
   ]
  },
  {
   "cell_type": "markdown",
   "id": "f3d810ef",
   "metadata": {},
   "source": [
    "## Ratio of [Ar IV] / [Ar III]"
   ]
  },
  {
   "cell_type": "code",
   "execution_count": null,
   "id": "c12a268a",
   "metadata": {},
   "outputs": [],
   "source": [
    "im4711 = Image(str(ROOT / \"data/ngc346-ariv-4711-bin01-sum.fits\"))\n",
    "im4740 = Image(str(ROOT / \"data/ngc346-ariv-4740-bin01-sum.fits\"))\n",
    "im7171 = Image(str(ROOT / \"data/ngc346-ariv-7171-bin01-sum.fits\"))\n",
    "im7237 = Image(str(ROOT / \"data/ngc346-ariv-7237-bin01-sum.fits\"))\n",
    "im7263 = Image(str(ROOT / \"data/ngc346-ariv-7263-bin01-sum.fits\"))\n",
    "im7136 = Image(str(ROOT / \"data/ngc346-ariii-7136-bin01-sum.fits\"))"
   ]
  },
  {
   "cell_type": "code",
   "execution_count": null,
   "id": "9d1ca798",
   "metadata": {},
   "outputs": [],
   "source": [
    "fig, axes = plt.subplots(2, 2, sharey=True, figsize=(12, 12))\n",
    "im4711.plot(ax=axes[0, 0], vmin=0, vmax=400)\n",
    "im4740.plot(ax=axes[0, 1], vmin=0, vmax=250)\n",
    "(im7171 + im7263).plot(ax=axes[1, 0], vmin=0, vmax=30)\n",
    "im7136.plot(ax=axes[1, 1], vmin=0, vmax=3500)\n",
    "axes[0, 0].set_title(\"[Ar IV] 4711 + He I 4713\")\n",
    "axes[0, 1].set_title(\"[Ar IV] 4740\")\n",
    "axes[1, 0].set_title(\"[Ar IV] 7171 + 7263\")\n",
    "axes[1, 1].set_title(\"[Ar III] 7136\")"
   ]
  },
  {
   "cell_type": "code",
   "execution_count": null,
   "id": "23ce6147",
   "metadata": {},
   "outputs": [],
   "source": [
    "n = 8\n",
    "fig, axes = plt.subplots(2, 2, sharey=True, figsize=(12, 12))\n",
    "(im4711.rebin(n) / im4740.rebin(n)).plot(ax=axes[0, 0], vmin=0, vmax=4)\n",
    "(im4740.rebin(n) / im7136.rebin(n)).plot(ax=axes[0, 1], vmin=0, vmax=0.15)\n",
    "((im7171.rebin(n) + im7263.rebin(n)) / (im4740.rebin(n) + im4711.rebin(n))).plot(ax=axes[1, 0], vmin=0, vmax=0.08)\n",
    "im7136.rebin(n).plot(ax=axes[1, 1], vmin=0, vmax=3500)\n",
    "axes[0, 0].set_title(\"([Ar IV] 4711 + He I 4713) / [Ar IV] 4740\")\n",
    "axes[0, 1].set_title(\"[Ar IV] 4740 / [Ar III] 7136\")\n",
    "axes[1, 0].set_title(\"[Ar IV] (7171 + 7263) / (4711 + 4740)\")\n",
    "axes[1, 1].set_title(\"[Ar III] 7136\")"
   ]
  },
  {
   "cell_type": "markdown",
   "id": "f291363d",
   "metadata": {},
   "source": [
    "Now we must subtract the He I line!"
   ]
  },
  {
   "cell_type": "code",
   "execution_count": null,
   "id": "9223787a",
   "metadata": {},
   "outputs": [],
   "source": [
    "hei = pn.RecAtom(\"He\", 1)"
   ]
  },
  {
   "cell_type": "code",
   "execution_count": null,
   "id": "573ab6cb",
   "metadata": {},
   "outputs": [],
   "source": [
    "dens = [50, 100, 200]\n",
    "tems = [13000, 18000]\n",
    "e4713 = hei.getEmissivity(tems, dens, wave=4713)\n",
    "e5876 = hei.getEmissivity(tems, dens, wave=5876)\n",
    "e4713 / e5876"
   ]
  },
  {
   "cell_type": "markdown",
   "id": "ad181c51",
   "metadata": {},
   "source": [
    "There is a slight temperature dependence, but almost no density dependence if we use the 5876 line.  This is probably the best because it has good signal to noise.  \n",
    "\n",
    "We can assume that the He I temperature is the same as the [S III] temperature.\n",
    "\n",
    "But we will check the other lines as well. "
   ]
  },
  {
   "cell_type": "code",
   "execution_count": null,
   "id": "4c969f53",
   "metadata": {},
   "outputs": [],
   "source": [
    "e4922 = hei.getEmissivity(tems, dens, wave=4922)\n",
    "e5048 = hei.getEmissivity(tems, dens, wave=5048)\n",
    "e4713 / e4922, e4713 / e5048"
   ]
  },
  {
   "cell_type": "markdown",
   "id": "28470d32",
   "metadata": {},
   "source": [
    "The 4922 has the same T-dependence as 5876, just 10 times weaker. The 5048 has a constant ratio, but it is so weak that we cannot use it.  So 5876 it is ..."
   ]
  },
  {
   "cell_type": "markdown",
   "id": "37a80483",
   "metadata": {},
   "source": [
    "### Average values of T and reddening to use in the corrections\n",
    "\n",
    "We would introduce too much noise by using the pixel-by-pixel values of $T$ and $E(B - V)$, so we will construct an average value by using the He I brightenss as a weight, but masking out the mYSO\n"
   ]
  },
  {
   "cell_type": "code",
   "execution_count": null,
   "id": "decb0314",
   "metadata": {},
   "outputs": [],
   "source": [
    "def trim_edges(im, m):\n",
    "    \"\"\"Trim m pixels of each edge of image in place by setting mask\"\"\"\n",
    "    im.mask[:m, :] = True\n",
    "    im.mask[-m:, :] = True\n",
    "    im.mask[:, :m] = True\n",
    "    im.mask[:, -m:] = True\n",
    "    return None"
   ]
  },
  {
   "cell_type": "code",
   "execution_count": null,
   "id": "d81259e8",
   "metadata": {},
   "outputs": [],
   "source": [
    "im_hei_weight = im5875.copy()\n",
    "im_hei_weight.mask[140:157, 110:141] = True\n",
    "im_hei_weight.mask[94:104, 55:65] = True\n",
    "trim_edges(im_hei_weight, 10)\n",
    "im_hei_weight.data.mask = im_hei_weight.mask\n",
    "fig, ax = plt.subplots(figsize=(10, 10))\n",
    "im_hei_weight.plot(cmap=\"gray_r\")\n",
    "ax.set_title(\"Weight mask for He I emission\");"
   ]
  },
  {
   "cell_type": "markdown",
   "id": "63106d62",
   "metadata": {},
   "source": [
    "That looks OK. Now calculate some averages:"
   ]
  },
  {
   "cell_type": "code",
   "execution_count": null,
   "id": "c348f7dd",
   "metadata": {},
   "outputs": [],
   "source": [
    "fig, axes = plt.subplots(1, 2, figsize=(12, 6), sharey=True)\n",
    "im1 = im_hei_weight.copy()\n",
    "im1.data = im_hei_weight.data * imEBV.data\n",
    "im1.mask = im_hei_weight.mask | imEBV.mask\n",
    "im1.plot(ax=axes[0])\n",
    "im2 = im_hei_weight.copy()\n",
    "im2.data = im_hei_weight.data * imT_siii.data\n",
    "im2.mask = im_hei_weight.mask | imT_siii.mask\n",
    "im2.plot(ax=axes[1])"
   ]
  },
  {
   "cell_type": "code",
   "execution_count": null,
   "id": "c34de63d",
   "metadata": {},
   "outputs": [],
   "source": [
    "avHe_EBV = np.average(imEBV.data, weights=im_hei_weight.data)\n",
    "avHe_Tsiii = np.average(imT_siii.data, weights=im_hei_weight.data)\n",
    "f\"He I brightness-weighted averages: E(B-V) = {avHe_EBV:.2f}, T = {avHe_Tsiii/1000:.2f} kK\""
   ]
  },
  {
   "cell_type": "code",
   "execution_count": null,
   "id": "934da5f1",
   "metadata": {},
   "outputs": [],
   "source": [
    "median_EBV"
   ]
  },
  {
   "cell_type": "markdown",
   "id": "9055f227",
   "metadata": {},
   "source": [
    "The `avHe_Tsiii` looks good. But to be honest, I am a bit suspicious of the `avHe_EBV` reddening, since there are lots of anomalous spots of high $E(B-V)$ that correspond to stars (presumably underlying stellar absorption affecting the Balmer decrement).  \n",
    "\n",
    "I could use the median instead, but I have ended up using the weighted one after all, since we seem to be oversubtracting if anything."
   ]
  },
  {
   "cell_type": "code",
   "execution_count": null,
   "id": "f1d89f9c",
   "metadata": {},
   "outputs": [],
   "source": [
    "avHe_reddening_4713_5876 = 10**(0.4 * avHe_EBV * (rc.X(4713) - rc.X(5876)))\n",
    "median_reddening_4713_5876 = 10**(0.4 * median_EBV * (rc.X(4713) - rc.X(5876)))\n",
    "avHe_reddening_4713_5876, median_reddening_4713_5876"
   ]
  },
  {
   "cell_type": "code",
   "execution_count": null,
   "id": "dcb78593",
   "metadata": {},
   "outputs": [],
   "source": [
    "dens = 100.0\n",
    "avHe_e4713_5876 = (\n",
    "    hei.getEmissivity(avHe_Tsiii, dens, wave=4713) \n",
    "    / hei.getEmissivity(avHe_Tsiii, dens, wave=5876)\n",
    ")\n",
    "avHe_e4713_5876"
   ]
  },
  {
   "cell_type": "markdown",
   "id": "2cac6336",
   "metadata": {},
   "source": [
    "Take advantage to save extinction-corrected maps of the high-ionization lines.  These are using the avHe reddening, not the pixel-by-pixel values"
   ]
  },
  {
   "cell_type": "code",
   "execution_count": null,
   "id": "c82ed7c1",
   "metadata": {},
   "outputs": [],
   "source": [
    "avHe_corr_4686 = 10**(0.4 * avHe_EBV * rc.X(4686))\n",
    "avHe_corr_4686"
   ]
  },
  {
   "cell_type": "code",
   "execution_count": null,
   "id": "2d7ea9b6",
   "metadata": {},
   "outputs": [],
   "source": [
    "(im4686 * avHe_corr_4686).write(str(ROOT / \"data/ngc346-heii-4686-correct.fits\"))"
   ]
  },
  {
   "cell_type": "code",
   "execution_count": null,
   "id": "552f0abf",
   "metadata": {},
   "outputs": [],
   "source": [
    "((imhb - hbfix) * 10**(0.4 * avHe_EBV * rc.X(4861))).write(\n",
    "    str(ROOT / \"data/ngc346-hi-4861-correct.fits\"),\n",
    ")\n",
    "(im5875 * 10**(0.4 * avHe_EBV * rc.X(5875))).write(\n",
    "    str(ROOT / \"data/ngc346-hei-5875-correct.fits\"),   \n",
    ")\n",
    "(im7136 * 10**(0.4 * avHe_EBV * rc.X(7136))).write(\n",
    "    str(ROOT / \"data/ngc346-ariii-7136-correct.fits\"),\n",
    ")"
   ]
  },
  {
   "cell_type": "markdown",
   "id": "b1eb9629",
   "metadata": {},
   "source": [
    "Now do the correction by faking the 4713 line and subtracting it:"
   ]
  },
  {
   "cell_type": "code",
   "execution_count": null,
   "id": "55e3a2d8",
   "metadata": {},
   "outputs": [],
   "source": [
    "#im_fake_4713 = (avHe_e4713_5876 / avHe_reddening_4713_5876) * im5875\n",
    "im_fake_4713 = 0.025 * im5875\n",
    "im4711c = im4711 - im_fake_4713"
   ]
  },
  {
   "cell_type": "markdown",
   "id": "ffa6fd05",
   "metadata": {},
   "source": [
    "Make a common minimal mask to use for all the [Ar IV] lines, which we will then combine with a brightness-based mask for the weaker lines and ratios:"
   ]
  },
  {
   "cell_type": "code",
   "execution_count": null,
   "id": "55664134",
   "metadata": {},
   "outputs": [],
   "source": [
    "cont4686 = Image(str(ROOT / \"data/ngc346-cont-4686-mean.fits\"))"
   ]
  },
  {
   "cell_type": "markdown",
   "id": "2cb98566",
   "metadata": {},
   "source": [
    "I need to decide how bright a star needs to be before I mask out that bit of the image. 5000 in the `cont4686` image seems a reasonable value. "
   ]
  },
  {
   "cell_type": "code",
   "execution_count": null,
   "id": "4c72844a",
   "metadata": {},
   "outputs": [],
   "source": [
    "fig, ax = plt.subplots(figsize=(10, 10))\n",
    "cont4686.plot(colorbar=\"v\", vmin=0, vmax=1e5, scale=\"sqrt\")\n",
    "ax.contour(cont4686.data, levels=[5e3], colors=\"r\")"
   ]
  },
  {
   "cell_type": "code",
   "execution_count": null,
   "id": "8b291300",
   "metadata": {},
   "outputs": [],
   "source": [
    "im_ariv_sum = im4711c + im4740\n",
    "trim_edges(im_ariv_sum, 12)\n",
    "im_ariv_sum.mask[78:88, 190:199] = True\n",
    "im_ariv_sum.mask[234:236, 266:271] = True\n",
    "im_ariv_sum.mask[81:84, 52:55] = True\n",
    "im_ariv_sum.mask = im_ariv_sum.mask | (cont4686.data > 1.5e3)\n",
    "im_ariv_sum.mask = im_ariv_sum.mask | (im_ariv_sum.data > 650)\n",
    "im_ariv_sum.mask = im_ariv_sum.mask | (im_ariv_sum.data < -250)\n",
    "fig, ax = plt.subplots(figsize=(10, 10))\n",
    "im_ariv_sum.rebin(1).plot(\n",
    "    colorbar=\"v\", \n",
    "    vmin=-10, vmax=600, \n",
    "    cmap=\"gray_r\", \n",
    "    scale=\"sqrt\"\n",
    ");"
   ]
  },
  {
   "cell_type": "markdown",
   "id": "4674b6d8",
   "metadata": {},
   "source": [
    "That is looking good.  Apply the mask to all the other images"
   ]
  },
  {
   "cell_type": "code",
   "execution_count": null,
   "id": "27acf1a4",
   "metadata": {},
   "outputs": [],
   "source": [
    "for im in im4711c, im4740, im7171, im7263, im7237:\n",
    "    im.mask = im.mask | im_ariv_sum.mask"
   ]
  },
  {
   "cell_type": "markdown",
   "id": "880d6a3e",
   "metadata": {},
   "source": [
    "Now find average reddening for [Ar IV] lines.  Try two methods: (1) brightness-weighted mean; (2) make a mask based on the Ar IV brightness and then take median in that area. "
   ]
  },
  {
   "cell_type": "code",
   "execution_count": null,
   "id": "2d71adce",
   "metadata": {},
   "outputs": [],
   "source": [
    "fig, ax = plt.subplots(figsize=(10, 10))\n",
    "im = im_ariv_sum.copy()\n",
    "im.data = imEBV.data\n",
    "im.mask = im.mask | (im_ariv_sum.data < 120)\n",
    "trim_edges(im, 20)\n",
    "im.plot(vmin=0, vmax=0.2, cmap=\"magma_r\", colorbar=\"v\");"
   ]
  },
  {
   "cell_type": "code",
   "execution_count": null,
   "id": "6d6e34d0",
   "metadata": {},
   "outputs": [],
   "source": [
    "avArIV_EBV = np.average(imEBV.data, weights=im_ariv_sum.data)\n",
    "medianArIV_EBV = np.median(im.data.data[~im.mask])\n",
    "avArIV_EBV, medianArIV_EBV"
   ]
  },
  {
   "cell_type": "markdown",
   "id": "b64df72f",
   "metadata": {},
   "source": [
    "So there isn't much difference. But we take the median since it should be less sensitive to those spots of higher $E(B-V)$ due to stars. "
   ]
  },
  {
   "cell_type": "markdown",
   "id": "605f1647",
   "metadata": {},
   "source": [
    "Apply extinction correction to all lines:"
   ]
  },
  {
   "cell_type": "code",
   "execution_count": null,
   "id": "144a12c3",
   "metadata": {},
   "outputs": [],
   "source": [
    "im4740r = im4740 * 10**(0.4 * medianArIV_EBV * rc.X(4740))\n",
    "im4711r = im4711c * 10**(0.4 * medianArIV_EBV * rc.X(4711))\n",
    "im7171r = im7171 * 10**(0.4 * medianArIV_EBV * rc.X(7171))\n",
    "im7136r = im7136 * 10**(0.4 * medianArIV_EBV * rc.X(7136))\n",
    "im7263r = im7263 * 10**(0.4 * medianArIV_EBV * rc.X(7263))\n",
    "im7237r = im7237 * 10**(0.4 * medianArIV_EBV * rc.X(7237))\n",
    "for im in im4711r, im4740r, im7171r, im7136r, im7263r, im7237r:\n",
    "    im.mask = im.mask | im_ariv_sum.mask"
   ]
  },
  {
   "cell_type": "markdown",
   "id": "9dd94417",
   "metadata": {},
   "source": [
    "And replace the summed image:"
   ]
  },
  {
   "cell_type": "code",
   "execution_count": null,
   "id": "facae690",
   "metadata": {},
   "outputs": [],
   "source": [
    "im_ariv_sum = im4711r + im4740r"
   ]
  },
  {
   "cell_type": "code",
   "execution_count": null,
   "id": "7dd61f98",
   "metadata": {},
   "outputs": [],
   "source": [
    "ariv_R1 = im4711r / im4740r\n",
    "ariv_R1.mask = ariv_R1.mask | (im_ariv_sum.data < 300)\n",
    "ariv_R3_plus_R4 = (im7171r + im7263r) / (im4740r + im4711r)\n",
    "ariv_R3_plus_R4.mask = ariv_R3_plus_R4.mask | (im_ariv_sum.data < 400)\n",
    "trim_edges(ariv_R1, 20)\n",
    "trim_edges(ariv_R3_plus_R4, 20)"
   ]
  },
  {
   "cell_type": "code",
   "execution_count": null,
   "id": "a6f9a0db",
   "metadata": {},
   "outputs": [],
   "source": [
    "fig, axes = plt.subplots(2, 2, figsize=(12, 12), sharex=\"row\", sharey=\"row\")\n",
    "im4711r.plot(ax=axes[0, 0], vmin=-20, vmax=400, colorbar=\"v\", cmap=cmr.bubblegum)\n",
    "im4740r.plot(ax=axes[0, 1], vmin=-20, vmax=350/1.3, colorbar=\"v\", cmap=cmr.bubblegum)\n",
    "n = 8\n",
    "#(im4711c.rebin(n) / im4740.rebin(n)).plot(ax=axes[1, 0], vmin=0, vmax=2, colorbar=\"v\")\n",
    "#(\n",
    "#    (im7171.rebin(n) + im7263.rebin(n)) \n",
    "#     / (im4740.rebin(n) + im4711c.rebin(n))\n",
    "#).plot(ax=axes[1, 1], vmin=0, vmax=0.08, colorbar=\"v\")\n",
    "ariv_R1.rebin(n).plot(ax=axes[1, 0], vmin=0, vmax=2, cmap=\"mako_r\", colorbar=\"v\")\n",
    "ariv_R3_plus_R4.rebin(n).plot(ax=axes[1, 1], vmin=0, vmax=0.08, cmap=\"inferno\", colorbar=\"v\")"
   ]
  },
  {
   "cell_type": "markdown",
   "id": "a3350ec3",
   "metadata": {},
   "source": [
    "Save the combined image, corrected for extinction:"
   ]
  },
  {
   "cell_type": "code",
   "execution_count": null,
   "id": "c01c8432",
   "metadata": {},
   "outputs": [],
   "source": [
    "im_ariv_sum.write(str(ROOT / \"data/ngc346-ariv-4711-plus-4740-correct.fits\"), savemask=\"nan\")\n",
    "im4740r.write(str(ROOT / \"data/ngc346-ariv-4740-correct.fits\"), savemask=\"nan\")\n",
    "im4711r.write(str(ROOT / \"data/ngc346-ariv-4711-correct.fits\"), savemask=\"nan\")\n",
    "im7171r.write(str(ROOT / \"data/ngc346-ariv-7171-correct.fits\"), savemask=\"nan\")\n",
    "im7263r.write(str(ROOT / \"data/ngc346-ariv-7263-correct.fits\"), savemask=\"nan\")"
   ]
  },
  {
   "cell_type": "code",
   "execution_count": null,
   "id": "e6510aac",
   "metadata": {},
   "outputs": [],
   "source": [
    "n = 4\n",
    "xslice, yslice = slice(200, 300), slice(100, 250)\n",
    "ratio = 1.35\n",
    "xmax = 300\n",
    "ymax = ratio*xmax\n",
    "x = im4740r[yslice, xslice].rebin(n).data\n",
    "y = im4711r[yslice, xslice].rebin(n).data \n",
    "z = im_ariv_sum[yslice, xslice].rebin(n).data\n",
    "m = (x > -100.0) & (y > -100.0) & (x < xmax) & (y < ymax)\n",
    "#m = m & (x > 0)\n",
    "#m = m & (y < 0.113)\n",
    "#m = m & (y > 0.103)\n",
    "m = m & ~im4740r[yslice, xslice].rebin(n).mask & ~im4711r[yslice, xslice].rebin(n).mask\n",
    "df = pd.DataFrame(\n",
    "    {\n",
    "        \"4740\": x[m],\n",
    "        \"4711\": y[m],\n",
    "    }\n",
    ")\n",
    "g = sns.pairplot(\n",
    "    df,\n",
    "    kind=\"hist\",\n",
    "    height=4,\n",
    "    corner=True,\n",
    "    plot_kws=dict(\n",
    "        #weights=z[m], \n",
    "        bins=64//n),\n",
    "    diag_kws=dict(\n",
    "        #weights=z[m], \n",
    "        bins=128//n),\n",
    ")\n",
    "g.axes[1, 0].plot([0, xmax], [0, ymax])\n",
    "g.fig.suptitle(\"Correlation between [Ar IV] 4711 and 4740\");"
   ]
  },
  {
   "cell_type": "code",
   "execution_count": null,
   "id": "97ed5a27",
   "metadata": {},
   "outputs": [],
   "source": [
    "n = 2\n",
    "xslice, yslice = slice(200, 300), slice(100, 250)\n",
    "ratio = 1.35\n",
    "xmax = 300\n",
    "ymax = ratio * xmax\n",
    "x = im4740r[yslice, xslice].rebin(n).data\n",
    "y = im4711r[yslice, xslice].rebin(n).data \n",
    "z = im_ariv_sum[yslice, xslice].rebin(n).data\n",
    "m = (x > -100.0) & (y > -100.0) & (x < xmax) & (y < ymax)\n",
    "y = y / x\n",
    "m = m & (y < 2.5*ratio) & (y > 0.0)\n",
    "#m = m & (x > 0)\n",
    "#m = m & (y < 0.113)\n",
    "#m = m & (y > 0.103)\n",
    "m = m & ~im4740[yslice, xslice].rebin(n).mask & ~im4711[yslice, xslice].rebin(n).mask\n",
    "df = pd.DataFrame(\n",
    "    {\n",
    "        \"4740\": x[m],\n",
    "        \"4711 / 4740\": y[m],\n",
    "    }\n",
    ")\n",
    "g = sns.pairplot(\n",
    "    df,\n",
    "    kind=\"hist\",\n",
    "    height=4,\n",
    "    corner=True,\n",
    "    plot_kws=dict(weights=z[m], bins=200//n),\n",
    "    diag_kws=dict(weights=z[m], bins=100//int(np.sqrt(n))),\n",
    ")\n",
    "g.axes[1, 0].axhline(ratio, linestyle=\"dashed\", color=\"k\", linewidth=2)\n",
    "g.axes[1, 1].axvline(ratio, linestyle=\"dashed\", color=\"k\", linewidth=2)\n",
    "g.fig.suptitle(\"Correlation between [Ar IV] 4740 and 4711 / 4740\");"
   ]
  },
  {
   "cell_type": "raw",
   "id": "673f5008",
   "metadata": {},
   "source": [
    "So the density-sensitive ratio is $R_1 = 1.35 \\pm 0.1$ "
   ]
  },
  {
   "cell_type": "code",
   "execution_count": null,
   "id": "97c7f3f3",
   "metadata": {},
   "outputs": [],
   "source": [
    "ariv = pn.Atom(\"Ar\", 4)"
   ]
  },
  {
   "cell_type": "code",
   "execution_count": null,
   "id": "74980dde",
   "metadata": {},
   "outputs": [],
   "source": [
    "ariv.getTemDen([1.30, 1.35, 1.40], tem=17500, wave1=4711, wave2=4740)"
   ]
  },
  {
   "cell_type": "markdown",
   "id": "bf0f4e95",
   "metadata": {},
   "source": [
    "So we are close to the low density limit, with a nominal value of 160.  We need to get a very precise estimate of the uncertainty in order to get the error bars. "
   ]
  },
  {
   "cell_type": "code",
   "execution_count": null,
   "id": "a8d37a89",
   "metadata": {},
   "outputs": [],
   "source": [
    "ariv.getSources()"
   ]
  },
  {
   "cell_type": "markdown",
   "id": "f438587b",
   "metadata": {},
   "source": [
    "Now for the T diagnostics:"
   ]
  },
  {
   "cell_type": "code",
   "execution_count": null,
   "id": "05a72857",
   "metadata": {},
   "outputs": [],
   "source": [
    "n = 4\n",
    "xslice, yslice = slice(200, 300), slice(100, 250)\n",
    "ratio = 0.024\n",
    "xmax = 750\n",
    "ymax = ratio*xmax\n",
    "x = im_ariv_sum[yslice, xslice].rebin(n).data\n",
    "y = im7171r[yslice, xslice].rebin(n).data \n",
    "z = im_ariv_sum[yslice, xslice].rebin(n).data\n",
    "m = (x > -0.5*xmax) & (y > -2*ymax) & (x < xmax) & (y < 3*ymax)\n",
    "#m = m & (x > 0)\n",
    "#m = m & (y < 0.113)\n",
    "#m = m & (y > 0.103)\n",
    "m = m & ~im_ariv_sum[yslice, xslice].rebin(n).mask & ~im7171[yslice, xslice].rebin(n).mask\n",
    "df = pd.DataFrame(\n",
    "    {\n",
    "        \"4711 + 4740\": x[m],\n",
    "        \"7171\": y[m],\n",
    "    }\n",
    ")\n",
    "g = sns.pairplot(\n",
    "    df,\n",
    "    kind=\"hist\",\n",
    "    height=4,\n",
    "    corner=True,\n",
    "    plot_kws=dict(\n",
    "        weights=z[m], \n",
    "        bins=128//n),\n",
    "    diag_kws=dict(\n",
    "        weights=200 + z[m], \n",
    "        bins=128//n),\n",
    ")\n",
    "g.axes[1, 0].plot([0, xmax], [0, ymax])\n",
    "g.fig.suptitle(\"Correlation between [Ar IV] 4711+40 and 7171\");"
   ]
  },
  {
   "cell_type": "code",
   "execution_count": null,
   "id": "f6a0443d",
   "metadata": {},
   "outputs": [],
   "source": []
  },
  {
   "cell_type": "code",
   "execution_count": null,
   "id": "b5ad9c67",
   "metadata": {},
   "outputs": [],
   "source": [
    "n = 4\n",
    "xslice, yslice = slice(200, 300), slice(100, 250)\n",
    "ratio = 0.024\n",
    "xmax = 750\n",
    "ymax = ratio*xmax\n",
    "x = im_ariv_sum[yslice, xslice].rebin(n).data\n",
    "y = im7263r[yslice, xslice].rebin(n).data \n",
    "z = im_ariv_sum[yslice, xslice].rebin(n).data\n",
    "m = (x > -0.5*xmax) & (y > -2*ymax) & (x < xmax) & (y < 3*ymax)\n",
    "#m = m & (x > 0)\n",
    "#m = m & (y < 0.113)\n",
    "#m = m & (y > 0.103)\n",
    "m = m & ~im_ariv_sum[yslice, xslice].rebin(n).mask & ~im7171[yslice, xslice].rebin(n).mask\n",
    "df = pd.DataFrame(\n",
    "    {\n",
    "        \"4711 + 4740\": x[m],\n",
    "        \"7263\": y[m],\n",
    "    }\n",
    ")\n",
    "g = sns.pairplot(\n",
    "    df,\n",
    "    kind=\"hist\",\n",
    "    height=4,\n",
    "    corner=True,\n",
    "    plot_kws=dict(\n",
    "        weights=z[m], \n",
    "        bins=128//n),\n",
    "    diag_kws=dict(\n",
    "        weights=200 + z[m], \n",
    "        bins=128//n),\n",
    ")\n",
    "g.axes[1, 0].plot([0, xmax], [0, ymax])\n",
    "g.fig.suptitle(\"Correlation between [Ar IV] 4711+40 and 7263\");"
   ]
  },
  {
   "cell_type": "code",
   "execution_count": null,
   "id": "f730a174",
   "metadata": {},
   "outputs": [],
   "source": [
    "n = 4\n",
    "xslice, yslice = slice(200, 300), slice(100, 250)\n",
    "ratio = 0.024\n",
    "xmax = 600\n",
    "ymax = ratio*xmax\n",
    "x = im_ariv_sum[yslice, xslice].rebin(n).data\n",
    "y = im7171r[yslice, xslice].rebin(n).data \n",
    "z = im_ariv_sum[yslice, xslice].rebin(n).data\n",
    "m = (x > -0.5*xmax) & (y > -2*ymax) & (x < xmax) & (y < 3*ymax)\n",
    "y = y / x\n",
    "m = m & (y > -ratio) & (y < 3*ratio)\n",
    "#m = m & (x > 0)\n",
    "#m = m & (y < 0.113)\n",
    "#m = m & (y > 0.103)\n",
    "m = m & ~im_ariv_sum[yslice, xslice].rebin(n).mask & ~im7171[yslice, xslice].rebin(n).mask\n",
    "df = pd.DataFrame(\n",
    "    {\n",
    "        \"4711 + 4740\": x[m],\n",
    "        \"7171 / (4711 + 4740)\": y[m],\n",
    "    }\n",
    ")\n",
    "g = sns.pairplot(\n",
    "    df,\n",
    "    kind=\"hist\",\n",
    "    height=4,\n",
    "    corner=True,\n",
    "    plot_kws=dict(\n",
    "        weights=z[m], \n",
    "        bins=128//n),\n",
    "    diag_kws=dict(\n",
    "        weights=200 + z[m], \n",
    "        bins=128//n),\n",
    ")\n",
    "g.fig.suptitle(\"Correlation between [Ar IV] 4711+40 and 7171 / (4711 + 4740)\");"
   ]
  },
  {
   "cell_type": "code",
   "execution_count": null,
   "id": "6c732f85",
   "metadata": {},
   "outputs": [],
   "source": [
    "n = 4\n",
    "xslice, yslice = slice(200, 300), slice(100, 250)\n",
    "ratio = 0.024\n",
    "xmax = 600\n",
    "ymax = ratio*xmax\n",
    "x = im_ariv_sum[yslice, xslice].rebin(n).data\n",
    "y = im7263r[yslice, xslice].rebin(n).data \n",
    "z = im_ariv_sum[yslice, xslice].rebin(n).data\n",
    "m = (x > -0.5*xmax) & (y > -2*ymax) & (x < xmax) & (y < 3*ymax)\n",
    "y = y / x\n",
    "m = m & (y > -ratio) & (y < 3*ratio)\n",
    "#m = m & (x > 0)\n",
    "#m = m & (y < 0.113)\n",
    "#m = m & (y > 0.103)\n",
    "m = m & ~im_ariv_sum[yslice, xslice].rebin(n).mask & ~im7263[yslice, xslice].rebin(n).mask\n",
    "df = pd.DataFrame(\n",
    "    {\n",
    "        \"4711 + 4740\": x[m],\n",
    "        \"7263 / (4711 + 4740)\": y[m],\n",
    "    }\n",
    ")\n",
    "g = sns.pairplot(\n",
    "    df,\n",
    "    kind=\"hist\",\n",
    "    height=4,\n",
    "    corner=True,\n",
    "    plot_kws=dict(\n",
    "        weights=z[m], \n",
    "        bins=128//n),\n",
    "    diag_kws=dict(\n",
    "        weights=200 + z[m], \n",
    "        bins=128//n),\n",
    ")\n",
    "g.fig.suptitle(\"Correlation between [Ar IV] 4711+40 and 7263 / (4711 + 4740)\");"
   ]
  },
  {
   "cell_type": "markdown",
   "id": "54efa90f",
   "metadata": {},
   "source": [
    "And do the one that is contaminated by C II"
   ]
  },
  {
   "cell_type": "code",
   "execution_count": null,
   "id": "1293fccc",
   "metadata": {},
   "outputs": [],
   "source": [
    "n = 8\n",
    "xslice, yslice = slice(200, 300), slice(100, 250)\n",
    "ratio = 0.024\n",
    "xmax = 600\n",
    "ymax = ratio*xmax\n",
    "x = im_ariv_sum[yslice, xslice].rebin(n).data\n",
    "y = im7237r[yslice, xslice].rebin(n).data \n",
    "z = im_ariv_sum[yslice, xslice].rebin(n).data\n",
    "m = (x > -0.5*xmax) & (y > -2*ymax) & (x < xmax) & (y < 3*ymax)\n",
    "y = y / x\n",
    "m = m & (y > -ratio) & (y < 3*ratio)\n",
    "#m = m & (x > 0)\n",
    "#m = m & (y < 0.113)\n",
    "#m = m & (y > 0.103)\n",
    "m = m & ~im_ariv_sum[yslice, xslice].rebin(n).mask & ~im7237r[yslice, xslice].rebin(n).mask\n",
    "df = pd.DataFrame(\n",
    "    {\n",
    "        \"4711 + 4740\": x[m],\n",
    "        \"7237 / (4711 + 4740)\": y[m],\n",
    "    }\n",
    ")\n",
    "g = sns.pairplot(\n",
    "    df,\n",
    "    kind=\"hist\",\n",
    "    height=4,\n",
    "    corner=True,\n",
    "    plot_kws=dict(\n",
    "        weights=z[m], \n",
    "        bins=128//n),\n",
    "    diag_kws=dict(\n",
    "        weights=200 + z[m], \n",
    "        bins=128//n),\n",
    ")\n",
    "g.fig.suptitle(\"Correlation between [Ar IV] 4711+40 and 7237 / (4711 + 4740)\");"
   ]
  },
  {
   "cell_type": "markdown",
   "id": "823d528f",
   "metadata": {},
   "source": [
    "As expected, this last one is no good.  But the others are fine.  Now include density and temperature indiocators together:"
   ]
  },
  {
   "cell_type": "code",
   "execution_count": null,
   "id": "67e16e03",
   "metadata": {},
   "outputs": [],
   "source": [
    "Ts = [1e4, 1.5e4, 2.0e4, 2.5e4, 3.0e4]\n",
    "#dens = [10.0, 100.0, 1000.0]\n",
    "dens = [1.0, 200.0, 400.0, 600.0, 800.0, 1000.0]\n",
    "\n",
    "\n",
    "Tfine = np.linspace(Ts[0], Ts[-1], 200)\n",
    "dfine = np.linspace(dens[0], dens[-1], 200)\n",
    "\n",
    "e4711 = ariv.getEmissivity(Tfine, dens, wave=4711)\n",
    "e4740 = ariv.getEmissivity(Tfine, dens, wave=4740)\n",
    "e7171 = ariv.getEmissivity(Tfine, dens, wave=7171)\n",
    "e7263 = ariv.getEmissivity(Tfine, dens, wave=7263)\n",
    "\n",
    "rr1 = e4711 / e4740\n",
    "rr3 = e7263 / (e4711 + e4740)\n",
    "rr4 = e7171 / (e4711 + e4740)\n",
    "\n",
    "e4711 = ariv.getEmissivity(Ts, dfine, wave=4711)\n",
    "e4740 = ariv.getEmissivity(Ts, dfine, wave=4740)\n",
    "e7171 = ariv.getEmissivity(Ts, dfine, wave=7171)\n",
    "e7263 = ariv.getEmissivity(Ts, dfine, wave=7263)\n",
    "\n",
    "_rr1 = e4711 / e4740\n",
    "_rr3 = e7263 / (e4711 + e4740)\n",
    "_rr4 = e7171 / (e4711 + e4740)\n",
    "\n",
    "_rr1 = _rr1.T\n",
    "_rr3 = _rr3.T\n",
    "_rr4 = _rr4.T"
   ]
  },
  {
   "cell_type": "code",
   "execution_count": null,
   "id": "7ae52660",
   "metadata": {},
   "outputs": [],
   "source": [
    "n = 8\n",
    "xslice, yslice = slice(200, 300), slice(100, 250)\n",
    "#xslice, yslice = slice(None, None), slice(None, None)\n",
    "ratio = 0.024\n",
    "wmax = 750\n",
    "w = im_ariv_sum[yslice, xslice].rebin(n).data\n",
    "x = im7263r[yslice, xslice].rebin(n).data / w\n",
    "y = im7171r[yslice, xslice].rebin(n).data / w\n",
    "z = im4711r[yslice, xslice].rebin(n).data / im4740r[yslice, xslice].rebin(n).data\n",
    "m = (w > 0.4*wmax) & (w < wmax) \n",
    "m = m & (x > -0*ratio) & (x < 2*ratio)\n",
    "m = m & (y > -0*ratio) & (y < 2*ratio)\n",
    "m = m & (z > 0.8) & (z < 2.1)\n",
    "m = m & ~ariv_R1[yslice, xslice].rebin(n).mask & ~ariv_R3_plus_R4[yslice, xslice].rebin(n).mask\n",
    "df = pd.DataFrame(\n",
    "    {\n",
    "        \"R3 = 7263 / (4711 + 4740)\": x[m],\n",
    "        \"R4 = 7171 / (4711 + 4740)\": y[m],\n",
    "        \"R1 = 4711 / 4740\": z[m],\n",
    "    }\n",
    ")\n",
    "g = sns.pairplot(\n",
    "    df,\n",
    "    kind=\"kde\",\n",
    "    diag_kind=\"hist\",\n",
    "    height=4,\n",
    "    corner=True,\n",
    "    plot_kws=dict(\n",
    "        weights=z[m], \n",
    "    ),\n",
    "    diag_kws=dict(\n",
    "        weights=w[m], \n",
    "    #    bins=128//n,\n",
    "    ),\n",
    ")\n",
    "g.axes[1, 0].plot(rr3, rr4, color=\"k\")\n",
    "g.axes[1, 0].plot(_rr3, _rr4, color=\"k\")\n",
    "\n",
    "g.axes[2, 0].plot(rr3, rr1, color=\"k\")\n",
    "g.axes[2, 0].plot(_rr3, _rr1, color=\"k\")\n",
    "\n",
    "g.axes[2, 1].plot(rr4, rr1, color=\"k\")\n",
    "g.axes[2, 1].plot(_rr4, _rr1, color=\"k\")\n",
    "\n",
    "#g = sns.pairplot(\n",
    "#    df,\n",
    "#    kind=\"scatter\",\n",
    "#    height=4,\n",
    "#    corner=True,\n",
    "#    plot_kws=dict(\n",
    "#        linewidth=0,\n",
    "#        alpha=0.5,\n",
    "#    ),\n",
    "#    diag_kws=dict(\n",
    "#        weights=w[m], \n",
    "#        bins=128//n),\n",
    "#)\n",
    "g.fig.suptitle(\"Correlation between [Ar IV] R1, R3, and R4\");"
   ]
  },
  {
   "cell_type": "markdown",
   "id": "a0c8f5e5",
   "metadata": {},
   "source": [
    "Following function is copied from the matplotlib docs.  Ideas originally from https://carstenschelp.github.io/2018/09/14/Plot_Confidence_Ellipse_001.html\n",
    "\n",
    "I have modified it to include a weight array."
   ]
  },
  {
   "cell_type": "code",
   "execution_count": null,
   "id": "4992f9f0",
   "metadata": {},
   "outputs": [],
   "source": [
    "from matplotlib.patches import Ellipse\n",
    "import matplotlib.transforms as transforms\n",
    "\n",
    "# See: https://carstenschelp.github.io/2018/09/14/Plot_Confidence_Ellipse_001.html\n",
    "\n",
    "def confidence_ellipse(x, y, w, ax, n_std=3.0, facecolor='none', **kwargs):\n",
    "    \"\"\"\n",
    "    Create a plot of the covariance confidence ellipse of *x* and *y*.\n",
    "\n",
    "    Parameters\n",
    "    ----------\n",
    "    x, y : array-like, shape (n, )\n",
    "        Input data.\n",
    "\n",
    "    w : array-like, shape (n, )\n",
    "        Weights of each input point.\n",
    "\n",
    "    ax : matplotlib.axes.Axes\n",
    "        The axes object to draw the ellipse into.\n",
    "\n",
    "    n_std : float\n",
    "        The number of standard deviations to determine the ellipse's radiuses.\n",
    "\n",
    "    **kwargs\n",
    "        Forwarded to `~matplotlib.patches.Ellipse`\n",
    "\n",
    "    Returns\n",
    "    -------\n",
    "    matplotlib.patches.Ellipse\n",
    "    \"\"\"\n",
    "    if x.size != y.size:\n",
    "        raise ValueError(\"x and y must be the same size\")\n",
    "\n",
    "    cov = np.cov(x, y, aweights=w)\n",
    "    pearson = cov[0, 1]/np.sqrt(cov[0, 0] * cov[1, 1])\n",
    "    # Using a special case to obtain the eigenvalues of this\n",
    "    # two-dimensionl dataset.\n",
    "    ell_radius_x = np.sqrt(1 + pearson)\n",
    "    ell_radius_y = np.sqrt(1 - pearson)\n",
    "    ellipse = Ellipse((0, 0), width=ell_radius_x * 2, height=ell_radius_y * 2,\n",
    "                      facecolor=facecolor, **kwargs)\n",
    "\n",
    "    # Calculating the stdandard deviation of x from\n",
    "    # the squareroot of the variance and multiplying\n",
    "    # with the given number of standard deviations.\n",
    "    scale_x = np.sqrt(cov[0, 0]) * n_std\n",
    "    mean_x = np.average(x, weights=w)\n",
    "\n",
    "    # calculating the stdandard deviation of y ...\n",
    "    scale_y = np.sqrt(cov[1, 1]) * n_std\n",
    "    mean_y = np.average(y, weights=w)\n",
    "\n",
    "    transf = transforms.Affine2D() \\\n",
    "        .rotate_deg(45) \\\n",
    "        .scale(scale_x, scale_y) \\\n",
    "        .translate(mean_x, mean_y)\n",
    "\n",
    "    ellipse.set_transform(transf + ax.transData)\n",
    "    return ax.add_patch(ellipse)"
   ]
  },
  {
   "cell_type": "code",
   "execution_count": null,
   "id": "a4718b17",
   "metadata": {},
   "outputs": [],
   "source": [
    "n = 8\n",
    "xslice, yslice = slice(230, 300), slice(144, 245)\n",
    "w_low_cutoff = 250\n",
    "w_mid_cutoff = 350 # 375\n",
    "xymin, xymax = 0.011, 0.059\n",
    "zzmin, zzmax = 1.11, 1.5\n",
    "\n",
    "w = im_ariv_sum[yslice, xslice].rebin(n).data\n",
    "x = im7263r[yslice, xslice].rebin(n).data / w\n",
    "y = im7171r[yslice, xslice].rebin(n).data / w\n",
    "z = im4711r[yslice, xslice].rebin(n).data / im4740r[yslice, xslice].rebin(n).data\n",
    "m = (w > w_mid_cutoff) #& (w < wmax) \n",
    "#m = m & (x + y > 0.25*ratio) & (x + y < 2*ratio)\n",
    "m = m & (z > 1.1) & (z < 2.1)\n",
    "#m = m & ~ariv_R1[yslice, xslice].rebin(n).mask & ~ariv_R3_plus_R4[yslice, xslice].rebin(n).mask\n",
    "df = pd.DataFrame(\n",
    "    {\n",
    "        \"(7171 + 7263) / (4711 + 4740)\": x[m] + y[m],\n",
    "        \"4711 / 4740\": z[m],\n",
    "        \"sum\": w[m],\n",
    "    }\n",
    ").sort_values(by=\"sum\")\n",
    "mean_R1 = np.average(z[m], weights=w[m])\n",
    "mean_R34 = np.average(x[m] + y[m], weights=w[m])\n",
    "\n",
    "var_R1 = np.average((z[m] - mean_R1)**2, weights=w[m])\n",
    "var_R34 = np.average((x[m] + y[m] - mean_R34)**2, weights=w[m])\n",
    "\n",
    "sig_R1 = np.sqrt(var_R1)\n",
    "sig_R34 = np.sqrt(var_R34)\n",
    "\n",
    "text = f\"R1 = {mean_R1:.3f} +/- {sig_R1:.3f}\"\n",
    "text += f\", (R3 + R4) = {mean_R34:.3f} +/- {sig_R34:.3f}\"\n",
    "\n",
    "_vars = df.columns[:2]\n",
    "g = sns.pairplot(\n",
    "    df,\n",
    "    x_vars=_vars, y_vars=_vars, \n",
    "    kind=\"scatter\",\n",
    "    diag_kind=\"hist\",\n",
    "    height=4,\n",
    "    corner=True,\n",
    "    plot_kws=dict(\n",
    "        #weights=z[m], \n",
    "        c=df[\"sum\"],\n",
    "        cmap=\"Blues\",\n",
    "        s=200,\n",
    "        vmin=w_low_cutoff,\n",
    "    ),\n",
    "    diag_kws=dict(\n",
    "        weights=w[m], \n",
    "        bins=8,\n",
    "    #    bins=128//n,\n",
    "    ),\n",
    ")\n",
    "g.axes[1, 0].plot(rr3 + rr4, rr1, color=\"k\")\n",
    "g.axes[1, 0].plot(_rr3 + _rr4, _rr1, color=\"k\")\n",
    "confidence_ellipse(\n",
    "    x[m] + y[m], z[m], w[m], \n",
    "    g.axes[1, 0], n_std=1, \n",
    "    edgecolor='red', linewidth=2,\n",
    ")\n",
    "g.axes[1, 0].scatter(\n",
    "    mean_R34, mean_R1, \n",
    "    c=\"r\", marker=\"+\", \n",
    "    s=400, linewidth=3,\n",
    ")\n",
    "\n",
    "g.axes[1, 0].set_xlim(xymin, xymax)\n",
    "g.axes[1, 0].set_ylim(zzmin, zzmax)\n",
    "\n",
    "g.axes[1, 1].set_xlim(*g.axes[1, 0].get_ylim())\n",
    "g.axes[0, 0].set_xlim(*g.axes[1, 0].get_xlim())\n",
    "\n",
    "g.fig.savefig(ROOT / \"figs/ngc346-bow-shock-ariv-diagnostics.pdf\")\n",
    "#g.fig.suptitle(\"Correlation between [Ar IV] ratios\");\n",
    "text"
   ]
  },
  {
   "cell_type": "code",
   "execution_count": null,
   "id": "7ac295d3-ecf4-4e00-9b48-c983fdc238bc",
   "metadata": {},
   "outputs": [],
   "source": [
    "n = 8\n",
    "xslice, yslice = slice(230, 300), slice(144, 245)\n",
    "w_low_cutoff = 250\n",
    "w_mid_cutoff = 350 # 375\n",
    "xymin, xymax = 0.003, 0.033\n",
    "zzmin, zzmax = 1.11, 1.5\n",
    "\n",
    "w = im_ariv_sum[yslice, xslice].rebin(n).data\n",
    "x = im7263r[yslice, xslice].rebin(n).data / w\n",
    "y = im7171r[yslice, xslice].rebin(n).data / w\n",
    "z = im4711r[yslice, xslice].rebin(n).data / im4740r[yslice, xslice].rebin(n).data\n",
    "m = (w > w_mid_cutoff) #& (w < wmax) \n",
    "#m = m & (x + y > 0.25*ratio) & (x + y < 2*ratio)\n",
    "m = m & (z > 1.1) & (z < 2.1)\n",
    "#m = m & ~ariv_R1[yslice, xslice].rebin(n).mask & ~ariv_R3_plus_R4[yslice, xslice].rebin(n).mask\n",
    "df = pd.DataFrame(\n",
    "    {\n",
    "        \"7263 / (4711 + 4740)\": x[m],\n",
    "        \"4711 / 4740\": z[m],\n",
    "        \"sum\": w[m],\n",
    "    }\n",
    ").sort_values(by=\"sum\")\n",
    "mean_R1 = np.average(z[m], weights=w[m])\n",
    "mean_R34 = np.average(x[m], weights=w[m])\n",
    "\n",
    "var_R1 = np.average((z[m] - mean_R1)**2, weights=w[m])\n",
    "var_R34 = np.average((x[m] - mean_R34)**2, weights=w[m])\n",
    "\n",
    "sig_R1 = np.sqrt(var_R1)\n",
    "sig_R34 = np.sqrt(var_R34)\n",
    "\n",
    "text = f\"R1 = {mean_R1:.3f} +/- {sig_R1:.3f}\"\n",
    "text += f\", R3 = {mean_R34:.3f} +/- {sig_R34:.3f}\"\n",
    "\n",
    "_vars = df.columns[:2]\n",
    "g = sns.pairplot(\n",
    "    df,\n",
    "    x_vars=_vars, y_vars=_vars, \n",
    "    kind=\"scatter\",\n",
    "    diag_kind=\"hist\",\n",
    "    height=4,\n",
    "    corner=True,\n",
    "    plot_kws=dict(\n",
    "        #weights=z[m], \n",
    "        c=df[\"sum\"],\n",
    "        cmap=\"Blues\",\n",
    "        s=200,\n",
    "        vmin=w_low_cutoff,\n",
    "    ),\n",
    "    diag_kws=dict(\n",
    "        weights=w[m], \n",
    "        bins=8,\n",
    "    #    bins=128//n,\n",
    "    ),\n",
    ")\n",
    "g.axes[1, 0].plot(rr3, rr1, color=\"k\")\n",
    "g.axes[1, 0].plot(_rr3, _rr1, color=\"k\")\n",
    "confidence_ellipse(\n",
    "    x[m], z[m], w[m], \n",
    "    g.axes[1, 0], n_std=1, \n",
    "    edgecolor='red', linewidth=2,\n",
    ")\n",
    "g.axes[1, 0].scatter(\n",
    "    mean_R34, mean_R1, \n",
    "    c=\"r\", marker=\"+\", \n",
    "    s=400, linewidth=3,\n",
    ")\n",
    "\n",
    "g.axes[1, 0].set_xlim(xymin, xymax)\n",
    "g.axes[1, 0].set_ylim(zzmin, zzmax)\n",
    "\n",
    "g.axes[1, 1].set_xlim(*g.axes[1, 0].get_ylim())\n",
    "g.axes[0, 0].set_xlim(*g.axes[1, 0].get_xlim())\n",
    "\n",
    "g.fig.savefig(ROOT / \"figs/ngc346-bow-shock-ariv-diagnostics-R1-R3.pdf\")\n",
    "#g.fig.suptitle(\"Correlation between [Ar IV] ratios\");\n",
    "text"
   ]
  },
  {
   "cell_type": "code",
   "execution_count": null,
   "id": "9b98de3c",
   "metadata": {},
   "outputs": [],
   "source": [
    "df.columns[:2]"
   ]
  },
  {
   "cell_type": "code",
   "execution_count": null,
   "id": "e1eb55c1",
   "metadata": {},
   "outputs": [],
   "source": [
    "n = 8\n",
    "xslice, yslice = slice(230, 300), slice(144, 245)\n",
    "w_low_cutoff = 250\n",
    "w_mid_cutoff = 350 # 375\n",
    "xymin, xymax = 0.011, 0.059\n",
    "zzmin, zzmax = 1.11, 1.5\n",
    "\n",
    "ww = im_ariv_sum[yslice, xslice].rebin(n)\n",
    "xx = im7263r[yslice, xslice].rebin(n) / ww\n",
    "yy = im7171r[yslice, xslice].rebin(n) / ww\n",
    "xy = xx + yy\n",
    "zz = im4711r[yslice, xslice].rebin(n) / im4740r[yslice, xslice].rebin(n)\n",
    "mm = (ww.data > w_low_cutoff) #& (ww.data < wmax) \n",
    "#mm = mm & (xy.data > xymin) & (xy.data < xymax)\n",
    "#mm = mm & (zz.data > zzmin) & (zz.data < zzmax)\n",
    "ww.mask = ww.mask | ~mm | (ww.data < w_mid_cutoff)\n",
    "xy.mask = ww.mask\n",
    "zz.mask = ww.mask\n",
    "fig, axes = plt.subplots(1, 3, sharey=True, figsize=(12, 5))\n",
    "ww.plot(ax=axes[0], colorbar=\"v\", vmin=w_low_cutoff, vmax=None, cmap=\"Blues\")\n",
    "zz.plot(ax=axes[1], colorbar=\"v\", vmin=zzmin, vmax=zzmax, cmap=cmr.amber)\n",
    "xy.plot(ax=axes[2], colorbar=\"v\", vmin=xymin, vmax=xymax, cmap=cmr.ember)\n",
    "fig.tight_layout()\n",
    "fig.savefig(ROOT / \"figs/ngc346-bow-shock-ariv-diagnostics-maps.pdf\");"
   ]
  },
  {
   "cell_type": "code",
   "execution_count": null,
   "id": "ec3f7ecd",
   "metadata": {},
   "outputs": [],
   "source": [
    "cov = np.cov(x[m] + y[m], z[m], aweights=w[m])\n",
    "pearson = cov[0, 1]/np.sqrt(cov[0, 0] * cov[1, 1])\n",
    "cov, pearson, np.sqrt(cov[0, 0]), np.sqrt(cov[1, 1])"
   ]
  },
  {
   "cell_type": "code",
   "execution_count": null,
   "id": "7b380d35",
   "metadata": {},
   "outputs": [],
   "source": [
    "n = 8\n",
    "xslice, yslice = slice(200, 300), slice(100, 250)\n",
    "#xslice, yslice = slice(None, None), slice(None, None)\n",
    "ratio = 0.024\n",
    "wmax = 750\n",
    "w = im_ariv_sum[yslice, xslice].rebin(n).data\n",
    "x = im7263r[yslice, xslice].rebin(n).data / w\n",
    "y = im7171r[yslice, xslice].rebin(n).data / w\n",
    "z = im4711r[yslice, xslice].rebin(n).data / im4740r[yslice, xslice].rebin(n).data\n",
    "#a = im4686[yslice, xslice].rebin(n).data\n",
    "m = (w > 0.2*wmax) & (w < wmax) \n",
    "m = m & (x > -0*ratio) & (x < 2*ratio)\n",
    "m = m & (y > -0*ratio) & (y < 2*ratio)\n",
    "m = m & (z > 0.8) & (z < 2.1) # & (a > 0)\n",
    "m = m & ~ariv_R1[yslice, xslice].rebin(n).mask & ~ariv_R3_plus_R4[yslice, xslice].rebin(n).mask\n",
    "df = pd.DataFrame(\n",
    "    {\n",
    "        \"R3 = 7263 / (4711 + 4740)\": x[m],\n",
    "        \"R4 = 7171 / (4711 + 4740)\": y[m],\n",
    "        \"R1 = 4711 / 4740\": z[m],\n",
    "        \"I(4711 + 4740)\": w[m],\n",
    "        #\"I(He II 4686)\": a[m],\n",
    "    }\n",
    ")\n",
    "g = sns.pairplot(\n",
    "    df,\n",
    "    kind=\"kde\",\n",
    "    diag_kind=\"hist\",\n",
    "    height=4,\n",
    "    corner=True,\n",
    "    plot_kws=dict(\n",
    "        weights=z[m], \n",
    "    ),\n",
    "    diag_kws=dict(\n",
    "        weights=w[m], \n",
    "        #bins=128//n,\n",
    "    ),\n",
    ")\n",
    "g.axes[1, 0].plot(rr3, rr4)\n",
    "g.axes[2, 0].plot(rr3, rr1)\n",
    "g.axes[2, 1].plot(rr4, rr1)\n",
    "#g = sns.pairplot(\n",
    "#    df,\n",
    "#    kind=\"scatter\",\n",
    "#    height=4,\n",
    "#    corner=True,\n",
    "#    plot_kws=dict(\n",
    "#        linewidth=0,\n",
    "#        alpha=0.5,\n",
    "#    ),\n",
    "#    diag_kws=dict(\n",
    "#        weights=w[m], \n",
    "#        bins=128//n),\n",
    "#)\n",
    "g.fig.suptitle(\"Correlation between [Ar IV] R1, R3, and R4\");"
   ]
  },
  {
   "cell_type": "code",
   "execution_count": null,
   "id": "6439bddf",
   "metadata": {},
   "outputs": [],
   "source": [
    "ariv.getTemDen([0.01, 0.02, 0.03, 0.04], den=10000, to_eval = 'L(7171) / (L(4711) + L(4740))')"
   ]
  },
  {
   "cell_type": "code",
   "execution_count": null,
   "id": "f7d22b64",
   "metadata": {},
   "outputs": [],
   "source": [
    "ariv.getTemDen([0.01, 0.02, 0.03], den=100, to_eval = 'L(7263) / (L(4711) + L(4740))')"
   ]
  },
  {
   "cell_type": "code",
   "execution_count": null,
   "id": "a65cc683",
   "metadata": {},
   "outputs": [],
   "source": [
    "fig, ax = plt.subplots()\n",
    "ax.plot(rr4, rr1)"
   ]
  },
  {
   "cell_type": "code",
   "execution_count": null,
   "id": "1180806f",
   "metadata": {},
   "outputs": [],
   "source": []
  },
  {
   "cell_type": "code",
   "execution_count": null,
   "id": "8dac588b-3e09-468a-ba55-de8167d836a4",
   "metadata": {},
   "outputs": [],
   "source": []
  }
 ],
 "metadata": {
  "jupytext": {
   "encoding": "# -*- coding: utf-8 -*-",
   "formats": "ipynb,py:light,md"
  },
  "kernelspec": {
   "display_name": "Python 3",
   "language": "python",
   "name": "python3"
  },
  "language_info": {
   "codemirror_mode": {
    "name": "ipython",
    "version": 3
   },
   "file_extension": ".py",
   "mimetype": "text/x-python",
   "name": "python",
   "nbconvert_exporter": "python",
   "pygments_lexer": "ipython3",
   "version": "3.9.9"
  }
 },
 "nbformat": 4,
 "nbformat_minor": 5
}
