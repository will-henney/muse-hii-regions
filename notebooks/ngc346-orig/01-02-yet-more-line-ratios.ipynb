{
 "cells": [
  {
   "cell_type": "markdown",
   "id": "material-district",
   "metadata": {
    "collapsed": false,
    "jupyter": {
     "outputs_hidden": false
    },
    "pycharm": {
     "name": "#%% md\n"
    }
   },
   "source": [
    "# Further line analysis from saved moment images\n",
    "\n",
    "The previous notebook has grown too long, so I am starting a new one.  What I plan to do here is:\n",
    "\n",
    "1. [X] [Cl III] density ratio. *Conclusion:* [Cl III] is useless\n",
    "2. [X] [S II] density - this is the best\n",
    "3. [X] He II analysis – ionizing luminosity and density\n",
    "    *This has a mistake at the moment, which I need to track down* Now fixed in Org file\n",
    "4. [X] [Ar IV] and [Ar III] ionization balance\n",
    "2. [ ] Maybe tetrablok binning and make figure\n",
    "3. [X] Profile cuts across the bow shock\n",
    "4. [ ] Analysis of average line velocities\n"
   ]
  },
  {
   "cell_type": "code",
   "execution_count": 1,
   "id": "valuable-format",
   "metadata": {
    "collapsed": false,
    "jupyter": {
     "outputs_hidden": false
    },
    "pycharm": {
     "name": "#%%\n"
    }
   },
   "outputs": [],
   "source": [
    "from pathlib import Path\n",
    "import numpy as np\n",
    "from matplotlib import pyplot as plt\n",
    "import seaborn as sns\n",
    "from mpdaf.obj import Image\n",
    "import regions\n",
    "import pandas as pd\n",
    "import cmasher as cmr\n",
    "import pyneb as pn\n",
    "\n",
    "sns.set_context(\"talk\")\n",
    "sns.set_color_codes()"
   ]
  },
  {
   "cell_type": "code",
   "execution_count": 2,
   "id": "ongoing-bookmark",
   "metadata": {
    "collapsed": false,
    "jupyter": {
     "outputs_hidden": false
    },
    "pycharm": {
     "name": "#%%\n"
    }
   },
   "outputs": [],
   "source": [
    "from pathlib import Path\n",
    "import numpy as np\n",
    "from matplotlib import pyplot as plt\n",
    "import seaborn as sns\n",
    "from mpdaf.obj import Image\n",
    "import regions\n",
    "import sys\n",
    "import pandas as pd\n",
    "import cmasher as cmr\n",
    "import pyneb as pn\n",
    "\n",
    "sns.set_context(\"talk\")\n",
    "sns.set_color_codes()"
   ]
  },
  {
   "cell_type": "code",
   "execution_count": 3,
   "id": "fewer-canvas",
   "metadata": {
    "collapsed": false,
    "jupyter": {
     "outputs_hidden": false
    },
    "pycharm": {
     "name": "#%%\n"
    }
   },
   "outputs": [],
   "source": [
    "def trim_edges(im, m):\n",
    "    \"\"\"Trim m pixels of each edge of image in place by setting mask\"\"\"\n",
    "    im.mask[:m, :] = True\n",
    "    im.mask[-m:, :] = True\n",
    "    im.mask[:, :m] = True\n",
    "    im.mask[:, -m:] = True\n",
    "    return None"
   ]
  },
  {
   "cell_type": "code",
   "execution_count": 4,
   "id": "utility-documentation",
   "metadata": {
    "collapsed": false,
    "jupyter": {
     "outputs_hidden": false
    },
    "pycharm": {
     "name": "#%%\n"
    }
   },
   "outputs": [],
   "source": [
    "datadir = Path.cwd().parent.parent / \"data\"\n",
    "figdir = Path.cwd().parent.parent / \"figs\""
   ]
  },
  {
   "cell_type": "code",
   "execution_count": 12,
   "id": "useful-dancing",
   "metadata": {
    "collapsed": false,
    "jupyter": {
     "outputs_hidden": false
    },
    "pycharm": {
     "name": "#%%\n"
    }
   },
   "outputs": [
    {
     "data": {
      "text/plain": [
       "(<Image(shape=(326, 346), unit='1e-20 erg / (Angstrom s cm2)', dtype='None')>,\n",
       " <Image(shape=(326, 346), unit='1e-20 erg / (Angstrom s cm2)', dtype='None')>)"
      ]
     },
     "execution_count": 12,
     "metadata": {},
     "output_type": "execute_result"
    }
   ],
   "source": [
    "im6716 = Image(str(datadir / \"ngc346-sii-6716-bin01-sum.fits\"))\n",
    "im6731 = Image(str(datadir / \"ngc346-sii-6731-bin01-sum.fits\"))\n",
    "imha = Image(str(datadir / \"ngc346-hi-6563-bin01-sum.fits\"))\n",
    "imcont = Image(str(datadir / \"ngc346-cont-6312-mean.fits\"))\n",
    "imha, imcont"
   ]
  },
  {
   "cell_type": "code",
   "execution_count": 10,
   "id": "handy-stylus",
   "metadata": {
    "collapsed": false,
    "jupyter": {
     "outputs_hidden": false
    },
    "pycharm": {
     "name": "#%%\n"
    }
   },
   "outputs": [
    {
     "data": {
      "text/plain": [
       "array([1.43878982, 1.43185268, 1.4125499 , 1.35049829, 1.20992   ,\n",
       "       0.93887822])"
      ]
     },
     "execution_count": 10,
     "metadata": {},
     "output_type": "execute_result"
    }
   ],
   "source": [
    "s2 = pn.Atom(\"S\", 2)\n",
    "e6716 = s2.getEmissivity(tem=13000, den=[3, 10, 30, 100, 300, 1000], wave=6716)\n",
    "e6731 = s2.getEmissivity(tem=13000, den=[3, 10, 30, 100, 300, 1000], wave=6731)\n",
    "Rgrid = e6716 / e6731\n",
    "Rgrid"
   ]
  },
  {
   "cell_type": "code",
   "execution_count": 11,
   "id": "satisfied-preliminary",
   "metadata": {
    "collapsed": false,
    "jupyter": {
     "outputs_hidden": false
    },
    "pycharm": {
     "name": "#%%\n"
    }
   },
   "outputs": [
    {
     "ename": "ValueError",
     "evalue": "operands could not be broadcast together with shapes (326,347) (326,346) ",
     "output_type": "error",
     "traceback": [
      "\u001b[31m---------------------------------------------------------------------------\u001b[39m",
      "\u001b[31mValueError\u001b[39m                                Traceback (most recent call last)",
      "\u001b[36mCell\u001b[39m\u001b[36m \u001b[39m\u001b[32mIn[11]\u001b[39m\u001b[32m, line 2\u001b[39m\n\u001b[32m      1\u001b[39m m = imcont.data > \u001b[32m5e3\u001b[39m\n\u001b[32m----> \u001b[39m\u001b[32m2\u001b[39m im6716.mask = \u001b[43mim6716\u001b[49m\u001b[43m.\u001b[49m\u001b[43mmask\u001b[49m\u001b[43m \u001b[49m\u001b[43m|\u001b[49m\u001b[43m \u001b[49m\u001b[43mm\u001b[49m\n\u001b[32m      3\u001b[39m im6731.mask = im6731.mask | m\n\u001b[32m      4\u001b[39m trim_edges(im6716, \u001b[32m10\u001b[39m)\n",
      "\u001b[31mValueError\u001b[39m: operands could not be broadcast together with shapes (326,347) (326,346) "
     ]
    }
   ],
   "source": [
    "m = imcont.data > 5e3\n",
    "im6716.mask = im6716.mask | m\n",
    "im6731.mask = im6731.mask | m\n",
    "trim_edges(im6716, 10)\n",
    "trim_edges(im6731, 10)\n",
    "trim_edges(imcont, 10)"
   ]
  },
  {
   "cell_type": "code",
   "execution_count": null,
   "id": "wrong-worth",
   "metadata": {
    "collapsed": false,
    "jupyter": {
     "outputs_hidden": false
    },
    "pycharm": {
     "name": "#%%\n"
    }
   },
   "outputs": [],
   "source": [
    "n = 1\n",
    "fig, axes = plt.subplots(2, 2, figsize=(12, 12))\n",
    "im6716.rebin(n).plot(vmin=-10, vmax=12000, ax=axes[0, 0], colorbar=\"v\")\n",
    "im6731.rebin(n).plot(vmin=-10, vmax=12000, ax=axes[0, 1], colorbar=\"v\")\n",
    "imcont.rebin(n).plot(vmin=0, vmax=1e4, ax=axes[1, 0], colorbar=\"v\")\n",
    "(im6716.rebin(n) / im6731.rebin(n)).plot(\n",
    "    ax=axes[1, 1],\n",
    "    vmin=0.0,\n",
    "    vmax=2.0,\n",
    "    cmap=\"gray\",\n",
    "    colorbar=\"v\",\n",
    ")\n",
    "fig.tight_layout()"
   ]
  },
  {
   "cell_type": "code",
   "execution_count": null,
   "id": "closing-washer",
   "metadata": {
    "collapsed": false,
    "jupyter": {
     "outputs_hidden": false
    },
    "pycharm": {
     "name": "#%%\n"
    }
   },
   "outputs": [],
   "source": [
    "n = 1\n",
    "\n",
    "imx = im6731.rebin(n)\n",
    "imy = (im6716 / 1.44).rebin(n)\n",
    "\n",
    "imin, imax = -10, 30000\n",
    "m = (imx.data < imax) & (imy.data < imax)\n",
    "m = m & (imx.data > imin) & (imy.data > imin)\n",
    "m = m & (imy.data / imx.data > 0.5) & (imy.data / imx.data < 1.5)\n",
    "m = m & ~imx.mask & ~imy.mask\n",
    "df = pd.DataFrame(\n",
    "    {\n",
    "        \"6731\": imx.data[m],\n",
    "        \"6716\": imy.data[m],\n",
    "        \"6716 / 6731\": imy.data[m] / imx.data[m],\n",
    "    }\n",
    ")\n",
    "g = sns.pairplot(\n",
    "    df,\n",
    "    kind=\"hist\",\n",
    "    height=4,\n",
    "    corner=True,\n",
    ")\n",
    "g.axes[1, 0].axvline(0.0, color=\"r\")\n",
    "g.axes[1, 0].axhline(0.0, color=\"r\")\n",
    "g.axes[1, 0].plot([imin, imax], [imin, imax], \"--\", color=\"r\")\n",
    "g.axes[1, 0].plot([imin, imax], [imin, imax], \"--\", color=\"r\")\n",
    "g.fig.suptitle(\"Correlation between [S II] 6731 and 6716 brightness\")"
   ]
  },
  {
   "cell_type": "code",
   "execution_count": null,
   "id": "impossible-waste",
   "metadata": {
    "collapsed": false,
    "jupyter": {
     "outputs_hidden": false
    },
    "pycharm": {
     "name": "#%%\n"
    }
   },
   "outputs": [],
   "source": [
    "n = 1\n",
    "imx = imha.rebin(n)\n",
    "imy = im6716.rebin(n) / im6731.rebin(n)\n",
    "\n",
    "m = (imy.data > 0.8) & (imy.data < 1.6)\n",
    "m = m & (imx.data < 1.5e6)\n",
    "m = m & ~imx.mask & ~imy.mask\n",
    "df = pd.DataFrame(\n",
    "    {\n",
    "        \"6563\": np.log10(imx.data[m]),\n",
    "        \"6716 / 6731\": np.log10(imy.data[m]),\n",
    "    }\n",
    ")\n",
    "g = sns.pairplot(\n",
    "    df,\n",
    "    kind=\"hist\",\n",
    "    height=4,\n",
    "    corner=True,\n",
    "    plot_kws=dict(\n",
    "        weights=imx.data[m],\n",
    "        bins=150,\n",
    "    ),\n",
    "    diag_kws=dict(\n",
    "        weights=imx.data[m],\n",
    "        bins=150,\n",
    "    ),\n",
    ")\n",
    "for R in Rgrid:\n",
    "    g.axes[1, 0].axhline(np.log10(R), color=\"r\")\n",
    "g.fig.suptitle(\"Correlation between [S II] 6716 / 6731 sum and Ha brightness\")"
   ]
  },
  {
   "cell_type": "code",
   "execution_count": null,
   "id": "coordinated-discretion",
   "metadata": {
    "collapsed": false,
    "jupyter": {
     "outputs_hidden": false
    },
    "pycharm": {
     "name": "#%%\n"
    }
   },
   "outputs": [],
   "source": [
    "n = 1\n",
    "imx = imha.rebin(n)\n",
    "imy = im6716.rebin(n) / im6731.rebin(n)\n",
    "\n",
    "m = (imy.data > 0.8) & (imy.data < 1.6)\n",
    "m = m & (imx.data < 1.5e6)\n",
    "m = m & ~imx.mask & ~imy.mask\n",
    "df = pd.DataFrame(\n",
    "    {\n",
    "        \"6563\": np.log10(imx.data[m]),\n",
    "        \"6716 / 6731\": np.log10(imy.data[m]),\n",
    "    }\n",
    ")\n",
    "g = sns.pairplot(\n",
    "    df,\n",
    "    kind=\"hist\",\n",
    "    height=4,\n",
    "    corner=True,\n",
    "    plot_kws=dict(\n",
    "        weights=imx.data[m],\n",
    "        bins=150,\n",
    "    ),\n",
    "    diag_kws=dict(\n",
    "        weights=imx.data[m],\n",
    "        bins=150,\n",
    "    ),\n",
    ")\n",
    "for R in Rgrid:\n",
    "    g.axes[1, 0].axhline(np.log10(R), color=\"r\")\n",
    "g.fig.suptitle(\"Correlation between [S II] 6716 / 6731 sum and Ha brightness\")"
   ]
  },
  {
   "cell_type": "code",
   "execution_count": null,
   "id": "acting-raising",
   "metadata": {
    "collapsed": false,
    "jupyter": {
     "outputs_hidden": false
    },
    "pycharm": {
     "name": "#%%\n"
    }
   },
   "outputs": [],
   "source": [
    "xslice, yslice = slice(230, 300), slice(144, 245)\n",
    "\n",
    "n = 1\n",
    "\n",
    "imx = imha[yslice, xslice].rebin(n)\n",
    "imy = im6716[yslice, xslice].rebin(n) / im6731[yslice, xslice].rebin(n)\n",
    "\n",
    "m = (imy.data > 1.1) & (imy.data < 2)\n",
    "m = m & (imx.data < 1e6)\n",
    "m = m & ~imx.mask & ~imy.mask\n",
    "df = pd.DataFrame(\n",
    "    {\n",
    "        \"6563\": np.log10(imx.data[m]),\n",
    "        \"6716 / 6731\": np.log10(imy.data[m]),\n",
    "    }\n",
    ")\n",
    "g = sns.pairplot(\n",
    "    df,\n",
    "    kind=\"hist\",\n",
    "    height=4,\n",
    "    corner=True,\n",
    "    plot_kws=dict(\n",
    "        weights=imx.data[m],\n",
    "        bins=100,\n",
    "    ),\n",
    "    diag_kws=dict(\n",
    "        weights=imx.data[m],\n",
    "        bins=100,\n",
    "    ),\n",
    ")\n",
    "g.axes[1, 1].axvline(np.log10(Rgrid[0]), color=\"r\")\n",
    "for R in Rgrid[:-1]:\n",
    "    g.axes[1, 0].axhline(np.log10(R), color=\"r\")\n",
    "\n",
    "g.fig.suptitle(\"Correlation between [S II] 6716 / 6731 ratio and Ha brightness\")"
   ]
  },
  {
   "cell_type": "code",
   "execution_count": null,
   "id": "institutional-legend",
   "metadata": {
    "collapsed": false,
    "jupyter": {
     "outputs_hidden": false
    },
    "pycharm": {
     "name": "#%%\n"
    }
   },
   "outputs": [],
   "source": [
    "xslice, yslice = slice(230, 300), slice(144, 245)\n",
    "\n",
    "n = 1\n",
    "\n",
    "imx = imha[yslice, xslice].rebin(n)\n",
    "imy = im6716[yslice, xslice].rebin(n) / im6731[yslice, xslice].rebin(n)\n",
    "\n",
    "m = (imy.data > 1.1) & (imy.data < 2)\n",
    "m = m & (imx.data < 80000)\n",
    "m = m & ~imx.mask & ~imy.mask\n",
    "df = pd.DataFrame(\n",
    "    {\n",
    "        \"6563\": imx.data[m],\n",
    "        \"6716 / 6731\": imy.data[m],\n",
    "    }\n",
    ")\n",
    "g = sns.pairplot(\n",
    "    df,\n",
    "    kind=\"hist\",\n",
    "    height=4,\n",
    "    corner=True,\n",
    "    plot_kws=dict(\n",
    "        weights=imx.data[m],\n",
    "        bins=100,\n",
    "    ),\n",
    "    diag_kws=dict(\n",
    "        weights=imx.data[m],\n",
    "        bins=100,\n",
    "    ),\n",
    ")\n",
    "g.axes[1, 1].axvline(Rgrid[0], color=\"r\")\n",
    "for R in Rgrid[:-1]:\n",
    "    g.axes[1, 0].axhline(R, color=\"r\")\n",
    "\n",
    "g.fig.suptitle(\"Correlation between [S II] 6716 / 6731 ratio and Ha brightness\")"
   ]
  },
  {
   "cell_type": "markdown",
   "id": "flush-patient",
   "metadata": {
    "collapsed": false,
    "jupyter": {
     "outputs_hidden": false
    },
    "pycharm": {
     "name": "#%% md\n"
    }
   },
   "source": [
    "So, in the bow shock region, we see ratios as low as 1.3 in the brightest parts, but these are globule surfaces.  The bulk of the emission has around 1.4"
   ]
  },
  {
   "cell_type": "code",
   "execution_count": null,
   "id": "mediterranean-bowling",
   "metadata": {
    "collapsed": false,
    "jupyter": {
     "outputs_hidden": false
    },
    "pycharm": {
     "name": "#%%\n"
    }
   },
   "outputs": [],
   "source": [
    "s2.getTemDen([1.4, 1.3, 0.8], tem=12000, wave1=6716, wave2=6731)"
   ]
  },
  {
   "cell_type": "markdown",
   "id": "detected-karen",
   "metadata": {
    "collapsed": false,
    "jupyter": {
     "outputs_hidden": false
    },
    "pycharm": {
     "name": "#%% md\n"
    }
   },
   "source": [
    "So the density is about 50 +/- 30 pcc in the diffuse gas.  We get ten times higher density in the case of Source E, which has a ratio as low as 0.8"
   ]
  },
  {
   "cell_type": "markdown",
   "id": "broken-austin",
   "metadata": {
    "collapsed": false,
    "jupyter": {
     "outputs_hidden": false
    },
    "pycharm": {
     "name": "#%% md\n"
    }
   },
   "source": [
    "### Make a map of [S II] density"
   ]
  },
  {
   "cell_type": "code",
   "execution_count": null,
   "id": "aggressive-incentive",
   "metadata": {
    "collapsed": false,
    "jupyter": {
     "outputs_hidden": false
    },
    "pycharm": {
     "name": "#%%\n"
    },
    "tags": []
   },
   "outputs": [],
   "source": [
    "r_s2_grid = np.linspace(0.5, 1.44, 1001)\n",
    "n_s2_grid = s2.getTemDen(r_s2_grid, tem=12000.0, wave1=6716, wave2=6731)"
   ]
  },
  {
   "cell_type": "code",
   "execution_count": null,
   "id": "automatic-stadium",
   "metadata": {
    "collapsed": false,
    "jupyter": {
     "outputs_hidden": false
    },
    "pycharm": {
     "name": "#%%\n"
    }
   },
   "outputs": [],
   "source": [
    "n_s2_grid"
   ]
  },
  {
   "cell_type": "code",
   "execution_count": null,
   "id": "powered-touch",
   "metadata": {
    "collapsed": false,
    "jupyter": {
     "outputs_hidden": false
    },
    "pycharm": {
     "name": "#%%\n"
    }
   },
   "outputs": [],
   "source": [
    "iew6716 = imcont / (1.25 * im6716)"
   ]
  },
  {
   "cell_type": "code",
   "execution_count": null,
   "id": "horizontal-precipitation",
   "metadata": {
    "collapsed": false,
    "jupyter": {
     "outputs_hidden": false
    },
    "pycharm": {
     "name": "#%%\n"
    }
   },
   "outputs": [],
   "source": [
    "fig, ax = plt.subplots(figsize=(10, 10))\n",
    "iew6716.plot(colorbar=\"v\", cmap=\"gray_r\", scale=\"linear\", vmin=-1.0, vmax=10.0)"
   ]
  },
  {
   "cell_type": "code",
   "execution_count": null,
   "id": "agricultural-label",
   "metadata": {
    "collapsed": false,
    "jupyter": {
     "outputs_hidden": false
    },
    "pycharm": {
     "name": "#%%\n"
    }
   },
   "outputs": [],
   "source": [
    "fixmask = im6716.mask | (iew6716.data > 10.0) | (iew6716.data < -0.2)\n",
    "fixmask[90:97, 147:152] = True\n",
    "fixmask[79:86, 191:197] = True\n",
    "\n",
    "\n",
    "im_n_sii = im6716.clone(data_init=np.empty)\n",
    "im_n_sii.mask = fixmask\n",
    "trim_edges(im_n_sii, 10)\n",
    "im_n_sii.data[~fixmask] = np.interp(\n",
    "    im6716.data[~fixmask] / im6731.data[~fixmask],\n",
    "    r_s2_grid,\n",
    "    n_s2_grid,\n",
    "    left=np.nan,\n",
    "    right=np.nan,\n",
    ")\n",
    "im_n_sii.mask = im_n_sii.mask | ~np.isfinite(im_n_sii.data)"
   ]
  },
  {
   "cell_type": "code",
   "execution_count": null,
   "id": "middle-carry",
   "metadata": {
    "collapsed": false,
    "jupyter": {
     "outputs_hidden": false,
     "source_hidden": true
    },
    "pycharm": {
     "name": "#%%\n"
    },
    "tags": []
   },
   "outputs": [],
   "source": [
    "fig, ax = plt.subplots(figsize=(12, 12))\n",
    "im_n_sii.rebin(2).plot(colorbar=\"v\", cmap=\"gray_r\", scale=\"sqrt\", vmin=0.0, vmax=3000.0)"
   ]
  },
  {
   "cell_type": "markdown",
   "id": "cardiac-inclusion",
   "metadata": {
    "collapsed": false,
    "jupyter": {
     "outputs_hidden": false
    },
    "pycharm": {
     "name": "#%% md\n"
    }
   },
   "source": [
    "This seems to be good enough in some of the diffuse regions. although it is way to noisy in the faint parts."
   ]
  },
  {
   "cell_type": "code",
   "execution_count": null,
   "id": "bridal-edward",
   "metadata": {
    "collapsed": false,
    "jupyter": {
     "outputs_hidden": false
    },
    "pycharm": {
     "name": "#%%\n"
    }
   },
   "outputs": [],
   "source": [
    "im_n_sii.write(str(datadir) + \"/ngc346-N-sii.fits\", savemask=\"nan\")"
   ]
  },
  {
   "cell_type": "code",
   "execution_count": null,
   "id": "medieval-encyclopedia",
   "metadata": {
    "collapsed": false,
    "jupyter": {
     "outputs_hidden": false
    },
    "pycharm": {
     "name": "#%%\n"
    }
   },
   "outputs": [],
   "source": [
    "im_T_siii = Image(str(datadir / \"ngc346-T-siii.fits\"))\n",
    "imhb = Image(str(datadir / \"ngc346-hi-4861-correct.fits\"))"
   ]
  },
  {
   "cell_type": "code",
   "execution_count": null,
   "id": "southern-november",
   "metadata": {
    "collapsed": false,
    "jupyter": {
     "outputs_hidden": false
    },
    "lines_to_next_cell": 0,
    "pycharm": {
     "name": "#%%\n"
    }
   },
   "outputs": [],
   "source": [
    "n = 16\n",
    "imx = im_T_siii.rebin(n)\n",
    "imy = im_n_sii.rebin(n)\n",
    "imz = imhb.rebin(n)\n",
    "\n",
    "m = ~imx.mask & ~imy.mask\n",
    "m = m & (imx.data > 5000) & (imx.data < 20000)\n",
    "m = m & (imy.data > 0) & (imy.data < 300)\n",
    "df = pd.DataFrame(\n",
    "    {\n",
    "        \"T([S III])\": imx.data[m],\n",
    "        \"n([S II])\": imy.data[m],\n",
    "    }\n",
    ")\n",
    "g = sns.pairplot(\n",
    "    df,\n",
    "    kind=\"hist\",\n",
    "    height=4,\n",
    "    corner=True,\n",
    "    plot_kws=dict(\n",
    "        weights=imz.data[m],\n",
    "        bins=50,\n",
    "    ),\n",
    "    diag_kws=dict(\n",
    "        weights=imz.data[m],\n",
    "        bins=50,\n",
    "    ),\n",
    ")\n",
    "g.fig.suptitle(\"Temperature vs Density\")"
   ]
  },
  {
   "cell_type": "markdown",
   "id": "canadian-trunk",
   "metadata": {
    "collapsed": false,
    "jupyter": {
     "outputs_hidden": false
    },
    "pycharm": {
     "name": "#%% md\n"
    }
   },
   "source": [
    "    ## He II emission measure"
   ]
  },
  {
   "cell_type": "code",
   "execution_count": null,
   "id": "circular-cedar",
   "metadata": {
    "collapsed": false,
    "jupyter": {
     "outputs_hidden": false
    },
    "lines_to_next_cell": 2,
    "pycharm": {
     "name": "#%%\n"
    }
   },
   "outputs": [],
   "source": [
    "he2 = pn.RecAtom(\"He\", 2)\n",
    "he1 = pn.RecAtom(\"He\", 1)\n",
    "h1 = pn.RecAtom(\"H\", 1)"
   ]
  },
  {
   "cell_type": "code",
   "execution_count": null,
   "id": "varied-railway",
   "metadata": {
    "collapsed": false,
    "jupyter": {
     "outputs_hidden": false
    },
    "pycharm": {
     "name": "#%%\n"
    },
    "scrolled": true
   },
   "outputs": [],
   "source": [
    "temperatures = [12500, 13800, 15500]\n",
    "e4686 = he2.getEmissivity(tem=temperatures, den=1, wave=4686)\n",
    "e4861 = h1.getEmissivity(tem=temperatures, den=1, wave=4861)\n",
    "e5875 = he1.getEmissivity(tem=temperatures, den=1, wave=5876)\n",
    "e4686, e4861, e5875"
   ]
  },
  {
   "cell_type": "code",
   "execution_count": null,
   "id": "73cfba71-504d-4fc9-8c6c-b6bb5e3c8446",
   "metadata": {},
   "outputs": [],
   "source": [
    "np.mean(e4861[1])"
   ]
  },
  {
   "cell_type": "markdown",
   "id": "fancy-marijuana",
   "metadata": {
    "collapsed": false,
    "jupyter": {
     "outputs_hidden": false
    },
    "pycharm": {
     "name": "#%% md\n"
    }
   },
   "source": [
    "From the other notebook, we measure 5875 / 4861 = 0.108 +/- 0.001\n",
    "\n",
    "Whereas the ratio of emissivities is"
   ]
  },
  {
   "cell_type": "code",
   "execution_count": null,
   "id": "rural-collection",
   "metadata": {
    "collapsed": false,
    "jupyter": {
     "outputs_hidden": false
    },
    "pycharm": {
     "name": "#%%\n"
    }
   },
   "outputs": [],
   "source": [
    "e5875 / e4861"
   ]
  },
  {
   "cell_type": "markdown",
   "id": "transparent-boring",
   "metadata": {
    "collapsed": false,
    "jupyter": {
     "outputs_hidden": false
    },
    "pycharm": {
     "name": "#%% md\n"
    }
   },
   "source": [
    "This implies a He abundance of"
   ]
  },
  {
   "cell_type": "code",
   "execution_count": null,
   "id": "oriental-humor",
   "metadata": {
    "collapsed": false,
    "jupyter": {
     "outputs_hidden": false
    },
    "pycharm": {
     "name": "#%%\n"
    }
   },
   "outputs": [],
   "source": [
    "np.array([0.107, 0.108, 0.109])[None, :] / (e5875 / e4861)[:, None]"
   ]
  },
  {
   "cell_type": "markdown",
   "id": "indian-clearing",
   "metadata": {
    "collapsed": false,
    "jupyter": {
     "outputs_hidden": false
    },
    "pycharm": {
     "name": "#%% md\n"
    }
   },
   "source": [
    "From Table 5 of Valerdi+ (2019), they have a He+ abundance of 10.915 or 10.917, with error of +/- 0.004 , so:"
   ]
  },
  {
   "cell_type": "code",
   "execution_count": null,
   "id": "normal-blackberry",
   "metadata": {
    "collapsed": false,
    "jupyter": {
     "outputs_hidden": false
    },
    "pycharm": {
     "name": "#%%\n"
    }
   },
   "outputs": [],
   "source": [
    "10 ** (np.array([10.915, 10.917]) - 12.0)"
   ]
  },
  {
   "cell_type": "markdown",
   "id": "signed-warner",
   "metadata": {
    "collapsed": false,
    "jupyter": {
     "outputs_hidden": false
    },
    "pycharm": {
     "name": "#%% md\n"
    }
   },
   "source": [
    "They find a small He++ abundance of"
   ]
  },
  {
   "cell_type": "code",
   "execution_count": null,
   "id": "democratic-luther",
   "metadata": {
    "collapsed": false,
    "jupyter": {
     "outputs_hidden": false
    },
    "pycharm": {
     "name": "#%%\n"
    }
   },
   "outputs": [],
   "source": [
    "f\"He++/H+ = {10**(8.30 - 12.0):.3e}; He++/He+ = {10**(8.30 - 10.915):.3e}\""
   ]
  },
  {
   "cell_type": "markdown",
   "id": "numeric-shade",
   "metadata": {
    "collapsed": false,
    "jupyter": {
     "outputs_hidden": false
    },
    "pycharm": {
     "name": "#%% md\n"
    }
   },
   "source": [
    "In the bow shock I measure 4686 / 4861 = 0.015 or so, which would be 1.5 on a scale of Hβ = 100.  Mabel's Table 2 gives 0.24, which is 6 times less. This is consistent with the general value we find away from the bow's inner edge.\n",
    "\n",
    "So, I can work out my own He++/H+ abundance:"
   ]
  },
  {
   "cell_type": "markdown",
   "id": "approved-marsh",
   "metadata": {
    "collapsed": false,
    "jupyter": {
     "outputs_hidden": false
    },
    "pycharm": {
     "name": "#%% md\n"
    }
   },
   "source": []
  },
  {
   "cell_type": "code",
   "execution_count": null,
   "id": "average-alcohol",
   "metadata": {
    "collapsed": false,
    "jupyter": {
     "outputs_hidden": false
    },
    "pycharm": {
     "name": "#%%\n"
    }
   },
   "outputs": [],
   "source": [
    "y_heiii_hii = 0.015 / (e4686 / e4861)\n",
    "y_heiii_heii = y_heiii_hii / 0.08167471\n",
    "f\"Bow shock He++/H+ = {np.round(y_heiii_hii, 4)}; He++/He+ = {np.round(y_heiii_heii, 4)}\""
   ]
  },
  {
   "cell_type": "markdown",
   "id": "crude-mentor",
   "metadata": {
    "collapsed": false,
    "jupyter": {
     "outputs_hidden": false
    },
    "pycharm": {
     "name": "#%% md\n"
    }
   },
   "source": [
    "In other words, the He++ emission measure, $\\int n(\\mathrm{He^{++}})\\, n_\\mathrm{e}\\, dz$, is ony 2.5% of the total $\\int n(\\mathrm{He^{+}})\\, n_\\mathrm{e}\\, dz$.\n",
    "\n",
    "*This is totally consistent, with the observed small change in 5875/4861, which is also about 2%*\n",
    "\n",
    "**TODO**\n",
    "\n",
    "- [ ] By assuming a path length, we can derive a density\n",
    "- [ ] We can do the same with [Ar IV] and [Ar III]\n",
    "- [ ] Ask Mabel to look at her slit A to see if she sees the He II and [Ar IV] signatures of the bow shock.  Also, maybe measure [O III] temperature to see if it goes up"
   ]
  },
  {
   "cell_type": "markdown",
   "id": "confident-league",
   "metadata": {
    "collapsed": false,
    "jupyter": {
     "outputs_hidden": false
    },
    "pycharm": {
     "name": "#%% md\n"
    }
   },
   "source": [
    "### Conversion to a density\n",
    "\n",
    "We want the surface brightness of He++ in physical units.\n",
    "\n",
    "MUSE flux units are $10^{-20}\\ \\mathrm{erg\\ s^{-1}\\ cm^{-2}\\ Å^{-1}\\ pix^{-1}}$ in the cube, but we have summed over wavelength pixels, which are 1.4 Å.  The spatial pixels are 0.2 arcsec."
   ]
  },
  {
   "cell_type": "code",
   "execution_count": null,
   "id": "violent-backup",
   "metadata": {
    "collapsed": false,
    "jupyter": {
     "outputs_hidden": false
    },
    "pycharm": {
     "name": "#%%\n"
    }
   },
   "outputs": [],
   "source": [
    "import astropy.units as u"
   ]
  },
  {
   "cell_type": "code",
   "execution_count": null,
   "id": "thirty-affect",
   "metadata": {
    "collapsed": false,
    "jupyter": {
     "outputs_hidden": false
    },
    "pycharm": {
     "name": "#%%\n"
    }
   },
   "outputs": [],
   "source": [
    "muse_bright_unit = 1e-20 * 1.4 * u.erg / u.s / u.cm ** 2 / (0.2 * u.arcsec) ** 2\n",
    "muse_bright_unit.to(u.erg / u.s / u.cm ** 2 / u.sr)"
   ]
  },
  {
   "cell_type": "code",
   "execution_count": null,
   "id": "further-litigation",
   "metadata": {
    "collapsed": false,
    "jupyter": {
     "outputs_hidden": false
    },
    "pycharm": {
     "name": "#%%\n"
    }
   },
   "outputs": [],
   "source": [
    "im4686 = Image(str(datadir / \"ngc346-heii-4686-correct.fits\"))\n",
    "im5875 = Image(str(datadir / \"ngc346-hei-5875-correct.fits\"))\n",
    "imhb = Image(str(datadir / \"ngc346-hi-4861-correct.fits\"))\n",
    "imariv = Image(str(datadir / \"ngc346-ariv-4711-plus-4740-correct.fits\"))\n",
    "imariii = Image(str(datadir / \"ngc346-ariii-7136-correct.fits\"))\n",
    "imoiii = Image(str(datadir / \"ngc346-oiii-5007-bin01-sum.fits\"))"
   ]
  },
  {
   "cell_type": "code",
   "execution_count": null,
   "id": "vulnerable-thomas",
   "metadata": {
    "collapsed": false,
    "jupyter": {
     "outputs_hidden": false
    },
    "pycharm": {
     "name": "#%%\n"
    }
   },
   "outputs": [],
   "source": [
    "fig, ax = plt.subplots(figsize=(10, 10))\n",
    "(im4686 / imhb)[yslice, xslice].plot(vmin=0.0, vmax=0.016, colorbar=\"v\")"
   ]
  },
  {
   "cell_type": "code",
   "execution_count": null,
   "id": "revolutionary-velvet",
   "metadata": {
    "collapsed": false,
    "jupyter": {
     "outputs_hidden": false
    },
    "pycharm": {
     "name": "#%%\n"
    }
   },
   "outputs": [],
   "source": [
    "yslice"
   ]
  },
  {
   "cell_type": "code",
   "execution_count": null,
   "id": "manufactured-lawyer",
   "metadata": {
    "collapsed": false,
    "jupyter": {
     "outputs_hidden": false
    },
    "pycharm": {
     "name": "#%%\n"
    }
   },
   "outputs": [],
   "source": [
    "xxslice = slice(None, None)\n",
    "# yyslice = slice(164, 204) # original\n",
    "# yyslice = slice(160, 210) # broader\n",
    "# yyslice = slice(170, 200) # narrower\n",
    "yyslice = slice(180, 200)  # top half ultra narrow\n",
    "\n",
    "\n",
    "def make_profile(im):\n",
    "    # return np.make(im[yyslice, xxslice].data, axis=0)\n",
    "    return np.mean(im[yyslice, xxslice].data, axis=0)\n",
    "\n",
    "\n",
    "heii_profile = make_profile(im4686)\n",
    "hei_profile = make_profile(im5875)\n",
    "hb_profile = make_profile(imhb)\n",
    "ariv_profile = make_profile(imariv)\n",
    "ariii_profile = make_profile(imariii)\n",
    "oiii_profile = make_profile(imoiii)"
   ]
  },
  {
   "cell_type": "code",
   "execution_count": null,
   "id": "hourly-system",
   "metadata": {
    "collapsed": false,
    "jupyter": {
     "outputs_hidden": false
    },
    "pycharm": {
     "name": "#%%\n"
    }
   },
   "outputs": [],
   "source": [
    "fig, ax = plt.subplots(figsize=(15, 6))\n",
    "ix0 = 227.5\n",
    "nx = len(heii_profile)\n",
    "pos = (np.arange(nx) - ix0) * 0.2\n",
    "pos2 = (np.arange(len(oiii_profile)) - ix0) * 0.2\n",
    "\n",
    "ax.plot(pos, heii_profile, label=\"He II\", lw=4)\n",
    "ax.plot(pos, 1.00 * ariv_profile, label=\"[Ar IV]\", lw=3)\n",
    "fac = 3 * 0.0014\n",
    "ax.plot(pos2, fac * oiii_profile, label=f\"[O III] / {1/fac:.1f}\", lw=2.0)\n",
    "fac = 3 * 0.145\n",
    "ax.plot(pos, fac * ariii_profile, label=f\"[Ar III] / {1/fac:.1f}\", lw=1.5)\n",
    "fac = 3 * 0.100\n",
    "ax.plot(pos, fac * hei_profile, label=f\"He I / {1/fac:.1f}\", lw=1.0)\n",
    "fac = 3 * 0.0105\n",
    "ax.plot(pos, fac * hb_profile, label=f\"Hβ / {1/fac:.1f}\", lw=0.5)\n",
    "\n",
    "\n",
    "ax.axhline(0, color=\"k\")\n",
    "\n",
    "ax.axvline(0, color=\"k\", lw=1, ls=\"dashed\")\n",
    "ax.axvspan(2.0, 9.0, 0.4, 0.8, color=\"k\", alpha=0.1, linewidth=0, zorder=-100)\n",
    "ax.legend(ncol=3, loc=\"upper left\")\n",
    "\n",
    "ax.set(\n",
    "    xlabel=\"Offset west from W 3, arcsec\",\n",
    "    ylabel=\"Surface brightness\",\n",
    "    xlim=[-12, 22],\n",
    "    ylim=[-199, 1400],\n",
    ")\n",
    "sns.despine()\n",
    "fig.savefig(figdir / \"ngc346-bow-shock-brightness-cuts.pdf\")"
   ]
  },
  {
   "cell_type": "markdown",
   "id": "opposed-excuse",
   "metadata": {
    "collapsed": false,
    "jupyter": {
     "outputs_hidden": false
    },
    "pycharm": {
     "name": "#%% md\n"
    }
   },
   "source": [
    "From the profile graph above, the peak He II brightness is about 400 MUSE brightness units"
   ]
  },
  {
   "cell_type": "code",
   "execution_count": null,
   "id": "controlled-yemen",
   "metadata": {
    "collapsed": false,
    "jupyter": {
     "outputs_hidden": false
    },
    "pycharm": {
     "name": "#%%\n"
    }
   },
   "outputs": [],
   "source": [
    "peak_heii = muse_bright_unit * 400\n",
    "peak_heii"
   ]
  },
  {
   "cell_type": "code",
   "execution_count": null,
   "id": "be20c798-2d5c-447b-9e07-2dc7677ce76d",
   "metadata": {},
   "outputs": [],
   "source": [
    "mshell = (abs(pos) < 10) & (heii_profile > 200)\n",
    "heii_profile[mshell]"
   ]
  },
  {
   "cell_type": "code",
   "execution_count": null,
   "id": "2484bffe-128e-4cba-939b-18ca29b4b4ae",
   "metadata": {},
   "outputs": [],
   "source": [
    "pos[mshell]"
   ]
  },
  {
   "cell_type": "markdown",
   "id": "raised-dinner",
   "metadata": {
    "collapsed": false,
    "jupyter": {
     "outputs_hidden": false
    },
    "pycharm": {
     "name": "#%% md\n"
    }
   },
   "source": [
    "From the image, the chord length through the bow is about 60 pixels.  We can assume that the line-of-sight depth is similar:"
   ]
  },
  {
   "cell_type": "code",
   "execution_count": null,
   "id": "engaged-clarity",
   "metadata": {
    "collapsed": false,
    "jupyter": {
     "outputs_hidden": false
    },
    "pycharm": {
     "name": "#%%\n"
    }
   },
   "outputs": [],
   "source": [
    "depth_heii = 60 * 0.2 * 61700 * u.au\n",
    "depth_heii.to(u.pc)"
   ]
  },
  {
   "cell_type": "markdown",
   "id": "universal-disaster",
   "metadata": {
    "collapsed": false,
    "jupyter": {
     "outputs_hidden": false
    },
    "pycharm": {
     "name": "#%% md\n"
    }
   },
   "source": [
    "Surface brightness assuming optically thin emission with isotropic line emissivity, $e(\\lambda)$, is given by\n",
    "$$\n",
    "I(\\lambda) = \\int \\frac{e(\\lambda)\\, n_e\\, n_i}{4 \\pi} \\, dz\n",
    "$$\n",
    "where $e(\\lambda)$ is in the units given by pyneb: `u.erg * u.cm**3 / u.s` and $n_e$, $n_i$ are the electron and ion densities.\n",
    "\n",
    "Assume neutral fractions of He and H are negligible and hydrogen number density is $n$.  If the He abundance is $y = n(\\mathrm{He}) / n(\\mathrm{H})$ and the He++ ion fraction is $x_{++}$, then we have:\n",
    "$$\n",
    "n(\\mathrm{He^{++}}) = y\\, x_{++}\\, n \\quad \\text{and} \\quad n_e = [1 + y\\, (1 + x_{++})]\\, n\n",
    "$$\n",
    "implying that\n",
    "$$\n",
    "n(\\mathrm{He^{++}}) \\, n_e = n_e^2 \\, \\frac{y\\, x_{++}}{1 + y\\, (1 + x_{++})}\n",
    "\\approx n_e^2 \\, \\frac{y}{1 + 2 y}\n",
    "$$\n",
    "\n",
    "So, with homogeneous conditions, we have\n",
    "$$\n",
    "I(4686) = \n",
    "\\frac{e(4686)}{4\\pi}\\, \n",
    "\\frac{y\\, x_{++}}{1 + (1 + x_{++}) y} \n",
    "\\, n_e^2 \\, \\delta z\n",
    "$$\n",
    "which can be solved for density to yield\n",
    "$$\n",
    "n_e = \\left[\n",
    "\\frac{4\\pi\\, I(4686)}{\\delta z\\, e(4686)} \\, \\frac{1 + (1 + x_{++}) y}{x_{++}\\,y}\n",
    "\\right]^{1/2}\n",
    "$$"
   ]
  },
  {
   "cell_type": "markdown",
   "id": "elect-express",
   "metadata": {
    "collapsed": false,
    "jupyter": {
     "outputs_hidden": false
    },
    "pycharm": {
     "name": "#%% md\n"
    }
   },
   "source": [
    "We can take the helium abundance from above and get ..."
   ]
  },
  {
   "cell_type": "code",
   "execution_count": null,
   "id": "colonial-exploration",
   "metadata": {
    "collapsed": false,
    "jupyter": {
     "outputs_hidden": false
    },
    "pycharm": {
     "name": "#%%\n"
    }
   },
   "outputs": [],
   "source": [
    "pn_e_units = u.erg * u.cm ** 3 / u.s\n",
    "yHe = 0.0824\n",
    "ne = np.sqrt(\n",
    "    4\n",
    "    * np.pi\n",
    "    * u.sr\n",
    "    * peak_heii\n",
    "    / (depth_heii.cgs * e4686 * pn_e_units)\n",
    "    * (1 + 2 * yHe)\n",
    "    / yHe\n",
    ").to(u.cm**-3)\n",
    "ne"
   ]
  },
  {
   "cell_type": "markdown",
   "id": "endless-functionality",
   "metadata": {
    "collapsed": false,
    "jupyter": {
     "outputs_hidden": false
    },
    "pycharm": {
     "name": "#%% md\n"
    }
   },
   "source": [
    "**So electron density of 11 pcc!**\n",
    "\n",
    "Note, however that this assumes that the helium is 100% doubly ionized in the 4686 emitting region. If it is only partially ionized, then this is a lower limit (density would scale approximately as $x_{++}^{-1/2}$)."
   ]
  },
  {
   "cell_type": "markdown",
   "id": "stretch-grammar",
   "metadata": {
    "collapsed": false,
    "jupyter": {
     "outputs_hidden": false
    },
    "pycharm": {
     "name": "#%% md\n"
    }
   },
   "source": [
    "#### Find the He II flux and the He++ ionizing luminosity\n",
    "\n"
   ]
  },
  {
   "cell_type": "code",
   "execution_count": null,
   "id": "balanced-directive",
   "metadata": {
    "collapsed": false,
    "jupyter": {
     "outputs_hidden": false
    },
    "pycharm": {
     "name": "#%%\n"
    }
   },
   "outputs": [],
   "source": [
    "im4686[160:210, 235:255].plot(vmin=0, vmax=400)"
   ]
  },
  {
   "cell_type": "code",
   "execution_count": null,
   "id": "mighty-director",
   "metadata": {
    "collapsed": false,
    "jupyter": {
     "outputs_hidden": false
    },
    "pycharm": {
     "name": "#%%\n"
    }
   },
   "outputs": [],
   "source": [
    "muse_flux_unit = 1e-20 * 1.4 * u.erg / u.s / u.cm ** 2"
   ]
  },
  {
   "cell_type": "markdown",
   "id": "f70cdb64-12aa-4c93-81db-83235fe26179",
   "metadata": {},
   "source": [
    "Calculate the intrinsic flux of the He II line, taking into account the foreground extinction (calculated from the Balmer decrement in the previous notebook)"
   ]
  },
  {
   "cell_type": "code",
   "execution_count": null,
   "id": "collective-northwest",
   "metadata": {
    "collapsed": false,
    "jupyter": {
     "outputs_hidden": false
    },
    "pycharm": {
     "name": "#%%\n"
    }
   },
   "outputs": [],
   "source": [
    "cutout = im4686[160:210, 235:255]\n",
    "m = (cutout.data > 0.0) & ~cutout.mask\n",
    "A_heii = 0.34\n",
    "F_heii = muse_flux_unit * np.sum(cutout.data[m]) * 10**(0.4*A_heii)\n",
    "F_heii"
   ]
  },
  {
   "cell_type": "code",
   "execution_count": null,
   "id": "positive-shore",
   "metadata": {
    "collapsed": false,
    "jupyter": {
     "outputs_hidden": false
    },
    "pycharm": {
     "name": "#%%\n"
    }
   },
   "outputs": [],
   "source": [
    "D_lmc = 61700 * u.pc"
   ]
  },
  {
   "cell_type": "code",
   "execution_count": null,
   "id": "complex-recall",
   "metadata": {
    "collapsed": false,
    "jupyter": {
     "outputs_hidden": false
    },
    "pycharm": {
     "name": "#%%\n"
    }
   },
   "outputs": [],
   "source": [
    "L_heii = 4 * np.pi * D_lmc.cgs ** 2 * F_heii\n",
    "L_heii"
   ]
  },
  {
   "cell_type": "code",
   "execution_count": null,
   "id": "elect-sucking",
   "metadata": {
    "collapsed": false,
    "jupyter": {
     "outputs_hidden": false
    },
    "pycharm": {
     "name": "#%%\n"
    }
   },
   "outputs": [],
   "source": [
    "L_heii.to(u.solLum)"
   ]
  },
  {
   "cell_type": "markdown",
   "id": "advanced-activity",
   "metadata": {
    "collapsed": false,
    "jupyter": {
     "outputs_hidden": false
    },
    "pycharm": {
     "name": "#%% md\n"
    }
   },
   "source": [
    "Effective recomb rate:"
   ]
  },
  {
   "cell_type": "code",
   "execution_count": null,
   "id": "internal-norman",
   "metadata": {
    "collapsed": false,
    "jupyter": {
     "outputs_hidden": false
    },
    "pycharm": {
     "name": "#%%\n"
    }
   },
   "outputs": [],
   "source": [
    "import astropy.constants as constants"
   ]
  },
  {
   "cell_type": "code",
   "execution_count": null,
   "id": "outside-context",
   "metadata": {
    "collapsed": false,
    "jupyter": {
     "outputs_hidden": false
    },
    "pycharm": {
     "name": "#%%\n"
    }
   },
   "outputs": [],
   "source": [
    "hnu4686 = (constants.h * constants.c / (4686 * u.Angstrom)).cgs\n",
    "hnu4686"
   ]
  },
  {
   "cell_type": "code",
   "execution_count": null,
   "id": "latin-swimming",
   "metadata": {
    "collapsed": false,
    "jupyter": {
     "outputs_hidden": false
    },
    "pycharm": {
     "name": "#%%\n"
    }
   },
   "outputs": [],
   "source": [
    "alpha_eff_4686 = e4686 * pn_e_units / hnu4686\n",
    "alpha_eff_4686"
   ]
  },
  {
   "cell_type": "code",
   "execution_count": null,
   "id": "numerous-reserve",
   "metadata": {
    "collapsed": false,
    "jupyter": {
     "outputs_hidden": false
    },
    "pycharm": {
     "name": "#%%\n"
    }
   },
   "outputs": [],
   "source": [
    "pn.atomicData.getAllAvailableFiles(\"He2\")"
   ]
  },
  {
   "cell_type": "markdown",
   "id": "identical-consciousness",
   "metadata": {
    "collapsed": false,
    "jupyter": {
     "outputs_hidden": false
    },
    "pycharm": {
     "name": "#%% md\n"
    }
   },
   "source": [
    "It only works as follows:"
   ]
  },
  {
   "cell_type": "code",
   "execution_count": null,
   "id": "seeing-equation",
   "metadata": {
    "collapsed": false,
    "jupyter": {
     "outputs_hidden": false
    },
    "pycharm": {
     "name": "#%%\n"
    }
   },
   "outputs": [],
   "source": [
    "pn.atomicData.setDataFile(\"he_ii_trc_SH95-caseB.dat\")\n",
    "alphaB_He_plus = pn.RecAtom(\"He\", 2).getTotRecombination(tem=temperatures, den=100)\n",
    "alphaB_He_plus *= u.cm ** 3 / u.s\n",
    "alphaB_He_plus"
   ]
  },
  {
   "cell_type": "markdown",
   "id": "south-techno",
   "metadata": {
    "collapsed": false,
    "jupyter": {
     "outputs_hidden": false
    },
    "pycharm": {
     "name": "#%% md\n"
    }
   },
   "source": [
    "Solid angle: \n",
    "\n",
    "Originally, I had assumed a +\n",
    "/- 75 degree end cap. But after doing some estimates in the org file, I find that 54 +/- 16 deg is a better estimate"
   ]
  },
  {
   "cell_type": "code",
   "execution_count": null,
   "id": "oriental-affiliation",
   "metadata": {
    "collapsed": false,
    "jupyter": {
     "outputs_hidden": false
    },
    "pycharm": {
     "name": "#%%\n"
    }
   },
   "outputs": [],
   "source": [
    "Omega_over_4pi = (1 - np.cos(54 * u.deg)) / 2\n",
    "Omega_over_4pi"
   ]
  },
  {
   "cell_type": "markdown",
   "id": "upper-hamilton",
   "metadata": {
    "collapsed": false,
    "jupyter": {
     "outputs_hidden": false
    },
    "pycharm": {
     "name": "#%% md\n"
    }
   },
   "source": [
    "$$\n",
    "Q \\frac{\\Omega}{4\\pi} = \\int_{\\mathcal{V}} n_e \\, n_i \\, \\alpha_B\\, d\\mathcal{V}\n",
    "$$\n",
    "and\n",
    "$$\n",
    "L(4686) = \\int_{\\mathcal{V}} n_e \\, n_i \\, e(4686)\\, d\\mathcal{V}\n",
    "$$\n",
    "so that\n",
    "$$\n",
    "Q = \\frac{\\alpha_B \\, L(4686)} {e(4686)\\, (\\Omega/4\\pi)}\n",
    "$$"
   ]
  },
  {
   "cell_type": "code",
   "execution_count": null,
   "id": "impaired-above",
   "metadata": {
    "collapsed": false,
    "jupyter": {
     "outputs_hidden": false
    },
    "pycharm": {
     "name": "#%%\n"
    }
   },
   "outputs": [],
   "source": [
    "Q2 = alphaB_He_plus * L_heii / (e4686 * pn_e_units) / Omega_over_4pi\n",
    "Q2"
   ]
  },
  {
   "cell_type": "markdown",
   "id": "ca241d81-38f7-42b8-9835-43ac64e963b6",
   "metadata": {},
   "source": [
    "This is way higher than what we got last time, which is due to including the effects of foreground extinction plus a smaller esitimate of the covering fraction. The uncertainty is +/- 50%, which is dominated by the uncertainty in the covering fraction. "
   ]
  },
  {
   "cell_type": "markdown",
   "id": "3696d00d-1a32-4552-ad3a-baf905580575",
   "metadata": {},
   "source": [
    "## Alternative route to density from Balmer lines\n",
    "\n",
    "We can estimate the bow shock shell emission measure from the jump in the surface brightness of H beta, say. This has the advantage that we know that the hydrogen is fully ionized."
   ]
  },
  {
   "cell_type": "code",
   "execution_count": null,
   "id": "2f149824-9f95-4bf4-8391-50ed10aa4ef6",
   "metadata": {},
   "outputs": [],
   "source": [
    "A_hb = 0.33\n",
    "jump_hb = 31.7 * 300 * muse_bright_unit * 10**(0.4*A_hb)\n",
    "f\"{jump_hb=}\""
   ]
  },
  {
   "cell_type": "markdown",
   "id": "39c6bc77-402c-4c39-8978-2f27b128127e",
   "metadata": {},
   "source": [
    "The 300 is my estimate from the above figure of the Hb jump at the bow shock inner edge, while the 31.7 is what we divided Hb by before plotting it. \n",
    "\n",
    "Thhen we also correct for the dust extinction `A_hb`. \n",
    "\n",
    "So this should be the intrinsic surface brightness of Hb, which should be EM times emission coefficient / 4 pi\n"
   ]
  },
  {
   "cell_type": "code",
   "execution_count": null,
   "id": "caab58d9-59e3-4495-9998-7ad8528b24cd",
   "metadata": {},
   "outputs": [],
   "source": [
    "EM = jump_hb * (4 * np.pi * u.sr).to(u.arcsec**2) / (e4861 * pn_e_units)\n",
    "EM"
   ]
  },
  {
   "cell_type": "markdown",
   "id": "83924f39-992e-41f3-aa27-fc6a870f79e0",
   "metadata": {},
   "source": [
    "There are three answers, corrending to assumed temperature of 12,500, 13,800, or 15,500 K"
   ]
  },
  {
   "cell_type": "code",
   "execution_count": null,
   "id": "ebe795c9-11d0-48da-aa94-dfa2265c0f1b",
   "metadata": {},
   "outputs": [],
   "source": [
    "np.sqrt(EM / depth_heii).to(u.cm**-3)"
   ]
  },
  {
   "cell_type": "markdown",
   "id": "86501a94-1b53-4256-8157-00861729d9ff",
   "metadata": {},
   "source": [
    "So that gives a bigger density than I was getting before. On the other hand, it might be a slight over-estimate since the H+ path length may be largerby a factor of 2 (see next section). There is also a small correction for the ionized helium contribution to the electron density, but that is much smaller than the uncertainty in the path length. \n",
    "\n",
    "So, we would finally get\n"
   ]
  },
  {
   "cell_type": "code",
   "execution_count": null,
   "id": "23028096-2970-4bd8-a783-9cdf7ec5d81a",
   "metadata": {},
   "outputs": [],
   "source": [
    "np.sqrt(EM / (2 * depth_heii)).to(u.cm**-3)"
   ]
  },
  {
   "cell_type": "markdown",
   "id": "e1af0dca-7aa3-48bc-8bc7-aa195e93cf93",
   "metadata": {},
   "source": [
    "So, taking into account the uncertainty in the path length would give us a hydrogen density of 35 +/- 10 pcc"
   ]
  },
  {
   "cell_type": "markdown",
   "id": "f57d62d9-aa57-401b-8d3e-ee59f7b03905",
   "metadata": {},
   "source": [
    "### Sanity check from He II / H I\n",
    "\n",
    "In principle, we can come to the same conclusion starting from the 4686/4861 ratio, so long as we account for the fraction of the H beta emission that comes from the bow shock."
   ]
  },
  {
   "cell_type": "code",
   "execution_count": null,
   "id": "7ec158c9-a0b7-4a95-800b-b38b4817b677",
   "metadata": {},
   "outputs": [],
   "source": [
    "fig, ax = plt.subplots(figsize=(15, 6))\n",
    "ix0 = 227.5\n",
    "nx = len(heii_profile)\n",
    "pos = (np.arange(nx) - ix0) * 0.2\n",
    "imargin = 10\n",
    "ratio = heii_profile / hb_profile\n",
    "ax.plot(pos[imargin:], ratio[imargin:], label=\"He II / H beta\", lw=4)\n",
    "\n",
    "ax.axhline(0, color=\"k\")\n",
    "\n",
    "ax.axvline(0, color=\"k\", lw=1, ls=\"dashed\")\n",
    "ax.axvspan(2.0, 9.0, 0.4, 0.8, color=\"k\", alpha=0.1, linewidth=0, zorder=-100)\n",
    "ax.legend(ncol=3, loc=\"upper left\")\n",
    "\n",
    "ax.set(\n",
    "    xlabel=\"Offset west from W 3, arcsec\",\n",
    "    ylabel=\"Line ratio\",\n",
    "#    xlim=[-12, 22],\n",
    "    ylim=[-0.005, 0.018],\n",
    ")\n",
    "sns.despine()\n",
    "fig.savefig(figdir / \"ngc346-bow-shock-heii-hbeta-cuts.pdf\")"
   ]
  },
  {
   "cell_type": "markdown",
   "id": "f24bf380-bae1-4e43-8764-cbf1d83e8bfa",
   "metadata": {},
   "source": [
    "So the peak ratio is about 0.015. Note that we already did this once above in the *He II emission measure* section. We got exactly the same value. \n",
    "\n",
    "We now have to divide this by the fraction of H beta that comes frm the bow shock."
   ]
  },
  {
   "cell_type": "code",
   "execution_count": null,
   "id": "f2ebfe09-302e-4316-8e32-034073314119",
   "metadata": {},
   "outputs": [],
   "source": [
    "hb_bow_frac = 0.3\n",
    "heii_hb_bow_max = np.max(ratio[imargin:]) / hb_bow_frac\n",
    "heii_hb_bow_max"
   ]
  },
  {
   "cell_type": "markdown",
   "id": "80c82bbd-e987-430d-80b8-03176e14f6e7",
   "metadata": {},
   "source": [
    "Then we should have\n",
    "$$\n",
    "\\texttt{heii\\_hb\\_bow\\_max} = \n",
    "\\frac{I(4686)}{I(4681)} =\n",
    "\\frac{\n",
    "\\int e(4686)\\, n(\\mathrm{He^{++}})\\, n_e\\, dz\n",
    "}{\n",
    "\\int e(4861)\\, n(\\mathrm{H^+})\\, n_e\\, dz\n",
    "}\n",
    "\\approx\n",
    "\\frac{e(4686)}{e(4861)}\\,\n",
    "y(\\mathrm{He})\\,\n",
    "x(\\mathrm{He}^{++})\n",
    "$$"
   ]
  },
  {
   "cell_type": "code",
   "execution_count": null,
   "id": "ebdc866c-7b31-4575-8426-e32cb7e5840e",
   "metadata": {},
   "outputs": [],
   "source": [
    "e4686, e4861, e4686 / e4861"
   ]
  },
  {
   "cell_type": "markdown",
   "id": "3d7d6b3c-8560-4ea1-9290-7d0f3e6fc6f4",
   "metadata": {},
   "source": [
    "So the He II emission coefficient is about 12 times larger than H beta, which almost exactly cancels out the He abundance factor. And the temperature dependence is very slight."
   ]
  },
  {
   "cell_type": "code",
   "execution_count": null,
   "id": "4ff2ab00-3d77-47d4-ac9a-3b1febb7b78f",
   "metadata": {},
   "outputs": [],
   "source": [
    "yhe = 0.08325295\n",
    "xheiii = (heii_hb_bow_max * e4861) / (yhe * e4686)\n",
    "xheiii"
   ]
  },
  {
   "cell_type": "markdown",
   "id": "3bdb2ef2-4fc3-42b3-b744-aa45482d7812",
   "metadata": {},
   "source": [
    "Note that this assumes that the line-of-sight path length is the same for He++ and for H+. In reality it may be longer for H+ because the thickness of the emitting shell is greater. In the thin shell approximation, the ratio of path lengths is the sqrt of the ratio of thickness. \n",
    "\n",
    "The ratio of thicknesses is between 2 and 5, depending on just how we measure it. So this would give a ratio of path lengths of about (2 +/- 1), which is also what you would have guessed by looking at the chord lengths on the plane of the sky (for [Ar IV] and He II). \n",
    "\n",
    "This would give a final value of $x(\\mathrm{He^{++}}) \\approx 0.1$"
   ]
  },
  {
   "cell_type": "code",
   "execution_count": null,
   "id": "408ef206-70c1-4ed0-aece-fb49d16647e3",
   "metadata": {},
   "outputs": [],
   "source": []
  },
  {
   "cell_type": "code",
   "execution_count": null,
   "id": "2fe5a6fa-8c4f-4166-9e1f-d19d54ba18fc",
   "metadata": {},
   "outputs": [],
   "source": []
  },
  {
   "cell_type": "markdown",
   "id": "leading-family",
   "metadata": {
    "collapsed": false,
    "jupyter": {
     "outputs_hidden": false
    },
    "pycharm": {
     "name": "#%% md\n"
    }
   },
   "source": [
    "## Also do profiles of low ionization lines"
   ]
  },
  {
   "cell_type": "code",
   "execution_count": null,
   "id": "communist-commerce",
   "metadata": {
    "collapsed": false,
    "jupyter": {
     "outputs_hidden": false
    },
    "pycharm": {
     "name": "#%%\n"
    }
   },
   "outputs": [],
   "source": [
    "im6300 = Image(str(datadir / \"ngc346-oi-6300-bin01-sum.fits\"))\n",
    "im5518 = Image(str(datadir / \"ngc346-cliii-5518-bin01-sum.fits\"))\n",
    "im5538 = Image(str(datadir / \"ngc346-cliii-5538-bin01-sum.fits\"))\n",
    "im9069 = Image(str(datadir / \"ngc346-siii-9069-bin01-sum.fits\"))"
   ]
  },
  {
   "cell_type": "code",
   "execution_count": null,
   "id": "altered-hardwood",
   "metadata": {
    "collapsed": false,
    "jupyter": {
     "outputs_hidden": false
    },
    "lines_to_next_cell": 2,
    "pycharm": {
     "name": "#%%\n"
    }
   },
   "outputs": [],
   "source": [
    "oi_profile = make_profile(im6300)\n",
    "cliiis_profile = make_profile(im5518)\n",
    "cliiil_profile = make_profile(im5538)\n",
    "siis_profile = make_profile(im6716)\n",
    "siil_profile = make_profile(im6731)\n",
    "siii_profile = make_profile(im9069)\n",
    "\n",
    "sii_profile = 0.5 * (siis_profile + siil_profile)\n",
    "cliii_profile = 0.5 * (cliiis_profile + cliiil_profile)"
   ]
  },
  {
   "cell_type": "code",
   "execution_count": null,
   "id": "activated-treat",
   "metadata": {
    "collapsed": false,
    "jupyter": {
     "outputs_hidden": false
    },
    "lines_to_next_cell": 0,
    "pycharm": {
     "name": "#%%\n"
    }
   },
   "outputs": [],
   "source": [
    "fig, ax = plt.subplots(figsize=(15, 6))\n",
    "ix0 = 227.5\n",
    "nx = len(oi_profile)\n",
    "pos = (np.arange(nx) - ix0) * 0.2\n",
    "pos2 = (np.arange(len(siil_profile)) - ix0) * 0.2\n",
    "\n",
    "ax.plot(pos, 1.0 * oi_profile / np.median(oi_profile), label=\"[O I] brightness\", lw=3)\n",
    "ax.plot(\n",
    "    pos2, 1.0 * sii_profile / np.median(sii_profile), label=\"[S II] brightness\", lw=3\n",
    ")\n",
    "ax.plot(\n",
    "    pos,\n",
    "    1.7 * cliii_profile / np.median(cliii_profile),\n",
    "    label=\"[Cl III] brightness\",\n",
    "    lw=3,\n",
    ")\n",
    "ax.plot(\n",
    "    pos, 1.7 * siii_profile / np.median(siii_profile), label=\"[S III] brightness\", lw=3\n",
    ")\n",
    "\n",
    "\n",
    "ax.axhline(0, color=\"k\")\n",
    "\n",
    "ax.axvline(0, color=\"k\", lw=1, ls=\"dashed\")\n",
    "ax.axvspan(2.0, 9.0, 0.4, 0.8, color=\"k\", alpha=0.1, linewidth=0, zorder=-100)\n",
    "ax.legend(ncol=2, loc=\"upper left\")\n",
    "\n",
    "ax.set(\n",
    "    xlabel=\"Offset west from W 3, arcsec\",\n",
    "    xlim=[-12, 22],\n",
    "    ylim=[0, 3.9],\n",
    ")\n",
    "sns.despine()\n",
    "fig.savefig(figdir / \"ngc346-bow-shock-lowion-cuts.pdf\")"
   ]
  },
  {
   "cell_type": "code",
   "execution_count": null,
   "id": "congressional-border",
   "metadata": {
    "collapsed": false,
    "jupyter": {
     "outputs_hidden": false
    },
    "lines_to_next_cell": 2,
    "pycharm": {
     "name": "#%%\n"
    }
   },
   "outputs": [],
   "source": []
  },
  {
   "cell_type": "markdown",
   "id": "optimum-lawsuit",
   "metadata": {
    "collapsed": false,
    "jupyter": {
     "outputs_hidden": false
    },
    "pycharm": {
     "name": "#%% md\n"
    }
   },
   "source": [
    "## Ar ionization balance\n",
    "\n",
    "We will calculate the conditions at the very peak of the [Ar IV] emission.\n",
    "\n",
    "We need a very careful slection of the background (BG) and bow shock (BS) samples, since we want to make sure we are in the little triangle window where the intermediate ionization lines are not too contaminated by globule i-fronts and unrelated filaments."
   ]
  },
  {
   "cell_type": "code",
   "execution_count": null,
   "id": "large-fiber",
   "metadata": {
    "collapsed": false,
    "jupyter": {
     "outputs_hidden": false
    },
    "pycharm": {
     "name": "#%%\n"
    }
   },
   "outputs": [],
   "source": [
    "i0, j0, w, h = 234, 200, 12, 8\n",
    "bgbox = regions.RegionBoundingBox(\n",
    "    iymin=j0 - h // 2,\n",
    "    iymax=j0 + h // 2,\n",
    "    ixmin=i0 - w // 2,\n",
    "    ixmax=i0 + w // 2,\n",
    ")\n",
    "i0, j0, w, h = 250, 193, 8, 8\n",
    "bsbox = regions.RegionBoundingBox(\n",
    "    iymin=j0 - h // 2,\n",
    "    iymax=j0 + h // 2,\n",
    "    ixmin=i0 - w // 2,\n",
    "    ixmax=i0 + w // 2,\n",
    ")"
   ]
  },
  {
   "cell_type": "code",
   "execution_count": null,
   "id": "initial-endorsement",
   "metadata": {
    "collapsed": false,
    "jupyter": {
     "outputs_hidden": false
    },
    "pycharm": {
     "name": "#%%\n"
    }
   },
   "outputs": [],
   "source": [
    "fig, axes = plt.subplots(1, 3, figsize=(12, 5), sharey=True)\n",
    "imariv.plot(ax=axes[0], vmin=0, vmax=700, colorbar=\"v\")\n",
    "imariii.plot(ax=axes[1], vmin=0, vmax=2500, colorbar=\"v\")\n",
    "(imariv / imariii).plot(ax=axes[2], vmin=0, vmax=0.45, cmap=\"magma_r\", colorbar=\"v\")\n",
    "for ax in axes:\n",
    "    bsbox.plot(ax=ax, color=\"w\")\n",
    "    bgbox.plot(ax=ax, color=\"w\")\n",
    "    ax.set(\n",
    "        xlim=[200, 300],\n",
    "        ylim=[100, 250],\n",
    "    )\n",
    "fig.tight_layout()"
   ]
  },
  {
   "cell_type": "code",
   "execution_count": null,
   "id": "divine-shell",
   "metadata": {
    "collapsed": false,
    "jupyter": {
     "outputs_hidden": false
    },
    "pycharm": {
     "name": "#%%\n"
    }
   },
   "outputs": [],
   "source": [
    "bs_slices, _ = bsbox.get_overlap_slices(imariv.shape)\n",
    "bg_slices, _ = bgbox.get_overlap_slices(imariv.shape)\n",
    "\n",
    "bs_ariv = imariv[bs_slices].data.mean()\n",
    "bg_ariv = imariv[bg_slices].data.mean()\n",
    "sbs_ariv = imariv[bs_slices].data.std()\n",
    "sbg_ariv = imariv[bg_slices].data.std()\n",
    "\n",
    "bs_slices, _ = bsbox.get_overlap_slices(imariii.shape)\n",
    "bg_slices, _ = bgbox.get_overlap_slices(imariii.shape)\n",
    "bs_ariii = imariii[bs_slices].data.mean()\n",
    "bg_ariii = imariii[bg_slices].data.mean()\n",
    "sbs_ariii = imariii[bs_slices].data.std()\n",
    "sbg_ariii = imariii[bg_slices].data.std()"
   ]
  },
  {
   "cell_type": "code",
   "execution_count": null,
   "id": "incorrect-treasure",
   "metadata": {
    "collapsed": false,
    "jupyter": {
     "outputs_hidden": false
    },
    "pycharm": {
     "name": "#%%\n"
    }
   },
   "outputs": [],
   "source": [
    "f\"[Ar IV]: BS = {bs_ariv:.2f} +/- {sbs_ariv:.2f}, BG = {bg_ariv:.2f} +/- {sbg_ariv:.2f}\""
   ]
  },
  {
   "cell_type": "code",
   "execution_count": null,
   "id": "operational-fundamentals",
   "metadata": {
    "collapsed": false,
    "jupyter": {
     "outputs_hidden": false
    },
    "pycharm": {
     "name": "#%%\n"
    }
   },
   "outputs": [],
   "source": [
    "f\"[Ar III]: BS = {bs_ariii:.2f} +/- {sbs_ariii:.2f}, BG = {bg_ariii:.2f} +/- {sbg_ariii:.2f}\""
   ]
  },
  {
   "cell_type": "code",
   "execution_count": null,
   "id": "million-arthur",
   "metadata": {
    "collapsed": false,
    "jupyter": {
     "outputs_hidden": false
    },
    "pycharm": {
     "name": "#%%\n"
    }
   },
   "outputs": [],
   "source": [
    "BS_ariv = bs_ariv - bg_ariv\n",
    "sBS_ariv = np.hypot(sbs_ariv, sbg_ariv)\n",
    "\n",
    "BS_ariii = bs_ariii - bg_ariii\n",
    "sBS_ariii = np.hypot(sbs_ariii, sbg_ariii)\n",
    "\n",
    "BS_ar_iv_iii = BS_ariv / BS_ariii\n",
    "sBS_ar_iv_iii = BS_ar_iv_iii * np.hypot(sBS_ariii / BS_ariii, sBS_ariv / BS_ariv)\n",
    "\n",
    "f\"BG-subtracted BS: [Ar IV] / [Ar III] = {BS_ar_iv_iii:.3f} +/- {sBS_ar_iv_iii:.3f}\""
   ]
  },
  {
   "cell_type": "code",
   "execution_count": null,
   "id": "apparent-tattoo",
   "metadata": {
    "collapsed": false,
    "jupyter": {
     "outputs_hidden": false
    },
    "pycharm": {
     "name": "#%%\n"
    }
   },
   "outputs": [],
   "source": [
    "ar4 = pn.Atom(\"Ar\", 4)\n",
    "ar3 = pn.Atom(\"Ar\", 3)"
   ]
  },
  {
   "cell_type": "markdown",
   "id": "ordered-cruise",
   "metadata": {
    "collapsed": false,
    "jupyter": {
     "outputs_hidden": false
    },
    "pycharm": {
     "name": "#%% md\n"
    }
   },
   "source": [
    "First T is for BG nebula. Second and third are lower and upper limits for bow shock.  See analysis of [Ar IV] temperature in `10-01` notebook"
   ]
  },
  {
   "cell_type": "code",
   "execution_count": null,
   "id": "effective-going",
   "metadata": {
    "collapsed": false,
    "jupyter": {
     "outputs_hidden": false
    },
    "pycharm": {
     "name": "#%%\n"
    }
   },
   "outputs": [],
   "source": [
    "Ts = [12500, 14000, 16000]\n",
    "e4711 = ar4.getEmissivity(tem=Ts, den=10.0, wave=4711)\n",
    "e4740 = ar4.getEmissivity(tem=Ts, den=10.0, wave=4740)\n",
    "e7136 = ar3.getEmissivity(tem=Ts, den=10.0, wave=7136)"
   ]
  },
  {
   "cell_type": "code",
   "execution_count": null,
   "id": "chemical-fleece",
   "metadata": {
    "collapsed": false,
    "jupyter": {
     "outputs_hidden": false
    },
    "pycharm": {
     "name": "#%%\n"
    }
   },
   "outputs": [],
   "source": [
    "e4711 + e4740"
   ]
  },
  {
   "cell_type": "code",
   "execution_count": null,
   "id": "impressed-immunology",
   "metadata": {
    "collapsed": false,
    "jupyter": {
     "outputs_hidden": false
    },
    "pycharm": {
     "name": "#%%\n"
    }
   },
   "outputs": [],
   "source": [
    "e7136"
   ]
  },
  {
   "cell_type": "markdown",
   "id": "south-pittsburgh",
   "metadata": {
    "collapsed": false,
    "jupyter": {
     "outputs_hidden": false
    },
    "pycharm": {
     "name": "#%% md\n"
    }
   },
   "source": [
    "So the emissivity is very similar, strangely.\n",
    "\n",
    "Anyway, we should have:\n",
    "$$\n",
    "\\frac {n(\\mathrm{Ar^{3+}})} {n(\\mathrm{Ar^{2+}})}\n",
    "=\n",
    "\\frac{I(4711 + 4740)}{I(7136)}\n",
    "\\, \\frac{e(7136)}{e(4711 + 4740)}\n",
    "$$"
   ]
  },
  {
   "cell_type": "code",
   "execution_count": null,
   "id": "arabic-innocent",
   "metadata": {
    "collapsed": false,
    "jupyter": {
     "outputs_hidden": false
    },
    "pycharm": {
     "name": "#%%\n"
    }
   },
   "outputs": [],
   "source": [
    "e7136 / (e4711 + e4740)"
   ]
  },
  {
   "cell_type": "markdown",
   "id": "coordinated-indicator",
   "metadata": {
    "collapsed": false,
    "jupyter": {
     "outputs_hidden": false
    },
    "pycharm": {
     "name": "#%% md\n"
    }
   },
   "source": [
    "So the T uncertainty of +/- 1000 K would give +/- 10% uncertainty in the emissivity ratio. For the time being we take the middle value:"
   ]
  },
  {
   "cell_type": "code",
   "execution_count": null,
   "id": "black-sector",
   "metadata": {
    "collapsed": false,
    "jupyter": {
     "outputs_hidden": false
    },
    "pycharm": {
     "name": "#%%\n"
    }
   },
   "outputs": [],
   "source": [
    "Ar3p_over_Ar2p = BS_ar_iv_iii * (e7136 / (e4711 + e4740))[1]\n",
    "Ar3p_over_Ar2p"
   ]
  },
  {
   "cell_type": "markdown",
   "id": "least-chile",
   "metadata": {
    "collapsed": false,
    "jupyter": {
     "outputs_hidden": false
    },
    "pycharm": {
     "name": "#%% md\n"
    }
   },
   "source": [
    "Or, close enough to unity.  So, at the inner edge of the bow shock we have 50% Ar++ and 50% Ar+++. We can use this to constrain the stellar spectrum if we run some Cloudy models\n",
    "\n",
    "Now do the same, but for the BG nebula"
   ]
  },
  {
   "cell_type": "code",
   "execution_count": null,
   "id": "qualified-small",
   "metadata": {
    "collapsed": false,
    "jupyter": {
     "outputs_hidden": false
    },
    "pycharm": {
     "name": "#%%\n"
    }
   },
   "outputs": [],
   "source": [
    "Ar3p_over_Ar2p_BG = (bg_ariv / bg_ariii) * (e7136 / (e4711 + e4740))[0]\n",
    "Ar3p_over_Ar2p_BG"
   ]
  },
  {
   "cell_type": "markdown",
   "id": "atomic-maria",
   "metadata": {
    "collapsed": false,
    "jupyter": {
     "outputs_hidden": false
    },
    "pycharm": {
     "name": "#%% md\n"
    }
   },
   "source": [
    "So this implies 20% Ar+++ in the BG region.\n",
    "\n",
    "However, these are both still integrals along the line of sight, so the actual variation in ionization might be larger.\n",
    "\n",
    "For instance, the Ar+++ fraction might be higher than 50% at the inner edge.  We could do a LOS integration on the Cloudy emissivities to investigate this.\n",
    "\n",
    "Likewise, the Ar+++ fraction in the BG might be lower than 0.2 since that could be due to contamination by the bow shock wing emission."
   ]
  },
  {
   "cell_type": "markdown",
   "id": "greatest-departure",
   "metadata": {
    "collapsed": false,
    "jupyter": {
     "outputs_hidden": false
    },
    "pycharm": {
     "name": "#%% md\n"
    }
   },
   "source": [
    "## Can we get a He I density?"
   ]
  },
  {
   "cell_type": "code",
   "execution_count": null,
   "id": "quantitative-swaziland",
   "metadata": {
    "collapsed": false,
    "jupyter": {
     "outputs_hidden": false
    },
    "pycharm": {
     "name": "#%%\n"
    }
   },
   "outputs": [],
   "source": [
    "dgrid = [1.0, 10.0, 100.0, 1000.0]\n",
    "T0 = [11000, 13000, 18000]\n",
    "he1.getEmissivity(tem=T0, den=dgrid, wave=5876) / he1.getEmissivity(\n",
    "    tem=T0, den=dgrid, wave=6678\n",
    ")"
   ]
  },
  {
   "cell_type": "code",
   "execution_count": null,
   "id": "hispanic-congress",
   "metadata": {
    "collapsed": false,
    "jupyter": {
     "outputs_hidden": false
    },
    "pycharm": {
     "name": "#%%\n"
    }
   },
   "outputs": [],
   "source": [
    "he1.getEmissivity(tem=T0, den=dgrid, wave=4922) / he1.getEmissivity(\n",
    "    tem=T0, den=dgrid, wave=5876\n",
    ")"
   ]
  },
  {
   "cell_type": "code",
   "execution_count": null,
   "id": "ancient-limitation",
   "metadata": {
    "collapsed": false,
    "jupyter": {
     "outputs_hidden": false
    },
    "pycharm": {
     "name": "#%%\n"
    }
   },
   "outputs": [],
   "source": [
    "he1.getEmissivity(tem=T0, den=dgrid, wave=5048) / he1.getEmissivity(\n",
    "    tem=T0, den=dgrid, wave=5876\n",
    ")"
   ]
  },
  {
   "cell_type": "code",
   "execution_count": null,
   "id": "loaded-smile",
   "metadata": {
    "collapsed": false,
    "jupyter": {
     "outputs_hidden": false
    },
    "pycharm": {
     "name": "#%%\n"
    }
   },
   "outputs": [],
   "source": [
    "im5048 = Image(str(datadir / \"ngc346-hei-5048-bin01-sum.fits\"))\n",
    "im5876 = Image(str(datadir / \"ngc346-hei-5875-bin01-sum.fits\"))"
   ]
  },
  {
   "cell_type": "code",
   "execution_count": null,
   "id": "harmful-garbage",
   "metadata": {
    "collapsed": false,
    "jupyter": {
     "outputs_hidden": false
    },
    "pycharm": {
     "name": "#%%\n"
    }
   },
   "outputs": [],
   "source": [
    "n = 1\n",
    "fig, axes = plt.subplots(2, 2, figsize=(12, 12))\n",
    "im5048.rebin(n).plot(vmin=-10, vmax=60, ax=axes[0, 0], colorbar=\"v\")\n",
    "im5876.rebin(n).plot(vmin=-10, vmax=3000, ax=axes[0, 1], colorbar=\"v\")\n",
    "imcont.rebin(n).plot(vmin=0, vmax=1e4, ax=axes[1, 0], colorbar=\"v\")\n",
    "(im5048.rebin(n) / im5876.rebin(n)).plot(\n",
    "    ax=axes[1, 1],\n",
    "    vmin=0.0,\n",
    "    vmax=0.03,\n",
    "    cmap=\"magma\",\n",
    "    colorbar=\"v\",\n",
    ")\n",
    "for ax in axes.flat:\n",
    "    bsbox.plot(ax=ax, color=\"w\")\n",
    "    bgbox.plot(ax=ax, color=\"w\")\n",
    "    ax.set(\n",
    "        xlim=[200, 300],\n",
    "        ylim=[100, 250],\n",
    "    )\n",
    "fig.tight_layout()"
   ]
  },
  {
   "cell_type": "code",
   "execution_count": null,
   "id": "annoying-aquatic",
   "metadata": {
    "collapsed": false,
    "jupyter": {
     "outputs_hidden": false
    },
    "pycharm": {
     "name": "#%%\n"
    }
   },
   "outputs": [],
   "source": [
    "yyslice = slice(164, 204)  # original\n",
    "# yyslice = slice(160, 210) # broader\n",
    "# yyslice = slice(170, 200) # narrower\n",
    "# yyslice = slice(180, 200) # top half ultra narrow\n",
    "hei_5048_profile = make_profile(im5048)\n",
    "hei_5876_profile = make_profile(im5876)"
   ]
  },
  {
   "cell_type": "code",
   "execution_count": null,
   "id": "thorough-rendering",
   "metadata": {
    "collapsed": false,
    "jupyter": {
     "outputs_hidden": false
    },
    "pycharm": {
     "name": "#%%\n"
    }
   },
   "outputs": [],
   "source": [
    "fig, ax = plt.subplots(figsize=(15, 6))\n",
    "ix0 = 227.5\n",
    "nx = len(hei_profile)\n",
    "pos = (np.arange(nx) - ix0) * 0.2\n",
    "\n",
    "ax.plot(pos, 0.01 * hei_5876_profile / np.median(hei_5876_profile), label=\"He I\", lw=4)\n",
    "ax.plot(pos, hei_5048_profile / hei_5876_profile, label=\"5048 / 5875\", lw=3)\n",
    "\n",
    "ax.axhline(0, color=\"k\")\n",
    "\n",
    "ax.axvline(0, color=\"k\", lw=1, ls=\"dashed\")\n",
    "ax.axvspan(2.0, 9.0, 0.4, 0.8, color=\"k\", alpha=0.1, linewidth=0, zorder=-100)\n",
    "ax.legend(ncol=3, loc=\"upper left\")\n",
    "\n",
    "ax.set(\n",
    "    xlabel=\"Offset west from W 3, arcsec\",\n",
    "    ylabel=\"Surface brightness\",\n",
    "    xlim=[-12, 22],\n",
    "    ylim=[0, 0.03],\n",
    ")\n",
    "sns.despine()"
   ]
  },
  {
   "cell_type": "code",
   "execution_count": null,
   "id": "accurate-mixture",
   "metadata": {
    "collapsed": false,
    "jupyter": {
     "outputs_hidden": false
    },
    "pycharm": {
     "name": "#%%\n"
    }
   },
   "outputs": [],
   "source": [
    "bs_5048 = im5048[bs_slices].data.mean()\n",
    "bs_5876 = im5876[bs_slices].data.mean()\n",
    "bs_5048 / bs_5876"
   ]
  },
  {
   "cell_type": "code",
   "execution_count": null,
   "id": "comfortable-hurricane",
   "metadata": {
    "collapsed": false,
    "jupyter": {
     "outputs_hidden": false
    },
    "pycharm": {
     "name": "#%%\n"
    }
   },
   "outputs": [],
   "source": [
    "bg_5048 = im5048[bg_slices].data.mean()\n",
    "bg_5876 = im5876[bg_slices].data.mean()\n",
    "bg_5048 / bg_5876"
   ]
  },
  {
   "cell_type": "markdown",
   "id": "thermal-copying",
   "metadata": {
    "collapsed": false,
    "jupyter": {
     "outputs_hidden": false
    },
    "pycharm": {
     "name": "#%% md\n"
    }
   },
   "source": [
    "These are all way lower than the theoretical values for reasonable temperatures.  Maybe the 5048 line is affected by underlying stellar absorption."
   ]
  },
  {
   "cell_type": "code",
   "execution_count": null,
   "id": "sufficient-causing",
   "metadata": {
    "collapsed": false,
    "jupyter": {
     "outputs_hidden": false
    },
    "pycharm": {
     "name": "#%%\n"
    }
   },
   "outputs": [],
   "source": [
    "# yyslice = slice(164, 204) # original\n",
    "# yyslice = slice(160, 210) # broader\n",
    "# yyslice = slice(170, 200) # narrower\n",
    "yyslice = slice(180, 200)  # top half ultra narrow\n",
    "n_sii_profile = make_profile(im_n_sii)\n",
    "T_siii_profile = make_profile(im_T_siii)\n",
    "sii_profile = make_profile(im6731)\n",
    "im9069 = Image(str(datadir / \"ngc346-siii-9069-bin01-sum.fits\"))\n",
    "siii_profile = make_profile(im9069)"
   ]
  },
  {
   "cell_type": "code",
   "execution_count": null,
   "id": "detailed-robin",
   "metadata": {
    "pycharm": {
     "name": "#%%\n"
    }
   },
   "outputs": [],
   "source": [
    "fig, ax = plt.subplots(figsize=(15, 6))\n",
    "ix0 = 227.5\n",
    "nx = len(sii_profile)\n",
    "pos = (np.arange(nx) - ix0) * 0.2\n",
    "pos2 = (np.arange(len(siii_profile)) - ix0) * 0.2\n",
    "\n",
    "ax.plot(\n",
    "    pos, 0.01 * n_sii_profile, ds=\"steps-mid\", label=\"$n$([S II]) / 100 cm$^{-3}$\", lw=2\n",
    ")\n",
    "ax.plot(\n",
    "    pos2, 0.0001 * T_siii_profile, ds=\"steps-mid\", label=\"$T$([S III]) / 10,000 K\", lw=2\n",
    ")\n",
    "ax.plot(\n",
    "    pos, 1.0 * sii_profile / np.median(sii_profile), label=\"[S II] brightness\", lw=3\n",
    ")\n",
    "ax.plot(\n",
    "    pos2, 1.8 * siii_profile / np.median(siii_profile), label=\"[S III] brightness\", lw=3\n",
    ")\n",
    "\n",
    "ax.axhline(0, color=\"k\")\n",
    "\n",
    "ax.axvline(0, color=\"k\", lw=1, ls=\"dashed\")\n",
    "ax.axvspan(2.0, 9.0, 0.4, 0.8, color=\"k\", alpha=0.1, linewidth=0, zorder=-100)\n",
    "ax.legend(ncol=2, loc=\"upper left\")\n",
    "\n",
    "ax.set(\n",
    "    xlabel=\"Offset west from W 3, arcsec\",\n",
    "    xlim=[-12, 22],\n",
    "    ylim=[0, 3.45],\n",
    ")\n",
    "sns.despine()\n",
    "fig.savefig(figdir / \"ngc346-bow-shock-sii-siii-ne-te.pdf\")"
   ]
  },
  {
   "cell_type": "markdown",
   "id": "unusual-child",
   "metadata": {
    "collapsed": false,
    "jupyter": {
     "outputs_hidden": false
    },
    "pycharm": {
     "name": "#%% md\n"
    },
    "tags": [
     "temperature"
    ]
   },
   "source": [
    "So the [S III] temperature is significantly larger than the [O III] temperature from the nebula. It is around 14000 K and has a drop towards W 3 coming from the east side, and then a step and a very constant region.  But the step occurs before the bow shock, so is probably unrelated."
   ]
  },
  {
   "cell_type": "code",
   "execution_count": null,
   "id": "miniature-oxide",
   "metadata": {
    "collapsed": false,
    "jupyter": {
     "outputs_hidden": false
    },
    "pycharm": {
     "name": "#%%\n"
    }
   },
   "outputs": [],
   "source": [
    "fig, ax = plt.subplots(figsize=(15, 6))\n",
    "ix0 = 227.5\n",
    "nx = len(sii_profile)\n",
    "pos = (np.arange(nx) - ix0) * 0.2\n",
    "pos2 = (np.arange(len(siii_profile)) - ix0) * 0.2\n",
    "\n",
    "ax.plot(pos, 0.01 * n_sii_profile, label=\"$n$([S II]) / 100 cm$^{-3}$\", lw=4)\n",
    "ax.plot(pos2, 0.0001 * T_siii_profile, label=\"$T$([S III]) / 10,000 K\", lw=3)\n",
    "ax.plot(pos2, 1.0 * sii_profile[1:] / siii_profile, label=\"[S II] / [S III]\", lw=3)\n",
    "ax.plot(pos2, 4.0 * oi_profile / sii_profile[1:], label=\"[O I] / [S II]\", lw=3)\n",
    "\n",
    "\n",
    "ax.axhline(0, color=\"k\")\n",
    "\n",
    "ax.axvline(0, color=\"k\", lw=1, ls=\"dashed\")\n",
    "ax.axvspan(2.0, 9.0, 0.4, 0.8, color=\"k\", alpha=0.1, linewidth=0, zorder=-100)\n",
    "ax.legend(ncol=2, loc=\"upper left\")\n",
    "\n",
    "ax.set(\n",
    "    xlabel=\"Offset west from W 3, arcsec\",\n",
    "    xlim=[-12, 22],\n",
    "    ylim=[0, 2.1],\n",
    ")\n",
    "sns.despine()\n",
    "fig.savefig(figdir / \"ngc346-bow-shock-sii-siii-ratio-ne-te.pdf\")"
   ]
  },
  {
   "cell_type": "code",
   "execution_count": null,
   "id": "norman-bridges",
   "metadata": {
    "collapsed": false,
    "jupyter": {
     "outputs_hidden": false
    },
    "pycharm": {
     "name": "#%%\n"
    }
   },
   "outputs": [],
   "source": [
    "imhei_c = Image(str(datadir / \"ngc346-hei-5875-correct.fits\"))\n",
    "imhi_c = Image(str(datadir / \"ngc346-hi-4861-correct.fits\"))\n",
    "imheii_c = Image(str(datadir / \"ngc346-heii-4686-correct.fits\"))\n",
    "imcont2 = Image(str(datadir / \"ngc346-cont-4686-mean.fits\"))\n"
   ]
  },
  {
   "cell_type": "code",
   "execution_count": null,
   "id": "ranging-terror",
   "metadata": {
    "collapsed": false,
    "jupyter": {
     "outputs_hidden": false
    },
    "pycharm": {
     "name": "#%%\n"
    }
   },
   "outputs": [],
   "source": [
    "m = imcont2.data > 500.0\n",
    "for im in imhei_c, imheii_c, imhi_c:\n",
    "    im.mask = im.mask | m"
   ]
  },
  {
   "cell_type": "code",
   "execution_count": null,
   "id": "major-mobility",
   "metadata": {
    "collapsed": false,
    "jupyter": {
     "outputs_hidden": false
    },
    "pycharm": {
     "name": "#%%\n"
    }
   },
   "outputs": [],
   "source": [
    "# yyslice = slice(164, 204) # original\n",
    "yyslice = slice(160, 210)  # broader\n",
    "# yyslice = slice(170, 200) # narrower\n",
    "# yyslice = slice(180, 200) # top half ultra narrow\n",
    "hei_c_profile = make_profile(imhei_c)\n",
    "hi_c_profile = make_profile(imhi_c)\n",
    "heii_c_profile = make_profile(imheii_c)\n",
    "cont_profile = make_profile(imcont2)"
   ]
  },
  {
   "cell_type": "code",
   "execution_count": null,
   "id": "casual-frederick",
   "metadata": {
    "collapsed": false,
    "jupyter": {
     "outputs_hidden": false
    },
    "pycharm": {
     "name": "#%%\n"
    }
   },
   "outputs": [],
   "source": [
    "fig, ax = plt.subplots(figsize=(15, 6))\n",
    "ix0 = 227.5\n",
    "nx = len(hei_profile)\n",
    "pos = (np.arange(nx) - ix0) * 0.2\n",
    "\n",
    "ax.plot(\n",
    "    pos,\n",
    "    heii_c_profile / hi_c_profile,\n",
    "    ds=\"steps-mid\",\n",
    "    label=\"He II λ4686 / H I λ4861\",\n",
    "    lw=2,\n",
    ")\n",
    "ax.plot(\n",
    "    pos,\n",
    "    hei_c_profile / hi_c_profile - 0.10,\n",
    "    ds=\"steps-mid\",\n",
    "    label=\"(He I λ5875 / H I λ4861) – 0.1\",\n",
    "    lw=2,\n",
    ")\n",
    "\n",
    "ax.axhline(0, color=\"k\")\n",
    "\n",
    "ax.axvline(0, color=\"k\", lw=1, ls=\"dashed\")\n",
    "ax.axvspan(2.0, 9.0, 0.4, 0.8, color=\"k\", alpha=0.1, linewidth=0, zorder=-100)\n",
    "ax.legend(ncol=1, loc=\"upper right\")\n",
    "ax.set_yticks([0.0, 0.005, 0.010])\n",
    "ax.set(\n",
    "    xlabel=\"Offset west from W 3, arcsec\",\n",
    "    xlim=[-12, 22],\n",
    "    ylim=[-0.005, 0.015],\n",
    ")\n",
    "sns.despine()\n",
    "fig.savefig(figdir / \"ngc346-bow-shock-he-ratios.pdf\")"
   ]
  },
  {
   "cell_type": "code",
   "execution_count": null,
   "id": "999bba3e-930b-42a5-b424-c9acd9c9fcdb",
   "metadata": {
    "collapsed": false,
    "jupyter": {
     "outputs_hidden": false
    },
    "pycharm": {
     "name": "#%%\n"
    }
   },
   "outputs": [],
   "source": [
    "fig, ax = plt.subplots(figsize=(15, 6))\n",
    "ix0 = 227.5\n",
    "nx = len(hei_profile)\n",
    "pos = (np.arange(nx) - ix0) * 0.2\n",
    "\n",
    "ax.plot(\n",
    "    pos,\n",
    "    heii_c_profile / hi_c_profile,\n",
    "    ds=\"steps-mid\",\n",
    "    label=\"He II λ4686 / H I λ4861\",\n",
    "    lw=2,\n",
    ")\n",
    "ax.plot(\n",
    "    pos,\n",
    "    hei_c_profile / hi_c_profile - 0.10,\n",
    "    ds=\"steps-mid\",\n",
    "    label=\"(He I λ5875 / H I λ4861) – 0.1\",\n",
    "    lw=2,\n",
    ")\n",
    "ax.plot(\n",
    "    pos,\n",
    "    0.012 * cont_profile / np.max(cont_profile[np.abs(pos) < 10]),\n",
    "    ds=\"steps-mid\",\n",
    "    label=\"continuum\",\n",
    "    lw=2,\n",
    "    color=\"k\",\n",
    ")\n",
    "\n",
    "ax.axhline(0, color=\"k\")\n",
    "\n",
    "ax.axvline(0, color=\"k\", lw=1, ls=\"dashed\")\n",
    "ax.axvspan(2.0, 9.0, 0.4, 0.8, color=\"k\", alpha=0.1, linewidth=0, zorder=-100)\n",
    "ax.legend(ncol=1, loc=\"upper right\")\n",
    "ax.set_yticks([0.0, 0.005, 0.010])\n",
    "ax.set(\n",
    "    xlabel=\"Offset west from W 3, arcsec\",\n",
    "    xlim=[-12, 22],\n",
    "    ylim=[-0.005, 0.015],\n",
    ")\n",
    "sns.despine()"
   ]
  },
  {
   "cell_type": "markdown",
   "id": "f7c4c641-932d-42d7-bfae-783353407545",
   "metadata": {},
   "source": [
    "These show the continuum as well, so we can see the PSF width of about 5 pixels, which is less thn the shell thickness of about 10 pixels."
   ]
  },
  {
   "cell_type": "code",
   "execution_count": null,
   "id": "underlying-mainstream",
   "metadata": {
    "collapsed": false,
    "jupyter": {
     "outputs_hidden": false
    },
    "pycharm": {
     "name": "#%%\n"
    }
   },
   "outputs": [],
   "source": [
    "im5518 = Image(str(datadir / \"ngc346-cliii-5518-bin01-sum.fits\"))\n",
    "im5538 = Image(str(datadir / \"ngc346-cliii-5538-bin01-sum.fits\"))\n",
    "imha = Image(str(datadir / \"ngc346-hi-6563-bin01-sum.fits\"))\n",
    "imcont = Image(str(datadir / \"ngc346-cont-4686-mean.fits\"))"
   ]
  },
  {
   "cell_type": "code",
   "execution_count": null,
   "id": "pacific-boxing",
   "metadata": {
    "collapsed": false,
    "jupyter": {
     "outputs_hidden": false
    },
    "pycharm": {
     "name": "#%%\n"
    }
   },
   "outputs": [],
   "source": [
    "cl3 = pn.Atom(\"Cl\", 3)\n",
    "Rlo = cl3.getLowDensRatio(wave1=5518, wave2=5538)\n",
    "Rhi = cl3.getHighDensRatio(wave1=5518, wave2=5538)\n",
    "Rlo, Rhi"
   ]
  },
  {
   "cell_type": "code",
   "execution_count": null,
   "id": "classified-guest",
   "metadata": {
    "collapsed": false,
    "jupyter": {
     "outputs_hidden": false
    },
    "pycharm": {
     "name": "#%%\n"
    }
   },
   "outputs": [],
   "source": [
    "m = imcont.data > 3e2\n",
    "im5518.mask = im5518.mask | m\n",
    "im5538.mask = im5538.mask | m\n",
    "trim_edges(im5518, 20)\n",
    "trim_edges(im5538, 20)\n",
    "trim_edges(imcont, 20)"
   ]
  },
  {
   "cell_type": "code",
   "execution_count": null,
   "id": "static-burke",
   "metadata": {
    "collapsed": false,
    "jupyter": {
     "outputs_hidden": false
    },
    "pycharm": {
     "name": "#%%\n"
    }
   },
   "outputs": [],
   "source": [
    "shift5538 = 15.0\n",
    "shift5518 = 23.0\n",
    "im5538.data += shift5538\n",
    "im5518.data += shift5518"
   ]
  },
  {
   "cell_type": "code",
   "execution_count": null,
   "id": "annoying-mileage",
   "metadata": {
    "collapsed": false,
    "jupyter": {
     "outputs_hidden": false
    },
    "pycharm": {
     "name": "#%%\n"
    }
   },
   "outputs": [],
   "source": [
    "n = 16\n",
    "fig, axes = plt.subplots(2, 2, figsize=(12, 12))\n",
    "im5538.rebin(n).plot(vmin=-10, vmax=120, ax=axes[0, 0], colorbar=\"v\")\n",
    "im5518.rebin(n).plot(vmin=-10, vmax=120, ax=axes[0, 1], colorbar=\"v\")\n",
    "imcont.rebin(n).plot(vmin=0, vmax=1e4, ax=axes[1, 0], colorbar=\"v\")\n",
    "(im5518.rebin(n) / im5538.rebin(n)).plot(\n",
    "    ax=axes[1, 1],\n",
    "    vmin=0.0,\n",
    "    vmax=2.0,\n",
    "    cmap=\"gray\",\n",
    "    colorbar=\"v\",\n",
    ")\n",
    "fig.tight_layout()"
   ]
  },
  {
   "cell_type": "code",
   "execution_count": null,
   "id": "viral-steering",
   "metadata": {
    "collapsed": false,
    "jupyter": {
     "outputs_hidden": false
    },
    "pycharm": {
     "name": "#%%\n"
    }
   },
   "outputs": [],
   "source": [
    "n = 8\n",
    "\n",
    "imx = im5538.rebin(n)\n",
    "imy = (im5518 / Rlo).rebin(n)\n",
    "\n",
    "imin, imax = -10, 100\n",
    "m = (imx.data < imax) & (imy.data < imax)\n",
    "m = m & (imx.data > imin) & (imy.data > imin)\n",
    "m = m & (imy.data / imx.data > -2) & (imy.data / imx.data < 4.0)\n",
    "m = m & ~imx.mask & ~imy.mask\n",
    "df = pd.DataFrame(\n",
    "    {\n",
    "        \"5538\": imx.data[m],\n",
    "        \"5518\": imy.data[m],\n",
    "        \"5518 / 5538\": imy.data[m] / imx.data[m],\n",
    "    }\n",
    ")\n",
    "g = sns.pairplot(\n",
    "    df,\n",
    "    kind=\"hist\",\n",
    "    height=4,\n",
    "    corner=True,\n",
    ")\n",
    "g.axes[1, 0].axvline(0.0, color=\"r\")\n",
    "g.axes[1, 0].axhline(0.0, color=\"r\")\n",
    "g.axes[1, 0].plot([imin, imax], [imin, imax], \"--\", color=\"r\")\n",
    "g.axes[1, 0].plot([imin, imax], [imin, imax], \"--\", color=\"r\")\n",
    "g.fig.suptitle(\"Correlation between [Cl III] 5538 and 5518 brightness\")"
   ]
  },
  {
   "cell_type": "code",
   "execution_count": null,
   "id": "technological-rabbit",
   "metadata": {
    "collapsed": false,
    "jupyter": {
     "outputs_hidden": false
    },
    "pycharm": {
     "name": "#%%\n"
    }
   },
   "outputs": [],
   "source": [
    "n = 32\n",
    "\n",
    "imx = imha.rebin(n)\n",
    "imy = im5518.rebin(n) / im5538.rebin(n)\n",
    "\n",
    "imin, imax = -10, 100\n",
    "m = (imy.data > 0.5) & (imy.data < 2.0)\n",
    "m = m & (imx.data < 1.5e5)\n",
    "m = m & ~imx.mask & ~imy.mask\n",
    "df = pd.DataFrame(\n",
    "    {\n",
    "        \"6563\": imx.data[m],\n",
    "        \"5518 / 5538\": imy.data[m],\n",
    "    }\n",
    ")\n",
    "g = sns.pairplot(\n",
    "    df,\n",
    "    kind=\"hist\",\n",
    "    height=4,\n",
    "    corner=True,\n",
    "    plot_kws=dict(\n",
    "        weights=imx.data[m],\n",
    "        bins=50,\n",
    "    ),\n",
    "    diag_kws=dict(\n",
    "        weights=imx.data[m],\n",
    "        bins=50,\n",
    "    ),\n",
    ")\n",
    "g.axes[1, 0].axvline(0.0, color=\"r\")\n",
    "g.axes[1, 0].axhline(1.5, color=\"r\")\n",
    "g.fig.suptitle(\"Correlation between [Cl III] 5538, 5518 sum and ratio\")"
   ]
  },
  {
   "cell_type": "code",
   "execution_count": null,
   "id": "incoming-exclusion",
   "metadata": {
    "collapsed": false,
    "jupyter": {
     "outputs_hidden": false
    },
    "pycharm": {
     "name": "#%%\n"
    }
   },
   "outputs": [],
   "source": [
    "xslice, yslice = slice(230, 300), slice(144, 245)\n",
    "\n",
    "n = 2\n",
    "\n",
    "imx = imha[yslice, xslice].rebin(n)\n",
    "imy = im5518[yslice, xslice].rebin(n) / im5538[yslice, xslice].rebin(n)\n",
    "\n",
    "imin, imax = -10, 100\n",
    "m = (imy.data > 0.15) & (imy.data < 15.0)\n",
    "m = m & (imx.data < 1.5e5)\n",
    "m = m & ~imx.mask & ~imy.mask\n",
    "df = pd.DataFrame(\n",
    "    {\n",
    "        \"6563\": np.log10(imx.data[m]),\n",
    "        \"5518 / 5538\": np.log10(imy.data[m]),\n",
    "    }\n",
    ")\n",
    "g = sns.pairplot(\n",
    "    df,\n",
    "    kind=\"hist\",\n",
    "    height=4,\n",
    "    corner=True,\n",
    "    plot_kws=dict(\n",
    "        weights=imx.data[m],\n",
    "        bins=30,\n",
    "    ),\n",
    "    diag_kws=dict(\n",
    "        weights=imx.data[m],\n",
    "        bins=30,\n",
    "    ),\n",
    ")\n",
    "g.axes[1, 0].axhline(np.log10(1.5), color=\"r\")\n",
    "g.axes[1, 1].axvline(np.log10(1.5), color=\"r\")\n",
    "\n",
    "\n",
    "g.fig.suptitle(\"Correlation between [Cl III] 5538 / 5518 ratio and Ha brightness\")"
   ]
  },
  {
   "cell_type": "code",
   "execution_count": null,
   "id": "worldwide-clinic",
   "metadata": {
    "collapsed": false,
    "jupyter": {
     "outputs_hidden": false
    },
    "pycharm": {
     "name": "#%%\n"
    }
   },
   "outputs": [],
   "source": [
    "m = ~im5518[yslice, xslice].mask\n",
    "npix = m.sum()\n",
    "y = im5518[yslice, xslice].data[m]\n",
    "x = im5538[yslice, xslice].data[m]\n",
    "w = imha[yslice, xslice].data[m]\n",
    "\n",
    "# unweighted\n",
    "ym = y.mean()\n",
    "xm = x.mean()\n",
    "R1 = ym / xm\n",
    "dR1 = np.sqrt((y.var() / ym ** 2 + x.var() / xm ** 2) / (npix - 1))\n",
    "\n",
    "# weighted\n",
    "ymw = np.average(y, weights=w)\n",
    "xmw = np.average(x, weights=w)\n",
    "R2 = ymw / xmw\n",
    "dR2 = np.sqrt(\n",
    "    (\n",
    "        np.average(((y - ymw) / ymw) ** 2, weights=w)\n",
    "        + np.average(((x - ymw) / xmw) ** 2, weights=w)\n",
    "    )\n",
    "    / (npix - 1)\n",
    ")\n",
    "f\"Unweighted R = {R1:.4f} +/- {dR1:.4f}; Weighted R = {R2:.4f} +/- {dR2:.4f}\""
   ]
  },
  {
   "cell_type": "code",
   "execution_count": null,
   "id": "massive-black",
   "metadata": {
    "collapsed": false,
    "jupyter": {
     "outputs_hidden": false
    },
    "pycharm": {
     "name": "#%%\n"
    }
   },
   "outputs": [],
   "source": [
    "cl3.getTemDen(1.44, tem=12000, wave1=5518, wave2=5538)"
   ]
  },
  {
   "cell_type": "code",
   "execution_count": null,
   "id": "stainless-retirement",
   "metadata": {
    "collapsed": false,
    "jupyter": {
     "outputs_hidden": false
    },
    "pycharm": {
     "name": "#%%\n"
    }
   },
   "outputs": [],
   "source": [
    "e5518 = cl3.getEmissivity(tem=12000, den=[1, 10, 100, 1000], wave=5518)\n",
    "e5538 = cl3.getEmissivity(tem=12000, den=[1, 10, 100, 1000], wave=5538)\n",
    "e5518 / e5538"
   ]
  },
  {
   "cell_type": "code",
   "execution_count": null,
   "id": "royal-landing",
   "metadata": {
    "collapsed": false,
    "jupyter": {
     "outputs_hidden": false
    },
    "pycharm": {
     "name": "#%%\n"
    }
   },
   "outputs": [],
   "source": [
    "e5518 = cl3.getEmissivity(tem=15000, den=[1, 10, 100, 1000], wave=5518)\n",
    "e5538 = cl3.getEmissivity(tem=15000, den=[1, 10, 100, 1000], wave=5538)\n",
    "e5518 / e5538"
   ]
  },
  {
   "cell_type": "code",
   "execution_count": null,
   "id": "mexican-landscape",
   "metadata": {
    "collapsed": false,
    "jupyter": {
     "outputs_hidden": false
    },
    "pycharm": {
     "name": "#%%\n"
    }
   },
   "outputs": [],
   "source": [
    "e5518 = cl3.getEmissivity(tem=8000, den=[1, 10, 100, 1000], wave=5518)\n",
    "e5538 = cl3.getEmissivity(tem=8000, den=[1, 10, 100, 1000], wave=5538)\n",
    "e5518 / e5538"
   ]
  },
  {
   "cell_type": "markdown",
   "id": "partial-might",
   "metadata": {
    "collapsed": false,
    "jupyter": {
     "outputs_hidden": false
    },
    "pycharm": {
     "name": "#%% md\n"
    }
   },
   "source": [
    "Check the 2 sigma lower limit"
   ]
  },
  {
   "cell_type": "code",
   "execution_count": null,
   "id": "protected-interpretation",
   "metadata": {
    "collapsed": false,
    "jupyter": {
     "outputs_hidden": false
    },
    "pycharm": {
     "name": "#%%\n"
    }
   },
   "outputs": [],
   "source": [
    "cl3.getTemDen(R2 - 5 * dR2, tem=15000, wave1=5518, wave2=5538)"
   ]
  },
  {
   "cell_type": "code",
   "execution_count": null,
   "id": "continental-photographer",
   "metadata": {
    "collapsed": false,
    "jupyter": {
     "outputs_hidden": false
    },
    "pycharm": {
     "name": "#%%\n"
    }
   },
   "outputs": [],
   "source": [
    "cl3.getTemDen(R2 - 5 * dR2, tem=1000, wave1=5518, wave2=5538)"
   ]
  },
  {
   "cell_type": "code",
   "execution_count": null,
   "id": "2f496208-aa69-499a-9d85-02ce27783a8c",
   "metadata": {},
   "outputs": [],
   "source": []
  }
 ],
 "metadata": {
  "jupytext": {
   "encoding": "# -*- coding: utf-8 -*-",
   "formats": "ipynb,py:light,md"
  },
  "kernelspec": {
   "display_name": "Python 3 (ipykernel)",
   "language": "python",
   "name": "python3"
  },
  "language_info": {
   "codemirror_mode": {
    "name": "ipython",
    "version": 3
   },
   "file_extension": ".py",
   "mimetype": "text/x-python",
   "name": "python",
   "nbconvert_exporter": "python",
   "pygments_lexer": "ipython3",
   "version": "3.14.0"
  }
 },
 "nbformat": 4,
 "nbformat_minor": 5
}
