{
 "cells": [
  {
   "cell_type": "markdown",
   "id": "56ad6954",
   "metadata": {
    "pycharm": {
     "name": "#%% md\n"
    }
   },
   "source": [
    "# Further line analysis from saved moment images\n",
    "\n",
    "The previous notebook has grown too long, so I am starting a new one.  What I plan to do here is:\n",
    "\n",
    "1. [X] [Cl III] density ratio. *Conclusion:* [Cl III] is useless\n",
    "2. [X] [S II] density - this is the best\n",
    "3. [X] He II analysis – ionizing luminosity and density\n",
    "    *This has a mistake at the moment, which I need to track down* Now fixed in Org file\n",
    "4. [X] [Ar IV] and [Ar III] ionization balance\n",
    "2. [ ] Maybe tetrablok binning and make figure\n",
    "3. [X] Profile cuts across the bow shock\n",
    "4. [ ] Analysis of average line velocities\n"
   ]
  },
  {
   "cell_type": "code",
   "execution_count": null,
   "id": "f3183277",
   "metadata": {
    "pycharm": {
     "name": "#%%\n"
    }
   },
   "outputs": [],
   "source": [
    "from pathlib import Path\n",
    "import numpy as np\n",
    "from matplotlib import pyplot as plt\n",
    "import seaborn as sns\n",
    "from mpdaf.obj import Image\n",
    "import regions\n",
    "import pandas as pd\n",
    "import cmasher as cmr\n",
    "import pyneb as pn\n",
    "\n",
    "sns.set_context(\"talk\")\n",
    "sns.set_color_codes()"
   ]
  },
  {
   "cell_type": "code",
   "execution_count": null,
   "id": "2ce9ba53",
   "metadata": {
    "pycharm": {
     "name": "#%%\n"
    }
   },
   "outputs": [],
   "source": [
    "from pathlib import Path\n",
    "import numpy as np\n",
    "from matplotlib import pyplot as plt\n",
    "import seaborn as sns\n",
    "from mpdaf.obj import Image\n",
    "import regions\n",
    "import sys\n",
    "import pandas as pd\n",
    "import cmasher as cmr\n",
    "import pyneb as pn\n",
    "\n",
    "sns.set_context(\"talk\")\n",
    "sns.set_color_codes()"
   ]
  },
  {
   "cell_type": "code",
   "execution_count": null,
   "id": "34d7e8d9",
   "metadata": {
    "pycharm": {
     "name": "#%%\n"
    }
   },
   "outputs": [],
   "source": [
    "def trim_edges(im, m):\n",
    "    \"\"\"Trim m pixels of each edge of image in place by setting mask\"\"\"\n",
    "    im.mask[:m, :] = True\n",
    "    im.mask[-m:, :] = True\n",
    "    im.mask[:, :m] = True\n",
    "    im.mask[:, -m:] = True\n",
    "    return None"
   ]
  },
  {
   "cell_type": "code",
   "execution_count": null,
   "id": "f7c4de18",
   "metadata": {
    "pycharm": {
     "name": "#%%\n"
    }
   },
   "outputs": [],
   "source": [
    "datadir = Path.cwd().parent.parent / \"data\""
   ]
  },
  {
   "cell_type": "code",
   "execution_count": null,
   "id": "63e8e5db",
   "metadata": {
    "pycharm": {
     "name": "#%%\n"
    }
   },
   "outputs": [],
   "source": [
    "im6716 = Image(str(datadir / \"ngc346-sii-6716-bin01-sum\".fits))\n",
    "im6731 = Image(str(datadir / \"ngc346-sii-6731-bin01-sum\".fits))\n",
    "imha = Image(str(datadir / \"ngc346-hi-6563-bin01-sum\".fits))\n",
    "imcont = Image(str(datadir / \"ngc346-cont-6312-mean\".fits))\n",
    "imha"
   ]
  },
  {
   "cell_type": "code",
   "execution_count": null,
   "id": "0c6b5a53",
   "metadata": {
    "pycharm": {
     "name": "#%%\n"
    }
   },
   "outputs": [],
   "source": [
    "s2 = pn.Atom(\"S\", 2)\n",
    "e6716 = s2.getEmissivity(tem=13000, den=[3, 10, 30, 100, 300, 1000], wave=6716)\n",
    "e6731 = s2.getEmissivity(tem=13000, den=[3, 10, 30, 100, 300, 1000], wave=6731)\n",
    "Rgrid = e6716 / e6731\n",
    "Rgrid"
   ]
  },
  {
   "cell_type": "code",
   "execution_count": null,
   "id": "b68c6c43",
   "metadata": {
    "pycharm": {
     "name": "#%%\n"
    }
   },
   "outputs": [],
   "source": [
    "m = imcont.data > 5e3\n",
    "im6716.mask = im6716.mask | m\n",
    "im6731.mask = im6731.mask | m\n",
    "trim_edges(im6716, 10)\n",
    "trim_edges(im6731, 10)\n",
    "trim_edges(imcont, 10)"
   ]
  },
  {
   "cell_type": "code",
   "execution_count": null,
   "id": "6c2effc5",
   "metadata": {
    "pycharm": {
     "name": "#%%\n"
    }
   },
   "outputs": [],
   "source": [
    "n = 1\n",
    "fig, axes = plt.subplots(2, 2, figsize=(12, 12))\n",
    "im6716.rebin(n).plot(vmin=-10, vmax=12000, ax=axes[0, 0], colorbar=\"v\")\n",
    "im6731.rebin(n).plot(vmin=-10, vmax=12000, ax=axes[0, 1], colorbar=\"v\")\n",
    "imcont.rebin(n).plot(vmin=0, vmax=1e4, ax=axes[1, 0], colorbar=\"v\")\n",
    "(im6716.rebin(n) / im6731.rebin(n)).plot(\n",
    "    ax=axes[1, 1],\n",
    "    vmin=0.0,\n",
    "    vmax=2.0,\n",
    "    cmap=\"gray\",\n",
    "    colorbar=\"v\",\n",
    ")\n",
    "fig.tight_layout()"
   ]
  },
  {
   "cell_type": "code",
   "execution_count": null,
   "id": "5482ca89",
   "metadata": {
    "pycharm": {
     "name": "#%%\n"
    }
   },
   "outputs": [],
   "source": [
    "n = 1\n",
    "\n",
    "imx = im6731.rebin(n)\n",
    "imy = (im6716 / 1.44).rebin(n)\n",
    "\n",
    "imin, imax = -10, 30000\n",
    "m = (imx.data < imax) & (imy.data < imax)\n",
    "m = m & (imx.data > imin) & (imy.data > imin)\n",
    "m = m & (imy.data / imx.data > 0.5) & (imy.data / imx.data < 1.5)\n",
    "m = m & ~imx.mask & ~imy.mask\n",
    "df = pd.DataFrame(\n",
    "    {\n",
    "        \"6731\": imx.data[m],\n",
    "        \"6716\": imy.data[m],\n",
    "        \"6716 / 6731\": imy.data[m] / imx.data[m],\n",
    "    }\n",
    ")\n",
    "g = sns.pairplot(\n",
    "    df,\n",
    "    kind=\"hist\",\n",
    "    height=4,\n",
    "    corner=True,\n",
    ")\n",
    "g.axes[1, 0].axvline(0.0, color=\"r\")\n",
    "g.axes[1, 0].axhline(0.0, color=\"r\")\n",
    "g.axes[1, 0].plot([imin, imax], [imin, imax], \"--\", color=\"r\")\n",
    "g.axes[1, 0].plot([imin, imax], [imin, imax], \"--\", color=\"r\")\n",
    "g.fig.suptitle(\"Correlation between [S II] 6731 and 6716 brightness\")"
   ]
  },
  {
   "cell_type": "code",
   "execution_count": null,
   "id": "4866e9e3",
   "metadata": {
    "pycharm": {
     "name": "#%%\n"
    }
   },
   "outputs": [],
   "source": [
    "n = 1\n",
    "imx = imha.rebin(n)\n",
    "imy = im6716.rebin(n) / im6731.rebin(n)\n",
    "\n",
    "m = (imy.data > 0.8) & (imy.data < 1.6)\n",
    "m = m & (imx.data < 1.5e6)\n",
    "m = m & ~imx.mask & ~imy.mask\n",
    "df = pd.DataFrame(\n",
    "    {\n",
    "        \"6563\": np.log10(imx.data[m]),\n",
    "        \"6716 / 6731\": np.log10(imy.data[m]),\n",
    "    }\n",
    ")\n",
    "g = sns.pairplot(\n",
    "    df,\n",
    "    kind=\"hist\",\n",
    "    height=4,\n",
    "    corner=True,\n",
    "    plot_kws=dict(\n",
    "        weights=imx.data[m],\n",
    "        bins=150,\n",
    "    ),\n",
    "    diag_kws=dict(\n",
    "        weights=imx.data[m],\n",
    "        bins=150,\n",
    "    ),\n",
    ")\n",
    "for R in Rgrid:\n",
    "    g.axes[1, 0].axhline(np.log10(R), color=\"r\")\n",
    "g.fig.suptitle(\"Correlation between [S II] 6716 / 6731 sum and Ha brightness\")"
   ]
  },
  {
   "cell_type": "code",
   "execution_count": null,
   "id": "1560b5d4",
   "metadata": {
    "pycharm": {
     "name": "#%%\n"
    }
   },
   "outputs": [],
   "source": [
    "n = 1\n",
    "imx = imha.rebin(n)\n",
    "imy = im6716.rebin(n) / im6731.rebin(n)\n",
    "\n",
    "m = (imy.data > 0.8) & (imy.data < 1.6)\n",
    "m = m & (imx.data < 1.5e6)\n",
    "m = m & ~imx.mask & ~imy.mask\n",
    "df = pd.DataFrame(\n",
    "    {\n",
    "        \"6563\": np.log10(imx.data[m]),\n",
    "        \"6716 / 6731\": np.log10(imy.data[m]),\n",
    "    }\n",
    ")\n",
    "g = sns.pairplot(\n",
    "    df,\n",
    "    kind=\"hist\",\n",
    "    height=4,\n",
    "    corner=True,\n",
    "    plot_kws=dict(\n",
    "        weights=imx.data[m],\n",
    "        bins=150,\n",
    "    ),\n",
    "    diag_kws=dict(\n",
    "        weights=imx.data[m],\n",
    "        bins=150,\n",
    "    ),\n",
    ")\n",
    "for R in Rgrid:\n",
    "    g.axes[1, 0].axhline(np.log10(R), color=\"r\")\n",
    "g.fig.suptitle(\"Correlation between [S II] 6716 / 6731 sum and Ha brightness\")"
   ]
  },
  {
   "cell_type": "code",
   "execution_count": null,
   "id": "49ba2e38",
   "metadata": {
    "pycharm": {
     "name": "#%%\n"
    }
   },
   "outputs": [],
   "source": [
    "xslice, yslice = slice(230, 300), slice(144, 245)\n",
    "\n",
    "n = 1\n",
    "\n",
    "imx = imha[yslice, xslice].rebin(n)\n",
    "imy = im6716[yslice, xslice].rebin(n) / im6731[yslice, xslice].rebin(n)\n",
    "\n",
    "m = (imy.data > 1.1) & (imy.data < 2)\n",
    "m = m & (imx.data < 1e6)\n",
    "m = m & ~imx.mask & ~imy.mask\n",
    "df = pd.DataFrame(\n",
    "    {\n",
    "        \"6563\": np.log10(imx.data[m]),\n",
    "        \"6716 / 6731\": np.log10(imy.data[m]),\n",
    "    }\n",
    ")\n",
    "g = sns.pairplot(\n",
    "    df,\n",
    "    kind=\"hist\",\n",
    "    height=4,\n",
    "    corner=True,\n",
    "    plot_kws=dict(\n",
    "        weights=imx.data[m],\n",
    "        bins=100,\n",
    "    ),\n",
    "    diag_kws=dict(\n",
    "        weights=imx.data[m],\n",
    "        bins=100,\n",
    "    ),\n",
    ")\n",
    "g.axes[1, 1].axvline(np.log10(Rgrid[0]), color=\"r\")\n",
    "for R in Rgrid[:-1]:\n",
    "    g.axes[1, 0].axhline(np.log10(R), color=\"r\")\n",
    "\n",
    "g.fig.suptitle(\"Correlation between [S II] 6716 / 6731 ratio and Ha brightness\")"
   ]
  },
  {
   "cell_type": "code",
   "execution_count": null,
   "id": "f3110f98",
   "metadata": {
    "pycharm": {
     "name": "#%%\n"
    }
   },
   "outputs": [],
   "source": [
    "xslice, yslice = slice(230, 300), slice(144, 245)\n",
    "\n",
    "n = 1\n",
    "\n",
    "imx = imha[yslice, xslice].rebin(n)\n",
    "imy = im6716[yslice, xslice].rebin(n) / im6731[yslice, xslice].rebin(n)\n",
    "\n",
    "m = (imy.data > 1.1) & (imy.data < 2)\n",
    "m = m & (imx.data < 80000)\n",
    "m = m & ~imx.mask & ~imy.mask\n",
    "df = pd.DataFrame(\n",
    "    {\n",
    "        \"6563\": imx.data[m],\n",
    "        \"6716 / 6731\": imy.data[m],\n",
    "    }\n",
    ")\n",
    "g = sns.pairplot(\n",
    "    df,\n",
    "    kind=\"hist\",\n",
    "    height=4,\n",
    "    corner=True,\n",
    "    plot_kws=dict(\n",
    "        weights=imx.data[m],\n",
    "        bins=100,\n",
    "    ),\n",
    "    diag_kws=dict(\n",
    "        weights=imx.data[m],\n",
    "        bins=100,\n",
    "    ),\n",
    ")\n",
    "g.axes[1, 1].axvline(Rgrid[0], color=\"r\")\n",
    "for R in Rgrid[:-1]:\n",
    "    g.axes[1, 0].axhline(R, color=\"r\")\n",
    "\n",
    "g.fig.suptitle(\"Correlation between [S II] 6716 / 6731 ratio and Ha brightness\")"
   ]
  },
  {
   "cell_type": "markdown",
   "id": "231de4bc",
   "metadata": {
    "pycharm": {
     "name": "#%% md\n"
    }
   },
   "source": [
    "So, in the bow shock region, we see ratios as low as 1.3 in the brightest parts, but these are globule surfaces.  The bulk of the emission has around 1.4"
   ]
  },
  {
   "cell_type": "code",
   "execution_count": null,
   "id": "87b4308b",
   "metadata": {
    "pycharm": {
     "name": "#%%\n"
    }
   },
   "outputs": [],
   "source": [
    "s2.getTemDen([1.4, 1.3, 0.8], tem=12000, wave1=6716, wave2=6731)"
   ]
  },
  {
   "cell_type": "markdown",
   "id": "fe755c37",
   "metadata": {
    "pycharm": {
     "name": "#%% md\n"
    }
   },
   "source": [
    "So the density is about 50 +/- 30 pcc in the diffuse gas.  We get ten times higher density in the case of Source E, which has a ratio as low as 0.8"
   ]
  },
  {
   "cell_type": "markdown",
   "id": "476e484b",
   "metadata": {
    "pycharm": {
     "name": "#%% md\n"
    }
   },
   "source": [
    "### Make a map of [S II] density"
   ]
  },
  {
   "cell_type": "code",
   "execution_count": null,
   "id": "76bd4b32",
   "metadata": {
    "pycharm": {
     "name": "#%%\n"
    },
    "tags": []
   },
   "outputs": [],
   "source": [
    "r_s2_grid = np.linspace(0.5, 1.44, 1001)\n",
    "n_s2_grid = s2.getTemDen(r_s2_grid, tem=12000.0, wave1=6716, wave2=6731)"
   ]
  },
  {
   "cell_type": "code",
   "execution_count": null,
   "id": "51d8f113",
   "metadata": {
    "pycharm": {
     "name": "#%%\n"
    }
   },
   "outputs": [],
   "source": [
    "n_s2_grid"
   ]
  },
  {
   "cell_type": "code",
   "execution_count": null,
   "id": "f133b24f",
   "metadata": {
    "pycharm": {
     "name": "#%%\n"
    }
   },
   "outputs": [],
   "source": [
    "iew6716 = imcont / (1.25 * im6716)"
   ]
  },
  {
   "cell_type": "code",
   "execution_count": null,
   "id": "589685f7",
   "metadata": {
    "pycharm": {
     "name": "#%%\n"
    }
   },
   "outputs": [],
   "source": [
    "fig, ax = plt.subplots(figsize=(10, 10))\n",
    "iew6716.plot(colorbar=\"v\", cmap=\"gray_r\", scale=\"linear\", vmin=-1.0, vmax=10.0)"
   ]
  },
  {
   "cell_type": "code",
   "execution_count": null,
   "id": "67791710",
   "metadata": {
    "pycharm": {
     "name": "#%%\n"
    }
   },
   "outputs": [],
   "source": [
    "fixmask = im6716.mask | (iew6716.data > 10.0) | (iew6716.data < -0.2)\n",
    "fixmask[90:97, 147:152] = True\n",
    "fixmask[79:86, 191:197] = True\n",
    "\n",
    "\n",
    "im_n_sii = im6716.clone(data_init=np.empty)\n",
    "im_n_sii.mask = fixmask\n",
    "trim_edges(im_n_sii, 10)\n",
    "im_n_sii.data[~fixmask] = np.interp(\n",
    "    im6716.data[~fixmask] / im6731.data[~fixmask],\n",
    "    r_s2_grid,\n",
    "    n_s2_grid,\n",
    "    left=np.nan,\n",
    "    right=np.nan,\n",
    ")\n",
    "im_n_sii.mask = im_n_sii.mask | ~np.isfinite(im_n_sii.data)"
   ]
  },
  {
   "cell_type": "code",
   "execution_count": null,
   "id": "578096ad",
   "metadata": {
    "jupyter": {
     "source_hidden": true
    },
    "pycharm": {
     "name": "#%%\n"
    },
    "tags": []
   },
   "outputs": [],
   "source": [
    "fig, ax = plt.subplots(figsize=(12, 12))\n",
    "im_n_sii.rebin(2).plot(colorbar=\"v\", cmap=\"gray_r\", scale=\"sqrt\", vmin=0.0, vmax=3000.0)"
   ]
  },
  {
   "cell_type": "markdown",
   "id": "8d427d27",
   "metadata": {
    "pycharm": {
     "name": "#%% md\n"
    }
   },
   "source": [
    "This seems to be good enough in some of the diffuse regions. although it is way to noisy in the faint parts."
   ]
  },
  {
   "cell_type": "code",
   "execution_count": null,
   "id": "3039035b",
   "metadata": {
    "pycharm": {
     "name": "#%%\n"
    }
   },
   "outputs": [],
   "source": [
    "im_n_sii.write(str(datadir) + \"/ngc346-N-sii.fits\", savemask=\"nan\")"
   ]
  },
  {
   "cell_type": "code",
   "execution_count": null,
   "id": "8f65810f",
   "metadata": {
    "pycharm": {
     "name": "#%%\n"
    }
   },
   "outputs": [],
   "source": [
    "im_T_siii = Image(str(datadir / \"ngc346-T-siii\".fits))\n",
    "imhb = Image(str(datadir / \"ngc346-hi-4861-correct\".fits))"
   ]
  },
  {
   "cell_type": "code",
   "execution_count": null,
   "id": "1ad379b5",
   "metadata": {
    "pycharm": {
     "name": "#%%\n"
    }
   },
   "outputs": [],
   "source": [
    "im_T_siii = Image(\"../data/ngc346-T-siii.fits\")\n",
    "imhb = Image(\"../data/ngc346-hi-4861-correct.fits\")"
   ]
  },
  {
   "cell_type": "code",
   "execution_count": null,
   "id": "0f81b9fb",
   "metadata": {
    "lines_to_next_cell": 0,
    "pycharm": {
     "name": "#%%\n"
    }
   },
   "outputs": [],
   "source": [
    "n = 16\n",
    "imx = im_T_siii.rebin(n)\n",
    "imy = im_n_sii.rebin(n)\n",
    "imz = imhb.rebin(n)\n",
    "\n",
    "m = ~imx.mask & ~imy.mask\n",
    "m = m & (imx.data > 5000) & (imx.data < 20000)\n",
    "m = m & (imy.data > 0) & (imy.data < 300)\n",
    "df = pd.DataFrame(\n",
    "    {\n",
    "        \"T([S III])\": imx.data[m],\n",
    "        \"n([S II])\": imy.data[m],\n",
    "    }\n",
    ")\n",
    "g = sns.pairplot(\n",
    "    df,\n",
    "    kind=\"hist\",\n",
    "    height=4,\n",
    "    corner=True,\n",
    "    plot_kws=dict(\n",
    "        weights=imz.data[m],\n",
    "        bins=50,\n",
    "    ),\n",
    "    diag_kws=dict(\n",
    "        weights=imz.data[m],\n",
    "        bins=50,\n",
    "    ),\n",
    ")\n",
    "g.fig.suptitle(\"Temperature vs Density\")"
   ]
  },
  {
   "cell_type": "markdown",
   "id": "99801fcf",
   "metadata": {
    "pycharm": {
     "name": "#%% md\n"
    }
   },
   "source": [
    "## He II emission measure"
   ]
  },
  {
   "cell_type": "code",
   "execution_count": null,
   "id": "da63b7fd",
   "metadata": {
    "lines_to_next_cell": 2,
    "pycharm": {
     "name": "#%%\n"
    }
   },
   "outputs": [],
   "source": [
    "he2 = pn.RecAtom(\"He\", 2)\n",
    "he1 = pn.RecAtom(\"He\", 1)\n",
    "h1 = pn.RecAtom(\"H\", 1)"
   ]
  },
  {
   "cell_type": "code",
   "execution_count": null,
   "id": "ca64cf28",
   "metadata": {
    "pycharm": {
     "name": "#%%\n"
    }
   },
   "outputs": [],
   "source": [
    "e4686 = he2.getEmissivity(tem=[12500, 15500], den=100, wave=4686)\n",
    "e4861 = h1.getEmissivity(tem=[12500, 15500], den=1, wave=4861)\n",
    "e5875 = he1.getEmissivity(tem=[12500, 15500], den=1, wave=5876)\n",
    "e4686, e4861, e5875"
   ]
  },
  {
   "cell_type": "markdown",
   "id": "e123aee3",
   "metadata": {
    "pycharm": {
     "name": "#%% md\n"
    }
   },
   "source": [
    "From the other notebook, we measure 5875 / 4861 = 0.108 +/- 0.001\n",
    "\n",
    "Whereas the ratio of emissivities is"
   ]
  },
  {
   "cell_type": "code",
   "execution_count": null,
   "id": "13d41e1f",
   "metadata": {
    "pycharm": {
     "name": "#%%\n"
    }
   },
   "outputs": [],
   "source": [
    "e5875 / e4861"
   ]
  },
  {
   "cell_type": "markdown",
   "id": "4841dff4",
   "metadata": {
    "pycharm": {
     "name": "#%% md\n"
    }
   },
   "source": [
    "This implies a He abundance of"
   ]
  },
  {
   "cell_type": "code",
   "execution_count": null,
   "id": "d3de623c",
   "metadata": {
    "pycharm": {
     "name": "#%%\n"
    }
   },
   "outputs": [],
   "source": [
    "np.array([0.107, 0.108, 0.109])[None, :] / (e5875 / e4861)[:, None]"
   ]
  },
  {
   "cell_type": "markdown",
   "id": "9254bc56",
   "metadata": {
    "pycharm": {
     "name": "#%% md\n"
    }
   },
   "source": [
    "From Table 5 of Valerdi+ (2019), they have a He+ abundance of 10.915 or 10.917, with error of +/- 0.004 , so:"
   ]
  },
  {
   "cell_type": "code",
   "execution_count": null,
   "id": "c488d49e",
   "metadata": {
    "pycharm": {
     "name": "#%%\n"
    }
   },
   "outputs": [],
   "source": [
    "10 ** (np.array([10.915, 10.917]) - 12.0)"
   ]
  },
  {
   "cell_type": "markdown",
   "id": "683f998d",
   "metadata": {
    "pycharm": {
     "name": "#%% md\n"
    }
   },
   "source": [
    "They find a small He++ abundance of"
   ]
  },
  {
   "cell_type": "code",
   "execution_count": null,
   "id": "e8778ab2",
   "metadata": {
    "pycharm": {
     "name": "#%%\n"
    }
   },
   "outputs": [],
   "source": [
    "f\"He++/H+ = {10**(8.30 - 12.0):.3e}; He++/He+ = {10**(8.30 - 10.915):.3e}\""
   ]
  },
  {
   "cell_type": "markdown",
   "id": "9a520eeb",
   "metadata": {
    "pycharm": {
     "name": "#%% md\n"
    }
   },
   "source": [
    "In the bow shock I measure 4686 / 4861 = 0.015 or so, which would be 1.5 on a scale of Hβ = 100.  Mabel's Table 2 gives 0.24, which is 6 times less. This is consistent with the general value we find away from the bow's inner edge.\n",
    "\n",
    "So, I can work out my own He++/H+ abundance:"
   ]
  },
  {
   "cell_type": "markdown",
   "id": "06f26a07",
   "metadata": {
    "pycharm": {
     "name": "#%% md\n"
    }
   },
   "source": []
  },
  {
   "cell_type": "code",
   "execution_count": null,
   "id": "b500a8b2",
   "metadata": {
    "pycharm": {
     "name": "#%%\n"
    }
   },
   "outputs": [],
   "source": [
    "y_heiii_hii = 0.015 / (e4686 / e4861)\n",
    "y_heiii_heii = y_heiii_hii / 0.08167471\n",
    "f\"Bow shock He++/H+ = {np.round(y_heiii_hii, 4)}; He++/He+ = {np.round(y_heiii_heii, 4)}\""
   ]
  },
  {
   "cell_type": "markdown",
   "id": "8d6e33ce",
   "metadata": {
    "pycharm": {
     "name": "#%% md\n"
    }
   },
   "source": [
    "In other words, the He++ emission measure, $\\int n(\\mathrm{He^{++}})\\, n_\\mathrm{e}\\, dz$, is ony 2.5% of the total $\\int n(\\mathrm{He^{+}})\\, n_\\mathrm{e}\\, dz$.\n",
    "\n",
    "*This is totally consistent, with the observed small change in 5875/4861, which is also about 2%*\n",
    "\n",
    "**TODO**\n",
    "\n",
    "- [ ] By assuming a path length, we can derive a density\n",
    "- [ ] We can do the same with [Ar IV] and [Ar III]\n",
    "- [ ] Ask Mabel to look at her slit A to see if she sees the He II and [Ar IV] signatures of the bow shock.  Also, maybe measure [O III] temperature to see if it goes up"
   ]
  },
  {
   "cell_type": "markdown",
   "id": "75a7f002",
   "metadata": {
    "pycharm": {
     "name": "#%% md\n"
    }
   },
   "source": [
    "### Conversion to a density\n",
    "\n",
    "We want the surface brightness of He++ in physical units.\n",
    "\n",
    "MUSE flux units are $10^{-20}\\ \\mathrm{erg\\ s^{-1}\\ cm^{-2}\\ Å^{-1}\\ pix^{-1}}$ in the cube, but we have summed over wavelength pixels, which are 1.4 Å.  The spatial pixels are 0.2 arcsec."
   ]
  },
  {
   "cell_type": "code",
   "execution_count": null,
   "id": "e745e430",
   "metadata": {
    "pycharm": {
     "name": "#%%\n"
    }
   },
   "outputs": [],
   "source": [
    "import astropy.units as u"
   ]
  },
  {
   "cell_type": "code",
   "execution_count": null,
   "id": "cea6a530",
   "metadata": {
    "pycharm": {
     "name": "#%%\n"
    }
   },
   "outputs": [],
   "source": [
    "muse_bright_unit = 1e-20 * 1.4 * u.erg / u.s / u.cm ** 2 / (0.2 * u.arcsec) ** 2"
   ]
  },
  {
   "cell_type": "code",
   "execution_count": null,
   "id": "a5c458e0",
   "metadata": {
    "pycharm": {
     "name": "#%%\n"
    }
   },
   "outputs": [],
   "source": [
    "im4686 = Image(str(datadir / \"ngc346-heii-4686-correct\".fits))\n",
    "im5875 = Image(str(datadir / \"ngc346-hei-5875-correct\".fits))\n",
    "imhb = Image(str(datadir / \"ngc346-hi-4861-correct\".fits))\n",
    "imariv = Image(str(datadir / \"ngc346-ariv-4711-plus-4740-correct\".fits))\n",
    "imariii = Image(str(datadir / \"ngc346-ariii-7136-correct\".fits))\n",
    "imoiii = Image(str(datadir / \"ngc346-oiii-5007-bin01-sum\".fits))"
   ]
  },
  {
   "cell_type": "code",
   "execution_count": null,
   "id": "ea0730f2",
   "metadata": {
    "pycharm": {
     "name": "#%%\n"
    }
   },
   "outputs": [],
   "source": [
    "im4686 = Image(\"../data/ngc346-heii-4686-correct.fits\")\n",
    "im5875 = Image(\"../data/ngc346-hei-5875-correct.fits\")\n",
    "imhb = Image(\"../data/ngc346-hi-4861-correct.fits\")\n",
    "imariv = Image(\"../data/ngc346-ariv-4711-plus-4740-correct.fits\")\n",
    "imariii = Image(\"../data/ngc346-ariii-7136-correct.fits\")\n",
    "imoiii = Image(\"../data/ngc346-oiii-5007-bin01-sum.fits\")"
   ]
  },
  {
   "cell_type": "code",
   "execution_count": null,
   "id": "d8524b1b",
   "metadata": {
    "pycharm": {
     "name": "#%%\n"
    }
   },
   "outputs": [],
   "source": [
    "fig, ax = plt.subplots(figsize=(10, 10))\n",
    "(im4686 / imhb)[yslice, xslice].plot(vmin=0.0, vmax=0.016, colorbar=\"v\")"
   ]
  },
  {
   "cell_type": "code",
   "execution_count": null,
   "id": "7d47f118",
   "metadata": {
    "pycharm": {
     "name": "#%%\n"
    }
   },
   "outputs": [],
   "source": [
    "yslice"
   ]
  },
  {
   "cell_type": "code",
   "execution_count": null,
   "id": "db4c805e",
   "metadata": {
    "pycharm": {
     "name": "#%%\n"
    }
   },
   "outputs": [],
   "source": [
    "xxslice = slice(None, None)\n",
    "# yyslice = slice(164, 204) # original\n",
    "# yyslice = slice(160, 210) # broader\n",
    "# yyslice = slice(170, 200) # narrower\n",
    "yyslice = slice(180, 200)  # top half ultra narrow\n",
    "\n",
    "\n",
    "def make_profile(im):\n",
    "    # return np.make(im[yyslice, xxslice].data, axis=0)\n",
    "    return np.mean(im[yyslice, xxslice].data, axis=0)\n",
    "\n",
    "\n",
    "heii_profile = make_profile(im4686)\n",
    "hei_profile = make_profile(im5875)\n",
    "hb_profile = make_profile(imhb)\n",
    "ariv_profile = make_profile(imariv)\n",
    "ariii_profile = make_profile(imariii)\n",
    "oiii_profile = make_profile(imoiii)"
   ]
  },
  {
   "cell_type": "code",
   "execution_count": null,
   "id": "202283d9",
   "metadata": {
    "pycharm": {
     "name": "#%%\n"
    }
   },
   "outputs": [],
   "source": [
    "fig, ax = plt.subplots(figsize=(15, 6))\n",
    "ix0 = 227.5\n",
    "nx = len(heii_profile)\n",
    "pos = (np.arange(nx) - ix0) * 0.2\n",
    "\n",
    "ax.plot(pos, heii_profile, label=\"He II\", lw=4)\n",
    "ax.plot(pos, 1.00 * ariv_profile, label=\"[Ar IV]\", lw=3)\n",
    "fac = 3 * 0.0022\n",
    "ax.plot(pos, fac * oiii_profile, label=f\"[O III] / {1/fac:.1f}\", lw=2.0)\n",
    "fac = 3 * 0.145\n",
    "ax.plot(pos, fac * ariii_profile, label=f\"[Ar III] / {1/fac:.1f}\", lw=1.5)\n",
    "fac = 3 * 0.100\n",
    "ax.plot(pos, fac * hei_profile, label=f\"He I / {1/fac:.1f}\", lw=1.0)\n",
    "fac = 3 * 0.0105\n",
    "ax.plot(pos, fac * hb_profile, label=f\"Hβ / {1/fac:.1f}\", lw=0.5)\n",
    "\n",
    "\n",
    "ax.axhline(0, color=\"k\")\n",
    "\n",
    "ax.axvline(0, color=\"k\", lw=1, ls=\"dashed\")\n",
    "ax.axvspan(2.0, 9.0, 0.4, 0.8, color=\"k\", alpha=0.1, linewidth=0, zorder=-100)\n",
    "ax.legend(ncol=3, loc=\"upper left\")\n",
    "\n",
    "ax.set(\n",
    "    xlabel=\"Offset west from W 3, arcsec\",\n",
    "    ylabel=\"Surface brightness\",\n",
    "    xlim=[-12, 22],\n",
    "    ylim=[-199, 1400],\n",
    ")\n",
    "sns.despine()\n",
    "fig.savefig(\"../figs/ngc346-bow-shock-brightness-cuts.pdf\")"
   ]
  },
  {
   "cell_type": "markdown",
   "id": "39f3f20c",
   "metadata": {
    "pycharm": {
     "name": "#%% md\n"
    }
   },
   "source": [
    "From the profile graph above, the peak He II brightness is about 400 MUSE brightness units"
   ]
  },
  {
   "cell_type": "code",
   "execution_count": null,
   "id": "86c49bc6",
   "metadata": {
    "pycharm": {
     "name": "#%%\n"
    }
   },
   "outputs": [],
   "source": [
    "peak_heii = muse_bright_unit * 400\n",
    "peak_heii"
   ]
  },
  {
   "cell_type": "markdown",
   "id": "df055eac",
   "metadata": {
    "pycharm": {
     "name": "#%% md\n"
    }
   },
   "source": [
    "From the image, the chord length through the bow is about 60 pixels.  We can assume that the line-of-sight depth is similar:"
   ]
  },
  {
   "cell_type": "code",
   "execution_count": null,
   "id": "f4909397",
   "metadata": {
    "pycharm": {
     "name": "#%%\n"
    }
   },
   "outputs": [],
   "source": [
    "depth_heii = 60 * 0.2 * 61700 * u.au\n",
    "depth_heii.to(u.pc)"
   ]
  },
  {
   "cell_type": "markdown",
   "id": "34590ac8",
   "metadata": {
    "pycharm": {
     "name": "#%% md\n"
    }
   },
   "source": [
    "Surface brightness assuming optically thin emission with isotropic line emissivity, $e(\\lambda)$, is given by\n",
    "$$\n",
    "I(\\lambda) = \\int \\frac{e(\\lambda)\\, n_e\\, n_i}{4 \\pi} \\, dz\n",
    "$$\n",
    "where $e(\\lambda)$ is in the units given by pyneb: `u.erg * u.cm**3 / u.s` and $n_e$, $n_i$ are the electron and ion densities.\n",
    "\n",
    "Assume neutral fractions of He and H are negligible and hydrogen number density is $n$.  If the He abundance is $y = n(\\mathrm{He}) / n(\\mathrm{H})$ and the He++ ion fraction is $x_{++}$, then we have:\n",
    "$$\n",
    "n(\\mathrm{He^{++}}) = y\\, x_{++}\\, n \\quad \\text{and} \\quad n_e = [1 + y\\, (1 + x_{++})]\\, n\n",
    "$$\n",
    "implying that\n",
    "$$\n",
    "n(\\mathrm{He^{++}}) \\, n_e = n_e^2 \\, \\frac{y\\, x_{++}}{1 + y\\, (1 + x_{++})}\n",
    "\\approx n_e^2 \\, \\frac{y}{1 + 2 y}\n",
    "$$\n",
    "\n",
    "So, with homogeneous conditions, we have\n",
    "$$\n",
    "I(4686) = \\frac{e(4686)}{4\\pi}\\, \\frac{y\\, x_{++}}}{1 + (1 + x_{++}) y} \\, n_e^2 \\, \\delta z\n",
    "$$\n",
    "which can be solved for density to yield\n",
    "$$\n",
    "n_e = \\left[\n",
    "\\frac{4\\pi\\, I(4686)}{\\delta z\\, e(4686)} \\, \\frac{1 + (1 + x_{++}) y}{x_{++}\\,y}\n",
    "\\right]^{1/2}\n",
    "$$"
   ]
  },
  {
   "cell_type": "markdown",
   "id": "7a86ba5f",
   "metadata": {
    "pycharm": {
     "name": "#%% md\n"
    }
   },
   "source": [
    "We can take the helium abundance from above and get ..."
   ]
  },
  {
   "cell_type": "code",
   "execution_count": null,
   "id": "549bc6e7",
   "metadata": {
    "pycharm": {
     "name": "#%%\n"
    }
   },
   "outputs": [],
   "source": [
    "pn_e_units = u.erg * u.cm ** 3 / u.s\n",
    "yHe = 0.0824\n",
    "ne = np.sqrt(\n",
    "    4\n",
    "    * np.pi\n",
    "    * u.sr\n",
    "    * peak_heii\n",
    "    / (depth_heii.cgs * e4686 * pn_e_units)\n",
    "    * (1 + 2 * yHe)\n",
    "    / yHe\n",
    ")\n",
    "ne"
   ]
  },
  {
   "cell_type": "markdown",
   "id": "83b9099a",
   "metadata": {
    "pycharm": {
     "name": "#%% md\n"
    }
   },
   "source": [
    "**So electron density of 11 pcc!**\n",
    "\n",
    "Note, however that this assumes that the helium is 100% doubly ionized in the 4686 emitting region. If it is only partially ionized, then this is alower limit (density would scale approximately as $x_{++}^{-1/2}$)."
   ]
  },
  {
   "cell_type": "markdown",
   "id": "473f816a",
   "metadata": {
    "pycharm": {
     "name": "#%% md\n"
    }
   },
   "source": [
    "#### Find the He II flux and the He++ ionizing luminosity\n",
    "\n"
   ]
  },
  {
   "cell_type": "code",
   "execution_count": null,
   "id": "4a61ee63",
   "metadata": {
    "pycharm": {
     "name": "#%%\n"
    }
   },
   "outputs": [],
   "source": [
    "im4686[160:210, 235:255].plot(vmin=0, vmax=400)"
   ]
  },
  {
   "cell_type": "code",
   "execution_count": null,
   "id": "e689ae60",
   "metadata": {
    "pycharm": {
     "name": "#%%\n"
    }
   },
   "outputs": [],
   "source": [
    "muse_flux_unit = 1e-20 * 1.4 * u.erg / u.s / u.cm ** 2"
   ]
  },
  {
   "cell_type": "code",
   "execution_count": null,
   "id": "34f88a59",
   "metadata": {
    "pycharm": {
     "name": "#%%\n"
    }
   },
   "outputs": [],
   "source": [
    "cutout = im4686[160:210, 235:255]\n",
    "m = (cutout.data > 0.0) & ~cutout.mask\n",
    "F_heii = muse_flux_unit * np.sum(cutout.data[m])\n",
    "F_heii"
   ]
  },
  {
   "cell_type": "code",
   "execution_count": null,
   "id": "68398a15",
   "metadata": {
    "pycharm": {
     "name": "#%%\n"
    }
   },
   "outputs": [],
   "source": [
    "D_lmc = 61700 * u.pc"
   ]
  },
  {
   "cell_type": "code",
   "execution_count": null,
   "id": "02ee23db",
   "metadata": {
    "pycharm": {
     "name": "#%%\n"
    }
   },
   "outputs": [],
   "source": [
    "L_heii = 4 * np.pi * D_lmc.cgs ** 2 * F_heii\n",
    "L_heii"
   ]
  },
  {
   "cell_type": "code",
   "execution_count": null,
   "id": "583d6ea8",
   "metadata": {
    "pycharm": {
     "name": "#%%\n"
    }
   },
   "outputs": [],
   "source": [
    "L_heii.to(u.solLum)"
   ]
  },
  {
   "cell_type": "markdown",
   "id": "a1c40dbc",
   "metadata": {
    "pycharm": {
     "name": "#%% md\n"
    }
   },
   "source": [
    "Effective recomb rate:"
   ]
  },
  {
   "cell_type": "code",
   "execution_count": null,
   "id": "457d4ea0",
   "metadata": {
    "pycharm": {
     "name": "#%%\n"
    }
   },
   "outputs": [],
   "source": [
    "import astropy.constants as constants"
   ]
  },
  {
   "cell_type": "code",
   "execution_count": null,
   "id": "6c25b286",
   "metadata": {
    "pycharm": {
     "name": "#%%\n"
    }
   },
   "outputs": [],
   "source": [
    "hnu4686 = (constants.h * constants.c / (4686 * u.Angstrom)).cgs\n",
    "hnu4686"
   ]
  },
  {
   "cell_type": "code",
   "execution_count": null,
   "id": "135a3257",
   "metadata": {
    "pycharm": {
     "name": "#%%\n"
    }
   },
   "outputs": [],
   "source": [
    "alpha_eff_4686 = e4686 * pn_e_units / hnu4686\n",
    "alpha_eff_4686"
   ]
  },
  {
   "cell_type": "code",
   "execution_count": null,
   "id": "f4c4f672",
   "metadata": {
    "pycharm": {
     "name": "#%%\n"
    }
   },
   "outputs": [],
   "source": [
    "pn.atomicData.getAllAvailableFiles(\"He2\")"
   ]
  },
  {
   "cell_type": "markdown",
   "id": "70b2d9ed",
   "metadata": {
    "pycharm": {
     "name": "#%% md\n"
    }
   },
   "source": [
    "It only works as follows:"
   ]
  },
  {
   "cell_type": "code",
   "execution_count": null,
   "id": "69af975c",
   "metadata": {
    "pycharm": {
     "name": "#%%\n"
    }
   },
   "outputs": [],
   "source": [
    "pn.atomicData.setDataFile(\"he_ii_trc_SH95-caseB.dat\")\n",
    "alphaB_He_plus = pn.RecAtom(\"He\", 2).getTotRecombination(tem=[1.25e4, 1.55e4], den=100)\n",
    "alphaB_He_plus *= u.cm ** 3 / u.s\n",
    "alphaB_He_plus"
   ]
  },
  {
   "cell_type": "markdown",
   "id": "42dfd03f",
   "metadata": {
    "pycharm": {
     "name": "#%% md\n"
    }
   },
   "source": [
    "Solid angle: assume a +/- 75 degree end cap."
   ]
  },
  {
   "cell_type": "code",
   "execution_count": null,
   "id": "69111969",
   "metadata": {
    "pycharm": {
     "name": "#%%\n"
    }
   },
   "outputs": [],
   "source": [
    "Omega_over_4pi = (1 - np.cos(75 * u.deg)) / 2\n",
    "Omega_over_4pi"
   ]
  },
  {
   "cell_type": "markdown",
   "id": "25425ef2",
   "metadata": {
    "pycharm": {
     "name": "#%% md\n"
    }
   },
   "source": [
    "$$\n",
    "Q \\frac{\\Omega}{4\\pi} = \\int_{\\mathcal{V}} n_e \\, n_i \\, \\alpha_B\\, d\\mathcal{V}\n",
    "$$\n",
    "and\n",
    "$$\n",
    "L(4686) = \\int_{\\mathcal{V}} n_e \\, n_i \\, e(4686)\\, d\\mathcal{V}\n",
    "$$\n",
    "so that\n",
    "$$\n",
    "Q = \\frac{\\alpha_B \\, L(4686)} {e(4686)\\, (\\Omega/4\\pi)}\n",
    "$$"
   ]
  },
  {
   "cell_type": "code",
   "execution_count": null,
   "id": "89d3970b",
   "metadata": {
    "pycharm": {
     "name": "#%%\n"
    }
   },
   "outputs": [],
   "source": [
    "Q2 = alphaB_He_plus * L_heii / (e4686 * pn_e_units) / Omega_over_4pi\n",
    "Q2"
   ]
  },
  {
   "cell_type": "markdown",
   "id": "1b361237-378d-491b-b858-b81ad843042b",
   "metadata": {
    "pycharm": {
     "name": "#%% md\n"
    }
   },
   "source": [
    "## Also do profiles of low ionization lines"
   ]
  },
  {
   "cell_type": "code",
   "execution_count": null,
   "id": "ca7b41fd-5b2c-4f28-a275-c5bcf83adc9d",
   "metadata": {
    "pycharm": {
     "name": "#%%\n"
    }
   },
   "outputs": [],
   "source": [
    "im6300 = Image(str(datadir / \"ngc346-oi-6300-bin01-sum\".fits))\n",
    "im5518 = Image(str(datadir / \"ngc346-cliii-5518-bin01-sum\".fits))\n",
    "im5538 = Image(str(datadir / \"ngc346-cliii-5538-bin01-sum\".fits))\n",
    "im9069 = Image(str(datadir / \"ngc346-siii-9069-bin01-sum\".fits))"
   ]
  },
  {
   "cell_type": "code",
   "execution_count": null,
   "id": "665f58bf-64b9-40a4-8234-34c1cff6edc9",
   "metadata": {
    "pycharm": {
     "name": "#%%\n"
    }
   },
   "outputs": [],
   "source": [
    "im6300 = Image(\"../data/ngc346-oi-6300-bin01-sum.fits\")\n",
    "im5518 = Image(\"../data/ngc346-cliii-5518-bin01-sum.fits\")\n",
    "im5538 = Image(\"../data/ngc346-cliii-5538-bin01-sum.fits\")\n",
    "im9069 = Image(\"../data/ngc346-siii-9069-bin01-sum.fits\")"
   ]
  },
  {
   "cell_type": "code",
   "execution_count": null,
   "id": "79c0bcb9-70d4-444e-9164-ab842eebbdc9",
   "metadata": {
    "lines_to_next_cell": 2,
    "pycharm": {
     "name": "#%%\n"
    }
   },
   "outputs": [],
   "source": [
    "oi_profile = make_profile(im6300)\n",
    "cliiis_profile = make_profile(im5518)\n",
    "cliiil_profile = make_profile(im5538)\n",
    "siis_profile = make_profile(im6716)\n",
    "siil_profile = make_profile(im6731)\n",
    "siii_profile = make_profile(im9069)\n",
    "\n",
    "sii_profile = 0.5 * (siis_profile + siil_profile)\n",
    "cliii_profile = 0.5 * (cliiis_profile + cliiil_profile)"
   ]
  },
  {
   "cell_type": "code",
   "execution_count": null,
   "id": "c920682a-9e08-4fa5-be8d-869fd7311fdc",
   "metadata": {
    "lines_to_next_cell": 0,
    "pycharm": {
     "name": "#%%\n"
    }
   },
   "outputs": [],
   "source": [
    "fig, ax = plt.subplots(figsize=(15, 6))\n",
    "ix0 = 227.5\n",
    "nx = len(oi_profile)\n",
    "pos = (np.arange(nx) - ix0) * 0.2\n",
    "\n",
    "ax.plot(pos, 1.0 * oi_profile / np.median(oi_profile), label=\"[O I] brightness\", lw=3)\n",
    "ax.plot(\n",
    "    pos, 1.0 * sii_profile / np.median(sii_profile), label=\"[S II] brightness\", lw=3\n",
    ")\n",
    "ax.plot(\n",
    "    pos,\n",
    "    1.7 * cliii_profile / np.median(cliii_profile),\n",
    "    label=\"[Cl III] brightness\",\n",
    "    lw=3,\n",
    ")\n",
    "ax.plot(\n",
    "    pos, 1.7 * siii_profile / np.median(siii_profile), label=\"[S III] brightness\", lw=3\n",
    ")\n",
    "\n",
    "\n",
    "ax.axhline(0, color=\"k\")\n",
    "\n",
    "ax.axvline(0, color=\"k\", lw=1, ls=\"dashed\")\n",
    "ax.axvspan(2.0, 9.0, 0.4, 0.8, color=\"k\", alpha=0.1, linewidth=0, zorder=-100)\n",
    "ax.legend(ncol=2, loc=\"upper left\")\n",
    "\n",
    "ax.set(\n",
    "    xlabel=\"Offset west from W 3, arcsec\",\n",
    "    xlim=[-12, 22],\n",
    "    ylim=[0, 3.9],\n",
    ")\n",
    "sns.despine()\n",
    "fig.savefig(\"../figs/ngc346-bow-shock-lowion-cuts.pdf\")"
   ]
  },
  {
   "cell_type": "code",
   "execution_count": null,
   "id": "af9fee50-4caf-444b-af45-3078a38bb56e",
   "metadata": {
    "lines_to_next_cell": 2,
    "pycharm": {
     "name": "#%%\n"
    }
   },
   "outputs": [],
   "source": []
  },
  {
   "cell_type": "markdown",
   "id": "585a85d4",
   "metadata": {
    "pycharm": {
     "name": "#%% md\n"
    }
   },
   "source": [
    "## Ar ionization balance\n",
    "\n",
    "We will calculate the conditions at the very peak of the [Ar IV] emission.\n",
    "\n",
    "We need a very careful slection of the background (BG) and bow shock (BS) samples, since we want to make sure we are in the little triangle window where the intermediate ionization lines are not too contaminated by globule i-fronts and unrelated filaments."
   ]
  },
  {
   "cell_type": "code",
   "execution_count": null,
   "id": "07f493c5",
   "metadata": {
    "pycharm": {
     "name": "#%%\n"
    }
   },
   "outputs": [],
   "source": [
    "i0, j0, w, h = 234, 200, 12, 8\n",
    "bgbox = regions.BoundingBox(\n",
    "    iymin=j0 - h // 2,\n",
    "    iymax=j0 + h // 2,\n",
    "    ixmin=i0 - w // 2,\n",
    "    ixmax=i0 + w // 2,\n",
    ")\n",
    "i0, j0, w, h = 250, 193, 8, 8\n",
    "bsbox = regions.BoundingBox(\n",
    "    iymin=j0 - h // 2,\n",
    "    iymax=j0 + h // 2,\n",
    "    ixmin=i0 - w // 2,\n",
    "    ixmax=i0 + w // 2,\n",
    ")"
   ]
  },
  {
   "cell_type": "code",
   "execution_count": null,
   "id": "38b6207a",
   "metadata": {
    "pycharm": {
     "name": "#%%\n"
    }
   },
   "outputs": [],
   "source": [
    "fig, axes = plt.subplots(1, 3, figsize=(12, 5), sharey=True)\n",
    "imariv.plot(ax=axes[0], vmin=0, vmax=700, colorbar=\"v\")\n",
    "imariii.plot(ax=axes[1], vmin=0, vmax=2500, colorbar=\"v\")\n",
    "(imariv / imariii).plot(ax=axes[2], vmin=0, vmax=0.45, cmap=\"magma_r\", colorbar=\"v\")\n",
    "for ax in axes:\n",
    "    bsbox.plot(ax=ax, color=\"w\")\n",
    "    bgbox.plot(ax=ax, color=\"w\")\n",
    "    ax.set(\n",
    "        xlim=[200, 300],\n",
    "        ylim=[100, 250],\n",
    "    )\n",
    "fig.tight_layout()"
   ]
  },
  {
   "cell_type": "code",
   "execution_count": null,
   "id": "d82d60d1",
   "metadata": {
    "pycharm": {
     "name": "#%%\n"
    }
   },
   "outputs": [],
   "source": [
    "bs_ariv = imariv[bsbox.slices].data.mean()\n",
    "bg_ariv = imariv[bgbox.slices].data.mean()\n",
    "sbs_ariv = imariv[bsbox.slices].data.std()\n",
    "sbg_ariv = imariv[bgbox.slices].data.std()\n",
    "\n",
    "bs_ariii = imariii[bsbox.slices].data.mean()\n",
    "bg_ariii = imariii[bgbox.slices].data.mean()\n",
    "sbs_ariii = imariii[bsbox.slices].data.std()\n",
    "sbg_ariii = imariii[bgbox.slices].data.std()"
   ]
  },
  {
   "cell_type": "code",
   "execution_count": null,
   "id": "945d9328",
   "metadata": {
    "pycharm": {
     "name": "#%%\n"
    }
   },
   "outputs": [],
   "source": [
    "f\"[Ar IV]: BS = {bs_ariv:.2f} +/- {sbs_ariv:.2f}, BG = {bg_ariv:.2f} +/- {sbg_ariv:.2f}\""
   ]
  },
  {
   "cell_type": "code",
   "execution_count": null,
   "id": "9c441877",
   "metadata": {
    "pycharm": {
     "name": "#%%\n"
    }
   },
   "outputs": [],
   "source": [
    "f\"[Ar III]: BS = {bs_ariii:.2f} +/- {sbs_ariii:.2f}, BG = {bg_ariii:.2f} +/- {sbg_ariii:.2f}\""
   ]
  },
  {
   "cell_type": "code",
   "execution_count": null,
   "id": "87de216a",
   "metadata": {
    "pycharm": {
     "name": "#%%\n"
    }
   },
   "outputs": [],
   "source": [
    "BS_ariv = bs_ariv - bg_ariv\n",
    "sBS_ariv = np.hypot(sbs_ariv, sbg_ariv)\n",
    "\n",
    "BS_ariii = bs_ariii - bg_ariii\n",
    "sBS_ariii = np.hypot(sbs_ariii, sbg_ariii)\n",
    "\n",
    "BS_ar_iv_iii = BS_ariv / BS_ariii\n",
    "sBS_ar_iv_iii = BS_ar_iv_iii * np.hypot(sBS_ariii / BS_ariii, sBS_ariv / BS_ariv)\n",
    "\n",
    "f\"BG-subtracted BS: [Ar IV] / [Ar III] = {BS_ar_iv_iii:.3f} +/- {sBS_ar_iv_iii:.3f}\""
   ]
  },
  {
   "cell_type": "code",
   "execution_count": null,
   "id": "bf72f57c",
   "metadata": {
    "pycharm": {
     "name": "#%%\n"
    }
   },
   "outputs": [],
   "source": [
    "ar4 = pn.Atom(\"Ar\", 4)\n",
    "ar3 = pn.Atom(\"Ar\", 3)"
   ]
  },
  {
   "cell_type": "markdown",
   "id": "9e949678-1ae6-4618-b8ef-c6d066e975f6",
   "metadata": {
    "pycharm": {
     "name": "#%% md\n"
    }
   },
   "source": [
    "First T is for BG nebula. Second and third are lower and upper limits for bow shock.  See analysis of [Ar IV] temperature in `10-01` notebook"
   ]
  },
  {
   "cell_type": "code",
   "execution_count": null,
   "id": "b2507230",
   "metadata": {
    "pycharm": {
     "name": "#%%\n"
    }
   },
   "outputs": [],
   "source": [
    "Ts = [12500, 14000, 16000]\n",
    "e4711 = ar4.getEmissivity(tem=Ts, den=10.0, wave=4711)\n",
    "e4740 = ar4.getEmissivity(tem=Ts, den=10.0, wave=4740)\n",
    "e7136 = ar3.getEmissivity(tem=Ts, den=10.0, wave=7136)"
   ]
  },
  {
   "cell_type": "code",
   "execution_count": null,
   "id": "b9d32e34",
   "metadata": {
    "pycharm": {
     "name": "#%%\n"
    }
   },
   "outputs": [],
   "source": [
    "e4711 + e4740"
   ]
  },
  {
   "cell_type": "code",
   "execution_count": null,
   "id": "ba884a52",
   "metadata": {
    "pycharm": {
     "name": "#%%\n"
    }
   },
   "outputs": [],
   "source": [
    "e7136"
   ]
  },
  {
   "cell_type": "markdown",
   "id": "e91b9870",
   "metadata": {
    "pycharm": {
     "name": "#%% md\n"
    }
   },
   "source": [
    "So the emissivity is very similar, strangely.\n",
    "\n",
    "Anyway, we should have:\n",
    "$$\n",
    "\\frac {n(\\mathrm{Ar^{3+}})} {n(\\mathrm{Ar^{2+}})}\n",
    "=\n",
    "\\frac{I(4711 + 4740)}{I(7136)}\n",
    "\\, \\frac{e(7136)}{e(4711 + 4740)}\n",
    "$$"
   ]
  },
  {
   "cell_type": "code",
   "execution_count": null,
   "id": "3a2ab4ac",
   "metadata": {
    "pycharm": {
     "name": "#%%\n"
    }
   },
   "outputs": [],
   "source": [
    "e7136 / (e4711 + e4740)"
   ]
  },
  {
   "cell_type": "markdown",
   "id": "07ef1646",
   "metadata": {
    "pycharm": {
     "name": "#%% md\n"
    }
   },
   "source": [
    "So the T uncertainty of +/- 1000 K would give +/- 10% uncertainty in the emissivity ratio. For the time being we take the middle value:"
   ]
  },
  {
   "cell_type": "code",
   "execution_count": null,
   "id": "eab260e8",
   "metadata": {
    "pycharm": {
     "name": "#%%\n"
    }
   },
   "outputs": [],
   "source": [
    "Ar3p_over_Ar2p = BS_ar_iv_iii * (e7136 / (e4711 + e4740))[1]\n",
    "Ar3p_over_Ar2p"
   ]
  },
  {
   "cell_type": "markdown",
   "id": "4ea00540",
   "metadata": {
    "pycharm": {
     "name": "#%% md\n"
    }
   },
   "source": [
    "Or, close enough to unity.  So, at the inner edge of the bow shock we have 50% Ar++ and 50% Ar+++. We can use this to constrain the stellar spectrum if we run some Cloudy models\n",
    "\n",
    "Now do the same, but for the BG nebula"
   ]
  },
  {
   "cell_type": "code",
   "execution_count": null,
   "id": "51a0bb67-674d-4c91-8032-525cc4db995a",
   "metadata": {
    "pycharm": {
     "name": "#%%\n"
    }
   },
   "outputs": [],
   "source": [
    "Ar3p_over_Ar2p_BG = (bg_ariv / bg_ariii) * (e7136 / (e4711 + e4740))[0]\n",
    "Ar3p_over_Ar2p_BG"
   ]
  },
  {
   "cell_type": "markdown",
   "id": "33563de4-8987-4be6-8469-f9cc4f095111",
   "metadata": {
    "pycharm": {
     "name": "#%% md\n"
    }
   },
   "source": [
    "So this implies 20% Ar+++ in the BG region.\n",
    "\n",
    "However, these are both still integrals along the line of sight, so the actual variation in ionization might be larger.\n",
    "\n",
    "For instance, the Ar+++ fraction might be higher than 50% at the inner edge.  We could do a LOS integration on the Cloudy emissivities to investigate this.\n",
    "\n",
    "Likewise, the Ar+++ fraction in the BG might be lower than 0.2 since that could be due to contamination by the bow shock wing emission."
   ]
  },
  {
   "cell_type": "markdown",
   "id": "9426316c",
   "metadata": {
    "pycharm": {
     "name": "#%% md\n"
    }
   },
   "source": [
    "## Can we get a He I density?"
   ]
  },
  {
   "cell_type": "code",
   "execution_count": null,
   "id": "cbc68ee8",
   "metadata": {
    "pycharm": {
     "name": "#%%\n"
    }
   },
   "outputs": [],
   "source": [
    "dgrid = [1.0, 10.0, 100.0, 1000.0]\n",
    "T0 = [11000, 13000, 18000]\n",
    "he1.getEmissivity(tem=T0, den=dgrid, wave=5876) / he1.getEmissivity(\n",
    "    tem=T0, den=dgrid, wave=6678\n",
    ")"
   ]
  },
  {
   "cell_type": "code",
   "execution_count": null,
   "id": "8322313d-c480-4b5b-a921-f1cefd297b1c",
   "metadata": {
    "pycharm": {
     "name": "#%%\n"
    }
   },
   "outputs": [],
   "source": [
    "he1.getEmissivity(tem=T0, den=dgrid, wave=4922) / he1.getEmissivity(\n",
    "    tem=T0, den=dgrid, wave=5876\n",
    ")"
   ]
  },
  {
   "cell_type": "code",
   "execution_count": null,
   "id": "220ce58d-4ee9-4487-92c2-f0f9860eb8f6",
   "metadata": {
    "pycharm": {
     "name": "#%%\n"
    }
   },
   "outputs": [],
   "source": [
    "he1.getEmissivity(tem=T0, den=dgrid, wave=5048) / he1.getEmissivity(\n",
    "    tem=T0, den=dgrid, wave=5876\n",
    ")"
   ]
  },
  {
   "cell_type": "code",
   "execution_count": null,
   "id": "7f37a15b-7240-4ad9-8f24-06174b2b484c",
   "metadata": {
    "pycharm": {
     "name": "#%%\n"
    }
   },
   "outputs": [],
   "source": [
    "im5048 = Image(str(datadir / \"ngc346-hei-5048-bin01-sum\".fits))\n",
    "im5876 = Image(str(datadir / \"ngc346-hei-5875-bin01-sum\".fits))"
   ]
  },
  {
   "cell_type": "code",
   "execution_count": null,
   "id": "9f1de2da-f075-4823-ace6-294b637af43f",
   "metadata": {
    "pycharm": {
     "name": "#%%\n"
    }
   },
   "outputs": [],
   "source": [
    "im5048 = Image(\"../data/ngc346-hei-5048-bin01-sum.fits\")\n",
    "im5876 = Image(\"../data/ngc346-hei-5875-bin01-sum.fits\")"
   ]
  },
  {
   "cell_type": "code",
   "execution_count": null,
   "id": "3215a7f7-fdd6-43fa-b6fe-4d5494e213c6",
   "metadata": {
    "pycharm": {
     "name": "#%%\n"
    }
   },
   "outputs": [],
   "source": [
    "n = 1\n",
    "fig, axes = plt.subplots(2, 2, figsize=(12, 12))\n",
    "im5048.rebin(n).plot(vmin=-10, vmax=60, ax=axes[0, 0], colorbar=\"v\")\n",
    "im5876.rebin(n).plot(vmin=-10, vmax=3000, ax=axes[0, 1], colorbar=\"v\")\n",
    "imcont.rebin(n).plot(vmin=0, vmax=1e4, ax=axes[1, 0], colorbar=\"v\")\n",
    "(im5048.rebin(n) / im5876.rebin(n)).plot(\n",
    "    ax=axes[1, 1],\n",
    "    vmin=0.0,\n",
    "    vmax=0.03,\n",
    "    cmap=\"magma\",\n",
    "    colorbar=\"v\",\n",
    ")\n",
    "for ax in axes.flat:\n",
    "    bsbox.plot(ax=ax, color=\"w\")\n",
    "    bgbox.plot(ax=ax, color=\"w\")\n",
    "    ax.set(\n",
    "        xlim=[200, 300],\n",
    "        ylim=[100, 250],\n",
    "    )\n",
    "fig.tight_layout()"
   ]
  },
  {
   "cell_type": "code",
   "execution_count": null,
   "id": "92b06f10-0989-4ab1-9850-1a3700f21918",
   "metadata": {
    "pycharm": {
     "name": "#%%\n"
    }
   },
   "outputs": [],
   "source": [
    "yyslice = slice(164, 204)  # original\n",
    "# yyslice = slice(160, 210) # broader\n",
    "# yyslice = slice(170, 200) # narrower\n",
    "# yyslice = slice(180, 200) # top half ultra narrow\n",
    "hei_5048_profile = make_profile(im5048)\n",
    "hei_5876_profile = make_profile(im5876)"
   ]
  },
  {
   "cell_type": "code",
   "execution_count": null,
   "id": "7ff839a2-256f-42d2-9f2d-564a65759b06",
   "metadata": {
    "pycharm": {
     "name": "#%%\n"
    }
   },
   "outputs": [],
   "source": [
    "fig, ax = plt.subplots(figsize=(15, 6))\n",
    "ix0 = 227.5\n",
    "nx = len(hei_profile)\n",
    "pos = (np.arange(nx) - ix0) * 0.2\n",
    "\n",
    "ax.plot(pos, 0.01 * hei_5876_profile / np.median(hei_5876_profile), label=\"He I\", lw=4)\n",
    "ax.plot(pos, hei_5048_profile / hei_5876_profile, label=\"5048 / 5875\", lw=3)\n",
    "\n",
    "ax.axhline(0, color=\"k\")\n",
    "\n",
    "ax.axvline(0, color=\"k\", lw=1, ls=\"dashed\")\n",
    "ax.axvspan(2.0, 9.0, 0.4, 0.8, color=\"k\", alpha=0.1, linewidth=0, zorder=-100)\n",
    "ax.legend(ncol=3, loc=\"upper left\")\n",
    "\n",
    "ax.set(\n",
    "    xlabel=\"Offset west from W 3, arcsec\",\n",
    "    ylabel=\"Surface brightness\",\n",
    "    xlim=[-12, 22],\n",
    "    ylim=[0, 0.03],\n",
    ")\n",
    "sns.despine()"
   ]
  },
  {
   "cell_type": "code",
   "execution_count": null,
   "id": "bdae7693-dae9-4384-83a9-80af8d3ea67e",
   "metadata": {
    "pycharm": {
     "name": "#%%\n"
    }
   },
   "outputs": [],
   "source": [
    "bs_5048 = im5048[bsbox.slices].data.mean()\n",
    "bs_5876 = im5876[bsbox.slices].data.mean()\n",
    "bs_5048 / bs_5876"
   ]
  },
  {
   "cell_type": "code",
   "execution_count": null,
   "id": "bcc547c0-ed77-4ac6-bf69-f416b89e4ac5",
   "metadata": {
    "pycharm": {
     "name": "#%%\n"
    }
   },
   "outputs": [],
   "source": [
    "bg_5048 = im5048[bgbox.slices].data.mean()\n",
    "bg_5876 = im5876[bgbox.slices].data.mean()\n",
    "bg_5048 / bg_5876"
   ]
  },
  {
   "cell_type": "markdown",
   "id": "7bef0fce-7cc3-48a1-9f24-58357d1d7766",
   "metadata": {
    "pycharm": {
     "name": "#%% md\n"
    }
   },
   "source": [
    "These are all way lower than the theoretical values for reasonable temperatures.  Maybe the 5048 line is affected by underlying stellar absorption."
   ]
  },
  {
   "cell_type": "code",
   "execution_count": null,
   "id": "3c4cc37c-d33e-47de-86b2-3e790296505a",
   "metadata": {
    "pycharm": {
     "name": "#%%\n"
    }
   },
   "outputs": [],
   "source": [
    "# yyslice = slice(164, 204) # original\n",
    "# yyslice = slice(160, 210) # broader\n",
    "# yyslice = slice(170, 200) # narrower\n",
    "yyslice = slice(180, 200)  # top half ultra narrow\n",
    "n_sii_profile = make_profile(im_n_sii)\n",
    "T_siii_profile = make_profile(im_T_siii)\n",
    "sii_profile = make_profile(im6731)\n",
    "im9069 = Image(str(datadir / \"ngc346-siii-9069-bin01-sum\".fits))\n",
    "siii_profile = make_profile(im9069)"
   ]
  },
  {
   "cell_type": "code",
   "execution_count": null,
   "id": "6413a96b-8ac5-4c31-9436-dfc70214969d",
   "metadata": {
    "pycharm": {
     "name": "#%%\n"
    }
   },
   "outputs": [],
   "source": [
    "# yyslice = slice(164, 204) # original\n",
    "# yyslice = slice(160, 210) # broader\n",
    "# yyslice = slice(170, 200) # narrower\n",
    "yyslice = slice(180, 200)  # top half ultra narrow\n",
    "n_sii_profile = make_profile(im_n_sii)\n",
    "T_siii_profile = make_profile(im_T_siii)\n",
    "sii_profile = make_profile(im6731)\n",
    "im9069 = Image(\"../data/ngc346-siii-9069-bin01-sum.fits\")\n",
    "siii_profile = make_profile(im9069)"
   ]
  },
  {
   "cell_type": "code",
   "execution_count": null,
   "id": "811dafae-2745-4ea6-906c-d8295500f5d6",
   "metadata": {
    "pycharm": {
     "name": "#%%\n"
    }
   },
   "outputs": [],
   "source": [
    "fig, ax = plt.subplots(figsize=(15, 6))\n",
    "ix0 = 227.5\n",
    "nx = len(hei_profile)\n",
    "pos = (np.arange(nx) - ix0) * 0.2\n",
    "\n",
    "ax.plot(\n",
    "    pos, 0.01 * n_sii_profile, ds=\"steps-mid\", label=\"$n$([S II]) / 100 cm$^{-3}$\", lw=2\n",
    ")\n",
    "ax.plot(\n",
    "    pos, 0.0001 * T_siii_profile, ds=\"steps-mid\", label=\"$T$([S III]) / 10,000 K\", lw=2\n",
    ")\n",
    "ax.plot(\n",
    "    pos, 1.0 * sii_profile / np.median(sii_profile), label=\"[S II] brightness\", lw=3\n",
    ")\n",
    "ax.plot(\n",
    "    pos, 1.8 * siii_profile / np.median(siii_profile), label=\"[S III] brightness\", lw=3\n",
    ")\n",
    "\n",
    "ax.axhline(0, color=\"k\")\n",
    "\n",
    "ax.axvline(0, color=\"k\", lw=1, ls=\"dashed\")\n",
    "ax.axvspan(2.0, 9.0, 0.4, 0.8, color=\"k\", alpha=0.1, linewidth=0, zorder=-100)\n",
    "ax.legend(ncol=2, loc=\"upper left\")\n",
    "\n",
    "ax.set(\n",
    "    xlabel=\"Offset west from W 3, arcsec\",\n",
    "    xlim=[-12, 22],\n",
    "    ylim=[0, 3.45],\n",
    ")\n",
    "sns.despine()\n",
    "fig.savefig(\"../figs/ngc346-bow-shock-sii-siii-ne-te.pdf\")"
   ]
  },
  {
   "cell_type": "markdown",
   "id": "1ee2fd89-9863-4f5f-8e49-27134577ce12",
   "metadata": {
    "pycharm": {
     "name": "#%% md\n"
    },
    "tags": [
     "temperature"
    ]
   },
   "source": [
    "So the [S III] temperature is significantly larger than the [O III] temperature from the nebula. It is around 14000 K and has a drop towards W 3 coming from the east side, and then a step and a very constant region.  But the step occurs before the bow shock, so is probably unrelated."
   ]
  },
  {
   "cell_type": "code",
   "execution_count": null,
   "id": "f3fe1f27-8451-4b24-8a11-3e5f3e27c0be",
   "metadata": {
    "pycharm": {
     "name": "#%%\n"
    }
   },
   "outputs": [],
   "source": [
    "fig, ax = plt.subplots(figsize=(15, 6))\n",
    "ix0 = 227.5\n",
    "nx = len(hei_profile)\n",
    "pos = (np.arange(nx) - ix0) * 0.2\n",
    "\n",
    "ax.plot(pos, 0.01 * n_sii_profile, label=\"$n$([S II]) / 100 cm$^{-3}$\", lw=4)\n",
    "ax.plot(pos, 0.0001 * T_siii_profile, label=\"$T$([S III]) / 10,000 K\", lw=3)\n",
    "ax.plot(pos, 1.0 * sii_profile / siii_profile, label=\"[S II] / [S III]\", lw=3)\n",
    "ax.plot(pos, 4.0 * oi_profile / sii_profile, label=\"[O I] / [S II]\", lw=3)\n",
    "\n",
    "\n",
    "ax.axhline(0, color=\"k\")\n",
    "\n",
    "ax.axvline(0, color=\"k\", lw=1, ls=\"dashed\")\n",
    "ax.axvspan(2.0, 9.0, 0.4, 0.8, color=\"k\", alpha=0.1, linewidth=0, zorder=-100)\n",
    "ax.legend(ncol=2, loc=\"upper left\")\n",
    "\n",
    "ax.set(\n",
    "    xlabel=\"Offset west from W 3, arcsec\",\n",
    "    xlim=[-12, 22],\n",
    "    ylim=[0, 2.1],\n",
    ")\n",
    "sns.despine()\n",
    "fig.savefig(\"../figs/ngc346-bow-shock-sii-siii-ratio-ne-te.pdf\")"
   ]
  },
  {
   "cell_type": "code",
   "execution_count": null,
   "id": "20e1315f-b9ae-4b50-8b91-557b8b4064e5",
   "metadata": {
    "pycharm": {
     "name": "#%%\n"
    }
   },
   "outputs": [],
   "source": [
    "imhei_c = Image(str(datadir / \"ngc346-hei-5875-correct\".fits))\n",
    "imhi_c = Image(str(datadir / \"ngc346-hi-4861-correct\".fits))\n",
    "imheii_c = Image(str(datadir / \"ngc346-heii-4686-correct\".fits))"
   ]
  },
  {
   "cell_type": "code",
   "execution_count": null,
   "id": "d1595886-8617-4637-a599-e6d1b83eaa33",
   "metadata": {
    "pycharm": {
     "name": "#%%\n"
    }
   },
   "outputs": [],
   "source": [
    "imhei_c = Image(\"../data/ngc346-hei-5875-correct.fits\")\n",
    "imhi_c = Image(\"../data/ngc346-hi-4861-correct.fits\")\n",
    "imheii_c = Image(\"../data/ngc346-heii-4686-correct.fits\")"
   ]
  },
  {
   "cell_type": "code",
   "execution_count": null,
   "id": "aa197f24-f3b8-45b6-825f-d26b0ac9d285",
   "metadata": {
    "pycharm": {
     "name": "#%%\n"
    }
   },
   "outputs": [],
   "source": [
    "m = imcont.data > 500.0\n",
    "for im in imhei_c, imheii_c, imhi_c:\n",
    "    im.mask = im.mask | m"
   ]
  },
  {
   "cell_type": "code",
   "execution_count": null,
   "id": "eeb98509-8af0-4c06-bd9a-311f1ec609df",
   "metadata": {
    "pycharm": {
     "name": "#%%\n"
    }
   },
   "outputs": [],
   "source": [
    "# yyslice = slice(164, 204) # original\n",
    "yyslice = slice(160, 210)  # broader\n",
    "# yyslice = slice(170, 200) # narrower\n",
    "# yyslice = slice(180, 200) # top half ultra narrow\n",
    "hei_c_profile = make_profile(imhei_c)\n",
    "hi_c_profile = make_profile(imhi_c)\n",
    "heii_c_profile = make_profile(imheii_c)"
   ]
  },
  {
   "cell_type": "code",
   "execution_count": null,
   "id": "73c1e011-244c-460e-8e72-5bafeceebe0f",
   "metadata": {
    "pycharm": {
     "name": "#%%\n"
    }
   },
   "outputs": [],
   "source": [
    "fig, ax = plt.subplots(figsize=(15, 6))\n",
    "ix0 = 227.5\n",
    "nx = len(hei_profile)\n",
    "pos = (np.arange(nx) - ix0) * 0.2\n",
    "\n",
    "ax.plot(\n",
    "    pos,\n",
    "    heii_c_profile / hi_c_profile,\n",
    "    ds=\"steps-mid\",\n",
    "    label=\"He II λ4686 / H I λ4861\",\n",
    "    lw=2,\n",
    ")\n",
    "ax.plot(\n",
    "    pos,\n",
    "    hei_c_profile / hi_c_profile - 0.10,\n",
    "    ds=\"steps-mid\",\n",
    "    label=\"(He I λ5875 / H I λ4861) – 0.1\",\n",
    "    lw=2,\n",
    ")\n",
    "\n",
    "ax.axhline(0, color=\"k\")\n",
    "\n",
    "ax.axvline(0, color=\"k\", lw=1, ls=\"dashed\")\n",
    "ax.axvspan(2.0, 9.0, 0.4, 0.8, color=\"k\", alpha=0.1, linewidth=0, zorder=-100)\n",
    "ax.legend(ncol=1, loc=\"upper right\")\n",
    "ax.set_yticks([0.0, 0.005, 0.010])\n",
    "ax.set(\n",
    "    xlabel=\"Offset west from W 3, arcsec\",\n",
    "    xlim=[-12, 22],\n",
    "    ylim=[-0.005, 0.015],\n",
    ")\n",
    "sns.despine()\n",
    "fig.savefig(\"../figs/ngc346-bow-shock-he-ratios.pdf\")"
   ]
  },
  {
   "cell_type": "code",
   "execution_count": null,
   "id": "f80cddc6",
   "metadata": {
    "pycharm": {
     "name": "#%%\n"
    }
   },
   "outputs": [],
   "source": [
    "im5518 = Image(str(datadir / \"ngc346-cliii-5518-bin01-sum\".fits))\n",
    "im5538 = Image(str(datadir / \"ngc346-cliii-5538-bin01-sum\".fits))\n",
    "imha = Image(str(datadir / \"ngc346-hi-6563-bin01-sum\".fits))\n",
    "imcont = Image(str(datadir / \"ngc346-cont-4686-mean\".fits))"
   ]
  },
  {
   "cell_type": "code",
   "execution_count": null,
   "id": "8c7deb36",
   "metadata": {
    "pycharm": {
     "name": "#%%\n"
    }
   },
   "outputs": [],
   "source": [
    "im5518 = Image(\"../data/ngc346-cliii-5518-bin01-sum.fits\")\n",
    "im5538 = Image(\"../data/ngc346-cliii-5538-bin01-sum.fits\")\n",
    "imha = Image(\"../data/ngc346-hi-6563-bin01-sum.fits\")\n",
    "imcont = Image(\"../data/ngc346-cont-4686-mean.fits\")"
   ]
  },
  {
   "cell_type": "code",
   "execution_count": null,
   "id": "a650f119",
   "metadata": {
    "pycharm": {
     "name": "#%%\n"
    }
   },
   "outputs": [],
   "source": [
    "cl3 = pn.Atom(\"Cl\", 3)\n",
    "Rlo = cl3.getLowDensRatio(wave1=5518, wave2=5538)\n",
    "Rhi = cl3.getHighDensRatio(wave1=5518, wave2=5538)\n",
    "Rlo, Rhi"
   ]
  },
  {
   "cell_type": "code",
   "execution_count": null,
   "id": "6d50dfa6",
   "metadata": {
    "pycharm": {
     "name": "#%%\n"
    }
   },
   "outputs": [],
   "source": [
    "m = imcont.data > 3e2\n",
    "im5518.mask = im5518.mask | m\n",
    "im5538.mask = im5538.mask | m\n",
    "trim_edges(im5518, 20)\n",
    "trim_edges(im5538, 20)\n",
    "trim_edges(imcont, 20)"
   ]
  },
  {
   "cell_type": "code",
   "execution_count": null,
   "id": "f127fca3",
   "metadata": {
    "pycharm": {
     "name": "#%%\n"
    }
   },
   "outputs": [],
   "source": [
    "shift5538 = 15.0\n",
    "shift5518 = 23.0\n",
    "im5538.data += shift5538\n",
    "im5518.data += shift5518"
   ]
  },
  {
   "cell_type": "code",
   "execution_count": null,
   "id": "a270f88d",
   "metadata": {
    "pycharm": {
     "name": "#%%\n"
    }
   },
   "outputs": [],
   "source": [
    "n = 16\n",
    "fig, axes = plt.subplots(2, 2, figsize=(12, 12))\n",
    "im5538.rebin(n).plot(vmin=-10, vmax=120, ax=axes[0, 0], colorbar=\"v\")\n",
    "im5518.rebin(n).plot(vmin=-10, vmax=120, ax=axes[0, 1], colorbar=\"v\")\n",
    "imcont.rebin(n).plot(vmin=0, vmax=1e4, ax=axes[1, 0], colorbar=\"v\")\n",
    "(im5518.rebin(n) / im5538.rebin(n)).plot(\n",
    "    ax=axes[1, 1],\n",
    "    vmin=0.0,\n",
    "    vmax=2.0,\n",
    "    cmap=\"gray\",\n",
    "    colorbar=\"v\",\n",
    ")\n",
    "fig.tight_layout()"
   ]
  },
  {
   "cell_type": "code",
   "execution_count": null,
   "id": "63f2f98d",
   "metadata": {
    "pycharm": {
     "name": "#%%\n"
    }
   },
   "outputs": [],
   "source": [
    "n = 8\n",
    "\n",
    "imx = im5538.rebin(n)\n",
    "imy = (im5518 / Rlo).rebin(n)\n",
    "\n",
    "imin, imax = -10, 100\n",
    "m = (imx.data < imax) & (imy.data < imax)\n",
    "m = m & (imx.data > imin) & (imy.data > imin)\n",
    "m = m & (imy.data / imx.data > -2) & (imy.data / imx.data < 4.0)\n",
    "m = m & ~imx.mask & ~imy.mask\n",
    "df = pd.DataFrame(\n",
    "    {\n",
    "        \"5538\": imx.data[m],\n",
    "        \"5518\": imy.data[m],\n",
    "        \"5518 / 5538\": imy.data[m] / imx.data[m],\n",
    "    }\n",
    ")\n",
    "g = sns.pairplot(\n",
    "    df,\n",
    "    kind=\"hist\",\n",
    "    height=4,\n",
    "    corner=True,\n",
    ")\n",
    "g.axes[1, 0].axvline(0.0, color=\"r\")\n",
    "g.axes[1, 0].axhline(0.0, color=\"r\")\n",
    "g.axes[1, 0].plot([imin, imax], [imin, imax], \"--\", color=\"r\")\n",
    "g.axes[1, 0].plot([imin, imax], [imin, imax], \"--\", color=\"r\")\n",
    "g.fig.suptitle(\"Correlation between [Cl III] 5538 and 5518 brightness\")"
   ]
  },
  {
   "cell_type": "code",
   "execution_count": null,
   "id": "d59e8f1f",
   "metadata": {
    "pycharm": {
     "name": "#%%\n"
    }
   },
   "outputs": [],
   "source": [
    "n = 32\n",
    "\n",
    "imx = imha.rebin(n)\n",
    "imy = im5518.rebin(n) / im5538.rebin(n)\n",
    "\n",
    "imin, imax = -10, 100\n",
    "m = (imy.data > 0.5) & (imy.data < 2.0)\n",
    "m = m & (imx.data < 1.5e5)\n",
    "m = m & ~imx.mask & ~imy.mask\n",
    "df = pd.DataFrame(\n",
    "    {\n",
    "        \"6563\": imx.data[m],\n",
    "        \"5518 / 5538\": imy.data[m],\n",
    "    }\n",
    ")\n",
    "g = sns.pairplot(\n",
    "    df,\n",
    "    kind=\"hist\",\n",
    "    height=4,\n",
    "    corner=True,\n",
    "    plot_kws=dict(\n",
    "        weights=imx.data[m],\n",
    "        bins=50,\n",
    "    ),\n",
    "    diag_kws=dict(\n",
    "        weights=imx.data[m],\n",
    "        bins=50,\n",
    "    ),\n",
    ")\n",
    "g.axes[1, 0].axvline(0.0, color=\"r\")\n",
    "g.axes[1, 0].axhline(1.5, color=\"r\")\n",
    "g.fig.suptitle(\"Correlation between [Cl III] 5538, 5518 sum and ratio\")"
   ]
  },
  {
   "cell_type": "code",
   "execution_count": null,
   "id": "879e03b6",
   "metadata": {
    "pycharm": {
     "name": "#%%\n"
    }
   },
   "outputs": [],
   "source": [
    "xslice, yslice = slice(230, 300), slice(144, 245)\n",
    "\n",
    "n = 2\n",
    "\n",
    "imx = imha[yslice, xslice].rebin(n)\n",
    "imy = im5518[yslice, xslice].rebin(n) / im5538[yslice, xslice].rebin(n)\n",
    "\n",
    "imin, imax = -10, 100\n",
    "m = (imy.data > 0.15) & (imy.data < 15.0)\n",
    "m = m & (imx.data < 1.5e5)\n",
    "m = m & ~imx.mask & ~imy.mask\n",
    "df = pd.DataFrame(\n",
    "    {\n",
    "        \"6563\": np.log10(imx.data[m]),\n",
    "        \"5518 / 5538\": np.log10(imy.data[m]),\n",
    "    }\n",
    ")\n",
    "g = sns.pairplot(\n",
    "    df,\n",
    "    kind=\"hist\",\n",
    "    height=4,\n",
    "    corner=True,\n",
    "    plot_kws=dict(\n",
    "        weights=imx.data[m],\n",
    "        bins=30,\n",
    "    ),\n",
    "    diag_kws=dict(\n",
    "        weights=imx.data[m],\n",
    "        bins=30,\n",
    "    ),\n",
    ")\n",
    "g.axes[1, 0].axhline(np.log10(1.5), color=\"r\")\n",
    "g.axes[1, 1].axvline(np.log10(1.5), color=\"r\")\n",
    "\n",
    "\n",
    "g.fig.suptitle(\"Correlation between [Cl III] 5538 / 5518 ratio and Ha brightness\")"
   ]
  },
  {
   "cell_type": "code",
   "execution_count": null,
   "id": "320caa48",
   "metadata": {
    "pycharm": {
     "name": "#%%\n"
    }
   },
   "outputs": [],
   "source": [
    "m = ~im5518[yslice, xslice].mask\n",
    "npix = m.sum()\n",
    "y = im5518[yslice, xslice].data[m]\n",
    "x = im5538[yslice, xslice].data[m]\n",
    "w = imha[yslice, xslice].data[m]\n",
    "\n",
    "# unweighted\n",
    "ym = y.mean()\n",
    "xm = x.mean()\n",
    "R1 = ym / xm\n",
    "dR1 = np.sqrt((y.var() / ym ** 2 + x.var() / xm ** 2) / (npix - 1))\n",
    "\n",
    "# weighted\n",
    "ymw = np.average(y, weights=w)\n",
    "xmw = np.average(x, weights=w)\n",
    "R2 = ymw / xmw\n",
    "dR2 = np.sqrt(\n",
    "    (\n",
    "        np.average(((y - ymw) / ymw) ** 2, weights=w)\n",
    "        + np.average(((x - ymw) / xmw) ** 2, weights=w)\n",
    "    )\n",
    "    / (npix - 1)\n",
    ")\n",
    "f\"Unweighted R = {R1:.4f} +/- {dR1:.4f}; Weighted R = {R2:.4f} +/- {dR2:.4f}\""
   ]
  },
  {
   "cell_type": "code",
   "execution_count": null,
   "id": "d34c5f46",
   "metadata": {
    "pycharm": {
     "name": "#%%\n"
    }
   },
   "outputs": [],
   "source": [
    "cl3.getTemDen(1.44, tem=12000, wave1=5518, wave2=5538)"
   ]
  },
  {
   "cell_type": "code",
   "execution_count": null,
   "id": "113107e9",
   "metadata": {
    "pycharm": {
     "name": "#%%\n"
    }
   },
   "outputs": [],
   "source": [
    "e5518 = cl3.getEmissivity(tem=12000, den=[1, 10, 100, 1000], wave=5518)\n",
    "e5538 = cl3.getEmissivity(tem=12000, den=[1, 10, 100, 1000], wave=5538)\n",
    "e5518 / e5538"
   ]
  },
  {
   "cell_type": "code",
   "execution_count": null,
   "id": "aafb426e",
   "metadata": {
    "pycharm": {
     "name": "#%%\n"
    }
   },
   "outputs": [],
   "source": [
    "e5518 = cl3.getEmissivity(tem=15000, den=[1, 10, 100, 1000], wave=5518)\n",
    "e5538 = cl3.getEmissivity(tem=15000, den=[1, 10, 100, 1000], wave=5538)\n",
    "e5518 / e5538"
   ]
  },
  {
   "cell_type": "code",
   "execution_count": null,
   "id": "ef4af592-1c87-4edd-ac29-6b15e41babc9",
   "metadata": {
    "pycharm": {
     "name": "#%%\n"
    }
   },
   "outputs": [],
   "source": [
    "e5518 = cl3.getEmissivity(tem=8000, den=[1, 10, 100, 1000], wave=5518)\n",
    "e5538 = cl3.getEmissivity(tem=8000, den=[1, 10, 100, 1000], wave=5538)\n",
    "e5518 / e5538"
   ]
  },
  {
   "cell_type": "markdown",
   "id": "4b68616a-84d2-4c49-b800-88790799eac4",
   "metadata": {
    "pycharm": {
     "name": "#%% md\n"
    }
   },
   "source": [
    "Check the 2 sigma lower limit"
   ]
  },
  {
   "cell_type": "code",
   "execution_count": null,
   "id": "4e447c6d-1d68-46b4-88dc-a4836504cc13",
   "metadata": {
    "pycharm": {
     "name": "#%%\n"
    }
   },
   "outputs": [],
   "source": [
    "cl3.getTemDen(R2 - 5 * dR2, tem=15000, wave1=5518, wave2=5538)"
   ]
  },
  {
   "cell_type": "code",
   "execution_count": null,
   "id": "41502be1-38f0-4294-8b02-e507f554dd04",
   "metadata": {
    "pycharm": {
     "name": "#%%\n"
    }
   },
   "outputs": [],
   "source": [
    "cl3.getTemDen(R2 - 5 * dR2, tem=1000, wave1=5518, wave2=5538)"
   ]
  }
 ],
 "metadata": {
  "jupytext": {
   "encoding": "# -*- coding: utf-8 -*-",
   "formats": "ipynb,py:light,md"
  },
  "kernelspec": {
   "display_name": "Python 3",
   "language": "python",
   "name": "python3"
  },
  "language_info": {
   "codemirror_mode": {
    "name": "ipython",
    "version": 3
   },
   "file_extension": ".py",
   "mimetype": "text/x-python",
   "name": "python",
   "nbconvert_exporter": "python",
   "pygments_lexer": "ipython3",
   "version": "3.9.4"
  }
 },
 "nbformat": 4,
 "nbformat_minor": 5
}
