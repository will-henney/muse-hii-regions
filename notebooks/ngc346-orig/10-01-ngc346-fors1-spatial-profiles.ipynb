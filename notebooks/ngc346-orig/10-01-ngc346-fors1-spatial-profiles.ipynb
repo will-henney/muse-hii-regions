{
 "cells": [
  {
   "cell_type": "markdown",
   "id": "3e323786",
   "metadata": {},
   "source": [
    "# Spatial profiles along slit from FORS1 spectra\n",
    "\n",
    "I would like to achieve the following:\n",
    "\n",
    "1. [X] Identify W 3 and the bow shock in the spectra\n",
    "2. [X] Trace the full western extent of the bow shock in [Ar IV]\n",
    "    - the MUSE field extends only 22 arcsec from the star\n",
    "    - the FORS1 spectrum shows a roughly linear ramp that extends about 34 arcsec (see image below)\n",
    "3. [X] Calculate the [O III] 4363/5007 temperature profile of the bow shock\n",
    "    - See if there is any evidence for temperatures as high as the [Ar IV] temperature\n",
    "4. [X] Measure the [Ne III] 3869 profile.  Ne$^+$ has the same ionization potential as Ar$^{+2}$ (40 eV), but [Ne III] seems to be much more broadly distributed than [Ar IV]\n",
    "\n",
    "\n",
    "\n",
    "![FORS1 profile of Ar IV](assets/ngc346-screenshot-fors1-ariv-profile.png)\n",
    "\n"
   ]
  },
  {
   "cell_type": "code",
   "execution_count": null,
   "id": "76d20552",
   "metadata": {},
   "outputs": [],
   "source": [
    "from pathlib import Path\n",
    "import numpy as np\n",
    "from matplotlib import pyplot as plt\n",
    "import seaborn as sns\n",
    "import regions\n",
    "from astropy.io import fits\n",
    "from astropy.wcs import WCS\n",
    "import sys\n",
    "\n",
    "sys.path.append(\"../lib\")\n",
    "import extract\n",
    "\n",
    "sns.set_context(\"talk\")\n",
    "sns.set_color_codes()"
   ]
  },
  {
   "cell_type": "markdown",
   "id": "ec3b15e0",
   "metadata": {},
   "source": [
    "Load line and continuum images for the two blue spectral ranges.  We may use the continuum for masking out regions that have excessive stellar contamination."
   ]
  },
  {
   "cell_type": "code",
   "execution_count": null,
   "id": "de45ff28",
   "metadata": {},
   "outputs": [],
   "source": [
    "hdu1 = fits.open(\"../data/ngc346-fors1-A-3500-4600-contsub.fits\")[0]\n",
    "hdu2 = fits.open(\"../data/ngc346-fors1-A-4400-6000-contsub.fits\")[0]\n",
    "hdu1c = fits.open(\"../data/ngc346-fors1-A-3500-4600-cont.fits\")[0]\n",
    "hdu2c = fits.open(\"../data/ngc346-fors1-A-4400-6000-cont.fits\")[0]"
   ]
  },
  {
   "cell_type": "code",
   "execution_count": null,
   "id": "4bb47a1f",
   "metadata": {},
   "outputs": [],
   "source": [
    "hdu1B = fits.open(\"../data/ngc346-fors1-B-3562-4600-contsub.fits\")[0]\n",
    "hdu2B = fits.open(\"../data/ngc346-fors1-B-4400-6000-contsub.fits\")[0]\n",
    "hdu1cB = fits.open(\"../data/ngc346-fors1-B-3562-4600-cont.fits\")[0]\n",
    "hdu2cB = fits.open(\"../data/ngc346-fors1-B-4400-6000-cont.fits\")[0]"
   ]
  },
  {
   "cell_type": "markdown",
   "id": "7e877402",
   "metadata": {},
   "source": [
    "Set up the world coords for the two ranges"
   ]
  },
  {
   "cell_type": "code",
   "execution_count": null,
   "id": "914d591c",
   "metadata": {},
   "outputs": [],
   "source": [
    "wcs1 = WCS(hdu1)\n",
    "wcs2 = WCS(hdu2)\n",
    "wcs1B = WCS(hdu1B)\n",
    "wcs2B = WCS(hdu2B)\n",
    "for w in wcs1, wcs2, wcs1B, wcs2B:\n",
    "    w.wcs.cdelt[1] *= -1.0"
   ]
  },
  {
   "cell_type": "markdown",
   "id": "09c9bebb",
   "metadata": {},
   "source": [
    "Set up the lines that we want with wavelength limits:"
   ]
  },
  {
   "cell_type": "code",
   "execution_count": null,
   "id": "39dc0c5d",
   "metadata": {},
   "outputs": [],
   "source": [
    "pv1A = extract.PositionVelocityImage(hdu1.data, wcs1)\n",
    "pv2A = extract.PositionVelocityImage(hdu2.data, wcs2)\n",
    "pvc1A = extract.PositionVelocityImage(hdu1c.data, wcs1)\n",
    "pvc2A = extract.PositionVelocityImage(hdu2c.data, wcs2)\n",
    "pv1B = extract.PositionVelocityImage(hdu1B.data, wcs1B)\n",
    "pv2B = extract.PositionVelocityImage(hdu2B.data, wcs2B)\n",
    "pvc1B = extract.PositionVelocityImage(hdu1cB.data, wcs1B)\n",
    "pvc2B = extract.PositionVelocityImage(hdu2cB.data, wcs2B)"
   ]
  },
  {
   "cell_type": "code",
   "execution_count": null,
   "id": "7c4a7e12",
   "metadata": {},
   "outputs": [],
   "source": [
    "restwav = {\n",
    "    \"He II 4686\": 4685.68,\n",
    "    \"[Ar IV] 4740\": 4740.17,\n",
    "    \"[O III] 5007\": 5006.84,\n",
    "    \"[O III] 4363\": 4363.209,\n",
    "    \"[Ne III] 3869\": 3869.07,\n",
    "    \"H I 4861\": 4861.32,\n",
    "    \"H I 4340\": 4340.463,\n",
    "    \"H I 4102\": 4101.735,\n",
    "    \"He I 5876\": 5875.62,\n",
    "    \"[Cl III] 5518\": 5517.71,\n",
    "    \"[Cl III] 5538\": 5537.88,\n",
    "    \"[N II] 5755\": 5755.08,\n",
    "    \"[Fe III] 4658\": 4658.10,\n",
    "    \"[Fe III] 4987\": 4987.20,\n",
    "    \"[Fe III] 5270\": 5270.4,\n",
    "    \"O II 4650\": 4650.00,\n",
    "    \"[O II] 3729\": 3728.815,\n",
    "    \"[O II] 3726\": 3726.032,\n",
    "    \"Wing 4975\": 4975.0,\n",
    "}"
   ]
  },
  {
   "cell_type": "code",
   "execution_count": null,
   "id": "bd323112",
   "metadata": {},
   "outputs": [],
   "source": [
    "emlines = {k: extract.EmissionLine(k, v, vlim=(100.0, 400.0)) for k, v in restwav.items()}"
   ]
  },
  {
   "cell_type": "code",
   "execution_count": null,
   "id": "86e25eb1",
   "metadata": {},
   "outputs": [],
   "source": [
    "emlines"
   ]
  },
  {
   "cell_type": "code",
   "execution_count": null,
   "id": "31235876",
   "metadata": {},
   "outputs": [],
   "source": [
    "for em in emlines.values():\n",
    "    if em.wav0 > 4400:\n",
    "        em.pvA = pv2A\n",
    "        em.pvB = pv2B\n",
    "        em.pvcA = pvc2A\n",
    "        em.pvcB = pvc2B\n",
    "    else:\n",
    "        em.pvA = pv1A\n",
    "        em.pvB = pv1B\n",
    "        em.pvcA = pvc1A\n",
    "        em.pvcB = pvc1B"
   ]
  },
  {
   "cell_type": "code",
   "execution_count": null,
   "id": "84904935",
   "metadata": {},
   "outputs": [],
   "source": [
    "for em in emlines.values():\n",
    "    em.A = em.pvA.slit_profile(em)\n",
    "    em.ewA = em.pvA.slit_ew_profile(em, em.pvcA)\n",
    "    em.cA = em.pvcA.slit_profile(em)\n",
    "    em.B = em.pvB.slit_profile(em)\n",
    "    em.ewB = em.pvB.slit_ew_profile(em, em.pvcB)\n",
    "    em.cB = em.pvcB.slit_profile(em)"
   ]
  },
  {
   "cell_type": "code",
   "execution_count": null,
   "id": "85c43bb6",
   "metadata": {},
   "outputs": [],
   "source": [
    "fig, axes = plt.subplots(\n",
    "    2,\n",
    "    1,\n",
    "    figsize=(12, 12),\n",
    "    sharex=True,\n",
    ")\n",
    "e = emlines[\"[Ar IV] 4740\"]\n",
    "axes[0].plot(e.A.position, e.A.data, linewidth=1.0, alpha=1.0)\n",
    "axes[1].plot(e.B.position, e.B.data, linewidth=1.0, alpha=1.0)\n",
    "\n",
    "e = emlines[\"He II 4686\"]\n",
    "axes[0].plot(e.A.position, e.A.data, linewidth=2.0, alpha=1.0)\n",
    "axes[1].plot(e.B.position, e.B.data, linewidth=2.0, alpha=1.0)\n",
    "\n",
    "axes[0].axhline(0.0, linestyle=\"dashed\", color=\"k\")\n",
    "axes[0].axvline(0.0, linestyle=\"dotted\", color=\"k\")\n",
    "\n",
    "axes[1].axhline(0.0, linestyle=\"dashed\", color=\"k\")\n",
    "axes[1].axvline(0.0, linestyle=\"dotted\", color=\"k\")\n",
    "\n",
    "for ax in axes:\n",
    "    ax.set(\n",
    "        xlim=[-25, 75],\n",
    "        ylim=[-30, 60],\n",
    "    )"
   ]
  },
  {
   "cell_type": "code",
   "execution_count": null,
   "id": "89c1b2f0",
   "metadata": {},
   "outputs": [],
   "source": [
    "fig, axes = plt.subplots(2, 1, figsize=(12, 12))\n",
    "e = emlines[\"[O III] 5007\"]\n",
    "axes[0].plot(e.A.position, 1e-3 * e.A.data, linewidth=1.0, alpha=1.0)\n",
    "axes[1].plot(e.B.position, 1e-3 * e.B.data, linewidth=1.0, alpha=1.0)\n",
    "\n",
    "e = emlines[\"[O III] 4363\"]\n",
    "axes[0].plot(e.A.position, 0.075 * e.A.data, linewidth=1.0, alpha=1.0)\n",
    "axes[1].plot(e.B.position, 0.075 * e.B.data, linewidth=1.0, alpha=1.0)\n",
    "\n",
    "e = emlines[\"He II 4686\"]\n",
    "axes[0].plot(e.A.position, e.A.data, linewidth=2.0, alpha=1.0)\n",
    "axes[1].plot(e.B.position, e.B.data, linewidth=2.0, alpha=1.0)\n",
    "\n",
    "for ax in axes:\n",
    "    ax.axhline(0.0, linestyle=\"dashed\", color=\"k\")\n",
    "    ax.axvline(0.0, linestyle=\"dotted\", color=\"k\")\n",
    "    ax.set(\n",
    "        xlim=[-25, 75],\n",
    "        ylim=[-30, 60],\n",
    "    )"
   ]
  },
  {
   "cell_type": "code",
   "execution_count": null,
   "id": "46257097",
   "metadata": {
    "lines_to_next_cell": 2
   },
   "outputs": [],
   "source": [
    "Amask = emlines[\"[O III] 5007\"].ewA.data > 250.0\n",
    "Bmask = emlines[\"[O III] 5007\"].ewB.data > 250.0\n",
    "\n",
    "for e in emlines.values():\n",
    "    e.multiA = e.A.multibin(kmax=10, mask=Amask)\n",
    "    e.multiB = e.B.multibin(kmax=10, mask=Bmask)\n",
    "    e.multi_cA = e.cA.multibin()\n",
    "    e.multi_cB = e.cB.multibin()    "
   ]
  },
  {
   "cell_type": "code",
   "execution_count": null,
   "id": "f79df60a",
   "metadata": {},
   "outputs": [],
   "source": [
    "e.multiB[512].data"
   ]
  },
  {
   "cell_type": "markdown",
   "id": "2d9b4c09",
   "metadata": {},
   "source": [
    "Reddening correction for 4363 / 5007 from Mabel paper:"
   ]
  },
  {
   "cell_type": "code",
   "execution_count": null,
   "id": "69d24ff5",
   "metadata": {},
   "outputs": [],
   "source": [
    "redcorr_oiii_ratio = (7.06 / 522.70) / (6.82 / 534.12)\n",
    "average_ratio_mabel = (7.06 / 522.70)\n",
    "redcorr_oiii_ratio, average_ratio_mabel"
   ]
  },
  {
   "cell_type": "code",
   "execution_count": null,
   "id": "9dd686a9",
   "metadata": {},
   "outputs": [],
   "source": [
    "fig, axes = plt.subplots(2, 1, figsize=(12, 8), sharex=True, sharey=True)\n",
    "e1 = emlines[\"[O III] 4363\"]\n",
    "e2 = emlines[\"[O III] 5007\"]\n",
    "# min, xmax = -10, 50\n",
    "xmin, xmax = -230, 180\n",
    "\n",
    "n = 2\n",
    "ratioA = redcorr_oiii_ratio * e1.multiA[n].data / e2.multiA[n].data\n",
    "ratioB = redcorr_oiii_ratio * e1.multiB[n].data / e2.multiB[n].data\n",
    "posA = e1.multiA[n].position\n",
    "posB = e1.multiB[n].position\n",
    "axes[0].plot(posA, ratioA, linewidth=1.0, alpha=1.0, drawstyle=\"steps-mid\")\n",
    "axes[1].plot(posB, ratioB, linewidth=1.0, alpha=1.0, drawstyle=\"steps-mid\")\n",
    "\n",
    "n = 8\n",
    "ratioA = redcorr_oiii_ratio * e1.multiA[n].data / e2.multiA[n].data\n",
    "ratioB = redcorr_oiii_ratio * e1.multiB[n].data / e2.multiB[n].data\n",
    "posA = e1.multiA[n].position\n",
    "posB = e1.multiB[n].position\n",
    "axes[0].plot(posA, ratioA, linewidth=4.0, alpha=1.0, drawstyle=\"steps-mid\")\n",
    "axes[1].plot(posB, ratioB, linewidth=4.0, alpha=1.0, drawstyle=\"steps-mid\")\n",
    "\n",
    "axes[0].plot(e2.A.position, 3e-7 * e2.A.data)\n",
    "axes[1].plot(e2.B.position, 3e-7 * e2.B.data)\n",
    "\n",
    "# axes[0].plot(e1.cA.position, 5e-7*e1.cA.data)\n",
    "# axes[1].plot(e1.cB.position, 5e-7*e1.cB.data)\n",
    "\n",
    "m = (posA > -50) & (posA < xmax)\n",
    "average_ratioA = np.nanmean(ratioA[m])\n",
    "m = (posB > -50) & (posB < xmax)\n",
    "average_ratioB = np.nanmean(ratioB[m])\n",
    "\n",
    "average_ratio = np.mean([average_ratioA, average_ratioB])\n",
    "\n",
    "for ax, ratio in zip(axes, [ratioA, ratioB]):\n",
    "    ax.axhline(0.0, linestyle=\"dashed\", color=\"k\")\n",
    "    ax.axhline(\n",
    "        average_ratio,\n",
    "        linestyle=\"dotted\",\n",
    "        color=\"k\",\n",
    "    )\n",
    "    ax.axvline(0.0, linestyle=\"dotted\", color=\"k\")\n",
    "    ax.set(\n",
    "        xlim=[xmin, xmax],\n",
    "        ylim=[-0.003, 0.02],\n",
    "    )\n",
    "axes[-1].set(\n",
    "    xlabel=\"Offset West from Walborn 3, arcsec\",\n",
    "    ylabel=\"[O III] λ4363 / λ5007\",\n",
    ")\n",
    "sns.despine()\n",
    "fig.tight_layout()\n",
    "fig.savefig(\"../figs/ngc346-fors1-oiii-4363-5007-ratio.pdf\")"
   ]
  },
  {
   "cell_type": "code",
   "execution_count": null,
   "id": "796aa98c",
   "metadata": {},
   "outputs": [],
   "source": [
    "fig, axes = plt.subplots(\n",
    "    2,\n",
    "    1,\n",
    "    figsize=(12, 8),\n",
    "    sharex=True,\n",
    "    sharey=True,\n",
    ")\n",
    "n = 16\n",
    "\n",
    "e = emlines[\"He II 4686\"]\n",
    "fac = 1.0 / np.nanmax(e.multiA[n].data)\n",
    "axes[0].fill_between(\n",
    "    e.multiA[n].position,\n",
    "    fac * e.multiA[n].data,\n",
    "    linewidth=2.0,\n",
    "    alpha=0.3,\n",
    "    label=e.name,\n",
    ")\n",
    "axes[1].fill_between(\n",
    "    e.multiB[n].position,\n",
    "    fac * e.multiB[n].data,\n",
    "    linewidth=2.0,\n",
    "    alpha=0.3,\n",
    ")\n",
    "\n",
    "e = emlines[\"[O II] 3729\"]\n",
    "fac = 1.0 / np.nanmax(e.A.data)\n",
    "axes[0].plot(\n",
    "    e.A.position,\n",
    "    fac * e.A.data,\n",
    "    linewidth=2.5,\n",
    "    alpha=1.0,\n",
    "    drawstyle=\"steps-mid\",\n",
    "    color=\"b\",\n",
    "    label=e.name,\n",
    ")\n",
    "axes[1].plot(\n",
    "    e.B.position,\n",
    "    fac * e.B.data,\n",
    "    linewidth=2.5,\n",
    "    alpha=1.0,\n",
    "    drawstyle=\"steps-mid\",\n",
    "    color=\"b\",\n",
    ")\n",
    "\n",
    "e = emlines[\"[Ne III] 3869\"]\n",
    "fac = 1.0 / np.nanmax(e.A.data)\n",
    "axes[0].plot(\n",
    "    e.A.position,\n",
    "    fac * e.A.data,\n",
    "    linewidth=2.5,\n",
    "    alpha=1.0,\n",
    "    drawstyle=\"steps-mid\",\n",
    "    color=\"g\",\n",
    "    label=e.name,\n",
    ")\n",
    "axes[1].plot(\n",
    "    e.B.position,\n",
    "    fac * e.B.data,\n",
    "    linewidth=2.5,\n",
    "    alpha=1.0,\n",
    "    drawstyle=\"steps-mid\",\n",
    "    color=\"g\",\n",
    ")\n",
    "\n",
    "e = emlines[\"[Ar IV] 4740\"]\n",
    "fac = 1.0 / np.nanmax(e.multiA[n].data)\n",
    "axes[0].plot(\n",
    "    e.multiA[n].position,\n",
    "    fac * e.multiA[n].data,\n",
    "    linewidth=3.0,\n",
    "    alpha=1.0,\n",
    "    drawstyle=\"steps-mid\",\n",
    "    color=\"r\",\n",
    "    label=e.name,\n",
    ")\n",
    "axes[1].plot(\n",
    "    e.multiB[n].position,\n",
    "    fac * e.multiB[n].data,\n",
    "    linewidth=3.0,\n",
    "    alpha=1.0,\n",
    "    drawstyle=\"steps-mid\",\n",
    "    color=\"r\",\n",
    ")\n",
    "\n",
    "\n",
    "fac = 1.0 / np.nanmax(e.cA.data)\n",
    "axes[0].fill_between(\n",
    "    e.cA.position,\n",
    "    fac * e.cA.data,\n",
    "    linewidth=0.0,\n",
    "    alpha=0.7,\n",
    "    color=\"m\",\n",
    "    label=\"continuum\",\n",
    ")\n",
    "axes[1].fill_between(\n",
    "    e.cB.position,\n",
    "    fac * e.cB.data,\n",
    "    linewidth=0.0,\n",
    "    alpha=0.7,\n",
    "    color=\"m\",\n",
    ")\n",
    "\n",
    "\n",
    "axes[0].axhline(0.0, linestyle=\"dashed\", color=\"k\")\n",
    "axes[0].axvline(0.0, linestyle=\"dotted\", color=\"k\")\n",
    "\n",
    "axes[1].axhline(0.0, linestyle=\"dashed\", color=\"k\")\n",
    "axes[1].axvline(0.0, linestyle=\"dotted\", color=\"k\")\n",
    "\n",
    "for ax in axes:\n",
    "    ax.set(\n",
    "        xlim=[xmin, xmax],\n",
    "        ylim=[-0.1, 1.45],\n",
    "    )\n",
    "\n",
    "axes[0].legend()\n",
    "axes[-1].set(\n",
    "    xlabel=\"Offset West from Walborn 3, arcsec\",\n",
    "    ylabel=\"Relative Brightness\",\n",
    ")\n",
    "sns.despine()\n",
    "fig.tight_layout()\n",
    "fig.savefig(\"../figs/ngc346-fors1-multiline-slit-profiles.pdf\")"
   ]
  },
  {
   "cell_type": "markdown",
   "id": "7058b4b4",
   "metadata": {},
   "source": [
    "I want to combine the two previous plots to focus on only Slit A."
   ]
  },
  {
   "cell_type": "code",
   "execution_count": null,
   "id": "e82b76ea",
   "metadata": {},
   "outputs": [],
   "source": [
    "import cmasher as cmr\n",
    "fig, axes = plt.subplots(2, 1, figsize=(12, 8), sharex=True)\n",
    "\n",
    "# Take 5 colors from rainforest in [0.15, 0.85] range in HEX\n",
    "#colors = cmr.take_cmap_colors('cmr.rainforest', 5, cmap_range=(0.15, 0.85), return_fmt='hex')\n",
    "colors = cmr.take_cmap_colors(\n",
    "    'cmr.torch', \n",
    "    5, \n",
    "    cmap_range=(0.15, 0.85), \n",
    "    return_fmt='hex'\n",
    ")\n",
    "\n",
    "\n",
    "\n",
    "# Ratio plot\n",
    "e1 = emlines[\"[O III] 4363\"]\n",
    "e2 = emlines[\"[O III] 5007\"]\n",
    "xmin, xmax = -230, 180\n",
    "\n",
    "n = 1\n",
    "ratioA = redcorr_oiii_ratio * e1.multiA[n].data / e2.multiA[n].data\n",
    "posA = e1.multiA[n].position\n",
    "axes[0].plot(\n",
    "    posA, ratioA, \n",
    "    linewidth=0.2, color=\"k\", alpha=0.5, \n",
    "    drawstyle=\"steps-mid\",\n",
    ")\n",
    "\n",
    "n = 4\n",
    "ratioA = redcorr_oiii_ratio * e1.multiA[n].data / e2.multiA[n].data\n",
    "posA = e1.multiA[n].position\n",
    "axes[0].plot(posA, ratioA, linewidth=4.0, alpha=1.0, color=colors[1], drawstyle=\"steps-mid\")\n",
    "\n",
    "m = (posA > -50) & (posA < xmax)\n",
    "average_ratioA = np.nanmean(ratioA[m])\n",
    "\n",
    "#axes[0].axhline(0.0, linestyle=\"dashed\", color=\"k\")\n",
    "axes[0].axhline(\n",
    "    average_ratio_mabel,\n",
    "    linestyle=\"dotted\",\n",
    "    color=\"k\",\n",
    ")\n",
    "\n",
    "axes[0].axvspan(\n",
    "    2, 8,\n",
    "    0.5, 0.7,\n",
    "    linewidth=0.0,\n",
    "    facecolor=\"k\",\n",
    "    alpha=0.2,\n",
    ")\n",
    "\n",
    "axes[0].axvline(0.0, linestyle=\"dotted\", color=\"k\")\n",
    "axes[0].set(\n",
    "    xlim=[xmin, xmax],\n",
    "    ylim=[0.01, 0.022],\n",
    "    ylabel=\"[O III] λ4363 / λ5007\",\n",
    ")\n",
    "\n",
    "\n",
    "\n",
    "# Profile plot\n",
    "\n",
    "n = 8\n",
    "e = emlines[\"He II 4686\"]\n",
    "fac = 1.1 / np.nanmax(e.multiA[n].data)\n",
    "axes[1].fill_between(\n",
    "    e.multiA[n].position,\n",
    "    fac * e.multiA[n].data,\n",
    "    linewidth=1.0,\n",
    "    alpha=1.0,\n",
    "    color=colors[4],\n",
    "    edgecolor=\"k\",\n",
    "    label=e.name,\n",
    "    step=\"mid\",\n",
    ")\n",
    "\n",
    "e = emlines[\"[O II] 3729\"]\n",
    "fac = 0.7 / np.nanmax(e.A.data)\n",
    "axes[1].plot(\n",
    "    e.A.position,\n",
    "    fac * e.A.data,\n",
    "    linewidth=2.5,\n",
    "    alpha=0.6,\n",
    "    drawstyle=\"steps-mid\",\n",
    "    color=colors[0],\n",
    "    label=e.name,\n",
    ")\n",
    "\n",
    "e = emlines[\"[Ne III] 3869\"]\n",
    "e = emlines[\"[O III] 5007\"]\n",
    "fac = 1.4 / np.nanmax(e.A.data)\n",
    "axes[1].plot(\n",
    "    e.A.position,\n",
    "    fac * e.A.data,\n",
    "    linewidth=2.5,\n",
    "    alpha=0.6,\n",
    "    drawstyle=\"steps-mid\",\n",
    "    color=colors[1],\n",
    "    label=e.name,\n",
    ")\n",
    "\n",
    "\n",
    "n = 16\n",
    "e = emlines[\"[Ar IV] 4740\"]\n",
    "fac = 1.0 / np.nanmax(e.multiA[n].data)\n",
    "axes[1].plot(\n",
    "    e.multiA[n].position,\n",
    "    fac * e.multiA[n].data,\n",
    "    linewidth=3.0,\n",
    "    alpha=1.0,\n",
    "    drawstyle=\"steps-mid\",\n",
    "    color=colors[2],\n",
    "    label=e.name,\n",
    ")\n",
    "\n",
    "n = 1\n",
    "fac = 1.45 / np.nanmax(e.multi_cA[n].data)\n",
    "axes[1].fill_between(\n",
    "    e.multi_cA[n].position,\n",
    "    fac * e.multi_cA[n].data,\n",
    "    linewidth=2.0,\n",
    "    alpha=1.0,\n",
    "    color=colors[3],\n",
    "    label=\"continuum\",\n",
    "    step=\"mid\",\n",
    ")\n",
    "\n",
    "\n",
    "axes[1].axhline(0.0, linestyle=\"dashed\", color=\"k\")\n",
    "axes[1].axvline(0.0, linestyle=\"dotted\", color=\"k\")\n",
    "\n",
    "axes[1].set(\n",
    "    xlim=[xmin, xmax],\n",
    "    ylim=[-0.1, 1.45],\n",
    ")\n",
    "axes[1].legend()\n",
    "axes[-1].set(\n",
    "    xlabel=\"Offset West from Walborn 3, arcsec\",\n",
    "    ylabel=\"Relative Brightness\",\n",
    ")\n",
    "\n",
    "for ax in axes:\n",
    "    ax.minorticks_on()\n",
    "\n",
    "sns.despine()\n",
    "fig.tight_layout()\n",
    "fig.savefig(\"../figs/ngc346-fors1-combo.pdf\")"
   ]
  },
  {
   "cell_type": "markdown",
   "id": "14e45e62",
   "metadata": {},
   "source": [
    "## Analysis of 4363 / 5007 ratio"
   ]
  },
  {
   "cell_type": "code",
   "execution_count": null,
   "id": "b0b35a55",
   "metadata": {},
   "outputs": [],
   "source": [
    "import pyneb as pn\n",
    "o3 = pn.Atom(\"O\", 3)"
   ]
  },
  {
   "cell_type": "code",
   "execution_count": null,
   "id": "8a8c355e",
   "metadata": {},
   "outputs": [],
   "source": [
    "o3.getTemDen(\n",
    "    int_ratio=[average_ratio_mabel, 0.0145, 0.016, 0.022],\n",
    "    den=100.0,\n",
    "    wave1=4363,\n",
    "    wave2=5007,\n",
    ")"
   ]
  },
  {
   "cell_type": "markdown",
   "id": "9a1a9ffb",
   "metadata": {},
   "source": [
    "So that is rather small variation in temperature. including the ratios seen in the SNR sections. \n",
    "\n",
    "Define regions to take the nebular BG and the rise at the bow shock rim."
   ]
  },
  {
   "cell_type": "code",
   "execution_count": null,
   "id": "bbe80b97",
   "metadata": {
    "lines_to_next_cell": 0
   },
   "outputs": [],
   "source": [
    "e1 = emlines[\"[O III] 4363\"]\n",
    "e2 = emlines[\"[O III] 5007\"]\n",
    "\n",
    "pos_bg = [-6.0, -2.0]\n",
    "pos_rim = [2.0, 8.0]\n",
    "mask_bg = (e1.A.position >= pos_bg[0]) &  (e1.A.position <= pos_bg[1])\n",
    "mask_rim = (e1.A.position >= pos_rim[0]) &  (e1.A.position <= pos_rim[1])\n",
    "e1_rim_data = e1.A.data[mask_rim]\n",
    "e2_rim_data = e2.A.data[mask_rim]\n",
    "e1_bg_data = e1.A.data[mask_bg]\n",
    "e2_bg_data = e2.A.data[mask_bg]"
   ]
  },
  {
   "cell_type": "markdown",
   "id": "82a9f022-ca4c-4d6a-837e-d901f35b75b9",
   "metadata": {},
   "source": [
    "Do bootstrap resampling to find the uncertainty in the mean values:"
   ]
  },
  {
   "cell_type": "code",
   "execution_count": null,
   "id": "a97f76aa",
   "metadata": {
    "lines_to_next_cell": 2
   },
   "outputs": [],
   "source": [
    "from astropy.stats import bootstrap\n",
    "nboot = 100000\n",
    "e1_rim_means = bootstrap(e1_rim_data, nboot, bootfunc=np.mean)\n",
    "print(\"Standard error of mean: sigma/sqrt(n) = \", e1_rim_data.std() / np.sqrt(len(e1_rim_data)))\n",
    "print(\"Standard deviation of bootstrap means: \", e1_rim_means.std())\n",
    "print(\"The two numbers should be roughly the same\")"
   ]
  },
  {
   "cell_type": "code",
   "execution_count": null,
   "id": "a8c79944-b6d7-4e83-9e75-266149862831",
   "metadata": {},
   "outputs": [],
   "source": [
    "e2_rim_means = bootstrap(e2_rim_data, nboot, bootfunc=np.mean)\n",
    "e1_bg_means = bootstrap(e1_bg_data, nboot, bootfunc=np.mean)\n",
    "e2_bg_means = bootstrap(e2_bg_data, nboot, bootfunc=np.mean)"
   ]
  },
  {
   "cell_type": "code",
   "execution_count": null,
   "id": "e1a3a599-0a91-4057-895c-ab385755caf3",
   "metadata": {},
   "outputs": [],
   "source": [
    "from astropy import uncertainty as unc"
   ]
  },
  {
   "cell_type": "markdown",
   "id": "1e75a1b9-fa08-4b53-90c2-90f06b382e6f",
   "metadata": {},
   "source": [
    "Reserve the bare names `e1_rim`, etc. for the uncertainty distributions"
   ]
  },
  {
   "cell_type": "code",
   "execution_count": null,
   "id": "221baa9f-3c2a-4ba0-bdc3-0e0a568f5bab",
   "metadata": {},
   "outputs": [],
   "source": [
    "e1_rim = unc.Distribution(e1_rim_means)\n",
    "e2_rim = unc.Distribution(e2_rim_means)\n",
    "e1_bg = unc.Distribution(e1_bg_means)\n",
    "e2_bg = unc.Distribution(e2_bg_means)\n",
    "\n",
    "R_bg = e1_bg / e2_bg\n",
    "R_bs = (e1_rim - e1_bg) / (e2_rim - e2_bg)"
   ]
  },
  {
   "cell_type": "code",
   "execution_count": null,
   "id": "9d4e2085-d745-4ad1-9e6d-d51eecae1f8f",
   "metadata": {},
   "outputs": [],
   "source": [
    "print(f\"BS 4363 / 5007 = {R_bs.pdf_mean():.4f} +/- {R_bs.pdf_std():.4f}\")\n",
    "print(f\"BG 4363 / 5007 = {R_bg.pdf_mean():.4f} +/- {R_bg.pdf_std():.4f}\")"
   ]
  },
  {
   "cell_type": "markdown",
   "id": "d87d342b-43b2-4bc7-9fc2-ac499ac8bf67",
   "metadata": {},
   "source": [
    "Calculate ratio for T grid with pyneb, since it is more efficient to use linear interpolation for large numbers of ratios:"
   ]
  },
  {
   "cell_type": "code",
   "execution_count": null,
   "id": "0f344b7c-e710-4ef9-8aeb-03d0eaa39af7",
   "metadata": {},
   "outputs": [],
   "source": [
    "Tgrid = np.linspace(5000.0, 30000.0, 251)\n",
    "Rgrid = o3.getEmissivity(tem=Tgrid, den=100.0, wave=4363) / o3.getEmissivity(tem=Tgrid, den=100.0, wave=5007)"
   ]
  },
  {
   "cell_type": "code",
   "execution_count": null,
   "id": "e23eb107-740d-4e09-87da-0329736f14ed",
   "metadata": {},
   "outputs": [],
   "source": [
    "T_bg = unc.Distribution(np.interp(R_bg.distribution, Rgrid, Tgrid))\n",
    "T_bs = unc.Distribution(np.interp(R_bs.distribution, Rgrid, Tgrid))"
   ]
  },
  {
   "cell_type": "code",
   "execution_count": null,
   "id": "61cf3992-4194-448a-ae94-c2953431d055",
   "metadata": {},
   "outputs": [],
   "source": [
    "fig, ax = plt.subplots(figsize=(6, 4))\n",
    "ax.hist(T_bg.distribution / 1000, bins=100, density=True, label=\"Background [O III]\")\n",
    "ax.hist(T_bs.distribution / 1000, bins=100, density=True, label=\"Bow shock [O III]\")\n",
    "ax.legend()\n",
    "ax.set(\n",
    "    xlabel=\"Temperature, kK\",\n",
    "    ylabel=\"Probability density, kK$^{-1}$\",\n",
    "    xlim=[11.9, 15.9],\n",
    ")\n",
    "sns.despine()\n",
    "fig.tight_layout();"
   ]
  },
  {
   "cell_type": "code",
   "execution_count": null,
   "id": "18aca19f-5de4-4bf6-9694-31e3fb8bfc81",
   "metadata": {},
   "outputs": [],
   "source": [
    "from mpdaf.obj import Image"
   ]
  },
  {
   "cell_type": "code",
   "execution_count": null,
   "id": "d81a6db0-9d5e-404e-b4b7-7b0354690984",
   "metadata": {},
   "outputs": [],
   "source": [
    "im4740 = Image(\"../data/ngc346-ariv-4740-correct.fits\")\n",
    "im4711 = Image(\"../data/ngc346-ariv-4711-correct.fits\")\n",
    "im7263 = Image(\"../data/ngc346-ariv-7263-correct.fits\")\n",
    "im7171 = Image(\"../data/ngc346-ariv-7171-correct.fits\")"
   ]
  },
  {
   "cell_type": "code",
   "execution_count": null,
   "id": "4a8440c2-2701-441d-bc0d-d742c33da3ee",
   "metadata": {},
   "outputs": [],
   "source": [
    "xslice, yslice = slice(230, 300), slice(144, 245)\n",
    "def boot2dist(im, w, nboot):\n",
    "    _data = im[yslice, xslice][20:60, 20:30].data.data\n",
    "    _mask = im[yslice, xslice][20:60, 20:30].data.mask\n",
    "    _w = w[yslice, xslice].data.data\n",
    "    #_statfunc = lambda x: np.average(x, weights=_w[~_mask])\n",
    "    _statfunc = np.mean\n",
    "    return unc.Distribution(\n",
    "        bootstrap(_data[~_mask], nboot, bootfunc=_statfunc)\n",
    "    )"
   ]
  },
  {
   "cell_type": "code",
   "execution_count": null,
   "id": "4add8533-f6e4-4720-a1a8-7588875c808c",
   "metadata": {},
   "outputs": [],
   "source": [
    "nboot = 10000\n",
    "weights = im4740 + im4711\n",
    "i4740 = boot2dist(im4740, weights, nboot)\n",
    "i4711 = boot2dist(im4711, weights, nboot)\n",
    "i7263 = boot2dist(im7263, weights, nboot)\n",
    "i7171 = boot2dist(im7171, weights, nboot)"
   ]
  },
  {
   "cell_type": "code",
   "execution_count": null,
   "id": "aeafa1db-251f-41f6-b597-d00d1b848961",
   "metadata": {},
   "outputs": [],
   "source": [
    "R1 = i4711 / i4740\n",
    "R34 = (i7263 + i7171) / (i4711 + i4740)\n",
    "R3 = i7263 / (i4711 + i4740)\n",
    "R4 = i7171 / (i4711 + i4740)"
   ]
  },
  {
   "cell_type": "code",
   "execution_count": null,
   "id": "896cc6ee-ac97-485c-8f91-52629283a18a",
   "metadata": {},
   "outputs": [],
   "source": [
    "print(f\"4711 / 4740 = {R1.pdf_mean():.4f} +/- {R1.pdf_std():.4f}\")\n",
    "print(f\"7263 / (4711 + 4740) = {R3.pdf_median():.4f} +/- {R3.pdf_std():.4f}\")\n",
    "print(f\"7171 / (4711 + 4740) = {R4.pdf_median():.4f} +/- {R4.pdf_std():.4f}\")"
   ]
  },
  {
   "cell_type": "code",
   "execution_count": null,
   "id": "4bd2a759-26d4-4bcf-804a-5abed1e5ce9e",
   "metadata": {},
   "outputs": [],
   "source": [
    "ar4 = pn.Atom(\"Ar\", 4)"
   ]
  },
  {
   "cell_type": "code",
   "execution_count": null,
   "id": "64f3eda1-a0c4-44c8-a921-e61e08ef3aca",
   "metadata": {},
   "outputs": [],
   "source": [
    "e4711 = ar4.getEmissivity(tem=Tgrid, den=100.0, wave=4711)\n",
    "e4740 = ar4.getEmissivity(tem=Tgrid, den=100.0, wave=4740)\n",
    "e7263 = ar4.getEmissivity(tem=Tgrid, den=100.0, wave=7263)\n",
    "e7171 = ar4.getEmissivity(tem=Tgrid, den=100.0, wave=7171)\n",
    "R34grid = (e7263 + e7171) / (e4711 + e4740)\n",
    "R3grid = e7263 / (e4711 + e4740)\n",
    "R4grid = e7171 / (e4711 + e4740)"
   ]
  },
  {
   "cell_type": "code",
   "execution_count": null,
   "id": "f350152e-b366-4c75-aa26-c0cd0a6d1ec5",
   "metadata": {},
   "outputs": [],
   "source": [
    "T_R3 = unc.Distribution(np.interp(R3.distribution, R3grid, Tgrid))\n",
    "T_R4 = unc.Distribution(np.interp(R4.distribution, R4grid, Tgrid))"
   ]
  },
  {
   "cell_type": "code",
   "execution_count": null,
   "id": "db1af0b5-ff7f-423d-b719-b628958108ed",
   "metadata": {},
   "outputs": [],
   "source": [
    "print(f\"T([Ar IV] R3) = {T_R3.pdf_mean():.4f} +/- {T_R3.pdf_std():.4f}\")\n",
    "print(f\"T([Ar IV] R4) = {T_R4.pdf_mean():.4f} +/- {T_R4.pdf_std():.4f}\")"
   ]
  },
  {
   "cell_type": "code",
   "execution_count": null,
   "id": "d7068aae-6fdf-4121-97d4-013771a5ee67",
   "metadata": {},
   "outputs": [],
   "source": [
    "fig, ax = plt.subplots(figsize=(7, 5))\n",
    "ax.hist(T_bg.distribution / 1000, bins=100, density=True, label=\"Background [O III]\", alpha=0.6)\n",
    "ax.hist(T_bs.distribution / 1000, bins=100, density=True, label=\"Bow shock [O III]\", alpha=0.6)\n",
    "ax.hist(T_R3.distribution / 1000, bins=100, density=True, label=\"Bow shock [Ar IV] R3\", alpha=0.6)\n",
    "#ax.hist(T_R4.distribution / 1000, bins=100, density=True, label=\"Bow shock [Ar IV] R4\", alpha=0.6)\n",
    "ax.legend()\n",
    "ax.set(\n",
    "    xlabel=\"Temperature, kK\",\n",
    "    ylabel=\"Probability density, kK$^{-1}$\",\n",
    "    xlim=[11.9, 18.1],\n",
    ")\n",
    "sns.despine()\n",
    "fig.tight_layout()\n",
    "fig.savefig(\"../figs/ngc346-bowshock-T-oiii-ariv.pdf\");"
   ]
  },
  {
   "cell_type": "code",
   "execution_count": null,
   "id": "9a765a9e-4238-4cbe-b2a0-160146c875af",
   "metadata": {
    "lines_to_next_cell": 2
   },
   "outputs": [],
   "source": [
    "dengrid = np.linspace(1.0, 5000.0, 1000)[::-1]\n",
    "e4711d = ar4.getEmissivity(tem=14500, den=dengrid, wave=4711)\n",
    "e4740d = ar4.getEmissivity(tem=14500, den=dengrid, wave=4740)\n",
    "R1grid = e4711d / e4740d"
   ]
  },
  {
   "cell_type": "code",
   "execution_count": null,
   "id": "1d00d77e-265c-487a-8ce9-1055c893992f",
   "metadata": {},
   "outputs": [],
   "source": [
    "den_R1 = unc.Distribution(np.interp(R1.distribution, R1grid, dengrid))"
   ]
  },
  {
   "cell_type": "code",
   "execution_count": null,
   "id": "9ebf9e18-12ff-4591-aa33-a173076e155f",
   "metadata": {},
   "outputs": [],
   "source": [
    "R1"
   ]
  },
  {
   "cell_type": "code",
   "execution_count": null,
   "id": "483e1830-1289-4aa4-8ec8-a9193c49c48e",
   "metadata": {
    "lines_to_next_cell": 2
   },
   "outputs": [],
   "source": [
    "print(f\"n_e([Ar IV] R1) = {den_R1.pdf_mean():.4f} +/- {den_R1.pdf_std():.4f}\")"
   ]
  },
  {
   "cell_type": "code",
   "execution_count": null,
   "id": "871f0693-7ecc-4f75-8eb5-79dda052b52d",
   "metadata": {},
   "outputs": [],
   "source": [
    "fig, ax = plt.subplots(figsize=(7, 5))\n",
    "ax.hist(den_R1.distribution, bins=100, density=True, label=\"$n_e$([Ar IV]) R1\", alpha=0.6)\n",
    "#ax.hist(T_R4.distribution / 1000, bins=100, density=True, label=\"Bow shock [Ar IV] R4\")\n",
    "ax.legend()\n",
    "ax.set(\n",
    "    xlabel=\"Density, cm$^{-3}$\",\n",
    "    ylabel=\"Probability density, cm$^{3}$\",\n",
    "    xlim=[0.0, 600.0],\n",
    "    ylim=[0.0, 0.004],\n",
    ")\n",
    "sns.despine()\n",
    "fig.tight_layout()\n",
    "fig.savefig(\"../figs/ngc346-bowshock-den-ariv.pdf\");"
   ]
  },
  {
   "cell_type": "code",
   "execution_count": null,
   "id": "9fbeeade-2e89-4b3c-ace5-cc8e9bd1c55c",
   "metadata": {},
   "outputs": [],
   "source": [
    "R1"
   ]
  },
  {
   "cell_type": "code",
   "execution_count": null,
   "id": "f0b95bdb-4a0a-4c0b-b0eb-7262368c1c41",
   "metadata": {},
   "outputs": [],
   "source": [
    "(im4711[yslice, xslice].rebin(4) / im4740[yslice, xslice].rebin(4)).plot(vmin=1.0, vmax=2.0, colorbar=\"v\")"
   ]
  },
  {
   "cell_type": "code",
   "execution_count": null,
   "id": "0dd6f7e8-431d-4804-8ff4-7eae908eb452",
   "metadata": {
    "lines_to_next_cell": 0
   },
   "outputs": [],
   "source": [
    "win4711 = im4711[yslice, xslice]\n",
    "win4740 = im4740[yslice, xslice]\n",
    "\n",
    "prof4711 = np.mean(win4711.data[20:60, :], axis=0)\n",
    "prof4740 = np.mean(win4740.data[20:60, :], axis=0)\n",
    "fig, ax = plt.subplots()\n",
    "\n",
    "ax.plot(prof4711 / prof4740)\n",
    "ax.plot((prof4711 + prof4740) / 400)"
   ]
  },
  {
   "cell_type": "code",
   "execution_count": null,
   "id": "a370a7e0-781c-433f-b235-74dea7ce154d",
   "metadata": {
    "lines_to_next_cell": 2
   },
   "outputs": [],
   "source": []
  },
  {
   "cell_type": "markdown",
   "id": "b016c09a",
   "metadata": {},
   "source": [
    "## More graphs"
   ]
  },
  {
   "cell_type": "code",
   "execution_count": null,
   "id": "6e91d5ee",
   "metadata": {},
   "outputs": [],
   "source": [
    "fig, axes = plt.subplots(2, 1, figsize=(12, 12))\n",
    "n = 8\n",
    "sA = {e.name: e.multiA[n].data for e in emlines.values()}\n",
    "e = emlines[\"[O III] 5007\"]\n",
    "posA = e.multiA[n].position\n",
    "sB = {e.name: e.multiB[n].data for e in emlines.values()}\n",
    "e = emlines[\"[O III] 5007\"]\n",
    "posB = e.multiB[n].position\n",
    "\n",
    "for ax, pos, s in zip(axes, [posA, posB], [sA, sB]):\n",
    "    ax.plot(\n",
    "        pos,\n",
    "        s[\"[O III] 4363\"]\n",
    "        / s[\"[O III] 5007\"]\n",
    "        / np.nanmedian(s[\"[O III] 4363\"] / s[\"[O III] 5007\"]),\n",
    "        linewidth=1.0,\n",
    "        alpha=1.0,\n",
    "        label=\"[O III] 4363 / 5007\",\n",
    "    )\n",
    "    ax.plot(\n",
    "        pos,\n",
    "        0.15 + s[\"[Ne III] 3869\"]\n",
    "        / s[\"[O III] 5007\"]\n",
    "        / np.nanmedian(s[\"[Ne III] 3869\"] / s[\"[O III] 5007\"]),\n",
    "        linewidth=1.0,\n",
    "        alpha=1.0,\n",
    "        label=\"[Ne III] 3869 / [O III] 5007\",\n",
    "    )\n",
    "    ax.plot(\n",
    "        pos,\n",
    "        -0.3 + + s[\"He I 5876\"] / s[\"H I 4861\"] / np.nanmedian(s[\"He I 5876\"] / s[\"H I 4861\"]),\n",
    "        #    0.1* s4341 / np.median(s4341),\n",
    "        linewidth=1.0,\n",
    "        alpha=1.0,\n",
    "        label=\"He I 5876 / H I 4861\",\n",
    "    )\n",
    "    ax.plot(\n",
    "        pos,\n",
    "        -0.15 + s[\"H I 4340\"] / s[\"H I 4861\"] / np.nanmedian(s[\"H I 4340\"] / s[\"H I 4861\"]),\n",
    "        linewidth=1.0,\n",
    "        alpha=1.0,\n",
    "        label=\"Hγ / Hβ\",\n",
    "    )\n",
    "    # ax.plot(positions, 0.0003 * s4686, linewidth=2.0, alpha=1.0)\n",
    "    ax.axhline(0.0, linestyle=\"dashed\", color=\"k\")\n",
    "    ax.axvline(0.0, linestyle=\"dotted\", color=\"k\")\n",
    "\n",
    "    ax.legend(fontsize=\"x-small\", ncol=2)\n",
    "    ax.set(\n",
    "        # xlim=[-10, 50],\n",
    "        # xlim=[-230, 200],\n",
    "        ylim=[0.4, 1.35],\n",
    "    )"
   ]
  },
  {
   "cell_type": "code",
   "execution_count": null,
   "id": "377005a3",
   "metadata": {},
   "outputs": [],
   "source": [
    "posA[np.isfinite(posA)]"
   ]
  },
  {
   "cell_type": "code",
   "execution_count": null,
   "id": "3208e534",
   "metadata": {},
   "outputs": [],
   "source": [
    "fig, axes = plt.subplots(2, 1, figsize=(12, 6))\n",
    "for ax, ew in zip(axes, [\"ewA\", \"ewB\"]):\n",
    "    for line in \"[O III] 5007\", \"H I 4861\":\n",
    "        p = getattr(emlines[line], ew)\n",
    "        ax.plot(p.position, p.data, linewidth=3.0, alpha=1.0, label=line)\n",
    "    ax.axhline(0.0, linestyle=\"dashed\", color=\"k\")\n",
    "    ax.axvline(0.0, linestyle=\"dotted\", color=\"k\")\n",
    "    ax.legend()\n",
    "    ax.set(\n",
    "        # xlim=[-10, 50],\n",
    "        # ylim=[-0.003, 0.02],\n",
    "    )"
   ]
  },
  {
   "cell_type": "code",
   "execution_count": null,
   "id": "31db1d13",
   "metadata": {},
   "outputs": [],
   "source": [
    "fig, axes = plt.subplots(2, 1, figsize=(12, 6))\n",
    "for ax, ew in zip(axes, [\"ewA\", \"ewB\"]):\n",
    "    for line in \"He I 5876\", \"[Ne III] 3869\":\n",
    "        p = getattr(emlines[line], ew)\n",
    "        ax.plot(p.position, p.data, linewidth=3.0, alpha=1.0, label=line)\n",
    "    ax.axhline(0.0, linestyle=\"dashed\", color=\"k\")\n",
    "    ax.axvline(0.0, linestyle=\"dotted\", color=\"k\")\n",
    "    ax.legend()\n",
    "    ax.set(\n",
    "        # xlim=[-10, 50],\n",
    "        # ylim=[-0.003, 0.02],\n",
    "    )"
   ]
  },
  {
   "cell_type": "code",
   "execution_count": null,
   "id": "09c21ddc",
   "metadata": {},
   "outputs": [],
   "source": [
    "fig, axes = plt.subplots(2, 1, figsize=(12, 6))\n",
    "n = 16\n",
    "for ax, multi in zip(axes, [\"multiA\", \"multiB\"]):\n",
    "    for line in \"[O III] 4363\", \"[N II] 5755\":\n",
    "        p = getattr(emlines[line], multi)[n]\n",
    "        ax.plot(\n",
    "            p.position, p.data / np.nanmax(p.data), linewidth=1.5, alpha=1.0, label=line\n",
    "        )\n",
    "    ax.axhline(0.0, linestyle=\"dashed\", color=\"k\")\n",
    "    ax.axvline(0.0, linestyle=\"dotted\", color=\"k\")\n",
    "    ax.legend()\n",
    "    ax.set(\n",
    "        # xlim=[-10, 50],\n",
    "        ylim=[-0.05, 1.1],\n",
    "    )"
   ]
  },
  {
   "cell_type": "code",
   "execution_count": null,
   "id": "d8f6a3db",
   "metadata": {},
   "outputs": [],
   "source": [
    "fig, axes = plt.subplots(2, 1, figsize=(12, 12))\n",
    "n = 32\n",
    "for ax, multi in zip(axes, [\"multiA\", \"multiB\"]):\n",
    "    for line in \"[Fe III] 4658\", \"[Fe III] 4987\", \"[Fe III] 5270\":\n",
    "        p = getattr(emlines[line], multi)[n]\n",
    "        scale = 100 / getattr(emlines[\"H I 4861\"], multi)[n].data\n",
    "        if \"4987\" in line:\n",
    "            correct = getattr(emlines[\"Wing 4975\"], multi)[n].data\n",
    "        else:\n",
    "            correct = 0.0\n",
    "        ax.plot(\n",
    "            p.position, scale * (p.data - correct), linewidth=1.5, alpha=1.0, label=line\n",
    "        )\n",
    "    ax.axhline(0.0, linestyle=\"dashed\", color=\"k\")\n",
    "    ax.axvline(0.0, linestyle=\"dotted\", color=\"k\")\n",
    "    ax.legend()\n",
    "    ax.set(\n",
    "        #        xlim=[-100, 50],\n",
    "        xlim=[xmin, xmax],\n",
    "        ylim=[-0.1, 1.5],\n",
    "    )"
   ]
  },
  {
   "cell_type": "code",
   "execution_count": null,
   "id": "06c83bfd",
   "metadata": {},
   "outputs": [],
   "source": []
  }
 ],
 "metadata": {
  "jupytext": {
   "encoding": "# -*- coding: utf-8 -*-",
   "formats": "ipynb,py:light,md"
  },
  "kernelspec": {
   "display_name": "Python 3",
   "language": "python",
   "name": "python3"
  },
  "language_info": {
   "codemirror_mode": {
    "name": "ipython",
    "version": 3
   },
   "file_extension": ".py",
   "mimetype": "text/x-python",
   "name": "python",
   "nbconvert_exporter": "python",
   "pygments_lexer": "ipython3",
   "version": "3.9.4"
  }
 },
 "nbformat": 4,
 "nbformat_minor": 5
}
