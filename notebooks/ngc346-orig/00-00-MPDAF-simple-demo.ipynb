{
 "cells": [
  {
   "cell_type": "markdown",
   "id": "d0a99879",
   "metadata": {},
   "source": [
    "# Test of MPDAF for reducing MUSE data cubes"
   ]
  },
  {
   "cell_type": "markdown",
   "id": "d87beee4",
   "metadata": {},
   "source": [
    "I am going to follow along with the instructions in the [Getting Started](https://mpdaf.readthedocs.io/en/latest/start.html) page of the docs.  First import the library (I installed it with `pip install mpdaf`):"
   ]
  },
  {
   "cell_type": "code",
   "execution_count": null,
   "id": "6782664b",
   "metadata": {},
   "outputs": [],
   "source": [
    "from mpdaf.obj import Cube"
   ]
  },
  {
   "cell_type": "markdown",
   "id": "f41b453a",
   "metadata": {},
   "source": [
    "Now specify where the FITS file is"
   ]
  },
  {
   "cell_type": "code",
   "execution_count": null,
   "id": "4effb404",
   "metadata": {},
   "outputs": [],
   "source": [
    "from pathlib import Path"
   ]
  },
  {
   "cell_type": "code",
   "execution_count": null,
   "id": "b3e68157",
   "metadata": {},
   "outputs": [],
   "source": [
    "datapath = Path(\"/Users/will/Work/Muse-Hii-Data/SMC-NGC-346/\")\n",
    "fitsfilepath = datapath / \"ADP.2017-10-16T11_04_19.247.fits\""
   ]
  },
  {
   "cell_type": "markdown",
   "id": "523e27a4",
   "metadata": {},
   "source": [
    "## Load the data cube\n",
    "\n",
    "It turns out that you can't send a path object directly to `Cube`, so we have to convert it to a string first:"
   ]
  },
  {
   "cell_type": "code",
   "execution_count": null,
   "id": "b4c8bc62",
   "metadata": {},
   "outputs": [],
   "source": [
    "cube = Cube(str(fitsfilepath))"
   ]
  },
  {
   "cell_type": "code",
   "execution_count": null,
   "id": "d8ee55ee",
   "metadata": {},
   "outputs": [],
   "source": [
    "cube.info()"
   ]
  },
  {
   "cell_type": "markdown",
   "id": "cca7ce85",
   "metadata": {},
   "source": [
    "## Inspect an image\n",
    "\n",
    "Sum all the wavelengths to make a white-light image"
   ]
  },
  {
   "cell_type": "code",
   "execution_count": null,
   "id": "c69f7f70",
   "metadata": {},
   "outputs": [],
   "source": [
    "ima = cube.sum(axis=0)\n",
    "type(ima)"
   ]
  },
  {
   "cell_type": "markdown",
   "id": "f36369de",
   "metadata": {},
   "source": [
    "Now, we will plot the image.  First, load the graphics libraries:"
   ]
  },
  {
   "cell_type": "code",
   "execution_count": null,
   "id": "9f5e2f4b",
   "metadata": {},
   "outputs": [],
   "source": [
    "from matplotlib import pyplot as plt\n",
    "import seaborn as sns"
   ]
  },
  {
   "cell_type": "markdown",
   "id": "84b2e22f",
   "metadata": {},
   "source": [
    "I make a few changes from the tutorial.  I make the figure a bit bigger than default, change the brightness scale to logarithmic, and use an inverse grayscale color map. Also, I use the `use_wcs` option so that the axes are plotted in celestial coordinates."
   ]
  },
  {
   "cell_type": "code",
   "execution_count": null,
   "id": "e45946af",
   "metadata": {},
   "outputs": [],
   "source": [
    "fig, ax = plt.subplots(figsize=(10, 10))\n",
    "ima.plot(use_wcs=True, cmap=\"gray_r\", scale=\"log\", colorbar=\"v\");"
   ]
  },
  {
   "cell_type": "markdown",
   "id": "4ead42f2",
   "metadata": {},
   "source": [
    "So, the white light image is dominated by the stars, but there is a bit of diffuse emission visible too."
   ]
  },
  {
   "cell_type": "markdown",
   "id": "202f241b",
   "metadata": {},
   "source": [
    "## Look at spectrum\n",
    "\n",
    "Sum all the spatial pixels to get a global spectrum:"
   ]
  },
  {
   "cell_type": "code",
   "execution_count": null,
   "id": "3aa61f09",
   "metadata": {},
   "outputs": [],
   "source": [
    "sp = cube.sum(axis=(1, 2))\n",
    "type(sp)"
   ]
  },
  {
   "cell_type": "markdown",
   "id": "5f4d5fd2",
   "metadata": {},
   "source": [
    "Plot the full range of the spectrum on a log scale:"
   ]
  },
  {
   "cell_type": "code",
   "execution_count": null,
   "id": "a2a51791",
   "metadata": {},
   "outputs": [],
   "source": [
    "fig, ax = plt.subplots(figsize=(10, 5))\n",
    "sp.plot(ax=ax)\n",
    "ax.set(\n",
    "    yscale = \"log\",\n",
    ");"
   ]
  },
  {
   "cell_type": "markdown",
   "id": "7d78d17e",
   "metadata": {},
   "source": [
    "Zoom in on the region around Hα λ6563 and zoom the vertical axis to emphasize weaker lines:"
   ]
  },
  {
   "cell_type": "code",
   "execution_count": null,
   "id": "b07f65b5",
   "metadata": {},
   "outputs": [],
   "source": [
    "fig, ax = plt.subplots(figsize=(10, 5))\n",
    "sp.plot(ax=ax)\n",
    "ax.set(\n",
    "    xlim=[6200, 6800],\n",
    "    yscale = \"linear\",\n",
    "    ylim=[1.3e7, 2e7],\n",
    ");"
   ]
  },
  {
   "cell_type": "markdown",
   "id": "74d68428",
   "metadata": {},
   "source": [
    "We see [O I] λλ6300,6363 and [S III] λ6312. Then the [N II] + Hα cluster with what looks like underlying stellar absorption on the Hα.  Then He I λ6678 with clear stellar absorption, then the [S II] λλ6716,31 doublet."
   ]
  },
  {
   "cell_type": "code",
   "execution_count": null,
   "id": "e1436276",
   "metadata": {},
   "outputs": [],
   "source": []
  }
 ],
 "metadata": {
  "jupytext": {
   "encoding": "# -*- coding: utf-8 -*-",
   "formats": "ipynb,py:light"
  },
  "kernelspec": {
   "display_name": "Python 3",
   "language": "python",
   "name": "python3"
  },
  "language_info": {
   "codemirror_mode": {
    "name": "ipython",
    "version": 3
   },
   "file_extension": ".py",
   "mimetype": "text/x-python",
   "name": "python",
   "nbconvert_exporter": "python",
   "pygments_lexer": "ipython3",
   "version": "3.9.4"
  }
 },
 "nbformat": 4,
 "nbformat_minor": 5
}
