{
 "cells": [
  {
   "cell_type": "markdown",
   "id": "d199866e",
   "metadata": {},
   "source": [
    "# Extract blue lines\n",
    "\n",
    "Mainly Hβ, He II, He I, [O III], [Ar IV], [N I], Si II"
   ]
  },
  {
   "cell_type": "markdown",
   "id": "31b6f7e2",
   "metadata": {},
   "source": [
    "## Library imports and data loading\n",
    "\n",
    "Copied from the `02-01-Raman-Wings-IR-Source-C` notebook:"
   ]
  },
  {
   "cell_type": "code",
   "execution_count": null,
   "id": "7db9b5ac",
   "metadata": {},
   "outputs": [],
   "source": [
    "from pathlib import Path\n",
    "import numpy as np\n",
    "from matplotlib import pyplot as plt\n",
    "import seaborn as sns\n",
    "from mpdaf.obj import Cube\n",
    "import regions\n",
    "import sys\n",
    "sys.path.append(\"../lib\")\n",
    "import moments\n",
    "import extract\n",
    "\n",
    "sns.set_context(\"talk\")\n",
    "sns.set_color_codes()"
   ]
  },
  {
   "cell_type": "code",
   "execution_count": null,
   "id": "966c4d04",
   "metadata": {},
   "outputs": [],
   "source": [
    "moments.FIGPATH = Path(\"../figs\")\n",
    "moments.SAVEPATH = Path(\"../data\")"
   ]
  },
  {
   "cell_type": "markdown",
   "id": "a80e1740",
   "metadata": {},
   "source": [
    "Load the co-added datacube (cube1) and the good-seeing one (cube2)."
   ]
  },
  {
   "cell_type": "code",
   "execution_count": null,
   "id": "60e95590",
   "metadata": {},
   "outputs": [],
   "source": [
    "datapath = Path(\"/Users/will/Work/Muse-Hii-Data/SMC-NGC-346/\")\n",
    "file1 = \"ADP.2017-10-16T11_04_19.247.fits\"\n",
    "file2 = \"ADP.2016-10-12T05_43_23.882.fits\"\n",
    "cube1 = Cube(str(datapath / file1))\n",
    "cube2 = Cube(str(datapath / file2))"
   ]
  },
  {
   "cell_type": "markdown",
   "id": "4e5a2e1c",
   "metadata": {},
   "source": [
    "## Use moments to extract the Hβ line and other blue lines"
   ]
  },
  {
   "cell_type": "markdown",
   "id": "e3ca9327",
   "metadata": {},
   "source": [
    "Use a generic name for the cube over the broad wavelength range to reduce need for edits when we repurpose this later."
   ]
  },
  {
   "cell_type": "code",
   "execution_count": null,
   "id": "aafbb734",
   "metadata": {},
   "outputs": [],
   "source": [
    "wavmin, wavmax = 4600, 5400"
   ]
  },
  {
   "cell_type": "markdown",
   "id": "f36d7b30",
   "metadata": {},
   "source": [
    "We mainly work with the good seeing cube, but also use the summed one (mcube). "
   ]
  },
  {
   "cell_type": "code",
   "execution_count": null,
   "id": "93ce3b75",
   "metadata": {},
   "outputs": [],
   "source": [
    "cube = cube2.select_lambda(wavmin, wavmax)\n",
    "mcube = cube1.select_lambda(wavmin, wavmax)"
   ]
  },
  {
   "cell_type": "code",
   "execution_count": null,
   "id": "a47150f4",
   "metadata": {},
   "outputs": [],
   "source": [
    "# Position of mYSO\n",
    "x, y = 116, 147\n",
    "# position of B0 star SSN 43\n",
    "xb, yb = 95, 163\n",
    "# position of B0 star SSN 40\n",
    "xbb, ybb = 121, 133\n",
    "m = 3\n",
    "\n",
    "boxes = {\n",
    "    \"SSN 152+168\": regions.BoundingBox(\n",
    "        iymin=y-m, iymax=y+m, ixmin=x-m, ixmax=x+m,\n",
    "    ),\n",
    "#    \"BG 152+168\": regions.BoundingBox(\n",
    "#        iymin=y-2*m, iymax=y+2*m, ixmin=x-2*m, ixmax=x+2*m,\n",
    "#    ),\n",
    "    \"SSN 43\": regions.BoundingBox(\n",
    "        iymin=yb-m, iymax=yb+m, ixmin=xb-m, ixmax=xb+m,\n",
    "    ),\n",
    "#    \"BG 43\": regions.BoundingBox(\n",
    "#        iymin=yb-2*m, iymax=yb+2*m, ixmin=xb-2*m, ixmax=xb+2*m,\n",
    "#    ),\n",
    "    \"SSN 40\": regions.BoundingBox(\n",
    "        iymin=ybb-m, iymax=ybb+m, ixmin=xbb-m, ixmax=xbb+m,\n",
    "    ),\n",
    "#    \"BG 40\": regions.BoundingBox(\n",
    "#        iymin=ybb-2*m, iymax=ybb+2*m, ixmin=xbb-2*m, ixmax=xbb+2*m,\n",
    "#    ),\n",
    "    \"blue\": regions.BoundingBox(\n",
    "        iymin=75, iymax=140, ixmin=15, ixmax=40\n",
    "    ),\n",
    "    \"red\": regions.BoundingBox(\n",
    "        iymin=200, iymax=250, ixmin=210, ixmax=300\n",
    "    ),\n",
    "    \"magenta\": regions.BoundingBox(\n",
    "        iymin=10, iymax=50, ixmin=100, ixmax=150\n",
    "    ),\n",
    "    \"green\": regions.BoundingBox(\n",
    "        iymin=10, iymax=100, ixmin=200, ixmax=300\n",
    "    ),\n",
    "    \"cyan\": regions.BoundingBox(\n",
    "        iymin=170, iymax=210, ixmin=90, ixmax=120\n",
    "    ),\n",
    "}\n"
   ]
  },
  {
   "cell_type": "markdown",
   "id": "e625f901",
   "metadata": {},
   "source": [
    "These are the ranges that the continum is fitted to. It is OK if they contain some weak lines."
   ]
  },
  {
   "cell_type": "code",
   "execution_count": null,
   "id": "405be96d",
   "metadata": {},
   "outputs": [],
   "source": [
    "wavranges = [\n",
    "    (4600, 4620), (4720, 4730), (4760, 4800),\n",
    "    (4937, 4947), (4974, 4984), (5028, 5038), (5070, 5100), \n",
    "    (5120, 5145), (5220, 5260), (5330, 5390),\n",
    "]"
   ]
  },
  {
   "cell_type": "code",
   "execution_count": null,
   "id": "76545d57",
   "metadata": {},
   "outputs": [],
   "source": [
    "fig, ax = plt.subplots(figsize=(12, 12))\n",
    "for label, box in boxes.items():\n",
    "    yslice, xslice = box.slices\n",
    "    spec = cube[:, yslice, xslice].mean(axis=(1, 2))\n",
    "    (spec / spec.data[-1]).plot(label=label)\n",
    "    \n",
    "for wavrange in wavranges:\n",
    "    ax.axvspan(*wavrange, alpha=0.3)\n",
    "ax.legend()\n",
    "ax.set(\n",
    "    ylim=[0.8, 2.0],\n",
    ")\n",
    "sns.despine();"
   ]
  },
  {
   "cell_type": "code",
   "execution_count": null,
   "id": "4798c803",
   "metadata": {},
   "outputs": [],
   "source": [
    "yslice, xslice = boxes[\"SSN 152+168\"].slices\n",
    "subcube = cube[:, yslice, xslice]\n",
    "contcube = extract.fit_continuum(\n",
    "    subcube, wav_ranges=wavranges, deg=6, median=False,\n",
    ")"
   ]
  },
  {
   "cell_type": "code",
   "execution_count": null,
   "id": "10520cc2",
   "metadata": {},
   "outputs": [],
   "source": [
    "fig, ax = plt.subplots()\n",
    "subcube.mean(axis=(1, 2)).plot()\n",
    "contcube.mean(axis=(1, 2)).plot()\n",
    "for wavrange in wavranges:\n",
    "    ax.axvspan(*wavrange, alpha=0.3)\n",
    "ax.set(ylim=[4000, 8000])"
   ]
  },
  {
   "cell_type": "code",
   "execution_count": null,
   "id": "9099a5ef",
   "metadata": {},
   "outputs": [],
   "source": [
    "yslice, xslice = boxes[\"green\"].slices\n",
    "subcube = mcube[:, yslice, xslice]\n",
    "contcube = extract.fit_continuum(\n",
    "    subcube, wav_ranges=wavranges, deg=6, median=False,\n",
    ")"
   ]
  },
  {
   "cell_type": "code",
   "execution_count": null,
   "id": "c2f36622",
   "metadata": {},
   "outputs": [],
   "source": [
    "fig, ax = plt.subplots()\n",
    "subcube.mean(axis=(1, 2)).plot()\n",
    "contcube.mean(axis=(1, 2)).plot()\n",
    "for wavrange in wavranges:\n",
    "    ax.axvspan(*wavrange, alpha=0.3)\n",
    "ax.set(ylim=[0, 180]);"
   ]
  },
  {
   "cell_type": "markdown",
   "id": "272709b4",
   "metadata": {},
   "source": [
    "So it turns out that a high order polynomial is needed because of the broad wavelength range.  And it is better to use the full set of points rather than the median *and* that is faster too!\n",
    "\n",
    "Calculating the median must be expensive."
   ]
  },
  {
   "cell_type": "code",
   "execution_count": null,
   "id": "b72e7219",
   "metadata": {},
   "outputs": [],
   "source": [
    "contcube = extract.fit_continuum(\n",
    "    cube, wav_ranges=wavranges, deg=6, median=False,\n",
    ")"
   ]
  },
  {
   "cell_type": "code",
   "execution_count": null,
   "id": "6250524b",
   "metadata": {},
   "outputs": [],
   "source": [
    "mcontcube = extract.fit_continuum(\n",
    "    mcube, wav_ranges=wavranges, deg=6, median=False,\n",
    ")"
   ]
  },
  {
   "cell_type": "code",
   "execution_count": null,
   "id": "c221833e",
   "metadata": {},
   "outputs": [],
   "source": [
    "fig, ax = plt.subplots(figsize=(12, 12))\n",
    "for box in boxes.values():\n",
    "    yslice, xslice = box.slices\n",
    "    spec = cube[:, yslice, xslice].mean(axis=(1, 2))\n",
    "    cspec = contcube[:, yslice, xslice].mean(axis=(1, 2))\n",
    "    spec.plot()\n",
    "    cspec.plot(color=\"k\")\n",
    "    \n",
    "for wavrange in wavranges:\n",
    "    ax.axvspan(*wavrange, alpha=0.3)\n",
    "ax.set(\n",
    "    ylim=[0, 16000],\n",
    ")\n",
    "sns.despine();"
   ]
  },
  {
   "cell_type": "code",
   "execution_count": null,
   "id": "865ceb60",
   "metadata": {},
   "outputs": [],
   "source": [
    "prefix = f\"../big-data/ngc346-sharp-{wavmin:d}-{wavmax:d}-cube\"\n",
    "prefix"
   ]
  },
  {
   "cell_type": "code",
   "execution_count": null,
   "id": "0f5e7dd1",
   "metadata": {},
   "outputs": [],
   "source": [
    "csubcube = (cube - contcube)\n",
    "cdivcube = (cube / contcube)"
   ]
  },
  {
   "cell_type": "code",
   "execution_count": null,
   "id": "d8407975",
   "metadata": {},
   "outputs": [],
   "source": [
    "csubcube.write(\n",
    "    f\"{prefix}-contsub.fits\",\n",
    "    savemask=\"nan\",\n",
    "    )\n",
    "cdivcube.write(\n",
    "    f\"{prefix}-contdiv.fits\",\n",
    "    savemask=\"nan\",\n",
    "    )\n",
    "contcube.write(\n",
    "    f\"{prefix}-cont.fits\",\n",
    "    savemask=\"nan\",\n",
    "    )"
   ]
  },
  {
   "cell_type": "code",
   "execution_count": null,
   "id": "c127b193",
   "metadata": {},
   "outputs": [],
   "source": [
    "mprefix = f\"../big-data/ngc346-{wavmin:d}-{wavmax:d}-cube\"\n",
    "mprefix"
   ]
  },
  {
   "cell_type": "code",
   "execution_count": null,
   "id": "09ba2710",
   "metadata": {},
   "outputs": [],
   "source": [
    "mcsubcube = (mcube - mcontcube)\n",
    "mcdivcube = (mcube / mcontcube)"
   ]
  },
  {
   "cell_type": "code",
   "execution_count": null,
   "id": "e132d5c9",
   "metadata": {},
   "outputs": [],
   "source": [
    "mcsubcube.write(\n",
    "    f\"{mprefix}-contsub.fits\",\n",
    "    savemask=\"nan\",\n",
    "    )\n",
    "mcdivcube.write(\n",
    "    f\"{mprefix}-contdiv.fits\",\n",
    "    savemask=\"nan\",\n",
    "    )\n",
    "mcontcube.write(\n",
    "    f\"{mprefix}-cont.fits\",\n",
    "    savemask=\"nan\",\n",
    "    )"
   ]
  },
  {
   "cell_type": "markdown",
   "id": "f036e452",
   "metadata": {},
   "source": [
    "## Inspect the blue spectrum\n",
    "\n",
    "Compare bow shock to median of cube"
   ]
  },
  {
   "cell_type": "code",
   "execution_count": null,
   "id": "9f830919",
   "metadata": {
    "lines_to_next_cell": 2
   },
   "outputs": [],
   "source": [
    "mboxes = {\n",
    "    \"sw filament\": regions.BoundingBox(\n",
    "        iymin=30, iymax=50, ixmin=300, ixmax=330,\n",
    "    ),\n",
    "    \"bow shock\": regions.BoundingBox(\n",
    "        iymin=165, iymax=205, ixmin=240, ixmax=290,\n",
    "    ),\n",
    "    \"w filament\": regions.BoundingBox(\n",
    "        iymin=100, iymax=130, ixmin=25, ixmax=55,\n",
    "    ),\n",
    "    \"c filament\": regions.BoundingBox(\n",
    "        iymin=195, iymax=210, ixmin=155, ixmax=195,\n",
    "    ),\n",
    "}"
   ]
  },
  {
   "cell_type": "code",
   "execution_count": null,
   "id": "81f6c05f",
   "metadata": {},
   "outputs": [],
   "source": [
    "yslice, xslice = mboxes[\"bow shock\"].slices\n",
    "bowspec_sub = mcsubcube[:, yslice, xslice].mean(axis=(1, 2))\n",
    "avspec_sub = mcsubcube.median(axis=(1, 2))\n",
    "medspec_sub = mcsubcube.median(axis=(1, 2))"
   ]
  },
  {
   "cell_type": "code",
   "execution_count": null,
   "id": "39d78680",
   "metadata": {},
   "outputs": [],
   "source": [
    "hi_wavs = [4641.81, 4650.00, 4685.71, 4711.37, 4740.17]\n",
    "med_wavs = [4658.10, 4701.62, 4713.14, 4861.32, 4921.93, 4931.32]"
   ]
  },
  {
   "cell_type": "code",
   "execution_count": null,
   "id": "0dd629bf",
   "metadata": {},
   "outputs": [],
   "source": [
    "fig, ax = plt.subplots(figsize=(12, 6))\n",
    "wav1, wav2 = 4620, 4950\n",
    "(bowspec_sub).subspec(wav1, wav2).plot(linewidth=5, alpha=1.0, color=\"c\")\n",
    "(medspec_sub).subspec(wav1, wav2).plot(color=\"k\", linewidth=2)\n",
    "for wav in hi_wavs:\n",
    "    ax.axvline(wav*(1.0 + 160.0/3e5), ymin=0.3, ymax=0.4, color=\"r\", linewidth=3, alpha=1.0)\n",
    "for wav in med_wavs:\n",
    "    ax.axvline(wav*(1.0 + 160.0/3e5), ymin=0.25, ymax=0.3, color=\"b\", linewidth=3, alpha=1.0)\n",
    "ax.axhline(0.0, linestyle=\"dashed\", color=\"r\", linewidth=1)\n",
    "ax.set(\n",
    "    ylim=[-10, 100],\n",
    ")\n",
    "sns.despine()\n",
    "fig.savefig(f\"../figs/ngc346-bow-shock-spec-{wav1}-{wav2}.pdf\")"
   ]
  },
  {
   "cell_type": "markdown",
   "id": "b91484a0",
   "metadata": {},
   "source": [
    "Left to right:\n",
    "\n",
    "* 4641, 4650: could be O II lines? seen from bow shock only, but weird if true\n",
    "* 4658 [Fe III] BG only\n",
    "* 4686 He II - bow shock only\n",
    "* 4713 [Fe III] BG only (very weak)\n",
    "* 4711+13 [Ar IV] + He I (and could also include [Ne IV] 4714, except that 4725 is not seen)\n",
    "* 4740 [Ar IV]\n",
    "* 4861 H beta\n",
    "* 4921.93 He I\n",
    "* 4931.32 [O III] - the very weak component of the triplet"
   ]
  },
  {
   "cell_type": "code",
   "execution_count": null,
   "id": "b692b51a",
   "metadata": {},
   "outputs": [],
   "source": []
  },
  {
   "cell_type": "markdown",
   "id": "f3828a81",
   "metadata": {},
   "source": [
    "The long wavelength side of the strong [O III] lines is less interesting:"
   ]
  },
  {
   "cell_type": "code",
   "execution_count": null,
   "id": "da532878",
   "metadata": {},
   "outputs": [],
   "source": [
    "fig, ax = plt.subplots(figsize=(12, 6))\n",
    "wav1, wav2 = 5015, 5400\n",
    "(bowspec_sub).subspec(wav1, wav2).plot(linewidth=5, alpha=1.0, color=\"c\")\n",
    "(medspec_sub).subspec(wav1, wav2).plot(color=\"k\", linewidth=2)\n",
    "#for wav in ariv_lines:\n",
    "#    ax.axvline(wav*(1.0 + 160.0/3e5), ymin=0.3, ymax=0.4, color=\"k\", linewidth=3, alpha=0.5)\n",
    "ax.axhline(0.0, linestyle=\"dashed\", color=\"r\", linewidth=1)\n",
    "ax.set(\n",
    "    ylim=[-2, 20],\n",
    ")\n",
    "sns.despine();"
   ]
  },
  {
   "cell_type": "markdown",
   "id": "cb400dff",
   "metadata": {},
   "source": [
    "He I line at 5047.74 and [Ar III] line at 5193.69"
   ]
  },
  {
   "cell_type": "markdown",
   "id": "0a3c5316",
   "metadata": {},
   "source": [
    "## Extract He II line"
   ]
  },
  {
   "cell_type": "code",
   "execution_count": null,
   "id": "d3c19bb7",
   "metadata": {},
   "outputs": [],
   "source": [
    "mom4686 = moments.find_moments(\n",
    "    mcsubcube.select_lambda(4686, 4691)\n",
    ")"
   ]
  },
  {
   "cell_type": "code",
   "execution_count": null,
   "id": "7a2c9187",
   "metadata": {},
   "outputs": [],
   "source": [
    "dlam, _, _ = cube.get_step()\n",
    "cont4686 = mcontcube.select_lambda(4686, 4691).mean(axis=0)\n",
    "ew4686 = (\n",
    "    dlam * mom4686[0] / cont4686 \n",
    ")"
   ]
  },
  {
   "cell_type": "code",
   "execution_count": null,
   "id": "0495c226",
   "metadata": {},
   "outputs": [],
   "source": [
    "cont4686.write?"
   ]
  },
  {
   "cell_type": "code",
   "execution_count": null,
   "id": "33d59627",
   "metadata": {},
   "outputs": [],
   "source": [
    "cont4686.write(\"../data/ngc346-cont-4686-mean.fits\", savemask=\"nan\")\n",
    "ew4686.write(\"../data/ngc346-ew-4686-mean.fits\", savemask=\"nan\")"
   ]
  },
  {
   "cell_type": "code",
   "execution_count": null,
   "id": "0c9db8be",
   "metadata": {},
   "outputs": [],
   "source": [
    "ew4686.plot(vmin=-0.5, vmax=10, colorbar=\"v\")"
   ]
  },
  {
   "cell_type": "code",
   "execution_count": null,
   "id": "9767cb4c",
   "metadata": {},
   "outputs": [],
   "source": [
    "cont4686.plot(vmin=0, vmax=1000, colorbar=\"v\")"
   ]
  },
  {
   "cell_type": "code",
   "execution_count": null,
   "id": "c1c96ac6",
   "metadata": {},
   "outputs": [],
   "source": [
    "mom4686[0].mask = mom4686[0].mask | (cont4686.data > 1000)"
   ]
  },
  {
   "cell_type": "code",
   "execution_count": null,
   "id": "48792550",
   "metadata": {},
   "outputs": [],
   "source": [
    "mom4686[0].rebin(1).plot(vmin=0, vmax=300)"
   ]
  },
  {
   "cell_type": "code",
   "execution_count": null,
   "id": "161fcc5d",
   "metadata": {},
   "outputs": [],
   "source": [
    "mom_pars_4686 = dict(\n",
    "    restwav=4685.68,\n",
    "    irange=[-10, 1000],\n",
    "    vrange=[-250, 550],\n",
    "    srange=[0, 600],    \n",
    ")"
   ]
  },
  {
   "cell_type": "code",
   "execution_count": null,
   "id": "117b5749",
   "metadata": {},
   "outputs": [],
   "source": [
    "plot_pars_4686=dict(\n",
    "    ilabel=\"He II\",\n",
    "    label=\"4686\",\n",
    "    flabel=\"ngc346-heii\",\n",
    "    **mom_pars_4686,\n",
    ")\n",
    "g = moments.moments_corner_plot(\n",
    "    mom4686, rebin=1, **plot_pars_4686,\n",
    ")"
   ]
  },
  {
   "cell_type": "code",
   "execution_count": null,
   "id": "3125e96f",
   "metadata": {},
   "outputs": [],
   "source": [
    "g = moments.moments_corner_plot(\n",
    "    mom4686, rebin=4, **plot_pars_4686,\n",
    ")"
   ]
  },
  {
   "cell_type": "code",
   "execution_count": null,
   "id": "40d73798",
   "metadata": {},
   "outputs": [],
   "source": [
    "mom_pars_4686 = dict(\n",
    "    restwav=4685.68,\n",
    "    irange=[-1000, 1e4],\n",
    "    vrange=[-250, 550],\n",
    "    srange=[150, 250],    \n",
    ")\n",
    "plot_pars_4686=dict(\n",
    "    ilabel=\"He II\",\n",
    "    label=\"4686\",\n",
    "    flabel=\"ngc346-heii\",\n",
    "    **mom_pars_4686,\n",
    ")\n",
    "g = moments.moments_corner_plot(\n",
    "    mom4686, rebin=16, **plot_pars_4686,\n",
    ")"
   ]
  },
  {
   "cell_type": "markdown",
   "id": "4a5de1c7",
   "metadata": {},
   "source": [
    "Unfortunately, the velocity spread does not decrease with binning, although the sigma spread does."
   ]
  },
  {
   "cell_type": "code",
   "execution_count": null,
   "id": "7be4e7d0",
   "metadata": {},
   "outputs": [],
   "source": [
    "(3e5*(mom4686[1] / 4685.68 - 1.0)).rebin(1).plot(\n",
    "    vmin=100, vmax=220, \n",
    "    cmap=\"seismic\", \n",
    "    colorbar=\"v\",\n",
    ")"
   ]
  },
  {
   "cell_type": "code",
   "execution_count": null,
   "id": "04bcec68",
   "metadata": {},
   "outputs": [],
   "source": [
    "map4686 = mom4686[0].copy()\n",
    "map4686.mask = map4686.mask | (map4686.data < -100)"
   ]
  },
  {
   "cell_type": "code",
   "execution_count": null,
   "id": "d6b724c4",
   "metadata": {},
   "outputs": [],
   "source": [
    "map4686.rebin(1).plot(\n",
    "    vmin=0, vmax=500,\n",
    ")"
   ]
  },
  {
   "cell_type": "code",
   "execution_count": null,
   "id": "e49758f1",
   "metadata": {},
   "outputs": [],
   "source": [
    "map4686.rebin(4).plot(\n",
    "    vmin=0, vmax=500,\n",
    ")"
   ]
  },
  {
   "cell_type": "code",
   "execution_count": null,
   "id": "ef0ad1f3",
   "metadata": {},
   "outputs": [],
   "source": [
    "mom_pars_4686 = dict(\n",
    "    restwav=4685.68,\n",
    "    irange=None,\n",
    "    vrange=None,\n",
    "    srange=None,    \n",
    ")\n",
    "moments.save_moments_to_fits(\n",
    "    mom4686,\n",
    "    label=\"4686\",\n",
    "    flabel=\"ngc346-heii\",\n",
    "    **mom_pars_4686,\n",
    ")"
   ]
  },
  {
   "cell_type": "code",
   "execution_count": null,
   "id": "1e15e9d4",
   "metadata": {},
   "outputs": [],
   "source": [
    "# ## Extract [Ar IV] line\n",
    "mom4740 = moments.find_moments(\n",
    "    mcsubcube.select_lambda(4740, 4746)\n",
    ")"
   ]
  },
  {
   "cell_type": "code",
   "execution_count": null,
   "id": "f01cc898",
   "metadata": {},
   "outputs": [],
   "source": [
    "mom4740[0].plot(vmin=0.0, vmax=300.0)"
   ]
  },
  {
   "cell_type": "code",
   "execution_count": null,
   "id": "0377689f",
   "metadata": {},
   "outputs": [],
   "source": [
    "mom_pars_4740 = dict(\n",
    "    restwav=4740.17,\n",
    "    irange=[-10, 1000],\n",
    "    vrange=[-250, 550],\n",
    "    srange=[0, 600],    \n",
    ")"
   ]
  },
  {
   "cell_type": "code",
   "execution_count": null,
   "id": "2ebc3220",
   "metadata": {},
   "outputs": [],
   "source": [
    "plot_pars_4740=dict(\n",
    "    ilabel=\"[Ar IV]\",\n",
    "    label=\"4740\",\n",
    "    flabel=\"ngc346-ariv\",\n",
    "    **mom_pars_4740,\n",
    ")\n",
    "g = moments.moments_corner_plot(\n",
    "    mom4740, rebin=1, **plot_pars_4740,\n",
    ")"
   ]
  },
  {
   "cell_type": "code",
   "execution_count": null,
   "id": "7c3a3b43",
   "metadata": {},
   "outputs": [],
   "source": [
    "moments.save_moments_to_fits(\n",
    "    mom4740,\n",
    "    label=\"4740\",\n",
    "    flabel=\"ngc346-ariv\",\n",
    "    restwav=4740.17,\n",
    ")"
   ]
  },
  {
   "cell_type": "markdown",
   "id": "2897c985",
   "metadata": {},
   "source": [
    "And the other [Ar IV] line.  This is contaminated by He I, which we will have to sort out at some point."
   ]
  },
  {
   "cell_type": "code",
   "execution_count": null,
   "id": "26170898",
   "metadata": {},
   "outputs": [],
   "source": [
    "mom4711 = moments.find_moments(\n",
    "    mcsubcube.select_lambda(4711, 4717)\n",
    ")"
   ]
  },
  {
   "cell_type": "code",
   "execution_count": null,
   "id": "f4d0ec50",
   "metadata": {},
   "outputs": [],
   "source": [
    "mom4711[0].plot(vmin=0.0, vmax=400.0)"
   ]
  },
  {
   "cell_type": "code",
   "execution_count": null,
   "id": "a8ed6258",
   "metadata": {},
   "outputs": [],
   "source": [
    "(mom4711[0].rebin(2) / mom4740[0].rebin(2)).plot(\n",
    "    vmin=0., vmax=5, \n",
    "    colorbar=\"v\",\n",
    "    cmap=\"magma\",\n",
    ")"
   ]
  },
  {
   "cell_type": "markdown",
   "id": "469712b0",
   "metadata": {},
   "source": [
    "So depite the contamination, the ratio is roughly constant at around 1.5 in the bright parts. "
   ]
  },
  {
   "cell_type": "code",
   "execution_count": null,
   "id": "2a70e7bb",
   "metadata": {},
   "outputs": [],
   "source": [
    "moments.save_moments_to_fits(\n",
    "    mom4711,\n",
    "    label=\"4711\",\n",
    "    flabel=\"ngc346-ariv\",\n",
    "    restwav=4711.37,\n",
    ")"
   ]
  },
  {
   "cell_type": "markdown",
   "id": "5fa0ad91",
   "metadata": {},
   "source": [
    "### Extract super-weak [Ar III] line"
   ]
  },
  {
   "cell_type": "code",
   "execution_count": null,
   "id": "ae563f2b",
   "metadata": {},
   "outputs": [],
   "source": [
    "fig, ax = plt.subplots(figsize=(12, 6))\n",
    "wav1, wav2 = 5170, 5220\n",
    "(bowspec_sub).subspec(wav1, wav2).plot(linewidth=5, alpha=1.0, color=\"c\")\n",
    "(medspec_sub).subspec(wav1, wav2).plot(color=\"k\", linewidth=2)\n",
    "#for wav in ariv_lines:\n",
    "#    ax.axvline(wav*(1.0 + 160.0/3e5), ymin=0.3, ymax=0.4, color=\"k\", linewidth=3, alpha=0.5)\n",
    "ax.axhline(0.0, linestyle=\"dashed\", color=\"r\", linewidth=1)\n",
    "ax.set(\n",
    "    ylim=[-2, 5],\n",
    ")\n",
    "sns.despine();"
   ]
  },
  {
   "cell_type": "code",
   "execution_count": null,
   "id": "12be399a",
   "metadata": {},
   "outputs": [],
   "source": [
    "mom5192 = moments.find_moments(\n",
    "    mcsubcube.select_lambda(5191, 5198)\n",
    ")"
   ]
  },
  {
   "cell_type": "code",
   "execution_count": null,
   "id": "03b46a4c",
   "metadata": {},
   "outputs": [],
   "source": [
    "mom5192[0].rebin(4).plot(vmin=-3.0, vmax=40.0)"
   ]
  },
  {
   "cell_type": "code",
   "execution_count": null,
   "id": "c79c161a",
   "metadata": {},
   "outputs": [],
   "source": [
    "moments.save_moments_to_fits(\n",
    "    mom5192,\n",
    "    label=\"5192\",\n",
    "    flabel=\"ngc346-ariii\",\n",
    "    restwav=5191.82,\n",
    ")"
   ]
  },
  {
   "cell_type": "markdown",
   "id": "ce58d5f5",
   "metadata": {},
   "source": [
    "### Extract He I 4922"
   ]
  },
  {
   "cell_type": "code",
   "execution_count": null,
   "id": "823ac832",
   "metadata": {},
   "outputs": [],
   "source": [
    "fig, ax = plt.subplots(figsize=(12, 6))\n",
    "wav1, wav2 = 4900, 4940\n",
    "(bowspec_sub).subspec(wav1, wav2).plot(linewidth=5, alpha=1.0, color=\"c\")\n",
    "(medspec_sub).subspec(wav1, wav2).plot(color=\"k\", linewidth=2)\n",
    "#for wav in ariv_lines:\n",
    "#    ax.axvline(wav*(1.0 + 160.0/3e5), ymin=0.3, ymax=0.4, color=\"k\", linewidth=3, alpha=0.5)\n",
    "ax.axhline(0.0, linestyle=\"dashed\", color=\"r\", linewidth=1)\n",
    "ax.set(\n",
    "    ylim=[-2, 60],\n",
    ")\n",
    "sns.despine();"
   ]
  },
  {
   "cell_type": "code",
   "execution_count": null,
   "id": "5666dee5",
   "metadata": {},
   "outputs": [],
   "source": [
    "mom4922 = moments.find_moments(\n",
    "    mcsubcube.select_lambda(4921, 4929)\n",
    ")"
   ]
  },
  {
   "cell_type": "code",
   "execution_count": null,
   "id": "f19f6b57",
   "metadata": {},
   "outputs": [],
   "source": [
    "mom4922[0].rebin(1).plot(vmin=-30.0, vmax=300.0)"
   ]
  },
  {
   "cell_type": "markdown",
   "id": "78670526",
   "metadata": {},
   "source": [
    "This one is good enough signal to see the increase in brightness at the bow shock. "
   ]
  },
  {
   "cell_type": "code",
   "execution_count": null,
   "id": "c51ec4da",
   "metadata": {},
   "outputs": [],
   "source": [
    "moments.save_moments_to_fits(\n",
    "    mom4922,\n",
    "    label=\"4922\",\n",
    "    flabel=\"ngc346-hei\",\n",
    "    restwav=4921.93,\n",
    ")"
   ]
  },
  {
   "cell_type": "code",
   "execution_count": null,
   "id": "78451369",
   "metadata": {},
   "outputs": [],
   "source": []
  },
  {
   "cell_type": "markdown",
   "id": "971b24c2",
   "metadata": {},
   "source": [
    "### Extract He I 5048 line"
   ]
  },
  {
   "cell_type": "code",
   "execution_count": null,
   "id": "8fefd671",
   "metadata": {},
   "outputs": [],
   "source": [
    "fig, ax = plt.subplots(figsize=(12, 6))\n",
    "wav1, wav2 = 5010, 5070\n",
    "(bowspec_sub).subspec(wav1, wav2).plot(linewidth=5, alpha=1.0, color=\"c\")\n",
    "(medspec_sub).subspec(wav1, wav2).plot(color=\"k\", linewidth=2)\n",
    "#for wav in ariv_lines:\n",
    "#    ax.axvline(wav*(1.0 + 160.0/3e5), ymin=0.3, ymax=0.4, color=\"k\", linewidth=3, alpha=0.5)\n",
    "ax.axhline(0.0, linestyle=\"dashed\", color=\"r\", linewidth=1)\n",
    "ax.set(\n",
    "    ylim=[-2, 100],\n",
    ")\n",
    "sns.despine();"
   ]
  },
  {
   "cell_type": "code",
   "execution_count": null,
   "id": "bfbc0ea0",
   "metadata": {},
   "outputs": [],
   "source": [
    "mom5048 = moments.find_moments(\n",
    "    mcsubcube.select_lambda(5047, 5055)\n",
    ")"
   ]
  },
  {
   "cell_type": "code",
   "execution_count": null,
   "id": "7d7b0635",
   "metadata": {},
   "outputs": [],
   "source": [
    "mom5048[0].rebin(2).plot(vmin=-3.0, vmax=100.0)"
   ]
  },
  {
   "cell_type": "code",
   "execution_count": null,
   "id": "8e7cd147",
   "metadata": {},
   "outputs": [],
   "source": [
    "moments.save_moments_to_fits(\n",
    "    mom5048,\n",
    "    label=\"5048\",\n",
    "    flabel=\"ngc346-hei\",\n",
    "    restwav=5047.74,\n",
    ")"
   ]
  },
  {
   "cell_type": "code",
   "execution_count": null,
   "id": "f14012ab",
   "metadata": {},
   "outputs": [],
   "source": []
  },
  {
   "cell_type": "markdown",
   "id": "eab99aea",
   "metadata": {},
   "source": [
    "## Extract Hβ line"
   ]
  },
  {
   "cell_type": "code",
   "execution_count": null,
   "id": "8ee417f6",
   "metadata": {},
   "outputs": [],
   "source": [
    "mom4861 = moments.find_moments(\n",
    "    mcsubcube.select_lambda(4859, 4869)\n",
    ")"
   ]
  },
  {
   "cell_type": "markdown",
   "id": "d1ba2147",
   "metadata": {},
   "source": [
    "Overview before correcting the sky:"
   ]
  },
  {
   "cell_type": "code",
   "execution_count": null,
   "id": "18940f20",
   "metadata": {},
   "outputs": [],
   "source": [
    "fig, axes = plt.subplots(\n",
    "    2, 2, \n",
    "    figsize=(10, 10),\n",
    "    sharex=True, sharey=True,\n",
    ")\n",
    "\n",
    "imap = mom4861[0].copy()\n",
    "vmap = 3e5*(mom4861[1] / 4861.32 - 1.0)\n",
    "smap = 3e5*(mom4861[2] / 4861.32)\n",
    "\n",
    "#m = imap.data > 10.\n",
    "\n",
    "#vmap.mask = vmap.mask | (~m)\n",
    "#smap.mask = smap.mask | (~m)\n",
    "\n",
    "imap.rebin(1).plot(\n",
    "    vmin=-1e4, vmax=3e5, \n",
    "    cmap=\"turbo\", \n",
    "    ax=axes[0, 0],\n",
    ")\n",
    "\n",
    "vmap.rebin(1).plot(\n",
    "    vmin=100, vmax=220, \n",
    "    cmap=\"seismic\", \n",
    "    ax=axes[0, 1],\n",
    ")\n",
    "\n",
    "smap.rebin(1).plot(\n",
    "    vmin=0, vmax=120, \n",
    "    cmap=\"magma\", \n",
    "    ax=axes[1, 0],\n",
    ")\n",
    "\n",
    "imap.rebin(1).plot(\n",
    "    vmin=-5000, vmax=0, \n",
    "    cmap=\"viridis\", \n",
    "    ax=axes[1, 1],\n",
    ")\n",
    "bg_4861 = mcontcube.select_lambda(4859, 4869).mean(axis=0)\n",
    "axes[1, 1].contour(\n",
    "    bg_4861.data,\n",
    "    levels=[1000],\n",
    "    colors=\"r\",\n",
    ")\n",
    "\n",
    "fig.tight_layout();"
   ]
  },
  {
   "cell_type": "markdown",
   "id": "fdb73912",
   "metadata": {},
   "source": [
    "Make a 30 Å window:"
   ]
  },
  {
   "cell_type": "code",
   "execution_count": null,
   "id": "670febbf",
   "metadata": {},
   "outputs": [],
   "source": [
    "core_4861 = mcsubcube.select_lambda(4849, 4879)"
   ]
  },
  {
   "cell_type": "markdown",
   "id": "942ec669",
   "metadata": {},
   "source": [
    "Look at some negative profiles.  These are the same pixels as used in the Hα case.  See 03-00-ha-moment-maps"
   ]
  },
  {
   "cell_type": "code",
   "execution_count": null,
   "id": "661c85db",
   "metadata": {},
   "outputs": [],
   "source": [
    "core_4861[:, 300, 60].plot()\n",
    "core_4861[:, 10, 300].plot()\n",
    "core_4861[:, 150, 150].plot()\n",
    "core_4861[:, 260, 160].plot()\n",
    "# I am following the same procedure as with the [O I] lines, but with criteria similar to H alpha. "
   ]
  },
  {
   "cell_type": "code",
   "execution_count": null,
   "id": "1fa8333a",
   "metadata": {},
   "outputs": [],
   "source": [
    "msky = (imap.data < -4000) & (imap.data > -5000) & (bg_4861.data < 1000)\n",
    "msky[310:, :] = False\n",
    "msky[:, 320:] = False\n",
    "msky[:10, :] = False\n",
    "msky[:, :10] = False"
   ]
  },
  {
   "cell_type": "code",
   "execution_count": null,
   "id": "1ac95d0e",
   "metadata": {},
   "outputs": [],
   "source": [
    "msky.sum(), np.where(msky)"
   ]
  },
  {
   "cell_type": "markdown",
   "id": "ad2af816",
   "metadata": {},
   "source": [
    "No, that is too many. We will try the same 3 pixels as we used for Hα"
   ]
  },
  {
   "cell_type": "code",
   "execution_count": null,
   "id": "97c60f14",
   "metadata": {},
   "outputs": [],
   "source": [
    "msky = imap.mask.copy()\n",
    "msky[:, :] = False\n",
    "msky[8, 103:106] = True\n",
    "np.where(msky)"
   ]
  },
  {
   "cell_type": "code",
   "execution_count": null,
   "id": "adecafa2",
   "metadata": {},
   "outputs": [],
   "source": [
    "sky_4861 = core_4861.copy() \n",
    "sky_4861.mask = sky_4861.mask | ~msky[None, : :]"
   ]
  },
  {
   "cell_type": "code",
   "execution_count": null,
   "id": "8d8b14af",
   "metadata": {},
   "outputs": [],
   "source": [
    "sky_4861.mean(axis=(1, 2)).plot()"
   ]
  },
  {
   "cell_type": "code",
   "execution_count": null,
   "id": "0d27dbe5",
   "metadata": {},
   "outputs": [],
   "source": [
    "corr_4861 = core_4861 - sky_4861.mean(axis=(1, 2))"
   ]
  },
  {
   "cell_type": "code",
   "execution_count": null,
   "id": "c82289a3",
   "metadata": {},
   "outputs": [],
   "source": [
    "testpixels = [\n",
    "    [250, 160], [150, 150], [160, 220],\n",
    "    [70, 250], [75, 200], [310, 225],\n",
    "    [25, 140], [250, 250], [140, 110], #[180, 290],\n",
    "]\n",
    "fig, axes = plt.subplots(\n",
    "    3, 3, \n",
    "    figsize=(10, 8), \n",
    "    sharex=True,\n",
    "    sharey=\"row\",\n",
    ")\n",
    "for (j, i), ax in zip(testpixels, axes.flat):\n",
    "    core_4861[:, j, i].plot(ax=ax)\n",
    "    corr_4861[:, j, i].plot(ax=ax) \n",
    "    ax.set(xlabel=\"\", ylabel=\"\")\n",
    "    ax.set_title(f\"[{j}, {i}]\")\n",
    "fig.suptitle(\n",
    "    \"Before/after sky correction for faint/moderate/bright pixels\"\n",
    ")\n",
    "sns.despine()\n",
    "fig.tight_layout();"
   ]
  },
  {
   "cell_type": "markdown",
   "id": "5e314e34",
   "metadata": {},
   "source": [
    "That looks OK"
   ]
  },
  {
   "cell_type": "code",
   "execution_count": null,
   "id": "5cc1ff66",
   "metadata": {},
   "outputs": [],
   "source": [
    "mom4861c = moments.find_moments(corr_4861.select_lambda(4859, 4869))"
   ]
  },
  {
   "cell_type": "code",
   "execution_count": null,
   "id": "7b40dc2a",
   "metadata": {},
   "outputs": [],
   "source": [
    "fig, axes = plt.subplots(\n",
    "    2, 2, \n",
    "    figsize=(10, 10),\n",
    "    sharex=True, sharey=True,\n",
    ")\n",
    "\n",
    "imap = mom4861c[0].copy()\n",
    "vmap = 3e5*(mom4861c[1] / 4861.32 - 1.0)\n",
    "smap = 3e5*(mom4861c[2] / 4861.32)\n",
    "\n",
    "#m = imap.data > 10.\n",
    "\n",
    "#vmap.mask = vmap.mask | (~m)\n",
    "#smap.mask = smap.mask | (~m)\n",
    "\n",
    "imap.rebin(1).plot(\n",
    "    vmin=0, vmax=3e5, \n",
    "    cmap=\"turbo\", \n",
    "    ax=axes[0, 0],\n",
    ")\n",
    "\n",
    "vmap.rebin(1).plot(\n",
    "    vmin=100, vmax=220, \n",
    "    cmap=\"seismic\", \n",
    "    ax=axes[0, 1],\n",
    ")\n",
    "\n",
    "smap.rebin(1).plot(\n",
    "    vmin=0, vmax=120, \n",
    "    cmap=\"magma\", \n",
    "    ax=axes[1, 0],\n",
    ")\n",
    "\n",
    "imap.rebin(1).plot(\n",
    "    vmin=-5000, vmax=0, \n",
    "    cmap=\"viridis\", \n",
    "    ax=axes[1, 1],\n",
    ")\n",
    "bg_4861 = mcontcube.select_lambda(4859, 4869).mean(axis=0)\n",
    "axes[1, 1].contour(\n",
    "    bg_4861.data,\n",
    "    levels=[1000],\n",
    "    colors=\"r\",\n",
    ")\n",
    "\n",
    "fig.tight_layout();"
   ]
  },
  {
   "cell_type": "markdown",
   "id": "49908301",
   "metadata": {},
   "source": [
    "That is looking great now.  The first moment is very similat to Hα, which is encouraging. "
   ]
  },
  {
   "cell_type": "code",
   "execution_count": null,
   "id": "e92d6c8f",
   "metadata": {},
   "outputs": [],
   "source": [
    "mom_pars = dict(\n",
    "    restwav=4861.32,\n",
    "    irange=[1.0e3, 3.5e5],\n",
    "    vrange=[135, 195],\n",
    "    srange=[30, 150],    \n",
    ")"
   ]
  },
  {
   "cell_type": "code",
   "execution_count": null,
   "id": "3b95c154",
   "metadata": {},
   "outputs": [],
   "source": [
    "moments.save_moments_to_fits(\n",
    "    mom4861c,\n",
    "    label=\"4861\",\n",
    "    flabel=\"ngc346-hi\",\n",
    "    **mom_pars,\n",
    ")"
   ]
  },
  {
   "cell_type": "code",
   "execution_count": null,
   "id": "3b15b61f",
   "metadata": {},
   "outputs": [],
   "source": [
    "plot_pars=dict(\n",
    "    ilabel=\"H I\",\n",
    "    label=\"4861\",\n",
    "    flabel=\"ngc346-hi\",\n",
    "    **mom_pars,\n",
    ")\n",
    "g = moments.moments_corner_plot(\n",
    "    mom4861c, rebin=1, **plot_pars,\n",
    ")"
   ]
  }
 ],
 "metadata": {
  "jupytext": {
   "encoding": "# -*- coding: utf-8 -*-",
   "formats": "ipynb,py:light,md"
  },
  "kernelspec": {
   "display_name": "Python 3",
   "language": "python",
   "name": "python3"
  },
  "language_info": {
   "codemirror_mode": {
    "name": "ipython",
    "version": 3
   },
   "file_extension": ".py",
   "mimetype": "text/x-python",
   "name": "python",
   "nbconvert_exporter": "python",
   "pygments_lexer": "ipython3",
   "version": "3.9.4"
  }
 },
 "nbformat": 4,
 "nbformat_minor": 5
}
