{
 "cells": [
  {
   "cell_type": "markdown",
   "id": "2975d14d",
   "metadata": {},
   "source": [
    "# Look at different emission lines and calculate some ratios"
   ]
  },
  {
   "cell_type": "markdown",
   "id": "bdc1cead",
   "metadata": {},
   "source": [
    "First we load up the data as in the `01-extract-subregions` notebook:"
   ]
  },
  {
   "cell_type": "code",
   "execution_count": null,
   "id": "1733018f",
   "metadata": {},
   "outputs": [],
   "source": [
    "from pathlib import Path\n",
    "import numpy as np\n",
    "from matplotlib import pyplot as plt\n",
    "import seaborn as sns\n",
    "from mpdaf.obj import Cube"
   ]
  },
  {
   "cell_type": "code",
   "execution_count": null,
   "id": "a49e275e",
   "metadata": {},
   "outputs": [],
   "source": [
    "datapath = Path(\"/Users/will/Work/Muse-Hii-Data/SMC-NGC-346/\")\n",
    "fitsfilepath = datapath / \"ADP.2017-10-16T11_04_19.247.fits\"\n",
    "cube = Cube(str(fitsfilepath))"
   ]
  },
  {
   "cell_type": "markdown",
   "id": "1335cb44",
   "metadata": {},
   "source": [
    "Make a summed spectrum and an (H alpha + continuum) image"
   ]
  },
  {
   "cell_type": "code",
   "execution_count": null,
   "id": "004b30db",
   "metadata": {},
   "outputs": [],
   "source": [
    "sp0 = cube.sum(axis=(1, 2))\n",
    "im_ha = cube.select_lambda(6560.0, 6575.0).sum(axis=0)"
   ]
  },
  {
   "cell_type": "markdown",
   "id": "3618362a",
   "metadata": {},
   "source": [
    "And tell seaborn to make the graph labels more readable."
   ]
  },
  {
   "cell_type": "code",
   "execution_count": null,
   "id": "fee37792",
   "metadata": {},
   "outputs": [],
   "source": [
    "sns.set_context(\"talk\")"
   ]
  },
  {
   "cell_type": "markdown",
   "id": "9c23338c",
   "metadata": {},
   "source": [
    "## The density-sensitive  [S II] doublet at 6716, 6731 Å"
   ]
  },
  {
   "cell_type": "code",
   "execution_count": null,
   "id": "a8dd2904",
   "metadata": {},
   "outputs": [],
   "source": [
    "fig, ax = plt.subplots(figsize=(10, 4))\n",
    "sp0.subspec(6700.0, 6750.0).plot(ax=ax, linewidth=2)\n",
    "ax.set(\n",
    "    yscale=\"log\",\n",
    "    title=\"[S II] red lines\",\n",
    ")\n",
    "sns.despine()"
   ]
  },
  {
   "cell_type": "markdown",
   "id": "e274726f",
   "metadata": {},
   "source": [
    "Find background continuum values."
   ]
  },
  {
   "cell_type": "code",
   "execution_count": null,
   "id": "b6dad95d",
   "metadata": {},
   "outputs": [],
   "source": [
    "im_c1 = cube.select_lambda(6710.0, 6715.0).mean(axis=0)\n",
    "im_c2 = cube.select_lambda(6725.0, 6730.0).mean(axis=0)\n",
    "im_c6716 = (im_c1 + im_c2) / 2.0\n",
    "im_c3 = cube.select_lambda(6740.0, 6745.0).mean(axis=0)\n",
    "im_c6731 = (im_c3 + im_c2) / 2.0"
   ]
  },
  {
   "cell_type": "markdown",
   "id": "434eec4f",
   "metadata": {},
   "source": [
    "The following is a hack to try and resolve the negative intensity problem.  I subtract the minimum value (which is negative) from each map.  The reason that it is a hack is that we have no way of knowing if the minimum value *is* the true zero point of the data.  It seems to work OK for the [S II] lines, but less well for other lines, as we will see below."
   ]
  },
  {
   "cell_type": "code",
   "execution_count": null,
   "id": "fd7cc833",
   "metadata": {},
   "outputs": [],
   "source": [
    "im_c6716_00 = im_c6716.data.min()\n",
    "im_c6731_00 = im_c6731.data.min()\n",
    "im_sii16_00 = cube.select_lambda(6715.0, 6725.0).sum(axis=0).data.min()\n",
    "im_sii31_00 = cube.select_lambda(6730.0, 6740.0).sum(axis=0).data.min()\n",
    "im_c6716_00, im_c6731_00, im_sii16_00, im_sii31_00"
   ]
  },
  {
   "cell_type": "markdown",
   "id": "92241e47",
   "metadata": {},
   "source": [
    "Subtract to isolate the two lines"
   ]
  },
  {
   "cell_type": "code",
   "execution_count": null,
   "id": "89164283",
   "metadata": {},
   "outputs": [],
   "source": [
    "im_sii16_bgsub = (cube.select_lambda(6715.0, 6725.0) - (im_c6716 - im_c6716_00)).sum(\n",
    "    axis=0\n",
    ") - im_sii16_00\n",
    "\n",
    "im_sii31_bgsub = (cube.select_lambda(6730.0, 6740.0) - (im_c6731 - im_c6731_00)).sum(\n",
    "    axis=0\n",
    ") - im_sii31_00"
   ]
  },
  {
   "cell_type": "code",
   "execution_count": null,
   "id": "9cd57952",
   "metadata": {},
   "outputs": [],
   "source": [
    "fig = plt.figure(figsize=(10, 10))\n",
    "(im_sii16_bgsub + im_sii31_bgsub).plot(\n",
    "    vmin=0.0,\n",
    "    vmax=20000.0,\n",
    "    use_wcs=True,\n",
    "    cmap=\"magma\",\n",
    "    scale=\"sqrt\",\n",
    "    colorbar=\"v\",\n",
    ")\n",
    "fig.axes[0].set_title(\n",
    "    label=\"[S II] 6716 + 6731 brightness\",\n",
    "    pad=25,\n",
    "    fontsize=\"large\",\n",
    ")"
   ]
  },
  {
   "cell_type": "markdown",
   "id": "fe87bfce",
   "metadata": {},
   "source": [
    "### Correcting the zero point by matching the line ratio in the low-density limit\n",
    "\n",
    "Drastic measures are called for to sort this out.  We will break out pandas and seaborn and plot some correlations:"
   ]
  },
  {
   "cell_type": "code",
   "execution_count": null,
   "id": "69326905",
   "metadata": {},
   "outputs": [],
   "source": [
    "import pandas as pd"
   ]
  },
  {
   "cell_type": "code",
   "execution_count": null,
   "id": "e5e5b02b",
   "metadata": {},
   "outputs": [],
   "source": [
    "sns.set_color_codes()"
   ]
  },
  {
   "cell_type": "code",
   "execution_count": null,
   "id": "efd0d048",
   "metadata": {},
   "outputs": [],
   "source": [
    "m = im_sii31_bgsub.data + im_sii16_bgsub.data < 20000.0\n",
    "m = m & ~im_ha.mask\n",
    "df = pd.DataFrame(\n",
    "    {\n",
    "        \"6716\": im_sii16_bgsub.data[m],\n",
    "        \"6731\": im_sii31_bgsub.data[m],\n",
    "    }\n",
    ")"
   ]
  },
  {
   "cell_type": "markdown",
   "id": "8db4500b",
   "metadata": {},
   "source": [
    "We have made a dataframe with two columns, one for 6716 and one for 6731.  We select only those up to a certain brightness, and eliminate the pixels around the border where there is no data.  Somehow, most of our images have lost their mask at this point, but `im_ha` still has it.  We have to remember that the mask is True when the data *are* masked, that is, bad.  Whereas I want a mask `m` for where the data are good, which is why I had to invert it: `~im_ha.mask`"
   ]
  },
  {
   "cell_type": "code",
   "execution_count": null,
   "id": "21056f41",
   "metadata": {},
   "outputs": [],
   "source": [
    "g = sns.pairplot(\n",
    "    df,\n",
    "    kind=\"hist\",\n",
    "    height=4,\n",
    "    corner=True,\n",
    ")\n",
    "g.axes[1, 0].axvline(0.0, color=\"r\")\n",
    "g.axes[1, 0].axhline(0.0, color=\"r\")\n",
    "g.axes[1, 0].plot([0, 1e4], [0, 1e4 / 1.45], \"--\", color=\"r\")\n",
    "g.fig.suptitle(\"Correlation between 6716 and 6731 brightness\")"
   ]
  },
  {
   "cell_type": "markdown",
   "id": "62fbccfe",
   "metadata": {},
   "source": [
    "I am plotting a corner plot with the histograms of the two brightnesses plus the joint correlation.  We can see that the relation is closely linear at low brightness, but does not quite pass through the origin as it should.  And also, both histograms stray slightly onto the negative side."
   ]
  },
  {
   "cell_type": "code",
   "execution_count": null,
   "id": "ae5feef7",
   "metadata": {},
   "outputs": [],
   "source": [
    "max_bright = 1000.0\n",
    "m = im_sii31_bgsub.data + im_sii16_bgsub.data < 2 * max_bright\n",
    "m = m & ~im_ha.mask\n",
    "df = pd.DataFrame(\n",
    "    {\n",
    "        \"6716\": im_sii16_bgsub.data[m] + 120,\n",
    "        \"6731\": im_sii31_bgsub.data[m] + 120 / 1.45 + 165,\n",
    "    }\n",
    ")\n",
    "g = sns.pairplot(\n",
    "    df,\n",
    "    kind=\"hist\",\n",
    "    height=4,\n",
    "    corner=True,\n",
    ")\n",
    "g.axes[1, 0].axvline(0.0, color=\"r\")\n",
    "g.axes[1, 0].axhline(0.0, color=\"r\")\n",
    "g.axes[1, 0].plot([0, max_bright], [0, max_bright / 1.45], \"--\", color=\"r\")\n",
    "g.fig.suptitle(\"Correction to 6716 and 6731 brightnesses\")"
   ]
  },
  {
   "cell_type": "code",
   "execution_count": null,
   "id": "4e11f071",
   "metadata": {},
   "outputs": [],
   "source": [
    "im_sii16_bgsub += 120\n",
    "im_sii31_bgsub += 120 / 1.45 + 165"
   ]
  },
  {
   "cell_type": "code",
   "execution_count": null,
   "id": "04d1310c",
   "metadata": {},
   "outputs": [],
   "source": [
    "fig = plt.figure(figsize=(10, 10))\n",
    "(im_sii16_bgsub / im_sii31_bgsub).plot(\n",
    "    vmin=0.8,\n",
    "    vmax=1.55,\n",
    "    use_wcs=True,\n",
    "    cmap=\"rocket\",\n",
    "    scale=\"linear\",\n",
    "    colorbar=\"v\",\n",
    ")\n",
    "fig.axes[0].set_title(\n",
    "    label=\"[S II] 6716 / 6731 ratio\",\n",
    "    pad=25,\n",
    "    fontsize=\"large\",\n",
    ")"
   ]
  },
  {
   "cell_type": "markdown",
   "id": "da01889a",
   "metadata": {},
   "source": [
    "So, there is quite a lot of apparent density variation.  The density seems to be positively correlated with surface brightness, which is to be expected on physical grounds.\n",
    "\n",
    "We will now investigate that in detail via the histograms."
   ]
  },
  {
   "cell_type": "code",
   "execution_count": null,
   "id": "3ce31207",
   "metadata": {},
   "outputs": [],
   "source": [
    "max_bright = 5e4\n",
    "min_bright = 100.0\n",
    "m = im_sii31_bgsub.data + im_sii16_bgsub.data < 2 * max_bright\n",
    "m = m & (im_sii31_bgsub.data + im_sii16_bgsub.data > 2 * min_bright)\n",
    "m = m & ~im_ha.mask\n",
    "df = pd.DataFrame(\n",
    "    {\n",
    "        \"log10 6716\": np.log10(im_sii16_bgsub.data[m]),\n",
    "        \"log10 6731\": np.log10(im_sii31_bgsub.data[m]),\n",
    "    }\n",
    ")\n",
    "g = sns.pairplot(\n",
    "    df,\n",
    "    kind=\"hist\",\n",
    "    height=4,\n",
    "    corner=True,\n",
    ")\n",
    "g.axes[1, 0].plot(\n",
    "    np.log10([min_bright, max_bright]),\n",
    "    np.log10([min_bright / 1.45, max_bright / 1.45]),\n",
    "    \"--\",\n",
    "    color=\"r\",\n",
    "    label=\"1.45\",\n",
    ")\n",
    "g.axes[1, 0].plot(\n",
    "    np.log10([min_bright, max_bright]),\n",
    "    np.log10([min_bright / 0.45, max_bright / 0.45]),\n",
    "    \":\",\n",
    "    color=\"r\",\n",
    "    label=\"0.45\",\n",
    ")\n",
    "g.axes[1, 0].legend()\n",
    "g.fig.suptitle(\"High end of 6716 and 6731 brightness distributions\")"
   ]
  },
  {
   "cell_type": "markdown",
   "id": "a8cb3ed3",
   "metadata": {},
   "source": [
    "So, here we are looking at the bright end of the distributions on a logarithmic scale from 100 to 100,000 in summed brightness of 6716 and 6731.\n",
    "\n",
    "The brightness distributions look approximately log-normal and the correlation is good across the whole range.  There is clear evidence of curving away from the low-density limit of the ratio at high brightness.  The low-density limit is plotted as the red dashed line and the high-density limit is the red dotted line.  The points never get anywhere near the high-density limit."
   ]
  },
  {
   "cell_type": "code",
   "execution_count": null,
   "id": "f2558b9c",
   "metadata": {},
   "outputs": [],
   "source": [
    "max_bright = 1e6\n",
    "min_bright = 100.0\n",
    "sum_sii = im_sii31_bgsub.data + im_sii16_bgsub.data\n",
    "r_sii = im_sii16_bgsub.data / im_sii31_bgsub.data\n",
    "\n",
    "m = sum_sii < 2 * max_bright\n",
    "m = m & (sum_sii > 2 * min_bright)\n",
    "m = m & ~im_ha.mask\n",
    "m = m & np.isfinite(r_sii) & (r_sii > 0.3) & (r_sii < 1.7)\n",
    "\n",
    "df = pd.DataFrame(\n",
    "    {\n",
    "        \"log10 (6716 + 6731)\": np.log10(sum_sii[m]),\n",
    "        \"ratio 6716/6731\": r_sii[m],\n",
    "    }\n",
    ")\n",
    "g = sns.pairplot(\n",
    "    df,\n",
    "    kind=\"hist\",\n",
    "    height=4,\n",
    "    corner=True,\n",
    ")\n",
    "g.axes[1, 0].axhline(1.45, ls=\"--\", color=\"r\")\n",
    "g.axes[1, 0].axhline(0.45, ls=\":\", color=\"r\")\n",
    "g.fig.suptitle(\"[S II] 6716/6731 ratio versus summed brightness\")"
   ]
  },
  {
   "cell_type": "markdown",
   "id": "26565a2d",
   "metadata": {},
   "source": [
    "Now, we plot the joint distribution of the ratio and the sum.  This shows more clearly the reduction in ratio at high brightness."
   ]
  },
  {
   "cell_type": "code",
   "execution_count": null,
   "id": "50c92d54",
   "metadata": {},
   "outputs": [],
   "source": [
    "fig, ax = plt.subplots(figsize=(10, 5))\n",
    "\n",
    "# Partition pixels into 4 groups according to brightness\n",
    "mpart01 = sum_sii < 1000.0\n",
    "mpart02 = (sum_sii >= 1000.0) & (sum_sii < 3000.0)\n",
    "mpart03 = (sum_sii >= 3000.0) & (sum_sii < 10000.0)\n",
    "mpart04 = sum_sii >= 10000.0\n",
    "\n",
    "sns.histplot(\n",
    "    {\n",
    "        \"very faint: <1000\": r_sii[m & mpart01],\n",
    "        \"faint: 1000–3000\": r_sii[m & mpart02],\n",
    "        \"bright: 3000–10000\": r_sii[m & mpart03],\n",
    "        \"very bright: >10000\": r_sii[m & mpart04],\n",
    "    },\n",
    "    cumulative=True,\n",
    "    binrange=(0.4, 1.8),\n",
    "    bins=200,\n",
    "    stat=\"probability\",\n",
    "    common_norm=False,\n",
    "    element=\"poly\",\n",
    "    fill=False,\n",
    "    alpha=0.8,\n",
    "    linewidth=4,\n",
    ")\n",
    "ax.axvline(0.45, ls=\"--\", color=\"k\")\n",
    "ax.axvline(1.45, ls=\"--\", color=\"k\")\n",
    "ax.axhline(0.5, ls=\":\", color=\"k\")\n",
    "ax.set(\n",
    "    xlabel=\"[S II] ratio: 6716 / 6731\",\n",
    "    ylabel=\"CDF\",\n",
    "    title=\"Cumulative $n_\\mathrm{e}$ distribution, partitioned by [S II] brightness\",\n",
    ")"
   ]
  },
  {
   "cell_type": "markdown",
   "id": "7d8b7983",
   "metadata": {},
   "source": [
    "Finally, we calculate the cumulative distribution of the ratios for four different brightness classes.\n",
    "\n",
    "For the faintest partition (blue line), the noise is dominant, which is why the distribution is broad and encroaches into the forbidden region ($R > 1.45$ – the low-density and high-density limits are shown by vertical dashed lines).\n",
    "The median value is a tiny bit less than 1.45, but it is very close to the low-density limit.\n",
    "\n",
    "As we pass to the brighter and brighter partitions (orange, green, red lines), then the CDF moves to the left, corresponding to higher densities.\n",
    "\n",
    "For the brightest partition (red line), the median value is about 1.3, which corresponds to a density of about 200 pcc. The orange line, on the other hand has a median of about 1.4, which is a density of about 30 pcc. *We should use pyneb to invert the ratio properly.*\n",
    "\n",
    "It will be interesting to compare the distribution of $n$ with the distribution of brightness."
   ]
  },
  {
   "cell_type": "markdown",
   "id": "a0be433b",
   "metadata": {},
   "source": [
    "## [N II] lines\n",
    "\n",
    "So, first, we can try and find the correction for [N II] 6548 and 6583.  They have the advantage that the ratio should be constant. \n",
    "\n",
    "\n"
   ]
  },
  {
   "cell_type": "code",
   "execution_count": null,
   "id": "df81f3cb",
   "metadata": {},
   "outputs": [],
   "source": [
    "im_blue_cont = cube.select_lambda(6540.0, 6545.0).mean(axis=0)\n",
    "im_red_cont = cube.select_lambda(6555.0, 6560.0).mean(axis=0)\n",
    "im_6548_cont = (im_blue_cont + im_red_cont) / 2.0\n",
    "im_6548_bgsub = (cube.select_lambda(6545.0, 6555.0) \n",
    "                 - im_6548_cont).sum(axis=0)\n",
    "\n",
    "\n",
    "im_blue_cont = cube.select_lambda(6575.0, 6580.0).mean(axis=0)\n",
    "im_red_cont = cube.select_lambda(6590.0, 6595.0).mean(axis=0)\n",
    "im_6583_cont = (im_blue_cont + im_red_cont) / 2.0\n",
    "im_6583_bgsub = (cube.select_lambda(6580.0, 6590.0) \n",
    "                 - im_6548_cont).sum(axis=0)"
   ]
  },
  {
   "cell_type": "code",
   "execution_count": null,
   "id": "8fa022a3",
   "metadata": {},
   "outputs": [],
   "source": [
    "fig = plt.figure(figsize=(10, 10))\n",
    "(im_6583_bgsub + im_6548_bgsub).plot(\n",
    "    vmin=-600.0,\n",
    "    vmax=10000.0,\n",
    "    use_wcs=True,\n",
    "    cmap=\"magma\",\n",
    "    scale=\"sqrt\",\n",
    "    colorbar=\"v\",\n",
    ")\n",
    "fig.axes[0].set_title(\n",
    "    label=\"[N II] 6548 + 6583 brightness\",\n",
    "    pad=25,\n",
    "    fontsize=\"large\",\n",
    ")"
   ]
  },
  {
   "cell_type": "code",
   "execution_count": null,
   "id": "e016a286",
   "metadata": {},
   "outputs": [],
   "source": [
    "bright_max = 1500.0\n",
    "nii_sum = 3*im_6548_bgsub.data + im_6583_bgsub.data\n",
    "m = (nii_sum < 4*bright_max) & (nii_sum > -3000)\n",
    "m = m & ~im_ha.mask\n",
    "df = pd.DataFrame(\n",
    "    {\n",
    "        \"6548\": im_6548_bgsub.data[m],\n",
    "        \"6583\": im_6583_bgsub.data[m],\n",
    "    }\n",
    ")\n",
    "\n",
    "g = sns.pairplot(\n",
    "    df,\n",
    "    kind=\"hist\",\n",
    "    height=4,\n",
    "    corner=True,\n",
    ")\n",
    "g.axes[1, 0].axvline(0.0, color=\"r\")\n",
    "g.axes[1, 0].axhline(0.0, color=\"r\")\n",
    "g.axes[1, 0].plot([0, bright_max], [0, bright_max*3], \"--\", color=\"r\")\n",
    "g.fig.suptitle(\"Correlation between 6548 and 6583 brightness\")"
   ]
  },
  {
   "cell_type": "code",
   "execution_count": null,
   "id": "78d2565f",
   "metadata": {},
   "outputs": [],
   "source": [
    "bright_max = 100.0\n",
    "nii_sum = 3*im_6548_bgsub.data + im_6583_bgsub.data\n",
    "m = (im_6583_bgsub.data < 3*bright_max) \n",
    "m = m & (im_6548_bgsub.data < bright_max) \n",
    "m = m & (nii_sum > -1000)\n",
    "m = m & ~im_ha.mask\n",
    "df = pd.DataFrame(\n",
    "    {\n",
    "        \"6548\": im_6548_bgsub.data[m] + 180,\n",
    "        \"6583\": im_6583_bgsub.data[m] + 3*180,\n",
    "    }\n",
    ")\n",
    "\n",
    "g = sns.pairplot(\n",
    "    df,\n",
    "    kind=\"hist\",\n",
    "    height=4,\n",
    "    corner=True,\n",
    ")\n",
    "g.axes[1, 0].axvline(0.0, color=\"r\")\n",
    "g.axes[1, 0].axhline(0.0, color=\"r\")\n",
    "g.axes[1, 0].plot([0, bright_max], [0, bright_max*3], \"--\", color=\"r\")\n",
    "g.fig.suptitle(\"Correction to 6548 and 6583 brightness\")"
   ]
  },
  {
   "cell_type": "markdown",
   "id": "13e88800",
   "metadata": {},
   "source": [
    "So this works, but it is not going anywhere.  I need to be able to fix it at the spectrum level."
   ]
  },
  {
   "cell_type": "code",
   "execution_count": null,
   "id": "76966bc8",
   "metadata": {},
   "outputs": [],
   "source": [
    "cube.mask.shape"
   ]
  },
  {
   "cell_type": "code",
   "execution_count": null,
   "id": "ce60f927",
   "metadata": {},
   "outputs": [],
   "source": [
    "m = np.array(im_6583_bgsub.data) < -3*180\n",
    "m.sum(), m.sum() / np.product(m.shape)"
   ]
  },
  {
   "cell_type": "code",
   "execution_count": null,
   "id": "87d5bb82",
   "metadata": {},
   "outputs": [],
   "source": [
    "mmm = np.repeat(m[None, :, :], cube.data.shape[0], axis=0).astype(float)\n",
    "mmm.sum(), mmm.sum() / np.product(mmm.shape)"
   ]
  },
  {
   "cell_type": "code",
   "execution_count": null,
   "id": "4a0f563c",
   "metadata": {},
   "outputs": [],
   "source": [
    "sp_faint = np.average(cube.data, weights=mmm, axis=(1, 2))"
   ]
  },
  {
   "cell_type": "code",
   "execution_count": null,
   "id": "900f071f",
   "metadata": {},
   "outputs": [],
   "source": [
    "sp1 = sp0.clone()"
   ]
  },
  {
   "cell_type": "code",
   "execution_count": null,
   "id": "a727486e",
   "metadata": {},
   "outputs": [],
   "source": [
    "sp1.data = sp_faint\n",
    "sp1.info()"
   ]
  },
  {
   "cell_type": "code",
   "execution_count": null,
   "id": "588a1f27",
   "metadata": {},
   "outputs": [],
   "source": [
    "fig, ax = plt.subplots(figsize=(10, 4))\n",
    "sp1.subspec(6700.0, 6750.0).plot(ax=ax, linewidth=2)\n",
    "ax.set(\n",
    "    yscale=\"log\",\n",
    "    title=\"[S II] red lines in faint region\",\n",
    ")\n",
    "sns.despine()"
   ]
  },
  {
   "cell_type": "code",
   "execution_count": null,
   "id": "0ad8fc24",
   "metadata": {
    "lines_to_next_cell": 0
   },
   "outputs": [],
   "source": [
    "cube.mask_selection?"
   ]
  },
  {
   "cell_type": "code",
   "execution_count": null,
   "id": "337ad555",
   "metadata": {
    "lines_to_next_cell": 2
   },
   "outputs": [],
   "source": []
  },
  {
   "cell_type": "markdown",
   "id": "dae3f365",
   "metadata": {},
   "source": [
    "## Other lines"
   ]
  },
  {
   "cell_type": "code",
   "execution_count": null,
   "id": "894aa0c3",
   "metadata": {},
   "outputs": [],
   "source": [
    "fig, ax = plt.subplots(figsize=(10, 4))\n",
    "sp0.subspec(5720.0, 5820.0).plot(ax=ax, linewidth=2)\n",
    "ax.set(\n",
    "    yscale=\"log\",\n",
    "    title=\"[N II] 5755 Å\",\n",
    ")\n",
    "sns.despine()"
   ]
  },
  {
   "cell_type": "code",
   "execution_count": null,
   "id": "1501bf68",
   "metadata": {},
   "outputs": [],
   "source": [
    "fig, ax = plt.subplots(figsize=(10, 4))\n",
    "sp0.subspec(6270.0, 6390.0).plot(ax=ax, linewidth=2)\n",
    "ax.set(\n",
    "    yscale=\"log\",\n",
    "    title=\"[O I] 6300,6363 Å and [S III] 6312 Å\",\n",
    ")\n",
    "sns.despine()"
   ]
  },
  {
   "cell_type": "code",
   "execution_count": null,
   "id": "1529974e",
   "metadata": {},
   "outputs": [],
   "source": [
    "fig, ax = plt.subplots(figsize=(10, 4))\n",
    "sp0.subspec(9050, 9100).plot(ax=ax, linewidth=2)\n",
    "ax.set(\n",
    "    yscale=\"log\",\n",
    "    title=\"[S III] 9069 Å\",\n",
    ")\n",
    "sns.despine()"
   ]
  },
  {
   "cell_type": "code",
   "execution_count": null,
   "id": "42443126",
   "metadata": {},
   "outputs": [],
   "source": [
    "im_c6312 = cube.select_lambda(6320.0, 6340.0).mean(axis=0)\n",
    "im_c2 = cube.select_lambda(9065.0, 9070.0).mean(axis=0)\n",
    "im_c3 = cube.select_lambda(9080.0, 9085.0).mean(axis=0)\n",
    "im_c9069 = (im_c3 + im_c2) / 2.0"
   ]
  },
  {
   "cell_type": "code",
   "execution_count": null,
   "id": "4764bc1f",
   "metadata": {},
   "outputs": [],
   "source": [
    "im_siii6312_bgsub = (cube.select_lambda(6310.0, 6320.0) - im_c6312).sum(axis=0)\n",
    "im_siii9069_bgsub = (cube.select_lambda(9070.0, 9080.0) - im_c9069).sum(axis=0)"
   ]
  },
  {
   "cell_type": "code",
   "execution_count": null,
   "id": "e04b76b8",
   "metadata": {},
   "outputs": [],
   "source": [
    "im_siii6312_bgsub += 150.0\n",
    "im_siii9069_bgsub -= im_siii9069_bgsub.data.min()"
   ]
  },
  {
   "cell_type": "code",
   "execution_count": null,
   "id": "256ac1b3",
   "metadata": {},
   "outputs": [],
   "source": [
    "fig, ax = plt.subplots(figsize=(10, 10))\n",
    "im_siii9069_bgsub.plot(\n",
    "    vmin=0.0,\n",
    "    vmax=10000.0,\n",
    "    use_wcs=True,\n",
    "    cmap=\"gray_r\",\n",
    "    scale=\"linear\",\n",
    "    colorbar=\"v\",\n",
    ")"
   ]
  },
  {
   "cell_type": "code",
   "execution_count": null,
   "id": "2939b1f6",
   "metadata": {},
   "outputs": [],
   "source": [
    "fig, ax = plt.subplots(figsize=(10, 10))\n",
    "(im_siii6312_bgsub / im_siii9069_bgsub).plot(\n",
    "    vmin=0.0,\n",
    "    vmax=0.095,\n",
    "    use_wcs=True,\n",
    "    cmap=\"gist_heat\",\n",
    "    scale=\"linear\",\n",
    "    colorbar=\"v\",\n",
    ")"
   ]
  },
  {
   "cell_type": "code",
   "execution_count": null,
   "id": "16889a94",
   "metadata": {},
   "outputs": [],
   "source": [
    "fig = plt.figure(figsize=(10, 10))\n",
    "(im_siii9069_bgsub / im_sii31_bgsub).plot(\n",
    "    vmin=0.8,\n",
    "    vmax=70.0,\n",
    "    use_wcs=True,\n",
    "    cmap=\"magma\",\n",
    "    scale=\"log\",\n",
    "    colorbar=\"v\",\n",
    ")\n",
    "ax = fig.axes[0]\n",
    "ax.set(\n",
    "    title=\"[S III] 9069 / [S II] 6731\",\n",
    ")"
   ]
  },
  {
   "cell_type": "code",
   "execution_count": null,
   "id": "d57cf59d",
   "metadata": {},
   "outputs": [],
   "source": [
    "fig.axes"
   ]
  }
 ],
 "metadata": {
  "jupytext": {
   "encoding": "# -*- coding: utf-8 -*-",
   "formats": "ipynb,py:light,md"
  },
  "kernelspec": {
   "display_name": "Python 3",
   "language": "python",
   "name": "python3"
  },
  "language_info": {
   "codemirror_mode": {
    "name": "ipython",
    "version": 3
   },
   "file_extension": ".py",
   "mimetype": "text/x-python",
   "name": "python",
   "nbconvert_exporter": "python",
   "pygments_lexer": "ipython3",
   "version": "3.9.9"
  }
 },
 "nbformat": 4,
 "nbformat_minor": 5
}
