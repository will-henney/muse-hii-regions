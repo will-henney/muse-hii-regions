{
 "cells": [
  {
   "cell_type": "markdown",
   "id": "405a9240-865b-4607-8540-8ac63b80c4fe",
   "metadata": {},
   "source": [
    "# 30 Dor red lines: 6200–7100 Å, 7000–7900, etc"
   ]
  },
  {
   "cell_type": "code",
   "execution_count": null,
   "id": "420cb65d",
   "metadata": {},
   "outputs": [],
   "source": [
    "from pathlib import Path\n",
    "import numpy as np\n",
    "from matplotlib import pyplot as plt\n",
    "import seaborn as sns\n",
    "from mpdaf.obj import Cube\n",
    "import regions\n",
    "import sys\n",
    "\n",
    "sys.path.append(\"../lib\")\n",
    "import moments\n",
    "import extract\n",
    "\n",
    "sns.set_context(\"talk\")\n",
    "sns.set_color_codes()"
   ]
  },
  {
   "cell_type": "markdown",
   "id": "65bee87f-b80d-4ac9-b547-35aae78d0ed3",
   "metadata": {},
   "source": [
    "## Start with 6200–7100"
   ]
  },
  {
   "cell_type": "code",
   "execution_count": null,
   "id": "4120edc4",
   "metadata": {
    "tags": []
   },
   "outputs": [],
   "source": [
    "cubeA = Cube(\"../big-data/lmc-30dor-A-subcube-62-71.fits\")\n",
    "cubeB = Cube(\"../big-data/lmc-30dor-B-subcube-62-71.fits\")\n",
    "cubeC = Cube(\"../big-data/lmc-30dor-C-subcube-62-71.fits\")\n",
    "cubeD = Cube(\"../big-data/lmc-30dor-D-subcube-62-71.fits\")"
   ]
  },
  {
   "cell_type": "markdown",
   "id": "d12cff63",
   "metadata": {},
   "source": [
    "### Inspect the average spectrum for each field"
   ]
  },
  {
   "cell_type": "code",
   "execution_count": null,
   "id": "2e8c20c3",
   "metadata": {},
   "outputs": [],
   "source": [
    "fig, ax = plt.subplots(figsize=(12, 6))\n",
    "for cube, label in zip([cubeA, cubeB, cubeC, cubeD], \"ABCD\"):\n",
    "    cube.sum(axis=(1, 2)).plot(label=label)\n",
    "ax.legend()\n",
    "ax.set(\n",
    "    ylim=[0.5e8, 1.5e8],\n",
    ")\n",
    "sns.despine()"
   ]
  },
  {
   "cell_type": "markdown",
   "id": "bcdb5685",
   "metadata": {},
   "source": [
    "Again, we get WR features (I think)  around 6600, and of course the Raman wings"
   ]
  },
  {
   "cell_type": "markdown",
   "id": "02fa7c15",
   "metadata": {},
   "source": [
    "### Define continuum wavelength ranges\n",
    "\n",
    "We can try the same wav ranges as we used for NGC 346"
   ]
  },
  {
   "cell_type": "code",
   "execution_count": null,
   "id": "961b61fe",
   "metadata": {},
   "outputs": [],
   "source": [
    "wavranges = [\n",
    "    (6220, 6280),\n",
    "    (6400, 6450),\n",
    "    (6700, 6710),\n",
    "    (6760, 6810), (7015, 7050),\n",
    "    (7090, 7100), \n",
    "]"
   ]
  },
  {
   "cell_type": "code",
   "execution_count": null,
   "id": "705d4819",
   "metadata": {},
   "outputs": [],
   "source": [
    "nv, ny, nx = cubeA.data.shape\n",
    "ny, nx"
   ]
  },
  {
   "cell_type": "markdown",
   "id": "f499ab33",
   "metadata": {},
   "source": [
    "Split each field up into 4 roughly equal tiles:"
   ]
  },
  {
   "cell_type": "code",
   "execution_count": null,
   "id": "470f0f0d",
   "metadata": {},
   "outputs": [],
   "source": [
    "mm = 160  # middle of each image\n",
    "fig, ax = plt.subplots(figsize=(12, 8))\n",
    "for cube, label in zip([cubeA, cubeB, cubeC, cubeD], \"ABCD\"):\n",
    "    cu11 = cube[:, :mm, :mm]\n",
    "    cu12 = cube[:, :mm, mm:]\n",
    "    cu21 = cube[:, mm:, :mm]\n",
    "    cu22 = cube[:, mm:, mm:]\n",
    "    cu11.mean(axis=(1, 2)).plot(label=f\"{label}11\")\n",
    "    cu12.mean(axis=(1, 2)).plot(label=f\"{label}12\")\n",
    "    cu21.mean(axis=(1, 2)).plot(label=f\"{label}21\")\n",
    "    cu22.mean(axis=(1, 2)).plot(label=f\"{label}22\")\n",
    "\n",
    "for wavrange in wavranges:\n",
    "    ax.axvspan(*wavrange, alpha=0.3)\n",
    "ax.legend(ncol=4, fontsize=\"x-small\")\n",
    "ax.set(\n",
    "    yscale=\"log\",\n",
    "    ylim=[120, 9e3],\n",
    ")\n",
    "sns.despine()"
   ]
  },
  {
   "cell_type": "markdown",
   "id": "4a379702",
   "metadata": {},
   "source": [
    "### Test the polynomial fitting with field A\n",
    "\n",
    "This takes about a minute for each field."
   ]
  },
  {
   "cell_type": "code",
   "execution_count": null,
   "id": "8d1b2fd8",
   "metadata": {},
   "outputs": [],
   "source": [
    "contA = extract.fit_continuum(\n",
    "    cubeA,\n",
    "    wav_ranges=wavranges,\n",
    "    deg=5,\n",
    "    median=False,\n",
    ")"
   ]
  },
  {
   "cell_type": "markdown",
   "id": "cc4997ae",
   "metadata": {},
   "source": [
    "#### Inspect the results for different portions of the field."
   ]
  },
  {
   "cell_type": "code",
   "execution_count": null,
   "id": "e9dbf9cc",
   "metadata": {},
   "outputs": [],
   "source": [
    "fig, ax = plt.subplots(figsize=(12, 8))\n",
    "cubeA[:, 275:300, 120:150].mean(axis=(1, 2)).plot()\n",
    "contA[:, 275:300, 120:150].mean(axis=(1, 2)).plot()\n",
    "for wavrange in wavranges:\n",
    "    ax.axvspan(*wavrange, alpha=0.3)\n",
    "ax.set(ylim=[0, 800])"
   ]
  },
  {
   "cell_type": "markdown",
   "id": "8d99960b",
   "metadata": {},
   "source": [
    "I had to go back and forth a few times adjusting the wav ranges.  It is difficult to get a good fit on the blue side because of the WR features.\n",
    "\n",
    "As can be seen here, the final version is not perfect – it slightly overpredicts the continuum around 4700 to 4800.  This might affect some of the weak [Fe III] lines, but the [Ar IV] 4740 does not seem to be much affected."
   ]
  },
  {
   "cell_type": "markdown",
   "id": "22e4eced",
   "metadata": {},
   "source": [
    "#### Look at some line images"
   ]
  },
  {
   "cell_type": "code",
   "execution_count": null,
   "id": "3b7b1549",
   "metadata": {
    "lines_to_end_of_cell_marker": 2
   },
   "outputs": [],
   "source": [
    "fig, axes = plt.subplots(3, 2, figsize=(12, 18), sharex=True, sharey=True)\n",
    "(cubeA - contA).select_lambda(6300, 6310).sum(axis=0).plot(\n",
    "    ax=axes[0, 0],\n",
    "    vmin=-10,\n",
    "    vmax=6000,\n",
    ")\n",
    "axes[0, 0].set_title(\"[O I] 6300\")\n",
    "\n",
    "(cubeA - contA).select_lambda(6312, 6322).sum(axis=0).plot(\n",
    "    ax=axes[0, 1],\n",
    "    vmin=-10,\n",
    "    vmax=10000,\n",
    ")\n",
    "axes[0, 1].set_title(\"[S III] 6312\")\n",
    "\n",
    "(cubeA - contA).select_lambda(7002, 7012).sum(axis=0).plot(\n",
    "    ax=axes[1, 0],\n",
    "    vmin=-3,\n",
    "    vmax=250,\n",
    ")\n",
    "axes[1, 0].set_title(\"O I 7002\")\n",
    "\n",
    "(cubeA - contA).select_lambda(6462, 6472).sum(axis=0).plot(\n",
    "    ax=axes[1, 1],\n",
    "    vmin=-3,\n",
    "    vmax=150,\n",
    ")\n",
    "axes[1, 1].set_title(\"C II 6462\")\n",
    "\n",
    "(cubeA - contA).select_lambda(6731, 6741).sum(axis=0).plot(\n",
    "    ax=axes[2, 0],\n",
    "    vmin=-10,\n",
    "    vmax=30000,\n",
    ")\n",
    "axes[2, 0].set_title(\"[S II] 6731\")\n",
    "\n",
    "(cubeA - contA).select_lambda(7065, 7075).sum(axis=0).plot(\n",
    "    ax=axes[2, 1],\n",
    "    vmin=-10,\n",
    "    vmax=20000,\n",
    ")\n",
    "axes[2, 1].set_title(\"He I 7065\")"
   ]
  },
  {
   "cell_type": "markdown",
   "id": "40a6b493",
   "metadata": {},
   "source": [
    "### Now do the other fields"
   ]
  },
  {
   "cell_type": "code",
   "execution_count": null,
   "id": "c3676a5f",
   "metadata": {},
   "outputs": [],
   "source": [
    "contB = extract.fit_continuum(\n",
    "    cubeB,\n",
    "    wav_ranges=wavranges,\n",
    "    deg=5,\n",
    "    median=False,\n",
    ")"
   ]
  },
  {
   "cell_type": "code",
   "execution_count": null,
   "id": "b7dae09a",
   "metadata": {},
   "outputs": [],
   "source": [
    "contC = extract.fit_continuum(\n",
    "    cubeC,\n",
    "    wav_ranges=wavranges,\n",
    "    deg=5,\n",
    "    median=False,\n",
    ")"
   ]
  },
  {
   "cell_type": "code",
   "execution_count": null,
   "id": "8d60d20b",
   "metadata": {},
   "outputs": [],
   "source": [
    "contD = extract.fit_continuum(\n",
    "    cubeD,\n",
    "    wav_ranges=wavranges,\n",
    "    deg=5,\n",
    "    median=False,\n",
    ")"
   ]
  },
  {
   "cell_type": "markdown",
   "id": "b1e049d1",
   "metadata": {},
   "source": [
    "### Save the continuum-subtracted cubes"
   ]
  },
  {
   "cell_type": "code",
   "execution_count": null,
   "id": "84995dee",
   "metadata": {
    "lines_to_next_cell": 2
   },
   "outputs": [],
   "source": [
    "csub = {}\n",
    "cdiv = {}\n",
    "for cube, cont, label in zip(\n",
    "    [cubeD, cubeC, cubeB, cubeA],\n",
    "    [contD, contC, contB, contA],\n",
    "    \"DCBA\",\n",
    "):\n",
    "    prefix = f\"../big-data/lmc-30dor-{label}-subcube-62-71\"\n",
    "    csub[label] = cube - cont\n",
    "    cdiv[label] = cube / cont\n",
    "    csub[label].write(\n",
    "        f\"{prefix}-contsub.fits\",\n",
    "        savemask=\"nan\",\n",
    "    )\n",
    "    cdiv[label].write(\n",
    "        f\"{prefix}-contdiv.fits\",\n",
    "        savemask=\"nan\",\n",
    "    )\n",
    "    cont.write(\n",
    "        f\"{prefix}-cont.fits\",\n",
    "        savemask=\"nan\",\n",
    "    )"
   ]
  },
  {
   "cell_type": "markdown",
   "id": "472a538f-b730-44e8-9f7e-6469ddaaa5ab",
   "metadata": {},
   "source": [
    "## Repeat for the next range: 7000 to 7900"
   ]
  },
  {
   "cell_type": "code",
   "execution_count": null,
   "id": "7bd2552e-b634-451e-8962-20ea922fa3cb",
   "metadata": {
    "tags": []
   },
   "outputs": [],
   "source": [
    "cubeA = Cube(\"../big-data/lmc-30dor-A-subcube-70-79.fits\")\n",
    "cubeB = Cube(\"../big-data/lmc-30dor-B-subcube-70-79.fits\")\n",
    "cubeC = Cube(\"../big-data/lmc-30dor-C-subcube-70-79.fits\")\n",
    "cubeD = Cube(\"../big-data/lmc-30dor-D-subcube-70-79.fits\")"
   ]
  },
  {
   "cell_type": "markdown",
   "id": "76d688a4-eeb5-4a4c-a870-9c9118d7ce40",
   "metadata": {},
   "source": [
    "### 70–79 Inspect the average spectrum for each field"
   ]
  },
  {
   "cell_type": "code",
   "execution_count": null,
   "id": "d46d40b6-51b4-4258-98a7-d79776485b6c",
   "metadata": {},
   "outputs": [],
   "source": [
    "fig, ax = plt.subplots(figsize=(12, 6))\n",
    "for cube, label in zip([cubeA, cubeB, cubeC, cubeD], \"ABCD\"):\n",
    "    cube.sum(axis=(1, 2)).plot(label=label)\n",
    "ax.legend()\n",
    "ax.set(\n",
    "    ylim=[0.4e8, 1.0e8],\n",
    ")\n",
    "sns.despine()"
   ]
  },
  {
   "cell_type": "markdown",
   "id": "63f7edf9-f69d-4974-9129-f9794bf3d7c7",
   "metadata": {},
   "source": [
    "Again, we get WR features (I think)  around 7120, and some over compensation for the atmospheric asbsorption."
   ]
  },
  {
   "cell_type": "markdown",
   "id": "2fb64d6a-5dba-4af8-a8ed-c2233720d75b",
   "metadata": {},
   "source": [
    "### 70–79 Define continuum wavelength ranges\n",
    "\n",
    "No large ranges of clear continuum here"
   ]
  },
  {
   "cell_type": "code",
   "execution_count": null,
   "id": "e6fe2b83-9e68-431d-a10b-85c5c2facc9e",
   "metadata": {},
   "outputs": [],
   "source": [
    "wavranges = [\n",
    "    (7015, 7040), (7090, 7100), (7150, 7160),\n",
    "    (7210, 7225), (7260, 7275), \n",
    "    (7380, 7390),\n",
    "    (7410, 7420), (7450, 7460),\n",
    "    (7510, 7520),\n",
    "    (7720, 7740),\n",
    "    (7780, 7790), (7830, 7840),\n",
    "    (7890, 7900),\n",
    "]"
   ]
  },
  {
   "cell_type": "code",
   "execution_count": null,
   "id": "ab490d9f-7f82-443b-a582-45254d44e10d",
   "metadata": {},
   "outputs": [],
   "source": [
    "nv, ny, nx = cubeA.data.shape\n",
    "ny, nx"
   ]
  },
  {
   "cell_type": "markdown",
   "id": "b63d9411-b264-4051-a604-57dceaaf95a3",
   "metadata": {},
   "source": [
    "Split each field up into 4 roughly equal tiles:"
   ]
  },
  {
   "cell_type": "code",
   "execution_count": null,
   "id": "d838d57c-273e-415b-8aec-741018e32ae1",
   "metadata": {},
   "outputs": [],
   "source": [
    "mm = 160  # middle of each image\n",
    "fig, ax = plt.subplots(figsize=(12, 8))\n",
    "for cube, label in zip([cubeA, cubeB, cubeC, cubeD], \"ABCD\"):\n",
    "    cu11 = cube[:, :mm, :mm]\n",
    "    cu12 = cube[:, :mm, mm:]\n",
    "    cu21 = cube[:, mm:, :mm]\n",
    "    cu22 = cube[:, mm:, mm:]\n",
    "    cu11.mean(axis=(1, 2)).plot(label=f\"{label}11\")\n",
    "    cu12.mean(axis=(1, 2)).plot(label=f\"{label}12\")\n",
    "    cu21.mean(axis=(1, 2)).plot(label=f\"{label}21\")\n",
    "    cu22.mean(axis=(1, 2)).plot(label=f\"{label}22\")\n",
    "\n",
    "for wavrange in wavranges:\n",
    "    ax.axvspan(*wavrange, alpha=0.3)\n",
    "ax.legend(ncol=4, fontsize=\"x-small\")\n",
    "ax.set(\n",
    "    yscale=\"log\",\n",
    "    ylim=[40, 8e3],\n",
    ")\n",
    "sns.despine()"
   ]
  },
  {
   "cell_type": "markdown",
   "id": "0547e501-cb99-45a6-bdbb-7c38c0ec73ed",
   "metadata": {},
   "source": [
    "### 70–79 Test the polynomial fitting with field A\n",
    "\n",
    "This takes about a minute for each field."
   ]
  },
  {
   "cell_type": "code",
   "execution_count": null,
   "id": "4e58f464-0677-4e14-aec0-1b98b1521c87",
   "metadata": {},
   "outputs": [],
   "source": [
    "contA = extract.fit_continuum(\n",
    "    cubeA,\n",
    "    wav_ranges=wavranges,\n",
    "    deg=5,\n",
    "    median=False,\n",
    ")"
   ]
  },
  {
   "cell_type": "markdown",
   "id": "eb92812a-8f70-4ba5-8aa6-6c8d178303be",
   "metadata": {},
   "source": [
    "#### 70–79 Inspect the results for different portions of the field."
   ]
  },
  {
   "cell_type": "code",
   "execution_count": null,
   "id": "b536dfcd-b275-4b8a-a4b4-fb1a0943f0d3",
   "metadata": {},
   "outputs": [],
   "source": [
    "fig, ax = plt.subplots(figsize=(12, 8))\n",
    "cubeA[:, 275:300, 120:150].mean(axis=(1, 2)).plot()\n",
    "contA[:, 275:300, 120:150].mean(axis=(1, 2)).plot()\n",
    "for wavrange in wavranges:\n",
    "    ax.axvspan(*wavrange, alpha=0.3)\n",
    "ax.set(ylim=[0, 800])"
   ]
  },
  {
   "cell_type": "markdown",
   "id": "5630d9a7-91ce-435e-a0f1-12582effa977",
   "metadata": {},
   "source": [
    "### 70–79 Now do the other fields"
   ]
  },
  {
   "cell_type": "code",
   "execution_count": null,
   "id": "8a5df6d8-fa80-41c1-8d41-d01a8f6cea68",
   "metadata": {},
   "outputs": [],
   "source": [
    "contB = extract.fit_continuum(\n",
    "    cubeB,\n",
    "    wav_ranges=wavranges,\n",
    "    deg=5,\n",
    "    median=False,\n",
    ")"
   ]
  },
  {
   "cell_type": "code",
   "execution_count": null,
   "id": "89a1c6dd-b9e9-4392-916a-a901ff8080d9",
   "metadata": {},
   "outputs": [],
   "source": [
    "contC = extract.fit_continuum(\n",
    "    cubeC,\n",
    "    wav_ranges=wavranges,\n",
    "    deg=5,\n",
    "    median=False,\n",
    ")"
   ]
  },
  {
   "cell_type": "code",
   "execution_count": null,
   "id": "1050f610-5e15-4114-ab2a-810b1f8e0716",
   "metadata": {},
   "outputs": [],
   "source": [
    "contD = extract.fit_continuum(\n",
    "    cubeD,\n",
    "    wav_ranges=wavranges,\n",
    "    deg=5,\n",
    "    median=False,\n",
    ")"
   ]
  },
  {
   "cell_type": "markdown",
   "id": "215ba3a3-296b-481a-b1a3-dffa63869665",
   "metadata": {},
   "source": [
    "### 70–79 Save the continuum-subtracted cubes"
   ]
  },
  {
   "cell_type": "code",
   "execution_count": null,
   "id": "7478eb0f-dc34-4f77-9613-db9769b3092a",
   "metadata": {},
   "outputs": [],
   "source": [
    "csub = {}\n",
    "cdiv = {}\n",
    "for cube, cont, label in zip(\n",
    "    [cubeD, cubeC, cubeB, cubeA],\n",
    "    [contD, contC, contB, contA],\n",
    "    \"DCBA\",\n",
    "):\n",
    "    prefix = f\"../big-data/lmc-30dor-{label}-subcube-70-79\"\n",
    "    csub[label] = cube - cont\n",
    "    cdiv[label] = cube / cont\n",
    "    csub[label].write(\n",
    "        f\"{prefix}-contsub.fits\",\n",
    "        savemask=\"nan\",\n",
    "    )\n",
    "    cdiv[label].write(\n",
    "        f\"{prefix}-contdiv.fits\",\n",
    "        savemask=\"nan\",\n",
    "    )\n",
    "    cont.write(\n",
    "        f\"{prefix}-cont.fits\",\n",
    "        savemask=\"nan\",\n",
    "    )"
   ]
  },
  {
   "cell_type": "code",
   "execution_count": null,
   "id": "01ed4ea1-8338-488b-ab6c-aa4b3d4c22bc",
   "metadata": {
    "lines_to_next_cell": 2
   },
   "outputs": [],
   "source": []
  }
 ],
 "metadata": {
  "jupytext": {
   "encoding": "# -*- coding: utf-8 -*-",
   "formats": "ipynb,py:light,md"
  },
  "kernelspec": {
   "display_name": "Python 3",
   "language": "python",
   "name": "python3"
  },
  "language_info": {
   "codemirror_mode": {
    "name": "ipython",
    "version": 3
   },
   "file_extension": ".py",
   "mimetype": "text/x-python",
   "name": "python",
   "nbconvert_exporter": "python",
   "pygments_lexer": "ipython3",
   "version": "3.9.4"
  }
 },
 "nbformat": 4,
 "nbformat_minor": 5
}
