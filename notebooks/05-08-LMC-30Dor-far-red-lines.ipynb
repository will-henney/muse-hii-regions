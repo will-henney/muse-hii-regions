{
 "cells": [
  {
   "cell_type": "markdown",
   "id": "103c37cc",
   "metadata": {},
   "source": [
    "# 30 Dor far red lines: 7800–8700 Å, 8600–9500 Å"
   ]
  },
  {
   "cell_type": "code",
   "execution_count": null,
   "id": "efea2e9d",
   "metadata": {},
   "outputs": [],
   "source": [
    "from pathlib import Path\n",
    "import numpy as np\n",
    "from matplotlib import pyplot as plt\n",
    "import seaborn as sns\n",
    "from mpdaf.obj import Cube\n",
    "import regions\n",
    "import sys\n",
    "\n",
    "sys.path.append(\"../lib\")\n",
    "import moments\n",
    "import extract\n",
    "\n",
    "sns.set_context(\"talk\")\n",
    "sns.set_color_codes()"
   ]
  },
  {
   "cell_type": "markdown",
   "id": "20d15578",
   "metadata": {},
   "source": [
    "## Start with 7800–8700"
   ]
  },
  {
   "cell_type": "code",
   "execution_count": null,
   "id": "c259acbf",
   "metadata": {
    "tags": []
   },
   "outputs": [],
   "source": [
    "cubeA = Cube(\"../big-data/lmc-30dor-A-subcube-78-87.fits\")\n",
    "cubeB = Cube(\"../big-data/lmc-30dor-B-subcube-78-87.fits\")\n",
    "cubeC = Cube(\"../big-data/lmc-30dor-C-subcube-78-87.fits\")\n",
    "cubeD = Cube(\"../big-data/lmc-30dor-D-subcube-78-87.fits\")"
   ]
  },
  {
   "cell_type": "markdown",
   "id": "f7b47beb",
   "metadata": {},
   "source": [
    "### Inspect the average spectrum for each field"
   ]
  },
  {
   "cell_type": "code",
   "execution_count": null,
   "id": "4c583bc2",
   "metadata": {},
   "outputs": [],
   "source": [
    "fig, ax = plt.subplots(figsize=(12, 6))\n",
    "for cube, label in zip([cubeA, cubeB, cubeC, cubeD], \"ABCD\"):\n",
    "    cube.sum(axis=(1, 2)).plot(label=label)\n",
    "ax.legend()\n",
    "ax.set(\n",
    "    ylim=[0.1e8, 0.9e8],\n",
    ")\n",
    "sns.despine()"
   ]
  },
  {
   "cell_type": "markdown",
   "id": "afe01b13",
   "metadata": {},
   "source": [
    "We can see the optical ghost around 8600 Å.  But the main problem here is going to be the Paschen jump.  Let us hope that a 5th order polynomial can fit it OK."
   ]
  },
  {
   "cell_type": "markdown",
   "id": "3bf2847e",
   "metadata": {},
   "source": [
    "### Define continuum wavelength ranges\n",
    "\n",
    "We can try the same wav ranges as we used for NGC 346"
   ]
  },
  {
   "cell_type": "code",
   "execution_count": null,
   "id": "63398fc6",
   "metadata": {},
   "outputs": [],
   "source": [
    "wavranges = [\n",
    "    (7800, 7805), (7825, 7835), (7900, 7910),\n",
    "    (7935, 7950), (8000, 8010), (8025, 8045), (8067, 8082),\n",
    "    (8107, 8125), (8160, 8180),\n",
    "    (8200, 8220), (8250, 8270), (8354, 8364), (8368, 8378), (8385, 8395),\n",
    "    (8405, 8415), (8432, 8442), (8480, 8490),\n",
    "    (8525, 8535), (8560, 8570), (8590, 8600),\n",
    "    (8620, 8640), (8680, 8700),\n",
    "]"
   ]
  },
  {
   "cell_type": "code",
   "execution_count": null,
   "id": "87b998f3",
   "metadata": {},
   "outputs": [],
   "source": [
    "nv, ny, nx = cubeA.data.shape\n",
    "ny, nx"
   ]
  },
  {
   "cell_type": "markdown",
   "id": "089489ef",
   "metadata": {},
   "source": [
    "Split each field up into 4 roughly equal tiles:"
   ]
  },
  {
   "cell_type": "code",
   "execution_count": null,
   "id": "03614145",
   "metadata": {},
   "outputs": [],
   "source": [
    "mm = 160  # middle of each image\n",
    "fig, ax = plt.subplots(figsize=(12, 8))\n",
    "for cube, label in zip([cubeA, cubeB, cubeC, cubeD], \"ABCD\"):\n",
    "    cu11 = cube[:, :mm, :mm]\n",
    "    cu12 = cube[:, :mm, mm:]\n",
    "    cu21 = cube[:, mm:, :mm]\n",
    "    cu22 = cube[:, mm:, mm:]\n",
    "    cu11.mean(axis=(1, 2)).plot(label=f\"{label}11\")\n",
    "    cu12.mean(axis=(1, 2)).plot(label=f\"{label}12\")\n",
    "    cu21.mean(axis=(1, 2)).plot(label=f\"{label}21\")\n",
    "    cu22.mean(axis=(1, 2)).plot(label=f\"{label}22\")\n",
    "\n",
    "for wavrange in wavranges:\n",
    "    ax.axvspan(*wavrange, alpha=0.3)\n",
    "ax.legend(ncol=4, fontsize=\"x-small\")\n",
    "ax.set(\n",
    "    yscale=\"log\",\n",
    "    ylim=[50, 5e3],\n",
    ")\n",
    "sns.despine()"
   ]
  },
  {
   "cell_type": "markdown",
   "id": "b979bc68",
   "metadata": {},
   "source": [
    "### Test the polynomial fitting with field A\n",
    "\n",
    "This takes about a minute for each field."
   ]
  },
  {
   "cell_type": "code",
   "execution_count": null,
   "id": "aecc900b",
   "metadata": {},
   "outputs": [],
   "source": [
    "contA = extract.fit_continuum(\n",
    "    cubeA,\n",
    "    wav_ranges=wavranges,\n",
    "    deg=8,\n",
    "    median=False,\n",
    ")"
   ]
  },
  {
   "cell_type": "markdown",
   "id": "2f51d95a",
   "metadata": {},
   "source": [
    "#### Inspect the results for different portions of the field."
   ]
  },
  {
   "cell_type": "code",
   "execution_count": null,
   "id": "47dfeca5",
   "metadata": {},
   "outputs": [],
   "source": [
    "fig, ax = plt.subplots(figsize=(12, 8))\n",
    "cubeA[:, 275:300, 120:150].mean(axis=(1, 2)).plot()\n",
    "contA[:, 275:300, 120:150].mean(axis=(1, 2)).plot()\n",
    "for wavrange in wavranges:\n",
    "    ax.axvspan(*wavrange, alpha=0.3)\n",
    "ax.set(ylim=[0, 800])"
   ]
  },
  {
   "cell_type": "markdown",
   "id": "1b271cf8",
   "metadata": {},
   "source": [
    "I had to go back and forth a few times adjusting the wav ranges.  It is difficult to get a good fit on the blue side because of the WR features.\n",
    "\n",
    "As can be seen here, the final version is not perfect – it slightly overpredicts the continuum around 4700 to 4800.  This might affect some of the weak [Fe III] lines, but the [Ar IV] 4740 does not seem to be much affected."
   ]
  },
  {
   "cell_type": "markdown",
   "id": "a99e4d30",
   "metadata": {},
   "source": [
    "### Now do the other fields"
   ]
  },
  {
   "cell_type": "code",
   "execution_count": null,
   "id": "1a975da9",
   "metadata": {},
   "outputs": [],
   "source": [
    "contB = extract.fit_continuum(\n",
    "    cubeB,\n",
    "    wav_ranges=wavranges,\n",
    "    deg=8,\n",
    "    median=False,\n",
    ")"
   ]
  },
  {
   "cell_type": "code",
   "execution_count": null,
   "id": "6be37738",
   "metadata": {},
   "outputs": [],
   "source": [
    "contC = extract.fit_continuum(\n",
    "    cubeC,\n",
    "    wav_ranges=wavranges,\n",
    "    deg=8,\n",
    "    median=False,\n",
    ")"
   ]
  },
  {
   "cell_type": "code",
   "execution_count": null,
   "id": "5f4d2030",
   "metadata": {},
   "outputs": [],
   "source": [
    "contD = extract.fit_continuum(\n",
    "    cubeD,\n",
    "    wav_ranges=wavranges,\n",
    "    deg=8,\n",
    "    median=False,\n",
    ")"
   ]
  },
  {
   "cell_type": "markdown",
   "id": "51b68883",
   "metadata": {},
   "source": [
    "### Save the continuum-subtracted cubes"
   ]
  },
  {
   "cell_type": "code",
   "execution_count": null,
   "id": "8775c016",
   "metadata": {
    "lines_to_next_cell": 2
   },
   "outputs": [],
   "source": [
    "csub = {}\n",
    "cdiv = {}\n",
    "for cube, cont, label in zip(\n",
    "    [cubeD, cubeC, cubeB, cubeA],\n",
    "    [contD, contC, contB, contA],\n",
    "    \"DCBA\",\n",
    "):\n",
    "    prefix = f\"../big-data/lmc-30dor-{label}-subcube-78-87\"\n",
    "    csub[label] = cube - cont\n",
    "    cdiv[label] = cube / cont\n",
    "    csub[label].write(\n",
    "        f\"{prefix}-contsub.fits\",\n",
    "        savemask=\"nan\",\n",
    "    )\n",
    "    cdiv[label].write(\n",
    "        f\"{prefix}-contdiv.fits\",\n",
    "        savemask=\"nan\",\n",
    "    )\n",
    "    cont.write(\n",
    "        f\"{prefix}-cont.fits\",\n",
    "        savemask=\"nan\",\n",
    "    )"
   ]
  },
  {
   "cell_type": "markdown",
   "id": "39e94f40",
   "metadata": {},
   "source": [
    "## Repeat for the next range: 8600 to 9500"
   ]
  },
  {
   "cell_type": "code",
   "execution_count": null,
   "id": "428700dc",
   "metadata": {
    "tags": []
   },
   "outputs": [],
   "source": [
    "cubeA = Cube(\"../big-data/lmc-30dor-A-subcube-86-95.fits\")\n",
    "cubeB = Cube(\"../big-data/lmc-30dor-B-subcube-86-95.fits\")\n",
    "cubeC = Cube(\"../big-data/lmc-30dor-C-subcube-86-95.fits\")\n",
    "cubeD = Cube(\"../big-data/lmc-30dor-D-subcube-86-95.fits\")"
   ]
  },
  {
   "cell_type": "markdown",
   "id": "9ef8509f",
   "metadata": {},
   "source": [
    "### 86–95 Inspect the average spectrum for each field"
   ]
  },
  {
   "cell_type": "code",
   "execution_count": null,
   "id": "746005c5",
   "metadata": {},
   "outputs": [],
   "source": [
    "fig, ax = plt.subplots(figsize=(12, 6))\n",
    "for cube, label in zip([cubeA, cubeB, cubeC, cubeD], \"ABCD\"):\n",
    "    cube.sum(axis=(1, 2)).plot(label=label)\n",
    "ax.legend()\n",
    "ax.set(\n",
    "    ylim=[0.3e8, 0.7e8],\n",
    ")\n",
    "sns.despine()"
   ]
  },
  {
   "cell_type": "markdown",
   "id": "4d4469a4",
   "metadata": {},
   "source": [
    "Again, we get WR features (I think)  around 7120, and some over compensation for the atmospheric asbsorption."
   ]
  },
  {
   "cell_type": "markdown",
   "id": "6c479c92",
   "metadata": {},
   "source": [
    "### 86–95 Define continuum wavelength ranges\n",
    "\n",
    "No large ranges of clear continuum here"
   ]
  },
  {
   "cell_type": "code",
   "execution_count": null,
   "id": "807af5f2",
   "metadata": {},
   "outputs": [],
   "source": [
    "wavranges = [\n",
    "    (8658, 8668), (8675, 8685), (8696, 8705),\n",
    "    (8720, 8730), (8745, 8755), (8800, 8820), \n",
    "    (8890, 8900), (8930, 8940), (8970, 8980),\n",
    "    (9140, 9150),\n",
    "    (9200, 9210), (9250, 9270),\n",
    "]"
   ]
  },
  {
   "cell_type": "code",
   "execution_count": null,
   "id": "ffa2baa2",
   "metadata": {},
   "outputs": [],
   "source": [
    "nv, ny, nx = cubeA.data.shape\n",
    "ny, nx"
   ]
  },
  {
   "cell_type": "markdown",
   "id": "7af65b79",
   "metadata": {},
   "source": [
    "Split each field up into 4 roughly equal tiles:"
   ]
  },
  {
   "cell_type": "code",
   "execution_count": null,
   "id": "df5f63f7",
   "metadata": {},
   "outputs": [],
   "source": [
    "mm = 160  # middle of each image\n",
    "fig, ax = plt.subplots(figsize=(12, 8))\n",
    "for cube, label in zip([cubeA, cubeB, cubeC, cubeD], \"ABCD\"):\n",
    "    cu11 = cube[:, :mm, :mm]\n",
    "    cu12 = cube[:, :mm, mm:]\n",
    "    cu21 = cube[:, mm:, :mm]\n",
    "    cu22 = cube[:, mm:, mm:]\n",
    "    cu11.mean(axis=(1, 2)).plot(label=f\"{label}11\")\n",
    "    cu12.mean(axis=(1, 2)).plot(label=f\"{label}12\")\n",
    "    cu21.mean(axis=(1, 2)).plot(label=f\"{label}21\")\n",
    "    cu22.mean(axis=(1, 2)).plot(label=f\"{label}22\")\n",
    "\n",
    "for wavrange in wavranges:\n",
    "    ax.axvspan(*wavrange, alpha=0.3)\n",
    "ax.legend(ncol=4, fontsize=\"x-small\")\n",
    "ax.set(\n",
    "    yscale=\"log\",\n",
    "    ylim=[40, 8e3],\n",
    ")\n",
    "sns.despine()"
   ]
  },
  {
   "cell_type": "markdown",
   "id": "73fd27b8",
   "metadata": {},
   "source": [
    "### 86-94 Test the polynomial fitting with field A\n",
    "\n",
    "This takes about a minute for each field."
   ]
  },
  {
   "cell_type": "code",
   "execution_count": null,
   "id": "b75e073e",
   "metadata": {},
   "outputs": [],
   "source": [
    "contA = extract.fit_continuum(\n",
    "    cubeA,\n",
    "    wav_ranges=wavranges,\n",
    "    deg=2,\n",
    "    median=False,\n",
    ")"
   ]
  },
  {
   "cell_type": "markdown",
   "id": "d5d33791",
   "metadata": {},
   "source": [
    "#### 86–94 Inspect the results for different portions of the field."
   ]
  },
  {
   "cell_type": "code",
   "execution_count": null,
   "id": "7ab32dc2",
   "metadata": {},
   "outputs": [],
   "source": [
    "fig, ax = plt.subplots(figsize=(12, 8))\n",
    "cubeA[:, 275:300, 120:150].mean(axis=(1, 2)).plot()\n",
    "contA[:, 275:300, 120:150].mean(axis=(1, 2)).plot()\n",
    "for wavrange in wavranges:\n",
    "    ax.axvspan(*wavrange, alpha=0.3)\n",
    "ax.set(ylim=[0, 800])"
   ]
  },
  {
   "cell_type": "markdown",
   "id": "b131db14",
   "metadata": {},
   "source": [
    "### 86–94 Now do the other fields"
   ]
  },
  {
   "cell_type": "code",
   "execution_count": null,
   "id": "ac77a1e2",
   "metadata": {},
   "outputs": [],
   "source": [
    "contB = extract.fit_continuum(\n",
    "    cubeB,\n",
    "    wav_ranges=wavranges,\n",
    "    deg=2,\n",
    "    median=False,\n",
    ")"
   ]
  },
  {
   "cell_type": "code",
   "execution_count": null,
   "id": "516e898f",
   "metadata": {},
   "outputs": [],
   "source": [
    "contC = extract.fit_continuum(\n",
    "    cubeC,\n",
    "    wav_ranges=wavranges,\n",
    "    deg=2,\n",
    "    median=False,\n",
    ")"
   ]
  },
  {
   "cell_type": "code",
   "execution_count": null,
   "id": "e0cbb55d",
   "metadata": {},
   "outputs": [],
   "source": [
    "contD = extract.fit_continuum(\n",
    "    cubeD,\n",
    "    wav_ranges=wavranges,\n",
    "    deg=2,\n",
    "    median=False,\n",
    ")"
   ]
  },
  {
   "cell_type": "markdown",
   "id": "1e5f9ad6",
   "metadata": {},
   "source": [
    "### 86-94 Save the continuum-subtracted cubes"
   ]
  },
  {
   "cell_type": "code",
   "execution_count": null,
   "id": "c4245b12",
   "metadata": {},
   "outputs": [],
   "source": [
    "csub = {}\n",
    "cdiv = {}\n",
    "for cube, cont, label in zip(\n",
    "    [cubeD, cubeC, cubeB, cubeA],\n",
    "    [contD, contC, contB, contA],\n",
    "    \"DCBA\",\n",
    "):\n",
    "    prefix = f\"../big-data/lmc-30dor-{label}-subcube-86-94\"\n",
    "    csub[label] = cube - cont\n",
    "    cdiv[label] = cube / cont\n",
    "    csub[label].write(\n",
    "        f\"{prefix}-contsub.fits\",\n",
    "        savemask=\"nan\",\n",
    "    )\n",
    "    cdiv[label].write(\n",
    "        f\"{prefix}-contdiv.fits\",\n",
    "        savemask=\"nan\",\n",
    "    )\n",
    "    cont.write(\n",
    "        f\"{prefix}-cont.fits\",\n",
    "        savemask=\"nan\",\n",
    "    )"
   ]
  },
  {
   "cell_type": "code",
   "execution_count": null,
   "id": "47323bc2",
   "metadata": {
    "lines_to_next_cell": 2
   },
   "outputs": [],
   "source": []
  }
 ],
 "metadata": {
  "jupytext": {
   "encoding": "# -*- coding: utf-8 -*-",
   "formats": "ipynb,py:light,md"
  },
  "kernelspec": {
   "display_name": "Python 3",
   "language": "python",
   "name": "python3"
  },
  "language_info": {
   "codemirror_mode": {
    "name": "ipython",
    "version": 3
   },
   "file_extension": ".py",
   "mimetype": "text/x-python",
   "name": "python",
   "nbconvert_exporter": "python",
   "pygments_lexer": "ipython3",
   "version": "3.9.4"
  }
 },
 "nbformat": 4,
 "nbformat_minor": 5
}
