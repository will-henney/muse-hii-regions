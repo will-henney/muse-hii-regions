{
 "cells": [
  {
   "cell_type": "markdown",
   "id": "1c714cff-3127-4345-93e8-3ee7301852ba",
   "metadata": {},
   "source": [
    "# Maps of molecular gas around 30 Dor"
   ]
  },
  {
   "cell_type": "markdown",
   "id": "b187b332-a4a9-4545-aa95-4085aeea7128",
   "metadata": {},
   "source": [
    "We want to compare the distribution of molecular gas with that of the Raman wings. \n",
    "\n",
    "Mabel is going to be doing most of that, but here I am going to create some integrated line maps from the original data cubes obtained from observatory archives."
   ]
  },
  {
   "cell_type": "code",
   "execution_count": 12,
   "id": "25d513f4-4af3-46be-8865-efdaf731f2e8",
   "metadata": {},
   "outputs": [],
   "source": [
    "from pathlib import Path\n",
    "import numpy as np\n",
    "from astropy.io import fits\n",
    "from astropy.wcs import WCS"
   ]
  },
  {
   "cell_type": "markdown",
   "id": "bc4fc7af-b244-4644-b30e-a33c454f5dbc",
   "metadata": {},
   "source": [
    "## Alma maps of 30 Dor-10 GMC\n",
    "\n",
    "These maps are described in [Indebetouw et al. 2020](https://ui.adsabs.harvard.edu/abs/2020ApJ...888...56I).\n",
    "\n"
   ]
  },
  {
   "cell_type": "code",
   "execution_count": 7,
   "id": "ad0b56fc-7597-45e6-820c-d6a708ccdac3",
   "metadata": {},
   "outputs": [],
   "source": [
    "DATAPATH = Path.cwd().parent / \"big-data\" / \"30-Dor-Radio\""
   ]
  },
  {
   "cell_type": "code",
   "execution_count": 8,
   "id": "1c8219a5-f1d7-41aa-86b7-912338e27d3d",
   "metadata": {},
   "outputs": [
    {
     "data": {
      "text/plain": [
       "PosixPath('/Users/will/Dropbox/muse-hii-regions/big-data/30-Dor-Radio')"
      ]
     },
     "execution_count": 8,
     "metadata": {},
     "output_type": "execute_result"
    }
   ],
   "source": [
    "DATAPATH"
   ]
  },
  {
   "cell_type": "code",
   "execution_count": 9,
   "id": "6937dd01-a7ef-462d-89a0-8d4ba64143a7",
   "metadata": {},
   "outputs": [],
   "source": [
    "PATH_2013 = DATAPATH / \"2013.1.00346.S/science_goal.uid___A001_X12a_X279/group.uid___A001_X12a_X27a/member.uid___A001_X12a_X27b/product\""
   ]
  },
  {
   "cell_type": "code",
   "execution_count": 10,
   "id": "bdc662a9-0585-45a9-b24e-b7453e69a8ea",
   "metadata": {},
   "outputs": [],
   "source": [
    "hdulist = fits.open(PATH_2013 / \"member.uid___A001_X12a_X27b.30_doradus_13CO21.image.fits\")"
   ]
  },
  {
   "cell_type": "code",
   "execution_count": 11,
   "id": "0b0bb00b-a5bb-4d8e-9087-b678c58e0546",
   "metadata": {},
   "outputs": [
    {
     "name": "stdout",
     "output_type": "stream",
     "text": [
      "Filename: /Users/will/Dropbox/muse-hii-regions/big-data/30-Dor-Radio/2013.1.00346.S/science_goal.uid___A001_X12a_X279/group.uid___A001_X12a_X27a/member.uid___A001_X12a_X27b/product/member.uid___A001_X12a_X27b.30_doradus_13CO21.image.fits\n",
      "No.    Name      Ver    Type      Cards   Dimensions   Format\n",
      "  0  PRIMARY       1 PrimaryHDU     590   (2500, 2000, 56, 1)   float32   \n"
     ]
    }
   ],
   "source": [
    "hdulist.info()"
   ]
  },
  {
   "cell_type": "code",
   "execution_count": 14,
   "id": "cc053801-6d4a-4d7f-a20f-66e8a8bf0256",
   "metadata": {},
   "outputs": [
    {
     "name": "stderr",
     "output_type": "stream",
     "text": [
      "WARNING: FITSFixedWarning: PC01_01 = 1.000000000000E+00 \n",
      "indices in parameterized keywords must not have leading zeroes. [astropy.wcs.wcs]\n",
      "WARNING: FITSFixedWarning: PC02_01 = 0.000000000000E+00 \n",
      "indices in parameterized keywords must not have leading zeroes. [astropy.wcs.wcs]\n",
      "WARNING: FITSFixedWarning: PC03_01 = 0.000000000000E+00 \n",
      "indices in parameterized keywords must not have leading zeroes. [astropy.wcs.wcs]\n",
      "WARNING: FITSFixedWarning: PC04_01 = 0.000000000000E+00 \n",
      "indices in parameterized keywords must not have leading zeroes. [astropy.wcs.wcs]\n",
      "WARNING: FITSFixedWarning: PC01_02 = 0.000000000000E+00 \n",
      "indices in parameterized keywords must not have leading zeroes. [astropy.wcs.wcs]\n",
      "WARNING: FITSFixedWarning: PC02_02 = 1.000000000000E+00 \n",
      "indices in parameterized keywords must not have leading zeroes. [astropy.wcs.wcs]\n",
      "WARNING: FITSFixedWarning: PC03_02 = 0.000000000000E+00 \n",
      "indices in parameterized keywords must not have leading zeroes. [astropy.wcs.wcs]\n",
      "WARNING: FITSFixedWarning: PC04_02 = 0.000000000000E+00 \n",
      "indices in parameterized keywords must not have leading zeroes. [astropy.wcs.wcs]\n",
      "WARNING: FITSFixedWarning: PC01_03 = 0.000000000000E+00 \n",
      "indices in parameterized keywords must not have leading zeroes. [astropy.wcs.wcs]\n",
      "WARNING: FITSFixedWarning: PC02_03 = 0.000000000000E+00 \n",
      "indices in parameterized keywords must not have leading zeroes. [astropy.wcs.wcs]\n",
      "WARNING: FITSFixedWarning: PC03_03 = 1.000000000000E+00 \n",
      "indices in parameterized keywords must not have leading zeroes. [astropy.wcs.wcs]\n",
      "WARNING: FITSFixedWarning: PC04_03 = 0.000000000000E+00 \n",
      "indices in parameterized keywords must not have leading zeroes. [astropy.wcs.wcs]\n",
      "WARNING: FITSFixedWarning: PC01_04 = 0.000000000000E+00 \n",
      "indices in parameterized keywords must not have leading zeroes. [astropy.wcs.wcs]\n",
      "WARNING: FITSFixedWarning: PC02_04 = 0.000000000000E+00 \n",
      "indices in parameterized keywords must not have leading zeroes. [astropy.wcs.wcs]\n",
      "WARNING: FITSFixedWarning: PC03_04 = 0.000000000000E+00 \n",
      "indices in parameterized keywords must not have leading zeroes. [astropy.wcs.wcs]\n",
      "WARNING: FITSFixedWarning: PC04_04 = 1.000000000000E+00 \n",
      "indices in parameterized keywords must not have leading zeroes. [astropy.wcs.wcs]\n",
      "WARNING: FITSFixedWarning: 'obsfix' made the change 'Set OBSGEO-L to   -67.754929 from OBSGEO-[XYZ].\n",
      "Set OBSGEO-B to   -23.022886 from OBSGEO-[XYZ].\n",
      "Set OBSGEO-H to     5053.796 from OBSGEO-[XYZ]'. [astropy.wcs.wcs]\n"
     ]
    }
   ],
   "source": [
    "w = WCS(hdulist[\"PRIMARY\"].header)"
   ]
  },
  {
   "cell_type": "code",
   "execution_count": 16,
   "id": "578c766b-47ec-4b2e-bb03-66d098149db2",
   "metadata": {},
   "outputs": [
    {
     "data": {
      "text/plain": [
       "WCS Keywords\n",
       "\n",
       "Number of WCS axes: 2\n",
       "CTYPE : 'RA---SIN'  'DEC--SIN'  \n",
       "CRVAL : 84.70522916667  -69.07888555556  \n",
       "CRPIX : 1251.0  1001.0  \n",
       "PC1_1 PC1_2  : 1.0  0.0  \n",
       "PC2_1 PC2_2  : 0.0  1.0  \n",
       "CDELT : -8.888888888889e-06  8.888888888889e-06  \n",
       "NAXIS : 2500  2000"
      ]
     },
     "execution_count": 16,
     "metadata": {},
     "output_type": "execute_result"
    }
   ],
   "source": [
    "w.celestial"
   ]
  },
  {
   "cell_type": "markdown",
   "id": "b9891059-2ddd-4fe0-8f82-f54995803c82",
   "metadata": {},
   "source": [
    "The original data has 4 axes (4th is degenerate axis of Stokes parameters).  So, we have to sum over 2 axes to get down to the pure image."
   ]
  },
  {
   "cell_type": "code",
   "execution_count": 21,
   "id": "9a32ade7-ac29-4f69-8cd4-38cb4afb9e27",
   "metadata": {},
   "outputs": [
    {
     "data": {
      "text/plain": [
       "(2000, 2500)"
      ]
     },
     "execution_count": 21,
     "metadata": {},
     "output_type": "execute_result"
    }
   ],
   "source": [
    "image = np.nansum(\n",
    "    hdulist[\"PRIMARY\"].data,\n",
    "    axis=(0, 1),\n",
    ")\n",
    "image.shape"
   ]
  },
  {
   "cell_type": "markdown",
   "id": "688bdd4c-7651-425e-8b64-27c57b3ed1f6",
   "metadata": {},
   "source": [
    "Now write out the image with a new header:"
   ]
  },
  {
   "cell_type": "code",
   "execution_count": 22,
   "id": "c882165c-c20c-4590-91d2-6ade774dd814",
   "metadata": {},
   "outputs": [],
   "source": [
    "fits.PrimaryHDU(\n",
    "    header=w.celestial.to_header(),\n",
    "    data=image,\n",
    ").writeto(\n",
    "    DATAPATH / \"Alma-2013.1.00346.S-30_doradus_13CO21-sum.fits\",\n",
    "    overwrite=True,\n",
    ")"
   ]
  },
  {
   "cell_type": "code",
   "execution_count": 23,
   "id": "36fa618b-d5a0-46d3-b699-2bd78f6b9cba",
   "metadata": {},
   "outputs": [
    {
     "name": "stderr",
     "output_type": "stream",
     "text": [
      "<ipython-input-23-baf7799f674b>:1: RuntimeWarning: All-NaN slice encountered\n",
      "  image = np.nanmax(\n"
     ]
    }
   ],
   "source": [
    "image = np.nanmax(\n",
    "    hdulist[\"PRIMARY\"].data,\n",
    "    axis=(0, 1),\n",
    ")\n",
    "fits.PrimaryHDU(\n",
    "    header=w.celestial.to_header(),\n",
    "    data=image,\n",
    ").writeto(\n",
    "    DATAPATH / \"Alma-2013.1.00346.S-30_doradus_13CO21-peak.fits\",\n",
    "    overwrite=True,\n",
    ")"
   ]
  },
  {
   "cell_type": "markdown",
   "id": "d4b928e0-3aa5-4308-a1b4-1447f7c9e4f9",
   "metadata": {},
   "source": [
    "## The 2019 Alma observations from the "
   ]
  }
 ],
 "metadata": {
  "jupytext": {
   "formats": "ipynb,py:light"
  },
  "kernelspec": {
   "display_name": "Python 3",
   "language": "python",
   "name": "python3"
  },
  "language_info": {
   "codemirror_mode": {
    "name": "ipython",
    "version": 3
   },
   "file_extension": ".py",
   "mimetype": "text/x-python",
   "name": "python",
   "nbconvert_exporter": "python",
   "pygments_lexer": "ipython3",
   "version": "3.8.8"
  }
 },
 "nbformat": 4,
 "nbformat_minor": 5
}
