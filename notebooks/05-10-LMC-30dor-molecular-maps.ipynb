{
 "cells": [
  {
   "cell_type": "markdown",
   "id": "1d6cec38",
   "metadata": {},
   "source": [
    "# Maps of molecular gas around 30 Dor"
   ]
  },
  {
   "cell_type": "markdown",
   "id": "d5e438bf",
   "metadata": {},
   "source": [
    "We want to compare the distribution of molecular gas with that of the Raman wings. \n",
    "\n",
    "Mabel is going to be doing most of that, but here I am going to create some integrated line maps from the original data cubes obtained from observatory archives."
   ]
  },
  {
   "cell_type": "code",
   "execution_count": 12,
   "id": "2168856c",
   "metadata": {},
   "outputs": [],
   "source": [
    "from pathlib import Path\n",
    "import numpy as np\n",
    "from astropy.io import fits\n",
    "from astropy.wcs import WCS"
   ]
  },
  {
   "cell_type": "markdown",
   "id": "933afd37",
   "metadata": {},
   "source": [
    "## Alma maps of 30 Dor-10 GMC\n",
    "\n",
    "These maps are described in [Indebetouw et al. 2020](https://ui.adsabs.harvard.edu/abs/2020ApJ...888...56I).\n",
    "\n"
   ]
  },
  {
   "cell_type": "code",
   "execution_count": 33,
   "id": "2878fe3a",
   "metadata": {},
   "outputs": [],
   "source": [
    "DATAPATH = Path.cwd().parent / \"big-data\" / \"30-Dor-Radio\""
   ]
  },
  {
   "cell_type": "code",
   "execution_count": 8,
   "id": "1b79e347",
   "metadata": {},
   "outputs": [
    {
     "data": {
      "text/plain": [
       "PosixPath('/Users/will/Dropbox/muse-hii-regions/big-data/30-Dor-Radio')"
      ]
     },
     "execution_count": 8,
     "metadata": {},
     "output_type": "execute_result"
    }
   ],
   "source": [
    "DATAPATH"
   ]
  },
  {
   "cell_type": "code",
   "execution_count": 9,
   "id": "e2176a4f",
   "metadata": {},
   "outputs": [],
   "source": [
    "PATH_2013 = DATAPATH / \"2013.1.00346.S/science_goal.uid___A001_X12a_X279/group.uid___A001_X12a_X27a/member.uid___A001_X12a_X27b/product\""
   ]
  },
  {
   "cell_type": "code",
   "execution_count": 10,
   "id": "16adcb29",
   "metadata": {},
   "outputs": [],
   "source": [
    "hdulist = fits.open(PATH_2013 / \"member.uid___A001_X12a_X27b.30_doradus_13CO21.image.fits\")"
   ]
  },
  {
   "cell_type": "code",
   "execution_count": 11,
   "id": "5c50385d",
   "metadata": {},
   "outputs": [
    {
     "name": "stdout",
     "output_type": "stream",
     "text": [
      "Filename: /Users/will/Dropbox/muse-hii-regions/big-data/30-Dor-Radio/2013.1.00346.S/science_goal.uid___A001_X12a_X279/group.uid___A001_X12a_X27a/member.uid___A001_X12a_X27b/product/member.uid___A001_X12a_X27b.30_doradus_13CO21.image.fits\n",
      "No.    Name      Ver    Type      Cards   Dimensions   Format\n",
      "  0  PRIMARY       1 PrimaryHDU     590   (2500, 2000, 56, 1)   float32   \n"
     ]
    }
   ],
   "source": [
    "hdulist.info()"
   ]
  },
  {
   "cell_type": "code",
   "execution_count": 14,
   "id": "520e5e59",
   "metadata": {},
   "outputs": [
    {
     "name": "stderr",
     "output_type": "stream",
     "text": [
      "WARNING: FITSFixedWarning: PC01_01 = 1.000000000000E+00 \n",
      "indices in parameterized keywords must not have leading zeroes. [astropy.wcs.wcs]\n",
      "WARNING: FITSFixedWarning: PC02_01 = 0.000000000000E+00 \n",
      "indices in parameterized keywords must not have leading zeroes. [astropy.wcs.wcs]\n",
      "WARNING: FITSFixedWarning: PC03_01 = 0.000000000000E+00 \n",
      "indices in parameterized keywords must not have leading zeroes. [astropy.wcs.wcs]\n",
      "WARNING: FITSFixedWarning: PC04_01 = 0.000000000000E+00 \n",
      "indices in parameterized keywords must not have leading zeroes. [astropy.wcs.wcs]\n",
      "WARNING: FITSFixedWarning: PC01_02 = 0.000000000000E+00 \n",
      "indices in parameterized keywords must not have leading zeroes. [astropy.wcs.wcs]\n",
      "WARNING: FITSFixedWarning: PC02_02 = 1.000000000000E+00 \n",
      "indices in parameterized keywords must not have leading zeroes. [astropy.wcs.wcs]\n",
      "WARNING: FITSFixedWarning: PC03_02 = 0.000000000000E+00 \n",
      "indices in parameterized keywords must not have leading zeroes. [astropy.wcs.wcs]\n",
      "WARNING: FITSFixedWarning: PC04_02 = 0.000000000000E+00 \n",
      "indices in parameterized keywords must not have leading zeroes. [astropy.wcs.wcs]\n",
      "WARNING: FITSFixedWarning: PC01_03 = 0.000000000000E+00 \n",
      "indices in parameterized keywords must not have leading zeroes. [astropy.wcs.wcs]\n",
      "WARNING: FITSFixedWarning: PC02_03 = 0.000000000000E+00 \n",
      "indices in parameterized keywords must not have leading zeroes. [astropy.wcs.wcs]\n",
      "WARNING: FITSFixedWarning: PC03_03 = 1.000000000000E+00 \n",
      "indices in parameterized keywords must not have leading zeroes. [astropy.wcs.wcs]\n",
      "WARNING: FITSFixedWarning: PC04_03 = 0.000000000000E+00 \n",
      "indices in parameterized keywords must not have leading zeroes. [astropy.wcs.wcs]\n",
      "WARNING: FITSFixedWarning: PC01_04 = 0.000000000000E+00 \n",
      "indices in parameterized keywords must not have leading zeroes. [astropy.wcs.wcs]\n",
      "WARNING: FITSFixedWarning: PC02_04 = 0.000000000000E+00 \n",
      "indices in parameterized keywords must not have leading zeroes. [astropy.wcs.wcs]\n",
      "WARNING: FITSFixedWarning: PC03_04 = 0.000000000000E+00 \n",
      "indices in parameterized keywords must not have leading zeroes. [astropy.wcs.wcs]\n",
      "WARNING: FITSFixedWarning: PC04_04 = 1.000000000000E+00 \n",
      "indices in parameterized keywords must not have leading zeroes. [astropy.wcs.wcs]\n",
      "WARNING: FITSFixedWarning: 'obsfix' made the change 'Set OBSGEO-L to   -67.754929 from OBSGEO-[XYZ].\n",
      "Set OBSGEO-B to   -23.022886 from OBSGEO-[XYZ].\n",
      "Set OBSGEO-H to     5053.796 from OBSGEO-[XYZ]'. [astropy.wcs.wcs]\n"
     ]
    }
   ],
   "source": [
    "w = WCS(hdulist[\"PRIMARY\"].header)"
   ]
  },
  {
   "cell_type": "code",
   "execution_count": 16,
   "id": "295298c3",
   "metadata": {},
   "outputs": [
    {
     "data": {
      "text/plain": [
       "WCS Keywords\n",
       "\n",
       "Number of WCS axes: 2\n",
       "CTYPE : 'RA---SIN'  'DEC--SIN'  \n",
       "CRVAL : 84.70522916667  -69.07888555556  \n",
       "CRPIX : 1251.0  1001.0  \n",
       "PC1_1 PC1_2  : 1.0  0.0  \n",
       "PC2_1 PC2_2  : 0.0  1.0  \n",
       "CDELT : -8.888888888889e-06  8.888888888889e-06  \n",
       "NAXIS : 2500  2000"
      ]
     },
     "execution_count": 16,
     "metadata": {},
     "output_type": "execute_result"
    }
   ],
   "source": [
    "w.celestial"
   ]
  },
  {
   "cell_type": "markdown",
   "id": "a93bd3ef",
   "metadata": {},
   "source": [
    "The original data has 4 axes (4th is degenerate axis of Stokes parameters).  So, we have to sum over 2 axes to get down to the pure image."
   ]
  },
  {
   "cell_type": "code",
   "execution_count": 21,
   "id": "01dafbad",
   "metadata": {},
   "outputs": [
    {
     "data": {
      "text/plain": [
       "(2000, 2500)"
      ]
     },
     "execution_count": 21,
     "metadata": {},
     "output_type": "execute_result"
    }
   ],
   "source": [
    "image = np.nansum(\n",
    "    hdulist[\"PRIMARY\"].data,\n",
    "    axis=(0, 1),\n",
    ")\n",
    "image.shape"
   ]
  },
  {
   "cell_type": "markdown",
   "id": "4f07cb80",
   "metadata": {},
   "source": [
    "Now write out the image with a new header:"
   ]
  },
  {
   "cell_type": "code",
   "execution_count": 22,
   "id": "ff0947ce",
   "metadata": {},
   "outputs": [],
   "source": [
    "fits.PrimaryHDU(\n",
    "    header=w.celestial.to_header(),\n",
    "    data=image,\n",
    ").writeto(\n",
    "    DATAPATH / \"Alma-2013.1.00346.S-30_doradus_13CO21-sum.fits\",\n",
    "    overwrite=True,\n",
    ")"
   ]
  },
  {
   "cell_type": "code",
   "execution_count": 23,
   "id": "e817808d",
   "metadata": {},
   "outputs": [
    {
     "name": "stderr",
     "output_type": "stream",
     "text": [
      "<ipython-input-23-baf7799f674b>:1: RuntimeWarning: All-NaN slice encountered\n",
      "  image = np.nanmax(\n"
     ]
    }
   ],
   "source": [
    "image = np.nanmax(\n",
    "    hdulist[\"PRIMARY\"].data,\n",
    "    axis=(0, 1),\n",
    ")\n",
    "fits.PrimaryHDU(\n",
    "    header=w.celestial.to_header(),\n",
    "    data=image,\n",
    ").writeto(\n",
    "    DATAPATH / \"Alma-2013.1.00346.S-30_doradus_13CO21-peak.fits\",\n",
    "    overwrite=True,\n",
    ")"
   ]
  },
  {
   "cell_type": "markdown",
   "id": "54f4a9a0",
   "metadata": {},
   "source": [
    "## The 2019 Alma observations from the `2019.1.00843.S` program"
   ]
  },
  {
   "cell_type": "code",
   "execution_count": 34,
   "id": "03af0381-aea8-431d-89c2-49daf8ed159f",
   "metadata": {},
   "outputs": [],
   "source": [
    "RAW_DATAPATH = Path.home() / \"Work\"/ \"Alma-Data\" / \"LMC-30-Dor\""
   ]
  },
  {
   "cell_type": "code",
   "execution_count": 35,
   "id": "507fad56-a82b-4c50-bdd3-0688eb804f88",
   "metadata": {},
   "outputs": [],
   "source": [
    "def fitspath(uid: str, spw: int=25):\n",
    "    \"\"\"Find an ALMA spectral cube file with given `uid`\"\"\"\n",
    "    filename = f\"member.uid___A001_X1465_X{uid}.30_Doradus_sci.spw{spw}.cube.I.pbcor.fits\"\n",
    "    matches = list(RAW_DATAPATH.rglob(filename))\n",
    "    assert len(matches) == 1\n",
    "    return matches[0]"
   ]
  },
  {
   "cell_type": "markdown",
   "id": "ace71301-1707-4546-85fc-3e9d92fc85e4",
   "metadata": {},
   "source": [
    "Check that we can find a cube:"
   ]
  },
  {
   "cell_type": "code",
   "execution_count": 30,
   "id": "225e5a2c-5061-42ba-940f-a15f17f40c26",
   "metadata": {},
   "outputs": [
    {
     "data": {
      "text/plain": [
       "PosixPath('/Users/will/Work/Alma-Data/LMC-30-Dor/2019.1.00843.S/science_goal.uid___A001_X1465_X2198/group.uid___A001_X1465_X2199/member.uid___A001_X1465_X219a/product/member.uid___A001_X1465_X219a.30_Doradus_sci.spw25.cube.I.pbcor.fits')"
      ]
     },
     "execution_count": 30,
     "metadata": {},
     "output_type": "execute_result"
    }
   ],
   "source": [
    "fitspath(\"219a\")"
   ]
  },
  {
   "cell_type": "code",
   "execution_count": 37,
   "id": "5bc1c065-739f-4d3f-83d7-1b76b261e27a",
   "metadata": {},
   "outputs": [],
   "source": [
    "paths_12co = {uid: fitspath(uid) for uid in (\"218a\", \"2192\", \"219a\")}"
   ]
  },
  {
   "cell_type": "code",
   "execution_count": 38,
   "id": "2799829b-1959-47a7-a1bc-67e56e4ae1d5",
   "metadata": {},
   "outputs": [
    {
     "name": "stdout",
     "output_type": "stream",
     "text": [
      "Filename: /Users/will/Work/Alma-Data/LMC-30-Dor/2019.1.00843.S/science_goal.uid___A001_X1465_X2188/group.uid___A001_X1465_X2189/member.uid___A001_X1465_X218a/product/member.uid___A001_X1465_X218a.30_Doradus_sci.spw25.cube.I.pbcor.fits\n",
      "No.    Name      Ver    Type      Cards   Dimensions   Format\n",
      "  0  PRIMARY       1 PrimaryHDU     109   (720, 700, 1916, 1)   float32   \n",
      "Filename: /Users/will/Work/Alma-Data/LMC-30-Dor/2019.1.00843.S/science_goal.uid___A001_X1465_X2190/group.uid___A001_X1465_X2191/member.uid___A001_X1465_X2192/product/member.uid___A001_X1465_X2192.30_Doradus_sci.spw25.cube.I.pbcor.fits\n",
      "No.    Name      Ver    Type      Cards   Dimensions   Format\n",
      "  0  PRIMARY       1 PrimaryHDU     109   (750, 750, 1916, 1)   float32   \n",
      "Filename: /Users/will/Work/Alma-Data/LMC-30-Dor/2019.1.00843.S/science_goal.uid___A001_X1465_X2198/group.uid___A001_X1465_X2199/member.uid___A001_X1465_X219a/product/member.uid___A001_X1465_X219a.30_Doradus_sci.spw25.cube.I.pbcor.fits\n",
      "No.    Name      Ver    Type      Cards   Dimensions   Format\n",
      "  0  PRIMARY       1 PrimaryHDU     109   (810, 784, 1916, 1)   float32   \n"
     ]
    }
   ],
   "source": [
    "for p in paths_12co.values():\n",
    "    fits.open(p).info()"
   ]
  },
  {
   "cell_type": "code",
   "execution_count": 39,
   "id": "52f2eeaa-bcfc-41f6-9183-33ea0dc6c05e",
   "metadata": {},
   "outputs": [
    {
     "name": "stderr",
     "output_type": "stream",
     "text": [
      "WARNING: FITSFixedWarning: 'obsfix' made the change 'Set OBSGEO-L to   -67.754929 from OBSGEO-[XYZ].\n",
      "Set OBSGEO-B to   -23.022886 from OBSGEO-[XYZ].\n",
      "Set OBSGEO-H to     5053.796 from OBSGEO-[XYZ]'. [astropy.wcs.wcs]\n",
      "<ipython-input-39-8a279e0de119>:7: RuntimeWarning: All-NaN slice encountered\n",
      "  image = np.nanmax(hdu.data, axis=(0, 1))\n"
     ]
    }
   ],
   "source": [
    "for uid, p in paths_12co.items():\n",
    "    hdu = fits.open(p)[\"PRIMARY\"]\n",
    "    w = WCS(hdu.header)\n",
    "    image = np.nansum(hdu.data, axis=(0, 1))\n",
    "    savepath = DATAPATH / f\"Alma-2019.1.00843.S-30_doradus_12CO21-{uid}-sum.fits\"\n",
    "    fits.PrimaryHDU(header=w.celestial.to_header(), data=image).writeto(savepath, overwrite=True)\n",
    "    image = np.nanmax(hdu.data, axis=(0, 1))\n",
    "    savepath = DATAPATH / f\"Alma-2019.1.00843.S-30_doradus_12CO21-{uid}-peak.fits\"\n",
    "    fits.PrimaryHDU(header=w.celestial.to_header(), data=image).writeto(savepath, overwrite=True)"
   ]
  },
  {
   "cell_type": "code",
   "execution_count": null,
   "id": "e820498c-ce12-4cf2-8a81-c43d450b8655",
   "metadata": {
    "lines_to_next_cell": 2
   },
   "outputs": [],
   "source": []
  }
 ],
 "metadata": {
  "jupytext": {
   "formats": "ipynb,py:light"
  },
  "kernelspec": {
   "display_name": "Python 3",
   "language": "python",
   "name": "python3"
  },
  "language_info": {
   "codemirror_mode": {
    "name": "ipython",
    "version": 3
   },
   "file_extension": ".py",
   "mimetype": "text/x-python",
   "name": "python",
   "nbconvert_exporter": "python",
   "pygments_lexer": "ipython3",
   "version": "3.8.8"
  }
 },
 "nbformat": 4,
 "nbformat_minor": 5
}
