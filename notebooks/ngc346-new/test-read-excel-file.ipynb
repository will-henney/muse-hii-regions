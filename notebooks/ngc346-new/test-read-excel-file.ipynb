{
 "cells": [
  {
   "cell_type": "markdown",
   "metadata": {
    "collapsed": false,
    "pycharm": {
     "name": "#%% md\n"
    }
   },
   "source": [
    "# Tests of reading in excel spreadsheet\n",
    "\n",
    "This has been exported from google sheets. I am particularly interested in being able to get hold of the notes"
   ]
  },
  {
   "cell_type": "code",
   "execution_count": 1,
   "metadata": {
    "collapsed": false,
    "pycharm": {
     "name": "#%%\n"
    }
   },
   "outputs": [],
   "source": [
    "import pandas as pd\n",
    "from pathlib import Path"
   ]
  },
  {
   "cell_type": "code",
   "execution_count": 2,
   "metadata": {
    "collapsed": false,
    "pycharm": {
     "name": "#%%\n"
    }
   },
   "outputs": [],
   "source": [
    "datapath = Path.cwd().parent.parent / \"data\" / \"spec1d\""
   ]
  },
  {
   "cell_type": "code",
   "execution_count": 3,
   "metadata": {
    "collapsed": false,
    "pycharm": {
     "name": "#%%\n"
    }
   },
   "outputs": [],
   "source": [
    "df = pd.read_excel(datapath / \"All-Lines-MUSE-NGC-346.xlsx\")"
   ]
  },
  {
   "cell_type": "code",
   "execution_count": 4,
   "metadata": {
    "collapsed": false,
    "pycharm": {
     "name": "#%%\n"
    }
   },
   "outputs": [
    {
     "data": {
      "text/plain": "           Index  Region       λ(obs)    λ(HM)       Type   ID  Strength  \\\n0       4.000000  GLOB-E  4604.944824  4601.29        NaN  NaN       NaN   \n1       7.000000  GLOB-E  4608.694824  4607.25        NaN  NaN       NaN   \n2      11.000000  GLOB-E  4613.694824      NaN        NaN  NaN       NaN   \n3      14.000000  GLOB-E  4617.444824      NaN        NaN  NaN       NaN   \n4      22.000000  GLOB-E  4627.444824      NaN        NaN  NaN       NaN   \n..           ...     ...          ...      ...        ...  ...       ...   \n463  3779.000000  GLOB-E  9323.694824      NaN  Telluric?  NaN       NaN   \n464  3785.000000  GLOB-E  9331.194824      NaN  Telluric?  NaN       NaN   \n465  3790.000000  GLOB-E  9337.444824      NaN  Telluric?  NaN       NaN   \n466  3817.005644  GLOB-E  9371.201879      NaN          ?  NaN       NaN   \n467  3825.197799  GLOB-E  9381.442073      NaN          ?  NaN       NaN   \n\n    Cont method                                           Comments  \n0           NaN  Test of formatting of comments field. I have s...  \n1           NaN                                                NaN  \n2           NaN                                                NaN  \n3           NaN                                                NaN  \n4           NaN                                                NaN  \n..          ...                                                ...  \n463         NaN                                                NaN  \n464         NaN                                                NaN  \n465         NaN                                                NaN  \n466         NaN                                                NaN  \n467         NaN                                                NaN  \n\n[468 rows x 9 columns]",
      "text/html": "<div>\n<style scoped>\n    .dataframe tbody tr th:only-of-type {\n        vertical-align: middle;\n    }\n\n    .dataframe tbody tr th {\n        vertical-align: top;\n    }\n\n    .dataframe thead th {\n        text-align: right;\n    }\n</style>\n<table border=\"1\" class=\"dataframe\">\n  <thead>\n    <tr style=\"text-align: right;\">\n      <th></th>\n      <th>Index</th>\n      <th>Region</th>\n      <th>λ(obs)</th>\n      <th>λ(HM)</th>\n      <th>Type</th>\n      <th>ID</th>\n      <th>Strength</th>\n      <th>Cont method</th>\n      <th>Comments</th>\n    </tr>\n  </thead>\n  <tbody>\n    <tr>\n      <th>0</th>\n      <td>4.000000</td>\n      <td>GLOB-E</td>\n      <td>4604.944824</td>\n      <td>4601.29</td>\n      <td>NaN</td>\n      <td>NaN</td>\n      <td>NaN</td>\n      <td>NaN</td>\n      <td>Test of formatting of comments field. I have s...</td>\n    </tr>\n    <tr>\n      <th>1</th>\n      <td>7.000000</td>\n      <td>GLOB-E</td>\n      <td>4608.694824</td>\n      <td>4607.25</td>\n      <td>NaN</td>\n      <td>NaN</td>\n      <td>NaN</td>\n      <td>NaN</td>\n      <td>NaN</td>\n    </tr>\n    <tr>\n      <th>2</th>\n      <td>11.000000</td>\n      <td>GLOB-E</td>\n      <td>4613.694824</td>\n      <td>NaN</td>\n      <td>NaN</td>\n      <td>NaN</td>\n      <td>NaN</td>\n      <td>NaN</td>\n      <td>NaN</td>\n    </tr>\n    <tr>\n      <th>3</th>\n      <td>14.000000</td>\n      <td>GLOB-E</td>\n      <td>4617.444824</td>\n      <td>NaN</td>\n      <td>NaN</td>\n      <td>NaN</td>\n      <td>NaN</td>\n      <td>NaN</td>\n      <td>NaN</td>\n    </tr>\n    <tr>\n      <th>4</th>\n      <td>22.000000</td>\n      <td>GLOB-E</td>\n      <td>4627.444824</td>\n      <td>NaN</td>\n      <td>NaN</td>\n      <td>NaN</td>\n      <td>NaN</td>\n      <td>NaN</td>\n      <td>NaN</td>\n    </tr>\n    <tr>\n      <th>...</th>\n      <td>...</td>\n      <td>...</td>\n      <td>...</td>\n      <td>...</td>\n      <td>...</td>\n      <td>...</td>\n      <td>...</td>\n      <td>...</td>\n      <td>...</td>\n    </tr>\n    <tr>\n      <th>463</th>\n      <td>3779.000000</td>\n      <td>GLOB-E</td>\n      <td>9323.694824</td>\n      <td>NaN</td>\n      <td>Telluric?</td>\n      <td>NaN</td>\n      <td>NaN</td>\n      <td>NaN</td>\n      <td>NaN</td>\n    </tr>\n    <tr>\n      <th>464</th>\n      <td>3785.000000</td>\n      <td>GLOB-E</td>\n      <td>9331.194824</td>\n      <td>NaN</td>\n      <td>Telluric?</td>\n      <td>NaN</td>\n      <td>NaN</td>\n      <td>NaN</td>\n      <td>NaN</td>\n    </tr>\n    <tr>\n      <th>465</th>\n      <td>3790.000000</td>\n      <td>GLOB-E</td>\n      <td>9337.444824</td>\n      <td>NaN</td>\n      <td>Telluric?</td>\n      <td>NaN</td>\n      <td>NaN</td>\n      <td>NaN</td>\n      <td>NaN</td>\n    </tr>\n    <tr>\n      <th>466</th>\n      <td>3817.005644</td>\n      <td>GLOB-E</td>\n      <td>9371.201879</td>\n      <td>NaN</td>\n      <td>?</td>\n      <td>NaN</td>\n      <td>NaN</td>\n      <td>NaN</td>\n      <td>NaN</td>\n    </tr>\n    <tr>\n      <th>467</th>\n      <td>3825.197799</td>\n      <td>GLOB-E</td>\n      <td>9381.442073</td>\n      <td>NaN</td>\n      <td>?</td>\n      <td>NaN</td>\n      <td>NaN</td>\n      <td>NaN</td>\n      <td>NaN</td>\n    </tr>\n  </tbody>\n</table>\n<p>468 rows × 9 columns</p>\n</div>"
     },
     "execution_count": 4,
     "metadata": {},
     "output_type": "execute_result"
    }
   ],
   "source": [
    "df"
   ]
  },
  {
   "cell_type": "markdown",
   "metadata": {
    "collapsed": false,
    "pycharm": {
     "name": "#%% md\n"
    }
   },
   "source": [
    "So, that gave me the table, but I do not see any of the notes."
   ]
  },
  {
   "cell_type": "code",
   "execution_count": 62,
   "outputs": [
    {
     "data": {
      "text/plain": "{'',\n '****',\n 'Deep Neutral',\n 'Fe',\n 'Fe, Ni',\n 'H I, Ni',\n 'High Neb',\n 'High Perm',\n 'Low Neb',\n 'Low Perm',\n 'Med Neb',\n 'Med Perm',\n 'Neutral',\n 'Noise',\n 'Sky',\n 'Telluric',\n 'nan'}"
     },
     "execution_count": 62,
     "metadata": {},
     "output_type": "execute_result"
    }
   ],
   "source": [
    "set(str(x).rstrip('?') for x in df.Type)"
   ],
   "metadata": {
    "collapsed": false,
    "pycharm": {
     "name": "#%%\n"
    }
   }
  },
  {
   "cell_type": "code",
   "execution_count": 5,
   "metadata": {
    "collapsed": false,
    "pycharm": {
     "name": "#%%\n"
    }
   },
   "outputs": [],
   "source": [
    "import openpyxl"
   ]
  },
  {
   "cell_type": "code",
   "execution_count": 23,
   "metadata": {
    "collapsed": false,
    "pycharm": {
     "name": "#%%\n"
    }
   },
   "outputs": [
    {
     "data": {
      "text/plain": "<Worksheet \"Master line list\">"
     },
     "execution_count": 23,
     "metadata": {},
     "output_type": "execute_result"
    }
   ],
   "source": [
    "workbook = openpyxl.load_workbook(datapath / \"All-Lines-MUSE-NGC-346.xlsx\", data_only=True)\n",
    "sheet = workbook.active\n",
    "sheet"
   ]
  },
  {
   "cell_type": "code",
   "execution_count": 27,
   "metadata": {
    "collapsed": false,
    "pycharm": {
     "name": "#%%\n"
    }
   },
   "outputs": [
    {
     "data": {
      "text/plain": "      Index  Region       λ(obs)    λ(HM)  Type    ID  Strength Cont method  \\\n0       4.0  GLOB-E  4604.944824  4601.29  None  None       NaN        None   \n1       7.0  GLOB-E  4608.694824  4607.25  None  None       NaN        None   \n2      11.0  GLOB-E  4613.694824      NaN  None  None       NaN        None   \n3      14.0  GLOB-E  4617.444824      NaN  None  None       NaN        None   \n4      22.0  GLOB-E  4627.444824      NaN  None  None       NaN        None   \n...     ...     ...          ...      ...   ...   ...       ...         ...   \n997     NaN    None          NaN      NaN  None  None       NaN        None   \n998     NaN    None          NaN      NaN  None  None       NaN        None   \n999     NaN    None          NaN      NaN  None  None       NaN        None   \n1000    NaN    None          NaN      NaN  None  None       NaN        None   \n1001    NaN    None          NaN      NaN  None  None       NaN        None   \n\n                                               Comments  None  ...  None  \\\n0     Test of formatting of comments field. I have s...  None  ...  None   \n1                                                  None  None  ...  None   \n2                                                  None  None  ...  None   \n3                                                  None  None  ...  None   \n4                                                  None  None  ...  None   \n...                                                 ...   ...  ...   ...   \n997                                                None  None  ...  None   \n998                                                None  None  ...  None   \n999                                                None  None  ...  None   \n1000                                               None  None  ...  None   \n1001                                               None  None  ...  None   \n\n      None  None  None  None  None  None  None  None  None  \n0     None  None  None  None  None  None  None  None  None  \n1     None  None  None  None  None  None  None  None  None  \n2     None  None  None  None  None  None  None  None  None  \n3     None  None  None  None  None  None  None  None  None  \n4     None  None  None  None  None  None  None  None  None  \n...    ...   ...   ...   ...   ...   ...   ...   ...   ...  \n997   None  None  None  None  None  None  None  None  None  \n998   None  None  None  None  None  None  None  None  None  \n999   None  None  None  None  None  None  None  None  None  \n1000  None  None  None  None  None  None  None  None  None  \n1001  None  None  None  None  None  None  None  None  None  \n\n[1002 rows x 27 columns]",
      "text/html": "<div>\n<style scoped>\n    .dataframe tbody tr th:only-of-type {\n        vertical-align: middle;\n    }\n\n    .dataframe tbody tr th {\n        vertical-align: top;\n    }\n\n    .dataframe thead th {\n        text-align: right;\n    }\n</style>\n<table border=\"1\" class=\"dataframe\">\n  <thead>\n    <tr style=\"text-align: right;\">\n      <th></th>\n      <th>Index</th>\n      <th>Region</th>\n      <th>λ(obs)</th>\n      <th>λ(HM)</th>\n      <th>Type</th>\n      <th>ID</th>\n      <th>Strength</th>\n      <th>Cont method</th>\n      <th>Comments</th>\n      <th>None</th>\n      <th>...</th>\n      <th>None</th>\n      <th>None</th>\n      <th>None</th>\n      <th>None</th>\n      <th>None</th>\n      <th>None</th>\n      <th>None</th>\n      <th>None</th>\n      <th>None</th>\n      <th>None</th>\n    </tr>\n  </thead>\n  <tbody>\n    <tr>\n      <th>0</th>\n      <td>4.0</td>\n      <td>GLOB-E</td>\n      <td>4604.944824</td>\n      <td>4601.29</td>\n      <td>None</td>\n      <td>None</td>\n      <td>NaN</td>\n      <td>None</td>\n      <td>Test of formatting of comments field. I have s...</td>\n      <td>None</td>\n      <td>...</td>\n      <td>None</td>\n      <td>None</td>\n      <td>None</td>\n      <td>None</td>\n      <td>None</td>\n      <td>None</td>\n      <td>None</td>\n      <td>None</td>\n      <td>None</td>\n      <td>None</td>\n    </tr>\n    <tr>\n      <th>1</th>\n      <td>7.0</td>\n      <td>GLOB-E</td>\n      <td>4608.694824</td>\n      <td>4607.25</td>\n      <td>None</td>\n      <td>None</td>\n      <td>NaN</td>\n      <td>None</td>\n      <td>None</td>\n      <td>None</td>\n      <td>...</td>\n      <td>None</td>\n      <td>None</td>\n      <td>None</td>\n      <td>None</td>\n      <td>None</td>\n      <td>None</td>\n      <td>None</td>\n      <td>None</td>\n      <td>None</td>\n      <td>None</td>\n    </tr>\n    <tr>\n      <th>2</th>\n      <td>11.0</td>\n      <td>GLOB-E</td>\n      <td>4613.694824</td>\n      <td>NaN</td>\n      <td>None</td>\n      <td>None</td>\n      <td>NaN</td>\n      <td>None</td>\n      <td>None</td>\n      <td>None</td>\n      <td>...</td>\n      <td>None</td>\n      <td>None</td>\n      <td>None</td>\n      <td>None</td>\n      <td>None</td>\n      <td>None</td>\n      <td>None</td>\n      <td>None</td>\n      <td>None</td>\n      <td>None</td>\n    </tr>\n    <tr>\n      <th>3</th>\n      <td>14.0</td>\n      <td>GLOB-E</td>\n      <td>4617.444824</td>\n      <td>NaN</td>\n      <td>None</td>\n      <td>None</td>\n      <td>NaN</td>\n      <td>None</td>\n      <td>None</td>\n      <td>None</td>\n      <td>...</td>\n      <td>None</td>\n      <td>None</td>\n      <td>None</td>\n      <td>None</td>\n      <td>None</td>\n      <td>None</td>\n      <td>None</td>\n      <td>None</td>\n      <td>None</td>\n      <td>None</td>\n    </tr>\n    <tr>\n      <th>4</th>\n      <td>22.0</td>\n      <td>GLOB-E</td>\n      <td>4627.444824</td>\n      <td>NaN</td>\n      <td>None</td>\n      <td>None</td>\n      <td>NaN</td>\n      <td>None</td>\n      <td>None</td>\n      <td>None</td>\n      <td>...</td>\n      <td>None</td>\n      <td>None</td>\n      <td>None</td>\n      <td>None</td>\n      <td>None</td>\n      <td>None</td>\n      <td>None</td>\n      <td>None</td>\n      <td>None</td>\n      <td>None</td>\n    </tr>\n    <tr>\n      <th>...</th>\n      <td>...</td>\n      <td>...</td>\n      <td>...</td>\n      <td>...</td>\n      <td>...</td>\n      <td>...</td>\n      <td>...</td>\n      <td>...</td>\n      <td>...</td>\n      <td>...</td>\n      <td>...</td>\n      <td>...</td>\n      <td>...</td>\n      <td>...</td>\n      <td>...</td>\n      <td>...</td>\n      <td>...</td>\n      <td>...</td>\n      <td>...</td>\n      <td>...</td>\n      <td>...</td>\n    </tr>\n    <tr>\n      <th>997</th>\n      <td>NaN</td>\n      <td>None</td>\n      <td>NaN</td>\n      <td>NaN</td>\n      <td>None</td>\n      <td>None</td>\n      <td>NaN</td>\n      <td>None</td>\n      <td>None</td>\n      <td>None</td>\n      <td>...</td>\n      <td>None</td>\n      <td>None</td>\n      <td>None</td>\n      <td>None</td>\n      <td>None</td>\n      <td>None</td>\n      <td>None</td>\n      <td>None</td>\n      <td>None</td>\n      <td>None</td>\n    </tr>\n    <tr>\n      <th>998</th>\n      <td>NaN</td>\n      <td>None</td>\n      <td>NaN</td>\n      <td>NaN</td>\n      <td>None</td>\n      <td>None</td>\n      <td>NaN</td>\n      <td>None</td>\n      <td>None</td>\n      <td>None</td>\n      <td>...</td>\n      <td>None</td>\n      <td>None</td>\n      <td>None</td>\n      <td>None</td>\n      <td>None</td>\n      <td>None</td>\n      <td>None</td>\n      <td>None</td>\n      <td>None</td>\n      <td>None</td>\n    </tr>\n    <tr>\n      <th>999</th>\n      <td>NaN</td>\n      <td>None</td>\n      <td>NaN</td>\n      <td>NaN</td>\n      <td>None</td>\n      <td>None</td>\n      <td>NaN</td>\n      <td>None</td>\n      <td>None</td>\n      <td>None</td>\n      <td>...</td>\n      <td>None</td>\n      <td>None</td>\n      <td>None</td>\n      <td>None</td>\n      <td>None</td>\n      <td>None</td>\n      <td>None</td>\n      <td>None</td>\n      <td>None</td>\n      <td>None</td>\n    </tr>\n    <tr>\n      <th>1000</th>\n      <td>NaN</td>\n      <td>None</td>\n      <td>NaN</td>\n      <td>NaN</td>\n      <td>None</td>\n      <td>None</td>\n      <td>NaN</td>\n      <td>None</td>\n      <td>None</td>\n      <td>None</td>\n      <td>...</td>\n      <td>None</td>\n      <td>None</td>\n      <td>None</td>\n      <td>None</td>\n      <td>None</td>\n      <td>None</td>\n      <td>None</td>\n      <td>None</td>\n      <td>None</td>\n      <td>None</td>\n    </tr>\n    <tr>\n      <th>1001</th>\n      <td>NaN</td>\n      <td>None</td>\n      <td>NaN</td>\n      <td>NaN</td>\n      <td>None</td>\n      <td>None</td>\n      <td>NaN</td>\n      <td>None</td>\n      <td>None</td>\n      <td>None</td>\n      <td>...</td>\n      <td>None</td>\n      <td>None</td>\n      <td>None</td>\n      <td>None</td>\n      <td>None</td>\n      <td>None</td>\n      <td>None</td>\n      <td>None</td>\n      <td>None</td>\n      <td>None</td>\n    </tr>\n  </tbody>\n</table>\n<p>1002 rows × 27 columns</p>\n</div>"
     },
     "execution_count": 27,
     "metadata": {},
     "output_type": "execute_result"
    }
   ],
   "source": [
    "pd.DataFrame(list(sheet.values)[1:], columns=list(sheet.values)[0])\n"
   ]
  },
  {
   "cell_type": "code",
   "execution_count": 31,
   "metadata": {
    "collapsed": false,
    "pycharm": {
     "name": "#%%\n"
    }
   },
   "outputs": [
    {
     "data": {
      "text/plain": "DimensionHolder(<bound method Worksheet._add_row of <Worksheet \"Master line list\">>,\n                {})"
     },
     "execution_count": 31,
     "metadata": {},
     "output_type": "execute_result"
    }
   ],
   "source": []
  },
  {
   "cell_type": "code",
   "execution_count": 9,
   "metadata": {
    "collapsed": false,
    "pycharm": {
     "name": "#%%\n"
    }
   },
   "outputs": [],
   "source": [
    "cell = sheet['A1']"
   ]
  },
  {
   "cell_type": "code",
   "execution_count": 10,
   "metadata": {
    "collapsed": false,
    "pycharm": {
     "name": "#%%\n"
    }
   },
   "outputs": [
    {
     "data": {
      "text/plain": "('Index in the wavelength array of the line peak. Note that this is 0-based, add 1 to get the index in FITS convention',\n 'None')"
     },
     "execution_count": 10,
     "metadata": {},
     "output_type": "execute_result"
    }
   ],
   "source": [
    "cell.comment.text, cell.comment.author"
   ]
  },
  {
   "cell_type": "markdown",
   "metadata": {
    "collapsed": false,
    "pycharm": {
     "name": "#%% md\n"
    }
   },
   "source": [
    "Aha, so it turns out that the notes are called \"Comments\" in the excel file. OK, that is easy then."
   ]
  },
  {
   "cell_type": "code",
   "execution_count": 56,
   "metadata": {
    "collapsed": false,
    "pycharm": {
     "name": "#%%\n"
    }
   },
   "outputs": [
    {
     "data": {
      "text/plain": "                                                     0  \\\n0    Index in the wavelength array of the line peak...   \n1                                                        \n2                                                        \n3                                                        \n4                                                        \n..                                                 ...   \n464                                                      \n465                                                      \n466                                                      \n467  Where did these last two rows come from?\\n\\t-W...   \n468                                                      \n\n                                                     1  \\\n0    Which DS9 region  was used to identify this li...   \n1                                                        \n2                                                        \n3                                                        \n4                                                        \n..                                                 ...   \n464                                                      \n465                                                      \n466                                                      \n467                                                      \n468                                                      \n\n                                                     2  \\\n0    Observed wavelength of center of peak pixel.  ...   \n1                                                        \n2                                                        \n3                                                        \n4                                                        \n..                                                 ...   \n464                                                      \n465                                                      \n466                                                      \n467                                                      \n468                                                      \n\n                                                     3  \\\n0    Wavelength in system frame of midpoint between...   \n1                                                        \n2                                                        \n3                                                        \n4                                                        \n..                                                 ...   \n464                                                      \n465                                                      \n466                                                      \n467                                                      \n468                                                      \n\n                                                     4  \\\n0    Broad class of line\\n\\nOne of:\\nSky\\nHigh Neb:...   \n1                                                        \n2                                                        \n3                                                        \n4                                                        \n..                                                 ...   \n464                                                      \n465                                                      \n466                                                      \n467                                                      \n468                                                      \n\n                                                     5  \\\n0    Identification of line with rest wavelength in...   \n1                                                        \n2                                                        \n3                                                        \n4                                                        \n..                                                 ...   \n464                                                      \n465                                                      \n466                                                      \n467                                                      \n468                                                      \n\n                                                     6  \\\n0    Some approximate measure of the line intensity...   \n1                                                        \n2                                                        \n3                                                        \n4                                                        \n..                                                 ...   \n464                                                      \n465                                                      \n466                                                      \n467                                                      \n468                                                      \n\n                                                     7 8   \n0    Which type (or types) of continuum subtraction...     \n1                                                          \n2                                                          \n3                                                          \n4                                                          \n..                                                 ... ..  \n464                                                        \n465                                                        \n466                                                        \n467                                                        \n468                                                        \n\n[469 rows x 9 columns]",
      "text/html": "<div>\n<style scoped>\n    .dataframe tbody tr th:only-of-type {\n        vertical-align: middle;\n    }\n\n    .dataframe tbody tr th {\n        vertical-align: top;\n    }\n\n    .dataframe thead th {\n        text-align: right;\n    }\n</style>\n<table border=\"1\" class=\"dataframe\">\n  <thead>\n    <tr style=\"text-align: right;\">\n      <th></th>\n      <th>0</th>\n      <th>1</th>\n      <th>2</th>\n      <th>3</th>\n      <th>4</th>\n      <th>5</th>\n      <th>6</th>\n      <th>7</th>\n      <th>8</th>\n    </tr>\n  </thead>\n  <tbody>\n    <tr>\n      <th>0</th>\n      <td>Index in the wavelength array of the line peak...</td>\n      <td>Which DS9 region  was used to identify this li...</td>\n      <td>Observed wavelength of center of peak pixel.  ...</td>\n      <td>Wavelength in system frame of midpoint between...</td>\n      <td>Broad class of line\\n\\nOne of:\\nSky\\nHigh Neb:...</td>\n      <td>Identification of line with rest wavelength in...</td>\n      <td>Some approximate measure of the line intensity...</td>\n      <td>Which type (or types) of continuum subtraction...</td>\n      <td></td>\n    </tr>\n    <tr>\n      <th>1</th>\n      <td></td>\n      <td></td>\n      <td></td>\n      <td></td>\n      <td></td>\n      <td></td>\n      <td></td>\n      <td></td>\n      <td></td>\n    </tr>\n    <tr>\n      <th>2</th>\n      <td></td>\n      <td></td>\n      <td></td>\n      <td></td>\n      <td></td>\n      <td></td>\n      <td></td>\n      <td></td>\n      <td></td>\n    </tr>\n    <tr>\n      <th>3</th>\n      <td></td>\n      <td></td>\n      <td></td>\n      <td></td>\n      <td></td>\n      <td></td>\n      <td></td>\n      <td></td>\n      <td></td>\n    </tr>\n    <tr>\n      <th>4</th>\n      <td></td>\n      <td></td>\n      <td></td>\n      <td></td>\n      <td></td>\n      <td></td>\n      <td></td>\n      <td></td>\n      <td></td>\n    </tr>\n    <tr>\n      <th>...</th>\n      <td>...</td>\n      <td>...</td>\n      <td>...</td>\n      <td>...</td>\n      <td>...</td>\n      <td>...</td>\n      <td>...</td>\n      <td>...</td>\n      <td>...</td>\n    </tr>\n    <tr>\n      <th>464</th>\n      <td></td>\n      <td></td>\n      <td></td>\n      <td></td>\n      <td></td>\n      <td></td>\n      <td></td>\n      <td></td>\n      <td></td>\n    </tr>\n    <tr>\n      <th>465</th>\n      <td></td>\n      <td></td>\n      <td></td>\n      <td></td>\n      <td></td>\n      <td></td>\n      <td></td>\n      <td></td>\n      <td></td>\n    </tr>\n    <tr>\n      <th>466</th>\n      <td></td>\n      <td></td>\n      <td></td>\n      <td></td>\n      <td></td>\n      <td></td>\n      <td></td>\n      <td></td>\n      <td></td>\n    </tr>\n    <tr>\n      <th>467</th>\n      <td>Where did these last two rows come from?\\n\\t-W...</td>\n      <td></td>\n      <td></td>\n      <td></td>\n      <td></td>\n      <td></td>\n      <td></td>\n      <td></td>\n      <td></td>\n    </tr>\n    <tr>\n      <th>468</th>\n      <td></td>\n      <td></td>\n      <td></td>\n      <td></td>\n      <td></td>\n      <td></td>\n      <td></td>\n      <td></td>\n      <td></td>\n    </tr>\n  </tbody>\n</table>\n<p>469 rows × 9 columns</p>\n</div>"
     },
     "execution_count": 56,
     "metadata": {},
     "output_type": "execute_result"
    }
   ],
   "source": [
    "pd.DataFrame(\n",
    "    [\n",
    "        [\n",
    "            # Take content from non-empty comments\n",
    "            x.comment.content if x.comment else \"\"\n",
    "            for x in row\n",
    "            # Only use the columns we want\n",
    "            if x.column_letter in \"ABCDEFGHI\"\n",
    "        ]\n",
    "        for row in sheet.rows\n",
    "        # And only use rows that have at least some data\n",
    "        if any(x.value for x in row)\n",
    "    ]\n",
    ")"
   ]
  },
  {
   "cell_type": "code",
   "execution_count": 58,
   "outputs": [],
   "source": [
    "pd.read_excel??"
   ],
   "metadata": {
    "collapsed": false,
    "pycharm": {
     "name": "#%%\n"
    }
   }
  },
  {
   "cell_type": "code",
   "execution_count": 51,
   "outputs": [
    {
     "data": {
      "text/plain": "True"
     },
     "execution_count": 51,
     "metadata": {},
     "output_type": "execute_result"
    }
   ],
   "source": [
    "any(x.value for x in list(sheet.rows)[468])"
   ],
   "metadata": {
    "collapsed": false,
    "pycharm": {
     "name": "#%%\n"
    }
   }
  },
  {
   "cell_type": "markdown",
   "metadata": {
    "collapsed": false,
    "pycharm": {
     "name": "#%% md\n"
    }
   },
   "source": [
    "So, the above works for automatically extracting all the notes in the same shape as the original table"
   ]
  },
  {
   "cell_type": "markdown",
   "source": [
    "What happens when it is a Sheets \"comment\" rather than \"note\"?"
   ],
   "metadata": {
    "collapsed": false,
    "pycharm": {
     "name": "#%% md\n"
    }
   }
  },
  {
   "cell_type": "code",
   "execution_count": 22,
   "metadata": {
    "collapsed": false,
    "pycharm": {
     "name": "#%%\n"
    }
   },
   "outputs": [
    {
     "data": {
      "text/plain": "Comment: Where did these last two rows come from?\n\t-William Henney by None"
     },
     "execution_count": 22,
     "metadata": {},
     "output_type": "execute_result"
    }
   ],
   "source": [
    "sheet['A468'].comment\n"
   ]
  },
  {
   "cell_type": "markdown",
   "source": [
    "The author is included in the content field, while the author field is still `None`"
   ],
   "metadata": {
    "collapsed": false,
    "pycharm": {
     "name": "#%% md\n"
    }
   }
  },
  {
   "cell_type": "markdown",
   "source": [
    "What happens when we have several comments on the same cell?"
   ],
   "metadata": {
    "collapsed": false,
    "pycharm": {
     "name": "#%% md\n"
    }
   }
  },
  {
   "cell_type": "code",
   "execution_count": 18,
   "metadata": {
    "collapsed": false,
    "pycharm": {
     "name": "#%%\n"
    }
   },
   "outputs": [
    {
     "data": {
      "text/plain": "Comment: Looks like maybe another Ca I?\n\t-William Henney\nEsteban+ 2004 have Fe I] 9218.47, which is a possibility\n\t-William Henney by None"
     },
     "execution_count": 18,
     "metadata": {},
     "output_type": "execute_result"
    }
   ],
   "source": [
    "x = sheet['F455'].comment\n",
    "x"
   ]
  },
  {
   "cell_type": "code",
   "execution_count": 20,
   "outputs": [
    {
     "data": {
      "text/plain": "'Looks like maybe another Ca I?\\n\\t-William Henney\\nEsteban+ 2004 have Fe I] 9218.47, which is a possibility\\n\\t-William Henney'"
     },
     "execution_count": 20,
     "metadata": {},
     "output_type": "execute_result"
    }
   ],
   "source": [
    "x.content"
   ],
   "metadata": {
    "collapsed": false,
    "pycharm": {
     "name": "#%%\n"
    }
   }
  },
  {
   "cell_type": "markdown",
   "source": [
    "They all get concatenated into the `.content` field"
   ],
   "metadata": {
    "collapsed": false,
    "pycharm": {
     "name": "#%% md\n"
    }
   }
  },
  {
   "cell_type": "code",
   "execution_count": null,
   "outputs": [],
   "source": [],
   "metadata": {
    "collapsed": false,
    "pycharm": {
     "name": "#%%\n"
    }
   }
  }
 ],
 "metadata": {
  "jupytext": {
   "formats": "ipynb,py:light"
  },
  "kernelspec": {
   "display_name": "Python 3",
   "language": "python",
   "name": "python3"
  },
  "language_info": {
   "codemirror_mode": {
    "name": "ipython",
    "version": 2
   },
   "file_extension": ".py",
   "mimetype": "text/x-python",
   "name": "python",
   "nbconvert_exporter": "python",
   "pygments_lexer": "ipython2",
   "version": "2.7.6"
  }
 },
 "nbformat": 4,
 "nbformat_minor": 0
}