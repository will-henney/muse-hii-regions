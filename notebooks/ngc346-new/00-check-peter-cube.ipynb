{
 "cells": [
  {
   "cell_type": "markdown",
   "metadata": {},
   "source": [
    "# Compare Peter Zeidler's NGC 346 cube with ESO data archive cube of same observations"
   ]
  },
  {
   "cell_type": "code",
   "execution_count": null,
   "metadata": {
    "pycharm": {
     "name": "#%%\n"
    }
   },
   "outputs": [],
   "source": [
    "from pathlib import Path\n",
    "import numpy as np\n",
    "from matplotlib import pyplot as plt\n",
    "from  astropy.table import Table\n",
    "import seaborn as sns\n",
    "from mpdaf.obj import Cube, Image, Spectrum\n",
    "import regions as rg\n",
    "sns.set_context(\"talk\")"
   ]
  },
  {
   "cell_type": "markdown",
   "metadata": {},
   "source": [
    "## Spectrum of the whole cube"
   ]
  },
  {
   "cell_type": "code",
   "execution_count": null,
   "metadata": {},
   "outputs": [],
   "source": [
    "datapath = Path.home() / \"Work/Muse-Hii-Data/SMC-NGC-346\"\n",
    "cubeP = Cube(str(datapath / \"PeterZeidler\" / \"DATACUBE_FINAL_fwhm_cor.fits\"))"
   ]
  },
  {
   "cell_type": "markdown",
   "metadata": {},
   "source": [
    "Also load the standard ESO cube for comparison"
   ]
  },
  {
   "cell_type": "code",
   "execution_count": null,
   "metadata": {},
   "outputs": [],
   "source": [
    "cubeE = Cube(str(datapath / \"ADP.2017-10-16T11_04_19.247.fits\"))"
   ]
  },
  {
   "cell_type": "markdown",
   "metadata": {},
   "source": [
    "Extract full-cube spectra. This next cell takes several seconds to execute."
   ]
  },
  {
   "cell_type": "code",
   "execution_count": null,
   "metadata": {},
   "outputs": [],
   "source": [
    "specP = cubeP.sum(axis=(1, 2))\n",
    "specE = cubeE.sum(axis=(1, 2))"
   ]
  },
  {
   "cell_type": "markdown",
   "metadata": {},
   "source": [
    "### Global comparison of full spectrum\n",
    "\n",
    "First look at the full wav range on a log intensity scale"
   ]
  },
  {
   "cell_type": "code",
   "execution_count": null,
   "metadata": {},
   "outputs": [],
   "source": [
    "fig, ax = plt.subplots(figsize=(12, 4))\n",
    "specP.plot(ax=ax, label=\"Peter\")\n",
    "specE.plot(ax=ax, label=\"ESO\")\n",
    "ax.legend()\n",
    "ax.set(\n",
    "    yscale=\"log\",\n",
    ")\n",
    "...;"
   ]
  },
  {
   "cell_type": "markdown",
   "metadata": {},
   "source": [
    "So Peter cube is consistently brighter, presumably due to better photometry. Also has more sky features visible in the spectrum.\n",
    "\n",
    "Next, look ast the ratio between the two on a linear scale:"
   ]
  },
  {
   "cell_type": "code",
   "execution_count": null,
   "metadata": {},
   "outputs": [],
   "source": [
    "fig, ax = plt.subplots(figsize=(12, 4))\n",
    "(specP / specE).plot(ax=ax, label=\"Ratio\")\n",
    "ax.legend()\n",
    "avratio = np.nanmedian(specP.data / specE.data)\n",
    "ax.axhline(avratio, color='r', zorder=-100)\n",
    "ax.set(\n",
    "    ylim=[0.0, None],\n",
    ")\n",
    "...;"
   ]
  },
  {
   "cell_type": "code",
   "execution_count": null,
   "metadata": {},
   "outputs": [],
   "source": [
    "avratio"
   ]
  },
  {
   "cell_type": "markdown",
   "metadata": {},
   "source": [
    "### Split into multiple wavelength sections\n",
    "\n",
    "Choose 12 sections, which means that each section spans about 400 Angstrom."
   ]
  },
  {
   "cell_type": "code",
   "execution_count": null,
   "metadata": {},
   "outputs": [],
   "source": [
    "wave_min, wave_max = specP.wave.get_range()\n",
    "n_sections = 12\n",
    "d_wave = (wave_max - wave_min) / n_sections\n",
    "start_waves = wave_min + np.arange(n_sections) * d_wave\n",
    "start_waves"
   ]
  },
  {
   "cell_type": "markdown",
   "metadata": {},
   "source": [
    "Scale the ESO cube by the median ratio, so we can compare in more detail."
   ]
  },
  {
   "cell_type": "code",
   "execution_count": null,
   "metadata": {},
   "outputs": [],
   "source": [
    "spec_sections_P = [specP.subspec(w0, w0 + d_wave) for w0 in start_waves]\n",
    "spec_sections_E = [avratio * specE.subspec(w0, w0 + d_wave) for w0 in start_waves]"
   ]
  },
  {
   "cell_type": "markdown",
   "metadata": {},
   "source": [
    "First compare on a logarithmic flux scale."
   ]
  },
  {
   "cell_type": "code",
   "execution_count": null,
   "metadata": {
    "pycharm": {
     "name": "#%%\n"
    }
   },
   "outputs": [],
   "source": [
    "fig, axes = plt.subplots(n_sections, 1, figsize=(12,  2 * n_sections))\n",
    "for section_P, section_E, ax in zip(spec_sections_P, spec_sections_E,  axes):\n",
    "    section_P.plot(ax=ax)\n",
    "    section_E.plot(ax=ax)\n",
    "    ax.set(yscale=\"log\", ylabel=\"\", xlabel=\"\")\n",
    "fig.tight_layout()"
   ]
  },
  {
   "cell_type": "markdown",
   "metadata": {},
   "source": [
    "So, the strongest discrepancy is the [O I] 5577 line, which will be extremely weak  from  the nebula, but is strong from the night sky. This is almost completely removed in the ESO cube but is still strong in the Peter cube."
   ]
  },
  {
   "cell_type": "markdown",
   "metadata": {
    "pycharm": {
     "name": "#%% md\n"
    }
   },
   "source": [
    "The Peter cube is also higher at the position of real nebula lines, such as H beta and [O III].  In these cases, I think it is not true night sky emission, but is rather the outer parts of the nebula that are being picked up. These are over-subtracted in the ESO cube, resulting in the lines being apparently seen in absorption in fainter spaxels of the cube,  The Peter cube does not have this problem."
   ]
  },
  {
   "cell_type": "markdown",
   "metadata": {},
   "source": [
    "Next, we look at the ratio of the two cubes, zooming in on the range +/-20% so we can see the weak night sky lines and atmospheric absorption."
   ]
  },
  {
   "cell_type": "code",
   "execution_count": null,
   "metadata": {
    "pycharm": {
     "name": "#%%\n"
    }
   },
   "outputs": [],
   "source": [
    "fig, axes = plt.subplots(n_sections, 1, figsize=(12,  2 * n_sections))\n",
    "for section_P, section_E, ax in zip(spec_sections_P, spec_sections_E,  axes):\n",
    "    (section_P / section_E ).plot(ax=ax)\n",
    "    ax.set(ylim=[0.8, 1.2], ylabel=\"\", xlabel=\"\")\n",
    "axes[0].set_title(\"Ratio: Peter / ESO\")\n",
    "fig.tight_layout()"
   ]
  },
  {
   "cell_type": "markdown",
   "metadata": {
    "pycharm": {
     "name": "#%% md\n"
    }
   },
   "source": [
    "We see a lot of weak absorption features with EW of less than an Angstrom. Also, lots of emission lines. In most sections, it is possible to distinguish the two, but at longer wavelengths this is more difficult.\n",
    "\n",
    "We could look at the model sky spectra to try and help with this.  We probably need to be able to separate the sky emission from the absorption, since the first is additive, while the second is multiplicative. **Actually, this might be a way of doing it:** in principle the absorption lines should be spatially constant in a map of `cube/avspec`, whereas the emission lines should be constant in a map of `(cube - avspec)`"
   ]
  },
  {
   "cell_type": "markdown",
   "metadata": {},
   "source": [
    "### Fitting the continuum\n",
    "\n",
    "I had an idea that we can use sigma clipping in the fit so that we do not have to bother with masking out the emission lines first.  I will try this on the entire cube first, since I  am not sure how fast it is going to be to apply it pixel by pixel.\n",
    "\n",
    "- [ ] TODO do the fits"
   ]
  },
  {
   "cell_type": "markdown",
   "metadata": {
    "pycharm": {
     "name": "#%% md\n"
    }
   },
   "source": [
    "## Make some maps"
   ]
  },
  {
   "cell_type": "code",
   "execution_count": null,
   "metadata": {
    "pycharm": {
     "name": "#%%\n"
    }
   },
   "outputs": [],
   "source": [
    "white_map_P = cubeP.sum(axis=0)\n",
    "white_map_E = cubeE.sum(axis=0)\n",
    "# ha_map_P = cubeP.select_lambda(6555.0, 6573.0).sum(axis=0)\n",
    "# ha_map_E = cubeE.select_lambda(6555.0, 6573.0).sum(axis=0)\n",
    "ha_map_P = cubeP.get_image((6555.0, 6573.0), method=\"sum\", subtract_off=True)\n",
    "ha_map_E = cubeE.get_image((6555.0, 6573.0), method=\"sum\", subtract_off=True)\n"
   ]
  },
  {
   "cell_type": "code",
   "execution_count": null,
   "metadata": {
    "pycharm": {
     "name": "#%%\n"
    }
   },
   "outputs": [],
   "source": [
    "ha_map_P.shape,   ha_map_E.shape"
   ]
  },
  {
   "cell_type": "code",
   "execution_count": null,
   "metadata": {
    "pycharm": {
     "name": "#%%\n"
    }
   },
   "outputs": [],
   "source": [
    "fig, axes = plt.subplots(2, 3, sharex=\"all\", sharey=\"all\", figsize=(12, 8))\n",
    "ha_map_P.plot(scale=\"sqrt\", ax=axes[0, 0])\n",
    "ha_map_E.plot(scale=\"sqrt\", ax=axes[1, 0])\n",
    "white_map_P.plot(scale=\"log\", ax=axes[0, 1])\n",
    "white_map_E.plot(scale=\"log\", ax=axes[1, 1])\n",
    "(ha_map_P / white_map_P).plot(scale=\"sqrt\", cmap=\"gray_r\", ax=axes[0, 2], vmin=0, vmax=0.15)\n",
    "(ha_map_E / white_map_E).plot(scale=\"sqrt\", cmap=\"gray_r\", ax=axes[1, 2], vmin=0, vmax=0.4)\n",
    "\n",
    "[ax.set(xticks=[], yticks=[]) for ax in axes.flat]\n",
    "fig.tight_layout(pad=0)"
   ]
  },
  {
   "cell_type": "markdown",
   "metadata": {},
   "source": [
    "## Look at particular regions\n",
    "To start with I will use the bowshock ones that I made for Jesus to use for the Spitzer spectra. Later, I should do some that concentrate more on the filaments."
   ]
  },
  {
   "cell_type": "code",
   "execution_count": null,
   "metadata": {
    "pycharm": {
     "name": "#%%\n"
    }
   },
   "outputs": [],
   "source": [
    "small_data_path = Path.cwd().parent.parent / \"data\"\n",
    "region_file = \"ngc346-jesus-muse-pixels.reg\"\n",
    "pixel_regions = rg.Regions.read(small_data_path / region_file)"
   ]
  },
  {
   "cell_type": "markdown",
   "metadata": {
    "pycharm": {
     "name": "#%% md\n"
    }
   },
   "source": [
    "I am using pixel coordinates rather than  celestial since the Peter cube has been aligned to MUSE, whereas the ESO cube has not.  There is a slight difference in cube shape, so we should check if that matters."
   ]
  },
  {
   "cell_type": "code",
   "execution_count": null,
   "metadata": {
    "pycharm": {
     "name": "#%%\n"
    }
   },
   "outputs": [],
   "source": [
    "region_dict = {reg.meta[\"label\"]: reg for reg in pixel_regions}\n",
    "Table(rows=region_dict.items())"
   ]
  },
  {
   "cell_type": "markdown",
   "metadata": {
    "pycharm": {
     "name": "#%% md\n"
    }
   },
   "source": [
    "Calculate the fraction of the full spectrum flux that is in the Ha line.  We will use this as a criterion for whether a given pixel is dominated by stars or nebular emission. For example, using a threshold of 0.04."
   ]
  },
  {
   "cell_type": "code",
   "execution_count": null,
   "metadata": {
    "pycharm": {
     "name": "#%%\n"
    }
   },
   "outputs": [],
   "source": [
    "ha_frac_P = ha_map_P / white_map_P\n"
   ]
  },
  {
   "cell_type": "code",
   "execution_count": null,
   "metadata": {
    "pycharm": {
     "name": "#%%\n"
    }
   },
   "outputs": [],
   "source": [
    "fig, ax = plt.subplots(figsize=(8, 8))\n",
    "ha_map_P.plot(ax=ax, zscale=True, cmap=\"gray_r\", title=\"Positions of sample regions\")\n",
    "ax.contourf(ha_frac_P.data, levels=[0.00, 0.01, 0.02, 0.03, 0.04], cmap=\"Greens\")\n",
    "for label, reg in region_dict.items():\n",
    "    is_bg = label.endswith(\"bg\")\n",
    "    linestyle = \"dotted\" if is_bg else \"solid\"\n",
    "    fontweight = \"normal\" if is_bg else \"bold\"\n",
    "    reg.plot(ax=ax, facecolor='none', edgecolor='red',\n",
    "             lw=2,\n",
    "\n",
    "             linestyle=linestyle,\n",
    "             )\n",
    "    ax.text(reg.center.x, reg.center.y, label,\n",
    "            ha=\"center\", va=\"center\", fontsize=\"xx-small\", fontweight=fontweight, color=\"w\")\n",
    "...;"
   ]
  },
  {
   "cell_type": "markdown",
   "metadata": {
    "pycharm": {
     "name": "#%% md\n"
    }
   },
   "source": [
    "The green blobs are have a low Ha fraction and are dominated by the stellar continuum. We could maybe mask them out."
   ]
  },
  {
   "cell_type": "code",
   "execution_count": null,
   "metadata": {
    "pycharm": {
     "name": "#%%\n"
    }
   },
   "outputs": [],
   "source": [
    "def get_spectrum_from_region(\n",
    "        cube: Cube,\n",
    "        region: rg.PixelRegion,\n",
    "        reduction_method: callable=np.sum,\n",
    ") -> Spectrum:\n",
    "    region_mask = region.to_mask()\n",
    "    nv, ny, nx = cube.shape\n",
    "    # Slices into 2D arrays\n",
    "    slices_large, slices_small = region_mask.get_overlap_slices((ny, nx))\n",
    "    slices_cube = (slice(None, None),) + slices_large\n",
    "    image_mask_large = region_mask.to_image((ny, nx))\n",
    "    image_mask_small = image_mask_large[slices_large]\n",
    "    cube_cutout = cube.data[slices_cube]\n",
    "    spec = reduction_method(cube_cutout * image_mask_small[None, :, :], axis=(1, 2))\n",
    "    return Spectrum(wave=cube.wave, data=spec, unit=cube.unit)\n",
    "\n"
   ]
  },
  {
   "cell_type": "code",
   "execution_count": null,
   "metadata": {
    "pycharm": {
     "name": "#%%\n"
    }
   },
   "outputs": [],
   "source": [
    "type(np.sum)"
   ]
  },
  {
   "cell_type": "code",
   "execution_count": null,
   "metadata": {
    "pycharm": {
     "name": "#%%\n"
    }
   },
   "outputs": [],
   "source": []
  },
  {
   "cell_type": "code",
   "execution_count": null,
   "metadata": {
    "pycharm": {
     "name": "#%%\n"
    }
   },
   "outputs": [],
   "source": [
    "mask_stars_P = ha_frac_P.data < 0.04"
   ]
  },
  {
   "cell_type": "code",
   "execution_count": null,
   "metadata": {
    "pycharm": {
     "name": "#%%\n"
    }
   },
   "outputs": [],
   "source": [
    "cube_P_neb = cubeP.copy()\n",
    "cube_P_neb.mask = cube_P_neb.mask | mask_stars_P\n",
    "spec_mean_P_neb = cube_P_neb.mean(axis=(1, 2))"
   ]
  },
  {
   "cell_type": "code",
   "execution_count": null,
   "metadata": {
    "pycharm": {
     "name": "#%%\n"
    }
   },
   "outputs": [],
   "source": [
    "spec_dict_P_neb = {\n",
    "    label: get_spectrum_from_region(cube_P_neb, reg, reduction_method=np.nanmean)\n",
    "    for label, reg in region_dict.items()\n",
    "}"
   ]
  },
  {
   "cell_type": "code",
   "execution_count": null,
   "metadata": {
    "pycharm": {
     "name": "#%%\n"
    }
   },
   "outputs": [],
   "source": [
    "fig, ax = plt.subplots(figsize=(12, 8))\n",
    "for label, spec in spec_dict_P_neb.items():\n",
    "    if label.endswith(\" bg\"):\n",
    "        lw = 1\n",
    "    else:\n",
    "        lw = 2\n",
    "    ratio = spec / spec_mean_P_neb\n",
    "    norm = np.median(ratio.data)\n",
    "    (ratio / norm).plot(label=label, linewidth=lw)\n",
    "ax.legend(ncol=5)\n",
    "ax.set(ylim=[0.5, 1.5])\n",
    "...;"
   ]
  },
  {
   "cell_type": "code",
   "execution_count": null,
   "metadata": {
    "pycharm": {
     "name": "#%%\n"
    }
   },
   "outputs": [],
   "source": [
    "source_regions = set(s.split()[0] for s in region_dict.keys())\n",
    "source_regions"
   ]
  },
  {
   "cell_type": "code",
   "execution_count": null,
   "metadata": {
    "pycharm": {
     "name": "#%%\n"
    }
   },
   "outputs": [],
   "source": [
    "fig, axes = plt.subplots(n_sections, 1, figsize=(12,  2 * n_sections))\n",
    "for w0, ax in zip(start_waves,  axes):\n",
    "    section_mean = spec_mean_P_neb.subspec(w0, w0 + d_wave)\n",
    "    shift = 0.0\n",
    "    for label in source_regions:\n",
    "        spec = spec_dict_P_neb[label] #- spec_dict_P_neb[label + \" bg\"]\n",
    "        section_reg = spec.subspec(w0, w0 + d_wave)\n",
    "        ratio = section_reg #/ section_mean\n",
    "        norm = np.median(ratio.data)\n",
    "        ((ratio/norm) + shift).plot(ax=ax, label=label, linewidth=2)\n",
    "        shift += 0.1\n",
    "    norm = np.median(section_mean.data)\n",
    "    ((section_mean/norm) + shift).plot(ax=ax, label=\"mean cube\", linewidth=3, color=\"k\")\n",
    "    ax.set(\n",
    "        ylim=[0.5, 1.7],\n",
    "        # yscale=\"log\",\n",
    "        ylabel=\"\", xlabel=\"\")\n",
    "axes[0].set_title(\"Ratio: Region / Full Cube\")\n",
    "axes[0].legend(ncol=6, fontsize=\"x-small\")\n",
    "fig.tight_layout()"
   ]
  },
  {
   "cell_type": "code",
   "execution_count": null,
   "metadata": {
    "pycharm": {
     "name": "#%%\n"
    }
   },
   "outputs": [],
   "source": [
    "fig.savefig(\"peter-region-strip-spectra.pdf\")"
   ]
  },
  {
   "cell_type": "code",
   "execution_count": null,
   "metadata": {
    "pycharm": {
     "name": "#%%\n"
    }
   },
   "outputs": [],
   "source": [
    "fig, axes = plt.subplots(n_sections, 1, figsize=(12,  2 * n_sections))\n",
    "for w0, ax in zip(start_waves,  axes):\n",
    "    section_mean = spec_mean_P_neb.subspec(w0, w0 + d_wave)\n",
    "    shift = 0.0\n",
    "    for label in source_regions:\n",
    "        spec = spec_dict_P_neb[label] #- spec_dict_P_neb[label + \" bg\"]\n",
    "        section_reg = spec.subspec(w0, w0 + d_wave)\n",
    "        ratio = section_reg / section_mean\n",
    "        norm = np.median(ratio.data)\n",
    "        ((ratio/norm) + shift).plot(ax=ax, label=label, linewidth=2)\n",
    "        shift += 0.1\n",
    "    norm = np.median(section_mean.data)\n",
    "    # ((section_mean/norm) + shift).plot(ax=ax, label=\"mean cube\", linewidth=3, color=\"k\")\n",
    "    ax.set(\n",
    "        ylim=[0.5, 1.7],\n",
    "        # yscale=\"log\",\n",
    "        ylabel=\"\", xlabel=\"\")\n",
    "axes[0].set_title(\"Ratio: Region / Full Cube\")\n",
    "axes[0].legend(ncol=6, fontsize=\"x-small\")\n",
    "fig.tight_layout()"
   ]
  },
  {
   "cell_type": "code",
   "execution_count": null,
   "metadata": {
    "pycharm": {
     "name": "#%%\n"
    }
   },
   "outputs": [],
   "source": [
    "fig.savefig(\"peter-region-strip-ratio-spectra.pdf\")\n"
   ]
  },
  {
   "cell_type": "code",
   "execution_count": null,
   "metadata": {
    "pycharm": {
     "name": "#%%\n"
    }
   },
   "outputs": [],
   "source": [
    "spec_dict_P = {label: get_spectrum_from_region(cubeP, reg) for label, reg in region_dict.items()}\n",
    "spec_dict_E = {label: get_spectrum_from_region(cubeE, reg) for label, reg in region_dict.items()}"
   ]
  },
  {
   "cell_type": "code",
   "execution_count": null,
   "metadata": {
    "pycharm": {
     "name": "#%%\n"
    }
   },
   "outputs": [],
   "source": [
    "fig, ax = plt.subplots(figsize=(12, 8))\n",
    "for label, spec in spec_dict_P.items():\n",
    "    if label.endswith(\" bg\"):\n",
    "        lw = 1\n",
    "    else:\n",
    "        lw = 2\n",
    "    (spec / specP).plot(label=label, linewidth=lw)\n",
    "ax.legend(ncol=5)\n",
    "ax.set(ylim=[0, 0.02])\n",
    "...;"
   ]
  },
  {
   "cell_type": "code",
   "execution_count": null,
   "metadata": {
    "pycharm": {
     "name": "#%%\n"
    }
   },
   "outputs": [],
   "source": [
    "fig, ax = plt.subplots(figsize=(12, 8))\n",
    "for label, spec in spec_dict_E.items():\n",
    "    if label.endswith(\" bg\"):\n",
    "        lw = 1\n",
    "    else:\n",
    "        lw = 2\n",
    "    (spec / specE).plot(label=label, linewidth=lw)\n",
    "ax.legend(ncol=5)\n",
    "ax.set(ylim=[0, 0.03])\n",
    "...;"
   ]
  },
  {
   "cell_type": "code",
   "execution_count": null,
   "metadata": {
    "pycharm": {
     "name": "#%%\n"
    }
   },
   "outputs": [],
   "source": [
    "cubeP.info()"
   ]
  },
  {
   "cell_type": "code",
   "execution_count": null,
   "metadata": {
    "pycharm": {
     "name": "#%%\n"
    }
   },
   "outputs": [],
   "source": [
    "type(cubeP.wave)"
   ]
  },
  {
   "cell_type": "code",
   "execution_count": null,
   "metadata": {
    "pycharm": {
     "name": "#%%\n"
    }
   },
   "outputs": [],
   "source": [
    "cubeP.unit, specP.unit"
   ]
  },
  {
   "cell_type": "markdown",
   "metadata": {},
   "source": [
    "### Divide  by the mean cube"
   ]
  },
  {
   "cell_type": "code",
   "execution_count": null,
   "metadata": {},
   "outputs": [],
   "source": []
  }
 ],
 "metadata": {
  "kernelspec": {
   "display_name": "Python 3",
   "language": "python",
   "name": "python3"
  },
  "language_info": {
   "codemirror_mode": {
    "name": "ipython",
    "version": 2
   },
   "file_extension": ".py",
   "mimetype": "text/x-python",
   "name": "python",
   "nbconvert_exporter": "python",
   "pygments_lexer": "ipython2",
   "version": "2.7.6"
  }
 },
 "nbformat": 4,
 "nbformat_minor": 0
}
