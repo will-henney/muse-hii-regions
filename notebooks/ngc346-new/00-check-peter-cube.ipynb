{
 "cells": [
  {
   "cell_type": "markdown",
   "metadata": {},
   "source": [
    "# Compare Peter Zeidler's NGC 346 cube with ESO data archive cube of same observations"
   ]
  },
  {
   "cell_type": "code",
   "execution_count": null,
   "metadata": {},
   "outputs": [],
   "source": [
    "from pathlib import Path\n",
    "import numpy as np\n",
    "from matplotlib import pyplot as plt\n",
    "from  astropy.table import Table\n",
    "import seaborn as sns\n",
    "from mpdaf.obj import Cube\n",
    "import regions\n",
    "sns.set_context(\"talk\")"
   ]
  },
  {
   "cell_type": "markdown",
   "metadata": {},
   "source": [
    "## Spectrum of the whole cube"
   ]
  },
  {
   "cell_type": "code",
   "execution_count": null,
   "metadata": {},
   "outputs": [],
   "source": [
    "datapath = Path.home() / \"Work/Muse-Hii-Data/SMC-NGC-346\"\n",
    "cubeP = Cube(str(datapath / \"PeterZeidler\" / \"DATACUBE_FINAL_fwhm_cor.fits\"))"
   ]
  },
  {
   "cell_type": "markdown",
   "metadata": {},
   "source": [
    "Also load the standard ESO cube for comparison"
   ]
  },
  {
   "cell_type": "code",
   "execution_count": null,
   "metadata": {},
   "outputs": [],
   "source": [
    "cubeE = Cube(str(datapath / \"ADP.2017-10-16T11_04_19.247.fits\"))"
   ]
  },
  {
   "cell_type": "markdown",
   "metadata": {},
   "source": [
    "Extract full-cube spectra. This next cell takes several seconds to execute."
   ]
  },
  {
   "cell_type": "code",
   "execution_count": null,
   "metadata": {},
   "outputs": [],
   "source": [
    "specP = cubeP.sum(axis=(1, 2))\n",
    "specE = cubeE.sum(axis=(1, 2))"
   ]
  },
  {
   "cell_type": "markdown",
   "metadata": {},
   "source": [
    "### Global comparison of full spectrum\n",
    "\n",
    "First look at the full wav range on a log intensity scale"
   ]
  },
  {
   "cell_type": "code",
   "execution_count": null,
   "metadata": {},
   "outputs": [],
   "source": [
    "fig, ax = plt.subplots(figsize=(12, 4))\n",
    "specP.plot(ax=ax, label=\"Peter\")\n",
    "specE.plot(ax=ax, label=\"ESO\")\n",
    "ax.legend()\n",
    "ax.set(\n",
    "    yscale=\"log\",\n",
    ")\n",
    "...;"
   ]
  },
  {
   "cell_type": "markdown",
   "metadata": {},
   "source": [
    "So Peter cube is consistently brighter, presumably due to better photometry. Also has more sky features visible in the spectrum.\n",
    "\n",
    "Next, look ast the ratio between the two on a linear scale:"
   ]
  },
  {
   "cell_type": "code",
   "execution_count": null,
   "metadata": {},
   "outputs": [],
   "source": [
    "fig, ax = plt.subplots(figsize=(12, 4))\n",
    "(specP / specE).plot(ax=ax, label=\"Ratio\")\n",
    "ax.legend()\n",
    "avratio = np.nanmedian(specP.data / specE.data)\n",
    "ax.axhline(avratio, color='r', zorder=-100)\n",
    "ax.set(\n",
    "    ylim=[0.0, None],\n",
    ")\n",
    "...;"
   ]
  },
  {
   "cell_type": "code",
   "execution_count": null,
   "metadata": {},
   "outputs": [],
   "source": [
    "avratio"
   ]
  },
  {
   "cell_type": "markdown",
   "metadata": {},
   "source": [
    "### Split into multiple wavelength sections\n",
    "\n",
    "Choose 12 sections, which means that each section spans about 400 Angstrom."
   ]
  },
  {
   "cell_type": "code",
   "execution_count": null,
   "metadata": {},
   "outputs": [],
   "source": [
    "wave_min, wave_max = specP.wave.get_range()\n",
    "n_sections = 12\n",
    "d_wave = (wave_max - wave_min) / n_sections\n",
    "start_waves = wave_min + np.arange(n_sections) * d_wave\n",
    "start_waves"
   ]
  },
  {
   "cell_type": "markdown",
   "metadata": {},
   "source": [
    "Scale the ESO cube by the median ratio, so we can compare in more detail."
   ]
  },
  {
   "cell_type": "code",
   "execution_count": null,
   "metadata": {},
   "outputs": [],
   "source": [
    "spec_sections_P = [specP.subspec(w0, w0 + d_wave) for w0 in start_waves]\n",
    "spec_sections_E = [avratio * specE.subspec(w0, w0 + d_wave) for w0 in start_waves]"
   ]
  },
  {
   "cell_type": "markdown",
   "metadata": {},
   "source": [
    "First compare on a logarithmic flux scale."
   ]
  },
  {
   "cell_type": "code",
   "execution_count": null,
   "metadata": {},
   "outputs": [],
   "source": [
    "fig, axes = plt.subplots(n_ranges, 1, figsize=(12,  2 * n_ranges))\n",
    "for section_P, section_E, ax in zip(spec_sections_P, spec_sections_E,  axes):\n",
    "    section_P.plot(ax=ax)\n",
    "    section_E.plot(ax=ax)\n",
    "    ax.set(yscale=\"log\", ylabel=\"\", xlabel=\"\")\n",
    "fig.tight_layout()"
   ]
  },
  {
   "cell_type": "markdown",
   "metadata": {},
   "source": [
    "So, the strongest discrepancy is the [O I] 5577 line, which will be extremely weak  from  the nebula, but is strong from the night sky. This is almost completely removed in the ESO cube but is still strong in the Peter cube."
   ]
  },
  {
   "cell_type": "markdown",
   "metadata": {},
   "source": [
    "The Peter cube is also higher at the position of real nebula lines, such as H beta and [O III].  In these cases, I think it is not true night sky emission, but is rather the outer parts of the nebula that are being picked up. These are oversubtracted in the ESO cube, resulting in the lines being apparently seen in absorption in fainter spaxels of the cube,  The Peter cube does not have this problem."
   ]
  },
  {
   "cell_type": "markdown",
   "metadata": {},
   "source": [
    "Next, we look at the ratio of the two cubes, zooming in on the range +/-20% so we can see the weak night sky lines and atmospheric absorption."
   ]
  },
  {
   "cell_type": "code",
   "execution_count": null,
   "metadata": {},
   "outputs": [],
   "source": [
    "fig, axes = plt.subplots(n_ranges, 1, figsize=(12,  2 * n_ranges))\n",
    "for section_P, section_E, ax in zip(spec_sections_P, spec_sections_E,  axes):\n",
    "    (section_P / section_E ).plot(ax=ax)\n",
    "    ax.set(ylim=[0.8, 1.2], ylabel=\"\", xlabel=\"\")\n",
    "axes[0].set_title(\"Ratio: Peter / ESO\")\n",
    "fig.tight_layout()"
   ]
  },
  {
   "cell_type": "markdown",
   "metadata": {},
   "source": [
    "We see a lot of weak absorption features with EW of less than an Angstrom. Also lots of emission lines. In most sections, it is possible to distinguish the two, but at longer wavelengths this is more difficult.\n",
    "\n",
    "We could look at the model sky spectra to try and help with this.  We probably need to be able to separate the sky emission from the absorption, since the first is additive, while the second is multiplicative. **Actually, this might be a way of doing it:** in principal the absorption lines should be spatially constant in a map of `cube/avspec`, whereas the emission lines should be constant in a map of `(cube - avspec)`"
   ]
  },
  {
   "cell_type": "markdown",
   "metadata": {},
   "source": [
    "### Fitting the continuum\n",
    "\n",
    "I had an idea that we can use sigma clipping in the fit so that we do not have to bother with masking out the emission lines first.  I will try this on the entire cube first, since I  am not sure how fast it is going to be to apply it pixel by pixel.\n",
    "\n",
    "- [ ] TODO do the fits"
   ]
  },
  {
   "cell_type": "markdown",
   "metadata": {},
   "source": [
    "## Look at particular regions\n",
    "To start with I will use the bowshock ones that I made for Jesus to use for the Spitzer spectra. Later, I should do some that concentrate more on the filaments."
   ]
  },
  {
   "cell_type": "code",
   "execution_count": null,
   "metadata": {},
   "outputs": [],
   "source": [
    "small_data_path = Path.cwd().parent.parent / \"data\"\n",
    "region_file = \"ngc346-jesus-muse-pixels.reg\"\n",
    "pixel_regions = regions.Regions.read(small_data_path / region_file)"
   ]
  },
  {
   "cell_type": "code",
   "execution_count": null,
   "metadata": {},
   "outputs": [],
   "source": [
    "region_dict = {rg.meta[\"label\"]: rg for rg in pixel_regions}\n",
    "Table(rows=region_dict.items())"
   ]
  },
  {
   "cell_type": "code",
   "execution_count": null,
   "metadata": {},
   "outputs": [],
   "source": [
    "nlam, ny, nx = cubeP.shape"
   ]
  },
  {
   "cell_type": "code",
   "execution_count": null,
   "metadata": {},
   "outputs": [],
   "source": [
    "fig, ax = plt.subplots()\n",
    "patches = []\n",
    "for label, reg in region_dict.items():\n",
    "    patches.append(\n",
    "        reg.plot(ax=ax, facecolor='none', edgecolor='red', lw=2, label=label)\n",
    "    )\n",
    "ax.legend(handles=patches)\n",
    "ax.set(\n",
    "    xlim=[0, nx],\n",
    "    ylim=[0, ny],\n",
    ")\n",
    "ax.set_aspect('equal')"
   ]
  },
  {
   "cell_type": "code",
   "execution_count": null,
   "metadata": {},
   "outputs": [],
   "source": []
  },
  {
   "cell_type": "code",
   "execution_count": null,
   "metadata": {},
   "outputs": [],
   "source": []
  },
  {
   "cell_type": "code",
   "execution_count": null,
   "metadata": {},
   "outputs": [],
   "source": [
    "cubeE.shape[1:]"
   ]
  },
  {
   "cell_type": "markdown",
   "metadata": {},
   "source": []
  },
  {
   "cell_type": "code",
   "execution_count": null,
   "metadata": {},
   "outputs": [],
   "source": [
    "region_dict[\"BS\"].to_mask().to_image((ny, nx)).reshape((1, ny, nx)) * cubeP.data.data"
   ]
  },
  {
   "cell_type": "markdown",
   "metadata": {},
   "source": [
    "### Divide  by the mean cube"
   ]
  },
  {
   "cell_type": "code",
   "execution_count": null,
   "metadata": {},
   "outputs": [],
   "source": []
  }
 ],
 "metadata": {
  "kernelspec": {
   "display_name": "Python 3",
   "language": "python",
   "name": "python3"
  },
  "language_info": {
   "codemirror_mode": {
    "name": "ipython",
    "version": 2
   },
   "file_extension": ".py",
   "mimetype": "text/x-python",
   "name": "python",
   "nbconvert_exporter": "python",
   "pygments_lexer": "ipython2",
   "version": "2.7.6"
  }
 },
 "nbformat": 4,
 "nbformat_minor": 0
}
