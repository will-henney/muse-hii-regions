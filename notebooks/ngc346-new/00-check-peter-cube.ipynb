{
 "cells": [
  {
   "cell_type": "markdown",
   "metadata": {
    "pycharm": {
     "name": "#%% md\n"
    }
   },
   "source": [
    "# Compare Peter Zeidler's NGC 346 cube with ESO data archive cube of same observations"
   ]
  },
  {
   "cell_type": "markdown",
   "metadata": {
    "pycharm": {
     "name": "#%% md\n"
    }
   },
   "source": [
    "## Imports\n",
    "\n",
    "Standard library imports"
   ]
  },
  {
   "cell_type": "code",
   "execution_count": null,
   "metadata": {
    "pycharm": {
     "name": "#%%\n"
    }
   },
   "outputs": [],
   "source": [
    "from pathlib import Path\n",
    "from typing import Union"
   ]
  },
  {
   "cell_type": "markdown",
   "metadata": {
    "pycharm": {
     "name": "#%% md\n"
    }
   },
   "source": [
    "Third-party  imports"
   ]
  },
  {
   "cell_type": "code",
   "execution_count": null,
   "metadata": {
    "pycharm": {
     "name": "#%%\n"
    }
   },
   "outputs": [],
   "source": [
    "import numpy as np\n",
    "from matplotlib import pyplot as plt\n",
    "from matplotlib.ticker import MaxNLocator\n",
    "from astropy.table import Table\n",
    "from astropy.wcs import WCS\n",
    "from astropy.io import fits\n",
    "import seaborn as sns\n",
    "import cmasher as cmr\n",
    "from mpdaf.obj import Cube, Image, Spectrum\n",
    "import regions as rg\n",
    "\n",
    "sns.set_context(\"talk\")"
   ]
  },
  {
   "cell_type": "markdown",
   "metadata": {
    "pycharm": {
     "name": "#%% md\n"
    }
   },
   "source": [
    "Will's libraries"
   ]
  },
  {
   "cell_type": "code",
   "execution_count": null,
   "metadata": {
    "pycharm": {
     "name": "#%%\n"
    }
   },
   "outputs": [],
   "source": [
    "import wcsfile"
   ]
  },
  {
   "cell_type": "markdown",
   "metadata": {
    "pycharm": {
     "name": "#%% md\n"
    }
   },
   "source": [
    "## Paths for data files\n",
    "\n",
    "Files in `small_data_path` should not be too large to be checked into git"
   ]
  },
  {
   "cell_type": "code",
   "execution_count": null,
   "metadata": {
    "pycharm": {
     "name": "#%%\n"
    }
   },
   "outputs": [],
   "source": [
    "data_path = Path.home() / \"Work/Muse-Hii-Data/SMC-NGC-346\"\n",
    "small_data_path = Path.cwd().parent.parent / \"data\""
   ]
  },
  {
   "cell_type": "markdown",
   "metadata": {
    "pycharm": {
     "name": "#%% md\n"
    }
   },
   "source": [
    "## Spectrum of the whole cube"
   ]
  },
  {
   "cell_type": "code",
   "execution_count": null,
   "metadata": {
    "pycharm": {
     "name": "#%%\n"
    }
   },
   "outputs": [],
   "source": [
    "cubeP = Cube(str(data_path / \"PeterZeidler\" / \"DATACUBE_FINAL_fwhm_cor.fits\"))"
   ]
  },
  {
   "cell_type": "markdown",
   "metadata": {
    "pycharm": {
     "name": "#%% md\n"
    }
   },
   "source": [
    "Also load the standard ESO cube for comparison.\n",
    "The ESO cube needs the astrometry adjusting slightly to align with gaia frame.\n",
    "I originally did this by reading in a file I had made in DS9, but it is easier to just copy the Peter WCS."
   ]
  },
  {
   "cell_type": "code",
   "execution_count": null,
   "metadata": {
    "pycharm": {
     "name": "#%%\n"
    }
   },
   "outputs": [],
   "source": [
    "cubeE = Cube(str(data_path / \"ADP.2017-10-16T11_04_19.247.fits\"))"
   ]
  },
  {
   "cell_type": "code",
   "execution_count": null,
   "metadata": {
    "pycharm": {
     "name": "#%%\n"
    }
   },
   "outputs": [],
   "source": [
    "cubeE.set_wcs(wcs=cubeP.wcs)"
   ]
  },
  {
   "cell_type": "markdown",
   "metadata": {
    "pycharm": {
     "name": "#%% md\n"
    }
   },
   "source": [
    "The only slight problem is that the data arrays are slightly different shapes. This does not matter so long as the lower left pixel is aligned."
   ]
  },
  {
   "cell_type": "code",
   "execution_count": null,
   "metadata": {
    "pycharm": {
     "name": "#%%\n"
    }
   },
   "outputs": [],
   "source": [
    "cubeE.wcs, cubeP.wcs"
   ]
  },
  {
   "cell_type": "markdown",
   "metadata": {
    "pycharm": {
     "name": "#%% md\n"
    }
   },
   "source": [
    "Read my hand-tweaked WCS that I exported from DS9"
   ]
  },
  {
   "cell_type": "markdown",
   "metadata": {
    "pycharm": {
     "name": "#%% md\n"
    }
   },
   "source": [
    "Extract full-cube spectra. This next cell takes several seconds to execute."
   ]
  },
  {
   "cell_type": "code",
   "execution_count": null,
   "metadata": {
    "pycharm": {
     "name": "#%%\n"
    }
   },
   "outputs": [],
   "source": [
    "specP = cubeP.sum(axis=(1, 2))\n",
    "specE = cubeE.sum(axis=(1, 2))"
   ]
  },
  {
   "cell_type": "markdown",
   "metadata": {
    "pycharm": {
     "name": "#%% md\n"
    }
   },
   "source": [
    "### Global comparison of full spectrum\n",
    "\n",
    "First look at the full wav range on a log intensity scale"
   ]
  },
  {
   "cell_type": "code",
   "execution_count": null,
   "metadata": {
    "pycharm": {
     "name": "#%%\n"
    }
   },
   "outputs": [],
   "source": [
    "fig, ax = plt.subplots(figsize=(12, 4))\n",
    "specP.plot(ax=ax, label=\"Peter\")\n",
    "specE.plot(ax=ax, label=\"ESO\")\n",
    "ax.legend()\n",
    "ax.set(\n",
    "    yscale=\"log\",\n",
    ")\n",
    "...;"
   ]
  },
  {
   "cell_type": "markdown",
   "metadata": {
    "pycharm": {
     "name": "#%% md\n"
    }
   },
   "source": [
    "So Peter cube is consistently brighter, presumably due to better photometry. Also has more sky features visible in the spectrum.\n",
    "\n",
    "Next, look ast the ratio between the two on a linear scale:"
   ]
  },
  {
   "cell_type": "code",
   "execution_count": null,
   "metadata": {
    "pycharm": {
     "name": "#%%\n"
    }
   },
   "outputs": [],
   "source": [
    "fig, ax = plt.subplots(figsize=(12, 4))\n",
    "(specP / specE).plot(ax=ax, label=\"Ratio\")\n",
    "ax.legend()\n",
    "avratio = np.nanmedian(specP.data / specE.data)\n",
    "ax.axhline(avratio, color='r', zorder=-100)\n",
    "ax.set(\n",
    "    ylim=[0.0, None],\n",
    ")\n",
    "...;"
   ]
  },
  {
   "cell_type": "code",
   "execution_count": null,
   "metadata": {
    "pycharm": {
     "name": "#%%\n"
    }
   },
   "outputs": [],
   "source": [
    "avratio"
   ]
  },
  {
   "cell_type": "markdown",
   "metadata": {
    "pycharm": {
     "name": "#%% md\n"
    }
   },
   "source": [
    "### Split into multiple wavelength sections\n",
    "\n",
    "If we choose 12 sections, then each section spans about 400 Angstrom."
   ]
  },
  {
   "cell_type": "code",
   "execution_count": null,
   "metadata": {
    "pycharm": {
     "name": "#%%\n"
    }
   },
   "outputs": [],
   "source": [
    "def split_spectrum(spec, n_sections):\n",
    "    wave_min, wave_max = spec.wave.get_range()\n",
    "    d_wave = (wave_max - wave_min) / n_sections\n",
    "    start_waves = wave_min + np.arange(n_sections) * d_wave\n",
    "    stop_waves = start_waves + d_wave\n",
    "    return start_waves, stop_waves, d_wave"
   ]
  },
  {
   "cell_type": "code",
   "execution_count": null,
   "metadata": {
    "pycharm": {
     "name": "#%%\n"
    }
   },
   "outputs": [],
   "source": [
    "wave_min, wave_max = specP.wave.get_range()\n",
    "n_sections = 12\n",
    "start_waves, stop_waves, d_wave = split_spectrum(cubeP, n_sections)\n",
    "start_waves"
   ]
  },
  {
   "cell_type": "markdown",
   "metadata": {
    "pycharm": {
     "name": "#%% md\n"
    }
   },
   "source": [
    "Scale the ESO cube by the median ratio, so we can compare in more detail."
   ]
  },
  {
   "cell_type": "code",
   "execution_count": null,
   "metadata": {
    "pycharm": {
     "name": "#%%\n"
    }
   },
   "outputs": [],
   "source": [
    "spec_sections_P = [specP.subspec(w0, w0 + d_wave) for w0 in start_waves]\n",
    "spec_sections_E = [avratio * specE.subspec(w0, w0 + d_wave) for w0 in start_waves]"
   ]
  },
  {
   "cell_type": "markdown",
   "metadata": {
    "pycharm": {
     "name": "#%% md\n"
    }
   },
   "source": [
    "First compare on a logarithmic flux scale."
   ]
  },
  {
   "cell_type": "code",
   "execution_count": null,
   "metadata": {
    "pycharm": {
     "name": "#%%\n"
    }
   },
   "outputs": [],
   "source": [
    "fig, axes = plt.subplots(n_sections, 1, figsize=(12, 2 * n_sections))\n",
    "for section_P, section_E, ax in zip(spec_sections_P, spec_sections_E, axes):\n",
    "    section_P.plot(ax=ax)\n",
    "    section_E.plot(ax=ax)\n",
    "    ax.set(yscale=\"log\", ylabel=\"\", xlabel=\"\")\n",
    "fig.tight_layout()"
   ]
  },
  {
   "cell_type": "markdown",
   "metadata": {
    "pycharm": {
     "name": "#%% md\n"
    }
   },
   "source": [
    "So, the strongest discrepancy is the [O I] 5577 line, which will be extremely weak  from  the nebula, but is strong from the night sky. This is almost completely removed in the ESO cube but is still strong in the Peter cube."
   ]
  },
  {
   "cell_type": "markdown",
   "metadata": {
    "pycharm": {
     "name": "#%% md\n"
    }
   },
   "source": [
    "The Peter cube is also higher at the position of real nebula lines, such as H beta and [O III].  In these cases, I think it is not true night sky emission, but is rather the outer parts of the nebula that are being picked up. These are over-subtracted in the ESO cube, resulting in the lines being apparently seen in absorption in fainter spaxels of the cube,  The Peter cube does not have this problem."
   ]
  },
  {
   "cell_type": "markdown",
   "metadata": {
    "pycharm": {
     "name": "#%% md\n"
    }
   },
   "source": [
    "Next, we look on a linear scale at the two cubes after normalizing by the median in each spectral interval.  We zoom in on the range +/-20% so we can see the weak night sky lines and atmospheric absorption."
   ]
  },
  {
   "cell_type": "code",
   "execution_count": null,
   "metadata": {
    "pycharm": {
     "name": "#%%\n"
    }
   },
   "outputs": [],
   "source": [
    "fig, axes = plt.subplots(n_sections, 1, figsize=(12, 2 * n_sections))\n",
    "for section_P, section_E, ax in zip(spec_sections_P, spec_sections_E, axes):\n",
    "    (section_P / np.median(section_P.data)).plot(ax=ax, label='Peter')\n",
    "    (section_E / np.median(section_E.data)).plot(ax=ax, label='ESO')\n",
    "    # Put a finer wavelength grid with lines every 10 AA\n",
    "    ax.minorticks_on()\n",
    "    ax.grid(which='minor', axis='x', color='y', lw=0.5, alpha=0.5)\n",
    "    ax.set(ylim=[0.8, 1.2], ylabel=\"\", xlabel=\"\")\n",
    "axes[0].set_title(\"Peter cube versus ESO cube: summed spectrum\")\n",
    "axes[0].legend()\n",
    "fig.tight_layout()"
   ]
  },
  {
   "cell_type": "code",
   "execution_count": null,
   "metadata": {
    "pycharm": {
     "name": "#%%\n"
    }
   },
   "outputs": [],
   "source": [
    "fig.savefig('peter-eso-comparison-spectra-full-cube.pdf')"
   ]
  },
  {
   "cell_type": "markdown",
   "metadata": {
    "pycharm": {
     "name": "#%% md\n"
    }
   },
   "source": [
    "We see a lot of weak absorption features with EW of less than an Angstrom. Also, lots of emission lines. In most sections, it is possible to distinguish the two, but at longer wavelengths this is more difficult.\n",
    "\n",
    "We could look at the model sky spectra to try and help with this.  We probably need to be able to separate the sky emission from the absorption, since the first is additive, while the second is multiplicative. **Actually, this might be a way of doing it:** in principle the absorption lines should be spatially constant in a map of `cube/avspec`, whereas the emission lines should be constant in a map of `(cube - avspec)`"
   ]
  },
  {
   "cell_type": "markdown",
   "metadata": {
    "pycharm": {
     "name": "#%% md\n"
    }
   },
   "source": [
    "### Fitting the continuum\n",
    "\n",
    "I had an idea that we can use sigma clipping in the fit so that we do not have to bother with masking out the emission lines first.  I will try this on the entire cube first, since I  am not sure how fast it is going to be to apply it pixel by pixel.\n",
    "\n",
    "Another idea is to use median filtering to get the continuum. But this might break down in regions with lots of closely spaced lines.\n",
    "\n",
    "- [ ] TODO do the fits"
   ]
  },
  {
   "cell_type": "code",
   "execution_count": null,
   "metadata": {
    "pycharm": {
     "name": "#%%\n"
    }
   },
   "outputs": [],
   "source": [
    "import scipy.ndimage as ndi"
   ]
  },
  {
   "cell_type": "code",
   "execution_count": null,
   "metadata": {
    "pycharm": {
     "name": "#%%\n"
    }
   },
   "outputs": [],
   "source": [
    "def get_median_continuum(spec: Spectrum, window_size=11):\n",
    "    spec_c = spec.copy()\n",
    "    spec_c.data = ndi.median_filter(spec.data, size=(window_size,))\n",
    "    return spec_c\n",
    "\n",
    "def get_median_continuum_cube(cube: Cube, window_size=11):\n",
    "    cube_c = cube.copy()\n",
    "    cube_c.data[cube_c.mask] = np.nan\n",
    "    cube_c.data = ndi.median_filter(cube_c.data, size=(window_size, 1, 1))\n",
    "    return cube_c\n"
   ]
  },
  {
   "cell_type": "code",
   "execution_count": null,
   "metadata": {
    "pycharm": {
     "name": "#%%\n"
    }
   },
   "outputs": [],
   "source": [
    "specP_cont = get_median_continuum(specP, 31)\n",
    "specE_cont = get_median_continuum(specE, 31)"
   ]
  },
  {
   "cell_type": "code",
   "execution_count": null,
   "metadata": {
    "pycharm": {
     "name": "#%%\n"
    }
   },
   "outputs": [],
   "source": [
    "fig, ax = plt.subplots(figsize=(12, 4))\n",
    "specP_cont.plot(ax=ax, label=\"Peter\")\n",
    "specE_cont.plot(ax=ax, label=\"ESO\")\n",
    "ax.legend()\n",
    "ax.set(\n",
    "    yscale=\"log\",\n",
    ")\n",
    "...;"
   ]
  },
  {
   "cell_type": "code",
   "execution_count": null,
   "metadata": {
    "lines_to_next_cell": 2,
    "pycharm": {
     "name": "#%%\n"
    }
   },
   "outputs": [],
   "source": []
  },
  {
   "cell_type": "markdown",
   "metadata": {
    "pycharm": {
     "name": "#%% md\n"
    }
   },
   "source": [
    "## Make some maps"
   ]
  },
  {
   "cell_type": "code",
   "execution_count": null,
   "metadata": {
    "pycharm": {
     "name": "#%%\n"
    }
   },
   "outputs": [],
   "source": [
    "white_map_P = cubeP.sum(axis=0)\n",
    "white_map_E = cubeE.sum(axis=0)\n",
    "# ha_map_P = cubeP.select_lambda(6555.0, 6573.0).sum(axis=0)\n",
    "# ha_map_E = cubeE.select_lambda(6555.0, 6573.0).sum(axis=0)\n",
    "ha_map_P = cubeP.get_image((6555.0, 6573.0), method=\"sum\", subtract_off=True)\n",
    "ha_map_E = cubeE.get_image((6555.0, 6573.0), method=\"sum\", subtract_off=True)"
   ]
  },
  {
   "cell_type": "code",
   "execution_count": null,
   "metadata": {
    "pycharm": {
     "name": "#%%\n"
    }
   },
   "outputs": [],
   "source": [
    "ha_map_P.shape, ha_map_E.shape"
   ]
  },
  {
   "cell_type": "code",
   "execution_count": null,
   "metadata": {
    "pycharm": {
     "name": "#%%\n"
    }
   },
   "outputs": [],
   "source": [
    "ha_map_E -= ha_map_E.data.min()\n",
    "white_map_E -= white_map_E.data.min()"
   ]
  },
  {
   "cell_type": "code",
   "execution_count": null,
   "metadata": {
    "pycharm": {
     "name": "#%%\n"
    }
   },
   "outputs": [],
   "source": [
    "fig, axes = plt.subplots(2, 3, sharex=\"all\", sharey=\"all\", figsize=(12, 8))\n",
    "ha_map_P.plot(scale=\"sqrt\", ax=axes[0, 0])\n",
    "ha_map_E.plot(scale=\"sqrt\", ax=axes[1, 0])\n",
    "white_map_P.plot(scale=\"log\", ax=axes[0, 1])\n",
    "white_map_E.plot(scale=\"log\", ax=axes[1, 1])\n",
    "(ha_map_P / white_map_P).plot(scale=\"sqrt\", cmap=\"gray_r\", ax=axes[0, 2], vmin=0, vmax=0.15)\n",
    "(ha_map_E / white_map_E).plot(scale=\"sqrt\", cmap=\"gray_r\", ax=axes[1, 2], vmin=0, vmax=0.4)\n",
    "\n",
    "[ax.set(xticks=[], yticks=[]) for ax in axes.flat]\n",
    "fig.tight_layout(pad=0)"
   ]
  },
  {
   "cell_type": "markdown",
   "metadata": {
    "pycharm": {
     "name": "#%% md\n"
    }
   },
   "source": [
    "## Look at particular regions\n",
    "To start with I will use the bowshock ones that I made for Jesus to use for the Spitzer spectra. Later, I should do some that concentrate more on the filaments."
   ]
  },
  {
   "cell_type": "code",
   "execution_count": null,
   "metadata": {
    "pycharm": {
     "name": "#%%\n"
    }
   },
   "outputs": [],
   "source": [
    "region_file = \"ngc346-jesus-icrs.reg\"\n",
    "sky_regions = rg.Regions.read(small_data_path / region_file)"
   ]
  },
  {
   "cell_type": "markdown",
   "metadata": {
    "pycharm": {
     "name": "#%% md\n"
    }
   },
   "source": [
    "Now make a dict keyed by the name of each region. We will keep them as sky coordinates and manage the conversion to pixels at the moment of extracting the spectra."
   ]
  },
  {
   "cell_type": "code",
   "execution_count": null,
   "metadata": {
    "pycharm": {
     "name": "#%%\n"
    }
   },
   "outputs": [],
   "source": [
    "region_dict = {reg.meta[\"label\"]: reg for reg in sky_regions}\n",
    "Table(rows=region_dict.items())"
   ]
  },
  {
   "cell_type": "markdown",
   "metadata": {
    "pycharm": {
     "name": "#%% md\n"
    }
   },
   "source": [
    "Also read in extra regions for use later:"
   ]
  },
  {
   "cell_type": "code",
   "execution_count": null,
   "metadata": {
    "pycharm": {
     "name": "#%%\n"
    }
   },
   "outputs": [],
   "source": [
    "extra_region_dict = {reg.meta[\"label\"]: reg for reg in rg.Regions.read(small_data_path / \"ngc346-extra-icrs.reg\")}\n",
    "Table(rows=extra_region_dict.items())"
   ]
  },
  {
   "cell_type": "code",
   "execution_count": null,
   "metadata": {
    "lines_to_next_cell": 2,
    "pycharm": {
     "name": "#%%\n"
    }
   },
   "outputs": [],
   "source": []
  },
  {
   "cell_type": "code",
   "execution_count": null,
   "metadata": {
    "lines_to_next_cell": 2,
    "pycharm": {
     "name": "#%%\n"
    }
   },
   "outputs": [],
   "source": []
  },
  {
   "cell_type": "markdown",
   "metadata": {
    "pycharm": {
     "name": "#%% md\n"
    }
   },
   "source": [
    "Calculate the fraction of the full spectrum flux that is in the Ha line.  We will use this as a criterion for whether a given pixel is dominated by stars or nebular emission. For example, using a threshold of 0.04."
   ]
  },
  {
   "cell_type": "code",
   "execution_count": null,
   "metadata": {
    "pycharm": {
     "name": "#%%\n"
    }
   },
   "outputs": [],
   "source": [
    "ha_frac_P = ha_map_P / white_map_P\n",
    "ha_frac_E = ha_map_E / white_map_E"
   ]
  },
  {
   "cell_type": "code",
   "execution_count": null,
   "metadata": {
    "pycharm": {
     "name": "#%%\n"
    }
   },
   "outputs": [],
   "source": [
    "fig, ax = plt.subplots(figsize=(8, 8))\n",
    "ha_map_P.plot(ax=ax, zscale=True, cmap=\"gray_r\", title=\"Positions of sample regions\")\n",
    "ax.contourf(ha_frac_P.data, levels=[0.00, 0.01, 0.02, 0.03, 0.04], cmap=\"Greens\")\n",
    "for label, reg in region_dict.items():\n",
    "    is_bg = label.endswith(\"bg\")\n",
    "    linestyle = \"dotted\" if is_bg else \"solid\"\n",
    "    fontweight = \"normal\" if is_bg else \"bold\"\n",
    "    pixreg = reg.to_pixel(ha_map_P.wcs.wcs)\n",
    "    pixreg.plot(ax=ax, facecolor='none', edgecolor='red',\n",
    "                lw=2,\n",
    "\n",
    "                linestyle=linestyle,\n",
    "                )\n",
    "    ax.text(pixreg.center.x, pixreg.center.y, label,\n",
    "            ha=\"center\", va=\"center\", fontsize=\"small\", fontweight=fontweight, color=\"w\")\n",
    "...;"
   ]
  },
  {
   "cell_type": "markdown",
   "metadata": {
    "pycharm": {
     "name": "#%% md\n"
    }
   },
   "source": [
    "The green blobs are have a low Ha fraction and are dominated by the stellar continuum. We could maybe mask them out."
   ]
  },
  {
   "cell_type": "code",
   "execution_count": null,
   "metadata": {
    "pycharm": {
     "name": "#%%\n"
    }
   },
   "outputs": [],
   "source": [
    "fig, ax = plt.subplots(figsize=(8, 8))\n",
    "ha_map_P.plot(ax=ax, zscale=True, cmap=\"gray_r\", title=\"Positions of extra sample regions\")\n",
    "ax.contourf(ha_frac_P.data, levels=[0.00, 0.01, 0.02, 0.03, 0.04], cmap=\"Greens\")\n",
    "for label, reg in extra_region_dict.items():\n",
    "    is_bg = label.endswith(\"bg\")\n",
    "    linestyle = \"dotted\" if is_bg else \"solid\"\n",
    "    fontweight = \"normal\" if is_bg else \"bold\"\n",
    "    pixreg = reg.to_pixel(ha_map_P.wcs.wcs)\n",
    "    pixreg.plot(ax=ax, facecolor='none', edgecolor='c',\n",
    "                lw=2,\n",
    "                linestyle=linestyle,\n",
    "                )\n",
    "    ax.text(pixreg.center.x, pixreg.center.y, label,\n",
    "            ha=\"center\", va=\"center\", fontsize=\"small\", fontweight=fontweight, color=\"w\")\n",
    "...;"
   ]
  },
  {
   "cell_type": "code",
   "execution_count": null,
   "metadata": {
    "pycharm": {
     "name": "#%%\n"
    }
   },
   "outputs": [],
   "source": [
    "def get_spectrum_from_region(\n",
    "        cube: Cube,\n",
    "        region: Union[rg.PixelRegion, rg.SkyRegion],\n",
    "        reduction_method: callable = np.sum,\n",
    "        debug: bool = False,\n",
    ") -> Spectrum:\n",
    "    try:\n",
    "        region_mask = region.to_mask()\n",
    "    except AttributeError:\n",
    "        region_mask = region.to_pixel(cube.wcs.wcs).to_mask()\n",
    "    nv, ny, nx = cube.shape\n",
    "    # Slices into 2D arrays\n",
    "    slices_large, slices_small = region_mask.get_overlap_slices((ny, nx))\n",
    "    if debug:\n",
    "        print('2D slice:', slices_large)\n",
    "    slices_cube = (slice(None, None),) + slices_large\n",
    "    image_mask_large = region_mask.to_image((ny, nx))\n",
    "    image_mask_small = image_mask_large[slices_large]\n",
    "    cube_cutout = cube.data[slices_cube]\n",
    "    cube_cutout[cube.mask[slices_cube]] = 0.0\n",
    "    spec = reduction_method(cube_cutout * image_mask_small[None, :, :], axis=(1, 2))\n",
    "    return Spectrum(wave=cube.wave, data=spec, unit=cube.unit)\n"
   ]
  },
  {
   "cell_type": "markdown",
   "metadata": {
    "pycharm": {
     "name": "#%% md\n"
    }
   },
   "source": [
    "### Separate the nebula from the stars"
   ]
  },
  {
   "cell_type": "code",
   "execution_count": null,
   "metadata": {
    "pycharm": {
     "name": "#%%\n"
    }
   },
   "outputs": [],
   "source": [
    "mask_stars_P = ha_frac_P.data < 0.04\n",
    "mask_stars_E = ha_frac_E.data < 0.04"
   ]
  },
  {
   "cell_type": "markdown",
   "metadata": {
    "pycharm": {
     "name": "#%% md\n"
    }
   },
   "source": [
    "This defines \"star\" pixels as being those where the net continuum-subtracted Ha line flux is less than 0.04 times the bolometric flux of the cube.\n",
    "\n",
    "We can probably convert this into an equivalent width. Something like:"
   ]
  },
  {
   "cell_type": "code",
   "execution_count": null,
   "metadata": {
    "pycharm": {
     "name": "#%%\n"
    }
   },
   "outputs": [],
   "source": [
    "(wave_max - wave_min) * 0.04"
   ]
  },
  {
   "cell_type": "markdown",
   "metadata": {
    "pycharm": {
     "name": "#%% md\n"
    }
   },
   "source": [
    "So that is 190 Angstroms, but this is the equivalent width with respect to the average continuum over the full MUSE range."
   ]
  },
  {
   "cell_type": "markdown",
   "metadata": {
    "pycharm": {
     "name": "#%% md\n"
    }
   },
   "source": [
    "#### What to do about the bright YSO?\n",
    "\n",
    "This has a spectrum that is very different from the more diffuse gas emission, and it is a significant fraction of the total flux in some lines. So, it is probably best to leave it out of the nebular average, so that YSO lines do not show up as absorption in the ratio spectra of the other regions."
   ]
  },
  {
   "cell_type": "code",
   "execution_count": null,
   "metadata": {
    "pycharm": {
     "name": "#%%\n"
    }
   },
   "outputs": [],
   "source": [
    "mask_yso_P = region_dict['YSO'].to_pixel(ha_map_P.wcs.wcs).to_mask().to_image(ha_map_P.data.shape).astype(bool)\n",
    "mask_yso_E = region_dict['YSO'].to_pixel(ha_map_E.wcs.wcs).to_mask().to_image(ha_map_E.data.shape).astype(bool)\n",
    "mask_yso_P"
   ]
  },
  {
   "cell_type": "markdown",
   "metadata": {
    "pycharm": {
     "name": "#%% md\n"
    }
   },
   "source": [
    "#### Save the masks to fits files\n"
   ]
  },
  {
   "cell_type": "code",
   "execution_count": null,
   "metadata": {
    "pycharm": {
     "name": "#%%\n"
    }
   },
   "outputs": [],
   "source": [
    "Image(data=mask_stars_E.astype(int), wcs=ha_frac_E.wcs).write(\n",
    "    small_data_path / \"n346-mask-stars.fits\",\n",
    "    savemask=\"none\",\n",
    ")\n",
    "Image(data=mask_yso_E.astype(int), wcs=ha_frac_E.wcs).write(\n",
    "    small_data_path / \"n346-mask-yso.fits\",\n",
    "    savemask=\"none\",\n",
    ")"
   ]
  },
  {
   "cell_type": "markdown",
   "metadata": {
    "pycharm": {
     "name": "#%% md\n"
    }
   },
   "source": [
    "#### Calculate mean spectra for stars and for diffuse nebula\n",
    "\n",
    "Remember that the cube mask is `True` for invalid pixels"
   ]
  },
  {
   "cell_type": "code",
   "execution_count": null,
   "metadata": {
    "pycharm": {
     "name": "#%%\n"
    }
   },
   "outputs": [],
   "source": [
    "cube_P_neb = cubeP.copy()\n",
    "cube_P_neb.mask = cube_P_neb.mask | mask_stars_P | mask_yso_P\n",
    "spec_mean_P_neb = cube_P_neb.mean(axis=(1, 2))"
   ]
  },
  {
   "cell_type": "code",
   "execution_count": null,
   "metadata": {
    "pycharm": {
     "name": "#%%\n"
    }
   },
   "outputs": [],
   "source": [
    "cube_P_yso = cubeP.copy()\n",
    "cube_P_yso.mask = cube_P_yso.mask | mask_stars_P | (~mask_yso_P)\n",
    "spec_mean_P_yso = cube_P_yso.mean(axis=(1, 2))\n",
    "del cube_P_yso"
   ]
  },
  {
   "cell_type": "code",
   "execution_count": null,
   "metadata": {
    "pycharm": {
     "name": "#%%\n"
    }
   },
   "outputs": [],
   "source": [
    "cube_P_stars = cubeP.copy()\n",
    "cube_P_stars.mask = cube_P_stars.mask | (~mask_stars_P)\n",
    "spec_mean_P_stars = cube_P_stars.mean(axis=(1, 2))\n",
    "del cube_P_stars"
   ]
  },
  {
   "cell_type": "code",
   "execution_count": null,
   "metadata": {
    "pycharm": {
     "name": "#%%\n"
    }
   },
   "outputs": [],
   "source": [
    "cube_E_neb = cubeE.copy()\n",
    "cube_E_neb.mask = cube_E_neb.mask | mask_stars_E | mask_yso_E\n",
    "spec_mean_E_neb = cube_E_neb.mean(axis=(1, 2))"
   ]
  },
  {
   "cell_type": "code",
   "execution_count": null,
   "metadata": {
    "pycharm": {
     "name": "#%%\n"
    }
   },
   "outputs": [],
   "source": [
    "cube_E_yso = cubeE.copy()\n",
    "cube_E_yso.mask = cube_E_yso.mask | mask_stars_E | (~mask_yso_E)\n",
    "spec_mean_E_yso = cube_E_yso.mean(axis=(1, 2))\n",
    "del cube_E_yso"
   ]
  },
  {
   "cell_type": "code",
   "execution_count": null,
   "metadata": {
    "pycharm": {
     "name": "#%%\n"
    }
   },
   "outputs": [],
   "source": [
    "cube_E_stars = cubeE.copy()\n",
    "cube_E_stars.mask = cube_E_stars.mask | (~mask_stars_E)\n",
    "spec_mean_E_stars = cube_E_stars.mean(axis=(1, 2))\n",
    "del cube_E_stars"
   ]
  },
  {
   "cell_type": "markdown",
   "metadata": {
    "pycharm": {
     "name": "#%% md\n"
    }
   },
   "source": [
    "I have deleted all the cubes except the nebula ones after use in order not to use too much memory. Previously I was getting past 64GB,  which is not too healthy. Now it is at only (!!) 38GB, which fits comfortably in RAM on my laptop"
   ]
  },
  {
   "cell_type": "markdown",
   "metadata": {
    "pycharm": {
     "name": "#%% md\n"
    }
   },
   "source": [
    "Now repeat the graphs that compare Peter with ESO, but this time for the nebula and stars separately"
   ]
  },
  {
   "cell_type": "code",
   "execution_count": null,
   "metadata": {
    "pycharm": {
     "name": "#%%\n"
    }
   },
   "outputs": [],
   "source": [
    "fig, axes = plt.subplots(n_sections, 1, figsize=(12, 2 * n_sections))\n",
    "for section_P, section_E, ax in zip(\n",
    "        [spec_mean_P_neb.subspec(w0, w0 + d_wave) for w0 in start_waves],\n",
    "        [avratio * spec_mean_E_neb.subspec(w0, w0 + d_wave) for w0 in start_waves],\n",
    "        axes\n",
    "):\n",
    "    (section_P / np.median(section_P.data)).plot(ax=ax, label='Peter')\n",
    "    (section_E / np.median(section_E.data)).plot(ax=ax, label='ESO')\n",
    "    # Put a finer wavelength grid with lines every 10 AA\n",
    "    ax.minorticks_on()\n",
    "    ax.grid(which='minor', axis='x', color='y', lw=0.5, alpha=0.5)\n",
    "    ax.set(ylim=[0.8, 1.2], ylabel=\"\", xlabel=\"\")\n",
    "axes[0].set_title(\"Peter cube versus ESO cube: Nebular spectrum\")\n",
    "axes[0].legend()\n",
    "fig.tight_layout()\n",
    "fig.savefig('peter-eso-comparison-spectra-nebula-mean.pdf')"
   ]
  },
  {
   "cell_type": "code",
   "execution_count": null,
   "metadata": {
    "pycharm": {
     "name": "#%%\n"
    }
   },
   "outputs": [],
   "source": [
    "fig, axes = plt.subplots(n_sections, 1, figsize=(12, 2 * n_sections))\n",
    "for section_P, section_E, ax in zip(\n",
    "        [spec_mean_P_stars.subspec(w0, w0 + d_wave) for w0 in start_waves],\n",
    "        [avratio * spec_mean_E_stars.subspec(w0, w0 + d_wave) for w0 in start_waves],\n",
    "        axes\n",
    "):\n",
    "    (section_P / np.median(section_P.data)).plot(ax=ax, label='Peter')\n",
    "    (section_E / np.median(section_E.data)).plot(ax=ax, label='ESO')\n",
    "    # Put a finer wavelength grid with lines every 10 AA\n",
    "    ax.minorticks_on()\n",
    "    ax.grid(which='minor', axis='x', color='y', lw=0.5, alpha=0.5)\n",
    "    ax.set(ylim=[0.8, 1.2], ylabel=\"\", xlabel=\"\")\n",
    "axes[0].set_title(\"Peter cube versus ESO cube: Star spectrum\")\n",
    "axes[0].legend()\n",
    "fig.tight_layout()\n",
    "fig.savefig('peter-eso-comparison-spectra-star-mean.pdf')"
   ]
  },
  {
   "cell_type": "code",
   "execution_count": null,
   "metadata": {
    "pycharm": {
     "name": "#%%\n"
    }
   },
   "outputs": [],
   "source": [
    "fig, axes = plt.subplots(n_sections, 1, figsize=(12, 2 * n_sections))\n",
    "for section_P, section_E, ax in zip(\n",
    "        [spec_mean_P_yso.subspec(w0, w0 + d_wave) for w0 in start_waves],\n",
    "        [avratio * spec_mean_E_yso.subspec(w0, w0 + d_wave) for w0 in start_waves],\n",
    "        axes\n",
    "):\n",
    "    (section_P / np.median(section_P.data)).plot(ax=ax, label='Peter')\n",
    "    (section_E / np.median(section_E.data)).plot(ax=ax, label='ESO')\n",
    "    # Put a finer wavelength grid with lines every 10 AA\n",
    "    ax.minorticks_on()\n",
    "    ax.grid(which='minor', axis='x', color='y', linewidth=0.5, alpha=0.5)\n",
    "    ax.set(ylim=[0.8, 1.2], ylabel=\"\", xlabel=\"\")\n",
    "axes[0].set_title(\"Peter cube versus ESO cube: YSO spectrum\")\n",
    "axes[0].legend()\n",
    "fig.tight_layout()\n",
    "fig.savefig('peter-eso-comparison-spectra-yso-mean.pdf')"
   ]
  },
  {
   "cell_type": "markdown",
   "metadata": {
    "pycharm": {
     "name": "#%% md\n"
    }
   },
   "source": [
    "### Test the function for obtaining 1D spectrum from region\n",
    "\n",
    "Use the bow shock region as an example"
   ]
  },
  {
   "cell_type": "code",
   "execution_count": null,
   "metadata": {
    "pycharm": {
     "name": "#%%\n"
    }
   },
   "outputs": [],
   "source": [
    "specBS = get_spectrum_from_region(cube_P_neb, region_dict['BS'], reduction_method=np.nanmean, debug=True)\n",
    "specBSbg = get_spectrum_from_region(cube_P_neb, region_dict['BS bg'], reduction_method=np.nanmean, debug=True)"
   ]
  },
  {
   "cell_type": "markdown",
   "metadata": {
    "pycharm": {
     "name": "#%% md\n"
    }
   },
   "source": [
    "Compare with the slow way of doing it"
   ]
  },
  {
   "cell_type": "code",
   "execution_count": null,
   "metadata": {
    "pycharm": {
     "name": "#%%\n"
    }
   },
   "outputs": [],
   "source": [
    "\n",
    "def get_spectrum_from_region_slow(\n",
    "        cube: Cube,\n",
    "        region: Union[rg.PixelRegion, rg.SkyRegion],\n",
    ") -> Spectrum:\n",
    "    \"\"\"Simpler but slower algorithm that simply multiplies cube by region mask and then does the reduction\"\"\"\n",
    "    try:\n",
    "        region_mask = region.to_mask()\n",
    "    except AttributeError:\n",
    "        region_mask = region.to_pixel(cube.wcs.wcs).to_mask()\n",
    "\n",
    "    nv, ny, nx = cube.shape\n",
    "    image_mask_large = region_mask.to_image((ny, nx))\n",
    "    return (cube * image_mask_large).mean(axis=(1, 2)) * (ny * nx) / np.sum(image_mask_large)\n"
   ]
  },
  {
   "cell_type": "code",
   "execution_count": null,
   "metadata": {
    "pycharm": {
     "name": "#%%\n"
    }
   },
   "outputs": [],
   "source": [
    "specBS_2 = get_spectrum_from_region_slow(cube_P_neb, region_dict['BS'])\n",
    "# specBSbg_2 = get_spectrum_from_region_slow(cube_P_neb, region_dict['BS bg'])"
   ]
  },
  {
   "cell_type": "code",
   "execution_count": null,
   "metadata": {
    "pycharm": {
     "name": "#%%\n"
    }
   },
   "outputs": [],
   "source": [
    "fig, ax = plt.subplots()\n",
    "(specBS_2 / specBS).plot()\n",
    "ax.set(ylim=[0.85, 1.15])"
   ]
  },
  {
   "cell_type": "markdown",
   "metadata": {
    "pycharm": {
     "name": "#%% md\n"
    }
   },
   "source": [
    "Strangely, the ratio is a bit larger than unity. Also, it shows a very slight reduction in the blue"
   ]
  },
  {
   "cell_type": "code",
   "execution_count": null,
   "metadata": {
    "pycharm": {
     "name": "#%%\n"
    }
   },
   "outputs": [],
   "source": [
    "fig, ax = plt.subplots(figsize=(12, 6))\n",
    "specBS.plot()\n",
    "specBSbg.plot()\n",
    "(specBS - specBSbg).plot()\n",
    "ax.set(yscale='log', ylim=[1e0, 1e5])"
   ]
  },
  {
   "cell_type": "code",
   "execution_count": null,
   "metadata": {
    "pycharm": {
     "name": "#%%\n"
    }
   },
   "outputs": [],
   "source": [
    "fig, ax = plt.subplots(figsize=(12, 6))\n",
    "(specBS - specBSbg).plot()\n",
    "ax.set(yscale='linear', ylim=[-10, 100], xlim=[4600, 5200])"
   ]
  },
  {
   "cell_type": "code",
   "execution_count": null,
   "metadata": {
    "pycharm": {
     "name": "#%%\n"
    }
   },
   "outputs": [],
   "source": [
    "fig, ax = plt.subplots(figsize=(12, 6))\n",
    "(specBS / specBSbg).plot()\n",
    "ax.set(yscale='linear', ylim=[0.95, 1.1], xlim=[4600, 5200])"
   ]
  },
  {
   "cell_type": "code",
   "execution_count": null,
   "metadata": {
    "pycharm": {
     "name": "#%%\n"
    }
   },
   "outputs": [],
   "source": [
    "fig, ax = plt.subplots(figsize=(12, 6))\n",
    "(specBS / spec_mean_P_neb).plot()\n",
    "(specBSbg / spec_mean_P_neb).plot()\n",
    "\n",
    "ax.set(yscale='linear', ylim=[0.7, 1.1], xlim=[7100, 7400])"
   ]
  },
  {
   "cell_type": "markdown",
   "metadata": {
    "pycharm": {
     "name": "#%% md\n"
    }
   },
   "source": [
    "So dividing by the mean nebula does seem  to work after all.  We will try it again below"
   ]
  },
  {
   "cell_type": "markdown",
   "metadata": {
    "pycharm": {
     "name": "#%% md\n"
    }
   },
   "source": [
    "### Try doing the median continuum"
   ]
  },
  {
   "cell_type": "code",
   "execution_count": null,
   "metadata": {
    "pycharm": {
     "name": "#%%\n"
    }
   },
   "outputs": [],
   "source": [
    "specBS_cont = get_median_continuum(specBS, 31)\n",
    "specBSbg_cont = get_median_continuum(specBSbg, 31)"
   ]
  },
  {
   "cell_type": "code",
   "execution_count": null,
   "metadata": {
    "pycharm": {
     "name": "#%%\n"
    }
   },
   "outputs": [],
   "source": [
    "fig, ax = plt.subplots(figsize=(12, 6))\n",
    "specBS.plot()\n",
    "specBSbg.plot()\n",
    "specBS_cont.plot()\n",
    "specBSbg_cont.plot()\n",
    "\n",
    "ax.set(yscale='linear', ylim=[0, 500])"
   ]
  },
  {
   "cell_type": "code",
   "execution_count": null,
   "metadata": {
    "lines_to_next_cell": 2,
    "pycharm": {
     "name": "#%%\n"
    }
   },
   "outputs": [],
   "source": []
  },
  {
   "cell_type": "code",
   "execution_count": null,
   "metadata": {
    "lines_to_next_cell": 2,
    "pycharm": {
     "name": "#%%\n"
    }
   },
   "outputs": [],
   "source": []
  },
  {
   "cell_type": "markdown",
   "metadata": {
    "pycharm": {
     "name": "#%% md\n"
    }
   },
   "source": [
    "### Repeat for the ESO spectrum"
   ]
  },
  {
   "cell_type": "code",
   "execution_count": null,
   "metadata": {
    "pycharm": {
     "name": "#%%\n"
    }
   },
   "outputs": [],
   "source": [
    "specBS_E = get_spectrum_from_region(cube_E_neb, region_dict['BS'], reduction_method=np.nanmean, debug=True)\n",
    "specBSbg_E = get_spectrum_from_region(cube_E_neb, region_dict['BS bg'], reduction_method=np.nanmean, debug=True)"
   ]
  },
  {
   "cell_type": "code",
   "execution_count": null,
   "metadata": {
    "pycharm": {
     "name": "#%%\n"
    }
   },
   "outputs": [],
   "source": [
    "fig, ax = plt.subplots(figsize=(12, 6))\n",
    "specBS_E.plot(label='ESO BS')\n",
    "specBSbg_E.plot(label='ESO BS bg')\n",
    "specBS.plot(label='Peter BS')\n",
    "specBSbg.plot(label='Peter BS bg')\n",
    "# (specBS_E - specBSbg_E).plot()\n",
    "ax.legend()\n",
    "ax.set(yscale='log', ylim=[1e0, 1e5])"
   ]
  },
  {
   "cell_type": "code",
   "execution_count": null,
   "metadata": {
    "lines_to_next_cell": 2,
    "pycharm": {
     "name": "#%%\n"
    }
   },
   "outputs": [],
   "source": []
  },
  {
   "cell_type": "code",
   "execution_count": null,
   "metadata": {
    "pycharm": {
     "name": "#%%\n"
    }
   },
   "outputs": [],
   "source": [
    "specBS_E_cont = get_median_continuum(specBS_E, 31)\n",
    "specBSbg_E_cont = get_median_continuum(specBSbg_E, 31)"
   ]
  },
  {
   "cell_type": "code",
   "execution_count": null,
   "metadata": {
    "pycharm": {
     "name": "#%%\n"
    }
   },
   "outputs": [],
   "source": [
    "fig, ax = plt.subplots(figsize=(12, 6))\n",
    "specBS_E.plot()\n",
    "specBSbg_E.plot()\n",
    "specBS_E_cont.plot()\n",
    "specBSbg_E_cont.plot()\n",
    "\n",
    "ax.set(yscale='linear', ylim=[0, 100])"
   ]
  },
  {
   "cell_type": "code",
   "execution_count": null,
   "metadata": {
    "pycharm": {
     "name": "#%%\n"
    }
   },
   "outputs": [],
   "source": [
    "fig, ax = plt.subplots(figsize=(12, 6))\n",
    "((specBS_E - specBS_E_cont) - (specBSbg_E - specBSbg_E_cont)).plot()\n",
    "((specBS - specBS_cont) - (specBSbg - specBSbg_cont) + 60).plot()\n",
    "((specBSbg_E - specBSbg_E_cont) - 10).plot()\n",
    "((specBSbg - specBSbg_cont) + 40).plot()\n",
    "ax.set(yscale='linear', ylim=[-20, 100], xlim=[4600, 5200])"
   ]
  },
  {
   "cell_type": "code",
   "execution_count": null,
   "metadata": {
    "pycharm": {
     "name": "#%%\n"
    }
   },
   "outputs": [],
   "source": [
    "fig, ax = plt.subplots(figsize=(12, 6))\n",
    "((specBS_E - specBS_E_cont) - (specBSbg_E - specBSbg_E_cont)).plot()\n",
    "((specBS - specBS_cont) - (specBSbg - specBSbg_cont) + 60).plot()\n",
    "((specBSbg_E - specBSbg_E_cont) - 10).plot()\n",
    "((specBSbg - specBSbg_cont) + 40).plot()\n",
    "ax.set(yscale='linear', ylim=[-20, 100], xlim=[6100, 6900])"
   ]
  },
  {
   "cell_type": "code",
   "execution_count": null,
   "metadata": {
    "pycharm": {
     "name": "#%%\n"
    }
   },
   "outputs": [],
   "source": [
    "fig, ax = plt.subplots(figsize=(12, 6))\n",
    "((specBS_E - specBS_E_cont) - (specBSbg_E - specBSbg_E_cont)).plot()\n",
    "((specBS - specBS_cont) - (specBSbg - specBSbg_cont) + 60).plot()\n",
    "((specBSbg_E - specBSbg_E_cont) - 10).plot()\n",
    "((specBSbg - specBSbg_cont) + 40).plot()\n",
    "ax.minorticks_on()\n",
    "ax.set(yscale='linear', ylim=[-20, 100], xlim=[7100, 7400])"
   ]
  },
  {
   "cell_type": "markdown",
   "metadata": {
    "pycharm": {
     "name": "#%% md\n"
    }
   },
   "source": [
    "### Extract the spectra from all the regions"
   ]
  },
  {
   "cell_type": "code",
   "execution_count": null,
   "metadata": {
    "pycharm": {
     "name": "#%%\n"
    }
   },
   "outputs": [],
   "source": [
    "spec_dict_P_neb = {\n",
    "    label: get_spectrum_from_region(cube_P_neb, reg, reduction_method=np.nanmean)\n",
    "    for label, reg in region_dict.items()\n",
    "}\n",
    "spec_dict_extra_P_neb = {\n",
    "    label: get_spectrum_from_region(cube_P_neb, reg, reduction_method=np.nanmean)\n",
    "    for label, reg in extra_region_dict.items()\n",
    "}"
   ]
  },
  {
   "cell_type": "code",
   "execution_count": null,
   "metadata": {
    "pycharm": {
     "name": "#%%\n"
    }
   },
   "outputs": [],
   "source": [
    "spec_dict_E_neb = {\n",
    "    label: get_spectrum_from_region(cube_E_neb, reg, reduction_method=np.nanmean)\n",
    "    for label, reg in region_dict.items()\n",
    "}\n",
    "spec_dict_extra_E_neb = {\n",
    "    label: get_spectrum_from_region(cube_E_neb, reg, reduction_method=np.nanmean)\n",
    "    for label, reg in extra_region_dict.items()\n",
    "}"
   ]
  },
  {
   "cell_type": "code",
   "execution_count": null,
   "metadata": {
    "pycharm": {
     "name": "#%%\n"
    }
   },
   "outputs": [],
   "source": [
    "fig, ax = plt.subplots(figsize=(12, 8))\n",
    "for label, spec in spec_dict_P_neb.items():\n",
    "    if label.endswith(\" bg\"):\n",
    "        lw = 1\n",
    "    else:\n",
    "        lw = 2\n",
    "    ratio = spec / spec_mean_P_neb\n",
    "    norm = np.median(ratio.data)\n",
    "    (ratio / norm).plot(label=label, linewidth=lw)\n",
    "ax.legend(ncol=5)\n",
    "ax.set(ylim=[0.5, 1.5])\n",
    "...;"
   ]
  },
  {
   "cell_type": "code",
   "execution_count": null,
   "metadata": {
    "pycharm": {
     "name": "#%%\n"
    }
   },
   "outputs": [],
   "source": [
    "colors = cmr.take_cmap_colors(\n",
    "    'cmr.ember', len(spec_dict_extra_P_neb) // 2, cmap_range=(0.25, 0.95), return_fmt='hex')\n",
    "\n",
    "fig, ax = plt.subplots(figsize=(12, 8))\n",
    "for i, (label, spec) in enumerate(spec_dict_extra_P_neb.items()):\n",
    "    if label.endswith(\" bg\"):\n",
    "        lw = 1\n",
    "    else:\n",
    "        lw = 4\n",
    "    ratio = spec / spec_mean_P_neb\n",
    "    norm = np.median(ratio.data)\n",
    "    (ratio).plot(label=label, linewidth=lw, color=colors[i // 2], alpha=0.6)\n",
    "    # (ratio / norm).plot(label=label, linewidth=lw)\n",
    "ax.legend(ncol=4)\n",
    "ax.set(ylim=[0., 2.5])\n",
    "...;"
   ]
  },
  {
   "cell_type": "code",
   "execution_count": null,
   "metadata": {
    "pycharm": {
     "name": "#%%\n"
    }
   },
   "outputs": [],
   "source": [
    "source_regions = set(s.split()[0] for s in region_dict.keys())\n",
    "source_regions"
   ]
  },
  {
   "cell_type": "code",
   "execution_count": null,
   "metadata": {
    "pycharm": {
     "name": "#%%\n"
    }
   },
   "outputs": [],
   "source": [
    "source_regions_extra = set(s.split()[0] for s in extra_region_dict.keys())\n",
    "source_regions_extra"
   ]
  },
  {
   "cell_type": "markdown",
   "metadata": {
    "pycharm": {
     "name": "#%% md\n"
    }
   },
   "source": [
    "Combining the two sets uses the `|` operator, rather than `+`"
   ]
  },
  {
   "cell_type": "code",
   "execution_count": null,
   "metadata": {
    "pycharm": {
     "name": "#%%\n"
    }
   },
   "outputs": [],
   "source": [
    "source_regions | source_regions_extra"
   ]
  },
  {
   "cell_type": "markdown",
   "metadata": {
    "pycharm": {
     "name": "#%% md\n"
    }
   },
   "source": [
    "Nominal systemic velocity in km/s"
   ]
  },
  {
   "cell_type": "code",
   "execution_count": null,
   "metadata": {
    "pycharm": {
     "name": "#%%\n"
    }
   },
   "outputs": [],
   "source": [
    "v_sys = 170.0"
   ]
  },
  {
   "cell_type": "markdown",
   "metadata": {
    "pycharm": {
     "name": "#%% md\n"
    }
   },
   "source": [
    "#### Plot per-region raw spectra for Peter cube"
   ]
  },
  {
   "cell_type": "code",
   "execution_count": null,
   "metadata": {
    "pycharm": {
     "name": "#%%\n"
    }
   },
   "outputs": [],
   "source": [
    "fig, axes = plt.subplots(n_sections, 1, figsize=(12, 2 * n_sections))\n",
    "for w0, ax in zip(start_waves, axes):\n",
    "    section_mean = spec_mean_P_neb.subspec(w0, w0 + d_wave)\n",
    "    section_mean_stars = spec_mean_P_stars.subspec(w0, w0 + d_wave)\n",
    "    shift = 0.0\n",
    "    for label in source_regions:\n",
    "        spec = spec_dict_P_neb[label]  #- spec_dict_P_neb[label + \" bg\"]\n",
    "        section_reg = spec.subspec(w0, w0 + d_wave)\n",
    "        ratio = section_reg  #/ section_mean\n",
    "        norm = np.median(ratio.data)\n",
    "        ((ratio / norm) + shift).plot(ax=ax, label=label, linewidth=2, alpha=0.6)\n",
    "        shift += 0.1\n",
    "    # Mean spectrum of the nebula\n",
    "    norm = np.median(section_mean.data)\n",
    "    ((section_mean / norm) + shift).plot(ax=ax, label=\"mean nebula\", linewidth=3, color=\"k\")\n",
    "    # Mean spectrum of the stars\n",
    "    norm = np.median(section_mean_stars.data)\n",
    "    ((section_mean_stars / norm) - 0.1).plot(ax=ax, label=\"mean stars\", linewidth=3, color=\"k\", alpha=0.3)\n",
    "    # Indicator for rest-to-observed wavelength transformation\n",
    "    w1 = w0 + 0.9 * d_wave\n",
    "    w2 = w1 * (1.0 + v_sys / 3e5)\n",
    "    ax.plot([w1, w2], [0.7, 0.7], color='m', lw=5, solid_capstyle='butt')\n",
    "    ax.text(w2, 0.7, f\"  {v_sys:.0f} km/s\", ha='left', va='center')\n",
    "\n",
    "    # Put a finer wavelength grid with lines every 10 AA\n",
    "    ax.minorticks_on()\n",
    "    ax.grid(which='minor', axis='x', color='y', lw=0.5, alpha=0.5)\n",
    "    ax.set(\n",
    "        ylim=[0.6, 1.7],\n",
    "        # yscale=\"log\",\n",
    "        ylabel=\"\", xlabel=\"\")\n",
    "axes[0].set_title(\"Peter cube, mean raw spectrum by nebular region, plus mean spectrum of gas and of stars\")\n",
    "axes[0].legend(ncol=7, fontsize=\"x-small\", loc=\"lower left\")\n",
    "axes[-1].set(\n",
    "    xlabel='Observed wavelength, Angstrom',\n",
    ")\n",
    "fig.tight_layout()"
   ]
  },
  {
   "cell_type": "code",
   "execution_count": null,
   "metadata": {
    "pycharm": {
     "name": "#%%\n"
    }
   },
   "outputs": [],
   "source": [
    "fig.savefig(\"peter-region-strip-spectra.pdf\")"
   ]
  },
  {
   "cell_type": "markdown",
   "metadata": {
    "pycharm": {
     "name": "#%% md\n"
    }
   },
   "source": [
    "This shows lots of absorption features, which I do not think are real. Later, we try dividing by  the mean spectrum, which works very well for eliminating the majority of these,  but it would still be good to understand them and see if they can  be removed cleanly.\n",
    "\n",
    "Here are some observations and ideas:\n",
    "\n",
    "1. In the blue region, the strongest observed absorptions seem to coincide with telluric atmospheric absorption lines that I see in sky models. For  instance, the trio at 5166, 5172, 5183. This suggests an under-correction for the telluric absorption.\n",
    "2. In the redder regions, the observed absorption features correspond closely to *emission* lines in the night sky spectrum. For example at 7240, 7246. Or 7401, or 7523. This suggests an *over*-correction for the night sky emission.\n",
    "3. There are also some apparent observed emission features, such as the hedgehog pattern at 7600–7670, which corresponds to the O_2 absorption A-band. This suggests an over-correction for telluric absorption.\n"
   ]
  },
  {
   "cell_type": "code",
   "execution_count": null,
   "metadata": {
    "pycharm": {
     "name": "#%%\n"
    }
   },
   "outputs": [],
   "source": [
    "fig, axes = plt.subplots(n_sections, 1, figsize=(12, 2 * n_sections))\n",
    "for w0, ax in zip(start_waves, axes):\n",
    "    section_mean = spec_mean_P_neb.subspec(w0, w0 + d_wave)\n",
    "    section_mean_stars = spec_mean_P_stars.subspec(w0, w0 + d_wave)\n",
    "    shift = 0.0\n",
    "    for label in source_regions_extra:\n",
    "        spec = spec_dict_extra_P_neb[label]  #- spec_dict_extra_P_neb[label + \" bg\"]\n",
    "        section_reg = spec.subspec(w0, w0 + d_wave)\n",
    "        ratio = section_reg  #/ section_mean\n",
    "        norm = np.median(ratio.data)\n",
    "        ((ratio / norm) + shift).plot(ax=ax, label=label, linewidth=2, alpha=0.6)\n",
    "        shift += 0.05\n",
    "    # Mean spectrum of the nebula\n",
    "    norm = np.median(section_mean.data)\n",
    "    ((section_mean / norm) + shift).plot(ax=ax, label=\"mean nebula\", linewidth=3, color=\"k\")\n",
    "    # Mean spectrum of the stars\n",
    "    # norm = np.median(section_mean_stars.data)\n",
    "    # ((section_mean_stars/norm) - 0.1).plot(ax=ax, label=\"mean stars\", linewidth=3, color=\"k\", alpha=0.3)\n",
    "    # Indicator for rest-to-observed wavelength transformation\n",
    "    w1 = w0 + 0.9 * d_wave\n",
    "    w2 = w1 * (1.0 + v_sys / 3e5)\n",
    "    ax.plot([w1, w2], [0.7, 0.7], color='m', lw=5, solid_capstyle='butt')\n",
    "    ax.text(w2, 0.7, f\"  {v_sys:.0f} km/s\", ha='left', va='center')\n",
    "\n",
    "    # Put a finer wavelength grid with lines every 10 AA\n",
    "    ax.minorticks_on()\n",
    "    ax.grid(which='minor', axis='x', color='y', lw=0.5, alpha=0.5)\n",
    "    ax.set(\n",
    "        ylim=[0.6, 1.7],\n",
    "        # yscale=\"log\",\n",
    "        ylabel=\"\", xlabel=\"\")\n",
    "axes[0].set_title(\"Peter cube, mean raw spectrum by nebular region, plus mean spectrum of gas and of stars\")\n",
    "axes[0].legend(ncol=5, fontsize=\"x-small\", loc=\"lower left\")\n",
    "axes[-1].set(\n",
    "    xlabel='Observed wavelength, Angstrom',\n",
    ")\n",
    "fig.tight_layout()"
   ]
  },
  {
   "cell_type": "code",
   "execution_count": null,
   "metadata": {
    "pycharm": {
     "name": "#%%\n"
    }
   },
   "outputs": [],
   "source": [
    "fig.savefig(\"peter-region-extras-strip-spectra.pdf\")"
   ]
  },
  {
   "cell_type": "markdown",
   "metadata": {
    "pycharm": {
     "name": "#%% md\n"
    }
   },
   "source": []
  },
  {
   "cell_type": "markdown",
   "metadata": {
    "pycharm": {
     "name": "#%% md\n"
    }
   },
   "source": [
    "And do it again but for all regions except the YSO and with the lines on top of each other"
   ]
  },
  {
   "cell_type": "code",
   "execution_count": null,
   "metadata": {
    "pycharm": {
     "name": "#%%\n"
    }
   },
   "outputs": [],
   "source": [
    "all_region_dict = {**region_dict, **extra_region_dict}\n",
    "all_spec_dict_P_neb = {**spec_dict_P_neb, **spec_dict_extra_P_neb}"
   ]
  },
  {
   "cell_type": "code",
   "execution_count": null,
   "metadata": {
    "pycharm": {
     "name": "#%%\n"
    }
   },
   "outputs": [],
   "source": [
    "all_source_regions = (source_regions | source_regions_extra) - {'YSO'}\n",
    "all_source_regions"
   ]
  },
  {
   "cell_type": "code",
   "execution_count": null,
   "metadata": {
    "pycharm": {
     "name": "#%%\n"
    }
   },
   "outputs": [],
   "source": [
    "region_types = set(_.split('-')[0] for _ in all_source_regions)\n",
    "region_types"
   ]
  },
  {
   "cell_type": "code",
   "execution_count": null,
   "metadata": {
    "pycharm": {
     "name": "#%%\n"
    }
   },
   "outputs": [],
   "source": [
    "color_dict = {'BS': \"r\", 'FIL': 'g', 'GLOB': 'b', 'MIP': 'm', 'NEUT': 'c'}"
   ]
  },
  {
   "cell_type": "code",
   "execution_count": null,
   "metadata": {
    "pycharm": {
     "name": "#%%\n"
    }
   },
   "outputs": [],
   "source": [
    "n_col, n_row = 5, 12\n",
    "start_waves, stop_waves, d_wave = split_spectrum(cubeP, n_col * n_row)\n",
    "\n",
    "fig, axes = plt.subplots(n_row, n_col, figsize=(12, 2 * n_row), sharey=\"all\")\n",
    "for w0, w1, ax in zip(start_waves, stop_waves, axes.flat):\n",
    "    section_mean = spec_mean_P_neb.subspec(w0, w1)\n",
    "    section_mean_stars = spec_mean_P_stars.subspec(w0, w1)\n",
    "    spec_list = []\n",
    "    for label in all_source_regions:\n",
    "        spec = all_spec_dict_P_neb[label]  #- all_spec_dict_P_neb[label + \" bg\"]\n",
    "        sub_spec = spec.subspec(w0, w1)\n",
    "        norm = np.median(sub_spec.data)\n",
    "        color = color_dict[label.split('-')[0]]\n",
    "        spec_list.append(sub_spec.data.data / norm)\n",
    "        (sub_spec / norm).plot(ax=ax, label=label, linewidth=0.5, alpha=0.6, color=color)\n",
    "    # Mean spectrum of the nebula\n",
    "    norm = np.median(section_mean.data)\n",
    "    ((section_mean / norm)).plot(ax=ax, label=\"mean nebula\", linewidth=0.5, color=\"k\")\n",
    "    # Find std deviation between regions\n",
    "    spec_stack = np.stack(spec_list)\n",
    "    spec_std = np.nanstd(spec_stack, axis=0)\n",
    "    spec_mean = np.nanmean(spec_stack, axis=0)\n",
    "    ax.fill_between(section_mean.wave.coord(), 0.9 + spec_std / spec_mean, 0.9, color='y')\n",
    "\n",
    "    # # Indicator for rest-to-observed wavelength transformation\n",
    "    ww1 = w0 + 0.9 * d_wave\n",
    "    ww2 = ww1 * (1.0 + v_sys / 3e5)\n",
    "    ax.plot([ww1, ww2], [0.95, 0.95], color='m', lw=5, solid_capstyle='butt')\n",
    "    # ax.text(w2, 0.7, f\"  {v_sys:.0f} km/s\", ha='left', va='center')\n",
    "\n",
    "    ax.xaxis.set_major_locator(MaxNLocator(min_n_ticks=1, nbins=2))\n",
    "    # Put a finer wavelength grid with lines every 10 AA\n",
    "    ax.minorticks_on()\n",
    "    ax.grid(which='minor', axis='x', color='y', lw=0.5, alpha=0.5)\n",
    "    ax.set(\n",
    "        ylim=[0.85, 1.15],\n",
    "        # yscale=\"log\",\n",
    "        ylabel=\"\", xlabel=\"\")\n",
    "axes[0, n_col // 2].set_title(\"Peter cube, mean raw spectrum by nebular region, plus mean spectrum of gas\")\n",
    "# axes[0].legend(ncol=5, fontsize=\"x-small\", loc=\"lower left\")\n",
    "axes[-1, 0].set(\n",
    "    xlabel='Observed wavelength, Angstrom',\n",
    ")\n",
    "fig.tight_layout(w_pad=0.05)"
   ]
  },
  {
   "cell_type": "code",
   "execution_count": null,
   "metadata": {
    "pycharm": {
     "name": "#%%\n"
    }
   },
   "outputs": [],
   "source": [
    "fig.savefig(\"peter-all-region-strip-spectra.pdf\")"
   ]
  },
  {
   "cell_type": "code",
   "execution_count": null,
   "metadata": {
    "pycharm": {
     "name": "#%%\n"
    }
   },
   "outputs": [],
   "source": [
    "np.info(section_mean.wave.coord)"
   ]
  },
  {
   "cell_type": "code",
   "execution_count": null,
   "metadata": {
    "pycharm": {
     "name": "#%%\n"
    }
   },
   "outputs": [],
   "source": [
    "locator = MaxNLocator(min_n_ticks=1, nbins=2)"
   ]
  },
  {
   "cell_type": "code",
   "execution_count": null,
   "metadata": {
    "pycharm": {
     "name": "#%%\n"
    }
   },
   "outputs": [],
   "source": [
    "for w0, w1 in zip(start_waves, stop_waves):\n",
    "    print(locator.tick_values(w0, w1))"
   ]
  },
  {
   "cell_type": "markdown",
   "metadata": {
    "pycharm": {
     "name": "#%% md\n"
    }
   },
   "source": [
    "#### Plot per-region raw spectra for ESO cube"
   ]
  },
  {
   "cell_type": "code",
   "execution_count": null,
   "metadata": {
    "pycharm": {
     "name": "#%%\n"
    }
   },
   "outputs": [],
   "source": [
    "start_waves, stop_waves, d_wave = split_spectrum(cubeE, n_sections)\n",
    "\n",
    "fig, axes = plt.subplots(n_sections, 1, figsize=(12, 2 * n_sections))\n",
    "for w0, ax in zip(start_waves, axes):\n",
    "    section_mean = spec_mean_E_neb.subspec(w0, w0 + d_wave)\n",
    "    section_mean_stars = spec_mean_E_stars.subspec(w0, w0 + d_wave)\n",
    "    shift = 0.0\n",
    "    for label in source_regions:\n",
    "        spec = spec_dict_E_neb[label]  #- spec_dict_P_neb[label + \" bg\"]\n",
    "        section_reg = spec.subspec(w0, w0 + d_wave)\n",
    "        ratio = section_reg  #/ section_mean\n",
    "        norm = np.median(ratio.data)\n",
    "        ((ratio / norm) + shift).plot(ax=ax, label=label, linewidth=2, alpha=0.6)\n",
    "        shift += 0.1\n",
    "    # Mean spectrum of the nebula\n",
    "    norm = np.median(section_mean.data)\n",
    "    ((section_mean / norm) + shift).plot(ax=ax, label=\"mean nebula\", linewidth=3, color=\"k\")\n",
    "    # Mean spectrum of the stars\n",
    "    norm = np.median(section_mean_stars.data)\n",
    "    ((section_mean_stars / norm) - 0.1).plot(ax=ax, label=\"mean stars\", linewidth=3, color=\"k\", alpha=0.3)\n",
    "    # Indicator for rest-to-observed wavelength transformation\n",
    "    w1 = w0 + 0.9 * d_wave\n",
    "    w2 = w1 * (1.0 + v_sys / 3e5)\n",
    "    ax.plot([w1, w2], [0.7, 0.7], color='m', lw=5, solid_capstyle='butt')\n",
    "    ax.text(w2, 0.7, f\"  {v_sys:.0f} km/s\", ha='left', va='center')\n",
    "\n",
    "    # Put a finer wavelength grid with lines every 10 AA\n",
    "    ax.minorticks_on()\n",
    "    ax.grid(which='minor', axis='x', color='y', lw=0.5, alpha=0.5)\n",
    "    ax.set(\n",
    "        ylim=[0.6, 1.7],\n",
    "        # yscale=\"log\",\n",
    "        ylabel=\"\", xlabel=\"\")\n",
    "axes[0].set_title(\"ESO cube, mean raw spectrum by nebular region, plus mean spectrum of gas and of stars\")\n",
    "axes[0].legend(ncol=7, fontsize=\"large\", loc=\"lower left\")\n",
    "axes[-1].set(\n",
    "    xlabel='Observed wavelength, Angstrom',\n",
    ")\n",
    "fig.tight_layout()"
   ]
  },
  {
   "cell_type": "code",
   "execution_count": null,
   "metadata": {
    "pycharm": {
     "name": "#%%\n"
    }
   },
   "outputs": [],
   "source": [
    "fig.savefig(\"eso-region-strip-spectra.pdf\")"
   ]
  },
  {
   "cell_type": "markdown",
   "metadata": {
    "pycharm": {
     "name": "#%% md\n"
    }
   },
   "source": [
    "## Continuum-subtracted and BG-subtracted ESO spectra by region"
   ]
  },
  {
   "cell_type": "markdown",
   "metadata": {
    "pycharm": {
     "name": "#%% md\n"
    }
   },
   "source": [
    "Repeat the strip plots that we did previously, except subtracting the median continuum and subtracting the BG region from each source region.  This seems to work much better for the ESO cube than for the Peter cube, at least for the weaker lines"
   ]
  },
  {
   "cell_type": "markdown",
   "metadata": {
    "pycharm": {
     "name": "#%% md\n"
    }
   },
   "source": [
    "### Net BG-subtracted spectrum for each source region"
   ]
  },
  {
   "cell_type": "code",
   "execution_count": null,
   "metadata": {
    "pycharm": {
     "name": "#%%\n"
    }
   },
   "outputs": [],
   "source": [
    "net_spec_dict_E = {\n",
    "    label: spec_dict_E_neb[label] - spec_dict_E_neb[label + ' bg']\n",
    "    for label in source_regions\n",
    "}\n",
    "net_spec_dict_E['YSO'] = spec_mean_E_yso\n",
    "net_spec_dict_E |= {\n",
    "    label: spec_dict_extra_E_neb[label] - spec_dict_extra_E_neb[label + ' bg']\n",
    "    for label in source_regions_extra\n",
    "}\n",
    "net_spec_dict_E |= {'ALL': spec_mean_E_neb, 'STARS': spec_mean_E_stars}"
   ]
  },
  {
   "cell_type": "markdown",
   "metadata": {
    "pycharm": {
     "name": "#%% md\n"
    }
   },
   "source": [
    "We have combined all the spatial regions from the original Jesús group and the extras. TODO Something went wrong with the BG subtraction of the YSO spectrum, so I restored it to the original without subtracting BG."
   ]
  },
  {
   "cell_type": "markdown",
   "metadata": {
    "pycharm": {
     "name": "#%% md\n"
    }
   },
   "source": [
    "### Median-filtered continuum\n",
    "\n",
    "Next, calculate continuum with median filter along wavelength axis. Set the width to 101 pixels   so that we smooth over even the bright lines."
   ]
  },
  {
   "cell_type": "code",
   "execution_count": null,
   "metadata": {
    "pycharm": {
     "name": "#%%\n"
    }
   },
   "outputs": [],
   "source": [
    "n_wav_filter_width = 101\n",
    "n_wav_filter_width * cubeE.wave.get_step()"
   ]
  },
  {
   "cell_type": "code",
   "execution_count": null,
   "metadata": {
    "pycharm": {
     "name": "#%%\n"
    }
   },
   "outputs": [],
   "source": [
    "net_cont_dict_E = {\n",
    "    label: get_median_continuum(spec, n_wav_filter_width)\n",
    "    for label, spec in net_spec_dict_E.items()\n",
    "}"
   ]
  },
  {
   "cell_type": "code",
   "execution_count": null,
   "metadata": {
    "pycharm": {
     "name": "#%%\n"
    }
   },
   "outputs": [],
   "source": [
    "net_cont_dict_E"
   ]
  },
  {
   "cell_type": "markdown",
   "metadata": {
    "pycharm": {
     "name": "#%% md\n"
    }
   },
   "source": [
    "### Continuum-subtracted spectra"
   ]
  },
  {
   "cell_type": "code",
   "execution_count": null,
   "metadata": {
    "pycharm": {
     "name": "#%%\n"
    }
   },
   "outputs": [],
   "source": [
    "net_csub_dict_E = {\n",
    "    label: net_spec_dict_E[label] - net_cont_dict_E[label]\n",
    "    for label in net_spec_dict_E\n",
    "}"
   ]
  },
  {
   "cell_type": "markdown",
   "metadata": {
    "pycharm": {
     "name": "#%% md\n"
    }
   },
   "source": [
    "We now have dictionaries of the net BG-subtracted spectrum of each region and of the median-filtered continuum of each of those, and also the continuum-subtracted spectra (csub)."
   ]
  },
  {
   "cell_type": "markdown",
   "metadata": {
    "pycharm": {
     "name": "#%% md\n"
    }
   },
   "source": [
    "### Types of source region\n",
    "\n",
    "Make function to get the first part of the region label, which specifies its type. Note that the distinction between `FIL` and `GLOB` is a bit debatable."
   ]
  },
  {
   "cell_type": "code",
   "execution_count": null,
   "metadata": {
    "pycharm": {
     "name": "#%%\n"
    }
   },
   "outputs": [],
   "source": [
    "def get_region_type(label):\n",
    "    return label.split('-')[0]"
   ]
  },
  {
   "cell_type": "markdown",
   "metadata": {
    "pycharm": {
     "name": "#%% md\n"
    }
   },
   "source": [
    "Test it by getting the set of all unique region types."
   ]
  },
  {
   "cell_type": "code",
   "execution_count": null,
   "metadata": {
    "pycharm": {
     "name": "#%%\n"
    }
   },
   "outputs": [],
   "source": [
    "set(map(get_region_type, net_cont_dict_E))"
   ]
  },
  {
   "cell_type": "markdown",
   "metadata": {
    "pycharm": {
     "name": "#%% md\n"
    }
   },
   "source": [
    "### Division of full wavelength range into sections\n",
    "\n",
    "Re-calculate wave range division for 12 sections"
   ]
  },
  {
   "cell_type": "code",
   "execution_count": null,
   "metadata": {
    "pycharm": {
     "name": "#%%\n"
    }
   },
   "outputs": [],
   "source": [
    "start_waves, stop_waves, d_wave = split_spectrum(cubeE, n_sections)"
   ]
  },
  {
   "cell_type": "markdown",
   "metadata": {
    "pycharm": {
     "name": "#%% md\n"
    }
   },
   "source": [
    "### Normalization of the spectra.\n",
    "\n",
    "~~Normalization of spectrum for each type of region.  The idea was to  get the Paschen lines at similar levels.~~ I do it differently now, with a separate normalization for each region rather than having all of the same type being the same."
   ]
  },
  {
   "cell_type": "code",
   "execution_count": null,
   "metadata": {
    "pycharm": {
     "name": "#%%\n"
    }
   },
   "outputs": [],
   "source": [
    "# norm_by_region = {\n",
    "#     'BS': 100.0,\n",
    "#     'FIL': 10.0,\n",
    "#     'GLOB': 50.0,\n",
    "#     'MIP': 60.0,\n",
    "#     'NEUT': 30.0,\n",
    "#     'YSO': 1000.0,\n",
    "#     'ALL': 80.0,\n",
    "#     'STARS': 200.0\n",
    "# }"
   ]
  },
  {
   "cell_type": "code",
   "execution_count": null,
   "metadata": {
    "pycharm": {
     "name": "#%%\n"
    }
   },
   "outputs": [],
   "source": [
    "def norm_by_lines(\n",
    "        spectrum: Spectrum,\n",
    "        rest_waves: list,\n",
    "        wave_width: float = 5.0,\n",
    "        v_shift: float = 170.0,\n",
    "        stat_function: callable=np.nanmax,\n",
    ") -> float:\n",
    "    \"\"\"\n",
    "    Normalize a spectrum by the strongest of a list of emission lines\n",
    "\n",
    "    :param spectrum: One-dimensional continuum-subtracted spectrum\n",
    "    :param rest_waves: List of rest wavelengths of the emission lines to normalize by\n",
    "    :param wave_width: Full width of wave window for line extraction\n",
    "    :param v_shift: Systemic velocity for shifting the rest wave\n",
    "    :param stat_function: Function to calculate statistics on wave window, e.g., np.nanmax, np,nansum, etc\n",
    "    :return: Normalization factor `norm` such that `spectrum` / `norm` has a peak value of unity for the strongest emission line in the `rest_waves` list\n",
    "    \"\"\"\n",
    "    peaks = []\n",
    "    for wave in rest_waves:\n",
    "        _wave = wave * (1 + v_shift / 300000)\n",
    "        _spectrum = spectrum.subspec(_wave - wave_width / 2, _wave + wave_width / 2)\n",
    "        peaks.append(stat_function(_spectrum.data))\n",
    "    return max(peaks)\n"
   ]
  },
  {
   "cell_type": "markdown",
   "metadata": {
    "pycharm": {
     "name": "#%% md\n"
    }
   },
   "source": [
    "Normalize to the strongest of the [Cl III] and [Cl IV] lines. I chose these, since one or both is clearly visible in all of the regions, plus they are not affected by underlying stellar absorption like the H and He lines are. I take 10 times the normalization so that these lines have a peak of about 0.1, which is the vertical offset between adjacent spectra in the graph.\n",
    "\n",
    "Also, I make manual adjustments to the STARS normalization, and also to FIL-C since it has a sawtooth pattern due to the velocity mismatch with its background.\n",
    "\n",
    "Also, now do the same to NEUT-D , which has a similar behavior to FIL-C, although I am not sure why"
   ]
  },
  {
   "cell_type": "code",
   "execution_count": null,
   "metadata": {
    "pycharm": {
     "name": "#%%\n"
    }
   },
   "outputs": [],
   "source": [
    "norm_by_region = {\n",
    "    label: 10 * norm_by_lines(spec, [5518, 8046])\n",
    "    for label, spec in net_csub_dict_E.items()\n",
    "}\n",
    "norm_by_region['STARS'] *= 5\n",
    "norm_by_region['FIL-C'] *= 2\n",
    "norm_by_region['NEUT-D'] *= 4\n",
    "norm_by_region"
   ]
  },
  {
   "cell_type": "markdown",
   "metadata": {
    "pycharm": {
     "name": "#%% md\n"
    }
   },
   "source": [
    "### Strip graphs of the spectra for different groups of regions\n",
    "\n",
    "Make graphs by wave section of the original regions. Each spectrum is BG-subtracted and with the median-filtered continuum subtracted."
   ]
  },
  {
   "cell_type": "markdown",
   "metadata": {
    "pycharm": {
     "name": "#%% md\n"
    }
   },
   "source": [
    "#### The original Jesús group"
   ]
  },
  {
   "cell_type": "code",
   "execution_count": null,
   "metadata": {
    "pycharm": {
     "name": "#%%\n"
    }
   },
   "outputs": [],
   "source": [
    "fig, axes = plt.subplots(n_sections, 1, figsize=(12, 2 * n_sections))\n",
    "for w0, ax in zip(start_waves, axes):\n",
    "    shift = 0.0\n",
    "    for label in sorted(source_regions):\n",
    "        spec = net_spec_dict_E[label]\n",
    "        cont = net_cont_dict_E[label]\n",
    "        section_reg = (spec - cont).subspec(w0, w0 + d_wave)\n",
    "        norm = norm_by_region[label]\n",
    "        (section_reg / norm + shift).plot(ax=ax, label=label, linewidth=2, alpha=0.6)\n",
    "        shift += 0.1\n",
    "    # Mean spectrum of the nebula\n",
    "    section_mean = (net_spec_dict_E['ALL'] - net_cont_dict_E['ALL']).subspec(w0, w0 + d_wave)\n",
    "    norm = norm_by_region['ALL']\n",
    "    (section_mean / norm + shift).plot(ax=ax, label=\"mean nebula\", linewidth=3, color=\"k\")\n",
    "\n",
    "    # Mean spectrum of the stars\n",
    "    section_mean_stars = (net_spec_dict_E['STARS'] - net_cont_dict_E['STARS']).subspec(w0, w0 + d_wave)\n",
    "    norm = norm_by_region['STARS']\n",
    "    (section_mean_stars / norm - 0.1).plot(ax=ax, label=\"mean stars\", linewidth=3, color=\"k\", alpha=0.2)\n",
    "    # Indicator for rest-to-observed wavelength transformation\n",
    "    w1 = w0 + 0.9 * d_wave\n",
    "    w2 = w1 * (1.0 + v_sys / 3e5)\n",
    "    y0 = -0.1\n",
    "    ax.plot([w1, w2], [y0, y0], color='m', lw=5, solid_capstyle='butt')\n",
    "    ax.text(w2, y0, f\"  {v_sys:.0f} km/s\", ha='left', va='center')\n",
    "\n",
    "    # Put a finer wavelength grid with lines every 10 AA\n",
    "    ax.minorticks_on()\n",
    "    ax.grid(which='minor', axis='x', color='y', lw=0.5, alpha=0.5)\n",
    "    ax.set(\n",
    "        ylim=[-0.15, 0.65],\n",
    "        # yscale=\"log\",\n",
    "        ylabel=\"\", xlabel=\"\")\n",
    "fig.suptitle(\n",
    "    \"ESO cube, continuum-subtracted spectrum by nebular region, plus mean spectrum of gas and of stars\",\n",
    "    fontsize='x-large',\n",
    "    y=0.99,\n",
    ")\n",
    "axes[0].legend(ncol=7, fontsize=\"large\", bbox_to_anchor=(1.0, 1.0), loc='lower right')\n",
    "axes[-1].set(\n",
    "    xlabel='Observed wavelength, Angstrom',\n",
    ")\n",
    "fig.tight_layout(rect=(0, 0, 1, 0.98))"
   ]
  },
  {
   "cell_type": "code",
   "execution_count": null,
   "metadata": {
    "pycharm": {
     "name": "#%%\n"
    }
   },
   "outputs": [],
   "source": [
    "fig.savefig(\"eso-region-strip-csub-spectra.pdf\")"
   ]
  },
  {
   "cell_type": "markdown",
   "metadata": {
    "pycharm": {
     "name": "#%% md\n"
    }
   },
   "source": [
    "#### The extra regions group\n",
    "\n",
    "Repeat for the extra regions. There are more of these, so the lines are more squashed together"
   ]
  },
  {
   "cell_type": "code",
   "execution_count": null,
   "metadata": {
    "pycharm": {
     "name": "#%%\n"
    }
   },
   "outputs": [],
   "source": [
    "fig, axes = plt.subplots(n_sections, 1, figsize=(12, 2 * n_sections))\n",
    "for w0, ax in zip(start_waves, axes):\n",
    "    shift = 0.0\n",
    "    for label in sorted(source_regions_extra):\n",
    "        spec = net_spec_dict_E[label]\n",
    "        cont = net_cont_dict_E[label]\n",
    "        section_reg = (spec - cont).subspec(w0, w0 + d_wave)\n",
    "        norm = norm_by_region[label]\n",
    "        (section_reg / norm + shift).plot(ax=ax, label=label, linewidth=2, alpha=0.6)\n",
    "        shift += 0.1\n",
    "    # Mean spectrum of the nebula\n",
    "    section_mean = (net_spec_dict_E['ALL'] - net_cont_dict_E['ALL']).subspec(w0, w0 + d_wave)\n",
    "    norm = norm_by_region['ALL']\n",
    "    (section_mean / norm + shift).plot(ax=ax, label=\"mean nebula\", linewidth=3, color=\"k\")\n",
    "\n",
    "    # Mean spectrum of the stars\n",
    "    section_mean_stars = (net_spec_dict_E['STARS'] - net_cont_dict_E['STARS']).subspec(w0, w0 + d_wave)\n",
    "    norm = norm_by_region['STARS']\n",
    "    (section_mean_stars / norm - 0.1).plot(ax=ax, label=\"mean stars\", linewidth=3, color=\"k\", alpha=0.2)\n",
    "    # Indicator for rest-to-observed wavelength transformation\n",
    "    w1 = w0 + 0.9 * d_wave\n",
    "    w2 = w1 * (1.0 + v_sys / 3e5)\n",
    "    y0 = -0.1\n",
    "    ax.plot([w1, w2], [y0, y0], color='m', lw=5, solid_capstyle='butt')\n",
    "    ax.text(w2, y0, f\"  {v_sys:.0f} km/s\", ha='left', va='center')\n",
    "\n",
    "    # Put a finer wavelength grid with lines every 10 AA\n",
    "    ax.minorticks_on()\n",
    "    ax.grid(which='minor', axis='x', color='y', lw=0.5, alpha=0.5)\n",
    "    ax.set(\n",
    "        ylim=[-0.15, shift + 0.05],\n",
    "        ylabel=\"\", xlabel=\"\")\n",
    "fig.suptitle(\n",
    "    \"ESO cube, continuum-subtracted spectrum by nebular region, plus mean spectrum of gas and of stars\",\n",
    "    fontsize='x-large',\n",
    "    y=0.99,\n",
    ")\n",
    "axes[0].legend(ncol=7, fontsize=\"large\", bbox_to_anchor=(1.0, 1.0), loc='lower right')\n",
    "axes[-1].set(\n",
    "    xlabel='Observed wavelength, Angstrom',\n",
    ")\n",
    "fig.tight_layout(rect=(0, 0, 1, 0.98))"
   ]
  },
  {
   "cell_type": "code",
   "execution_count": null,
   "metadata": {
    "pycharm": {
     "name": "#%%\n"
    }
   },
   "outputs": [],
   "source": [
    "fig.savefig(\"eso-region-extras-strip-csub-spectra.pdf\")"
   ]
  },
  {
   "cell_type": "markdown",
   "metadata": {
    "pycharm": {
     "name": "#%% md\n"
    }
   },
   "source": [
    "### Graph combining all the regions, but in a logical order\n",
    "\n",
    "We can try and order them according to different line ratios"
   ]
  },
  {
   "cell_type": "markdown",
   "metadata": {
    "pycharm": {
     "name": "#%% md\n"
    }
   },
   "source": [
    "#### Ionization ratios"
   ]
  },
  {
   "cell_type": "code",
   "execution_count": null,
   "metadata": {
    "pycharm": {
     "name": "#%%\n"
    }
   },
   "outputs": [],
   "source": [
    "def get_line_ratio_dict(\n",
    "        spectra: dict[str, Spectrum],\n",
    "        waves_1: list,\n",
    "        waves_2: list,\n",
    "        stat_function: callable=np.nanmax,\n",
    ") -> dict[str, float]:\n",
    "    return {\n",
    "        _label: norm_by_lines(_spec, waves_1, stat_function=stat_function) / norm_by_lines(_spec, waves_2, stat_function=stat_function)\n",
    "        for _label, _spec in spectra.items()\n",
    "    }"
   ]
  },
  {
   "cell_type": "markdown",
   "metadata": {
    "pycharm": {
     "name": "#%% md\n"
    }
   },
   "source": [
    "Make some tables of various line ratios.  It turns out that pandas works better than astropy.Table for displaying the table in Dataspell, but ymmv in other editors."
   ]
  },
  {
   "cell_type": "code",
   "execution_count": null,
   "metadata": {
    "pycharm": {
     "name": "#%%\n"
    }
   },
   "outputs": [],
   "source": [
    "import pandas as pd\n",
    "df = pd.DataFrame(\n",
    "    {\n",
    "        'ariv/ariii': get_line_ratio_dict(net_csub_dict_E, [4740], [7136]),\n",
    "        'oiii/oii': get_line_ratio_dict(net_csub_dict_E, [4959], [7318]),\n",
    "        'siii/sii': get_line_ratio_dict(net_csub_dict_E, [9069], [6731]),\n",
    "        'oii/oi': get_line_ratio_dict(net_csub_dict_E, [7318], [8446]),\n",
    "        'oi/fei': get_line_ratio_dict(net_csub_dict_E, [8446], [8151]),\n",
    "        'ni/ci': get_line_ratio_dict(net_csub_dict_E, [8703, 8712], [8727]),\n",
    "        'fei/ha': get_line_ratio_dict(net_csub_dict_E, [8151], [6563]),\n",
    "    }\n",
    ")\n",
    "df"
   ]
  },
  {
   "cell_type": "code",
   "execution_count": null,
   "metadata": {
    "pycharm": {
     "name": "#%%\n"
    }
   },
   "outputs": [],
   "source": [
    "df = pd.DataFrame(\n",
    "    {\n",
    "       'ha/hb': get_line_ratio_dict(net_csub_dict_E, [6563], [4861]),\n",
    "       'nii': get_line_ratio_dict(net_csub_dict_E, [6583], [6548]),\n",
    "       'oiii': get_line_ratio_dict(net_csub_dict_E, [5007], [4959]),\n",
    "       'ariii': get_line_ratio_dict(net_csub_dict_E, [7751], [7136]),\n",
    "       'oii': get_line_ratio_dict(net_csub_dict_E, [7318], [7330]),\n",
    "    }\n",
    ")\n",
    "df"
   ]
  },
  {
   "cell_type": "markdown",
   "metadata": {
    "pycharm": {
     "name": "#%% md\n"
    }
   },
   "source": [
    "These are ratios that should be constant, except for extinction in the ha/hb case.\n",
    "\n",
    "Now I calculate ratios with respect to H beta. Also, add a column with the region type. This uses techniques I learned from Chapter 11 of Matt Harrison's _Effective Pandas_ book"
   ]
  },
  {
   "cell_type": "code",
   "execution_count": null,
   "metadata": {
    "pycharm": {
     "name": "#%%\n"
    }
   },
   "outputs": [],
   "source": [
    "line_list = [\n",
    "    '[O III] 5007',\n",
    "    '[O II] 7318',\n",
    "    '[O I] 6300',\n",
    "    'O I 8446',\n",
    "    'Fe I 8151',\n",
    "    'C I 8727',\n",
    "    'N I 8223',\n",
    "    'He II 4686',\n",
    "    '[Ar IV] 4740',\n",
    "    '[Ar III] 7136',\n",
    "    '[S III] 9069',\n",
    "    '[S II] 6731',\n",
    "]\n",
    "df = pd.DataFrame(\n",
    "    {\n",
    "        label: get_line_ratio_dict(net_csub_dict_E, [float(label.split()[-1])], [4861])\n",
    "        for label in line_list\n",
    "    }\n",
    ").assign(\n",
    "    reg_type=lambda x: x.index.to_series()\n",
    "                       .astype('string').str\n",
    "                       .split('-', expand=True)\n",
    "                       .iloc[:, 0].astype('category')\n",
    ")\n",
    "df"
   ]
  },
  {
   "cell_type": "code",
   "execution_count": null,
   "metadata": {
    "pycharm": {
     "name": "#%%\n"
    }
   },
   "outputs": [],
   "source": [
    "g = sns.pairplot(df, hue=\"reg_type\", diag_kind='hist')"
   ]
  },
  {
   "cell_type": "code",
   "execution_count": null,
   "metadata": {
    "pycharm": {
     "name": "#%%\n"
    }
   },
   "outputs": [],
   "source": [
    "g.savefig(\"eso-region-line-ratio-pairplot.pdf\")"
   ]
  },
  {
   "cell_type": "code",
   "execution_count": null,
   "metadata": {
    "pycharm": {
     "name": "#%%\n"
    }
   },
   "outputs": [],
   "source": [
    "line_list_low = [\n",
    "    '[S II] 6731',\n",
    "    '[O I] 6300',\n",
    "    'O I 8446',\n",
    "    'N I 8223',\n",
    "    'Fe I 8151',\n",
    "    'C I 8727',\n",
    "]"
   ]
  },
  {
   "cell_type": "code",
   "execution_count": null,
   "metadata": {
    "lines_to_next_cell": 2,
    "pycharm": {
     "name": "#%%\n"
    }
   },
   "outputs": [],
   "source": []
  },
  {
   "cell_type": "code",
   "execution_count": null,
   "metadata": {
    "pycharm": {
     "name": "#%%\n"
    }
   },
   "outputs": [],
   "source": [
    "_min, _max = 1e-5, 2.0\n",
    "N = 10\n",
    "bins = np.logspace(np.log10(_min), np.log10(_max), N)\n",
    "def update_offdiag(xdata, ydata, **kwds):\n",
    "    ax = plt.gca()\n",
    "    ax.set(\n",
    "        xscale='log',\n",
    "        yscale='log',\n",
    "        xlim=[_min, _max],\n",
    "        ylim=[_min, _max],\n",
    "        xticks=[1e-4, 1e-2, 1e0],\n",
    "        yticks=[1e-4, 1e-2, 1e0],\n",
    "    )\n",
    "\n",
    "g = sns.pairplot(\n",
    "    df,\n",
    "    vars=line_list_low,\n",
    "    hue=\"reg_type\",\n",
    "    diag_kind='hist',\n",
    "    diag_kws=dict(bins=bins),\n",
    ")\n",
    "g.diag_sharey = False\n",
    "g.map_offdiag(update_offdiag)\n",
    "...;"
   ]
  },
  {
   "cell_type": "code",
   "execution_count": null,
   "metadata": {
    "pycharm": {
     "name": "#%%\n"
    }
   },
   "outputs": [],
   "source": [
    "g.savefig(\"eso-region-line-ratio-low-pairplot.pdf\")"
   ]
  },
  {
   "cell_type": "markdown",
   "metadata": {
    "pycharm": {
     "name": "#%% md\n"
    }
   },
   "source": [
    "So from this it looks like forbidden oi and sii form a nice consistent sequence, although FIL-C is a bit of an outlier, presumably due to oversubtraction of the background, which is caused by the filament being foreground."
   ]
  },
  {
   "cell_type": "code",
   "execution_count": null,
   "metadata": {
    "pycharm": {
     "name": "#%%\n"
    }
   },
   "outputs": [],
   "source": [
    "df.corr()"
   ]
  },
  {
   "cell_type": "code",
   "execution_count": null,
   "metadata": {
    "pycharm": {
     "name": "#%%\n"
    }
   },
   "outputs": [],
   "source": [
    "df[line_list_low].corr()"
   ]
  },
  {
   "cell_type": "markdown",
   "metadata": {
    "pycharm": {
     "name": "#%% md\n"
    }
   },
   "source": [
    "So, from the correlation table, the low ionization lines fall naturally into three pairs:\n",
    "- [S II] and [O I], with  r = 0.97\n",
    "- O I and N I with r = 0.93\n",
    "- Fe I and C I with r = 0.76\n",
    "\n",
    "With other correlations being significantly worse\n"
   ]
  },
  {
   "cell_type": "markdown",
   "metadata": {
    "pycharm": {
     "name": "#%% md\n"
    }
   },
   "source": [
    "### Better version of the plot with all the regions\n"
   ]
  },
  {
   "cell_type": "code",
   "execution_count": null,
   "metadata": {
    "lines_to_next_cell": 2,
    "pycharm": {
     "name": "#%%\n"
    }
   },
   "outputs": [],
   "source": []
  },
  {
   "cell_type": "code",
   "execution_count": null,
   "metadata": {
    "pycharm": {
     "name": "#%%\n"
    }
   },
   "outputs": [],
   "source": [
    "all_source_regions = sorted(source_regions | source_regions_extra)\n",
    "all_source_regions"
   ]
  },
  {
   "cell_type": "code",
   "execution_count": null,
   "metadata": {
    "pycharm": {
     "name": "#%%\n"
    }
   },
   "outputs": [],
   "source": [
    "region_types = set(_.split('-')[0] for _ in all_source_regions)\n",
    "region_types"
   ]
  },
  {
   "cell_type": "code",
   "execution_count": null,
   "metadata": {
    "pycharm": {
     "name": "#%%\n"
    }
   },
   "outputs": [],
   "source": [
    "region_colors = {\n",
    "    'BS': 'light:#f00',\n",
    "    'MIP': 'light:#c60',\n",
    "    'NEUT': 'light:#088',\n",
    "    'GLOB': 'light:#660',\n",
    "    'FIL': 'light:#080',\n",
    "    'YSO': 'light:#808',\n",
    "}\n",
    "skip_colors = 3"
   ]
  },
  {
   "cell_type": "code",
   "execution_count": null,
   "metadata": {
    "pycharm": {
     "name": "#%%\n"
    }
   },
   "outputs": [],
   "source": [
    "region_order = {\n",
    "    'BS': [''],\n",
    "    'MIP': ['', '-B'],\n",
    "    'NEUT': ['-C', '-D', '-B', ''],\n",
    "    'GLOB': ['-B', '-F', '-D', '-G', '-C', '-E', ''],\n",
    "    'FIL': ['', '-D', '-C', '-B'],\n",
    "    'YSO': [''],\n",
    "}"
   ]
  },
  {
   "cell_type": "code",
   "execution_count": null,
   "metadata": {
    "pycharm": {
     "name": "#%%\n"
    }
   },
   "outputs": [],
   "source": [
    "fig, axes = plt.subplots(n_sections, 1, figsize=(12, 5 * n_sections))\n",
    "for w0, ax in zip(start_waves, axes):\n",
    "    shift = 0.0\n",
    "    for region_type, suffixes in region_order.items():\n",
    "        colors = sns.color_palette(region_colors[region_type], n_colors=skip_colors + len(suffixes), desat=1.0)\n",
    "        for suffix, color in zip(suffixes, colors[skip_colors:]):\n",
    "            label = region_type + suffix\n",
    "            spec = net_spec_dict_E[label]\n",
    "            cont = net_cont_dict_E[label]\n",
    "            section_reg = (spec - cont).subspec(w0, w0 + d_wave)\n",
    "            norm = norm_by_region[label]\n",
    "            (section_reg / norm + shift).plot(ax=ax, label=label, linewidth=2, alpha=0.6, color=color)\n",
    "            ax.text(w0 + d_wave, shift, f\" {label}\", color=color, ha='left', va='center')\n",
    "            shift += 0.1\n",
    "\n",
    "    # Mean spectrum of the nebula\n",
    "    section_mean = (net_spec_dict_E['ALL'] - net_cont_dict_E['ALL']).subspec(w0, w0 + d_wave)\n",
    "    norm = norm_by_region['ALL']\n",
    "    color = 'k'\n",
    "    (section_mean / norm + shift).plot(ax=ax, label=\"mean nebula\", linewidth=3, color=color)\n",
    "    ax.text(w0 + d_wave, shift, \" ALL\", color=color, ha='left', va='center', fontweight='bold')\n",
    "\n",
    "    # Mean spectrum of the stars\n",
    "    section_mean_stars = (net_spec_dict_E['STARS'] - net_cont_dict_E['STARS']).subspec(w0, w0 + d_wave)\n",
    "    norm = norm_by_region['STARS']\n",
    "    (section_mean_stars / norm - 0.1).plot(ax=ax, label=\"mean stars\", linewidth=3, color=color, alpha=0.2)\n",
    "    ax.text(w0 + d_wave, -0.1, \" STARS\", color=color, alpha=0.2, ha='left', va='center', fontweight='bold')\n",
    "\n",
    "    # Indicator for rest-to-observed wavelength transformation\n",
    "    w1 = w0 + 0.9 * d_wave\n",
    "    w2 = w1 * (1.0 + v_sys / 3e5)\n",
    "    y0 = -0.1\n",
    "    ax.plot([w1, w2], [y0, y0], color='m', lw=5, solid_capstyle='butt')\n",
    "    ax.text(w2, y0, f\"  {v_sys:.0f} km/s\", ha='left', va='center')\n",
    "\n",
    "    # Put a finer wavelength grid with lines every 10 AA\n",
    "    ax.minorticks_on()\n",
    "    ax.grid(which='minor', axis='x', color='y', lw=0.5, alpha=0.5)\n",
    "    ax.set(\n",
    "        ylim=[-0.3, shift + 0.35],\n",
    "        ylabel=\"\", xlabel=\"\")\n",
    "fig.suptitle(\n",
    "    \"ESO cube, continuum-subtracted spectrum by nebular region, plus mean spectrum of gas and of stars\",\n",
    "    fontsize='x-large',\n",
    "    y=1.001,\n",
    ")\n",
    "# axes[0].legend(ncol=7, fontsize=\"large\", bbox_to_anchor=(1.0, 1.0), loc='lower right')\n",
    "axes[-1].set(\n",
    "    xlabel='Observed wavelength, Angstrom',\n",
    ")\n",
    "fig.tight_layout(rect=(0, 0, 1, 1))"
   ]
  },
  {
   "cell_type": "code",
   "execution_count": null,
   "metadata": {
    "pycharm": {
     "name": "#%%\n"
    }
   },
   "outputs": [],
   "source": [
    "fig.savefig(\"eso-region-all-strip-csub-spectra.pdf\")"
   ]
  },
  {
   "cell_type": "markdown",
   "metadata": {
    "pycharm": {
     "name": "#%% md\n"
    }
   },
   "source": [
    "## Identifying lines\n",
    "\n",
    "Two parts to this:\n",
    "1. Labeling known lines on the graphs\n",
    "2. Automatically finding lines form the spectra, so we can try to identify the unknown lines"
   ]
  },
  {
   "cell_type": "markdown",
   "metadata": {
    "pycharm": {
     "name": "#%% md\n"
    }
   },
   "source": [
    "## Apply median filter to the entire cube\n",
    "\n",
    "I am not sure how fast this is going to be, but I will try. Start with a smaller cube\n",
    "\n"
   ]
  },
  {
   "cell_type": "code",
   "execution_count": null,
   "metadata": {
    "pycharm": {
     "name": "#%%\n"
    }
   },
   "outputs": [],
   "source": [
    "_c = cubeE.select_lambda(6350, 6750)"
   ]
  },
  {
   "cell_type": "markdown",
   "metadata": {
    "pycharm": {
     "name": "#%% md\n"
    }
   },
   "source": [
    "Check that"
   ]
  },
  {
   "cell_type": "code",
   "execution_count": null,
   "metadata": {
    "pycharm": {
     "name": "#%%\n"
    }
   },
   "outputs": [],
   "source": [
    "nwin = 51\n",
    "_c_cont = get_median_continuum_cube(_c, nwin)"
   ]
  },
  {
   "cell_type": "code",
   "execution_count": null,
   "metadata": {
    "pycharm": {
     "name": "#%%\n"
    }
   },
   "outputs": [],
   "source": [
    "_spec1 = _c_cont.sum(axis=(1, 2))\n",
    "_spec2 = get_median_continuum(_c.sum(axis=(1, 2)), nwin)"
   ]
  },
  {
   "cell_type": "code",
   "execution_count": null,
   "metadata": {
    "pycharm": {
     "name": "#%%\n"
    }
   },
   "outputs": [],
   "source": [
    "fig, ax = plt.subplots(figsize=(12, 5))\n",
    "_spec1.plot(label='Median filter, then sum pixels')\n",
    "_spec2.plot(label='Sum pixels, then median filter', linewidth=3)\n",
    "_c.sum(axis=(1, 2)).plot()\n",
    "ax.legend()\n",
    "# ax.set(yscale='log')\n",
    "ax.set(ylim=[1.e7, 2.5e7])"
   ]
  },
  {
   "cell_type": "code",
   "execution_count": null,
   "metadata": {
    "pycharm": {
     "name": "#%%\n"
    }
   },
   "outputs": [],
   "source": [
    "cube_data_path = Path.cwd().parent.parent / \"big-data\" / \"ngc346new\""
   ]
  },
  {
   "cell_type": "markdown",
   "metadata": {
    "pycharm": {
     "name": "#%% md\n"
    }
   },
   "source": [
    "Now try it on the whole cube"
   ]
  },
  {
   "cell_type": "code",
   "execution_count": null,
   "metadata": {
    "pycharm": {
     "name": "#%%\n"
    }
   },
   "outputs": [],
   "source": [
    "nwin = 11\n",
    "cube_cont  = get_median_continuum_cube(cubeE, nwin)"
   ]
  },
  {
   "cell_type": "code",
   "execution_count": null,
   "metadata": {
    "pycharm": {
     "name": "#%%\n"
    }
   },
   "outputs": [],
   "source": [
    "cube_cont.write(cube_data_path / \"ngc346-median-cont-011.fits\", savemask='nan')"
   ]
  },
  {
   "cell_type": "code",
   "execution_count": null,
   "metadata": {
    "pycharm": {
     "name": "#%%\n"
    }
   },
   "outputs": [],
   "source": [
    "(cubeE - cube_cont).write(cube_data_path / \"ngc346-csub-011.fits\", savemask='nan')"
   ]
  },
  {
   "cell_type": "markdown",
   "metadata": {
    "pycharm": {
     "name": "#%% md\n"
    }
   },
   "source": [
    "That took about 1 min with an 11 pixel window"
   ]
  },
  {
   "cell_type": "code",
   "execution_count": null,
   "metadata": {
    "pycharm": {
     "name": "#%%\n"
    }
   },
   "outputs": [],
   "source": [
    "%timeit?"
   ]
  },
  {
   "cell_type": "code",
   "execution_count": null,
   "metadata": {
    "pycharm": {
     "name": "#%%\n"
    }
   },
   "outputs": [],
   "source": [
    "%%timeit -n 1 -r 1\n",
    "nwin = 101\n",
    "cube_cont = get_median_continuum_cube(cubeE, nwin)"
   ]
  },
  {
   "cell_type": "code",
   "execution_count": null,
   "metadata": {
    "pycharm": {
     "name": "#%%\n"
    }
   },
   "outputs": [],
   "source": [
    "%%timeit -n 1 -r 1\n",
    "cube_cont.write(cube_data_path / \"ngc346-median-cont-101.fits\", savemask='nan')\n",
    "(cubeE - cube_cont).write(cube_data_path / \"ngc346-csub-101.fits\", savemask='nan')"
   ]
  },
  {
   "cell_type": "markdown",
   "metadata": {
    "pycharm": {
     "name": "#%% md\n"
    }
   },
   "source": [
    "## Subtracting spectrum from the blank box\n",
    "\n",
    "After thinking about what the Peter spectrum look like, I have a hypothesis:\n",
    "> There is an extra unwanted additive component that has continuum and absorption lines. *I suspoect that this must be scattered moonlight, which has the solar photospheric absorption lines*\n",
    "\n",
    "The next question is what to do about it. One thing to try is to find a \"blank\" part of the nebula and extract that spectrum and subtract it from the rest. We need to find a region that is truly blank in all respects:\n",
    "1. No ionized emission\n",
    "2. No neutral emission\n",
    "3. No stars, or at least no bright ones\n",
    "4. No dust scattering\n",
    "\n",
    "Luckily, there is such a region in the upper middle part of the nebula, so we will try and use it."
   ]
  },
  {
   "cell_type": "code",
   "execution_count": null,
   "metadata": {
    "pycharm": {
     "name": "#%%\n"
    }
   },
   "outputs": [],
   "source": [
    "blank_region = rg.Regions.read(small_data_path / \"ngc346-muse-blank-box.reg\")[0]\n",
    "blank_region"
   ]
  },
  {
   "cell_type": "markdown",
   "metadata": {
    "pycharm": {
     "name": "#%% md\n"
    }
   },
   "source": [
    "Convert to a PixelRegion with the WCS from the Peter cube"
   ]
  },
  {
   "cell_type": "code",
   "execution_count": null,
   "metadata": {
    "pycharm": {
     "name": "#%%\n"
    }
   },
   "outputs": [],
   "source": [
    "blank_pixel_region_P = blank_region.to_pixel(wcs=cubeP.wcs.wcs.celestial)"
   ]
  },
  {
   "cell_type": "markdown",
   "metadata": {
    "pycharm": {
     "name": "#%% md\n"
    }
   },
   "source": [
    "Extract the one-dimensional spectrum from  the blank region."
   ]
  },
  {
   "cell_type": "code",
   "execution_count": null,
   "metadata": {
    "pycharm": {
     "name": "#%%\n"
    }
   },
   "outputs": [],
   "source": [
    "blank_spectrum_P = get_spectrum_from_region(\n",
    "    cubeP, blank_pixel_region_P, reduction_method=np.nanmean,\n",
    ")"
   ]
  },
  {
   "cell_type": "markdown",
   "metadata": {
    "pycharm": {
     "name": "#%% md\n"
    }
   },
   "source": [
    "Make a plot of the ratio between the blank spectrum  and the spectra from different regions. We wil use both the \"source\" and the \"background\" regions to get more variety"
   ]
  },
  {
   "cell_type": "code",
   "execution_count": null,
   "metadata": {
    "pycharm": {
     "name": "#%%\n"
    }
   },
   "outputs": [],
   "source": [
    "fig, axes = plt.subplots(2, 1, figsize=(12, 8), sharex='all', sharey='all')\n",
    "for label in source_regions:\n",
    "    (blank_spectrum_P / spec_dict_P_neb[label]).plot(label=label, ax=axes[0])\n",
    "    (blank_spectrum_P / spec_dict_P_neb[label + ' bg']).plot(label=label + ' bg', ax=axes[1])\n",
    "\n",
    "for ax in axes:\n",
    "    (blank_spectrum_P / spec_mean_P_neb).plot(label='mean neb', color='k', linewidth=2, ax=ax)\n",
    "    (blank_spectrum_P / spec_mean_P_stars).plot(label='mean stars', color='k', linewidth=2, ax=ax, alpha=0.3)\n",
    "    ax.set(ylim=[0, 1.5], ylabel='Fraction')\n",
    "    ax.legend(ncol=4)\n",
    "axes[0].set(xlabel='')\n",
    "axes[0].set_title('Blank spectrum divided by region spectrum')\n",
    "...;"
   ]
  },
  {
   "cell_type": "markdown",
   "metadata": {
    "pycharm": {
     "name": "#%% md\n"
    }
   },
   "source": [
    "Conclusions from the above figure:\n",
    "1. The blank region continuum is roughly 30% of the mean continuum in the nebula pixels, and this is independent of wavelength\n",
    "2. For the mean star pixels, the fraction is much lower: about 5%\n",
    "3. Most of the source and bg regions behave very similarly to the mean nebula spectrum, with the exception of `YSO`, `FIL` and `FIL bg`\n",
    "4. `YSO` is similar to the mean star spectrum\n",
    "5. `FIL` and `FIL bg` have fractions close to unity because they are faint regions. For `FIL bg`, the fraction goes above 1 in the blue"
   ]
  },
  {
   "cell_type": "code",
   "execution_count": null,
   "metadata": {
    "pycharm": {
     "name": "#%%\n"
    }
   },
   "outputs": [],
   "source": [
    "fig, axes = plt.subplots(n_sections, 1, figsize=(12, 2 * n_sections))\n",
    "for w0, ax in zip(start_waves, axes):\n",
    "    section_mean = (spec_mean_P_neb - blank_spectrum_P).subspec(w0, w0 + d_wave)\n",
    "    section_mean_stars = (spec_mean_P_stars - blank_spectrum_P).subspec(w0, w0 + d_wave)\n",
    "    shift = 0.0\n",
    "    for label in source_regions:\n",
    "        spec = spec_dict_P_neb[label] - blank_spectrum_P\n",
    "        section_reg = spec.subspec(w0, w0 + d_wave)\n",
    "        ratio = section_reg  #/ section_mean\n",
    "        norm = np.median(ratio.data)\n",
    "        ((ratio / norm) + shift).plot(ax=ax, label=label, linewidth=2, alpha=0.6)\n",
    "        shift += 0.1\n",
    "    # Mean spectrum of the nebula\n",
    "    norm = np.median(section_mean.data)\n",
    "    ((section_mean / norm) + shift).plot(ax=ax, label=\"mean nebula\", linewidth=3, color=\"k\")\n",
    "    # Mean spectrum of the stars\n",
    "    norm = np.median(section_mean_stars.data)\n",
    "    ((section_mean_stars / norm) - 0.1).plot(ax=ax, label=\"mean stars\", linewidth=3, color=\"k\", alpha=0.3)\n",
    "    # Indicator for rest-to-observed wavelength transformation\n",
    "    w1 = w0 + 0.9 * d_wave\n",
    "    w2 = w1 * (1.0 + v_sys / 3e5)\n",
    "    ax.plot([w1, w2], [0.7, 0.7], color='m', lw=5, solid_capstyle='butt')\n",
    "    ax.text(w2, 0.7, f\"  {v_sys:.0f} km/s\", ha='left', va='center')\n",
    "\n",
    "    # Put a finer wavelength grid with lines every 10 AA\n",
    "    ax.minorticks_on()\n",
    "    ax.grid(which='minor', axis='x', color='y', lw=0.5, alpha=0.5)\n",
    "    ax.set(\n",
    "        ylim=[0.6, 1.7],\n",
    "        # yscale=\"log\",\n",
    "        ylabel=\"\", xlabel=\"\")\n",
    "axes[0].set_title(\"Peter cube, blank-subtracted spectrum by nebular region, plus mean gas and mean stars\")\n",
    "axes[0].legend(ncol=7, fontsize=\"large\", loc=\"lower left\")\n",
    "axes[-1].set(\n",
    "    xlabel='Observed wavelength, Angstrom',\n",
    ")\n",
    "fig.tight_layout()"
   ]
  },
  {
   "cell_type": "code",
   "execution_count": null,
   "metadata": {
    "pycharm": {
     "name": "#%%\n"
    }
   },
   "outputs": [],
   "source": [
    "fig.savefig(\"peter-region-strip-spectra-sub-blank.pdf\")"
   ]
  },
  {
   "cell_type": "markdown",
   "metadata": {
    "pycharm": {
     "name": "#%% md\n"
    }
   },
   "source": [
    "As expected, the largest effect of the subtraction is on the `FIL` sample, since it is only slightly brighter than the blank spectrum. Oddly, there is very little effect on the other samples."
   ]
  },
  {
   "cell_type": "markdown",
   "metadata": {
    "pycharm": {
     "name": "#%% md\n"
    }
   },
   "source": [
    "#### BG region subtraction\n",
    "\n",
    "Now try subtracting the BG region of each source region"
   ]
  },
  {
   "cell_type": "code",
   "execution_count": null,
   "metadata": {
    "pycharm": {
     "name": "#%%\n"
    }
   },
   "outputs": [],
   "source": [
    "fig, axes = plt.subplots(n_sections, 1, figsize=(12, 2 * n_sections))\n",
    "for w0, ax in zip(start_waves, axes):\n",
    "    section_mean = (spec_mean_P_neb - blank_spectrum_P).subspec(w0, w0 + d_wave)\n",
    "    section_mean_stars = (spec_mean_P_stars - blank_spectrum_P).subspec(w0, w0 + d_wave)\n",
    "    shift = 0.0\n",
    "    for label in source_regions:\n",
    "        spec = spec_dict_P_neb[label] - spec_dict_P_neb[label + ' bg']\n",
    "        section_reg = spec.subspec(w0, w0 + d_wave)\n",
    "        ratio = section_reg  #/ section_mean\n",
    "        norm = np.median(ratio.data)\n",
    "        ((ratio / norm) + shift).plot(ax=ax, label=label, linewidth=2, alpha=0.6)\n",
    "        shift += 0.1\n",
    "    # Mean spectrum of the nebula\n",
    "    norm = np.median(section_mean.data)\n",
    "    ((section_mean / norm) + shift).plot(ax=ax, label=\"mean nebula\", linewidth=3, color=\"k\")\n",
    "    # Mean spectrum of the stars\n",
    "    norm = np.median(section_mean_stars.data)\n",
    "    ((section_mean_stars / norm) - 0.1).plot(ax=ax, label=\"mean stars\", linewidth=3, color=\"k\", alpha=0.3)\n",
    "    # Indicator for rest-to-observed wavelength transformation\n",
    "    w1 = w0 + 0.9 * d_wave\n",
    "    w2 = w1 * (1.0 + v_sys / 3e5)\n",
    "    ax.plot([w1, w2], [0.7, 0.7], color='m', lw=5, solid_capstyle='butt')\n",
    "    ax.text(w2, 0.7, f\"  {v_sys:.0f} km/s\", ha='left', va='center')\n",
    "\n",
    "    # Put a finer wavelength grid with lines every 10 AA\n",
    "    ax.minorticks_on()\n",
    "    ax.grid(which='minor', axis='x', color='y', lw=0.5, alpha=0.5)\n",
    "    ax.set(\n",
    "        ylim=[0.6, 1.7],\n",
    "        # yscale=\"log\",\n",
    "        ylabel=\"\", xlabel=\"\")\n",
    "axes[0].set_title(\"Peter cube, BG-subtracted spectrum by nebular region, plus mean gas and mean stars\")\n",
    "axes[0].legend(ncol=7, fontsize=\"large\", loc=\"lower left\")\n",
    "axes[-1].set(\n",
    "    xlabel='Observed wavelength, Angstrom',\n",
    ")\n",
    "fig.tight_layout()"
   ]
  },
  {
   "cell_type": "code",
   "execution_count": null,
   "metadata": {
    "pycharm": {
     "name": "#%%\n"
    }
   },
   "outputs": [],
   "source": [
    "fig.savefig(\"peter-region-strip-spectra-sub-bg.pdf\")"
   ]
  },
  {
   "cell_type": "markdown",
   "metadata": {
    "pycharm": {
     "name": "#%% md\n"
    }
   },
   "source": [
    "This does not work great either"
   ]
  },
  {
   "cell_type": "markdown",
   "metadata": {
    "pycharm": {
     "name": "#%% md\n"
    }
   },
   "source": [
    "## Return to divide by mean nebula\n",
    "\n",
    "I now think that this shows more promise than I thought.  We will try it for pairs of source and bg.\n",
    "\n",
    "First, the `GLOB` region"
   ]
  },
  {
   "cell_type": "code",
   "execution_count": null,
   "metadata": {
    "pycharm": {
     "name": "#%%\n"
    }
   },
   "outputs": [],
   "source": [
    "reg_id = \"GLOB\"\n",
    "\n",
    "fig, axes = plt.subplots(n_sections, 1, figsize=(12, 2 * n_sections))\n",
    "for w0, ax in zip(start_waves, axes):\n",
    "    section_mean = spec_mean_P_neb.subspec(w0, w0 + d_wave)\n",
    "    spec = spec_dict_P_neb[reg_id].subspec(w0, w0 + d_wave) / section_mean\n",
    "    spec_bg = spec_dict_P_neb[reg_id + ' bg'].subspec(w0, w0 + d_wave) / section_mean\n",
    "    spec_med = np.median(spec.data)\n",
    "    spec_bg_med = np.median(spec_bg.data)\n",
    "    (spec - spec_med).plot(ax=ax, alpha=0.6, label=reg_id)\n",
    "    (spec - spec_bg).plot(ax=ax, alpha=0.6)\n",
    "    (spec_bg - spec_bg_med).plot(ax=ax, alpha=0.6, label=reg_id + ' bg')\n",
    "\n",
    "    ax.set(\n",
    "        ylim=[-0.1, 0.1],\n",
    "        ylabel=\"\", xlabel=\"\")\n",
    "axes[0].set_title(\"Peter Ratio: Region / Mean Nebula\")\n",
    "axes[0].legend()\n",
    "fig.tight_layout()"
   ]
  },
  {
   "cell_type": "code",
   "execution_count": null,
   "metadata": {
    "pycharm": {
     "name": "#%%\n"
    }
   },
   "outputs": [],
   "source": [
    "reg_id = \"FIL\"\n",
    "\n",
    "fig, axes = plt.subplots(n_sections, 1, figsize=(12, 2 * n_sections))\n",
    "for w0, ax in zip(start_waves, axes):\n",
    "    section_mean = spec_mean_P_neb.subspec(w0, w0 + d_wave)\n",
    "    spec = spec_dict_P_neb[reg_id].subspec(w0, w0 + d_wave) / section_mean\n",
    "    spec_bg = spec_dict_P_neb[reg_id + ' bg'].subspec(w0, w0 + d_wave) / section_mean\n",
    "    spec_med = np.median(spec.data)\n",
    "    spec_bg_med = np.median(spec_bg.data)\n",
    "    (spec - spec_med).plot(ax=ax, alpha=0.6, label=reg_id)\n",
    "    (spec - spec_bg).plot(ax=ax, alpha=0.6)\n",
    "    (spec_bg - spec_bg_med).plot(ax=ax, alpha=0.6, label=reg_id + ' bg')\n",
    "\n",
    "    ax.set(\n",
    "        ylim=[-0.1, 0.1],\n",
    "        ylabel=\"\", xlabel=\"\")\n",
    "axes[0].set_title(\"Peter Ratio: Region / Mean Nebula\")\n",
    "axes[0].legend()\n",
    "fig.tight_layout()"
   ]
  },
  {
   "cell_type": "code",
   "execution_count": null,
   "metadata": {
    "pycharm": {
     "name": "#%%\n"
    }
   },
   "outputs": [],
   "source": [
    "reg_id = \"YSO\"\n",
    "\n",
    "fig, axes = plt.subplots(n_sections, 1, figsize=(12, 2 * n_sections))\n",
    "for w0, ax in zip(start_waves, axes):\n",
    "    section_mean = spec_mean_P_neb.subspec(w0, w0 + d_wave)\n",
    "    spec = spec_dict_P_neb[reg_id].subspec(w0, w0 + d_wave) / section_mean\n",
    "    spec_bg = spec_dict_P_neb[reg_id + ' bg'].subspec(w0, w0 + d_wave) / section_mean\n",
    "    spec_med = np.median(spec.data)\n",
    "    spec_bg_med = np.median(spec_bg.data)\n",
    "    (spec - spec_med).plot(ax=ax, alpha=0.6, label=reg_id)\n",
    "    (spec - spec_bg - (spec_med - spec_bg_med)).plot(ax=ax, alpha=0.6)\n",
    "    (spec_bg - spec_bg_med).plot(ax=ax, alpha=0.6, label=reg_id + ' bg')\n",
    "\n",
    "    ax.set(\n",
    "        ylim=[-1.5, 1.5],\n",
    "        ylabel=\"\", xlabel=\"\")\n",
    "axes[0].set_title(\"Peter Ratio: Region / Mean Nebula\")\n",
    "axes[0].legend()\n",
    "fig.tight_layout()"
   ]
  },
  {
   "cell_type": "code",
   "execution_count": null,
   "metadata": {
    "pycharm": {
     "name": "#%%\n"
    }
   },
   "outputs": [],
   "source": [
    "reg_id = \"NEUT-B\"\n",
    "\n",
    "fig, axes = plt.subplots(n_sections, 1, figsize=(12, 2 * n_sections))\n",
    "for w0, ax in zip(start_waves, axes):\n",
    "    section_mean = spec_mean_P_neb.subspec(w0, w0 + d_wave)\n",
    "    spec = spec_dict_extra_P_neb[reg_id].subspec(w0, w0 + d_wave) / section_mean\n",
    "    spec_bg = spec_dict_extra_P_neb[reg_id + ' bg'].subspec(w0, w0 + d_wave) / section_mean\n",
    "    spec_med = np.median(spec.data)\n",
    "    spec_bg_med = np.median(spec_bg.data)\n",
    "    (spec - spec_med).plot(ax=ax, alpha=0.6, label=reg_id)\n",
    "    (spec - spec_bg - (spec_med - spec_bg_med)).plot(ax=ax, alpha=0.6)\n",
    "    (spec_bg - spec_bg_med).plot(ax=ax, alpha=0.6, label=reg_id + ' bg')\n",
    "\n",
    "    ax.set(\n",
    "        ylim=[-0.02, 0.02],\n",
    "        ylabel=\"\", xlabel=\"\")\n",
    "axes[0].set_title(\"Peter Ratio: Region / Mean Nebula\")\n",
    "axes[0].legend()\n",
    "fig.tight_layout()"
   ]
  },
  {
   "cell_type": "code",
   "execution_count": null,
   "metadata": {
    "pycharm": {
     "name": "#%%\n"
    }
   },
   "outputs": [],
   "source": [
    "fig, axes = plt.subplots(n_sections, 1, figsize=(12, 2 * n_sections))\n",
    "for w0, ax in zip(start_waves, axes):\n",
    "    section_mean = spec_mean_P_neb.subspec(w0, w0 + d_wave)\n",
    "    shift = 0.0\n",
    "    for reg_id in source_regions:\n",
    "        spec = spec_dict_P_neb[reg_id].subspec(w0, w0 + d_wave) / section_mean\n",
    "        spec_bg = spec_dict_P_neb[reg_id + ' bg'].subspec(w0, w0 + d_wave) / section_mean\n",
    "        spec_med = np.median(spec.data)\n",
    "        spec_bg_med = np.median(spec_bg.data)\n",
    "        spec_net = (spec - spec_med) - (spec_bg - spec_bg_med)\n",
    "        norm = 5 if reg_id == 'YSO' else 0.1 if reg_id == 'FIL' else 0.5\n",
    "        (shift + spec_net / norm).plot(ax=ax, alpha=0.6, linewidth=3, label=reg_id)\n",
    "        shift += 0.1\n",
    "    # Indicator for rest-to-observed wavelength transformation\n",
    "    w1 = w0 + 0.9 * d_wave\n",
    "    w2 = w1 * (1.0 + v_sys / 3e5)\n",
    "    ax.plot([w1, w2], [0.5, 0.5], color='m', lw=5, solid_capstyle='butt')\n",
    "    ax.text(w2, 0.5, f\"  {v_sys:.0f} km/s\", ha='left', va='center', fontsize='small')\n",
    "\n",
    "    # Put a finer wavelength grid with lines every 10 AA\n",
    "    ax.minorticks_on()\n",
    "    ax.grid(which='minor', axis='x', color='y', lw=0.5, alpha=0.5)\n",
    "    ax.set(\n",
    "        ylim=[-0.1, 0.7],\n",
    "        ylabel=\"\", xlabel=\"\")\n",
    "axes[0].set_title(\"Peter Cube: Median-subtracted [(Source – BG) / Mean Nebula] for each region\")\n",
    "axes[0].legend(ncol=5, fontsize='xx-small', loc='upper left')\n",
    "fig.tight_layout()"
   ]
  },
  {
   "cell_type": "code",
   "execution_count": null,
   "metadata": {
    "pycharm": {
     "name": "#%%\n"
    }
   },
   "outputs": [],
   "source": [
    "fig.savefig(\"peter-region-strip-ratio-diff-spectra.pdf\")"
   ]
  },
  {
   "cell_type": "code",
   "execution_count": null,
   "metadata": {
    "pycharm": {
     "name": "#%%\n"
    }
   },
   "outputs": [],
   "source": [
    "n_sections = 12\n",
    "start_waves, stop_waves, d_wave = split_spectrum(cubeP, n_sections)\n",
    "\n",
    "fig, axes = plt.subplots(n_sections, 1, figsize=(12, 2 * n_sections))\n",
    "for w0, ax in zip(start_waves, axes):\n",
    "    section_mean = spec_mean_P_neb.subspec(w0, w0 + d_wave)\n",
    "    shift = 0.0\n",
    "    for reg_id in source_regions_extra:\n",
    "        spec = spec_dict_extra_P_neb[reg_id].subspec(w0, w0 + d_wave) / section_mean\n",
    "        spec_bg = spec_dict_extra_P_neb[reg_id + ' bg'].subspec(w0, w0 + d_wave) / section_mean\n",
    "        spec_med = np.median(spec.data)\n",
    "        spec_bg_med = np.median(spec_bg.data)\n",
    "        spec_net = (spec - spec_med) - (spec_bg - spec_bg_med)\n",
    "        norm = 0.5\n",
    "        (shift + spec_net / norm).plot(ax=ax, alpha=0.6, linewidth=3, label=reg_id)\n",
    "        shift += 0.05\n",
    "    # Indicator for rest-to-observed wavelength transformation\n",
    "    w1 = w0 + 0.9 * d_wave\n",
    "    w2 = w1 * (1.0 + v_sys / 3e5)\n",
    "    ax.plot([w1, w2], [0.5, 0.5], color='m', lw=5, solid_capstyle='butt')\n",
    "    ax.text(w2, 0.5, f\"  {v_sys:.0f} km/s\", ha='left', va='center', fontsize='small')\n",
    "\n",
    "    # Put a finer wavelength grid with lines every 10 AA\n",
    "    ax.minorticks_on()\n",
    "    ax.grid(which='minor', axis='x', color='y', lw=0.5, alpha=0.5)\n",
    "    ax.set(\n",
    "        ylim=[-0.1, 0.7],\n",
    "        ylabel=\"\", xlabel=\"\")\n",
    "axes[0].set_title(\"Peter Cube: Median-subtracted [(Source – BG) / Mean Nebula] for each region\")\n",
    "axes[0].legend(ncol=5, fontsize='xx-small', loc='upper left')\n",
    "fig.tight_layout()"
   ]
  },
  {
   "cell_type": "code",
   "execution_count": null,
   "metadata": {
    "pycharm": {
     "name": "#%%\n"
    }
   },
   "outputs": [],
   "source": [
    "fig.savefig(\"peter-region-extras-strip-ratio-diff-spectra.pdf\")"
   ]
  },
  {
   "cell_type": "code",
   "execution_count": null,
   "metadata": {
    "lines_to_next_cell": 2,
    "pycharm": {
     "name": "#%%\n"
    }
   },
   "outputs": [],
   "source": []
  },
  {
   "cell_type": "code",
   "execution_count": null,
   "metadata": {
    "lines_to_next_cell": 2,
    "pycharm": {
     "name": "#%%\n"
    }
   },
   "outputs": [],
   "source": []
  },
  {
   "cell_type": "markdown",
   "metadata": {
    "pycharm": {
     "name": "#%% md\n"
    }
   },
   "source": [
    "## Older stuff\n",
    "\n",
    "This is things that no longer make much sense. Should probably delete. Leaving around for now in case anything can be repurposed maybe later"
   ]
  },
  {
   "cell_type": "markdown",
   "metadata": {
    "pycharm": {
     "name": "#%% md\n"
    }
   },
   "source": [
    "### Divide by mean nebula"
   ]
  },
  {
   "cell_type": "code",
   "execution_count": null,
   "metadata": {
    "pycharm": {
     "name": "#%%\n"
    }
   },
   "outputs": [],
   "source": [
    "fig, axes = plt.subplots(n_sections, 1, figsize=(12, 2 * n_sections))\n",
    "for w0, ax in zip(start_waves, axes):\n",
    "    section_mean = spec_mean_P_neb.subspec(w0, w0 + d_wave)\n",
    "    shift = 0.0\n",
    "    for label in source_regions:\n",
    "        spec = spec_dict_P_neb[label]  #- spec_dict_P_neb[label + \" bg\"]\n",
    "        section_reg = spec.subspec(w0, w0 + d_wave)\n",
    "        ratio = section_reg / section_mean\n",
    "        norm = np.median(ratio.data)\n",
    "        lw = 1 if label == 'YSO' else 2\n",
    "        ((ratio / norm) + shift).plot(ax=ax, label=label, linewidth=lw, alpha=0.6)\n",
    "        shift += 0.03\n",
    "    norm = np.median(section_mean.data)\n",
    "    # ((section_mean/norm) + shift).plot(ax=ax, label=\"mean cube\", linewidth=3, color=\"k\")\n",
    "    ax.set(\n",
    "        ylim=[0.95, 1.2],\n",
    "        # yscale=\"log\",\n",
    "        ylabel=\"\", xlabel=\"\")\n",
    "axes[0].set_title(\"Peter Ratio: Region / Mean Nebula\")\n",
    "axes[0].legend(ncol=6, fontsize=\"small\")\n",
    "fig.tight_layout()"
   ]
  },
  {
   "cell_type": "code",
   "execution_count": null,
   "metadata": {
    "pycharm": {
     "name": "#%%\n"
    }
   },
   "outputs": [],
   "source": [
    "fig.savefig(\"peter-region-strip-ratio-spectra.pdf\")"
   ]
  },
  {
   "cell_type": "code",
   "execution_count": null,
   "metadata": {
    "pycharm": {
     "name": "#%%\n"
    }
   },
   "outputs": [],
   "source": [
    "fig, axes = plt.subplots(n_sections, 1, figsize=(12, 2 * n_sections))\n",
    "for w0, ax in zip(start_waves, axes):\n",
    "    section_mean = spec_mean_E_neb.subspec(w0, w0 + d_wave)\n",
    "    shift = 0.0\n",
    "    for label in source_regions:\n",
    "        spec = spec_dict_E_neb[label]  #- spec_dict_P_neb[label + \" bg\"]\n",
    "        section_reg = spec.subspec(w0, w0 + d_wave)\n",
    "        ratio = section_reg / section_mean\n",
    "        norm = np.median(ratio.data)\n",
    "        lw = 1 if label == 'YSO' else 2\n",
    "        ((ratio / norm) + shift).plot(ax=ax, label=label, linewidth=lw, alpha=0.6)\n",
    "        shift += 0.03\n",
    "    norm = np.median(section_mean.data)\n",
    "    # ((section_mean/norm) + shift).plot(ax=ax, label=\"mean cube\", linewidth=3, color=\"k\")\n",
    "    ax.set(\n",
    "        ylim=[0.95, 1.2],\n",
    "        # yscale=\"log\",\n",
    "        ylabel=\"\", xlabel=\"\")\n",
    "axes[0].set_title(\"ESO Ratio: Region / Mean Nebula\")\n",
    "axes[0].legend(ncol=6, fontsize=\"small\")\n",
    "fig.tight_layout()"
   ]
  },
  {
   "cell_type": "code",
   "execution_count": null,
   "metadata": {
    "pycharm": {
     "name": "#%%\n"
    }
   },
   "outputs": [],
   "source": [
    "fig.savefig(\"eso-region-strip-ratio-spectra.pdf\")"
   ]
  },
  {
   "cell_type": "markdown",
   "metadata": {
    "pycharm": {
     "name": "#%% md\n"
    }
   },
   "source": [
    "### Even older, or at least less relevant"
   ]
  },
  {
   "cell_type": "code",
   "execution_count": null,
   "metadata": {
    "pycharm": {
     "name": "#%%\n"
    }
   },
   "outputs": [],
   "source": [
    "spec_dict_P = {label: get_spectrum_from_region(cubeP, reg) for label, reg in region_dict.items()}\n",
    "spec_dict_E = {label: get_spectrum_from_region(cubeE, reg) for label, reg in region_dict.items()}"
   ]
  },
  {
   "cell_type": "code",
   "execution_count": null,
   "metadata": {
    "pycharm": {
     "name": "#%%\n"
    }
   },
   "outputs": [],
   "source": [
    "fig, ax = plt.subplots(figsize=(12, 8))\n",
    "for label, spec in spec_dict_P.items():\n",
    "    if label.endswith(\" bg\"):\n",
    "        lw = 1\n",
    "    else:\n",
    "        lw = 2\n",
    "    (spec / specP).plot(label=label, linewidth=lw)\n",
    "ax.legend(ncol=5)\n",
    "ax.set(ylim=[0, 0.02])\n",
    "...;"
   ]
  },
  {
   "cell_type": "code",
   "execution_count": null,
   "metadata": {
    "pycharm": {
     "name": "#%%\n"
    }
   },
   "outputs": [],
   "source": [
    "fig, ax = plt.subplots(figsize=(12, 8))\n",
    "for label, spec in spec_dict_E.items():\n",
    "    if label.endswith(\" bg\"):\n",
    "        lw = 1\n",
    "    else:\n",
    "        lw = 2\n",
    "    (spec / specE).plot(label=label, linewidth=lw)\n",
    "ax.legend(ncol=5)\n",
    "ax.set(ylim=[0, 0.03])\n",
    "...;"
   ]
  },
  {
   "cell_type": "code",
   "execution_count": null,
   "metadata": {
    "pycharm": {
     "name": "#%%\n"
    }
   },
   "outputs": [],
   "source": [
    "cubeP.info()"
   ]
  },
  {
   "cell_type": "code",
   "execution_count": null,
   "metadata": {
    "pycharm": {
     "name": "#%%\n"
    }
   },
   "outputs": [],
   "source": [
    "type(cubeP.wave)"
   ]
  },
  {
   "cell_type": "code",
   "execution_count": null,
   "metadata": {
    "pycharm": {
     "name": "#%%\n"
    }
   },
   "outputs": [],
   "source": [
    "cubeP.unit, specP.unit"
   ]
  },
  {
   "cell_type": "code",
   "execution_count": null,
   "metadata": {
    "pycharm": {
     "name": "#%%\n"
    }
   },
   "outputs": [],
   "source": []
  }
 ],
 "metadata": {
  "jupytext": {
   "encoding": "# -*- coding: utf-8 -*-",
   "formats": "ipynb,py:light"
  },
  "kernelspec": {
   "display_name": "Python 3",
   "language": "python",
   "name": "python3"
  },
  "language_info": {
   "codemirror_mode": {
    "name": "ipython",
    "version": 2
   },
   "file_extension": ".py",
   "mimetype": "text/x-python",
   "name": "python",
   "nbconvert_exporter": "python",
   "pygments_lexer": "ipython2",
   "version": "2.7.6"
  }
 },
 "nbformat": 4,
 "nbformat_minor": 0
}
