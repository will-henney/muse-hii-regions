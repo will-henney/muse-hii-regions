{
 "cells": [
  {
   "cell_type": "markdown",
   "metadata": {},
   "source": [
    "# Looking for the H alpha Raman wings in SMC-N66 (NGC 346) with new cube from Peter Zeidler"
   ]
  },
  {
   "cell_type": "markdown",
   "metadata": {},
   "source": [
    "Start off the same as the other notebooks - import the libraries and load the data"
   ]
  },
  {
   "cell_type": "code",
   "execution_count": null,
   "metadata": {},
   "outputs": [],
   "source": [
    "from pathlib import Path\n",
    "import numpy as np\n",
    "from matplotlib import pyplot as plt\n",
    "import seaborn as sns\n",
    "from mpdaf.obj import Cube\n",
    "sns.set_context(\"talk\")"
   ]
  },
  {
   "cell_type": "code",
   "execution_count": null,
   "metadata": {},
   "outputs": [],
   "source": [
    "datapath = Path(\"/Users/will/Work/Muse-Hii-Data/SMC-NGC-346/\")\n",
    "fitsfilepath = datapath / \"PeterZeidler\" / \"DATACUBE_FINAL_fwhm_cor.fits\"\n",
    "cube = Cube(str(fitsfilepath))\n",
    "hacube = cube.select_lambda(6200.0, 6800.0)\n",
    "cube_mask_orig = cube.mask.copy()\n",
    "hacube_mask_orig = hacube.mask.copy()"
   ]
  },
  {
   "cell_type": "code",
   "execution_count": null,
   "metadata": {
    "pycharm": {
     "name": "#%%\n"
    }
   },
   "outputs": [],
   "source": [
    "savepath = Path.cwd().parent.parent / \"data-peter\"\n",
    "savepath"
   ]
  },
  {
   "cell_type": "markdown",
   "metadata": {},
   "source": [
    "## No longer need the sky correction\n",
    "\n",
    "Unlike with the standard pipeline cube, there is no pbvious problem with sky oversubtraction near H alpha in this cube."
   ]
  },
  {
   "cell_type": "code",
   "execution_count": null,
   "metadata": {},
   "outputs": [],
   "source": [
    "cont6600 = hacube.select_lambda(6600.0, 6620.0).mean(axis=0)\n",
    "hacore = (hacube.select_lambda(6560.0, 6572.0) - cont6600).sum(axis=0)\n",
    "fig = plt.figure(figsize=(10, 10))\n",
    "hacore.plot(scale=\"sqrt\", vmin=5e4, vmax=2e5, cmap='viridis', colorbar='v')"
   ]
  },
  {
   "cell_type": "markdown",
   "metadata": {},
   "source": [
    "So this compares favorably with the previous version. Strangely, all the fluxes are higher. I am not sure why."
   ]
  },
  {
   "cell_type": "markdown",
   "metadata": {},
   "source": [
    "## Inspect the data cube\n",
    "\n",
    "The full data cube is in `cube`, while `hacube` is a 600 Å window around Hα.\n",
    "\n",
    "Looking at the data cube in DS9 I found a region that looks promising fro the Raman wings, so we will look at that first:"
   ]
  },
  {
   "cell_type": "code",
   "execution_count": null,
   "metadata": {},
   "outputs": [],
   "source": [
    "# hacube.mask = (my_mask_3d) | hacube_mask_orig\n",
    "fig, ax = plt.subplots(figsize=(10, 4))\n",
    "spec_ha = hacube[:, 240:250, 230:250].mean(axis=(1, 2))\n",
    "spec2 = spec_ha.copy().subspec(6400, 6650)\n",
    "spec2.mask_region(6500, 6600)\n",
    "cont = spec2.poly_spec(2)\n",
    "spec_ha.plot()\n",
    "cont.plot(color=\"m\")\n",
    "ax.axvline(6578, c=\"r\", lw=0.3)\n",
    "ax.axvline(6583, c=\"r\", lw=0.3)\n",
    "ax.axvline(6591, c=\"r\", lw=0.3)\n",
    "ax.axvline(6600, c=\"r\", lw=0.3)\n",
    "ax.axvline(6620, c=\"r\", lw=0.3)\n",
    "\n",
    "ax.axvline(6540, c=\"c\", lw=0.3)\n",
    "ax.axvline(6549, c=\"c\", lw=0.3)\n",
    "\n",
    "\n",
    "\n",
    "ax.set(ylim=[0, 500])"
   ]
  },
  {
   "cell_type": "markdown",
   "metadata": {},
   "source": [
    "## Images of different wavelength ranges\n",
    "\n",
    "So the red wing and blue wing look like they are definitely there. The red wing can be seen on both sides of the [N II] λ6583 line. In Orion, we only see it clearly for $\\lambda > 6600$.  Perhaps this is because the C II λ6578 line is weaker in the LMC."
   ]
  },
  {
   "cell_type": "markdown",
   "metadata": {},
   "source": []
  },
  {
   "cell_type": "markdown",
   "metadata": {},
   "source": [
    "First, make an image of the outer red wing:"
   ]
  },
  {
   "cell_type": "code",
   "execution_count": null,
   "metadata": {},
   "outputs": [],
   "source": [
    "cont6600 = hacube.select_lambda(6600.0, 6620.0).mean(axis=0)\n",
    "wing = (hacube.select_lambda(6591.0, 6600.0) - cont6600).sum(axis=0)\n",
    "fig = plt.figure(figsize=(10, 10))\n",
    "wing.mask = wing.mask | (cont6600.data > 2000.0)\n",
    "wing.plot(\n",
    "    use_wcs=True,\n",
    "    vmin=0,\n",
    "    vmax=100,\n",
    "    cmap=\"viridis\",\n",
    "    scale=\"linear\",\n",
    "    colorbar=\"v\",\n",
    ")\n",
    "fig.axes[0].set_title(\n",
    "    \"Hα far red wing: full resolution\",\n",
    "    fontsize=\"large\",\n",
    "    pad=25,\n",
    ");"
   ]
  },
  {
   "cell_type": "markdown",
   "metadata": {},
   "source": [
    "We see filamentary structure that is similar to the other emission lines (see 11-line-profiles notebook).  Note that I am masking out the stars by using a condition on `cont6600`.  It is a delicate balancing act between cutting out the PSF wings of the srars without losing too much of the nebular emission.\n",
    "\n",
    "\n",
    "The map is very noisy but we can try and improve things by rebinning to 8x8.  I also take the opportunity to trim off a 10-pixel margin all around, since there are some very noisy pixels there."
   ]
  },
  {
   "cell_type": "code",
   "execution_count": null,
   "metadata": {},
   "outputs": [],
   "source": [
    "fig = plt.figure(figsize=(10, 10))\n",
    "margin = 10\n",
    "wing.mask[:margin, :] = True\n",
    "wing.mask[-margin:, :] = True\n",
    "wing.mask[:, :margin] = True\n",
    "wing.mask[:, -margin:] = True\n",
    "wing.rebin(4).plot(\n",
    "    use_wcs=True,\n",
    "    vmin=0,\n",
    "    vmax=100,\n",
    "    cmap=\"viridis\",\n",
    "    scale=\"linear\",\n",
    "    colorbar=\"v\",\n",
    ")\n",
    "fig.axes[0].set_title(\n",
    "    r\"Hα far red wing: $4\\times4$ binning\",\n",
    "    fontsize=\"large\",\n",
    "    pad=25,\n",
    ");"
   ]
  },
  {
   "cell_type": "markdown",
   "metadata": {},
   "source": [
    "This looks a lot better.  We can see the central filament a lot more clearly."
   ]
  },
  {
   "cell_type": "code",
   "execution_count": null,
   "metadata": {},
   "outputs": [],
   "source": [
    "inwing = (hacube.select_lambda(6578.0, 6583.0) - cont6600).sum(axis=0)\n",
    "fig = plt.figure(figsize=(10, 10))\n",
    "inwing.mask = inwing.mask | (cont6600.data > 2000.0)\n",
    "margin = 10\n",
    "inwing.mask[:margin, :] = True\n",
    "inwing.mask[-margin:, :] = True\n",
    "inwing.mask[:, :margin] = True\n",
    "inwing.mask[:, -margin:] = True\n",
    "inwing.rebin(4).plot(\n",
    "    use_wcs=True,\n",
    "    vmin=0,\n",
    "    vmax=100,\n",
    "    cmap=\"viridis\",\n",
    "    scale=\"linear\",\n",
    "    colorbar=\"v\",\n",
    ")\n",
    "fig.axes[0].set_title(\n",
    "    r\"Hα near red wing: $4\\times4$ binning\",\n",
    "    fontsize=\"large\",\n",
    "    pad=25,\n",
    ");"
   ]
  },
  {
   "cell_type": "code",
   "execution_count": null,
   "metadata": {},
   "outputs": [],
   "source": [
    "bluewing = (hacube.select_lambda(6540.0, 6549.0) - cont6600).sum(axis=0)\n",
    "fig = plt.figure(figsize=(10, 10))\n",
    "bluewing.mask = bluewing.mask | (cont6600.data > 2000.0)\n",
    "bluewing.mask[:margin, :] = True\n",
    "bluewing.mask[-margin:, :] = True\n",
    "bluewing.mask[:, :margin] = True\n",
    "bluewing.mask[:, -margin:] = True\n",
    "bluewing.rebin(4).plot(\n",
    "    use_wcs=True,\n",
    "    vmin=0,\n",
    "    vmax=150,\n",
    "    cmap=\"viridis\",\n",
    "    scale=\"linear\",\n",
    "    colorbar=\"v\",\n",
    ")\n",
    "fig.axes[0].set_title(\n",
    "    r\"Hα blue wing: $4\\times4$ binning\",\n",
    "    fontsize=\"large\",\n",
    "    pad=25,\n",
    ");"
   ]
  },
  {
   "cell_type": "code",
   "execution_count": null,
   "metadata": {},
   "outputs": [],
   "source": [
    "hacore = (hacube.select_lambda(6555.0, 6578.0) - cont6600).sum(axis=0)\n",
    "fig = plt.figure(figsize=(10, 10))\n",
    "hacore.mask = hacore.mask | (cont6600.data > 10000.0)\n",
    "hacore.rebin(1).plot(\n",
    "    use_wcs=True,\n",
    "    vmin=0,\n",
    "    vmax=2e5,\n",
    "    cmap=\"magma\",\n",
    "    scale=\"linear\",\n",
    "    colorbar=\"v\",\n",
    ")\n",
    "fig.axes[0].set_title(\n",
    "    \"Hα line core: full resolution\",\n",
    "    fontsize=\"large\",\n",
    "    pad=25,\n",
    ");"
   ]
  },
  {
   "cell_type": "markdown",
   "metadata": {},
   "source": [
    "## Extract spectrum for rectangular regions\n",
    "\n",
    "Make some box regions for extracting the spectra.  I use the astropy affiliated `regions` package (see [docs](https://astropy-regions.readthedocs.io/en/latest/))"
   ]
  },
  {
   "cell_type": "code",
   "execution_count": null,
   "metadata": {},
   "outputs": [],
   "source": [
    "import regions"
   ]
  },
  {
   "cell_type": "markdown",
   "metadata": {},
   "source": [
    "I make four boxes. The first two are in regions where the Raman wing is strong, while the second two are where it is weak."
   ]
  },
  {
   "cell_type": "code",
   "execution_count": null,
   "metadata": {},
   "outputs": [],
   "source": [
    "boxes = [\n",
    "    # regions.BoundingBox(iymin=100, iymax=140, ixmin=15, ixmax=40),\n",
    "    regions.BoundingBox(iymin=75, iymax=140, ixmin=15, ixmax=40),\n",
    "    # regions.BoundingBox(iymin=180, iymax=240, ixmin=240, ixmax=300),\n",
    "    regions.BoundingBox(iymin=200, iymax=250, ixmin=210, ixmax=300),\n",
    "    regions.BoundingBox(iymin=10, iymax=50, ixmin=100, ixmax=150),\n",
    "    regions.BoundingBox(iymin=10, iymax=100, ixmin=200, ixmax=300),\n",
    "    regions.BoundingBox(iymin=170, iymax=210, ixmin=90, ixmax=120),\n",
    "]"
   ]
  },
  {
   "cell_type": "markdown",
   "metadata": {},
   "source": [
    "Plot an image of the entire bandbass in pixel coordinates and plot the boxes on top of it:"
   ]
  },
  {
   "cell_type": "code",
   "execution_count": null,
   "metadata": {},
   "outputs": [],
   "source": [
    "fig, ax = plt.subplots(figsize=(10, 10))\n",
    "wing.rebin(1).plot(\n",
    "    vmin=0,\n",
    "    vmax=50,\n",
    "    scale=\"linear\",\n",
    ")\n",
    "for box, c in zip(boxes, \"brmgc\"):\n",
    "    box.plot(\n",
    "        ax=ax,\n",
    "        lw=3,\n",
    "        edgecolor=c,\n",
    "        linestyle=\"dashed\",\n",
    "        facecolor=(1.0, 1.0, 1.0, 0.4),\n",
    "        fill=True,\n",
    "    );"
   ]
  },
  {
   "cell_type": "markdown",
   "metadata": {},
   "source": [
    "We can get the pixel slices from each box like this:"
   ]
  },
  {
   "cell_type": "code",
   "execution_count": null,
   "metadata": {},
   "outputs": [],
   "source": [
    "boxes[0].slices"
   ]
  },
  {
   "cell_type": "markdown",
   "metadata": {},
   "source": [
    "So we can extract the spectrum for each box."
   ]
  },
  {
   "cell_type": "code",
   "execution_count": null,
   "metadata": {},
   "outputs": [],
   "source": [
    "hacube.mask = hacube.mask\n",
    "hacube.sum(axis=0).plot(scale='log')"
   ]
  },
  {
   "cell_type": "markdown",
   "metadata": {},
   "source": [
    "I plot the spectrum for each box and also fit the continuum, so we can easily see if there are any Raman wings present."
   ]
  },
  {
   "cell_type": "code",
   "execution_count": null,
   "metadata": {},
   "outputs": [],
   "source": [
    "fig, ax = plt.subplots(figsize=(10, 6))\n",
    "offset = 0.0\n",
    "for box, c in zip(boxes, \"brmgc\"):\n",
    "    yslice, xslice = box.slices\n",
    "    spec = hacube[:, yslice, xslice].mean(axis=(1, 2))\n",
    "    spec /= spec[-1]\n",
    "    spec += offset\n",
    "    spec.plot(c=c, linewidth=1.5, label=f\"box {c}\")\n",
    "    spec2 = spec.copy()\n",
    "    #spec2.mask_region(6200, 6320)\n",
    "    spec2.mask_region(6270, 6320)\n",
    "    spec2.mask_region(6350, 6390)\n",
    "    spec2.mask_region(6450, 6695)\n",
    "    spec2.mask_region(6712, 6740)\n",
    "    cont = spec2.poly_spec(4)\n",
    "    cont.plot(c=\"k\", linewidth=0.5)\n",
    "    spec2.plot(c=\"y\", linewidth=10, alpha=0.7, zorder=-100)\n",
    "    offset += 0.1\n",
    "\n",
    "ax.axvline(6633.0 * (1.0 + 160/3e5), color=\"k\", lw=0.5)\n",
    "ax.axvline(6664.0 * (1.0 + 160/3e5), color=\"k\", lw=0.5)\n",
    "\n",
    "ax.axvspan(6594.20, 6611.20, color=\"r\", alpha=0.3, zorder=-100)\n",
    "ax.axvspan(6612.05, 6628.20, color=\"r\", alpha=0.2, zorder=-100)\n",
    "ax.axvspan(6638.40, 6660.5, color=\"r\", alpha=0.1, zorder=-100)\n",
    "\n",
    "ax.legend()\n",
    "ax.set(ylim=[0.9,2.0], ylabel=r\"$F_\\lambda / F_{6800}$ + offset\")\n",
    "sns.despine()"
   ]
  },
  {
   "cell_type": "markdown",
   "metadata": {},
   "source": [
    "The two boxes that were selected to cover the central filament (blue and red) show clear wings.  Better seen on the red side, but also there on the blue.\n",
    "\n",
    "The other two boxes, which are off the filament (magenta and green) show no Raman wings at all.\n",
    "\n",
    "The thick yellow lines show the wavelength sections that are used for fitting the continuum (3rd-order polynomial).\n",
    "\n",
    "I have put vertical lines at the wavelengths of the 6633 and 6664 features, assuming redshift of 160 km/s.  The 6633 feature is in the middle of two emission lines. What are they? **Could be night sky airglow lines**"
   ]
  },
  {
   "cell_type": "markdown",
   "metadata": {},
   "source": [
    "## Choose suitable bands to measure the Raman wings\n",
    "\n",
    "In the Orion paper, we have the 3 closest bands in the red wing: R040, R058, R087.  These are marked by pink boxes in the previous figure.\n",
    "\n",
    "In order to stand a chance of getting good maps, we need to get a better estimate of the continuum than the cont6600 that we used above, since this includes part of the Raman wing that we want to measure.\n",
    "\n",
    "On the other hand, fitting a 3rd of 4th order polynomial, like we just did for the rectangular boxes is not practical since the individual pixels are too noisy.\n",
    "\n",
    "A compromise would be to fit a linear trend between the continuum around 6400 and the continuum around 6700.\n",
    "\n",
    "The above figure shows that the continuum is approximately linear over this range. *We should check if there are any absorption edges that might cause discontinuities in the continuum*"
   ]
  },
  {
   "cell_type": "code",
   "execution_count": null,
   "metadata": {},
   "outputs": [],
   "source": [
    "spec4fit = hacube.copy().select_lambda(6390, 6760)\n",
    "\n",
    "testpixels = [\n",
    "    [25, 250],\n",
    "    [50, 80],\n",
    "    [310, 225],\n",
    "    [70, 250],\n",
    "    [75, 200],\n",
    "    [220, 250],\n",
    "    [200, 100],\n",
    "    [20, 230],\n",
    "    [110, 26],\n",
    "]\n",
    "fig, axes = plt.subplots(\n",
    "    3,\n",
    "    3,\n",
    "    figsize=(10, 8),\n",
    "    sharex=True,\n",
    "    sharey=\"row\",\n",
    ")\n",
    "for (j, i), ax in zip(testpixels, axes.flat):\n",
    "    spec1d = spec4fit.copy()[:, j, i]\n",
    "    spec1d.mask_region(6445, 6690)\n",
    "    spec1d.mask_region(6710, 6745)\n",
    "    cont = spec1d.poly_spec(1)\n",
    "    spec4fit[:, j, i].plot(ax=ax)\n",
    "    cont.plot(ax=ax, linewidth=0.5, c=\"k\")\n",
    "    spec1d.plot(ax=ax, c=\"y\", linewidth=10, alpha=0.7, zorder=-100)\n",
    "    ax.set(xlabel=\"\", ylabel=\"\")\n",
    "    ax.set_title(f\"[{j}, {i}]\")\n",
    "axes[0, 0].set(ylim=[-10, 50])\n",
    "axes[1, 0].set(ylim=[-10, 50])\n",
    "axes[2, 0].set(ylim=[-10, 50])\n",
    "fig.suptitle(\"Test of continuum fitting for selected pixels\")\n",
    "sns.despine()\n",
    "fig.tight_layout()"
   ]
  },
  {
   "cell_type": "markdown",
   "metadata": {},
   "source": [
    "That seems to have worked OK.  Now we need to do this for every pixel."
   ]
  },
  {
   "cell_type": "markdown",
   "metadata": {},
   "source": [
    "## Fit the continuum pixel-by-pixel to the whole cube"
   ]
  },
  {
   "cell_type": "code",
   "execution_count": null,
   "metadata": {},
   "outputs": [],
   "source": [
    "from mpdaf.obj import iter_spe\n",
    "\n",
    "spec4fit = hacube.copy().select_lambda(6390, 6760)\n",
    "spec4fit.mask = spec4fit.mask | spec1d.mask[:, None, None]\n",
    "cont_cube = spec4fit.clone(data_init=np.empty, var_init=np.zeros)"
   ]
  },
  {
   "cell_type": "code",
   "execution_count": null,
   "metadata": {},
   "outputs": [],
   "source": [
    "# TOO SLOW - DO NOT RUN!\n",
    "#\n",
    "#for sp, co in zip(iter_spe(spec4fit), iter_spe(cont_cube)):\n",
    "#    if not np.alltrue(sp.mask):\n",
    "#        co[:] = sp.poly_spec(1)"
   ]
  },
  {
   "cell_type": "markdown",
   "metadata": {},
   "source": [
    "This is ridiculously slow.  I need to rewrite it to do my own continuum fitting.  It turns out that the problem is that iterating over the individual `Spectrum` objects in a `Cube` is very inefficient.  So I have to make sure to iterate over just the `.data` components, which are numpy arrays."
   ]
  },
  {
   "cell_type": "code",
   "execution_count": null,
   "metadata": {},
   "outputs": [],
   "source": [
    "from numpy.polynomial import Chebyshev as T\n",
    "import itertools"
   ]
  },
  {
   "cell_type": "code",
   "execution_count": null,
   "metadata": {},
   "outputs": [],
   "source": [
    "nv, ny, nx = spec4fit.shape\n",
    "wavs = spec4fit.wave.coord()"
   ]
  },
  {
   "cell_type": "code",
   "execution_count": null,
   "metadata": {},
   "outputs": [],
   "source": [
    "spec1d = spec4fit.mean(axis=(1, 2))\n",
    "spec1d.mask_region(6445, 6690)\n",
    "spec1d.mask_region(6710, 6745)\n",
    "\n",
    "m = ~spec1d.mask\n",
    "m.sum(), m.shape"
   ]
  },
  {
   "cell_type": "code",
   "execution_count": null,
   "metadata": {},
   "outputs": [],
   "source": [
    "for j, i in itertools.product(range(ny), range(nx)):\n",
    "    spec1d = spec4fit.data[:, j, i]\n",
    "    if i == 100 and j % 10 == 0:\n",
    "        # Give an indication of progress every 10th row\n",
    "        print(j, m.sum())\n",
    "    try:\n",
    "        p = T.fit(wavs[m], spec1d[m], deg=1)\n",
    "        cont_cube.data[:, j, i] = p(wavs)\n",
    "    except:\n",
    "        pass"
   ]
  },
  {
   "cell_type": "code",
   "execution_count": null,
   "metadata": {},
   "outputs": [],
   "source": [
    "spec4fit.unmask()"
   ]
  },
  {
   "cell_type": "code",
   "execution_count": null,
   "metadata": {},
   "outputs": [],
   "source": [
    "spec4fit[:, 100, 100].mask"
   ]
  },
  {
   "cell_type": "code",
   "execution_count": null,
   "metadata": {},
   "outputs": [],
   "source": [
    "cont_cube.sum(axis=0).plot(scale=\"log\")"
   ]
  },
  {
   "cell_type": "code",
   "execution_count": null,
   "metadata": {
    "pycharm": {
     "name": "#%%\n"
    }
   },
   "outputs": [],
   "source": [
    "(spec4fit - cont_cube).sum(axis=0).plot(vmin=0, vmax=1e6, scale=\"sqrt\")"
   ]
  },
  {
   "cell_type": "code",
   "execution_count": null,
   "metadata": {
    "pycharm": {
     "name": "#%%\n"
    }
   },
   "outputs": [],
   "source": [
    "\n",
    "fig, ax = plt.subplots(figsize=(10, 6))\n",
    "offset = 0.0\n",
    "for box, c in zip(boxes, \"brmgc\"):\n",
    "    yslice, xslice = box.slices\n",
    "    spec = spec4fit[:, yslice, xslice].mean(axis=(1, 2))\n",
    "    spec /= spec[-1]\n",
    "    spec += offset\n",
    "    cont = cont_cube[:, yslice, xslice].mean(axis=(1, 2))\n",
    "    cont /= cont[-1]\n",
    "    cont += offset\n",
    "    spec.plot(c=c, linewidth=1.5, label=f\"box {c}\")\n",
    "    cont.plot(c=\"k\", linewidth=0.5)\n",
    "    offset += 0.1\n",
    "\n",
    "ax.axvline(6633.0 * (1.0 + 160/3e5), color=\"k\", lw=0.5)\n",
    "ax.axvline(6664.0 * (1.0 + 160/3e5), color=\"k\", lw=0.5)\n",
    "\n",
    "ax.axvspan(6594.20, 6611.20, color=\"r\", alpha=0.3, zorder=-100)\n",
    "ax.axvspan(6612.05, 6628.20, color=\"r\", alpha=0.2, zorder=-100)\n",
    "ax.axvspan(6638.40, 6660.5, color=\"r\", alpha=0.1, zorder=-100)\n",
    "\n",
    "ax.legend()\n",
    "ax.set(ylim=[0.9,2.0], ylabel=r\"$F_\\lambda / F_{6800}$ + offset\")\n",
    "sns.despine()"
   ]
  },
  {
   "cell_type": "markdown",
   "metadata": {},
   "source": [
    "Copy the limits of the Raman bands from the Orion project:"
   ]
  },
  {
   "cell_type": "code",
   "execution_count": null,
   "metadata": {},
   "outputs": [],
   "source": [
    "bands = {\n",
    "    \"B133\": [6414.85, 6445.45],\n",
    "    \"B080\": [6469.25, 6496.45],\n",
    "    \"B054\": [6499.85, 6517.7],\n",
    "    \"B033\": [6518.55, 6540.65],\n",
    "    \"R040\": [6594.2, 6611.2],\n",
    "    \"R058\": [6612.05, 6628.2],\n",
    "    \"R087\": [6638.4, 6660.5],\n",
    "    \"R136\": [6688.55, 6708.95],\n",
    "}\n"
   ]
  },
  {
   "cell_type": "code",
   "execution_count": null,
   "metadata": {},
   "outputs": [],
   "source": [
    "bandcubes = {}\n",
    "for band in bands:\n",
    "    lam1, lam2 = bands[band]\n",
    "    bandcubes[band] = (spec4fit - cont_cube).select_lambda(lam1, lam2)"
   ]
  },
  {
   "cell_type": "markdown",
   "metadata": {},
   "source": [
    "## Continuum-subtracted images of the red bands"
   ]
  },
  {
   "cell_type": "code",
   "execution_count": null,
   "metadata": {},
   "outputs": [],
   "source": [
    "fig, axes = plt.subplots(\n",
    "    2, 2,\n",
    "    figsize=(10, 10),\n",
    "    sharex=True, sharey=True,\n",
    ")\n",
    "rbands = list(bands)[4:]\n",
    "for band, ax in zip(rbands, axes.flat):\n",
    "    bandcubes[band].sum(axis=0).plot(\n",
    "        ax=ax, vmin=0, vmax=50,\n",
    "    )\n",
    "    ax.set_title(band)\n",
    "fig.tight_layout()"
   ]
  },
  {
   "cell_type": "markdown",
   "metadata": {},
   "source": [
    "So, we can se *something* in all the bands, but the first two are best.\n",
    "\n",
    "I am in two minds whether to mask out the point sources or not"
   ]
  },
  {
   "cell_type": "markdown",
   "metadata": {},
   "source": [
    "## Continuum-subtracted images of the blue bands"
   ]
  },
  {
   "cell_type": "code",
   "execution_count": null,
   "metadata": {},
   "outputs": [],
   "source": [
    "fig, axes = plt.subplots(\n",
    "    2, 2,\n",
    "    figsize=(10, 10),\n",
    "    sharex=True, sharey=True,\n",
    ")\n",
    "bbands = reversed(list(bands)[:4])\n",
    "for band, ax in zip(bbands, axes.flat):\n",
    "    bandcubes[band].sum(axis=0).plot(\n",
    "        ax=ax, vmin=0, vmax=50,\n",
    "    )\n",
    "    ax.set_title(band)\n",
    "fig.tight_layout();"
   ]
  },
  {
   "cell_type": "markdown",
   "metadata": {},
   "source": [
    "The last band does not show anything, but the other three do."
   ]
  },
  {
   "cell_type": "code",
   "execution_count": null,
   "metadata": {
    "pycharm": {
     "name": "#%%\n"
    }
   },
   "outputs": [],
   "source": [
    "for band in bandcubes:\n",
    "    savefile = savepath / f\"ngc346-raman-{band}-peter.fits\"\n",
    "    bandcubes[band].sum(axis=0).write(\n",
    "        savefile,\n",
    "        savemask=\"nan\",\n",
    "        checksum=True,\n",
    "    )"
   ]
  },
  {
   "cell_type": "markdown",
   "metadata": {},
   "source": [
    "## Ratio of wing to core"
   ]
  },
  {
   "cell_type": "code",
   "execution_count": null,
   "metadata": {},
   "outputs": [],
   "source": [
    "hacore = (spec4fit - cont_cube).select_lambda(6560.0, 6572.0)"
   ]
  },
  {
   "cell_type": "code",
   "execution_count": null,
   "metadata": {},
   "outputs": [],
   "source": [
    "redsum = (bandcubes[\"R040\"].sum(axis=0) +  bandcubes[\"R058\"].sum(axis=0))\n",
    "r = redsum / hacore.sum(axis=0)\n",
    "starmask = cont_cube.sum(axis=0).data > 10*hacore.sum(axis=0).data\n",
    "faintmask = hacore.sum(axis=0).data < 5e3\n",
    "r.mask = r.mask | (r.data < 0.0) | starmask | (redsum.data < 10.0) | faintmask"
   ]
  },
  {
   "cell_type": "code",
   "execution_count": null,
   "metadata": {
    "pycharm": {
     "name": "#%%\n"
    }
   },
   "outputs": [],
   "source": [
    "fig, ax = plt.subplots(figsize=(10, 10))\n",
    "\n",
    "r.rebin(2).plot(vmin=0, vmax=0.002, cmap=\"gray_r\", scale=\"linear\")\n",
    "ax.contour(\n",
    "    hacore.sum(axis=0).rebin(2).data,\n",
    "    levels=[8e4, 12e4, 16e4, 32e4],\n",
    "    cmap=\"YlOrRd_r\",\n",
    ")"
   ]
  },
  {
   "cell_type": "code",
   "execution_count": null,
   "metadata": {
    "pycharm": {
     "name": "#%%\n"
    }
   },
   "outputs": [],
   "source": [
    "hacore.sum(axis=0).plot(vmin=0, vmax=2e5)"
   ]
  },
  {
   "cell_type": "markdown",
   "metadata": {},
   "source": [
    "This shows a clear difference in distribution between the wings and the core.\n",
    "\n",
    "- [ ] **TODO** I should compare with the [S II]/Ha ratio"
   ]
  },
  {
   "cell_type": "markdown",
   "metadata": {},
   "source": [
    "## Look at the very brightest Raman pixels\n",
    "\n",
    "These are all close to stars, but they are not actually stellar emission."
   ]
  },
  {
   "cell_type": "code",
   "execution_count": null,
   "metadata": {},
   "outputs": [],
   "source": [
    "cube_select = spec4fit - cont_cube\n",
    "brightest_wing = redsum.data > 200.0\n",
    "cube_select.mask = cube_select.mask | ~brightest_wing\n",
    "\n",
    "# Trim off noisy bands close to edges\n",
    "cube_select.mask[:, :, 310:] = True\n",
    "#cube_select.mask[:, :10, :] = True\n",
    "#cube_select.mask[:, :, :15] = True\n",
    "cube_select.mask[:, -15:, :] = True\n",
    "\n",
    "cont_cube_select = cont_cube.copy()\n",
    "cont_cube_select.mask = cube_select.mask\n",
    "\n",
    "lam1, lam2 = bands[\"R040\"][0], bands[\"R058\"][1]\n",
    "\n",
    "fig, ax = plt.subplots(figsize=(10, 10))\n",
    "(cube_select\n",
    " .select_lambda(lam1, lam2)\n",
    " .sum(axis=0)\n",
    " .plot(vmin=0, vmax=10000, scale=\"sqrt\")\n",
    ");"
   ]
  },
  {
   "cell_type": "code",
   "execution_count": null,
   "metadata": {
    "pycharm": {
     "name": "#%%\n"
    }
   },
   "outputs": [],
   "source": [
    "fig, ax = plt.subplots(figsize=(10, 5))\n",
    "cube_select.sum(axis=(1, 2)).plot(\n",
    "    label=\"continuum-subtracted\",\n",
    ")\n",
    "(0.03*cont_cube_select.sum(axis=(1, 2))).plot(\n",
    "    label=\"0.03 x continuum\",\n",
    ")\n",
    "ax.legend()\n",
    "ax.axhline(0.0, c=\"k\", linewidth=1)\n",
    "ax.axhline(5e4, c=\"k\", linewidth=0.5, linestyle=\"dashed\")\n",
    "ax.axvline(6633.0 * (1.0 + 160/3e5), color=\"k\", lw=0.5)\n",
    "ax.axvline(6664.0 * (1.0 + 160/3e5), color=\"k\", lw=0.5)\n",
    "ax.set(ylim=[-1e5, 5e5]);"
   ]
  },
  {
   "cell_type": "markdown",
   "metadata": {},
   "source": [
    "***We see the Raman absorption lines!!***\n",
    "\n",
    "Note that this spectrum is dominated by the bright knot seen in the emission line maps, which seems to be associated with a young high-mass star.\n",
    "\n",
    "There are two other bright knots too.\n",
    "\n",
    "The total brightness of the Raman wings from these knots is higher than that of the diffuse emission from the entire rest of the nebula (see below)."
   ]
  },
  {
   "cell_type": "markdown",
   "metadata": {},
   "source": [
    "*Note that multiplying a `Cube` by a constant destroys the mask, so we need to do the sum before multiplying*"
   ]
  },
  {
   "cell_type": "markdown",
   "metadata": {},
   "source": [
    "Another thing – some of this flux comes from some very bright pixels towards the edge of the map.  I had originally masked them all out (see the comment `# Trim off noisy bands close to edges` above), but I have reinstated the bottom and left edges, since they made quite a difference.\n",
    "\n",
    "- [ ] **TODO:** investigate this further"
   ]
  },
  {
   "cell_type": "markdown",
   "metadata": {},
   "source": [
    "## Look at the diffuse but still bright Raman pixels"
   ]
  },
  {
   "cell_type": "code",
   "execution_count": null,
   "metadata": {
    "pycharm": {
     "name": "#%%\n"
    }
   },
   "outputs": [],
   "source": [
    "cube_select2 = spec4fit - cont_cube\n",
    "\n",
    "good_wing = (redsum.data > 80.0)\n",
    "cube_select2.mask = cube_select2.mask | brightest_wing | ~good_wing | starmask\n",
    "\n",
    "# Trim off noisy bands close to edges\n",
    "cube_select2.mask[:, :, 310:] = True\n",
    "cube_select2.mask[:, :10, :] = True\n",
    "cube_select2.mask[:, :, :15] = True\n",
    "cube_select2.mask[:, -15:, :] = True\n",
    "\n",
    "cont_cube_select2 = cont_cube.copy()\n",
    "cont_cube_select2.mask = cube_select2.mask\n",
    "\n",
    "lam1, lam2 = bands[\"R040\"][0], bands[\"R058\"][1]\n",
    "\n",
    "fig, ax = plt.subplots(figsize=(10, 10))\n",
    "(cube_select2\n",
    " .select_lambda(lam1, lam2)\n",
    " .sum(axis=0).rebin(1)\n",
    " .plot(vmin=0, vmax=150, cmap=\"magma_r\")\n",
    ");"
   ]
  },
  {
   "cell_type": "code",
   "execution_count": null,
   "metadata": {
    "pycharm": {
     "name": "#%%\n"
    }
   },
   "outputs": [],
   "source": [
    "fig, ax = plt.subplots(figsize=(10, 5))\n",
    "cube_select2.sum(axis=(1, 2)).plot(\n",
    "    label=\"diffuse Raman wings\",\n",
    ")\n",
    "(0.03*cont_cube_select2.sum(axis=(1, 2))).plot(\n",
    "    label=\"0.03 x continuum (diffuse)\",\n",
    ")\n",
    "cube_select.sum(axis=(1, 2)).plot(\n",
    "    label=\"compact Raman wings\",\n",
    "    linewidth=1, alpha=0.6,\n",
    "    color=\"r\",\n",
    ")\n",
    "ax.legend()\n",
    "ax.axhline(0.0, c=\"k\", linewidth=1)\n",
    "ax.axvline(6633.0 * (1.0 + 160/3e5), color=\"k\", lw=0.5)\n",
    "ax.axvline(6664.0 * (1.0 + 160/3e5), color=\"k\", lw=0.5)\n",
    "ax.set(ylim=[-1e5, 5e5]);"
   ]
  },
  {
   "cell_type": "markdown",
   "metadata": {},
   "source": [
    "## Sources of interest\n",
    "\n",
    "1. The bright knot (j, i, = 147, 122)\n",
    "2. The cometary globule (j, i = 180, 109)\n",
    "3. The corner globule (j, i = 40, 40) – has a faint embedded Hα point source with high linewidth, but the Ramn scattering is more extended.\n",
    "4. The blue ball (j, i = 99, 59).  Much brighter in the innermost bands.  Perhaps it is not Raman scattering at all, but is a fast outflow?\n",
    "\n",
    "Actually, I will come back to this later. It would be easier to take notes in the org file."
   ]
  },
  {
   "cell_type": "code",
   "execution_count": null,
   "metadata": {
    "pycharm": {
     "name": "#%%\n"
    }
   },
   "outputs": [],
   "source": [
    "cube_save = spec4fit - cont_cube\n",
    "cube_save.write(\n",
    "    savepath / \"ngc346-ha-plus-wings-cube-peter.fits\",\n",
    "    savemask=\"nan\",\n",
    "    checksum=True,\n",
    ")"
   ]
  },
  {
   "cell_type": "code",
   "execution_count": null,
   "metadata": {},
   "outputs": [],
   "source": []
  }
 ],
 "metadata": {
  "kernelspec": {
   "display_name": "Python 3",
   "language": "python",
   "name": "python3"
  },
  "language_info": {
   "codemirror_mode": {
    "name": "ipython",
    "version": 2
   },
   "file_extension": ".py",
   "mimetype": "text/x-python",
   "name": "python",
   "nbconvert_exporter": "python",
   "pygments_lexer": "ipython2",
   "version": "2.7.6"
  }
 },
 "nbformat": 4,
 "nbformat_minor": 0
}
