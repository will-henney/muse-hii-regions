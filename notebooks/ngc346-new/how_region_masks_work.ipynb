{
 "cells": [
  {
   "cell_type": "markdown",
   "metadata": {
    "pycharm": {
     "name": "#%% md\n"
    }
   },
   "source": [
    "# How region masks work\n",
    "\n",
    "These are the regions defiend in the `regions` library. They can be read from DS9 files or created by hand. There are versions in pixel and celestial sky coordinates, but here I will concentrate only on the pixel regions."
   ]
  },
  {
   "cell_type": "code",
   "execution_count": null,
   "metadata": {
    "pycharm": {
     "name": "#%%\n"
    }
   },
   "outputs": [],
   "source": [
    "from pathlib import Path\n",
    "import numpy as np\n",
    "import regions as rg\n",
    "import seaborn as sns\n",
    "from matplotlib import pyplot as plt\n",
    "from mpdaf.obj import Image, Cube\n",
    "\n",
    "sns.set_context(\"talk\")"
   ]
  },
  {
   "cell_type": "markdown",
   "metadata": {
    "pycharm": {
     "name": "#%% md\n"
    }
   },
   "source": [
    "## TLDR recommendations\n",
    "\n",
    "For 2d images that are not too large, then we can just use\n",
    "1. `reg.to_mask().to_image(image)` which returns a logical mask of the same shape as the image\n",
    "2. or `reg.to_mask().multiply(image)` which directly applies the multiplication\n",
    "\n",
    "For 3d cubes, we can use `slices_large` which is the first of two results returned from `reg.to_mask().get_overlap_slices(shape)`. This is the slices into the image dimensions of the cube that extracts the bounding box of the region. Then we can extend that along the spectral axis. For non-rotated rectangular regions, this is enough. But for more general shapes, we can also apply it to the result of `.to_image()`"
   ]
  },
  {
   "cell_type": "code",
   "execution_count": null,
   "metadata": {
    "pycharm": {
     "name": "#%%\n"
    }
   },
   "outputs": [],
   "source": [
    "small_data_path = Path.cwd().parent.parent / \"data\"\n",
    "region_file = \"ngc346-jesus-muse-pixels.reg\"\n",
    "pixel_regions = rg.Regions.read(small_data_path / region_file)"
   ]
  },
  {
   "cell_type": "code",
   "execution_count": null,
   "metadata": {
    "pycharm": {
     "name": "#%%\n"
    }
   },
   "outputs": [],
   "source": [
    "line_map = Image(str(small_data_path / \"ngc346-rgbchan-xxx-8151-sum.fits\"))"
   ]
  },
  {
   "cell_type": "code",
   "execution_count": null,
   "metadata": {
    "pycharm": {
     "name": "#%%\n"
    }
   },
   "outputs": [],
   "source": [
    "region_dict = {reg.meta[\"label\"]: reg for reg in pixel_regions}"
   ]
  },
  {
   "cell_type": "code",
   "execution_count": null,
   "metadata": {
    "pycharm": {
     "name": "#%%\n"
    }
   },
   "outputs": [],
   "source": [
    "vmin, vmax = 0.0, 100.0"
   ]
  },
  {
   "cell_type": "code",
   "execution_count": null,
   "metadata": {
    "pycharm": {
     "name": "#%%\n"
    }
   },
   "outputs": [],
   "source": [
    "fig, ax = plt.subplots(figsize=(8, 8))\n",
    "line_map.plot(vmin=vmin, vmax=vmax, ax=ax, cmap=\"gray_r\", title=\"Positions of sample regions\")\n",
    "for label, reg in region_dict.items():\n",
    "    is_bg = label.endswith(\" bg\")\n",
    "    linestyle = \"dotted\" if is_bg else \"solid\"\n",
    "    fontweight = \"normal\" if is_bg else \"bold\"\n",
    "    reg.plot(ax=ax, facecolor='none', edgecolor='red',\n",
    "             lw=2,\n",
    "             linestyle=linestyle,\n",
    "             )\n",
    "    ax.text(reg.center.x, reg.center.y, label,\n",
    "            ha=\"center\", va=\"center\", fontsize=\"xx-small\", fontweight=fontweight, color=\"w\")\n",
    "...;"
   ]
  },
  {
   "cell_type": "markdown",
   "metadata": {
    "pycharm": {
     "name": "#%% md\n"
    }
   },
   "source": [
    "Look at one particular region in detail and create a region mask object:"
   ]
  },
  {
   "cell_type": "code",
   "execution_count": null,
   "metadata": {
    "pycharm": {
     "name": "#%%\n"
    }
   },
   "outputs": [],
   "source": [
    "region = region_dict[\"FIL\"]\n",
    "region_mask = region.to_mask()"
   ]
  },
  {
   "cell_type": "markdown",
   "metadata": {
    "pycharm": {
     "name": "#%% md\n"
    }
   },
   "source": [
    "We can get two sets of slices. The first is the more useful, which is the slices into the full  image array that corresponds to the bounding box of the mask. The second is the same, but into the small mask cutout array, which is only necessary if the mask goes outside of the image."
   ]
  },
  {
   "cell_type": "code",
   "execution_count": null,
   "metadata": {
    "pycharm": {
     "name": "#%%\n"
    }
   },
   "outputs": [],
   "source": [
    "slices_large, slices_small = region_mask.get_overlap_slices(line_map.data.shape)\n",
    "slices_large, slices_small"
   ]
  },
  {
   "cell_type": "markdown",
   "metadata": {
    "pycharm": {
     "name": "#%% md\n"
    }
   },
   "source": [
    "We will check that `slices_small` is just the full size of the cutout rectangle in this case:"
   ]
  },
  {
   "cell_type": "code",
   "execution_count": null,
   "metadata": {
    "pycharm": {
     "name": "#%%\n"
    }
   },
   "outputs": [],
   "source": [
    "region_mask.cutout(line_map.data).shape"
   ]
  },
  {
   "cell_type": "markdown",
   "metadata": {
    "pycharm": {
     "name": "#%% md\n"
    }
   },
   "source": [
    "Now we will look at the different methods on the mask."
   ]
  },
  {
   "cell_type": "code",
   "execution_count": null,
   "metadata": {
    "pycharm": {
     "name": "#%%\n"
    }
   },
   "outputs": [],
   "source": [
    "fig, axes = plt.subplots(1, 3, sharex='all', sharey='all',  figsize=(12, 3))\n",
    "axes[0].imshow(\n",
    "    region_mask.cutout(line_map.data),\n",
    "    vmin=vmin, vmax=vmax, origin=\"lower\", cmap=\"gray_r\")\n",
    "axes[0].set_title(\"mask.cutout()\")\n",
    "axes[1].imshow(\n",
    "    region_mask.to_image(line_map.data.shape)[slices_large],\n",
    "    vmin=0, vmax=1.0, origin=\"lower\", cmap=\"gray_r\")\n",
    "axes[1].set_title(\"mask.to_image()[slices_large]\")\n",
    "axes[2].imshow(\n",
    "    region_mask.multiply(line_map.data),\n",
    "    vmin=vmin, vmax=vmax, origin=\"lower\", cmap=\"gray_r\")\n",
    "axes[2].set_title(\"mask.multiply()\")\n",
    "...;"
   ]
  },
  {
   "cell_type": "markdown",
   "metadata": {
    "pycharm": {
     "name": "#%% md\n"
    }
   },
   "source": [
    "How to extend this to cubes"
   ]
  },
  {
   "cell_type": "code",
   "execution_count": null,
   "metadata": {
    "pycharm": {
     "name": "#%%\n"
    }
   },
   "outputs": [],
   "source": [
    "(slice(None, None),) + slices_large"
   ]
  },
  {
   "cell_type": "code",
   "execution_count": null,
   "metadata": {
    "pycharm": {
     "name": "#%%\n"
    }
   },
   "outputs": [],
   "source": [
    "c = Cube(data=np.ones((2, 2, 2)))\n",
    "c"
   ]
  },
  {
   "cell_type": "code",
   "execution_count": null,
   "metadata": {
    "pycharm": {
     "name": "#%%\n"
    }
   },
   "outputs": [],
   "source": [
    "(c * np.asarray([[1, 0], [0, 0]])).data"
   ]
  },
  {
   "cell_type": "code",
   "execution_count": null,
   "metadata": {
    "pycharm": {
     "name": "#%%\n"
    }
   },
   "outputs": [],
   "source": []
  }
 ],
 "metadata": {
  "jupytext": {
   "formats": "ipynb,py:light"
  },
  "kernelspec": {
   "display_name": "Python 3",
   "language": "python",
   "name": "python3"
  },
  "language_info": {
   "codemirror_mode": {
    "name": "ipython",
    "version": 2
   },
   "file_extension": ".py",
   "mimetype": "text/x-python",
   "name": "python",
   "nbconvert_exporter": "python",
   "pygments_lexer": "ipython2",
   "version": "2.7.6"
  }
 },
 "nbformat": 4,
 "nbformat_minor": 0
}
