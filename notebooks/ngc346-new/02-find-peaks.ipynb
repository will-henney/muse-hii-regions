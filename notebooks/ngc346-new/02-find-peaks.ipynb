{
 "cells": [
  {
   "cell_type": "markdown",
   "metadata": {
    "pycharm": {
     "name": "#%% md\n"
    }
   },
   "source": [
    "# Automatically find peaks in the spectrum"
   ]
  },
  {
   "cell_type": "markdown",
   "metadata": {
    "pycharm": {
     "name": "#%% md\n"
    }
   },
   "source": [
    "## Imports\n",
    "\n",
    "Standard library imports"
   ]
  },
  {
   "cell_type": "code",
   "execution_count": null,
   "metadata": {
    "pycharm": {
     "name": "#%%\n"
    }
   },
   "outputs": [],
   "source": [
    "from pathlib import Path\n",
    "from typing import Union"
   ]
  },
  {
   "cell_type": "markdown",
   "metadata": {
    "pycharm": {
     "name": "#%% md\n"
    }
   },
   "source": [
    "Third-party  imports"
   ]
  },
  {
   "cell_type": "code",
   "execution_count": null,
   "metadata": {
    "pycharm": {
     "name": "#%%\n"
    }
   },
   "outputs": [],
   "source": [
    "import numpy as np\n",
    "import scipy.signal as si\n",
    "from matplotlib import pyplot as plt\n",
    "from matplotlib.ticker import MaxNLocator\n",
    "from astropy.table import Table\n",
    "from astropy.wcs import WCS\n",
    "from astropy.io import fits\n",
    "import seaborn as sns\n",
    "import cmasher as cmr\n",
    "from mpdaf.obj import Cube, Image, Spectrum\n",
    "import regions as rg\n",
    "\n",
    "sns.set_context(\"talk\")"
   ]
  },
  {
   "cell_type": "markdown",
   "metadata": {
    "pycharm": {
     "name": "#%% md\n"
    }
   },
   "source": [
    "Will's libraries"
   ]
  },
  {
   "cell_type": "code",
   "execution_count": null,
   "metadata": {
    "pycharm": {
     "name": "#%%\n"
    }
   },
   "outputs": [],
   "source": [
    "import wcsfile"
   ]
  },
  {
   "cell_type": "markdown",
   "metadata": {
    "pycharm": {
     "name": "#%% md\n"
    }
   },
   "source": [
    "## Paths for data files\n",
    "\n",
    "Files in `small_data_path` should not be too large to be checked into git"
   ]
  },
  {
   "cell_type": "code",
   "execution_count": null,
   "metadata": {
    "pycharm": {
     "name": "#%%\n"
    }
   },
   "outputs": [],
   "source": [
    "data_path = Path.cwd().parent.parent / \"big-data\" / \"ngc346new\"\n",
    "small_data_path = Path.cwd().parent.parent / \"data\""
   ]
  },
  {
   "cell_type": "markdown",
   "metadata": {
    "pycharm": {
     "name": "#%% md\n"
    }
   },
   "source": [
    "## Read in data files"
   ]
  },
  {
   "cell_type": "code",
   "execution_count": null,
   "metadata": {
    "pycharm": {
     "name": "#%%\n"
    }
   },
   "outputs": [],
   "source": [
    "cube = Cube(str(data_path / \"n346-muse-csub-101.fits\"))"
   ]
  },
  {
   "cell_type": "markdown",
   "metadata": {
    "pycharm": {
     "name": "#%% md\n"
    }
   },
   "source": [
    "Switch to reading the fits files directly"
   ]
  },
  {
   "cell_type": "code",
   "execution_count": null,
   "metadata": {
    "pycharm": {
     "name": "#%%\n"
    }
   },
   "outputs": [],
   "source": [
    "star_mask = fits.open(small_data_path / \"n346-mask-stars.fits\")[1].data\n",
    "yso_mask = fits.open(small_data_path / \"n346-mask-yso.fits\")[1].data"
   ]
  },
  {
   "cell_type": "code",
   "execution_count": null,
   "metadata": {
    "pycharm": {
     "name": "#%%\n"
    }
   },
   "outputs": [],
   "source": [
    "Image(data=star_mask - yso_mask).plot()"
   ]
  },
  {
   "cell_type": "code",
   "execution_count": null,
   "metadata": {
    "pycharm": {
     "name": "#%%\n"
    }
   },
   "outputs": [],
   "source": [
    "mask = np.where(yso_mask > 0.0, 1.0, np.nan)\n",
    "spec_yso = np.nanmean(cube.data * mask[None, :, :], axis=(1, 2))"
   ]
  },
  {
   "cell_type": "code",
   "execution_count": null,
   "metadata": {
    "pycharm": {
     "name": "#%%\n"
    }
   },
   "outputs": [],
   "source": [
    "fig, ax = plt.subplots(figsize=(12, 5))\n",
    "Spectrum(data=spec_yso, wave=cube.wave).plot()\n",
    "ax.set_ylim(-50, 200)\n",
    "ax.set_xlim(8100, 8600)\n",
    "...;"
   ]
  },
  {
   "cell_type": "code",
   "execution_count": null,
   "metadata": {
    "pycharm": {
     "name": "#%%\n"
    }
   },
   "outputs": [],
   "source": [
    "mask = np.where(yso_mask + star_mask == 0.0, 1.0, np.nan)\n",
    "spec_all = np.nanmean(cube.data * mask[None, :, :], axis=(1, 2))"
   ]
  },
  {
   "cell_type": "code",
   "execution_count": null,
   "metadata": {
    "pycharm": {
     "name": "#%%\n"
    }
   },
   "outputs": [],
   "source": [
    "fig, ax = plt.subplots(figsize=(12, 5))\n",
    "Spectrum(data=spec_all, wave=cube.wave).plot()\n",
    "ax.set_ylim(-5, 20)\n",
    "ax.set_xlim(6200, 6800)\n",
    "...;"
   ]
  },
  {
   "cell_type": "code",
   "execution_count": null,
   "metadata": {
    "pycharm": {
     "name": "#%%\n"
    }
   },
   "outputs": [],
   "source": [
    "peaks, props = si.find_peaks(spec_yso, prominence=5.0,   distance=4)"
   ]
  },
  {
   "cell_type": "code",
   "execution_count": null,
   "metadata": {
    "pycharm": {
     "name": "#%%\n"
    }
   },
   "outputs": [],
   "source": [
    "peaks"
   ]
  },
  {
   "cell_type": "code",
   "execution_count": null,
   "metadata": {
    "pycharm": {
     "name": "#%%\n"
    }
   },
   "outputs": [],
   "source": [
    "props['prominences']"
   ]
  },
  {
   "cell_type": "code",
   "execution_count": null,
   "metadata": {
    "pycharm": {
     "name": "#%%\n"
    }
   },
   "outputs": [],
   "source": [
    "wave = cube.wave"
   ]
  },
  {
   "cell_type": "code",
   "execution_count": null,
   "metadata": {
    "pycharm": {
     "name": "#%%\n"
    }
   },
   "outputs": [],
   "source": [
    "wave.coord()[peaks]"
   ]
  },
  {
   "cell_type": "code",
   "execution_count": null,
   "metadata": {
    "pycharm": {
     "name": "#%%\n"
    }
   },
   "outputs": [],
   "source": [
    "fig, ax = plt.subplots(figsize=(12, 5))\n",
    "Spectrum(data=spec_yso, wave=cube.wave).plot()\n",
    "ymax=200\n",
    "ax.scatter(wave.coord()[peaks], np.minimum(ymax, props[\"prominences\"]), marker=\".\", color=\"r\")\n",
    "ax.set_ylim(-50, ymax * 1.1)\n",
    "ax.set_xlim(8100, 8600)\n",
    "...;"
   ]
  },
  {
   "cell_type": "code",
   "execution_count": null,
   "metadata": {
    "pycharm": {
     "name": "#%%\n"
    }
   },
   "outputs": [],
   "source": [
    "fig, ax = plt.subplots(figsize=(12, 5))\n",
    "Spectrum(data=spec_yso, wave=cube.wave).plot()\n",
    "ymax=200\n",
    "ax.scatter(wave.coord()[peaks], np.minimum(ymax, props[\"prominences\"]), marker=\".\", color=\"r\")\n",
    "ax.set_ylim(-50, ymax * 1.1)\n",
    "ax.set_xlim(6200, 6800)\n",
    "...;"
   ]
  },
  {
   "cell_type": "code",
   "execution_count": null,
   "metadata": {
    "pycharm": {
     "name": "#%%\n"
    }
   },
   "outputs": [],
   "source": [
    "fig, ax = plt.subplots(figsize=(12, 5))\n",
    "Spectrum(data=spec_yso, wave=cube.wave).plot()\n",
    "ymax=200\n",
    "ax.scatter(wave.coord()[peaks], np.minimum(ymax, props[\"prominences\"]), marker=\".\", color=\"r\")\n",
    "ax.set_ylim(-50, ymax * 1.1)\n",
    "ax.set_xlim(4600, 5400)\n",
    "...;"
   ]
  },
  {
   "cell_type": "code",
   "execution_count": null,
   "metadata": {
    "pycharm": {
     "name": "#%%\n"
    }
   },
   "outputs": [],
   "source": [
    "fig, ax = plt.subplots(figsize=(12, 5))\n",
    "Spectrum(data=spec_yso, wave=cube.wave).plot()\n",
    "ymax=200\n",
    "ax.scatter(wave.coord()[peaks], np.minimum(ymax, props[\"prominences\"]), marker=\".\", color=\"r\")\n",
    "ax.set_ylim(-0.1 * ymax, ymax * 1.1)\n",
    "ax.set_xlim(6950, 7300)\n",
    "...;"
   ]
  },
  {
   "cell_type": "code",
   "execution_count": null,
   "metadata": {
    "pycharm": {
     "name": "#%%\n"
    }
   },
   "outputs": [],
   "source": [
    "peaks_all, props_all = si.find_peaks(spec_all, prominence=0.3, distance=4)"
   ]
  },
  {
   "cell_type": "code",
   "execution_count": null,
   "metadata": {
    "pycharm": {
     "name": "#%%\n"
    }
   },
   "outputs": [],
   "source": [
    "fig, ax = plt.subplots(figsize=(12, 5))\n",
    "Spectrum(data=spec_all, wave=cube.wave).plot()\n",
    "ymax=5\n",
    "ax.scatter(wave.coord()[peaks_all], np.minimum(ymax, props_all[\"prominences\"]), marker=\"x\", color=\"m\")\n",
    "ax.set_ylim(-0.1 * ymax, ymax * 1.1)\n",
    "ax.set_xlim(6950, 7300)\n",
    "...;"
   ]
  },
  {
   "cell_type": "code",
   "execution_count": null,
   "metadata": {
    "pycharm": {
     "name": "#%%\n"
    }
   },
   "outputs": [],
   "source": [
    "fig, ax = plt.subplots(figsize=(12, 5))\n",
    "Spectrum(data=spec_all, wave=cube.wave).plot()\n",
    "ymax=10\n",
    "ax.scatter(wave.coord()[peaks_all], np.minimum(ymax, props_all[\"prominences\"]), marker=\"x\", color=\"m\")\n",
    "ax.set_ylim(-0.1 * ymax, ymax * 1.1)\n",
    "ax.set_xlim(4600, 5400)\n",
    "...;"
   ]
  },
  {
   "cell_type": "code",
   "execution_count": null,
   "metadata": {
    "pycharm": {
     "name": "#%%\n"
    }
   },
   "outputs": [],
   "source": [
    "fig, ax = plt.subplots(figsize=(12, 5))\n",
    "Spectrum(data=spec_all, wave=cube.wave).plot()\n",
    "ymax=20\n",
    "ax.scatter(wave.coord()[peaks_all], np.minimum(ymax, props_all[\"prominences\"]), marker=\"x\", color=\"m\")\n",
    "ax.set_ylim(-0.1 * ymax, ymax * 1.1)\n",
    "ax.set_xlim(8100, 8600)\n",
    "...;"
   ]
  },
  {
   "cell_type": "code",
   "execution_count": null,
   "metadata": {
    "pycharm": {
     "name": "#%%\n"
    }
   },
   "outputs": [],
   "source": [
    "fig, ax = plt.subplots(figsize=(12, 5))\n",
    "Spectrum(data=spec_all, wave=cube.wave).plot()\n",
    "ymax=20\n",
    "ax.scatter(wave.coord()[peaks_all], np.minimum(ymax, props_all[\"prominences\"]), marker=\"x\", color=\"m\")\n",
    "ax.set_ylim(-0.1 * ymax, ymax * 1.1)\n",
    "ax.set_xlim(8600, 9300)\n",
    "...;"
   ]
  },
  {
   "cell_type": "code",
   "execution_count": null,
   "metadata": {
    "lines_to_next_cell": 2,
    "pycharm": {
     "name": "#%%\n"
    }
   },
   "outputs": [],
   "source": [
    "props_all['prominences']"
   ]
  },
  {
   "cell_type": "code",
   "execution_count": null,
   "metadata": {
    "pycharm": {
     "name": "#%%\n"
    }
   },
   "outputs": [],
   "source": [
    "import pandas as pd"
   ]
  },
  {
   "cell_type": "code",
   "execution_count": null,
   "metadata": {
    "pycharm": {
     "name": "#%%\n"
    }
   },
   "outputs": [],
   "source": [
    "df = pd.DataFrame(props_all, index=wave.coord()[peaks_all])\n",
    "df"
   ]
  },
  {
   "cell_type": "code",
   "execution_count": null,
   "metadata": {
    "pycharm": {
     "name": "#%%\n"
    }
   },
   "outputs": [],
   "source": []
  }
 ],
 "metadata": {
  "jupytext": {
   "formats": "ipynb,py:light"
  },
  "kernelspec": {
   "display_name": "Python 3",
   "language": "python",
   "name": "python3"
  },
  "language_info": {
   "codemirror_mode": {
    "name": "ipython",
    "version": 2
   },
   "file_extension": ".py",
   "mimetype": "text/x-python",
   "name": "python",
   "nbconvert_exporter": "python",
   "pygments_lexer": "ipython2",
   "version": "2.7.6"
  }
 },
 "nbformat": 4,
 "nbformat_minor": 0
}
