{
 "cells": [
  {
   "cell_type": "code",
   "execution_count": 1,
   "metadata": {
    "collapsed": true,
    "pycharm": {
     "name": "#%%\n"
    }
   },
   "outputs": [],
   "source": [
    "from astropy.table import Table"
   ]
  },
  {
   "cell_type": "code",
   "execution_count": 3,
   "metadata": {
    "collapsed": false,
    "pycharm": {
     "name": "#%%\n"
    }
   },
   "outputs": [],
   "source": [
    "data_dict = {\n",
    "    \"Sources\": [\"A\", \"B\", \"C\"],\n",
    "    \"CO (3-2)\": [1.0, 2.0, 3.0],\n",
    "    \"CO (2-1)\": [99.0, 50.0, 0.0],\n",
    "}"
   ]
  },
  {
   "cell_type": "code",
   "execution_count": 5,
   "metadata": {
    "collapsed": false,
    "pycharm": {
     "name": "#%%\n"
    }
   },
   "outputs": [
    {
     "data": {
      "text/html": [
       "<div><i>Table length=3</i>\n",
       "<table id=\"table140570816492688\" class=\"table-striped table-bordered table-condensed\">\n",
       "<thead><tr><th>Sources</th><th>CO (3-2)</th><th>CO (2-1)</th></tr></thead>\n",
       "<thead><tr><th>str1</th><th>float64</th><th>float64</th></tr></thead>\n",
       "<tr><td>A</td><td>1.0</td><td>99.0</td></tr>\n",
       "<tr><td>B</td><td>2.0</td><td>50.0</td></tr>\n",
       "<tr><td>C</td><td>3.0</td><td>0.0</td></tr>\n",
       "</table></div>"
      ],
      "text/plain": [
       "<Table length=3>\n",
       "Sources CO (3-2) CO (2-1)\n",
       "  str1  float64  float64 \n",
       "------- -------- --------\n",
       "      A      1.0     99.0\n",
       "      B      2.0     50.0\n",
       "      C      3.0      0.0"
      ]
     },
     "execution_count": 5,
     "metadata": {},
     "output_type": "execute_result"
    }
   ],
   "source": [
    "tab = Table(data_dict)\n",
    "tab"
   ]
  },
  {
   "cell_type": "code",
   "execution_count": 7,
   "metadata": {
    "collapsed": false,
    "pycharm": {
     "name": "#%%\n"
    }
   },
   "outputs": [
    {
     "name": "stderr",
     "output_type": "stream",
     "text": [
      "WARNING: W03: ?:?:?: W03: Implicitly generating an ID from a name 'CO (3-2)' -> 'CO__3-2_' [astropy.io.votable.xmlutil]\n",
      "WARNING: W03: ?:?:?: W03: Implicitly generating an ID from a name 'CO (2-1)' -> 'CO__2-1_' [astropy.io.votable.xmlutil]\n"
     ]
    }
   ],
   "source": [
    "tab.write(\"sources.votable\", format=\"votable\")"
   ]
  },
  {
   "cell_type": "code",
   "execution_count": null,
   "metadata": {
    "collapsed": false,
    "pycharm": {
     "name": "#%%\n"
    }
   },
   "outputs": [],
   "source": []
  }
 ],
 "metadata": {
  "jupytext": {
   "formats": "ipynb,py:light"
  },
  "kernelspec": {
   "display_name": "Python 3",
   "language": "python",
   "name": "python3"
  },
  "language_info": {
   "codemirror_mode": {
    "name": "ipython",
    "version": 2
   },
   "file_extension": ".py",
   "mimetype": "text/x-python",
   "name": "python",
   "nbconvert_exporter": "python",
   "pygments_lexer": "ipython2",
   "version": "2.7.6"
  }
 },
 "nbformat": 4,
 "nbformat_minor": 0
}
