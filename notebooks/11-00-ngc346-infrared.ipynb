{
 "cells": [
  {
   "cell_type": "markdown",
   "id": "822e8248-e4cb-46b0-b265-c19512c99b38",
   "metadata": {},
   "source": [
    "# NGC 346 infrared profiles\n",
    "\n",
    "Broad slit profiles across the bow shock"
   ]
  },
  {
   "cell_type": "code",
   "execution_count": null,
   "id": "d9814890-9027-4557-80bb-c92bc4e04772",
   "metadata": {},
   "outputs": [],
   "source": [
    "from pathlib import Path\n",
    "import numpy as np\n",
    "import astropy.units as u\n",
    "from astropy import constants\n",
    "from astropy.table import Table\n",
    "from mpdaf.obj import Image\n",
    "from matplotlib import pyplot as plt\n",
    "import seaborn as sns\n",
    "import regions\n",
    "import cmasher as cmr\n",
    "sns.set_context(\"talk\")\n",
    "sns.set_color_codes()"
   ]
  },
  {
   "cell_type": "code",
   "execution_count": null,
   "id": "242e782e-2cdb-46e3-9f40-c2483a20b99f",
   "metadata": {},
   "outputs": [],
   "source": [
    "irfiles = Path(\"../data\").glob(\"ngc346-ir-*.fits\")\n",
    "irfiles = sorted(irfiles)\n",
    "irfiles"
   ]
  },
  {
   "cell_type": "code",
   "execution_count": null,
   "id": "23041abe-5e2c-49ec-8141-c62a92f5a84b",
   "metadata": {},
   "outputs": [],
   "source": [
    "((0.2*u.arcsec)**2).to(u.sr).value"
   ]
  },
  {
   "cell_type": "markdown",
   "id": "9f97f351-05e0-4a3a-bff8-79f3eb1bd3b4",
   "metadata": {},
   "source": [
    "For the SED, we want $\\nu F_\\nu$ in units of $L_\\odot$:"
   ]
  },
  {
   "cell_type": "code",
   "execution_count": null,
   "id": "c392a646-80fd-42f3-b7a2-72e971fb8059",
   "metadata": {},
   "outputs": [],
   "source": [
    "Jy_micron_to_Lsun = (\n",
    "    4.0 * np.pi * (61.7 * u.kpc)**2 * 1.0 * u.Jy \n",
    "    * (constants.c / (1.0*u.micron))\n",
    ") / constants.L_sun\n",
    "Jy_to_Lsun.cgs.value"
   ]
  },
  {
   "cell_type": "code",
   "execution_count": null,
   "id": "b4cda040-342d-46ff-b3ef-98011e644e05",
   "metadata": {},
   "outputs": [],
   "source": [
    "Jy_micron_to_nuFnu = (\n",
    "    1.0 * u.Jy \n",
    "    * (constants.c / (1.0*u.micron))\n",
    ")\n",
    "Jy_micron_to_nuFnu.cgs / Jy_to_Lsun.cgs"
   ]
  },
  {
   "cell_type": "code",
   "execution_count": null,
   "id": "85f04636-e0b7-49a9-abac-1e07fd51335e",
   "metadata": {
    "lines_to_next_cell": 2
   },
   "outputs": [],
   "source": [
    "class IRim:\n",
    "    pixscale = 0.2\n",
    "    \n",
    "    def __init__(self, path, width=16.0):\n",
    "        \"\"\"IR image and associated E-W profile\n",
    "        \n",
    "        `width` is N-S width of profile in arcsec\n",
    "        \"\"\"\n",
    "        self.path = path\n",
    "        self.width = width\n",
    "        self.im = Image(str(self.path))\n",
    "        s = str(path).replace(\"../data/ngc346-ir-\", \"\").replace(\".fits\", \"\")\n",
    "        self.wav = np.round(0.1 * float(s[:4]), 1)\n",
    "        self.label = s[5:]\n",
    "        ny, nx = self.im.data.shape\n",
    "        y0, dy = ny // 2, int(0.5 * self.width / self.pixscale)\n",
    "        self.yslice = slice(y0 - dy, y0 + dy)\n",
    "        self.profile = self.im.data[self.yslice, :].mean(axis=0)\n",
    "        nx = len(profile)\n",
    "        self.pos = self.pixscale * (np.arange(nx) - nx/2)\n",
    "        self.bg = (self.profile[:50].mean() + self.profile[-50:].mean()) / 2\n",
    "        self.profile -= self.bg\n",
    "        self.im.data -= self.bg\n",
    "\n",
    "    def eval_box_flux(self, xslice, xslices_bg):\n",
    "        \"\"\"BG-subtracted flux in box with uncertainties\"\"\"\n",
    "        box = self.im.data[self.yslice, xslice]\n",
    "        bgboxes = [self.im.data[self.yslice, _xslice] for _xslice in xslices_bg]\n",
    "        bgmeans = [bgbox.mean() for bgbox in bgboxes]\n",
    "        bgstds = [bgbox.std() for bgbox in bgboxes]\n",
    "        npix = np.prod(box.shape)\n",
    "        bgmean = np.mean(bgmeans)\n",
    "        bgstd = np.mean(bgstds) # intra-box variation in BG\n",
    "        bgstdi = np.std(bgmeans) # inter-box variation in BG\n",
    "        boxmean = box.mean()\n",
    "        pixel_area = ((self.pixscale * u.arcsec) ** 2).to(u.sr).value\n",
    "        Jy_norm = npix * pixel_area * 1e6\n",
    "        Jy_norm *= Jy_to_Lsun.cgs.value / self.wav\n",
    "        self.boxflux = (boxmean - bgmean) * Jy_norm\n",
    "        self.bgflux = bgmean * Jy_norm\n",
    "        self.bgsig =  bgstd * Jy_norm\n",
    "        self.bgsigi = bgstdi * Jy_norm\n",
    "\n",
    "        \n",
    "    def __repr__(self):\n",
    "        return f\"IRim({self.label}, {self.wav})\""
   ]
  },
  {
   "cell_type": "code",
   "execution_count": null,
   "id": "c8593cfe-d163-4918-93c2-dff736633634",
   "metadata": {},
   "outputs": [],
   "source": [
    "irdata = {}\n",
    "for path in sorted(irfiles):\n",
    "    irim = IRim(path, 24)\n",
    "    irim.eval_box_flux(\n",
    "        slice(760, 820), \n",
    "        [slice(700, 750), slice(890, 940)],\n",
    "    )\n",
    "    irdata[irim.label] = irim\n",
    "irdata"
   ]
  },
  {
   "cell_type": "code",
   "execution_count": null,
   "id": "968fe4ac-a30c-4eec-9f5e-7c439733fb33",
   "metadata": {},
   "outputs": [],
   "source": [
    "irdata[\"WISE3\"].im.plot(vmin=0.0, vmax=35.0, use_wcs=True)"
   ]
  },
  {
   "cell_type": "code",
   "execution_count": null,
   "id": "7582ecaf-91cf-48c5-8225-b6b4c1baf970",
   "metadata": {},
   "outputs": [],
   "source": [
    "fig, ax = plt.subplots(figsize=(12, 6))\n",
    "for irim in irdata.values():\n",
    "    ax.plot(irim.pos, irim.profile, label=irim.label)\n",
    "ax.legend(ncol=6, fontsize=\"x-small\")\n",
    "ax.axvline(0.0)\n",
    "ax.set(\n",
    "    xlabel=\"Offset, arcsec\",\n",
    "    ylabel=\"Surface brightness, MJy / sr\",\n",
    "    yscale=\"log\",\n",
    "    ylim=[0.1, 9000],\n",
    ")\n",
    "sns.despine();"
   ]
  },
  {
   "cell_type": "code",
   "execution_count": null,
   "id": "bef54691-0a68-4cdd-aa0b-a886c62f7869",
   "metadata": {},
   "outputs": [],
   "source": [
    "goodbands = \"WISE3\", \"MSX-E\", \"MSX-C\", \"WISE4\", \"MIPS1\""
   ]
  },
  {
   "cell_type": "code",
   "execution_count": null,
   "id": "2c8d9ad3-3286-43e3-a6b5-7357e215ebf4",
   "metadata": {},
   "outputs": [],
   "source": [
    "fig, ax = plt.subplots(figsize=(8, 6))\n",
    "# Take N colors from named colormap in [0.15, 0.85] range in HEX\n",
    "colors = cmr.take_cmap_colors(\n",
    "    'cmr.infinity', \n",
    "    len(irdata), \n",
    "    cmap_range=(0.1, 1.0), \n",
    "    return_fmt='hex'\n",
    ")\n",
    "offset = 0.0\n",
    "for irim, color in zip(irdata.values(), colors):\n",
    "    lw = 3.0 if irim.label in goodbands else 1.0\n",
    "    alpha = 0.5 if \"MSX\" in irim.label else 1.0\n",
    "    norm = np.mean(irim.profile.data)\n",
    "    ax.plot(irim.pos, offset + irim.profile / norm, color=color, lw=lw, alpha=alpha)\n",
    "    ax.text(155.0, offset, irim.label, va=\"center\", fontsize=\"x-small\", color=color)\n",
    "    ax.text(-155.0, offset, f\"{irim.wav:.1f}\", ha=\"right\", va=\"center\", fontsize=\"x-small\", color=color)\n",
    "    offset += 1.0\n",
    "#ax.legend(ncol=6, fontsize=\"x-small\")\n",
    "ax.axvline(0.0)\n",
    "ax.set(\n",
    "    xlabel=\"Offset west from W 3, arcsec\",\n",
    "    ylabel=\"Relative brightness + offset\",\n",
    "    yscale=\"linear\",\n",
    "    ylim=[-2.0, 3.0 + offset],\n",
    "    xlim=[-195, 195],\n",
    ")\n",
    "sns.despine()\n",
    "fig.savefig(\"../figs/ngc346-infrared-profiles.pdf\");"
   ]
  },
  {
   "cell_type": "code",
   "execution_count": null,
   "id": "189bcee1-36fe-4020-8138-3c4feae733d2",
   "metadata": {},
   "outputs": [],
   "source": []
  },
  {
   "cell_type": "code",
   "execution_count": null,
   "id": "0b56e784-d97d-4bad-872f-beaf21017b54",
   "metadata": {},
   "outputs": [],
   "source": [
    "x = irdata[\"IRAC1\"]\n",
    "x.boxflux, x.bgflux, x.bgsig, x.bgsigi"
   ]
  },
  {
   "cell_type": "code",
   "execution_count": null,
   "id": "bf4d1802-7ae4-462a-814d-5559c81b3506",
   "metadata": {},
   "outputs": [],
   "source": [
    "opac_tab = Table.read(\"../data/xsec-infrared-dust-ism_10.ecsv\")\n",
    "opac_tab"
   ]
  },
  {
   "cell_type": "code",
   "execution_count": null,
   "id": "a9fa6d70-e213-4a78-934e-ffbe0557e92c",
   "metadata": {},
   "outputs": [],
   "source": [
    "from astropy.modeling.blackbody import blackbody_lambda"
   ]
  },
  {
   "cell_type": "code",
   "execution_count": null,
   "id": "bad098ad-8ba7-4817-9a70-5c4c4e05367b",
   "metadata": {},
   "outputs": [],
   "source": [
    "fig, ax = plt.subplots(figsize=(8, 6))\n",
    "\n",
    "wavpts = []\n",
    "bgpts = []\n",
    "for irim, color in zip(irdata.values(), colors):\n",
    "    ebg = np.hypot(irim.bgsig, irim.bgsigi)\n",
    "    alpha = 0.5 if \"MSX\" in irim.label else 1.0\n",
    "    wavpts.append(irim.wav)\n",
    "    bgpts.append(irim.bgflux)\n",
    "    ax.errorbar(irim.wav, irim.bgflux, yerr=ebg, color=color, alpha=0.3*alpha)\n",
    "    ax.scatter(irim.wav, irim.bgflux, color=\"w\", marker=\"s\", s=30, edgecolors=color, alpha=alpha)\n",
    "    eflux = 1.0 * irim.bgsig\n",
    "    if irim.boxflux > eflux:\n",
    "        ax.errorbar(\n",
    "            irim.wav, irim.boxflux,\n",
    "            yerr=eflux,\n",
    "            color=color, lw=4, alpha=0.3*alpha,\n",
    "        )\n",
    "        ax.scatter(irim.wav, irim.boxflux, \n",
    "                   marker=\"o\", color=color, s=300,\n",
    "                   edgecolors=\"w\", linewidth=1, alpha=alpha,\n",
    "                  )\n",
    "    else:\n",
    "        ax.errorbar(irim.wav, irim.boxflux + eflux,\n",
    "                    xerr=0.03*irim.wav, yerr=0.3*(irim.boxflux + eflux), uplims=True, \n",
    "                    linewidth=2, color=color, alpha=alpha)\n",
    "ax.plot(wavpts, bgpts, alpha=0.2, color=\"r\", linestyle=\"dashed\")\n",
    "beta = 1.4\n",
    "wavgrid = opac_tab[\"Wavelength\"].data\n",
    "kappa = opac_tab[\"Opacity\"].data\n",
    "bb = wavgrid * blackbody_lambda(wavgrid * u.micron, 105 * u.K)\n",
    "bb *= kappa\n",
    "bb /= bb.max()\n",
    "bb *= 4000\n",
    "\n",
    "bb2 = wavgrid * blackbody_lambda(wavgrid * u.micron, 30 * u.K)\n",
    "bb2 *= wavgrid ** (-beta)\n",
    "bb2 /= bb2.max()\n",
    "bb2 *= 6500\n",
    "\n",
    "ax.plot(wavgrid, bb, color=\"0.5\")\n",
    "ax.plot(wavgrid, bb2, color=\"0.8\")\n",
    "\n",
    "\n",
    "ax.set_xscale(\"log\")\n",
    "ax.set_yscale(\"log\")\n",
    "ax.set(\n",
    "    xlabel=\"Wavelength, micron\",\n",
    "    ylabel=r\"Luminosity SED: $\\nu\\, L_\\nu$, L$_\\odot$\",\n",
    "    xlim=[3.0, 600.0],\n",
    "    ylim=[20.0, 1e4],\n",
    ")\n",
    "sns.despine()\n",
    "fig.savefig(\"../figs/ngc346-infrared-sed.pdf\");"
   ]
  },
  {
   "cell_type": "code",
   "execution_count": null,
   "id": "b4b01851-4ddc-40a8-a60a-679dfc79b117",
   "metadata": {},
   "outputs": [],
   "source": [
    "u.Jy.cgs"
   ]
  },
  {
   "cell_type": "markdown",
   "id": "e64fae96-0d9f-4e5e-a838-4920e13333ec",
   "metadata": {},
   "source": [
    "Convert back to Jy"
   ]
  },
  {
   "cell_type": "code",
   "execution_count": null,
   "id": "655afde8-a03a-4d51-9d79-34e4533478dd",
   "metadata": {},
   "outputs": [],
   "source": [
    "irdata[\"MIPS1\"].boxflux * irdata[\"MIPS1\"].wav / Jy_to_Lsun.cgs.value"
   ]
  },
  {
   "cell_type": "code",
   "execution_count": null,
   "id": "bd094ca4-0621-4174-87e4-7afb6fe5a8b3",
   "metadata": {},
   "outputs": [],
   "source": [
    "irdata[\"WISE3\"].boxflux * irdata[\"WISE3\"].wav / Jy_to_Lsun.cgs.value"
   ]
  },
  {
   "cell_type": "markdown",
   "id": "8316b48c-c742-4f31-9c3f-3ef2f3d0074b",
   "metadata": {},
   "source": [
    "Use the method of Paper III eq (3) to find luminosity.  Since we don't have any 60 micron flux, we have a bolometric flux of "
   ]
  },
  {
   "cell_type": "code",
   "execution_count": null,
   "id": "e03bf852-f8f2-4c4c-a9a2-e26833db4401",
   "metadata": {},
   "outputs": [],
   "source": [
    "Fbol = 1e-10 * (\n",
    "    2.4 * irdata[\"WISE3\"].boxflux * irdata[\"WISE3\"].wav\n",
    "    + 1.6 * irdata[\"MIPS1\"].boxflux * irdata[\"MIPS1\"].wav\n",
    ") / Jy_to_Lsun.cgs.value\n",
    "Fbol * u.erg / u.s / u.cm ** 2"
   ]
  },
  {
   "cell_type": "code",
   "execution_count": null,
   "id": "622428f4-825f-46bd-9f58-6cdc2db73b0c",
   "metadata": {},
   "outputs": [],
   "source": [
    "Lbol = 4.0 * np.pi * (61.7 * u.kpc)**2 * Fbol * u.erg / u.s / u.cm ** 2\n",
    "Lbol.cgs"
   ]
  },
  {
   "cell_type": "code",
   "execution_count": null,
   "id": "87d70f08-def5-494a-b207-09d56fdac07a",
   "metadata": {},
   "outputs": [],
   "source": [
    "Lbol.cgs / constants.L_sun.cgs"
   ]
  },
  {
   "cell_type": "code",
   "execution_count": null,
   "id": "8f2db914-736b-4228-81b8-2b24718192b4",
   "metadata": {},
   "outputs": [],
   "source": [
    "irdata[\"MIPS1\"].boxflux"
   ]
  },
  {
   "cell_type": "markdown",
   "id": "4010b352-5d92-47cb-9e3c-a93c9749e146",
   "metadata": {},
   "source": [
    "So that is consistent: we have a bolometric shell luminosity of 3600 Lsun.  The stellar luminosity is believed to be about 1e6 Lsun, so we have"
   ]
  },
  {
   "cell_type": "code",
   "execution_count": null,
   "id": "461e77b2-ebfd-4114-a56a-3aac0c9d78d6",
   "metadata": {},
   "outputs": [],
   "source": [
    "tau = 2 * (Lbol.cgs / constants.L_sun.cgs).value / 1e6\n",
    "tau"
   ]
  },
  {
   "cell_type": "markdown",
   "id": "eb8f31d2-6ef3-4eb6-9f6d-95f98113f3b7",
   "metadata": {},
   "source": [
    "That is right in the middle of the pack compared with the other sources in Paper III"
   ]
  },
  {
   "cell_type": "markdown",
   "id": "83a94262-b588-42ba-bd93-9104c8d8cd9e",
   "metadata": {},
   "source": [
    "We have R = 1.2 pc approx, so by eq (5) we have"
   ]
  },
  {
   "cell_type": "code",
   "execution_count": null,
   "id": "89dc3f06-4439-441f-a3bc-20abce53f489",
   "metadata": {},
   "outputs": [],
   "source": [
    "U = 14.7 * 100 / 1.2**2 \n",
    "U"
   ]
  },
  {
   "cell_type": "markdown",
   "id": "543427b4-9045-4f26-ae62-6f0908540976",
   "metadata": {},
   "source": [
    "Figure 3 of Paper III shows dust temperature of order 100 K, which is consistent with what we derive from the SED."
   ]
  },
  {
   "cell_type": "markdown",
   "id": "b68275b3-2499-42d8-b6bf-655edf3a6aea",
   "metadata": {},
   "source": [
    "Now we can use eq (2) to find η.  I assume $h_{1/4} = 4$ because the shell is really quite thick"
   ]
  },
  {
   "cell_type": "code",
   "execution_count": null,
   "id": "271316c8-0939-4db4-9fd1-4a8469a4e115",
   "metadata": {},
   "outputs": [],
   "source": [
    "eta = 245 * 1.2 * 1.3 * tau / (100 * 1.0 * 4.0)\n",
    "eta"
   ]
  },
  {
   "cell_type": "markdown",
   "id": "0d0d0ed6-cde0-4f0e-b128-46137f52d3c9",
   "metadata": {},
   "source": [
    "Wow, so that means the shell may well be radiation supported.  But if $\\kappa < 600$ cm2/g then eta would be larger and we might be wind-supported."
   ]
  },
  {
   "cell_type": "code",
   "execution_count": null,
   "id": "98c843b3-511f-4749-b1b1-1ab2a99dec42",
   "metadata": {},
   "outputs": [],
   "source": []
  }
 ],
 "metadata": {
  "jupytext": {
   "encoding": "# -*- coding: utf-8 -*-",
   "formats": "ipynb,py:light,md"
  },
  "kernelspec": {
   "display_name": "Python 3",
   "language": "python",
   "name": "python3"
  },
  "language_info": {
   "codemirror_mode": {
    "name": "ipython",
    "version": 3
   },
   "file_extension": ".py",
   "mimetype": "text/x-python",
   "name": "python",
   "nbconvert_exporter": "python",
   "pygments_lexer": "ipython3",
   "version": "3.9.4"
  }
 },
 "nbformat": 4,
 "nbformat_minor": 5
}
