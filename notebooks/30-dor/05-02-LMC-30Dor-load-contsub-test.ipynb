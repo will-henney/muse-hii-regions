{
 "cells": [
  {
   "cell_type": "markdown",
   "id": "fb60443b",
   "metadata": {},
   "source": [
    "Test of the 30 Dor continuum-subtracted cube containing Hα.  Mabel was having trouble with it."
   ]
  },
  {
   "cell_type": "code",
   "execution_count": null,
   "id": "b2359c40",
   "metadata": {},
   "outputs": [],
   "source": [
    "from pathlib import Path\n",
    "import numpy as np\n",
    "from matplotlib import pyplot as plt\n",
    "import seaborn as sns\n",
    "from mpdaf.obj import Cube"
   ]
  },
  {
   "cell_type": "code",
   "execution_count": null,
   "id": "afaf95eb",
   "metadata": {},
   "outputs": [],
   "source": [
    "cubeA = Cube(\"../big-data/lmc-30dor-A-subcube-62-71-contsub.fits\")"
   ]
  },
  {
   "cell_type": "markdown",
   "id": "5d890a14",
   "metadata": {},
   "source": [
    "Look at average spectrum of cube. "
   ]
  },
  {
   "cell_type": "code",
   "execution_count": null,
   "id": "bc3a6974",
   "metadata": {},
   "outputs": [],
   "source": [
    "cubeA.mean(axis=(1, 2)).plot()"
   ]
  },
  {
   "cell_type": "markdown",
   "id": "67d5e404",
   "metadata": {},
   "source": [
    "Looks bad.  Try setting the y limits to something more sensible:"
   ]
  },
  {
   "cell_type": "code",
   "execution_count": null,
   "id": "f8a633ea",
   "metadata": {},
   "outputs": [],
   "source": [
    "fig, ax = plt.subplots()\n",
    "cubeA.mean(axis=(1, 2)).plot()\n",
    "ax.set(\n",
    "    ylim=[-1e5, 1e5],\n",
    ");"
   ]
  },
  {
   "cell_type": "markdown",
   "id": "6bcaa207",
   "metadata": {},
   "source": [
    "So that still looks bad - must be some pixels with spurious data.\n",
    "\n",
    "Look at the summed image:"
   ]
  },
  {
   "cell_type": "code",
   "execution_count": null,
   "id": "47b45027",
   "metadata": {},
   "outputs": [],
   "source": [
    "cubeA.sum(axis=0).plot(vmin=-10, vmax=1e6);"
   ]
  },
  {
   "cell_type": "markdown",
   "id": "c71bd1f0",
   "metadata": {},
   "source": [
    "So this shows noise in the middle parts that are due to the saturation of Hα, but that is not the problem.  Also has suspicious-looking pixels around the edges. So we will trim these off by expanding the mask by 1 pixel:"
   ]
  },
  {
   "cell_type": "code",
   "execution_count": null,
   "id": "96d74dae",
   "metadata": {},
   "outputs": [],
   "source": [
    "cubeA.spatial_erosion(1).mean(axis=(1, 2)).plot()"
   ]
  },
  {
   "cell_type": "markdown",
   "id": "abb3f7b7",
   "metadata": {},
   "source": [
    "That looks a lot better, so we will make the change to the cube"
   ]
  },
  {
   "cell_type": "code",
   "execution_count": null,
   "id": "7775f947",
   "metadata": {},
   "outputs": [],
   "source": [
    "cubeA.spatial_erosion(1, inplace=True)"
   ]
  },
  {
   "cell_type": "markdown",
   "id": "d5bb4357",
   "metadata": {},
   "source": [
    "Check the image again"
   ]
  },
  {
   "cell_type": "code",
   "execution_count": null,
   "id": "90805ec0",
   "metadata": {},
   "outputs": [],
   "source": [
    "cubeA.sum(axis=0).plot(vmin=-10, vmax=1e6);"
   ]
  },
  {
   "cell_type": "markdown",
   "id": "20d4a107",
   "metadata": {},
   "source": [
    "Replot the average spectrum, but zoom the y acis so we can see the faint parts:"
   ]
  },
  {
   "cell_type": "code",
   "execution_count": null,
   "id": "d1d3c4a4",
   "metadata": {},
   "outputs": [],
   "source": [
    "fig, ax = plt.subplots(figsize=(12, 6))\n",
    "cubeA.mean(axis=(1, 2)).plot()\n",
    "ax.axhline(0.0, linestyle=\"dashed\", color=\"k\")\n",
    "ax.set(\n",
    "    ylim=[-30, 200],\n",
    ");"
   ]
  },
  {
   "cell_type": "code",
   "execution_count": null,
   "id": "6513f2c4",
   "metadata": {},
   "outputs": [],
   "source": []
  }
 ],
 "metadata": {
  "jupytext": {
   "formats": "ipynb,md,py:light"
  },
  "kernelspec": {
   "display_name": "Python 3",
   "language": "python",
   "name": "python3"
  },
  "language_info": {
   "codemirror_mode": {
    "name": "ipython",
    "version": 3
   },
   "file_extension": ".py",
   "mimetype": "text/x-python",
   "name": "python",
   "nbconvert_exporter": "python",
   "pygments_lexer": "ipython3",
   "version": "3.9.4"
  }
 },
 "nbformat": 4,
 "nbformat_minor": 5
}
