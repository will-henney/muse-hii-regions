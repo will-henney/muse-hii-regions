{
 "cells": [
  {
   "cell_type": "markdown",
   "id": "8124e7a7-6f41-4154-8b0f-c6deda45e28e",
   "metadata": {},
   "source": [
    "# 30 Doradus yellow lines: 5400 Å to 6300 Å"
   ]
  },
  {
   "cell_type": "code",
   "execution_count": null,
   "id": "f303e77d-db0f-4083-8b6e-fbcea2f0415e",
   "metadata": {},
   "outputs": [],
   "source": [
    "from pathlib import Path\n",
    "import numpy as np\n",
    "from matplotlib import pyplot as plt\n",
    "import seaborn as sns\n",
    "from mpdaf.obj import Cube\n",
    "import regions\n",
    "import sys\n",
    "\n",
    "sys.path.append(\"../lib\")\n",
    "import moments\n",
    "import extract\n",
    "\n",
    "sns.set_context(\"talk\")\n",
    "sns.set_color_codes()"
   ]
  },
  {
   "cell_type": "code",
   "execution_count": null,
   "id": "52f695c7",
   "metadata": {},
   "outputs": [],
   "source": [
    "cubeA = Cube(\"../big-data/lmc-30dor-A-subcube-54-63.fits\")\n",
    "cubeB = Cube(\"../big-data/lmc-30dor-B-subcube-54-63.fits\")\n",
    "cubeC = Cube(\"../big-data/lmc-30dor-C-subcube-54-63.fits\")\n",
    "cubeD = Cube(\"../big-data/lmc-30dor-D-subcube-54-63.fits\")"
   ]
  },
  {
   "cell_type": "markdown",
   "id": "0ce3ad6f",
   "metadata": {},
   "source": [
    "## Inspect the average spectrum for each field"
   ]
  },
  {
   "cell_type": "code",
   "execution_count": null,
   "id": "196423e3",
   "metadata": {},
   "outputs": [],
   "source": [
    "fig, ax = plt.subplots(figsize=(12, 6))\n",
    "for cube, label in zip([cubeA, cubeB, cubeC, cubeD], \"ABCD\"):\n",
    "    cube.sum(axis=(1, 2)).plot(label=label)\n",
    "ax.legend()\n",
    "ax.set(\n",
    "    ylim=[0.5e8, 1.5e8],\n",
    ")\n",
    "sns.despine()"
   ]
  },
  {
   "cell_type": "markdown",
   "id": "590293a1",
   "metadata": {},
   "source": [
    "Again, we get WR features (I think)  around 5800.  We can also see the DIB 5781 absorption. "
   ]
  },
  {
   "cell_type": "markdown",
   "id": "1b41e9c8",
   "metadata": {},
   "source": [
    "## Define continuum wavelength ranges\n",
    "\n",
    "We can try the same wav ranges as we used for NGC 346"
   ]
  },
  {
   "cell_type": "code",
   "execution_count": null,
   "id": "b731037d",
   "metadata": {},
   "outputs": [],
   "source": [
    "wavranges = [\n",
    "    (5470, 5510),\n",
    "    (5550, 5570),\n",
    "    (5600, 5700),\n",
    "    (6000, 6030), (6070, 6100),\n",
    "    (6180, 6220), (6260, 6280),\n",
    "]"
   ]
  },
  {
   "cell_type": "code",
   "execution_count": null,
   "id": "39df2205",
   "metadata": {},
   "outputs": [],
   "source": [
    "nv, ny, nx = cubeA.data.shape\n",
    "ny, nx"
   ]
  },
  {
   "cell_type": "markdown",
   "id": "181aa2c5",
   "metadata": {},
   "source": [
    "Split each field up into 4 roughly equal tiles:"
   ]
  },
  {
   "cell_type": "code",
   "execution_count": null,
   "id": "f4a306db",
   "metadata": {},
   "outputs": [],
   "source": [
    "mm = 160  # middle of each image\n",
    "fig, ax = plt.subplots(figsize=(12, 8))\n",
    "for cube, label in zip([cubeA, cubeB, cubeC, cubeD], \"ABCD\"):\n",
    "    cu11 = cube[:, :mm, :mm]\n",
    "    cu12 = cube[:, :mm, mm:]\n",
    "    cu21 = cube[:, mm:, :mm]\n",
    "    cu22 = cube[:, mm:, mm:]\n",
    "    cu11.mean(axis=(1, 2)).plot(label=f\"{label}11\")\n",
    "    cu12.mean(axis=(1, 2)).plot(label=f\"{label}12\")\n",
    "    cu21.mean(axis=(1, 2)).plot(label=f\"{label}21\")\n",
    "    cu22.mean(axis=(1, 2)).plot(label=f\"{label}22\")\n",
    "\n",
    "for wavrange in wavranges:\n",
    "    ax.axvspan(*wavrange, alpha=0.3)\n",
    "ax.legend(ncol=4, fontsize=\"x-small\")\n",
    "ax.set(\n",
    "    yscale=\"log\",\n",
    "    ylim=[120, 9e3],\n",
    ")\n",
    "sns.despine()"
   ]
  },
  {
   "cell_type": "markdown",
   "id": "1f2e1a10",
   "metadata": {},
   "source": [
    "## Test the polynomial fitting with field A\n",
    "\n",
    "This takes about a minute for each field."
   ]
  },
  {
   "cell_type": "code",
   "execution_count": null,
   "id": "f45f3992",
   "metadata": {},
   "outputs": [],
   "source": [
    "contA = extract.fit_continuum(\n",
    "    cubeA,\n",
    "    wav_ranges=wavranges,\n",
    "    deg=5,\n",
    "    median=False,\n",
    ")"
   ]
  },
  {
   "cell_type": "markdown",
   "id": "052efc17",
   "metadata": {},
   "source": [
    "### Inspect the results for different portions of the field."
   ]
  },
  {
   "cell_type": "code",
   "execution_count": null,
   "id": "baa05824",
   "metadata": {},
   "outputs": [],
   "source": [
    "fig, ax = plt.subplots(figsize=(12, 8))\n",
    "cubeA[:, 275:300, 120:150].mean(axis=(1, 2)).plot()\n",
    "contA[:, 275:300, 120:150].mean(axis=(1, 2)).plot()\n",
    "for wavrange in wavranges:\n",
    "    ax.axvspan(*wavrange, alpha=0.3)\n",
    "ax.set(ylim=[0, 800])"
   ]
  },
  {
   "cell_type": "markdown",
   "id": "166bd1f5",
   "metadata": {},
   "source": [
    "I had to go back and forth a few times adjusting the wav ranges.  It is difficult to get a good fit on the blue side because of the WR features.\n",
    "\n",
    "As can be seen here, the final version is not perfect – it slightly overpredicts the continuum around 4700 to 4800.  This might affect some of the weak [Fe III] lines, but the [Ar IV] 4740 does not seem to be much affected."
   ]
  },
  {
   "cell_type": "markdown",
   "id": "20ca400c",
   "metadata": {},
   "source": [
    "### Look at some line images"
   ]
  },
  {
   "cell_type": "code",
   "execution_count": null,
   "id": "9798f653",
   "metadata": {
    "lines_to_end_of_cell_marker": 2
   },
   "outputs": [],
   "source": [
    "fig, axes = plt.subplots(3, 2, figsize=(12, 18), sharex=True, sharey=True)\n",
    "(cubeA - contA).select_lambda(5517, 5527).sum(axis=0).plot(\n",
    "    ax=axes[0, 0],\n",
    "    vmin=-10,\n",
    "    vmax=2000,\n",
    ")\n",
    "axes[0, 0].set_title(\"[Cl III] 5517\")\n",
    "(cubeA - contA).select_lambda(5538, 5548).sum(axis=0).plot(\n",
    "    ax=axes[0, 1],\n",
    "    vmin=-10,\n",
    "    vmax=2000,\n",
    ")\n",
    "axes[0, 1].set_title(\"[Cl III] 5538\")\n",
    "(cubeA - contA).select_lambda(5958, 5968).sum(axis=0).plot(\n",
    "    ax=axes[1, 0],\n",
    "    vmin=-10,\n",
    "    vmax=200,\n",
    ")\n",
    "axes[1, 0].set_title(\"Si II 5958\")\n",
    "(cubeA - contA).select_lambda(5755, 5765).sum(axis=0).plot(\n",
    "    ax=axes[1, 1],\n",
    "    vmin=-10,\n",
    "    vmax=600,\n",
    ")\n",
    "axes[1, 1].set_title(\"[N II] 5755\")\n",
    "(cubeA - contA).select_lambda(5876, 5886).sum(axis=0).plot(\n",
    "    ax=axes[2, 0],\n",
    "    vmin=-10,\n",
    "    vmax=90000,\n",
    ")\n",
    "axes[2, 0].set_title(\"[He I 5876\")\n",
    "(cubeA - contA).select_lambda(5979, 5989).sum(axis=0).plot(\n",
    "    ax=axes[2, 1],\n",
    "    vmin=-10,\n",
    "    vmax=300,\n",
    ")\n",
    "axes[2, 1].set_title(\"Si II 5979\")"
   ]
  },
  {
   "cell_type": "markdown",
   "id": "7d4f539a",
   "metadata": {},
   "source": [
    "## Now do the other fields"
   ]
  },
  {
   "cell_type": "code",
   "execution_count": null,
   "id": "38abd929",
   "metadata": {},
   "outputs": [],
   "source": [
    "contB = extract.fit_continuum(\n",
    "    cubeB,\n",
    "    wav_ranges=wavranges,\n",
    "    deg=5,\n",
    "    median=False,\n",
    ")"
   ]
  },
  {
   "cell_type": "code",
   "execution_count": null,
   "id": "91757261",
   "metadata": {},
   "outputs": [],
   "source": [
    "contC = extract.fit_continuum(\n",
    "    cubeC,\n",
    "    wav_ranges=wavranges,\n",
    "    deg=5,\n",
    "    median=False,\n",
    ")"
   ]
  },
  {
   "cell_type": "code",
   "execution_count": null,
   "id": "e24195df",
   "metadata": {},
   "outputs": [],
   "source": [
    "contD = extract.fit_continuum(\n",
    "    cubeD,\n",
    "    wav_ranges=wavranges,\n",
    "    deg=5,\n",
    "    median=False,\n",
    ")"
   ]
  },
  {
   "cell_type": "markdown",
   "id": "939428c0",
   "metadata": {},
   "source": [
    "## Save the continuum-subtracted cubes"
   ]
  },
  {
   "cell_type": "code",
   "execution_count": null,
   "id": "30a066e9",
   "metadata": {
    "lines_to_next_cell": 2
   },
   "outputs": [],
   "source": [
    "csub = {}\n",
    "cdiv = {}\n",
    "for cube, cont, label in zip(\n",
    "    [cubeD, cubeC, cubeB, cubeA],\n",
    "    [contD, contC, contB, contA],\n",
    "    \"DCBA\",\n",
    "):\n",
    "    prefix = f\"../big-data/lmc-30dor-{label}-subcube-54-63\"\n",
    "    csub[label] = cube - cont\n",
    "    cdiv[label] = cube / cont\n",
    "    csub[label].write(\n",
    "        f\"{prefix}-contsub.fits\",\n",
    "        savemask=\"nan\",\n",
    "    )\n",
    "    cdiv[label].write(\n",
    "        f\"{prefix}-contdiv.fits\",\n",
    "        savemask=\"nan\",\n",
    "    )\n",
    "    cont.write(\n",
    "        f\"{prefix}-cont.fits\",\n",
    "        savemask=\"nan\",\n",
    "    )"
   ]
  }
 ],
 "metadata": {
  "jupytext": {
   "encoding": "# -*- coding: utf-8 -*-",
   "formats": "ipynb,py:light,md"
  },
  "kernelspec": {
   "display_name": "Python 3",
   "language": "python",
   "name": "python3"
  },
  "language_info": {
   "codemirror_mode": {
    "name": "ipython",
    "version": 3
   },
   "file_extension": ".py",
   "mimetype": "text/x-python",
   "name": "python",
   "nbconvert_exporter": "python",
   "pygments_lexer": "ipython3",
   "version": "3.9.4"
  }
 },
 "nbformat": 4,
 "nbformat_minor": 5
}
