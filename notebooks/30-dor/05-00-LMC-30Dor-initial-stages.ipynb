{
 "cells": [
  {
   "cell_type": "markdown",
   "id": "5bc18596",
   "metadata": {},
   "source": [
    "# Initial stages of data reduction for 30 Dor\n",
    "\n",
    "The plan is to split the big cubes into more manageable chunks, so that Mabel can more easily work with them."
   ]
  },
  {
   "cell_type": "code",
   "execution_count": 2,
   "id": "1b456ae2",
   "metadata": {},
   "outputs": [],
   "source": [
    "from pathlib import Path\n",
    "import numpy as np\n",
    "from matplotlib import pyplot as plt\n",
    "import seaborn as sns\n",
    "from mpdaf.obj import Cube"
   ]
  },
  {
   "cell_type": "code",
   "execution_count": 3,
   "id": "9dec308d",
   "metadata": {},
   "outputs": [],
   "source": [
    "sns.set_context(\"talk\")"
   ]
  },
  {
   "cell_type": "markdown",
   "id": "80e4ba90",
   "metadata": {},
   "source": [
    "I have already looked at field A, so this time I will look at field C first:"
   ]
  },
  {
   "cell_type": "code",
   "execution_count": 4,
   "id": "81d6f99e",
   "metadata": {},
   "outputs": [
    {
     "name": "stderr",
     "output_type": "stream",
     "text": [
      "WARNING: UnitsWarning: '1e-20 erg/s/cm  2/Angstrom' contains multiple slashes, which is discouraged by the FITS standard [astropy.units.format.generic]\n"
     ]
    }
   ],
   "source": [
    "datapath = Path(\"/Users/will/Work/Muse-Hii-Data/30Dor/2021-06/\")\n",
    "fileA = \"ADP.2016-07-14T14:17:17.826.fits\"\n",
    "fileB = \"ADP.2016-07-19T06:16:41.316.fits\"\n",
    "fileC = \"ADP.2016-07-19T11:27:30.987.fits\"\n",
    "fileD = \"ADP.2016-07-15T13:22:09.432.fits\"\n",
    "\n",
    "# cubeA = Cube(str(datapath / fileA))\n",
    "# cubeB = Cube(str(datapath / fileB))\n",
    "cubeC = Cube(str(datapath / fileC))\n",
    "# cubeD = Cube(str(datapath / fileD))"
   ]
  },
  {
   "cell_type": "markdown",
   "id": "e7481ceb",
   "metadata": {},
   "source": [
    "We will divide the wavelength range into chunks of length 900 Å, but with overlap region of of 100 Å between each."
   ]
  },
  {
   "cell_type": "code",
   "execution_count": 12,
   "id": "90e29cfc",
   "metadata": {},
   "outputs": [
    {
     "data": {
      "text/plain": [
       "(4599.98681640625, 9349.98681640625, 4750.0)"
      ]
     },
     "execution_count": 12,
     "metadata": {},
     "output_type": "execute_result"
    }
   ],
   "source": [
    "wav_min, _, _, wav_max, _, _ = cubeC.get_range()\n",
    "wav_min, wav_max, wav_max - wav_min"
   ]
  },
  {
   "cell_type": "code",
   "execution_count": 20,
   "id": "d421b7a2",
   "metadata": {},
   "outputs": [
    {
     "data": {
      "text/plain": [
       "(array([4600., 5400., 6200., 7000., 7800., 8600.]),\n",
       " array([5500., 6300., 7100., 7900., 8700., 9500.]))"
      ]
     },
     "execution_count": 20,
     "metadata": {},
     "output_type": "execute_result"
    }
   ],
   "source": [
    "wav_window = 900.0\n",
    "wav_overlap = 100.0\n",
    "nwin = 1 + np.ceil((wav_max - wav_min) / (wav_window + wav_overlap))\n",
    "wav_win_min = wav_min + np.arange(nwin) * (wav_window - wav_overlap)\n",
    "wav_win_max = wav_win_min + wav_window\n",
    "np.round(wav_win_min), np.round(wav_win_max)"
   ]
  },
  {
   "cell_type": "code",
   "execution_count": 28,
   "id": "97233ced",
   "metadata": {},
   "outputs": [],
   "source": [
    "def divide_in_subcubes(cube, width=900.0, overlap=100.0):\n",
    "    \"\"\"\n",
    "    Divide MPDAF `cube` into subcubes of `width` Angstrom,\n",
    "    overlapped by `overlap` Angstrom.\n",
    "\n",
    "    Returns dict of the cubes with labels of the wavelength range\n",
    "    in units of 100 Angstrom, e.g., '46-55' for 4600 to 5500 Angstrom\n",
    "    \"\"\"\n",
    "    wav_min, _, _, wav_max, _, _ = cube.get_range()\n",
    "    nwin = 1 + np.ceil((wav_max - wav_min) / (width + overlap))\n",
    "    wav_win_min = wav_min + np.arange(nwin) * (width - overlap)\n",
    "    wav_win_max = wav_win_min + width\n",
    "    subcubes = {}\n",
    "    for wav1, wav2 in zip(wav_win_min, wav_win_max):\n",
    "        label = f\"{int(round(wav1/100)):d}-{int(round(wav2/100)):d}\"\n",
    "        subcubes[label] = cube.select_lambda(wav1, wav2)\n",
    "    return subcubes"
   ]
  },
  {
   "cell_type": "code",
   "execution_count": 29,
   "id": "dd3dead7",
   "metadata": {},
   "outputs": [],
   "source": [
    "subcubes = divide_in_subcubes(cubeC)"
   ]
  },
  {
   "cell_type": "code",
   "execution_count": 30,
   "id": "b4eb3205",
   "metadata": {},
   "outputs": [
    {
     "data": {
      "text/plain": [
       "{'46-55': <Cube(shape=(721, 321, 323), unit='1e-20 erg / (Angstrom cm2 s)', dtype='float64')>,\n",
       " '54-63': <Cube(shape=(721, 321, 323), unit='1e-20 erg / (Angstrom cm2 s)', dtype='float64')>,\n",
       " '62-71': <Cube(shape=(721, 321, 323), unit='1e-20 erg / (Angstrom cm2 s)', dtype='float64')>,\n",
       " '70-79': <Cube(shape=(721, 321, 323), unit='1e-20 erg / (Angstrom cm2 s)', dtype='float64')>,\n",
       " '78-87': <Cube(shape=(721, 321, 323), unit='1e-20 erg / (Angstrom cm2 s)', dtype='float64')>,\n",
       " '86-95': <Cube(shape=(601, 321, 323), unit='1e-20 erg / (Angstrom cm2 s)', dtype='float64')>}"
      ]
     },
     "execution_count": 30,
     "metadata": {},
     "output_type": "execute_result"
    }
   ],
   "source": [
    "subcubes"
   ]
  },
  {
   "cell_type": "code",
   "execution_count": 32,
   "id": "a8234fe6",
   "metadata": {},
   "outputs": [],
   "source": [
    "def write_subcubes(\n",
    "    subcubes,\n",
    "    prefix,\n",
    "    outdir=\"../big-data\",\n",
    "):\n",
    "    \"\"\"\n",
    "    Write each subcube to a separate FITS file\n",
    "\n",
    "    Returns a list of all the files\n",
    "    \"\"\"\n",
    "    file_paths = []\n",
    "    for label, subcube in subcubes.items():\n",
    "        file_path = f\"{outdir}/{prefix}-subcube-{label}.fits\"\n",
    "        subcube.write(file_path)\n",
    "        file_paths.append(file_path)\n",
    "    return file_paths"
   ]
  },
  {
   "cell_type": "code",
   "execution_count": 33,
   "id": "ff2841d0",
   "metadata": {},
   "outputs": [
    {
     "data": {
      "text/plain": [
       "['../big-data/lmc-30dor-C-subcube-46-55.fits',\n",
       " '../big-data/lmc-30dor-C-subcube-54-63.fits',\n",
       " '../big-data/lmc-30dor-C-subcube-62-71.fits',\n",
       " '../big-data/lmc-30dor-C-subcube-70-79.fits',\n",
       " '../big-data/lmc-30dor-C-subcube-78-87.fits',\n",
       " '../big-data/lmc-30dor-C-subcube-86-95.fits']"
      ]
     },
     "execution_count": 33,
     "metadata": {},
     "output_type": "execute_result"
    }
   ],
   "source": [
    "write_subcubes(subcubes, \"lmc-30dor-C\")"
   ]
  },
  {
   "cell_type": "markdown",
   "id": "25d2aaec",
   "metadata": {},
   "source": [
    "Now try to do all the steps at once for field A"
   ]
  },
  {
   "cell_type": "code",
   "execution_count": 37,
   "id": "82d2f832",
   "metadata": {},
   "outputs": [
    {
     "name": "stderr",
     "output_type": "stream",
     "text": [
      "WARNING: UnitsWarning: '1e-20 erg/s/cm  2/Angstrom' contains multiple slashes, which is discouraged by the FITS standard [astropy.units.format.generic]\n"
     ]
    },
    {
     "name": "stdout",
     "output_type": "stream",
     "text": [
      "42.6 s ± 0 ns per loop (mean ± std. dev. of 1 run, 1 loop each)\n"
     ]
    }
   ],
   "source": [
    "%%timeit -n1 -r1\n",
    "_files = write_subcubes(\n",
    "    divide_in_subcubes(\n",
    "        Cube(str(datapath / fileA))\n",
    "    ),\n",
    "    \"lmc-30dor-A\",\n",
    ")"
   ]
  },
  {
   "cell_type": "markdown",
   "id": "f143d6e5",
   "metadata": {},
   "source": [
    "That seemed to work, and it took 42.6 seconds on my machine, which includes reading in the big cube, splitting it up and then writing it out again.  Hopefully it doesn't leak any memory.\n",
    "\n",
    "It seems that variables set inside the `%%timeit` block are not available outside it, so I will try printing the file list instead.\n",
    "\n",
    "Now do the remaining two cubes:"
   ]
  },
  {
   "cell_type": "code",
   "execution_count": 40,
   "id": "c044f0c4",
   "metadata": {
    "lines_to_next_cell": 2
   },
   "outputs": [
    {
     "name": "stderr",
     "output_type": "stream",
     "text": [
      "WARNING: UnitsWarning: '1e-20 erg/s/cm  2/Angstrom' contains multiple slashes, which is discouraged by the FITS standard [astropy.units.format.generic]\n"
     ]
    },
    {
     "name": "stdout",
     "output_type": "stream",
     "text": [
      "['../big-data/lmc-30dor-B-subcube-46-55.fits', '../big-data/lmc-30dor-B-subcube-54-63.fits', '../big-data/lmc-30dor-B-subcube-62-71.fits', '../big-data/lmc-30dor-B-subcube-70-79.fits', '../big-data/lmc-30dor-B-subcube-78-87.fits', '../big-data/lmc-30dor-B-subcube-86-95.fits']\n",
      "30.1 s ± 0 ns per loop (mean ± std. dev. of 1 run, 1 loop each)\n"
     ]
    }
   ],
   "source": [
    "%%timeit -n1 -r1\n",
    "_files = write_subcubes(\n",
    "    divide_in_subcubes(\n",
    "        Cube(str(datapath / fileB))\n",
    "    ),\n",
    "    \"lmc-30dor-B\",\n",
    ")\n",
    "print(_files)"
   ]
  },
  {
   "cell_type": "markdown",
   "id": "12b2ca5f",
   "metadata": {},
   "source": [
    "That was even faster: 30 seconds.\n",
    "\n",
    "Looks like the D cube did not download fully. I am trying to get it again, but is going to take 30 minutes."
   ]
  },
  {
   "cell_type": "code",
   "execution_count": 41,
   "id": "0f765b3a",
   "metadata": {},
   "outputs": [
    {
     "name": "stderr",
     "output_type": "stream",
     "text": [
      "WARNING: UnitsWarning: '1e-20 erg/s/cm  2/Angstrom' contains multiple slashes, which is discouraged by the FITS standard [astropy.units.format.generic]\n"
     ]
    },
    {
     "name": "stdout",
     "output_type": "stream",
     "text": [
      "['../big-data/lmc-30dor-D-subcube-46-55.fits', '../big-data/lmc-30dor-D-subcube-54-63.fits', '../big-data/lmc-30dor-D-subcube-62-71.fits', '../big-data/lmc-30dor-D-subcube-70-79.fits', '../big-data/lmc-30dor-D-subcube-78-87.fits', '../big-data/lmc-30dor-D-subcube-86-95.fits']\n"
     ]
    }
   ],
   "source": [
    "_files = write_subcubes(\n",
    "    divide_in_subcubes(\n",
    "        Cube(str(datapath / fileD))\n",
    "    ),\n",
    "    \"lmc-30dor-D\",\n",
    ")\n",
    "print(_files)"
   ]
  },
  {
   "cell_type": "markdown",
   "id": "35ff64fb",
   "metadata": {},
   "source": [
    "Hurray, that worked finally.  So this notebooks work is now finished. "
   ]
  }
 ],
 "metadata": {
  "jupytext": {
   "encoding": "# -*- coding: utf-8 -*-",
   "formats": "ipynb,py:light,md"
  },
  "kernelspec": {
   "display_name": "Python 3",
   "language": "python",
   "name": "python3"
  },
  "language_info": {
   "codemirror_mode": {
    "name": "ipython",
    "version": 3
   },
   "file_extension": ".py",
   "mimetype": "text/x-python",
   "name": "python",
   "nbconvert_exporter": "python",
   "pygments_lexer": "ipython3",
   "version": "3.9.4"
  }
 },
 "nbformat": 4,
 "nbformat_minor": 5
}
