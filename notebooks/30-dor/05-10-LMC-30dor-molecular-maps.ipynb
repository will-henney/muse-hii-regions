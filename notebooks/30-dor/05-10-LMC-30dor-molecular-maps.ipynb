{
 "cells": [
  {
   "cell_type": "markdown",
   "id": "31b3b82b",
   "metadata": {},
   "source": [
    "# Maps of molecular gas around 30 Dor"
   ]
  },
  {
   "cell_type": "markdown",
   "id": "1a65bd79",
   "metadata": {},
   "source": [
    "We want to compare the distribution of molecular gas with that of the Raman wings. \n",
    "\n",
    "Mabel is going to be doing most of that, but here I am going to create some integrated line maps from the original data cubes obtained from observatory archives."
   ]
  },
  {
   "cell_type": "code",
   "execution_count": null,
   "id": "ccfd3a38",
   "metadata": {},
   "outputs": [],
   "source": [
    "from pathlib import Path\n",
    "import numpy as np\n",
    "from astropy.io import fits\n",
    "from astropy.wcs import WCS\n",
    "import astropy.units as u\n",
    "from astropy import constants\n",
    "from reproject import reproject_interp"
   ]
  },
  {
   "cell_type": "markdown",
   "id": "a2b297b4",
   "metadata": {},
   "source": [
    "## Alma maps of 30 Dor-10 GMC\n",
    "\n",
    "These maps are described in [Indebetouw et al. 2020](https://ui.adsabs.harvard.edu/abs/2020ApJ...888...56I).\n",
    "\n"
   ]
  },
  {
   "cell_type": "code",
   "execution_count": null,
   "id": "e648116e",
   "metadata": {},
   "outputs": [],
   "source": [
    "DATAPATH = Path.cwd().parent / \"big-data\" / \"30-Dor-Radio\""
   ]
  },
  {
   "cell_type": "code",
   "execution_count": null,
   "id": "b11d3607",
   "metadata": {},
   "outputs": [],
   "source": [
    "DATAPATH"
   ]
  },
  {
   "cell_type": "code",
   "execution_count": null,
   "id": "211e5e41",
   "metadata": {},
   "outputs": [],
   "source": [
    "PATH_2013 = DATAPATH / \"2013.1.00346.S/science_goal.uid___A001_X12a_X279/group.uid___A001_X12a_X27a/member.uid___A001_X12a_X27b/product\""
   ]
  },
  {
   "cell_type": "code",
   "execution_count": null,
   "id": "469c2beb",
   "metadata": {},
   "outputs": [],
   "source": [
    "hdulist = fits.open(PATH_2013 / \"member.uid___A001_X12a_X27b.30_doradus_13CO21.image.fits\")"
   ]
  },
  {
   "cell_type": "code",
   "execution_count": null,
   "id": "fac880d2",
   "metadata": {},
   "outputs": [],
   "source": [
    "hdulist.info()"
   ]
  },
  {
   "cell_type": "code",
   "execution_count": null,
   "id": "b34adb9b",
   "metadata": {},
   "outputs": [],
   "source": [
    "w = WCS(hdulist[\"PRIMARY\"].header)"
   ]
  },
  {
   "cell_type": "code",
   "execution_count": null,
   "id": "01d86cec",
   "metadata": {},
   "outputs": [],
   "source": [
    "w.celestial"
   ]
  },
  {
   "cell_type": "markdown",
   "id": "ea8e826b",
   "metadata": {},
   "source": [
    "The original data has 4 axes (4th is degenerate axis of Stokes parameters).  So, we have to sum over 2 axes to get down to the pure image."
   ]
  },
  {
   "cell_type": "code",
   "execution_count": null,
   "id": "50273a53",
   "metadata": {},
   "outputs": [],
   "source": [
    "image = np.nansum(\n",
    "    hdulist[\"PRIMARY\"].data,\n",
    "    axis=(0, 1),\n",
    ")\n",
    "image.shape"
   ]
  },
  {
   "cell_type": "markdown",
   "id": "f0e06d23",
   "metadata": {},
   "source": [
    "Now write out the image with a new header:"
   ]
  },
  {
   "cell_type": "code",
   "execution_count": null,
   "id": "5afc15c8",
   "metadata": {},
   "outputs": [],
   "source": [
    "fits.PrimaryHDU(\n",
    "    header=w.celestial.to_header(),\n",
    "    data=image,\n",
    ").writeto(\n",
    "    DATAPATH / \"Alma-2013.1.00346.S-30_doradus_13CO21-sum.fits\",\n",
    "    overwrite=True,\n",
    ")"
   ]
  },
  {
   "cell_type": "code",
   "execution_count": null,
   "id": "55269516",
   "metadata": {},
   "outputs": [],
   "source": [
    "image = np.nanmax(\n",
    "    hdulist[\"PRIMARY\"].data,\n",
    "    axis=(0, 1),\n",
    ")\n",
    "fits.PrimaryHDU(\n",
    "    header=w.celestial.to_header(),\n",
    "    data=image,\n",
    ").writeto(\n",
    "    DATAPATH / \"Alma-2013.1.00346.S-30_doradus_13CO21-peak.fits\",\n",
    "    overwrite=True,\n",
    ")"
   ]
  },
  {
   "cell_type": "markdown",
   "id": "88404130",
   "metadata": {},
   "source": [
    "## The 2019 Alma observations from the `2019.1.00843.S` program"
   ]
  },
  {
   "cell_type": "code",
   "execution_count": null,
   "id": "cee0fb2f",
   "metadata": {},
   "outputs": [],
   "source": [
    "RAW_DATAPATH = Path.home() / \"Work\"/ \"Alma-Data\" / \"LMC-30-Dor\""
   ]
  },
  {
   "cell_type": "code",
   "execution_count": null,
   "id": "79d64e00",
   "metadata": {},
   "outputs": [],
   "source": [
    "def fitspath(uid: str, spw: int=25):\n",
    "    \"\"\"Find an ALMA spectral cube file with given `uid`\"\"\"\n",
    "    filename = f\"member.uid___A001_X1465_X{uid}.30_Doradus_sci.spw{spw}.cube.I.pbcor.fits\"\n",
    "    matches = list(RAW_DATAPATH.rglob(filename))\n",
    "    assert len(matches) == 1\n",
    "    return matches[0]"
   ]
  },
  {
   "cell_type": "markdown",
   "id": "08e8b7de",
   "metadata": {},
   "source": [
    "Check that we can find a cube:"
   ]
  },
  {
   "cell_type": "code",
   "execution_count": null,
   "id": "9a71558f",
   "metadata": {},
   "outputs": [],
   "source": [
    "fitspath(\"219a\")"
   ]
  },
  {
   "cell_type": "code",
   "execution_count": null,
   "id": "8a67f7ba-9108-4d78-9248-7ed383c15d30",
   "metadata": {},
   "outputs": [],
   "source": [
    "list(RAW_DATAPATH.rglob(\"*30_Doradus_sci.spw29.cube.I.pbcor.fits\"))"
   ]
  },
  {
   "cell_type": "code",
   "execution_count": null,
   "id": "54713124",
   "metadata": {},
   "outputs": [],
   "source": [
    "uids = [\"218a\", \"2192\", \"219a\"]\n",
    "paths_12co = {uid: fitspath(uid) for uid in uids}\n",
    "paths_13co = {uid: fitspath(uid, spw=29) for uid in uids}"
   ]
  },
  {
   "cell_type": "code",
   "execution_count": null,
   "id": "98a84506",
   "metadata": {},
   "outputs": [],
   "source": [
    "for p in paths_13co.values():\n",
    "    fits.open(p).info()"
   ]
  },
  {
   "cell_type": "markdown",
   "id": "f6fed49d-1078-4204-8ce8-d849653e0061",
   "metadata": {},
   "source": [
    "Function to calculate the velocity moments of a cube:"
   ]
  },
  {
   "cell_type": "code",
   "execution_count": null,
   "id": "baec08f2-7292-421b-9418-375fe5d4456d",
   "metadata": {},
   "outputs": [],
   "source": [
    "def moments(cube, vels):\n",
    "    vcube = vels[:, None, None]\n",
    "    mom0 = np.nansum(cube, axis=0)\n",
    "    mom1 = np.nansum(cube * vcube, axis=0)\n",
    "    vmean = mom1 / mom0\n",
    "    mom2 = np.nansum(cube * (vcube - vmean)**2, axis=0)\n",
    "    sigma = np.sqrt(mom2 / mom0)\n",
    "    return mom0, vmean, sigma"
   ]
  },
  {
   "cell_type": "markdown",
   "id": "0d25cbce-bc88-497b-8e17-ccf7b1c5228c",
   "metadata": {
    "tags": []
   },
   "source": [
    "Use the rest frequency in the header to convert the spectral axis to velocity, remembering that all must be in SI units.  Then, make an array of velocities in km/s for the spectral axis"
   ]
  },
  {
   "cell_type": "code",
   "execution_count": null,
   "id": "bfbed7bb-e967-4d5f-94d7-05604c23dfe6",
   "metadata": {},
   "outputs": [],
   "source": [
    "def get_velocities(hdu):\n",
    "    hdr = hdu.header.copy()\n",
    "    # Rest frequency\n",
    "    nu0 = hdr[\"RESTFRQ\"] * u.Hz\n",
    "    # Frequency of reference pixel\n",
    "    nu1 = hdr[\"CRVAL3\"] * u.Hz\n",
    "    # Change from frequency to \"Radio\" velocities\n",
    "    hdr[\"CTYPE3\"] = \"VRAD\"\n",
    "    hdr[\"CRVAL3\"] = (constants.c * (nu0 - nu1) / nu0).si.value\n",
    "    hdr[\"CDELT3\"] *= -(1.0 * u.Hz * constants.c / nu0).si.value\n",
    "    hdr[\"CUNIT3\"] = \"m/s\"\n",
    "    wspec = WCS(hdr).spectral\n",
    "    \n",
    "    ns, nv, ny, nx = hdu.data.shape\n",
    "    vels = wspec.array_index_to_world(\n",
    "        np.arange(nv)\n",
    "    ).to(u.km / u.s).value\n",
    "    return vels"
   ]
  },
  {
   "cell_type": "markdown",
   "id": "01b9d5d4-0aba-441c-99d2-61168752d855",
   "metadata": {},
   "source": [
    "This does a rolling average over the velocity axis, so that we get less noise in the \"max\" maps.  We are fine doing this because the velocity pixel size is much smaller than the effective velocity resolution. "
   ]
  },
  {
   "cell_type": "code",
   "execution_count": null,
   "id": "09e5e291-3719-43f6-b6a4-8a34f7d4011e",
   "metadata": {},
   "outputs": [],
   "source": [
    "def smooth_vels(cube, n):\n",
    "    \"Perform rolling average of length `n` along the 0-th axis\"\n",
    "    kernel = np.ones(n) / n\n",
    "    nv, ny, nx = cube.shape\n",
    "    for j, i in np.ndindex(ny, nx):\n",
    "        cube[:, j, i] = np.convolve(cube[:, j, i], kernel, mode=\"same\")\n",
    "    return cube"
   ]
  },
  {
   "cell_type": "code",
   "execution_count": null,
   "id": "ad941f6e-af81-4869-8093-cab4b36cbb75",
   "metadata": {},
   "outputs": [],
   "source": [
    "def get_moments_and_spectrum(hdu, klim=(700, 1400)):\n",
    "    k1, k2 = klim\n",
    "    vels = get_velocities(hdu)\n",
    "    full_cube = hdu.data[0, ...]\n",
    "    zoom_cube = full_cube[k1:k2, ...]\n",
    "    _sum, vmean, sigma = moments(zoom_cube, vels[k1:k2])\n",
    "    peak = np.nanmax(full_cube, axis=0)\n",
    "    peak04 = np.nanmax(smooth_vels(full_cube, 4), axis=0)\n",
    "    peak08 = np.nanmax(smooth_vels(full_cube, 8), axis=0)\n",
    "    spec = np.nansum(full_cube, axis=(1, 2))\n",
    "    specm = np.nanmax(full_cube, axis=(1, 2))\n",
    "    return {\n",
    "        \"vels\": vels,\n",
    "        \"spec\": spec,\n",
    "        \"specm\": specm,\n",
    "        \"peak\": peak,\n",
    "        \"peak04\": peak04,\n",
    "        \"peak08\": peak08,\n",
    "        \"sum\": _sum,\n",
    "        \"vmean\": vmean,\n",
    "        \"sigma\": sigma,\n",
    "        \"wcs\": WCS(hdu.header).celestial,\n",
    "        \"hdu\": hdu,\n",
    "        \"klim\": klim,\n",
    "    }"
   ]
  },
  {
   "cell_type": "markdown",
   "id": "446c5b8a",
   "metadata": {},
   "source": [
    "Save a peak and a mean version of each map.  Also, keep a dict `cubes_12co` of the original cubes for later use. "
   ]
  },
  {
   "cell_type": "code",
   "execution_count": null,
   "id": "b344e50e-7481-44e8-87cb-2d8d9638016c",
   "metadata": {
    "tags": []
   },
   "outputs": [],
   "source": [
    "data_12co = {\n",
    "    uid: get_moments_and_spectrum(fits.open(p)[\"PRIMARY\"])\n",
    "    for uid, p in paths_12co.items()\n",
    "}"
   ]
  },
  {
   "cell_type": "code",
   "execution_count": null,
   "id": "95cd67d2-b3b6-4e10-a38c-7f4c8d7d7fe7",
   "metadata": {
    "tags": []
   },
   "outputs": [],
   "source": [
    "data_13co = {\n",
    "    uid: get_moments_and_spectrum(fits.open(p)[\"PRIMARY\"])\n",
    "    for uid, p in paths_13co.items()\n",
    "}"
   ]
  },
  {
   "cell_type": "code",
   "execution_count": null,
   "id": "391762fc",
   "metadata": {},
   "outputs": [],
   "source": [
    "PREFIX = \"Alma-2019.1.00843.S-30_doradus\"\n",
    "def save_images(data_dict, line_id=\"12CO21\"):\n",
    "    for uid, data in data_dict.items():\n",
    "        w = data[\"wcs\"]\n",
    "        for label in \"peak\", \"peak04\", \"peak08\", \"sum\", \"vmean\", \"sigma\":\n",
    "            image = data[label]\n",
    "            savepath = DATAPATH / f\"{PREFIX}_{line_id}-{uid}-{label}.fits\"\n",
    "            fits.PrimaryHDU(\n",
    "                header=w.to_header(), \n",
    "                data=image,\n",
    "            ).writeto(savepath, overwrite=True)"
   ]
  },
  {
   "cell_type": "markdown",
   "id": "48ffe2ae-27b6-41dc-b34e-fde6f1ce6820",
   "metadata": {},
   "source": [
    "Save all the maps to fits files."
   ]
  },
  {
   "cell_type": "code",
   "execution_count": null,
   "id": "3080a041-1a14-4b83-82e6-b9ee86188c65",
   "metadata": {},
   "outputs": [],
   "source": [
    "save_images(data_12co, line_id=\"12CO21\")"
   ]
  },
  {
   "cell_type": "code",
   "execution_count": null,
   "id": "c6fbb6e6-cdac-4a48-b90c-1d211060dfe1",
   "metadata": {},
   "outputs": [],
   "source": [
    "save_images(data_13co, line_id=\"13CO21\")"
   ]
  },
  {
   "cell_type": "markdown",
   "id": "c994e19c-8ce7-44a1-98bd-3ccf6a505c14",
   "metadata": {},
   "source": [
    "### Stitch together the images\n",
    "\n",
    "Regrid everything to the MUSE frame and then take the median (or the minimum for the max images). "
   ]
  },
  {
   "cell_type": "code",
   "execution_count": null,
   "id": "5ee501a9-a995-42c7-b0bf-dd1c379b8f42",
   "metadata": {},
   "outputs": [],
   "source": [
    "MUSE_DATAPATH = Path.cwd().parent / \"data\" \n",
    "musefile = \"lmc-30dor-ABCD-oiii-4959-bin01-sum.fits\"\n",
    "musehdu = fits.open(MUSE_DATAPATH / musefile)[\"DATA\"]"
   ]
  },
  {
   "cell_type": "code",
   "execution_count": null,
   "id": "88a03e3a-8331-458d-9fa9-ec3e2ecd959e",
   "metadata": {},
   "outputs": [],
   "source": [
    "WCS(musehdu.header)"
   ]
  },
  {
   "cell_type": "code",
   "execution_count": null,
   "id": "3b95db7a-d599-47bb-88e7-630f1983f032",
   "metadata": {},
   "outputs": [],
   "source": [
    "images = [\n",
    "    reproject_interp((db[\"peak08\"], db[\"wcs\"]), musehdu.header, return_footprint=False)\n",
    "    for db in data_12co.values()\n",
    "]"
   ]
  },
  {
   "cell_type": "code",
   "execution_count": null,
   "id": "2a56b423-3c2e-4d18-827a-e993d416e64a",
   "metadata": {},
   "outputs": [],
   "source": [
    "im = np.nanmin(\n",
    "    np.stack(images),\n",
    "    axis=0,\n",
    ")\n",
    "#im[~np.isfinite(im)] = 0.0\n",
    "fig, ax = plt.subplots(subplot_kw=dict(projection=WCS(musehdu.header)))\n",
    "ax.imshow(\n",
    "    im, \n",
    "#     vmin=0.0, \n",
    "#     vmax=2.11,\n",
    "    cmap=\"gray_r\",\n",
    ")\n",
    "ax.set_aspect(\"equal\")"
   ]
  },
  {
   "cell_type": "markdown",
   "id": "3cc261e9-ee03-4d2c-b7ea-d2aba36883a8",
   "metadata": {},
   "source": [
    "This looks good.  Now write to file."
   ]
  },
  {
   "cell_type": "code",
   "execution_count": null,
   "id": "51f7e8e8-70a3-4340-8dca-17e6961a83c0",
   "metadata": {},
   "outputs": [],
   "source": [
    "fits.PrimaryHDU(\n",
    "    header=musehdu.header,\n",
    "    data=im,\n",
    ").writeto(MUSE_DATAPATH / \"lmc-30dor-ABCD-12co-21-reproject-max.fits\")"
   ]
  },
  {
   "cell_type": "markdown",
   "id": "f00527b1-2824-4009-941b-12bc82031505",
   "metadata": {},
   "source": [
    "Repeat for 13CO"
   ]
  },
  {
   "cell_type": "code",
   "execution_count": null,
   "id": "e0c32335-bad9-41bf-89c3-1d454d495db2",
   "metadata": {},
   "outputs": [],
   "source": [
    "images = [\n",
    "    reproject_interp((db[\"peak08\"], db[\"wcs\"]), musehdu.header, return_footprint=False)\n",
    "    for db in data_13co.values()\n",
    "]\n",
    "im = np.nanmin(\n",
    "    np.stack(images),\n",
    "    axis=0,\n",
    ")\n",
    "fits.PrimaryHDU(\n",
    "    header=musehdu.header,\n",
    "    data=im,\n",
    ").writeto(\n",
    "    MUSE_DATAPATH / \"lmc-30dor-ABCD-13co-21-reproject-max.fits\", \n",
    "    overwrite=True,\n",
    ")"
   ]
  },
  {
   "cell_type": "markdown",
   "id": "b18f7ccf-2d32-428c-86b3-545586545642",
   "metadata": {},
   "source": [
    "And repeat for the summed intensity and the velocity moments:"
   ]
  },
  {
   "cell_type": "code",
   "execution_count": null,
   "id": "d5838021-6508-4025-b893-c9c547b0284c",
   "metadata": {
    "lines_to_next_cell": 2
   },
   "outputs": [],
   "source": [
    "for line_id, dbdict in [[\"13co\", data_13co], [\"12co\", data_12co]]:\n",
    "    for db in dbdict.values():\n",
    "        missing_mask = db[\"sum\"] == 0.0\n",
    "        db[\"sum\"][missing_mask] = np.nan\n",
    "    imstack = {}\n",
    "    for q in \"peak08\", \"sum\", \"vmean\", \"sigma\":\n",
    "        imstack[q] = np.stack([\n",
    "            reproject_interp(\n",
    "                (db[q], db[\"wcs\"]), \n",
    "                musehdu.header, \n",
    "                return_footprint=False,\n",
    "            )\n",
    "            for db in dbdict.values()\n",
    "        ])\n",
    "    peak = np.nanmin(imstack[\"peak08\"], axis=0)\n",
    "    mom0 = np.nanmean(imstack[\"sum\"], axis=0)\n",
    "    mom1 = np.nanmean(imstack[\"sum\"] * imstack[\"vmean\"], axis=0)\n",
    "    mom2 = np.nanmean(imstack[\"sum\"] * imstack[\"sigma\"] ** 2, axis=0)\n",
    "    vmean = mom1 / mom0\n",
    "    sigma = np.sqrt(np.abs(mom2 / mom0))\n",
    "    weak_mask = (peak <= 0.15) & (mom0 < 10.0)\n",
    "    vmean[weak_mask] = np.nan\n",
    "    sigma[weak_mask] = np.nan\n",
    "    for im, label in [\n",
    "        [mom0, \"sum\"], \n",
    "        [peak, \"peak\"], \n",
    "        [vmean, \"vmean\"], \n",
    "        [sigma, \"sigma\"]\n",
    "    ]:\n",
    "        fits.PrimaryHDU(\n",
    "            header=musehdu.header,\n",
    "            data=im,\n",
    "        ).writeto(\n",
    "            MUSE_DATAPATH / f\"lmc-30dor-ABCD-{line_id}-21-reproject-{label}.fits\", \n",
    "            overwrite=True,\n",
    "        )"
   ]
  },
  {
   "cell_type": "markdown",
   "id": "ff9d91d6-5dc7-42fc-be0a-3fd209c2b922",
   "metadata": {},
   "source": [
    "### Do something with the spectra."
   ]
  },
  {
   "cell_type": "markdown",
   "id": "8f864aff-d3e1-426e-8a11-f1f3a5315f7c",
   "metadata": {},
   "source": [
    "Convert to heliocentric velocities for ease of comparison with MUSE:"
   ]
  },
  {
   "cell_type": "code",
   "execution_count": null,
   "id": "920779bd-0d90-471d-9adc-63dd39f5661f",
   "metadata": {},
   "outputs": [],
   "source": [
    "VHEL = 15.49"
   ]
  },
  {
   "cell_type": "code",
   "execution_count": null,
   "id": "9d5a8b5e",
   "metadata": {},
   "outputs": [],
   "source": [
    "from matplotlib import pyplot as plt\n",
    "import seaborn as sns\n",
    "sns.set_context(\"talk\")"
   ]
  },
  {
   "cell_type": "code",
   "execution_count": null,
   "id": "0a7b3732",
   "metadata": {},
   "outputs": [],
   "source": [
    "fig, ax = plt.subplots(figsize=(12,6))\n",
    "for label, db in data_12co.items():\n",
    "    vels = db[\"vels\"] + VHEL\n",
    "    spec = db[\"spec\"]\n",
    "    ax.plot(vels, spec, label=label)\n",
    "ax.axvline(265.0, color=\"k\", alpha=0.5, linestyle=\"dotted\")\n",
    "ax.axhline(0.0, color=\"k\", alpha=0.5, linestyle=\"dotted\")\n",
    "ax.legend()\n",
    "ax.set(\n",
    "#    xlim=[700, 1400],\n",
    "    xlim=[240, 290],\n",
    "    xlabel=\"Heliocentric Velocity, km/s\",\n",
    ")\n",
    "ax.set_title(\"$^{12}$CO summed line profile\")\n",
    "sns.despine();"
   ]
  },
  {
   "cell_type": "code",
   "execution_count": null,
   "id": "64f2c0fd",
   "metadata": {},
   "outputs": [],
   "source": [
    "fig, ax = plt.subplots(figsize=(12,6))\n",
    "for label, db in data_13co.items():\n",
    "    vels = db[\"vels\"] + VHEL\n",
    "    spec = db[\"spec\"]\n",
    "    ax.plot(vels, spec, label=label)\n",
    "ax.axvline(265.0, color=\"k\", alpha=0.5, linestyle=\"dotted\")\n",
    "ax.axhline(0.0, color=\"k\", alpha=0.5, linestyle=\"dotted\")\n",
    "ax.legend()\n",
    "ax.set(\n",
    "#    xlim=[700, 1400],\n",
    "    xlim=[240, 290],\n",
    "    xlabel=\"Heliocentric Velocity, km/s\",\n",
    ")\n",
    "ax.set_title(\"$^{13}$CO summed line profile\")\n",
    "sns.despine();"
   ]
  },
  {
   "cell_type": "code",
   "execution_count": null,
   "id": "7ec23956-26cd-475d-aed6-adb0a3af31e6",
   "metadata": {
    "tags": []
   },
   "outputs": [],
   "source": [
    "for db in data_13co.values():\n",
    "    db[\"specm\"] = np.nanmax(db[\"hdu\"].data[0, ...], axis=(1, 2))"
   ]
  },
  {
   "cell_type": "code",
   "execution_count": null,
   "id": "5b09579c-44d0-499e-9868-2ea1f72e9371",
   "metadata": {
    "tags": []
   },
   "outputs": [],
   "source": [
    "fig, ax = plt.subplots(figsize=(12,6))\n",
    "for label, db in data_13co.items():\n",
    "    vels = db[\"vels\"] + VHEL\n",
    "    spec = db[\"specm\"]\n",
    "    ax.plot(vels, spec, label=label)\n",
    "ax.axvline(265.0, color=\"k\", alpha=0.5, linestyle=\"dotted\")\n",
    "ax.axhline(0.0, color=\"k\", alpha=0.5, linestyle=\"dotted\")\n",
    "ax.legend()\n",
    "ax.set(\n",
    "#    xlim=[700, 1400],\n",
    "    xlim=[240, 290],\n",
    "    xlabel=\"Heliocentric Velocity, km/s\",\n",
    ")\n",
    "ax.set_title(\"$^{13}$CO max line profile\")\n",
    "sns.despine();"
   ]
  },
  {
   "cell_type": "code",
   "execution_count": null,
   "id": "8b67db6b-780e-4a2e-a7a2-0c3914a2754f",
   "metadata": {},
   "outputs": [],
   "source": [
    "data_13co[\"218a\"][\"vels\"]"
   ]
  },
  {
   "cell_type": "code",
   "execution_count": null,
   "id": "117d392c-e2b8-48bb-86b1-17a35d27ef0e",
   "metadata": {
    "tags": []
   },
   "outputs": [],
   "source": [
    "for db in data_12co.values():\n",
    "    db[\"specm\"] = np.nanmax(db[\"hdu\"].data[0, ...], axis=(1, 2))"
   ]
  },
  {
   "cell_type": "code",
   "execution_count": null,
   "id": "6710eaee-6976-4657-acd8-2b8a63356c3a",
   "metadata": {
    "tags": []
   },
   "outputs": [],
   "source": [
    "fig, ax = plt.subplots(figsize=(12,6))\n",
    "for label, db in data_12co.items():\n",
    "    vels = db[\"vels\"] + VHEL\n",
    "    spec = db[\"specm\"]\n",
    "    ax.plot(vels, spec, label=label)\n",
    "ax.axvline(265.0, color=\"k\", alpha=0.5, linestyle=\"dotted\")\n",
    "ax.axhline(0.0, color=\"k\", alpha=0.5, linestyle=\"dotted\")\n",
    "ax.legend()\n",
    "ax.set(\n",
    "#    xlim=[700, 1400],\n",
    "    xlim=[235, 300],\n",
    "    xlabel=\"Heliocentric Velocity, km/s\",\n",
    ")\n",
    "ax.set_title(\"$^{12}$CO max line profile\")\n",
    "sns.despine();"
   ]
  },
  {
   "cell_type": "markdown",
   "id": "4bc9e58c-cf5e-4398-a538-df52ad769c2c",
   "metadata": {},
   "source": [
    "### Now compare with the mean velocities"
   ]
  },
  {
   "cell_type": "code",
   "execution_count": null,
   "id": "4eb482e6-9885-4654-8211-72bcb7b8d089",
   "metadata": {},
   "outputs": [],
   "source": [
    "import pandas as pd"
   ]
  },
  {
   "cell_type": "code",
   "execution_count": null,
   "id": "97514b0c-11b9-4bc5-9c50-fe55c4912d94",
   "metadata": {},
   "outputs": [],
   "source": [
    "_vars = [\"sum\", \"log sum\", \"peak08\", \"vhel\", \"sigma\"]\n",
    "\n",
    "d = {q: [] for q in _vars}\n",
    "\n",
    "for db in data_12co.values():\n",
    "#for db in [data_12co[\"219a\"]]:\n",
    "    db[\"vhel\"] = db[\"vmean\"] + VHEL\n",
    "    db[\"log sum\"] = np.log10(db[\"sum\"])\n",
    "    m = np.isfinite(db[\"vhel\"]) & (db[\"peak08\"] > 0.5) \n",
    "    m = m & (db[\"sum\"] > 3.0)\n",
    "    m = m & (db[\"vhel\"] > 220.0) & (db[\"vhel\"] < 330.0)\n",
    "    m = m & (db[\"sigma\"] < 20.0)\n",
    "    for q in _vars:\n",
    "        d[q].extend(list(db[q][m]))\n",
    "\n",
    "df = pd.DataFrame(d)\n",
    "\n",
    "g = sns.pairplot(\n",
    "    df,\n",
    "    vars=[\"log sum\", \"vhel\", \"sigma\"],\n",
    "    kind=\"hist\",\n",
    "    height=4,\n",
    "    corner=True,\n",
    "    plot_kws=dict(\n",
    "        weights=df[\"sum\"],\n",
    "        bins=100,\n",
    "    ),\n",
    ")\n",
    "g.fig.suptitle(\"$^{12}$CO All fields\");"
   ]
  },
  {
   "cell_type": "code",
   "execution_count": null,
   "id": "9ad4730b-f3fc-480d-a062-a03b03f07eb0",
   "metadata": {},
   "outputs": [],
   "source": [
    "d = {q: [] for q in _vars}\n",
    "\n",
    "for db in data_13co.values():\n",
    "#for db in [data_12co[\"219a\"]]:\n",
    "    db[\"vhel\"] = db[\"vmean\"] + VHEL\n",
    "    db[\"log sum\"] = np.log10(db[\"sum\"])\n",
    "    m = np.isfinite(db[\"vhel\"]) & (db[\"peak08\"] > 0.5) \n",
    "    m = m & (db[\"sum\"] > 3.0)\n",
    "    m = m & (db[\"vhel\"] > 220.0) & (db[\"vhel\"] < 330.0)\n",
    "    m = m & (db[\"sigma\"] < 20.0)\n",
    "    for q in _vars:\n",
    "        d[q].extend(list(db[q][m]))\n",
    "\n",
    "df = pd.DataFrame(d)\n",
    "\n",
    "g = sns.pairplot(\n",
    "    df,\n",
    "    vars=[\"log sum\", \"vhel\", \"sigma\"],\n",
    "    kind=\"hist\",\n",
    "    height=4,\n",
    "    corner=True,\n",
    "    plot_kws=dict(\n",
    "        weights=df[\"sum\"],\n",
    "        bins=100,\n",
    "    ),\n",
    ")\n",
    "g.fig.suptitle(\"$^{13}$CO All fields\");"
   ]
  },
  {
   "cell_type": "markdown",
   "id": "b9e42fa1-a2b1-4f08-8656-11b5da92e43d",
   "metadata": {},
   "source": [
    "### Calculate distance from center"
   ]
  },
  {
   "cell_type": "code",
   "execution_count": null,
   "id": "c59ec3b4-df49-4ac9-896e-df2ac479e29f",
   "metadata": {},
   "outputs": [],
   "source": [
    "from astropy.coordinates import SkyCoord"
   ]
  },
  {
   "cell_type": "code",
   "execution_count": null,
   "id": "dfeb904a-e6fe-45c5-bc12-e3d917244351",
   "metadata": {},
   "outputs": [],
   "source": [
    "c0 = SkyCoord(\"5:38:41.3616 -69:06:03.254\", unit=(u.hourangle, u.deg))\n",
    "c0"
   ]
  },
  {
   "cell_type": "code",
   "execution_count": null,
   "id": "9c5c2525-a59f-4d90-a92d-72926b1bdd9a",
   "metadata": {},
   "outputs": [],
   "source": [
    "for field in data_12co:\n",
    "    db = data_12co[field]\n",
    "    ny, nx = db[\"sum\"].shape\n",
    "    w = db[\"wcs\"]\n",
    "    X, Y = np.meshgrid(np.arange(nx), np.arange(ny))\n",
    "    c = w.pixel_to_world(X, Y)\n",
    "    s = c0.separation(c)\n",
    "    # print(s.arcsec.min(), s.arcsec.max())\n",
    "    db[\"radius\"] = s.arcsec\n",
    "    data_13co[field][\"radius\"] = s.arcsec"
   ]
  },
  {
   "cell_type": "code",
   "execution_count": null,
   "id": "1900b276-d2d8-4752-bc4c-059e956bf1b4",
   "metadata": {},
   "outputs": [],
   "source": [
    "_vars = [\"sum\", \"log sum\", \"peak08\", \"vhel\", \"sigma\", \"radius\"]\n",
    "\n",
    "d = {q: [] for q in _vars}\n",
    "\n",
    "for db in data_12co.values():\n",
    "#for db in [data_12co[\"219a\"]]:\n",
    "    db[\"vhel\"] = db[\"vmean\"] + VHEL\n",
    "    db[\"log sum\"] = np.log10(db[\"sum\"])\n",
    "    m = np.isfinite(db[\"vhel\"]) & (db[\"peak08\"] > 0.5) \n",
    "    m = m & (db[\"sum\"] > 3.0)\n",
    "    m = m & (db[\"vhel\"] > 220.0) & (db[\"vhel\"] < 330.0)\n",
    "    m = m & (db[\"sigma\"] < 20.0)\n",
    "    for q in _vars:\n",
    "        d[q].extend(list(db[q][m]))\n",
    "\n",
    "df = pd.DataFrame(d)\n",
    "\n",
    "g = sns.pairplot(\n",
    "    df,\n",
    "    vars=[\"log sum\", \"vhel\", \"sigma\", \"radius\"],\n",
    "    kind=\"hist\",\n",
    "    height=4,\n",
    "    corner=True,\n",
    "    plot_kws=dict(\n",
    "        weights=df[\"sum\"],\n",
    "        bins=100,\n",
    "    ),\n",
    ")\n",
    "g.fig.suptitle(\"$^{12}$CO All fields\");"
   ]
  },
  {
   "cell_type": "code",
   "execution_count": null,
   "id": "656406f4-3ef2-4fbc-9662-4d425bd9ca41",
   "metadata": {
    "tags": []
   },
   "outputs": [],
   "source": [
    "from corner import corner"
   ]
  },
  {
   "cell_type": "code",
   "execution_count": null,
   "id": "7f34b3c0-47ed-4cc0-bbf8-e01bc5a8649b",
   "metadata": {},
   "outputs": [],
   "source": [
    "corner(\n",
    "    df, \n",
    "    var_names=[\"log sum\", \"vhel\", \"sigma\", \"radius\"], \n",
    "    weights=df[\"sum\"], \n",
    "    bins=100, \n",
    "    plot_contours=True,\n",
    "    smooth=2.0,\n",
    "    linewidth=0.3,\n",
    ");"
   ]
  },
  {
   "cell_type": "code",
   "execution_count": null,
   "id": "69512595-f91f-410c-8af5-a18db560eafe",
   "metadata": {},
   "outputs": [],
   "source": [
    "_vars = [\"sum\", \"log sum\", \"peak08\", \"vhel\", \"sigma\", \"radius\"]\n",
    "\n",
    "d = {q: [] for q in _vars}\n",
    "\n",
    "for db in data_12co.values():\n",
    "#for db in [data_12co[\"219a\"]]:\n",
    "    db[\"vhel\"] = db[\"vmean\"] + VHEL\n",
    "    db[\"log sum\"] = np.log10(db[\"sum\"])\n",
    "    m = np.isfinite(db[\"vhel\"]) & (db[\"peak08\"] > 0.5) \n",
    "    m = m & (db[\"sum\"] > 3.0)\n",
    "    m = m & (db[\"vhel\"] > 220.0) & (db[\"vhel\"] < 330.0)\n",
    "    m = m & (db[\"sigma\"] < 20.0)\n",
    "    m = m & (db[\"radius\"] < 80.0)\n",
    "    for q in _vars:\n",
    "        d[q].extend(list(db[q][m]))\n",
    "\n",
    "df = pd.DataFrame(d)\n",
    "\n",
    "g = sns.pairplot(\n",
    "    df,\n",
    "    vars=[\"log sum\", \"vhel\", \"sigma\", \"radius\"],\n",
    "    kind=\"hist\",\n",
    "    height=4,\n",
    "    corner=True,\n",
    "    plot_kws=dict(\n",
    "        weights=df[\"sum\"],\n",
    "        bins=100,\n",
    "    ),\n",
    ")\n",
    "g.fig.suptitle(\"$^{12}$CO inner region ($r < 80''$)\")\n",
    "g.fig.set_size_inches(8, 8)\n",
    "g.fig.savefig(\"30dor-12co-I-v-sigma-rad-distros.pdf\");"
   ]
  },
  {
   "cell_type": "code",
   "execution_count": null,
   "id": "df8ac049-9c5e-4bf8-9af0-f124289a19b2",
   "metadata": {
    "tags": []
   },
   "outputs": [],
   "source": [
    "corner(\n",
    "    df, \n",
    "    var_names=[\"log sum\", \"vhel\", \"sigma\", \"radius\"], \n",
    "    weights=df[\"sum\"], \n",
    "    bins=100, \n",
    "    plot_contours=True,\n",
    "    smooth=2.0,\n",
    "    linewidth=0.3,\n",
    ");"
   ]
  },
  {
   "cell_type": "markdown",
   "id": "1db08e60-5144-43eb-996a-81bd985c42aa",
   "metadata": {},
   "source": [
    "We see a clear gradient of velocity with radius!"
   ]
  },
  {
   "cell_type": "code",
   "execution_count": null,
   "id": "0a2163d7-67ba-4c73-ac43-4a1023910e6b",
   "metadata": {
    "lines_to_next_cell": 0
   },
   "outputs": [],
   "source": [
    "_vars = [\"sum\", \"log sum\", \"peak08\", \"vhel\", \"sigma\", \"radius\"]\n",
    "\n",
    "d = {q: [] for q in _vars}\n",
    "\n",
    "for db in data_13co.values():\n",
    "#for db in [data_12co[\"219a\"]]:\n",
    "    db[\"vhel\"] = db[\"vmean\"] + VHEL\n",
    "    db[\"log sum\"] = np.log10(db[\"sum\"])\n",
    "    m = np.isfinite(db[\"vhel\"]) & (db[\"peak08\"] > 0.5) \n",
    "    m = m & (db[\"sum\"] > 3.0)\n",
    "    m = m & (db[\"vhel\"] > 220.0) & (db[\"vhel\"] < 330.0)\n",
    "    m = m & (db[\"sigma\"] < 20.0)\n",
    "    m = m & (db[\"radius\"] < 80.0)\n",
    "    for q in _vars:\n",
    "        d[q].extend(list(db[q][m]))\n",
    "\n",
    "df = pd.DataFrame(d)\n",
    "\n",
    "g = sns.pairplot(\n",
    "    df,\n",
    "    vars=[\"log sum\", \"vhel\", \"sigma\", \"radius\"],\n",
    "    kind=\"hist\",\n",
    "    height=4,\n",
    "    corner=True,\n",
    "    plot_kws=dict(\n",
    "        weights=df[\"sum\"],\n",
    "        bins=100,\n",
    "    ),\n",
    ")\n",
    "g.fig.suptitle(\"$^{13}$CO inner region ($r < 80''$)\")\n",
    "g.fig.set_size_inches(8, 8)\n",
    "g.fig.savefig(\"30dor-13co-I-v-sigma-rad-distros.pdf\");"
   ]
  },
  {
   "cell_type": "code",
   "execution_count": null,
   "id": "74ac105f-a13b-45a9-9fef-03d4fc4cf9e8",
   "metadata": {
    "lines_to_next_cell": 2
   },
   "outputs": [],
   "source": []
  }
 ],
 "metadata": {
  "jupytext": {
   "formats": "ipynb,py:light"
  },
  "kernelspec": {
   "display_name": "Python 3",
   "language": "python",
   "name": "python3"
  },
  "language_info": {
   "codemirror_mode": {
    "name": "ipython",
    "version": 3
   },
   "file_extension": ".py",
   "mimetype": "text/x-python",
   "name": "python",
   "nbconvert_exporter": "python",
   "pygments_lexer": "ipython3",
   "version": "3.9.4"
  },
  "toc-autonumbering": false,
  "toc-showmarkdowntxt": false,
  "toc-showtags": false
 },
 "nbformat": 4,
 "nbformat_minor": 5
}
