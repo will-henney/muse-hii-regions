{
 "cells": [
  {
   "cell_type": "markdown",
   "id": "0913abc5",
   "metadata": {},
   "source": [
    "# NGC 346 stars from Sabbi et al (2007)\n",
    "\n",
    "In my never-ending quest to get a catalog of all the stars in NGC 346, I am now going to try using the astroquery Vizier interface to get the tables from: \n",
    "\n",
    "```bibtex\n",
    "@article{Sabbi:2007h,\n",
    "\tauthor = {{Sabbi}, E. and {Sirianni}, M. and {Nota}, A. and {Tosi}, M. and {Gallagher}, J. and {Meixner}, M. and {Oey}, M.~S. and {Walterbos}, R. and {Pasquali}, A. and {Smith}, L.~J. and {Angeretti}, L.},\n",
    "\tjournal = {\\aj},\n",
    "\tmonth = jan,\n",
    "\tnumber = {1},\n",
    "\tpages = {44-57},\n",
    "\ttitle = {{Past and Present Star Formation in the SMC: NGC 346 and its Neighborhood}},\n",
    "\tvolume = {133},\n",
    "\tyear = 2007}\n",
    "\n",
    "```"
   ]
  },
  {
   "cell_type": "markdown",
   "id": "4d505230",
   "metadata": {},
   "source": [
    "## Find which catalog we want\n",
    "\n",
    "I had to install the `astroquery` library from conda-forge."
   ]
  },
  {
   "cell_type": "code",
   "execution_count": 2,
   "id": "d24dce34",
   "metadata": {},
   "outputs": [],
   "source": [
    "from astroquery.vizier import Vizier"
   ]
  },
  {
   "cell_type": "markdown",
   "id": "1c574b04",
   "metadata": {},
   "source": [
    "I am following a similar method to the examples in the [astroquery docs](https://astroquery.readthedocs.io/en/latest/vizier/vizier.html):"
   ]
  },
  {
   "cell_type": "code",
   "execution_count": 6,
   "id": "09ed87a2",
   "metadata": {},
   "outputs": [],
   "source": [
    "catalog_list = Vizier.find_catalogs('Sabbi 2007')"
   ]
  },
  {
   "cell_type": "markdown",
   "id": "93ec8826",
   "metadata": {},
   "source": [
    "We now have a list of matching catalogs:"
   ]
  },
  {
   "cell_type": "code",
   "execution_count": 5,
   "id": "d0b162d4",
   "metadata": {},
   "outputs": [
    {
     "name": "stdout",
     "output_type": "stream",
     "text": [
      "J/ApJ/730/78\n",
      "Hubble and Spitzer photometry of NGC 602 (Carlson+, 2011)\n",
      "\n",
      "J/ApJ/872/199\n",
      "Candidate spectrophotometric standard DA WDs (Calamida+, 2019)\n",
      "\n",
      "J/ApJS/222/11\n",
      "Hubble Tarantula Treasury Project (HTTP). III. (Sabbi+, 2016)\n",
      "\n",
      "J/ApJS/235/23\n",
      "LEGUS galaxies1 observations (Sabbi+, 2018)\n",
      "\n",
      "J/A+A/464/939\n",
      "Abundances of red giants in NGC 6218 (Carretta+, 2007)\n",
      "\n",
      "J/A+A/505/117\n",
      "Abundances of red giants in 15 globular clusters (Carretta+, 2009)\n",
      "\n",
      "J/A+A/598/A5\n",
      "Gaia-ESO Survey iDR4 calibrators (Pancino+, 2017)\n",
      "\n",
      "J/A+A/636/A54\n",
      "Massive young stellar objects in 30 Doradus (van Gelder+, 2020)\n",
      "\n",
      "J/AJ/133/44\n",
      "NGC 346 HST VI photometry (Sabbi+, 2007)\n",
      "\n",
      "J/AJ/136/1703\n",
      "Ridgelines of six intermediate-age SMC clusters (Glatt+, 2008)\n",
      "\n",
      "J/AJ/156/98\n",
      "Runaway stars in the 30 Doradus region of the LMC (Platais+, 2018)\n",
      "\n",
      "J/AJ/158/201\n",
      "Young star cluster Westerlund 2 observed with MUSE (Zeidler+, 2019)\n",
      "\n",
      "J/MNRAS/452/3508\n",
      "Young stellar structures in NGC 6503 (Gouliermis+, 2015)\n",
      "\n"
     ]
    }
   ],
   "source": [
    "for k,v in catalog_list.items():\n",
    "    print(k)\n",
    "    print(v.description, end=\"\\n\\n\")"
   ]
  },
  {
   "cell_type": "markdown",
   "id": "f8b7ebc4",
   "metadata": {},
   "source": [
    "This gave more than I was expecting, but the one we want is `J/AJ/133/44`:"
   ]
  },
  {
   "cell_type": "code",
   "execution_count": 13,
   "id": "d122ca76",
   "metadata": {},
   "outputs": [],
   "source": [
    "catalog_id = \"J/AJ/133/44\""
   ]
  },
  {
   "cell_type": "markdown",
   "id": "9ddfb389",
   "metadata": {},
   "source": [
    "## Download the tables\n",
    "\n",
    "We have to set `Vizier.ROW_LIMIT = -1` to make sure we get the complete table.  Otherwise, the default is to return only 50 rows."
   ]
  },
  {
   "cell_type": "code",
   "execution_count": 12,
   "id": "8df950cc",
   "metadata": {},
   "outputs": [
    {
     "data": {
      "text/plain": [
       "TableList with 2 tables:\n",
       "\t'0:J/AJ/133/44/table2' with 8 column(s) and 79960 row(s) \n",
       "\t'1:J/AJ/133/44/table3' with 8 column(s) and 16 row(s) "
      ]
     },
     "execution_count": 12,
     "metadata": {},
     "output_type": "execute_result"
    }
   ],
   "source": [
    "Vizier.ROW_LIMIT = -1\n",
    "catalogs = Vizier.get_catalogs(catalog_id)\n",
    "catalogs"
   ]
  },
  {
   "cell_type": "markdown",
   "id": "741a86b3",
   "metadata": {},
   "source": [
    "This gives two tables.  The first is a list of all 79960 stars that they have found in NGC 346.  The second is a list of the 16 sub-clusters that they have identified:"
   ]
  },
  {
   "cell_type": "code",
   "execution_count": 15,
   "id": "21fa7c6c",
   "metadata": {},
   "outputs": [
    {
     "data": {
      "text/html": [
       "<i>Table length=16</i>\n",
       "<table id=\"table140236998140880\" class=\"table-striped table-bordered table-condensed\">\n",
       "<thead><tr><th>__SSN2007_</th><th>RAJ2000</th><th>DEJ2000</th><th>Rad</th><th>Age</th><th>e_Age</th><th>Npms</th><th>Dpms</th></tr></thead>\n",
       "<thead><tr><th></th><th>&quot;h:m:s&quot;</th><th>&quot;d:m:s&quot;</th><th>pc</th><th>Myr</th><th>Myr</th><th></th><th>1 / pc2</th></tr></thead>\n",
       "<thead><tr><th>str5</th><th>str10</th><th>str9</th><th>float32</th><th>int16</th><th>float32</th><th>int16</th><th>float32</th></tr></thead>\n",
       "<tr><td>Sc  1</td><td>00 59 05.2</td><td>-72 10 28</td><td>2.5</td><td>3</td><td>1.0</td><td>342</td><td>17.4</td></tr>\n",
       "<tr><td>Sc  2</td><td>00 59 01.8</td><td>-72 10 35</td><td>2.3</td><td>3</td><td>1.0</td><td>295</td><td>17.8</td></tr>\n",
       "<tr><td>Sc  3</td><td>00 59 06.0</td><td>-72 10 43</td><td>1.6</td><td>3</td><td>1.0</td><td>138</td><td>17.2</td></tr>\n",
       "<tr><td>Sc  4</td><td>00 59 02.5</td><td>-72 10 07</td><td>0.6</td><td>3</td><td>1.0</td><td>20</td><td>17.7</td></tr>\n",
       "<tr><td>Sc  5</td><td>00 59 00.3</td><td>-72 10 04</td><td>1.1</td><td>3</td><td>1.0</td><td>32</td><td>8.4</td></tr>\n",
       "<tr><td>Sc  6</td><td>00 58 57.4</td><td>-72 09 55</td><td>1.2</td><td>3</td><td>1.0</td><td>14</td><td>3.1</td></tr>\n",
       "<tr><td>Sc  7</td><td>00 59 05.4</td><td>-72 10 57</td><td>1.5</td><td>3</td><td>1.0</td><td>65</td><td>9.2</td></tr>\n",
       "<tr><td>Sc  8</td><td>00 59 07.7</td><td>-72 10 48</td><td>1.9</td><td>3</td><td>1.0</td><td>109</td><td>9.6</td></tr>\n",
       "<tr><td>Sc  9</td><td>00 59 12.5</td><td>-72 11 08</td><td>1.0</td><td>3</td><td>1.0</td><td>29</td><td>9.2</td></tr>\n",
       "<tr><td>Sc 10</td><td>00 59 14.9</td><td>-72 11 01</td><td>1.6</td><td>3</td><td>1.0</td><td>61</td><td>7.6</td></tr>\n",
       "<tr><td>Sc 11</td><td>00 59 15.3</td><td>-72 11 12</td><td>1.1</td><td>3</td><td>1.0</td><td>38</td><td>10.0</td></tr>\n",
       "<tr><td>Sc 12</td><td>00 59 19.8</td><td>-72 11 20</td><td>1.5</td><td>3</td><td>1.0</td><td>25</td><td>3.5</td></tr>\n",
       "<tr><td>Sc 13</td><td>00 59 11.3</td><td>-72 10 00</td><td>1.9</td><td>3</td><td>1.0</td><td>90</td><td>7.9</td></tr>\n",
       "<tr><td>Sc 14</td><td>00 59 13.9</td><td>-72 09 27</td><td>0.9</td><td>3</td><td>1.0</td><td>22</td><td>8.6</td></tr>\n",
       "<tr><td>Sc 15</td><td>00 59 17.0</td><td>-72 09 15</td><td>0.6</td><td>3</td><td>1.0</td><td>21</td><td>18.6</td></tr>\n",
       "<tr><td>Sc 16</td><td>00 59 30.8</td><td>-72 09 10</td><td>1.6</td><td>15</td><td>2.5</td><td>65</td><td>8.0</td></tr>\n",
       "</table>"
      ],
      "text/plain": [
       "<Table length=16>\n",
       "__SSN2007_  RAJ2000    DEJ2000    Rad    Age   e_Age   Npms   Dpms \n",
       "            \"h:m:s\"    \"d:m:s\"     pc    Myr    Myr         1 / pc2\n",
       "   str5      str10       str9   float32 int16 float32 int16 float32\n",
       "---------- ---------- --------- ------- ----- ------- ----- -------\n",
       "     Sc  1 00 59 05.2 -72 10 28     2.5     3     1.0   342    17.4\n",
       "     Sc  2 00 59 01.8 -72 10 35     2.3     3     1.0   295    17.8\n",
       "     Sc  3 00 59 06.0 -72 10 43     1.6     3     1.0   138    17.2\n",
       "     Sc  4 00 59 02.5 -72 10 07     0.6     3     1.0    20    17.7\n",
       "     Sc  5 00 59 00.3 -72 10 04     1.1     3     1.0    32     8.4\n",
       "     Sc  6 00 58 57.4 -72 09 55     1.2     3     1.0    14     3.1\n",
       "     Sc  7 00 59 05.4 -72 10 57     1.5     3     1.0    65     9.2\n",
       "     Sc  8 00 59 07.7 -72 10 48     1.9     3     1.0   109     9.6\n",
       "     Sc  9 00 59 12.5 -72 11 08     1.0     3     1.0    29     9.2\n",
       "     Sc 10 00 59 14.9 -72 11 01     1.6     3     1.0    61     7.6\n",
       "     Sc 11 00 59 15.3 -72 11 12     1.1     3     1.0    38    10.0\n",
       "     Sc 12 00 59 19.8 -72 11 20     1.5     3     1.0    25     3.5\n",
       "     Sc 13 00 59 11.3 -72 10 00     1.9     3     1.0    90     7.9\n",
       "     Sc 14 00 59 13.9 -72 09 27     0.9     3     1.0    22     8.6\n",
       "     Sc 15 00 59 17.0 -72 09 15     0.6     3     1.0    21    18.6\n",
       "     Sc 16 00 59 30.8 -72 09 10     1.6    15     2.5    65     8.0"
      ]
     },
     "execution_count": 15,
     "metadata": {},
     "output_type": "execute_result"
    }
   ],
   "source": [
    "stars, subclusters = catalogs\n",
    "subclusters"
   ]
  },
  {
   "cell_type": "markdown",
   "id": "d53d71b4",
   "metadata": {},
   "source": [
    "## Look at the star catalog"
   ]
  },
  {
   "cell_type": "code",
   "execution_count": 16,
   "id": "1c40c867",
   "metadata": {},
   "outputs": [
    {
     "data": {
      "text/html": [
       "<i>Table length=79960</i>\n",
       "<table id=\"table140236742423072\" class=\"table-striped table-bordered table-condensed\">\n",
       "<thead><tr><th>ID</th><th>F555W</th><th>e_F555W</th><th>F814W</th><th>e_F814W</th><th>RAJ2000</th><th>DEJ2000</th><th>MPG</th></tr></thead>\n",
       "<thead><tr><th></th><th>mag</th><th>mag</th><th>mag</th><th>mag</th><th>&quot;h:m:s&quot;</th><th>&quot;d:m:s&quot;</th><th></th></tr></thead>\n",
       "<thead><tr><th>int32</th><th>float32</th><th>float32</th><th>float32</th><th>float32</th><th>str12</th><th>str12</th><th>int16</th></tr></thead>\n",
       "<tr><td>1</td><td>11.570</td><td>0.001</td><td>11.557</td><td>0.001</td><td>00 59 26.581</td><td>-72 09 53.00</td><td>--</td></tr>\n",
       "<tr><td>2</td><td>11.916</td><td>0.001</td><td>11.841</td><td>0.001</td><td>00 59 26.571</td><td>-72 09 53.99</td><td>--</td></tr>\n",
       "<tr><td>4</td><td>12.326</td><td>0.001</td><td>11.793</td><td>0.001</td><td>00 58 42.424</td><td>-72 09 43.27</td><td>185</td></tr>\n",
       "<tr><td>5</td><td>12.551</td><td>0.002</td><td>12.397</td><td>0.001</td><td>00 59 31.975</td><td>-72 10 46.11</td><td>789</td></tr>\n",
       "<tr><td>6</td><td>12.580</td><td>0.001</td><td>12.304</td><td>0.001</td><td>00 59 26.542</td><td>-72 09 53.00</td><td>--</td></tr>\n",
       "<tr><td>7</td><td>12.609</td><td>0.002</td><td>12.742</td><td>0.002</td><td>00 59 04.479</td><td>-72 10 24.77</td><td>435</td></tr>\n",
       "<tr><td>8</td><td>12.734</td><td>0.002</td><td>12.398</td><td>0.001</td><td>00 59 31.975</td><td>-72 10 46.13</td><td>--</td></tr>\n",
       "<tr><td>9</td><td>13.454</td><td>0.002</td><td>13.679</td><td>0.003</td><td>00 59 00.743</td><td>-72 10 28.16</td><td>355</td></tr>\n",
       "<tr><td>10</td><td>13.517</td><td>0.002</td><td>11.966</td><td>0.001</td><td>00 58 53.935</td><td>-72 12 04.78</td><td>283</td></tr>\n",
       "<tr><td>...</td><td>...</td><td>...</td><td>...</td><td>...</td><td>...</td><td>...</td><td>...</td></tr>\n",
       "<tr><td>29426</td><td>26.820</td><td>0.077</td><td>25.924</td><td>0.081</td><td>00 58 34.453</td><td>-72 11 40.57</td><td>--</td></tr>\n",
       "<tr><td>29495</td><td>26.842</td><td>0.098</td><td>25.283</td><td>0.050</td><td>00 59 31.898</td><td>-72 09 48.61</td><td>--</td></tr>\n",
       "<tr><td>29510</td><td>26.830</td><td>0.081</td><td>25.513</td><td>0.049</td><td>00 59 21.847</td><td>-72 08 21.56</td><td>--</td></tr>\n",
       "<tr><td>30841</td><td>26.864</td><td>0.085</td><td>25.586</td><td>0.050</td><td>00 58 44.239</td><td>-72 12 13.53</td><td>--</td></tr>\n",
       "<tr><td>30948</td><td>26.874</td><td>0.091</td><td>25.156</td><td>0.044</td><td>00 58 44.130</td><td>-72 10 57.57</td><td>--</td></tr>\n",
       "<tr><td>31171</td><td>26.885</td><td>0.089</td><td>25.437</td><td>0.052</td><td>00 58 45.559</td><td>-72 11 42.16</td><td>--</td></tr>\n",
       "<tr><td>31212</td><td>26.880</td><td>0.095</td><td>25.328</td><td>0.054</td><td>00 58 31.282</td><td>-72 12 21.38</td><td>--</td></tr>\n",
       "<tr><td>31969</td><td>26.895</td><td>0.098</td><td>25.172</td><td>0.048</td><td>00 59 29.197</td><td>-72 10 37.82</td><td>--</td></tr>\n",
       "<tr><td>32517</td><td>26.917</td><td>0.093</td><td>25.508</td><td>0.059</td><td>00 58 44.016</td><td>-72 12 20.65</td><td>--</td></tr>\n",
       "<tr><td>32733</td><td>26.928</td><td>0.086</td><td>25.444</td><td>0.051</td><td>00 59 36.172</td><td>-72 08 39.77</td><td>--</td></tr>\n",
       "</table>"
      ],
      "text/plain": [
       "<Table length=79960>\n",
       "  ID   F555W  e_F555W  F814W  e_F814W   RAJ2000      DEJ2000     MPG \n",
       "        mag     mag     mag     mag     \"h:m:s\"      \"d:m:s\"         \n",
       "int32 float32 float32 float32 float32    str12        str12     int16\n",
       "----- ------- ------- ------- ------- ------------ ------------ -----\n",
       "    1  11.570   0.001  11.557   0.001 00 59 26.581 -72 09 53.00    --\n",
       "    2  11.916   0.001  11.841   0.001 00 59 26.571 -72 09 53.99    --\n",
       "    4  12.326   0.001  11.793   0.001 00 58 42.424 -72 09 43.27   185\n",
       "    5  12.551   0.002  12.397   0.001 00 59 31.975 -72 10 46.11   789\n",
       "    6  12.580   0.001  12.304   0.001 00 59 26.542 -72 09 53.00    --\n",
       "    7  12.609   0.002  12.742   0.002 00 59 04.479 -72 10 24.77   435\n",
       "    8  12.734   0.002  12.398   0.001 00 59 31.975 -72 10 46.13    --\n",
       "    9  13.454   0.002  13.679   0.003 00 59 00.743 -72 10 28.16   355\n",
       "   10  13.517   0.002  11.966   0.001 00 58 53.935 -72 12 04.78   283\n",
       "  ...     ...     ...     ...     ...          ...          ...   ...\n",
       "29426  26.820   0.077  25.924   0.081 00 58 34.453 -72 11 40.57    --\n",
       "29495  26.842   0.098  25.283   0.050 00 59 31.898 -72 09 48.61    --\n",
       "29510  26.830   0.081  25.513   0.049 00 59 21.847 -72 08 21.56    --\n",
       "30841  26.864   0.085  25.586   0.050 00 58 44.239 -72 12 13.53    --\n",
       "30948  26.874   0.091  25.156   0.044 00 58 44.130 -72 10 57.57    --\n",
       "31171  26.885   0.089  25.437   0.052 00 58 45.559 -72 11 42.16    --\n",
       "31212  26.880   0.095  25.328   0.054 00 58 31.282 -72 12 21.38    --\n",
       "31969  26.895   0.098  25.172   0.048 00 59 29.197 -72 10 37.82    --\n",
       "32517  26.917   0.093  25.508   0.059 00 58 44.016 -72 12 20.65    --\n",
       "32733  26.928   0.086  25.444   0.051 00 59 36.172 -72 08 39.77    --"
      ]
     },
     "execution_count": 16,
     "metadata": {},
     "output_type": "execute_result"
    }
   ],
   "source": [
    "stars"
   ]
  },
  {
   "cell_type": "markdown",
   "id": "024ef485",
   "metadata": {},
   "source": [
    "We want to convert the coordinate columns into degrees for ease of plotting, so we need some astropy libraries:"
   ]
  },
  {
   "cell_type": "code",
   "execution_count": 20,
   "id": "3e092a6d",
   "metadata": {},
   "outputs": [],
   "source": [
    "from astropy.coordinates import SkyCoord, Angle, Latitude, Longitude\n",
    "import astropy.units as u"
   ]
  },
  {
   "cell_type": "markdown",
   "id": "a2c0d25c",
   "metadata": {},
   "source": [
    "I had originally thought of using SkyCoord, but this is not necessary"
   ]
  },
  {
   "cell_type": "code",
   "execution_count": 26,
   "id": "75fe2a37",
   "metadata": {},
   "outputs": [],
   "source": [
    "# SkyCoord(stars[\"RAJ2000\"], stars[\"DEJ2000\"], unit=(u.hourangle, u.deg))"
   ]
  },
  {
   "cell_type": "markdown",
   "id": "da9d9370",
   "metadata": {},
   "source": [
    "Easier to just convert the RA and DEC columns separately (note, these cells take a while to run – 10s of seconds on my laptop):"
   ]
  },
  {
   "cell_type": "code",
   "execution_count": 21,
   "id": "7f0239bc",
   "metadata": {},
   "outputs": [],
   "source": [
    "ra = Longitude(stars[\"RAJ2000\"], unit=u.hourangle)"
   ]
  },
  {
   "cell_type": "code",
   "execution_count": 22,
   "id": "2396a950",
   "metadata": {},
   "outputs": [],
   "source": [
    "dec = Latitude(stars[\"DEJ2000\"], unit=u.deg)"
   ]
  },
  {
   "cell_type": "markdown",
   "id": "e3e37dc5",
   "metadata": {},
   "source": [
    "Check that the values in degrees look reasonable:"
   ]
  },
  {
   "cell_type": "code",
   "execution_count": 29,
   "id": "95222ff9",
   "metadata": {},
   "outputs": [
    {
     "data": {
      "text/plain": [
       "(<Longitude [14.86075417, 14.8607125 , 14.67676667, ..., 14.87165417,\n",
       "             14.6834    , 14.90071667] deg>,\n",
       " <Latitude [-72.16472222, -72.16499722, -72.16201944, ..., -72.17717222,\n",
       "            -72.20573611, -72.14438056] deg>)"
      ]
     },
     "execution_count": 29,
     "metadata": {},
     "output_type": "execute_result"
    }
   ],
   "source": [
    "ra.to(u.deg), dec"
   ]
  },
  {
   "cell_type": "markdown",
   "id": "fb541551",
   "metadata": {},
   "source": [
    "Add them in as new columns to the table and set display precision to about 10 mas. "
   ]
  },
  {
   "cell_type": "code",
   "execution_count": 30,
   "id": "2598d830",
   "metadata": {},
   "outputs": [
    {
     "data": {
      "text/html": [
       "<i>Table length=79960</i>\n",
       "<table id=\"table140236742423072\" class=\"table-striped table-bordered table-condensed\">\n",
       "<thead><tr><th>ID</th><th>F555W</th><th>e_F555W</th><th>F814W</th><th>e_F814W</th><th>RAJ2000</th><th>DEJ2000</th><th>MPG</th><th>ra</th><th>dec</th></tr></thead>\n",
       "<thead><tr><th></th><th>mag</th><th>mag</th><th>mag</th><th>mag</th><th>&quot;h:m:s&quot;</th><th>&quot;d:m:s&quot;</th><th></th><th>deg</th><th>deg</th></tr></thead>\n",
       "<thead><tr><th>int32</th><th>float32</th><th>float32</th><th>float32</th><th>float32</th><th>str12</th><th>str12</th><th>int16</th><th>float64</th><th>float64</th></tr></thead>\n",
       "<tr><td>1</td><td>11.570</td><td>0.001</td><td>11.557</td><td>0.001</td><td>00 59 26.581</td><td>-72 09 53.00</td><td>--</td><td>14.860754</td><td>-72.164722</td></tr>\n",
       "<tr><td>2</td><td>11.916</td><td>0.001</td><td>11.841</td><td>0.001</td><td>00 59 26.571</td><td>-72 09 53.99</td><td>--</td><td>14.860712</td><td>-72.164997</td></tr>\n",
       "<tr><td>4</td><td>12.326</td><td>0.001</td><td>11.793</td><td>0.001</td><td>00 58 42.424</td><td>-72 09 43.27</td><td>185</td><td>14.676767</td><td>-72.162019</td></tr>\n",
       "<tr><td>5</td><td>12.551</td><td>0.002</td><td>12.397</td><td>0.001</td><td>00 59 31.975</td><td>-72 10 46.11</td><td>789</td><td>14.883229</td><td>-72.179475</td></tr>\n",
       "<tr><td>6</td><td>12.580</td><td>0.001</td><td>12.304</td><td>0.001</td><td>00 59 26.542</td><td>-72 09 53.00</td><td>--</td><td>14.860592</td><td>-72.164722</td></tr>\n",
       "<tr><td>7</td><td>12.609</td><td>0.002</td><td>12.742</td><td>0.002</td><td>00 59 04.479</td><td>-72 10 24.77</td><td>435</td><td>14.768662</td><td>-72.173547</td></tr>\n",
       "<tr><td>8</td><td>12.734</td><td>0.002</td><td>12.398</td><td>0.001</td><td>00 59 31.975</td><td>-72 10 46.13</td><td>--</td><td>14.883229</td><td>-72.179481</td></tr>\n",
       "<tr><td>9</td><td>13.454</td><td>0.002</td><td>13.679</td><td>0.003</td><td>00 59 00.743</td><td>-72 10 28.16</td><td>355</td><td>14.753096</td><td>-72.174489</td></tr>\n",
       "<tr><td>10</td><td>13.517</td><td>0.002</td><td>11.966</td><td>0.001</td><td>00 58 53.935</td><td>-72 12 04.78</td><td>283</td><td>14.724729</td><td>-72.201328</td></tr>\n",
       "<tr><td>...</td><td>...</td><td>...</td><td>...</td><td>...</td><td>...</td><td>...</td><td>...</td><td>...</td><td>...</td></tr>\n",
       "<tr><td>29426</td><td>26.820</td><td>0.077</td><td>25.924</td><td>0.081</td><td>00 58 34.453</td><td>-72 11 40.57</td><td>--</td><td>14.643554</td><td>-72.194603</td></tr>\n",
       "<tr><td>29495</td><td>26.842</td><td>0.098</td><td>25.283</td><td>0.050</td><td>00 59 31.898</td><td>-72 09 48.61</td><td>--</td><td>14.882908</td><td>-72.163503</td></tr>\n",
       "<tr><td>29510</td><td>26.830</td><td>0.081</td><td>25.513</td><td>0.049</td><td>00 59 21.847</td><td>-72 08 21.56</td><td>--</td><td>14.841029</td><td>-72.139322</td></tr>\n",
       "<tr><td>30841</td><td>26.864</td><td>0.085</td><td>25.586</td><td>0.050</td><td>00 58 44.239</td><td>-72 12 13.53</td><td>--</td><td>14.684329</td><td>-72.203758</td></tr>\n",
       "<tr><td>30948</td><td>26.874</td><td>0.091</td><td>25.156</td><td>0.044</td><td>00 58 44.130</td><td>-72 10 57.57</td><td>--</td><td>14.683875</td><td>-72.182658</td></tr>\n",
       "<tr><td>31171</td><td>26.885</td><td>0.089</td><td>25.437</td><td>0.052</td><td>00 58 45.559</td><td>-72 11 42.16</td><td>--</td><td>14.689829</td><td>-72.195044</td></tr>\n",
       "<tr><td>31212</td><td>26.880</td><td>0.095</td><td>25.328</td><td>0.054</td><td>00 58 31.282</td><td>-72 12 21.38</td><td>--</td><td>14.630342</td><td>-72.205939</td></tr>\n",
       "<tr><td>31969</td><td>26.895</td><td>0.098</td><td>25.172</td><td>0.048</td><td>00 59 29.197</td><td>-72 10 37.82</td><td>--</td><td>14.871654</td><td>-72.177172</td></tr>\n",
       "<tr><td>32517</td><td>26.917</td><td>0.093</td><td>25.508</td><td>0.059</td><td>00 58 44.016</td><td>-72 12 20.65</td><td>--</td><td>14.683400</td><td>-72.205736</td></tr>\n",
       "<tr><td>32733</td><td>26.928</td><td>0.086</td><td>25.444</td><td>0.051</td><td>00 59 36.172</td><td>-72 08 39.77</td><td>--</td><td>14.900717</td><td>-72.144381</td></tr>\n",
       "</table>"
      ],
      "text/plain": [
       "<Table length=79960>\n",
       "  ID   F555W  e_F555W  F814W  ...   DEJ2000     MPG      ra       dec    \n",
       "        mag     mag     mag   ...   \"d:m:s\"             deg       deg    \n",
       "int32 float32 float32 float32 ...    str12     int16  float64   float64  \n",
       "----- ------- ------- ------- ... ------------ ----- --------- ----------\n",
       "    1  11.570   0.001  11.557 ... -72 09 53.00    -- 14.860754 -72.164722\n",
       "    2  11.916   0.001  11.841 ... -72 09 53.99    -- 14.860712 -72.164997\n",
       "    4  12.326   0.001  11.793 ... -72 09 43.27   185 14.676767 -72.162019\n",
       "    5  12.551   0.002  12.397 ... -72 10 46.11   789 14.883229 -72.179475\n",
       "    6  12.580   0.001  12.304 ... -72 09 53.00    -- 14.860592 -72.164722\n",
       "    7  12.609   0.002  12.742 ... -72 10 24.77   435 14.768662 -72.173547\n",
       "    8  12.734   0.002  12.398 ... -72 10 46.13    -- 14.883229 -72.179481\n",
       "    9  13.454   0.002  13.679 ... -72 10 28.16   355 14.753096 -72.174489\n",
       "   10  13.517   0.002  11.966 ... -72 12 04.78   283 14.724729 -72.201328\n",
       "  ...     ...     ...     ... ...          ...   ...       ...        ...\n",
       "29426  26.820   0.077  25.924 ... -72 11 40.57    -- 14.643554 -72.194603\n",
       "29495  26.842   0.098  25.283 ... -72 09 48.61    -- 14.882908 -72.163503\n",
       "29510  26.830   0.081  25.513 ... -72 08 21.56    -- 14.841029 -72.139322\n",
       "30841  26.864   0.085  25.586 ... -72 12 13.53    -- 14.684329 -72.203758\n",
       "30948  26.874   0.091  25.156 ... -72 10 57.57    -- 14.683875 -72.182658\n",
       "31171  26.885   0.089  25.437 ... -72 11 42.16    -- 14.689829 -72.195044\n",
       "31212  26.880   0.095  25.328 ... -72 12 21.38    -- 14.630342 -72.205939\n",
       "31969  26.895   0.098  25.172 ... -72 10 37.82    -- 14.871654 -72.177172\n",
       "32517  26.917   0.093  25.508 ... -72 12 20.65    -- 14.683400 -72.205736\n",
       "32733  26.928   0.086  25.444 ... -72 08 39.77    -- 14.900717 -72.144381"
      ]
     },
     "execution_count": 30,
     "metadata": {},
     "output_type": "execute_result"
    }
   ],
   "source": [
    "stars[\"ra\"] = ra.to(u.deg)\n",
    "stars[\"dec\"] = dec\n",
    "stars[\"ra\"].format = \"{:.6f}\"\n",
    "stars[\"dec\"].format = \"{:.6f}\"\n",
    "stars"
   ]
  },
  {
   "cell_type": "code",
   "execution_count": null,
   "id": "428cb7a1",
   "metadata": {},
   "outputs": [],
   "source": []
  }
 ],
 "metadata": {
  "jupytext": {
   "formats": "ipynb,auto:light,md"
  },
  "kernelspec": {
   "display_name": "Python 3",
   "language": "python",
   "name": "python3"
  },
  "language_info": {
   "codemirror_mode": {
    "name": "ipython",
    "version": 3
   },
   "file_extension": ".py",
   "mimetype": "text/x-python",
   "name": "python",
   "nbconvert_exporter": "python",
   "pygments_lexer": "ipython3",
   "version": "3.9.4"
  }
 },
 "nbformat": 4,
 "nbformat_minor": 5
}
