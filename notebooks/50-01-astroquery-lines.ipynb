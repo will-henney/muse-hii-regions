{
 "cells": [
  {
   "cell_type": "code",
   "execution_count": null,
   "id": "e64b8aa3-cdf2-4d5e-90a0-db81ba23e777",
   "metadata": {},
   "outputs": [],
   "source": [
    "from astropy import units as u\n",
    "from astroquery.atomic import AtomicLineList\n",
    "import astroquery.atomic as a\n",
    "from astropy.table import conf"
   ]
  },
  {
   "cell_type": "markdown",
   "id": "6f5555ce-d1a6-422b-b48e-adb7fcee8c9f",
   "metadata": {},
   "source": [
    "# Possible IDs for the deep neutral lines\n",
    "\n",
    "These are the lines, whose spatial distribution is similar to C I 8727 and the H_2 2.12 micron line. \n",
    "\n",
    "## Lines around the neutral 8152 line\n",
    "\n",
    "This is the shortest wavelength of these lines, which we are lookin at first.  We are also interested in other lines in the same wavelength range, even if they are form the ionized gas. \n",
    "\n",
    "There are certainly some He lines there."
   ]
  },
  {
   "cell_type": "code",
   "execution_count": null,
   "id": "c3193cee-a679-47d2-80b0-f0ad08fb23ba",
   "metadata": {},
   "outputs": [],
   "source": [
    "wavelength_range = (8152 * u.Angstrom, 70 * u.Angstrom)\n",
    "res = AtomicLineList.query_object(\n",
    "    wavelength_range=wavelength_range,\n",
    "    wavelength_type='Air',\n",
    "    minimal_abundance=\"6\",\n",
    "    depl_factor=\"0\",\n",
    "    element_spectrum=\"\\n\".join(['H', 'He']),\n",
    "    #get_query_payload=True,\n",
    ")"
   ]
  },
  {
   "cell_type": "code",
   "execution_count": null,
   "id": "ea189efa-24ad-44d9-b24d-f7772b342c69",
   "metadata": {},
   "outputs": [],
   "source": [
    "res"
   ]
  },
  {
   "cell_type": "code",
   "execution_count": null,
   "id": "0469c3d4-3de3-44dc-947f-e2d2d3ffe7d3",
   "metadata": {},
   "outputs": [],
   "source": [
    "wavelength_range = (8152 * u.Angstrom, 70 * u.Angstrom)\n",
    "ionlist = \" I-IV\\n\".join(\n",
    "    [\n",
    "        \"C\", \n",
    "        \"N\", \n",
    "        \"O\", \n",
    "        \"S\",\n",
    "        \"Si\",\n",
    "        \"Cl\",\n",
    "        \"Fl\",\n",
    "        \"Fe\",\n",
    "        \"Ne\",\n",
    "        \"Ar\",\n",
    "        \"Ni\",\n",
    "        \"Ca\",\n",
    "        \"Mg\",\n",
    "    ]\n",
    ")\n",
    "res = AtomicLineList.query_object(\n",
    "    wavelength_range=wavelength_range,\n",
    "    wavelength_type='Air',\n",
    "    lower_level_energy_range=3 * u.eV,\n",
    "    #transitions=aa.Transition.nebular,\n",
    "    element_spectrum=ionlist,\n",
    "    #get_query_payload=True,\n",
    ")"
   ]
  },
  {
   "cell_type": "code",
   "execution_count": null,
   "id": "8636fb7a-93a0-4396-9937-51885e120318",
   "metadata": {},
   "outputs": [],
   "source": [
    "res"
   ]
  },
  {
   "cell_type": "code",
   "execution_count": null,
   "id": "eae899ed-7169-4925-9881-2ee056a6d86f",
   "metadata": {},
   "outputs": [],
   "source": [
    "wavelength_range = (8152 * u.Angstrom, 70 * u.Angstrom)\n",
    "ionlist = \"\\n\".join([\n",
    "    \"N I\", \"N II\", \n",
    "    \"C I\", \"C II\", \n",
    "    \"O I\", \"O II\", \n",
    "    \"Si I\", \"Si II\", \n",
    "    \"Ca I\", \"Ca II\", \n",
    "])\n",
    "\n",
    "res = AtomicLineList.query_object(\n",
    "    wavelength_range=wavelength_range,\n",
    "    wavelength_type='Air',\n",
    "    #lower_level_energy_range=3 * u.eV,\n",
    "    #transitions=aa.Transition.nebular,\n",
    "    element_spectrum=ionlist,\n",
    "    #get_query_payload=True,\n",
    ")\n",
    "res.show_in_notebook()"
   ]
  },
  {
   "cell_type": "markdown",
   "id": "b034c39c-aaf6-49ee-8dce-86dec0679152",
   "metadata": {},
   "source": [
    "## Trying to find IDs for the lines"
   ]
  },
  {
   "cell_type": "markdown",
   "id": "638d5852-ea80-45f3-893f-cd6dd6278b71",
   "metadata": {},
   "source": [
    "First look for all the neutral lines of common elements that fall in the wavelength range where we see the lines.\n",
    "\n",
    "\n",
    "### Forbidden neutral lines of all the common elements\n",
    "\n",
    "Start off with just the forbidden lines, so we do not get too many. Also, impose an upper energy level cutoff of less than 4 eV, which would make sense if they wer excited collisionally."
   ]
  },
  {
   "cell_type": "code",
   "execution_count": null,
   "id": "5e694783-6944-4c84-b98b-79f7333df92d",
   "metadata": {},
   "outputs": [],
   "source": [
    "wavelength_range = (\n",
    "    8100 * u.Angstrom, 9200 * u.Angstrom\n",
    ")\n",
    "elements = \"\\n\".join(\n",
    "    [\n",
    "        \"C\", \"N\", \"O\",\n",
    "        \"Mg\", \"Ca\", \"Na\", \n",
    "        \"S\", \"Si\", \"P\",\n",
    "        \"F\", \"Cl\",\n",
    "        \"Ar\", \"Xe\",\n",
    "        \"Fe\", \"Ni\", \"Co\",\n",
    "    ]\n",
    ")\n",
    "res = AtomicLineList.query_object(\n",
    "    wavelength_range=wavelength_range,\n",
    "    wavelength_type='Air',\n",
    "    upper_level_energy_range=10 * u.eV,\n",
    "    element_spectrum=elements,\n",
    "    transitions=aa.Transition.nebular,\n",
    ")"
   ]
  },
  {
   "cell_type": "markdown",
   "id": "4bb747ef-f0cb-4d4e-ad50-15805873eec6",
   "metadata": {},
   "source": [
    "Add a new column that gives the ion stage: I, II, III, IV, etc"
   ]
  },
  {
   "cell_type": "code",
   "execution_count": null,
   "id": "7c11d12b-14ae-4ac4-a661-6afd2f1920cf",
   "metadata": {},
   "outputs": [],
   "source": [
    "res[\"stage\"] = [s.strip(\"[]\").split()[-1] for s in res[\"SPECTRUM\"]]"
   ]
  },
  {
   "cell_type": "markdown",
   "id": "05e0ce24-3621-4d88-86a6-6d260c395ab1",
   "metadata": {},
   "source": [
    "And use it to select just the neutral ions, since the API does not allow this to be done on the query. "
   ]
  },
  {
   "cell_type": "code",
   "execution_count": null,
   "id": "f665ea1d-33cd-4e74-ac01-a87d1120dc96",
   "metadata": {},
   "outputs": [],
   "source": [
    "res[res[\"stage\"]==\"I\"].show_in_notebook()"
   ]
  },
  {
   "cell_type": "markdown",
   "id": "a843fdf1-d0c7-4dfa-b0a3-fdbe2bd795e0",
   "metadata": {},
   "source": [
    "#### Confident ID: [Fe I] 8151.3424\n",
    "\n",
    "I am pretty sure of this one. "
   ]
  },
  {
   "cell_type": "markdown",
   "id": "d6c324ee-a751-499e-9228-a1435141fc2b",
   "metadata": {},
   "source": [
    "#### Other potential matches\n",
    "\n",
    "So there are some partial overlaps with the observed wavelengths here. \n",
    "\n",
    "For instance, 9020 might be [Co I] 9019.65\n",
    "\n",
    "But most of the wavelengths are misses.\n",
    "\n"
   ]
  },
  {
   "cell_type": "code",
   "execution_count": null,
   "id": "ad6e9a4b-5b08-41d6-b9e3-d54c4d66a454",
   "metadata": {},
   "outputs": [],
   "source": [
    "(1 * u.eV).to(1/u.cm, equivalencies=u.equivalencies.spectral())"
   ]
  },
  {
   "cell_type": "markdown",
   "id": "9efaaac6-af2f-44dc-9ec0-82509a4e4791",
   "metadata": {},
   "source": [
    "### Permitted lines of selected neutral atoms\n",
    "\n",
    "Next thing to try is to expand search to include permitted lines as well as forbidden ones. If they are not from autoionizing levels, then they should have upper level energies less than the ionization potential of the neutral atom, which for these elements is about 6 eV.\n",
    "\n",
    "I have put a limit of 4 eV to start with, so I do not get too many hits. \n",
    "\n",
    "The excitation could be collisions, fluorescence, or recombination.  In the case of collisions, the upper level cannot be very high since w have a very low T, probably hundreds of K rather than thousands. \n",
    "\n",
    "But for the C I line, recombinations are thought to dominate. If the same is true of the other lines, then the brightness will be proportional to the abundance, more or less I should think. \n",
    "\n",
    "The C I 8727 line is not a resonance line, and is 10 times weaker than C I 9850 (which is), according to Cesarsky 1982A&A...113L...7C\n",
    "\n",
    "This means there is room for observable recombination lines from less abundant elements, but they will be most likely resonant lines since those are the ones that capture the greatest fraction of the total recombination rate. "
   ]
  },
  {
   "cell_type": "code",
   "execution_count": null,
   "id": "e6f79401-bb2d-44c6-b807-b495fbe2f71a",
   "metadata": {},
   "outputs": [],
   "source": [
    "res = AtomicLineList.query_object(\n",
    "    wavelength_range=wavelength_range,\n",
    "    wavelength_type='Air',\n",
    "    upper_level_energy_range=4 * u.eV,\n",
    "    element_spectrum=\"Fe\",\n",
    "    #transitions=aa.Transition.nebular,\n",
    ")\n",
    "res[\"stage\"] = [s.strip(\"[]\").split()[-1] for s in res[\"SPECTRUM\"]]"
   ]
  },
  {
   "cell_type": "code",
   "execution_count": null,
   "id": "8d0e4a9a-2816-4240-86de-6a75ee70c541",
   "metadata": {},
   "outputs": [],
   "source": [
    "res[res[\"stage\"]==\"I\"].show_in_notebook()"
   ]
  },
  {
   "cell_type": "markdown",
   "id": "92433ece-d943-45fc-8c66-96e5dbadbd70",
   "metadata": {},
   "source": [
    "So that is with an upper limit of 4 eV for the energy, which gives 39 candidate lines of Fe I. If I use 7 eV instead, then I get 10 times as many lines. But then, the question is: why do we see only some of those (perhaps they vary greatly in strength, but the database does not have A values for the majority).\n",
    "\n",
    "This gives a potential match for the 9146 line of Fe I 9146.1285, but not for anything else. "
   ]
  },
  {
   "cell_type": "markdown",
   "id": "c25d4d0f-e701-4066-ab26-7eb1949677f3",
   "metadata": {},
   "source": [
    "We can try it again for the other likely elements.\n",
    "\n",
    "Try looking first at resonance lines of neutral atoms. I am restricting the lower energy level to less than 0.1 eV, so that will include the fine structure splitting of the ground configuration. \n"
   ]
  },
  {
   "cell_type": "code",
   "execution_count": null,
   "id": "c5801140-95c6-4f7e-a00a-a3e698c24590",
   "metadata": {},
   "outputs": [],
   "source": [
    "res = AtomicLineList.query_object(\n",
    "    wavelength_range=wavelength_range,\n",
    "    wavelength_type='Air',\n",
    "    lower_level_energy_range=0.1 * u.eV,\n",
    "    #element_spectrum=\"Fe\",\n",
    "    #transitions=aa.Transition.nebular,\n",
    ")\n",
    "res[\"stage\"] = [s.strip(\"[]\").split()[-1] for s in res[\"SPECTRUM\"]]"
   ]
  },
  {
   "cell_type": "code",
   "execution_count": null,
   "id": "3f0ca36b-f35b-4215-99b4-f6373a4cd320",
   "metadata": {
    "tags": []
   },
   "outputs": [],
   "source": [
    "res[res[\"stage\"]==\"I\"].show_in_notebook()"
   ]
  },
  {
   "cell_type": "markdown",
   "id": "4a0070ba-6b2d-4fd2-9e87-0bc476bef662",
   "metadata": {},
   "source": [
    "So that gives no good matches, apart from the Fe I line that we already knew about. "
   ]
  },
  {
   "cell_type": "markdown",
   "id": "9643e6dd-9171-4b39-a297-4b7ddc4d199b",
   "metadata": {},
   "source": [
    "Just to make sure, we eill look at singly ionized species too, just in case there is one with an extremely low ionization potential."
   ]
  },
  {
   "cell_type": "code",
   "execution_count": null,
   "id": "14f47c12-67b9-4587-b9c7-8512d47e43c0",
   "metadata": {},
   "outputs": [],
   "source": [
    "res[res[\"stage\"]==\"II\"].show_in_notebook()"
   ]
  },
  {
   "cell_type": "markdown",
   "id": "33e4388c-6e10-4af2-8587-09b76f205655",
   "metadata": {},
   "source": [
    "Certainly no candidates for our neutral lines, although we do pick up the [Cl II] lines at 8578.69 and 9123.6, which we certainly observe, although the shorte one is blended with a He I line."
   ]
  },
  {
   "cell_type": "markdown",
   "id": "36e437f7-1977-4978-b744-647eafa94f64",
   "metadata": {},
   "source": [
    "# Look at the supposed Ca I lines\n",
    "\n",
    "## The 7890 line\n",
    "\n",
    "This looks a lot like the [Fe III] lines"
   ]
  },
  {
   "cell_type": "code",
   "execution_count": null,
   "id": "3fa23b13-c119-45f5-84a1-1213764ad575",
   "metadata": {},
   "outputs": [],
   "source": [
    "wavelength_range = (7890 * u.Angstrom, 0.2 * u.Angstrom)\n",
    "#wavelength_range = (6500 * u.Angstrom, 6600 * u.Angstrom)\n",
    "#AtomicLineList.FORM_URL = \"https://www.pa.uky.edu/~peter/newpage/\"\n",
    "res = AtomicLineList.query_object(\n",
    "    wavelength_range=wavelength_range,\n",
    "    wavelength_type='Air',\n",
    "    minimal_abundance=\"6\",\n",
    "    depl_factor=\"0\",\n",
    "    #element_spectrum='H I',\n",
    "    #get_query_payload=True,\n",
    ")"
   ]
  },
  {
   "cell_type": "code",
   "execution_count": null,
   "id": "69949fdd-2f0c-4523-85bc-dd188e6f9f14",
   "metadata": {},
   "outputs": [],
   "source": [
    "res"
   ]
  },
  {
   "cell_type": "markdown",
   "id": "8c66914f-993e-4a1c-8ac1-c5b411bbb5e4",
   "metadata": {},
   "source": [
    "So it looks like the [Ni III] 7889.9 line is a very good candidate.  It is a nebular forbidden line, so would be expected to be strong. "
   ]
  },
  {
   "cell_type": "markdown",
   "id": "94da16c8-4fd6-4f08-bba7-8a13fdde3708",
   "metadata": {},
   "source": [
    "## The 6104 high ionization line"
   ]
  },
  {
   "cell_type": "code",
   "execution_count": null,
   "id": "5dc0f3ec-58b9-4448-b73f-a780e7206ebe",
   "metadata": {},
   "outputs": [],
   "source": [
    "wavelength_range = (6102 * u.Angstrom, 1 * u.Angstrom)\n",
    "#wavelength_range = (6500 * u.Angstrom, 6600 * u.Angstrom)\n",
    "#AtomicLineList.FORM_URL = \"https://www.pa.uky.edu/~peter/newpage/\"\n",
    "res = AtomicLineList.query_object(\n",
    "    wavelength_range=wavelength_range,\n",
    "    wavelength_type='Air',\n",
    "    transitions=aa.Transition.nebular,\n",
    ")"
   ]
  },
  {
   "cell_type": "code",
   "execution_count": null,
   "id": "ec702438-e553-4d21-a035-09def3a815d4",
   "metadata": {},
   "outputs": [],
   "source": [
    "res.show_in_notebook()"
   ]
  },
  {
   "cell_type": "code",
   "execution_count": null,
   "id": "2c5672ab-dfc6-4110-aedb-79fb64693db4",
   "metadata": {},
   "outputs": [],
   "source": []
  },
  {
   "cell_type": "code",
   "execution_count": null,
   "id": "d37b8637-ff88-4d9d-b560-49ded158824d",
   "metadata": {},
   "outputs": [],
   "source": [
    "AtomicLineList.query_object_async??"
   ]
  },
  {
   "cell_type": "code",
   "execution_count": null,
   "id": "706b2bbe-b35d-4e11-8f5c-a449993946af",
   "metadata": {},
   "outputs": [],
   "source": [
    "aa.Transition.nebular"
   ]
  },
  {
   "cell_type": "code",
   "execution_count": null,
   "id": "e080c92a-9771-4e0f-8e9d-810698ebffba",
   "metadata": {},
   "outputs": [],
   "source": [
    "simple_transitions = [aa.Transition.all, aa.Transition.nebular]"
   ]
  },
  {
   "cell_type": "code",
   "execution_count": null,
   "id": "47089db2-f97f-4f2f-850e-da57102588d3",
   "metadata": {},
   "outputs": [],
   "source": [
    "simple_transitions"
   ]
  },
  {
   "cell_type": "code",
   "execution_count": null,
   "id": "81399103-24a7-47b9-8e85-9b55912f8a92",
   "metadata": {},
   "outputs": [],
   "source": [
    "\"Neb\" in simple_transitions"
   ]
  },
  {
   "cell_type": "code",
   "execution_count": null,
   "id": "1e5ef535-6b52-495a-9ce1-030e9435e97a",
   "metadata": {},
   "outputs": [],
   "source": [
    "aa.utils.is_valid_transitions_param(\"Neb\")"
   ]
  },
  {
   "cell_type": "code",
   "execution_count": null,
   "id": "5ac30906-c4fd-4304-a829-3cb3e6ca4013",
   "metadata": {},
   "outputs": [],
   "source": [
    "aa.utils.is_valid_transitions_param(aa.Transition.nebular)"
   ]
  },
  {
   "cell_type": "code",
   "execution_count": null,
   "id": "a2cb1f21-2e82-443b-9aa6-c66cfee77e20",
   "metadata": {
    "lines_to_next_cell": 2
   },
   "outputs": [],
   "source": [
    "from astropy import units as u"
   ]
  },
  {
   "cell_type": "code",
   "execution_count": null,
   "id": "0d04ac43-28ad-4c13-8cd9-12a41ed16e09",
   "metadata": {},
   "outputs": [],
   "source": [
    "u.spectral??"
   ]
  },
  {
   "cell_type": "code",
   "execution_count": null,
   "id": "51bde9bf-785c-492b-a451-c52ce165dab1",
   "metadata": {
    "lines_to_next_cell": 0
   },
   "outputs": [],
   "source": [
    "u.Equivalency?"
   ]
  },
  {
   "cell_type": "code",
   "execution_count": null,
   "id": "66b08a17-4770-4c1f-a0c6-6abea8a283b9",
   "metadata": {
    "lines_to_next_cell": 2
   },
   "outputs": [],
   "source": []
  }
 ],
 "metadata": {
  "jupytext": {
   "encoding": "# -*- coding: utf-8 -*-",
   "formats": "ipynb,py:light"
  },
  "kernelspec": {
   "display_name": "Python 3",
   "language": "python",
   "name": "python3"
  },
  "language_info": {
   "codemirror_mode": {
    "name": "ipython",
    "version": 3
   },
   "file_extension": ".py",
   "mimetype": "text/x-python",
   "name": "python",
   "nbconvert_exporter": "python",
   "pygments_lexer": "ipython3",
   "version": "3.9.4"
  }
 },
 "nbformat": 4,
 "nbformat_minor": 5
}
