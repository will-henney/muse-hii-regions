{
 "cells": [
  {
   "cell_type": "code",
   "execution_count": 1,
   "id": "e64b8aa3-cdf2-4d5e-90a0-db81ba23e777",
   "metadata": {},
   "outputs": [],
   "source": [
    "from astropy import units as u\n",
    "from astroquery.atomic import AtomicLineList"
   ]
  },
  {
   "cell_type": "markdown",
   "id": "36e437f7-1977-4978-b744-647eafa94f64",
   "metadata": {},
   "source": [
    "# Look at the supposed Ca I lines\n",
    "\n",
    "## The 7890 line\n",
    "\n",
    "This looks a lot like the [Fe III] lines"
   ]
  },
  {
   "cell_type": "code",
   "execution_count": 17,
   "id": "3fa23b13-c119-45f5-84a1-1213764ad575",
   "metadata": {},
   "outputs": [],
   "source": [
    "wavelength_range = (7890 * u.Angstrom, 0.2 * u.Angstrom)\n",
    "#wavelength_range = (6500 * u.Angstrom, 6600 * u.Angstrom)\n",
    "#AtomicLineList.FORM_URL = \"https://www.pa.uky.edu/~peter/newpage/\"\n",
    "res = AtomicLineList.query_object(\n",
    "    wavelength_range=wavelength_range,\n",
    "    wavelength_type='Air',\n",
    "    minimal_abundance=\"6\",\n",
    "    depl_factor=\"0\",\n",
    "    #element_spectrum='H I',\n",
    "    #get_query_payload=True,\n",
    ")"
   ]
  },
  {
   "cell_type": "code",
   "execution_count": 18,
   "id": "69949fdd-2f0c-4523-85bc-dd188e6f9f14",
   "metadata": {},
   "outputs": [
    {
     "data": {
      "text/html": [
       "<i>Table length=18</i>\n",
       "<table id=\"table140198763144576\" class=\"table-striped table-bordered table-condensed\">\n",
       "<thead><tr><th>LAMBDA AIR ANG</th><th>SPECTRUM</th><th>TT</th><th>CONFIGURATION</th><th>TERM</th><th>J J</th><th>A_ki</th><th>LEVEL ENERGY  CM 1</th></tr></thead>\n",
       "<thead><tr><th>str8</th><th>str8</th><th>str2</th><th>str36</th><th>str18</th><th>str7</th><th>str8</th><th>str25</th></tr></thead>\n",
       "<tr><td>7608.</td><td>Si VII]</td><td>E1</td><td>2s2.2p3.(2Po).3d-2s.2p4.(4P).3s</td><td>1Po-3P</td><td>1-0</td><td>None</td><td>1491287.00 -  1504430.00</td></tr>\n",
       "<tr><td>7698.</td><td>Ar X]</td><td>E1</td><td>2s2.2p4.(1S).3p-2s2.2p4.(3P).3d</td><td>2Po-4D</td><td>1/2-3/2</td><td>None</td><td>2555193.00 -  2568152.00</td></tr>\n",
       "<tr><td>7788.</td><td>Si XI</td><td>E1</td><td>2p.4p-2p.4d</td><td>3P-3Do</td><td>2-2</td><td>1.13E+06</td><td>3187600.00 -  3200430.00</td></tr>\n",
       "<tr><td>7838.</td><td>Si XI</td><td>E1</td><td>2p.4d-2p.4f</td><td>3Fo-3F</td><td>2-3</td><td>3.26E+04</td><td>3188940.00 -  3201700.00</td></tr>\n",
       "<tr><td>7868.</td><td>Si XI</td><td>E1</td><td>2p.4d-2p.4f</td><td>3Fo-3F</td><td>2-2</td><td>3.61E+05</td><td>3188940.00 -  3201650.00</td></tr>\n",
       "<tr><td>7873.</td><td>N VI</td><td>E1</td><td>1s.8d-1s.9p</td><td>3D-3Po</td><td>*-*</td><td>2.63E+07</td><td>4390976.00 -  4403673.70</td></tr>\n",
       "<tr><td>7878.</td><td>Si XI</td><td>E1</td><td>2p.4d-2p.4f</td><td>3Do-3D</td><td>2-1</td><td>1.59E+05</td><td>3200430.00 -  3213120.00</td></tr>\n",
       "<tr><td>7888.</td><td>Fe III]</td><td>E1</td><td>3d5.(b2G).4p-3d5.(4G).4d</td><td>3Fo-5F</td><td>2-2</td><td>None</td><td>167002.00 -   179676.89</td></tr>\n",
       "<tr><td>7889.9</td><td>N II]</td><td>E1</td><td>2s2.2p.(2Po).6p-2s2.2p.(2Po).15d</td><td>1P-3Po</td><td>1-2</td><td>None</td><td>224286.63 -   236957.50</td></tr>\n",
       "<tr><td>7889.9</td><td>[Ni III]</td><td>M1</td><td>3d8-3d8</td><td>3F-1D</td><td>3-2</td><td>None</td><td>1360.70 -    14031.60</td></tr>\n",
       "<tr><td>7890.07</td><td>Ca I]</td><td>E1</td><td>4s.5p-4s.44d</td><td>3Po-1D</td><td>2-2</td><td>None</td><td>36575.12 -    49245.80</td></tr>\n",
       "<tr><td>7890.154</td><td>Ni I</td><td>E1</td><td>3d9.(2D).4p-3d9.(2D&lt;3/2&gt;).5s</td><td>1Do-3/2[3/2]</td><td>2-1</td><td>None</td><td>31441.63 -    44112.17</td></tr>\n",
       "<tr><td>7890.4</td><td>Ar I</td><td>E1</td><td>3p5.(2Po&lt;3/2&gt;).3d-3p5.(2Po&lt;3/2&gt;).14p</td><td>3/2[5/2]o-3/2[5/2]</td><td>3-2</td><td>None</td><td>113716.55 -   126386.70</td></tr>\n",
       "<tr><td>7891.</td><td>Al XII</td><td>E1</td><td>1s.4s-1s.4p</td><td>3S-3Po</td><td>1-2</td><td>5.08E+06</td><td>15816791.00 - 15829460.00</td></tr>\n",
       "<tr><td>7893.</td><td>O V</td><td>E1</td><td>2p.4s-2p.4p</td><td>3Po-3D</td><td>2-3</td><td>2.43E+07</td><td>818668.00 -   831334.00</td></tr>\n",
       "<tr><td>7894.</td><td>C III</td><td>E1</td><td>2s.7s-2p.4s</td><td>3S-3Po</td><td>1-0</td><td>None</td><td>363613.00 -   376278.10</td></tr>\n",
       "<tr><td>7898.</td><td>Ca XIX</td><td>E1</td><td>1s.5s-1s.5p</td><td>3S-3Po</td><td>1-2</td><td>5.07E+06</td><td>39761380.00 - 39774040.00</td></tr>\n",
       "<tr><td>7918.?</td><td>Na VII</td><td>E1</td><td>2p2.(1D).3p-2p2.(3P).3d</td><td>2Fo-2D</td><td>5/2-*</td><td>4.08E+04</td><td>1377820.00 -  1390450.?</td></tr>\n",
       "</table>"
      ],
      "text/plain": [
       "<Table length=18>\n",
       "LAMBDA AIR ANG SPECTRUM  TT  ...   J J     A_ki       LEVEL ENERGY  CM 1   \n",
       "     str8        str8   str2 ...   str7    str8             str25          \n",
       "-------------- -------- ---- ... ------- -------- -------------------------\n",
       "         7608.  Si VII]   E1 ...     1-0     None  1491287.00 -  1504430.00\n",
       "         7698.    Ar X]   E1 ... 1/2-3/2     None  2555193.00 -  2568152.00\n",
       "         7788.    Si XI   E1 ...     2-2 1.13E+06  3187600.00 -  3200430.00\n",
       "         7838.    Si XI   E1 ...     2-3 3.26E+04  3188940.00 -  3201700.00\n",
       "         7868.    Si XI   E1 ...     2-2 3.61E+05  3188940.00 -  3201650.00\n",
       "         7873.     N VI   E1 ...     *-* 2.63E+07  4390976.00 -  4403673.70\n",
       "         7878.    Si XI   E1 ...     2-1 1.59E+05  3200430.00 -  3213120.00\n",
       "         7888.  Fe III]   E1 ...     2-2     None   167002.00 -   179676.89\n",
       "        7889.9    N II]   E1 ...     1-2     None   224286.63 -   236957.50\n",
       "        7889.9 [Ni III]   M1 ...     3-2     None     1360.70 -    14031.60\n",
       "       7890.07    Ca I]   E1 ...     2-2     None    36575.12 -    49245.80\n",
       "      7890.154     Ni I   E1 ...     2-1     None    31441.63 -    44112.17\n",
       "        7890.4     Ar I   E1 ...     3-2     None   113716.55 -   126386.70\n",
       "         7891.   Al XII   E1 ...     1-2 5.08E+06 15816791.00 - 15829460.00\n",
       "         7893.      O V   E1 ...     2-3 2.43E+07   818668.00 -   831334.00\n",
       "         7894.    C III   E1 ...     1-0     None   363613.00 -   376278.10\n",
       "         7898.   Ca XIX   E1 ...     1-2 5.07E+06 39761380.00 - 39774040.00\n",
       "        7918.?   Na VII   E1 ...   5/2-* 4.08E+04   1377820.00 -  1390450.?"
      ]
     },
     "execution_count": 18,
     "metadata": {},
     "output_type": "execute_result"
    }
   ],
   "source": [
    "res"
   ]
  },
  {
   "cell_type": "markdown",
   "id": "8c66914f-993e-4a1c-8ac1-c5b411bbb5e4",
   "metadata": {},
   "source": [
    "So it looks like the [Ni III] 7889.9 line is a very good candidate.  It is a nebular forbidden line, so would be expected to be strong. "
   ]
  },
  {
   "cell_type": "code",
   "execution_count": null,
   "id": "d37b8637-ff88-4d9d-b560-49ded158824d",
   "metadata": {},
   "outputs": [],
   "source": []
  }
 ],
 "metadata": {
  "jupytext": {
   "formats": "ipynb,auto:light"
  },
  "kernelspec": {
   "display_name": "Python 3",
   "language": "python",
   "name": "python3"
  },
  "language_info": {
   "codemirror_mode": {
    "name": "ipython",
    "version": 3
   },
   "file_extension": ".py",
   "mimetype": "text/x-python",
   "name": "python",
   "nbconvert_exporter": "python",
   "pygments_lexer": "ipython3",
   "version": "3.9.4"
  }
 },
 "nbformat": 4,
 "nbformat_minor": 5
}
