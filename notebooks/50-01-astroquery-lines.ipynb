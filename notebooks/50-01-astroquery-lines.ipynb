{
 "cells": [
  {
   "cell_type": "code",
   "execution_count": 60,
   "id": "e64b8aa3-cdf2-4d5e-90a0-db81ba23e777",
   "metadata": {},
   "outputs": [],
   "source": [
    "from astropy import units as u\n",
    "from astroquery.atomic import AtomicLineList\n",
    "import astroquery.atomic as a\n",
    "from astropy.table import conf"
   ]
  },
  {
   "cell_type": "markdown",
   "id": "6f5555ce-d1a6-422b-b48e-adb7fcee8c9f",
   "metadata": {},
   "source": [
    "# Possible IDs for the deep neutral lines\n",
    "\n",
    "These are the lines, whose spatial distribution is similar to C I 8727 and the H_2 2.12 micron line. \n",
    "\n",
    "## Lines around the neutral 8152 line\n",
    "\n",
    "This is the shortest wavelength of these lines, which we are lookin at first.  We are also interested in other lines in the same wavelength range, even if they are form the ionized gas. \n",
    "\n",
    "There are certainly some He lines there."
   ]
  },
  {
   "cell_type": "code",
   "execution_count": 2,
   "id": "c3193cee-a679-47d2-80b0-f0ad08fb23ba",
   "metadata": {},
   "outputs": [
    {
     "name": "stderr",
     "output_type": "stream",
     "text": [
      "/Users/will/miniconda3/envs/py39/lib/python3.9/site-packages/astroquery/atomic/core.py:309: GuessedAtParserWarning: No parser was explicitly specified, so I'm using the best available HTML parser for this system (\"html5lib\"). This usually isn't a problem, but if you run this code on another system, or in a different virtual environment, it may use a different parser and behave differently.\n",
      "\n",
      "The code that caused this warning is on line 309 of the file /Users/will/miniconda3/envs/py39/lib/python3.9/site-packages/astroquery/atomic/core.py. To get rid of this warning, pass the additional argument 'features=\"html5lib\"' to the BeautifulSoup constructor.\n",
      "\n",
      "  bs = BeautifulSoup(response.text, 'html5')\n",
      "/Users/will/miniconda3/envs/py39/lib/python3.9/site-packages/astroquery/atomic/core.py:249: GuessedAtParserWarning: No parser was explicitly specified, so I'm using the best available HTML parser for this system (\"html5lib\"). This usually isn't a problem, but if you run this code on another system, or in a different virtual environment, it may use a different parser and behave differently.\n",
      "\n",
      "The code that caused this warning is on line 249 of the file /Users/will/miniconda3/envs/py39/lib/python3.9/site-packages/astroquery/atomic/core.py. To get rid of this warning, pass the additional argument 'features=\"html5lib\"' to the BeautifulSoup constructor.\n",
      "\n",
      "  data = StringIO(BeautifulSoup(response.text, 'html5').find('pre').text.strip())\n"
     ]
    }
   ],
   "source": [
    "wavelength_range = (8152 * u.Angstrom, 70 * u.Angstrom)\n",
    "res = AtomicLineList.query_object(\n",
    "    wavelength_range=wavelength_range,\n",
    "    wavelength_type='Air',\n",
    "    minimal_abundance=\"6\",\n",
    "    depl_factor=\"0\",\n",
    "    element_spectrum=\"\\n\".join(['H', 'He']),\n",
    "    #get_query_payload=True,\n",
    ")"
   ]
  },
  {
   "cell_type": "code",
   "execution_count": 3,
   "id": "ea189efa-24ad-44d9-b24d-f7772b342c69",
   "metadata": {},
   "outputs": [
    {
     "data": {
      "text/html": [
       "<div><i>Table length=19</i>\n",
       "<table id=\"table140153655417104\" class=\"table-striped table-bordered table-condensed\">\n",
       "<thead><tr><th>LAMBDA AIR ANG</th><th>SPECTRUM</th><th>TT</th><th>CONFIGURATION</th><th>TERM</th><th>J J</th><th>A_ki</th><th>LEVEL ENERGY  CM 1</th></tr></thead>\n",
       "<thead><tr><th>float64</th><th>str4</th><th>str2</th><th>str12</th><th>str6</th><th>str3</th><th>float64</th><th>str23</th></tr></thead>\n",
       "<tr><td>8093.08</td><td>He I</td><td>E1</td><td>1s.3p-1s.17s</td><td>3Po-3S</td><td>2-1</td><td>29100.0</td><td>185564.67 -   197917.50</td></tr>\n",
       "<tr><td>8093.09</td><td>He I</td><td>E1</td><td>1s.3p-1s.17s</td><td>3Po-3S</td><td>1-1</td><td>17500.0</td><td>185564.69 -   197917.50</td></tr>\n",
       "<tr><td>8093.27</td><td>He I</td><td>E1</td><td>1s.3p-1s.17s</td><td>3Po-3S</td><td>0-1</td><td>5830.0</td><td>185564.96 -   197917.50</td></tr>\n",
       "<tr><td>8094.08</td><td>He I</td><td>E1</td><td>1s.3s-1s.10p</td><td>1S-1Po</td><td>0-1</td><td>144000.0</td><td>184864.93 -   197216.24</td></tr>\n",
       "<tr><td>8127.09</td><td>He I</td><td>E1</td><td>1s.3p-1s.16s</td><td>3Po-3S</td><td>2-1</td><td>35100.0</td><td>185564.67 -   197865.81</td></tr>\n",
       "<tr><td>8127.11</td><td>He I</td><td>E1</td><td>1s.3p-1s.16s</td><td>3Po-3S</td><td>1-1</td><td>21100.0</td><td>185564.69 -   197865.81</td></tr>\n",
       "<tr><td>8127.29</td><td>He I</td><td>E1</td><td>1s.3p-1s.16s</td><td>3Po-3S</td><td>0-1</td><td>7030.0</td><td>185564.96 -   197865.81</td></tr>\n",
       "<tr><td>8155.59</td><td>He I</td><td>E1</td><td>1s.3p-1s.15d</td><td>3Po-3D</td><td>2-*</td><td>68500.0</td><td>185564.67 -   197822.82</td></tr>\n",
       "<tr><td>8155.61</td><td>He I</td><td>E1</td><td>1s.3p-1s.15d</td><td>3Po-3D</td><td>1-*</td><td>41100.0</td><td>185564.69 -   197822.82</td></tr>\n",
       "<tr><td>8155.79</td><td>He I</td><td>E1</td><td>1s.3p-1s.15d</td><td>3Po-3D</td><td>0-*</td><td>13700.0</td><td>185564.96 -   197822.82</td></tr>\n",
       "<tr><td>8168.64</td><td>He I</td><td>E1</td><td>1s.3p-1s.15s</td><td>3Po-3S</td><td>2-1</td><td>42900.0</td><td>185564.67 -   197803.23</td></tr>\n",
       "<tr><td>8168.66</td><td>He I</td><td>E1</td><td>1s.3p-1s.15s</td><td>3Po-3S</td><td>1-1</td><td>25700.0</td><td>185564.69 -   197803.23</td></tr>\n",
       "<tr><td>8168.84</td><td>He I</td><td>E1</td><td>1s.3p-1s.15s</td><td>3Po-3S</td><td>0-1</td><td>8580.0</td><td>185564.96 -   197803.23</td></tr>\n",
       "<tr><td>8203.85</td><td>He I</td><td>E1</td><td>1s.3p-1s.14d</td><td>3Po-3D</td><td>2-*</td><td>84300.0</td><td>185564.67 -   197750.71</td></tr>\n",
       "<tr><td>8203.86</td><td>He I</td><td>E1</td><td>1s.3p-1s.14d</td><td>3Po-3D</td><td>1-*</td><td>50600.0</td><td>185564.69 -   197750.71</td></tr>\n",
       "<tr><td>8204.04</td><td>He I</td><td>E1</td><td>1s.3p-1s.14d</td><td>3Po-3D</td><td>0-*</td><td>16900.0</td><td>185564.96 -   197750.71</td></tr>\n",
       "<tr><td>8220.22</td><td>He I</td><td>E1</td><td>1s.3p-1s.14s</td><td>3Po-3S</td><td>2-1</td><td>53100.0</td><td>185564.67 -   197726.45</td></tr>\n",
       "<tr><td>8220.23</td><td>He I</td><td>E1</td><td>1s.3p-1s.14s</td><td>3Po-3S</td><td>1-1</td><td>31900.0</td><td>185564.69 -   197726.45</td></tr>\n",
       "<tr><td>8220.42</td><td>He I</td><td>E1</td><td>1s.3p-1s.14s</td><td>3Po-3S</td><td>0-1</td><td>10600.0</td><td>185564.96 -   197726.45</td></tr>\n",
       "</table></div>"
      ],
      "text/plain": [
       "<Table length=19>\n",
       "LAMBDA AIR ANG SPECTRUM  TT  ... J J    A_ki      LEVEL ENERGY  CM 1  \n",
       "   float64       str4   str2 ... str3 float64           str23         \n",
       "-------------- -------- ---- ... ---- -------- -----------------------\n",
       "       8093.08     He I   E1 ...  2-1  29100.0 185564.67 -   197917.50\n",
       "       8093.09     He I   E1 ...  1-1  17500.0 185564.69 -   197917.50\n",
       "       8093.27     He I   E1 ...  0-1   5830.0 185564.96 -   197917.50\n",
       "       8094.08     He I   E1 ...  0-1 144000.0 184864.93 -   197216.24\n",
       "       8127.09     He I   E1 ...  2-1  35100.0 185564.67 -   197865.81\n",
       "       8127.11     He I   E1 ...  1-1  21100.0 185564.69 -   197865.81\n",
       "       8127.29     He I   E1 ...  0-1   7030.0 185564.96 -   197865.81\n",
       "       8155.59     He I   E1 ...  2-*  68500.0 185564.67 -   197822.82\n",
       "       8155.61     He I   E1 ...  1-*  41100.0 185564.69 -   197822.82\n",
       "       8155.79     He I   E1 ...  0-*  13700.0 185564.96 -   197822.82\n",
       "       8168.64     He I   E1 ...  2-1  42900.0 185564.67 -   197803.23\n",
       "       8168.66     He I   E1 ...  1-1  25700.0 185564.69 -   197803.23\n",
       "       8168.84     He I   E1 ...  0-1   8580.0 185564.96 -   197803.23\n",
       "       8203.85     He I   E1 ...  2-*  84300.0 185564.67 -   197750.71\n",
       "       8203.86     He I   E1 ...  1-*  50600.0 185564.69 -   197750.71\n",
       "       8204.04     He I   E1 ...  0-*  16900.0 185564.96 -   197750.71\n",
       "       8220.22     He I   E1 ...  2-1  53100.0 185564.67 -   197726.45\n",
       "       8220.23     He I   E1 ...  1-1  31900.0 185564.69 -   197726.45\n",
       "       8220.42     He I   E1 ...  0-1  10600.0 185564.96 -   197726.45"
      ]
     },
     "execution_count": 3,
     "metadata": {},
     "output_type": "execute_result"
    }
   ],
   "source": [
    "res"
   ]
  },
  {
   "cell_type": "code",
   "execution_count": 66,
   "id": "0469c3d4-3de3-44dc-947f-e2d2d3ffe7d3",
   "metadata": {},
   "outputs": [],
   "source": [
    "wavelength_range = (8152 * u.Angstrom, 70 * u.Angstrom)\n",
    "ionlist = \" I-IV\\n\".join(\n",
    "    [\n",
    "        \"C\", \n",
    "        \"N\", \n",
    "        \"O\", \n",
    "        \"S\",\n",
    "        \"Si\",\n",
    "        \"Cl\",\n",
    "        \"Fl\",\n",
    "        \"Fe\",\n",
    "        \"Ne\",\n",
    "        \"Ar\",\n",
    "        \"Ni\",\n",
    "        \"Ca\",\n",
    "        \"Mg\",\n",
    "    ]\n",
    ")\n",
    "res = AtomicLineList.query_object(\n",
    "    wavelength_range=wavelength_range,\n",
    "    wavelength_type='Air',\n",
    "    lower_level_energy_range=3 * u.eV,\n",
    "    #transitions=aa.Transition.nebular,\n",
    "    element_spectrum=ionlist,\n",
    "    #get_query_payload=True,\n",
    ")"
   ]
  },
  {
   "cell_type": "code",
   "execution_count": 67,
   "id": "8636fb7a-93a0-4396-9937-51885e120318",
   "metadata": {},
   "outputs": [
    {
     "data": {
      "text/html": [
       "<div><i>Table length=15</i>\n",
       "<table id=\"table140153697560416\" class=\"table-striped table-bordered table-condensed\">\n",
       "<thead><tr><th>LAMBDA AIR ANG</th><th>SPECTRUM</th><th>TT</th><th>CONFIGURATION</th><th>TERM</th><th>J J</th><th>A_ki</th><th>LEVEL ENERGY  CM 1</th></tr></thead>\n",
       "<thead><tr><th>float64</th><th>str7</th><th>str2</th><th>str33</th><th>str8</th><th>str8</th><th>str4</th><th>str22</th></tr></thead>\n",
       "<tr><td>8105.651</td><td>Ni I]</td><td>E1</td><td>3d8.(3P).4s2-3d8.(3F).4s.4p.(3Po)</td><td>3P-5Do</td><td>2-1</td><td>None</td><td>15609.84 -    27943.52</td></tr>\n",
       "<tr><td>8108.3199</td><td>Fe I]</td><td>E1</td><td>3d7.(2G).4s-3d7.(4F).4p</td><td>a3G-y5Fo</td><td>4-3</td><td>None</td><td>21999.13 -    34328.75</td></tr>\n",
       "<tr><td>8111.975</td><td>[Ni I]</td><td>M1</td><td>3d9.(2D).4s-3d8.(3P).4s2</td><td>1D-3P</td><td>2-1</td><td>None</td><td>3409.94 -    15734.00</td></tr>\n",
       "<tr><td>8112.1609</td><td>Fe I]</td><td>E1</td><td>3d7.(2G).4s-3d7.(4F).4p</td><td>a3G-y5Fo</td><td>5-4</td><td>None</td><td>21715.73 -    34039.51</td></tr>\n",
       "<tr><td>8119.142</td><td>[Fe II]</td><td>M1</td><td>3d7-3d6.(3P4).4s</td><td>a4P-b2P</td><td>5/2-3/2</td><td>None</td><td>13474.41 -    25787.60</td></tr>\n",
       "<tr><td>8129.3131</td><td>Fe I]</td><td>E1</td><td>3d7.(2G).4s-3d7.(4F).4p</td><td>a3G-y5Fo</td><td>3-2</td><td>None</td><td>22249.43 -    34547.21</td></tr>\n",
       "<tr><td>8151.3424</td><td>[Fe I]</td><td>M1</td><td>3d6.4s2-3d7.(4F).4s</td><td>a5D-a3F</td><td>2-2</td><td>None</td><td>704.01 -    12968.55</td></tr>\n",
       "<tr><td>8180.0809</td><td>Fe I]</td><td>E1</td><td>3d6.4s2-3d7.(4F).4p</td><td>b3F-y5Do</td><td>3-4</td><td>None</td><td>20874.48 -    33095.94</td></tr>\n",
       "<tr><td>8184.503</td><td>[Fe II]</td><td>E2</td><td>3d6.(3H).4s-3d6.(1G4).4s</td><td>a4H-c2G</td><td>13/2-9/2</td><td>None</td><td>21251.61 -    33466.46</td></tr>\n",
       "<tr><td>8188.077</td><td>Ni I]</td><td>E1</td><td>3d8.(3P).4s2-3d8.(3F).4s.4p.(3Po)</td><td>3P-5Do</td><td>1-1</td><td>None</td><td>15734.00 -    27943.52</td></tr>\n",
       "<tr><td>8194.531</td><td>[Ni I]</td><td>M1</td><td>3d9.(2D).4s-3d8.(3P).4s2</td><td>1D-3P</td><td>2-2</td><td>None</td><td>3409.94 -    15609.84</td></tr>\n",
       "<tr><td>8199.03</td><td>[Fe II]</td><td>E2</td><td>3d7-3d6.(1G4).4s</td><td>a2D2-c2G</td><td>3/2-7/2</td><td>None</td><td>21308.04 -    33501.25</td></tr>\n",
       "<tr><td>8201.74</td><td>[Ni I]</td><td>M1</td><td>3d8.(3F).4s2-3d8.(1D).4s2</td><td>3F-1D</td><td>3-2</td><td>None</td><td>1332.16 -    13521.35</td></tr>\n",
       "<tr><td>8204.1023</td><td>Fe I]</td><td>E1</td><td>3d7.(4F).4s-3d6.(5D).4s.4p.(3Po)</td><td>a5F-z7Do</td><td>4-4</td><td>None</td><td>7376.76 -    19562.44</td></tr>\n",
       "<tr><td>8204.9366</td><td>Fe I]</td><td>E1</td><td>3d7.(4F).4s-3d6.(5D).4s.4p.(3Po)</td><td>a5F-z7Do</td><td>3-2</td><td>None</td><td>7728.06 -    19912.49</td></tr>\n",
       "</table></div>"
      ],
      "text/plain": [
       "<Table length=15>\n",
       "LAMBDA AIR ANG SPECTRUM  TT  ...   J J    A_ki   LEVEL ENERGY  CM 1  \n",
       "   float64       str7   str2 ...   str8   str4         str22         \n",
       "-------------- -------- ---- ... -------- ---- ----------------------\n",
       "      8105.651    Ni I]   E1 ...      2-1 None 15609.84 -    27943.52\n",
       "     8108.3199    Fe I]   E1 ...      4-3 None 21999.13 -    34328.75\n",
       "      8111.975   [Ni I]   M1 ...      2-1 None  3409.94 -    15734.00\n",
       "     8112.1609    Fe I]   E1 ...      5-4 None 21715.73 -    34039.51\n",
       "      8119.142  [Fe II]   M1 ...  5/2-3/2 None 13474.41 -    25787.60\n",
       "     8129.3131    Fe I]   E1 ...      3-2 None 22249.43 -    34547.21\n",
       "     8151.3424   [Fe I]   M1 ...      2-2 None   704.01 -    12968.55\n",
       "     8180.0809    Fe I]   E1 ...      3-4 None 20874.48 -    33095.94\n",
       "      8184.503  [Fe II]   E2 ... 13/2-9/2 None 21251.61 -    33466.46\n",
       "      8188.077    Ni I]   E1 ...      1-1 None 15734.00 -    27943.52\n",
       "      8194.531   [Ni I]   M1 ...      2-2 None  3409.94 -    15609.84\n",
       "       8199.03  [Fe II]   E2 ...  3/2-7/2 None 21308.04 -    33501.25\n",
       "       8201.74   [Ni I]   M1 ...      3-2 None  1332.16 -    13521.35\n",
       "     8204.1023    Fe I]   E1 ...      4-4 None  7376.76 -    19562.44\n",
       "     8204.9366    Fe I]   E1 ...      3-2 None  7728.06 -    19912.49"
      ]
     },
     "execution_count": 67,
     "metadata": {},
     "output_type": "execute_result"
    }
   ],
   "source": [
    "res"
   ]
  },
  {
   "cell_type": "code",
   "execution_count": 68,
   "id": "eae899ed-7169-4925-9881-2ee056a6d86f",
   "metadata": {},
   "outputs": [
    {
     "data": {
      "text/html": [
       "<i>Table length=188</i>\n",
       "<table id=\"table140153697138192-482097\" class=\"table-striped table-bordered table-condensed\">\n",
       "<thead><tr><th>idx</th><th>LAMBDA AIR ANG</th><th>SPECTRUM</th><th>TT</th><th>CONFIGURATION</th><th>TERM</th><th>J J</th><th>A_ki</th><th>LEVEL ENERGY  CM 1</th></tr></thead>\n",
       "<tr><td>0</td><td>8083.8</td><td>C I</td><td>E1</td><td>2s2.2p.(2Po).3p-2s2.2p.(2Po).5s</td><td>3P-3Po</td><td>2-1</td><td>6.08E+05</td><td>71385.38 -    83752.41</td></tr>\n",
       "<tr><td>1</td><td>8084.352</td><td>Si I</td><td>E1</td><td>3s2.3p.3d-3s2.3p.(2Po&lt;3/2&gt;).7p&lt;3/2&gt;</td><td>3Fo-(3/2,3/2)</td><td>4-3</td><td>None</td><td>50054.81 -    62420.99</td></tr>\n",
       "<tr><td>2</td><td>8085.19</td><td>Ca I</td><td>E1</td><td>4s.5p-4s.24d</td><td>1Po-1D</td><td>1-2</td><td>None</td><td>36731.61 -    49096.52</td></tr>\n",
       "<tr><td>3</td><td>8086.17</td><td>Ca I</td><td>E1</td><td>3d.4p-4s.11d</td><td>3Fo-3D</td><td>4-3</td><td>2.87E+06</td><td>35896.89 -    48260.29</td></tr>\n",
       "<tr><td>4</td><td>8088.02</td><td>Ca I</td><td>E1</td><td>4s.5p-4s.25s</td><td>1Po-1S</td><td>1-0</td><td>None</td><td>36731.61 -    49092.19</td></tr>\n",
       "<tr><td>5</td><td>8088.92</td><td>Ca I</td><td>E1</td><td>4s.5p-4s.18d</td><td>3Po-3D</td><td>2-3</td><td>None</td><td>36575.12 -    48934.32</td></tr>\n",
       "<tr><td>6</td><td>8089.06</td><td>Ca I</td><td>E1</td><td>4s.5p-4s.18d</td><td>3Po-3D</td><td>2-1</td><td>None</td><td>36575.12 -    48934.10</td></tr>\n",
       "<tr><td>7</td><td>8089.08</td><td>N II]</td><td>E1</td><td>2s2.2p.(2Po).3p-2s2.2p.(2Po).3d</td><td>1D-3Fo</td><td>2-3</td><td>None</td><td>174211.83 -   186570.78</td></tr>\n",
       "<tr><td>8</td><td>8089.1</td><td>Ca I</td><td>E1</td><td>4s.5p-4s.18d</td><td>3Po-3D</td><td>2-2</td><td>None</td><td>36575.12 -    48934.04</td></tr>\n",
       "<tr><td>9</td><td>8089.19</td><td>Ca I]</td><td>E1</td><td>4s.5p-4s.25s</td><td>1Po-3S</td><td>1-1</td><td>None</td><td>36731.61 -    49090.40</td></tr>\n",
       "<tr><td>10</td><td>8089.76</td><td>Ca I</td><td>E1</td><td>4s.5p-4s.19s</td><td>3Po-3S</td><td>0-1</td><td>None</td><td>36547.69 -    48905.60</td></tr>\n",
       "<tr><td>11</td><td>8091.08</td><td>Ca I]</td><td>E1</td><td>4s.5p-4s.19s</td><td>3Po-1S</td><td>1-0</td><td>None</td><td>36554.75 -    48910.65</td></tr>\n",
       "<tr><td>12</td><td>8091.2</td><td>C I]</td><td>E1</td><td>2s2.2p.(2Po).3p-2s2.2p.(2Po).6s</td><td>1S-3Po</td><td>0-1</td><td>None</td><td>73975.91 -    86331.63</td></tr>\n",
       "<tr><td>13</td><td>8092.53</td><td>Ca I]</td><td>E1</td><td>4s.5p-4s.18d</td><td>3Po-1D</td><td>2-2</td><td>None</td><td>36575.12 -    48928.79</td></tr>\n",
       "<tr><td>14</td><td>8093.0</td><td>Ca I]</td><td>E1</td><td>3d.4p-4s.10d</td><td>3Fo-1D</td><td>2-2</td><td>None</td><td>35730.45 -    48083.41</td></tr>\n",
       "<tr><td>15</td><td>8093.232</td><td>Si I</td><td>E1</td><td>3s2.3p.4p-3s2.3p.(2Po&lt;3/2&gt;).6s&lt;1/2&gt;</td><td>1P-(3/2,1/2)o</td><td>1-1</td><td>None</td><td>47284.06 -    59636.67</td></tr>\n",
       "<tr><td>16</td><td>8094.14</td><td>Ca I]</td><td>E1</td><td>4s.5p-4s.23d</td><td>1Po-3D</td><td>1-2</td><td>None</td><td>36731.61 -    49082.83</td></tr>\n",
       "<tr><td>17</td><td>8094.38</td><td>Ca I</td><td>E1</td><td>4s.5p-4s.19s</td><td>3Po-3S</td><td>1-1</td><td>None</td><td>36554.75 -    48905.60</td></tr>\n",
       "<tr><td>18</td><td>8096.0</td><td>O II]</td><td>E1</td><td>2s2.2p2.(3P).4d-2s2.2p2.(1D).4p</td><td>4P-2Po</td><td>3/2-3/2</td><td>None</td><td>255142.41 -   267490.79</td></tr>\n",
       "<tr><td>19</td><td>8097.65</td><td>Ca I</td><td>E1</td><td>4s.5p-4s.23d</td><td>1Po-1D</td><td>1-2</td><td>None</td><td>36731.61 -    49077.48</td></tr>\n",
       "<tr><td>20</td><td>8098.0</td><td>C II]</td><td>E1</td><td>2s.2p.(3Po).3p-2s2.13f</td><td>4D-2Fo</td><td>3/2-*</td><td>None</td><td>181711.03 -   194056.40</td></tr>\n",
       "<tr><td>21</td><td>8098.6</td><td>N II</td><td>E1</td><td>2s2.2p.(2Po&lt;1/2&gt;).5f-2s2.2p.(2Po).9d</td><td>F[5/2]-3Do</td><td>3-3</td><td>None</td><td>221054.30 -   233398.70</td></tr>\n",
       "<tr><td>22</td><td>8099.1</td><td>N II</td><td>E1</td><td>2s2.2p.(2Po).5p-2s2.2p.(2Po).7d</td><td>3D-3Fo</td><td>3-3</td><td>2.55E+04</td><td>217209.34 -   229553.00</td></tr>\n",
       "<tr><td>23</td><td>8100.3</td><td>N II</td><td>E1</td><td>2s2.2p.(2Po&lt;1/2&gt;).5f-2s2.2p.(2Po).9d</td><td>F[5/2]-3Do</td><td>2-3</td><td>None</td><td>221056.81 -   233398.70</td></tr>\n",
       "<tr><td>24</td><td>8101.25</td><td>Ca I</td><td>E1</td><td>4s.5p-4s.24s</td><td>1Po-1S</td><td>1-0</td><td>None</td><td>36731.61 -    49071.99</td></tr>\n",
       "<tr><td>25</td><td>8102.02</td><td>Ca I</td><td>E1</td><td>4s.5p-4s.17d</td><td>3Po-3D</td><td>0-1</td><td>None</td><td>36547.69 -    48886.90</td></tr>\n",
       "<tr><td>26</td><td>8102.68</td><td>Ca I]</td><td>E1</td><td>4s.5p-4s.24s</td><td>1Po-3S</td><td>1-1</td><td>None</td><td>36731.61 -    49069.82</td></tr>\n",
       "<tr><td>27</td><td>8102.92</td><td>O II]</td><td>E1</td><td>2s2.2p2.(3P).3d-2s2.2p2.(3P).4p</td><td>2P-4Do</td><td>3/2-1/2</td><td>None</td><td>233430.53 -   245768.37</td></tr>\n",
       "<tr><td>28</td><td>8105.668</td><td>N I</td><td>E1</td><td>2s2.2p2.(3P).3p-2s2.2p2.(3P).5s</td><td>2Po-2P</td><td>1/2-3/2</td><td>2.36E+05</td><td>97770.18 -   110103.83</td></tr>\n",
       "<tr><td>29</td><td>8106.66</td><td>Ca I</td><td>E1</td><td>4s.5p-4s.17d</td><td>3Po-3D</td><td>1-1</td><td>None</td><td>36554.75 -    48886.90</td></tr>\n",
       "<tr><td>30</td><td>8106.75</td><td>Ca I</td><td>E1</td><td>4s.5p-4s.17d</td><td>3Po-3D</td><td>1-2</td><td>None</td><td>36554.75 -    48886.75</td></tr>\n",
       "<tr><td>31</td><td>8107.75</td><td>Ca I</td><td>E1</td><td>4s.5p-4s.19s</td><td>3Po-3S</td><td>2-1</td><td>None</td><td>36575.12 -    48905.60</td></tr>\n",
       "<tr><td>32</td><td>8108.3</td><td>N II</td><td>E1</td><td>2s2.2p.(2Po&lt;1/2&gt;).5f-2s2.2p.(2Po).9d</td><td>F[7/2]-3Do</td><td>3-3</td><td>None</td><td>221069.02 -   233398.70</td></tr>\n",
       "<tr><td>33</td><td>8108.32</td><td>Ca I]</td><td>E1</td><td>4s.5p-4s.22d</td><td>1Po-3D</td><td>1-2</td><td>None</td><td>36731.61 -    49061.23</td></tr>\n",
       "<tr><td>34</td><td>8109.58</td><td>O II]</td><td>E1</td><td>2s2.2p2.(3P).4d-2s2.2p2.(1D).4p</td><td>4P-2Po</td><td>1/2-3/2</td><td>None</td><td>255163.08 -   267490.79</td></tr>\n",
       "<tr><td>35</td><td>8109.64</td><td>Ca I]</td><td>E1</td><td>4s.5p-4s.17d</td><td>3Po-1D</td><td>1-2</td><td>None</td><td>36554.75 -    48882.37</td></tr>\n",
       "<tr><td>36</td><td>8110.6</td><td>N II</td><td>E1</td><td>2s2.2p.(2Po&lt;1/2&gt;).5f-2s2.2p.(2Po).9d</td><td>F[5/2]-3Do</td><td>3-2</td><td>None</td><td>221054.30 -   233380.50</td></tr>\n",
       "<tr><td>37</td><td>8111.0</td><td>N II</td><td>E1</td><td>2s2.2p.(2Po&lt;1/2&gt;).5f-2s2.2p.(2Po).9d</td><td>F[7/2]-3Do</td><td>4-3</td><td>None</td><td>221073.15 -   233398.70</td></tr>\n",
       "<tr><td>38</td><td>8112.02</td><td>Ca I</td><td>E1</td><td>4s.5p-4s.22d</td><td>1Po-1D</td><td>1-2</td><td>None</td><td>36731.61 -    49055.62</td></tr>\n",
       "<tr><td>39</td><td>8112.3</td><td>N II</td><td>E1</td><td>2s2.2p.(2Po&lt;1/2&gt;).5f-2s2.2p.(2Po).9d</td><td>F[5/2]-3Do</td><td>2-2</td><td>None</td><td>221056.81 -   233380.50</td></tr>\n",
       "<tr><td>40</td><td>8112.591</td><td>Si I</td><td>E1</td><td>3s2.3p.4p-3s2.3p.5d</td><td>3P-3Do</td><td>2-1</td><td>4.69E+04</td><td>49188.62 -    61511.74</td></tr>\n",
       "<tr><td>41</td><td>8114.5</td><td>C II]</td><td>E1</td><td>2s.2p.(3Po).3p-2s2.13f</td><td>4D-2Fo</td><td>5/2-*</td><td>None</td><td>181736.05 -   194056.40</td></tr>\n",
       "<tr><td>42</td><td>8116.06</td><td>O II]</td><td>E1</td><td>2s2.2p2.(3P).4d-2s2.2p2.(1D).4p</td><td>4P-2Po</td><td>3/2-1/2</td><td>None</td><td>255142.41 -   267460.28</td></tr>\n",
       "<tr><td>43</td><td>8116.48</td><td>Ca I</td><td>E1</td><td>4s.5p-4s.23s</td><td>1Po-1S</td><td>1-0</td><td>None</td><td>36731.61 -    49048.85</td></tr>\n",
       "<tr><td>44</td><td>8116.49</td><td>O II</td><td>E1</td><td>2s2.2p2.(3P).4d-2s2.2p2.(1D).4p</td><td>2P-2Po</td><td>3/2-3/2</td><td>7.22E+05</td><td>255173.58 -   267490.79</td></tr>\n",
       "<tr><td>45</td><td>8116.84</td><td>O II]</td><td>E1</td><td>2s.2p3.(5So).3s-2s2.2p2.(3P).6s</td><td>4So-2P</td><td>3/2-3/2</td><td>None</td><td>254981.55 -   267298.23</td></tr>\n",
       "<tr><td>46</td><td>8118.21</td><td>Ca I]</td><td>E1</td><td>4s.5p-4s.23s</td><td>1Po-3S</td><td>1-1</td><td>None</td><td>36731.61 -    49046.22</td></tr>\n",
       "<tr><td>47</td><td>8118.26</td><td>O II]</td><td>E1</td><td>2s2.2p2.(3P).4p-2s2.2p2.(3P).5s</td><td>4So-2P</td><td>3/2-3/2</td><td>None</td><td>246291.82 -   258606.35</td></tr>\n",
       "<tr><td>48</td><td>8119.98</td><td>Ca I</td><td>E1</td><td>4s.5p-4s.17d</td><td>3Po-3D</td><td>2-3</td><td>None</td><td>36575.12 -    48887.04</td></tr>\n",
       "<tr><td>49</td><td>8120.07</td><td>Ca I</td><td>E1</td><td>4s.5p-4s.17d</td><td>3Po-3D</td><td>2-1</td><td>None</td><td>36575.12 -    48886.90</td></tr>\n",
       "<tr><td>50</td><td>8120.17</td><td>Ca I</td><td>E1</td><td>4s.5p-4s.17d</td><td>3Po-3D</td><td>2-2</td><td>None</td><td>36575.12 -    48886.75</td></tr>\n",
       "<tr><td>51</td><td>8120.3</td><td>N II</td><td>E1</td><td>2s2.2p.(2Po&lt;1/2&gt;).5f-2s2.2p.(2Po).9d</td><td>F[7/2]-3Do</td><td>3-2</td><td>None</td><td>221069.02 -   233380.50</td></tr>\n",
       "<tr><td>52</td><td>8123.06</td><td>Ca I]</td><td>E1</td><td>4s.5p-4s.17d</td><td>3Po-1D</td><td>2-2</td><td>None</td><td>36575.12 -    48882.37</td></tr>\n",
       "<tr><td>53</td><td>8124.043</td><td>Ca I</td><td>E1</td><td>3d.4p-4s.10d</td><td>3Fo-3D</td><td>2-3</td><td>7.27E+03</td><td>35730.45 -    48036.21</td></tr>\n",
       "<tr><td>54</td><td>8124.4</td><td>Ca I]</td><td>E1</td><td>3d.4p-4s.10g</td><td>3Fo-1G</td><td>4-4</td><td>None</td><td>35896.89 -    48202.20</td></tr>\n",
       "<tr><td>55</td><td>8124.62</td><td>Ca I</td><td>E1</td><td>4s.5p-4s.18s</td><td>3Po-3S</td><td>0-1</td><td>None</td><td>36547.69 -    48852.58</td></tr>\n",
       "<tr><td>56</td><td>8124.69</td><td>Ca I]</td><td>E1</td><td>4s.5p-4s.21d</td><td>1Po-3D</td><td>1-2</td><td>None</td><td>36731.61 -    49036.40</td></tr>\n",
       "<tr><td>57</td><td>8125.31</td><td>Ca I]</td><td>E1</td><td>4s.5p-4s.18s</td><td>3Po-1S</td><td>1-0</td><td>None</td><td>36554.75 -    48858.59</td></tr>\n",
       "<tr><td>58</td><td>8125.89</td><td>O II]</td><td>E1</td><td>2s2.2p2.(3P).4d-2s2.2p2.(1D).4p</td><td>4F-2Do</td><td>3/2-5/2</td><td>None</td><td>254337.61 -   266640.58</td></tr>\n",
       "<tr><td>59</td><td>8126.02</td><td>Ca I</td><td>E1</td><td>3d.4p-4s.10d</td><td>3Fo-3D</td><td>2-2</td><td>3.56E+05</td><td>35730.45 -    48033.23</td></tr>\n",
       "<tr><td>60</td><td>8127.11</td><td>Ca I</td><td>E1</td><td>3d.4p-4s.10d</td><td>3Fo-3D</td><td>2-1</td><td>3.20E+06</td><td>35730.45 -    48031.58</td></tr>\n",
       "<tr><td>61</td><td>8128.15</td><td>N II]</td><td>E1</td><td>2s2.2p.(2Po).3p-2s2.2p.(2Po).3d</td><td>1D-3Fo</td><td>2-2</td><td>None</td><td>174211.83 -   186511.38</td></tr>\n",
       "<tr><td>62</td><td>8128.56</td><td>Ca I</td><td>E1</td><td>4s.5p-4s.21d</td><td>1Po-1D</td><td>1-2</td><td>None</td><td>36731.61 -    49030.55</td></tr>\n",
       "<tr><td>63</td><td>8129.036</td><td>Si I</td><td>E1</td><td>3s2.3p.3d-3s2.3p.(2Po&lt;1/2&gt;).7p&lt;3/2&gt;</td><td>3Fo-(1/2,3/2)</td><td>3-2</td><td>None</td><td>49933.78 -    62231.98</td></tr>\n",
       "<tr><td>64</td><td>8129.172</td><td>N I</td><td>E1</td><td>2s2.2p2.(3P).3p-2s2.2p2.(3P).5s</td><td>2Po-2P</td><td>3/2-3/2</td><td>1.17E+06</td><td>97805.84 -   110103.83</td></tr>\n",
       "<tr><td>65</td><td>8129.28</td><td>Ca I</td><td>E1</td><td>4s.5p-4s.18s</td><td>3Po-3S</td><td>1-1</td><td>None</td><td>36554.75 -    48852.58</td></tr>\n",
       "<tr><td>66</td><td>8129.69</td><td>O II]</td><td>E1</td><td>2s2.2p2.(3P).4d-2s2.2p2.(1D).4p</td><td>4P-2Po</td><td>1/2-1/2</td><td>None</td><td>255163.08 -   267460.28</td></tr>\n",
       "<tr><td>67</td><td>8133.09</td><td>Ca II</td><td>E1</td><td>3p6.(1S).5f-3p6.(1S).9g</td><td>2Fo-2G</td><td>*-*</td><td>3.34E+06</td><td>78034.39 -    90326.45</td></tr>\n",
       "<tr><td>68</td><td>8133.9</td><td>Si I</td><td>E1</td><td>3s2.3p.3d-3s2.3p.(2Po&lt;1/2&gt;).7p&lt;1/2&gt;</td><td>3Fo-(1/2,1/2)</td><td>2-1</td><td>None</td><td>49850.83 -    62141.80</td></tr>\n",
       "<tr><td>69</td><td>8134.19</td><td>Ca I</td><td>E1</td><td>4s.5p-4s.22s</td><td>1Po-1S</td><td>1-0</td><td>None</td><td>36731.61 -    49022.02</td></tr>\n",
       "<tr><td>70</td><td>8136.1</td><td>Ca I]</td><td>E1</td><td>4s.5p-4s.22s</td><td>1Po-3S</td><td>1-1</td><td>None</td><td>36731.61 -    49019.13</td></tr>\n",
       "<tr><td>71</td><td>8136.64</td><td>O II]</td><td>E1</td><td>2s2.2p2.(3P).4d-2s2.2p2.(1D).4p</td><td>4F-2Do</td><td>3/2-3/2</td><td>None</td><td>254337.61 -   266624.32</td></tr>\n",
       "<tr><td>72</td><td>8136.64</td><td>O II</td><td>E1</td><td>2s2.2p2.(3P).4d-2s2.2p2.(1D).4p</td><td>2P-2Po</td><td>3/2-1/2</td><td>2.87E+05</td><td>255173.58 -   267460.28</td></tr>\n",
       "<tr><td>73</td><td>8136.93</td><td>O II]</td><td>E1</td><td>2s2.2p2.(3P).4p-2s2.2p2.(3P).5s</td><td>4Po-2P</td><td>1/2-3/2</td><td>None</td><td>246320.09 -   258606.35</td></tr>\n",
       "<tr><td>74</td><td>8137.9</td><td>N II</td><td>E1</td><td>2s2.2p.(2Po).5p-2s2.2p.(2Po).7d</td><td>3D-3Fo</td><td>3-2</td><td>1.00E+03</td><td>217209.34 -   229494.20</td></tr>\n",
       "<tr><td>75</td><td>8138.5</td><td>C II]</td><td>E1</td><td>2s.2p.(3Po).3p-2s2.13f</td><td>4D-2Fo</td><td>7/2-*</td><td>None</td><td>181772.41 -   194056.40</td></tr>\n",
       "<tr><td>76</td><td>8139.6</td><td>C II</td><td>E1</td><td>2s2.5f-2s2.9g</td><td>2Fo-2G</td><td>*-*</td><td>3.35E+06</td><td>178955.94 -   191238.20</td></tr>\n",
       "<tr><td>77</td><td>8139.64</td><td>Ca I</td><td>E1</td><td>4s.5p-4s.16d</td><td>3Po-3D</td><td>0-1</td><td>None</td><td>36547.69 -    48829.87</td></tr>\n",
       "<tr><td>78</td><td>8140.564</td><td>Si I]</td><td>E1</td><td>3s2.3p.4p-3s2.3p.5d</td><td>3D-1Do</td><td>1-2</td><td>None</td><td>48020.07 -    60300.86</td></tr>\n",
       "<tr><td>79</td><td>8142.77</td><td>Ca I</td><td>E1</td><td>4s.5p-4s.18s</td><td>3Po-3S</td><td>2-1</td><td>None</td><td>36575.12 -    48852.58</td></tr>\n",
       "<tr><td>80</td><td>8142.8</td><td>Si I]</td><td>E1</td><td>3s2.3p.4p-3s2.3p.5d</td><td>3P-1Po</td><td>0-1</td><td>None</td><td>49028.29 -    61305.70</td></tr>\n",
       "<tr><td>81</td><td>8143.75</td><td>Ca I]</td><td>E1</td><td>4s.5p-4s.20d</td><td>1Po-3D</td><td>1-1</td><td>None</td><td>36731.61 -    49007.59</td></tr>\n",
       "<tr><td>82</td><td>8143.76</td><td>Ca I]</td><td>E1</td><td>4s.5p-4s.20d</td><td>1Po-3D</td><td>1-2</td><td>None</td><td>36731.61 -    49007.58</td></tr>\n",
       "<tr><td>83</td><td>8144.27</td><td>Ca I</td><td>E1</td><td>4s.5p-4s.16d</td><td>3Po-3D</td><td>1-2</td><td>None</td><td>36554.75 -    48829.95</td></tr>\n",
       "<tr><td>84</td><td>8144.32</td><td>Ca I</td><td>E1</td><td>4s.5p-4s.16d</td><td>3Po-3D</td><td>1-1</td><td>None</td><td>36554.75 -    48829.87</td></tr>\n",
       "<tr><td>85</td><td>8145.97</td><td>Si I</td><td>E1</td><td>3s2.3p.4p-3s2.3p.(2Po&lt;3/2&gt;).9s&lt;1/2&gt;</td><td>1S-(3/2,1/2)o</td><td>0-1</td><td>None</td><td>51612.01 -    63884.64</td></tr>\n",
       "<tr><td>86</td><td>8146.19</td><td>Ca I]</td><td>E1</td><td>4s.5p-4s.16d</td><td>3Po-1D</td><td>1-2</td><td>None</td><td>36554.75 -    48827.05</td></tr>\n",
       "<tr><td>87</td><td>8146.32</td><td>O II]</td><td>E1</td><td>2s2.2p2.(3P).3d-2s2.2p2.(3P).4p</td><td>2P-4Do</td><td>1/2-3/2</td><td>None</td><td>233544.59 -   245816.70</td></tr>\n",
       "<tr><td>88</td><td>8147.69</td><td>Ca I</td><td>E1</td><td>4s.5p-4s.20d</td><td>1Po-1D</td><td>1-2</td><td>None</td><td>36731.61 -    49001.66</td></tr>\n",
       "<tr><td>89</td><td>8150.682</td><td>N I</td><td>E1</td><td>2s2.2p2.(3P).3p-2s2.2p2.(3P).5s</td><td>2Po-2P</td><td>1/2-1/2</td><td>9.27E+05</td><td>97770.18 -   110035.72</td></tr>\n",
       "<tr><td>90</td><td>8151.24</td><td>Ca I]</td><td>E1</td><td>3d.4p-4s.10d</td><td>3Fo-1D</td><td>3-2</td><td>None</td><td>35818.71 -    48083.41</td></tr>\n",
       "<tr><td>91</td><td>8152.8</td><td>N II]</td><td>E1</td><td>2p4-2s2.2p.(2Po).9s</td><td>3P-1Po</td><td>2-1</td><td>None</td><td>220218.15 -   232480.60</td></tr>\n",
       "<tr><td>92</td><td>8154.869</td><td>Si I</td><td>E1</td><td>3s2.3p.4p-3s2.3p.5d</td><td>3P-3Do</td><td>2-2</td><td>4.16E+05</td><td>49188.62 -    61447.86</td></tr>\n",
       "<tr><td>93</td><td>8154.89</td><td>Ca I</td><td>E1</td><td>4s.5p-4s.21s</td><td>1Po-1S</td><td>1-0</td><td>None</td><td>36731.61 -    48990.83</td></tr>\n",
       "<tr><td>94</td><td>8155.64</td><td>C I]</td><td>E1</td><td>2s2.2p.(2Po).3s-2s2.2p.(2Po).3p</td><td>3Po-1D</td><td>1-2</td><td>None</td><td>60352.63 -    72610.72</td></tr>\n",
       "<tr><td>95</td><td>8157.21</td><td>Ca I]</td><td>E1</td><td>4s.5p-4s.21s</td><td>1Po-3S</td><td>1-1</td><td>None</td><td>36731.61 -    48987.35</td></tr>\n",
       "<tr><td>96</td><td>8157.27</td><td>N II</td><td>E1</td><td>2s2.2p.(2Po).5p-2s.2p2.(4P).3p</td><td>3D-3Do</td><td>2-3</td><td>4.15E+04</td><td>217114.76 -   229370.40</td></tr>\n",
       "<tr><td>97</td><td>8157.46</td><td>Ca I</td><td>E1</td><td>4s.5p-4s.16d</td><td>3Po-3D</td><td>2-3</td><td>None</td><td>36575.12 -    48830.47</td></tr>\n",
       "<tr><td>98</td><td>8157.81</td><td>Ca I</td><td>E1</td><td>4s.5p-4s.16d</td><td>3Po-3D</td><td>2-2</td><td>None</td><td>36575.12 -    48829.95</td></tr>\n",
       "<tr><td>99</td><td>8157.86</td><td>Ca I</td><td>E1</td><td>4s.5p-4s.16d</td><td>3Po-3D</td><td>2-1</td><td>None</td><td>36575.12 -    48829.87</td></tr>\n",
       "<tr><td>100</td><td>8159.59</td><td>O II]</td><td>E1</td><td>2s2.2p2.(3P).4d-2s2.2p2.(1D).4p</td><td>4F-2Do</td><td>5/2-5/2</td><td>None</td><td>254388.42 -   266640.58</td></tr>\n",
       "<tr><td>101</td><td>8159.74</td><td>Ca I]</td><td>E1</td><td>4s.5p-4s.16d</td><td>3Po-1D</td><td>2-2</td><td>None</td><td>36575.12 -    48827.05</td></tr>\n",
       "<tr><td>102</td><td>8162.36</td><td>Ca I</td><td>E1</td><td>3d.4p-4s.10d</td><td>1Do-1D</td><td>2-2</td><td>6.23E+05</td><td>35835.41 -    48083.41</td></tr>\n",
       "<tr><td>103</td><td>8164.29</td><td>Si I]</td><td>E1</td><td>3s2.3p.4p-3s2.3p.5d</td><td>3P-1Po</td><td>1-1</td><td>None</td><td>49060.60 -    61305.70</td></tr>\n",
       "<tr><td>104</td><td>8164.8</td><td>Si II]</td><td>E1</td><td>3s2.(1S).5d-3s.3p.(3Po).3d</td><td>2D-4Po</td><td>3/2-1/2</td><td>None</td><td>112394.56 -   124638.90</td></tr>\n",
       "<tr><td>105</td><td>8166.13</td><td>Ca I]</td><td>E1</td><td>4s.5p-4s.19d</td><td>1Po-3D</td><td>1-2</td><td>None</td><td>36731.61 -    48973.95</td></tr>\n",
       "<tr><td>106</td><td>8166.233</td><td>N I</td><td>E1</td><td>2s2.2p2.(1D).3s-2s2.2p2.(3P).5p</td><td>2D-2Do</td><td>5/2-5/2</td><td>1.32E+07</td><td>99663.43 -   111905.61</td></tr>\n",
       "<tr><td>107</td><td>8166.23</td><td>Ca I]</td><td>E1</td><td>4s.5p-4s.19d</td><td>1Po-3D</td><td>1-1</td><td>None</td><td>36731.61 -    48973.80</td></tr>\n",
       "<tr><td>108</td><td>8166.27</td><td>O II]</td><td>E1</td><td>2s2.2p2.(3P).4d-2s2.2p2.(1D).4p</td><td>4F-2Fo</td><td>3/2-5/2</td><td>None</td><td>254337.61 -   266579.73</td></tr>\n",
       "<tr><td>109</td><td>8166.557</td><td>N I</td><td>E1</td><td>2s2.2p2.(1D).3s-2s2.2p2.(3P).5p</td><td>2D-2Do</td><td>3/2-5/2</td><td>9.41E+05</td><td>99663.91 -   111905.61</td></tr>\n",
       "<tr><td>110</td><td>8167.21</td><td>Ca I]</td><td>E1</td><td>4s.5p-4s.17s</td><td>3Po-1S</td><td>1-0</td><td>None</td><td>36554.75 -    48795.46</td></tr>\n",
       "<tr><td>111</td><td>8167.46</td><td>Ca I</td><td>E1</td><td>4s.5p-4s.17s</td><td>3Po-3S</td><td>0-1</td><td>None</td><td>36547.69 -    48788.03</td></tr>\n",
       "<tr><td>112</td><td>8170.03</td><td>Ca I</td><td>E1</td><td>4s.5p-4s.19d</td><td>1Po-1D</td><td>1-2</td><td>None</td><td>36731.61 -    48968.10</td></tr>\n",
       "<tr><td>113</td><td>8170.42</td><td>O II]</td><td>E1</td><td>2s2.2p2.(3P).4d-2s2.2p2.(1D).4p</td><td>4F-2Do</td><td>5/2-3/2</td><td>None</td><td>254388.42 -   266624.32</td></tr>\n",
       "<tr><td>114</td><td>8171.9</td><td>N II]</td><td>E1</td><td>2p4-2s2.2p.(2Po).9s</td><td>3P-1Po</td><td>1-1</td><td>None</td><td>220246.83 -   232480.60</td></tr>\n",
       "<tr><td>115</td><td>8172.17</td><td>Ca I</td><td>E1</td><td>4s.5p-4s.17s</td><td>3Po-3S</td><td>1-1</td><td>None</td><td>36554.75 -    48788.03</td></tr>\n",
       "<tr><td>116</td><td>8172.4</td><td>O II]</td><td>E1</td><td>2s2.2p2.(1S).3p-2s2.2p2.(3P).5d</td><td>2Po-4D</td><td>1/2-*</td><td>None</td><td>252987.23 -   265220.30</td></tr>\n",
       "<tr><td>117</td><td>8172.6</td><td>Si I]</td><td>E1</td><td>3s2.3p.4p-3s2.3p.7d</td><td>1S-3Po</td><td>0-1</td><td>None</td><td>51612.01 -    63844.65</td></tr>\n",
       "<tr><td>118</td><td>8174.448</td><td>N I</td><td>E1</td><td>2s2.2p2.(3P).3p-2s2.2p2.(3P).5s</td><td>2Po-2P</td><td>3/2-1/2</td><td>4.60E+05</td><td>97805.84 -   110035.72</td></tr>\n",
       "<tr><td>119</td><td>8176.5</td><td>O II]</td><td>E1</td><td>2s2.2p2.(1S).3p-2s2.2p2.(3P).5d</td><td>2Po-4D</td><td>3/2-*</td><td>None</td><td>252993.39 -   265220.30</td></tr>\n",
       "<tr><td>120</td><td>8178.4</td><td>N II</td><td>E1</td><td>2s2.2p.(2Po&lt;3/2&gt;).5f-2s2.2p.(2Po).9d</td><td>G[7/2]-1Fo</td><td>3-3</td><td>None</td><td>221226.45 -   233450.50</td></tr>\n",
       "<tr><td>121</td><td>8178.53</td><td>O II]</td><td>E1</td><td>2s2.2p2.(3P).3d-2s2.2p2.(3P).4p</td><td>2P-4Do</td><td>1/2-1/2</td><td>None</td><td>233544.59 -   245768.37</td></tr>\n",
       "<tr><td>122</td><td>8179.4</td><td>N II]</td><td>E1</td><td>2p4-2s2.2p.(2Po).9s</td><td>3P-1Po</td><td>0-1</td><td>None</td><td>220258.01 -   232480.60</td></tr>\n",
       "<tr><td>123</td><td>8179.37</td><td>Ca I</td><td>E1</td><td>4s.5p-4s.20s</td><td>1Po-1S</td><td>1-0</td><td>None</td><td>36731.61 -    48954.13</td></tr>\n",
       "<tr><td>124</td><td>8179.521</td><td>Si I</td><td>E1</td><td>3s2.3p.4p-3s2.3p.(2Po&lt;3/2&gt;).6s&lt;1/2&gt;</td><td>1P-(3/2,1/2)o</td><td>1-2</td><td>None</td><td>47284.06 -    59506.35</td></tr>\n",
       "<tr><td>125</td><td>8180.4</td><td>Si II]</td><td>E1</td><td>3s2.(1S).5d-3s.3p.(3Po).3d</td><td>2D-4Po</td><td>3/2-3/2</td><td>None</td><td>112394.56 -   124615.60</td></tr>\n",
       "<tr><td>126</td><td>8180.5</td><td>Si II]</td><td>E1</td><td>3s2.(1S).5d-3s.3p.(3Po).3d</td><td>2D-4Po</td><td>5/2-3/2</td><td>None</td><td>112394.72 -   124615.60</td></tr>\n",
       "<tr><td>127</td><td>8181.9</td><td>N II</td><td>E1</td><td>2s2.2p.(2Po&lt;3/2&gt;).5f-2s2.2p.(2Po).9d</td><td>G[7/2]-1Fo</td><td>4-3</td><td>None</td><td>221231.72 -   233450.50</td></tr>\n",
       "<tr><td>128</td><td>8182.22</td><td>Ca I]</td><td>E1</td><td>4s.5p-4s.20s</td><td>1Po-3S</td><td>1-1</td><td>None</td><td>36731.61 -    48949.88</td></tr>\n",
       "<tr><td>129</td><td>8182.68</td><td>C I]</td><td>E1</td><td>2s2.2p.(2Po).3s-2s2.2p.(2Po).3p</td><td>3Po-1D</td><td>2-2</td><td>None</td><td>60393.14 -    72610.72</td></tr>\n",
       "<tr><td>130</td><td>8182.731</td><td>Ca I</td><td>E1</td><td>3d.4p-4s.10d</td><td>3Fo-3D</td><td>3-3</td><td>2.49E+05</td><td>35818.71 -    48036.21</td></tr>\n",
       "<tr><td>131</td><td>8184.73</td><td>Ca I</td><td>E1</td><td>3d.4p-4s.10d</td><td>3Fo-3D</td><td>3-2</td><td>2.79E+06</td><td>35818.71 -    48033.23</td></tr>\n",
       "<tr><td>132</td><td>8184.862</td><td>N I</td><td>E1</td><td>2s2.2p2.(3P).3s-2s2.2p2.(3P).3p</td><td>4P-4Po</td><td>3/2-5/2</td><td>7.17E+06</td><td>83317.83 -    95532.15</td></tr>\n",
       "<tr><td>133</td><td>8185.41</td><td>N II]</td><td>E1</td><td>2s2.2p.(2Po).4p-2s2.2p.(2Po).5s</td><td>1P-3Po</td><td>1-2</td><td>None</td><td>202170.43 -   214383.93</td></tr>\n",
       "<tr><td>134</td><td>8185.62</td><td>Ca I</td><td>E1</td><td>4s.5p-4s.15d</td><td>3Po-3D</td><td>0-1</td><td>None</td><td>36547.69 -    48760.88</td></tr>\n",
       "<tr><td>135</td><td>8185.81</td><td>Ca I</td><td>E1</td><td>4s.5p-4s.17s</td><td>3Po-3S</td><td>2-1</td><td>None</td><td>36575.12 -    48788.03</td></tr>\n",
       "<tr><td>136</td><td>8186.89</td><td>N II</td><td>E1</td><td>2s2.2p.(2Po).5p-2s.2p2.(4P).3p</td><td>3D-3Do</td><td>2-2</td><td>2.56E+05</td><td>217114.76 -   229326.06</td></tr>\n",
       "<tr><td>137</td><td>8188.012</td><td>N I</td><td>E1</td><td>2s2.2p2.(3P).3s-2s2.2p2.(3P).3p</td><td>4P-4Po</td><td>1/2-3/2</td><td>9.94E+06</td><td>83284.07 -    95493.69</td></tr>\n",
       "<tr><td>138</td><td>8188.52</td><td>O II</td><td>E1</td><td>2s2.2p2.(3P).4d-2s2.2p2.(1D).4p</td><td>2P-2Po</td><td>1/2-3/2</td><td>1.41E+05</td><td>255281.93 -   267490.79</td></tr>\n",
       "<tr><td>139</td><td>8190.14</td><td>Ca I</td><td>E1</td><td>4s.5p-4s.15d</td><td>3Po-3D</td><td>1-2</td><td>None</td><td>36554.75 -    48761.20</td></tr>\n",
       "<tr><td>140</td><td>8190.35</td><td>Ca I</td><td>E1</td><td>4s.5p-4s.15d</td><td>3Po-3D</td><td>1-1</td><td>None</td><td>36554.75 -    48760.88</td></tr>\n",
       "<tr><td>141</td><td>8190.5</td><td>N II</td><td>E1</td><td>2s2.2p.(2Po&lt;1/2&gt;).5f-2s2.2p.(2Po).9d</td><td>F[5/2]-3Do</td><td>2-1</td><td>None</td><td>221056.81 -   233262.70</td></tr>\n",
       "<tr><td>142</td><td>8190.85</td><td>Ca I]</td><td>E1</td><td>4s.5p-4s.15d</td><td>3Po-1D</td><td>1-2</td><td>None</td><td>36554.75 -    48760.14</td></tr>\n",
       "<tr><td>143</td><td>8191.5</td><td>N II]</td><td>E1</td><td>2s2.2p.(2Po).6p-2s2.2p.(2Po).14d</td><td>1P-3Do</td><td>1-1</td><td>None</td><td>224286.63 -   236491.00</td></tr>\n",
       "<tr><td>144</td><td>8192.8</td><td>Ca I]</td><td>E1</td><td>4s.5p-4s.18d</td><td>1Po-3D</td><td>1-1</td><td>None</td><td>36731.61 -    48934.10</td></tr>\n",
       "<tr><td>145</td><td>8192.84</td><td>Ca I]</td><td>E1</td><td>4s.5p-4s.18d</td><td>1Po-3D</td><td>1-2</td><td>None</td><td>36731.61 -    48934.04</td></tr>\n",
       "<tr><td>146</td><td>8193.932</td><td>Ca I]</td><td>E1</td><td>3d.4p-4s.10d</td><td>1Do-3D</td><td>2-3</td><td>None</td><td>35835.41 -    48036.21</td></tr>\n",
       "<tr><td>147</td><td>8194.53</td><td>O II]</td><td>E1</td><td>2s2.2p2.(3P).4d-2s2.2p2.(1D).4p</td><td>4F-2Fo</td><td>5/2-7/2</td><td>None</td><td>254388.42 -   266588.33</td></tr>\n",
       "<tr><td>148</td><td>8195.451</td><td>Si I]</td><td>E1</td><td>3s2.3p.4p-3s2.3p.5d</td><td>3D-1Do</td><td>2-2</td><td>None</td><td>48102.32 -    60300.86</td></tr>\n",
       "<tr><td>149</td><td>8195.94</td><td>Ca I]</td><td>E1</td><td>3d.4p-4s.10d</td><td>1Do-3D</td><td>2-2</td><td>None</td><td>35835.41 -    48033.23</td></tr>\n",
       "<tr><td>150</td><td>8196.37</td><td>Ca I</td><td>E1</td><td>4s.5p-4s.18d</td><td>1Po-1D</td><td>1-2</td><td>None</td><td>36731.61 -    48928.79</td></tr>\n",
       "<tr><td>151</td><td>8197.05</td><td>Ca I]</td><td>E1</td><td>3d.4p-4s.10d</td><td>1Do-3D</td><td>2-1</td><td>None</td><td>35835.41 -    48031.58</td></tr>\n",
       "<tr><td>152</td><td>8197.314</td><td>Si I</td><td>E1</td><td>3s2.3p.4p-3s2.3p.(2Po&lt;1/2&gt;).7s&lt;1/2&gt;</td><td>3S-(1/2,1/2)o</td><td>1-1</td><td>None</td><td>49399.67 -    61595.43</td></tr>\n",
       "<tr><td>153</td><td>8199.807</td><td>Si I</td><td>E1</td><td>3s.3p3-3s2.3p.5p</td><td>3Do-3P</td><td>1-2</td><td>5.25E+03</td><td>45276.19 -    57468.24</td></tr>\n",
       "<tr><td>154</td><td>8200.31</td><td>O II]</td><td>E1</td><td>2s2.2p2.(3P).4d-2s2.2p2.(1D).4p</td><td>4F-2Fo</td><td>5/2-5/2</td><td>None</td><td>254388.42 -   266579.73</td></tr>\n",
       "<tr><td>155</td><td>8200.357</td><td>N I</td><td>E1</td><td>2s2.2p2.(3P).3s-2s2.2p2.(3P).3p</td><td>4P-4Po</td><td>1/2-1/2</td><td>3.96E+06</td><td>83284.07 -    95475.31</td></tr>\n",
       "<tr><td>156</td><td>8201.437</td><td>N I</td><td>E1</td><td>2s2.2p2.(1D).3s-2s2.2p2.(3P).5p</td><td>2D-2Do</td><td>5/2-3/2</td><td>1.39E+06</td><td>99663.43 -   111853.06</td></tr>\n",
       "<tr><td>157</td><td>8201.73</td><td>Ca II</td><td>E1</td><td>3p6.(1S).5p-3p6.(1S).5d</td><td>2Po-2D</td><td>1/2-3/2</td><td>5.02E+07</td><td>60533.02 -    72722.23</td></tr>\n",
       "<tr><td>158</td><td>8201.763</td><td>N I</td><td>E1</td><td>2s2.2p2.(1D).3s-2s2.2p2.(3P).5p</td><td>2D-2Do</td><td>3/2-3/2</td><td>1.25E+07</td><td>99663.91 -   111853.06</td></tr>\n",
       "<tr><td>159</td><td>8202.9188</td><td>Si I]</td><td>E1</td><td>3s2.3p.4p-3s2.3p.6d</td><td>1D-3Fo</td><td>2-3</td><td>None</td><td>50189.39 -    62376.82</td></tr>\n",
       "<tr><td>160</td><td>8203.11</td><td>N II</td><td>E1</td><td>2s2.2p.(2Po).5p-2s.2p2.(4P).3p</td><td>3D-3Do</td><td>2-1</td><td>9.18E+04</td><td>217114.76 -   229301.90</td></tr>\n",
       "<tr><td>161</td><td>8203.75</td><td>Ca I</td><td>E1</td><td>4s.5p-4s.15d</td><td>3Po-3D</td><td>2-3</td><td>None</td><td>36575.12 -    48761.31</td></tr>\n",
       "<tr><td>162</td><td>8203.82</td><td>Ca I</td><td>E1</td><td>4s.5p-4s.15d</td><td>3Po-3D</td><td>2-2</td><td>None</td><td>36575.12 -    48761.20</td></tr>\n",
       "<tr><td>163</td><td>8204.04</td><td>Ca I</td><td>E1</td><td>4s.5p-4s.15d</td><td>3Po-3D</td><td>2-1</td><td>None</td><td>36575.12 -    48760.88</td></tr>\n",
       "<tr><td>164</td><td>8204.54</td><td>Ca I]</td><td>E1</td><td>4s.5p-4s.15d</td><td>3Po-1D</td><td>2-2</td><td>None</td><td>36575.12 -    48760.14</td></tr>\n",
       "<tr><td>165</td><td>8208.57</td><td>Ca I</td><td>E1</td><td>4s.5p-4s.19s</td><td>1Po-1S</td><td>1-0</td><td>None</td><td>36731.61 -    48910.65</td></tr>\n",
       "<tr><td>166</td><td>8209.03</td><td>O II</td><td>E1</td><td>2s2.2p2.(3P).4d-2s2.2p2.(1D).4p</td><td>2P-2Po</td><td>1/2-1/2</td><td>5.58E+05</td><td>255281.93 -   267460.28</td></tr>\n",
       "<tr><td>167</td><td>8210.715</td><td>N I</td><td>E1</td><td>2s2.2p2.(3P).3s-2s2.2p2.(3P).3p</td><td>4P-4Po</td><td>3/2-3/2</td><td>3.15E+06</td><td>83317.83 -    95493.69</td></tr>\n",
       "<tr><td>168</td><td>8211.551</td><td>Si I</td><td>E1</td><td>3s.3p3-3s2.3p.5p</td><td>3Do-3P</td><td>2-2</td><td>7.84E+04</td><td>45293.62 -    57468.24</td></tr>\n",
       "<tr><td>169</td><td>8211.98</td><td>Ca I]</td><td>E1</td><td>4s.5p-4s.19s</td><td>1Po-3S</td><td>1-1</td><td>None</td><td>36731.61 -    48905.60</td></tr>\n",
       "<tr><td>170</td><td>8212.7</td><td>Si II]</td><td>E1</td><td>3s2.(1S).5d-3s.3p.(3Po).3d</td><td>2D-4Po</td><td>3/2-5/2</td><td>None</td><td>112394.56 -   124567.40</td></tr>\n",
       "<tr><td>171</td><td>8212.8</td><td>Si II]</td><td>E1</td><td>3s2.(1S).5d-3s.3p.(3Po).3d</td><td>2D-4Po</td><td>5/2-5/2</td><td>None</td><td>112394.72 -   124567.40</td></tr>\n",
       "<tr><td>172</td><td>8214.5</td><td>C II</td><td>E1</td><td>2s2.5g-2s2.9h</td><td>2G-2Ho</td><td>*-*</td><td>None</td><td>179073.05 -   191243.30</td></tr>\n",
       "<tr><td>173</td><td>8214.748</td><td>Si I</td><td>E1</td><td>3s2.3p.3d-3s2.3p.(2Po&lt;1/2&gt;).6f</td><td>3Po-1/2[5/2]</td><td>2-2</td><td>None</td><td>50499.84 -    62669.73</td></tr>\n",
       "<tr><td>174</td><td>8215.128</td><td>Si I</td><td>E1</td><td>3s2.3p.3d-3s2.3p.(2Po&lt;1/2&gt;).6f</td><td>3Po-1/2[5/2]</td><td>2-3</td><td>None</td><td>50499.84 -    62669.16</td></tr>\n",
       "<tr><td>175</td><td>8215.2</td><td>N II</td><td>E1</td><td>2s2.2p.(2Po&lt;3/2&gt;).5f-2s2.2p.(2Po).9d</td><td>D[5/2]-3Po</td><td>3-2</td><td>None</td><td>221292.11 -   233461.20</td></tr>\n",
       "<tr><td>176</td><td>8215.9</td><td>N II</td><td>E1</td><td>2s2.2p.(2Po&lt;3/2&gt;).5f-2s2.2p.(2Po).9d</td><td>D[5/2]-1Po</td><td>2-1</td><td>None</td><td>221296.04 -   233464.20</td></tr>\n",
       "<tr><td>177</td><td>8216.032</td><td>Si I</td><td>E1</td><td>3s2.3p.3d-3s2.3p.(2Po&lt;1/2&gt;).6f</td><td>3Po-1/2[7/2]</td><td>2-3</td><td>None</td><td>50499.84 -    62667.82</td></tr>\n",
       "<tr><td>178</td><td>8216.336</td><td>N I</td><td>E1</td><td>2s2.2p2.(3P).3s-2s2.2p2.(3P).3p</td><td>4P-4Po</td><td>5/2-5/2</td><td>1.65E+07</td><td>83364.62 -    95532.15</td></tr>\n",
       "<tr><td>179</td><td>8217.9</td><td>N II</td><td>E1</td><td>2s2.2p.(2Po&lt;3/2&gt;).5f-2s2.2p.(2Po).9d</td><td>D[5/2]-3Po</td><td>2-2</td><td>None</td><td>221296.04 -   233461.20</td></tr>\n",
       "<tr><td>180</td><td>8219.21</td><td>Ca I]</td><td>E1</td><td>4s.5p-4s.16s</td><td>3Po-1S</td><td>1-0</td><td>None</td><td>36554.75 -    48718.02</td></tr>\n",
       "<tr><td>181</td><td>8220.1</td><td>N II</td><td>E1</td><td>2s2.2p.(2Po&lt;1/2&gt;).5f-2s2.2p.(2Po).9d</td><td>F[5/2]-1Do</td><td>3-2</td><td>None</td><td>221054.30 -   233216.20</td></tr>\n",
       "<tr><td>182</td><td>8220.2</td><td>N II</td><td>E1</td><td>2s2.2p.(2Po&lt;3/2&gt;).5f-2s2.2p.(2Po).9d</td><td>D[5/2]-3Po</td><td>2-*</td><td>None</td><td>221296.04 -   233457.80</td></tr>\n",
       "<tr><td>183</td><td>8220.66</td><td>Ca I</td><td>E1</td><td>4s.5p-4s.16s</td><td>3Po-3S</td><td>0-1</td><td>None</td><td>36547.69 -    48708.82</td></tr>\n",
       "<tr><td>184</td><td>8220.71</td><td>N II</td><td>E1</td><td>2s2.2p.(2Po).5p-2s.2p2.(4P).3p</td><td>3D-3Do</td><td>3-3</td><td>3.24E+05</td><td>217209.34 -   229370.40</td></tr>\n",
       "<tr><td>185</td><td>8221.07</td><td>Si I]</td><td>E1</td><td>3s2.3p.4p-3s2.3p.6d</td><td>1D-3Fo</td><td>2-2</td><td>None</td><td>50189.39 -    62349.92</td></tr>\n",
       "<tr><td>186</td><td>8221.17</td><td>O II]</td><td>E1</td><td>2s2.2p2.(3P).4d-2s2.2p2.(1D).4p</td><td>4F-2Do</td><td>7/2-5/2</td><td>None</td><td>254480.20 -   266640.58</td></tr>\n",
       "<tr><td>187</td><td>8221.8</td><td>N II</td><td>E1</td><td>2s2.2p.(2Po&lt;1/2&gt;).5f-2s2.2p.(2Po).9d</td><td>F[5/2]-1Do</td><td>2-2</td><td>None</td><td>221056.81 -   233216.20</td></tr>\n",
       "</table><style>table.dataTable {clear: both; width: auto !important; margin: 0 !important;}\n",
       ".dataTables_info, .dataTables_length, .dataTables_filter, .dataTables_paginate{\n",
       "display: inline-block; margin-right: 1em; }\n",
       ".paginate_button { margin-right: 5px; }\n",
       "</style>\n",
       "<script>\n",
       "\n",
       "var astropy_sort_num = function(a, b) {\n",
       "    var a_num = parseFloat(a);\n",
       "    var b_num = parseFloat(b);\n",
       "\n",
       "    if (isNaN(a_num) && isNaN(b_num))\n",
       "        return ((a < b) ? -1 : ((a > b) ? 1 : 0));\n",
       "    else if (!isNaN(a_num) && !isNaN(b_num))\n",
       "        return ((a_num < b_num) ? -1 : ((a_num > b_num) ? 1 : 0));\n",
       "    else\n",
       "        return isNaN(a_num) ? -1 : 1;\n",
       "}\n",
       "\n",
       "require.config({paths: {\n",
       "    datatables: 'https://cdn.datatables.net/1.10.12/js/jquery.dataTables.min'\n",
       "}});\n",
       "require([\"datatables\"], function(){\n",
       "    console.log(\"$('#table140153697138192-482097').dataTable()\");\n",
       "    \n",
       "jQuery.extend( jQuery.fn.dataTableExt.oSort, {\n",
       "    \"optionalnum-asc\": astropy_sort_num,\n",
       "    \"optionalnum-desc\": function (a,b) { return -astropy_sort_num(a, b); }\n",
       "});\n",
       "\n",
       "    $('#table140153697138192-482097').dataTable({\n",
       "        order: [],\n",
       "        pageLength: 50,\n",
       "        lengthMenu: [[10, 25, 50, 100, 500, 1000, -1], [10, 25, 50, 100, 500, 1000, 'All']],\n",
       "        pagingType: \"full_numbers\",\n",
       "        columnDefs: [{targets: [0, 1], type: \"optionalnum\"}]\n",
       "    });\n",
       "});\n",
       "</script>\n"
      ],
      "text/plain": [
       "<IPython.core.display.HTML object>"
      ]
     },
     "execution_count": 68,
     "metadata": {},
     "output_type": "execute_result"
    }
   ],
   "source": [
    "wavelength_range = (8152 * u.Angstrom, 70 * u.Angstrom)\n",
    "ionlist = \"\\n\".join([\n",
    "    \"N I\", \"N II\", \n",
    "    \"C I\", \"C II\", \n",
    "    \"O I\", \"O II\", \n",
    "    \"Si I\", \"Si II\", \n",
    "    \"Ca I\", \"Ca II\", \n",
    "])\n",
    "\n",
    "res = AtomicLineList.query_object(\n",
    "    wavelength_range=wavelength_range,\n",
    "    wavelength_type='Air',\n",
    "    #lower_level_energy_range=3 * u.eV,\n",
    "    #transitions=aa.Transition.nebular,\n",
    "    element_spectrum=ionlist,\n",
    "    #get_query_payload=True,\n",
    ")\n",
    "res.show_in_notebook()"
   ]
  },
  {
   "cell_type": "markdown",
   "id": "b034c39c-aaf6-49ee-8dce-86dec0679152",
   "metadata": {},
   "source": [
    "## Trying to find IDs for the lines"
   ]
  },
  {
   "cell_type": "markdown",
   "id": "638d5852-ea80-45f3-893f-cd6dd6278b71",
   "metadata": {},
   "source": [
    "First look for all the neutral lines of common elements that fall in the wavelength range where we see the lines.\n",
    "\n",
    "\n",
    "### Forbidden neutral lines of all the common elements\n",
    "\n",
    "Start off with just the forbidden lines, so we do not get too many. Also, impose an upper energy level cutoff of less than 4 eV, which would make sense if they wer excited collisionally."
   ]
  },
  {
   "cell_type": "code",
   "execution_count": 99,
   "id": "5e694783-6944-4c84-b98b-79f7333df92d",
   "metadata": {},
   "outputs": [
    {
     "name": "stderr",
     "output_type": "stream",
     "text": [
      "/Users/will/miniconda3/envs/py39/lib/python3.9/site-packages/astroquery/atomic/core.py:249: GuessedAtParserWarning: No parser was explicitly specified, so I'm using the best available HTML parser for this system (\"html5lib\"). This usually isn't a problem, but if you run this code on another system, or in a different virtual environment, it may use a different parser and behave differently.\n",
      "\n",
      "The code that caused this warning is on line 249 of the file /Users/will/miniconda3/envs/py39/lib/python3.9/site-packages/astroquery/atomic/core.py. To get rid of this warning, pass the additional argument 'features=\"html5lib\"' to the BeautifulSoup constructor.\n",
      "\n",
      "  data = StringIO(BeautifulSoup(response.text, 'html5').find('pre').text.strip())\n"
     ]
    }
   ],
   "source": [
    "wavelength_range = (\n",
    "    8100 * u.Angstrom, 9200 * u.Angstrom\n",
    ")\n",
    "elements = \"\\n\".join(\n",
    "    [\n",
    "        \"C\", \"N\", \"O\",\n",
    "        \"Mg\", \"Ca\", \"Na\", \n",
    "        \"S\", \"Si\", \"P\",\n",
    "        \"F\", \"Cl\",\n",
    "        \"Ar\", \"Xe\",\n",
    "        \"Fe\", \"Ni\", \"Co\",\n",
    "    ]\n",
    ")\n",
    "res = AtomicLineList.query_object(\n",
    "    wavelength_range=wavelength_range,\n",
    "    wavelength_type='Air',\n",
    "    upper_level_energy_range=10 * u.eV,\n",
    "    element_spectrum=elements,\n",
    "    transitions=aa.Transition.nebular,\n",
    ")"
   ]
  },
  {
   "cell_type": "markdown",
   "id": "4bb747ef-f0cb-4d4e-ad50-15805873eec6",
   "metadata": {},
   "source": [
    "Add a new column that gives the ion stage: I, II, III, IV, etc"
   ]
  },
  {
   "cell_type": "code",
   "execution_count": 100,
   "id": "7c11d12b-14ae-4ac4-a661-6afd2f1920cf",
   "metadata": {},
   "outputs": [],
   "source": [
    "res[\"stage\"] = [s.strip(\"[]\").split()[-1] for s in res[\"SPECTRUM\"]]"
   ]
  },
  {
   "cell_type": "markdown",
   "id": "05e0ce24-3621-4d88-86a6-6d260c395ab1",
   "metadata": {},
   "source": [
    "And use it to select just the neutral ions, since the API does not allow this to be done on the query. "
   ]
  },
  {
   "cell_type": "code",
   "execution_count": 101,
   "id": "f665ea1d-33cd-4e74-ac01-a87d1120dc96",
   "metadata": {},
   "outputs": [
    {
     "data": {
      "text/html": [
       "<i>Table length=37</i>\n",
       "<table id=\"table140153686906000-940310\" class=\"table-striped table-bordered table-condensed\">\n",
       "<thead><tr><th>idx</th><th>LAMBDA AIR ANG</th><th>SPECTRUM</th><th>TT</th><th>CONFIGURATION</th><th>TERM</th><th>J J</th><th>A_ki</th><th>LEVEL ENERGY  CM 1</th><th>stage</th></tr></thead>\n",
       "<tr><td>0</td><td>8109.43</td><td>[Co I]</td><td>E2</td><td>3d8.(3F).4s-3d8.(1D).4s</td><td>b4F-a2D</td><td>7/2-3/2</td><td>None</td><td>4142.66 -    16470.60</td><td>I</td></tr>\n",
       "<tr><td>1</td><td>8111.2</td><td>[Co I]</td><td>M1</td><td>3d8.(3F).4s-3d7.4s2</td><td>b4F-a2G</td><td>7/2-9/2</td><td>None</td><td>4142.66 -    16467.90</td><td>I</td></tr>\n",
       "<tr><td>2</td><td>8111.975</td><td>[Ni I]</td><td>M1</td><td>3d9.(2D).4s-3d8.(3P).4s2</td><td>1D-3P</td><td>2-1</td><td>None</td><td>3409.94 -    15734.00</td><td>I</td></tr>\n",
       "<tr><td>3</td><td>8151.3424</td><td>[Fe I]</td><td>M1</td><td>3d6.4s2-3d7.(4F).4s</td><td>a5D-a3F</td><td>2-2</td><td>None</td><td>704.01 -    12968.55</td><td>I</td></tr>\n",
       "<tr><td>4</td><td>8176.4</td><td>[Co I]</td><td>E2</td><td>3d7.4s2-3d7.4s2</td><td>a4F-a4P</td><td>3/2-3/2</td><td>None</td><td>1809.33 -    14036.28</td><td>I</td></tr>\n",
       "<tr><td>5</td><td>8194.531</td><td>[Ni I]</td><td>M1</td><td>3d9.(2D).4s-3d8.(3P).4s2</td><td>1D-3P</td><td>2-2</td><td>None</td><td>3409.94 -    15609.84</td><td>I</td></tr>\n",
       "<tr><td>6</td><td>8201.74</td><td>[Ni I]</td><td>M1</td><td>3d8.(3F).4s2-3d8.(1D).4s2</td><td>3F-1D</td><td>3-2</td><td>None</td><td>1332.16 -    13521.35</td><td>I</td></tr>\n",
       "<tr><td>7</td><td>8222.88</td><td>[Co I]</td><td>E2</td><td>3d8.(3F).4s-3d7.4s2</td><td>b4F-a2G</td><td>3/2-7/2</td><td>None</td><td>5075.83 -    17233.68</td><td>I</td></tr>\n",
       "<tr><td>8</td><td>8231.5783</td><td>[Fe I]</td><td>M1</td><td>3d6.4s2-3d7.(4F).4s</td><td>a5D-a3F</td><td>3-3</td><td>None</td><td>415.93 -    12560.93</td><td>I</td></tr>\n",
       "<tr><td>9</td><td>8270.41</td><td>[Co I]</td><td>M1</td><td>3d8.(3F).4s-3d8.(1D).4s</td><td>b4F-a2D</td><td>5/2-5/2</td><td>None</td><td>4690.18 -    16778.16</td><td>I</td></tr>\n",
       "<tr><td>10</td><td>8275.5825</td><td>[Fe I]</td><td>M1</td><td>3d6.4s2-3d7.(4F).4s</td><td>a5D-a3F</td><td>1-2</td><td>None</td><td>888.13 -    12968.55</td><td>I</td></tr>\n",
       "<tr><td>11</td><td>8303.44</td><td>[Co I]</td><td>E2</td><td>3d8.(3F).4s-3d7.4s2</td><td>a2F-b2P</td><td>5/2-3/2</td><td>None</td><td>8460.81 -    20500.71</td><td>I</td></tr>\n",
       "<tr><td>12</td><td>8337.6589</td><td>[Fe I]</td><td>E2</td><td>3d6.4s2-3d7.(4F).4s</td><td>a5D-a3F</td><td>0-2</td><td>None</td><td>978.07 -    12968.55</td><td>I</td></tr>\n",
       "<tr><td>13</td><td>8340.64</td><td>[Co I]</td><td>E2</td><td>3d7.4s2-3d7.4s2</td><td>a4F-a4P</td><td>3/2-5/2</td><td>None</td><td>1809.33 -    13795.52</td><td>I</td></tr>\n",
       "<tr><td>14</td><td>8347.5733</td><td>[Fe I]</td><td>M1</td><td>3d6.4s2-3d7.(4F).4s</td><td>a5D-a3F</td><td>4-4</td><td>None</td><td>0.00 -    11976.24</td><td>I</td></tr>\n",
       "<tr><td>15</td><td>8431.5723</td><td>[Fe I]</td><td>M1</td><td>3d6.4s2-3d7.(4F).4s</td><td>a5D-a3F</td><td>2-3</td><td>None</td><td>704.01 -    12560.93</td><td>I</td></tr>\n",
       "<tr><td>16</td><td>8466.322</td><td>[Ni I]</td><td>M1</td><td>3d9.(2D).4s-3d8.(1D).4s2</td><td>3D-1D</td><td>1-2</td><td>None</td><td>1713.09 -    13521.35</td><td>I</td></tr>\n",
       "<tr><td>17</td><td>8486.33</td><td>[Co I]</td><td>M1</td><td>3d8.(3F).4s-3d8.(1D).4s</td><td>b4F-a2D</td><td>5/2-3/2</td><td>None</td><td>4690.18 -    16470.60</td><td>I</td></tr>\n",
       "<tr><td>18</td><td>8488.28</td><td>[Co I]</td><td>E2</td><td>3d8.(3F).4s-3d7.4s2</td><td>b4F-a2G</td><td>5/2-9/2</td><td>None</td><td>4690.18 -    16467.90</td><td>I</td></tr>\n",
       "<tr><td>19</td><td>8542.96</td><td>[Co I]</td><td>M1</td><td>3d8.(3F).4s-3d8.(1D).4s</td><td>b4F-a2D</td><td>3/2-5/2</td><td>None</td><td>5075.83 -    16778.16</td><td>I</td></tr>\n",
       "<tr><td>20</td><td>8543.77</td><td>[Co I]</td><td>E2</td><td>3d8.(3F).4s-3d8.(3P).4s</td><td>b4F-b4P</td><td>9/2-5/2</td><td>None</td><td>3482.82 -    15184.04</td><td>I</td></tr>\n",
       "<tr><td>21</td><td>8564.5712</td><td>[Fe I]</td><td>E2</td><td>3d6.4s2-3d7.(4F).4s</td><td>a5D-a3F</td><td>1-3</td><td>None</td><td>888.13 -    12560.93</td><td>I</td></tr>\n",
       "<tr><td>22</td><td>8595.07</td><td>[Co I]</td><td>E2</td><td>3d8.(3F).4s-3d8.(3P).4s</td><td>b4F-b4P</td><td>7/2-3/2</td><td>None</td><td>4142.66 -    15774.04</td><td>I</td></tr>\n",
       "<tr><td>23</td><td>8647.9154</td><td>[Fe I]</td><td>M1</td><td>3d6.4s2-3d7.(4F).4s</td><td>a5D-a3F</td><td>3-4</td><td>None</td><td>415.93 -    11976.24</td><td>I</td></tr>\n",
       "<tr><td>24</td><td>8689.11</td><td>[Co I]</td><td>E2</td><td>3d8.(3F).4s-3d8.(3P).4s</td><td>b4F-b4P</td><td>5/2-1/2</td><td>None</td><td>4690.18 -    16195.68</td><td>I</td></tr>\n",
       "<tr><td>25</td><td>8727.12</td><td>[C I]</td><td>E2</td><td>2s2.2p2-2s2.2p2</td><td>1D-1S</td><td>2-0</td><td>None</td><td>10192.63 -    21648.01</td><td>I</td></tr>\n",
       "<tr><td>26</td><td>8773.55</td><td>[Co I]</td><td>M1</td><td>3d8.(3F).4s-3d8.(1D).4s</td><td>b4F-a2D</td><td>3/2-3/2</td><td>None</td><td>5075.83 -    16470.60</td><td>I</td></tr>\n",
       "<tr><td>27</td><td>8787.54</td><td>[P I]</td><td>E2</td><td>3s2.3p3-3s2.3p3</td><td>4So-2Do</td><td>3/2-5/2</td><td>None</td><td>0.00 -    11376.63</td><td>I</td></tr>\n",
       "<tr><td>28</td><td>8799.61</td><td>[P I]</td><td>E2</td><td>3s2.3p3-3s2.3p3</td><td>4So-2Do</td><td>3/2-3/2</td><td>None</td><td>0.00 -    11361.02</td><td>I</td></tr>\n",
       "<tr><td>29</td><td>8832.353</td><td>[Ni I]</td><td>E2</td><td>3d9.(2D).4s-3d10</td><td>1D-1S</td><td>2-0</td><td>None</td><td>3409.94 -    14728.84</td><td>I</td></tr>\n",
       "<tr><td>30</td><td>8843.374</td><td>[Ni I]</td><td>M1</td><td>3d8.(3F).4s2-3d8.(1D).4s2</td><td>3F-1D</td><td>2-2</td><td>None</td><td>2216.55 -    13521.35</td><td>I</td></tr>\n",
       "<tr><td>31</td><td>8868.9231</td><td>[Fe I]</td><td>E2</td><td>3d6.4s2-3d7.(4F).4s</td><td>a5D-a3F</td><td>2-4</td><td>None</td><td>704.01 -    11976.24</td><td>I</td></tr>\n",
       "<tr><td>32</td><td>8990.46</td><td>[Co I]</td><td>E2</td><td>3d8.(3F).4s-3d8.(3P).4s</td><td>b4F-b4P</td><td>3/2-1/2</td><td>None</td><td>5075.83 -    16195.68</td><td>I</td></tr>\n",
       "<tr><td>33</td><td>9019.65</td><td>[Co I]</td><td>E2</td><td>3d8.(3F).4s-3d8.(3P).4s</td><td>b4F-b4P</td><td>5/2-3/2</td><td>None</td><td>4690.18 -    15774.04</td><td>I</td></tr>\n",
       "<tr><td>34</td><td>9054.35</td><td>[Co I]</td><td>E2</td><td>3d8.(3F).4s-3d8.(3P).4s</td><td>b4F-b4P</td><td>7/2-5/2</td><td>None</td><td>4142.66 -    15184.04</td><td>I</td></tr>\n",
       "<tr><td>35</td><td>9087.2406</td><td>[Fe I]</td><td>E2</td><td>3d7.(4F).4s-3d6.4s2</td><td>a5F-a3P</td><td>4-2</td><td>None</td><td>7376.76 -    18378.19</td><td>I</td></tr>\n",
       "<tr><td>36</td><td>9132.28</td><td>[Co I]</td><td>E2</td><td>3d8.(3F).4s-3d8.(3P).4s</td><td>a2F-a2P</td><td>7/2-3/2</td><td>None</td><td>7442.41 -    18389.57</td><td>I</td></tr>\n",
       "</table><style>table.dataTable {clear: both; width: auto !important; margin: 0 !important;}\n",
       ".dataTables_info, .dataTables_length, .dataTables_filter, .dataTables_paginate{\n",
       "display: inline-block; margin-right: 1em; }\n",
       ".paginate_button { margin-right: 5px; }\n",
       "</style>\n",
       "<script>\n",
       "\n",
       "var astropy_sort_num = function(a, b) {\n",
       "    var a_num = parseFloat(a);\n",
       "    var b_num = parseFloat(b);\n",
       "\n",
       "    if (isNaN(a_num) && isNaN(b_num))\n",
       "        return ((a < b) ? -1 : ((a > b) ? 1 : 0));\n",
       "    else if (!isNaN(a_num) && !isNaN(b_num))\n",
       "        return ((a_num < b_num) ? -1 : ((a_num > b_num) ? 1 : 0));\n",
       "    else\n",
       "        return isNaN(a_num) ? -1 : 1;\n",
       "}\n",
       "\n",
       "require.config({paths: {\n",
       "    datatables: 'https://cdn.datatables.net/1.10.12/js/jquery.dataTables.min'\n",
       "}});\n",
       "require([\"datatables\"], function(){\n",
       "    console.log(\"$('#table140153686906000-940310').dataTable()\");\n",
       "    \n",
       "jQuery.extend( jQuery.fn.dataTableExt.oSort, {\n",
       "    \"optionalnum-asc\": astropy_sort_num,\n",
       "    \"optionalnum-desc\": function (a,b) { return -astropy_sort_num(a, b); }\n",
       "});\n",
       "\n",
       "    $('#table140153686906000-940310').dataTable({\n",
       "        order: [],\n",
       "        pageLength: 50,\n",
       "        lengthMenu: [[10, 25, 50, 100, 500, 1000, -1], [10, 25, 50, 100, 500, 1000, 'All']],\n",
       "        pagingType: \"full_numbers\",\n",
       "        columnDefs: [{targets: [0, 1], type: \"optionalnum\"}]\n",
       "    });\n",
       "});\n",
       "</script>\n"
      ],
      "text/plain": [
       "<IPython.core.display.HTML object>"
      ]
     },
     "execution_count": 101,
     "metadata": {},
     "output_type": "execute_result"
    }
   ],
   "source": [
    "res[res[\"stage\"]==\"I\"].show_in_notebook()"
   ]
  },
  {
   "cell_type": "markdown",
   "id": "a843fdf1-d0c7-4dfa-b0a3-fdbe2bd795e0",
   "metadata": {},
   "source": [
    "#### Confident ID: [Fe I] 8151.3424\n",
    "\n",
    "I am pretty sure of this one. "
   ]
  },
  {
   "cell_type": "markdown",
   "id": "d6c324ee-a751-499e-9228-a1435141fc2b",
   "metadata": {},
   "source": [
    "#### Other potential matches\n",
    "\n",
    "So there are some partial overlaps with the observed wavelengths here. \n",
    "\n",
    "For instance, 9020 might be [Co I] 9019.65\n",
    "\n",
    "But most of the wavelengths are misses.\n",
    "\n"
   ]
  },
  {
   "cell_type": "code",
   "execution_count": 106,
   "id": "ad6e9a4b-5b08-41d6-b9e3-d54c4d66a454",
   "metadata": {},
   "outputs": [
    {
     "data": {
      "text/latex": [
       "$8065.5439 \\; \\mathrm{\\frac{1}{cm}}$"
      ],
      "text/plain": [
       "<Quantity 8065.54393735 1 / cm>"
      ]
     },
     "execution_count": 106,
     "metadata": {},
     "output_type": "execute_result"
    }
   ],
   "source": [
    "(1 * u.eV).to(1/u.cm, equivalencies=u.equivalencies.spectral())"
   ]
  },
  {
   "cell_type": "markdown",
   "id": "9efaaac6-af2f-44dc-9ec0-82509a4e4791",
   "metadata": {},
   "source": [
    "### Permitted lines of selected neutral atoms\n",
    "\n",
    "Next thing to try is to expand search to include permitted lines as well as forbidden ones. If they are not from autoionizing levels, then they should have upper level energies less than the ionization potential of the neutral atom, which for these elements is about 6 eV.\n",
    "\n",
    "I have put a limit of 4 eV to start with, so I do not get too many hits. \n",
    "\n",
    "The excitation could be collisions, fluorescence, or recombination.  In the case of collisions, the upper level cannot be very high since w have a very low T, probably hundreds of K rather than thousands. \n",
    "\n",
    "But for the C I line, recombinations are thought to dominate. If the same is true of the other lines, then the brightness will be proportional to the abundance, more or less I should think. \n",
    "\n",
    "The C I 8727 line is not a resonance line, and is 10 times weaker than C I 9850 (which is), according to Cesarsky 1982A&A...113L...7C\n",
    "\n",
    "This means there is room for observable recombination lines from less abundant elements, but they will be most likely resonant lines since those are the ones that capture the greatest fraction of the total recombination rate. "
   ]
  },
  {
   "cell_type": "code",
   "execution_count": 111,
   "id": "e6f79401-bb2d-44c6-b807-b495fbe2f71a",
   "metadata": {},
   "outputs": [
    {
     "name": "stderr",
     "output_type": "stream",
     "text": [
      "/Users/will/miniconda3/envs/py39/lib/python3.9/site-packages/astroquery/atomic/core.py:249: GuessedAtParserWarning: No parser was explicitly specified, so I'm using the best available HTML parser for this system (\"html5lib\"). This usually isn't a problem, but if you run this code on another system, or in a different virtual environment, it may use a different parser and behave differently.\n",
      "\n",
      "The code that caused this warning is on line 249 of the file /Users/will/miniconda3/envs/py39/lib/python3.9/site-packages/astroquery/atomic/core.py. To get rid of this warning, pass the additional argument 'features=\"html5lib\"' to the BeautifulSoup constructor.\n",
      "\n",
      "  data = StringIO(BeautifulSoup(response.text, 'html5').find('pre').text.strip())\n"
     ]
    }
   ],
   "source": [
    "res = AtomicLineList.query_object(\n",
    "    wavelength_range=wavelength_range,\n",
    "    wavelength_type='Air',\n",
    "    upper_level_energy_range=4 * u.eV,\n",
    "    element_spectrum=\"Fe\",\n",
    "    #transitions=aa.Transition.nebular,\n",
    ")\n",
    "res[\"stage\"] = [s.strip(\"[]\").split()[-1] for s in res[\"SPECTRUM\"]]"
   ]
  },
  {
   "cell_type": "code",
   "execution_count": 112,
   "id": "8d0e4a9a-2816-4240-86de-6a75ee70c541",
   "metadata": {},
   "outputs": [
    {
     "data": {
      "text/html": [
       "<i>Table length=39</i>\n",
       "<table id=\"table140153675130480-566127\" class=\"table-striped table-bordered table-condensed\">\n",
       "<thead><tr><th>idx</th><th>LAMBDA AIR ANG</th><th>SPECTRUM</th><th>TT</th><th>CONFIGURATION</th><th>TERM</th><th>J J</th><th>A_ki</th><th>LEVEL ENERGY  CM 1</th><th>stage</th></tr></thead>\n",
       "<tr><td>0</td><td>8151.3424</td><td>[Fe I]</td><td>M1</td><td>3d6.4s2-3d7.(4F).4s</td><td>a5D-a3F</td><td>2-2</td><td>None</td><td>704.01 -    12968.55</td><td>I</td></tr>\n",
       "<tr><td>1</td><td>8204.1023</td><td>Fe I]</td><td>E1</td><td>3d7.(4F).4s-3d6.(5D).4s.4p.(3Po)</td><td>a5F-z7Do</td><td>4-4</td><td>None</td><td>7376.76 -    19562.44</td><td>I</td></tr>\n",
       "<tr><td>2</td><td>8204.9366</td><td>Fe I]</td><td>E1</td><td>3d7.(4F).4s-3d6.(5D).4s.4p.(3Po)</td><td>a5F-z7Do</td><td>3-2</td><td>None</td><td>7728.06 -    19912.49</td><td>I</td></tr>\n",
       "<tr><td>3</td><td>8231.5783</td><td>[Fe I]</td><td>M1</td><td>3d6.4s2-3d7.(4F).4s</td><td>a5D-a3F</td><td>3-3</td><td>None</td><td>415.93 -    12560.93</td><td>I</td></tr>\n",
       "<tr><td>4</td><td>8239.1275</td><td>Fe I</td><td>E1</td><td>3d6.4s2-3d6.(5D).4s.4p.(3Po)</td><td>a3P-z3Do</td><td>1-2</td><td>None</td><td>19552.48 -    31686.35</td><td>I</td></tr>\n",
       "<tr><td>5</td><td>8275.5825</td><td>[Fe I]</td><td>M1</td><td>3d6.4s2-3d7.(4F).4s</td><td>a5D-a3F</td><td>1-2</td><td>None</td><td>888.13 -    12968.55</td><td>I</td></tr>\n",
       "<tr><td>6</td><td>8307.6091</td><td>Fe I]</td><td>E1</td><td>3d7.(4F).4s-3d6.(5D).4s.4p.(3Po)</td><td>a5F-z7Do</td><td>2-1</td><td>None</td><td>7985.78 -    20019.63</td><td>I</td></tr>\n",
       "<tr><td>7</td><td>8310.978</td><td>Fe I]</td><td>E1</td><td>3d7.(4F).4s-3d6.(5D).4s.4p.(3Po)</td><td>a5F-z7Do</td><td>3-3</td><td>None</td><td>7728.06 -    19757.03</td><td>I</td></tr>\n",
       "<tr><td>8</td><td>8327.0557</td><td>Fe I</td><td>E1</td><td>3d7.(4P).4s-3d6.(5D).4s.4p.(3Po)</td><td>a5P-z5Po</td><td>2-1</td><td>None</td><td>17726.99 -    29732.73</td><td>I</td></tr>\n",
       "<tr><td>9</td><td>8337.6589</td><td>[Fe I]</td><td>E2</td><td>3d6.4s2-3d7.(4F).4s</td><td>a5D-a3F</td><td>0-2</td><td>None</td><td>978.07 -    12968.55</td><td>I</td></tr>\n",
       "<tr><td>10</td><td>8347.5733</td><td>[Fe I]</td><td>M1</td><td>3d6.4s2-3d7.(4F).4s</td><td>a5D-a3F</td><td>4-4</td><td>None</td><td>0.00 -    11976.24</td><td>I</td></tr>\n",
       "<tr><td>11</td><td>8349.0456</td><td>Fe I]</td><td>E1</td><td>3d7.(4F).4s-3d6.(5D).4s.4p.(3Po)</td><td>a5F-z7Do</td><td>4-5</td><td>None</td><td>7376.76 -    19350.89</td><td>I</td></tr>\n",
       "<tr><td>12</td><td>8382.2383</td><td>Fe I]</td><td>E1</td><td>3d7.(4F).4s-3d6.(5D).4s.4p.(3Po)</td><td>a5F-z7Do</td><td>2-2</td><td>None</td><td>7985.78 -    19912.49</td><td>I</td></tr>\n",
       "<tr><td>13</td><td>8387.7718</td><td>Fe I</td><td>E1</td><td>3d7.(4P).4s-3d6.(5D).4s.4p.(3Po)</td><td>a5P-z5Po</td><td>3-2</td><td>None</td><td>17550.18 -    29469.02</td><td>I</td></tr>\n",
       "<tr><td>14</td><td>8401.4001</td><td>Fe I</td><td>E1</td><td>3d6.4s2-3d6.(5D).4s.4p.(3Po)</td><td>a3P-z3Do</td><td>0-1</td><td>None</td><td>20037.81 -    31937.32</td><td>I</td></tr>\n",
       "<tr><td>15</td><td>8425.8907</td><td>Fe I]</td><td>E1</td><td>3d7.(4F).4s-3d6.(5D).4s.4p.(3Po)</td><td>a5F-z7Do</td><td>1-1</td><td>None</td><td>8154.71 -    20019.63</td><td>I</td></tr>\n",
       "<tr><td>16</td><td>8431.5723</td><td>[Fe I]</td><td>M1</td><td>3d6.4s2-3d7.(4F).4s</td><td>a5D-a3F</td><td>2-3</td><td>None</td><td>704.01 -    12560.93</td><td>I</td></tr>\n",
       "<tr><td>17</td><td>8447.6363</td><td>Fe I]</td><td>E1</td><td>3d7.(4F).4s-3d6.(5D).4s.4p.(3Po)</td><td>a5F-z7Do</td><td>3-4</td><td>None</td><td>7728.06 -    19562.44</td><td>I</td></tr>\n",
       "<tr><td>18</td><td>8468.4068</td><td>Fe I</td><td>E1</td><td>3d7.(4P).4s-3d6.(5D).4s.4p.(3Po)</td><td>a5P-z5Po</td><td>1-1</td><td>None</td><td>17927.38 -    29732.73</td><td>I</td></tr>\n",
       "<tr><td>19</td><td>8492.9432</td><td>Fe I]</td><td>E1</td><td>3d7.(4F).4s-3d6.(5D).4s.4p.(3Po)</td><td>a5F-z7Do</td><td>2-3</td><td>None</td><td>7985.78 -    19757.03</td><td>I</td></tr>\n",
       "<tr><td>20</td><td>8502.6701</td><td>Fe I]</td><td>E1</td><td>3d7.(4F).4s-3d6.(5D).4s.4p.(3Po)</td><td>a5F-z7Do</td><td>1-2</td><td>None</td><td>8154.71 -    19912.49</td><td>I</td></tr>\n",
       "<tr><td>21</td><td>8514.0721</td><td>Fe I</td><td>E1</td><td>3d7.(4P).4s-3d6.(5D).4s.4p.(3Po)</td><td>a5P-z5Po</td><td>2-2</td><td>None</td><td>17726.99 -    29469.02</td><td>I</td></tr>\n",
       "<tr><td>22</td><td>8564.5712</td><td>[Fe I]</td><td>E2</td><td>3d6.4s2-3d7.(4F).4s</td><td>a5D-a3F</td><td>1-3</td><td>None</td><td>888.13 -    12560.93</td><td>I</td></tr>\n",
       "<tr><td>23</td><td>8647.9154</td><td>[Fe I]</td><td>M1</td><td>3d6.4s2-3d7.(4F).4s</td><td>a5D-a3F</td><td>3-4</td><td>None</td><td>415.93 -    11976.24</td><td>I</td></tr>\n",
       "<tr><td>24</td><td>8661.9</td><td>Fe I</td><td>E1</td><td>3d7.(4P).4s-3d6.(5D).4s.4p.(3Po)</td><td>a5P-z5Po</td><td>1-2</td><td>None</td><td>17927.38 -    29469.02</td><td>I</td></tr>\n",
       "<tr><td>25</td><td>8688.624</td><td>Fe I</td><td>E1</td><td>3d7.(4P).4s-3d6.(5D).4s.4p.(3Po)</td><td>a5P-z5Po</td><td>3-3</td><td>None</td><td>17550.18 -    29056.32</td><td>I</td></tr>\n",
       "<tr><td>26</td><td>8804.6251</td><td>Fe I]</td><td>E1</td><td>3d6.4s2-3d6.(5D).4s.4p.(3Po)</td><td>a3P-z5Po</td><td>2-1</td><td>None</td><td>18378.19 -    29732.73</td><td>I</td></tr>\n",
       "<tr><td>27</td><td>8824.2203</td><td>Fe I</td><td>E1</td><td>3d7.(4P).4s-3d6.(5D).4s.4p.(3Po)</td><td>a5P-z5Po</td><td>2-3</td><td>None</td><td>17726.99 -    29056.32</td><td>I</td></tr>\n",
       "<tr><td>28</td><td>8868.9231</td><td>[Fe I]</td><td>E2</td><td>3d6.4s2-3d7.(4F).4s</td><td>a5D-a3F</td><td>2-4</td><td>None</td><td>704.01 -    11976.24</td><td>I</td></tr>\n",
       "<tr><td>29</td><td>8878.9448</td><td>Fe I</td><td>E1</td><td>3d6.4s2-3d6.(5D).4s.4p.(3Po)</td><td>b3F-z3Fo</td><td>3-2</td><td>None</td><td>20874.48 -    32133.99</td><td>I</td></tr>\n",
       "<tr><td>30</td><td>8954.9365</td><td>Fe I</td><td>E1</td><td>3d6.4s2-3d6.(5D).4s.4p.(3Po)</td><td>b3F-z3Fo</td><td>4-3</td><td>None</td><td>20641.11 -    31805.07</td><td>I</td></tr>\n",
       "<tr><td>31</td><td>8978.4695</td><td>Fe I]</td><td>E1</td><td>3d7.(4F).4s-3d6.(5D).4s.4p.(3Po)</td><td>a3F-z7Fo</td><td>4-3</td><td>None</td><td>11976.24 -    23110.94</td><td>I</td></tr>\n",
       "<tr><td>32</td><td>9010.593</td><td>Fe I</td><td>E1</td><td>3d6.4s2-3d6.(5D).4s.4p.(3Po)</td><td>b3F-z3Fo</td><td>2-2</td><td>None</td><td>21038.99 -    32133.99</td><td>I</td></tr>\n",
       "<tr><td>33</td><td>9013.9776</td><td>Fe I]</td><td>E1</td><td>3d6.4s2-3d6.(5D).4s.4p.(3Po)</td><td>a3P-z5Po</td><td>2-2</td><td>None</td><td>18378.19 -    29469.02</td><td>I</td></tr>\n",
       "<tr><td>34</td><td>9071.5628</td><td>Fe I]</td><td>E1</td><td>3d7.(4F).4s-3d6.(5D).4s.4p.(3Po)</td><td>a3F-z7Fo</td><td>4-4</td><td>None</td><td>11976.24 -    22996.67</td><td>I</td></tr>\n",
       "<tr><td>35</td><td>9087.2406</td><td>[Fe I]</td><td>E2</td><td>3d7.(4F).4s-3d6.4s2</td><td>a5F-a3P</td><td>4-2</td><td>None</td><td>7376.76 -    18378.19</td><td>I</td></tr>\n",
       "<tr><td>36</td><td>9146.1285</td><td>Fe I</td><td>E1</td><td>3d6.4s2-3d6.(5D).4s.4p.(3Po)</td><td>b3F-z3Fo</td><td>3-3</td><td>None</td><td>20874.48 -    31805.07</td><td>I</td></tr>\n",
       "<tr><td>37</td><td>9173.1944</td><td>Fe I</td><td>E1</td><td>3d6.4s2-3d6.(5D).4s.4p.(3Po)</td><td>b3F-z3Do</td><td>2-1</td><td>None</td><td>21038.99 -    31937.32</td><td>I</td></tr>\n",
       "<tr><td>38</td><td>9197.4219</td><td>Fe I]</td><td>E1</td><td>3d7.(4F).4s-3d6.(5D).4s.4p.(3Po)</td><td>a3F-z7Fo</td><td>4-5</td><td>None</td><td>11976.24 -    22845.87</td><td>I</td></tr>\n",
       "</table><style>table.dataTable {clear: both; width: auto !important; margin: 0 !important;}\n",
       ".dataTables_info, .dataTables_length, .dataTables_filter, .dataTables_paginate{\n",
       "display: inline-block; margin-right: 1em; }\n",
       ".paginate_button { margin-right: 5px; }\n",
       "</style>\n",
       "<script>\n",
       "\n",
       "var astropy_sort_num = function(a, b) {\n",
       "    var a_num = parseFloat(a);\n",
       "    var b_num = parseFloat(b);\n",
       "\n",
       "    if (isNaN(a_num) && isNaN(b_num))\n",
       "        return ((a < b) ? -1 : ((a > b) ? 1 : 0));\n",
       "    else if (!isNaN(a_num) && !isNaN(b_num))\n",
       "        return ((a_num < b_num) ? -1 : ((a_num > b_num) ? 1 : 0));\n",
       "    else\n",
       "        return isNaN(a_num) ? -1 : 1;\n",
       "}\n",
       "\n",
       "require.config({paths: {\n",
       "    datatables: 'https://cdn.datatables.net/1.10.12/js/jquery.dataTables.min'\n",
       "}});\n",
       "require([\"datatables\"], function(){\n",
       "    console.log(\"$('#table140153675130480-566127').dataTable()\");\n",
       "    \n",
       "jQuery.extend( jQuery.fn.dataTableExt.oSort, {\n",
       "    \"optionalnum-asc\": astropy_sort_num,\n",
       "    \"optionalnum-desc\": function (a,b) { return -astropy_sort_num(a, b); }\n",
       "});\n",
       "\n",
       "    $('#table140153675130480-566127').dataTable({\n",
       "        order: [],\n",
       "        pageLength: 50,\n",
       "        lengthMenu: [[10, 25, 50, 100, 500, 1000, -1], [10, 25, 50, 100, 500, 1000, 'All']],\n",
       "        pagingType: \"full_numbers\",\n",
       "        columnDefs: [{targets: [0, 1], type: \"optionalnum\"}]\n",
       "    });\n",
       "});\n",
       "</script>\n"
      ],
      "text/plain": [
       "<IPython.core.display.HTML object>"
      ]
     },
     "execution_count": 112,
     "metadata": {},
     "output_type": "execute_result"
    }
   ],
   "source": [
    "res[res[\"stage\"]==\"I\"].show_in_notebook()"
   ]
  },
  {
   "cell_type": "markdown",
   "id": "92433ece-d943-45fc-8c66-96e5dbadbd70",
   "metadata": {},
   "source": [
    "So that is with an upper limit of 4 eV for the energy, which gives 39 candidate lines of Fe I. If I use 7 eV instead, then I get 10 times as many lines. But then, the question is: why do we see only some of those (perhaps they vary greatly in strength, but the database does not have A values for the majority).\n",
    "\n",
    "This gives a potential match for the 9146 line of Fe I 9146.1285, but not for anything else. "
   ]
  },
  {
   "cell_type": "markdown",
   "id": "c25d4d0f-e701-4066-ab26-7eb1949677f3",
   "metadata": {},
   "source": [
    "We can try it again for the other likely elements.\n",
    "\n",
    "Try looking first at resonance lines of neutral atoms. I am restricting the lower energy level to less than 0.1 eV, so that will include the fine structure splitting of the ground configuration. \n"
   ]
  },
  {
   "cell_type": "code",
   "execution_count": 118,
   "id": "c5801140-95c6-4f7e-a00a-a3e698c24590",
   "metadata": {},
   "outputs": [
    {
     "name": "stderr",
     "output_type": "stream",
     "text": [
      "/Users/will/miniconda3/envs/py39/lib/python3.9/site-packages/astroquery/atomic/core.py:249: GuessedAtParserWarning: No parser was explicitly specified, so I'm using the best available HTML parser for this system (\"html5lib\"). This usually isn't a problem, but if you run this code on another system, or in a different virtual environment, it may use a different parser and behave differently.\n",
      "\n",
      "The code that caused this warning is on line 249 of the file /Users/will/miniconda3/envs/py39/lib/python3.9/site-packages/astroquery/atomic/core.py. To get rid of this warning, pass the additional argument 'features=\"html5lib\"' to the BeautifulSoup constructor.\n",
      "\n",
      "  data = StringIO(BeautifulSoup(response.text, 'html5').find('pre').text.strip())\n"
     ]
    }
   ],
   "source": [
    "res = AtomicLineList.query_object(\n",
    "    wavelength_range=wavelength_range,\n",
    "    wavelength_type='Air',\n",
    "    lower_level_energy_range=0.1 * u.eV,\n",
    "    #element_spectrum=\"Fe\",\n",
    "    #transitions=aa.Transition.nebular,\n",
    ")\n",
    "res[\"stage\"] = [s.strip(\"[]\").split()[-1] for s in res[\"SPECTRUM\"]]"
   ]
  },
  {
   "cell_type": "code",
   "execution_count": 119,
   "id": "3f0ca36b-f35b-4215-99b4-f6373a4cd320",
   "metadata": {
    "tags": []
   },
   "outputs": [
    {
     "data": {
      "text/html": [
       "<i>Table length=30</i>\n",
       "<table id=\"table140153682741376-3462\" class=\"table-striped table-bordered table-condensed\">\n",
       "<thead><tr><th>idx</th><th>LAMBDA AIR ANG</th><th>SPECTRUM</th><th>TT</th><th>CONFIGURATION</th><th>TERM</th><th>J J</th><th>A_ki</th><th>LEVEL ENERGY  CM 1</th><th>stage</th></tr></thead>\n",
       "<tr><td>0</td><td>8151.3424</td><td>[Fe I]</td><td>M1</td><td>3d6.4s2-3d7.(4F).4s</td><td>a5D-a3F</td><td>2-2</td><td>None</td><td>704.01 -    12968.55</td><td>I</td></tr>\n",
       "<tr><td>1</td><td>8231.5783</td><td>[Fe I]</td><td>M1</td><td>3d6.4s2-3d7.(4F).4s</td><td>a5D-a3F</td><td>3-3</td><td>None</td><td>415.93 -    12560.93</td><td>I</td></tr>\n",
       "<tr><td>2</td><td>8249.651</td><td>[Ti I]</td><td>E2</td><td>3d2.4s2-3d2.4s2</td><td>a3F-a1G</td><td>2-4</td><td>None</td><td>0.00 -    12118.39</td><td>I</td></tr>\n",
       "<tr><td>3</td><td>8347.5733</td><td>[Fe I]</td><td>M1</td><td>3d6.4s2-3d7.(4F).4s</td><td>a5D-a3F</td><td>4-4</td><td>None</td><td>0.00 -    11976.24</td><td>I</td></tr>\n",
       "<tr><td>4</td><td>8367.119</td><td>[Ti I]</td><td>M1</td><td>3d2.4s2-3d2.4s2</td><td>a3F-a1G</td><td>3-4</td><td>None</td><td>170.13 -    12118.39</td><td>I</td></tr>\n",
       "<tr><td>5</td><td>8431.5723</td><td>[Fe I]</td><td>M1</td><td>3d6.4s2-3d7.(4F).4s</td><td>a5D-a3F</td><td>2-3</td><td>None</td><td>704.01 -    12560.93</td><td>I</td></tr>\n",
       "<tr><td>6</td><td>8488.935</td><td>[Ti I]</td><td>E2</td><td>3d2.4s2-3d3.(4F).4s</td><td>a3F-b3F</td><td>2-4</td><td>None</td><td>0.00 -    11776.81</td><td>I</td></tr>\n",
       "<tr><td>7</td><td>8521.704</td><td>[Ti I]</td><td>M1</td><td>3d2.4s2-3d2.4s2</td><td>a3F-a1G</td><td>4-4</td><td>None</td><td>386.87 -    12118.39</td><td>I</td></tr>\n",
       "<tr><td>8</td><td>8588.851</td><td>[Ti I]</td><td>M1</td><td>3d2.4s2-3d3.(4F).4s</td><td>a3F-b3F</td><td>2-3</td><td>None</td><td>0.00 -    11639.80</td><td>I</td></tr>\n",
       "<tr><td>9</td><td>8610.69</td><td>[Sc I]</td><td>E2</td><td>3d.4s2-3d2.(3F).4s</td><td>2D-4F</td><td>3/2-7/2</td><td>None</td><td>0.00 -    11610.28</td><td>I</td></tr>\n",
       "<tr><td>10</td><td>8613.367</td><td>[Ti I]</td><td>M1</td><td>3d2.4s2-3d3.(4F).4s</td><td>a3F-b3F</td><td>3-4</td><td>None</td><td>170.13 -    11776.81</td><td>I</td></tr>\n",
       "<tr><td>11</td><td>8647.9154</td><td>[Fe I]</td><td>M1</td><td>3d6.4s2-3d7.(4F).4s</td><td>a5D-a3F</td><td>3-4</td><td>None</td><td>415.93 -    11976.24</td><td>I</td></tr>\n",
       "<tr><td>12</td><td>8649.87</td><td>[Sc I]</td><td>M1</td><td>3d.4s2-3d2.(3F).4s</td><td>2D-4F</td><td>3/2-5/2</td><td>None</td><td>0.00 -    11557.69</td><td>I</td></tr>\n",
       "<tr><td>13</td><td>8669.322</td><td>[Ti I]</td><td>M1</td><td>3d2.4s2-3d3.(4F).4s</td><td>a3F-b3F</td><td>2-2</td><td>None</td><td>0.00 -    11531.76</td><td>I</td></tr>\n",
       "<tr><td>14</td><td>8678.18</td><td>[Sc I]</td><td>M1</td><td>3d.4s2-3d2.(3F).4s</td><td>2D-4F</td><td>3/2-3/2</td><td>None</td><td>0.00 -    11519.99</td><td>I</td></tr>\n",
       "<tr><td>15</td><td>8686.43</td><td>[Sc I]</td><td>E2</td><td>3d.4s2-3d2.(3F).4s</td><td>2D-4F</td><td>5/2-9/2</td><td>None</td><td>168.34 -    11677.38</td><td>I</td></tr>\n",
       "<tr><td>16</td><td>8716.251</td><td>[Ti I]</td><td>M1</td><td>3d2.4s2-3d3.(4F).4s</td><td>a3F-b3F</td><td>3-3</td><td>None</td><td>170.13 -    11639.80</td><td>I</td></tr>\n",
       "<tr><td>17</td><td>8737.38</td><td>[Sc I]</td><td>M1</td><td>3d.4s2-3d2.(3F).4s</td><td>2D-4F</td><td>5/2-7/2</td><td>None</td><td>168.34 -    11610.28</td><td>I</td></tr>\n",
       "<tr><td>18</td><td>8777.274</td><td>[Ti I]</td><td>M1</td><td>3d2.4s2-3d3.(4F).4s</td><td>a3F-b3F</td><td>4-4</td><td>None</td><td>386.87 -    11776.81</td><td>I</td></tr>\n",
       "<tr><td>19</td><td>8777.72</td><td>[Sc I]</td><td>M1</td><td>3d.4s2-3d2.(3F).4s</td><td>2D-4F</td><td>5/2-5/2</td><td>None</td><td>168.34 -    11557.69</td><td>I</td></tr>\n",
       "<tr><td>20</td><td>8787.54</td><td>[P I]</td><td>E2</td><td>3s2.3p3-3s2.3p3</td><td>4So-2Do</td><td>3/2-5/2</td><td>None</td><td>0.00 -    11376.63</td><td>I</td></tr>\n",
       "<tr><td>21</td><td>8799.14</td><td>[Ti I]</td><td>M1</td><td>3d2.4s2-3d3.(4F).4s</td><td>a3F-b3F</td><td>3-2</td><td>None</td><td>170.13 -    11531.76</td><td>I</td></tr>\n",
       "<tr><td>22</td><td>8799.61</td><td>[P I]</td><td>E2</td><td>3s2.3p3-3s2.3p3</td><td>4So-2Do</td><td>3/2-3/2</td><td>None</td><td>0.00 -    11361.02</td><td>I</td></tr>\n",
       "<tr><td>23</td><td>8806.87</td><td>[Sc I]</td><td>M1</td><td>3d.4s2-3d2.(3F).4s</td><td>2D-4F</td><td>5/2-3/2</td><td>None</td><td>168.34 -    11519.99</td><td>I</td></tr>\n",
       "<tr><td>24</td><td>8868.9231</td><td>[Fe I]</td><td>E2</td><td>3d6.4s2-3d7.(4F).4s</td><td>a5D-a3F</td><td>2-4</td><td>None</td><td>704.01 -    11976.24</td><td>I</td></tr>\n",
       "<tr><td>25</td><td>8884.135</td><td>[Ti I]</td><td>M1</td><td>3d2.4s2-3d3.(4F).4s</td><td>a3F-b3F</td><td>4-3</td><td>None</td><td>386.87 -    11639.80</td><td>I</td></tr>\n",
       "<tr><td>26</td><td>8924.077</td><td>[Cu I]</td><td>E2</td><td>3d10.(1S).4s-3d9.4s2</td><td>2S-2D</td><td>1/2-5/2</td><td>None</td><td>0.00 -    11202.57</td><td>I</td></tr>\n",
       "<tr><td>27</td><td>8970.262</td><td>[Ti I]</td><td>E2</td><td>3d2.4s2-3d3.(4F).4s</td><td>a3F-b3F</td><td>4-2</td><td>None</td><td>386.87 -    11531.76</td><td>I</td></tr>\n",
       "<tr><td>28</td><td>9118.92</td><td>[V I]</td><td>E2</td><td>3d3.4s2-3d3.4s2</td><td>a4F-a2G</td><td>5/2-9/2</td><td>None</td><td>137.38 -    11100.59</td><td>I</td></tr>\n",
       "<tr><td>29</td><td>9178.1</td><td>[V I]</td><td>E2</td><td>3d3.4s2-3d3.4s2</td><td>a4F-a2G</td><td>3/2-7/2</td><td>None</td><td>0.00 -    10892.51</td><td>I</td></tr>\n",
       "</table><style>table.dataTable {clear: both; width: auto !important; margin: 0 !important;}\n",
       ".dataTables_info, .dataTables_length, .dataTables_filter, .dataTables_paginate{\n",
       "display: inline-block; margin-right: 1em; }\n",
       ".paginate_button { margin-right: 5px; }\n",
       "</style>\n",
       "<script>\n",
       "\n",
       "var astropy_sort_num = function(a, b) {\n",
       "    var a_num = parseFloat(a);\n",
       "    var b_num = parseFloat(b);\n",
       "\n",
       "    if (isNaN(a_num) && isNaN(b_num))\n",
       "        return ((a < b) ? -1 : ((a > b) ? 1 : 0));\n",
       "    else if (!isNaN(a_num) && !isNaN(b_num))\n",
       "        return ((a_num < b_num) ? -1 : ((a_num > b_num) ? 1 : 0));\n",
       "    else\n",
       "        return isNaN(a_num) ? -1 : 1;\n",
       "}\n",
       "\n",
       "require.config({paths: {\n",
       "    datatables: 'https://cdn.datatables.net/1.10.12/js/jquery.dataTables.min'\n",
       "}});\n",
       "require([\"datatables\"], function(){\n",
       "    console.log(\"$('#table140153682741376-3462').dataTable()\");\n",
       "    \n",
       "jQuery.extend( jQuery.fn.dataTableExt.oSort, {\n",
       "    \"optionalnum-asc\": astropy_sort_num,\n",
       "    \"optionalnum-desc\": function (a,b) { return -astropy_sort_num(a, b); }\n",
       "});\n",
       "\n",
       "    $('#table140153682741376-3462').dataTable({\n",
       "        order: [],\n",
       "        pageLength: 50,\n",
       "        lengthMenu: [[10, 25, 50, 100, 500, 1000, -1], [10, 25, 50, 100, 500, 1000, 'All']],\n",
       "        pagingType: \"full_numbers\",\n",
       "        columnDefs: [{targets: [0, 1], type: \"optionalnum\"}]\n",
       "    });\n",
       "});\n",
       "</script>\n"
      ],
      "text/plain": [
       "<IPython.core.display.HTML object>"
      ]
     },
     "execution_count": 119,
     "metadata": {},
     "output_type": "execute_result"
    }
   ],
   "source": [
    "res[res[\"stage\"]==\"I\"].show_in_notebook()"
   ]
  },
  {
   "cell_type": "markdown",
   "id": "4a0070ba-6b2d-4fd2-9e87-0bc476bef662",
   "metadata": {},
   "source": [
    "So that gives no good matches, apart from the Fe I line that we already knew about. "
   ]
  },
  {
   "cell_type": "markdown",
   "id": "9643e6dd-9171-4b39-a297-4b7ddc4d199b",
   "metadata": {},
   "source": [
    "Just to make sure, we eill look at singly ionized species too, just in case there is one with an extremely low ionization potential."
   ]
  },
  {
   "cell_type": "code",
   "execution_count": 115,
   "id": "14f47c12-67b9-4587-b9c7-8512d47e43c0",
   "metadata": {},
   "outputs": [
    {
     "data": {
      "text/html": [
       "<i>Table length=31</i>\n",
       "<table id=\"table140153675400528-569314\" class=\"table-striped table-bordered table-condensed\">\n",
       "<thead><tr><th>idx</th><th>LAMBDA AIR ANG</th><th>SPECTRUM</th><th>TT</th><th>CONFIGURATION</th><th>TERM</th><th>J J</th><th>A_ki</th><th>LEVEL ENERGY  CM 1</th><th>stage</th></tr></thead>\n",
       "<tr><td>0</td><td>8125.3</td><td>[Cr II]</td><td>E2</td><td>3d5-3d4.(5D).4s</td><td>a6S-a6D</td><td>5/2-7/2</td><td>None</td><td>0.00 -    12303.86</td><td>II</td></tr>\n",
       "<tr><td>1</td><td>8138.74</td><td>[Ti II]</td><td>E2</td><td>3d2.(3F).4s-3d3</td><td>a4F-a2H</td><td>9/2-9/2</td><td>None</td><td>393.44 -    12676.97</td><td>II</td></tr>\n",
       "<tr><td>2</td><td>8225.2</td><td>[Sc II]</td><td>M1</td><td>3d.4s-3d2</td><td>3D-3P</td><td>1-2</td><td>None</td><td>0.00 -    12154.42</td><td>II</td></tr>\n",
       "<tr><td>3</td><td>8229.67</td><td>[Cr II]</td><td>E2</td><td>3d5-3d4.(5D).4s</td><td>a6S-a6D</td><td>5/2-5/2</td><td>None</td><td>0.00 -    12147.82</td><td>II</td></tr>\n",
       "<tr><td>4</td><td>8261.17</td><td>[Sc II]</td><td>M1</td><td>3d.4s-3d2</td><td>3D-3P</td><td>1-1</td><td>None</td><td>0.00 -    12101.50</td><td>II</td></tr>\n",
       "<tr><td>5</td><td>8271.29</td><td>[Sc II]</td><td>M1</td><td>3d.4s-3d2</td><td>3D-3P</td><td>2-2</td><td>None</td><td>67.72 -    12154.42</td><td>II</td></tr>\n",
       "<tr><td>6</td><td>8279.91</td><td>[Sc II]</td><td>M1</td><td>3d.4s-3d2</td><td>3D-3P</td><td>1-0</td><td>None</td><td>0.00 -    12074.10</td><td>II</td></tr>\n",
       "<tr><td>7</td><td>8307.66</td><td>[Sc II]</td><td>M1</td><td>3d.4s-3d2</td><td>3D-3P</td><td>2-1</td><td>None</td><td>67.72 -    12101.50</td><td>II</td></tr>\n",
       "<tr><td>8</td><td>8308.49</td><td>[Cr II]</td><td>E2</td><td>3d5-3d4.(5D).4s</td><td>a6S-a6D</td><td>5/2-3/2</td><td>None</td><td>0.00 -    12032.58</td><td>II</td></tr>\n",
       "<tr><td>9</td><td>8326.62</td><td>[Sc II]</td><td>E2</td><td>3d.4s-3d2</td><td>3D-3P</td><td>2-0</td><td>None</td><td>67.72 -    12074.10</td><td>II</td></tr>\n",
       "<tr><td>10</td><td>8347.28</td><td>[Sc II]</td><td>M1</td><td>3d.4s-3d2</td><td>3D-3P</td><td>3-2</td><td>None</td><td>177.76 -    12154.42</td><td>II</td></tr>\n",
       "<tr><td>11</td><td>8357.64</td><td>[Cr II]</td><td>E2</td><td>3d5-3d4.(5D).4s</td><td>a6S-a6D</td><td>5/2-1/2</td><td>None</td><td>0.00 -    11961.81</td><td>II</td></tr>\n",
       "<tr><td>12</td><td>8384.33</td><td>[Sc II]</td><td>E2</td><td>3d.4s-3d2</td><td>3D-3P</td><td>3-1</td><td>None</td><td>177.76 -    12101.50</td><td>II</td></tr>\n",
       "<tr><td>13</td><td>8395.22</td><td>[V II]</td><td>E2</td><td>3d4-3d4</td><td>a5D-a3P</td><td>0-2</td><td>None</td><td>0.00 -    11908.27</td><td>II</td></tr>\n",
       "<tr><td>14</td><td>8420.71</td><td>[V II]</td><td>M1</td><td>3d4-3d4</td><td>a5D-a3P</td><td>1-2</td><td>None</td><td>36.05 -    11908.27</td><td>II</td></tr>\n",
       "<tr><td>15</td><td>8471.07</td><td>[V II]</td><td>M1</td><td>3d4-3d4</td><td>a5D-a3P</td><td>2-2</td><td>None</td><td>106.63 -    11908.27</td><td>II</td></tr>\n",
       "<tr><td>16</td><td>8545.11</td><td>[V II]</td><td>M1</td><td>3d4-3d4</td><td>a5D-a3P</td><td>3-2</td><td>None</td><td>208.89 -    11908.27</td><td>II</td></tr>\n",
       "<tr><td>17</td><td>8567.63</td><td>[Sc II]</td><td>E2</td><td>3d.4s-4s2</td><td>3D-1S</td><td>2-0</td><td>None</td><td>67.72 -    11736.36</td><td>II</td></tr>\n",
       "<tr><td>18</td><td>8578.69</td><td>[Cl II]</td><td>M1</td><td>3s2.3p4-3s2.3p4</td><td>3P-1D</td><td>2-2</td><td>None</td><td>0.00 -    11653.58</td><td>II</td></tr>\n",
       "<tr><td>19</td><td>8580.24</td><td>[Co II]</td><td>E2</td><td>3d8-3d8</td><td>a3F-a1D</td><td>4-2</td><td>None</td><td>0.00 -    11651.48</td><td>II</td></tr>\n",
       "<tr><td>20</td><td>8641.37</td><td>[V II]</td><td>E2</td><td>3d4-3d4</td><td>a5D-a3P</td><td>4-2</td><td>None</td><td>339.21 -    11908.27</td><td>II</td></tr>\n",
       "<tr><td>21</td><td>8682.13</td><td>[V II]</td><td>M1</td><td>3d4-3d4</td><td>a5D-a3P</td><td>0-1</td><td>None</td><td>0.00 -    11514.76</td><td>II</td></tr>\n",
       "<tr><td>22</td><td>8709.39</td><td>[V II]</td><td>M1</td><td>3d4-3d4</td><td>a5D-a3P</td><td>1-1</td><td>None</td><td>36.05 -    11514.76</td><td>II</td></tr>\n",
       "<tr><td>23</td><td>8763.27</td><td>[V II]</td><td>M1</td><td>3d4-3d4</td><td>a5D-a3P</td><td>2-1</td><td>None</td><td>106.63 -    11514.76</td><td>II</td></tr>\n",
       "<tr><td>24</td><td>8829.97</td><td>[Co II]</td><td>E2</td><td>3d8-3d7.(4F).4s</td><td>a3F-b3F</td><td>4-2</td><td>None</td><td>0.00 -    11321.96</td><td>II</td></tr>\n",
       "<tr><td>25</td><td>8842.53</td><td>[V II]</td><td>E2</td><td>3d4-3d4</td><td>a5D-a3P</td><td>3-1</td><td>None</td><td>208.89 -    11514.76</td><td>II</td></tr>\n",
       "<tr><td>26</td><td>8878.93</td><td>[V II]</td><td>M1</td><td>3d4-3d4</td><td>a5D-a3P</td><td>1-0</td><td>None</td><td>36.05 -    11295.57</td><td>II</td></tr>\n",
       "<tr><td>27</td><td>8934.95</td><td>[V II]</td><td>E2</td><td>3d4-3d4</td><td>a5D-a3P</td><td>2-0</td><td>None</td><td>106.63 -    11295.57</td><td>II</td></tr>\n",
       "<tr><td>28</td><td>9123.6</td><td>[Cl II]</td><td>M1</td><td>3s2.3p4-3s2.3p4</td><td>3P-1D</td><td>1-2</td><td>None</td><td>696.00 -    11653.58</td><td>II</td></tr>\n",
       "<tr><td>29</td><td>9134.45</td><td>[Sc II]</td><td>M1</td><td>3d.4s-3d2</td><td>3D-1D</td><td>1-2</td><td>None</td><td>0.00 -    10944.56</td><td>II</td></tr>\n",
       "<tr><td>30</td><td>9191.33</td><td>[Sc II]</td><td>M1</td><td>3d.4s-3d2</td><td>3D-1D</td><td>2-2</td><td>None</td><td>67.72 -    10944.56</td><td>II</td></tr>\n",
       "</table><style>table.dataTable {clear: both; width: auto !important; margin: 0 !important;}\n",
       ".dataTables_info, .dataTables_length, .dataTables_filter, .dataTables_paginate{\n",
       "display: inline-block; margin-right: 1em; }\n",
       ".paginate_button { margin-right: 5px; }\n",
       "</style>\n",
       "<script>\n",
       "\n",
       "var astropy_sort_num = function(a, b) {\n",
       "    var a_num = parseFloat(a);\n",
       "    var b_num = parseFloat(b);\n",
       "\n",
       "    if (isNaN(a_num) && isNaN(b_num))\n",
       "        return ((a < b) ? -1 : ((a > b) ? 1 : 0));\n",
       "    else if (!isNaN(a_num) && !isNaN(b_num))\n",
       "        return ((a_num < b_num) ? -1 : ((a_num > b_num) ? 1 : 0));\n",
       "    else\n",
       "        return isNaN(a_num) ? -1 : 1;\n",
       "}\n",
       "\n",
       "require.config({paths: {\n",
       "    datatables: 'https://cdn.datatables.net/1.10.12/js/jquery.dataTables.min'\n",
       "}});\n",
       "require([\"datatables\"], function(){\n",
       "    console.log(\"$('#table140153675400528-569314').dataTable()\");\n",
       "    \n",
       "jQuery.extend( jQuery.fn.dataTableExt.oSort, {\n",
       "    \"optionalnum-asc\": astropy_sort_num,\n",
       "    \"optionalnum-desc\": function (a,b) { return -astropy_sort_num(a, b); }\n",
       "});\n",
       "\n",
       "    $('#table140153675400528-569314').dataTable({\n",
       "        order: [],\n",
       "        pageLength: 50,\n",
       "        lengthMenu: [[10, 25, 50, 100, 500, 1000, -1], [10, 25, 50, 100, 500, 1000, 'All']],\n",
       "        pagingType: \"full_numbers\",\n",
       "        columnDefs: [{targets: [0, 1], type: \"optionalnum\"}]\n",
       "    });\n",
       "});\n",
       "</script>\n"
      ],
      "text/plain": [
       "<IPython.core.display.HTML object>"
      ]
     },
     "execution_count": 115,
     "metadata": {},
     "output_type": "execute_result"
    }
   ],
   "source": [
    "res[res[\"stage\"]==\"II\"].show_in_notebook()"
   ]
  },
  {
   "cell_type": "markdown",
   "id": "33e4388c-6e10-4af2-8587-09b76f205655",
   "metadata": {},
   "source": [
    "Certainly no candidates for our neutral lines, although we do pick up the [Cl II] lines at 8578.69 and 9123.6, which we certainly observe, although the shorte one is blended with a He I line."
   ]
  },
  {
   "cell_type": "markdown",
   "id": "36e437f7-1977-4978-b744-647eafa94f64",
   "metadata": {},
   "source": [
    "# Look at the supposed Ca I lines\n",
    "\n",
    "## The 7890 line\n",
    "\n",
    "This looks a lot like the [Fe III] lines"
   ]
  },
  {
   "cell_type": "code",
   "execution_count": 17,
   "id": "3fa23b13-c119-45f5-84a1-1213764ad575",
   "metadata": {},
   "outputs": [],
   "source": [
    "wavelength_range = (7890 * u.Angstrom, 0.2 * u.Angstrom)\n",
    "#wavelength_range = (6500 * u.Angstrom, 6600 * u.Angstrom)\n",
    "#AtomicLineList.FORM_URL = \"https://www.pa.uky.edu/~peter/newpage/\"\n",
    "res = AtomicLineList.query_object(\n",
    "    wavelength_range=wavelength_range,\n",
    "    wavelength_type='Air',\n",
    "    minimal_abundance=\"6\",\n",
    "    depl_factor=\"0\",\n",
    "    #element_spectrum='H I',\n",
    "    #get_query_payload=True,\n",
    ")"
   ]
  },
  {
   "cell_type": "code",
   "execution_count": 18,
   "id": "69949fdd-2f0c-4523-85bc-dd188e6f9f14",
   "metadata": {},
   "outputs": [
    {
     "data": {
      "text/html": [
       "<i>Table length=18</i>\n",
       "<table id=\"table140198763144576\" class=\"table-striped table-bordered table-condensed\">\n",
       "<thead><tr><th>LAMBDA AIR ANG</th><th>SPECTRUM</th><th>TT</th><th>CONFIGURATION</th><th>TERM</th><th>J J</th><th>A_ki</th><th>LEVEL ENERGY  CM 1</th></tr></thead>\n",
       "<thead><tr><th>str8</th><th>str8</th><th>str2</th><th>str36</th><th>str18</th><th>str7</th><th>str8</th><th>str25</th></tr></thead>\n",
       "<tr><td>7608.</td><td>Si VII]</td><td>E1</td><td>2s2.2p3.(2Po).3d-2s.2p4.(4P).3s</td><td>1Po-3P</td><td>1-0</td><td>None</td><td>1491287.00 -  1504430.00</td></tr>\n",
       "<tr><td>7698.</td><td>Ar X]</td><td>E1</td><td>2s2.2p4.(1S).3p-2s2.2p4.(3P).3d</td><td>2Po-4D</td><td>1/2-3/2</td><td>None</td><td>2555193.00 -  2568152.00</td></tr>\n",
       "<tr><td>7788.</td><td>Si XI</td><td>E1</td><td>2p.4p-2p.4d</td><td>3P-3Do</td><td>2-2</td><td>1.13E+06</td><td>3187600.00 -  3200430.00</td></tr>\n",
       "<tr><td>7838.</td><td>Si XI</td><td>E1</td><td>2p.4d-2p.4f</td><td>3Fo-3F</td><td>2-3</td><td>3.26E+04</td><td>3188940.00 -  3201700.00</td></tr>\n",
       "<tr><td>7868.</td><td>Si XI</td><td>E1</td><td>2p.4d-2p.4f</td><td>3Fo-3F</td><td>2-2</td><td>3.61E+05</td><td>3188940.00 -  3201650.00</td></tr>\n",
       "<tr><td>7873.</td><td>N VI</td><td>E1</td><td>1s.8d-1s.9p</td><td>3D-3Po</td><td>*-*</td><td>2.63E+07</td><td>4390976.00 -  4403673.70</td></tr>\n",
       "<tr><td>7878.</td><td>Si XI</td><td>E1</td><td>2p.4d-2p.4f</td><td>3Do-3D</td><td>2-1</td><td>1.59E+05</td><td>3200430.00 -  3213120.00</td></tr>\n",
       "<tr><td>7888.</td><td>Fe III]</td><td>E1</td><td>3d5.(b2G).4p-3d5.(4G).4d</td><td>3Fo-5F</td><td>2-2</td><td>None</td><td>167002.00 -   179676.89</td></tr>\n",
       "<tr><td>7889.9</td><td>N II]</td><td>E1</td><td>2s2.2p.(2Po).6p-2s2.2p.(2Po).15d</td><td>1P-3Po</td><td>1-2</td><td>None</td><td>224286.63 -   236957.50</td></tr>\n",
       "<tr><td>7889.9</td><td>[Ni III]</td><td>M1</td><td>3d8-3d8</td><td>3F-1D</td><td>3-2</td><td>None</td><td>1360.70 -    14031.60</td></tr>\n",
       "<tr><td>7890.07</td><td>Ca I]</td><td>E1</td><td>4s.5p-4s.44d</td><td>3Po-1D</td><td>2-2</td><td>None</td><td>36575.12 -    49245.80</td></tr>\n",
       "<tr><td>7890.154</td><td>Ni I</td><td>E1</td><td>3d9.(2D).4p-3d9.(2D&lt;3/2&gt;).5s</td><td>1Do-3/2[3/2]</td><td>2-1</td><td>None</td><td>31441.63 -    44112.17</td></tr>\n",
       "<tr><td>7890.4</td><td>Ar I</td><td>E1</td><td>3p5.(2Po&lt;3/2&gt;).3d-3p5.(2Po&lt;3/2&gt;).14p</td><td>3/2[5/2]o-3/2[5/2]</td><td>3-2</td><td>None</td><td>113716.55 -   126386.70</td></tr>\n",
       "<tr><td>7891.</td><td>Al XII</td><td>E1</td><td>1s.4s-1s.4p</td><td>3S-3Po</td><td>1-2</td><td>5.08E+06</td><td>15816791.00 - 15829460.00</td></tr>\n",
       "<tr><td>7893.</td><td>O V</td><td>E1</td><td>2p.4s-2p.4p</td><td>3Po-3D</td><td>2-3</td><td>2.43E+07</td><td>818668.00 -   831334.00</td></tr>\n",
       "<tr><td>7894.</td><td>C III</td><td>E1</td><td>2s.7s-2p.4s</td><td>3S-3Po</td><td>1-0</td><td>None</td><td>363613.00 -   376278.10</td></tr>\n",
       "<tr><td>7898.</td><td>Ca XIX</td><td>E1</td><td>1s.5s-1s.5p</td><td>3S-3Po</td><td>1-2</td><td>5.07E+06</td><td>39761380.00 - 39774040.00</td></tr>\n",
       "<tr><td>7918.?</td><td>Na VII</td><td>E1</td><td>2p2.(1D).3p-2p2.(3P).3d</td><td>2Fo-2D</td><td>5/2-*</td><td>4.08E+04</td><td>1377820.00 -  1390450.?</td></tr>\n",
       "</table>"
      ],
      "text/plain": [
       "<Table length=18>\n",
       "LAMBDA AIR ANG SPECTRUM  TT  ...   J J     A_ki       LEVEL ENERGY  CM 1   \n",
       "     str8        str8   str2 ...   str7    str8             str25          \n",
       "-------------- -------- ---- ... ------- -------- -------------------------\n",
       "         7608.  Si VII]   E1 ...     1-0     None  1491287.00 -  1504430.00\n",
       "         7698.    Ar X]   E1 ... 1/2-3/2     None  2555193.00 -  2568152.00\n",
       "         7788.    Si XI   E1 ...     2-2 1.13E+06  3187600.00 -  3200430.00\n",
       "         7838.    Si XI   E1 ...     2-3 3.26E+04  3188940.00 -  3201700.00\n",
       "         7868.    Si XI   E1 ...     2-2 3.61E+05  3188940.00 -  3201650.00\n",
       "         7873.     N VI   E1 ...     *-* 2.63E+07  4390976.00 -  4403673.70\n",
       "         7878.    Si XI   E1 ...     2-1 1.59E+05  3200430.00 -  3213120.00\n",
       "         7888.  Fe III]   E1 ...     2-2     None   167002.00 -   179676.89\n",
       "        7889.9    N II]   E1 ...     1-2     None   224286.63 -   236957.50\n",
       "        7889.9 [Ni III]   M1 ...     3-2     None     1360.70 -    14031.60\n",
       "       7890.07    Ca I]   E1 ...     2-2     None    36575.12 -    49245.80\n",
       "      7890.154     Ni I   E1 ...     2-1     None    31441.63 -    44112.17\n",
       "        7890.4     Ar I   E1 ...     3-2     None   113716.55 -   126386.70\n",
       "         7891.   Al XII   E1 ...     1-2 5.08E+06 15816791.00 - 15829460.00\n",
       "         7893.      O V   E1 ...     2-3 2.43E+07   818668.00 -   831334.00\n",
       "         7894.    C III   E1 ...     1-0     None   363613.00 -   376278.10\n",
       "         7898.   Ca XIX   E1 ...     1-2 5.07E+06 39761380.00 - 39774040.00\n",
       "        7918.?   Na VII   E1 ...   5/2-* 4.08E+04   1377820.00 -  1390450.?"
      ]
     },
     "execution_count": 18,
     "metadata": {},
     "output_type": "execute_result"
    }
   ],
   "source": [
    "res"
   ]
  },
  {
   "cell_type": "markdown",
   "id": "8c66914f-993e-4a1c-8ac1-c5b411bbb5e4",
   "metadata": {},
   "source": [
    "So it looks like the [Ni III] 7889.9 line is a very good candidate.  It is a nebular forbidden line, so would be expected to be strong. "
   ]
  },
  {
   "cell_type": "code",
   "execution_count": 8,
   "id": "d37b8637-ff88-4d9d-b560-49ded158824d",
   "metadata": {},
   "outputs": [
    {
     "data": {
      "text/plain": [
       "\u001b[0;31mSignature:\u001b[0m\n",
       "\u001b[0mAtomicLineList\u001b[0m\u001b[0;34m.\u001b[0m\u001b[0mquery_object_async\u001b[0m\u001b[0;34m(\u001b[0m\u001b[0;34m\u001b[0m\n",
       "\u001b[0;34m\u001b[0m    \u001b[0mwavelength_range\u001b[0m\u001b[0;34m=\u001b[0m\u001b[0;32mNone\u001b[0m\u001b[0;34m,\u001b[0m\u001b[0;34m\u001b[0m\n",
       "\u001b[0;34m\u001b[0m    \u001b[0mwavelength_type\u001b[0m\u001b[0;34m=\u001b[0m\u001b[0;34m''\u001b[0m\u001b[0;34m,\u001b[0m\u001b[0;34m\u001b[0m\n",
       "\u001b[0;34m\u001b[0m    \u001b[0mwavelength_accuracy\u001b[0m\u001b[0;34m=\u001b[0m\u001b[0;32mNone\u001b[0m\u001b[0;34m,\u001b[0m\u001b[0;34m\u001b[0m\n",
       "\u001b[0;34m\u001b[0m    \u001b[0melement_spectrum\u001b[0m\u001b[0;34m=\u001b[0m\u001b[0;32mNone\u001b[0m\u001b[0;34m,\u001b[0m\u001b[0;34m\u001b[0m\n",
       "\u001b[0;34m\u001b[0m    \u001b[0mminimal_abundance\u001b[0m\u001b[0;34m=\u001b[0m\u001b[0;32mNone\u001b[0m\u001b[0;34m,\u001b[0m\u001b[0;34m\u001b[0m\n",
       "\u001b[0;34m\u001b[0m    \u001b[0mdepl_factor\u001b[0m\u001b[0;34m=\u001b[0m\u001b[0;32mNone\u001b[0m\u001b[0;34m,\u001b[0m\u001b[0;34m\u001b[0m\n",
       "\u001b[0;34m\u001b[0m    \u001b[0mlower_level_energy_range\u001b[0m\u001b[0;34m=\u001b[0m\u001b[0;32mNone\u001b[0m\u001b[0;34m,\u001b[0m\u001b[0;34m\u001b[0m\n",
       "\u001b[0;34m\u001b[0m    \u001b[0mupper_level_energy_range\u001b[0m\u001b[0;34m=\u001b[0m\u001b[0;32mNone\u001b[0m\u001b[0;34m,\u001b[0m\u001b[0;34m\u001b[0m\n",
       "\u001b[0;34m\u001b[0m    \u001b[0mnmax\u001b[0m\u001b[0;34m=\u001b[0m\u001b[0;32mNone\u001b[0m\u001b[0;34m,\u001b[0m\u001b[0;34m\u001b[0m\n",
       "\u001b[0;34m\u001b[0m    \u001b[0mmultiplet\u001b[0m\u001b[0;34m=\u001b[0m\u001b[0;32mNone\u001b[0m\u001b[0;34m,\u001b[0m\u001b[0;34m\u001b[0m\n",
       "\u001b[0;34m\u001b[0m    \u001b[0mtransitions\u001b[0m\u001b[0;34m=\u001b[0m\u001b[0;32mNone\u001b[0m\u001b[0;34m,\u001b[0m\u001b[0;34m\u001b[0m\n",
       "\u001b[0;34m\u001b[0m    \u001b[0mshow_fine_structure\u001b[0m\u001b[0;34m=\u001b[0m\u001b[0;32mNone\u001b[0m\u001b[0;34m,\u001b[0m\u001b[0;34m\u001b[0m\n",
       "\u001b[0;34m\u001b[0m    \u001b[0mshow_auto_ionizing_transitions\u001b[0m\u001b[0;34m=\u001b[0m\u001b[0;32mNone\u001b[0m\u001b[0;34m,\u001b[0m\u001b[0;34m\u001b[0m\n",
       "\u001b[0;34m\u001b[0m    \u001b[0moutput_columns\u001b[0m\u001b[0;34m=\u001b[0m\u001b[0;34m(\u001b[0m\u001b[0;34m'spec'\u001b[0m\u001b[0;34m,\u001b[0m \u001b[0;34m'type'\u001b[0m\u001b[0;34m,\u001b[0m \u001b[0;34m'conf'\u001b[0m\u001b[0;34m,\u001b[0m \u001b[0;34m'term'\u001b[0m\u001b[0;34m,\u001b[0m \u001b[0;34m'angm'\u001b[0m\u001b[0;34m,\u001b[0m \u001b[0;34m'prob'\u001b[0m\u001b[0;34m,\u001b[0m \u001b[0;34m'ener'\u001b[0m\u001b[0;34m)\u001b[0m\u001b[0;34m,\u001b[0m\u001b[0;34m\u001b[0m\n",
       "\u001b[0;34m\u001b[0m    \u001b[0mcache\u001b[0m\u001b[0;34m=\u001b[0m\u001b[0;32mTrue\u001b[0m\u001b[0;34m,\u001b[0m\u001b[0;34m\u001b[0m\n",
       "\u001b[0;34m\u001b[0m    \u001b[0mget_query_payload\u001b[0m\u001b[0;34m=\u001b[0m\u001b[0;32mFalse\u001b[0m\u001b[0;34m,\u001b[0m\u001b[0;34m\u001b[0m\n",
       "\u001b[0;34m\u001b[0m\u001b[0;34m)\u001b[0m\u001b[0;34m\u001b[0m\u001b[0;34m\u001b[0m\u001b[0m\n",
       "\u001b[0;31mDocstring:\u001b[0m\n",
       "Queries Atomic Line List for the given parameters adnd returns the\n",
       "result as a `~astropy.table.Table`. All parameters are optional.\n",
       "\n",
       "Parameters\n",
       "----------\n",
       "wavelength_range : pair of `astropy.units.Unit` values\n",
       "    Wavelength range. Can be done in two ways: supply a lower and\n",
       "    upper limit for the region or, supply the central wavelength and\n",
       "    the 1 sigma error (68 % confidence value) for that line. If the\n",
       "    first number is smaller than the second number, this implies\n",
       "    that the first option has been chosen, and otherwise the second\n",
       "    option.\n",
       "\n",
       "wavelength_type : str\n",
       "    Either ``'Air'`` or ``'Vacuum'``.\n",
       "\n",
       "wavelength_accuracy : str\n",
       "    All wavelengths in the line list have relative accuracies of\n",
       "    5% or better. The default is to list all lines, irrespective\n",
       "    of their accuracy. When a relative accuracy in percent is\n",
       "    given, only those lines with accuracies better than or equal\n",
       "    to the passed value are included in the search. Values larger\n",
       "    than 5% will be ignored.\n",
       "\n",
       "element_spectrum : str\n",
       "    Restrict the search to a range of elements and/or ionization\n",
       "    stages. The elements should be entered by their usual\n",
       "    symbolic names (e.g. Fe) and the ionization stages by the\n",
       "    usual spectroscopic notation (e.g. I for neutral, II for\n",
       "    singly ionized etc.). To pass multiple values, separate them\n",
       "    by ``\\n`` (newline).\n",
       "\n",
       "minimal_abundance : str\n",
       "     Impose a lower limit on the abundances of elements to be\n",
       "     considered for possible identifications. Default is to\n",
       "     consider arbitrary low abundances. The elements are assumed\n",
       "     to have standard cosmic abundances.\n",
       "\n",
       "depl_factor : str\n",
       "    For nebular conditions it is not a realistic assumption that\n",
       "    the elements have standard cosmic abundances since most\n",
       "    metals will be depleted on grains. To simulate this it is\n",
       "    possible to supply a depletion factor df. This factor will be\n",
       "    used to calculate the actual abundance A from the cosmic\n",
       "    abundance Ac using the formula A(elm) = Ac(elm) - df*sd(elm)\n",
       "    where sd is the standard depletion for each element.\n",
       "\n",
       "lower_level_energy_range : `~astropy.units.Quantity`\n",
       "    Default is to consider all values for the lower/upper level\n",
       "    energy to find a possible identification. To restrict the\n",
       "    search a range of energies can be supplied.\n",
       "    The supported units are: Ry, eV, 1/cm, J, erg.\n",
       "\n",
       "upper_level_energy_range : `~astropy.units.Quantity`\n",
       "    See parameter ``lower_level_energy_range``.\n",
       "\n",
       "nmax : int\n",
       "    Maximum for principal quantum number n. Default is to\n",
       "    consider all possible values for the principal quantum number\n",
       "    n to find possible identifications. However, transitions\n",
       "    involving electrons with a very high quantum number n tend to\n",
       "    be weaker and can therefore be less likely identifications.\n",
       "    These transitions can be suppressed using this parameter.\n",
       "\n",
       "multiplet : str\n",
       "    This option (case sensitive) can be used to find all lines in\n",
       "    a specific multiplet within a certain wavelength range. The\n",
       "    lower and upper level term should be entered here exactly as\n",
       "    they appear in the output of the query. The spectrum to which\n",
       "    this multiplet belongs should of course also be supplied in\n",
       "    the ``element_spectrum`` parameter.\n",
       "\n",
       "transitions : str`\n",
       "    Possible values are:\n",
       "        - ``'all'``:\n",
       "            The default, consider all transition types.\n",
       "        - ``'nebular'``:\n",
       "            Consider only allowed transitions of Hydrogen or\n",
       "            Helium and only magnetic dipole or electric quadrupole\n",
       "            transitions of other elements.\n",
       "        - A union of the values: One of the following:\n",
       "          ``'E1'``, ``'IC'``, ``'M1'``, ``'E2'``\n",
       "          Refer to [1]_ for the meaning of these values.\n",
       "\n",
       "show_fine_structure : bool\n",
       "     If `True`, the fine structure components will be included in\n",
       "     the output. Refer to [1]_ for more information.\n",
       "\n",
       "show_auto_ionizing_transitions : bool\n",
       "    If `True`, transitions originating from auto-ionizing levels\n",
       "    will be included in the output. In this context, all levels\n",
       "    with energies higher than the ionization potential going to\n",
       "    the ground state of the next ion are considered auto-ionizing\n",
       "    levels.\n",
       "\n",
       "output_columns : tuple\n",
       "    A Tuple of strings indicating which output columns are retrieved.\n",
       "    A subset of ('spec', 'type', 'conf', 'term', 'angm', 'prob',\n",
       "    'ener') should be used. Where each string corresponds to the\n",
       "    column titled Spectrum, Transition type, Configuration, Term,\n",
       "    Angular momentum, Transition probability and Level energies\n",
       "    respectively.\n",
       "\n",
       "References\n",
       "----------\n",
       ".. [1] http://www.pa.uky.edu/~peter/atomic/instruction.html\n",
       "\n",
       "Returns\n",
       "-------\n",
       "response : `requests.Response`\n",
       "    The HTTP response returned from the service.\n",
       "\u001b[0;31mSource:\u001b[0m   \n",
       "    \u001b[0;34m@\u001b[0m\u001b[0mprepend_docstr_nosections\u001b[0m\u001b[0;34m(\u001b[0m\u001b[0mquery_object\u001b[0m\u001b[0;34m.\u001b[0m\u001b[0m__doc__\u001b[0m\u001b[0;34m)\u001b[0m\u001b[0;34m\u001b[0m\n",
       "\u001b[0;34m\u001b[0m    \u001b[0;32mdef\u001b[0m \u001b[0mquery_object_async\u001b[0m\u001b[0;34m(\u001b[0m\u001b[0mself\u001b[0m\u001b[0;34m,\u001b[0m \u001b[0mwavelength_range\u001b[0m\u001b[0;34m=\u001b[0m\u001b[0;32mNone\u001b[0m\u001b[0;34m,\u001b[0m \u001b[0mwavelength_type\u001b[0m\u001b[0;34m=\u001b[0m\u001b[0;34m''\u001b[0m\u001b[0;34m,\u001b[0m \u001b[0mwavelength_accuracy\u001b[0m\u001b[0;34m=\u001b[0m\u001b[0;32mNone\u001b[0m\u001b[0;34m,\u001b[0m\u001b[0;34m\u001b[0m\n",
       "\u001b[0;34m\u001b[0m                           \u001b[0melement_spectrum\u001b[0m\u001b[0;34m=\u001b[0m\u001b[0;32mNone\u001b[0m\u001b[0;34m,\u001b[0m \u001b[0mminimal_abundance\u001b[0m\u001b[0;34m=\u001b[0m\u001b[0;32mNone\u001b[0m\u001b[0;34m,\u001b[0m \u001b[0mdepl_factor\u001b[0m\u001b[0;34m=\u001b[0m\u001b[0;32mNone\u001b[0m\u001b[0;34m,\u001b[0m\u001b[0;34m\u001b[0m\n",
       "\u001b[0;34m\u001b[0m                           \u001b[0mlower_level_energy_range\u001b[0m\u001b[0;34m=\u001b[0m\u001b[0;32mNone\u001b[0m\u001b[0;34m,\u001b[0m \u001b[0mupper_level_energy_range\u001b[0m\u001b[0;34m=\u001b[0m\u001b[0;32mNone\u001b[0m\u001b[0;34m,\u001b[0m \u001b[0mnmax\u001b[0m\u001b[0;34m=\u001b[0m\u001b[0;32mNone\u001b[0m\u001b[0;34m,\u001b[0m \u001b[0mmultiplet\u001b[0m\u001b[0;34m=\u001b[0m\u001b[0;32mNone\u001b[0m\u001b[0;34m,\u001b[0m\u001b[0;34m\u001b[0m\n",
       "\u001b[0;34m\u001b[0m                           \u001b[0mtransitions\u001b[0m\u001b[0;34m=\u001b[0m\u001b[0;32mNone\u001b[0m\u001b[0;34m,\u001b[0m \u001b[0mshow_fine_structure\u001b[0m\u001b[0;34m=\u001b[0m\u001b[0;32mNone\u001b[0m\u001b[0;34m,\u001b[0m \u001b[0mshow_auto_ionizing_transitions\u001b[0m\u001b[0;34m=\u001b[0m\u001b[0;32mNone\u001b[0m\u001b[0;34m,\u001b[0m\u001b[0;34m\u001b[0m\n",
       "\u001b[0;34m\u001b[0m                           \u001b[0moutput_columns\u001b[0m\u001b[0;34m=\u001b[0m\u001b[0;34m(\u001b[0m\u001b[0;34m'spec'\u001b[0m\u001b[0;34m,\u001b[0m \u001b[0;34m'type'\u001b[0m\u001b[0;34m,\u001b[0m \u001b[0;34m'conf'\u001b[0m\u001b[0;34m,\u001b[0m \u001b[0;34m'term'\u001b[0m\u001b[0;34m,\u001b[0m \u001b[0;34m'angm'\u001b[0m\u001b[0;34m,\u001b[0m \u001b[0;34m'prob'\u001b[0m\u001b[0;34m,\u001b[0m \u001b[0;34m'ener'\u001b[0m\u001b[0;34m)\u001b[0m\u001b[0;34m,\u001b[0m\u001b[0;34m\u001b[0m\n",
       "\u001b[0;34m\u001b[0m                           \u001b[0mcache\u001b[0m\u001b[0;34m=\u001b[0m\u001b[0;32mTrue\u001b[0m\u001b[0;34m,\u001b[0m \u001b[0mget_query_payload\u001b[0m\u001b[0;34m=\u001b[0m\u001b[0;32mFalse\u001b[0m\u001b[0;34m)\u001b[0m\u001b[0;34m:\u001b[0m\u001b[0;34m\u001b[0m\n",
       "\u001b[0;34m\u001b[0m        \u001b[0;34m\"\"\"\u001b[0m\n",
       "\u001b[0;34m        Returns\u001b[0m\n",
       "\u001b[0;34m        -------\u001b[0m\n",
       "\u001b[0;34m        response : `requests.Response`\u001b[0m\n",
       "\u001b[0;34m            The HTTP response returned from the service.\u001b[0m\n",
       "\u001b[0;34m        \"\"\"\u001b[0m\u001b[0;34m\u001b[0m\n",
       "\u001b[0;34m\u001b[0m        \u001b[0mdefault_values\u001b[0m \u001b[0;34m=\u001b[0m \u001b[0mself\u001b[0m\u001b[0;34m.\u001b[0m\u001b[0m_default_form_values\u001b[0m\u001b[0;34m\u001b[0m\n",
       "\u001b[0;34m\u001b[0m        \u001b[0mwltype\u001b[0m \u001b[0;34m=\u001b[0m \u001b[0;34m(\u001b[0m\u001b[0mwavelength_type\u001b[0m \u001b[0;32mor\u001b[0m \u001b[0mdefault_values\u001b[0m\u001b[0;34m.\u001b[0m\u001b[0mget\u001b[0m\u001b[0;34m(\u001b[0m\u001b[0;34m'air'\u001b[0m\u001b[0;34m,\u001b[0m \u001b[0;34m''\u001b[0m\u001b[0;34m)\u001b[0m\u001b[0;34m)\u001b[0m\u001b[0;34m.\u001b[0m\u001b[0mlower\u001b[0m\u001b[0;34m(\u001b[0m\u001b[0;34m)\u001b[0m\u001b[0;34m\u001b[0m\n",
       "\u001b[0;34m\u001b[0m        \u001b[0;32mif\u001b[0m \u001b[0mwltype\u001b[0m \u001b[0;32min\u001b[0m \u001b[0;34m(\u001b[0m\u001b[0;34m'air'\u001b[0m\u001b[0;34m,\u001b[0m \u001b[0;34m'vacuum'\u001b[0m\u001b[0;34m)\u001b[0m\u001b[0;34m:\u001b[0m\u001b[0;34m\u001b[0m\n",
       "\u001b[0;34m\u001b[0m            \u001b[0mair\u001b[0m \u001b[0;34m=\u001b[0m \u001b[0mwltype\u001b[0m\u001b[0;34m.\u001b[0m\u001b[0mcapitalize\u001b[0m\u001b[0;34m(\u001b[0m\u001b[0;34m)\u001b[0m\u001b[0;34m\u001b[0m\n",
       "\u001b[0;34m\u001b[0m        \u001b[0;32melse\u001b[0m\u001b[0;34m:\u001b[0m\u001b[0;34m\u001b[0m\n",
       "\u001b[0;34m\u001b[0m            \u001b[0;32mraise\u001b[0m \u001b[0mValueError\u001b[0m\u001b[0;34m(\u001b[0m\u001b[0;34m'parameter wavelength_type must be either \"air\" '\u001b[0m\u001b[0;34m\u001b[0m\n",
       "\u001b[0;34m\u001b[0m                             \u001b[0;34m'or \"vacuum\".'\u001b[0m\u001b[0;34m)\u001b[0m\u001b[0;34m\u001b[0m\n",
       "\u001b[0;34m\u001b[0m        \u001b[0;32mif\u001b[0m \u001b[0mwavelength_range\u001b[0m \u001b[0;32mis\u001b[0m \u001b[0;32mnot\u001b[0m \u001b[0;32mNone\u001b[0m\u001b[0;34m:\u001b[0m\u001b[0;34m\u001b[0m\n",
       "\u001b[0;34m\u001b[0m            \u001b[0mwlrange\u001b[0m \u001b[0;34m=\u001b[0m \u001b[0mwavelength_range\u001b[0m\u001b[0;34m\u001b[0m\n",
       "\u001b[0;34m\u001b[0m        \u001b[0;32melse\u001b[0m\u001b[0;34m:\u001b[0m\u001b[0;34m\u001b[0m\n",
       "\u001b[0;34m\u001b[0m            \u001b[0mwlrange\u001b[0m \u001b[0;34m=\u001b[0m \u001b[0;34m[\u001b[0m\u001b[0;34m]\u001b[0m\u001b[0;34m\u001b[0m\n",
       "\u001b[0;34m\u001b[0m        \u001b[0;32mif\u001b[0m \u001b[0mlen\u001b[0m\u001b[0;34m(\u001b[0m\u001b[0mwlrange\u001b[0m\u001b[0;34m)\u001b[0m \u001b[0;32mnot\u001b[0m \u001b[0;32min\u001b[0m \u001b[0;34m(\u001b[0m\u001b[0;36m0\u001b[0m\u001b[0;34m,\u001b[0m \u001b[0;36m2\u001b[0m\u001b[0;34m)\u001b[0m\u001b[0;34m:\u001b[0m\u001b[0;34m\u001b[0m\n",
       "\u001b[0;34m\u001b[0m            \u001b[0;32mraise\u001b[0m \u001b[0mValueError\u001b[0m\u001b[0;34m(\u001b[0m\u001b[0;34m'Length of `wavelength_range` must be 2 or 0, '\u001b[0m\u001b[0;34m\u001b[0m\n",
       "\u001b[0;34m\u001b[0m                             \u001b[0;34m'but is: {}'\u001b[0m\u001b[0;34m.\u001b[0m\u001b[0mformat\u001b[0m\u001b[0;34m(\u001b[0m\u001b[0mlen\u001b[0m\u001b[0;34m(\u001b[0m\u001b[0mwlrange\u001b[0m\u001b[0;34m)\u001b[0m\u001b[0;34m)\u001b[0m\u001b[0;34m)\u001b[0m\u001b[0;34m\u001b[0m\n",
       "\u001b[0;34m\u001b[0m        \u001b[0;32mif\u001b[0m \u001b[0;32mnot\u001b[0m \u001b[0mis_valid_transitions_param\u001b[0m\u001b[0;34m(\u001b[0m\u001b[0mtransitions\u001b[0m\u001b[0;34m)\u001b[0m\u001b[0;34m:\u001b[0m\u001b[0;34m\u001b[0m\n",
       "\u001b[0;34m\u001b[0m            \u001b[0;32mraise\u001b[0m \u001b[0mValueError\u001b[0m\u001b[0;34m(\u001b[0m\u001b[0;34m'Invalid parameter \"transitions\": {0!r}'\u001b[0m\u001b[0;34m\u001b[0m\n",
       "\u001b[0;34m\u001b[0m                             \u001b[0;34m.\u001b[0m\u001b[0mformat\u001b[0m\u001b[0;34m(\u001b[0m\u001b[0mtransitions\u001b[0m\u001b[0;34m)\u001b[0m\u001b[0;34m)\u001b[0m\u001b[0;34m\u001b[0m\n",
       "\u001b[0;34m\u001b[0m        \u001b[0;32mif\u001b[0m \u001b[0mtransitions\u001b[0m \u001b[0;32mis\u001b[0m \u001b[0;32mNone\u001b[0m\u001b[0;34m:\u001b[0m\u001b[0;34m\u001b[0m\n",
       "\u001b[0;34m\u001b[0m            \u001b[0m_type\u001b[0m \u001b[0;34m=\u001b[0m \u001b[0mself\u001b[0m\u001b[0;34m.\u001b[0m\u001b[0m_default_form_values\u001b[0m\u001b[0;34m.\u001b[0m\u001b[0mget\u001b[0m\u001b[0;34m(\u001b[0m\u001b[0;34m'type'\u001b[0m\u001b[0;34m)\u001b[0m\u001b[0;34m\u001b[0m\n",
       "\u001b[0;34m\u001b[0m            \u001b[0mtype2\u001b[0m \u001b[0;34m=\u001b[0m \u001b[0mself\u001b[0m\u001b[0;34m.\u001b[0m\u001b[0m_default_form_values\u001b[0m\u001b[0;34m.\u001b[0m\u001b[0mget\u001b[0m\u001b[0;34m(\u001b[0m\u001b[0;34m'type2'\u001b[0m\u001b[0;34m)\u001b[0m\u001b[0;34m\u001b[0m\n",
       "\u001b[0;34m\u001b[0m        \u001b[0;32melse\u001b[0m\u001b[0;34m:\u001b[0m\u001b[0;34m\u001b[0m\n",
       "\u001b[0;34m\u001b[0m            \u001b[0ms\u001b[0m \u001b[0;34m=\u001b[0m \u001b[0mstr\u001b[0m\u001b[0;34m(\u001b[0m\u001b[0mtransitions\u001b[0m\u001b[0;34m)\u001b[0m\u001b[0;34m\u001b[0m\n",
       "\u001b[0;34m\u001b[0m            \u001b[0;32mif\u001b[0m \u001b[0mlen\u001b[0m\u001b[0;34m(\u001b[0m\u001b[0ms\u001b[0m\u001b[0;34m.\u001b[0m\u001b[0msplit\u001b[0m\u001b[0;34m(\u001b[0m\u001b[0;34m','\u001b[0m\u001b[0;34m)\u001b[0m\u001b[0;34m)\u001b[0m \u001b[0;34m>\u001b[0m \u001b[0;36m1\u001b[0m\u001b[0;34m:\u001b[0m\u001b[0;34m\u001b[0m\n",
       "\u001b[0;34m\u001b[0m                \u001b[0m_type\u001b[0m \u001b[0;34m=\u001b[0m \u001b[0;34m'Sel'\u001b[0m\u001b[0;34m\u001b[0m\n",
       "\u001b[0;34m\u001b[0m                \u001b[0mtype2\u001b[0m \u001b[0;34m=\u001b[0m \u001b[0ms\u001b[0m\u001b[0;34m.\u001b[0m\u001b[0msplit\u001b[0m\u001b[0;34m(\u001b[0m\u001b[0;34m','\u001b[0m\u001b[0;34m)\u001b[0m\u001b[0;34m\u001b[0m\n",
       "\u001b[0;34m\u001b[0m            \u001b[0;32melse\u001b[0m\u001b[0;34m:\u001b[0m\u001b[0;34m\u001b[0m\n",
       "\u001b[0;34m\u001b[0m                \u001b[0m_type\u001b[0m \u001b[0;34m=\u001b[0m \u001b[0ms\u001b[0m\u001b[0;34m\u001b[0m\n",
       "\u001b[0;34m\u001b[0m                \u001b[0mtype2\u001b[0m \u001b[0;34m=\u001b[0m \u001b[0;34m''\u001b[0m\u001b[0;34m\u001b[0m\n",
       "\u001b[0;34m\u001b[0m        \u001b[0;31m# convert wavelengths in incoming wavelength range to Angstroms\u001b[0m\u001b[0;34m\u001b[0m\n",
       "\u001b[0;34m\u001b[0m        \u001b[0mwlrange_in_angstroms\u001b[0m \u001b[0;34m=\u001b[0m \u001b[0;34m(\u001b[0m\u001b[0mwl\u001b[0m\u001b[0;34m.\u001b[0m\u001b[0mto\u001b[0m\u001b[0;34m(\u001b[0m\u001b[0mu\u001b[0m\u001b[0;34m.\u001b[0m\u001b[0mAngstrom\u001b[0m\u001b[0;34m,\u001b[0m\u001b[0;34m\u001b[0m\n",
       "\u001b[0;34m\u001b[0m                                      \u001b[0mequivalencies\u001b[0m\u001b[0;34m=\u001b[0m\u001b[0mu\u001b[0m\u001b[0;34m.\u001b[0m\u001b[0mspectral\u001b[0m\u001b[0;34m(\u001b[0m\u001b[0;34m)\u001b[0m\u001b[0;34m)\u001b[0m\u001b[0;34m.\u001b[0m\u001b[0mvalue\u001b[0m\u001b[0;34m\u001b[0m\n",
       "\u001b[0;34m\u001b[0m                                \u001b[0;32mfor\u001b[0m \u001b[0mwl\u001b[0m \u001b[0;32min\u001b[0m \u001b[0mwlrange\u001b[0m\u001b[0;34m)\u001b[0m\u001b[0;34m\u001b[0m\n",
       "\u001b[0;34m\u001b[0m\u001b[0;34m\u001b[0m\n",
       "\u001b[0;34m\u001b[0m        \u001b[0mlower_level_erange\u001b[0m \u001b[0;34m=\u001b[0m \u001b[0mlower_level_energy_range\u001b[0m\u001b[0;34m\u001b[0m\n",
       "\u001b[0;34m\u001b[0m        \u001b[0;32mif\u001b[0m \u001b[0mlower_level_erange\u001b[0m \u001b[0;32mis\u001b[0m \u001b[0;32mnot\u001b[0m \u001b[0;32mNone\u001b[0m\u001b[0;34m:\u001b[0m\u001b[0;34m\u001b[0m\n",
       "\u001b[0;34m\u001b[0m            \u001b[0mlower_level_erange\u001b[0m \u001b[0;34m=\u001b[0m \u001b[0mlower_level_erange\u001b[0m\u001b[0;34m.\u001b[0m\u001b[0mto\u001b[0m\u001b[0;34m(\u001b[0m\u001b[0;34m\u001b[0m\n",
       "\u001b[0;34m\u001b[0m                \u001b[0mu\u001b[0m\u001b[0;34m.\u001b[0m\u001b[0mcm\u001b[0m \u001b[0;34m**\u001b[0m \u001b[0;34m-\u001b[0m\u001b[0;36m1\u001b[0m\u001b[0;34m,\u001b[0m \u001b[0mequivalencies\u001b[0m\u001b[0;34m=\u001b[0m\u001b[0mu\u001b[0m\u001b[0;34m.\u001b[0m\u001b[0mspectral\u001b[0m\u001b[0;34m(\u001b[0m\u001b[0;34m)\u001b[0m\u001b[0;34m)\u001b[0m\u001b[0;34m.\u001b[0m\u001b[0mvalue\u001b[0m\u001b[0;34m\u001b[0m\n",
       "\u001b[0;34m\u001b[0m        \u001b[0mupper_level_erange\u001b[0m \u001b[0;34m=\u001b[0m \u001b[0mupper_level_energy_range\u001b[0m\u001b[0;34m\u001b[0m\n",
       "\u001b[0;34m\u001b[0m        \u001b[0;32mif\u001b[0m \u001b[0mupper_level_erange\u001b[0m \u001b[0;32mis\u001b[0m \u001b[0;32mnot\u001b[0m \u001b[0;32mNone\u001b[0m\u001b[0;34m:\u001b[0m\u001b[0;34m\u001b[0m\n",
       "\u001b[0;34m\u001b[0m            \u001b[0mupper_level_erange\u001b[0m \u001b[0;34m=\u001b[0m \u001b[0mupper_level_erange\u001b[0m\u001b[0;34m.\u001b[0m\u001b[0mto\u001b[0m\u001b[0;34m(\u001b[0m\u001b[0;34m\u001b[0m\n",
       "\u001b[0;34m\u001b[0m                \u001b[0mu\u001b[0m\u001b[0;34m.\u001b[0m\u001b[0mcm\u001b[0m \u001b[0;34m**\u001b[0m \u001b[0;34m-\u001b[0m\u001b[0;36m1\u001b[0m\u001b[0;34m,\u001b[0m \u001b[0mequivalencies\u001b[0m\u001b[0;34m=\u001b[0m\u001b[0mu\u001b[0m\u001b[0;34m.\u001b[0m\u001b[0mspectral\u001b[0m\u001b[0;34m(\u001b[0m\u001b[0;34m)\u001b[0m\u001b[0;34m)\u001b[0m\u001b[0;34m.\u001b[0m\u001b[0mvalue\u001b[0m\u001b[0;34m\u001b[0m\n",
       "\u001b[0;34m\u001b[0m        \u001b[0minput\u001b[0m \u001b[0;34m=\u001b[0m \u001b[0;34m{\u001b[0m\u001b[0;34m\u001b[0m\n",
       "\u001b[0;34m\u001b[0m            \u001b[0;34m'wavl'\u001b[0m\u001b[0;34m:\u001b[0m \u001b[0;34m' '\u001b[0m\u001b[0;34m.\u001b[0m\u001b[0mjoin\u001b[0m\u001b[0;34m(\u001b[0m\u001b[0mmap\u001b[0m\u001b[0;34m(\u001b[0m\u001b[0mstr\u001b[0m\u001b[0;34m,\u001b[0m \u001b[0mwlrange_in_angstroms\u001b[0m\u001b[0;34m)\u001b[0m\u001b[0;34m)\u001b[0m\u001b[0;34m,\u001b[0m\u001b[0;34m\u001b[0m\n",
       "\u001b[0;34m\u001b[0m            \u001b[0;34m'wave'\u001b[0m\u001b[0;34m:\u001b[0m \u001b[0;34m'Angstrom'\u001b[0m\u001b[0;34m,\u001b[0m\u001b[0;34m\u001b[0m\n",
       "\u001b[0;34m\u001b[0m            \u001b[0;34m'air'\u001b[0m\u001b[0;34m:\u001b[0m \u001b[0mair\u001b[0m\u001b[0;34m,\u001b[0m\u001b[0;34m\u001b[0m\n",
       "\u001b[0;34m\u001b[0m            \u001b[0;34m'wacc'\u001b[0m\u001b[0;34m:\u001b[0m \u001b[0mwavelength_accuracy\u001b[0m\u001b[0;34m,\u001b[0m\u001b[0;34m\u001b[0m\n",
       "\u001b[0;34m\u001b[0m            \u001b[0;34m'elmion'\u001b[0m\u001b[0;34m:\u001b[0m \u001b[0melement_spectrum\u001b[0m\u001b[0;34m,\u001b[0m\u001b[0;34m\u001b[0m\n",
       "\u001b[0;34m\u001b[0m            \u001b[0;34m'abun'\u001b[0m\u001b[0;34m:\u001b[0m \u001b[0mminimal_abundance\u001b[0m\u001b[0;34m,\u001b[0m\u001b[0;34m\u001b[0m\n",
       "\u001b[0;34m\u001b[0m            \u001b[0;34m'depl'\u001b[0m\u001b[0;34m:\u001b[0m \u001b[0mdepl_factor\u001b[0m\u001b[0;34m,\u001b[0m\u001b[0;34m\u001b[0m\n",
       "\u001b[0;34m\u001b[0m            \u001b[0;34m'elo'\u001b[0m\u001b[0;34m:\u001b[0m \u001b[0mlower_level_erange\u001b[0m\u001b[0;34m,\u001b[0m\u001b[0;34m\u001b[0m\n",
       "\u001b[0;34m\u001b[0m            \u001b[0;34m'ehi'\u001b[0m\u001b[0;34m:\u001b[0m \u001b[0mupper_level_erange\u001b[0m\u001b[0;34m,\u001b[0m\u001b[0;34m\u001b[0m\n",
       "\u001b[0;34m\u001b[0m            \u001b[0;34m'ener'\u001b[0m\u001b[0;34m:\u001b[0m \u001b[0;34m'cm^-1'\u001b[0m\u001b[0;34m,\u001b[0m\u001b[0;34m\u001b[0m\n",
       "\u001b[0;34m\u001b[0m            \u001b[0;34m'nmax'\u001b[0m\u001b[0;34m:\u001b[0m \u001b[0mnmax\u001b[0m\u001b[0;34m,\u001b[0m\u001b[0;34m\u001b[0m\n",
       "\u001b[0;34m\u001b[0m            \u001b[0;34m'term'\u001b[0m\u001b[0;34m:\u001b[0m \u001b[0mmultiplet\u001b[0m\u001b[0;34m,\u001b[0m\u001b[0;34m\u001b[0m\n",
       "\u001b[0;34m\u001b[0m            \u001b[0;34m'type'\u001b[0m\u001b[0;34m:\u001b[0m \u001b[0m_type\u001b[0m\u001b[0;34m,\u001b[0m\u001b[0;34m\u001b[0m\n",
       "\u001b[0;34m\u001b[0m            \u001b[0;34m'type2'\u001b[0m\u001b[0;34m:\u001b[0m \u001b[0mtype2\u001b[0m\u001b[0;34m,\u001b[0m\u001b[0;34m\u001b[0m\n",
       "\u001b[0;34m\u001b[0m            \u001b[0;34m'hydr'\u001b[0m\u001b[0;34m:\u001b[0m \u001b[0mshow_fine_structure\u001b[0m\u001b[0;34m,\u001b[0m\u001b[0;34m\u001b[0m\n",
       "\u001b[0;34m\u001b[0m            \u001b[0;34m'auto'\u001b[0m\u001b[0;34m:\u001b[0m \u001b[0mshow_auto_ionizing_transitions\u001b[0m\u001b[0;34m,\u001b[0m\u001b[0;34m\u001b[0m\n",
       "\u001b[0;34m\u001b[0m            \u001b[0;34m'form'\u001b[0m\u001b[0;34m:\u001b[0m \u001b[0moutput_columns\u001b[0m\u001b[0;34m,\u001b[0m\u001b[0;34m\u001b[0m\n",
       "\u001b[0;34m\u001b[0m            \u001b[0;34m'jval'\u001b[0m\u001b[0;34m:\u001b[0m \u001b[0;34m'usej'\u001b[0m\u001b[0;34m,\u001b[0m\u001b[0;34m\u001b[0m\n",
       "\u001b[0;34m\u001b[0m            \u001b[0;34m'tptype'\u001b[0m\u001b[0;34m:\u001b[0m \u001b[0;34m'as_a'\u001b[0m\u001b[0;34m,\u001b[0m\u001b[0;34m\u001b[0m\n",
       "\u001b[0;34m\u001b[0m        \u001b[0;34m}\u001b[0m\u001b[0;34m\u001b[0m\n",
       "\u001b[0;34m\u001b[0m        \u001b[0;32mif\u001b[0m \u001b[0mget_query_payload\u001b[0m\u001b[0;34m:\u001b[0m\u001b[0;34m\u001b[0m\n",
       "\u001b[0;34m\u001b[0m            \u001b[0;32mreturn\u001b[0m \u001b[0minput\u001b[0m\u001b[0;34m\u001b[0m\n",
       "\u001b[0;34m\u001b[0m        \u001b[0mresponse\u001b[0m \u001b[0;34m=\u001b[0m \u001b[0mself\u001b[0m\u001b[0;34m.\u001b[0m\u001b[0m_submit_form\u001b[0m\u001b[0;34m(\u001b[0m\u001b[0minput\u001b[0m\u001b[0;34m,\u001b[0m \u001b[0mcache\u001b[0m\u001b[0;34m=\u001b[0m\u001b[0mcache\u001b[0m\u001b[0;34m)\u001b[0m\u001b[0;34m\u001b[0m\n",
       "\u001b[0;34m\u001b[0m        \u001b[0;32mreturn\u001b[0m \u001b[0mresponse\u001b[0m\u001b[0;34m\u001b[0m\u001b[0;34m\u001b[0m\u001b[0m\n",
       "\u001b[0;31mFile:\u001b[0m      ~/miniconda3/envs/py39/lib/python3.9/site-packages/astroquery/atomic/core.py\n",
       "\u001b[0;31mType:\u001b[0m      method\n"
      ]
     },
     "metadata": {},
     "output_type": "display_data"
    }
   ],
   "source": [
    "AtomicLineList.query_object_async??"
   ]
  },
  {
   "cell_type": "code",
   "execution_count": 14,
   "id": "706b2bbe-b35d-4e11-8f5c-a449993946af",
   "metadata": {},
   "outputs": [
    {
     "data": {
      "text/plain": [
       "AtomicTransition<'Neb'>"
      ]
     },
     "execution_count": 14,
     "metadata": {},
     "output_type": "execute_result"
    }
   ],
   "source": [
    "aa.Transition.nebular"
   ]
  },
  {
   "cell_type": "code",
   "execution_count": 15,
   "id": "e080c92a-9771-4e0f-8e9d-810698ebffba",
   "metadata": {},
   "outputs": [],
   "source": [
    "simple_transitions = [aa.Transition.all, aa.Transition.nebular]"
   ]
  },
  {
   "cell_type": "code",
   "execution_count": 16,
   "id": "47089db2-f97f-4f2f-850e-da57102588d3",
   "metadata": {},
   "outputs": [
    {
     "data": {
      "text/plain": [
       "[AtomicTransition<'All'>, AtomicTransition<'Neb'>]"
      ]
     },
     "execution_count": 16,
     "metadata": {},
     "output_type": "execute_result"
    }
   ],
   "source": [
    "simple_transitions"
   ]
  },
  {
   "cell_type": "code",
   "execution_count": 17,
   "id": "81399103-24a7-47b9-8e85-9b55912f8a92",
   "metadata": {},
   "outputs": [
    {
     "data": {
      "text/plain": [
       "False"
      ]
     },
     "execution_count": 17,
     "metadata": {},
     "output_type": "execute_result"
    }
   ],
   "source": [
    "\"Neb\" in simple_transitions"
   ]
  },
  {
   "cell_type": "code",
   "execution_count": 18,
   "id": "1e5ef535-6b52-495a-9ce1-030e9435e97a",
   "metadata": {},
   "outputs": [
    {
     "data": {
      "text/plain": [
       "False"
      ]
     },
     "execution_count": 18,
     "metadata": {},
     "output_type": "execute_result"
    }
   ],
   "source": [
    "aa.utils.is_valid_transitions_param(\"Neb\")"
   ]
  },
  {
   "cell_type": "code",
   "execution_count": 23,
   "id": "5ac30906-c4fd-4304-a829-3cb3e6ca4013",
   "metadata": {},
   "outputs": [
    {
     "data": {
      "text/plain": [
       "True"
      ]
     },
     "execution_count": 23,
     "metadata": {},
     "output_type": "execute_result"
    }
   ],
   "source": [
    "aa.utils.is_valid_transitions_param(aa.Transition.nebular)"
   ]
  },
  {
   "cell_type": "code",
   "execution_count": 37,
   "id": "a2cb1f21-2e82-443b-9aa6-c66cfee77e20",
   "metadata": {},
   "outputs": [],
   "source": [
    "from astropy import units as u\n"
   ]
  },
  {
   "cell_type": "code",
   "execution_count": 41,
   "id": "0d04ac43-28ad-4c13-8cd9-12a41ed16e09",
   "metadata": {},
   "outputs": [
    {
     "data": {
      "text/plain": [
       "\u001b[0;31mSignature:\u001b[0m \u001b[0mu\u001b[0m\u001b[0;34m.\u001b[0m\u001b[0mspectral\u001b[0m\u001b[0;34m(\u001b[0m\u001b[0;34m)\u001b[0m\u001b[0;34m\u001b[0m\u001b[0;34m\u001b[0m\u001b[0m\n",
       "\u001b[0;31mSource:\u001b[0m   \n",
       "\u001b[0;32mdef\u001b[0m \u001b[0mspectral\u001b[0m\u001b[0;34m(\u001b[0m\u001b[0;34m)\u001b[0m\u001b[0;34m:\u001b[0m\u001b[0;34m\u001b[0m\n",
       "\u001b[0;34m\u001b[0m    \u001b[0;34m\"\"\"\u001b[0m\n",
       "\u001b[0;34m    Returns a list of equivalence pairs that handle spectral\u001b[0m\n",
       "\u001b[0;34m    wavelength, wave number, frequency, and energy equivalencies.\u001b[0m\n",
       "\u001b[0;34m\u001b[0m\n",
       "\u001b[0;34m    Allows conversions between wavelength units, wave number units,\u001b[0m\n",
       "\u001b[0;34m    frequency units, and energy units as they relate to light.\u001b[0m\n",
       "\u001b[0;34m\u001b[0m\n",
       "\u001b[0;34m    There are two types of wave number:\u001b[0m\n",
       "\u001b[0;34m\u001b[0m\n",
       "\u001b[0;34m        * spectroscopic - :math:`1 / \\\\lambda` (per meter)\u001b[0m\n",
       "\u001b[0;34m        * angular - :math:`2 \\\\pi / \\\\lambda` (radian per meter)\u001b[0m\n",
       "\u001b[0;34m\u001b[0m\n",
       "\u001b[0;34m    \"\"\"\u001b[0m\u001b[0;34m\u001b[0m\n",
       "\u001b[0;34m\u001b[0m    \u001b[0mhc\u001b[0m \u001b[0;34m=\u001b[0m \u001b[0m_si\u001b[0m\u001b[0;34m.\u001b[0m\u001b[0mh\u001b[0m\u001b[0;34m.\u001b[0m\u001b[0mvalue\u001b[0m \u001b[0;34m*\u001b[0m \u001b[0m_si\u001b[0m\u001b[0;34m.\u001b[0m\u001b[0mc\u001b[0m\u001b[0;34m.\u001b[0m\u001b[0mvalue\u001b[0m\u001b[0;34m\u001b[0m\n",
       "\u001b[0;34m\u001b[0m    \u001b[0mtwo_pi\u001b[0m \u001b[0;34m=\u001b[0m \u001b[0;36m2.0\u001b[0m \u001b[0;34m*\u001b[0m \u001b[0mnp\u001b[0m\u001b[0;34m.\u001b[0m\u001b[0mpi\u001b[0m\u001b[0;34m\u001b[0m\n",
       "\u001b[0;34m\u001b[0m    \u001b[0minv_m_spec\u001b[0m \u001b[0;34m=\u001b[0m \u001b[0msi\u001b[0m\u001b[0;34m.\u001b[0m\u001b[0mm\u001b[0m \u001b[0;34m**\u001b[0m \u001b[0;34m-\u001b[0m\u001b[0;36m1\u001b[0m\u001b[0;34m\u001b[0m\n",
       "\u001b[0;34m\u001b[0m    \u001b[0minv_m_ang\u001b[0m \u001b[0;34m=\u001b[0m \u001b[0msi\u001b[0m\u001b[0;34m.\u001b[0m\u001b[0mradian\u001b[0m \u001b[0;34m/\u001b[0m \u001b[0msi\u001b[0m\u001b[0;34m.\u001b[0m\u001b[0mm\u001b[0m\u001b[0;34m\u001b[0m\n",
       "\u001b[0;34m\u001b[0m\u001b[0;34m\u001b[0m\n",
       "\u001b[0;34m\u001b[0m    \u001b[0;32mreturn\u001b[0m \u001b[0mEquivalency\u001b[0m\u001b[0;34m(\u001b[0m\u001b[0;34m[\u001b[0m\u001b[0;34m\u001b[0m\n",
       "\u001b[0;34m\u001b[0m        \u001b[0;34m(\u001b[0m\u001b[0msi\u001b[0m\u001b[0;34m.\u001b[0m\u001b[0mm\u001b[0m\u001b[0;34m,\u001b[0m \u001b[0msi\u001b[0m\u001b[0;34m.\u001b[0m\u001b[0mHz\u001b[0m\u001b[0;34m,\u001b[0m \u001b[0;32mlambda\u001b[0m \u001b[0mx\u001b[0m\u001b[0;34m:\u001b[0m \u001b[0m_si\u001b[0m\u001b[0;34m.\u001b[0m\u001b[0mc\u001b[0m\u001b[0;34m.\u001b[0m\u001b[0mvalue\u001b[0m \u001b[0;34m/\u001b[0m \u001b[0mx\u001b[0m\u001b[0;34m)\u001b[0m\u001b[0;34m,\u001b[0m\u001b[0;34m\u001b[0m\n",
       "\u001b[0;34m\u001b[0m        \u001b[0;34m(\u001b[0m\u001b[0msi\u001b[0m\u001b[0;34m.\u001b[0m\u001b[0mm\u001b[0m\u001b[0;34m,\u001b[0m \u001b[0msi\u001b[0m\u001b[0;34m.\u001b[0m\u001b[0mJ\u001b[0m\u001b[0;34m,\u001b[0m \u001b[0;32mlambda\u001b[0m \u001b[0mx\u001b[0m\u001b[0;34m:\u001b[0m \u001b[0mhc\u001b[0m \u001b[0;34m/\u001b[0m \u001b[0mx\u001b[0m\u001b[0;34m)\u001b[0m\u001b[0;34m,\u001b[0m\u001b[0;34m\u001b[0m\n",
       "\u001b[0;34m\u001b[0m        \u001b[0;34m(\u001b[0m\u001b[0msi\u001b[0m\u001b[0;34m.\u001b[0m\u001b[0mHz\u001b[0m\u001b[0;34m,\u001b[0m \u001b[0msi\u001b[0m\u001b[0;34m.\u001b[0m\u001b[0mJ\u001b[0m\u001b[0;34m,\u001b[0m \u001b[0;32mlambda\u001b[0m \u001b[0mx\u001b[0m\u001b[0;34m:\u001b[0m \u001b[0m_si\u001b[0m\u001b[0;34m.\u001b[0m\u001b[0mh\u001b[0m\u001b[0;34m.\u001b[0m\u001b[0mvalue\u001b[0m \u001b[0;34m*\u001b[0m \u001b[0mx\u001b[0m\u001b[0;34m,\u001b[0m \u001b[0;32mlambda\u001b[0m \u001b[0mx\u001b[0m\u001b[0;34m:\u001b[0m \u001b[0mx\u001b[0m \u001b[0;34m/\u001b[0m \u001b[0m_si\u001b[0m\u001b[0;34m.\u001b[0m\u001b[0mh\u001b[0m\u001b[0;34m.\u001b[0m\u001b[0mvalue\u001b[0m\u001b[0;34m)\u001b[0m\u001b[0;34m,\u001b[0m\u001b[0;34m\u001b[0m\n",
       "\u001b[0;34m\u001b[0m        \u001b[0;34m(\u001b[0m\u001b[0msi\u001b[0m\u001b[0;34m.\u001b[0m\u001b[0mm\u001b[0m\u001b[0;34m,\u001b[0m \u001b[0minv_m_spec\u001b[0m\u001b[0;34m,\u001b[0m \u001b[0;32mlambda\u001b[0m \u001b[0mx\u001b[0m\u001b[0;34m:\u001b[0m \u001b[0;36m1.0\u001b[0m \u001b[0;34m/\u001b[0m \u001b[0mx\u001b[0m\u001b[0;34m)\u001b[0m\u001b[0;34m,\u001b[0m\u001b[0;34m\u001b[0m\n",
       "\u001b[0;34m\u001b[0m        \u001b[0;34m(\u001b[0m\u001b[0msi\u001b[0m\u001b[0;34m.\u001b[0m\u001b[0mHz\u001b[0m\u001b[0;34m,\u001b[0m \u001b[0minv_m_spec\u001b[0m\u001b[0;34m,\u001b[0m \u001b[0;32mlambda\u001b[0m \u001b[0mx\u001b[0m\u001b[0;34m:\u001b[0m \u001b[0mx\u001b[0m \u001b[0;34m/\u001b[0m \u001b[0m_si\u001b[0m\u001b[0;34m.\u001b[0m\u001b[0mc\u001b[0m\u001b[0;34m.\u001b[0m\u001b[0mvalue\u001b[0m\u001b[0;34m,\u001b[0m\u001b[0;34m\u001b[0m\n",
       "\u001b[0;34m\u001b[0m         \u001b[0;32mlambda\u001b[0m \u001b[0mx\u001b[0m\u001b[0;34m:\u001b[0m \u001b[0m_si\u001b[0m\u001b[0;34m.\u001b[0m\u001b[0mc\u001b[0m\u001b[0;34m.\u001b[0m\u001b[0mvalue\u001b[0m \u001b[0;34m*\u001b[0m \u001b[0mx\u001b[0m\u001b[0;34m)\u001b[0m\u001b[0;34m,\u001b[0m\u001b[0;34m\u001b[0m\n",
       "\u001b[0;34m\u001b[0m        \u001b[0;34m(\u001b[0m\u001b[0msi\u001b[0m\u001b[0;34m.\u001b[0m\u001b[0mJ\u001b[0m\u001b[0;34m,\u001b[0m \u001b[0minv_m_spec\u001b[0m\u001b[0;34m,\u001b[0m \u001b[0;32mlambda\u001b[0m \u001b[0mx\u001b[0m\u001b[0;34m:\u001b[0m \u001b[0mx\u001b[0m \u001b[0;34m/\u001b[0m \u001b[0mhc\u001b[0m\u001b[0;34m,\u001b[0m \u001b[0;32mlambda\u001b[0m \u001b[0mx\u001b[0m\u001b[0;34m:\u001b[0m \u001b[0mhc\u001b[0m \u001b[0;34m*\u001b[0m \u001b[0mx\u001b[0m\u001b[0;34m)\u001b[0m\u001b[0;34m,\u001b[0m\u001b[0;34m\u001b[0m\n",
       "\u001b[0;34m\u001b[0m        \u001b[0;34m(\u001b[0m\u001b[0minv_m_spec\u001b[0m\u001b[0;34m,\u001b[0m \u001b[0minv_m_ang\u001b[0m\u001b[0;34m,\u001b[0m \u001b[0;32mlambda\u001b[0m \u001b[0mx\u001b[0m\u001b[0;34m:\u001b[0m \u001b[0mx\u001b[0m \u001b[0;34m*\u001b[0m \u001b[0mtwo_pi\u001b[0m\u001b[0;34m,\u001b[0m \u001b[0;32mlambda\u001b[0m \u001b[0mx\u001b[0m\u001b[0;34m:\u001b[0m \u001b[0mx\u001b[0m \u001b[0;34m/\u001b[0m \u001b[0mtwo_pi\u001b[0m\u001b[0;34m)\u001b[0m\u001b[0;34m,\u001b[0m\u001b[0;34m\u001b[0m\n",
       "\u001b[0;34m\u001b[0m        \u001b[0;34m(\u001b[0m\u001b[0msi\u001b[0m\u001b[0;34m.\u001b[0m\u001b[0mm\u001b[0m\u001b[0;34m,\u001b[0m \u001b[0minv_m_ang\u001b[0m\u001b[0;34m,\u001b[0m \u001b[0;32mlambda\u001b[0m \u001b[0mx\u001b[0m\u001b[0;34m:\u001b[0m \u001b[0mtwo_pi\u001b[0m \u001b[0;34m/\u001b[0m \u001b[0mx\u001b[0m\u001b[0;34m)\u001b[0m\u001b[0;34m,\u001b[0m\u001b[0;34m\u001b[0m\n",
       "\u001b[0;34m\u001b[0m        \u001b[0;34m(\u001b[0m\u001b[0msi\u001b[0m\u001b[0;34m.\u001b[0m\u001b[0mHz\u001b[0m\u001b[0;34m,\u001b[0m \u001b[0minv_m_ang\u001b[0m\u001b[0;34m,\u001b[0m \u001b[0;32mlambda\u001b[0m \u001b[0mx\u001b[0m\u001b[0;34m:\u001b[0m \u001b[0mtwo_pi\u001b[0m \u001b[0;34m*\u001b[0m \u001b[0mx\u001b[0m \u001b[0;34m/\u001b[0m \u001b[0m_si\u001b[0m\u001b[0;34m.\u001b[0m\u001b[0mc\u001b[0m\u001b[0;34m.\u001b[0m\u001b[0mvalue\u001b[0m\u001b[0;34m,\u001b[0m\u001b[0;34m\u001b[0m\n",
       "\u001b[0;34m\u001b[0m         \u001b[0;32mlambda\u001b[0m \u001b[0mx\u001b[0m\u001b[0;34m:\u001b[0m \u001b[0m_si\u001b[0m\u001b[0;34m.\u001b[0m\u001b[0mc\u001b[0m\u001b[0;34m.\u001b[0m\u001b[0mvalue\u001b[0m \u001b[0;34m*\u001b[0m \u001b[0mx\u001b[0m \u001b[0;34m/\u001b[0m \u001b[0mtwo_pi\u001b[0m\u001b[0;34m)\u001b[0m\u001b[0;34m,\u001b[0m\u001b[0;34m\u001b[0m\n",
       "\u001b[0;34m\u001b[0m        \u001b[0;34m(\u001b[0m\u001b[0msi\u001b[0m\u001b[0;34m.\u001b[0m\u001b[0mJ\u001b[0m\u001b[0;34m,\u001b[0m \u001b[0minv_m_ang\u001b[0m\u001b[0;34m,\u001b[0m \u001b[0;32mlambda\u001b[0m \u001b[0mx\u001b[0m\u001b[0;34m:\u001b[0m \u001b[0mx\u001b[0m \u001b[0;34m*\u001b[0m \u001b[0mtwo_pi\u001b[0m \u001b[0;34m/\u001b[0m \u001b[0mhc\u001b[0m\u001b[0;34m,\u001b[0m \u001b[0;32mlambda\u001b[0m \u001b[0mx\u001b[0m\u001b[0;34m:\u001b[0m \u001b[0mhc\u001b[0m \u001b[0;34m*\u001b[0m \u001b[0mx\u001b[0m \u001b[0;34m/\u001b[0m \u001b[0mtwo_pi\u001b[0m\u001b[0;34m)\u001b[0m\u001b[0;34m\u001b[0m\n",
       "\u001b[0;34m\u001b[0m    \u001b[0;34m]\u001b[0m\u001b[0;34m,\u001b[0m \u001b[0;34m\"spectral\"\u001b[0m\u001b[0;34m)\u001b[0m\u001b[0;34m\u001b[0m\u001b[0;34m\u001b[0m\u001b[0m\n",
       "\u001b[0;31mFile:\u001b[0m      ~/miniconda3/envs/py39/lib/python3.9/site-packages/astropy/units/equivalencies.py\n",
       "\u001b[0;31mType:\u001b[0m      function\n"
      ]
     },
     "metadata": {},
     "output_type": "display_data"
    }
   ],
   "source": [
    "u.spectral??"
   ]
  },
  {
   "cell_type": "code",
   "execution_count": 43,
   "id": "51bde9bf-785c-492b-a451-c52ce165dab1",
   "metadata": {},
   "outputs": [
    {
     "data": {
      "text/plain": [
       "\u001b[0;31mInit signature:\u001b[0m \u001b[0mu\u001b[0m\u001b[0;34m.\u001b[0m\u001b[0mEquivalency\u001b[0m\u001b[0;34m(\u001b[0m\u001b[0mequiv_list\u001b[0m\u001b[0;34m,\u001b[0m \u001b[0mname\u001b[0m\u001b[0;34m=\u001b[0m\u001b[0;34m''\u001b[0m\u001b[0;34m,\u001b[0m \u001b[0mkwargs\u001b[0m\u001b[0;34m=\u001b[0m\u001b[0;32mNone\u001b[0m\u001b[0;34m)\u001b[0m\u001b[0;34m\u001b[0m\u001b[0;34m\u001b[0m\u001b[0m\n",
       "\u001b[0;31mDocstring:\u001b[0m     \n",
       "A container for a units equivalency.\n",
       "\n",
       "Attributes\n",
       "----------\n",
       "name: `str`\n",
       "    The name of the equivalency.\n",
       "kwargs: `dict`\n",
       "    Any positional or keyword arguments used to make the equivalency.\n",
       "\u001b[0;31mFile:\u001b[0m           ~/miniconda3/envs/py39/lib/python3.9/site-packages/astropy/units/equivalencies.py\n",
       "\u001b[0;31mType:\u001b[0m           ABCMeta\n",
       "\u001b[0;31mSubclasses:\u001b[0m     \n"
      ]
     },
     "metadata": {},
     "output_type": "display_data"
    }
   ],
   "source": [
    "u.Equivalency?"
   ]
  },
  {
   "cell_type": "code",
   "execution_count": null,
   "id": "66b08a17-4770-4c1f-a0c6-6abea8a283b9",
   "metadata": {},
   "outputs": [],
   "source": []
  }
 ],
 "metadata": {
  "jupytext": {
   "formats": "ipynb,auto:light"
  },
  "kernelspec": {
   "display_name": "Python 3",
   "language": "python",
   "name": "python3"
  },
  "language_info": {
   "codemirror_mode": {
    "name": "ipython",
    "version": 3
   },
   "file_extension": ".py",
   "mimetype": "text/x-python",
   "name": "python",
   "nbconvert_exporter": "python",
   "pygments_lexer": "ipython3",
   "version": "3.9.4"
  }
 },
 "nbformat": 4,
 "nbformat_minor": 5
}
