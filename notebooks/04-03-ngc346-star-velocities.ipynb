{
 "cells": [
  {
   "cell_type": "markdown",
   "id": "e830b9ac",
   "metadata": {},
   "source": [
    "# NGC 346 stellar velocities from He II 5041.5 Å absorption line\n",
    "\n",
    "Castro+ (2018) used this line for Tarantula stars.  It has the advantage that it is strong absorption in O stars and there is no nebular contamination."
   ]
  },
  {
   "cell_type": "code",
   "execution_count": null,
   "id": "ba932241",
   "metadata": {},
   "outputs": [],
   "source": [
    "from pathlib import Path\n",
    "import numpy as np\n",
    "from matplotlib import pyplot as plt\n",
    "import seaborn as sns\n",
    "from mpdaf.obj import Cube\n",
    "import regions\n",
    "import sys\n",
    "sys.path.append(\"../lib\")\n",
    "import moments\n",
    "import extract\n",
    "import masktools\n",
    "\n",
    "sns.set_context(\"talk\")\n",
    "sns.set_color_codes()"
   ]
  },
  {
   "cell_type": "code",
   "execution_count": null,
   "id": "a27916c4",
   "metadata": {},
   "outputs": [],
   "source": [
    "cube = Cube(\"../big-data/ngc346-5300-6100-cube-contsub.fits\")\n",
    "cont = Cube(\"../big-data/ngc346-5300-6100-cube-cont.fits\")"
   ]
  },
  {
   "cell_type": "code",
   "execution_count": null,
   "id": "e00867ae",
   "metadata": {},
   "outputs": [],
   "source": [
    "win5411 = cube.select_lambda(5400, 5430)"
   ]
  },
  {
   "cell_type": "code",
   "execution_count": null,
   "id": "f28a0492",
   "metadata": {},
   "outputs": [],
   "source": [
    "fig, ax = plt.subplots(figsize=(12, 12))\n",
    "win5411.sum(axis=0).plot(\n",
    "    vmin=-10000, \n",
    "    vmax=100, \n",
    "    cmap=\"gray\",\n",
    "    colorbar=\"v\"\n",
    ");"
   ]
  },
  {
   "cell_type": "code",
   "execution_count": null,
   "id": "419c6f96",
   "metadata": {},
   "outputs": [],
   "source": [
    "mom5411 = moments.find_moments(win5411)"
   ]
  },
  {
   "cell_type": "code",
   "execution_count": null,
   "id": "03ebf23e",
   "metadata": {},
   "outputs": [],
   "source": [
    "cont5411 = cont.select_lambda(5400, 5430).mean(axis=0)\n",
    "dlam, _, _ = cube.get_step()\n",
    "ew5411 = -dlam * mom5411[0] / cont5411"
   ]
  },
  {
   "cell_type": "markdown",
   "id": "c6b1e645",
   "metadata": {},
   "source": [
    "Mask out region where there are no stars"
   ]
  },
  {
   "cell_type": "code",
   "execution_count": null,
   "id": "22c6c6ff",
   "metadata": {},
   "outputs": [],
   "source": [
    "masktools.trim_edges(ew5411, 10)\n",
    "masktools.trim_edges(cont5411, 10)\n",
    "ew5411.mask = ew5411.mask | (cont5411.data < 3000)"
   ]
  },
  {
   "cell_type": "code",
   "execution_count": null,
   "id": "acb771c0",
   "metadata": {},
   "outputs": [],
   "source": [
    "fig, axes = plt.subplots(1, 2, figsize=(12, 6))\n",
    "ew5411.plot(\n",
    "    ax=axes[0],\n",
    "    vmin=0, \n",
    "    vmax=1.2, \n",
    "    cmap=\"viridis\",\n",
    "    colorbar=\"v\"\n",
    ")\n",
    "cont5411.plot(\n",
    "    ax=axes[1],\n",
    "    vmin=0, \n",
    "    vmax=1e5, \n",
    "    cmap=\"gray\",\n",
    "    scale=\"log\",\n",
    "    colorbar=\"v\"\n",
    ")\n",
    "axes[1].contour(cont5411.data, levels=[3000], colors=\"r\")\n",
    "fig.tight_layout();"
   ]
  },
  {
   "cell_type": "code",
   "execution_count": null,
   "id": "91d372cc",
   "metadata": {},
   "outputs": [],
   "source": []
  },
  {
   "cell_type": "code",
   "execution_count": null,
   "id": "9a8820fd",
   "metadata": {},
   "outputs": [],
   "source": [
    "wav0 = 5411.52 # from Atomic Line List\n",
    "vel = 3e5 * (mom5411[1] - wav0) / wav0\n",
    "vel.mask = vel.mask | (cont5411.data < 3000) | (ew5411.data < 0.2)\n",
    "masktools.trim_edges(vel, 10)"
   ]
  },
  {
   "cell_type": "code",
   "execution_count": null,
   "id": "d9feb87e",
   "metadata": {},
   "outputs": [],
   "source": [
    "fig, ax = plt.subplots(figsize=(12, 12))\n",
    "vel.rebin(1).plot(\n",
    "    vmin=100, \n",
    "    vmax=240, \n",
    "    cmap=\"seismic\",\n",
    "    colorbar=\"v\",\n",
    "    use_wcs=True,\n",
    ");\n",
    "ax.contour(cont5411.data, levels=[3000], colors=\"g\");"
   ]
  },
  {
   "cell_type": "code",
   "execution_count": null,
   "id": "66b9793d",
   "metadata": {},
   "outputs": [],
   "source": [
    "seg = cont5411.segment(minsize=4, background=5000)"
   ]
  },
  {
   "cell_type": "code",
   "execution_count": null,
   "id": "42a13466",
   "metadata": {},
   "outputs": [],
   "source": [
    "bseg = [_ for _ in seg if _.data.max() > 10000]\n",
    "\n",
    "len(bseg)"
   ]
  },
  {
   "cell_type": "code",
   "execution_count": null,
   "id": "9518499f",
   "metadata": {},
   "outputs": [],
   "source": [
    "from astropy.wcs import WCS"
   ]
  },
  {
   "cell_type": "code",
   "execution_count": null,
   "id": "251536f1",
   "metadata": {},
   "outputs": [],
   "source": [
    "ny, nx = 5, 4 \n",
    "fig = plt.figure(figsize=(12, 12))\n",
    "for i, subim in enumerate(bseg):\n",
    "    w = WCS(subim.get_data_hdu().header).celestial\n",
    "    ax = fig.add_subplot(ny, nx, i + 1, projection=w)\n",
    "    subim.plot(ax=ax, vmin=0, vmax=20000, use_wcs=True)\n",
    "fig.tight_layout()"
   ]
  },
  {
   "cell_type": "code",
   "execution_count": null,
   "id": "d5232e1a",
   "metadata": {},
   "outputs": [],
   "source": [
    "import pandas as pd"
   ]
  },
  {
   "cell_type": "code",
   "execution_count": null,
   "id": "b1e582a2",
   "metadata": {},
   "outputs": [],
   "source": [
    "df = pd.DataFrame([_.peak() for _ in bseg])\n",
    "df"
   ]
  },
  {
   "cell_type": "code",
   "execution_count": null,
   "id": "888e9c2c",
   "metadata": {},
   "outputs": [],
   "source": [
    "fig = plt.figure(figsize=(12, 12))\n",
    "ax = ax = fig.add_subplot(\n",
    "    1, 1, 1, \n",
    "    projection=vel.wcs.wcs,\n",
    ")\n",
    "vel.rebin(1).plot(\n",
    "    ax=ax,\n",
    "    vmin=100, \n",
    "    vmax=240, \n",
    "    cmap=\"seismic\",\n",
    "    colorbar=\"v\",\n",
    ")\n",
    "ax.scatter(\n",
    "    \"x\", \"y\", \n",
    "    data=df, \n",
    "    marker=\"o\", color=\"k\", s=500, facecolor=\"none\",\n",
    "    transform=ax.get_transform(\"icrs\"),\n",
    ");"
   ]
  },
  {
   "cell_type": "code",
   "execution_count": null,
   "id": "e6cc79ee",
   "metadata": {},
   "outputs": [],
   "source": [
    "source = bseg[0]"
   ]
  },
  {
   "cell_type": "code",
   "execution_count": null,
   "id": "a1d9df0a",
   "metadata": {},
   "outputs": [],
   "source": [
    "source.get_range()"
   ]
  },
  {
   "cell_type": "code",
   "execution_count": null,
   "id": "a85f9bd6",
   "metadata": {},
   "outputs": [],
   "source": [
    "x, y = df[\"x\"][10], df[\"y\"][10]\n",
    "vel.wcs.sky"
   ]
  },
  {
   "cell_type": "code",
   "execution_count": null,
   "id": "81af1d0f",
   "metadata": {},
   "outputs": [],
   "source": [
    "x, y"
   ]
  },
  {
   "cell_type": "code",
   "execution_count": null,
   "id": "2cad3899",
   "metadata": {},
   "outputs": [],
   "source": [
    "type(vel.wcs.wcs)"
   ]
  },
  {
   "cell_type": "code",
   "execution_count": null,
   "id": "4a94340b",
   "metadata": {},
   "outputs": [],
   "source": [
    "vel.wcs.wcs.world_to_pixel_values(x, y)"
   ]
  },
  {
   "cell_type": "code",
   "execution_count": null,
   "id": "8c7e2c75",
   "metadata": {},
   "outputs": [],
   "source": []
  }
 ],
 "metadata": {
  "jupytext": {
   "encoding": "# -*- coding: utf-8 -*-",
   "formats": "ipynb,py:light,md"
  },
  "kernelspec": {
   "display_name": "Python 3",
   "language": "python",
   "name": "python3"
  },
  "language_info": {
   "codemirror_mode": {
    "name": "ipython",
    "version": 3
   },
   "file_extension": ".py",
   "mimetype": "text/x-python",
   "name": "python",
   "nbconvert_exporter": "python",
   "pygments_lexer": "ipython3",
   "version": "3.9.4"
  }
 },
 "nbformat": 4,
 "nbformat_minor": 5
}
