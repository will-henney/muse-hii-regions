{
 "cells": [
  {
   "cell_type": "markdown",
   "id": "f309618b-1cd0-4c06-ac69-4ad03d400904",
   "metadata": {},
   "source": [
    "# Multi-resolution maps of CO in 30 Dor\n",
    "\n",
    "The idea is to combine the ALMA maps with the APEX maps to fill in the short baselines and get the extended emission.\n",
    "\n",
    "We already have the Alma map, so we need to get the APEX one"
   ]
  },
  {
   "cell_type": "markdown",
   "id": "78673133-cdde-4cb1-a86d-132a480db358",
   "metadata": {},
   "source": [
    "## APEX 12CO map from Okada et al (2019)"
   ]
  },
  {
   "cell_type": "markdown",
   "id": "2ecd36af-7833-4620-bf09-76055ba0955d",
   "metadata": {},
   "source": [
    "We have a cube, so we will sum it in velocity\n",
    "\n",
    "### Write out a summed image file"
   ]
  },
  {
   "cell_type": "code",
   "execution_count": null,
   "id": "c6416c42-28cb-43df-8c40-f1aa987de9da",
   "metadata": {},
   "outputs": [],
   "source": [
    "from pathlib import Path\n",
    "import numpy as np\n",
    "from astropy.io import fits\n",
    "from astropy.wcs import WCS\n",
    "import astropy.units as u\n",
    "from astropy import constants\n",
    "from reproject import reproject_interp\n",
    "\n",
    "from matplotlib import pyplot as plt\n",
    "import seaborn as sns\n",
    "sns.set_context(\"talk\")"
   ]
  },
  {
   "cell_type": "code",
   "execution_count": null,
   "id": "72ad01e5-7633-4d72-bef1-b2f19d22651a",
   "metadata": {},
   "outputs": [],
   "source": [
    "DATAPATH = Path.cwd().parent / \"big-data\" / \"30-Dor-Radio\""
   ]
  },
  {
   "cell_type": "code",
   "execution_count": null,
   "id": "e36f0dfb-9822-4442-bc6e-2029eb3e9dc1",
   "metadata": {},
   "outputs": [],
   "source": [
    "infile = \"30Dor_CO21_map_30.fits\"\n",
    "hdulist = fits.open(DATAPATH / infile)\n",
    "hdulist.info()"
   ]
  },
  {
   "cell_type": "markdown",
   "id": "bd111915-3e33-4d37-b591-4052da17c706",
   "metadata": {},
   "source": [
    "Fix the velocity axis of the header before making the WCS"
   ]
  },
  {
   "cell_type": "code",
   "execution_count": null,
   "id": "3b081895-c95e-4ce2-abe5-31873c269934",
   "metadata": {},
   "outputs": [],
   "source": [
    "hdu = hdulist[0]\n",
    "hdu.header[\"CRVAL3\"] = hdu.header[\"VELO-LSR\"]\n",
    "hdu.header[\"CD3_3\"] = hdu.header[\"CDELT3\"] = hdu.header[\"DELTAV\"]\n",
    "w = WCS(hdu.header)\n",
    "w"
   ]
  },
  {
   "cell_type": "code",
   "execution_count": null,
   "id": "78663b57-3f13-41ab-9bb8-5cc980377b8b",
   "metadata": {},
   "outputs": [],
   "source": [
    "imsum = hdu.data[150:181, ...].sum(axis=0)\n",
    "fits.PrimaryHDU(\n",
    "    header=w.celestial.to_header(),\n",
    "    data=imsum,\n",
    ").writeto(\n",
    "    DATAPATH / infile.replace(\".fits\", \"-sum.fits\"), \n",
    "    overwrite=True,\n",
    ")"
   ]
  },
  {
   "cell_type": "markdown",
   "id": "3ed2f345-7ec4-4cb0-8b9b-2f45d16e9b9b",
   "metadata": {},
   "source": [
    "### Compare with the ALMA map"
   ]
  },
  {
   "cell_type": "markdown",
   "id": "d1c967af-6e17-4b23-8aad-f4e2b2309be9",
   "metadata": {},
   "source": [
    "We want this section to be independent of the previous one, so we will read the data in from the file again."
   ]
  },
  {
   "cell_type": "code",
   "execution_count": null,
   "id": "39475b53-4458-4d3a-a738-1a4f2c52c95a",
   "metadata": {},
   "outputs": [],
   "source": [
    "from astropy.convolution import convolve_fft, Gaussian2DKernel"
   ]
  },
  {
   "cell_type": "code",
   "execution_count": null,
   "id": "1ba01f2e-cafb-4c01-8a85-5bde0d8d4e2f",
   "metadata": {},
   "outputs": [],
   "source": [
    "infile = \"30Dor_CO21_map_30-sum.fits\"\n",
    "hdu, = fits.open(DATAPATH / infile)\n",
    "w = WCS(hdu.header)"
   ]
  },
  {
   "cell_type": "code",
   "execution_count": null,
   "id": "e044ede6-9183-4fc2-9940-aae2a78a6793",
   "metadata": {},
   "outputs": [],
   "source": [
    "DATAPATH2 = Path.cwd().parent / \"data\"\n",
    "infile2 = \"lmc-30dor-ABCD-12co-21-reproject-sum.fits\"\n",
    "hdu2, = fits.open(DATAPATH2 / infile2)\n",
    "w2 = WCS(hdu2.header)"
   ]
  },
  {
   "cell_type": "markdown",
   "id": "a3f5c393-bbd7-434e-a667-59e936b87522",
   "metadata": {},
   "source": [
    "Make a smooth version of alma image:"
   ]
  },
  {
   "cell_type": "code",
   "execution_count": null,
   "id": "428b9f5d-f026-413f-b6ce-7b7115c73713",
   "metadata": {},
   "outputs": [],
   "source": [
    "w2"
   ]
  },
  {
   "cell_type": "markdown",
   "id": "f41524c1-abb4-4a8a-9068-37a3c041579a",
   "metadata": {},
   "source": [
    "Find the equivalent RMS smoothing width of APEX map in Alma pixels"
   ]
  },
  {
   "cell_type": "code",
   "execution_count": null,
   "id": "499adb84-389f-4626-b22a-b4bdb9eb9ae0",
   "metadata": {},
   "outputs": [],
   "source": [
    "apex_fwhm = 30.0 * u.arcsec\n",
    "alma_plate_scale = w2.wcs.cd[1, 1] * u.deg\n",
    "apex_sigma_pixels = float(apex_fwhm / alma_plate_scale) / np.sqrt(8.0 * np.log(2))\n",
    "apex_sigma_pixels"
   ]
  },
  {
   "cell_type": "code",
   "execution_count": null,
   "id": "dae37c49-180e-469b-b159-34f39d947857",
   "metadata": {},
   "outputs": [],
   "source": [
    "kernel = Gaussian2DKernel(apex_sigma_pixels)\n",
    "im_smooth = convolve_fft(hdu2.data, kernel)"
   ]
  },
  {
   "cell_type": "code",
   "execution_count": null,
   "id": "7d17b55b-9fd7-4b37-9ad4-3d9073b66599",
   "metadata": {},
   "outputs": [],
   "source": [
    "fig, ax = plt.subplots(\n",
    "    figsize=(10, 10),\n",
    "    \n",
    "    subplot_kw=dict(projection=w),\n",
    ")\n",
    "im = ax.imshow(hdu.data)\n",
    "xlim, ylim = ax.get_xlim(), ax.get_ylim()\n",
    "ax.contour(\n",
    "    hdu.data, \n",
    "    levels=[1.5, 3, 6, 12, 25, 50, 100, 200, 400],\n",
    "    colors=\"k\",\n",
    ")\n",
    "\n",
    "\n",
    "if True:\n",
    "    ax.contour(\n",
    "        im_smooth, \n",
    "        transform=ax.get_transform(w2),\n",
    "        levels=[1.5, 3, 6, 12, 25, 50, 100, 200, 400],\n",
    "        colors=\"r\",\n",
    "    )\n",
    "else:\n",
    "    ax.imshow(\n",
    "        im_smooth,\n",
    "        transform=ax.get_transform(w2),\n",
    "    )\n",
    "ax.set_xlim(*xlim)\n",
    "ax.set_ylim(*ylim)\n",
    "fig.colorbar(im, ax=ax)\n",
    "...;"
   ]
  },
  {
   "cell_type": "markdown",
   "id": "701f8dbb-01b9-4d1e-8cfc-2242a2074c3d",
   "metadata": {},
   "source": [
    "So that looks good. The contours of the smoothed ALMA map look very similar to the contours of the APEX map.\n",
    "\n",
    "The biggest differences are close to the edges of the MUSE field because we haven't got any ALMA data outside of that. *Although we could get some!*"
   ]
  },
  {
   "cell_type": "markdown",
   "id": "6fd1041e-0793-46b9-be5f-b06b3eab6cf0",
   "metadata": {},
   "source": [
    "The strange thing is that there is not a lot of room for any large-scale emission that would be left over from subtracting the smoothed ALMA map. \n",
    "\n",
    "Could it be that the APEX map is missing those same small baselines that ALMA is? No - not possible since APEX is single-dish"
   ]
  },
  {
   "cell_type": "markdown",
   "id": "b5009c76-3dda-411e-9191-4a5b69bd5c55",
   "metadata": {},
   "source": [
    "## Make a bigger ALMA map\n",
    "\n",
    "Currently the ALMA map is restricted to the MUSE field.  We wil lmake another one that extends another 60 arcsec on each side. This will eliminate any edge effects in the MUSE field. "
   ]
  },
  {
   "cell_type": "code",
   "execution_count": null,
   "id": "30453ffd-df7a-46e7-9f66-21d9d06ad033",
   "metadata": {},
   "outputs": [],
   "source": [
    "uids = [\"218a\", \"2192\", \"219a\"]\n",
    "line_id = \"12CO21\"\n",
    "label = \"sum\"\n",
    "PREFIX = \"Alma-2019.1.00843.S-30_doradus\"\n",
    "\n",
    "data_12co = {\n",
    "    uid: fits.open(DATAPATH / f\"{PREFIX}_{line_id}-{uid}-{label}.fits\")[\"PRIMARY\"]\n",
    "    for uid in uids\n",
    "}"
   ]
  },
  {
   "cell_type": "code",
   "execution_count": null,
   "id": "e48992b0-29d4-4ed6-94a7-17c0e194fa04",
   "metadata": {},
   "outputs": [],
   "source": [
    "data_12co"
   ]
  },
  {
   "cell_type": "markdown",
   "id": "b9ae9ea1-d432-427c-b6e3-7cad3ab5182e",
   "metadata": {},
   "source": [
    "Make the output projection"
   ]
  },
  {
   "cell_type": "code",
   "execution_count": null,
   "id": "2465ae7d-caea-4855-98e4-e845c0abe611",
   "metadata": {},
   "outputs": [],
   "source": [
    "hdr = hdu2.header.copy()\n",
    "margin_arcsec = 60.0\n",
    "pix_scale = 0.2\n",
    "margin_pix = int(margin_arcsec / pix_scale)\n",
    "hdr[\"NAXIS1\"] += 2 * margin_pix\n",
    "hdr[\"NAXIS2\"] += 2 * margin_pix\n",
    "hdr[\"CRPIX1\"] += margin_pix\n",
    "hdr[\"CRPIX2\"] += margin_pix\n",
    "hdr"
   ]
  },
  {
   "cell_type": "code",
   "execution_count": null,
   "id": "f5213b72-9416-4e28-825c-3c47c2471737",
   "metadata": {},
   "outputs": [],
   "source": [
    "images = [\n",
    "    reproject_interp(hdu, hdr, return_footprint=False)\n",
    "    for hdu in data_12co.values()\n",
    "]"
   ]
  },
  {
   "cell_type": "code",
   "execution_count": null,
   "id": "173eeca9-7a7c-4802-b0d6-48ea708861fa",
   "metadata": {},
   "outputs": [],
   "source": [
    "bigim = np.nanmedian(\n",
    "    np.stack(images),\n",
    "    axis=0,\n",
    ")\n",
    "#im[~np.isfinite(im)] = 0.0\n",
    "fig, ax = plt.subplots(\n",
    "    figsize=(10, 10),\n",
    "    subplot_kw=dict(projection=WCS(hdr)),\n",
    ")\n",
    "ax.imshow(\n",
    "    bigim,\n",
    "     vmin=0.0, \n",
    "     vmax=1e2,\n",
    "    cmap=\"inferno\",\n",
    ")\n",
    "ax.contour(\n",
    "    convolve_fft(bigim, kernel),\n",
    "    levels=[1.5, 3, 6, 12, 25, 50, 100, 200, 400],\n",
    "    colors=\"white\",\n",
    ")\n",
    "ax.set_aspect(\"equal\")"
   ]
  },
  {
   "cell_type": "markdown",
   "id": "5a3652df-450b-4cc0-8ee1-305d02e3d0a5",
   "metadata": {},
   "source": [
    "This shows the original ALMA image in color map, and the image smoothed to 30 arcsec fwhm in contours. "
   ]
  },
  {
   "cell_type": "markdown",
   "id": "8fcd145e-20c7-4a12-ae5d-e7c915c495df",
   "metadata": {},
   "source": [
    "### Reproject smooth ALMA map to APEX pixels"
   ]
  },
  {
   "cell_type": "code",
   "execution_count": null,
   "id": "05da7ce0-090d-4a06-9113-91ad94ebfa1e",
   "metadata": {},
   "outputs": [],
   "source": [
    "imr = reproject_interp(\n",
    "    (convolve_fft(bigim, kernel), hdr),\n",
    "    hdu.header,\n",
    "    return_footprint=False,\n",
    ")"
   ]
  },
  {
   "cell_type": "markdown",
   "id": "ef670f95-83b0-4758-ab12-df95ad2e76bd",
   "metadata": {},
   "source": [
    "We can subtract the smoothed ALMA map from the APEX map to see what large-scale emission we are supposedly missing: "
   ]
  },
  {
   "cell_type": "code",
   "execution_count": null,
   "id": "993c35c0-6672-4eb2-b9be-01d10100ddfd",
   "metadata": {},
   "outputs": [],
   "source": [
    "fig, [ax, axx] = plt.subplots(\n",
    "    1, 2,\n",
    "    figsize=(15, 8),\n",
    "    sharex=True,\n",
    "    sharey=True,\n",
    "    subplot_kw=dict(projection=w),\n",
    ")\n",
    "levels = [1.5, 3, 6, 12, 25, 50, 100, 200, 400]\n",
    "apex_map = hdu.data - np.nanmin(hdu.data)\n",
    "im = ax.imshow(apex_map)\n",
    "ax.contour(\n",
    "    apex_map, \n",
    "    levels=levels,\n",
    "    colors=\"k\",\n",
    ")\n",
    "ax.contour(\n",
    "    imr, \n",
    "    levels=levels,\n",
    "    colors=\"r\",\n",
    ")\n",
    "diff = apex_map -  1.0 * imr\n",
    "axx.imshow(diff, vmin=im.norm.vmin, vmax=im.norm.vmax)\n",
    "axx.contour(diff, levels=levels, colors=\"r\")\n",
    "axx.contour(diff, levels=[0], colors=\"w\")\n",
    "fig.colorbar(im, ax=[ax, axx])\n",
    "...;"
   ]
  },
  {
   "cell_type": "code",
   "execution_count": null,
   "id": "7b92ca00-3507-49e1-a64a-ab2e1db31484",
   "metadata": {},
   "outputs": [],
   "source": [
    "m = np.isfinite(diff) & (diff > 0.0)\n",
    "np.nansum(diff[m]), np.nansum(imr[m]), np.nansum(apex_map[m])"
   ]
  },
  {
   "cell_type": "markdown",
   "id": "be2bb46e-e28e-4d84-b24a-6f9c8c036926",
   "metadata": {},
   "source": [
    "So this shows that the ALMA map captures 65% of the flux"
   ]
  },
  {
   "cell_type": "markdown",
   "id": "b0cd64a2-b918-4afe-8027-155ed7542f2e",
   "metadata": {},
   "source": [
    "So now we can reproject the difference map back onto the MUSE grid.  We have two versions, `diff_big` is a larger field of view, while `diff_muse` is just the original MUSE field. "
   ]
  },
  {
   "cell_type": "code",
   "execution_count": null,
   "id": "085b1f9c-8ab4-4835-ae0b-891632ccb4a1",
   "metadata": {},
   "outputs": [],
   "source": [
    "diff_big = reproject_interp(\n",
    "    (diff, hdu.header),\n",
    "    hdr,\n",
    "    return_footprint=False,\n",
    ")\n",
    "diff_muse = reproject_interp(\n",
    "    (diff, hdu.header),\n",
    "    hdu2.header,\n",
    "    return_footprint=False,\n",
    ")"
   ]
  },
  {
   "cell_type": "code",
   "execution_count": null,
   "id": "6fdbe069-015a-4fed-bfd3-9cde913024d0",
   "metadata": {},
   "outputs": [],
   "source": [
    "np.nanmax(diff_muse), np.nanmax(hdu2.data)"
   ]
  },
  {
   "cell_type": "markdown",
   "id": "681450a7-e7c3-4b57-b395-102912ec1961",
   "metadata": {},
   "source": [
    "So, I will plot these to see if we can see the effects of the APEX addition.  **It turns out that there is no practical difference.**  The additional flux that the single-dish measurements give is negligible compared with what ALMA detects. \n",
    "\n",
    "This is because despite being 35% of the total flux, its maximum value is only 2% of the ALMA peaks."
   ]
  },
  {
   "cell_type": "code",
   "execution_count": null,
   "id": "af7f8587-d4b6-417e-9270-33587bf2ab93",
   "metadata": {},
   "outputs": [],
   "source": [
    "fig, ax = plt.subplots(\n",
    "    figsize=(15, 15),\n",
    "    subplot_kw=dict(projection=WCS(hdr)),\n",
    ")\n",
    "ax.imshow(\n",
    "    diff_big + bigim,\n",
    "#    bigim,\n",
    "#    diff_muse,\n",
    "    vmin=0.0,\n",
    "    vmax=400.0,\n",
    "    cmap=\"inferno\",\n",
    ")"
   ]
  },
  {
   "cell_type": "code",
   "execution_count": null,
   "id": "3d6bff4c-ccc2-4ccb-9624-15e53d98510a",
   "metadata": {},
   "outputs": [],
   "source": [
    "fig, ax = plt.subplots(\n",
    "    figsize=(15, 15),\n",
    "    subplot_kw=dict(projection=w2),\n",
    ")\n",
    "ax.imshow(\n",
    "    diff_muse + hdu2.data,\n",
    "#    bigim,\n",
    "#    diff_muse,\n",
    "    vmin=0.0,\n",
    "    vmax=100.0,\n",
    "    cmap=\"inferno\",\n",
    ")\n",
    "ax.contour(\n",
    "    diff_muse + hdu2.data,\n",
    "    levels=[0],\n",
    "    colors=\"c\",\n",
    ")"
   ]
  },
  {
   "cell_type": "markdown",
   "id": "e17cf9b6-6432-4f2b-a0f5-7506219a7092",
   "metadata": {},
   "source": [
    "The contours show the zero-level. So there are still lots of negative regions in the combined map.  This is probably because mof still-missing short baselines."
   ]
  },
  {
   "cell_type": "markdown",
   "id": "43aa5b39-0787-4431-9f7c-05e6941403fc",
   "metadata": {},
   "source": [
    "## Write out FITS files of the combined maps"
   ]
  },
  {
   "cell_type": "code",
   "execution_count": null,
   "id": "34e373d0-0470-4025-b83c-ad693ea08f0f",
   "metadata": {},
   "outputs": [],
   "source": [
    "fits.PrimaryHDU(\n",
    "    data=diff_muse + hdu2.data,\n",
    "    header=hdu2.header,\n",
    ").writeto(\n",
    "    DATAPATH2 / \"lmc-30dor-ABCD-12co-reproject.fits\",\n",
    "    overwrite=True,\n",
    ")\n",
    "fits.PrimaryHDU(\n",
    "    data=diff_big + bigim,\n",
    "    header=hdr,\n",
    ").writeto(\n",
    "    DATAPATH2 / \"lmc-30dor-EXTEND-12co-reproject.fits\",\n",
    "    overwrite=True,\n",
    ")"
   ]
  },
  {
   "cell_type": "code",
   "execution_count": null,
   "id": "b55d0b0d-87e9-4b95-bb0a-d3bb55b5bdf0",
   "metadata": {},
   "outputs": [],
   "source": []
  }
 ],
 "metadata": {
  "jupytext": {
   "formats": "ipynb,py:light,md"
  },
  "kernelspec": {
   "display_name": "Python 3",
   "language": "python",
   "name": "python3"
  },
  "language_info": {
   "codemirror_mode": {
    "name": "ipython",
    "version": 3
   },
   "file_extension": ".py",
   "mimetype": "text/x-python",
   "name": "python",
   "nbconvert_exporter": "python",
   "pygments_lexer": "ipython3",
   "version": "3.9.4"
  }
 },
 "nbformat": 4,
 "nbformat_minor": 5
}
