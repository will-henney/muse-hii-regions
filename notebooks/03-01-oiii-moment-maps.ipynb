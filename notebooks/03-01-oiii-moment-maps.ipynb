{
 "cells": [
  {
   "cell_type": "markdown",
   "id": "0e5367a6",
   "metadata": {},
   "source": [
    "# Kinematics of [O III]\n",
    "\n",
    "We will calculate the velocity moments for [O III] to compare with the ones we already calculated for H alpha.  There are some advantages in using [O III] over H alpha:\n",
    "\n",
    "* There are two lines with a known ratio, which allows checking the intensity zero-point easily\n",
    "* Thermal broadening is less\n",
    "* Photospheric absorption is less\n",
    "* ~It looks like there might be less problem with bad sky subtraction~ *Turns out, not so much :(*\n",
    "\n",
    "On the other hand, there is at least one disadvantage:\n",
    "\n",
    "* The spectral resolution is lower (in velocity units)\n"
   ]
  },
  {
   "cell_type": "markdown",
   "id": "cacbbe91",
   "metadata": {},
   "source": [
    "Load libraries and data cube (identical to earlier notebooks):"
   ]
  },
  {
   "cell_type": "code",
   "execution_count": null,
   "id": "74c855eb",
   "metadata": {},
   "outputs": [],
   "source": [
    "from pathlib import Path\n",
    "import numpy as np\n",
    "from matplotlib import pyplot as plt\n",
    "import seaborn as sns\n",
    "from mpdaf.obj import Cube\n",
    "import astropy.units as u\n",
    "sns.set_context(\"talk\")\n",
    "sns.set_color_codes()"
   ]
  },
  {
   "cell_type": "code",
   "execution_count": null,
   "id": "2e9f0f5d",
   "metadata": {},
   "outputs": [],
   "source": [
    "datapath = Path(\"/Users/will/Work/Muse-Hii-Data/SMC-NGC-346/\")\n",
    "fitsfilepath = datapath / \"ADP.2017-10-16T11_04_19.247.fits\"\n",
    "cube = Cube(str(fitsfilepath))"
   ]
  },
  {
   "cell_type": "markdown",
   "id": "d4caba3f",
   "metadata": {},
   "source": [
    "I have now moved functions for dealing with the velocity moments to a separate library:"
   ]
  },
  {
   "cell_type": "code",
   "execution_count": null,
   "id": "b2ab4d32",
   "metadata": {},
   "outputs": [],
   "source": [
    "import sys\n",
    "sys.path.append(\"../lib\")\n",
    "import moments"
   ]
  },
  {
   "cell_type": "markdown",
   "id": "63160078",
   "metadata": {},
   "source": [
    "Where to save figures and FITS images:"
   ]
  },
  {
   "cell_type": "code",
   "execution_count": null,
   "id": "40a9f6d0",
   "metadata": {},
   "outputs": [],
   "source": [
    "moments.FIGPATH = Path(\"../figs\")\n",
    "moments.SAVEPATH = Path(\"../data\")"
   ]
  },
  {
   "cell_type": "markdown",
   "id": "f011e6f5",
   "metadata": {},
   "source": [
    "## Choose the wavelength range\n",
    "\n",
    "### Broad overview\n",
    "\n",
    "First we inspect the spectrum in 6 broad horizontal strips across the image, from south to north. "
   ]
  },
  {
   "cell_type": "code",
   "execution_count": null,
   "id": "6d24456e",
   "metadata": {},
   "outputs": [],
   "source": [
    "jstrips = [\n",
    "    [0, 50], [50, 100], [100, 150], \n",
    "    [150, 200], [200, 250], [250, -1],\n",
    "]"
   ]
  },
  {
   "cell_type": "code",
   "execution_count": null,
   "id": "3f90c644",
   "metadata": {},
   "outputs": [],
   "source": [
    "wide_band = cube.select_lambda(4850, 5050)\n",
    "fig, ax = plt.subplots(figsize=(10, 8))\n",
    "for (j1, j2) in jstrips:\n",
    "    (wide_band[:, j1:j2, :]\n",
    "     .mean(axis=(1, 2))\n",
    "     .plot(label=f\"j = {j1}:{j2}\"))\n",
    "ax.legend(ncol=2)\n",
    "ax.set(yscale=\"log\")\n",
    "sns.despine();"
   ]
  },
  {
   "cell_type": "markdown",
   "id": "44555fb6",
   "metadata": {},
   "source": [
    "So, this makes it look like all the lines are positive (but this is unfortunately not the case!).  The other weak lines that we see are He I 4922 and 5016 Å."
   ]
  },
  {
   "cell_type": "markdown",
   "id": "28f62168",
   "metadata": {},
   "source": [
    "### Narrow in on the [O III] doublet\n",
    "\n",
    "Set some limits for the continuum and line extraction:"
   ]
  },
  {
   "cell_type": "code",
   "execution_count": null,
   "id": "a88cc24e",
   "metadata": {},
   "outputs": [],
   "source": [
    "wlim = {\n",
    "    \"4959\": {\n",
    "        \"core\": [4953.0, 4969.0],\n",
    "        \"blue\": [4947.0, 4953.0],\n",
    "        \"red\": [4969.0, 4975.0],\n",
    "    },\n",
    "    \"5007\": {\n",
    "        \"core\": [5002.0, 5016.0],\n",
    "        \"blue\": [4995.0, 5001.0],\n",
    "        \"red\": [5022.0, 5028.0],\n",
    "    }\n",
    "}\n",
    "rangecolors = {\"core\": \"g\", \"blue\": \"b\", \"red\": \"r\"}"
   ]
  },
  {
   "cell_type": "markdown",
   "id": "d429fafe",
   "metadata": {},
   "source": [
    "Plot these limits zoomed in on the two [O III] lines:"
   ]
  },
  {
   "cell_type": "code",
   "execution_count": null,
   "id": "0fb2b97e",
   "metadata": {},
   "outputs": [],
   "source": [
    "medium_band = cube.select_lambda(4940, 5040)\n",
    "fig, ax = plt.subplots(figsize=(10, 8))\n",
    "for (j1, j2) in jstrips:\n",
    "    (medium_band[:, j1:j2, :]\n",
    "     .mean(axis=(1, 2))\n",
    "     .plot(label=f\"j = {j1}:{j2}\", linewidth=2))\n",
    "    \n",
    "for line, linedata in wlim.items():\n",
    "    for span, spandata in linedata.items():\n",
    "        ax.axvspan(\n",
    "            spandata[0], spandata[1], \n",
    "            alpha=0.2, \n",
    "            color=rangecolors[span], \n",
    "            zorder=-100\n",
    "        )\n",
    "ax.legend(ncol=2)\n",
    "ax.set(yscale=\"linear\", ylim=[0.0, 1000])\n",
    "sns.despine();"
   ]
  },
  {
   "cell_type": "markdown",
   "id": "e3429483",
   "metadata": {},
   "source": [
    "That seems to look fine.  Note that the red continuum band for 5007 is separated a bit from the core to allow space for the He I line (although it is so weak that this probably doesn't matter).\n",
    "\n",
    "### Do continuum subtraction\n",
    "\n",
    "Now, we can use the same `wlim` data to extract the line and continuum:"
   ]
  },
  {
   "cell_type": "code",
   "execution_count": null,
   "id": "798d2601",
   "metadata": {},
   "outputs": [],
   "source": [
    "def extract_core_and_cont(cube, spandata):\n",
    "    \"\"\"Return continuum-subtracted line core and continuum map\n",
    "    \n",
    "    The line core is a 3D cube over the narrow core wavelengths\n",
    "    \"\"\"\n",
    "    cblue = cube.select_lambda(*spandata[\"blue\"]).mean(axis=0)\n",
    "    cred = cube.select_lambda(*spandata[\"red\"]).mean(axis=0)\n",
    "    cont = 0.5*(cblue + cred)\n",
    "    core = cube.select_lambda(*spandata[\"core\"]) - cont\n",
    "    return core, cont"
   ]
  },
  {
   "cell_type": "code",
   "execution_count": null,
   "id": "4be299bc",
   "metadata": {},
   "outputs": [],
   "source": [
    "core5007, cont5007 = extract_core_and_cont(medium_band, wlim[\"5007\"])\n",
    "core4959, cont4959 = extract_core_and_cont(medium_band, wlim[\"4959\"])"
   ]
  },
  {
   "cell_type": "markdown",
   "id": "0f89dc1a",
   "metadata": {},
   "source": [
    "Plot the line core and the continuum for 5007 and 4959"
   ]
  },
  {
   "cell_type": "code",
   "execution_count": null,
   "id": "0dad89d8",
   "metadata": {},
   "outputs": [],
   "source": [
    "fig, axes = plt.subplots(\n",
    "    2, 2,\n",
    "    figsize=(10, 10), \n",
    "    sharex=True, \n",
    "    sharey=True,\n",
    ")\n",
    "core5007.sum(axis=0).plot(ax=axes[0, 0])\n",
    "core4959.sum(axis=0).plot(ax=axes[0, 1])\n",
    "cont5007.plot(ax=axes[1, 0], scale=\"sqrt\")\n",
    "cont4959.plot(ax=axes[1, 1], scale=\"sqrt\")\n",
    "axes[0, 0].contour(core5007.sum(axis=0).data, levels=[0.0], colors=\"r\")\n",
    "axes[0, 1].contour(core4959.sum(axis=0).data, levels=[0.0], colors=\"r\")\n",
    "axes[1, 0].contour(cont5007.data, levels=[0.0], colors=\"r\")\n",
    "axes[1, 1].contour(cont4959.data, levels=[0.0], colors=\"r\")\n",
    "fig.tight_layout(pad=0);"
   ]
  },
  {
   "cell_type": "markdown",
   "id": "9af20cc9",
   "metadata": {},
   "source": [
    "The red contours show the zero level.  Both lines pass through zero in exactly the same place.  The two continuum maps also have negative regions, but they are completely unrelated to in the line maps (although very similar between themsleves)."
   ]
  },
  {
   "cell_type": "markdown",
   "id": "92ae9f34",
   "metadata": {},
   "source": [
    "## Wavelength moments\n",
    "\n",
    "We now use the functions defined in my `moments` package (`../lib/moments.py`)."
   ]
  },
  {
   "cell_type": "markdown",
   "id": "3b11dc0e",
   "metadata": {},
   "source": [
    "### First look without having fixed the sky\n",
    "\n",
    "This comes out bad because of the zero crossing of the intensity"
   ]
  },
  {
   "cell_type": "code",
   "execution_count": null,
   "id": "8a468ed7",
   "metadata": {},
   "outputs": [],
   "source": [
    "mom5007 = moments.find_moments(core5007)\n",
    "fig, ax = plt.subplots(figsize=(8, 8))\n",
    "mom5007[1].plot(\n",
    "    cmap=\"seismic\",\n",
    "    vmin=5008.5, \n",
    "    vmax=5010.5,\n",
    "    colorbar=\"v\",\n",
    ");"
   ]
  },
  {
   "cell_type": "markdown",
   "id": "b6619580",
   "metadata": {},
   "source": [
    "This looks remarkably similar to the Ha moment map before correction"
   ]
  },
  {
   "cell_type": "markdown",
   "id": "2aaef859",
   "metadata": {},
   "source": [
    "### Make the correction for the bad sky subtraction\n",
    "\n",
    "We will first assume that we can correct with exactly the same 3 pixels as we used for H alpha:"
   ]
  },
  {
   "cell_type": "code",
   "execution_count": null,
   "id": "747cadd7",
   "metadata": {},
   "outputs": [],
   "source": [
    "skyspec5007 = core5007[:, 8:9, 103:106].mean(axis=(1, 2))\n",
    "skyspec4959 = core4959[:, 8:9, 103:106].mean(axis=(1, 2))"
   ]
  },
  {
   "cell_type": "markdown",
   "id": "90248262",
   "metadata": {},
   "source": [
    "Inspect the profile in the sky pixels:"
   ]
  },
  {
   "cell_type": "code",
   "execution_count": null,
   "id": "f651446b",
   "metadata": {},
   "outputs": [],
   "source": [
    "fig, ax = plt.subplots(figsize=(8,4))\n",
    "skyspec4959.plot(ax=ax, label=\"4959\", linewidth=2)\n",
    "ax.plot(\n",
    "    skyspec5007.wave.coord() + (4958.91 - 5006.84), \n",
    "    skyspec5007.data / 3.0,\n",
    "    label=\"5007\", linestyle=\"--\", marker=\".\",\n",
    "    drawstyle=\"steps-mid\",\n",
    ")\n",
    "#skyspec5007.plot(ax=ax, label=\"5007\", linestyle=\"--\")\n",
    "ax.legend()\n",
    "fig.tight_layout()\n",
    "sns.despine()"
   ]
  },
  {
   "cell_type": "markdown",
   "id": "ddf67c48",
   "metadata": {},
   "source": [
    "Note that I have shifted the 5007 line to match up the rest wavelengths and divided the intensity by 3.  The lines agree very well. \n",
    "\n",
    "Note also the displacement in wavelength bin centers in their respective rest wavelength frame.  In principle, we could take advantage of this to more finely sample the line profile."
   ]
  },
  {
   "cell_type": "markdown",
   "id": "4e5eebec",
   "metadata": {},
   "source": [
    "Now look at the effect of the sky correction on a similar sample of pixels as those that we used for H alpha.  I have changed the bottom row ones, in order to find pixels that were truly bright in [O III]:"
   ]
  },
  {
   "cell_type": "code",
   "execution_count": null,
   "id": "91370ca7",
   "metadata": {},
   "outputs": [],
   "source": [
    "testpixels = [\n",
    "    [250, 160], [150, 150], [10, 300],\n",
    "    [70, 250], [75, 200], [310, 225],\n",
    "    [75, 75], [30, 120], [150, 115], #[180, 290],\n",
    "]\n",
    "fig, axes = plt.subplots(\n",
    "    3, 3, \n",
    "    figsize=(10, 8), \n",
    "    sharex=True,\n",
    "    sharey=\"row\",\n",
    ")\n",
    "for (j, i), ax in zip(testpixels, axes.flat):\n",
    "    core5007[:, j, i].plot(ax=ax)\n",
    "    (core5007[:, j, i] - skyspec5007).plot(ax=ax) \n",
    "    ax.set(xlabel=\"\", ylabel=\"\")\n",
    "    ax.set_title(f\"[{j}, {i}]\")\n",
    "fig.suptitle(\n",
    "    \"Before/after sky correction for faint/moderate/bright pixels\"\n",
    ")\n",
    "sns.despine()\n",
    "fig.tight_layout();"
   ]
  },
  {
   "cell_type": "markdown",
   "id": "fe011fb9",
   "metadata": {},
   "source": [
    "Apart from the brightest pixels (bottom row), the correction is very substantial."
   ]
  },
  {
   "cell_type": "markdown",
   "id": "91e7bdd7",
   "metadata": {},
   "source": [
    "### Recalculate the moments after correcting the sky\n",
    "\n",
    "Side-by-side comparison of the first moment for 5007 and 4959:"
   ]
  },
  {
   "cell_type": "code",
   "execution_count": null,
   "id": "0851fd34",
   "metadata": {},
   "outputs": [],
   "source": [
    "mom5007 = moments.find_moments(core5007 - skyspec5007)\n",
    "mom4959 = moments.find_moments(core4959 - skyspec4959)\n",
    "fig, axes = plt.subplots(1, 2, figsize=(10, 5))\n",
    "mom5007[1].plot(\n",
    "    cmap=\"seismic\",\n",
    "    vmin=5009.0, \n",
    "    vmax=5010.0,\n",
    "    colorbar=\"h\",\n",
    "    ax=axes[0],\n",
    ")\n",
    "mom4959[1].plot(\n",
    "    cmap=\"seismic\",\n",
    "    vmin=4961.0, \n",
    "    vmax=4962.0,\n",
    "    colorbar=\"h\",\n",
    "    ax=axes[1],\n",
    ")\n",
    "fig.tight_layout(h_pad=10);"
   ]
  },
  {
   "cell_type": "markdown",
   "id": "ccc16117",
   "metadata": {},
   "source": [
    "These look very similar to the H alpha map in general.  They are also extremely similar to one another.  Both of these facts are reassuring.  \n",
    "\n",
    "On the negative side, there do be some artefacts, particularly horizontal stripes. These tend to occur at \"significant\" j values, such as 80, 160, 240, which correspond to different IFUs I think."
   ]
  },
  {
   "cell_type": "code",
   "execution_count": null,
   "id": "a5d83d30",
   "metadata": {},
   "outputs": [],
   "source": [
    "fig, axes = plt.subplots(\n",
    "    1, 2, \n",
    "    figsize=(10, 5),\n",
    "    sharey=True,\n",
    ")\n",
    "mom5007[2].plot(\n",
    "    cmap=\"gray\",\n",
    "    vmin=0.5, \n",
    "    vmax=1.5,\n",
    "    colorbar=\"v\",\n",
    "    ax=axes[0],\n",
    ");\n",
    "mom4959[2].plot(\n",
    "    cmap=\"gray\",\n",
    "    vmin=0.5, \n",
    "    vmax=1.5,\n",
    "    colorbar=\"v\",\n",
    "    ax=axes[1],\n",
    ");\n",
    "fig.tight_layout();"
   ]
  },
  {
   "cell_type": "code",
   "execution_count": null,
   "id": "c8841665",
   "metadata": {},
   "outputs": [],
   "source": [
    "fig, ax = plt.subplots()\n",
    "wav5007 = np.median(mom5007[1].data.data)\n",
    "wav4959 = np.median(mom4959[1].data.data)\n",
    "#ax.plot(mom5007[1].data.mean(axis=1) - wav5007)\n",
    "#ax.plot(mom4959[1].data.mean(axis=1) - wav4959)\n",
    "ax.plot(\n",
    "    np.median(mom5007[1].data.data, axis=1)\n",
    "    - wav5007\n",
    ")\n",
    "ax.plot(\n",
    "    np.median(mom4959[1].data.data, axis=1)\n",
    "    - wav4959\n",
    ")\n",
    "ax.set(ylim=[-0.12, 0.12])\n",
    "for i0 in [80, 160, 240]:\n",
    "    ax.axvline(i0, lw=0.5, color=\"k\", alpha=0.2)\n",
    "wav5007, wav4959"
   ]
  },
  {
   "cell_type": "code",
   "execution_count": null,
   "id": "80af78d1",
   "metadata": {},
   "outputs": [],
   "source": [
    "fig, ax = plt.subplots()\n",
    "ax.plot(\n",
    "    np.median(mom5007[1].data.data, axis=0)\n",
    "    - wav5007\n",
    ")\n",
    "ax.plot(\n",
    "    np.median(mom4959[1].data.data, axis=0)\n",
    "    - wav4959\n",
    ")\n",
    "#ax.plot(mom5007[1].data.mean(axis=0) - wav5007)\n",
    "#ax.plot(mom4959[1].data.mean(axis=0) - wav4959)\n",
    "ax.set(ylim=[-0.12, 0.12]);\n",
    "#for i0 in [80, 160, 240]:\n",
    "#    ax.axvline(i0, lw=0.5, color=\"k\", alpha=0.2)"
   ]
  },
  {
   "cell_type": "code",
   "execution_count": null,
   "id": "5c56dbc6",
   "metadata": {},
   "outputs": [],
   "source": [
    "import pandas as pd"
   ]
  },
  {
   "cell_type": "code",
   "execution_count": null,
   "id": "0f6ba219",
   "metadata": {},
   "outputs": [],
   "source": [
    "moments.save_moments_to_fits(\n",
    "    mom5007,\n",
    "    label=\"5007\",\n",
    "    flabel=\"ngc346-oiii\",\n",
    "    restwav=5006.84,\n",
    "    irange=[1.0e4, 3.0e5],\n",
    "    vrange=[135, 195],\n",
    "    srange=[50, 90],\n",
    ")"
   ]
  },
  {
   "cell_type": "code",
   "execution_count": null,
   "id": "832ca92c",
   "metadata": {},
   "outputs": [],
   "source": [
    "plot_pars_5007=dict(\n",
    "    ilabel=\"[O III]\",\n",
    "    label=\"5007\",\n",
    "    flabel=\"ngc346-oiii\",\n",
    "    restwav=5006.84,\n",
    "    irange=[1.0e4, 3.0e5],\n",
    "    vrange=[135, 195],\n",
    "    srange=[50, 90],\n",
    ")\n",
    "g = moments.moments_corner_plot(\n",
    "    mom5007, rebin=1, **plot_pars_5007\n",
    ")"
   ]
  },
  {
   "cell_type": "code",
   "execution_count": null,
   "id": "67c0b3fe",
   "metadata": {},
   "outputs": [],
   "source": [
    "g = moments.moments_corner_plot(\n",
    "    mom5007, rebin=4, **plot_pars_5007\n",
    ")"
   ]
  },
  {
   "cell_type": "code",
   "execution_count": null,
   "id": "97f7c7cd",
   "metadata": {},
   "outputs": [],
   "source": [
    "g = moments.moments_corner_plot(\n",
    "    mom5007, rebin=16, **plot_pars_5007,\n",
    "    hist_bins=40,\n",
    "    image_bins=20,    \n",
    ")"
   ]
  },
  {
   "cell_type": "code",
   "execution_count": null,
   "id": "a42bbdb7",
   "metadata": {},
   "outputs": [],
   "source": [
    "m = (mom5007[0].mask \n",
    "     | (mom5007[0].data < 2e4)\n",
    "     | (mom5007[1].data < 5009.2) \n",
    "     | (mom5007[1].data > 5009.8)\n",
    "     | (mom5007[2].data < 0.8)\n",
    "     | (mom5007[2].data > 1.5)\n",
    "    )\n",
    "df = pd.DataFrame({\n",
    "    \"log10 I(5007)\": np.log10(mom5007[0].data[~m]),\n",
    "    \"V(5007)\": 3e5 * (mom5007[1].data[~m] - 5006.84) / 5006.84,\n",
    "    \"sig(5007)\": 3e5 * mom5007[2].data[~m] / 5006.84,\n",
    "})\n",
    "df.describe()"
   ]
  },
  {
   "cell_type": "code",
   "execution_count": null,
   "id": "5e32c620",
   "metadata": {},
   "outputs": [],
   "source": [
    "g = sns.pairplot(\n",
    "    df,\n",
    "    kind=\"hist\",\n",
    "    height=4,\n",
    "    corner=True,\n",
    "    plot_kws=dict(color=\"r\"),\n",
    "    diag_kws=dict(color=\"r\"),\n",
    ")\n",
    "g.fig.suptitle(\"[O III] 5007 corrected, normalized moments\")\n",
    "g.tight_layout(pad=0);"
   ]
  },
  {
   "cell_type": "code",
   "execution_count": null,
   "id": "c9297baa",
   "metadata": {},
   "outputs": [],
   "source": [
    "m = (mom4959[0].mask \n",
    "     | (mom4959[0].data < 0.67e4)\n",
    "     | (mom4959[1].data < 4961.2) \n",
    "     | (mom4959[1].data > 4961.8)\n",
    "     | (mom4959[2].data < 0.8)\n",
    "     | (mom4959[2].data > 1.5)\n",
    "    )\n",
    "df4959 = pd.DataFrame({\n",
    "    \"log10 I(4959)\": np.log10(mom4959[0].data[~m]),\n",
    "    \"V(4959)\": 3e5 * (mom4959[1].data[~m] - 4958.91) / 4958.91,\n",
    "    \"sig(4959)\": 3e5 * mom4959[2].data[~m] / 4958.91,\n",
    "})\n",
    "df4959.describe()"
   ]
  },
  {
   "cell_type": "code",
   "execution_count": null,
   "id": "7debb9d7",
   "metadata": {},
   "outputs": [],
   "source": [
    "g = sns.pairplot(\n",
    "    df4959,\n",
    "    kind=\"hist\",\n",
    "    height=4,\n",
    "    corner=True,\n",
    "    plot_kws=dict(color=\"m\"),\n",
    "    diag_kws=dict(color=\"m\"),\n",
    ")\n",
    "g.fig.suptitle(\"[O III] 4959 corrected, normalized moments\")\n",
    "g.tight_layout(pad=0);"
   ]
  },
  {
   "cell_type": "markdown",
   "id": "533571a4",
   "metadata": {},
   "source": [
    "The distributions are very consistent between the two [O III] lines.  They are also quite similar to H alpha, especially in the mid-range of intensity.\n",
    "\n",
    "There is clear evidence for a bimodal distribution of velocities, separated by about 6 km/s. A narrow component at 164 km/s and a broader component at 158 km/s. Then there is a third, weaker component at 166 km/s.  These are all from 5007 - the same is seen for 4959, but with a shift of -2 km/s.  Width is also higher for 4959 - could this be due to a blend with something?\n",
    "\n",
    "There is a very slight reduction in line width with velocity, which is seen in all the lines."
   ]
  },
  {
   "cell_type": "markdown",
   "id": "77e68950",
   "metadata": {},
   "source": [
    "Now look at the cross-correlations between the two lines:"
   ]
  },
  {
   "cell_type": "code",
   "execution_count": null,
   "id": "fa788dcd",
   "metadata": {},
   "outputs": [],
   "source": [
    "m = (mom5007[0].mask \n",
    "     | (mom5007[0].data < 2e4)\n",
    "     | (mom5007[1].data < 5009.2) \n",
    "     | (mom5007[1].data > 5009.8)\n",
    "     | (mom5007[2].data < 0.8)\n",
    "     | (mom5007[2].data > 1.5)\n",
    "     | mom4959[0].mask \n",
    "     | (mom4959[0].data < 0.67e4)\n",
    "     | (mom4959[1].data < 4961.2) \n",
    "     | (mom4959[1].data > 4961.8)\n",
    "     | (mom4959[2].data < 0.8)\n",
    "     | (mom4959[2].data > 1.5)\n",
    "    )\n",
    "df2 = pd.DataFrame({\n",
    "    \"log10 I(5007)\": np.log10(mom5007[0].data[~m]),\n",
    "    \"V(5007)\": 3e5 * (mom5007[1].data[~m] - 5006.84) / 5006.84,\n",
    "    \"sig(5007)\": 3e5 * mom5007[2].data[~m] / 5006.84,\n",
    "    \"log10 I(4959)\": np.log10(mom4959[0].data[~m]),\n",
    "    \"V(4959)\": 3e5 * (mom4959[1].data[~m] - 4958.91) / 4958.91,\n",
    "    \"sig(4959)\": 3e5 * mom4959[2].data[~m] / 4958.91,\n",
    "})\n",
    "df2.corr()"
   ]
  },
  {
   "cell_type": "code",
   "execution_count": null,
   "id": "8b96078e",
   "metadata": {},
   "outputs": [],
   "source": [
    "xvars = [_ for _ in df2.columns if \"5007\" in _]\n",
    "yvars = [_ for _ in df2.columns if \"4959\" in _]\n",
    "xvars, yvars"
   ]
  },
  {
   "cell_type": "code",
   "execution_count": null,
   "id": "5ca76e3f",
   "metadata": {},
   "outputs": [],
   "source": [
    "g = sns.pairplot(\n",
    "    df2,\n",
    "    kind=\"hist\",\n",
    "    height=4,\n",
    "    x_vars=xvars,\n",
    "    y_vars=yvars,\n",
    "    plot_kws=dict(color=\"b\"),\n",
    ")\n",
    "g.fig.suptitle(\"Correlations between 5007 and 4959\")\n",
    "g.tight_layout(pad=0);"
   ]
  },
  {
   "cell_type": "code",
   "execution_count": null,
   "id": "6e812275",
   "metadata": {},
   "outputs": [],
   "source": [
    "df3 = df2[[\"log10 I(5007)\"]].copy()\n",
    "df3[\"5007 / 4959\"] = 10**(df2[\"log10 I(5007)\"] - df2[\"log10 I(4959)\"])\n",
    "df3[\"dV\"] = df2[\"V(5007)\"] - df2[\"V(4959)\"]\n",
    "df3[\"sig ratio\"] = df2[\"sig(5007)\"] / df2[\"sig(4959)\"]\n",
    "df3.describe()"
   ]
  },
  {
   "cell_type": "code",
   "execution_count": null,
   "id": "aad24626",
   "metadata": {},
   "outputs": [],
   "source": [
    "m = (\n",
    "    (df3[\"5007 / 4959\"] < 2.9)\n",
    "    | (df3[\"5007 / 4959\"] > 3.1)\n",
    "    | (np.abs(df3[\"dV\"]) > 5.0)\n",
    "    | (df3[\"sig ratio\"] < 0.8)\n",
    "    | (df3[\"sig ratio\"] > 1.1)\n",
    ")\n",
    "\n",
    "df3 = df3[~m]\n",
    "df3.corr()"
   ]
  },
  {
   "cell_type": "code",
   "execution_count": null,
   "id": "c6cb54d7",
   "metadata": {},
   "outputs": [],
   "source": [
    "g = sns.pairplot(\n",
    "    df3,\n",
    "    kind=\"hist\",\n",
    "    height=4,\n",
    "    corner=True,\n",
    "    plot_kws=dict(color=\"r\"),\n",
    "    diag_kws=dict(color=\"r\"),\n",
    ")\n",
    "g.fig.suptitle(\"[O III] 5007 vs 4959 ratios and differences\")\n",
    "g.tight_layout(pad=0);"
   ]
  },
  {
   "cell_type": "code",
   "execution_count": null,
   "id": "3f64f1b6",
   "metadata": {
    "lines_to_next_cell": 0
   },
   "outputs": [],
   "source": [
    "df3.loc?"
   ]
  },
  {
   "cell_type": "code",
   "execution_count": null,
   "id": "e666b770",
   "metadata": {
    "lines_to_next_cell": 2
   },
   "outputs": [],
   "source": []
  }
 ],
 "metadata": {
  "jupytext": {
   "encoding": "# -*- coding: utf-8 -*-",
   "formats": "ipynb,py:light,md"
  },
  "kernelspec": {
   "display_name": "Python 3",
   "language": "python",
   "name": "python3"
  },
  "language_info": {
   "codemirror_mode": {
    "name": "ipython",
    "version": 3
   },
   "file_extension": ".py",
   "mimetype": "text/x-python",
   "name": "python",
   "nbconvert_exporter": "python",
   "pygments_lexer": "ipython3",
   "version": "3.9.4"
  }
 },
 "nbformat": 4,
 "nbformat_minor": 5
}
