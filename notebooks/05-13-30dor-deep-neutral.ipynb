{
 "cells": [
  {
   "cell_type": "markdown",
   "id": "4cb4128a-2bff-47aa-bcba-1ceec98df080",
   "metadata": {},
   "source": [
    "# Concentrate on deep neutral lines in 30 Dor\n",
    "\n",
    "These lines need a more careful extraction for the following reasons:\n",
    "\n",
    "1. They are very weak\n",
    "2. They are affected by inaccuracies in the global continuum subtraction, especially near the Paschen jump, so need some hyperlocal continuum subtraction instead\n",
    "3. Some of them are blended with other lines, which we could maybe subtract usimg a Gaussian fit to the integrated profile.\n"
   ]
  },
  {
   "cell_type": "code",
   "execution_count": 1,
   "id": "49fd5cac-ea91-4fc3-a929-c69b98b5edb6",
   "metadata": {},
   "outputs": [],
   "source": [
    "from pathlib import Path\n",
    "import numpy as np\n",
    "from matplotlib import pyplot as plt\n",
    "import seaborn as sns\n",
    "import cmasher as cm\n",
    "from mpdaf.obj import Cube\n",
    "import regions\n",
    "import sys\n",
    "import warnings\n",
    "from whispy.linetools import EmissionLine, SpectralRange, VelocityScale\n",
    "from whispy import moments\n",
    "from whispy import extract\n",
    "from whispy import sky\n",
    "\n",
    "import astropy.units as u\n",
    "import astropy.constants as const\n",
    "\n",
    "sns.set_context(\"talk\")\n",
    "sns.set_color_codes()"
   ]
  },
  {
   "cell_type": "code",
   "execution_count": null,
   "id": "9135a643-1a7c-4937-8a87-35565ec817ea",
   "metadata": {},
   "outputs": [],
   "source": []
  }
 ],
 "metadata": {
  "kernelspec": {
   "display_name": "Python 3",
   "language": "python",
   "name": "python3"
  },
  "language_info": {
   "codemirror_mode": {
    "name": "ipython",
    "version": 3
   },
   "file_extension": ".py",
   "mimetype": "text/x-python",
   "name": "python",
   "nbconvert_exporter": "python",
   "pygments_lexer": "ipython3",
   "version": "3.9.4"
  }
 },
 "nbformat": 4,
 "nbformat_minor": 5
}
