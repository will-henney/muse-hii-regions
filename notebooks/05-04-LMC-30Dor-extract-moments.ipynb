{
 "cells": [
  {
   "cell_type": "markdown",
   "id": "94b3ec25",
   "metadata": {},
   "source": [
    "# Extract line moments to image files for 30 Dor fields"
   ]
  },
  {
   "cell_type": "code",
   "execution_count": 1,
   "id": "9079d9fa",
   "metadata": {},
   "outputs": [],
   "source": [
    "from pathlib import Path\n",
    "import numpy as np\n",
    "from matplotlib import pyplot as plt\n",
    "import seaborn as sns\n",
    "from mpdaf.obj import Cube\n",
    "import regions\n",
    "import sys\n",
    "import warnings\n",
    "sys.path.append(\"../lib\")\n",
    "import moments\n",
    "import extract\n",
    "\n",
    "sns.set_context(\"talk\")\n",
    "sns.set_color_codes()"
   ]
  },
  {
   "cell_type": "markdown",
   "id": "05d07028",
   "metadata": {},
   "source": [
    "## Blue lines"
   ]
  },
  {
   "cell_type": "code",
   "execution_count": 2,
   "id": "286d5b93",
   "metadata": {},
   "outputs": [],
   "source": [
    "labels = \"ABCD\"\n",
    "csub = {\n",
    "    label: \n",
    "    Cube(f\"../big-data/lmc-30dor-{label}-subcube-46-55-contsub.fits\") \n",
    "    for label in labels\n",
    "}"
   ]
  },
  {
   "cell_type": "code",
   "execution_count": 3,
   "id": "a4b14510",
   "metadata": {},
   "outputs": [
    {
     "data": {
      "text/plain": [
       "{'A': <Cube(shape=(721, 321, 319), unit='1e-20 erg / (Angstrom cm2 s)', dtype='None')>,\n",
       " 'B': <Cube(shape=(721, 321, 323), unit='1e-20 erg / (Angstrom cm2 s)', dtype='None')>,\n",
       " 'C': <Cube(shape=(721, 321, 323), unit='1e-20 erg / (Angstrom cm2 s)', dtype='None')>,\n",
       " 'D': <Cube(shape=(721, 322, 319), unit='1e-20 erg / (Angstrom cm2 s)', dtype='None')>}"
      ]
     },
     "execution_count": 3,
     "metadata": {},
     "output_type": "execute_result"
    }
   ],
   "source": [
    "csub"
   ]
  },
  {
   "cell_type": "code",
   "execution_count": 4,
   "id": "6b96e980",
   "metadata": {},
   "outputs": [],
   "source": [
    "from dataclasses import dataclass"
   ]
  },
  {
   "cell_type": "code",
   "execution_count": 5,
   "id": "459c0c60",
   "metadata": {},
   "outputs": [],
   "source": [
    "C_KMS = 3e5\n",
    "\n",
    "@dataclass\n",
    "class EmissionLine:\n",
    "    \"\"\"Emission line\"\"\"\n",
    "    name: str\n",
    "    wav0: float\n",
    "    vlim: tuple[float, float] = (100.0, 400.0)\n",
    "    \n",
    "    def save_moments(self, cube: Cube, prefix: str):\n",
    "        wav1 = self.wav0 * (1.0 + self.vlim[0] / C_KMS)\n",
    "        wav2 = self.wav0 * (1.0 + self.vlim[1] / C_KMS)\n",
    "        with warnings.catch_warnings():\n",
    "            warnings.simplefilter(\"ignore\")\n",
    "            moments.save_moments_to_fits(\n",
    "                moments.find_moments(\n",
    "                    cube.select_lambda(wav1, wav2)\n",
    "                ),\n",
    "                label=self.name,\n",
    "                flabel=prefix,\n",
    "                restwav=self.wav0,\n",
    "                irange=None,\n",
    "                vrange=[100.0, 400.0],\n",
    "                srange=None,\n",
    "            )\n",
    "            \n",
    "\n"
   ]
  },
  {
   "cell_type": "code",
   "execution_count": 6,
   "id": "4372cb90",
   "metadata": {},
   "outputs": [],
   "source": [
    "moments.SAVEPATH = Path(\"../data\")"
   ]
  },
  {
   "cell_type": "markdown",
   "id": "8c166fb5-74c5-4663-a10d-cc91634025c3",
   "metadata": {},
   "source": [
    "The He II 4686 line is mainly a broad scattered component"
   ]
  },
  {
   "cell_type": "code",
   "execution_count": 44,
   "id": "5300ea74",
   "metadata": {
    "tags": []
   },
   "outputs": [],
   "source": [
    "emlines = [\n",
    "    EmissionLine(\"nii-4607\", 4607.12),\n",
    "    EmissionLine(\"oii-4642\", 4641.81),\n",
    "    EmissionLine(\"oii-4650\", 4649.985),\n",
    "    EmissionLine(\"heii-4686\", 4685.68, (-700, 900)),\n",
    "]\n",
    "for label in \"ABCD\":\n",
    "    for em in emlines:\n",
    "        em.save_moments(csub[label], f\"lmc-30dor-{label}\")"
   ]
  },
  {
   "cell_type": "code",
   "execution_count": 11,
   "id": "cdab9eae",
   "metadata": {},
   "outputs": [],
   "source": [
    "emlines = [\n",
    "    EmissionLine(\"ariv-4740\", 4740.17),\n",
    "    EmissionLine(\"ni-5198-5200\", 5199.12),\n",
    "    EmissionLine(\"feiii-5270\", 5270.40),\n",
    "    EmissionLine(\"feiii-4658\", 4658.10),\n",
    "    EmissionLine(\"hi-4861\", 4861.32),\n",
    "    EmissionLine(\"hei-4922\", 4921.93),\n",
    "    EmissionLine(\"oiii-4959\", 4958.91),\n",
    "    EmissionLine(\"oiii-5007\", 5006.84),\n",
    "    EmissionLine(\"si-ii-5041\", 5041.03),\n",
    "]"
   ]
  },
  {
   "cell_type": "code",
   "execution_count": 12,
   "id": "a99593ba",
   "metadata": {},
   "outputs": [],
   "source": [
    "for label in \"ABCD\":\n",
    "    for em in emlines:\n",
    "        em.save_moments(csub[label], f\"lmc-30dor-{label}\")"
   ]
  },
  {
   "cell_type": "code",
   "execution_count": 13,
   "id": "b31501a4",
   "metadata": {},
   "outputs": [],
   "source": [
    "emlines = [\n",
    "    EmissionLine(\"oii-4650\", 4650.0, (-600.0, 600.0)),\n",
    "    EmissionLine(\"feiii-4702\", 4701.62),\n",
    "    EmissionLine(\"ariv-4711\", 4711.37),\n",
    "    EmissionLine(\"feiii-4734\", 4733.93),\n",
    "    EmissionLine(\"feiii-4755\", 4754.83),\n",
    "    EmissionLine(\"feiii-4770\", 4769.60),    \n",
    "    EmissionLine(\"feiii-4881\", 4881.073),\n",
    "    EmissionLine(\"oiii-4931\", 4931.32),\n",
    "    EmissionLine(\"feiii-4987\", 4987.20),    \n",
    "    EmissionLine(\"hei-5016\", 5015.68),\n",
    "    EmissionLine(\"hei-5048\", 5047.74),\n",
    "    EmissionLine(\"si-ii-5056\", 5055.98),\n",
    "    EmissionLine(\"feii-5159\", 5158.81),\n",
    "    EmissionLine(\"ariii-5192\", 5191.82),\n",
    "    EmissionLine(\"feii-5262\", 5261.61),\n",
    "    EmissionLine(\"feiii-5412\", 5412.00), \n",
    "]\n",
    "for label in \"ABCD\":\n",
    "    for em in emlines:\n",
    "        em.save_moments(csub[label], f\"lmc-30dor-{label}\")"
   ]
  },
  {
   "cell_type": "markdown",
   "id": "6db1124b",
   "metadata": {},
   "source": [
    "## Green lines"
   ]
  },
  {
   "cell_type": "code",
   "execution_count": 14,
   "id": "abce1164",
   "metadata": {
    "tags": []
   },
   "outputs": [],
   "source": [
    "labels = \"ABCD\"\n",
    "csub = {\n",
    "    label: \n",
    "    Cube(f\"../big-data/lmc-30dor-{label}-subcube-54-63-contsub.fits\") \n",
    "    for label in labels\n",
    "}"
   ]
  },
  {
   "cell_type": "code",
   "execution_count": 16,
   "id": "5c799089",
   "metadata": {},
   "outputs": [],
   "source": [
    "emlines = [\n",
    "    EmissionLine(\"cliii-5517\", 5517.71), \n",
    "    EmissionLine(\"cliii-5538\", 5537.88),\n",
    "    EmissionLine(\"nii-5755\", 5755.08),    \n",
    "    EmissionLine(\"hei-5876\", 5875.62),\n",
    "    EmissionLine(\"si-ii-5958\", 5957.56),\n",
    "    EmissionLine(\"si-ii-5979\", 5978.93),\n",
    "]\n",
    "for label in \"ABCD\":\n",
    "    for em in emlines:\n",
    "        em.save_moments(csub[label], f\"lmc-30dor-{label}\")"
   ]
  },
  {
   "cell_type": "code",
   "execution_count": 19,
   "id": "2de4653a",
   "metadata": {
    "tags": []
   },
   "outputs": [],
   "source": [
    "emlines = [\n",
    "    EmissionLine(\"feiii-5412\", 5412.00),\n",
    "    EmissionLine(\"ni-iv-5820\", 5820.10), \n",
    "    EmissionLine(\"wr-5840\", 5840.0),\n",
    "    EmissionLine(\"ni-iii-6000\", 6000.20), \n",
    "    EmissionLine(\"oi-6046\", 6046.23),\n",
    "    EmissionLine(\"ca-i-6104\", 6104.0),\n",
    "]\n",
    "for label in \"ABCD\":\n",
    "    for em in emlines:\n",
    "        em.save_moments(csub[label], f\"lmc-30dor-{label}\")"
   ]
  },
  {
   "cell_type": "code",
   "execution_count": 20,
   "id": "9ce7058a",
   "metadata": {},
   "outputs": [],
   "source": [
    "emlines = [\n",
    "    EmissionLine(\"c-ii-6151\", 6151.43),\n",
    "]\n",
    "for label in \"ABCD\":\n",
    "    for em in emlines:\n",
    "        em.save_moments(csub[label], f\"lmc-30dor-{label}\")"
   ]
  },
  {
   "cell_type": "markdown",
   "id": "9094ce7a",
   "metadata": {},
   "source": [
    "## Red lines"
   ]
  },
  {
   "cell_type": "code",
   "execution_count": 24,
   "id": "06581a0a",
   "metadata": {
    "tags": []
   },
   "outputs": [],
   "source": [
    "labels = \"ABCD\"\n",
    "csub = {\n",
    "    label: \n",
    "    Cube(f\"../big-data/lmc-30dor-{label}-subcube-62-71-contsub.fits\") \n",
    "    for label in labels\n",
    "}"
   ]
  },
  {
   "cell_type": "code",
   "execution_count": 25,
   "id": "a081ca68",
   "metadata": {},
   "outputs": [],
   "source": [
    "emlines = [\n",
    "    EmissionLine(\"oi-6300\", 6300.30), \n",
    "    EmissionLine(\"siii-6312\", 6312.06),\n",
    "    EmissionLine(\"si-ii-6347\", 6347.11),\n",
    "    EmissionLine(\"oi-6363\", 6363.78),    \n",
    "    EmissionLine(\"si-ii-6371\", 6371.36),\n",
    "    EmissionLine(\"cii-6462\", 6461.95),\n",
    "]\n",
    "for label in \"ABCD\":\n",
    "    for em in emlines:\n",
    "        em.save_moments(csub[label], f\"lmc-30dor-{label}\")"
   ]
  },
  {
   "cell_type": "code",
   "execution_count": 26,
   "id": "df41962e",
   "metadata": {
    "tags": []
   },
   "outputs": [],
   "source": [
    "emlines = [\n",
    "    EmissionLine(\"nii-6548\", 6548.05),\n",
    "    EmissionLine(\"nii-6583\", 6583.45), \n",
    "    EmissionLine(\"hei-6678\", 6678.15),\n",
    "    EmissionLine(\"sii-6716\", 6716.44), \n",
    "    EmissionLine(\"sii-6731\", 6730.816),\n",
    "    EmissionLine(\"oi-7002\", 7001.92),\n",
    "    EmissionLine(\"hei-7065\", 7065.28)\n",
    "]\n",
    "for label in \"ABCD\":\n",
    "    for em in emlines:\n",
    "        em.save_moments(csub[label], f\"lmc-30dor-{label}\")"
   ]
  },
  {
   "cell_type": "code",
   "execution_count": 27,
   "id": "2e004c2b",
   "metadata": {},
   "outputs": [],
   "source": [
    "labels = \"ABCD\"\n",
    "csub = {\n",
    "    label: \n",
    "    Cube(f\"../big-data/lmc-30dor-{label}-subcube-70-79-contsub.fits\") \n",
    "    for label in labels\n",
    "}"
   ]
  },
  {
   "cell_type": "code",
   "execution_count": null,
   "id": "e4c3eb38",
   "metadata": {},
   "outputs": [],
   "source": [
    "emlines = [\n",
    "    EmissionLine(\"ariii-7136\", 7135.78),\n",
    "    EmissionLine(\"feii-7155\", 7155.14), \n",
    "    EmissionLine(\"hei-7160\", 7160.13),\n",
    "    EmissionLine(\"cii-7231\", 7231.34), \n",
    "    EmissionLine(\"cii-7236\", 7236.42),\n",
    "    EmissionLine(\"oi-7254\", 7254.15),\n",
    "    EmissionLine(\"hei-7281\", 7281.35)\n",
    "]\n",
    "for label in \"ABCD\":\n",
    "    for em in emlines:\n",
    "        em.save_moments(csub[label], f\"lmc-30dor-{label}\")\n",
    "\n",
    "emlines = [\n",
    "     EmissionLine(\"hei-7281\", 7281.35),\n",
    "     EmissionLine(\"hei-7298\", 7298.050),\n",
    "     EmissionLine(\"oii-7318\", 7318.39),\n",
    "     EmissionLine(\"oii-7330\", 7329.66), \n",
    "     EmissionLine(\"ni-ii-7378\", 7377.83),\n",
    "     EmissionLine(\"feii-7388\", 7388.16),\n",
    "     EmissionLine(\"ni-ii-7412\", 7411.61),\n",
    "     EmissionLine(\"ni-7442\", 7442.30),\n",
    "     EmissionLine(\"fe-ii-7453\", 7452.54),\n",
    "     EmissionLine(\"ni-7468\", 7468.31),\n",
    "]\n",
    "for label in \"ABCD\":\n",
    "    for em in emlines:\n",
    "        em.save_moments(csub[label], f\"lmc-30dor-{label}\")   "
   ]
  },
  {
   "cell_type": "code",
   "execution_count": 30,
   "id": "238a8f34",
   "metadata": {},
   "outputs": [],
   "source": [
    "emlines = [\n",
    "    EmissionLine(\"ariv-7171\", 7170.5),\n",
    "    EmissionLine(\"ariv-7237\", 7237.4), \n",
    "    EmissionLine(\"ariv-7263\", 7262.7),\n",
    "]\n",
    "for label in \"ABCD\":\n",
    "    for em in emlines:\n",
    "        em.save_moments(csub[label], f\"lmc-30dor-{label}\")"
   ]
  },
  {
   "cell_type": "code",
   "execution_count": 31,
   "id": "66bbfb1f",
   "metadata": {},
   "outputs": [],
   "source": [
    "emlines = [\n",
    "    EmissionLine(\"cliv-7531\", 7530.8),\n",
    "    EmissionLine(\"ariii-7751\", 7751.10),\n",
    "]\n",
    "for label in \"ABCD\":\n",
    "    for em in emlines:\n",
    "        em.save_moments(csub[label], f\"lmc-30dor-{label}\")"
   ]
  },
  {
   "cell_type": "code",
   "execution_count": 33,
   "id": "a05a28bd",
   "metadata": {},
   "outputs": [],
   "source": [
    "emlines = [\n",
    "    EmissionLine(\"hei-7499\", 7499.85),\n",
    "    EmissionLine(\"feii-7516\", 7515.83),\n",
    "    EmissionLine(\"cai-7890\", 7890.07, vlim=(150.0, 350.0)),\n",
    "]\n",
    "for label in \"ABCD\":\n",
    "    for em in emlines:\n",
    "        em.save_moments(csub[label], f\"lmc-30dor-{label}\")"
   ]
  },
  {
   "cell_type": "code",
   "execution_count": 34,
   "id": "caf7b516",
   "metadata": {},
   "outputs": [],
   "source": [
    "labels = \"ABCD\"\n",
    "csub = {\n",
    "    label: \n",
    "    Cube(f\"../big-data/lmc-30dor-{label}-subcube-78-87-contsub.fits\") \n",
    "    for label in labels\n",
    "}"
   ]
  },
  {
   "cell_type": "code",
   "execution_count": 36,
   "id": "da962183",
   "metadata": {},
   "outputs": [],
   "source": [
    "emlines = [\n",
    "    EmissionLine(\"cr-ii-8000\", 8000.08),\n",
    "    EmissionLine(\"cliv-8046\", 8045.62),\n",
    "    EmissionLine(\"cai-8125\", 8125.31),\n",
    "    EmissionLine(\"xxx-8152\", 8151.7, vlim=(200.0, 300.0)),\n",
    "]\n",
    "for label in \"ABCD\":\n",
    "    for em in emlines:\n",
    "        em.save_moments(csub[label], f\"lmc-30dor-{label}\")"
   ]
  },
  {
   "cell_type": "code",
   "execution_count": 37,
   "id": "03d1541a",
   "metadata": {},
   "outputs": [],
   "source": [
    "emlines = [\n",
    "    EmissionLine(\"he-i-8156\", 8155.66),\n",
    "    EmissionLine(\"crii-8188\", 8188.11),\n",
    "    EmissionLine(\"ni-8216\", 8216.34),\n",
    "    EmissionLine(\"ni-8223\", 8223.14),\n",
    "    EmissionLine(\"oi-8446\", 8446.36),\n",
    "]\n",
    "for label in \"ABCD\":\n",
    "    for em in emlines:\n",
    "        em.save_moments(csub[label], f\"lmc-30dor-{label}\")"
   ]
  },
  {
   "cell_type": "code",
   "execution_count": 38,
   "id": "878b36a0",
   "metadata": {},
   "outputs": [],
   "source": [
    "emlines = [\n",
    "    EmissionLine(\"hi-8467\", 8467.25),\n",
    "    EmissionLine(\"hi-8545\", 8545.38),\n",
    "    EmissionLine(\"hi-8598\", 8598.39),\n",
    "    EmissionLine(\"feii-8617\", 8616.95),\n",
    "    EmissionLine(\"hi-8665\", 8665.02),\n",
    "]\n",
    "for label in \"ABCD\":\n",
    "    for em in emlines:\n",
    "        em.save_moments(csub[label], f\"lmc-30dor-{label}\")"
   ]
  },
  {
   "cell_type": "code",
   "execution_count": 40,
   "id": "c7d53633",
   "metadata": {},
   "outputs": [],
   "source": [
    "labels = \"ABCD\"\n",
    "csub = {\n",
    "    label: \n",
    "    Cube(f\"../big-data/lmc-30dor-{label}-subcube-86-94-contsub.fits\") \n",
    "    for label in labels\n",
    "}"
   ]
  },
  {
   "cell_type": "code",
   "execution_count": 41,
   "id": "de3a7785",
   "metadata": {},
   "outputs": [],
   "source": [
    "emlines = [\n",
    "    EmissionLine(\"CONT-8730\", 8730.0, vlim=(-50.0, 50.0)),\n",
    "    EmissionLine(\"ci-8727\", 8727.13, vlim=(200.0, 300.0)),\n",
    "    EmissionLine(\"CONT-8749\", 8749.0, vlim=(-50.0, 50.0)),\n",
    "    EmissionLine(\"hi-8750\", 8750.47),\n",
    "    EmissionLine(\"hi-8863\", 8862.79),\n",
    "]\n",
    "for label in \"ABCD\":\n",
    "    for em in emlines:\n",
    "        em.save_moments(csub[label], f\"lmc-30dor-{label}\")"
   ]
  },
  {
   "cell_type": "markdown",
   "id": "c4beda62",
   "metadata": {},
   "source": [
    "There are some misterious very neutral/molecular lines at 9114 and 9145 Å.  The 9114 line is similar to 8152 and seems to come from the highest extinction regions. \n",
    "\n",
    "The 9145 line is more diffuse, but also from deeper than the C I line.\n",
    "\n",
    "The 9219 line may not be Ca I since we don't see the 9259 line that would be expected.  But then I don't know what it is. "
   ]
  },
  {
   "cell_type": "code",
   "execution_count": 42,
   "id": "a81c0072",
   "metadata": {},
   "outputs": [],
   "source": [
    "emlines = [\n",
    "    EmissionLine(\"hi-9015\", 9014.91),\n",
    "    EmissionLine(\"siii-9069\", 9068.90),\n",
    "    EmissionLine(\"cai-9095\", 9095.09),\n",
    "    EmissionLine(\"CONT-9112\", 9112.5, vlim=(-50.0, 50.0)),\n",
    "    EmissionLine(\"xxx-9114\", 9113.8, vlim=(200.0, 300.0)),\n",
    "    EmissionLine(\"clii-9124\", 9123.6),\n",
    "    EmissionLine(\"CONT-9145\", 9145.0, vlim=(-50.0, 50.0)),\n",
    "    EmissionLine(\"xxx-9145\", 9144.9, vlim=(200.0, 300.0)),\n",
    "    EmissionLine(\"cai-9204\", 9204.09),\n",
    "    EmissionLine(\"hei-9210\", 9210.28),\n",
    "    EmissionLine(\"cai-9219\", 9218.52),\n",
    "    EmissionLine(\"hi-9229\", 9229.01),\n",
    "    EmissionLine(\"cai-9244\", 9244.31),\n",
    "]\n",
    "for label in \"ABCD\":\n",
    "    for em in emlines:\n",
    "        em.save_moments(csub[label], f\"lmc-30dor-{label}\")"
   ]
  },
  {
   "cell_type": "code",
   "execution_count": null,
   "id": "7fe9ca0e",
   "metadata": {},
   "outputs": [],
   "source": []
  }
 ],
 "metadata": {
  "jupytext": {
   "encoding": "# -*- coding: utf-8 -*-",
   "formats": "ipynb,py:light,md"
  },
  "kernelspec": {
   "display_name": "Python 3",
   "language": "python",
   "name": "python3"
  },
  "language_info": {
   "codemirror_mode": {
    "name": "ipython",
    "version": 3
   },
   "file_extension": ".py",
   "mimetype": "text/x-python",
   "name": "python",
   "nbconvert_exporter": "python",
   "pygments_lexer": "ipython3",
   "version": "3.9.4"
  }
 },
 "nbformat": 4,
 "nbformat_minor": 5
}
