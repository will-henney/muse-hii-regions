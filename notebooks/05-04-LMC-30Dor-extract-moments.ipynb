{
 "cells": [
  {
   "cell_type": "markdown",
   "id": "67596469-5094-4a7d-8c54-c2e9b7d8a893",
   "metadata": {},
   "source": [
    "# Extract line moments to image files for 30 Dor fields"
   ]
  },
  {
   "cell_type": "code",
   "execution_count": 1,
   "id": "8a3e1b37-60d6-47ab-82a7-c63df17042c2",
   "metadata": {},
   "outputs": [],
   "source": [
    "from pathlib import Path\n",
    "import numpy as np\n",
    "from matplotlib import pyplot as plt\n",
    "import seaborn as sns\n",
    "from mpdaf.obj import Cube\n",
    "import regions\n",
    "import sys\n",
    "sys.path.append(\"../lib\")\n",
    "import moments\n",
    "import extract\n",
    "\n",
    "sns.set_context(\"talk\")\n",
    "sns.set_color_codes()"
   ]
  },
  {
   "cell_type": "code",
   "execution_count": 3,
   "id": "27dc86d8-7863-4f2e-994c-0e332561629c",
   "metadata": {},
   "outputs": [],
   "source": [
    "labels = \"ABCD\"\n",
    "csub = {\n",
    "    label: \n",
    "    Cube(f\"../big-data/lmc-30dor-{label}-subcube-46-55-contsub.fits\") \n",
    "    for label in labels\n",
    "}"
   ]
  },
  {
   "cell_type": "code",
   "execution_count": 4,
   "id": "b8ce6f4d-5d0a-430b-b7ae-5ef374ca6ebe",
   "metadata": {},
   "outputs": [
    {
     "data": {
      "text/plain": [
       "{'A': <Cube(shape=(721, 321, 319), unit='1e-20 erg / (Angstrom cm2 s)', dtype='None')>,\n",
       " 'B': <Cube(shape=(721, 321, 323), unit='1e-20 erg / (Angstrom cm2 s)', dtype='None')>,\n",
       " 'C': <Cube(shape=(721, 321, 323), unit='1e-20 erg / (Angstrom cm2 s)', dtype='None')>,\n",
       " 'D': <Cube(shape=(721, 322, 319), unit='1e-20 erg / (Angstrom cm2 s)', dtype='None')>}"
      ]
     },
     "execution_count": 4,
     "metadata": {},
     "output_type": "execute_result"
    }
   ],
   "source": [
    "csub"
   ]
  },
  {
   "cell_type": "code",
   "execution_count": 5,
   "id": "fba4be5e-8162-4e51-b78f-818ae93458a4",
   "metadata": {},
   "outputs": [],
   "source": [
    "from dataclasses import dataclass"
   ]
  },
  {
   "cell_type": "code",
   "execution_count": 11,
   "id": "b56e2b3c-cdee-4b30-bcf9-11bfe1bec764",
   "metadata": {},
   "outputs": [],
   "source": [
    "C_KMS = 3e5\n",
    "\n",
    "@dataclass\n",
    "class EmissionLine:\n",
    "    \"\"\"Emission line\"\"\"\n",
    "    name: str\n",
    "    wav0: float\n",
    "    vlim: tuple[float, float] = (-50.0, 500.0)\n",
    "    \n",
    "    def save_moments(self, cube: Cube, prefix: str):\n",
    "        wav1 = self.wav0 * (1.0 + self.vlim[0] / C_KMS)\n",
    "        wav2 = self.wav0 * (1.0 + self.vlim[1] / C_KMS)\n",
    "        moments.save_moments_to_fits(\n",
    "            moments.find_moments(\n",
    "                cube.select_lambda(wav1, wav2)\n",
    "            ),\n",
    "            label=self.name,\n",
    "            flabel=prefix,\n",
    "            restwav=self.wav0,\n",
    "            irange=None,\n",
    "            vrange=None,\n",
    "            srange=None,\n",
    "        )\n",
    "            "
   ]
  },
  {
   "cell_type": "code",
   "execution_count": 9,
   "id": "c09c9eb9-c63b-4564-98c5-c77b541e7063",
   "metadata": {},
   "outputs": [],
   "source": [
    "moments.SAVEPATH = Path(\"../data\")"
   ]
  },
  {
   "cell_type": "code",
   "execution_count": 15,
   "id": "30a1a3bc-10b4-4257-b865-d90a082ab396",
   "metadata": {},
   "outputs": [],
   "source": [
    "emlines = [\n",
    "    EmissionLine(\"heii-4686\", 4685.68),\n",
    "    EmissionLine(\"ariv-4740\", 4740.17),\n",
    "    EmissionLine(\"ni-5198-5200\", 5199.12),\n",
    "    EmissionLine(\"feiii-5270\", 5270.40),\n",
    "    EmissionLine(\"feiii-4658\", 4658.10),\n",
    "    EmissionLine(\"hi-4861\", 4861.32),\n",
    "    EmissionLine(\"hei-4922\", 4921.93),\n",
    "    EmissionLine(\"oiii-5007\", 5006.84),\n",
    "    EmissionLine(\"si-ii-5041\", 5041.03),\n",
    "]"
   ]
  },
  {
   "cell_type": "code",
   "execution_count": 16,
   "id": "9aa9c11c-4796-4ef4-98c9-6bf683d177ba",
   "metadata": {},
   "outputs": [
    {
     "name": "stderr",
     "output_type": "stream",
     "text": [
      "../lib/moments.py:41: RuntimeWarning: invalid value encountered in sqrt\n",
      "  mom2.data = np.sqrt(mom2.data)\n",
      "../lib/moments.py:41: RuntimeWarning: invalid value encountered in sqrt\n",
      "  mom2.data = np.sqrt(mom2.data)\n",
      "../lib/moments.py:41: RuntimeWarning: invalid value encountered in sqrt\n",
      "  mom2.data = np.sqrt(mom2.data)\n",
      "../lib/moments.py:41: RuntimeWarning: invalid value encountered in sqrt\n",
      "  mom2.data = np.sqrt(mom2.data)\n",
      "../lib/moments.py:41: RuntimeWarning: invalid value encountered in sqrt\n",
      "  mom2.data = np.sqrt(mom2.data)\n",
      "../lib/moments.py:41: RuntimeWarning: invalid value encountered in sqrt\n",
      "  mom2.data = np.sqrt(mom2.data)\n",
      "../lib/moments.py:41: RuntimeWarning: invalid value encountered in sqrt\n",
      "  mom2.data = np.sqrt(mom2.data)\n",
      "../lib/moments.py:41: RuntimeWarning: invalid value encountered in sqrt\n",
      "  mom2.data = np.sqrt(mom2.data)\n",
      "../lib/moments.py:41: RuntimeWarning: invalid value encountered in sqrt\n",
      "  mom2.data = np.sqrt(mom2.data)\n",
      "../lib/moments.py:41: RuntimeWarning: invalid value encountered in sqrt\n",
      "  mom2.data = np.sqrt(mom2.data)\n",
      "../lib/moments.py:41: RuntimeWarning: invalid value encountered in sqrt\n",
      "  mom2.data = np.sqrt(mom2.data)\n",
      "../lib/moments.py:41: RuntimeWarning: invalid value encountered in sqrt\n",
      "  mom2.data = np.sqrt(mom2.data)\n",
      "../lib/moments.py:41: RuntimeWarning: invalid value encountered in sqrt\n",
      "  mom2.data = np.sqrt(mom2.data)\n",
      "../lib/moments.py:41: RuntimeWarning: invalid value encountered in sqrt\n",
      "  mom2.data = np.sqrt(mom2.data)\n",
      "../lib/moments.py:41: RuntimeWarning: invalid value encountered in sqrt\n",
      "  mom2.data = np.sqrt(mom2.data)\n",
      "../lib/moments.py:41: RuntimeWarning: invalid value encountered in sqrt\n",
      "  mom2.data = np.sqrt(mom2.data)\n",
      "../lib/moments.py:41: RuntimeWarning: invalid value encountered in sqrt\n",
      "  mom2.data = np.sqrt(mom2.data)\n",
      "../lib/moments.py:41: RuntimeWarning: invalid value encountered in sqrt\n",
      "  mom2.data = np.sqrt(mom2.data)\n",
      "../lib/moments.py:41: RuntimeWarning: invalid value encountered in sqrt\n",
      "  mom2.data = np.sqrt(mom2.data)\n",
      "../lib/moments.py:41: RuntimeWarning: invalid value encountered in sqrt\n",
      "  mom2.data = np.sqrt(mom2.data)\n",
      "../lib/moments.py:41: RuntimeWarning: invalid value encountered in sqrt\n",
      "  mom2.data = np.sqrt(mom2.data)\n",
      "../lib/moments.py:41: RuntimeWarning: invalid value encountered in sqrt\n",
      "  mom2.data = np.sqrt(mom2.data)\n",
      "../lib/moments.py:41: RuntimeWarning: invalid value encountered in sqrt\n",
      "  mom2.data = np.sqrt(mom2.data)\n",
      "../lib/moments.py:41: RuntimeWarning: invalid value encountered in sqrt\n",
      "  mom2.data = np.sqrt(mom2.data)\n",
      "../lib/moments.py:41: RuntimeWarning: invalid value encountered in sqrt\n",
      "  mom2.data = np.sqrt(mom2.data)\n",
      "../lib/moments.py:41: RuntimeWarning: invalid value encountered in sqrt\n",
      "  mom2.data = np.sqrt(mom2.data)\n",
      "../lib/moments.py:41: RuntimeWarning: invalid value encountered in sqrt\n",
      "  mom2.data = np.sqrt(mom2.data)\n",
      "../lib/moments.py:41: RuntimeWarning: invalid value encountered in sqrt\n",
      "  mom2.data = np.sqrt(mom2.data)\n",
      "../lib/moments.py:41: RuntimeWarning: invalid value encountered in sqrt\n",
      "  mom2.data = np.sqrt(mom2.data)\n",
      "../lib/moments.py:41: RuntimeWarning: invalid value encountered in sqrt\n",
      "  mom2.data = np.sqrt(mom2.data)\n",
      "../lib/moments.py:41: RuntimeWarning: invalid value encountered in sqrt\n",
      "  mom2.data = np.sqrt(mom2.data)\n",
      "../lib/moments.py:41: RuntimeWarning: invalid value encountered in sqrt\n",
      "  mom2.data = np.sqrt(mom2.data)\n",
      "../lib/moments.py:41: RuntimeWarning: invalid value encountered in sqrt\n",
      "  mom2.data = np.sqrt(mom2.data)\n",
      "../lib/moments.py:41: RuntimeWarning: invalid value encountered in sqrt\n",
      "  mom2.data = np.sqrt(mom2.data)\n",
      "../lib/moments.py:41: RuntimeWarning: invalid value encountered in sqrt\n",
      "  mom2.data = np.sqrt(mom2.data)\n",
      "../lib/moments.py:41: RuntimeWarning: invalid value encountered in sqrt\n",
      "  mom2.data = np.sqrt(mom2.data)\n"
     ]
    }
   ],
   "source": [
    "for label in \"ABCD\":\n",
    "    for em in emlines:\n",
    "        em.save_moments(csub[label], f\"lmc-30dor-{label}\")"
   ]
  },
  {
   "cell_type": "code",
   "execution_count": null,
   "id": "0d01f251-a933-4bb4-b57c-7bb9206f409e",
   "metadata": {},
   "outputs": [],
   "source": []
  }
 ],
 "metadata": {
  "jupytext": {
   "formats": "ipynb,auto:light,md"
  },
  "kernelspec": {
   "display_name": "Python 3",
   "language": "python",
   "name": "python3"
  },
  "language_info": {
   "codemirror_mode": {
    "name": "ipython",
    "version": 3
   },
   "file_extension": ".py",
   "mimetype": "text/x-python",
   "name": "python",
   "nbconvert_exporter": "python",
   "pygments_lexer": "ipython3",
   "version": "3.9.4"
  }
 },
 "nbformat": 4,
 "nbformat_minor": 5
}
