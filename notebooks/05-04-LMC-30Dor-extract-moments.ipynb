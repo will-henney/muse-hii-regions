{
 "cells": [
  {
   "cell_type": "markdown",
   "id": "67596469-5094-4a7d-8c54-c2e9b7d8a893",
   "metadata": {},
   "source": [
    "# Extract line moments to image files for 30 Dor fields"
   ]
  },
  {
   "cell_type": "code",
   "execution_count": 1,
   "id": "8a3e1b37-60d6-47ab-82a7-c63df17042c2",
   "metadata": {},
   "outputs": [],
   "source": [
    "from pathlib import Path\n",
    "import numpy as np\n",
    "from matplotlib import pyplot as plt\n",
    "import seaborn as sns\n",
    "from mpdaf.obj import Cube\n",
    "import regions\n",
    "import sys\n",
    "import warnings\n",
    "sys.path.append(\"../lib\")\n",
    "import moments\n",
    "import extract\n",
    "\n",
    "sns.set_context(\"talk\")\n",
    "sns.set_color_codes()"
   ]
  },
  {
   "cell_type": "markdown",
   "id": "20967406-d86b-4145-90fe-c902f7cc0596",
   "metadata": {},
   "source": [
    "## Blue lines"
   ]
  },
  {
   "cell_type": "code",
   "execution_count": 2,
   "id": "27dc86d8-7863-4f2e-994c-0e332561629c",
   "metadata": {},
   "outputs": [],
   "source": [
    "labels = \"ABCD\"\n",
    "csub = {\n",
    "    label: \n",
    "    Cube(f\"../big-data/lmc-30dor-{label}-subcube-46-55-contsub.fits\") \n",
    "    for label in labels\n",
    "}"
   ]
  },
  {
   "cell_type": "code",
   "execution_count": 3,
   "id": "b8ce6f4d-5d0a-430b-b7ae-5ef374ca6ebe",
   "metadata": {},
   "outputs": [
    {
     "data": {
      "text/plain": [
       "{'A': <Cube(shape=(721, 321, 319), unit='1e-20 erg / (Angstrom cm2 s)', dtype='None')>,\n",
       " 'B': <Cube(shape=(721, 321, 323), unit='1e-20 erg / (Angstrom cm2 s)', dtype='None')>,\n",
       " 'C': <Cube(shape=(721, 321, 323), unit='1e-20 erg / (Angstrom cm2 s)', dtype='None')>,\n",
       " 'D': <Cube(shape=(721, 322, 319), unit='1e-20 erg / (Angstrom cm2 s)', dtype='None')>}"
      ]
     },
     "execution_count": 3,
     "metadata": {},
     "output_type": "execute_result"
    }
   ],
   "source": [
    "csub"
   ]
  },
  {
   "cell_type": "code",
   "execution_count": 4,
   "id": "fba4be5e-8162-4e51-b78f-818ae93458a4",
   "metadata": {},
   "outputs": [],
   "source": [
    "from dataclasses import dataclass"
   ]
  },
  {
   "cell_type": "code",
   "execution_count": 10,
   "id": "b56e2b3c-cdee-4b30-bcf9-11bfe1bec764",
   "metadata": {},
   "outputs": [],
   "source": [
    "C_KMS = 3e5\n",
    "\n",
    "@dataclass\n",
    "class EmissionLine:\n",
    "    \"\"\"Emission line\"\"\"\n",
    "    name: str\n",
    "    wav0: float\n",
    "    vlim: tuple[float, float] = (100.0, 400.0)\n",
    "    \n",
    "    def save_moments(self, cube: Cube, prefix: str):\n",
    "        wav1 = self.wav0 * (1.0 + self.vlim[0] / C_KMS)\n",
    "        wav2 = self.wav0 * (1.0 + self.vlim[1] / C_KMS)\n",
    "        with warnings.catch_warnings():\n",
    "            warnings.simplefilter(\"ignore\")\n",
    "            moments.save_moments_to_fits(\n",
    "                moments.find_moments(\n",
    "                    cube.select_lambda(wav1, wav2)\n",
    "                ),\n",
    "                label=self.name,\n",
    "                flabel=prefix,\n",
    "                restwav=self.wav0,\n",
    "                irange=None,\n",
    "                vrange=[100.0, 400.0],\n",
    "                srange=None,\n",
    "            )\n",
    "            \n",
    "\n"
   ]
  },
  {
   "cell_type": "code",
   "execution_count": 6,
   "id": "c09c9eb9-c63b-4564-98c5-c77b541e7063",
   "metadata": {},
   "outputs": [],
   "source": [
    "moments.SAVEPATH = Path(\"../data\")"
   ]
  },
  {
   "cell_type": "code",
   "execution_count": 11,
   "id": "30a1a3bc-10b4-4257-b865-d90a082ab396",
   "metadata": {},
   "outputs": [],
   "source": [
    "emlines = [\n",
    "    EmissionLine(\"heii-4686\", 4685.68),\n",
    "    EmissionLine(\"ariv-4740\", 4740.17),\n",
    "    EmissionLine(\"ni-5198-5200\", 5199.12),\n",
    "    EmissionLine(\"feiii-5270\", 5270.40),\n",
    "    EmissionLine(\"feiii-4658\", 4658.10),\n",
    "    EmissionLine(\"hi-4861\", 4861.32),\n",
    "    EmissionLine(\"hei-4922\", 4921.93),\n",
    "    EmissionLine(\"oiii-4959\", 4958.91),\n",
    "    EmissionLine(\"oiii-5007\", 5006.84),\n",
    "    EmissionLine(\"si-ii-5041\", 5041.03),\n",
    "]"
   ]
  },
  {
   "cell_type": "code",
   "execution_count": 12,
   "id": "9aa9c11c-4796-4ef4-98c9-6bf683d177ba",
   "metadata": {},
   "outputs": [],
   "source": [
    "for label in \"ABCD\":\n",
    "    for em in emlines:\n",
    "        em.save_moments(csub[label], f\"lmc-30dor-{label}\")"
   ]
  },
  {
   "cell_type": "code",
   "execution_count": 13,
   "id": "0d01f251-a933-4bb4-b57c-7bb9206f409e",
   "metadata": {},
   "outputs": [],
   "source": [
    "emlines = [\n",
    "    EmissionLine(\"oii-4650\", 4650.0, (-600.0, 600.0)),\n",
    "    EmissionLine(\"feiii-4702\", 4701.62),\n",
    "    EmissionLine(\"ariv-4711\", 4711.37),\n",
    "    EmissionLine(\"feiii-4734\", 4733.93),\n",
    "    EmissionLine(\"feiii-4755\", 4754.83),\n",
    "    EmissionLine(\"feiii-4770\", 4769.60),    \n",
    "    EmissionLine(\"feiii-4881\", 4881.073),\n",
    "    EmissionLine(\"oiii-4931\", 4931.32),\n",
    "    EmissionLine(\"feiii-4987\", 4987.20),    \n",
    "    EmissionLine(\"hei-5016\", 5015.68),\n",
    "    EmissionLine(\"hei-5048\", 5047.74),\n",
    "    EmissionLine(\"si-ii-5056\", 5055.98),\n",
    "    EmissionLine(\"feii-5159\", 5158.81),\n",
    "    EmissionLine(\"ariii-5192\", 5191.82),\n",
    "    EmissionLine(\"feii-5262\", 5261.61),\n",
    "    EmissionLine(\"feiii-5412\", 5412.00), \n",
    "]\n",
    "for label in \"ABCD\":\n",
    "    for em in emlines:\n",
    "        em.save_moments(csub[label], f\"lmc-30dor-{label}\")"
   ]
  },
  {
   "cell_type": "markdown",
   "id": "47c32ad2-f5db-442d-825b-0e1c9867bd5d",
   "metadata": {},
   "source": [
    "## Green lines"
   ]
  },
  {
   "cell_type": "code",
   "execution_count": 14,
   "id": "ff8db0b7-7d29-47ae-ad5f-7dd2e4323fd7",
   "metadata": {
    "tags": []
   },
   "outputs": [],
   "source": [
    "labels = \"ABCD\"\n",
    "csub = {\n",
    "    label: \n",
    "    Cube(f\"../big-data/lmc-30dor-{label}-subcube-54-63-contsub.fits\") \n",
    "    for label in labels\n",
    "}"
   ]
  },
  {
   "cell_type": "code",
   "execution_count": 16,
   "id": "413c10fd-bbd9-49da-9168-0488235b1617",
   "metadata": {},
   "outputs": [],
   "source": [
    "emlines = [\n",
    "    EmissionLine(\"cliii-5517\", 5517.71), \n",
    "    EmissionLine(\"cliii-5538\", 5537.88),\n",
    "    EmissionLine(\"nii-5755\", 5755.08),    \n",
    "    EmissionLine(\"hei-5876\", 5875.62),\n",
    "    EmissionLine(\"si-ii-5958\", 5957.56),\n",
    "    EmissionLine(\"si-ii-5979\", 5978.93),\n",
    "]\n",
    "for label in \"ABCD\":\n",
    "    for em in emlines:\n",
    "        em.save_moments(csub[label], f\"lmc-30dor-{label}\")"
   ]
  },
  {
   "cell_type": "code",
   "execution_count": 19,
   "id": "672afedb-3d4b-45b9-8223-a64daa827a9d",
   "metadata": {
    "tags": []
   },
   "outputs": [],
   "source": [
    "emlines = [\n",
    "    EmissionLine(\"feiii-5412\", 5412.00),\n",
    "    EmissionLine(\"ni-iv-5820\", 5820.10), \n",
    "    EmissionLine(\"wr-5840\", 5840.0),\n",
    "    EmissionLine(\"ni-iii-6000\", 6000.20), \n",
    "    EmissionLine(\"oi-6046\", 6046.23),\n",
    "    EmissionLine(\"ca-i-6104\", 6104.0),\n",
    "]\n",
    "for label in \"ABCD\":\n",
    "    for em in emlines:\n",
    "        em.save_moments(csub[label], f\"lmc-30dor-{label}\")"
   ]
  },
  {
   "cell_type": "code",
   "execution_count": 20,
   "id": "6d6c3786-ecfe-46c2-9a74-578cb4137b33",
   "metadata": {},
   "outputs": [],
   "source": [
    "emlines = [\n",
    "    EmissionLine(\"c-ii-6151\", 6151.43),\n",
    "]\n",
    "for label in \"ABCD\":\n",
    "    for em in emlines:\n",
    "        em.save_moments(csub[label], f\"lmc-30dor-{label}\")"
   ]
  },
  {
   "cell_type": "markdown",
   "id": "59e44fdb-f40e-4cf8-8455-4a8f254b83b8",
   "metadata": {},
   "source": [
    "## Red lines"
   ]
  },
  {
   "cell_type": "code",
   "execution_count": 24,
   "id": "3df83e8b-bbd7-4990-9e6b-2c30f853aa80",
   "metadata": {
    "tags": []
   },
   "outputs": [],
   "source": [
    "labels = \"ABCD\"\n",
    "csub = {\n",
    "    label: \n",
    "    Cube(f\"../big-data/lmc-30dor-{label}-subcube-62-71-contsub.fits\") \n",
    "    for label in labels\n",
    "}"
   ]
  },
  {
   "cell_type": "code",
   "execution_count": 25,
   "id": "ba2ce1d3-2307-4539-935a-0d32a2d8a4d5",
   "metadata": {},
   "outputs": [],
   "source": [
    "emlines = [\n",
    "    EmissionLine(\"oi-6300\", 6300.30), \n",
    "    EmissionLine(\"siii-6312\", 6312.06),\n",
    "    EmissionLine(\"si-ii-6347\", 6347.11),\n",
    "    EmissionLine(\"oi-6363\", 6363.78),    \n",
    "    EmissionLine(\"si-ii-6371\", 6371.36),\n",
    "    EmissionLine(\"cii-6462\", 6461.95),\n",
    "]\n",
    "for label in \"ABCD\":\n",
    "    for em in emlines:\n",
    "        em.save_moments(csub[label], f\"lmc-30dor-{label}\")"
   ]
  },
  {
   "cell_type": "code",
   "execution_count": 26,
   "id": "4a7b5b40-5b20-4827-9998-425c4e679098",
   "metadata": {
    "tags": []
   },
   "outputs": [],
   "source": [
    "emlines = [\n",
    "    EmissionLine(\"nii-6548\", 6548.05),\n",
    "    EmissionLine(\"nii-6583\", 6583.45), \n",
    "    EmissionLine(\"hei-6678\", 6678.15),\n",
    "    EmissionLine(\"sii-6716\", 6716.44), \n",
    "    EmissionLine(\"sii-6731\", 6730.816),\n",
    "    EmissionLine(\"oi-7002\", 7001.92),\n",
    "    EmissionLine(\"hei-7065\", 7065.28)\n",
    "]\n",
    "for label in \"ABCD\":\n",
    "    for em in emlines:\n",
    "        em.save_moments(csub[label], f\"lmc-30dor-{label}\")"
   ]
  },
  {
   "cell_type": "code",
   "execution_count": 27,
   "id": "9afac998-c7c6-48f6-806e-c5214e29a17c",
   "metadata": {},
   "outputs": [],
   "source": [
    "labels = \"ABCD\"\n",
    "csub = {\n",
    "    label: \n",
    "    Cube(f\"../big-data/lmc-30dor-{label}-subcube-70-79-contsub.fits\") \n",
    "    for label in labels\n",
    "}"
   ]
  },
  {
   "cell_type": "code",
   "execution_count": 28,
   "id": "e7821dce-f4e8-4695-b5ae-1de7080c385e",
   "metadata": {},
   "outputs": [],
   "source": [
    "emlines = [\n",
    "    EmissionLine(\"ariii-7136\", 7135.78),\n",
    "    EmissionLine(\"feii-7155\", 7155.14), \n",
    "    EmissionLine(\"hei-7160\", 7160.13),\n",
    "    EmissionLine(\"cii-7231\", 7231.34), \n",
    "    EmissionLine(\"cii-7236\", 7236.42),\n",
    "    EmissionLine(\"oi-7254\", 7254.15),\n",
    "    EmissionLine(\"hei-7281\", 7281.35)\n",
    "]\n",
    "for label in \"ABCD\":\n",
    "    for em in emlines:\n",
    "        em.save_moments(csub[label], f\"lmc-30dor-{label}\")"
   ]
  },
  {
   "cell_type": "code",
   "execution_count": 29,
   "id": "1af3006f-f00e-4d19-b286-e7a9a7f43de4",
   "metadata": {},
   "outputs": [],
   "source": [
    " emlines = [\n",
    "     EmissionLine(\"hei-7281\", 7281.35),\n",
    "     EmissionLine(\"hei-7298\", 7298.050),\n",
    "     EmissionLine(\"oii-7318\", 7318.39),\n",
    "     EmissionLine(\"oii-7330\", 7329.66), \n",
    "     EmissionLine(\"ni-ii-7378\", 7377.83),\n",
    "     EmissionLine(\"feii-7388\", 7388.16),\n",
    "     EmissionLine(\"ni-ii-7412\", 7411.61),\n",
    "     EmissionLine(\"ni-7442\", 7442.30),\n",
    "     EmissionLine(\"fe-ii-7453\", 7452.54),\n",
    "     EmissionLine(\"ni-7468\", 7468.31),\n",
    "]\n",
    "for label in \"ABCD\":\n",
    "    for em in emlines:\n",
    "        em.save_moments(csub[label], f\"lmc-30dor-{label}\")   "
   ]
  },
  {
   "cell_type": "code",
   "execution_count": 30,
   "id": "689ec906-0b28-4ae2-9080-2ffa9c867514",
   "metadata": {},
   "outputs": [],
   "source": [
    "emlines = [\n",
    "    EmissionLine(\"ariv-7171\", 7170.5),\n",
    "    EmissionLine(\"ariv-7237\", 7237.4), \n",
    "    EmissionLine(\"ariv-7263\", 7262.7),\n",
    "]\n",
    "for label in \"ABCD\":\n",
    "    for em in emlines:\n",
    "        em.save_moments(csub[label], f\"lmc-30dor-{label}\")"
   ]
  },
  {
   "cell_type": "code",
   "execution_count": 31,
   "id": "29cdfce8-5214-4e72-b83e-dbb8d2af42cf",
   "metadata": {},
   "outputs": [],
   "source": [
    "emlines = [\n",
    "    EmissionLine(\"cliv-7531\", 7530.8),\n",
    "    EmissionLine(\"ariii-7751\", 7751.10),\n",
    "]\n",
    "for label in \"ABCD\":\n",
    "    for em in emlines:\n",
    "        em.save_moments(csub[label], f\"lmc-30dor-{label}\")"
   ]
  },
  {
   "cell_type": "code",
   "execution_count": 33,
   "id": "d20932d8-bff3-4128-b3c8-9c8455b21f10",
   "metadata": {},
   "outputs": [],
   "source": [
    "emlines = [\n",
    "    EmissionLine(\"hei-7499\", 7499.85),\n",
    "    EmissionLine(\"feii-7516\", 7515.83),\n",
    "    EmissionLine(\"cai-7890\", 7890.07, vlim=(150.0, 350.0)),\n",
    "]\n",
    "for label in \"ABCD\":\n",
    "    for em in emlines:\n",
    "        em.save_moments(csub[label], f\"lmc-30dor-{label}\")"
   ]
  },
  {
   "cell_type": "code",
   "execution_count": 34,
   "id": "f52cebaf-5171-4a76-a20a-e4cf313935fd",
   "metadata": {},
   "outputs": [],
   "source": [
    "labels = \"ABCD\"\n",
    "csub = {\n",
    "    label: \n",
    "    Cube(f\"../big-data/lmc-30dor-{label}-subcube-78-87-contsub.fits\") \n",
    "    for label in labels\n",
    "}"
   ]
  },
  {
   "cell_type": "code",
   "execution_count": 36,
   "id": "e8814400-9f7a-434c-ba17-d1d4b92fa23f",
   "metadata": {},
   "outputs": [],
   "source": [
    "emlines = [\n",
    "    EmissionLine(\"cr-ii-8000\", 8000.08),\n",
    "    EmissionLine(\"cliv-8046\", 8045.62),\n",
    "    EmissionLine(\"cai-8125\", 8125.31),\n",
    "    EmissionLine(\"xxx-8152\", 8151.7, vlim=(200.0, 300.0)),\n",
    "]\n",
    "for label in \"ABCD\":\n",
    "    for em in emlines:\n",
    "        em.save_moments(csub[label], f\"lmc-30dor-{label}\")"
   ]
  },
  {
   "cell_type": "code",
   "execution_count": 37,
   "id": "bf675363-f951-411a-933c-8242c9410096",
   "metadata": {},
   "outputs": [],
   "source": [
    "emlines = [\n",
    "    EmissionLine(\"he-i-8156\", 8155.66),\n",
    "    EmissionLine(\"crii-8188\", 8188.11),\n",
    "    EmissionLine(\"ni-8216\", 8216.34),\n",
    "    EmissionLine(\"ni-8223\", 8223.14),\n",
    "    EmissionLine(\"oi-8446\", 8446.36),\n",
    "]\n",
    "for label in \"ABCD\":\n",
    "    for em in emlines:\n",
    "        em.save_moments(csub[label], f\"lmc-30dor-{label}\")"
   ]
  },
  {
   "cell_type": "code",
   "execution_count": 38,
   "id": "f3a0b474-3eac-4394-99c4-3ac21d588d84",
   "metadata": {},
   "outputs": [],
   "source": [
    "emlines = [\n",
    "    EmissionLine(\"hi-8467\", 8467.25),\n",
    "    EmissionLine(\"hi-8545\", 8545.38),\n",
    "    EmissionLine(\"hi-8598\", 8598.39),\n",
    "    EmissionLine(\"feii-8617\", 8616.95),\n",
    "    EmissionLine(\"hi-8665\", 8665.02),\n",
    "]\n",
    "for label in \"ABCD\":\n",
    "    for em in emlines:\n",
    "        em.save_moments(csub[label], f\"lmc-30dor-{label}\")"
   ]
  },
  {
   "cell_type": "code",
   "execution_count": null,
   "id": "09ed8b85-0fc5-489e-955d-22670348b4c0",
   "metadata": {},
   "outputs": [],
   "source": []
  }
 ],
 "metadata": {
  "jupytext": {
   "formats": "ipynb,py:light,md"
  },
  "kernelspec": {
   "display_name": "Python 3",
   "language": "python",
   "name": "python3"
  },
  "language_info": {
   "codemirror_mode": {
    "name": "ipython",
    "version": 3
   },
   "file_extension": ".py",
   "mimetype": "text/x-python",
   "name": "python",
   "nbconvert_exporter": "python",
   "pygments_lexer": "ipython3",
   "version": "3.9.4"
  }
 },
 "nbformat": 4,
 "nbformat_minor": 5
}
