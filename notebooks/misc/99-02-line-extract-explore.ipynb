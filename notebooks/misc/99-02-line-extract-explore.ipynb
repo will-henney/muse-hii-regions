{
 "cells": [
  {
   "cell_type": "markdown",
   "id": "a18b3080-03b9-47bc-94e1-b0267a0bae2d",
   "metadata": {},
   "source": [
    "# Exporatory notebook for enhancing/replacing 05-04\n",
    "\n",
    "We want to be able to improve on the previous line extraction in two ways:\n",
    "\n",
    "1. Remove the sky component where present\n",
    "2. Use a better velocity window that includes the entire line\n",
    "\n",
    "We will try and develop some functions here, which will eventually be incoporated into whispy. "
   ]
  },
  {
   "cell_type": "code",
   "execution_count": null,
   "id": "f8b3dee1-61f7-4157-bf5c-0197d9954e74",
   "metadata": {},
   "outputs": [],
   "source": [
    "from pathlib import Path\n",
    "import numpy as np\n",
    "from matplotlib import pyplot as plt\n",
    "import seaborn as sns\n",
    "from mpdaf.obj import Cube\n",
    "import regions\n",
    "import sys\n",
    "import warnings\n",
    "import whispy as wp\n",
    "\n",
    "sns.set_context(\"talk\")\n",
    "sns.set_color_codes()"
   ]
  },
  {
   "cell_type": "code",
   "execution_count": null,
   "id": "460fdaf9-4589-4578-81b5-5d6ed66346db",
   "metadata": {},
   "outputs": [],
   "source": []
  }
 ],
 "metadata": {
  "jupytext": {
   "formats": "ipynb,py:light,md"
  },
  "kernelspec": {
   "display_name": "Python 3",
   "language": "python",
   "name": "python3"
  },
  "language_info": {
   "codemirror_mode": {
    "name": "ipython",
    "version": 3
   },
   "file_extension": ".py",
   "mimetype": "text/x-python",
   "name": "python",
   "nbconvert_exporter": "python",
   "pygments_lexer": "ipython3",
   "version": "3.9.4"
  }
 },
 "nbformat": 4,
 "nbformat_minor": 5
}
