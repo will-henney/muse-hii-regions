{
 "cells": [
  {
   "cell_type": "code",
   "execution_count": null,
   "metadata": {
    "pycharm": {
     "name": "#%%\n"
    }
   },
   "outputs": [],
   "source": [
    "from astropy.table import Table\n",
    "from matplotlib import pyplot as plt\n",
    "import seaborn as sns\n",
    "import numpy as np\n",
    "from pathlib import Path\n",
    "import yaml\n",
    "from astropy.modeling.models import BlackBody\n",
    "import astropy.units as u\n",
    "from astropy import constants\n"
   ]
  },
  {
   "cell_type": "code",
   "execution_count": null,
   "metadata": {
    "pycharm": {
     "name": "#%%\n"
    }
   },
   "outputs": [],
   "source": [
    "sns.set_context(\"talk\")\n",
    "sns.set_color_codes()"
   ]
  },
  {
   "cell_type": "code",
   "execution_count": null,
   "metadata": {
    "pycharm": {
     "name": "#%%\n"
    }
   },
   "outputs": [],
   "source": [
    "datapath = Path.cwd().parent.parent / \"data-jesus\""
   ]
  },
  {
   "cell_type": "code",
   "execution_count": null,
   "metadata": {
    "pycharm": {
     "name": "#%%\n"
    }
   },
   "outputs": [],
   "source": [
    "regions = \"BS\", \"YSO\", \"bkg\", \"bkg2\"\n",
    "bands = \"SL1\", \"SL2\", \"LL1\", \"LL2\"\n",
    "def _load_spectrum(region, band):\n",
    "    try:\n",
    "        return Table.read(\n",
    "            str(datapath / \"NGC346_spec\" / f\"ngc346_{region}_final_{band}.tbl\"),\n",
    "            format=\"ascii.ipac\"\n",
    "        )\n",
    "    except FileNotFoundError:\n",
    "        return None\n",
    "\n",
    "data = {\n",
    "    region: {\n",
    "        band: _load_spectrum(region, band)\n",
    "        for band in bands\n",
    "    }\n",
    "    for region in regions\n",
    "}"
   ]
  },
  {
   "cell_type": "code",
   "execution_count": null,
   "metadata": {
    "pycharm": {
     "name": "#%%\n"
    }
   },
   "outputs": [],
   "source": [
    "data[\"bkg2\"]"
   ]
  },
  {
   "cell_type": "code",
   "execution_count": null,
   "metadata": {
    "pycharm": {
     "name": "#%%\n"
    }
   },
   "outputs": [],
   "source": [
    "line_list = yaml.safe_load(open(datapath / \"spitzer-lines.yaml\"))\n",
    "line_list\n"
   ]
  },
  {
   "cell_type": "code",
   "execution_count": null,
   "metadata": {
    "pycharm": {
     "name": "#%%\n"
    }
   },
   "outputs": [],
   "source": [
    "fig, ax = plt.subplots(\n",
    "    figsize=(20, 8),\n",
    ")\n",
    "for region in regions:\n",
    "    for band in bands:\n",
    "        if data[region][band]:\n",
    "            ax.plot(\"WAVELENGTH\", \"FLUX\", data=data[region][band])\n",
    "for linedata in line_list:\n",
    "    if 'elow' in linedata and linedata['elow'] > 1e4:\n",
    "        # Highly excited configuration\n",
    "        continue\n",
    "    elif linedata['label'].split()[-1].startswith(\"V\") or linedata['label'] == \"He II\":\n",
    "        # Highly ionized\n",
    "        linewidth = 0.5\n",
    "        y0 = 2.0\n",
    "        fontsize = 'xx-small'\n",
    "    elif linedata['label'].startswith('PAH'):\n",
    "        # PAH band\n",
    "        linewidth = 2.0\n",
    "        y0 = 300.0\n",
    "        fontsize = 'small'\n",
    "    elif linedata['label'].startswith('H'):\n",
    "        # Hydrogen, Helium, or H_2 line\n",
    "        linewidth = 1.5\n",
    "        y0 = 100.0\n",
    "        fontsize = 'x-small'\n",
    "    else:\n",
    "        # Ground configuration\n",
    "        linewidth = 1.0\n",
    "        y0 = 10.0\n",
    "        fontsize = 'x-small'\n",
    "    ax.axvline(linedata['wave'], linestyle='dashed', color='r', linewidth=linewidth)\n",
    "    ax.text(\n",
    "        linedata['wave'], y0, f\"{linedata['label']} {linedata['wave']:.3f}\",\n",
    "        ha=\"center\", va=\"center\", rotation=\"vertical\", fontsize=fontsize,\n",
    "    )\n",
    "\n",
    "ax.set(\n",
    "    yscale=\"log\",\n",
    "    ylim=[0.3, 500],\n",
    "    ylabel=\"Flux\",\n",
    "    xlabel=\"Wavelength, micron\",\n",
    ")\n",
    "fig.savefig('jesus-spitzer-spectra.pdf', bbox_inches='tight')\n",
    "...;"
   ]
  },
  {
   "cell_type": "markdown",
   "metadata": {
    "pycharm": {
     "name": "#%% md\n"
    }
   },
   "source": [
    "    ### Take ratios with respect to the background"
   ]
  },
  {
   "cell_type": "code",
   "execution_count": null,
   "metadata": {
    "pycharm": {
     "name": "#%%\n"
    }
   },
   "outputs": [],
   "source": [
    "for region in regions:\n",
    "    for band in bands:\n",
    "        data[region][band][\"RATIO\"] = data[region][band][\"FLUX\"] / data[\"bkg2\"][band][\"FLUX\"]"
   ]
  },
  {
   "cell_type": "code",
   "execution_count": null,
   "metadata": {
    "pycharm": {
     "name": "#%%\n"
    }
   },
   "outputs": [],
   "source": [
    "fig, [ax, axx] = plt.subplots(\n",
    "    2, 1, sharex=True,\n",
    "    figsize=(20, 8),\n",
    ")\n",
    "for band in bands:\n",
    "    ax.plot(\"WAVELENGTH\", \"RATIO\", data=data[\"BS\"][band])\n",
    "    axx.plot(\"WAVELENGTH\", \"RATIO\", data=data[\"YSO\"][band])\n",
    "for a in ax, axx:\n",
    "    a.axhline(1.0, color='k', linestyle='dashed')\n",
    "ax.set(\n",
    "    ylim=[0., 2.9],\n",
    "    ylabel=\"BS / BG\",\n",
    ")\n",
    "axx.set(\n",
    "    ylim=[0., 16],\n",
    "    ylabel=\"YSO / BG\",\n",
    "    xlabel=\"Wavelength, micron\",\n",
    ")\n",
    "fig.savefig('jesus-spitzer-ratios.pdf', bbox_inches='tight')\n",
    "...;"
   ]
  },
  {
   "cell_type": "markdown",
   "metadata": {
    "pycharm": {
     "name": "#%% md\n"
    }
   },
   "source": [
    "### Subtract BG\n",
    "\n",
    "Mixture of the two BG regions.  Aim is to get the [S III] lines to disappear on the BG-subtracted BS spectrum"
   ]
  },
  {
   "cell_type": "code",
   "execution_count": null,
   "metadata": {
    "pycharm": {
     "name": "#%%\n"
    }
   },
   "outputs": [],
   "source": [
    "mix2 = 0.7\n",
    "mix1 = 1 - mix2\n",
    "\n",
    "for region in regions:\n",
    "    for band in bands:\n",
    "        bg = mix1 * data[\"bkg\"][band][\"FLUX\"] + mix2 * data[\"bkg2\"][band][\"FLUX\"]\n",
    "        data[region][band][\"BGSUB\"] = data[region][band][\"FLUX\"] - bg"
   ]
  },
  {
   "cell_type": "markdown",
   "metadata": {
    "pycharm": {
     "name": "#%% md\n"
    }
   },
   "source": [
    "Compare with  a black body\n"
   ]
  },
  {
   "cell_type": "code",
   "execution_count": null,
   "metadata": {
    "pycharm": {
     "name": "#%%\n"
    }
   },
   "outputs": [],
   "source": [
    "((u.cm / u.s) * u.MJy / u.sr / u.micron ** 2).to(u.erg / u.s / u.cm**2 / u.sr / u.micron)\n",
    "#(u.MJy / u.sr).to(u.erg / u.s / u.cm**2 / u.sr / u.Hz)"
   ]
  },
  {
   "cell_type": "code",
   "execution_count": null,
   "metadata": {
    "pycharm": {
     "name": "#%%\n"
    }
   },
   "outputs": [],
   "source": [
    "waves = np.linspace(5.0, 40.0, 200) * u.micron\n",
    "bb = BlackBody(\n",
    "    temperature=135 * u.K,\n",
    "    scale=5e-15 * constants.c * u.MJy / u.sr / u.micron ** 2,\n",
    ")"
   ]
  },
  {
   "cell_type": "code",
   "execution_count": null,
   "metadata": {
    "pycharm": {
     "name": "#%%\n"
    }
   },
   "outputs": [],
   "source": [
    "fig, [ax, axx, axxx] = plt.subplots(\n",
    "    3, 1, sharex=True,\n",
    "    figsize=(10, 12),\n",
    ")\n",
    "for band in bands:\n",
    "    d = data[\"BS\"][band]\n",
    "    ax.plot(d[\"WAVELENGTH\"], d[\"BGSUB\"] / d[\"WAVELENGTH\"]**2, color='r')\n",
    "    d = data[\"YSO\"][band]\n",
    "    axx.plot(d[\"WAVELENGTH\"], d[\"BGSUB\"] / d[\"WAVELENGTH\"]**2, color='m')\n",
    "    d = data[\"bkg\"][band]\n",
    "    axxx.plot(d[\"WAVELENGTH\"], d[\"FLUX\"] / d[\"WAVELENGTH\"]**2, color='g')\n",
    "    d = data[\"bkg2\"][band]\n",
    "    axxx.plot(d[\"WAVELENGTH\"], d[\"FLUX\"] / d[\"WAVELENGTH\"]**2, color='y')\n",
    "ax.plot(waves, bb(waves) / constants.c, color=\"k\", linestyle=\"dotted\")\n",
    "for a in ax, axx, axxx:\n",
    "    a.axhline(0.0, color='k', linestyle='dashed')\n",
    "ax.set(\n",
    "    ylim=[-0.05, None],\n",
    "    ylabel=r\"$F_\\lambda$ (BS $-$ BG)\",\n",
    ")\n",
    "axx.set(\n",
    "    ylim=[None, None],\n",
    "    ylabel=r\"$F_\\lambda$ (YSO $-$ BG)\",\n",
    ")\n",
    "axxx.set(\n",
    "\n",
    "    ylim=[None, None],\n",
    "    ylabel=r\"$F_\\lambda$ (BG)\",\n",
    "    xlabel=\"Wavelength, micron\",\n",
    ")\n",
    "fig.savefig('jesus-spitzer-bgsub.pdf', bbox_inches='tight')\n",
    "...;"
   ]
  },
  {
   "cell_type": "code",
   "execution_count": null,
   "metadata": {
    "pycharm": {
     "name": "#%%\n"
    }
   },
   "outputs": [],
   "source": [
    "bb.lambda_max.to(u.micron)"
   ]
  },
  {
   "cell_type": "code",
   "execution_count": null,
   "metadata": {
    "pycharm": {
     "name": "#%%\n"
    }
   },
   "outputs": [],
   "source": [
    "(constants.c / bb.nu_max).to(u.micron)"
   ]
  },
  {
   "cell_type": "markdown",
   "metadata": {
    "pycharm": {
     "name": "#%% md\n"
    }
   },
   "source": [
    "Use modified BB using Cloudy opacities"
   ]
  },
  {
   "cell_type": "code",
   "execution_count": null,
   "metadata": {
    "pycharm": {
     "name": "#%%\n"
    }
   },
   "outputs": [],
   "source": [
    "opac_tab = Table.read(\"../../data/xsec-infrared-dust-silicate_ism_10.ecsv\")\n",
    "wavgrid = opac_tab[\"Wavelength\"].data * u.micron\n",
    "kappa_s = opac_tab[\"Opacity\"].data\n",
    "opac_tab = Table.read(\"../../data/xsec-infrared-dust-graphite_ism_10.ecsv\")\n",
    "fac = 1.5\n",
    "kappa_c = fac * opac_tab[\"Opacity\"].data"
   ]
  },
  {
   "cell_type": "code",
   "execution_count": null,
   "metadata": {
    "pycharm": {
     "name": "#%%\n"
    }
   },
   "outputs": [],
   "source": [
    "bb_s = BlackBody(\n",
    "    temperature=140 * u.K,\n",
    "    scale=2.8e-15 * constants.c * u.MJy / u.sr / u.micron ** 2,\n",
    ")\n",
    "bb_ss = BlackBody(\n",
    "    temperature=350 * u.K,\n",
    "    scale=2.8e-15 * constants.c * u.MJy / u.sr / u.micron ** 2,\n",
    ")\n",
    "bb_c = BlackBody(\n",
    "    temperature=120 * u.K,\n",
    "    scale=2.8e-15 * constants.c * u.MJy / u.sr / u.micron ** 2,\n",
    ")\n",
    "mbb_sed_s = wavgrid * kappa_s * bb_s(wavgrid) / constants.c\n",
    "mbb_sed_ss = wavgrid * (kappa_s + 4 * kappa_c) * bb_ss(wavgrid) / constants.c\n",
    "hfac = 0.0008\n",
    "mbb_sed_ss *= hfac\n",
    "mbb_sed_c = wavgrid * kappa_c * bb_c(wavgrid) / constants.c\n",
    "fac = 1.5\n",
    "mbb_sed_c *= fac\n",
    "mbb_sed = mbb_sed_s + mbb_sed_ss + mbb_sed_c\n",
    "mbb_sed_c *= 7 / mbb_sed.max()\n",
    "mbb_sed_s *= 7 / mbb_sed.max()\n",
    "mbb_sed_ss *= 7 / mbb_sed.max()\n",
    "mbb_sed *= 7 / mbb_sed.max()"
   ]
  },
  {
   "cell_type": "markdown",
   "metadata": {
    "pycharm": {
     "name": "#%% md\n"
    }
   },
   "source": [
    "Or the same, but the SED"
   ]
  },
  {
   "cell_type": "code",
   "execution_count": null,
   "metadata": {
    "pycharm": {
     "name": "#%%\n"
    }
   },
   "outputs": [],
   "source": [
    "fig, [ax, axx, axxx] = plt.subplots(\n",
    "    3, 1, sharex=True,\n",
    "    figsize=(8, 9),\n",
    ")\n",
    "for band in bands:\n",
    "    d = data[\"BS\"][band]\n",
    "    ax.plot(d[\"WAVELENGTH\"], d[\"BGSUB\"] / d[\"WAVELENGTH\"], color='r')\n",
    "    d = data[\"YSO\"][band]\n",
    "    axx.plot(d[\"WAVELENGTH\"], d[\"BGSUB\"] / d[\"WAVELENGTH\"], color='m')\n",
    "    d1 = data[\"bkg\"][band]\n",
    "    d2 = data[\"bkg2\"][band]\n",
    "    axxx.plot(d[\"WAVELENGTH\"], (mix1 * d1[\"FLUX\"] + mix2 * d2[\"FLUX\"]) / d[\"WAVELENGTH\"], color='g')\n",
    "ax.plot(waves, waves * bb(waves) / constants.c, color=\"k\", linestyle=\"dotted\")\n",
    "# axx.plot(wavgrid, mbb_sed, color=\"k\", linestyle=\"dotted\")\n",
    "# axx.plot(wavgrid, mbb_sed_c, color=\"r\", linestyle=\"dotted\")\n",
    "# axx.plot(wavgrid, mbb_sed_s, color=\"c\", linestyle=\"dotted\")\n",
    "# axx.plot(wavgrid, mbb_sed_ss, color=\"y\", linestyle=\"dotted\")\n",
    "\n",
    "# axxx.plot(waves, 1e3 * waves * bb2(waves) / constants.c, color=\"k\", linestyle=\"dotted\")\n",
    "ax.set(\n",
    "    ylim=[-0.5, None],\n",
    "    ylabel=r\"$\\lambda F_\\lambda$ (BS $-$ BG)\",\n",
    ")\n",
    "axx.set(\n",
    "    ylim=[-0.5, None],\n",
    "    ylabel=r\"$\\lambda F_\\lambda$ (YSO $-$ BG)\",\n",
    ")\n",
    "axxx.set(\n",
    "    xlim=[3.5, 41.5],\n",
    "    ylim=[-0.5, None],\n",
    "    yticks=[0, 2, 4, 6],\n",
    "    ylabel=r\"$\\lambda F_\\lambda$ (BG)\",\n",
    "    xlabel=r\"Wavelength $\\lambda$, micron\",\n",
    ")\n",
    "# for a in ax, axx, axxx:\n",
    "#     a.set_yscale(\"symlog\", linthresh=0.5, linscale=0.1)\n",
    "#     a.set_xscale(\"log\")\n",
    "fig.savefig('jesus-spitzer-bgsub-sed.pdf', bbox_inches='tight')\n",
    "...;"
   ]
  },
  {
   "cell_type": "markdown",
   "metadata": {
    "pycharm": {
     "name": "#%% md\n"
    }
   },
   "source": [
    "In the end I did not need any if the modified bb curves for the YSO spectrum, since none of them were much good.  It is possible to get the dip between the two silicate peaks fitted pretty well, but not at the same time as the long and short wavelengths\n"
   ]
  },
  {
   "cell_type": "markdown",
   "metadata": {
    "pycharm": {
     "name": "#%% md\n"
    }
   },
   "source": [
    "### Look at all the dust opacity files"
   ]
  },
  {
   "cell_type": "code",
   "execution_count": null,
   "metadata": {
    "pycharm": {
     "name": "#%%\n"
    }
   },
   "outputs": [],
   "source": [
    "opac_files = (Path.cwd().parent.parent / \"data\").glob('xsec-infrared-dust-*.ecsv')\n",
    "opacities = {p.stem.split('-')[-1]: Table.read(str(p)) for p in opac_files}\n",
    "opacities"
   ]
  },
  {
   "cell_type": "code",
   "execution_count": null,
   "metadata": {
    "pycharm": {
     "name": "#%%\n"
    }
   },
   "outputs": [],
   "source": [
    "dtypes = \"silicate_ism_10\", \"graphite_ism_10\"\n",
    "dweights = 0.1, 1.0\n",
    "fig, ax = plt.subplots(figsize=(12, 10))\n",
    "opac_sum = np.zeros_like(kappa)\n",
    "for label, weight in zip(dtypes, dweights):\n",
    "    ax.plot(wavgrid, weight * opacities[label][\"Opacity\"], label=f\"{label} x {weight:.1f}\")\n",
    "    opac_sum += weight * opacities[label][\"Opacity\"]\n",
    "ax.plot(wavgrid, opac_sum, label=\"Total\")\n",
    "\n",
    "ax.legend()\n",
    "ax.set(xlim=[4, 42], ylim=[0.0, 3], yscale='linear')\n",
    "...;"
   ]
  },
  {
   "cell_type": "code",
   "execution_count": null,
   "metadata": {
    "pycharm": {
     "name": "#%%\n"
    }
   },
   "outputs": [],
   "source": []
  }
 ],
 "metadata": {
  "kernelspec": {
   "display_name": "Python 3",
   "language": "python",
   "name": "python3"
  },
  "language_info": {
   "codemirror_mode": {
    "name": "ipython",
    "version": 2
   },
   "file_extension": ".py",
   "mimetype": "text/x-python",
   "name": "python",
   "nbconvert_exporter": "python",
   "pygments_lexer": "ipython2",
   "version": "2.7.6"
  }
 },
 "nbformat": 4,
 "nbformat_minor": 0
}
