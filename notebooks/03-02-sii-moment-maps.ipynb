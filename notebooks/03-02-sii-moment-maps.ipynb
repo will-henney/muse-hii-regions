{
 "cells": [
  {
   "cell_type": "markdown",
   "id": "03938d24",
   "metadata": {},
   "source": [
    "# Kinematics of [S II]\n",
    "\n",
    "I want to do a low-ionization line for comparison.  We already have a good handle on the sky correction for the [S II] doublet, at least when integrated over wavelength."
   ]
  },
  {
   "cell_type": "code",
   "execution_count": null,
   "id": "6d526adc",
   "metadata": {},
   "outputs": [],
   "source": [
    "from pathlib import Path\n",
    "import numpy as np\n",
    "from matplotlib import pyplot as plt\n",
    "import seaborn as sns\n",
    "from mpdaf.obj import Cube\n",
    "import astropy.units as u\n",
    "import pandas as pd"
   ]
  },
  {
   "cell_type": "code",
   "execution_count": null,
   "id": "c0cc55ed",
   "metadata": {},
   "outputs": [],
   "source": [
    "sns.set_context(\"talk\")\n",
    "sns.set_color_codes()"
   ]
  },
  {
   "cell_type": "code",
   "execution_count": null,
   "id": "06489225",
   "metadata": {},
   "outputs": [],
   "source": [
    "datapath = Path(\"/Users/will/Work/Muse-Hii-Data/SMC-NGC-346/\")\n",
    "fitsfilepath = datapath / \"ADP.2017-10-16T11_04_19.247.fits\"\n",
    "cube = Cube(str(fitsfilepath))"
   ]
  },
  {
   "cell_type": "code",
   "execution_count": null,
   "id": "f83dcb07",
   "metadata": {},
   "outputs": [],
   "source": [
    "import sys\n",
    "sys.path.append(\"../lib\")\n",
    "import moments"
   ]
  },
  {
   "cell_type": "markdown",
   "id": "5eee6939",
   "metadata": {},
   "source": [
    "Add folder paths for saving figures and saving FITS images:"
   ]
  },
  {
   "cell_type": "code",
   "execution_count": null,
   "id": "af234386",
   "metadata": {},
   "outputs": [],
   "source": [
    "moments.FIGPATH = Path(\"../figs\")\n",
    "moments.SAVEPATH = Path(\"../data\")"
   ]
  },
  {
   "cell_type": "markdown",
   "id": "543b5bfd",
   "metadata": {},
   "source": [
    "We mainly follow the same steps in the [O III] notebook, which is much better documented.\n",
    "\n",
    "## Separate line from continuum"
   ]
  },
  {
   "cell_type": "code",
   "execution_count": null,
   "id": "1779bc19",
   "metadata": {},
   "outputs": [],
   "source": [
    "jstrips = [\n",
    "    [0, 50],\n",
    "    [50, 100],\n",
    "    [100, 150],\n",
    "    [150, 200],\n",
    "    [200, 250],\n",
    "    [250, -1],\n",
    "]\n",
    "wide_band = cube.select_lambda(6700, 6760)\n",
    "fig, ax = plt.subplots(figsize=(10, 8))\n",
    "for (j1, j2) in jstrips:\n",
    "    (wide_band[:, j1:j2, :].mean(axis=(1, 2)).plot(label=f\"j = {j1}:{j2}\"))\n",
    "ax.legend(ncol=2)\n",
    "ax.set(yscale=\"log\")\n",
    "sns.despine()"
   ]
  },
  {
   "cell_type": "code",
   "execution_count": null,
   "id": "bd4eba12",
   "metadata": {},
   "outputs": [],
   "source": [
    "wlim = {\n",
    "    \"6716\": {\n",
    "        \"core\": [6715.0, 6725.0],\n",
    "        \"blue\": [6710.0, 6715.0],\n",
    "        \"red\": [6725.0, 6730.0],\n",
    "    },\n",
    "    \"6731\": {\n",
    "        \"core\": [6730.0, 6740.0],\n",
    "        \"blue\": [6725.0, 6730.0],\n",
    "        \"red\": [6740.0, 6745.0],\n",
    "    },\n",
    "}\n",
    "rangecolors = {\"core\": \"g\", \"blue\": \"b\", \"red\": \"r\"}"
   ]
  },
  {
   "cell_type": "code",
   "execution_count": null,
   "id": "dc94a096",
   "metadata": {
    "lines_to_end_of_cell_marker": 2,
    "lines_to_next_cell": 2
   },
   "outputs": [],
   "source": [
    "medium_band = cube.select_lambda(6700, 6750)\n",
    "fig, ax = plt.subplots(figsize=(10, 8))\n",
    "for (j1, j2) in jstrips:\n",
    "    (\n",
    "        medium_band[:, j1:j2, :]\n",
    "        .mean(axis=(1, 2))\n",
    "        .plot(label=f\"j = {j1}:{j2}\", linewidth=2)\n",
    "    )\n",
    "\n",
    "for line, linedata in wlim.items():\n",
    "    for span, spandata in linedata.items():\n",
    "        ax.axvspan(\n",
    "            spandata[0], spandata[1], alpha=0.2, color=rangecolors[span], zorder=-100\n",
    "        )\n",
    "ax.legend(ncol=2)\n",
    "ax.set(yscale=\"linear\", ylim=[0.0, 1000])\n",
    "sns.despine()"
   ]
  },
  {
   "cell_type": "code",
   "execution_count": null,
   "id": "b17153fb",
   "metadata": {},
   "outputs": [],
   "source": [
    "def extract_core_and_cont(cube, spandata):\n",
    "    \"\"\"Return continuum-subtracted line core and continuum map\n",
    "\n",
    "    The line core is a 3D cube over the narrow core wavelengths\n",
    "    \"\"\"\n",
    "    cblue = cube.select_lambda(*spandata[\"blue\"]).mean(axis=0)\n",
    "    cred = cube.select_lambda(*spandata[\"red\"]).mean(axis=0)\n",
    "    cont = 0.5 * (cblue + cred)\n",
    "    core = cube.select_lambda(*spandata[\"core\"]) - cont\n",
    "    return core, cont"
   ]
  },
  {
   "cell_type": "code",
   "execution_count": null,
   "id": "9a88657c",
   "metadata": {},
   "outputs": [],
   "source": [
    "core6716, cont6716 = extract_core_and_cont(medium_band, wlim[\"6716\"])\n",
    "core6731, cont6731 = extract_core_and_cont(medium_band, wlim[\"6731\"])"
   ]
  },
  {
   "cell_type": "markdown",
   "id": "3c478551",
   "metadata": {},
   "source": [
    "## Sort out sky correction"
   ]
  },
  {
   "cell_type": "code",
   "execution_count": null,
   "id": "15f786d9",
   "metadata": {},
   "outputs": [],
   "source": [
    "core6716.sum(axis=0).data.min()"
   ]
  },
  {
   "cell_type": "code",
   "execution_count": null,
   "id": "d8c322e2",
   "metadata": {},
   "outputs": [],
   "source": [
    "fig, axes = plt.subplots(\n",
    "    2,\n",
    "    2,\n",
    "    figsize=(10, 10),\n",
    "    sharex=True,\n",
    "    sharey=True,\n",
    ")\n",
    "core6716.sum(axis=0).plot(\n",
    "    ax=axes[0, 0],\n",
    "    scale=\"sqrt\",\n",
    ")\n",
    "core6731.sum(axis=0).plot(\n",
    "    ax=axes[0, 1],\n",
    "    scale=\"sqrt\",\n",
    ")\n",
    "cont6716.plot(ax=axes[1, 0], scale=\"sqrt\")\n",
    "cont6731.plot(ax=axes[1, 1], scale=\"sqrt\")\n",
    "axes[0, 0].contour(core6716.sum(axis=0).data, levels=[0.0], colors=\"r\")\n",
    "axes[0, 0].contour(\n",
    "    core6716.sum(axis=0).data,\n",
    "    levels=[-800.0],\n",
    "    colors=\"y\",\n",
    ")\n",
    "axes[0, 1].contour(core6731.sum(axis=0).data, levels=[0.0], colors=\"r\")\n",
    "axes[1, 0].contour(cont6716.data, levels=[0.0], colors=\"r\")\n",
    "axes[1, 1].contour(cont6731.data, levels=[0.0], colors=\"r\")\n",
    "fig.tight_layout(pad=0)"
   ]
  },
  {
   "cell_type": "markdown",
   "id": "744d53c6",
   "metadata": {},
   "source": [
    "The distribution of negative pixels is different from with the high-ionization lines"
   ]
  },
  {
   "cell_type": "code",
   "execution_count": null,
   "id": "6f8ad0c2",
   "metadata": {},
   "outputs": [],
   "source": [
    "np.where((core6716.sum(axis=0).data < -800.0) & (core6716.sum(axis=0).data > -850.0))"
   ]
  },
  {
   "cell_type": "markdown",
   "id": "f502be62",
   "metadata": {},
   "source": [
    "Looks like we found the fully negative part to subtract.  I will try out various rectangles for selecting the region:"
   ]
  },
  {
   "cell_type": "code",
   "execution_count": null,
   "id": "112f3415",
   "metadata": {},
   "outputs": [],
   "source": [
    "skyoptions = {\n",
    "    \"minimalist\": [slice(287, 289), slice(165, 166)],\n",
    "    \"wider\": [slice(287, 289), slice(165, 167)],\n",
    "    \"taller\": [slice(284, 290), slice(165, 167)],\n",
    "}"
   ]
  },
  {
   "cell_type": "code",
   "execution_count": null,
   "id": "5df9ee53",
   "metadata": {},
   "outputs": [],
   "source": [
    "fig, ax = plt.subplots(figsize=(8, 4))\n",
    "for label, (jslice, islice) in skyoptions.items():\n",
    "    skyspec_medium = medium_band[:, jslice, islice].mean(axis=(1, 2))\n",
    "    skyspec_medium.plot(label=label, linewidth=2)\n",
    "ax.legend(ncol=3)\n",
    "ax.set(ylim=[None, 100])\n",
    "fig.tight_layout()\n",
    "sns.despine()"
   ]
  },
  {
   "cell_type": "markdown",
   "id": "29f38415",
   "metadata": {},
   "source": [
    "The three options look almost identical, but amazingly it does make a difference.  I originally used \"minimalist\", which worked fine for 6716, but caused velocities to go very red at low brightnesses for 6731.  I have now switched to \"taller\", which seems to work better."
   ]
  },
  {
   "cell_type": "code",
   "execution_count": null,
   "id": "ed278e11",
   "metadata": {},
   "outputs": [],
   "source": [
    "fig, ax = plt.subplots(figsize=(10, 8))\n",
    "jslice, islice = skyoptions[\"taller\"]\n",
    "skyspec_medium = medium_band[:, jslice, islice].mean(axis=(1, 2))\n",
    "for (j1, j2) in jstrips:\n",
    "    (\n",
    "        (medium_band - skyspec_medium)[:, j1:j2, :]\n",
    "        .mean(axis=(1, 2))\n",
    "        .plot(label=f\"j = {j1}:{j2}\", linewidth=2)\n",
    "    )\n",
    "\n",
    "ax.legend(ncol=2)\n",
    "ax.set(yscale=\"linear\", ylim=[0.0, 1500])\n",
    "sns.despine()"
   ]
  },
  {
   "cell_type": "code",
   "execution_count": null,
   "id": "60f50c4c",
   "metadata": {},
   "outputs": [],
   "source": [
    "jslice, islice = skyoptions[\"taller\"]\n",
    "skyspec6716 = core6716[:, jslice, islice].mean(axis=(1, 2))\n",
    "skyspec6731 = core6731[:, jslice, islice].mean(axis=(1, 2))"
   ]
  },
  {
   "cell_type": "code",
   "execution_count": null,
   "id": "06697e33",
   "metadata": {},
   "outputs": [],
   "source": [
    "testpixels = [\n",
    "    [250, 160],\n",
    "    [150, 150],\n",
    "    [310, 225],\n",
    "    [70, 250],\n",
    "    [75, 200],\n",
    "    [100, 100],\n",
    "    [75, 75],\n",
    "    [30, 120],\n",
    "    [150, 115],  # [180, 290],\n",
    "]\n",
    "fig, axes = plt.subplots(\n",
    "    3,\n",
    "    3,\n",
    "    figsize=(10, 8),\n",
    "    sharex=True,\n",
    "    sharey=\"row\",\n",
    ")\n",
    "for (j, i), ax in zip(testpixels, axes.flat):\n",
    "    core6716[:, j, i].plot(ax=ax)\n",
    "    (core6716[:, j, i] - skyspec6716).plot(ax=ax)\n",
    "    ax.set(xlabel=\"\", ylabel=\"\")\n",
    "    ax.set_title(f\"[{j}, {i}]\")\n",
    "fig.suptitle(\"Before/after sky correction for faint/moderate/bright pixels\")\n",
    "sns.despine()\n",
    "fig.tight_layout()"
   ]
  },
  {
   "cell_type": "markdown",
   "id": "675b1ea0",
   "metadata": {},
   "source": [
    "Repeat for the 6731 component"
   ]
  },
  {
   "cell_type": "code",
   "execution_count": null,
   "id": "568e0ff3",
   "metadata": {},
   "outputs": [],
   "source": [
    "fig, axes = plt.subplots(\n",
    "    3,\n",
    "    3,\n",
    "    figsize=(10, 8),\n",
    "    sharex=True,\n",
    "    sharey=\"row\",\n",
    ")\n",
    "for (j, i), ax in zip(testpixels, axes.flat):\n",
    "    core6731[:, j, i].plot(ax=ax)\n",
    "    (core6731[:, j, i] - skyspec6731).plot(ax=ax)\n",
    "    ax.set(xlabel=\"\", ylabel=\"\")\n",
    "    ax.set_title(f\"[{j}, {i}]\")\n",
    "fig.suptitle(\n",
    "    \"6731 before/after sky correction\",\n",
    ")\n",
    "sns.despine()\n",
    "fig.tight_layout()"
   ]
  },
  {
   "cell_type": "code",
   "execution_count": null,
   "id": "cee36b42",
   "metadata": {},
   "outputs": [],
   "source": [
    "mom6716 = moments.find_moments(core6716 - skyspec6716)\n",
    "mom6731 = moments.find_moments(core6731 - skyspec6731)\n",
    "wav6716 = np.median(mom6716[1].data.data)\n",
    "wav6731 = np.median(mom6731[1].data.data)\n",
    "fig, axes = plt.subplots(\n",
    "    1,\n",
    "    2,\n",
    "    figsize=(10, 5),\n",
    "    sharey=True,\n",
    ")\n",
    "(mom6716[1] - wav6716).plot(\n",
    "    cmap=\"seismic\",\n",
    "    vmin=-0.7,\n",
    "    vmax=+0.7,\n",
    "    colorbar=\"v\",\n",
    "    ax=axes[0],\n",
    ")\n",
    "(mom6731[1] - wav6731).plot(\n",
    "    cmap=\"seismic\",\n",
    "    vmin=-0.7,\n",
    "    vmax=+0.7,\n",
    "    colorbar=\"v\",\n",
    "    ax=axes[1],\n",
    ")\n",
    "fig.tight_layout()"
   ]
  },
  {
   "cell_type": "markdown",
   "id": "0cfbe9c7",
   "metadata": {},
   "source": []
  },
  {
   "cell_type": "markdown",
   "id": "5f3b5711",
   "metadata": {},
   "source": [
    "These look great!\n",
    "\n",
    "~The only disagreement is in the low-intensity regions where the sky correction may need finessing.~ This is now fixed"
   ]
  },
  {
   "cell_type": "code",
   "execution_count": null,
   "id": "93f36317",
   "metadata": {},
   "outputs": [],
   "source": [
    "fig, axes = plt.subplots(\n",
    "    1,\n",
    "    2,\n",
    "    figsize=(10, 5),\n",
    "    sharey=True,\n",
    ")\n",
    "mom6716[2].plot(\n",
    "    cmap=\"gray\",\n",
    "    vmin=0.8,\n",
    "    vmax=1.2,\n",
    "    colorbar=\"v\",\n",
    "    ax=axes[0],\n",
    ")\n",
    "mom6731[2].plot(\n",
    "    cmap=\"gray\",\n",
    "    vmin=0.8,\n",
    "    vmax=1.2,\n",
    "    colorbar=\"v\",\n",
    "    ax=axes[1],\n",
    ")\n",
    "fig.tight_layout()"
   ]
  },
  {
   "cell_type": "code",
   "execution_count": null,
   "id": "4d61345b",
   "metadata": {},
   "outputs": [],
   "source": [
    "mom_pars_6716 = dict(\n",
    "    restwav=6716.44,\n",
    "    irange=[10, 4.0e4],\n",
    "    vrange=[135, 195],\n",
    "    srange=[30, 70],\n",
    ")\n",
    "moments.save_moments_to_fits(\n",
    "    mom6716,\n",
    "    label=\"6716\",\n",
    "    flabel=\"ngc346-sii\",\n",
    "    restwav=6716.44,\n",
    ")\n",
    "moments.save_moments_to_fits(\n",
    "    mom6731,\n",
    "    label=\"6731\",\n",
    "    flabel=\"ngc346-sii\",\n",
    "    restwav=6730.816,\n",
    ")"
   ]
  },
  {
   "cell_type": "code",
   "execution_count": null,
   "id": "53909272",
   "metadata": {},
   "outputs": [],
   "source": [
    "plot_pars_6716=dict(\n",
    "    ilabel=\"[S II]\",\n",
    "    label=\"6716\",\n",
    "    flabel=\"ngc346-sii\",\n",
    "    **mom_pars_6716,\n",
    ")\n",
    "g = moments.moments_corner_plot(\n",
    "    mom6716, rebin=1, **plot_pars_6716\n",
    ")"
   ]
  },
  {
   "cell_type": "markdown",
   "id": "0fdb49a3",
   "metadata": {},
   "source": [
    "This shows some interesting structure in the I-V distribution. We see the same two velocity components of [O III] (158 and 164), plus an additional one at 150 (which is very weak in [O III])"
   ]
  },
  {
   "cell_type": "code",
   "execution_count": null,
   "id": "52f71098",
   "metadata": {},
   "outputs": [],
   "source": [
    "g = moments.moments_corner_plot(\n",
    "    mom6716, rebin=2, **plot_pars_6716\n",
    ");"
   ]
  },
  {
   "cell_type": "markdown",
   "id": "878f964e",
   "metadata": {},
   "source": [
    "Rebinning doesn't help as much as I had hoped.  But it does reduce the spread in the sigma for the lower intensities."
   ]
  },
  {
   "cell_type": "code",
   "execution_count": null,
   "id": "bf3a3d17",
   "metadata": {},
   "outputs": [],
   "source": [
    "g = moments.moments_corner_plot(\n",
    "    mom6716, rebin=4, **plot_pars_6716\n",
    ");"
   ]
  },
  {
   "cell_type": "code",
   "execution_count": null,
   "id": "36a4a1d4",
   "metadata": {},
   "outputs": [],
   "source": [
    "g = moments.moments_corner_plot(\n",
    "    mom6716, rebin=8, **plot_pars_6716\n",
    ");"
   ]
  },
  {
   "cell_type": "markdown",
   "id": "353f351a",
   "metadata": {},
   "source": [
    "As we increase the binning, the sig distribution becomes narrower, but the V and I remain almost unchanged.  This is a sign that th scale of significant variations is large (steep spatial power law)"
   ]
  },
  {
   "cell_type": "code",
   "execution_count": null,
   "id": "6ed8a8ff",
   "metadata": {},
   "outputs": [],
   "source": [
    "g = moments.moments_corner_plot(\n",
    "    mom6716, rebin=16, **plot_pars_6716,\n",
    "    hist_bins=40,\n",
    "    image_bins=20,\n",
    ");"
   ]
  },
  {
   "cell_type": "code",
   "execution_count": null,
   "id": "7ded587c",
   "metadata": {},
   "outputs": [],
   "source": [
    "g = moments.moments_corner_plot(\n",
    "    mom6716, rebin=32, **plot_pars_6716,\n",
    "    hist_bins=40, image_bins=20,\n",
    ");"
   ]
  },
  {
   "cell_type": "code",
   "execution_count": null,
   "id": "2551f39c",
   "metadata": {},
   "outputs": [],
   "source": [
    "mom0 = mom6731[0].rebin(2)\n",
    "mom1 = mom6731[1].rebin(2)\n",
    "mom2 = mom6731[2].rebin(2)\n",
    "rest6731 = 6730.816\n",
    "m = (\n",
    "    mom0.mask\n",
    "    | (mom0.data < 40)\n",
    "    | (mom1.data < wav6731 - 0.6)\n",
    "    | (mom1.data > wav6731 + 0.6)\n",
    "    | (mom2.data < 0.8)\n",
    "    | (mom2.data > 1.5)\n",
    ")\n",
    "df = pd.DataFrame(\n",
    "    {\n",
    "        \"log10 I(6731)\": np.log10(mom0.data[~m]),\n",
    "        \"V(6731)\": 3e5 * (mom1.data[~m] - rest6731) / rest6731,\n",
    "        \"sig(6731)\": 3e5 * mom2.data[~m] / rest6731,\n",
    "    }\n",
    ")\n",
    "df.describe()"
   ]
  },
  {
   "cell_type": "code",
   "execution_count": null,
   "id": "fe3613d4",
   "metadata": {},
   "outputs": [],
   "source": [
    "g = sns.pairplot(\n",
    "    df,\n",
    "    kind=\"hist\",\n",
    "    height=4,\n",
    "    corner=True,\n",
    "    plot_kws=dict(color=\"m\"),\n",
    "    diag_kws=dict(color=\"m\"),\n",
    ")\n",
    "g.fig.suptitle(\"[S II] 6731 corrected, normalized moments (2 x 2 rebin)\")\n",
    "g.tight_layout(pad=0)"
   ]
  },
  {
   "cell_type": "code",
   "execution_count": null,
   "id": "833a5364",
   "metadata": {},
   "outputs": [],
   "source": [
    "mom0 = mom6731[0].rebin(8)\n",
    "mom1 = mom6731[1].rebin(8)\n",
    "mom2 = mom6731[2].rebin(8)\n",
    "rest6731 = 6730.816\n",
    "m = (\n",
    "    mom0.mask\n",
    "    | (mom0.data < 40)\n",
    "    | (mom1.data < wav6731 - 0.6)\n",
    "    | (mom1.data > wav6731 + 0.6)\n",
    "    | (mom2.data < 0.8)\n",
    "    | (mom2.data > 1.5)\n",
    ")\n",
    "df = pd.DataFrame(\n",
    "    {\n",
    "        \"log10 I(6731)\": np.log10(mom0.data[~m]),\n",
    "        \"V(6731)\": 3e5 * (mom1.data[~m] - rest6731) / rest6731,\n",
    "        \"sig(6731)\": 3e5 * mom2.data[~m] / rest6731,\n",
    "    }\n",
    ")\n",
    "\n",
    "g = sns.pairplot(\n",
    "    df,\n",
    "    kind=\"hist\",\n",
    "    height=4,\n",
    "    corner=True,\n",
    "    plot_kws=dict(color=\"m\"),\n",
    "    diag_kws=dict(color=\"m\"),\n",
    ")\n",
    "g.fig.suptitle(\"[S II] 6731 corrected, normalized moments (8 x 8 rebin)\")\n",
    "g.tight_layout(pad=0)\n",
    "df.describe()"
   ]
  },
  {
   "cell_type": "markdown",
   "id": "257ce43d",
   "metadata": {},
   "source": [
    "An aggressive rebinning of 8x8 tightens up the dispersion of the sigma to 46 +/- 3, but this is not so much as with the 6716 component (49 +/- 2.4), although probably not significant.\n",
    "\n",
    "More importantly, the upturn in V(6731) at low intensity ~does not go away~ (**this is hardly noticeable now**), meaning that it is certainly due to systematic error in the zero point (it is not seen at all in V(6716).  **This is now largely fixed. The tail for V(6731) > 180 has been almost completely eliminated.**\n",
    "\n",
    "I fixed this by using a slightly different rectangle for estimating the bad sky: see `skyoptions[\"taller\"]` above."
   ]
  },
  {
   "cell_type": "code",
   "execution_count": null,
   "id": "11f0d5ea",
   "metadata": {},
   "outputs": [],
   "source": [
    "rest6716 = 6716.44\n",
    "\n",
    "mom0_A = mom6716[0]\n",
    "mom1_A = mom6716[1]\n",
    "mom2_A = mom6716[2]\n",
    "mom0_B = mom6731[0]\n",
    "mom1_B = mom6731[1]\n",
    "mom2_B = mom6731[2]\n",
    "\n",
    "wav_A = wav6716\n",
    "wav_B = wav6731\n",
    "rest_A = rest6716\n",
    "rest_B = rest6731\n",
    "\n",
    "label_A = \"6716\"\n",
    "label_B = \"6731\"\n",
    "\n",
    "m = (\n",
    "    mom0_A.mask\n",
    "    | (mom0_A.data < 60)\n",
    "    | (mom1_A.data < wav6716 - 0.6)\n",
    "    | (mom1_A.data > wav6716 + 0.6)\n",
    "    | (mom2_A.data < 0.8)\n",
    "    | (mom2_A.data > 1.5)\n",
    "    | mom0_B.mask\n",
    "    | (mom0_B.data < 40)\n",
    "    | (mom1_B.data < wav6731 - 0.6)\n",
    "    | (mom1_B.data > wav6731 + 0.6)\n",
    "    | (mom2_B.data < 0.8)\n",
    "    | (mom2_B.data > 1.5)\n",
    ")\n",
    "df2 = pd.DataFrame(\n",
    "    {\n",
    "        f\"log10 I({label_A})\": np.log10(mom0_A.data[~m]),\n",
    "        f\"V({label_A})\": 3e5 * (mom1_A.data[~m] - rest_A) / rest_A,\n",
    "        f\"sig({label_A})\": 3e5 * mom2_A.data[~m] / rest_A,\n",
    "        f\"log10 I({label_B})\": np.log10(mom0_B.data[~m]),\n",
    "        f\"V({label_B})\": 3e5 * (mom1_B.data[~m] - rest_B) / rest_B,\n",
    "        f\"sig({label_B})\": 3e5 * mom2_B.data[~m] / rest_B,\n",
    "    }\n",
    ")\n",
    "df2.corr()"
   ]
  },
  {
   "cell_type": "code",
   "execution_count": null,
   "id": "bc1efb22",
   "metadata": {},
   "outputs": [],
   "source": [
    "xvars = [_ for _ in df2.columns if label_A in _]\n",
    "yvars = [_ for _ in df2.columns if label_B in _]\n",
    "\n",
    "g = sns.pairplot(\n",
    "    df2,\n",
    "    kind=\"hist\",\n",
    "    height=4,\n",
    "    x_vars=xvars,\n",
    "    y_vars=yvars,\n",
    "    plot_kws=dict(color=\"b\"),\n",
    ")\n",
    "g.fig.suptitle(\"Correlations between 6716 and 6731\")\n",
    "g.tight_layout(pad=0)"
   ]
  },
  {
   "cell_type": "code",
   "execution_count": null,
   "id": "e1136b90",
   "metadata": {},
   "outputs": [],
   "source": [
    "df3 = df2[[\"log10 I(6716)\"]].copy()\n",
    "df3[\"6716 / 6731\"] = 10 ** (df2[\"log10 I(6716)\"] - df2[\"log10 I(6731)\"])\n",
    "df3[\"dV\"] = df2[\"V(6716)\"] - df2[\"V(6731)\"]\n",
    "df3[\"sig ratio\"] = df2[\"sig(6716)\"] / df2[\"sig(6731)\"]\n",
    "df3.describe()"
   ]
  },
  {
   "cell_type": "code",
   "execution_count": null,
   "id": "fc9fa084",
   "metadata": {},
   "outputs": [],
   "source": [
    "m = (\n",
    "    (df3[\"6716 / 6731\"] < 0.6)\n",
    "    | (df3[\"6716 / 6731\"] > 1.6)\n",
    "    | (np.abs(df3[\"dV\"]) > 15.0)\n",
    "    | (df3[\"sig ratio\"] < 0.3)\n",
    "    | (df3[\"sig ratio\"] > 1.7)\n",
    ")\n",
    "\n",
    "df3 = df3[~m]\n",
    "df3.corr()"
   ]
  },
  {
   "cell_type": "code",
   "execution_count": null,
   "id": "cc9debd1",
   "metadata": {},
   "outputs": [],
   "source": [
    "g = sns.pairplot(\n",
    "    df3,\n",
    "    kind=\"hist\",\n",
    "    height=4,\n",
    "    corner=True,\n",
    "    plot_kws=dict(color=\"r\"),\n",
    "    diag_kws=dict(color=\"r\"),\n",
    ")\n",
    "g.fig.suptitle(\"[O III] 6716 vs 6731 ratios and differences\")\n",
    "g.tight_layout(pad=0)"
   ]
  },
  {
   "cell_type": "markdown",
   "id": "7e03ecad",
   "metadata": {},
   "source": [
    "We see that for the faint pixels, there is a large spread in R, dV and sig ratio, which is entirely due to noise."
   ]
  },
  {
   "cell_type": "code",
   "execution_count": null,
   "id": "a13644a0",
   "metadata": {},
   "outputs": [],
   "source": [
    "N = 4\n",
    "mom0_A = mom6716[0].rebin(N)\n",
    "mom1_A = mom6716[1].rebin(N)\n",
    "mom2_A = mom6716[2].rebin(N)\n",
    "mom0_B = mom6731[0].rebin(N)\n",
    "mom1_B = mom6731[1].rebin(N)\n",
    "mom2_B = mom6731[2].rebin(N)\n",
    "\n",
    "m = (\n",
    "    mom0_A.mask\n",
    "    | (mom0_A.data < 60)\n",
    "    | (mom1_A.data < wav6716 - 0.6)\n",
    "    | (mom1_A.data > wav6716 + 0.6)\n",
    "    | (mom2_A.data < 0.8)\n",
    "    | (mom2_A.data > 1.5)\n",
    "    | mom0_B.mask\n",
    "    | (mom0_B.data < 40)\n",
    "    | (mom1_B.data < wav6731 - 0.6)\n",
    "    | (mom1_B.data > wav6731 + 0.6)\n",
    "    | (mom2_B.data < 0.8)\n",
    "    | (mom2_B.data > 1.5)\n",
    ")\n",
    "df2 = pd.DataFrame(\n",
    "    {\n",
    "        f\"log10 I({label_A})\": np.log10(mom0_A.data[~m]),\n",
    "        f\"V({label_A})\": 3e5 * (mom1_A.data[~m] - rest_A) / rest_A,\n",
    "        f\"sig({label_A})\": 3e5 * mom2_A.data[~m] / rest_A,\n",
    "        f\"log10 I({label_B})\": np.log10(mom0_B.data[~m]),\n",
    "        f\"V({label_B})\": 3e5 * (mom1_B.data[~m] - rest_B) / rest_B,\n",
    "        f\"sig({label_B})\": 3e5 * mom2_B.data[~m] / rest_B,\n",
    "    }\n",
    ")\n",
    "\n",
    "xvars = [_ for _ in df2.columns if label_A in _]\n",
    "yvars = [_ for _ in df2.columns if label_B in _]\n",
    "\n",
    "g = sns.pairplot(\n",
    "    df2,\n",
    "    kind=\"hist\",\n",
    "    height=4,\n",
    "    x_vars=xvars,\n",
    "    y_vars=yvars,\n",
    "    plot_kws=dict(color=\"b\"),\n",
    ")\n",
    "g.fig.suptitle(\n",
    "    f\"Correlations between {label_A} and {label_B}\"\n",
    "    + f\" ({N} x {N} rebin)\"\n",
    ")\n",
    "g.tight_layout(pad=0)"
   ]
  },
  {
   "cell_type": "code",
   "execution_count": null,
   "id": "e579c019",
   "metadata": {},
   "outputs": [],
   "source": [
    "df3 = df2[[\"log10 I(6716)\"]].copy()\n",
    "df3[\"6716 / 6731\"] = 10 ** (df2[\"log10 I(6716)\"] - df2[\"log10 I(6731)\"])\n",
    "df3[\"dV\"] = df2[\"V(6716)\"] - df2[\"V(6731)\"]\n",
    "df3[\"sig ratio\"] = df2[\"sig(6716)\"] / df2[\"sig(6731)\"]\n",
    "m = (\n",
    "    (df3[\"6716 / 6731\"] < 0.6)\n",
    "    | (df3[\"6716 / 6731\"] > 1.6)\n",
    "    | (np.abs(df3[\"dV\"]) > 15.0)\n",
    "    | (df3[\"sig ratio\"] < 0.3)\n",
    "    | (df3[\"sig ratio\"] > 1.7)\n",
    ")\n",
    "df3 = df3[~m]\n",
    "g = sns.pairplot(\n",
    "    df3,\n",
    "    kind=\"hist\",\n",
    "    height=4,\n",
    "    corner=True,\n",
    "    plot_kws=dict(color=\"r\"),\n",
    "    diag_kws=dict(color=\"r\"),\n",
    ")\n",
    "g.fig.suptitle(\n",
    "    f\"{label_A} vs {label_B} ratios and differences\"\n",
    "    + f\" (rebin {N} x {N})\"\n",
    ")\n",
    "g.tight_layout(pad=0)"
   ]
  },
  {
   "cell_type": "markdown",
   "id": "7116cdce",
   "metadata": {},
   "source": [
    "By binning at 4x4 we can see that we do still have a small problem at low brightnesses: dV starts bending negative and sig_ratio increases.  This is almost certainly due to residual sky errors, but it isn't very important.\n",
    "\n",
    "The same thing is probably causing the apparent correlation between sig ratio and R(6716/6731)."
   ]
  },
  {
   "cell_type": "code",
   "execution_count": null,
   "id": "0bf1df0f",
   "metadata": {},
   "outputs": [],
   "source": []
  }
 ],
 "metadata": {
  "jupytext": {
   "formats": "ipynb,py:light,md"
  },
  "kernelspec": {
   "display_name": "Python 3",
   "language": "python",
   "name": "python3"
  },
  "language_info": {
   "codemirror_mode": {
    "name": "ipython",
    "version": 3
   },
   "file_extension": ".py",
   "mimetype": "text/x-python",
   "name": "python",
   "nbconvert_exporter": "python",
   "pygments_lexer": "ipython3",
   "version": "3.9.4"
  }
 },
 "nbformat": 4,
 "nbformat_minor": 5
}
