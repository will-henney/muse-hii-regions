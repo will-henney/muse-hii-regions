{
 "cells": [
  {
   "cell_type": "markdown",
   "id": "95832f31",
   "metadata": {},
   "source": [
    "# Issue with multiplying two cubes with different units\n"
   ]
  },
  {
   "cell_type": "markdown",
   "id": "f872e2b4",
   "metadata": {},
   "source": [
    "Reported as issue on MPDAF github site 2021-05-10\n",
    "\n",
    "https://github.com/musevlt/mpdaf/issues/20"
   ]
  },
  {
   "cell_type": "code",
   "execution_count": null,
   "id": "919b33c4",
   "metadata": {},
   "outputs": [],
   "source": [
    "import numpy as np\n",
    "from mpdaf.obj import Cube\n",
    "import astropy.units as u\n",
    "a = Cube(data=np.ones((1, 1, 1)), unit=u.s)\n",
    "b = Cube(data=np.ones((1, 1, 1)), unit=u.s)\n",
    "c = Cube(data=np.ones((1, 1, 1)), unit=u.cm)\n",
    "# Multiplying cubes with the same units is OK\n",
    "a * b\n",
    "# Multiplying cubes with different units yields an error\n",
    "a * c"
   ]
  },
  {
   "cell_type": "code",
   "execution_count": null,
   "id": "c2b54146",
   "metadata": {},
   "outputs": [],
   "source": []
  }
 ],
 "metadata": {
  "jupytext": {
   "formats": "ipynb,py:light,md"
  },
  "kernelspec": {
   "display_name": "Python 3",
   "language": "python",
   "name": "python3"
  },
  "language_info": {
   "codemirror_mode": {
    "name": "ipython",
    "version": 3
   },
   "file_extension": ".py",
   "mimetype": "text/x-python",
   "name": "python",
   "nbconvert_exporter": "python",
   "pygments_lexer": "ipython3",
   "version": "3.9.4"
  }
 },
 "nbformat": 4,
 "nbformat_minor": 5
}
