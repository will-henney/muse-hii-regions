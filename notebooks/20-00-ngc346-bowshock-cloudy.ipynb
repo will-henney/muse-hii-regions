{
 "cells": [
  {
   "cell_type": "markdown",
   "id": "2ae9ea9f-b013-4436-8bd9-7dae8b16e519",
   "metadata": {},
   "source": [
    "# Cloudy models of NGC 346 bow shock around Walborn 3"
   ]
  },
  {
   "cell_type": "code",
   "execution_count": null,
   "id": "98ad93ad-6472-4e3d-b984-ce7102137ba4",
   "metadata": {},
   "outputs": [],
   "source": [
    "import numpy as np\n",
    "from matplotlib import pyplot as plt\n",
    "import seaborn as sns\n",
    "import cmasher as cmr\n",
    "import astropy.units as u\n",
    "import sys\n",
    "sys.path.append(\"../lib\")\n",
    "from cloudytab import cloudytab"
   ]
  },
  {
   "cell_type": "code",
   "execution_count": null,
   "id": "03fec427-cc15-4fae-b28b-8393fd83006b",
   "metadata": {},
   "outputs": [],
   "source": [
    "sns.set_context(\"talk\")\n",
    "sns.set_color_codes()"
   ]
  },
  {
   "cell_type": "code",
   "execution_count": null,
   "id": "932eb591-12a2-4fc9-a6d2-0be1525a24e0",
   "metadata": {},
   "outputs": [],
   "source": [
    "m1 = cloudytab.CloudyModel(\"../cloudy/models/w3-n010\")\n",
    "m2 = cloudytab.CloudyModel(\"../cloudy/models/w3-n010-p\")\n",
    "m3 = cloudytab.CloudyModel(\"../cloudy/models/w3-n030-p\")"
   ]
  },
  {
   "cell_type": "code",
   "execution_count": null,
   "id": "6f41ffd9-b848-4bde-af14-36bc19a6f989",
   "metadata": {},
   "outputs": [],
   "source": [
    "m1.data.keys()"
   ]
  },
  {
   "cell_type": "code",
   "execution_count": null,
   "id": "5d4599d1-519b-44da-b966-1becdeead5cc",
   "metadata": {},
   "outputs": [],
   "source": []
  },
  {
   "cell_type": "code",
   "execution_count": null,
   "id": "bd572b85-2496-4ac7-9223-fe9a7ed1cf76",
   "metadata": {},
   "outputs": [],
   "source": [
    "fig, axes = plt.subplots(3, 1, figsize=(15, 12))\n",
    "\n",
    "\n",
    "# colnames = m.data[\"emis\"].colnames[1:]\n",
    "\n",
    "embands = [\n",
    " 'He 2 4685.70A',\n",
    " 'Ar 4 4740.12A',\n",
    " 'Ne 3 3868.76A',\n",
    " 'O  3 5006.84A',\n",
    " 'Blnd 5875.66A',\n",
    " 'Ar 3 7135.79A',\n",
    " 'H  1 4861.33A',\n",
    " 'Ca B 6562.82A',\n",
    " 'O  2 7319.99A',\n",
    "]\n",
    "\n",
    "# Take N colors from named colormap in [0.15, 0.85] range in HEX\n",
    "colors = cmr.take_cmap_colors(\n",
    "    'cmr.neon', \n",
    "    len(embands), \n",
    "    cmap_range=(0.15, 0.85), \n",
    "    return_fmt='hex'\n",
    ")\n",
    "\n",
    "for m, ax in zip([m1, m2, m3], axes):\n",
    "    radius = m.data[\"rad\"][\"radius\"] * u.cm.to(u.pc) \n",
    "    hb = m.data[\"emis\"]['H  1 4861.33A'] \n",
    "    for emband, color in zip(embands, colors):\n",
    "        em = m.data[\"emis\"][emband] \n",
    "        ax.plot(radius, em / hb.max(), label=emband, color=color)\n",
    "    ax.set(\n",
    "        yscale=\"log\",\n",
    "        ylim=[0.001, 10.1],\n",
    "        xlabel=\"Radius, pc\",\n",
    "        ylabel=\"Emissivity\",\n",
    "    )\n",
    "axes[0].legend(ncol=3)\n",
    "axes[0].set_title(\"Constant density, n = 10\")\n",
    "axes[1].set_title(\"Constant pressure, n = 10\")\n",
    "axes[2].set_title(\"Constant pressure, n = 30\")\n",
    "sns.despine()\n",
    "fig.tight_layout();"
   ]
  },
  {
   "cell_type": "code",
   "execution_count": null,
   "id": "d614e2f4-c112-4818-bf63-feaf893bef95",
   "metadata": {},
   "outputs": [],
   "source": [
    "class C:\n",
    "    def __init__(self, d):\n",
    "        for k, v in d.items():\n",
    "            setattr(self, k, v.to_pandas())"
   ]
  },
  {
   "cell_type": "code",
   "execution_count": null,
   "id": "51ad48de-ce4d-4064-a883-e718b9208942",
   "metadata": {},
   "outputs": [],
   "source": [
    "m1.p = C(m1.data)\n",
    "m2.p = C(m2.data)\n",
    "m3.p = C(m3.data)"
   ]
  },
  {
   "cell_type": "code",
   "execution_count": null,
   "id": "00c0e41e-5ea6-48d8-a3a0-79a7d55be15e",
   "metadata": {},
   "outputs": [],
   "source": [
    "fig, axes = plt.subplots(3, 1, figsize=(15, 12))\n",
    "for m, ax in zip([m1, m2, m3], axes):\n",
    "    m.radius = m.p.rad.radius * u.cm.to(u.pc) \n",
    "    ax.plot(m.radius, m.p.ovr.eden, label=\"eden\")\n",
    "    ax.plot(m.radius, m.p.ovr.hden * m.p.ovr.HII, label=\"H II\")\n",
    "    ax.plot(m.radius, m.p.ovr.hden * m.p.ovr.HeII, label=\"He II\")\n",
    "    ax.plot(m.radius, m.p.ovr.hden * m.p.ovr.HeIII, label=\"He III\")\n",
    "    ax.plot(m.radius, m.p.ovr.hden * m.p.Ar[\"Ar+3\"], label=\"Ar IV\")\n",
    "    ax.plot(m.radius, m.p.ovr.hden * m.p.Ne[\"Ne+2\"], label=\"Ne III\")\n",
    "    ax.plot(m.radius, m.p.ovr.hden * m.p.O[\"O+2\"], label=\"O III\")\n",
    "    ax.plot(m.radius, 0.001 * m.p.ovr.Te, label=\"Te, kK\")\n",
    "axes[0].legend(ncol=3)\n",
    "axes[0].set_title(\"Constant density, n = 10\")\n",
    "axes[1].set_title(\"Constant pressure, n = 10\")\n",
    "axes[2].set_title(\"Constant pressure, n = 30\")\n",
    "axes[-1].set(\n",
    "    xlabel=\"Radius, pc\",\n",
    ")\n",
    "sns.despine()\n",
    "fig.tight_layout();"
   ]
  },
  {
   "cell_type": "code",
   "execution_count": null,
   "id": "b2fc0c0a-ff08-46c4-bcfb-77d073f745fa",
   "metadata": {},
   "outputs": [],
   "source": [
    "m.p.Ar"
   ]
  },
  {
   "cell_type": "code",
   "execution_count": null,
   "id": "18d586bb-eb52-440a-b845-ac50123a790e",
   "metadata": {},
   "outputs": [],
   "source": [
    "m.p.cont"
   ]
  },
  {
   "cell_type": "code",
   "execution_count": null,
   "id": "be7763a4-e186-4b50-be7e-f3de9ca00210",
   "metadata": {},
   "outputs": [],
   "source": [
    "import astropy.constants as const"
   ]
  },
  {
   "cell_type": "code",
   "execution_count": null,
   "id": "abcdfccb-ba5f-49fa-99ca-f9c7ff488b76",
   "metadata": {},
   "outputs": [],
   "source": [
    "wavnorm = (const.h * const.c / u.rydberg).to(u.micron)\n",
    "freqnorm = (u.rydberg / const.h).to(u.Hz)\n",
    "sednorm = (u.erg / u.s) / const.L_sun.cgs\n",
    "#m.p.cont[\"Cont  nu\"] * wavnorm \n",
    "wavs = wavnorm / m1.data[\"cont\"][\"Cont  nu\"]\n",
    "freqs = freqnorm * m1.data[\"cont\"][\"Cont  nu\"]\n",
    "sednorm"
   ]
  },
  {
   "cell_type": "code",
   "execution_count": null,
   "id": "3f90e8cc-a77e-4567-9f63-451a0e89137c",
   "metadata": {
    "lines_to_next_cell": 0
   },
   "outputs": [],
   "source": [
    "fig, ax = plt.subplots(figsize=(15, 10))\n",
    "ax.plot(wavs, sednorm * m3.data[\"cont\"][\"incident\"])\n",
    "ax.plot(wavs, sednorm * m3.data[\"cont\"][\"DiffOut\"])\n",
    "ax.plot(wavs, sednorm * m3.data[\"cont\"][\"trans\"])\n",
    "\n",
    "ax.axvline(24.0, lw=5, color=\"k\", alpha=0.3)\n",
    "ax.axvspan(0, 0.0912/4, lw=0, color=\"r\", alpha=0.3)\n",
    "ax.set(\n",
    "    xscale=\"log\",\n",
    "    yscale=\"log\",\n",
    "    xlim=[1e-2, 1e3],\n",
    "    ylim=[1.0, 1e7],\n",
    "    xlabel=\"Wavelength, micron\",\n",
    "    ylabel=r\"$\\nu L_\\nu$, L$_\\odot$\",\n",
    ")\n",
    "sns.despine()\n",
    "fig.tight_layout();"
   ]
  },
  {
   "cell_type": "code",
   "execution_count": null,
   "id": "412b440c-0ab1-4644-b22b-227a6e6ad1ed",
   "metadata": {
    "lines_to_next_cell": 2
   },
   "outputs": [],
   "source": [
    "m4 = cloudytab.CloudyModel(\"../cloudy/models/w3-n010-p-r08\")\n",
    "m5 = cloudytab.CloudyModel(\"../cloudy/models/w3-n005-p-r08\")\n",
    "m6 = cloudytab.CloudyModel(\"../cloudy/models/w3-n100-p-r08\")\n",
    "m7 = cloudytab.CloudyModel(\"../cloudy/models/w3-n050-p-r08\")\n",
    "m8 = cloudytab.CloudyModel(\"../cloudy/models/w3-n010-d01-r08\")"
   ]
  },
  {
   "cell_type": "code",
   "execution_count": null,
   "id": "1413ec35-010b-4c7c-9675-5a1a71484ae7",
   "metadata": {},
   "outputs": [],
   "source": [
    "fig, ax = plt.subplots(figsize=(15, 10))\n",
    "ax.plot(wavs, sednorm * m4.data[\"cont\"][\"incident\"])\n",
    "ax.plot(wavs, sednorm * m4.data[\"cont\"][\"DiffOut\"])\n",
    "ax.plot(wavs, sednorm * m1.data[\"cont\"][\"DiffOut\"])\n",
    "ax.plot(wavs, sednorm * m8.data[\"cont\"][\"DiffOut\"])\n",
    "ax.plot(wavs, sednorm * m4.data[\"cont\"][\"trans\"])\n",
    "\n",
    "ax.axvline(24.0, lw=5, color=\"k\", alpha=0.3)\n",
    "ax.axvspan(0, 0.0912/4, lw=0, color=\"r\", alpha=0.3)\n",
    "ax.set(\n",
    "    xscale=\"log\",\n",
    "    yscale=\"log\",\n",
    "    xlim=[1e-2, 1e3],\n",
    "    ylim=[1.0, 1.0e7],\n",
    "    xlabel=\"Wavelength, micron\",\n",
    "    ylabel=r\"$\\nu L_\\nu$, L$_\\odot$\",\n",
    ")\n",
    "sns.despine()\n",
    "fig.tight_layout();"
   ]
  },
  {
   "cell_type": "code",
   "execution_count": null,
   "id": "91c80d7c-861c-4059-b880-4f0b21ac1a92",
   "metadata": {},
   "outputs": [],
   "source": [
    "for m in m4, m5, m6, m7, m8:\n",
    "    m.p = C(m.data)"
   ]
  },
  {
   "cell_type": "code",
   "execution_count": null,
   "id": "644c8621-f36c-4d15-bf3f-f4dc4216ac3f",
   "metadata": {},
   "outputs": [],
   "source": [
    "fig, axes = plt.subplots(3, 1, figsize=(15, 12), sharex=True)\n",
    "for m, ax in zip([m4, m7, m8], axes):\n",
    "    m.radius = m.p.rad.radius * u.cm.to(u.pc) \n",
    "    ax.plot(m.radius, m.p.ovr.eden, label=\"eden\")\n",
    "    ax.plot(m.radius, m.p.ovr.hden * m.p.ovr.HII, label=\"H II\")\n",
    "    ax.plot(m.radius, m.p.ovr.hden * m.p.ovr.HeII, label=\"He II\")\n",
    "    ax.plot(m.radius, m.p.ovr.hden * m.p.ovr.HeIII, label=\"He III\")\n",
    "    ax.plot(m.radius, m.p.ovr.hden * m.p.Ar[\"Ar+3\"], label=\"Ar IV\")\n",
    "    ax.plot(m.radius, m.p.ovr.hden * m.p.Ne[\"Ne+2\"], label=\"Ne III\")\n",
    "    ax.plot(m.radius, m.p.ovr.hden * m.p.O[\"O+2\"], label=\"O III\")\n",
    "    ax.plot(m.radius, 0.001 * m.p.ovr.Te, label=\"Te, kK\")\n",
    "axes[-1].legend(ncol=3)\n",
    "axes[0].set_title(\"Constant pressure, n = 10, Rmax = 8 pc\")\n",
    "axes[1].set_title(\"Constant pressure, n = 50, Rmax = 8 pc\")\n",
    "axes[2].set_title(\"Density law $r^{-1}$, n = 10, Rmax = 8 pc\")\n",
    "axes[-1].set(\n",
    "    xlabel=\"Radius, pc\",\n",
    ")\n",
    "sns.despine()\n",
    "fig.tight_layout();"
   ]
  },
  {
   "cell_type": "code",
   "execution_count": null,
   "id": "5da4df2c-e473-4085-a632-728cf4c2f647",
   "metadata": {},
   "outputs": [],
   "source": [
    "fig, axes = plt.subplots(3, 1, figsize=(15, 12), sharex=True)\n",
    "\n",
    "\n",
    "# colnames = m.data[\"emis\"].colnames[1:]\n",
    "\n",
    "embands = [\n",
    " 'He 2 4685.70A',\n",
    " 'Ar 4 4740.12A',\n",
    " 'Ne 3 3868.76A',\n",
    " 'O  3 5006.84A',\n",
    " 'Blnd 5875.66A',\n",
    " 'Ar 3 7135.79A',\n",
    " 'H  1 4861.33A',\n",
    " 'Ca B 6562.82A',\n",
    " 'O  2 7319.99A',\n",
    "]\n",
    "\n",
    "# Take N colors from named colormap in [0.15, 0.85] range in HEX\n",
    "colors = cmr.take_cmap_colors(\n",
    "    'cmr.neon', \n",
    "    len(embands), \n",
    "    cmap_range=(0.15, 0.85), \n",
    "    return_fmt='hex'\n",
    ")\n",
    "\n",
    "for m, ax in zip([m4, m7, m8], axes):\n",
    "    radius = m.data[\"rad\"][\"radius\"] * u.cm.to(u.pc) \n",
    "    hb = m.data[\"emis\"]['H  1 4861.33A'] \n",
    "    for emband, color in zip(embands, colors):\n",
    "        em = m.data[\"emis\"][emband] \n",
    "        ax.plot(radius, em / hb.max(), label=emband, color=color)\n",
    "    ax.set(\n",
    "        yscale=\"log\",\n",
    "        ylim=[0.001, 10.1],\n",
    "        xlabel=\"Radius, pc\",\n",
    "        ylabel=\"Emissivity\",\n",
    "    )\n",
    "axes[0].legend(ncol=3)\n",
    "axes[0].set_title(\"Constant pressure, n = 10, Rmax = 8 pc\")\n",
    "axes[1].set_title(\"Constant pressure, n = 50, Rmax = 8 pc\")\n",
    "axes[2].set_title(\"Density law $r^{-1}$, n = 10, Rmax = 8 pc\")\n",
    "sns.despine()\n",
    "fig.tight_layout();"
   ]
  },
  {
   "cell_type": "code",
   "execution_count": null,
   "id": "1d3f1396-86ab-464b-91f5-fa7fc92cfc81",
   "metadata": {},
   "outputs": [],
   "source": [
    "fig, axes = plt.subplots(3, 1, figsize=(15, 12), sharex=True)\n",
    "\n",
    "\n",
    "# colnames = m.data[\"emis\"].colnames[1:]\n",
    "\n",
    "embands = [\n",
    " 'He 2 4685.70A',\n",
    " 'Ar 4 4740.12A',\n",
    " 'Ne 3 3868.76A',\n",
    " 'O  3 5006.84A',\n",
    " 'Blnd 5875.66A',\n",
    " 'Ar 3 7135.79A',\n",
    " 'H  1 4861.33A',\n",
    " 'Ca B 6562.82A',\n",
    " 'O  2 7319.99A',\n",
    "]\n",
    "\n",
    "# Take N colors from named colormap in [0.15, 0.85] range in HEX\n",
    "colors = cmr.take_cmap_colors(\n",
    "    'cmr.neon', \n",
    "    len(embands), \n",
    "    cmap_range=(0.15, 0.85), \n",
    "    return_fmt='hex'\n",
    ")\n",
    "\n",
    "for m, ax in zip([m4, m7, m8], axes):\n",
    "    radius = m.data[\"rad\"][\"radius\"] * u.cm.to(u.pc) \n",
    "    hb = m.data[\"emis\"]['H  1 4861.33A'] \n",
    "    for emband, color in zip(embands, colors):\n",
    "        em = m.data[\"emis\"][emband] \n",
    "        ax.plot(radius, em / em.max(), label=emband, color=color)\n",
    "    ax.set(\n",
    "        yscale=\"linear\",\n",
    "        ylim=[0.00, 1.1],\n",
    "        xlabel=\"Radius, pc\",\n",
    "        ylabel=\"Emissivity\",\n",
    "    )\n",
    "axes[0].legend(ncol=3)\n",
    "axes[0].set_title(\"Constant pressure, n = 10, Rmax = 8 pc\")\n",
    "axes[1].set_title(\"Constant pressure, n = 50, Rmax = 8 pc\")\n",
    "axes[2].set_title(\"Density law $r^{-1}$, n = 10, Rmax = 8 pc\")\n",
    "sns.despine()\n",
    "fig.tight_layout();"
   ]
  },
  {
   "cell_type": "markdown",
   "id": "97b5a961-1c6c-4ec4-801b-bb099c86b37b",
   "metadata": {},
   "source": [
    "## Brightness versus projected radius in spherical symmetry\n",
    "\n",
    "First approximation to bow shock shape is that it is a hemisphere\n",
    "\n",
    "Therefore at each projected radius $b$, the brightness is given by:\n",
    "$$\n",
    "S(b) = \\int_{-\\infty}^\\infty j(r) \\, dz\n",
    "$$\n",
    "where\n",
    "$$\n",
    "r^2 = b^2 + z^2 \n",
    "\\quad \\Rightarrow \\quad\n",
    "2 r\\, dr = 2 z\\, dz\n",
    "\\quad \\Rightarrow \\quad\n",
    "dz = \\frac{r}{z}\\, dr\n",
    "$$\n",
    "Therefore\n",
    "$$\n",
    "S(b) = 2 \\int_b^\\infty j(r) \\, \\frac{r}{(r^2 - b^2)^{1/2}} \\, dr\n",
    "$$"
   ]
  },
  {
   "cell_type": "code",
   "execution_count": null,
   "id": "38b8fc6c-6657-4d3b-9061-5b24efe06d06",
   "metadata": {},
   "outputs": [],
   "source": [
    "nb = 200\n",
    "def brightness(r, dr, e, nb):\n",
    "    b = np.linspace(0.0, r.max(), nb)\n",
    "    _r = np.linspace(0.0, r.max(), 3 * nb + 5)\n",
    "    _e = np.interp(_r, r, e, left=0.0, right=0.0)\n",
    "    nr = len(_r)\n",
    "    _dr = [r.max() / nr] * nr\n",
    "    bgrid = np.stack([b] * nr, axis=0)\n",
    "    rgrid = np.stack([_r] * nb, axis=1)\n",
    "    egrid = np.stack([_e] * nb, axis=1)\n",
    "    drgrid = np.stack([_dr] * nb, axis=1)\n",
    "    rgrid[rgrid <= bgrid] = np.nan\n",
    "    sb = 2 * np.nansum(egrid * rgrid * drgrid / (drgrid + np.sqrt(rgrid**2 - bgrid**2)), axis=0)\n",
    "    return b, sb"
   ]
  },
  {
   "cell_type": "code",
   "execution_count": null,
   "id": "36a8c577-5cf3-4b6c-b627-7a7275612e7e",
   "metadata": {},
   "outputs": [],
   "source": [
    "m = m8\n",
    "r = m.data[\"rad\"][\"radius\"]\n",
    "dr = m.data[\"rad\"][\"dr\"]\n",
    "e = m.data[\"emis\"][\"He 2 4685.70A\"]\n",
    "b, s = brightness(r, dr, e, nb)\n",
    "s"
   ]
  },
  {
   "cell_type": "code",
   "execution_count": null,
   "id": "df155bc4-cba2-4c7a-a32e-800c21889d8c",
   "metadata": {
    "lines_to_next_cell": 0
   },
   "outputs": [],
   "source": [
    "fig, axes = plt.subplots(3, 1, figsize=(15, 12), sharex=True)\n",
    "\n",
    "\n",
    "# colnames = m.data[\"emis\"].colnames[1:]\n",
    "\n",
    "embands = [\n",
    " 'He 2 4685.70A',\n",
    " 'Ar 4 4740.12A',\n",
    " 'Ne 3 3868.76A',\n",
    " 'O  3 5006.84A',\n",
    " 'Blnd 5875.66A',\n",
    " 'Ar 3 7135.79A',\n",
    " 'H  1 4861.33A',\n",
    " 'Ca B 6562.82A',\n",
    " 'O  2 7319.99A',\n",
    "]\n",
    "\n",
    "# Take N colors from named colormap in [0.15, 0.85] range in HEX\n",
    "colors = cmr.take_cmap_colors(\n",
    "    'cmr.neon', \n",
    "    len(embands), \n",
    "    cmap_range=(0.15, 0.85), \n",
    "    return_fmt='hex'\n",
    ")\n",
    "\n",
    "for m, ax in zip([m4, m7, m8], axes):\n",
    "    r = m.data[\"rad\"][\"radius\"]\n",
    "    dr = m.data[\"rad\"][\"dr\"]\n",
    "    nb = 200\n",
    "    for emband, color in zip(embands, colors):\n",
    "        em = m.data[\"emis\"][emband]\n",
    "        b, sb = brightness(r, dr, em, nb)\n",
    "        radius = b * u.cm.to(u.pc) \n",
    "        ax.plot(radius, sb / sb.max(), label=emband, color=color)\n",
    "    ax.set(\n",
    "        yscale=\"linear\",\n",
    "        ylim=[0.00, 1.1],\n",
    "        xlabel=\"Radius, pc\",\n",
    "        ylabel=\"Surface brightness\",\n",
    "    )\n",
    "axes[0].legend(ncol=3)\n",
    "axes[0].set_title(\"Constant pressure, n = 10, Rmax = 8 pc\")\n",
    "axes[1].set_title(\"Constant pressure, n = 50, Rmax = 8 pc\")\n",
    "axes[2].set_title(\"Density law $r^{-1}$, n = 10, Rmax = 8 pc\")\n",
    "sns.despine()\n",
    "fig.tight_layout();"
   ]
  },
  {
   "cell_type": "code",
   "execution_count": null,
   "id": "ceee1a55-a208-4f17-9d56-25685d029ecf",
   "metadata": {
    "lines_to_next_cell": 2
   },
   "outputs": [],
   "source": []
  }
 ],
 "metadata": {
  "jupytext": {
   "formats": "ipynb,py:light,md"
  },
  "kernelspec": {
   "display_name": "Python 3",
   "language": "python",
   "name": "python3"
  },
  "language_info": {
   "codemirror_mode": {
    "name": "ipython",
    "version": 3
   },
   "file_extension": ".py",
   "mimetype": "text/x-python",
   "name": "python",
   "nbconvert_exporter": "python",
   "pygments_lexer": "ipython3",
   "version": "3.9.4"
  }
 },
 "nbformat": 4,
 "nbformat_minor": 5
}
