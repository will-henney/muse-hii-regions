{
 "cells": [
  {
   "cell_type": "markdown",
   "id": "634c873c",
   "metadata": {},
   "source": [
    "I am having trouble with the `rc.setCorr` method, so I want to try it out in a simpler context. "
   ]
  },
  {
   "cell_type": "code",
   "execution_count": null,
   "id": "4e2b4b2c",
   "metadata": {},
   "outputs": [],
   "source": [
    "import pyneb as pn"
   ]
  },
  {
   "cell_type": "code",
   "execution_count": null,
   "id": "f23e36f0",
   "metadata": {},
   "outputs": [],
   "source": [
    "rc = pn.RedCorr(E_BV = 1.2, R_V = 3.2, law = 'F99')\n",
    "# SMC parameters from Gordon et al 2003\n",
    "rc.R_V = 2.74\n",
    "rc.FitzParams = [-4.96, 2.26, 0.39, 0.6, 4.6, 1.0]"
   ]
  },
  {
   "cell_type": "code",
   "execution_count": null,
   "id": "fc04d436",
   "metadata": {},
   "outputs": [],
   "source": [
    "rc.setCorr(obs_over_theo=6.5 / 2.86, wave1=6563., wave2=4861.)"
   ]
  },
  {
   "cell_type": "code",
   "execution_count": null,
   "id": "cd5c83d7",
   "metadata": {},
   "outputs": [],
   "source": [
    "rc.E_BV"
   ]
  },
  {
   "cell_type": "markdown",
   "id": "df9caf3d",
   "metadata": {},
   "source": [
    "So that works, but if I do exactly the same with `F99-like` it doesn't."
   ]
  },
  {
   "cell_type": "code",
   "execution_count": null,
   "id": "c834e52c",
   "metadata": {},
   "outputs": [],
   "source": [
    "rc2 = pn.RedCorr(E_BV = 1.2, R_V = 3.2, law = 'F99-like')\n",
    "# SMC parameters from Gordon et al 2003\n",
    "rc2.R_V = 2.74\n",
    "rc2.FitzParams = [-4.96, 2.26, 0.39, 0.6, 4.6, 1.0]"
   ]
  },
  {
   "cell_type": "markdown",
   "id": "0ac5a40d",
   "metadata": {},
   "source": [
    "On the other hand, `F99` seems to work perfectly well."
   ]
  },
  {
   "cell_type": "code",
   "execution_count": null,
   "id": "b760b9cf",
   "metadata": {},
   "outputs": [],
   "source": []
  }
 ],
 "metadata": {
  "jupytext": {
   "formats": "ipynb,py:light,md"
  },
  "kernelspec": {
   "display_name": "Python 3",
   "language": "python",
   "name": "python3"
  },
  "language_info": {
   "codemirror_mode": {
    "name": "ipython",
    "version": 3
   },
   "file_extension": ".py",
   "mimetype": "text/x-python",
   "name": "python",
   "nbconvert_exporter": "python",
   "pygments_lexer": "ipython3",
   "version": "3.9.4"
  }
 },
 "nbformat": 4,
 "nbformat_minor": 5
}
