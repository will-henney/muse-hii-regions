{
 "cells": [
  {
   "cell_type": "markdown",
   "id": "1d93fd3f",
   "metadata": {},
   "source": [
    "# Testing the subcubes of the 30 Dor fields"
   ]
  },
  {
   "cell_type": "code",
   "execution_count": null,
   "id": "c9fb4f5f",
   "metadata": {},
   "outputs": [],
   "source": [
    "from pathlib import Path\n",
    "import numpy as np\n",
    "from matplotlib import pyplot as plt\n",
    "import seaborn as sns\n",
    "from mpdaf.obj import Cube"
   ]
  },
  {
   "cell_type": "code",
   "execution_count": null,
   "id": "804de7e8",
   "metadata": {},
   "outputs": [],
   "source": [
    "sns.set_context(\"talk\")"
   ]
  },
  {
   "cell_type": "markdown",
   "id": "03f79d08",
   "metadata": {},
   "source": [
    "Load the subcube containing Hα"
   ]
  },
  {
   "cell_type": "code",
   "execution_count": null,
   "id": "c66d0484",
   "metadata": {},
   "outputs": [],
   "source": [
    "cubeC = Cube(\"../big-data/lmc-30dor-C-subcube-62-71.fits\")"
   ]
  },
  {
   "cell_type": "markdown",
   "id": "419650f4",
   "metadata": {},
   "source": [
    "Plot the average spectrum of the entire field, together with the expected wavelengths of the Raman scattered O I and Si II lines.  I am assuming a systemic velocity of +265 km/s, which comes from the Hα and [N II] lines, although it might be slightly different for neutral lines."
   ]
  },
  {
   "cell_type": "code",
   "execution_count": null,
   "id": "0e72de8d",
   "metadata": {},
   "outputs": [],
   "source": [
    "Vsys = 265.0\n",
    "light_speed = 3e5\n",
    "\n",
    "fig, ax = plt.subplots(figsize=(12, 6))\n",
    "cubeC.mean(axis=(1, 2)).plot()\n",
    "for wav in 6633.35, 6663.75, 6480.8:\n",
    "    ax.axvline(wav * (1.0 + Vsys / light_speed), color=\"k\", linewidth=0.5)\n",
    "for wav in (\n",
    "    6196.0,\n",
    "    6613.5,\n",
    "):\n",
    "    ax.axvline(\n",
    "        wav * (1.0 + Vsys / light_speed), color=\"r\", linewidth=0.5, linestyle=\"dashed\"\n",
    "    )\n",
    "ax.set(\n",
    "    ylim=[700, 900],\n",
    ")"
   ]
  },
  {
   "cell_type": "markdown",
   "id": "fde7a978",
   "metadata": {},
   "source": [
    "So, we can maybe just about see the Raman wings but they are quite weak in the average spectrum.  There are possible indications of the Raman absorption lines, but there is a lot of other stuff that gets in the way.  There is a very pronounced absorption at a rest wavelength of 6613.5 Å, which is probably the 6614 DIB feature. It is usually accompanied by another feature at 6196 Å, but that just misses this spectral window.\n",
    "\n",
    "- [ ] *We need to check the correlation of its EW with C(Hβ) to see if it is really a DIB*\n",
    "\n",
    "Alternatively, it **could** be a Raman-scattered feature.  We need to work out what its UV wavelength would be."
   ]
  },
  {
   "cell_type": "code",
   "execution_count": null,
   "id": "b282e13f",
   "metadata": {},
   "outputs": [],
   "source": [
    "# convert to vacuum\n",
    "wav2 = 6613.5 * 6635.17 / 6633.338\n",
    "# convert from Hα frame to Lyβ frame\n",
    "wav1 = 1 / (1 / wav2 + 1 / 1025.72220 - 1 / 6564.553)\n",
    "wav1"
   ]
  },
  {
   "cell_type": "markdown",
   "id": "d5692f65",
   "metadata": {},
   "source": [
    "I have looked at the [AtLL](https://www.pa.uky.edu/~peter/newpage/index.html) and it turns out there is an S I line at 1026.95 Å, and also a Be II line:\n",
    "\n",
    "```\n",
    "-LAB-WAVL-ANG-VAC-|-SPC--|TT|----------CONFIGURATION----------|-TERM--|-J_i-J_k-|--A_ki--|-TPF-|--LEVEL-ENERGY--EV--|-REF---|\n",
    "   1026.95          S I]  E1          3s2.3p4-3s2.3p3.(2Po).9d  1D-3Po   2 - 1                  1.145441 - 13.218400 ASD\n",
    "   1026.95          S I]  E1          3s2.3p4-3s2.3p3.(2Po).9d  1D-3Po   2 - 2                  1.145441 - 13.218400 ASD\n",
    "   1026.9586        Be II E1           1s2.2p-1s2.5d           2Po-2D  3/2 - 5/2 1.76e+08     3 3.959477 - 16.032426 010\n",
    "   1026.9599        Be II E1           1s2.2p-1s2.5d           2Po-2D  3/2 - 3/2 2.94e+07     3 3.959477 - 16.032411 010\n",
    "```\n",
    "\n",
    "Both look very unlikely candidates. Be II because of negligible abundance and lower level is at 4 eV.  S I because S$^+$ should be dominant ionization stage, but maybe there could be enough column of S$^0$ in the PDR.  But lower level is at 1.14 eV, so would require very high densities (how high?) and temperature of at least 5000 K to populate.  And there is no $A$ value given, but it is likely to be small since it is semi-forbidden.\n"
   ]
  },
  {
   "cell_type": "markdown",
   "id": "611f21df",
   "metadata": {},
   "source": [
    "The 6664 feature is broad emission wings on the He I 6678 line. Is this from WR stars?"
   ]
  },
  {
   "cell_type": "markdown",
   "id": "ba511b39",
   "metadata": {},
   "source": [
    "## Quick and dirty extraction of some lines"
   ]
  },
  {
   "cell_type": "code",
   "execution_count": null,
   "id": "bee0b56d",
   "metadata": {},
   "outputs": [],
   "source": [
    "hacont_blue = cubeC.select_lambda(6490, 6500).mean(axis=0)"
   ]
  },
  {
   "cell_type": "code",
   "execution_count": null,
   "id": "001fb921",
   "metadata": {},
   "outputs": [],
   "source": [
    "hacont_red = cubeC.select_lambda(6640, 6650).mean(axis=0)"
   ]
  },
  {
   "cell_type": "code",
   "execution_count": null,
   "id": "4d7607cf",
   "metadata": {},
   "outputs": [],
   "source": [
    "fig, ax = plt.subplots(figsize=(12, 6))\n",
    "cubeC.select_lambda(6490, 6650).mean(axis=(1, 2)).plot()\n",
    "ax.axvspan(6560, 6576, linewidth=0, color=\"r\", alpha=0.1)"
   ]
  },
  {
   "cell_type": "code",
   "execution_count": null,
   "id": "47d13f27",
   "metadata": {},
   "outputs": [],
   "source": [
    "# hamapC = (cubeC.select_lambda(6560, 6576) - 0.5*(hacont_blue + hacont_red)).sum(axis=0)\n",
    "hacont = 0.5 * (hacont_blue + hacont_red)\n",
    "hamapC = cubeC.select_lambda(6567, 6569).sum(axis=0)"
   ]
  },
  {
   "cell_type": "code",
   "execution_count": null,
   "id": "dbbf93bc",
   "metadata": {},
   "outputs": [],
   "source": [
    "fig, axes = plt.subplots(1, 2, figsize=(12, 6))\n",
    "hamapC.plot(ax=axes[0], vmin=0, vmax=6e5)\n",
    "hacont.plot(ax=axes[1], colorbar=\"v\", vmin=0, vmax=1e3)"
   ]
  },
  {
   "cell_type": "code",
   "execution_count": null,
   "id": "82e22233",
   "metadata": {},
   "outputs": [],
   "source": [
    "fig, ax = plt.subplots(figsize=(12, 6))\n",
    "cubeC.select_lambda(6260, 6400).mean(axis=(1, 2)).plot()\n",
    "ax.axvspan(6296, 6303, linewidth=0, color=\"r\", alpha=0.1)\n",
    "ax.axvspan(6303, 6310, linewidth=0, color=\"c\", alpha=0.1)\n",
    "ax.axvspan(6313, 6322, linewidth=0, color=\"r\", alpha=0.1)\n",
    "ax.axvspan(6330, 6345, linewidth=0, color=\"y\", alpha=0.1)"
   ]
  },
  {
   "cell_type": "code",
   "execution_count": null,
   "id": "5545efc5",
   "metadata": {},
   "outputs": [],
   "source": [
    "cont6340 = cubeC.select_lambda(6330, 6345).mean(axis=0)\n",
    "oi6300map = (cubeC.select_lambda(6303, 6310) - cont6340).sum(axis=0)"
   ]
  },
  {
   "cell_type": "code",
   "execution_count": null,
   "id": "1d715a7c",
   "metadata": {},
   "outputs": [],
   "source": [
    "fig, axes = plt.subplots(1, 2, figsize=(12, 6))\n",
    "oi6300map.plot(ax=axes[0], vmin=0, vmax=6e3)\n",
    "cont6340.plot(ax=axes[1], colorbar=\"v\", vmin=0, vmax=5e2)"
   ]
  },
  {
   "cell_type": "code",
   "execution_count": null,
   "id": "81e653de",
   "metadata": {},
   "outputs": [],
   "source": [
    "xx6293map = (cubeC.select_lambda(6296, 6303) - cont6340).sum(axis=0)\n",
    "siii6312map = (cubeC.select_lambda(6313, 6322) - cont6340).sum(axis=0)"
   ]
  },
  {
   "cell_type": "code",
   "execution_count": null,
   "id": "895533f1",
   "metadata": {},
   "outputs": [],
   "source": [
    "fig, axes = plt.subplots(1, 2, figsize=(12, 6))\n",
    "siii6312map.plot(ax=axes[0], vmin=0, vmax=1e4)\n",
    "xx6293map.plot(ax=axes[1], colorbar=\"v\", vmin=300, vmax=2000)"
   ]
  },
  {
   "cell_type": "code",
   "execution_count": null,
   "id": "891ada9b",
   "metadata": {},
   "outputs": [],
   "source": [
    "fig, axes = plt.subplots(1, 2, figsize=(12, 6))\n",
    "(oi6300map / siii6312map).plot(ax=axes[0], vmin=0, vmax=2.0, cmap=\"Blues\", colorbar=\"v\")\n",
    "(oi6300map / cont6340).plot(ax=axes[1], vmin=0, vmax=15.0, cmap=\"gray_r\", colorbar=\"v\")\n",
    "axes[0].contour((oi6300map / cont6340).data, levels=[0.5], colors=\"r\")\n",
    "axes[0].contour((oi6300map / siii6312map).data, levels=[0.5], colors=\"g\")\n",
    "\n",
    "fig.tight_layout()"
   ]
  },
  {
   "cell_type": "code",
   "execution_count": null,
   "id": "ae280eef",
   "metadata": {},
   "outputs": [],
   "source": [
    "m = ((oi6300map / cont6340).data > 0.5) & ((oi6300map / siii6312map).data > 0.5)"
   ]
  },
  {
   "cell_type": "code",
   "execution_count": null,
   "id": "15c8993f",
   "metadata": {},
   "outputs": [],
   "source": [
    "cubeCC = cubeC.copy()\n",
    "cubeCC.mask = cubeCC.mask | (~m[None, :, :])"
   ]
  },
  {
   "cell_type": "code",
   "execution_count": null,
   "id": "258ec7f3",
   "metadata": {},
   "outputs": [],
   "source": [
    "fig, ax = plt.subplots(figsize=(12, 6))\n",
    "cubeCC.mean(axis=(1, 2)).plot()\n",
    "for wav in 6633.35, 6663.75, 6480.8:\n",
    "    ax.axvline(wav * (1.0 + Vsys / light_speed), color=\"k\", linewidth=0.5)\n",
    "for wav in (\n",
    "    6196.0,\n",
    "    6613.5,\n",
    "):\n",
    "    ax.axvline(\n",
    "        wav * (1.0 + Vsys / light_speed), color=\"r\", linewidth=0.5, linestyle=\"dashed\"\n",
    "    )\n",
    "\n",
    "dopfac = 1.0 + Vsys / light_speed\n",
    "ax.axvspan(6594.2 * dopfac, 6611.2 * dopfac, linewidth=0, color=\"r\", alpha=0.2)\n",
    "ax.axvspan(6518.55 * dopfac, 6540.65 * dopfac, linewidth=0, color=\"b\", alpha=0.2)\n",
    "\n",
    "\n",
    "ax.axvspan(6400, 6450, linewidth=0, color=\"k\", alpha=0.1)\n",
    "ax.axvspan(6760, 6800, linewidth=0, color=\"k\", alpha=0.1)\n",
    "\n",
    "\n",
    "ax.set(\n",
    "    xlim=[6400, 6800],\n",
    "    ylim=[380, 500],\n",
    ")"
   ]
  },
  {
   "cell_type": "markdown",
   "id": "6cbb5d35",
   "metadata": {},
   "source": [
    "Select the inner Raman bands on the red and blue sides: B033 and R040."
   ]
  },
  {
   "cell_type": "code",
   "execution_count": null,
   "id": "72426956",
   "metadata": {},
   "outputs": [],
   "source": [
    "cont6400 = cubeC.select_lambda(6400, 6450).mean(axis=0)\n",
    "cont6800 = cubeC.select_lambda(6760, 6800).mean(axis=0)\n",
    "cont6600 = 0.5 * (cont6400 + cont6800)\n",
    "cont6500 = 0.5 * (cont6400 + cont6600)\n",
    "raman_R040 = (cubeC.select_lambda(6594.2 * dopfac, 6611.2 * dopfac) - cont6600).mean(\n",
    "    axis=0\n",
    ")\n",
    "raman_B033 = (cubeC.select_lambda(6518.55 * dopfac, 6540.65 * dopfac) - cont6500).mean(\n",
    "    axis=0\n",
    ")"
   ]
  },
  {
   "cell_type": "code",
   "execution_count": null,
   "id": "042e63bb",
   "metadata": {},
   "outputs": [],
   "source": [
    "fig, axes = plt.subplots(2, 2, figsize=(12, 10), sharex=True, sharey=True)\n",
    "raman_B033.plot(ax=axes[0, 0], vmin=0, vmax=40, cmap=\"Blues\", colorbar=\"v\")\n",
    "raman_R040.plot(ax=axes[0, 1], colorbar=\"v\", vmin=0, vmax=40, cmap=\"Reds\")\n",
    "((raman_R040 + raman_B033) / cont6600).plot(\n",
    "    ax=axes[1, 0], vmin=0, vmax=0.3, colorbar=\"v\", cmap=\"gray_r\"\n",
    ")\n",
    "cont6600.plot(ax=axes[1, 1], scale=\"log\", colorbar=\"v\", cmap=\"magma\")\n",
    "axes[0, 0].set_title(\"B033 Raman wing\")\n",
    "axes[0, 1].set_title(\"R040 Raman wing\")\n",
    "axes[1, 0].set_title(\"(B033 + R040) / continuum\")\n",
    "axes[1, 1].set_title(\"continuum\")\n",
    "fig.suptitle(\"30 Dor C\")\n",
    "fig.tight_layout()\n",
    "fig.savefig(\"../figs/lmc-30dor-C-raman-blue-red.pdf\")"
   ]
  },
  {
   "cell_type": "markdown",
   "id": "07c70ba4",
   "metadata": {},
   "source": [
    "The blue and red Raman wings look remarkably similar.  They trace different material than [O I], more distant from the star cluster."
   ]
  },
  {
   "cell_type": "code",
   "execution_count": null,
   "id": "a4793172",
   "metadata": {},
   "outputs": [],
   "source": [
    "fig, ax = plt.subplots(figsize=(12, 6))\n",
    "cubeC[:, :40, 250:].mean(axis=(1, 2)).plot(label=\"Raman peak SW\")\n",
    "cubeC[:, 130:180, 80:120].mean(axis=(1, 2)).plot(label=\"Raman peak mid\")\n",
    "(0.035 * cubeC[:, 260:275, 20:40]).mean(axis=(1, 2)).plot(label=\"Star NE\")\n",
    "(0.035 * cubeC[:, 20:50, 60:75]).mean(axis=(1, 2)).plot(label=\"Star SE\")\n",
    "\n",
    "for wav in 6633.35, 6663.75, 6480.8:\n",
    "    ax.axvline(wav * (1.0 + Vsys / light_speed), color=\"k\", linewidth=0.5)\n",
    "for wav in (\n",
    "    6196.0,\n",
    "    6613.5,\n",
    "):\n",
    "    ax.axvline(\n",
    "        wav * (1.0 + Vsys / light_speed), color=\"r\", linewidth=0.5, linestyle=\"dashed\"\n",
    "    )\n",
    "\n",
    "ax.axvspan(6594.2 * dopfac, 6611.2 * dopfac, linewidth=0, color=\"r\", alpha=0.2)\n",
    "ax.axvspan(6518.55 * dopfac, 6540.65 * dopfac, linewidth=0, color=\"b\", alpha=0.2)\n",
    "\n",
    "ax.axvspan(6612.05 * dopfac, 6628.20 * dopfac, linewidth=0, color=\"r\", alpha=0.1)\n",
    "ax.axvspan(6499.85 * dopfac, 6517.70 * dopfac, linewidth=0, color=\"b\", alpha=0.1)\n",
    "\n",
    "\n",
    "ax.legend()\n",
    "\n",
    "ax.set(\n",
    "    xlim=[6400, 6800],\n",
    "    ylim=[200, 500],\n",
    ")\n",
    "fig.savefig(\"../figs/lmc-30dor-C-raman-clump-spectra.pdf\")"
   ]
  },
  {
   "cell_type": "markdown",
   "id": "ba7a8f72",
   "metadata": {},
   "source": [
    "This is selecting the 3 regions that have a large Raman/continuum ratio.\n",
    "\n",
    "The middle two are the compact source at the top-left and the bunch of stars at bottom left.  They are clearly Wolf-Rayet stars and do not show Raman scattering at all.  The shape of the wings is wrong, and the He I line has wings too.\n",
    "\n",
    "But the top and bottom one are clear Raman profiles. The O I 6633 absorption looks to be slightly blue-shifted from the systemic velocity.  Why would that be?\n",
    "\n",
    "Both the B033 and R040 bands are relativly free of line contamination, although there is a small contribution from the [N II] line in B033."
   ]
  },
  {
   "cell_type": "code",
   "execution_count": null,
   "id": "34b7ef6b",
   "metadata": {},
   "outputs": [],
   "source": [
    "fig, axes = plt.subplots(1, 2, figsize=(12, 6))\n",
    "((raman_R040 + raman_B033) / siii6312map).plot(\n",
    "    ax=axes[0],\n",
    "    vmin=0,\n",
    "    vmax=0.04,\n",
    "    cmap=\"gray_r\",\n",
    "    colorbar=\"v\",\n",
    ")\n",
    "(oi6300map / siii6312map).plot(\n",
    "    ax=axes[1],\n",
    "    vmin=0,\n",
    "    vmax=2.0,\n",
    "    cmap=\"gray_r\",\n",
    "    colorbar=\"v\",\n",
    ")\n",
    "axes[0].set_title(\"Raman / [S III]\")\n",
    "axes[1].set_title(\"[O I] / [S III]\")\n",
    "\n",
    "\n",
    "fig.tight_layout()"
   ]
  },
  {
   "cell_type": "markdown",
   "id": "789d2d6f",
   "metadata": {},
   "source": [
    "Save FITS files of what we have done. Use label `ROUGH` because we should really redo this with a proper continuum subtraction."
   ]
  },
  {
   "cell_type": "code",
   "execution_count": null,
   "id": "431c30b2",
   "metadata": {},
   "outputs": [],
   "source": [
    "for im, label in [\n",
    "    (raman_R040, \"ha-raman-R040\"),\n",
    "    (raman_B033, \"ha-raman-B033\"),\n",
    "    (oi6300map, \"oi-6300\"),\n",
    "    (siii6312map, \"siii-6312\"),\n",
    "]:\n",
    "    im.write(f\"../data/lmc-30dor-C-ROUGH-{label}.fits\", savemask=\"nan\")"
   ]
  },
  {
   "cell_type": "markdown",
   "id": "4844da71",
   "metadata": {},
   "source": [
    "### Summary of initial analysis of Raman wings in 30 Dor field C\n",
    "\n",
    "+ There is Raman wing emission from the entire map, but it is generally weak:(R040+B033)/continuum < 0.1\n",
    "+ There are some clumps and filaments of intense Raman wing emission: (R040+B033)/continuum > 0.2\n",
    "+ These are all low ionization regions where [O I] / [S III] ~ 1\n",
    "+ But they tend to be slightly displaced away from the cluster from the [O I] emission\n",
    "+ And not all regions with high [O I] / [S III] show high Raman wing emission\n",
    "+ Wolf Rayet stars can be \"Raman imposters\" due to therir broad Hα lines.  But these also have broad He I lines, which would allow them to be easily masked out\n",
    "+ There is an absorption feature at 6614 Å, which is probably DIB absorption.  It is strong in the integrated spectrum of the field, but much weaker in the areas of intense Raman wings.\n",
    "+ [ ] *There is something very strange about the Hα map, which has lots of horrible artifacts*  The other lines (e.g., [O I], [S III]) do not show this problem."
   ]
  },
  {
   "cell_type": "markdown",
   "id": "c02254fb",
   "metadata": {},
   "source": [
    "## Fit and remove continuum properly\n",
    "\n",
    "The above analysis is fine as far as it goes (except for the Hα core, which looks weird).\n",
    "\n",
    "But really we should remove the continuum pixel-by-pixel.  Then we can maybe get maps of the outer Raman bands as well as the inner ones.\n",
    "\n",
    "\n",
    "Start off by defining a diverse set of spatial regions.  Include some dominated by nebula of low and high ionization, and some dominated by stars.  Also include some pathological case such as the WR stars.\n"
   ]
  },
  {
   "cell_type": "code",
   "execution_count": null,
   "id": "7da9bf24",
   "metadata": {},
   "outputs": [],
   "source": [
    "import regions\n",
    "import sys\n",
    "sys.path.append(\"../lib\")\n",
    "import moments\n",
    "import extract"
   ]
  },
  {
   "cell_type": "code",
   "execution_count": null,
   "id": "31998e3f",
   "metadata": {},
   "outputs": [],
   "source": [
    "boxes = {\n",
    "    \"Raman SW\": regions.BoundingBox(\n",
    "        iymin=10,\n",
    "        iymax=40,\n",
    "        ixmin=250,\n",
    "        ixmax=310,\n",
    "    ),\n",
    "    \"Raman Compact\": regions.BoundingBox(\n",
    "        iymin=165,\n",
    "        iymax=180,\n",
    "        ixmin=80,\n",
    "        ixmax=102,\n",
    "    ),\n",
    "    \"Raman Mid\": regions.BoundingBox(\n",
    "        iymin=120,\n",
    "        iymax=162,\n",
    "        ixmin=85,\n",
    "        ixmax=143,\n",
    "    ),\n",
    "    \"Raman Tri\": regions.BoundingBox(\n",
    "        iymin=210,\n",
    "        iymax=250,\n",
    "        ixmin=145,\n",
    "        ixmax=195,\n",
    "    ),\n",
    "    \"[O I] E\": regions.BoundingBox(\n",
    "        iymin=140,\n",
    "        iymax=190,\n",
    "        ixmin=20,\n",
    "        ixmax=35,\n",
    "    ),\n",
    "    \"[S III] SW\": regions.BoundingBox(\n",
    "        iymin=6,\n",
    "        iymax=38,\n",
    "        ixmin=203,\n",
    "        ixmax=230,\n",
    "    ),\n",
    "    \"[S III] NE\": regions.BoundingBox(\n",
    "        iymin=220,\n",
    "        iymax=260,\n",
    "        ixmin=100,\n",
    "        ixmax=137,\n",
    "    ),\n",
    "    \"Star NE\": regions.BoundingBox(\n",
    "        iymin=250,\n",
    "        iymax=275,\n",
    "        ixmin=20,\n",
    "        ixmax=40,\n",
    "    ),\n",
    "    \"Star SE\": regions.BoundingBox(\n",
    "        iymin=55,\n",
    "        iymax=69,\n",
    "        ixmin=20,\n",
    "        ixmax=40,\n",
    "    ),\n",
    "}"
   ]
  },
  {
   "cell_type": "code",
   "execution_count": null,
   "id": "abf1cac1",
   "metadata": {},
   "outputs": [],
   "source": [
    "fig, ax = plt.subplots(1, 1, figsize=(12, 12))\n",
    "oi6300map.plot(vmin=0, vmax=6e3, use_wcs=False)\n",
    "ax.contour(\n",
    "    cont6400.data, \n",
    "    levels=[2500, 5000, 10000], \n",
    "    colors=\"w\"\n",
    ")\n",
    "for key, box in boxes.items():\n",
    "    color = \"c\"\n",
    "    if \"Raman\" in key: \n",
    "        color = \"r\"\n",
    "    if \"Star\" in key:\n",
    "        color = \"m\"\n",
    "    box.plot(\n",
    "        edgecolor=color, \n",
    "        lw=3, \n",
    "        zorder=100,\n",
    "    )\n",
    "\n",
    "ax.set_title(\n",
    "    \"[O I] map showing region boxes and continuum contours\"\n",
    ");"
   ]
  },
  {
   "cell_type": "markdown",
   "id": "f1d98942",
   "metadata": {},
   "source": [
    "Plot all the spectra on a log scale"
   ]
  },
  {
   "cell_type": "code",
   "execution_count": null,
   "id": "f6affc2d",
   "metadata": {},
   "outputs": [],
   "source": [
    "fig, ax = plt.subplots(1, 1, figsize=(12, 12))\n",
    "\n",
    "for key, box in boxes.items():\n",
    "    yslice, xslice = box.slices\n",
    "    spec = cubeC[:, yslice, xslice].mean(axis=(1, 2))\n",
    "    spec.plot(label=key)\n",
    "ax.legend()\n",
    "ax.set(\n",
    "    yscale=\"log\",\n",
    ")\n",
    "sns.despine();"
   ]
  },
  {
   "cell_type": "markdown",
   "id": "546b0a9d",
   "metadata": {},
   "source": [
    "Choose some wavelength ranges for fitting the continuum:"
   ]
  },
  {
   "cell_type": "code",
   "execution_count": null,
   "id": "112e6809",
   "metadata": {},
   "outputs": [],
   "source": [
    "wavranges = [\n",
    "    (6200, 6218), (6270, 6286), (6333, 6346), (6390, 6400), (6432, 6455),\n",
    "    (6840, 6856), (6960, 6970), (6980, 6990),\n",
    "]"
   ]
  },
  {
   "cell_type": "markdown",
   "id": "b9c0f095",
   "metadata": {},
   "source": [
    "Normalize to continuum and plot again, together with the continuum ranges.\n",
    "\n",
    "The good thing is that there is very little curvature to the continuum in this range, so we can use a low order polnomial. \n",
    "\n",
    "I am trying to find a set of continuum ranges that will work for the Wolf-Rayet star also. \n",
    "\n",
    "**Note that the following does a pixel-by-pixel continuum fit for each box.  This runs in about 30 sec on my machine**"
   ]
  },
  {
   "cell_type": "code",
   "execution_count": null,
   "id": "0c7df17b",
   "metadata": {},
   "outputs": [],
   "source": [
    "fig, ax = plt.subplots(1, 1, figsize=(12, 8))\n",
    "offset = 0.0\n",
    "for key, box in boxes.items():\n",
    "    yslice, xslice = box.slices\n",
    "    subcube = cubeC[:, yslice, xslice]\n",
    "    contcube = extract.fit_continuum(\n",
    "        subcube, wav_ranges=wavranges, deg=4, median=False,\n",
    "    )\n",
    "    spec = subcube.mean(axis=(1, 2))\n",
    "    cspec = contcube.mean(axis=(1, 2))\n",
    "    cspec /= spec.data[0]\n",
    "    cspec += offset\n",
    "    spec /= spec.data[0]\n",
    "    spec += offset\n",
    "    spec.plot(label=key)\n",
    "    cspec.plot(label=\"_nolabel_\", c=\"k\", linewidth=0.5)\n",
    "    offset += 0.15\n",
    "\n",
    "for wavrange in wavranges:\n",
    "    ax.axvspan(*wavrange, alpha=0.3)\n",
    "ax.legend(ncol=2)\n",
    "ax.set(\n",
    "    yscale=\"linear\",\n",
    "    ylim=[0.9, 3.0],\n",
    ")\n",
    "sns.despine();"
   ]
  },
  {
   "cell_type": "markdown",
   "id": "7a1d6703",
   "metadata": {},
   "source": [
    "This works remarkably well with a 4th order polynomial.  I experimented with leaving out the `(6432, 6455)` range but that significantly worsened the fit. \n",
    "\n",
    "It makes me think that the far blue wings that I seemed to find in Orion are artifacts of the continuum fitting.\n",
    "\n",
    "Now fit the entire cube at once.  **This takes about 1 minute on my laptop**"
   ]
  },
  {
   "cell_type": "code",
   "execution_count": null,
   "id": "2baa2953",
   "metadata": {},
   "outputs": [],
   "source": [
    "contcubeC = extract.fit_continuum(\n",
    "    cubeC, wav_ranges=wavranges, deg=4, median=False,\n",
    ")"
   ]
  },
  {
   "cell_type": "code",
   "execution_count": null,
   "id": "397af869",
   "metadata": {},
   "outputs": [],
   "source": [
    "prefix = \"../big-data/lmc-30dor-C-subcube-62-71\"\n",
    "csubcube = (cubeC - contcubeC)\n",
    "cdivcube = (cubeC / contcubeC)\n",
    "csubcube.write(\n",
    "    f\"{prefix}-contsub.fits\",\n",
    "    savemask=\"nan\",\n",
    "    )\n",
    "cdivcube.write(\n",
    "    f\"{prefix}-contdiv.fits\",\n",
    "    savemask=\"nan\",\n",
    "    )\n",
    "contcube.write(\n",
    "    f\"{prefix}-cont.fits\",\n",
    "    savemask=\"nan\",\n",
    ")"
   ]
  },
  {
   "cell_type": "markdown",
   "id": "c9424465",
   "metadata": {},
   "source": [
    "Do continuum subtraction on the other cubes too."
   ]
  },
  {
   "cell_type": "code",
   "execution_count": null,
   "id": "d2f7482f",
   "metadata": {},
   "outputs": [],
   "source": [
    "for label in \"ABD\":\n",
    "    prefix = f\"../big-data/lmc-30dor-{label}-subcube-62-71\"\n",
    "    cube = Cube(f\"{prefix}.fits\")\n",
    "    contcube = extract.fit_continuum(\n",
    "        cube, wav_ranges=wavranges, deg=4, median=False,\n",
    "    )\n",
    "    csubcube = (cube - contcube)\n",
    "    cdivcube = (cube / contcube)\n",
    "    csubcube.write(\n",
    "        f\"{prefix}-contsub.fits\",\n",
    "        savemask=\"nan\",\n",
    "        )\n",
    "    cdivcube.write(\n",
    "        f\"{prefix}-contdiv.fits\",\n",
    "        savemask=\"nan\",\n",
    "        )\n",
    "    contcube.write(\n",
    "        f\"{prefix}-cont.fits\",\n",
    "        savemask=\"nan\",\n",
    "    )"
   ]
  },
  {
   "cell_type": "code",
   "execution_count": null,
   "id": "ad53920d",
   "metadata": {},
   "outputs": [],
   "source": []
  }
 ],
 "metadata": {
  "jupytext": {
   "encoding": "# -*- coding: utf-8 -*-",
   "formats": "ipynb,py:light,md"
  },
  "kernelspec": {
   "display_name": "Python 3",
   "language": "python",
   "name": "python3"
  },
  "language_info": {
   "codemirror_mode": {
    "name": "ipython",
    "version": 3
   },
   "file_extension": ".py",
   "mimetype": "text/x-python",
   "name": "python",
   "nbconvert_exporter": "python",
   "pygments_lexer": "ipython3",
   "version": "3.9.4"
  }
 },
 "nbformat": 4,
 "nbformat_minor": 5
}
