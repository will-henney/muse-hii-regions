{
 "cells": [
  {
   "cell_type": "markdown",
   "id": "5a184da6",
   "metadata": {},
   "source": [
    "# Gaia astrometry of stars in NGC 346\n",
    "\n",
    "I want to get good positions for all the stars so I can align the HST and the MUSE images"
   ]
  },
  {
   "cell_type": "code",
   "execution_count": null,
   "id": "e0db8d5b",
   "metadata": {},
   "outputs": [],
   "source": [
    "import pandas as pd\n",
    "from pathlib import Path"
   ]
  },
  {
   "cell_type": "markdown",
   "id": "8cce59a4",
   "metadata": {},
   "source": [
    "## Load the Gaia sources"
   ]
  },
  {
   "cell_type": "code",
   "execution_count": null,
   "id": "8b50df89",
   "metadata": {},
   "outputs": [],
   "source": [
    "datapath = Path(\"../data\")"
   ]
  },
  {
   "cell_type": "code",
   "execution_count": null,
   "id": "72fd55dd",
   "metadata": {},
   "outputs": [],
   "source": [
    "df = pd.read_csv(datapath / \"1621565655827O-result.csv\")"
   ]
  },
  {
   "cell_type": "code",
   "execution_count": null,
   "id": "ea9a2997",
   "metadata": {},
   "outputs": [],
   "source": [
    "df"
   ]
  },
  {
   "cell_type": "markdown",
   "id": "61ceb104",
   "metadata": {},
   "source": [
    "## Plot all the Gaia sources"
   ]
  },
  {
   "cell_type": "code",
   "execution_count": null,
   "id": "19b018d3",
   "metadata": {},
   "outputs": [],
   "source": [
    "from matplotlib import pyplot as plt\n",
    "import seaborn as sns\n",
    "sns.set_color_codes()\n",
    "sns.set_context(\"talk\")"
   ]
  },
  {
   "cell_type": "markdown",
   "id": "703da4c5",
   "metadata": {},
   "source": [
    "I set the color scale to be the magnitude"
   ]
  },
  {
   "cell_type": "code",
   "execution_count": null,
   "id": "b318ff1a",
   "metadata": {},
   "outputs": [],
   "source": [
    "fig, ax = plt.subplots(figsize=(10, 8))\n",
    "scat = ax.scatter(\n",
    "    x=\"ra\", y=\"dec\", c=\"phot_g_mean_mag\", \n",
    "    data=df,\n",
    "    s=20,\n",
    ")\n",
    "cb = fig.colorbar(scat, ax=ax)"
   ]
  },
  {
   "cell_type": "markdown",
   "id": "84da90b9",
   "metadata": {},
   "source": [
    "So you can see the mass segregation straight away - the darker ones (brighter) tend to be more concentrated towards the center.  It looks like Gaia must have missed quite a lot of them though.\n",
    "\n",
    "*Note that the RA axis is the wrong way round* "
   ]
  },
  {
   "cell_type": "markdown",
   "id": "40ccb50d",
   "metadata": {},
   "source": [
    "## Load an HST image\n",
    "\n",
    "We will start off with the UV 2200 Å broad-band image.  \n",
    "\n",
    "Originally I had downloaded the data in a strange format, where 3 different filter images were stacked in a cube.  But I have now gone back and grabbed the individual filters as separate files, since this is easier to work with. \n",
    "\n",
    "All the HST data files are listed at this DOI [10.17909/t9-vtw1-c475](https://doi.org/10.17909/t9-vtw1-c475)"
   ]
  },
  {
   "cell_type": "code",
   "execution_count": null,
   "id": "dd6f4e00",
   "metadata": {},
   "outputs": [],
   "source": [
    "import numpy as np"
   ]
  },
  {
   "cell_type": "code",
   "execution_count": null,
   "id": "032508d7",
   "metadata": {},
   "outputs": [],
   "source": [
    "from astropy.io import fits\n",
    "from astropy.wcs import WCS"
   ]
  },
  {
   "cell_type": "code",
   "execution_count": null,
   "id": "83548f96",
   "metadata": {},
   "outputs": [],
   "source": [
    "bigdatapath = Path(\"../big-data\")"
   ]
  },
  {
   "cell_type": "code",
   "execution_count": null,
   "id": "141b3730",
   "metadata": {},
   "outputs": [],
   "source": [
    "dataset = \"hst_10248_03_acs_hrc_f220w\"\n",
    "hdulist = fits.open(bigdatapath / f\"HST-NGC346/{dataset}/{dataset}_drz.fits\")"
   ]
  },
  {
   "cell_type": "code",
   "execution_count": null,
   "id": "9a38fac5",
   "metadata": {},
   "outputs": [],
   "source": [
    "hdulist.info()"
   ]
  },
  {
   "cell_type": "markdown",
   "id": "f6ceab5f",
   "metadata": {},
   "source": [
    "## Plot the image in celestial coordinates with Gais sources overlaid"
   ]
  },
  {
   "cell_type": "code",
   "execution_count": null,
   "id": "7bb97a0d",
   "metadata": {},
   "outputs": [],
   "source": [
    "w = WCS(hdulist[\"SCI\"].header)"
   ]
  },
  {
   "cell_type": "code",
   "execution_count": null,
   "id": "c209b532",
   "metadata": {},
   "outputs": [],
   "source": [
    "imdata = hdulist[\"SCI\"].data"
   ]
  },
  {
   "cell_type": "code",
   "execution_count": null,
   "id": "4e603cf3",
   "metadata": {},
   "outputs": [],
   "source": [
    "fig = plt.figure(figsize=(10, 10))\n",
    "ax = fig.add_subplot(1, 1, 1, projection=w)\n",
    "ax.imshow(imdata, vmin=0.0, vmax=5.0, cmap=\"gray_r\")\n",
    "scat = ax.scatter(\n",
    "    x=\"ra\", y=\"dec\", c=\"phot_g_mean_mag\", \n",
    "    data=df,\n",
    "    s=20, \n",
    "    alpha=0.4,\n",
    "    transform=ax.get_transform('world'),\n",
    ")"
   ]
  },
  {
   "cell_type": "markdown",
   "id": "03f4d0b6",
   "metadata": {},
   "source": [
    "This shows that the HST coordinates are not quite right – there is an offset from the Gaia coordinates.\n",
    "\n",
    "We will zoom in on the central cluster to have a closer look."
   ]
  },
  {
   "cell_type": "code",
   "execution_count": null,
   "id": "9e9dc1e7",
   "metadata": {},
   "outputs": [],
   "source": [
    "fig = plt.figure(figsize=(10, 10))\n",
    "ax = fig.add_subplot(1, 1, 1, projection=w)\n",
    "ax.imshow(imdata, vmin=0.0, vmax=5.0, cmap=\"gray_r\")\n",
    "scat = ax.scatter(\n",
    "    x=\"ra\", y=\"dec\", edgecolors=\"r\", \n",
    "    data=df,\n",
    "    s=150, \n",
    "    alpha=1.0,\n",
    "    facecolor=\"none\",\n",
    "    transform=ax.get_transform('world'),\n",
    ")\n",
    "ax.set(\n",
    "    xlim=[1000, 1600],\n",
    "    ylim=[600, 1200],\n",
    ");"
   ]
  },
  {
   "cell_type": "markdown",
   "id": "d45318f6",
   "metadata": {},
   "source": [
    "## Adjust the WCS to align HST with Gaia"
   ]
  },
  {
   "cell_type": "markdown",
   "id": "63241bf3",
   "metadata": {},
   "source": [
    "Now, try giving an offset to fix this.  We could either change `CRPIX` or the `CRVAL`, but the first seems simpler to reason about.  We want to move the HST stars to the right and down, so do the opposite to the reference pixel:"
   ]
  },
  {
   "cell_type": "code",
   "execution_count": null,
   "id": "c11da5d7",
   "metadata": {},
   "outputs": [],
   "source": [
    "ww = WCS(hdulist[\"SCI\"].header)\n",
    "ww.wcs.crpix"
   ]
  },
  {
   "cell_type": "code",
   "execution_count": null,
   "id": "9fd02fd6",
   "metadata": {},
   "outputs": [],
   "source": [
    "ww.wcs.crpix -= np.array([19, -7])"
   ]
  },
  {
   "cell_type": "code",
   "execution_count": null,
   "id": "d2142449",
   "metadata": {},
   "outputs": [],
   "source": [
    "fig = plt.figure(figsize=(10, 10))\n",
    "ax = fig.add_subplot(1, 1, 1, projection=ww)\n",
    "ax.imshow(imdata, vmin=0.0, vmax=5.0, cmap=\"gray_r\")\n",
    "scat = ax.scatter(\n",
    "    x=\"ra\", y=\"dec\", edgecolors=\"r\", \n",
    "    data=df,\n",
    "    s=150, \n",
    "    alpha=1.0,\n",
    "    facecolor=\"none\",\n",
    "    transform=ax.get_transform('world'),\n",
    ")\n",
    "ax.set(\n",
    "    xlim=[1000, 1600],\n",
    "    ylim=[600, 1200],\n",
    ");"
   ]
  },
  {
   "cell_type": "markdown",
   "id": "58f6a24e",
   "metadata": {},
   "source": [
    "That looks pretty good. "
   ]
  },
  {
   "cell_type": "markdown",
   "id": "c6a7f99b",
   "metadata": {},
   "source": [
    "## Repeat for the Hα image"
   ]
  },
  {
   "cell_type": "code",
   "execution_count": null,
   "id": "7ee7895b",
   "metadata": {},
   "outputs": [],
   "source": [
    "dataset_ha = \"hst_10248_a3_acs_wfc_f658n\"\n",
    "hdulist_ha = fits.open(bigdatapath / f\"HST-NGC346/{dataset_ha}/{dataset_ha}_drz.fits\")"
   ]
  },
  {
   "cell_type": "code",
   "execution_count": null,
   "id": "6f8c1b0c",
   "metadata": {},
   "outputs": [],
   "source": [
    "hdulist_ha.info()"
   ]
  },
  {
   "cell_type": "code",
   "execution_count": null,
   "id": "b31e89e5",
   "metadata": {},
   "outputs": [],
   "source": [
    "w_ha = WCS(hdulist_ha[\"SCI\"].header)\n",
    "imdata_ha = hdulist_ha[\"SCI\"].data"
   ]
  },
  {
   "cell_type": "code",
   "execution_count": null,
   "id": "b0b43230",
   "metadata": {},
   "outputs": [],
   "source": [
    "fig = plt.figure(figsize=(10, 10))\n",
    "ax = fig.add_subplot(1, 1, 1, projection=w_ha)\n",
    "ax.imshow(imdata_ha, vmin=0.0, vmax=1.0, cmap=\"gray_r\")\n",
    "scat = ax.scatter(\n",
    "    x=\"ra\", y=\"dec\", edgecolors=\"r\", \n",
    "    data=df,\n",
    "    s=50, \n",
    "    alpha=1.0,\n",
    "    facecolor=\"none\",\n",
    "    transform=ax.get_transform('world'),\n",
    ")\n",
    "ax.set(\n",
    "    xlim=[2000, 3200],\n",
    "    ylim=[1600, 2800],\n",
    ");"
   ]
  },
  {
   "cell_type": "markdown",
   "id": "41c528cf",
   "metadata": {},
   "source": [
    "Zoom in some more and switch to a logarithmic brightness scaling:"
   ]
  },
  {
   "cell_type": "code",
   "execution_count": null,
   "id": "a7251296",
   "metadata": {},
   "outputs": [],
   "source": [
    "fig = plt.figure(figsize=(10, 10))\n",
    "ax = fig.add_subplot(1, 1, 1, projection=w_ha)\n",
    "ax.imshow(\n",
    "    np.log10(imdata_ha), \n",
    "    vmin=-1.0, vmax=3.0, \n",
    "    cmap=\"gray_r\",\n",
    ")\n",
    "scat = ax.scatter(\n",
    "    x=\"ra\", y=\"dec\", edgecolors=\"r\", \n",
    "    data=df,\n",
    "    s=50, \n",
    "    alpha=1.0,\n",
    "    facecolor=\"none\",\n",
    "    transform=ax.get_transform('world'),\n",
    ")\n",
    "ax.set(\n",
    "    xlim=[2400, 2800],\n",
    "    ylim=[2000, 2400],\n",
    ");"
   ]
  },
  {
   "cell_type": "markdown",
   "id": "83383415",
   "metadata": {},
   "source": [
    "This time, the whift is up and to the right. Let's try and fix it:"
   ]
  },
  {
   "cell_type": "code",
   "execution_count": null,
   "id": "1dd6ff67",
   "metadata": {},
   "outputs": [],
   "source": [
    "w_ha_fix = WCS(hdulist_ha[\"SCI\"].header)\n",
    "w_ha_fix.wcs.crpix += np.array([6, 7.5])\n",
    "w_ha_fix.wcs.crpix"
   ]
  },
  {
   "cell_type": "code",
   "execution_count": null,
   "id": "4c1e0920",
   "metadata": {},
   "outputs": [],
   "source": [
    "fig = plt.figure(figsize=(10, 10))\n",
    "ax = fig.add_subplot(1, 1, 1, projection=w_ha_fix)\n",
    "ax.imshow(\n",
    "    np.log10(imdata_ha), \n",
    "    vmin=-0.7, vmax=0.7, \n",
    "    cmap=\"gray_r\",\n",
    ")\n",
    "scat = ax.scatter(\n",
    "    x=\"ra\", y=\"dec\", edgecolors=\"r\", \n",
    "    data=df,\n",
    "    s=50, \n",
    "    alpha=1.0,\n",
    "    facecolor=\"none\",\n",
    "    transform=ax.get_transform('world'),\n",
    ")\n",
    "ax.set(\n",
    "    xlim=[2400, 2800],\n",
    "    ylim=[2000, 2400],\n",
    ");"
   ]
  },
  {
   "cell_type": "markdown",
   "id": "62a7c464",
   "metadata": {},
   "source": [
    "## Save the corrected versions as FITS files\n",
    "\n",
    "First the Hα image:"
   ]
  },
  {
   "cell_type": "code",
   "execution_count": null,
   "id": "0cf96b6e",
   "metadata": {},
   "outputs": [],
   "source": [
    "for hdu in hdulist_ha:\n",
    "    if hdu.is_image:\n",
    "        hdu.header.update(w_ha_fix.to_header())"
   ]
  },
  {
   "cell_type": "code",
   "execution_count": null,
   "id": "4b96a0b4",
   "metadata": {},
   "outputs": [],
   "source": [
    "hdulist_ha.writeto(\n",
    "    bigdatapath / \"ngc346-hst-acs-f658n-wcsgaia.fits\",\n",
    "    overwrite=True,\n",
    ")"
   ]
  },
  {
   "cell_type": "markdown",
   "id": "6e16aa46",
   "metadata": {},
   "source": [
    "Now the UV continuum image"
   ]
  },
  {
   "cell_type": "code",
   "execution_count": null,
   "id": "18890d34",
   "metadata": {},
   "outputs": [],
   "source": [
    "for hdu in hdulist:\n",
    "    if hdu.is_image:\n",
    "        hdu.header.update(ww.to_header())"
   ]
  },
  {
   "cell_type": "code",
   "execution_count": null,
   "id": "1a7164fc",
   "metadata": {},
   "outputs": [],
   "source": [
    "hdulist.writeto(\n",
    "    bigdatapath / \"ngc346-hst-acs-f220w-wcsgaia.fits\",\n",
    "    overwrite=True,\n",
    ")"
   ]
  },
  {
   "cell_type": "markdown",
   "id": "1dafaf3d",
   "metadata": {},
   "source": [
    "### Load the DAOPHOT source list\n",
    "\n",
    "The HST data came with some data tables that seem to be the results of point source extraction.\n",
    "\n",
    "First look at the Hα ones. "
   ]
  },
  {
   "cell_type": "code",
   "execution_count": null,
   "id": "78869b22",
   "metadata": {},
   "outputs": [],
   "source": [
    "from astropy.io import ascii"
   ]
  },
  {
   "cell_type": "code",
   "execution_count": null,
   "id": "5dd4b549",
   "metadata": {},
   "outputs": [],
   "source": [
    "stars = ascii.read(\n",
    "    str(bigdatapath / f\"HST-NGC346/{dataset_ha}/{dataset_ha}_daophot_trm.cat\"),\n",
    "    format=\"commented_header\",\n",
    "    header_start=56,\n",
    ")"
   ]
  },
  {
   "cell_type": "code",
   "execution_count": null,
   "id": "f417b903",
   "metadata": {},
   "outputs": [],
   "source": [
    "stars"
   ]
  },
  {
   "cell_type": "code",
   "execution_count": null,
   "id": "a2514201",
   "metadata": {},
   "outputs": [],
   "source": [
    "fig = plt.figure(figsize=(10, 10))\n",
    "ax = fig.add_subplot(1, 1, 1, projection=w_ha_fix)\n",
    "ax.imshow(\n",
    "    np.log10(imdata_ha), \n",
    "    vmin=-1.0, vmax=3.0, \n",
    "    cmap=\"gray_r\",\n",
    ")\n",
    "scat = ax.scatter(\n",
    "    x=\"c1\", y=\"c2\", edgecolors=\"r\", \n",
    "    data=stars,\n",
    "    s=50, \n",
    "    alpha=1.0,\n",
    "    facecolor=\"none\",\n",
    "    transform=ax.get_transform('pixel'),\n",
    ")\n",
    "ax.set(\n",
    "    xlim=[2400, 2800],\n",
    "    ylim=[2000, 2400],\n",
    ");"
   ]
  },
  {
   "cell_type": "markdown",
   "id": "06cb185c",
   "metadata": {},
   "source": [
    "Hmm, lots of stars are missing.  It seems to be avoiding regions with diffuse Hα emission.  We will zoom out to check."
   ]
  },
  {
   "cell_type": "code",
   "execution_count": null,
   "id": "9a216dd9",
   "metadata": {},
   "outputs": [],
   "source": [
    "fig = plt.figure(figsize=(10, 10))\n",
    "ax = fig.add_subplot(1, 1, 1, projection=w_ha_fix)\n",
    "ax.imshow(\n",
    "    np.log10(imdata_ha), \n",
    "    vmin=-0.7, vmax=0.7, \n",
    "    cmap=\"gray_r\",\n",
    ")\n",
    "scat = ax.scatter(\n",
    "    x=\"c1\", y=\"c2\", edgecolors=\"r\", \n",
    "    data=stars,\n",
    "    s=50, \n",
    "    alpha=1.0,\n",
    "    facecolor=\"none\",\n",
    "    transform=ax.get_transform('pixel'),\n",
    ")\n",
    "ax.set(\n",
    "    xlim=[1600, 3600],\n",
    "    ylim=[1200, 3200],\n",
    "#    xlim=[2400, 2800],\n",
    "#    ylim=[2000, 2400],\n",
    ");"
   ]
  },
  {
   "cell_type": "markdown",
   "id": "ca7dab30",
   "metadata": {},
   "source": [
    "Yes, this confirms that the source extraction avoids regions where the nebula is bright.\n",
    "\n",
    "We will look at the results from the broad-band filters instead, starting with the UV. *Cancel that – I can't make sense of the source list file*"
   ]
  },
  {
   "cell_type": "code",
   "execution_count": null,
   "id": "119fca51",
   "metadata": {},
   "outputs": [],
   "source": [
    "#uvstars = ascii.read(\n",
    "#    str(bigdatapath / f\"HST-NGC346/{dataset}/{dataset}_daophot_trm.cat\"),\n",
    "#    format=\"fixed_width_no_header\",\n",
    "#    data_start=409,\n",
    "#)        "
   ]
  },
  {
   "cell_type": "markdown",
   "id": "ca7652bf",
   "metadata": {},
   "source": [
    "## Try getting stars from Hubble Source Catalog instead\n",
    "\n",
    "This is now in a separate notebook: `04-01-ngc-346-hsc-sources.ipynb`"
   ]
  }
 ],
 "metadata": {
  "jupytext": {
   "formats": "ipynb,py:light,md"
  },
  "kernelspec": {
   "display_name": "Python 3",
   "language": "python",
   "name": "python3"
  },
  "language_info": {
   "codemirror_mode": {
    "name": "ipython",
    "version": 3
   },
   "file_extension": ".py",
   "mimetype": "text/x-python",
   "name": "python",
   "nbconvert_exporter": "python",
   "pygments_lexer": "ipython3",
   "version": "3.9.4"
  }
 },
 "nbformat": 4,
 "nbformat_minor": 5
}
